{
 "cells": [
  {
   "cell_type": "code",
   "execution_count": 1,
   "metadata": {
    "collapsed": true
   },
   "outputs": [],
   "source": [
    "import pandas as pd"
   ]
  },
  {
   "cell_type": "markdown",
   "source": [
    "# Who uses MeSH terms to describe deposits published in Dataverse repositories?"
   ],
   "metadata": {
    "collapsed": false,
    "pycharm": {
     "name": "#%% md\n"
    }
   }
  },
  {
   "cell_type": "markdown",
   "source": [
    "## Import, query and format metadata collected from Dataverse installations in August 2024"
   ],
   "metadata": {
    "collapsed": false,
    "pycharm": {
     "name": "#%% md\n"
    }
   }
  },
  {
   "cell_type": "code",
   "execution_count": 2,
   "outputs": [],
   "source": [
    "# Import metadata about all datasets\n",
    "datasetInfoDf = pd.read_csv(\n",
    "    '/Users/juliangautier/Documents/all_installation_metadata_2024.08.25_03.34.11/dataset_pids_from_most_known_dataverse_installations_2024.08.csv',\n",
    "    usecols=lambda x: x in [\n",
    "        'dataset_pid_url', 'dataverse_installation_name',\n",
    "        'dataverse_collection_name', 'dataverse_collection_alias',\n",
    "        'dataverse_collection_type'],\n",
    "    low_memory=False\n",
    ")\n",
    "\n",
    "# Import keyword metadata\n",
    "keywordsDf = pd.read_csv(\n",
    "    '/Users/juliangautier/Documents/all_installation_metadata_2024.08.25_03.34.11/csv_files_with_metadata_from_most_known_dataverse_installations/keyword_2024.08.25-2024.08.30.csv',\n",
    "    usecols=lambda x: x in [\n",
    "        'dataset_pid_url', 'dataset_publication_date',\n",
    "        'keywordValue', 'keywordVocabulary',\n",
    "        'keywordVocabularyURI', 'keywordTermURI']\n",
    ")\n",
    "\n",
    "# Import topic classification metadata\n",
    "topicClassificationDf = pd.read_csv(\n",
    "    '/Users/juliangautier/Documents/all_installation_metadata_2024.08.25_03.34.11/csv_files_with_metadata_from_most_known_dataverse_installations/topic_classification_2024.08.25-2024.08.30.csv',\n",
    "    usecols=lambda x: x in [\n",
    "        'dataset_pid_url', 'dataset_publication_date',\n",
    "        'topicClassValue', 'topicClassVocab',\n",
    "        'topicClassVocabURI'])\n",
    "\n",
    "# Merge the topicClassificationDf and keywordsDf dataframes\n",
    "keywordsAndTopicClassDf = keywordsDf.merge(\n",
    "    topicClassificationDf, how='outer',\n",
    "    on=['dataset_pid_url', 'dataset_publication_date'])"
   ],
   "metadata": {
    "collapsed": false,
    "pycharm": {
     "name": "#%%\n"
    }
   }
  },
  {
   "cell_type": "code",
   "execution_count": 3,
   "outputs": [
    {
     "name": "stdout",
     "output_type": "stream",
     "text": [
      "<class 'pandas.core.frame.DataFrame'>\n",
      "Int64Index: 3785 entries, 0 to 3784\n",
      "Data columns (total 13 columns):\n",
      " #   Column                       Non-Null Count  Dtype \n",
      "---  ------                       --------------  ----- \n",
      " 0   dataverse_installation_name  3785 non-null   object\n",
      " 1   dataverse_collection_name    3785 non-null   object\n",
      " 2   dataverse_collection_alias   3785 non-null   object\n",
      " 3   dataverse_collection_type    3212 non-null   object\n",
      " 4   dataset_pid_url              3785 non-null   object\n",
      " 5   dataset_publication_date     3785 non-null   object\n",
      " 6   keywordValue                 3746 non-null   object\n",
      " 7   keywordVocabulary            3028 non-null   object\n",
      " 8   keywordTermURI               42 non-null     object\n",
      " 9   keywordVocabularyURI         2999 non-null   object\n",
      " 10  topicClassValue              1608 non-null   object\n",
      " 11  topicClassVocab              1755 non-null   object\n",
      " 12  topicClassVocabURI           1614 non-null   object\n",
      "dtypes: object(13)\n",
      "memory usage: 414.0+ KB\n"
     ]
    }
   ],
   "source": [
    "# Include only datasets where a user wanted to use a MeSH term in a keyword or topic classification field\n",
    "meshBaseUrls = ['nlm.nih.gov/mesh', 'meshb.nlm.nih.gov']\n",
    "meshKeywordsAndTopicClassDf = (keywordsAndTopicClassDf\n",
    "    .query(\n",
    "        'keywordValue.str.contains(\"|\".join(@meshBaseUrls)) or\\\n",
    "        keywordVocabulary.str.contains(\"mesh\")==True or\\\n",
    "        keywordVocabularyURI.str.contains(\"|\".join(@meshBaseUrls)) or\\\n",
    "        keywordTermURI.str.contains(\"|\".join(@meshBaseUrls)) or\\\n",
    "        topicClassVocab.str.contains(\"mesh\")==True or\\\n",
    "        topicClassValue.str.contains(\"|\".join(@meshBaseUrls)) or\\\n",
    "        topicClassVocabURI.str.contains(\"|\".join(@meshBaseUrls))',\n",
    "        engine=\"python\"\n",
    "    )\n",
    ")\n",
    "\n",
    "# Merge meshKeywordsAndTopicClassDf with datasetInfoDf so we see where these datasets are published\n",
    "meshKeywordsAndTopicClassDf = meshKeywordsAndTopicClassDf.merge(\n",
    "    datasetInfoDf,\n",
    "    how='inner',\n",
    "    on=['dataset_pid_url'])\n",
    "\n",
    "# Reorder columns\n",
    "meshKeywordsAndTopicClassDf = meshKeywordsAndTopicClassDf[[\n",
    "    'dataverse_installation_name',\n",
    "    'dataverse_collection_name',\n",
    "    'dataverse_collection_alias',\n",
    "    'dataverse_collection_type',\n",
    "    'dataset_pid_url',\n",
    "    'dataset_publication_date',\n",
    "    'keywordValue',\n",
    "    'keywordVocabulary',\n",
    "    'keywordTermURI',\n",
    "    'keywordVocabularyURI',\n",
    "    'topicClassValue',\n",
    "    'topicClassVocab',\n",
    "    'topicClassVocabURI'\n",
    "]]\n",
    "\n",
    "# Check dataframe\n",
    "meshKeywordsAndTopicClassDf.info()"
   ],
   "metadata": {
    "collapsed": false,
    "pycharm": {
     "name": "#%%\n"
    }
   }
  },
  {
   "cell_type": "code",
   "execution_count": null,
   "outputs": [],
   "source": [
    "# Export dataframe to CSV file\n",
    "meshKeywordsAndTopicClassDf.to_csv('/Users/juliangautier/Desktop/meshKeywordsAndTopicClassDf.csv', index=False)"
   ],
   "metadata": {
    "collapsed": false,
    "pycharm": {
     "name": "#%%\n"
    }
   }
  },
  {
   "cell_type": "markdown",
   "source": [
    "# Explore meshKeywordsAndTopicClassDf\n",
    "\n",
    "- How many datasets are there and which installations publish them?\n",
    "- In Harvard Dataverse, which collections contain datasets where MeSH terms are used in the keyword and topic classification fields?\n",
    "- In Harvard Dataverse, which datasets outside of collections include MeSH terms?"
   ],
   "metadata": {
    "collapsed": false,
    "pycharm": {
     "name": "#%% md\n"
    }
   }
  },
  {
   "cell_type": "code",
   "execution_count": 4,
   "outputs": [
    {
     "name": "stdout",
     "output_type": "stream",
     "text": [
      "683\n"
     ]
    }
   ],
   "source": [
    "# How many datasets are there and which installations publish them?\n",
    "datasetCount = len(pd.unique(meshKeywordsAndTopicClassDf['dataset_pid_url']))\n",
    "print(datasetCount)"
   ],
   "metadata": {
    "collapsed": false,
    "pycharm": {
     "name": "#%%\n"
    }
   }
  },
  {
   "cell_type": "code",
   "execution_count": 44,
   "outputs": [
    {
     "name": "stdout",
     "output_type": "stream",
     "text": [
      "29\n"
     ]
    },
    {
     "data": {
      "text/plain": "                dataverse_installation_name  count\n0                         Harvard Dataverse    206\n1                                  Borealis    156\n2      CORA. Research Data Repository (RDR)     62\n3                               SciELO Data     62\n4                               DataverseNL     44\n5                       Recherche Data Gouv     29\n6                               DataverseNO     27\n7                                     DaRUS     16\n8                             UNC Dataverse     12\n9      ASU Library Research Data Repository     12\n10                                  PAPYRUS      9\n11  Repositorio de Datos Acadmicos RDA-UNR      9\n12                            KU Leuven RDR      7\n13                                Data Suds      5\n14          Texas Data Repository Dataverse      4\n15                                    DOREL      3\n16                Gttingen Research Online      2\n17                 IPGP Research Collection      2\n18                           UCLA Dataverse      2\n19                               Libra Data      2\n20         Universit degli Studi di Milano      2\n21         Repositrio de Dados de Pesquisa      2\n22                                    SODHA      2\n23    Italian Institute of Technology (IIT)      1\n24                    Open Data @ UCLouvain      1\n25                               Arca Dados      1\n26                                  HeiDATA      1\n27          DANS Data Station Life Sciences      1\n28                                     dare      1",
      "text/html": "<div><div id=dff0850c-1ada-44d8-962f-efb8ed0ab23f style=\"display:none; background-color:#9D6CFF; color:white; width:200px; height:30px; padding-left:5px; border-radius:4px; flex-direction:row; justify-content:space-around; align-items:center;\" onmouseover=\"this.style.backgroundColor='#BA9BF8'\" onmouseout=\"this.style.backgroundColor='#9D6CFF'\" onclick=\"window.commands?.execute('create-mitosheet-from-dataframe-output');\">See Full Dataframe in Mito</div> <script> if (window.commands.hasCommand('create-mitosheet-from-dataframe-output')) document.getElementById('dff0850c-1ada-44d8-962f-efb8ed0ab23f').style.display = 'flex' </script> <table border=\"1\" class=\"dataframe\">\n  <thead>\n    <tr style=\"text-align: right;\">\n      <th></th>\n      <th>dataverse_installation_name</th>\n      <th>count</th>\n    </tr>\n  </thead>\n  <tbody>\n    <tr>\n      <th>0</th>\n      <td>Harvard Dataverse</td>\n      <td>206</td>\n    </tr>\n    <tr>\n      <th>1</th>\n      <td>Borealis</td>\n      <td>156</td>\n    </tr>\n    <tr>\n      <th>2</th>\n      <td>CORA. Research Data Repository (RDR)</td>\n      <td>62</td>\n    </tr>\n    <tr>\n      <th>3</th>\n      <td>SciELO Data</td>\n      <td>62</td>\n    </tr>\n    <tr>\n      <th>4</th>\n      <td>DataverseNL</td>\n      <td>44</td>\n    </tr>\n    <tr>\n      <th>5</th>\n      <td>Recherche Data Gouv</td>\n      <td>29</td>\n    </tr>\n    <tr>\n      <th>6</th>\n      <td>DataverseNO</td>\n      <td>27</td>\n    </tr>\n    <tr>\n      <th>7</th>\n      <td>DaRUS</td>\n      <td>16</td>\n    </tr>\n    <tr>\n      <th>8</th>\n      <td>UNC Dataverse</td>\n      <td>12</td>\n    </tr>\n    <tr>\n      <th>9</th>\n      <td>ASU Library Research Data Repository</td>\n      <td>12</td>\n    </tr>\n    <tr>\n      <th>10</th>\n      <td>PAPYRUS</td>\n      <td>9</td>\n    </tr>\n    <tr>\n      <th>11</th>\n      <td>Repositorio de Datos Acadmicos RDA-UNR</td>\n      <td>9</td>\n    </tr>\n    <tr>\n      <th>12</th>\n      <td>KU Leuven RDR</td>\n      <td>7</td>\n    </tr>\n    <tr>\n      <th>13</th>\n      <td>Data Suds</td>\n      <td>5</td>\n    </tr>\n    <tr>\n      <th>14</th>\n      <td>Texas Data Repository Dataverse</td>\n      <td>4</td>\n    </tr>\n    <tr>\n      <th>15</th>\n      <td>DOREL</td>\n      <td>3</td>\n    </tr>\n    <tr>\n      <th>16</th>\n      <td>Gttingen Research Online</td>\n      <td>2</td>\n    </tr>\n    <tr>\n      <th>17</th>\n      <td>IPGP Research Collection</td>\n      <td>2</td>\n    </tr>\n    <tr>\n      <th>18</th>\n      <td>UCLA Dataverse</td>\n      <td>2</td>\n    </tr>\n    <tr>\n      <th>19</th>\n      <td>Libra Data</td>\n      <td>2</td>\n    </tr>\n    <tr>\n      <th>20</th>\n      <td>Universit degli Studi di Milano</td>\n      <td>2</td>\n    </tr>\n    <tr>\n      <th>21</th>\n      <td>Repositrio de Dados de Pesquisa</td>\n      <td>2</td>\n    </tr>\n    <tr>\n      <th>22</th>\n      <td>SODHA</td>\n      <td>2</td>\n    </tr>\n    <tr>\n      <th>23</th>\n      <td>Italian Institute of Technology (IIT)</td>\n      <td>1</td>\n    </tr>\n    <tr>\n      <th>24</th>\n      <td>Open Data @ UCLouvain</td>\n      <td>1</td>\n    </tr>\n    <tr>\n      <th>25</th>\n      <td>Arca Dados</td>\n      <td>1</td>\n    </tr>\n    <tr>\n      <th>26</th>\n      <td>HeiDATA</td>\n      <td>1</td>\n    </tr>\n    <tr>\n      <th>27</th>\n      <td>DANS Data Station Life Sciences</td>\n      <td>1</td>\n    </tr>\n    <tr>\n      <th>28</th>\n      <td>dare</td>\n      <td>1</td>\n    </tr>\n  </tbody>\n</table></div>"
     },
     "execution_count": 44,
     "metadata": {},
     "output_type": "execute_result"
    }
   ],
   "source": [
    "# Count of datasets by installation\n",
    "installationCount = len(pd.unique(meshKeywordsAndTopicClassDf['dataverse_installation_name']))\n",
    "print(installationCount)\n",
    "datasetCountByInstallation = (\n",
    "    meshKeywordsAndTopicClassDf\n",
    "        [['dataverse_installation_name', 'dataset_pid_url']]\n",
    "        .drop_duplicates()\n",
    "        .value_counts(subset=['dataverse_installation_name'])\n",
    "        .to_frame('count')\n",
    "        .reset_index(drop=False, inplace=False)\n",
    "    )\n",
    "datasetCountByInstallation.head(installationCount)"
   ],
   "metadata": {
    "collapsed": false,
    "pycharm": {
     "name": "#%%\n"
    }
   }
  },
  {
   "cell_type": "code",
   "execution_count": 45,
   "outputs": [
    {
     "name": "stdout",
     "output_type": "stream",
     "text": [
      "<class 'pandas.core.frame.DataFrame'>\n",
      "Int64Index: 1328 entries, 0 to 3770\n",
      "Data columns (total 13 columns):\n",
      " #   Column                       Non-Null Count  Dtype \n",
      "---  ------                       --------------  ----- \n",
      " 0   dataverse_installation_name  1328 non-null   object\n",
      " 1   dataverse_collection_name    1328 non-null   object\n",
      " 2   dataverse_collection_alias   1328 non-null   object\n",
      " 3   dataverse_collection_type    1328 non-null   object\n",
      " 4   dataset_pid_url              1328 non-null   object\n",
      " 5   dataset_publication_date     1328 non-null   object\n",
      " 6   keywordValue                 1314 non-null   object\n",
      " 7   keywordVocabulary            1222 non-null   object\n",
      " 8   keywordTermURI               0 non-null      object\n",
      " 9   keywordVocabularyURI         1210 non-null   object\n",
      " 10  topicClassValue              651 non-null    object\n",
      " 11  topicClassVocab              652 non-null    object\n",
      " 12  topicClassVocabURI           510 non-null    object\n",
      "dtypes: object(13)\n",
      "memory usage: 145.2+ KB\n"
     ]
    }
   ],
   "source": [
    "# In Harvard Dataverse, which collections contain datasets where MeSH terms are used?\n",
    "hdvMeshKeywordsAndTopicClassDf = (meshKeywordsAndTopicClassDf\n",
    "    .query(\n",
    "        'dataverse_installation_name == \"Harvard Dataverse\"'\n",
    "    )\n",
    ")\n",
    "hdvMeshKeywordsAndTopicClassDf.info()\n",
    "hdvMeshKeywordsAndTopicClassDf.to_csv('/Users/juliangautier/Desktop/hdvMeshKeywordsAndTopicClassDf.csv', index=False)"
   ],
   "metadata": {
    "collapsed": false,
    "pycharm": {
     "name": "#%%\n"
    }
   }
  },
  {
   "cell_type": "code",
   "execution_count": 27,
   "outputs": [
    {
     "name": "stdout",
     "output_type": "stream",
     "text": [
      "29\n"
     ]
    },
    {
     "data": {
      "text/plain": "                           dataverse_collection_alias  count\n0                                             harvard     85\n1                                           biolumhub     14\n2                                               brown      6\n3                               minerva-disease-atlas      5\n4                                           acetamide      5\n..                                                ...    ...\n62                                               CAFE      1\n63  Propolis-and-CaOH2-in-dental-pulp-treatment-in...      1\n64                                 SensoryRestoration      1\n65                                         TrypanoGEN      1\n66                                    ypalmeiro-silva      1\n\n[67 rows x 2 columns]",
      "text/html": "<div><div id=c3c4f967-bc03-44e3-a7d0-4c0ccfd7fa31 style=\"display:none; background-color:#9D6CFF; color:white; width:200px; height:30px; padding-left:5px; border-radius:4px; flex-direction:row; justify-content:space-around; align-items:center;\" onmouseover=\"this.style.backgroundColor='#BA9BF8'\" onmouseout=\"this.style.backgroundColor='#9D6CFF'\" onclick=\"window.commands?.execute('create-mitosheet-from-dataframe-output');\">See Full Dataframe in Mito</div> <script> if (window.commands.hasCommand('create-mitosheet-from-dataframe-output')) document.getElementById('c3c4f967-bc03-44e3-a7d0-4c0ccfd7fa31').style.display = 'flex' </script> <table border=\"1\" class=\"dataframe\">\n  <thead>\n    <tr style=\"text-align: right;\">\n      <th></th>\n      <th>dataverse_collection_alias</th>\n      <th>count</th>\n    </tr>\n  </thead>\n  <tbody>\n    <tr>\n      <th>0</th>\n      <td>harvard</td>\n      <td>85</td>\n    </tr>\n    <tr>\n      <th>1</th>\n      <td>biolumhub</td>\n      <td>14</td>\n    </tr>\n    <tr>\n      <th>2</th>\n      <td>brown</td>\n      <td>6</td>\n    </tr>\n    <tr>\n      <th>3</th>\n      <td>minerva-disease-atlas</td>\n      <td>5</td>\n    </tr>\n    <tr>\n      <th>4</th>\n      <td>acetamide</td>\n      <td>5</td>\n    </tr>\n    <tr>\n      <th>5</th>\n      <td>HPRC-NPA_PlanHlth_Res</td>\n      <td>4</td>\n    </tr>\n    <tr>\n      <th>6</th>\n      <td>McCormick_Research</td>\n      <td>4</td>\n    </tr>\n    <tr>\n      <th>7</th>\n      <td>HSPH_LSCHD_DatAdmin_Social</td>\n      <td>4</td>\n    </tr>\n    <tr>\n      <th>8</th>\n      <td>covidbr</td>\n      <td>4</td>\n    </tr>\n    <tr>\n      <th>9</th>\n      <td>HPRC-NPA_PlanHlth_Admin</td>\n      <td>3</td>\n    </tr>\n    <tr>\n      <th>10</th>\n      <td>McCormick_HSPHTeachAdmin</td>\n      <td>3</td>\n    </tr>\n    <tr>\n      <th>11</th>\n      <td>HSPH_LSCHD_DatAdmin_30</td>\n      <td>3</td>\n    </tr>\n    <tr>\n      <th>12</th>\n      <td>Gortmaker_ResProjRecs</td>\n      <td>3</td>\n    </tr>\n    <tr>\n      <th>13</th>\n      <td>HSPH_LSCHD_DatAdmin_Orig</td>\n      <td>2</td>\n    </tr>\n    <tr>\n      <th>14</th>\n      <td>GHCC-TB-AV</td>\n      <td>2</td>\n    </tr>\n    <tr>\n      <th>15</th>\n      <td>HemOnc</td>\n      <td>2</td>\n    </tr>\n    <tr>\n      <th>16</th>\n      <td>cyp2c9-vkorc1</td>\n      <td>2</td>\n    </tr>\n    <tr>\n      <th>17</th>\n      <td>Gortmaker_HSPHProfRecs</td>\n      <td>2</td>\n    </tr>\n    <tr>\n      <th>18</th>\n      <td>IFmyeloidADOR</td>\n      <td>2</td>\n    </tr>\n    <tr>\n      <th>19</th>\n      <td>HSPH_LSCHD_DatAdmin_50</td>\n      <td>2</td>\n    </tr>\n    <tr>\n      <th>20</th>\n      <td>HSPH_LSCHD_DatAdmin_40</td>\n      <td>2</td>\n    </tr>\n    <tr>\n      <th>21</th>\n      <td>HPRC-NPA_PlayBost</td>\n      <td>2</td>\n    </tr>\n    <tr>\n      <th>22</th>\n      <td>myelo</td>\n      <td>1</td>\n    </tr>\n    <tr>\n      <th>23</th>\n      <td>heras</td>\n      <td>1</td>\n    </tr>\n    <tr>\n      <th>24</th>\n      <td>datalit</td>\n      <td>1</td>\n    </tr>\n    <tr>\n      <th>25</th>\n      <td>vnavindividualcollections</td>\n      <td>1</td>\n    </tr>\n    <tr>\n      <th>26</th>\n      <td>vanvprojectrec</td>\n      <td>1</td>\n    </tr>\n    <tr>\n      <th>27</th>\n      <td>donders</td>\n      <td>1</td>\n    </tr>\n    <tr>\n      <th>28</th>\n      <td>vanv_nvpprecs</td>\n      <td>1</td>\n    </tr>\n    <tr>\n      <th>29</th>\n      <td>eased-trial</td>\n      <td>1</td>\n    </tr>\n    <tr>\n      <th>...</th>\n      <td>...</td>\n      <td>...</td>\n    </tr>\n    <tr>\n      <th>37</th>\n      <td>jocohs</td>\n      <td>1</td>\n    </tr>\n    <tr>\n      <th>38</th>\n      <td>replication_studies</td>\n      <td>1</td>\n    </tr>\n    <tr>\n      <th>39</th>\n      <td>kwtrp</td>\n      <td>1</td>\n    </tr>\n    <tr>\n      <th>40</th>\n      <td>lemola</td>\n      <td>1</td>\n    </tr>\n    <tr>\n      <th>41</th>\n      <td>mariajose</td>\n      <td>1</td>\n    </tr>\n    <tr>\n      <th>42</th>\n      <td>1bTgNs-rSexGuzqZMxkoNsm_I3kfYGY1Z</td>\n      <td>1</td>\n    </tr>\n    <tr>\n      <th>43</th>\n      <td>NIAID_LMVR_Physiology</td>\n      <td>1</td>\n    </tr>\n    <tr>\n      <th>44</th>\n      <td>cesarean_section</td>\n      <td>1</td>\n    </tr>\n    <tr>\n      <th>45</th>\n      <td>HSPH_LSCHD_DataUse</td>\n      <td>1</td>\n    </tr>\n    <tr>\n      <th>46</th>\n      <td>CHMRAT</td>\n      <td>1</td>\n    </tr>\n    <tr>\n      <th>47</th>\n      <td>CHiRPA</td>\n      <td>1</td>\n    </tr>\n    <tr>\n      <th>48</th>\n      <td>Cervical_Cancer_GWAS</td>\n      <td>1</td>\n    </tr>\n    <tr>\n      <th>49</th>\n      <td>Gortmaker_CollPubs</td>\n      <td>1</td>\n    </tr>\n    <tr>\n      <th>50</th>\n      <td>HSPH_LSCHD_ConfMtng</td>\n      <td>1</td>\n    </tr>\n    <tr>\n      <th>51</th>\n      <td>HSPH_LSCHD_DatAdmin_3040</td>\n      <td>1</td>\n    </tr>\n    <tr>\n      <th>52</th>\n      <td>HSPH_LSCHD_DatAdmin_Audio</td>\n      <td>1</td>\n    </tr>\n    <tr>\n      <th>53</th>\n      <td>HSPH_LSCHD_DatAdmin_MagComp</td>\n      <td>1</td>\n    </tr>\n    <tr>\n      <th>54</th>\n      <td>HSPH_LSCHD_DatAdmin_Unid</td>\n      <td>1</td>\n    </tr>\n    <tr>\n      <th>55</th>\n      <td>HSPH_LSCHD_DraftsPubs</td>\n      <td>1</td>\n    </tr>\n    <tr>\n      <th>56</th>\n      <td>bacterialpneumolsystrev</td>\n      <td>1</td>\n    </tr>\n    <tr>\n      <th>57</th>\n      <td>HSPH_LSCHD_Resource</td>\n      <td>1</td>\n    </tr>\n    <tr>\n      <th>58</th>\n      <td>ImagingData</td>\n      <td>1</td>\n    </tr>\n    <tr>\n      <th>59</th>\n      <td>McCormick_CollPrintMat</td>\n      <td>1</td>\n    </tr>\n    <tr>\n      <th>60</th>\n      <td>McCormick_WritPubs</td>\n      <td>1</td>\n    </tr>\n    <tr>\n      <th>61</th>\n      <td>NG</td>\n      <td>1</td>\n    </tr>\n    <tr>\n      <th>62</th>\n      <td>CAFE</td>\n      <td>1</td>\n    </tr>\n    <tr>\n      <th>63</th>\n      <td>Propolis-and-CaOH2-in-dental-pulp-treatment-in-rat-model</td>\n      <td>1</td>\n    </tr>\n    <tr>\n      <th>64</th>\n      <td>SensoryRestoration</td>\n      <td>1</td>\n    </tr>\n    <tr>\n      <th>65</th>\n      <td>TrypanoGEN</td>\n      <td>1</td>\n    </tr>\n    <tr>\n      <th>66</th>\n      <td>ypalmeiro-silva</td>\n      <td>1</td>\n    </tr>\n  </tbody>\n</table></div>"
     },
     "execution_count": 27,
     "metadata": {},
     "output_type": "execute_result"
    }
   ],
   "source": [
    "collectionCount = len(pd.unique(meshKeywordsAndTopicClassDf['dataverse_collection_alias']))\n",
    "print(installationCount)\n",
    "\n",
    "datasetCountByCollection = (\n",
    "    hdvMeshKeywordsAndTopicClassDf\n",
    "    [['dataverse_collection_alias', 'dataset_pid_url']]\n",
    "        .drop_duplicates()\n",
    "        .value_counts(subset=['dataverse_collection_alias'])\n",
    "        .to_frame('count')\n",
    "        .reset_index(drop=False, inplace=False)\n",
    ")\n",
    "datasetCountByCollection.head(collectionCount)"
   ],
   "metadata": {
    "collapsed": false,
    "pycharm": {
     "name": "#%%\n"
    }
   }
  },
  {
   "cell_type": "code",
   "execution_count": null,
   "outputs": [],
   "source": [],
   "metadata": {
    "collapsed": false,
    "pycharm": {
     "name": "#%%\n"
    }
   }
  }
 ],
 "metadata": {
  "kernelspec": {
   "display_name": "Python 3",
   "language": "python",
   "name": "python3"
  },
  "language_info": {
   "codemirror_mode": {
    "name": "ipython",
    "version": 2
   },
   "file_extension": ".py",
   "mimetype": "text/x-python",
   "name": "python",
   "nbconvert_exporter": "python",
   "pygments_lexer": "ipython2",
   "version": "2.7.6"
  }
 },
 "nbformat": 4,
 "nbformat_minor": 0
}