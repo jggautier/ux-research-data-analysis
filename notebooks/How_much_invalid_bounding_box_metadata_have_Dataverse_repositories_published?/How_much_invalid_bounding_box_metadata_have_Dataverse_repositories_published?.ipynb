{
 "cells": [
  {
   "cell_type": "code",
   "execution_count": 2,
   "metadata": {
    "collapsed": true
   },
   "outputs": [],
   "source": [
    "from functools import reduce\n",
    "import numpy as np\n",
    "import os\n",
    "import pandas as pd"
   ]
  },
  {
   "cell_type": "code",
   "execution_count": 3,
   "outputs": [
    {
     "name": "stdout",
     "output_type": "stream",
     "text": [
      "/Users/juliangautier/ux-research-data-analysis/notebooks\n"
     ]
    }
   ],
   "source": [
    "os.chdir('..')\n",
    "print(os.getcwd())"
   ],
   "metadata": {
    "collapsed": false,
    "pycharm": {
     "name": "#%%\n"
    }
   }
  },
  {
   "cell_type": "code",
   "execution_count": 4,
   "outputs": [
    {
     "data": {
      "text/plain": "  installation                         dataset_pid_url dataverse_alias\n0       CIDACS  https://doi.org/10.57833/cidacs/WV4JWB        ProjZika\n1       CIDACS  https://doi.org/10.57833/cidacs/TGAIVO        ProjZika\n2       CIDACS  https://doi.org/10.57833/cidacs/0FZP7V        ProjZika\n3       CIDACS  https://doi.org/10.57833/cidacs/5BMSIX      ProjGates0\n4       CIDACS  https://doi.org/10.57833/cidacs/I56ZVA      ProjGates0",
      "text/html": "<div><div id=a7ded9a9-09e0-4d0f-a8b7-78bead5828fd style=\"display:none; background-color:#9D6CFF; color:white; width:200px; height:30px; padding-left:5px; border-radius:4px; flex-direction:row; justify-content:space-around; align-items:center;\" onmouseover=\"this.style.backgroundColor='#BA9BF8'\" onmouseout=\"this.style.backgroundColor='#9D6CFF'\" onclick=\"window.commands?.execute('create-mitosheet-from-dataframe-output');\">See Full Dataframe in Mito</div> <script> if (window.commands.hasCommand('create-mitosheet-from-dataframe-output')) document.getElementById('a7ded9a9-09e0-4d0f-a8b7-78bead5828fd').style.display = 'flex' </script> <table border=\"1\" class=\"dataframe\">\n  <thead>\n    <tr style=\"text-align: right;\">\n      <th></th>\n      <th>installation</th>\n      <th>dataset_pid_url</th>\n      <th>dataverse_alias</th>\n    </tr>\n  </thead>\n  <tbody>\n    <tr>\n      <th>0</th>\n      <td>CIDACS</td>\n      <td>https://doi.org/10.57833/cidacs/WV4JWB</td>\n      <td>ProjZika</td>\n    </tr>\n    <tr>\n      <th>1</th>\n      <td>CIDACS</td>\n      <td>https://doi.org/10.57833/cidacs/TGAIVO</td>\n      <td>ProjZika</td>\n    </tr>\n    <tr>\n      <th>2</th>\n      <td>CIDACS</td>\n      <td>https://doi.org/10.57833/cidacs/0FZP7V</td>\n      <td>ProjZika</td>\n    </tr>\n    <tr>\n      <th>3</th>\n      <td>CIDACS</td>\n      <td>https://doi.org/10.57833/cidacs/5BMSIX</td>\n      <td>ProjGates0</td>\n    </tr>\n    <tr>\n      <th>4</th>\n      <td>CIDACS</td>\n      <td>https://doi.org/10.57833/cidacs/I56ZVA</td>\n      <td>ProjGates0</td>\n    </tr>\n  </tbody>\n</table></div>"
     },
     "execution_count": 4,
     "metadata": {},
     "output_type": "execute_result"
    }
   ],
   "source": [
    "# Import CSV file that lists PIDs of all datasets and which Dataverse installation\n",
    "# they're published in, removing the PIDs of datasets whose metadata could not be\n",
    "# saved, i.e. dataverse_json_export_saved is FALSE\n",
    "datasetPIDsDF = (pd\n",
    "    .read_csv(\n",
    "        './metadata/dataset_pids_from_most_known_dataverse_installations.csv',\n",
    "        usecols=lambda x: x not in ['dataset_pid', 'dataverse_name'],\n",
    "        sep=',', na_filter=False)\n",
    "    .query('(dataverse_json_export_saved == True)')\n",
    "    .drop(columns=['dataverse_json_export_saved'])\n",
    "    .reset_index(drop=True, inplace=False)\n",
    " )\n",
    "\n",
    "datasetPIDsDF.head()"
   ],
   "metadata": {
    "collapsed": false,
    "pycharm": {
     "name": "#%%\n"
    }
   }
  },
  {
   "cell_type": "code",
   "execution_count": 5,
   "outputs": [
    {
     "data": {
      "text/plain": "                          dataset_pid_url  dataset_version_number  \\\n0     https://doi.org/10.48370/OFD/DBJUEM                     1.0   \n1     https://doi.org/10.21410/7E4/4WG94W                     2.1   \n2      https://doi.org/10.7910/DVN/5PRYPC                     4.0   \n3  https://doi.org/10.17026/dans-2zm-dsmz                     1.0   \n4       https://doi.org/10.7910/DVN/VIE1H                   248.0   \n\n  dataset_version_create_time  \n0   2022-05-25 10:17:50+00:00  \n1   2020-05-13 16:06:28+00:00  \n2   2020-06-17 23:49:50+00:00  \n3   2022-01-27 20:15:47+00:00  \n4   2015-06-18 19:49:12+00:00  ",
      "text/html": "<div><div id=1877b900-b645-4858-a065-faad307ae223 style=\"display:none; background-color:#9D6CFF; color:white; width:200px; height:30px; padding-left:5px; border-radius:4px; flex-direction:row; justify-content:space-around; align-items:center;\" onmouseover=\"this.style.backgroundColor='#BA9BF8'\" onmouseout=\"this.style.backgroundColor='#9D6CFF'\" onclick=\"window.commands?.execute('create-mitosheet-from-dataframe-output');\">See Full Dataframe in Mito</div> <script> if (window.commands.hasCommand('create-mitosheet-from-dataframe-output')) document.getElementById('1877b900-b645-4858-a065-faad307ae223').style.display = 'flex' </script> <table border=\"1\" class=\"dataframe\">\n  <thead>\n    <tr style=\"text-align: right;\">\n      <th></th>\n      <th>dataset_pid_url</th>\n      <th>dataset_version_number</th>\n      <th>dataset_version_create_time</th>\n    </tr>\n  </thead>\n  <tbody>\n    <tr>\n      <th>0</th>\n      <td>https://doi.org/10.48370/OFD/DBJUEM</td>\n      <td>1.0</td>\n      <td>2022-05-25 10:17:50+00:00</td>\n    </tr>\n    <tr>\n      <th>1</th>\n      <td>https://doi.org/10.21410/7E4/4WG94W</td>\n      <td>2.1</td>\n      <td>2020-05-13 16:06:28+00:00</td>\n    </tr>\n    <tr>\n      <th>2</th>\n      <td>https://doi.org/10.7910/DVN/5PRYPC</td>\n      <td>4.0</td>\n      <td>2020-06-17 23:49:50+00:00</td>\n    </tr>\n    <tr>\n      <th>3</th>\n      <td>https://doi.org/10.17026/dans-2zm-dsmz</td>\n      <td>1.0</td>\n      <td>2022-01-27 20:15:47+00:00</td>\n    </tr>\n    <tr>\n      <th>4</th>\n      <td>https://doi.org/10.7910/DVN/VIE1H</td>\n      <td>248.0</td>\n      <td>2015-06-18 19:49:12+00:00</td>\n    </tr>\n  </tbody>\n</table></div>"
     },
     "execution_count": 5,
     "metadata": {},
     "output_type": "execute_result"
    }
   ],
   "source": [
    "# Import basic metadata of all dataset versions\n",
    "datasetVersionMetadataDF = pd.read_csv(\n",
    "    './metadata/basic_metadata_2022.10.02-2022.10.03.csv',\n",
    "    usecols=lambda x: x not in [\n",
    "        'dataset_pid', 'dataset_publication_date',\n",
    "        'dataset_version_state', 'publisher'],\n",
    "    parse_dates=['dataset_version_create_time'],\n",
    "    sep=',', na_filter=False)\n",
    "\n",
    "datasetVersionMetadataDF.head()"
   ],
   "metadata": {
    "collapsed": false,
    "pycharm": {
     "name": "#%%\n"
    }
   }
  },
  {
   "cell_type": "code",
   "execution_count": 6,
   "outputs": [
    {
     "name": "stdout",
     "output_type": "stream",
     "text": [
      "Count of datasets: 340857\n",
      "Count of dataset versions: 473910\n"
     ]
    }
   ],
   "source": [
    "print(f'Count of datasets: {len(datasetPIDsDF)}')\n",
    "print(f'Count of dataset versions: {len(datasetVersionMetadataDF)}')"
   ],
   "metadata": {
    "collapsed": false,
    "pycharm": {
     "name": "#%%\n"
    }
   }
  },
  {
   "cell_type": "code",
   "execution_count": 7,
   "outputs": [
    {
     "data": {
      "text/plain": "                     dataset_pid_url  dataset_version_number  \\\n0  http://dx.doi.org/10.26193/00HBWG                     2.0   \n1  http://dx.doi.org/10.26193/01P0AI                     2.0   \n2  http://dx.doi.org/10.26193/04F7C1                     2.0   \n3  http://dx.doi.org/10.26193/07R31R                     2.0   \n4  http://dx.doi.org/10.26193/0AF6TZ                     5.0   \n\n  dataset_version_create_time  \n0   2019-05-13 08:43:01+00:00  \n1   2019-05-13 06:23:26+00:00  \n2   2019-05-13 10:02:15+00:00  \n3   2019-05-13 06:50:29+00:00  \n4   2022-02-02 23:01:26+00:00  ",
      "text/html": "<div><div id=1ab3cbb3-dd9a-4a5c-8fb7-049589b81508 style=\"display:none; background-color:#9D6CFF; color:white; width:200px; height:30px; padding-left:5px; border-radius:4px; flex-direction:row; justify-content:space-around; align-items:center;\" onmouseover=\"this.style.backgroundColor='#BA9BF8'\" onmouseout=\"this.style.backgroundColor='#9D6CFF'\" onclick=\"window.commands?.execute('create-mitosheet-from-dataframe-output');\">See Full Dataframe in Mito</div> <script> if (window.commands.hasCommand('create-mitosheet-from-dataframe-output')) document.getElementById('1ab3cbb3-dd9a-4a5c-8fb7-049589b81508').style.display = 'flex' </script> <table border=\"1\" class=\"dataframe\">\n  <thead>\n    <tr style=\"text-align: right;\">\n      <th></th>\n      <th>dataset_pid_url</th>\n      <th>dataset_version_number</th>\n      <th>dataset_version_create_time</th>\n    </tr>\n  </thead>\n  <tbody>\n    <tr>\n      <th>0</th>\n      <td>http://dx.doi.org/10.26193/00HBWG</td>\n      <td>2.0</td>\n      <td>2019-05-13 08:43:01+00:00</td>\n    </tr>\n    <tr>\n      <th>1</th>\n      <td>http://dx.doi.org/10.26193/01P0AI</td>\n      <td>2.0</td>\n      <td>2019-05-13 06:23:26+00:00</td>\n    </tr>\n    <tr>\n      <th>2</th>\n      <td>http://dx.doi.org/10.26193/04F7C1</td>\n      <td>2.0</td>\n      <td>2019-05-13 10:02:15+00:00</td>\n    </tr>\n    <tr>\n      <th>3</th>\n      <td>http://dx.doi.org/10.26193/07R31R</td>\n      <td>2.0</td>\n      <td>2019-05-13 06:50:29+00:00</td>\n    </tr>\n    <tr>\n      <th>4</th>\n      <td>http://dx.doi.org/10.26193/0AF6TZ</td>\n      <td>5.0</td>\n      <td>2022-02-02 23:01:26+00:00</td>\n    </tr>\n  </tbody>\n</table></div>"
     },
     "execution_count": 7,
     "metadata": {},
     "output_type": "execute_result"
    }
   ],
   "source": [
    "# From the datasetVersionMetadataDF, lets use the version publication dates to get the PIDs and dataset version numbers of only the most recently published versions of each dataset. The resulting dataframe should contain the same number of rows as the datasetPIDsDF.\n",
    "\n",
    "latestDatasetVersionsDF = (datasetVersionMetadataDF\n",
    "    .iloc[\n",
    "        datasetVersionMetadataDF\n",
    "    .groupby('dataset_pid_url')['dataset_version_create_time']\n",
    "    .agg(pd.Series.idxmax)]\n",
    "    .reset_index(drop=True, inplace=False))\n",
    "\n",
    "latestDatasetVersionsDF.head()"
   ],
   "metadata": {
    "collapsed": false,
    "pycharm": {
     "name": "#%%\n"
    }
   }
  },
  {
   "cell_type": "code",
   "execution_count": 8,
   "outputs": [
    {
     "name": "stdout",
     "output_type": "stream",
     "text": [
      "Count of datasets: 340857\n",
      "Count of rows in latestDatasetVersionsDF: 340857\n"
     ]
    }
   ],
   "source": [
    "print(f'Count of datasets: {len(datasetPIDsDF)}')\n",
    "print(f'Count of rows in latestDatasetVersionsDF: {len(latestDatasetVersionsDF)}')"
   ],
   "metadata": {
    "collapsed": false,
    "pycharm": {
     "name": "#%%\n"
    }
   }
  },
  {
   "cell_type": "code",
   "execution_count": 9,
   "outputs": [
    {
     "name": "stdout",
     "output_type": "stream",
     "text": [
      "340857\n"
     ]
    }
   ],
   "source": [
    "# Join the latestDatasetVersionsDF and the datasetPIDsDF to add the installation column,\n",
    "# so we know which installations published each dataset\n",
    "\n",
    "basicDatasetMetadataDF = (pd\n",
    "    .merge(latestDatasetVersionsDF, datasetPIDsDF,\n",
    "         how='inner',\n",
    "         on=['dataset_pid_url'])\n",
    "    .reset_index(drop=True, inplace=False))\n",
    "\n",
    "# Make sure the count of rows is the same as the count of total datasets: 340,857\n",
    "print(len(basicDatasetMetadataDF))"
   ],
   "metadata": {
    "collapsed": false,
    "pycharm": {
     "name": "#%%\n"
    }
   }
  },
  {
   "cell_type": "code",
   "execution_count": 10,
   "outputs": [
    {
     "data": {
      "text/plain": "                     dataset_pid_url  dataset_version_number  \\\n0  http://dx.doi.org/10.26193/00HBWG                     2.0   \n1  http://dx.doi.org/10.26193/01P0AI                     2.0   \n2  http://dx.doi.org/10.26193/04F7C1                     2.0   \n3  http://dx.doi.org/10.26193/07R31R                     2.0   \n4  http://dx.doi.org/10.26193/0AF6TZ                     5.0   \n\n  dataset_version_create_time   installation dataverse_alias  \n0   2019-05-13 08:43:01+00:00  ADA Dataverse              NA  \n1   2019-05-13 06:23:26+00:00  ADA Dataverse              NA  \n2   2019-05-13 10:02:15+00:00  ADA Dataverse              NA  \n3   2019-05-13 06:50:29+00:00  ADA Dataverse              NA  \n4   2022-02-02 23:01:26+00:00  ADA Dataverse              NA  ",
      "text/html": "<div><div id=d8b4175f-4a80-46c5-8914-ee83e3a38aa8 style=\"display:none; background-color:#9D6CFF; color:white; width:200px; height:30px; padding-left:5px; border-radius:4px; flex-direction:row; justify-content:space-around; align-items:center;\" onmouseover=\"this.style.backgroundColor='#BA9BF8'\" onmouseout=\"this.style.backgroundColor='#9D6CFF'\" onclick=\"window.commands?.execute('create-mitosheet-from-dataframe-output');\">See Full Dataframe in Mito</div> <script> if (window.commands.hasCommand('create-mitosheet-from-dataframe-output')) document.getElementById('d8b4175f-4a80-46c5-8914-ee83e3a38aa8').style.display = 'flex' </script> <table border=\"1\" class=\"dataframe\">\n  <thead>\n    <tr style=\"text-align: right;\">\n      <th></th>\n      <th>dataset_pid_url</th>\n      <th>dataset_version_number</th>\n      <th>dataset_version_create_time</th>\n      <th>installation</th>\n      <th>dataverse_alias</th>\n    </tr>\n  </thead>\n  <tbody>\n    <tr>\n      <th>0</th>\n      <td>http://dx.doi.org/10.26193/00HBWG</td>\n      <td>2.0</td>\n      <td>2019-05-13 08:43:01+00:00</td>\n      <td>ADA Dataverse</td>\n      <td>NA</td>\n    </tr>\n    <tr>\n      <th>1</th>\n      <td>http://dx.doi.org/10.26193/01P0AI</td>\n      <td>2.0</td>\n      <td>2019-05-13 06:23:26+00:00</td>\n      <td>ADA Dataverse</td>\n      <td>NA</td>\n    </tr>\n    <tr>\n      <th>2</th>\n      <td>http://dx.doi.org/10.26193/04F7C1</td>\n      <td>2.0</td>\n      <td>2019-05-13 10:02:15+00:00</td>\n      <td>ADA Dataverse</td>\n      <td>NA</td>\n    </tr>\n    <tr>\n      <th>3</th>\n      <td>http://dx.doi.org/10.26193/07R31R</td>\n      <td>2.0</td>\n      <td>2019-05-13 06:50:29+00:00</td>\n      <td>ADA Dataverse</td>\n      <td>NA</td>\n    </tr>\n    <tr>\n      <th>4</th>\n      <td>http://dx.doi.org/10.26193/0AF6TZ</td>\n      <td>5.0</td>\n      <td>2022-02-02 23:01:26+00:00</td>\n      <td>ADA Dataverse</td>\n      <td>NA</td>\n    </tr>\n  </tbody>\n</table></div>"
     },
     "execution_count": 10,
     "metadata": {},
     "output_type": "execute_result"
    }
   ],
   "source": [
    "basicDatasetMetadataDF.head()"
   ],
   "metadata": {
    "collapsed": false,
    "pycharm": {
     "name": "#%%\n"
    }
   }
  },
  {
   "cell_type": "code",
   "execution_count": 11,
   "outputs": [
    {
     "name": "stdout",
     "output_type": "stream",
     "text": [
      "Count of rows in geospatialMetadataDF: 145869\n"
     ]
    }
   ],
   "source": [
    "# Import geospatial metadata, dropping the dataset_pid column\n",
    "geospatialMetadataDF = pd.read_csv(\n",
    "    './metadata/geographic_bounding_box(geospatial)_2022.10.02-2022.10.03.csv',\n",
    "    usecols=lambda x: x not in ['dataset_pid'],\n",
    "    # sep=',', na_filter=False)\n",
    "    sep=',')\n",
    "\n",
    "print(f'Count of rows in geospatialMetadataDF: {len(geospatialMetadataDF)}')"
   ],
   "metadata": {
    "collapsed": false,
    "pycharm": {
     "name": "#%%\n"
    }
   }
  },
  {
   "cell_type": "code",
   "execution_count": 12,
   "outputs": [],
   "source": [
    "# Join geospatialMetadataDF with basicDatasetMetadataDF to retain metadata of\n",
    "# each dataset's latest version\n",
    "\n",
    "geospatialMetadataLatestVersionDF = (pd\n",
    "    .merge(geospatialMetadataDF, basicDatasetMetadataDF,\n",
    "          how='inner',\n",
    "          on=['dataset_pid_url', 'dataset_version_number'])\n",
    "    .drop(columns=[\n",
    "        'dataset_version_create_time', 'installation',\n",
    "        'dataverse_alias'])\n",
    "    .reset_index(drop=True, inplace=False))"
   ],
   "metadata": {
    "collapsed": false,
    "pycharm": {
     "name": "#%%\n"
    }
   }
  },
  {
   "cell_type": "code",
   "execution_count": 13,
   "outputs": [],
   "source": [
    "# Combine basicDatasetMetadataDF and grantInformationLatestVersionDF with a\n",
    "# full outer join on dataset_pid_url and dataset_version_number columns\n",
    "dataframes = [basicDatasetMetadataDF, geospatialMetadataLatestVersionDF]\n",
    "indexList = ['dataset_pid_url', 'dataset_version_number']\n",
    "for df in dataframes:\n",
    "    df.set_index(indexList, inplace=True)"
   ],
   "metadata": {
    "collapsed": false,
    "pycharm": {
     "name": "#%%\n"
    }
   }
  },
  {
   "cell_type": "code",
   "execution_count": 14,
   "outputs": [
    {
     "data": {
      "text/plain": "                     dataset_pid_url  dataset_version_number  \\\n0  http://dx.doi.org/10.26193/00HBWG                     2.0   \n1  http://dx.doi.org/10.26193/01P0AI                     2.0   \n2  http://dx.doi.org/10.26193/04F7C1                     2.0   \n3  http://dx.doi.org/10.26193/07R31R                     2.0   \n4  http://dx.doi.org/10.26193/0AF6TZ                     5.0   \n\n  dataset_version_create_time   installation dataverse_alias westLongitude  \\\n0   2019-05-13 08:43:01+00:00  ADA Dataverse              NA           NaN   \n1   2019-05-13 06:23:26+00:00  ADA Dataverse              NA           NaN   \n2   2019-05-13 10:02:15+00:00  ADA Dataverse              NA           NaN   \n3   2019-05-13 06:50:29+00:00  ADA Dataverse              NA           NaN   \n4   2022-02-02 23:01:26+00:00  ADA Dataverse              NA           NaN   \n\n  eastLongitude northLongitude southLongitude  \n0           NaN            NaN            NaN  \n1           NaN            NaN            NaN  \n2           NaN            NaN            NaN  \n3           NaN            NaN            NaN  \n4           NaN            NaN            NaN  ",
      "text/html": "<div><div id=21137180-d9f6-41e6-9c55-0540736d37d2 style=\"display:none; background-color:#9D6CFF; color:white; width:200px; height:30px; padding-left:5px; border-radius:4px; flex-direction:row; justify-content:space-around; align-items:center;\" onmouseover=\"this.style.backgroundColor='#BA9BF8'\" onmouseout=\"this.style.backgroundColor='#9D6CFF'\" onclick=\"window.commands?.execute('create-mitosheet-from-dataframe-output');\">See Full Dataframe in Mito</div> <script> if (window.commands.hasCommand('create-mitosheet-from-dataframe-output')) document.getElementById('21137180-d9f6-41e6-9c55-0540736d37d2').style.display = 'flex' </script> <table border=\"1\" class=\"dataframe\">\n  <thead>\n    <tr style=\"text-align: right;\">\n      <th></th>\n      <th>dataset_pid_url</th>\n      <th>dataset_version_number</th>\n      <th>dataset_version_create_time</th>\n      <th>installation</th>\n      <th>dataverse_alias</th>\n      <th>westLongitude</th>\n      <th>eastLongitude</th>\n      <th>northLongitude</th>\n      <th>southLongitude</th>\n    </tr>\n  </thead>\n  <tbody>\n    <tr>\n      <th>0</th>\n      <td>http://dx.doi.org/10.26193/00HBWG</td>\n      <td>2.0</td>\n      <td>2019-05-13 08:43:01+00:00</td>\n      <td>ADA Dataverse</td>\n      <td>NA</td>\n      <td>NaN</td>\n      <td>NaN</td>\n      <td>NaN</td>\n      <td>NaN</td>\n    </tr>\n    <tr>\n      <th>1</th>\n      <td>http://dx.doi.org/10.26193/01P0AI</td>\n      <td>2.0</td>\n      <td>2019-05-13 06:23:26+00:00</td>\n      <td>ADA Dataverse</td>\n      <td>NA</td>\n      <td>NaN</td>\n      <td>NaN</td>\n      <td>NaN</td>\n      <td>NaN</td>\n    </tr>\n    <tr>\n      <th>2</th>\n      <td>http://dx.doi.org/10.26193/04F7C1</td>\n      <td>2.0</td>\n      <td>2019-05-13 10:02:15+00:00</td>\n      <td>ADA Dataverse</td>\n      <td>NA</td>\n      <td>NaN</td>\n      <td>NaN</td>\n      <td>NaN</td>\n      <td>NaN</td>\n    </tr>\n    <tr>\n      <th>3</th>\n      <td>http://dx.doi.org/10.26193/07R31R</td>\n      <td>2.0</td>\n      <td>2019-05-13 06:50:29+00:00</td>\n      <td>ADA Dataverse</td>\n      <td>NA</td>\n      <td>NaN</td>\n      <td>NaN</td>\n      <td>NaN</td>\n      <td>NaN</td>\n    </tr>\n    <tr>\n      <th>4</th>\n      <td>http://dx.doi.org/10.26193/0AF6TZ</td>\n      <td>5.0</td>\n      <td>2022-02-02 23:01:26+00:00</td>\n      <td>ADA Dataverse</td>\n      <td>NA</td>\n      <td>NaN</td>\n      <td>NaN</td>\n      <td>NaN</td>\n      <td>NaN</td>\n    </tr>\n  </tbody>\n</table></div>"
     },
     "execution_count": 14,
     "metadata": {},
     "output_type": "execute_result"
    }
   ],
   "source": [
    "geospatialDatasetMetadataInDataverseInstallationsDF = reduce(lambda left, right: left.join(right, how='outer'), dataframes)\n",
    "fundingDatasetMetadataInDataverseInstallationsDF = (geospatialDatasetMetadataInDataverseInstallationsDF.reset_index(drop=False, inplace=True))\n",
    "geospatialDatasetMetadataInDataverseInstallationsDF.head()"
   ],
   "metadata": {
    "collapsed": false,
    "pycharm": {
     "name": "#%%\n"
    }
   }
  },
  {
   "cell_type": "code",
   "execution_count": 15,
   "outputs": [],
   "source": [
    "# geospatialDatasetMetadataInDataverseInstallationsDF.to_csv('geospatialDatasetMetadataInDataverseInstallationsDF.csv', index=False)"
   ],
   "metadata": {
    "collapsed": false,
    "pycharm": {
     "name": "#%%\n"
    }
   }
  },
  {
   "cell_type": "code",
   "execution_count": 16,
   "outputs": [
    {
     "data": {
      "text/plain": "                       dataset_pid_url  dataset_version_number  \\\n0  https://doi.org/10.11588/data/10000                     1.1   \n1  https://doi.org/10.11588/data/10039                     2.2   \n2  https://doi.org/10.11588/data/10044                     1.1   \n3  https://doi.org/10.11588/data/10045                     1.1   \n4  https://doi.org/10.11588/data/10046                     1.1   \n\n  dataset_version_create_time installation dataverse_alias westLongitude  \\\n0   2017-04-06 07:16:00+00:00      HeiDATA     iwrgraphics     49.425272   \n1   2017-07-06 07:00:46+00:00      HeiDATA       healtheco        3.8667   \n2   2017-04-06 07:14:50+00:00      HeiDATA     iwrgraphics     49.425272   \n3   2017-04-06 07:15:31+00:00      HeiDATA     iwrgraphics     49.425272   \n4   2017-04-06 07:13:29+00:00      HeiDATA     iwrgraphics     49.425272   \n\n  eastLongitude northLongitude southLongitude  \n0     49.397574       8.649282       8.720865  \n1           NaN        12.7333            NaN  \n2     49.397574       8.649282       8.720865  \n3     49.397574       8.649282       8.720865  \n4     49.397574       8.649282       8.720865  ",
      "text/html": "<div><div id=6a75fd9c-6c49-4778-a6ae-89a2318c9683 style=\"display:none; background-color:#9D6CFF; color:white; width:200px; height:30px; padding-left:5px; border-radius:4px; flex-direction:row; justify-content:space-around; align-items:center;\" onmouseover=\"this.style.backgroundColor='#BA9BF8'\" onmouseout=\"this.style.backgroundColor='#9D6CFF'\" onclick=\"window.commands?.execute('create-mitosheet-from-dataframe-output');\">See Full Dataframe in Mito</div> <script> if (window.commands.hasCommand('create-mitosheet-from-dataframe-output')) document.getElementById('6a75fd9c-6c49-4778-a6ae-89a2318c9683').style.display = 'flex' </script> <table border=\"1\" class=\"dataframe\">\n  <thead>\n    <tr style=\"text-align: right;\">\n      <th></th>\n      <th>dataset_pid_url</th>\n      <th>dataset_version_number</th>\n      <th>dataset_version_create_time</th>\n      <th>installation</th>\n      <th>dataverse_alias</th>\n      <th>westLongitude</th>\n      <th>eastLongitude</th>\n      <th>northLongitude</th>\n      <th>southLongitude</th>\n    </tr>\n  </thead>\n  <tbody>\n    <tr>\n      <th>0</th>\n      <td>https://doi.org/10.11588/data/10000</td>\n      <td>1.1</td>\n      <td>2017-04-06 07:16:00+00:00</td>\n      <td>HeiDATA</td>\n      <td>iwrgraphics</td>\n      <td>49.425272</td>\n      <td>49.397574</td>\n      <td>8.649282</td>\n      <td>8.720865</td>\n    </tr>\n    <tr>\n      <th>1</th>\n      <td>https://doi.org/10.11588/data/10039</td>\n      <td>2.2</td>\n      <td>2017-07-06 07:00:46+00:00</td>\n      <td>HeiDATA</td>\n      <td>healtheco</td>\n      <td>3.8667</td>\n      <td>NaN</td>\n      <td>12.7333</td>\n      <td>NaN</td>\n    </tr>\n    <tr>\n      <th>2</th>\n      <td>https://doi.org/10.11588/data/10044</td>\n      <td>1.1</td>\n      <td>2017-04-06 07:14:50+00:00</td>\n      <td>HeiDATA</td>\n      <td>iwrgraphics</td>\n      <td>49.425272</td>\n      <td>49.397574</td>\n      <td>8.649282</td>\n      <td>8.720865</td>\n    </tr>\n    <tr>\n      <th>3</th>\n      <td>https://doi.org/10.11588/data/10045</td>\n      <td>1.1</td>\n      <td>2017-04-06 07:15:31+00:00</td>\n      <td>HeiDATA</td>\n      <td>iwrgraphics</td>\n      <td>49.425272</td>\n      <td>49.397574</td>\n      <td>8.649282</td>\n      <td>8.720865</td>\n    </tr>\n    <tr>\n      <th>4</th>\n      <td>https://doi.org/10.11588/data/10046</td>\n      <td>1.1</td>\n      <td>2017-04-06 07:13:29+00:00</td>\n      <td>HeiDATA</td>\n      <td>iwrgraphics</td>\n      <td>49.425272</td>\n      <td>49.397574</td>\n      <td>8.649282</td>\n      <td>8.720865</td>\n    </tr>\n  </tbody>\n</table></div>"
     },
     "execution_count": 16,
     "metadata": {},
     "output_type": "execute_result"
    }
   ],
   "source": [
    "# Retain only datasets that have values in any of the four bounding box fields\n",
    "geospatialDatasetMetadataInDataverseInstallationsDF = (\n",
    "    geospatialDatasetMetadataInDataverseInstallationsDF\n",
    "        .query(\n",
    "            '(westLongitude == westLongitude) or\\\n",
    "            (eastLongitude == eastLongitude) or\\\n",
    "            (northLongitude == northLongitude) or\\\n",
    "            (southLongitude == southLongitude)'\n",
    "        )\n",
    "        .reset_index(drop=True, inplace=False)\n",
    ")\n",
    "geospatialDatasetMetadataInDataverseInstallationsDF.head()"
   ],
   "metadata": {
    "collapsed": false,
    "pycharm": {
     "name": "#%%\n"
    }
   }
  },
  {
   "cell_type": "code",
   "execution_count": 17,
   "outputs": [
    {
     "name": "stdout",
     "output_type": "stream",
     "text": [
      "Number of bounding boxes in latestDatasetVersionsDF: 116054\n",
      "Number of datasets in geospatialDatasetMetadataInDataverseInstallationsDF: 115444\n"
     ]
    }
   ],
   "source": [
    "print(f'Number of bounding boxes in latestDatasetVersionsDF: {len(geospatialDatasetMetadataInDataverseInstallationsDF)}')\n",
    "print(f'Number of datasets in geospatialDatasetMetadataInDataverseInstallationsDF: {(len(pd.unique(geospatialDatasetMetadataInDataverseInstallationsDF[\"dataset_pid_url\"])))}')"
   ],
   "metadata": {
    "collapsed": false,
    "pycharm": {
     "name": "#%%\n"
    }
   }
  },
  {
   "cell_type": "code",
   "execution_count": 18,
   "outputs": [],
   "source": [
    "# Create list of dataset PIDs with \"invalid\" bounding box metadata\n",
    "\n",
    "datasetsWithInvalidBBMetadataList = []\n",
    "for index, row in geospatialDatasetMetadataInDataverseInstallationsDF.iterrows():\n",
    "    datasetPid = row['dataset_pid_url']\n",
    "    boxes = [\n",
    "        row['westLongitude'],\n",
    "        row['eastLongitude'],\n",
    "        row['northLongitude'],\n",
    "        row['southLongitude']\n",
    "    ]\n",
    "    invalidCount = 0\n",
    "    for box in boxes:\n",
    "        try:\n",
    "            value = float(box)\n",
    "            if np.isnan(value):\n",
    "                invalidCount += 1\n",
    "        except Exception:\n",
    "            invalidCount += 1\n",
    "    if invalidCount > 0:\n",
    "        datasetsWithInvalidBBMetadataList.append(datasetPid)\n",
    "\n",
    "datasetsWithInvalidBBMetadataList = list(set(datasetsWithInvalidBBMetadataList))"
   ],
   "metadata": {
    "collapsed": false,
    "pycharm": {
     "name": "#%%\n"
    }
   }
  },
  {
   "cell_type": "code",
   "execution_count": 19,
   "outputs": [
    {
     "name": "stdout",
     "output_type": "stream",
     "text": [
      "12332\n"
     ]
    }
   ],
   "source": [
    "print(len(datasetsWithInvalidBBMetadataList))"
   ],
   "metadata": {
    "collapsed": false,
    "pycharm": {
     "name": "#%%\n"
    }
   }
  },
  {
   "cell_type": "code",
   "execution_count": 20,
   "outputs": [
    {
     "name": "stdout",
     "output_type": "stream",
     "text": [
      "['https://doi.org/10.48370/OFD/DENPIN', 'https://doi.org/10.48370/OFD/QSNSLR', 'https://doi.org/10.48370/OFD/3TP8N9', 'https://doi.org/10.48370/OFD/9RVBWV', 'https://doi.org/10.48370/OFD/W7J7LI', 'https://doi.org/10.48370/OFD/RZQFYZ', 'https://doi.org/10.48370/OFD/44D4VR', 'https://doi.org/10.48370/OFD/UKRIIM', 'https://doi.org/10.48370/OFD/84I1VG', 'https://doi.org/10.21223/P3/AZRDGH']\n"
     ]
    }
   ],
   "source": [
    "print(datasetsWithInvalidBBMetadataList[:10])"
   ],
   "metadata": {
    "collapsed": false,
    "pycharm": {
     "name": "#%%\n"
    }
   }
  },
  {
   "cell_type": "code",
   "execution_count": 21,
   "outputs": [
    {
     "data": {
      "text/plain": "                         dataset_pid_url  dataset_version_number  \\\n1    https://doi.org/10.11588/data/10039                     2.2   \n12  https://doi.org/10.11588/data/LSG8TN                     1.0   \n24       https://doi.org/10.15454/2TWG8B                     1.0   \n37       https://doi.org/10.15454/CLYPS4                     2.0   \n38       https://doi.org/10.15454/D4MJMJ                     3.1   \n\n   dataset_version_create_time         installation dataverse_alias  \\\n1    2017-07-06 07:00:46+00:00              HeiDATA       healtheco   \n12   2020-09-01 13:38:28+00:00              HeiDATA        geomorph   \n24   2021-05-28 09:16:27+00:00  Recherche Data Gouv           TEMPO   \n37   2020-01-30 17:38:02+00:00  Recherche Data Gouv           TEMPO   \n38   2022-01-14 10:22:28+00:00  Recherche Data Gouv       pheno_ueh   \n\n          westLongitude       eastLongitude northLongitude southLongitude  \n1                3.8667                 NaN        12.7333            NaN  \n12         6°37'56.27\"E        6°54'33.22\"E  50°59'31.93\"N  50°46'19.53\"N  \n24                  NaN                2°49          48°80            NaN  \n37                  NaN        4°52'41.69\"E  43°54'59.63\"N            NaN  \n38  -0.5966699246002216  47.674806960947606            NaN            NaN  ",
      "text/html": "<div><div id=95a34c91-1230-4865-8fd8-c66d062eb519 style=\"display:none; background-color:#9D6CFF; color:white; width:200px; height:30px; padding-left:5px; border-radius:4px; flex-direction:row; justify-content:space-around; align-items:center;\" onmouseover=\"this.style.backgroundColor='#BA9BF8'\" onmouseout=\"this.style.backgroundColor='#9D6CFF'\" onclick=\"window.commands?.execute('create-mitosheet-from-dataframe-output');\">See Full Dataframe in Mito</div> <script> if (window.commands.hasCommand('create-mitosheet-from-dataframe-output')) document.getElementById('95a34c91-1230-4865-8fd8-c66d062eb519').style.display = 'flex' </script> <table border=\"1\" class=\"dataframe\">\n  <thead>\n    <tr style=\"text-align: right;\">\n      <th></th>\n      <th>dataset_pid_url</th>\n      <th>dataset_version_number</th>\n      <th>dataset_version_create_time</th>\n      <th>installation</th>\n      <th>dataverse_alias</th>\n      <th>westLongitude</th>\n      <th>eastLongitude</th>\n      <th>northLongitude</th>\n      <th>southLongitude</th>\n    </tr>\n  </thead>\n  <tbody>\n    <tr>\n      <th>1</th>\n      <td>https://doi.org/10.11588/data/10039</td>\n      <td>2.2</td>\n      <td>2017-07-06 07:00:46+00:00</td>\n      <td>HeiDATA</td>\n      <td>healtheco</td>\n      <td>3.8667</td>\n      <td>NaN</td>\n      <td>12.7333</td>\n      <td>NaN</td>\n    </tr>\n    <tr>\n      <th>12</th>\n      <td>https://doi.org/10.11588/data/LSG8TN</td>\n      <td>1.0</td>\n      <td>2020-09-01 13:38:28+00:00</td>\n      <td>HeiDATA</td>\n      <td>geomorph</td>\n      <td>6°37'56.27\"E</td>\n      <td>6°54'33.22\"E</td>\n      <td>50°59'31.93\"N</td>\n      <td>50°46'19.53\"N</td>\n    </tr>\n    <tr>\n      <th>24</th>\n      <td>https://doi.org/10.15454/2TWG8B</td>\n      <td>1.0</td>\n      <td>2021-05-28 09:16:27+00:00</td>\n      <td>Recherche Data Gouv</td>\n      <td>TEMPO</td>\n      <td>NaN</td>\n      <td>2°49</td>\n      <td>48°80</td>\n      <td>NaN</td>\n    </tr>\n    <tr>\n      <th>37</th>\n      <td>https://doi.org/10.15454/CLYPS4</td>\n      <td>2.0</td>\n      <td>2020-01-30 17:38:02+00:00</td>\n      <td>Recherche Data Gouv</td>\n      <td>TEMPO</td>\n      <td>NaN</td>\n      <td>4°52'41.69\"E</td>\n      <td>43°54'59.63\"N</td>\n      <td>NaN</td>\n    </tr>\n    <tr>\n      <th>38</th>\n      <td>https://doi.org/10.15454/D4MJMJ</td>\n      <td>3.1</td>\n      <td>2022-01-14 10:22:28+00:00</td>\n      <td>Recherche Data Gouv</td>\n      <td>pheno_ueh</td>\n      <td>-0.5966699246002216</td>\n      <td>47.674806960947606</td>\n      <td>NaN</td>\n      <td>NaN</td>\n    </tr>\n  </tbody>\n</table></div>"
     },
     "execution_count": 21,
     "metadata": {},
     "output_type": "execute_result"
    }
   ],
   "source": [
    "# Create dataframe with metadata of only datasets with \"invalid\" bounding box metadata\n",
    "datasetsWithInvalidBBMetadataDF = (\n",
    "    # Drop all but the needed columns\n",
    "    geospatialDatasetMetadataInDataverseInstallationsDF\n",
    "        # Remove all datasets except those in given list of collection aliases\n",
    "        .query(\n",
    "        'dataset_pid_url in @datasetsWithInvalidBBMetadataList')\n",
    ")\n",
    "datasetsWithInvalidBBMetadataDF.head()"
   ],
   "metadata": {
    "collapsed": false,
    "pycharm": {
     "name": "#%%\n"
    }
   }
  },
  {
   "cell_type": "code",
   "execution_count": 22,
   "outputs": [],
   "source": [
    "datasetsWithInvalidBBMetadataDF.to_csv('datasetsWithInvalidBBMetadataDF.csv', index=False)"
   ],
   "metadata": {
    "collapsed": false,
    "pycharm": {
     "name": "#%%\n"
    }
   }
  },
  {
   "cell_type": "code",
   "execution_count": 22,
   "outputs": [],
   "source": [],
   "metadata": {
    "collapsed": false,
    "pycharm": {
     "name": "#%%\n"
    }
   }
  }
 ],
 "metadata": {
  "kernelspec": {
   "display_name": "Python 3",
   "language": "python",
   "name": "python3"
  },
  "language_info": {
   "codemirror_mode": {
    "name": "ipython",
    "version": 2
   },
   "file_extension": ".py",
   "mimetype": "text/x-python",
   "name": "python",
   "nbconvert_exporter": "python",
   "pygments_lexer": "ipython2",
   "version": "2.7.6"
  }
 },
 "nbformat": 4,
 "nbformat_minor": 0
}