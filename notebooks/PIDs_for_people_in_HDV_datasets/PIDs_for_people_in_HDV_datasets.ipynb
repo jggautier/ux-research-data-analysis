{
 "cells": [
  {
   "cell_type": "code",
   "execution_count": 15,
   "metadata": {
    "collapsed": true
   },
   "outputs": [],
   "source": [
    "import csv\n",
    "from functools import reduce\n",
    "import io\n",
    "import numpy as np\n",
    "import pandas as pd\n",
    "import requests"
   ]
  },
  {
   "cell_type": "markdown",
   "source": [
    "# Import data\n",
    "\n",
    "Import CSV files that contain:\n",
    "- The PIDs of all datasets and which repositories published them\n",
    "- Author field metadata entered in all datasets published by many repositories that use the Dataverse software."
   ],
   "metadata": {
    "collapsed": false,
    "pycharm": {
     "name": "#%% md\n"
    }
   }
  },
  {
   "cell_type": "code",
   "execution_count": 45,
   "outputs": [
    {
     "data": {
      "text/plain": "  dataverse_installation_name                  dataset_pid_url  \\\n0     UNB_Libraries_Dataverse  https://doi.org/10.25545/NVN79Z   \n1     UNB_Libraries_Dataverse  https://doi.org/10.25545/YB60PU   \n2     UNB_Libraries_Dataverse  https://doi.org/10.25545/WHD3KC   \n3     UNB_Libraries_Dataverse  https://doi.org/10.25545/6TZWCG   \n4     UNB_Libraries_Dataverse  https://doi.org/10.25545/NYM13B   \n\n  dataverse_collection_alias  \\\n0                        snb   \n1            blightchemistry   \n2            blightchemistry   \n3           Ir-CationBinding   \n4                     IFMLAB   \n\n                           dataverse_collection_name  \\\n0                              Service New Brunswick   \n1                Blight Chemistry Research Omniverse   \n2                Blight Chemistry Research Omniverse   \n3  Elucidation of Charge Contributions in Iridium...   \n4                   Integrated Forest Management Lab   \n\n    dataverse_collection_type  \n0  ORGANIZATIONS_INSTITUTIONS  \n1              RESEARCH_GROUP  \n2              RESEARCH_GROUP  \n3                    JOURNALS  \n4              RESEARCH_GROUP  ",
      "text/html": "<div><div id=83bbc9d0-ea20-49d7-aa90-bf073ed46360 style=\"display:none; background-color:#9D6CFF; color:white; width:200px; height:30px; padding-left:5px; border-radius:4px; flex-direction:row; justify-content:space-around; align-items:center;\" onmouseover=\"this.style.backgroundColor='#BA9BF8'\" onmouseout=\"this.style.backgroundColor='#9D6CFF'\" onclick=\"window.commands?.execute('create-mitosheet-from-dataframe-output');\">See Full Dataframe in Mito</div> <script> if (window.commands.hasCommand('create-mitosheet-from-dataframe-output')) document.getElementById('83bbc9d0-ea20-49d7-aa90-bf073ed46360').style.display = 'flex' </script> <table border=\"1\" class=\"dataframe\">\n  <thead>\n    <tr style=\"text-align: right;\">\n      <th></th>\n      <th>dataverse_installation_name</th>\n      <th>dataset_pid_url</th>\n      <th>dataverse_collection_alias</th>\n      <th>dataverse_collection_name</th>\n      <th>dataverse_collection_type</th>\n    </tr>\n  </thead>\n  <tbody>\n    <tr>\n      <th>0</th>\n      <td>UNB_Libraries_Dataverse</td>\n      <td>https://doi.org/10.25545/NVN79Z</td>\n      <td>snb</td>\n      <td>Service New Brunswick</td>\n      <td>ORGANIZATIONS_INSTITUTIONS</td>\n    </tr>\n    <tr>\n      <th>1</th>\n      <td>UNB_Libraries_Dataverse</td>\n      <td>https://doi.org/10.25545/YB60PU</td>\n      <td>blightchemistry</td>\n      <td>Blight Chemistry Research Omniverse</td>\n      <td>RESEARCH_GROUP</td>\n    </tr>\n    <tr>\n      <th>2</th>\n      <td>UNB_Libraries_Dataverse</td>\n      <td>https://doi.org/10.25545/WHD3KC</td>\n      <td>blightchemistry</td>\n      <td>Blight Chemistry Research Omniverse</td>\n      <td>RESEARCH_GROUP</td>\n    </tr>\n    <tr>\n      <th>3</th>\n      <td>UNB_Libraries_Dataverse</td>\n      <td>https://doi.org/10.25545/6TZWCG</td>\n      <td>Ir-CationBinding</td>\n      <td>Elucidation of Charge Contributions in Iridium-Chelated Hydrogen-Bonding Systems</td>\n      <td>JOURNALS</td>\n    </tr>\n    <tr>\n      <th>4</th>\n      <td>UNB_Libraries_Dataverse</td>\n      <td>https://doi.org/10.25545/NYM13B</td>\n      <td>IFMLAB</td>\n      <td>Integrated Forest Management Lab</td>\n      <td>RESEARCH_GROUP</td>\n    </tr>\n  </tbody>\n</table></div>"
     },
     "execution_count": 45,
     "metadata": {},
     "output_type": "execute_result"
    }
   ],
   "source": [
    "# Get PIDs of all datasets and which repositories published them\n",
    "datasetPIDsDF = (pd\n",
    "    .read_csv(\n",
    "        'dataset_pids_from_most_known_dataverse_installations_2023.08.csv',\n",
    "        sep=',', na_filter=False)\n",
    "    .query(\n",
    "        '(dataverse_json_export_saved == True) and\\\n",
    "        (dataverse_installation_name != \"ODISSEI_Portal\")')\n",
    "    .drop(columns=['dataverse_json_export_saved'])\n",
    "    .reset_index(drop=True, inplace=False)\n",
    " )\n",
    "\n",
    "datasetPIDsDF.head()"
   ],
   "metadata": {
    "collapsed": false,
    "pycharm": {
     "name": "#%%\n"
    }
   }
  },
  {
   "cell_type": "code",
   "execution_count": 29,
   "outputs": [
    {
     "data": {
      "text/plain": "                          dataset_pid_url dataset_publication_date  \\\n0     https://doi.org/10.48370/OFD/8TTRLC               2022-05-13   \n1  https://doi.org/10.17026/dans-26a-cq4r               2015-09-18   \n2  https://doi.org/10.17026/dans-zc2-mc2g               2016-12-31   \n3  https://doi.org/10.17026/dans-x9z-bmn6               2020-12-22   \n4      https://doi.org/10.7910/DVN/QD0V0H               2021-09-20   \n\n   dataset_version_number dataset_version_create_time  \\\n0                     1.0        2022-05-11T14:44:29Z   \n1                     2.0        2022-02-18T19:29:27Z   \n2                     1.0        2022-02-24T21:01:03Z   \n3                     1.0        2022-02-14T05:11:03Z   \n4                     1.0        2021-07-29T19:45:43Z   \n\n                                          authorName  \\\n0  Mammal Research Institute, Polish Academy of S...   \n1                                     H.J. Hesseling   \n2                                         S. Moerman   \n3                                         G. Zielman   \n4                                  Master, Daniel M.   \n\n                      authorAffiliation authorIdentifierScheme  \\\n0                                                                \n1  RAAP Archeologisch Adviesbureau B.V.                          \n2                                                                \n3                                  RAAP                          \n4                       Wheaton College                          \n\n  authorIdentifier  \n0                   \n1                   \n2                   \n3                   \n4                   ",
      "text/html": "<div><div id=5ff2c604-f703-478d-b371-79dcd3ed1e31 style=\"display:none; background-color:#9D6CFF; color:white; width:200px; height:30px; padding-left:5px; border-radius:4px; flex-direction:row; justify-content:space-around; align-items:center;\" onmouseover=\"this.style.backgroundColor='#BA9BF8'\" onmouseout=\"this.style.backgroundColor='#9D6CFF'\" onclick=\"window.commands?.execute('create-mitosheet-from-dataframe-output');\">See Full Dataframe in Mito</div> <script> if (window.commands.hasCommand('create-mitosheet-from-dataframe-output')) document.getElementById('5ff2c604-f703-478d-b371-79dcd3ed1e31').style.display = 'flex' </script> <table border=\"1\" class=\"dataframe\">\n  <thead>\n    <tr style=\"text-align: right;\">\n      <th></th>\n      <th>dataset_pid_url</th>\n      <th>dataset_publication_date</th>\n      <th>dataset_version_number</th>\n      <th>dataset_version_create_time</th>\n      <th>authorName</th>\n      <th>authorAffiliation</th>\n      <th>authorIdentifierScheme</th>\n      <th>authorIdentifier</th>\n    </tr>\n  </thead>\n  <tbody>\n    <tr>\n      <th>0</th>\n      <td>https://doi.org/10.48370/OFD/8TTRLC</td>\n      <td>2022-05-13</td>\n      <td>1.0</td>\n      <td>2022-05-11T14:44:29Z</td>\n      <td>Mammal Research Institute, Polish Academy of Sciences</td>\n      <td></td>\n      <td></td>\n      <td></td>\n    </tr>\n    <tr>\n      <th>1</th>\n      <td>https://doi.org/10.17026/dans-26a-cq4r</td>\n      <td>2015-09-18</td>\n      <td>2.0</td>\n      <td>2022-02-18T19:29:27Z</td>\n      <td>H.J. Hesseling</td>\n      <td>RAAP Archeologisch Adviesbureau B.V.</td>\n      <td></td>\n      <td></td>\n    </tr>\n    <tr>\n      <th>2</th>\n      <td>https://doi.org/10.17026/dans-zc2-mc2g</td>\n      <td>2016-12-31</td>\n      <td>1.0</td>\n      <td>2022-02-24T21:01:03Z</td>\n      <td>S. Moerman</td>\n      <td></td>\n      <td></td>\n      <td></td>\n    </tr>\n    <tr>\n      <th>3</th>\n      <td>https://doi.org/10.17026/dans-x9z-bmn6</td>\n      <td>2020-12-22</td>\n      <td>1.0</td>\n      <td>2022-02-14T05:11:03Z</td>\n      <td>G. Zielman</td>\n      <td>RAAP</td>\n      <td></td>\n      <td></td>\n    </tr>\n    <tr>\n      <th>4</th>\n      <td>https://doi.org/10.7910/DVN/QD0V0H</td>\n      <td>2021-09-20</td>\n      <td>1.0</td>\n      <td>2021-07-29T19:45:43Z</td>\n      <td>Master, Daniel M.</td>\n      <td>Wheaton College</td>\n      <td></td>\n      <td></td>\n    </tr>\n  </tbody>\n</table></div>"
     },
     "execution_count": 29,
     "metadata": {},
     "output_type": "execute_result"
    }
   ],
   "source": [
    "# Get Author field metadata entered in all datasets in Dataverse repositories\n",
    "authorMetadataDF = (pd\n",
    "    .read_csv(\n",
    "        'author(citation)_2023.08.22-2023.08.28.csv',\n",
    "        sep=',', na_filter=False)\n",
    "     .drop(columns=['dataset_pid'])\n",
    "     .reset_index(drop=True, inplace=False)\n",
    "     )\n",
    "\n",
    "authorMetadataDF.head()"
   ],
   "metadata": {
    "collapsed": false,
    "pycharm": {
     "name": "#%%\n"
    }
   }
  },
  {
   "cell_type": "code",
   "execution_count": 46,
   "outputs": [
    {
     "name": "stdout",
     "output_type": "stream",
     "text": [
      "Count of datasets in datasetPIDsDF: 390401\n",
      "Number of datasets in authorMetadataDF: 390401\n"
     ]
    }
   ],
   "source": [
    "print(f'Count of datasets in datasetPIDsDF: {len(datasetPIDsDF)}')\n",
    "datasetCountInAuthorMetadataDF = len(pd.unique(authorMetadataDF['dataset_pid_url']))\n",
    "print(f'Number of datasets in authorMetadataDF: {datasetCountInAuthorMetadataDF}')"
   ],
   "metadata": {
    "collapsed": false,
    "pycharm": {
     "name": "#%%\n"
    }
   }
  },
  {
   "cell_type": "markdown",
   "source": [
    "- Get count of all author metadata in each installation\n",
    "- Get count of each type of author identifier in each installation"
   ],
   "metadata": {
    "collapsed": false,
    "pycharm": {
     "name": "#%% md\n"
    }
   }
  },
  {
   "cell_type": "code",
   "execution_count": 9,
   "outputs": [
    {
     "name": "stdout",
     "output_type": "stream",
     "text": [
      "340857\n"
     ]
    }
   ],
   "source": [
    "# Join the latestDatasetVersionsDF and the datasetPIDsDF to add the installation column,\n",
    "# so we know which installations published each dataset\n",
    "\n",
    "geospatialMetadataLatestVersionDF = (pd\n",
    "    .merge(geospatialMetadataDF, basicDatasetMetadataDF,\n",
    "            how='inner',\n",
    "            on=['dataset_pid_url', 'dataset_version_number'])\n",
    "    .drop(columns=[\n",
    "        'dataset_version_create_time', 'installation',\n",
    "        'dataverse_alias'])\n",
    "    .reset_index(drop=True, inplace=False))\n",
    "\n",
    "# Make sure the count of rows is the same as the count of total datasets: 340,857\n",
    "print(len(basicDatasetMetadataDF))"
   ],
   "metadata": {
    "collapsed": false,
    "pycharm": {
     "name": "#%%\n"
    }
   }
  },
  {
   "cell_type": "code",
   "execution_count": 10,
   "outputs": [
    {
     "data": {
      "text/plain": "                     dataset_pid_url  dataset_version_number  \\\n0  http://dx.doi.org/10.26193/00HBWG                     2.0   \n1  http://dx.doi.org/10.26193/01P0AI                     2.0   \n2  http://dx.doi.org/10.26193/04F7C1                     2.0   \n3  http://dx.doi.org/10.26193/07R31R                     2.0   \n4  http://dx.doi.org/10.26193/0AF6TZ                     5.0   \n\n  dataset_version_create_time   installation dataverse_alias  \n0   2019-05-13 08:43:01+00:00  ADA Dataverse              NA  \n1   2019-05-13 06:23:26+00:00  ADA Dataverse              NA  \n2   2019-05-13 10:02:15+00:00  ADA Dataverse              NA  \n3   2019-05-13 06:50:29+00:00  ADA Dataverse              NA  \n4   2022-02-02 23:01:26+00:00  ADA Dataverse              NA  ",
      "text/html": "<div><div id=d8b4175f-4a80-46c5-8914-ee83e3a38aa8 style=\"display:none; background-color:#9D6CFF; color:white; width:200px; height:30px; padding-left:5px; border-radius:4px; flex-direction:row; justify-content:space-around; align-items:center;\" onmouseover=\"this.style.backgroundColor='#BA9BF8'\" onmouseout=\"this.style.backgroundColor='#9D6CFF'\" onclick=\"window.commands?.execute('create-mitosheet-from-dataframe-output');\">See Full Dataframe in Mito</div> <script> if (window.commands.hasCommand('create-mitosheet-from-dataframe-output')) document.getElementById('d8b4175f-4a80-46c5-8914-ee83e3a38aa8').style.display = 'flex' </script> <table border=\"1\" class=\"dataframe\">\n  <thead>\n    <tr style=\"text-align: right;\">\n      <th></th>\n      <th>dataset_pid_url</th>\n      <th>dataset_version_number</th>\n      <th>dataset_version_create_time</th>\n      <th>installation</th>\n      <th>dataverse_alias</th>\n    </tr>\n  </thead>\n  <tbody>\n    <tr>\n      <th>0</th>\n      <td>http://dx.doi.org/10.26193/00HBWG</td>\n      <td>2.0</td>\n      <td>2019-05-13 08:43:01+00:00</td>\n      <td>ADA Dataverse</td>\n      <td>NA</td>\n    </tr>\n    <tr>\n      <th>1</th>\n      <td>http://dx.doi.org/10.26193/01P0AI</td>\n      <td>2.0</td>\n      <td>2019-05-13 06:23:26+00:00</td>\n      <td>ADA Dataverse</td>\n      <td>NA</td>\n    </tr>\n    <tr>\n      <th>2</th>\n      <td>http://dx.doi.org/10.26193/04F7C1</td>\n      <td>2.0</td>\n      <td>2019-05-13 10:02:15+00:00</td>\n      <td>ADA Dataverse</td>\n      <td>NA</td>\n    </tr>\n    <tr>\n      <th>3</th>\n      <td>http://dx.doi.org/10.26193/07R31R</td>\n      <td>2.0</td>\n      <td>2019-05-13 06:50:29+00:00</td>\n      <td>ADA Dataverse</td>\n      <td>NA</td>\n    </tr>\n    <tr>\n      <th>4</th>\n      <td>http://dx.doi.org/10.26193/0AF6TZ</td>\n      <td>5.0</td>\n      <td>2022-02-02 23:01:26+00:00</td>\n      <td>ADA Dataverse</td>\n      <td>NA</td>\n    </tr>\n  </tbody>\n</table></div>"
     },
     "execution_count": 10,
     "metadata": {},
     "output_type": "execute_result"
    }
   ],
   "source": [
    "basicDatasetMetadataDF.head()"
   ],
   "metadata": {
    "collapsed": false,
    "pycharm": {
     "name": "#%%\n"
    }
   }
  },
  {
   "cell_type": "code",
   "execution_count": 13,
   "outputs": [],
   "source": [
    "# Combine basicDatasetMetadataDF and grantInformationLatestVersionDF with a\n",
    "# full outer join on dataset_pid_url and dataset_version_number columns\n",
    "dataframes = [basicDatasetMetadataDF, geospatialMetadataLatestVersionDF]\n",
    "indexList = ['dataset_pid_url', 'dataset_version_number']\n",
    "for df in dataframes:\n",
    "    df.set_index(indexList, inplace=True)"
   ],
   "metadata": {
    "collapsed": false,
    "pycharm": {
     "name": "#%%\n"
    }
   }
  },
  {
   "cell_type": "code",
   "execution_count": 14,
   "outputs": [
    {
     "data": {
      "text/plain": "                     dataset_pid_url  dataset_version_number  \\\n0  http://dx.doi.org/10.26193/00HBWG                     2.0   \n1  http://dx.doi.org/10.26193/01P0AI                     2.0   \n2  http://dx.doi.org/10.26193/04F7C1                     2.0   \n3  http://dx.doi.org/10.26193/07R31R                     2.0   \n4  http://dx.doi.org/10.26193/0AF6TZ                     5.0   \n\n  dataset_version_create_time   installation dataverse_alias westLongitude  \\\n0   2019-05-13 08:43:01+00:00  ADA Dataverse              NA           NaN   \n1   2019-05-13 06:23:26+00:00  ADA Dataverse              NA           NaN   \n2   2019-05-13 10:02:15+00:00  ADA Dataverse              NA           NaN   \n3   2019-05-13 06:50:29+00:00  ADA Dataverse              NA           NaN   \n4   2022-02-02 23:01:26+00:00  ADA Dataverse              NA           NaN   \n\n  eastLongitude northLongitude southLongitude  \n0           NaN            NaN            NaN  \n1           NaN            NaN            NaN  \n2           NaN            NaN            NaN  \n3           NaN            NaN            NaN  \n4           NaN            NaN            NaN  ",
      "text/html": "<div><div id=21137180-d9f6-41e6-9c55-0540736d37d2 style=\"display:none; background-color:#9D6CFF; color:white; width:200px; height:30px; padding-left:5px; border-radius:4px; flex-direction:row; justify-content:space-around; align-items:center;\" onmouseover=\"this.style.backgroundColor='#BA9BF8'\" onmouseout=\"this.style.backgroundColor='#9D6CFF'\" onclick=\"window.commands?.execute('create-mitosheet-from-dataframe-output');\">See Full Dataframe in Mito</div> <script> if (window.commands.hasCommand('create-mitosheet-from-dataframe-output')) document.getElementById('21137180-d9f6-41e6-9c55-0540736d37d2').style.display = 'flex' </script> <table border=\"1\" class=\"dataframe\">\n  <thead>\n    <tr style=\"text-align: right;\">\n      <th></th>\n      <th>dataset_pid_url</th>\n      <th>dataset_version_number</th>\n      <th>dataset_version_create_time</th>\n      <th>installation</th>\n      <th>dataverse_alias</th>\n      <th>westLongitude</th>\n      <th>eastLongitude</th>\n      <th>northLongitude</th>\n      <th>southLongitude</th>\n    </tr>\n  </thead>\n  <tbody>\n    <tr>\n      <th>0</th>\n      <td>http://dx.doi.org/10.26193/00HBWG</td>\n      <td>2.0</td>\n      <td>2019-05-13 08:43:01+00:00</td>\n      <td>ADA Dataverse</td>\n      <td>NA</td>\n      <td>NaN</td>\n      <td>NaN</td>\n      <td>NaN</td>\n      <td>NaN</td>\n    </tr>\n    <tr>\n      <th>1</th>\n      <td>http://dx.doi.org/10.26193/01P0AI</td>\n      <td>2.0</td>\n      <td>2019-05-13 06:23:26+00:00</td>\n      <td>ADA Dataverse</td>\n      <td>NA</td>\n      <td>NaN</td>\n      <td>NaN</td>\n      <td>NaN</td>\n      <td>NaN</td>\n    </tr>\n    <tr>\n      <th>2</th>\n      <td>http://dx.doi.org/10.26193/04F7C1</td>\n      <td>2.0</td>\n      <td>2019-05-13 10:02:15+00:00</td>\n      <td>ADA Dataverse</td>\n      <td>NA</td>\n      <td>NaN</td>\n      <td>NaN</td>\n      <td>NaN</td>\n      <td>NaN</td>\n    </tr>\n    <tr>\n      <th>3</th>\n      <td>http://dx.doi.org/10.26193/07R31R</td>\n      <td>2.0</td>\n      <td>2019-05-13 06:50:29+00:00</td>\n      <td>ADA Dataverse</td>\n      <td>NA</td>\n      <td>NaN</td>\n      <td>NaN</td>\n      <td>NaN</td>\n      <td>NaN</td>\n    </tr>\n    <tr>\n      <th>4</th>\n      <td>http://dx.doi.org/10.26193/0AF6TZ</td>\n      <td>5.0</td>\n      <td>2022-02-02 23:01:26+00:00</td>\n      <td>ADA Dataverse</td>\n      <td>NA</td>\n      <td>NaN</td>\n      <td>NaN</td>\n      <td>NaN</td>\n      <td>NaN</td>\n    </tr>\n  </tbody>\n</table></div>"
     },
     "execution_count": 14,
     "metadata": {},
     "output_type": "execute_result"
    }
   ],
   "source": [
    "geospatialDatasetMetadataInDataverseInstallationsDF = reduce(lambda left, right: left.join(right, how='outer'), dataframes)\n",
    "fundingDatasetMetadataInDataverseInstallationsDF = (geospatialDatasetMetadataInDataverseInstallationsDF.reset_index(drop=False, inplace=True))\n",
    "geospatialDatasetMetadataInDataverseInstallationsDF.head()"
   ],
   "metadata": {
    "collapsed": false,
    "pycharm": {
     "name": "#%%\n"
    }
   }
  },
  {
   "cell_type": "code",
   "execution_count": 15,
   "outputs": [],
   "source": [
    "# geospatialDatasetMetadataInDataverseInstallationsDF.to_csv('geospatialDatasetMetadataInDataverseInstallationsDF.csv', index=False)"
   ],
   "metadata": {
    "collapsed": false,
    "pycharm": {
     "name": "#%%\n"
    }
   }
  },
  {
   "cell_type": "code",
   "execution_count": 16,
   "outputs": [
    {
     "data": {
      "text/plain": "                       dataset_pid_url  dataset_version_number  \\\n0  https://doi.org/10.11588/data/10000                     1.1   \n1  https://doi.org/10.11588/data/10039                     2.2   \n2  https://doi.org/10.11588/data/10044                     1.1   \n3  https://doi.org/10.11588/data/10045                     1.1   \n4  https://doi.org/10.11588/data/10046                     1.1   \n\n  dataset_version_create_time installation dataverse_alias westLongitude  \\\n0   2017-04-06 07:16:00+00:00      HeiDATA     iwrgraphics     49.425272   \n1   2017-07-06 07:00:46+00:00      HeiDATA       healtheco        3.8667   \n2   2017-04-06 07:14:50+00:00      HeiDATA     iwrgraphics     49.425272   \n3   2017-04-06 07:15:31+00:00      HeiDATA     iwrgraphics     49.425272   \n4   2017-04-06 07:13:29+00:00      HeiDATA     iwrgraphics     49.425272   \n\n  eastLongitude northLongitude southLongitude  \n0     49.397574       8.649282       8.720865  \n1           NaN        12.7333            NaN  \n2     49.397574       8.649282       8.720865  \n3     49.397574       8.649282       8.720865  \n4     49.397574       8.649282       8.720865  ",
      "text/html": "<div><div id=6a75fd9c-6c49-4778-a6ae-89a2318c9683 style=\"display:none; background-color:#9D6CFF; color:white; width:200px; height:30px; padding-left:5px; border-radius:4px; flex-direction:row; justify-content:space-around; align-items:center;\" onmouseover=\"this.style.backgroundColor='#BA9BF8'\" onmouseout=\"this.style.backgroundColor='#9D6CFF'\" onclick=\"window.commands?.execute('create-mitosheet-from-dataframe-output');\">See Full Dataframe in Mito</div> <script> if (window.commands.hasCommand('create-mitosheet-from-dataframe-output')) document.getElementById('6a75fd9c-6c49-4778-a6ae-89a2318c9683').style.display = 'flex' </script> <table border=\"1\" class=\"dataframe\">\n  <thead>\n    <tr style=\"text-align: right;\">\n      <th></th>\n      <th>dataset_pid_url</th>\n      <th>dataset_version_number</th>\n      <th>dataset_version_create_time</th>\n      <th>installation</th>\n      <th>dataverse_alias</th>\n      <th>westLongitude</th>\n      <th>eastLongitude</th>\n      <th>northLongitude</th>\n      <th>southLongitude</th>\n    </tr>\n  </thead>\n  <tbody>\n    <tr>\n      <th>0</th>\n      <td>https://doi.org/10.11588/data/10000</td>\n      <td>1.1</td>\n      <td>2017-04-06 07:16:00+00:00</td>\n      <td>HeiDATA</td>\n      <td>iwrgraphics</td>\n      <td>49.425272</td>\n      <td>49.397574</td>\n      <td>8.649282</td>\n      <td>8.720865</td>\n    </tr>\n    <tr>\n      <th>1</th>\n      <td>https://doi.org/10.11588/data/10039</td>\n      <td>2.2</td>\n      <td>2017-07-06 07:00:46+00:00</td>\n      <td>HeiDATA</td>\n      <td>healtheco</td>\n      <td>3.8667</td>\n      <td>NaN</td>\n      <td>12.7333</td>\n      <td>NaN</td>\n    </tr>\n    <tr>\n      <th>2</th>\n      <td>https://doi.org/10.11588/data/10044</td>\n      <td>1.1</td>\n      <td>2017-04-06 07:14:50+00:00</td>\n      <td>HeiDATA</td>\n      <td>iwrgraphics</td>\n      <td>49.425272</td>\n      <td>49.397574</td>\n      <td>8.649282</td>\n      <td>8.720865</td>\n    </tr>\n    <tr>\n      <th>3</th>\n      <td>https://doi.org/10.11588/data/10045</td>\n      <td>1.1</td>\n      <td>2017-04-06 07:15:31+00:00</td>\n      <td>HeiDATA</td>\n      <td>iwrgraphics</td>\n      <td>49.425272</td>\n      <td>49.397574</td>\n      <td>8.649282</td>\n      <td>8.720865</td>\n    </tr>\n    <tr>\n      <th>4</th>\n      <td>https://doi.org/10.11588/data/10046</td>\n      <td>1.1</td>\n      <td>2017-04-06 07:13:29+00:00</td>\n      <td>HeiDATA</td>\n      <td>iwrgraphics</td>\n      <td>49.425272</td>\n      <td>49.397574</td>\n      <td>8.649282</td>\n      <td>8.720865</td>\n    </tr>\n  </tbody>\n</table></div>"
     },
     "execution_count": 16,
     "metadata": {},
     "output_type": "execute_result"
    }
   ],
   "source": [
    "# Retain only datasets that have values in any of the four bounding box fields\n",
    "geospatialDatasetMetadataInDataverseInstallationsDF = (\n",
    "    geospatialDatasetMetadataInDataverseInstallationsDF\n",
    "        .query(\n",
    "            '(westLongitude == westLongitude) or\\\n",
    "            (eastLongitude == eastLongitude) or\\\n",
    "            (northLongitude == northLongitude) or\\\n",
    "            (southLongitude == southLongitude)'\n",
    "        )\n",
    "        .reset_index(drop=True, inplace=False)\n",
    ")\n",
    "geospatialDatasetMetadataInDataverseInstallationsDF.head()"
   ],
   "metadata": {
    "collapsed": false,
    "pycharm": {
     "name": "#%%\n"
    }
   }
  },
  {
   "cell_type": "code",
   "execution_count": 17,
   "outputs": [
    {
     "name": "stdout",
     "output_type": "stream",
     "text": [
      "Number of bounding boxes in latestDatasetVersionsDF: 116054\n",
      "Number of datasets in geospatialDatasetMetadataInDataverseInstallationsDF: 115444\n"
     ]
    }
   ],
   "source": [
    "print(f'Number of bounding boxes in latestDatasetVersionsDF: {len(geospatialDatasetMetadataInDataverseInstallationsDF)}')\n",
    "print(f'Number of datasets in geospatialDatasetMetadataInDataverseInstallationsDF: {(len(pd.unique(geospatialDatasetMetadataInDataverseInstallationsDF[\"dataset_pid_url\"])))}')"
   ],
   "metadata": {
    "collapsed": false,
    "pycharm": {
     "name": "#%%\n"
    }
   }
  },
  {
   "cell_type": "code",
   "execution_count": 18,
   "outputs": [],
   "source": [
    "# Create list of dataset PIDs with \"invalid\" bounding box metadata\n",
    "\n",
    "datasetsWithInvalidBBMetadataList = []\n",
    "for index, row in geospatialDatasetMetadataInDataverseInstallationsDF.iterrows():\n",
    "    datasetPid = row['dataset_pid_url']\n",
    "    boxes = [\n",
    "        row['westLongitude'],\n",
    "        row['eastLongitude'],\n",
    "        row['northLongitude'],\n",
    "        row['southLongitude']\n",
    "    ]\n",
    "    invalidCount = 0\n",
    "    for box in boxes:\n",
    "        try:\n",
    "            value = float(box)\n",
    "            if np.isnan(value):\n",
    "                invalidCount += 1\n",
    "        except Exception:\n",
    "            invalidCount += 1\n",
    "    if invalidCount > 0:\n",
    "        datasetsWithInvalidBBMetadataList.append(datasetPid)\n",
    "\n",
    "datasetsWithInvalidBBMetadataList = list(set(datasetsWithInvalidBBMetadataList))"
   ],
   "metadata": {
    "collapsed": false,
    "pycharm": {
     "name": "#%%\n"
    }
   }
  },
  {
   "cell_type": "code",
   "execution_count": 19,
   "outputs": [
    {
     "name": "stdout",
     "output_type": "stream",
     "text": [
      "12332\n"
     ]
    }
   ],
   "source": [
    "print(len(datasetsWithInvalidBBMetadataList))"
   ],
   "metadata": {
    "collapsed": false,
    "pycharm": {
     "name": "#%%\n"
    }
   }
  },
  {
   "cell_type": "code",
   "execution_count": 20,
   "outputs": [
    {
     "name": "stdout",
     "output_type": "stream",
     "text": [
      "['https://doi.org/10.48370/OFD/DENPIN', 'https://doi.org/10.48370/OFD/QSNSLR', 'https://doi.org/10.48370/OFD/3TP8N9', 'https://doi.org/10.48370/OFD/9RVBWV', 'https://doi.org/10.48370/OFD/W7J7LI', 'https://doi.org/10.48370/OFD/RZQFYZ', 'https://doi.org/10.48370/OFD/44D4VR', 'https://doi.org/10.48370/OFD/UKRIIM', 'https://doi.org/10.48370/OFD/84I1VG', 'https://doi.org/10.21223/P3/AZRDGH']\n"
     ]
    }
   ],
   "source": [
    "print(datasetsWithInvalidBBMetadataList[:10])"
   ],
   "metadata": {
    "collapsed": false,
    "pycharm": {
     "name": "#%%\n"
    }
   }
  },
  {
   "cell_type": "code",
   "execution_count": 21,
   "outputs": [
    {
     "data": {
      "text/plain": "                         dataset_pid_url  dataset_version_number  \\\n1    https://doi.org/10.11588/data/10039                     2.2   \n12  https://doi.org/10.11588/data/LSG8TN                     1.0   \n24       https://doi.org/10.15454/2TWG8B                     1.0   \n37       https://doi.org/10.15454/CLYPS4                     2.0   \n38       https://doi.org/10.15454/D4MJMJ                     3.1   \n\n   dataset_version_create_time         installation dataverse_alias  \\\n1    2017-07-06 07:00:46+00:00              HeiDATA       healtheco   \n12   2020-09-01 13:38:28+00:00              HeiDATA        geomorph   \n24   2021-05-28 09:16:27+00:00  Recherche Data Gouv           TEMPO   \n37   2020-01-30 17:38:02+00:00  Recherche Data Gouv           TEMPO   \n38   2022-01-14 10:22:28+00:00  Recherche Data Gouv       pheno_ueh   \n\n          westLongitude       eastLongitude northLongitude southLongitude  \n1                3.8667                 NaN        12.7333            NaN  \n12         6°37'56.27\"E        6°54'33.22\"E  50°59'31.93\"N  50°46'19.53\"N  \n24                  NaN                2°49          48°80            NaN  \n37                  NaN        4°52'41.69\"E  43°54'59.63\"N            NaN  \n38  -0.5966699246002216  47.674806960947606            NaN            NaN  ",
      "text/html": "<div><div id=95a34c91-1230-4865-8fd8-c66d062eb519 style=\"display:none; background-color:#9D6CFF; color:white; width:200px; height:30px; padding-left:5px; border-radius:4px; flex-direction:row; justify-content:space-around; align-items:center;\" onmouseover=\"this.style.backgroundColor='#BA9BF8'\" onmouseout=\"this.style.backgroundColor='#9D6CFF'\" onclick=\"window.commands?.execute('create-mitosheet-from-dataframe-output');\">See Full Dataframe in Mito</div> <script> if (window.commands.hasCommand('create-mitosheet-from-dataframe-output')) document.getElementById('95a34c91-1230-4865-8fd8-c66d062eb519').style.display = 'flex' </script> <table border=\"1\" class=\"dataframe\">\n  <thead>\n    <tr style=\"text-align: right;\">\n      <th></th>\n      <th>dataset_pid_url</th>\n      <th>dataset_version_number</th>\n      <th>dataset_version_create_time</th>\n      <th>installation</th>\n      <th>dataverse_alias</th>\n      <th>westLongitude</th>\n      <th>eastLongitude</th>\n      <th>northLongitude</th>\n      <th>southLongitude</th>\n    </tr>\n  </thead>\n  <tbody>\n    <tr>\n      <th>1</th>\n      <td>https://doi.org/10.11588/data/10039</td>\n      <td>2.2</td>\n      <td>2017-07-06 07:00:46+00:00</td>\n      <td>HeiDATA</td>\n      <td>healtheco</td>\n      <td>3.8667</td>\n      <td>NaN</td>\n      <td>12.7333</td>\n      <td>NaN</td>\n    </tr>\n    <tr>\n      <th>12</th>\n      <td>https://doi.org/10.11588/data/LSG8TN</td>\n      <td>1.0</td>\n      <td>2020-09-01 13:38:28+00:00</td>\n      <td>HeiDATA</td>\n      <td>geomorph</td>\n      <td>6°37'56.27\"E</td>\n      <td>6°54'33.22\"E</td>\n      <td>50°59'31.93\"N</td>\n      <td>50°46'19.53\"N</td>\n    </tr>\n    <tr>\n      <th>24</th>\n      <td>https://doi.org/10.15454/2TWG8B</td>\n      <td>1.0</td>\n      <td>2021-05-28 09:16:27+00:00</td>\n      <td>Recherche Data Gouv</td>\n      <td>TEMPO</td>\n      <td>NaN</td>\n      <td>2°49</td>\n      <td>48°80</td>\n      <td>NaN</td>\n    </tr>\n    <tr>\n      <th>37</th>\n      <td>https://doi.org/10.15454/CLYPS4</td>\n      <td>2.0</td>\n      <td>2020-01-30 17:38:02+00:00</td>\n      <td>Recherche Data Gouv</td>\n      <td>TEMPO</td>\n      <td>NaN</td>\n      <td>4°52'41.69\"E</td>\n      <td>43°54'59.63\"N</td>\n      <td>NaN</td>\n    </tr>\n    <tr>\n      <th>38</th>\n      <td>https://doi.org/10.15454/D4MJMJ</td>\n      <td>3.1</td>\n      <td>2022-01-14 10:22:28+00:00</td>\n      <td>Recherche Data Gouv</td>\n      <td>pheno_ueh</td>\n      <td>-0.5966699246002216</td>\n      <td>47.674806960947606</td>\n      <td>NaN</td>\n      <td>NaN</td>\n    </tr>\n  </tbody>\n</table></div>"
     },
     "execution_count": 21,
     "metadata": {},
     "output_type": "execute_result"
    }
   ],
   "source": [
    "# Create dataframe with metadata of only datasets with \"invalid\" bounding box metadata\n",
    "datasetsWithInvalidBBMetadataDF = (\n",
    "    # Drop all but the needed columns\n",
    "    geospatialDatasetMetadataInDataverseInstallationsDF\n",
    "        # Remove all datasets except those in given list of collection aliases\n",
    "        .query(\n",
    "        'dataset_pid_url in @datasetsWithInvalidBBMetadataList')\n",
    ")\n",
    "datasetsWithInvalidBBMetadataDF.head()"
   ],
   "metadata": {
    "collapsed": false,
    "pycharm": {
     "name": "#%%\n"
    }
   }
  },
  {
   "cell_type": "code",
   "execution_count": 22,
   "outputs": [],
   "source": [
    "datasetsWithInvalidBBMetadataDF.to_csv('datasetsWithInvalidBBMetadataDF.csv', index=False)"
   ],
   "metadata": {
    "collapsed": false,
    "pycharm": {
     "name": "#%%\n"
    }
   }
  },
  {
   "cell_type": "code",
   "execution_count": 22,
   "outputs": [],
   "source": [],
   "metadata": {
    "collapsed": false,
    "pycharm": {
     "name": "#%%\n"
    }
   }
  }
 ],
 "metadata": {
  "kernelspec": {
   "display_name": "Python 3",
   "language": "python",
   "name": "python3"
  },
  "language_info": {
   "codemirror_mode": {
    "name": "ipython",
    "version": 2
   },
   "file_extension": ".py",
   "mimetype": "text/x-python",
   "name": "python",
   "nbconvert_exporter": "python",
   "pygments_lexer": "ipython2",
   "version": "2.7.6"
  }
 },
 "nbformat": 4,
 "nbformat_minor": 0
}