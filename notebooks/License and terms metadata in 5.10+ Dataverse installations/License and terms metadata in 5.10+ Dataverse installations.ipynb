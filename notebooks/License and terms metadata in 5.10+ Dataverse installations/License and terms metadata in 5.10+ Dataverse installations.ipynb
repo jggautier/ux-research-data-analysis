{
 "cells": [
  {
   "cell_type": "code",
   "execution_count": null,
   "outputs": [],
   "source": [
    "import csv\n",
    "import json\n",
    "import pandas as pd"
   ],
   "metadata": {
    "collapsed": false,
    "pycharm": {
     "name": "#%%\n"
    }
   }
  },
  {
   "cell_type": "code",
   "execution_count": 3,
   "outputs": [],
   "source": [
    "def to_str(item):\n",
    "    return str(item)"
   ],
   "metadata": {
    "collapsed": false,
    "pycharm": {
     "name": "#%%\n"
    }
   }
  },
  {
   "cell_type": "code",
   "execution_count": 27,
   "outputs": [],
   "source": [
    "installationsWithMultipleLicenseUpdate = ['Arca Dados', 'ASU Library Research Data Repository', 'CIDACS', 'CIMMYT Research Data', 'CoronaWhy Dataverse', 'CUHK Research Data Repository', 'DANS Data Station Archaeology', 'Dartmouth Dataverse', 'data.sciencespo', 'Dataverse e-cienciaDatos', 'DataverseNL', 'DOREL', 'DR-NTU (Data)', 'DUnAs', 'Edmond', 'FGV Dataverse', 'G√∂ttingen Research Online', 'George Mason University Dataverse', 'HeiDATA', 'International Potato Center', 'Italian Institute of Technology (IIT)', 'KEEN Data Management Platform', 'KU Leuven RDR', 'Libra Data', 'Lithuanian Data Archive for Social Sciences and Humanities (LiDA)', 'MELDATA', 'ODISSEI Portal', 'QDR Main Collection', 'Repositorio de Datos Acad√©micos RDA-UNR', 'Texas Data Repository Dataverse', 'TRR170-DB', 'UCLA Dataverse', 'UNB Libraries Dataverse', 'University of Manitoba Dataverse', 'VTTI']"
   ],
   "metadata": {
    "collapsed": false,
    "pycharm": {
     "name": "#%%\n"
    }
   }
  },
  {
   "cell_type": "code",
   "execution_count": 5,
   "outputs": [
    {
     "data": {
      "text/plain": "                  dataset_pid                         dataset_pid_url  \\\n0     doi:10.48370/OFD/DBJUEM     https://doi.org/10.48370/OFD/DBJUEM   \n1     doi:10.21410/7E4/4WG94W     https://doi.org/10.21410/7E4/4WG94W   \n2      doi:10.7910/DVN/5PRYPC      https://doi.org/10.7910/DVN/5PRYPC   \n3  doi:10.17026/dans-2zm-dsmz  https://doi.org/10.17026/dans-2zm-dsmz   \n4       doi:10.7910/DVN/VIE1H       https://doi.org/10.7910/DVN/VIE1H   \n\n  dataset_version_number     license_name  \\\n0                    1.0             NONE   \n1                    2.1                    \n2                    4.0          CC0 1.0   \n3                    1.0  CC-BY-NC-SA-4.0   \n4                  248.0                    \n\n                                        license_uri  \\\n0                                                     \n1                                                     \n2  http://creativecommons.org/publicdomain/zero/1.0   \n3  http://creativecommons.org/licenses/by-nc-sa/4.0   \n4                                                     \n\n                                        terms_of_use  \\\n0  <a href=\"http://creativecommons.org/licenses/b...   \n1  This dataset is made available without informa...   \n2                                                      \n3                                                      \n4                                                      \n\n  confidentiality_declaration special_permissions restrictions  \\\n0                                                                \n1                                                                \n2                                                                \n3                                                                \n4                                                                \n\n  citation_requirements depositor_requirements conditions disclaimer  \\\n0                                                                      \n1                                                                      \n2                                                                      \n3                                                                      \n4                                                                      \n\n  terms_of_access data_access_place original_archive availability_status  \\\n0                                                                          \n1                                                                          \n2                                                                          \n3                                                                          \n4                                                                          \n\n  contact_for_access size_of_collection study_completion  \n0                                                         \n1                                                         \n2                                                         \n3                                                         \n4                                                         ",
      "text/html": "<div><div id=2af83cf4-1b13-4592-9daa-c35ab5a336ed style=\"display:none; background-color:#9D6CFF; color:white; width:200px; height:30px; padding-left:5px; border-radius:4px; flex-direction:row; justify-content:space-around; align-items:center;\" onmouseover=\"this.style.backgroundColor='#BA9BF8'\" onmouseout=\"this.style.backgroundColor='#9D6CFF'\" onclick=\"window.commands?.execute('create-mitosheet-from-dataframe-output');\">See Full Dataframe in Mito</div> <script> if (window.commands.hasCommand('create-mitosheet-from-dataframe-output')) document.getElementById('2af83cf4-1b13-4592-9daa-c35ab5a336ed').style.display = 'flex' </script> <table border=\"1\" class=\"dataframe\">\n  <thead>\n    <tr style=\"text-align: right;\">\n      <th></th>\n      <th>dataset_pid</th>\n      <th>dataset_pid_url</th>\n      <th>dataset_version_number</th>\n      <th>license_name</th>\n      <th>license_uri</th>\n      <th>terms_of_use</th>\n      <th>confidentiality_declaration</th>\n      <th>special_permissions</th>\n      <th>restrictions</th>\n      <th>citation_requirements</th>\n      <th>depositor_requirements</th>\n      <th>conditions</th>\n      <th>disclaimer</th>\n      <th>terms_of_access</th>\n      <th>data_access_place</th>\n      <th>original_archive</th>\n      <th>availability_status</th>\n      <th>contact_for_access</th>\n      <th>size_of_collection</th>\n      <th>study_completion</th>\n    </tr>\n  </thead>\n  <tbody>\n    <tr>\n      <th>0</th>\n      <td>doi:10.48370/OFD/DBJUEM</td>\n      <td>https://doi.org/10.48370/OFD/DBJUEM</td>\n      <td>1.0</td>\n      <td>NONE</td>\n      <td></td>\n      <td>&lt;a href=\"http://creativecommons.org/licenses/by/4.0/\" target=\"_blank\" rel=\"nofollow\"&gt;&lt;img alt=\"Creative Commons License\" src=\"https://i.creativecommons.org/l/by/4.0/88x31.png\"&gt;&lt;/a&gt; &lt;br&gt; These data and documents are licensed under a &lt;a href=\"http://creativecommons.org/licenses/by/4.0/\" target=\"_blank\" rel=\"nofollow\"&gt; Creative Commons Attribution 4.0 International license.&lt;/a&gt; You may copy, distribute and transmit the data as long as you acknowledge the source through proper &lt;a href=\"http://best-practices.dataverse.org/data-citation/\" target=\"_blank\" rel=\"nofollow\"&gt;data citation&lt;/a&gt;.</td>\n      <td></td>\n      <td></td>\n      <td></td>\n      <td></td>\n      <td></td>\n      <td></td>\n      <td></td>\n      <td></td>\n      <td></td>\n      <td></td>\n      <td></td>\n      <td></td>\n      <td></td>\n      <td></td>\n    </tr>\n    <tr>\n      <th>1</th>\n      <td>doi:10.21410/7E4/4WG94W</td>\n      <td>https://doi.org/10.21410/7E4/4WG94W</td>\n      <td>2.1</td>\n      <td></td>\n      <td></td>\n      <td>This dataset is made available without information on how it can be used. You should communicate with the Contact(s) specified before use.</td>\n      <td></td>\n      <td></td>\n      <td></td>\n      <td></td>\n      <td></td>\n      <td></td>\n      <td></td>\n      <td></td>\n      <td></td>\n      <td></td>\n      <td></td>\n      <td></td>\n      <td></td>\n      <td></td>\n    </tr>\n    <tr>\n      <th>2</th>\n      <td>doi:10.7910/DVN/5PRYPC</td>\n      <td>https://doi.org/10.7910/DVN/5PRYPC</td>\n      <td>4.0</td>\n      <td>CC0 1.0</td>\n      <td>http://creativecommons.org/publicdomain/zero/1.0</td>\n      <td></td>\n      <td></td>\n      <td></td>\n      <td></td>\n      <td></td>\n      <td></td>\n      <td></td>\n      <td></td>\n      <td></td>\n      <td></td>\n      <td></td>\n      <td></td>\n      <td></td>\n      <td></td>\n      <td></td>\n    </tr>\n    <tr>\n      <th>3</th>\n      <td>doi:10.17026/dans-2zm-dsmz</td>\n      <td>https://doi.org/10.17026/dans-2zm-dsmz</td>\n      <td>1.0</td>\n      <td>CC-BY-NC-SA-4.0</td>\n      <td>http://creativecommons.org/licenses/by-nc-sa/4.0</td>\n      <td></td>\n      <td></td>\n      <td></td>\n      <td></td>\n      <td></td>\n      <td></td>\n      <td></td>\n      <td></td>\n      <td></td>\n      <td></td>\n      <td></td>\n      <td></td>\n      <td></td>\n      <td></td>\n      <td></td>\n    </tr>\n    <tr>\n      <th>4</th>\n      <td>doi:10.7910/DVN/VIE1H</td>\n      <td>https://doi.org/10.7910/DVN/VIE1H</td>\n      <td>248.0</td>\n      <td></td>\n      <td></td>\n      <td></td>\n      <td></td>\n      <td></td>\n      <td></td>\n      <td></td>\n      <td></td>\n      <td></td>\n      <td></td>\n      <td></td>\n      <td></td>\n      <td></td>\n      <td></td>\n      <td></td>\n      <td></td>\n      <td></td>\n    </tr>\n  </tbody>\n</table></div>"
     },
     "execution_count": 5,
     "metadata": {},
     "output_type": "execute_result"
    }
   ],
   "source": [
    "licenseMetadataDF = pd.read_csv(\n",
    "    'licenses_and_terms_2022.10.02-2022.10.03.csv',\n",
    "    sep=',', na_filter=False,\n",
    "    converters={'dataset_version_number': to_str})\n",
    "\n",
    "# Preview data\n",
    "licenseMetadataDF.head()"
   ],
   "metadata": {
    "collapsed": false,
    "pycharm": {
     "name": "#%%\n"
    }
   }
  },
  {
   "cell_type": "code",
   "execution_count": 6,
   "outputs": [
    {
     "data": {
      "text/plain": "  installation                 dataset_pid  \\\n0       CIDACS  doi:10.57833/cidacs/WV4JWB   \n1       CIDACS  doi:10.57833/cidacs/TGAIVO   \n2       CIDACS  doi:10.57833/cidacs/0FZP7V   \n3       CIDACS  doi:10.57833/cidacs/5BMSIX   \n4       CIDACS  doi:10.57833/cidacs/I56ZVA   \n\n                          dataset_pid_url dataverse_alias  \\\n0  https://doi.org/10.57833/cidacs/WV4JWB        ProjZika   \n1  https://doi.org/10.57833/cidacs/TGAIVO        ProjZika   \n2  https://doi.org/10.57833/cidacs/0FZP7V        ProjZika   \n3  https://doi.org/10.57833/cidacs/5BMSIX      ProjGates0   \n4  https://doi.org/10.57833/cidacs/I56ZVA      ProjGates0   \n\n                                      dataverse_name  \\\n0  Plataforma de vigilância de longo prazo para a...   \n1  Plataforma de vigilância de longo prazo para a...   \n2  Plataforma de vigilância de longo prazo para a...   \n3  Projeto Gates - A coorte de 100 milhões de bra...   \n4  Projeto Gates - A coorte de 100 milhões de bra...   \n\n   dataverse_json_export_saved  \n0                         True  \n1                         True  \n2                         True  \n3                         True  \n4                         True  ",
      "text/html": "<div><div id=c27417ca-4d3e-4d2a-b1d4-9e185e961919 style=\"display:none; background-color:#9D6CFF; color:white; width:200px; height:30px; padding-left:5px; border-radius:4px; flex-direction:row; justify-content:space-around; align-items:center;\" onmouseover=\"this.style.backgroundColor='#BA9BF8'\" onmouseout=\"this.style.backgroundColor='#9D6CFF'\" onclick=\"window.commands?.execute('create-mitosheet-from-dataframe-output');\">See Full Dataframe in Mito</div> <script> if (window.commands.hasCommand('create-mitosheet-from-dataframe-output')) document.getElementById('c27417ca-4d3e-4d2a-b1d4-9e185e961919').style.display = 'flex' </script> <table border=\"1\" class=\"dataframe\">\n  <thead>\n    <tr style=\"text-align: right;\">\n      <th></th>\n      <th>installation</th>\n      <th>dataset_pid</th>\n      <th>dataset_pid_url</th>\n      <th>dataverse_alias</th>\n      <th>dataverse_name</th>\n      <th>dataverse_json_export_saved</th>\n    </tr>\n  </thead>\n  <tbody>\n    <tr>\n      <th>0</th>\n      <td>CIDACS</td>\n      <td>doi:10.57833/cidacs/WV4JWB</td>\n      <td>https://doi.org/10.57833/cidacs/WV4JWB</td>\n      <td>ProjZika</td>\n      <td>Plataforma de vigilância de longo prazo para a Zika e Microcefalia no âmbito do SUS</td>\n      <td>True</td>\n    </tr>\n    <tr>\n      <th>1</th>\n      <td>CIDACS</td>\n      <td>doi:10.57833/cidacs/TGAIVO</td>\n      <td>https://doi.org/10.57833/cidacs/TGAIVO</td>\n      <td>ProjZika</td>\n      <td>Plataforma de vigilância de longo prazo para a Zika e Microcefalia no âmbito do SUS</td>\n      <td>True</td>\n    </tr>\n    <tr>\n      <th>2</th>\n      <td>CIDACS</td>\n      <td>doi:10.57833/cidacs/0FZP7V</td>\n      <td>https://doi.org/10.57833/cidacs/0FZP7V</td>\n      <td>ProjZika</td>\n      <td>Plataforma de vigilância de longo prazo para a Zika e Microcefalia no âmbito do SUS</td>\n      <td>True</td>\n    </tr>\n    <tr>\n      <th>3</th>\n      <td>CIDACS</td>\n      <td>doi:10.57833/cidacs/5BMSIX</td>\n      <td>https://doi.org/10.57833/cidacs/5BMSIX</td>\n      <td>ProjGates0</td>\n      <td>Projeto Gates - A coorte de 100 milhões de brasileiros</td>\n      <td>True</td>\n    </tr>\n    <tr>\n      <th>4</th>\n      <td>CIDACS</td>\n      <td>doi:10.57833/cidacs/I56ZVA</td>\n      <td>https://doi.org/10.57833/cidacs/I56ZVA</td>\n      <td>ProjGates0</td>\n      <td>Projeto Gates - A coorte de 100 milhões de brasileiros</td>\n      <td>True</td>\n    </tr>\n  </tbody>\n</table></div>"
     },
     "execution_count": 6,
     "metadata": {},
     "output_type": "execute_result"
    }
   ],
   "source": [
    "datasetMetadataDF = pd.read_csv(\n",
    "    'dataset_pids_from_most_known_dataverse_installations.csv',\n",
    "    sep=',', na_filter=False)\n",
    "\n",
    "# Preview data\n",
    "datasetMetadataDF.head()"
   ],
   "metadata": {
    "collapsed": false,
    "pycharm": {
     "name": "#%%\n"
    }
   }
  },
  {
   "cell_type": "code",
   "execution_count": 9,
   "outputs": [
    {
     "name": "stdout",
     "output_type": "stream",
     "text": [
      "Number of dataset versions licenseMetadataDF: 473910\n",
      "Number of datasets in licenseMetadataDF: 340857\n",
      "Number of datasets in datasetMetadataDF: 340859\n"
     ]
    }
   ],
   "source": [
    "# Get the counts of dataset versions and counts of datasets in the licenseMetadataDF and datasetMetadataDF dataframes\n",
    "print(f'Number of dataset versions licenseMetadataDF: {len(licenseMetadataDF)}')\n",
    "print('Number of datasets in licenseMetadataDF: %s' % (len(pd.unique(licenseMetadataDF['dataset_pid']))))\n",
    "\n",
    "\n",
    "print(f'Number of datasets in datasetMetadataDF: {len(datasetMetadataDF)}')"
   ],
   "metadata": {
    "collapsed": false,
    "pycharm": {
     "name": "#%%\n"
    }
   }
  },
  {
   "cell_type": "code",
   "execution_count": 10,
   "outputs": [
    {
     "name": "stdout",
     "output_type": "stream",
     "text": [
      "Datasets in datasetsInlicenseMetadataDFList: 340857\n",
      "Datasets in basicMetadataDF: 340859\n",
      "Number of datasets in one table and not the other: 0\n"
     ]
    }
   ],
   "source": [
    "# Make sure the two dataframes, allDatasetPIDsDF and basicMetadataDF, contain the same datasets\n",
    "datasetsInlicenseMetadataDFList = set(licenseMetadataDF['dataset_pid'].tolist())\n",
    "datasetsInbasicMetadataDFList = set(datasetMetadataDF['dataset_pid'].tolist())\n",
    "\n",
    "print(f'Datasets in datasetsInlicenseMetadataDFList: {len(datasetsInlicenseMetadataDFList)}')\n",
    "print(f'Datasets in basicMetadataDF: {len(datasetsInbasicMetadataDFList)}')\n",
    "\n",
    "# Create list of dataset PIDs that exist in one list and not the other, if any\n",
    "difference = datasetsInlicenseMetadataDFList - datasetsInbasicMetadataDFList\n",
    "difference = list(difference)\n",
    "print(f'Number of datasets in one table and not the other: {len(difference)}')"
   ],
   "metadata": {
    "collapsed": false,
    "pycharm": {
     "name": "#%%\n"
    }
   }
  },
  {
   "cell_type": "code",
   "execution_count": 36,
   "outputs": [
    {
     "name": "stdout",
     "output_type": "stream",
     "text": [
      "473910\n"
     ]
    }
   ],
   "source": [
    "# Merge the two dataframes\n",
    "licenseAndBasicMetadataDF = pd.merge(\n",
    "    licenseMetadataDF, datasetMetadataDF,\n",
    "    how='inner',\n",
    "    on=[\n",
    "        'dataset_pid',\n",
    "        'dataset_pid_url'])\n",
    "print(len(licenseAndBasicMetadataDF))"
   ],
   "metadata": {
    "collapsed": false,
    "pycharm": {
     "name": "#%%\n"
    }
   }
  },
  {
   "cell_type": "code",
   "execution_count": 30,
   "outputs": [
    {
     "name": "stdout",
     "output_type": "stream",
     "text": [
      "<class 'pandas.core.frame.DataFrame'>\n",
      "Int64Index: 473910 entries, 0 to 473909\n",
      "Data columns (total 24 columns):\n",
      " #   Column                       Non-Null Count   Dtype \n",
      "---  ------                       --------------   ----- \n",
      " 0   dataset_pid                  473910 non-null  object\n",
      " 1   dataset_pid_url              473910 non-null  object\n",
      " 2   dataset_version_number       473910 non-null  object\n",
      " 3   license_name                 473910 non-null  object\n",
      " 4   license_uri                  473910 non-null  object\n",
      " 5   terms_of_use                 473910 non-null  object\n",
      " 6   confidentiality_declaration  473910 non-null  object\n",
      " 7   special_permissions          473910 non-null  object\n",
      " 8   restrictions                 473910 non-null  object\n",
      " 9   citation_requirements        473910 non-null  object\n",
      " 10  depositor_requirements       473910 non-null  object\n",
      " 11  conditions                   473910 non-null  object\n",
      " 12  disclaimer                   473910 non-null  object\n",
      " 13  terms_of_access              473910 non-null  object\n",
      " 14  data_access_place            473910 non-null  object\n",
      " 15  original_archive             473910 non-null  object\n",
      " 16  availability_status          473910 non-null  object\n",
      " 17  contact_for_access           473910 non-null  object\n",
      " 18  size_of_collection           473910 non-null  object\n",
      " 19  study_completion             473910 non-null  object\n",
      " 20  installation                 473910 non-null  object\n",
      " 21  dataverse_alias              473910 non-null  object\n",
      " 22  dataverse_name               473910 non-null  object\n",
      " 23  dataverse_json_export_saved  473910 non-null  bool  \n",
      "dtypes: bool(1), object(23)\n",
      "memory usage: 87.2+ MB\n"
     ]
    }
   ],
   "source": [
    "licenseAndBasicMetadataDF.info()"
   ],
   "metadata": {
    "collapsed": false,
    "pycharm": {
     "name": "#%%\n"
    }
   }
  },
  {
   "cell_type": "code",
   "execution_count": 37,
   "outputs": [
    {
     "name": "stdout",
     "output_type": "stream",
     "text": [
      "183018\n"
     ]
    }
   ],
   "source": [
    "# Remove any datasets not published in installations listed in the installationList\n",
    "licenseAndBasicMetadataDF = (\n",
    "    licenseAndBasicMetadataDF\n",
    "        .query(\n",
    "        # Remove deposits published in installations that don't have the multiple license update\n",
    "        'installation in @installationsWithMultipleLicenseUpdate')\n",
    "        .reset_index(drop=True, inplace=False)\n",
    ")\n",
    "print(len(licenseAndBasicMetadataDF))"
   ],
   "metadata": {
    "collapsed": false,
    "pycharm": {
     "name": "#%%\n"
    }
   }
  },
  {
   "cell_type": "code",
   "execution_count": 38,
   "outputs": [
    {
     "name": "stdout",
     "output_type": "stream",
     "text": [
      "32\n"
     ]
    }
   ],
   "source": [
    "installations = set(licenseAndBasicMetadataDF['installation'].tolist())\n",
    "print(len(installations))"
   ],
   "metadata": {
    "collapsed": false,
    "pycharm": {
     "name": "#%%\n"
    }
   }
  },
  {
   "cell_type": "code",
   "execution_count": 33,
   "outputs": [
    {
     "data": {
      "text/plain": "   index              dataset_pid                      dataset_pid_url  \\\n0      1  doi:10.21410/7E4/4WG94W  https://doi.org/10.21410/7E4/4WG94W   \n1      2  doi:10.21410/7E4/4WG94W  https://doi.org/10.21410/7E4/4WG94W   \n2      3  doi:10.21410/7E4/4WG94W  https://doi.org/10.21410/7E4/4WG94W   \n3      4  doi:10.21410/7E4/4WG94W  https://doi.org/10.21410/7E4/4WG94W   \n4      5  doi:10.21410/7E4/4WG94W  https://doi.org/10.21410/7E4/4WG94W   \n\n  dataset_version_number license_name license_uri  \\\n0                    2.1                            \n1                    2.0                            \n2                    4.0                            \n3                    1.0                            \n4                    3.0                            \n\n                                        terms_of_use  \\\n0  This dataset is made available without informa...   \n1  This dataset is made available without informa...   \n2  This dataset is made available without informa...   \n3  This dataset is made available without informa...   \n4  This dataset is made available without informa...   \n\n  confidentiality_declaration special_permissions restrictions  ...  \\\n0                                                               ...   \n1                                                               ...   \n2                                                               ...   \n3                                                               ...   \n4                                                               ...   \n\n  data_access_place original_archive availability_status contact_for_access  \\\n0                                                                             \n1                                                                             \n2                                                                             \n3                                                                             \n4                                                                             \n\n  size_of_collection study_completion     installation dataverse_alias  \\\n0                                      data.sciencespo            cdsp   \n1                                      data.sciencespo            cdsp   \n2                                      data.sciencespo            cdsp   \n3                                      data.sciencespo            cdsp   \n4                                      data.sciencespo            cdsp   \n\n              dataverse_name dataverse_json_export_saved  \n0  Banque de données du CDSP                        True  \n1  Banque de données du CDSP                        True  \n2  Banque de données du CDSP                        True  \n3  Banque de données du CDSP                        True  \n4  Banque de données du CDSP                        True  \n\n[5 rows x 25 columns]",
      "text/html": "<div><div id=cd4461c1-b6c2-4804-b10d-169047bb83b9 style=\"display:none; background-color:#9D6CFF; color:white; width:200px; height:30px; padding-left:5px; border-radius:4px; flex-direction:row; justify-content:space-around; align-items:center;\" onmouseover=\"this.style.backgroundColor='#BA9BF8'\" onmouseout=\"this.style.backgroundColor='#9D6CFF'\" onclick=\"window.commands?.execute('create-mitosheet-from-dataframe-output');\">See Full Dataframe in Mito</div> <script> if (window.commands.hasCommand('create-mitosheet-from-dataframe-output')) document.getElementById('cd4461c1-b6c2-4804-b10d-169047bb83b9').style.display = 'flex' </script> <table border=\"1\" class=\"dataframe\">\n  <thead>\n    <tr style=\"text-align: right;\">\n      <th></th>\n      <th>index</th>\n      <th>dataset_pid</th>\n      <th>dataset_pid_url</th>\n      <th>dataset_version_number</th>\n      <th>license_name</th>\n      <th>license_uri</th>\n      <th>terms_of_use</th>\n      <th>confidentiality_declaration</th>\n      <th>special_permissions</th>\n      <th>restrictions</th>\n      <th>...</th>\n      <th>data_access_place</th>\n      <th>original_archive</th>\n      <th>availability_status</th>\n      <th>contact_for_access</th>\n      <th>size_of_collection</th>\n      <th>study_completion</th>\n      <th>installation</th>\n      <th>dataverse_alias</th>\n      <th>dataverse_name</th>\n      <th>dataverse_json_export_saved</th>\n    </tr>\n  </thead>\n  <tbody>\n    <tr>\n      <th>0</th>\n      <td>1</td>\n      <td>doi:10.21410/7E4/4WG94W</td>\n      <td>https://doi.org/10.21410/7E4/4WG94W</td>\n      <td>2.1</td>\n      <td></td>\n      <td></td>\n      <td>This dataset is made available without information on how it can be used. You should communicate with the Contact(s) specified before use.</td>\n      <td></td>\n      <td></td>\n      <td></td>\n      <td>...</td>\n      <td></td>\n      <td></td>\n      <td></td>\n      <td></td>\n      <td></td>\n      <td></td>\n      <td>data.sciencespo</td>\n      <td>cdsp</td>\n      <td>Banque de données du CDSP</td>\n      <td>True</td>\n    </tr>\n    <tr>\n      <th>1</th>\n      <td>2</td>\n      <td>doi:10.21410/7E4/4WG94W</td>\n      <td>https://doi.org/10.21410/7E4/4WG94W</td>\n      <td>2.0</td>\n      <td></td>\n      <td></td>\n      <td>This dataset is made available without information on how it can be used. You should communicate with the Contact(s) specified before use.</td>\n      <td></td>\n      <td></td>\n      <td></td>\n      <td>...</td>\n      <td></td>\n      <td></td>\n      <td></td>\n      <td></td>\n      <td></td>\n      <td></td>\n      <td>data.sciencespo</td>\n      <td>cdsp</td>\n      <td>Banque de données du CDSP</td>\n      <td>True</td>\n    </tr>\n    <tr>\n      <th>2</th>\n      <td>3</td>\n      <td>doi:10.21410/7E4/4WG94W</td>\n      <td>https://doi.org/10.21410/7E4/4WG94W</td>\n      <td>4.0</td>\n      <td></td>\n      <td></td>\n      <td>This dataset is made available without information on how it can be used. You should communicate with the Contact(s) specified before use.</td>\n      <td></td>\n      <td></td>\n      <td></td>\n      <td>...</td>\n      <td></td>\n      <td></td>\n      <td></td>\n      <td></td>\n      <td></td>\n      <td></td>\n      <td>data.sciencespo</td>\n      <td>cdsp</td>\n      <td>Banque de données du CDSP</td>\n      <td>True</td>\n    </tr>\n    <tr>\n      <th>3</th>\n      <td>4</td>\n      <td>doi:10.21410/7E4/4WG94W</td>\n      <td>https://doi.org/10.21410/7E4/4WG94W</td>\n      <td>1.0</td>\n      <td></td>\n      <td></td>\n      <td>This dataset is made available without information on how it can be used. You should communicate with the Contact(s) specified before use.</td>\n      <td></td>\n      <td></td>\n      <td></td>\n      <td>...</td>\n      <td></td>\n      <td></td>\n      <td></td>\n      <td></td>\n      <td></td>\n      <td></td>\n      <td>data.sciencespo</td>\n      <td>cdsp</td>\n      <td>Banque de données du CDSP</td>\n      <td>True</td>\n    </tr>\n    <tr>\n      <th>4</th>\n      <td>5</td>\n      <td>doi:10.21410/7E4/4WG94W</td>\n      <td>https://doi.org/10.21410/7E4/4WG94W</td>\n      <td>3.0</td>\n      <td></td>\n      <td></td>\n      <td>This dataset is made available without information on how it can be used. You should communicate with the Contact(s) specified before use.</td>\n      <td></td>\n      <td></td>\n      <td></td>\n      <td>...</td>\n      <td></td>\n      <td></td>\n      <td></td>\n      <td></td>\n      <td></td>\n      <td></td>\n      <td>data.sciencespo</td>\n      <td>cdsp</td>\n      <td>Banque de données du CDSP</td>\n      <td>True</td>\n    </tr>\n  </tbody>\n</table></div>"
     },
     "execution_count": 33,
     "metadata": {},
     "output_type": "execute_result"
    }
   ],
   "source": [
    "licenseAndBasicMetadataDF.head()"
   ],
   "metadata": {
    "collapsed": false,
    "pycharm": {
     "name": "#%%\n"
    }
   }
  },
  {
   "cell_type": "code",
   "execution_count": 40,
   "outputs": [
    {
     "name": "stdout",
     "output_type": "stream",
     "text": [
      "183018\n"
     ]
    }
   ],
   "source": [
    "# For each of these datasets, create a new column that's a concatenation of what's entered in all of the Terms fields\n",
    "termsColumns = [\n",
    "    'terms_of_use',\n",
    "    'confidentiality_declaration',\n",
    "    'special_permissions',\n",
    "    'restrictions',\n",
    "    'citation_requirements',\n",
    "    'depositor_requirements',\n",
    "    'conditions',\n",
    "    'disclaimer',\n",
    "    'terms_of_access',\n",
    "    'data_access_place',\n",
    "    'original_archive',\n",
    "    'availability_status',\n",
    "    'contact_for_access',\n",
    "    'size_of_collection',\n",
    "    'study_completion'\n",
    "]\n",
    "licenseAndBasicMetadataDF['combined_terms'] = licenseAndBasicMetadataDF[termsColumns].apply(lambda row: ' '.join(row.values.astype(str)), axis=1)\n",
    "\n",
    "# Strip any leading and trailing white spaces from values the columns\n",
    "licenseAndBasicMetadataDF = licenseAndBasicMetadataDF.apply(lambda x: x.str.strip() if x.dtype == 'object' else x)\n",
    "print(len(licenseAndBasicMetadataDF))"
   ],
   "metadata": {
    "collapsed": false,
    "pycharm": {
     "name": "#%%\n"
    }
   }
  },
  {
   "cell_type": "code",
   "execution_count": 41,
   "outputs": [
    {
     "name": "stdout",
     "output_type": "stream",
     "text": [
      "183018\n"
     ]
    }
   ],
   "source": [
    "licenseAndBasicMetadataDF = licenseAndBasicMetadataDF[[\n",
    "    'installation', 'dataverse_alias', 'dataverse_name', 'dataset_pid', 'dataset_pid_url', 'dataset_version_number', 'license_name', 'license_uri', 'combined_terms', 'terms_of_use', 'confidentiality_declaration', 'special_permissions', 'restrictions', 'citation_requirements', 'depositor_requirements', 'conditions', 'disclaimer', 'terms_of_access', 'data_access_place', 'original_archive', 'availability_status', 'contact_for_access', 'size_of_collection', 'study_completion'\n",
    "]]\n",
    "print(len(licenseAndBasicMetadataDF))"
   ],
   "metadata": {
    "collapsed": false,
    "pycharm": {
     "name": "#%%\n"
    }
   }
  },
  {
   "cell_type": "code",
   "execution_count": 42,
   "outputs": [],
   "source": [
    "licenseAndBasicMetadataDF.to_csv('licenseAndBasicMetadataDF.csv', index=False)"
   ],
   "metadata": {
    "collapsed": false,
    "pycharm": {
     "name": "#%%\n"
    }
   }
  },
  {
   "cell_type": "code",
   "execution_count": null,
   "outputs": [],
   "source": [],
   "metadata": {
    "collapsed": false,
    "pycharm": {
     "name": "#%%\n"
    }
   }
  }
 ],
 "metadata": {
  "kernelspec": {
   "display_name": "Python 3",
   "language": "python",
   "name": "python3"
  },
  "language_info": {
   "codemirror_mode": {
    "name": "ipython",
    "version": 2
   },
   "file_extension": ".py",
   "mimetype": "text/x-python",
   "name": "python",
   "nbconvert_exporter": "python",
   "pygments_lexer": "ipython2",
   "version": "2.7.6"
  }
 },
 "nbformat": 4,
 "nbformat_minor": 0
}