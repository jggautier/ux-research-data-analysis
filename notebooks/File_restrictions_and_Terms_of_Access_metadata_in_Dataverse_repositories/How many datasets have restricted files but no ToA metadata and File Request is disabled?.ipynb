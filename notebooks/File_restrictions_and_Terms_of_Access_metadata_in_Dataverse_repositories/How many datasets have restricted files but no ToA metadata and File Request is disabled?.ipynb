{
 "cells": [
  {
   "cell_type": "markdown",
   "metadata": {},
   "source": [
    "How many datasets have restricted files but:\n",
    "1. Have no Terms of Access metadata and\n",
    "2. Have File Request feature disabled?\n",
    "\n",
    "In what Dataverse repositories are these datasets published?\n"
   ]
  },
  {
   "cell_type": "markdown",
   "metadata": {},
   "source": [
    "## Get the data\n"
   ]
  },
  {
   "cell_type": "code",
   "execution_count": 2,
   "metadata": {},
   "outputs": [],
   "source": [
    "# Import data about restricted files and use of file request feature"
   ]
  },
  {
   "cell_type": "code",
   "execution_count": 3,
   "metadata": {},
   "outputs": [],
   "source": [
    "# Import data about Terms metadata, retaining only Terms of Access metadata"
   ]
  },
  {
   "cell_type": "code",
   "execution_count": 4,
   "metadata": {},
   "outputs": [],
   "source": [
    "# Merge the two dataframes, clean, get only info about latest version of each dataset, and verify data"
   ]
  },
  {
   "cell_type": "markdown",
   "metadata": {},
   "source": [
    "## Query the data"
   ]
  },
  {
   "cell_type": "code",
   "execution_count": null,
   "metadata": {},
   "outputs": [],
   "source": [
    "'''\n",
    "# Count:\n",
    "- Number of total datasets\n",
    "- Number of datasets with restricted files\n",
    "- Number of datasets with restricted files but no ToA metadata and File Request feature disabled\n",
    "\n",
    "I'll need to account for the datasets in repositories whose JSON exports don't include whether the\n",
    "files are restrited or whether the File Request feature is enabled or disabled.\n",
    "'''"
   ]
  }
 ],
 "metadata": {
  "hide_input": false,
  "kernelspec": {
   "display_name": "Python 3",
   "language": "python",
   "name": "python3"
  },
  "language_info": {
   "codemirror_mode": {
    "name": "ipython",
    "version": 3
   },
   "file_extension": ".py",
   "mimetype": "text/x-python",
   "name": "python",
   "nbconvert_exporter": "python",
   "pygments_lexer": "ipython3",
   "version": "3.7.0"
  }
 },
 "nbformat": 4,
 "nbformat_minor": 4
}
