{
 "cells": [
  {
   "cell_type": "code",
   "execution_count": 1,
   "metadata": {},
   "outputs": [],
   "source": [
    "import requests\n",
    "import json"
   ]
  },
  {
   "cell_type": "code",
   "execution_count": 43,
   "metadata": {},
   "outputs": [],
   "source": [
    "relationships = [\n",
    "    'references', \n",
    "    'is-metadata-for', \n",
    "    'has-metadata', \n",
    "    'is-supplemented-by', \n",
    "    'is-supplement-to', \n",
    "    'is-documented-by', \n",
    "    'continues', \n",
    "    'is-continued-by', \n",
    "    'is-cited-by', \n",
    "    'cites', \n",
    "    'documents', \n",
    "    'is-variant-form-of', \n",
    "    'is-source-of', \n",
    "    'is-referenced-by', \n",
    "    'compiles'\n",
    "]\n"
   ]
  },
  {
   "cell_type": "code",
   "execution_count": null,
   "metadata": {},
   "outputs": [],
   "source": [
    "datasetpid = 'doi=10.25349/d9f30m'\n",
    "pagenumber = 1\n",
    "url = 'https://api.datacite.org/events?%s&page[number]=%s&page[size]=10' % (datasetpid, pagenumber)\n",
    "response = requests.get(url)\n",
    "relationdata = response.json()"
   ]
  },
  {
   "cell_type": "code",
   "execution_count": 42,
   "metadata": {},
   "outputs": [
    {
     "name": "stdout",
     "output_type": "stream",
     "text": [
      "1\n",
      "2\n",
      "3\n",
      "4\n",
      "5\n",
      "6\n",
      "7\n",
      "8\n"
     ]
    }
   ],
   "source": [
    "total = relationdata['meta']['total-pages']\n",
    "if total > 1:\n",
    "    for pagenumber in (number+1 for number in range(total)):\n",
    "        url = 'https://api.datacite.org/events?%s&page[number]=%s&page[size]=10' % (datasetpid, pagenumber)\n",
    "        response = requests.get(url)\n",
    "        relationdata = response.json()\n",
    "        for i in relationdata['data']:\n",
    "            if i['attributes']['relation-type-id'] in relationships:\n",
    "                subject = i['attributes']['subj-id']\n",
    "                relationTypeId = i['attributes']['relation-type-id']\n",
    "                object = i['attributes']['obj-id']\n",
    "                print('%s %s %s' % (subject, relationTypeId, object))"
   ]
  },
  {
   "cell_type": "code",
   "execution_count": 17,
   "metadata": {},
   "outputs": [
    {
     "name": "stdout",
     "output_type": "stream",
     "text": [
      "https://doi.org/10.25349/d9f30m cites https://www.aoml.noaa.gov/hrd/hurdat/data_storm.html\n",
      "https://doi.org/10.25349/d9f30m cites https://doi.org/10.1029/2019gl083452\n",
      "https://doi.org/10.25349/d9f30m is-supplement-to https://www.aoml.noaa.gov/hrd/hurdat/data_storm.html\n",
      "https://doi.org/10.25349/d9f30m cites https://www.ncdc.noaa.gov/ghcnd-data-access\n"
     ]
    }
   ],
   "source": [
    "for i in relationdata['data']:\n",
    "    if i['attributes']['relation-type-id'] in relationships:\n",
    "        subject = i['attributes']['subj-id']\n",
    "        relationTypeId = i['attributes']['relation-type-id']\n",
    "        object = i['attributes']['obj-id']\n",
    "        print('%s %s %s' % (subject, relationTypeId, object))\n"
   ]
  },
  {
   "cell_type": "code",
   "execution_count": 39,
   "metadata": {
    "tags": []
   },
   "outputs": [
    {
     "name": "stdout",
     "output_type": "stream",
     "text": [
      "1\n",
      "2\n",
      "3\n",
      "4\n",
      "5\n"
     ]
    }
   ],
   "source": [
    "total = 5\n",
    "for i in (number+1 for number in range(total)):\n",
    "    print(i)"
   ]
  },
  {
   "cell_type": "code",
   "execution_count": null,
   "metadata": {},
   "outputs": [],
   "source": []
  }
 ],
 "metadata": {
  "kernelspec": {
   "display_name": "Python 3",
   "language": "python",
   "name": "python3"
  },
  "language_info": {
   "codemirror_mode": {
    "name": "ipython",
    "version": 3
   },
   "file_extension": ".py",
   "mimetype": "text/x-python",
   "name": "python",
   "nbconvert_exporter": "python",
   "pygments_lexer": "ipython3",
   "version": "3.7.0"
  }
 },
 "nbformat": 4,
 "nbformat_minor": 4
}
