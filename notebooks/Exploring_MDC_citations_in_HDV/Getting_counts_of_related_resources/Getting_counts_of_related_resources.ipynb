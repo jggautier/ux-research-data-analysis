{
 "cells": [
  {
   "cell_type": "markdown",
   "metadata": {},
   "source": [
    "This script gets the counts of relation types for each dataset in a given CSV file, where the PIDs are formatted as \"doi:####\", e.g. doi=10.7910/DVN/123456, in a 'persistent_id' column. PIDs of datasets in Dataverse repositories can be retrieved using the Dataverse APIs, by querying the repository's database if you have access to the database, or by scraping OAI-PMH feeds if the repository is publishing dataset metadata over OAI-PMH.\n",
    "\n",
    "The relation types are listed at https://support.datacite.org/docs/eventdata-guide#relation-type-id."
   ]
  },
  {
   "cell_type": "code",
   "execution_count": null,
   "metadata": {},
   "outputs": [],
   "source": [
    "import csv\n",
    "from csv import DictReader\n",
    "import requests\n",
    "import json\n"
   ]
  },
  {
   "cell_type": "code",
   "execution_count": null,
   "metadata": {},
   "outputs": [],
   "source": [
    "# Enter name of CSV file containing list of dataset PIDs\n",
    "datasetPIDFile = 'dataset_pids_Harvard Dataverse_2021.08.06_18.36.06.csv'\n",
    "\n",
    "# Name of CSV file that will store count of relationtypes\n",
    "output = 'qdr_citation_counts.csv'"
   ]
  },
  {
   "cell_type": "code",
   "execution_count": null,
   "metadata": {},
   "outputs": [],
   "source": [
    "# Read in list of dataset PIDs from given CSV or text file\n",
    "datasetPIDs = []\n",
    "\n",
    "with open(datasetPIDFile, mode='r', encoding='utf-8') as f:\n",
    "    csvDictReader = DictReader(f, delimiter=',')\n",
    "    for row in csvDictReader:\n",
    "        datasetPIDs.append(row['persistent_id'].rstrip())"
   ]
  },
  {
   "cell_type": "code",
   "execution_count": null,
   "metadata": {},
   "outputs": [],
   "source": [
    "print(len(datasetPIDs))"
   ]
  },
  {
   "cell_type": "code",
   "execution_count": null,
   "metadata": {},
   "outputs": [],
   "source": [
    "# Create CSV file for writing data requested from DataCite API\n",
    "with open(output, mode='w') as opencsvfile:\n",
    "    opencsvfile = csv.writer(opencsvfile, delimiter=',', quotechar='\"', quoting=csv.QUOTE_MINIMAL)\n",
    "    opencsvfile.writerow(['pid', 'relation-type', 'count'])\n"
   ]
  },
  {
   "cell_type": "code",
   "execution_count": null,
   "metadata": {
    "tags": []
   },
   "outputs": [],
   "source": [
    "# Create variables for keeping count of script's progress\n",
    "pidTotal = len(datasetPIDs)\n",
    "print('Saving counts of relation types of %s to CSV file' % (pidTotal))\n",
    "\n",
    "pidCount = 0\n",
    "\n",
    "for pid in datasetPIDs:\n",
    "    pidForDatacite = pid.replace(':', '=')\n",
    "    dataciteEventsAPI = 'https://api.datacite.org/events?%s&page[size]=0' % (pidForDatacite)\n",
    "    response = requests.get(dataciteEventsAPI)\n",
    "    relationData = response.json()\n",
    "    if 'relation-types' in relationData['meta'] and len(relationData['meta']['relation-types']) > 0:\n",
    "        for type in relationData['meta']['relation-types']:\n",
    "            relationType = type['id']\n",
    "            count = type['count']\n",
    "            with open(output, mode='a') as datasets:\n",
    "                datasets = csv.writer(datasets, delimiter=',', quotechar='\"', quoting=csv.QUOTE_MINIMAL)\n",
    "                datasets.writerow([pid, relationType, count])\n",
    "    pidCount += 1\n",
    "    print('%s of %s' % (pidCount, pidTotal), end='\\r', flush=True)\n"
   ]
  },
  {
   "cell_type": "code",
   "execution_count": null,
   "metadata": {},
   "outputs": [],
   "source": []
  }
 ],
 "metadata": {
  "hide_input": false,
  "kernelspec": {
   "display_name": "Python 3",
   "language": "python",
   "name": "python3"
  },
  "language_info": {
   "codemirror_mode": {
    "name": "ipython",
    "version": 3
   },
   "file_extension": ".py",
   "mimetype": "text/x-python",
   "name": "python",
   "nbconvert_exporter": "python",
   "pygments_lexer": "ipython3",
   "version": "3.7.0"
  }
 },
 "nbformat": 4,
 "nbformat_minor": 4
}
