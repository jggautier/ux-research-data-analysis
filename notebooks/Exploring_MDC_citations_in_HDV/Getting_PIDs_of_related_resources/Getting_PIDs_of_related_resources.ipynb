{
 "cells": [
  {
   "cell_type": "code",
   "execution_count": 1,
   "metadata": {},
   "outputs": [],
   "source": [
    "import csv\n",
    "from csv import DictReader\n",
    "import requests\n",
    "import json\n"
   ]
  },
  {
   "attachments": {},
   "cell_type": "markdown",
   "metadata": {},
   "source": [
    "Relation types are listed at https://support.datacite.org/docs/eventdata-guide#relation-type-id. This script looks for the resources (subjects) that are related somehow to each dataset PID (object) in the given CSV or TXT file.\n",
    "\n",
    "I'm ignoring the following relation types since I'm fairly confident that publishers aren't using these to describe the relationship between two different studies:\n",
    "- is-version-of\n",
    "- is-new-version-of\n",
    "- is-previous-version-of\n",
    "- is-part-of\n",
    "- has-part\n",
    "- is-identical-to"
   ]
  },
  {
   "cell_type": "code",
   "execution_count": 2,
   "metadata": {},
   "outputs": [],
   "source": [
    "relationTypes = [\n",
    "    'Is-cited-by',\n",
    "    'cites',\n",
    "    'is-supplement-to',\n",
    "    'is-supplemented-by',\n",
    "    'is-referenced-by',\n",
    "    'references'\n",
    "]"
   ]
  },
  {
   "cell_type": "code",
   "execution_count": 8,
   "metadata": {},
   "outputs": [],
   "source": [
    "# # Enter path to CSV or text file containing list of dataset PIDs\n",
    "# datasetPIDFile = 'dataset_pids_QDR Main Collection_2021.08.05_18.55.01.csv'\n",
    "#\n",
    "# # Read in list of dataset PIDs from given CSV or text file\n",
    "# datasetPIDs = []\n",
    "#\n",
    "# if '.csv' in datasetPIDFile:\n",
    "#     with open(datasetPIDFile, mode='r', encoding='utf-8') as f:\n",
    "#         csvDictReader = DictReader(f, delimiter=',')\n",
    "#         for row in csvDictReader:\n",
    "#             datasetPIDs.append(row['persistent_id'].rstrip())\n",
    "# elif 'txt' in datasetPIDFile:\n",
    "#     datasetPIDFile = open(datasetPIDFile, 'r')\n",
    "#     for datasetPID in datasetPIDFile:\n",
    "#         datasetPIDs.append(datasetPID.rstrip())"
   ]
  },
  {
   "cell_type": "code",
   "execution_count": 19,
   "metadata": {},
   "outputs": [
    {
     "name": "stdout",
     "output_type": "stream",
     "text": [
      "1\n"
     ]
    }
   ],
   "source": [
    "print(len(datasetPIDs))"
   ]
  },
  {
   "cell_type": "code",
   "execution_count": 14,
   "metadata": {},
   "outputs": [],
   "source": [
    "# Create CSV file for writing data requested from DataCite API\n",
    "# citationsOutputFile = 'citations_of_nih_funded_datasets.csv'\n",
    "#\n",
    "# with open(citationsOutputFile, mode='w') as opencsvfile:\n",
    "#     opencsvfile = csv.writer(opencsvfile, delimiter=',', quotechar='\"', quoting=csv.QUOTE_MINIMAL)\n",
    "#     opencsvfile.writerow(['subject', 'relation', 'object (dataset)', 'occured_at', 'timestamp'])"
   ]
  },
  {
   "cell_type": "code",
   "execution_count": 27,
   "metadata": {
    "scrolled": true,
    "tags": []
   },
   "outputs": [
    {
     "name": "stdout",
     "output_type": "stream",
     "text": [
      "{\n",
      "    \"data\": [],\n",
      "    \"meta\": {\n",
      "        \"total\": 0,\n",
      "        \"total-pages\": 0,\n",
      "        \"page\": 1\n",
      "    },\n",
      "    \"links\": {\n",
      "        \"self\": \"https://api.datacite.org/events?doi=10.7910%2FDVN%2FYETJIS&page%5Bnumber%5D=1\"\n",
      "    }\n",
      "}\n"
     ]
    }
   ],
   "source": [
    "datasetPIDs = [\n",
    "    'doi:10.7910/DVN/YETJIS']\n",
    "\n",
    "# Create variables for keeping count of script's progress\n",
    "pidCount = 1\n",
    "pidTotal = len(datasetPIDs)\n",
    "\n",
    "dataciteEventsAPI = 'https://api.datacite.org/events'\n",
    "for pid in datasetPIDs:\n",
    "    params = {\n",
    "        'doi': pid.replace('doi:', ''),\n",
    "        'page[number]': 1\n",
    "    }\n",
    "    response = requests.get(dataciteEventsAPI, params=params)\n",
    "    relationData = response.json()\n",
    "    print(json.dumps(relationData, indent=4))\n",
    "#     print('Searching for metrics for %s (%s of %s)' %(pid, pidCount, pidTotal))"
   ]
  },
  {
   "cell_type": "code",
   "execution_count": 26,
   "outputs": [
    {
     "name": "stdout",
     "output_type": "stream",
     "text": [
      "1\n"
     ]
    }
   ],
   "source": [
    "totalPages = relationData['meta']['total-pages']\n",
    "print(totalPages)"
   ],
   "metadata": {
    "collapsed": false,
    "pycharm": {
     "name": "#%%\n"
    }
   }
  },
  {
   "cell_type": "code",
   "execution_count": null,
   "metadata": {
    "collapsed": true,
    "tags": [],
    "pycharm": {
     "is_executing": true
    }
   },
   "outputs": [],
   "source": [
    "    if len(relationData['data']) > 0:\n",
    "        totalPages = relationData['meta']['total-pages']\n",
    "\n",
    "        # Initialization for paginating through Search API results and showing progress\n",
    "#         pageNumber = 1\n",
    "#         pageSize = 10\n",
    "        condition = True\n",
    "        relationCount = 0\n",
    "\n",
    "        while condition:\n",
    "#             params = params\n",
    "            response = requests.get(dataciteEventsAPI)\n",
    "            relationData = response.json()\n",
    "            for i in relationData['data']:\n",
    "                if i['attributes']['relation-type-id'] in relationships:\n",
    "                    subject = i['attributes']['subj-id']\n",
    "                    relationTypeId = i['attributes']['relation-type-id']\n",
    "                    object = i['attributes']['obj-id']\n",
    "                    occurredAt = i['attributes']['occurred-at']\n",
    "                    timeStamp = i['attributes']['timestamp']\n",
    "                    \n",
    "                    print(subject, relationTypeId, object, occurredAt, timeStamp)\n",
    "                    \n",
    "                    # Write values of the three variables to a new row in the CSV\n",
    "#                     with open('data.csv', mode='a') as datasets:\n",
    "#                         datasets = csv.writer(datasets, delimiter=',', quotechar='\"', quoting=csv.QUOTE_MINIMAL)\n",
    "#                         datasets.writerow([subject, relationTypeId, object, occurredAt, timeStamp])\n",
    "                    \n",
    "                    relationCount += 1\n",
    "\n",
    "            params['page[number]'] += 1\n",
    "            condition = params['page[number]'] <= totalPages\n",
    "    else:\n",
    "        print('No relation data found')\n",
    "    pidCount += 1"
   ]
  },
  {
   "cell_type": "code",
   "execution_count": null,
   "metadata": {},
   "outputs": [],
   "source": []
  }
 ],
 "metadata": {
  "hide_input": false,
  "kernelspec": {
   "display_name": "Python 3",
   "language": "python",
   "name": "python3"
  },
  "language_info": {
   "codemirror_mode": {
    "name": "ipython",
    "version": 3
   },
   "file_extension": ".py",
   "mimetype": "text/x-python",
   "name": "python",
   "nbconvert_exporter": "python",
   "pygments_lexer": "ipython3",
   "version": "3.7.0"
  }
 },
 "nbformat": 4,
 "nbformat_minor": 4
}