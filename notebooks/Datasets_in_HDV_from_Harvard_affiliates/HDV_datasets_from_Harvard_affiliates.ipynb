{
 "cells": [
  {
   "cell_type": "markdown",
   "source": [
    "## Goals\n",
    "In the Harvard Dataverse Repository, estimate the number of dataset authors who have some affiliation with Harvard University. Consider only the authors of published datasets (and not draft or deaccessioned datasets).\n",
    "\n",
    "The author metadata fields are made up of four child fields: author name, author affiliation, author identifier scheme, and author identifier. The author name field must be filled, while the other three fields are technically optional.\n",
    "\n",
    "Depositors must create and use an account in order to create and publish datasets and are able to enter anything they like in the author fields. Depositors can deposit datasets on behalf of dataset authors and do not need to be one of the authors.\n",
    "\n",
    "To estimate the number of distinct dataset authors, we'll look at what dataset depositors enter in the author metadata fields. Some datasets have no author metadata; in those cases we'll try to determine the affiliations of the depositors.\n",
    "\n",
    "We'll finish with a review of the limitations of this method of estimating the number of Harvard-affiliated dataset authors."
   ],
   "metadata": {
    "collapsed": false,
    "pycharm": {
     "name": "#%% md\n"
    }
   }
  },
  {
   "cell_type": "markdown",
   "source": [
    "## Import Python libraries"
   ],
   "metadata": {
    "collapsed": false
   }
  },
  {
   "cell_type": "code",
   "execution_count": 24,
   "outputs": [],
   "source": [
    "#from functools import reduce\n",
    "#import numpy as np\n",
    "import os\n",
    "import pandas as pd\n",
    "#import re"
   ],
   "metadata": {
    "collapsed": false,
    "pycharm": {
     "name": "#%%\n"
    }
   }
  },
  {
   "cell_type": "markdown",
   "source": [
    "## Import and check data\n",
    "We'll be using data exported from the repository's database, saved in CSV files. Database queries for these files are in the same directory as the CSV files."
   ],
   "metadata": {
    "collapsed": false,
    "pycharm": {
     "name": "#%% md\n"
    }
   }
  },
  {
   "cell_type": "code",
   "execution_count": 4,
   "outputs": [],
   "source": [
    "os.chdir('data_and_queries/data_in_multiple_tables')"
   ],
   "metadata": {
    "collapsed": false,
    "pycharm": {
     "name": "#%%\n"
    }
   }
  },
  {
   "cell_type": "code",
   "execution_count": 5,
   "outputs": [
    {
     "data": {
      "text/plain": "                      dataset_doi_url           author_name  \\\n0  https://doi.org/10.7910/DVN/0UTWWV           Altman, Dan   \n1  https://doi.org/10.7910/DVN/ZE14ST        Moch, Jonathan   \n2  https://doi.org/10.7910/DVN/ZZ2LBN  Addison Kwame Thomas   \n3  https://doi.org/10.7910/DVN/OE1NW0   Stager, Lawrence E.   \n4  https://doi.org/10.7910/DVN/STDSFL   Stager, Lawrence E.   \n\n                                  author_affiliation author_identifier_scheme  \\\n0                           Georgia State University                            \n1                                 Harvard University                            \n2  Kwame Nkrumah University of Science and Techno...                    ORCID   \n3                                 Harvard University                            \n4                                 Harvard University                            \n\n     author_identifier  \n0                       \n1                       \n2  0000-0003-2129-061X  \n3                       \n4                       ",
      "text/html": "<div><div id=3591f33e-62bc-4979-9cbf-78f05c9e169f style=\"display:none; background-color:#9D6CFF; color:white; width:200px; height:30px; padding-left:5px; border-radius:4px; flex-direction:row; justify-content:space-around; align-items:center;\" onmouseover=\"this.style.backgroundColor='#BA9BF8'\" onmouseout=\"this.style.backgroundColor='#9D6CFF'\" onclick=\"window.commands?.execute('create-mitosheet-from-dataframe-output');\">See Full Dataframe in Mito</div> <script> if (window.commands.hasCommand('create-mitosheet-from-dataframe-output')) document.getElementById('3591f33e-62bc-4979-9cbf-78f05c9e169f').style.display = 'flex' </script> <table border=\"1\" class=\"dataframe\">\n  <thead>\n    <tr style=\"text-align: right;\">\n      <th></th>\n      <th>dataset_doi_url</th>\n      <th>author_name</th>\n      <th>author_affiliation</th>\n      <th>author_identifier_scheme</th>\n      <th>author_identifier</th>\n    </tr>\n  </thead>\n  <tbody>\n    <tr>\n      <th>0</th>\n      <td>https://doi.org/10.7910/DVN/0UTWWV</td>\n      <td>Altman, Dan</td>\n      <td>Georgia State University</td>\n      <td></td>\n      <td></td>\n    </tr>\n    <tr>\n      <th>1</th>\n      <td>https://doi.org/10.7910/DVN/ZE14ST</td>\n      <td>Moch, Jonathan</td>\n      <td>Harvard University</td>\n      <td></td>\n      <td></td>\n    </tr>\n    <tr>\n      <th>2</th>\n      <td>https://doi.org/10.7910/DVN/ZZ2LBN</td>\n      <td>Addison Kwame Thomas</td>\n      <td>Kwame Nkrumah University of Science and Technology Faculty of Biosciences, Kumasi, Ghana</td>\n      <td>ORCID</td>\n      <td>0000-0003-2129-061X</td>\n    </tr>\n    <tr>\n      <th>3</th>\n      <td>https://doi.org/10.7910/DVN/OE1NW0</td>\n      <td>Stager, Lawrence E.</td>\n      <td>Harvard University</td>\n      <td></td>\n      <td></td>\n    </tr>\n    <tr>\n      <th>4</th>\n      <td>https://doi.org/10.7910/DVN/STDSFL</td>\n      <td>Stager, Lawrence E.</td>\n      <td>Harvard University</td>\n      <td></td>\n      <td></td>\n    </tr>\n  </tbody>\n</table></div>"
     },
     "execution_count": 5,
     "metadata": {},
     "output_type": "execute_result"
    }
   ],
   "source": [
    "authorsDF = pd.read_csv('dataset_authors.csv', dtype={'author_identifier': str}, na_filter = False)\n",
    "authorsDF.head()"
   ],
   "metadata": {
    "collapsed": false,
    "pycharm": {
     "name": "#%%\n"
    }
   }
  },
  {
   "cell_type": "markdown",
   "source": [
    "## Inspect the data\n",
    "First, lets try to get a count of distinct dataset authors, whether or not they are Harvard affiliated.\n",
    "\n",
    "Let's deduplicate that authorsDF dataframe using the information in the four author fields. Each row of the new deduplicated dataframe should represent a distinct author. We'll have to remove the dataset_doi_url column, since one person can be an author of multiple datasets. And we'll have to remove datasets that have no author metadata."
   ],
   "metadata": {
    "collapsed": false,
    "pycharm": {
     "name": "#%% md\n"
    }
   }
  },
  {
   "cell_type": "code",
   "execution_count": 6,
   "outputs": [
    {
     "name": "stdout",
     "output_type": "stream",
     "text": [
      "Number of distinct authors: 47,551\n"
     ]
    }
   ],
   "source": [
    "# Remove dataset_doi_url column from authorsDF and deduplicate rows using values in the remaining columns\n",
    "authorsDeduplicatedDF = authorsDF.drop(columns=['dataset_doi_url']).drop_duplicates().reset_index(drop=True)\n",
    "\n",
    "# For datasets that have no author name, the database has the string \"N/A\" in the author name field.\n",
    "# Let's remove that \"N/A\" author from the authorsDeduplicatedDF.\n",
    "authorsDeduplicatedDF = (\n",
    "    authorsDeduplicatedDF\n",
    "        .query(\n",
    "            'author_name != \"N/A\"'\n",
    "    )\n",
    ")\n",
    "\n",
    "# Print count of rows in authorsDeduplicatedDF\n",
    "print(f'Number of distinct authors: {len(authorsDeduplicatedDF):,}')"
   ],
   "metadata": {
    "collapsed": false,
    "pycharm": {
     "name": "#%%\n"
    }
   }
  },
  {
   "cell_type": "markdown",
   "source": [
    "Of those distinct authors, lets create a new dataframe that contains only authors with an affiliation from Harvard (including schools, departments and other groups within Harvard). We'll use lists and values that I've found useful during earlier reviews of the repository's datasets."
   ],
   "metadata": {
    "collapsed": false,
    "pycharm": {
     "name": "#%% md\n"
    }
   }
  },
  {
   "cell_type": "code",
   "execution_count": 7,
   "outputs": [
    {
     "name": "stdout",
     "output_type": "stream",
     "text": [
      "Number of distinct authors: 2,152\n"
     ]
    }
   ],
   "source": [
    "# Create list of strings to search for in affiliation field that indicates a Harvard affiliation\n",
    "harvardAffiliationExact = ['CfA', 'HKS', 'SAO']\n",
    "\n",
    "# Create new dataframe that contains only authors with affiliation metadata that indicates a Harvard affiliation\n",
    "harvardAffiliatedAuthorsDF = (\n",
    "    authorsDeduplicatedDF\n",
    "        .query(\n",
    "            'author_affiliation.str.contains(\"Harvard\") or\\\n",
    "            author_affiliation.str.contains(\"Berkman\") or\\\n",
    "            author_affiliation.str.contains(\"Center for Geographic Analysis\") or\\\n",
    "            author_affiliation.str.contains(\"Center for the History of Medicine\") or\\\n",
    "            author_affiliation.str.contains(\"Francis A. Countway Library of Medicine\") or\\\n",
    "            author_affiliation.str.contains(\"HMDC\") or\\\n",
    "            author_affiliation.str.contains(\"Institute for Quantitative Social Science\") or\\\n",
    "            author_affiliation.str.contains(\"IQSS\") or\\\n",
    "            author_affiliation.str.contains(\"Smithsonian Astrophysical Observatory\") or\\\n",
    "            author_affiliation.str.contains(\"Social Science One\") or\\\n",
    "            author_affiliation.str.contains(\"T.H. Chan School of Public Health\") or\\\n",
    "            author_affiliation.str.contains(\"Murray Research Archive\") or\\\n",
    "            author_affiliation.str.contains(\"Radcliffe College\") or\\\n",
    "            author_affiliation in @harvardAffiliationExact'\n",
    "    )\n",
    ")\n",
    "\n",
    "# Print count of rows in the new dataframe\n",
    "print(f'Number of distinct authors: {len(harvardAffiliatedAuthorsDF):,}')"
   ],
   "metadata": {
    "collapsed": false,
    "pycharm": {
     "name": "#%%\n"
    }
   }
  },
  {
   "cell_type": "markdown",
   "source": [
    "2,152 is about 4.5 percent of 47,551. Maybe that's where Danny's 5 percent figure came from.\n",
    "\n",
    "Let's look at the datasets that have no authors. These were published before a Dataverse software update made the author metadata mandatory. We can see which accounts were used to deposit those datasets by including information in the dataset_depositors.csv file."
   ],
   "metadata": {
    "collapsed": false,
    "pycharm": {
     "name": "#%% md\n"
    }
   }
  },
  {
   "cell_type": "code",
   "execution_count": 8,
   "outputs": [
    {
     "name": "stdout",
     "output_type": "stream",
     "text": [
      "Number of datasets with no author metadata: 4,146\n"
     ]
    }
   ],
   "source": [
    "# Create dataframe that contains only the datasets that have no author metadata\n",
    "noAuthorsDF = (\n",
    "    authorsDF\n",
    "        .query(\n",
    "            'author_name == \"N/A\"'\n",
    "    )\n",
    ")\n",
    "\n",
    "# Print count of rows in the new dataframe\n",
    "print(f'Number of datasets with no author metadata: {(len(noAuthorsDF)):,}')"
   ],
   "metadata": {
    "collapsed": false,
    "pycharm": {
     "name": "#%%\n"
    }
   }
  },
  {
   "cell_type": "code",
   "execution_count": 9,
   "outputs": [
    {
     "name": "stdout",
     "output_type": "stream",
     "text": [
      "Number of rows in joined datasetsWithNoAuthorsDF dataframe: 4,146\n"
     ]
    }
   ],
   "source": [
    "# Read in dataset_depositors.csv as a new dataframe\n",
    "depositorsDF = pd.read_csv('dataset_depositors.csv')\n",
    "\n",
    "# Join the noAuthorsDF with the depositorsDF\n",
    "datasetsWithNoAuthorsDF = pd.merge(\n",
    "    noAuthorsDF,\n",
    "    depositorsDF,\n",
    "    how='inner',\n",
    "    on='dataset_doi_url')\n",
    "\n",
    "# Drop the author metadata columns since they don't contain information\n",
    "datasetsWithNoAuthorsDF = datasetsWithNoAuthorsDF.drop(columns=[\n",
    "    'author_name', 'author_affiliation', 'author_identifier_scheme', 'author_identifier'])\n",
    "\n",
    "# Make sure the join worked by counting the number of rows of the new dataframe, which should be the same as noAuthorsDF's row count\n",
    "print(f'Number of rows in joined datasetsWithNoAuthorsDF dataframe: {len(datasetsWithNoAuthorsDF):,}')"
   ],
   "metadata": {
    "collapsed": false,
    "pycharm": {
     "name": "#%%\n"
    }
   }
  },
  {
   "cell_type": "markdown",
   "source": [
    "Let's preview this dataframe"
   ],
   "metadata": {
    "collapsed": false,
    "pycharm": {
     "name": "#%% md\n"
    }
   }
  },
  {
   "cell_type": "code",
   "execution_count": 10,
   "outputs": [
    {
     "data": {
      "text/plain": "                      dataset_doi_url depositor_account_type  depositor_id  \\\n0  https://doi.org/10.7910/DVN/M0C8T2                builtin             1   \n1  https://doi.org/10.7910/DVN/N619OT                builtin             1   \n2   https://doi.org/10.7910/DVN/28195                builtin          5291   \n3  https://doi.org/10.7910/DVN/22SIWX                builtin             1   \n4  https://doi.org/10.7910/DVN/1IJEWF                builtin             1   \n\n  depositor_firstname depositor_lastname depositor_affiliation  \\\n0           Dataverse              Admin         Dataverse.org   \n1           Dataverse              Admin         Dataverse.org   \n2              Alvaro               Lima                   NaN   \n3           Dataverse              Admin         Dataverse.org   \n4           Dataverse              Admin         Dataverse.org   \n\n                 depositor_email  \n0  dataverseadmin@iq.harvard.edu  \n1  dataverseadmin@iq.harvard.edu  \n2          alvaroelima@gmail.com  \n3  dataverseadmin@iq.harvard.edu  \n4  dataverseadmin@iq.harvard.edu  ",
      "text/html": "<div><div id=2eda2e66-ed00-4eb0-ae2f-c55cfeaa0f26 style=\"display:none; background-color:#9D6CFF; color:white; width:200px; height:30px; padding-left:5px; border-radius:4px; flex-direction:row; justify-content:space-around; align-items:center;\" onmouseover=\"this.style.backgroundColor='#BA9BF8'\" onmouseout=\"this.style.backgroundColor='#9D6CFF'\" onclick=\"window.commands?.execute('create-mitosheet-from-dataframe-output');\">See Full Dataframe in Mito</div> <script> if (window.commands.hasCommand('create-mitosheet-from-dataframe-output')) document.getElementById('2eda2e66-ed00-4eb0-ae2f-c55cfeaa0f26').style.display = 'flex' </script> <table border=\"1\" class=\"dataframe\">\n  <thead>\n    <tr style=\"text-align: right;\">\n      <th></th>\n      <th>dataset_doi_url</th>\n      <th>depositor_account_type</th>\n      <th>depositor_id</th>\n      <th>depositor_firstname</th>\n      <th>depositor_lastname</th>\n      <th>depositor_affiliation</th>\n      <th>depositor_email</th>\n    </tr>\n  </thead>\n  <tbody>\n    <tr>\n      <th>0</th>\n      <td>https://doi.org/10.7910/DVN/M0C8T2</td>\n      <td>builtin</td>\n      <td>1</td>\n      <td>Dataverse</td>\n      <td>Admin</td>\n      <td>Dataverse.org</td>\n      <td>dataverseadmin@iq.harvard.edu</td>\n    </tr>\n    <tr>\n      <th>1</th>\n      <td>https://doi.org/10.7910/DVN/N619OT</td>\n      <td>builtin</td>\n      <td>1</td>\n      <td>Dataverse</td>\n      <td>Admin</td>\n      <td>Dataverse.org</td>\n      <td>dataverseadmin@iq.harvard.edu</td>\n    </tr>\n    <tr>\n      <th>2</th>\n      <td>https://doi.org/10.7910/DVN/28195</td>\n      <td>builtin</td>\n      <td>5291</td>\n      <td>Alvaro</td>\n      <td>Lima</td>\n      <td>NaN</td>\n      <td>alvaroelima@gmail.com</td>\n    </tr>\n    <tr>\n      <th>3</th>\n      <td>https://doi.org/10.7910/DVN/22SIWX</td>\n      <td>builtin</td>\n      <td>1</td>\n      <td>Dataverse</td>\n      <td>Admin</td>\n      <td>Dataverse.org</td>\n      <td>dataverseadmin@iq.harvard.edu</td>\n    </tr>\n    <tr>\n      <th>4</th>\n      <td>https://doi.org/10.7910/DVN/1IJEWF</td>\n      <td>builtin</td>\n      <td>1</td>\n      <td>Dataverse</td>\n      <td>Admin</td>\n      <td>Dataverse.org</td>\n      <td>dataverseadmin@iq.harvard.edu</td>\n    </tr>\n  </tbody>\n</table></div>"
     },
     "execution_count": 10,
     "metadata": {},
     "output_type": "execute_result"
    }
   ],
   "source": [
    "datasetsWithNoAuthorsDF.head()"
   ],
   "metadata": {
    "collapsed": false,
    "pycharm": {
     "name": "#%%\n"
    }
   }
  },
  {
   "cell_type": "markdown",
   "source": [
    "We need to find the accounts that are affiliated with Harvard:\n",
    "- Check if the depositor_email field contains 'harvard'\n",
    "- Check if the depositor_affiliation field contains 'harvard' or any schools, departments and other groups within Harvard. We can re-use the query we used earlier to find Harvard-affiliated authors.\n",
    "\n",
    "We'll also remove the dataset_doi_url column and deduplicate the dataframe so it contains distinct, Harvard-affiliated depositors."
   ],
   "metadata": {
    "collapsed": false,
    "pycharm": {
     "name": "#%% md\n"
    }
   }
  },
  {
   "cell_type": "code",
   "execution_count": 11,
   "outputs": [
    {
     "name": "stdout",
     "output_type": "stream",
     "text": [
      "Number of depositors of datasets with no author metadata: 36\n"
     ]
    }
   ],
   "source": [
    "# Create new dataframe that contains only depositors with affiliation metadata that indicates a Harvard affiliation\n",
    "depositorsOfDatasetsWithNoAuthorsDF = (\n",
    "    datasetsWithNoAuthorsDF\n",
    "        .query(\n",
    "            'depositor_email.str.contains(\"harvard\") or\\\n",
    "            depositor_affiliation.str.contains(\"Harvard\") or\\\n",
    "            depositor_affiliation.str.contains(\"Berkman\") or\\\n",
    "            depositor_affiliation.str.contains(\"Center for Geographic Analysis\") or\\\n",
    "            depositor_affiliation.str.contains(\"Center for the History of Medicine\") or\\\n",
    "            depositor_affiliation.str.contains(\"Francis A. Countway Library of Medicine\") or\\\n",
    "            depositor_affiliation.str.contains(\"HMDC\") or\\\n",
    "            depositor_affiliation.str.contains(\"Institute for Quantitative Social Science\") or\\\n",
    "            depositor_affiliation.str.contains(\"IQSS\") or\\\n",
    "            depositor_affiliation.str.contains(\"Smithsonian Astrophysical Observatory\") or\\\n",
    "            depositor_affiliation.str.contains(\"Social Science One\") or\\\n",
    "            depositor_affiliation.str.contains(\"T.H. Chan School of Public Health\") or\\\n",
    "            depositor_affiliation.str.contains(\"Murray Research Archive\") or\\\n",
    "            depositor_affiliation.str.contains(\"Radcliffe College\") or\\\n",
    "            depositor_affiliation in @harvardAffiliationExact'\n",
    "    )\n",
    ")\n",
    "\n",
    "# Remove dataset_doi_url column from depositorsOfDatasetsWithNoAuthorsDF and deduplicate rows using values in the remaining columns\n",
    "depositorsOfDatasetsWithNoAuthorsDF = depositorsOfDatasetsWithNoAuthorsDF.drop(columns=['dataset_doi_url']).drop_duplicates().reset_index(drop=True)\n",
    "\n",
    "# Print count of rows in the new dataframe\n",
    "print(f'Number of depositors of datasets with no author metadata: {len(depositorsOfDatasetsWithNoAuthorsDF):,}')"
   ],
   "metadata": {
    "collapsed": false,
    "pycharm": {
     "name": "#%%\n"
    }
   }
  },
  {
   "cell_type": "code",
   "execution_count": 12,
   "outputs": [
    {
     "data": {
      "text/plain": "  depositor_account_type  depositor_id depositor_firstname depositor_lastname  \\\n0                builtin             1           Dataverse              Admin   \n1                builtin           770               Marie          McCormick   \n2                builtin           148              Meghan              Dolan   \n3        shib-harvardkey           172               Diane              Sredl   \n4                builtin          7413             Zhanina        Boyadzhieva   \n\n             depositor_affiliation                depositor_email  \n0                    Dataverse.org  dataverseadmin@iq.harvard.edu  \n1  Harvard School of Public Health      mmccormi@hsph.harvard.edu  \n2                          Harvard         dolan2@fas.harvard.edu  \n3               Harvard University          sredl@fas.harvard.edu  \n4                              NaN       zlboyadz@gsd.harvard.edu  ",
      "text/html": "<div><div id=9d4009af-9673-42b0-8038-b89dacc7c701 style=\"display:none; background-color:#9D6CFF; color:white; width:200px; height:30px; padding-left:5px; border-radius:4px; flex-direction:row; justify-content:space-around; align-items:center;\" onmouseover=\"this.style.backgroundColor='#BA9BF8'\" onmouseout=\"this.style.backgroundColor='#9D6CFF'\" onclick=\"window.commands?.execute('create-mitosheet-from-dataframe-output');\">See Full Dataframe in Mito</div> <script> if (window.commands.hasCommand('create-mitosheet-from-dataframe-output')) document.getElementById('9d4009af-9673-42b0-8038-b89dacc7c701').style.display = 'flex' </script> <table border=\"1\" class=\"dataframe\">\n  <thead>\n    <tr style=\"text-align: right;\">\n      <th></th>\n      <th>depositor_account_type</th>\n      <th>depositor_id</th>\n      <th>depositor_firstname</th>\n      <th>depositor_lastname</th>\n      <th>depositor_affiliation</th>\n      <th>depositor_email</th>\n    </tr>\n  </thead>\n  <tbody>\n    <tr>\n      <th>0</th>\n      <td>builtin</td>\n      <td>1</td>\n      <td>Dataverse</td>\n      <td>Admin</td>\n      <td>Dataverse.org</td>\n      <td>dataverseadmin@iq.harvard.edu</td>\n    </tr>\n    <tr>\n      <th>1</th>\n      <td>builtin</td>\n      <td>770</td>\n      <td>Marie</td>\n      <td>McCormick</td>\n      <td>Harvard School of Public Health</td>\n      <td>mmccormi@hsph.harvard.edu</td>\n    </tr>\n    <tr>\n      <th>2</th>\n      <td>builtin</td>\n      <td>148</td>\n      <td>Meghan</td>\n      <td>Dolan</td>\n      <td>Harvard</td>\n      <td>dolan2@fas.harvard.edu</td>\n    </tr>\n    <tr>\n      <th>3</th>\n      <td>shib-harvardkey</td>\n      <td>172</td>\n      <td>Diane</td>\n      <td>Sredl</td>\n      <td>Harvard University</td>\n      <td>sredl@fas.harvard.edu</td>\n    </tr>\n    <tr>\n      <th>4</th>\n      <td>builtin</td>\n      <td>7413</td>\n      <td>Zhanina</td>\n      <td>Boyadzhieva</td>\n      <td>NaN</td>\n      <td>zlboyadz@gsd.harvard.edu</td>\n    </tr>\n  </tbody>\n</table></div>"
     },
     "execution_count": 12,
     "metadata": {},
     "output_type": "execute_result"
    }
   ],
   "source": [
    "# Preview new dataframe\n",
    "depositorsOfDatasetsWithNoAuthorsDF.head()"
   ],
   "metadata": {
    "collapsed": false,
    "pycharm": {
     "name": "#%%\n"
    }
   }
  },
  {
   "cell_type": "markdown",
   "source": [
    "## Limitations\n"
   ],
   "metadata": {
    "collapsed": false,
    "pycharm": {
     "name": "#%% md\n"
    }
   }
  },
  {
   "cell_type": "markdown",
   "source": [
    "This estimation doesn't account for:\n",
    " - author names that are the same but are really different people\n",
    " - the same author having variations in the spellings or orders of their name or affiliation or typos in their identifier (like a mistyped ORCID ID)\n",
    "\n",
    "We can see an example of this in the harvardAffiliatedAuthorsDF dataframe. Let's find the rows that have the same names but different values in other author fields:"
   ],
   "metadata": {
    "collapsed": false,
    "pycharm": {
     "name": "#%% md\n"
    }
   }
  },
  {
   "cell_type": "code",
   "execution_count": 40,
   "outputs": [
    {
     "data": {
      "text/plain": "             author_name                                 author_affiliation  \\\n0            Ahmed Fahmy                             Harvard Medical School   \n1            Ahmed Fahmy                                 Harvard University   \n2  Ansolabehere, Stephen                                            Harvard   \n3  Ansolabehere, Stephen                                 Harvard University   \n4  Ansolabehere, Stephen                                 Harvard University   \n5       B. Baleato, Suso  Harvard University, University of Santiago de ...   \n6       B. Baleato, Suso  Harvard University, Universidade de Santiago d...   \n7      Baker, Caitlin M.                                 Harvard University   \n8      Baker, Caitlin M.                                 Harvard University   \n9           Balan, Pablo                                            Harvard   \n\n  author_identifier_scheme                      author_identifier  \n0                                                                  \n1                                                                  \n2                                                                  \n3                    ORCID                    0000-0001-5240-9084  \n4                                                                  \n5                                                                  \n6                                                                  \n7                    ORCID                    0000-0002-9782-4959  \n8                    ORCID  https://orcid.org/0000-0002-9782-4959  \n9                                                                  ",
      "text/html": "<div><div id=6cd5b9ca-6f91-455c-aace-ce7f5ed57242 style=\"display:none; background-color:#9D6CFF; color:white; width:200px; height:30px; padding-left:5px; border-radius:4px; flex-direction:row; justify-content:space-around; align-items:center;\" onmouseover=\"this.style.backgroundColor='#BA9BF8'\" onmouseout=\"this.style.backgroundColor='#9D6CFF'\" onclick=\"window.commands?.execute('create-mitosheet-from-dataframe-output');\">See Full Dataframe in Mito</div> <script> if (window.commands.hasCommand('create-mitosheet-from-dataframe-output')) document.getElementById('6cd5b9ca-6f91-455c-aace-ce7f5ed57242').style.display = 'flex' </script> <table border=\"1\" class=\"dataframe\">\n  <thead>\n    <tr style=\"text-align: right;\">\n      <th></th>\n      <th>author_name</th>\n      <th>author_affiliation</th>\n      <th>author_identifier_scheme</th>\n      <th>author_identifier</th>\n    </tr>\n  </thead>\n  <tbody>\n    <tr>\n      <th>0</th>\n      <td>Ahmed Fahmy</td>\n      <td>Harvard Medical School</td>\n      <td></td>\n      <td></td>\n    </tr>\n    <tr>\n      <th>1</th>\n      <td>Ahmed Fahmy</td>\n      <td>Harvard University</td>\n      <td></td>\n      <td></td>\n    </tr>\n    <tr>\n      <th>2</th>\n      <td>Ansolabehere, Stephen</td>\n      <td>Harvard</td>\n      <td></td>\n      <td></td>\n    </tr>\n    <tr>\n      <th>3</th>\n      <td>Ansolabehere, Stephen</td>\n      <td>Harvard University</td>\n      <td>ORCID</td>\n      <td>0000-0001-5240-9084</td>\n    </tr>\n    <tr>\n      <th>4</th>\n      <td>Ansolabehere, Stephen</td>\n      <td>Harvard University</td>\n      <td></td>\n      <td></td>\n    </tr>\n    <tr>\n      <th>5</th>\n      <td>B. Baleato, Suso</td>\n      <td>Harvard University, University of Santiago de Compostela</td>\n      <td></td>\n      <td></td>\n    </tr>\n    <tr>\n      <th>6</th>\n      <td>B. Baleato, Suso</td>\n      <td>Harvard University, Universidade de Santiago de Compostela</td>\n      <td></td>\n      <td></td>\n    </tr>\n    <tr>\n      <th>7</th>\n      <td>Baker, Caitlin M.</td>\n      <td>Harvard University</td>\n      <td>ORCID</td>\n      <td>0000-0002-9782-4959</td>\n    </tr>\n    <tr>\n      <th>8</th>\n      <td>Baker, Caitlin M.</td>\n      <td>Harvard University</td>\n      <td>ORCID</td>\n      <td>https://orcid.org/0000-0002-9782-4959</td>\n    </tr>\n    <tr>\n      <th>9</th>\n      <td>Balan, Pablo</td>\n      <td>Harvard</td>\n      <td></td>\n      <td></td>\n    </tr>\n  </tbody>\n</table></div>"
     },
     "execution_count": 40,
     "metadata": {},
     "output_type": "execute_result"
    }
   ],
   "source": [
    "# From the harvardAffiliatedAuthorsDF, create new dataframe with rows where the values in the author_name field are the same\n",
    "duplicateNamesDF = (\n",
    "    harvardAffiliatedAuthorsDF[harvardAffiliatedAuthorsDF\n",
    "        .duplicated(['author_name'], keep=False)]\n",
    "        .sort_values('author_name', ascending=True)\n",
    "        .reset_index(drop=True)\n",
    ")\n",
    "\n",
    "# Preview duplicateNamesDF\n",
    "duplicateNamesDF.head(10)"
   ],
   "metadata": {
    "collapsed": false,
    "pycharm": {
     "name": "#%%\n"
    }
   }
  },
  {
   "cell_type": "markdown",
   "source": [
    "It's likely that these 10 rows represent at most 5 authors, but the deduplication isn't accounting for the differently spelled affiliations and various ORCID ID formatting.\n",
    "\n",
    "The same is true when considering the affiliations of depositors.\n",
    "\n",
    "So that affects the accuracy.\n",
    "\n",
    "Accounting for these variations would improve the accuracy of the estimate and would take"
   ],
   "metadata": {
    "collapsed": false,
    "pycharm": {
     "name": "#%% md\n"
    }
   }
  },
  {
   "cell_type": "code",
   "execution_count": null,
   "outputs": [],
   "source": [],
   "metadata": {
    "collapsed": false,
    "pycharm": {
     "name": "#%%\n"
    }
   }
  }
 ],
 "metadata": {
  "kernelspec": {
   "display_name": "Python 3",
   "language": "python",
   "name": "python3"
  },
  "language_info": {
   "codemirror_mode": {
    "name": "ipython",
    "version": 2
   },
   "file_extension": ".py",
   "mimetype": "text/x-python",
   "name": "python",
   "nbconvert_exporter": "python",
   "pygments_lexer": "ipython2",
   "version": "2.7.6"
  }
 },
 "nbformat": 4,
 "nbformat_minor": 0
}