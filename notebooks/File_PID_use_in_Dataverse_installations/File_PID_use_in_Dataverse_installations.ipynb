{
 "cells": [
  {
   "cell_type": "code",
   "execution_count": 6,
   "metadata": {
    "collapsed": true
   },
   "outputs": [],
   "source": [
    "import pandas as pd\n",
    "from datetime import datetime\n",
    "from dateutil import tz\n",
    "from dateutil.parser import parse"
   ]
  },
  {
   "cell_type": "code",
   "execution_count": 7,
   "outputs": [],
   "source": [
    "# Import CSV file as a dataframe\n",
    "datasetsDF = pd.read_csv(\n",
    "    'file_pids_in_dataverse_installations.csv',\n",
    "    sep=',', na_filter = False)\n",
    "\n",
    "# Convert the version_create_time column to a datetime object, making the timezones to UTC.\n",
    "# The timezones don't matter here, since we're only interested in using the version_create_time column\n",
    "# to figure out which version is the most recently published of each dataset\n",
    "datasetsDF['version_create_time'] = pd.to_datetime(\n",
    "    datasetsDF['version_create_time'],\n",
    "    utc=True,\n",
    "    errors='coerce')"
   ],
   "metadata": {
    "collapsed": false,
    "pycharm": {
     "name": "#%%\n"
    }
   }
  },
  {
   "cell_type": "code",
   "execution_count": 10,
   "outputs": [
    {
     "name": "stdout",
     "output_type": "stream",
     "text": [
      "<class 'pandas.core.frame.DataFrame'>\n",
      "RangeIndex: 380830 entries, 0 to 380829\n",
      "Data columns (total 5 columns):\n",
      " #   Column                  Non-Null Count   Dtype              \n",
      "---  ------                  --------------   -----              \n",
      " 0   installation_name       380830 non-null  object             \n",
      " 1   dataset_pid_url         380830 non-null  object             \n",
      " 2   dataset_version_number  380830 non-null  float64            \n",
      " 3   version_create_time     380830 non-null  datetime64[ns, UTC]\n",
      " 4   has_file_pids           380830 non-null  bool               \n",
      "dtypes: bool(1), datetime64[ns, UTC](1), float64(1), object(2)\n",
      "memory usage: 12.0+ MB\n"
     ]
    }
   ],
   "source": [
    "datasetsDF.info()"
   ],
   "metadata": {
    "collapsed": false,
    "pycharm": {
     "name": "#%%\n"
    }
   }
  },
  {
   "cell_type": "code",
   "execution_count": 110,
   "outputs": [
    {
     "name": "stdout",
     "output_type": "stream",
     "text": [
      "Number of datasets in datasetsDF: 268410\n"
     ]
    }
   ],
   "source": [
    "# Report the count of distinct datasets in the dataframe\n",
    "print('Number of datasets in datasetsDF: %s' % (len(pd.unique(datasetsDF['dataset_pid_url']))))"
   ],
   "metadata": {
    "collapsed": false,
    "pycharm": {
     "name": "#%%\n"
    }
   }
  },
  {
   "cell_type": "code",
   "execution_count": 111,
   "outputs": [],
   "source": [
    "# Create a new dataframe with information about only the latest published version of each dataset\n",
    "datasetsDF_latestVersion = (\n",
    "    datasetsDF\n",
    "   .iloc[datasetsDF.groupby('dataset_pid_url')['version_create_time']\n",
    "   .agg(pd.Series.idxmax)]\n",
    "   .reset_index(drop=True, inplace=False))"
   ],
   "metadata": {
    "collapsed": false,
    "pycharm": {
     "name": "#%%\n"
    }
   }
  },
  {
   "cell_type": "code",
   "execution_count": 112,
   "outputs": [
    {
     "name": "stdout",
     "output_type": "stream",
     "text": [
      "<class 'pandas.core.frame.DataFrame'>\n",
      "RangeIndex: 268410 entries, 0 to 268409\n",
      "Data columns (total 5 columns):\n",
      " #   Column                  Non-Null Count   Dtype              \n",
      "---  ------                  --------------   -----              \n",
      " 0   installation_name       268410 non-null  object             \n",
      " 1   dataset_pid_url         268410 non-null  object             \n",
      " 2   dataset_version_number  268410 non-null  float64            \n",
      " 3   version_create_time     268410 non-null  datetime64[ns, UTC]\n",
      " 4   has_file_pids           268410 non-null  bool               \n",
      "dtypes: bool(1), datetime64[ns, UTC](1), float64(1), object(2)\n",
      "memory usage: 8.4+ MB\n"
     ]
    }
   ],
   "source": [
    "datasetsDF_latestVersion.info()"
   ],
   "metadata": {
    "collapsed": false,
    "pycharm": {
     "name": "#%%\n"
    }
   }
  },
  {
   "cell_type": "markdown",
   "source": [
    "For each installation, we want to know if its latest published dataset contains files that have file PIDs.\n",
    "\n",
    "Let's get the count of installations."
   ],
   "metadata": {
    "collapsed": false,
    "pycharm": {
     "name": "#%% md\n"
    }
   }
  },
  {
   "cell_type": "code",
   "execution_count": 114,
   "outputs": [
    {
     "name": "stdout",
     "output_type": "stream",
     "text": [
      "Number of installations in datasetsDF_latestVersion: 72\n"
     ]
    }
   ],
   "source": [
    "print('Number of installations in datasetsDF_latestVersion: %s' % (len(pd.unique(datasetsDF_latestVersion['installation_name']))))"
   ],
   "metadata": {
    "collapsed": false,
    "pycharm": {
     "name": "#%%\n"
    }
   }
  },
  {
   "cell_type": "markdown",
   "source": [
    "Let's create a new dataframe that lists the most recently published dataset for each installation."
   ],
   "metadata": {
    "collapsed": false,
    "pycharm": {
     "name": "#%% md\n"
    }
   }
  },
  {
   "cell_type": "code",
   "execution_count": 115,
   "outputs": [],
   "source": [
    "# Create a new dataframe with information about only the latest published version of each dataset\n",
    "latestDatasetPerInstallationDF = (\n",
    "    datasetsDF_latestVersion\n",
    "        .iloc[datasetsDF_latestVersion.groupby('installation_name')['version_create_time']\n",
    "        .agg(pd.Series.idxmax)]\n",
    "        .reset_index(drop=True, inplace=False))"
   ],
   "metadata": {
    "collapsed": false,
    "pycharm": {
     "name": "#%%\n"
    }
   }
  },
  {
   "cell_type": "code",
   "execution_count": 116,
   "outputs": [
    {
     "name": "stdout",
     "output_type": "stream",
     "text": [
      "<class 'pandas.core.frame.DataFrame'>\n",
      "RangeIndex: 72 entries, 0 to 71\n",
      "Data columns (total 5 columns):\n",
      " #   Column                  Non-Null Count  Dtype              \n",
      "---  ------                  --------------  -----              \n",
      " 0   installation_name       72 non-null     object             \n",
      " 1   dataset_pid_url         72 non-null     object             \n",
      " 2   dataset_version_number  72 non-null     float64            \n",
      " 3   version_create_time     72 non-null     datetime64[ns, UTC]\n",
      " 4   has_file_pids           72 non-null     bool               \n",
      "dtypes: bool(1), datetime64[ns, UTC](1), float64(1), object(2)\n",
      "memory usage: 2.4+ KB\n"
     ]
    }
   ],
   "source": [
    "latestDatasetPerInstallationDF.info()"
   ],
   "metadata": {
    "collapsed": false,
    "pycharm": {
     "name": "#%%\n"
    }
   }
  },
  {
   "cell_type": "code",
   "execution_count": 125,
   "outputs": [],
   "source": [
    "latestDatasetPerInstallationDF.head()\n",
    "\n",
    "# Export dataframe as a CSV to review\n",
    "latestDatasetPerInstallationDF.to_csv('latestDatasetPerInstallationDF.csv', index=False)"
   ],
   "metadata": {
    "collapsed": false,
    "pycharm": {
     "name": "#%%\n"
    }
   }
  },
  {
   "cell_type": "markdown",
   "source": [
    "Let's get a count of the installations whose most recently updated datasets have and don't have file PIDs"
   ],
   "metadata": {
    "collapsed": false,
    "pycharm": {
     "name": "#%% md\n"
    }
   }
  },
  {
   "cell_type": "code",
   "execution_count": 124,
   "outputs": [
    {
     "name": "stdout",
     "output_type": "stream",
     "text": [
      "Count of installations where latest dataset version has file PIDs: 36\n",
      "Count of installations where latest dataset version has no file PIDs: 36\n"
     ]
    }
   ],
   "source": [
    "countOfDatasetsWithFilePids = len(latestDatasetPerInstallationDF[(latestDatasetPerInstallationDF['has_file_pids']==True)])\n",
    "countOfDatasetsWithNoFilePids = len(latestDatasetPerInstallationDF[(latestDatasetPerInstallationDF['has_file_pids']==False)])\n",
    "\n",
    "print(f'Count of installations where latest dataset version has file PIDs: {countOfDatasetsWithFilePids}')\n",
    "print(f'Count of installations where latest dataset version has no file PIDs: {countOfDatasetsWithNoFilePids}')\n"
   ],
   "metadata": {
    "collapsed": false,
    "pycharm": {
     "name": "#%%\n"
    }
   }
  },
  {
   "cell_type": "code",
   "execution_count": null,
   "outputs": [],
   "source": [],
   "metadata": {
    "collapsed": false,
    "pycharm": {
     "name": "#%%\n"
    }
   }
  }
 ],
 "metadata": {
  "kernelspec": {
   "display_name": "Python 3",
   "language": "python",
   "name": "python3"
  },
  "language_info": {
   "codemirror_mode": {
    "name": "ipython",
    "version": 2
   },
   "file_extension": ".py",
   "mimetype": "text/x-python",
   "name": "python",
   "nbconvert_exporter": "python",
   "pygments_lexer": "ipython2",
   "version": "2.7.6"
  }
 },
 "nbformat": 4,
 "nbformat_minor": 0
}