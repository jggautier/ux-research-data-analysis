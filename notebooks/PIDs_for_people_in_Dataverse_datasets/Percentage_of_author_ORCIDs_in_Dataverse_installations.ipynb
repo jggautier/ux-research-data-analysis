{
 "cells": [
  {
   "cell_type": "code",
   "execution_count": 1,
   "metadata": {
    "collapsed": true
   },
   "outputs": [],
   "source": [
    "import pandas as pd"
   ]
  },
  {
   "cell_type": "markdown",
   "source": [
    "# Import, check and prepare data\n",
    "\n",
    "Import CSV files that contain:\n",
    "- The PIDs of all datasets published by many repositories that use the Dataverse software and which repositories published them\n",
    "- Author field metadata entered in all of those datasets"
   ],
   "metadata": {
    "collapsed": false,
    "pycharm": {
     "name": "#%% md\n"
    }
   }
  },
  {
   "cell_type": "code",
   "execution_count": 2,
   "outputs": [
    {
     "data": {
      "text/plain": "                          dataset_pid_url dataset_publication_date  \\\n0  https://doi.org/10.17026/dans-xk3-33d2               2023-04-06   \n1       https://hdl.handle.net/2014/29246               1995-01-01   \n2       https://hdl.handle.net/2014/29246               1995-01-01   \n3       https://hdl.handle.net/2014/29246               1995-01-01   \n4  https://doi.org/10.17026/dans-z7f-pft2               2023-08-17   \n\n   dataset_version_number dataset_version_create_time  \\\n0                     1.0   2023-10-16 13:53:23+00:00   \n1                     2.0   2024-04-02 14:37:17+00:00   \n2                     2.0   2024-04-02 14:37:17+00:00   \n3                     2.0   2024-04-02 14:37:17+00:00   \n4                     1.0   2023-10-16 19:05:45+00:00   \n\n                                authorName authorIdentifierScheme  \\\n0  Portable Antiquities of the Netherlands                          \n1                              Feynman, J.                          \n2                            Ruzmaikin, A.                          \n3                             Smith, E. J.                          \n4  Portable Antiquities of the Netherlands                          \n\n  authorIdentifier  \n0                   \n1                   \n2                   \n3                   \n4                   ",
      "text/html": "<div><div id=2ba4a2ea-c50e-474d-aa60-5b10eaeb5d3d style=\"display:none; background-color:#9D6CFF; color:white; width:200px; height:30px; padding-left:5px; border-radius:4px; flex-direction:row; justify-content:space-around; align-items:center;\" onmouseover=\"this.style.backgroundColor='#BA9BF8'\" onmouseout=\"this.style.backgroundColor='#9D6CFF'\" onclick=\"window.commands?.execute('create-mitosheet-from-dataframe-output');\">See Full Dataframe in Mito</div> <script> if (window.commands.hasCommand('create-mitosheet-from-dataframe-output')) document.getElementById('2ba4a2ea-c50e-474d-aa60-5b10eaeb5d3d').style.display = 'flex' </script> <table border=\"1\" class=\"dataframe\">\n  <thead>\n    <tr style=\"text-align: right;\">\n      <th></th>\n      <th>dataset_pid_url</th>\n      <th>dataset_publication_date</th>\n      <th>dataset_version_number</th>\n      <th>dataset_version_create_time</th>\n      <th>authorName</th>\n      <th>authorIdentifierScheme</th>\n      <th>authorIdentifier</th>\n    </tr>\n  </thead>\n  <tbody>\n    <tr>\n      <th>0</th>\n      <td>https://doi.org/10.17026/dans-xk3-33d2</td>\n      <td>2023-04-06</td>\n      <td>1.0</td>\n      <td>2023-10-16 13:53:23+00:00</td>\n      <td>Portable Antiquities of the Netherlands</td>\n      <td></td>\n      <td></td>\n    </tr>\n    <tr>\n      <th>1</th>\n      <td>https://hdl.handle.net/2014/29246</td>\n      <td>1995-01-01</td>\n      <td>2.0</td>\n      <td>2024-04-02 14:37:17+00:00</td>\n      <td>Feynman, J.</td>\n      <td></td>\n      <td></td>\n    </tr>\n    <tr>\n      <th>2</th>\n      <td>https://hdl.handle.net/2014/29246</td>\n      <td>1995-01-01</td>\n      <td>2.0</td>\n      <td>2024-04-02 14:37:17+00:00</td>\n      <td>Ruzmaikin, A.</td>\n      <td></td>\n      <td></td>\n    </tr>\n    <tr>\n      <th>3</th>\n      <td>https://hdl.handle.net/2014/29246</td>\n      <td>1995-01-01</td>\n      <td>2.0</td>\n      <td>2024-04-02 14:37:17+00:00</td>\n      <td>Smith, E. J.</td>\n      <td></td>\n      <td></td>\n    </tr>\n    <tr>\n      <th>4</th>\n      <td>https://doi.org/10.17026/dans-z7f-pft2</td>\n      <td>2023-08-17</td>\n      <td>1.0</td>\n      <td>2023-10-16 19:05:45+00:00</td>\n      <td>Portable Antiquities of the Netherlands</td>\n      <td></td>\n      <td></td>\n    </tr>\n  </tbody>\n</table></div>"
     },
     "execution_count": 2,
     "metadata": {},
     "output_type": "execute_result"
    }
   ],
   "source": [
    "# Get Author field metadata of datasets in Dataverse repositories whose latest versions were created in the last 12 months (between 2023-08-26 and 2024-08-25)\n",
    "\n",
    "authorMetadataDF = (pd\n",
    "    .read_csv(\n",
    "        'author_2024.08.25-2024.08.30.csv',\n",
    "        sep=',',\n",
    "        na_filter=False,\n",
    "        parse_dates=['dataset_publication_date', 'dataset_version_create_time'])\n",
    "    .drop(columns=['dataset_pid', 'authorAffiliation'])\n",
    "    .query(\n",
    "        'dataset_version_create_time >= \"2023-08-26T00:00:00Z\" and\\\n",
    "        dataset_version_create_time < \"2024-08-26T00:00:00Z\"')\n",
    "    .reset_index(drop=True, inplace=False)\n",
    "    )\n",
    "\n",
    "authorMetadataDF.head()"
   ],
   "metadata": {
    "collapsed": false,
    "pycharm": {
     "name": "#%%\n"
    }
   }
  },
  {
   "cell_type": "code",
   "execution_count": 3,
   "outputs": [
    {
     "data": {
      "text/plain": "  dataverse_installation_name                  dataset_pid_url  \\\n0                     CROSSDA  https://doi.org/10.23669/TTB7HV   \n1                     CROSSDA  https://doi.org/10.23669/JBIXC5   \n2                     CROSSDA  https://doi.org/10.23669/RMVRHL   \n3                     CROSSDA  https://doi.org/10.23669/ZTAA3M   \n4                     CROSSDA  https://doi.org/10.23669/RN40FI   \n\n  dataverse_collection_alias  dataverse_collection_name  \\\n0                      unizd        University of Zadar   \n1                        his  Croatian Election Studies   \n2                        his  Croatian Election Studies   \n3                        his  Croatian Election Studies   \n4                        his  Croatian Election Studies   \n\n    dataverse_collection_type  \n0  ORGANIZATIONS_INSTITUTIONS  \n1           RESEARCH_PROJECTS  \n2           RESEARCH_PROJECTS  \n3           RESEARCH_PROJECTS  \n4           RESEARCH_PROJECTS  ",
      "text/html": "<div><div id=b4283210-117a-4d23-b3e9-fba886e4d847 style=\"display:none; background-color:#9D6CFF; color:white; width:200px; height:30px; padding-left:5px; border-radius:4px; flex-direction:row; justify-content:space-around; align-items:center;\" onmouseover=\"this.style.backgroundColor='#BA9BF8'\" onmouseout=\"this.style.backgroundColor='#9D6CFF'\" onclick=\"window.commands?.execute('create-mitosheet-from-dataframe-output');\">See Full Dataframe in Mito</div> <script> if (window.commands.hasCommand('create-mitosheet-from-dataframe-output')) document.getElementById('b4283210-117a-4d23-b3e9-fba886e4d847').style.display = 'flex' </script> <table border=\"1\" class=\"dataframe\">\n  <thead>\n    <tr style=\"text-align: right;\">\n      <th></th>\n      <th>dataverse_installation_name</th>\n      <th>dataset_pid_url</th>\n      <th>dataverse_collection_alias</th>\n      <th>dataverse_collection_name</th>\n      <th>dataverse_collection_type</th>\n    </tr>\n  </thead>\n  <tbody>\n    <tr>\n      <th>0</th>\n      <td>CROSSDA</td>\n      <td>https://doi.org/10.23669/TTB7HV</td>\n      <td>unizd</td>\n      <td>University of Zadar</td>\n      <td>ORGANIZATIONS_INSTITUTIONS</td>\n    </tr>\n    <tr>\n      <th>1</th>\n      <td>CROSSDA</td>\n      <td>https://doi.org/10.23669/JBIXC5</td>\n      <td>his</td>\n      <td>Croatian Election Studies</td>\n      <td>RESEARCH_PROJECTS</td>\n    </tr>\n    <tr>\n      <th>2</th>\n      <td>CROSSDA</td>\n      <td>https://doi.org/10.23669/RMVRHL</td>\n      <td>his</td>\n      <td>Croatian Election Studies</td>\n      <td>RESEARCH_PROJECTS</td>\n    </tr>\n    <tr>\n      <th>3</th>\n      <td>CROSSDA</td>\n      <td>https://doi.org/10.23669/ZTAA3M</td>\n      <td>his</td>\n      <td>Croatian Election Studies</td>\n      <td>RESEARCH_PROJECTS</td>\n    </tr>\n    <tr>\n      <th>4</th>\n      <td>CROSSDA</td>\n      <td>https://doi.org/10.23669/RN40FI</td>\n      <td>his</td>\n      <td>Croatian Election Studies</td>\n      <td>RESEARCH_PROJECTS</td>\n    </tr>\n  </tbody>\n</table></div>"
     },
     "execution_count": 3,
     "metadata": {},
     "output_type": "execute_result"
    }
   ],
   "source": [
    "# Get basic info about datasets in installations and include only datasets that are also in authorMetadataDF\n",
    "datasetPidUrlList = pd.unique(authorMetadataDF['dataset_pid_url'])\n",
    "\n",
    "datasetPIDsDF = (pd\n",
    "    .read_csv(\n",
    "        'dataset_pids_from_most_known_dataverse_installations_2024.08.csv',\n",
    "        sep=',',\n",
    "        na_filter=False)\n",
    "    .query(\n",
    "        '(dataverse_json_export_saved == True) and\\\n",
    "        dataset_pid_url in @datasetPidUrlList')\n",
    "    .drop(columns=['dataverse_json_export_saved', 'dataset_pid'])\n",
    "    .reset_index(drop=True, inplace=False)\n",
    " )\n",
    "\n",
    "datasetPIDsDF.head()"
   ],
   "metadata": {
    "collapsed": false,
    "pycharm": {
     "name": "#%%\n"
    }
   }
  },
  {
   "cell_type": "code",
   "execution_count": 4,
   "outputs": [
    {
     "name": "stdout",
     "output_type": "stream",
     "text": [
      "Count of installations in datasetPIDsAndAuthorMetadataDF: 98\n"
     ]
    }
   ],
   "source": [
    "# Join datasetPIDsDF and authorMetadataDF to add the installation column, so we know which installations published each dataset\n",
    "datasetPIDsAndAuthorMetadataDF = (pd\n",
    "    .merge(datasetPIDsDF, authorMetadataDF,\n",
    "        how='inner',\n",
    "        on=['dataset_pid_url'])\n",
    "    .drop(columns=['dataset_version_number'])\n",
    "    .reset_index(drop=True, inplace=False))\n",
    "\n",
    "print(f'Count of installations in datasetPIDsAndAuthorMetadataDF: {len(pd.unique(datasetPIDsAndAuthorMetadataDF[\"dataverse_installation_name\"]))}')"
   ],
   "metadata": {
    "collapsed": false,
    "pycharm": {
     "name": "#%%\n"
    }
   }
  },
  {
   "cell_type": "code",
   "execution_count": 5,
   "outputs": [
    {
     "data": {
      "text/plain": "  dataverse_installation_name                  dataset_pid_url  \\\n0                     CROSSDA  https://doi.org/10.23669/TTB7HV   \n1                     CROSSDA  https://doi.org/10.23669/TTB7HV   \n2                     CROSSDA  https://doi.org/10.23669/TTB7HV   \n3                     CROSSDA  https://doi.org/10.23669/TTB7HV   \n4                     CROSSDA  https://doi.org/10.23669/TTB7HV   \n\n  dataverse_collection_alias dataverse_collection_name  \\\n0                      unizd       University of Zadar   \n1                      unizd       University of Zadar   \n2                      unizd       University of Zadar   \n3                      unizd       University of Zadar   \n4                      unizd       University of Zadar   \n\n    dataverse_collection_type dataset_publication_date  \\\n0  ORGANIZATIONS_INSTITUTIONS               2024-06-26   \n1  ORGANIZATIONS_INSTITUTIONS               2024-06-26   \n2  ORGANIZATIONS_INSTITUTIONS               2024-06-26   \n3  ORGANIZATIONS_INSTITUTIONS               2024-06-26   \n4  ORGANIZATIONS_INSTITUTIONS               2024-06-26   \n\n  dataset_version_create_time       authorName authorIdentifierScheme  \\\n0   2023-11-27 15:15:40+00:00    Cepić, Dražen                  ORCID   \n1   2023-11-27 15:15:40+00:00   Škacan, Mislav                  ORCID   \n2   2023-11-27 15:15:40+00:00      Puzek, Ivan                  ORCID   \n3   2023-11-27 15:15:40+00:00    Ančić, Branko                  ORCID   \n4   2023-11-27 15:15:40+00:00  Kanski, Danijel                  ORCID   \n\n      authorIdentifier  \n0  0000-0003-4544-5778  \n1  0000-0002-8432-201X  \n2  0000-0001-7545-9578  \n3  0000-0003-1438-2647  \n4  0009-0004-3846-3550  ",
      "text/html": "<div><div id=c58b5309-19eb-47ab-957b-0f3879852f39 style=\"display:none; background-color:#9D6CFF; color:white; width:200px; height:30px; padding-left:5px; border-radius:4px; flex-direction:row; justify-content:space-around; align-items:center;\" onmouseover=\"this.style.backgroundColor='#BA9BF8'\" onmouseout=\"this.style.backgroundColor='#9D6CFF'\" onclick=\"window.commands?.execute('create-mitosheet-from-dataframe-output');\">See Full Dataframe in Mito</div> <script> if (window.commands.hasCommand('create-mitosheet-from-dataframe-output')) document.getElementById('c58b5309-19eb-47ab-957b-0f3879852f39').style.display = 'flex' </script> <table border=\"1\" class=\"dataframe\">\n  <thead>\n    <tr style=\"text-align: right;\">\n      <th></th>\n      <th>dataverse_installation_name</th>\n      <th>dataset_pid_url</th>\n      <th>dataverse_collection_alias</th>\n      <th>dataverse_collection_name</th>\n      <th>dataverse_collection_type</th>\n      <th>dataset_publication_date</th>\n      <th>dataset_version_create_time</th>\n      <th>authorName</th>\n      <th>authorIdentifierScheme</th>\n      <th>authorIdentifier</th>\n    </tr>\n  </thead>\n  <tbody>\n    <tr>\n      <th>0</th>\n      <td>CROSSDA</td>\n      <td>https://doi.org/10.23669/TTB7HV</td>\n      <td>unizd</td>\n      <td>University of Zadar</td>\n      <td>ORGANIZATIONS_INSTITUTIONS</td>\n      <td>2024-06-26</td>\n      <td>2023-11-27 15:15:40+00:00</td>\n      <td>Cepić, Dražen</td>\n      <td>ORCID</td>\n      <td>0000-0003-4544-5778</td>\n    </tr>\n    <tr>\n      <th>1</th>\n      <td>CROSSDA</td>\n      <td>https://doi.org/10.23669/TTB7HV</td>\n      <td>unizd</td>\n      <td>University of Zadar</td>\n      <td>ORGANIZATIONS_INSTITUTIONS</td>\n      <td>2024-06-26</td>\n      <td>2023-11-27 15:15:40+00:00</td>\n      <td>Škacan, Mislav</td>\n      <td>ORCID</td>\n      <td>0000-0002-8432-201X</td>\n    </tr>\n    <tr>\n      <th>2</th>\n      <td>CROSSDA</td>\n      <td>https://doi.org/10.23669/TTB7HV</td>\n      <td>unizd</td>\n      <td>University of Zadar</td>\n      <td>ORGANIZATIONS_INSTITUTIONS</td>\n      <td>2024-06-26</td>\n      <td>2023-11-27 15:15:40+00:00</td>\n      <td>Puzek, Ivan</td>\n      <td>ORCID</td>\n      <td>0000-0001-7545-9578</td>\n    </tr>\n    <tr>\n      <th>3</th>\n      <td>CROSSDA</td>\n      <td>https://doi.org/10.23669/TTB7HV</td>\n      <td>unizd</td>\n      <td>University of Zadar</td>\n      <td>ORGANIZATIONS_INSTITUTIONS</td>\n      <td>2024-06-26</td>\n      <td>2023-11-27 15:15:40+00:00</td>\n      <td>Ančić, Branko</td>\n      <td>ORCID</td>\n      <td>0000-0003-1438-2647</td>\n    </tr>\n    <tr>\n      <th>4</th>\n      <td>CROSSDA</td>\n      <td>https://doi.org/10.23669/TTB7HV</td>\n      <td>unizd</td>\n      <td>University of Zadar</td>\n      <td>ORGANIZATIONS_INSTITUTIONS</td>\n      <td>2024-06-26</td>\n      <td>2023-11-27 15:15:40+00:00</td>\n      <td>Kanski, Danijel</td>\n      <td>ORCID</td>\n      <td>0009-0004-3846-3550</td>\n    </tr>\n  </tbody>\n</table></div>"
     },
     "execution_count": 5,
     "metadata": {},
     "output_type": "execute_result"
    }
   ],
   "source": [
    "datasetPIDsAndAuthorMetadataDF.head()"
   ],
   "metadata": {
    "collapsed": false,
    "pycharm": {
     "name": "#%%\n"
    }
   }
  },
  {
   "cell_type": "markdown",
   "source": [
    "# Get metrics"
   ],
   "metadata": {
    "collapsed": false,
    "pycharm": {
     "name": "#%% md\n"
    }
   }
  },
  {
   "cell_type": "markdown",
   "source": [
    "What percentage of author metadata published in each Dataverse installation in the last two years includes an ORCID?"
   ],
   "metadata": {
    "collapsed": false,
    "pycharm": {
     "name": "#%% md\n"
    }
   }
  },
  {
   "cell_type": "code",
   "execution_count": 6,
   "outputs": [
    {
     "name": "stdout",
     "output_type": "stream",
     "text": [
      "Count of installations: 98\n"
     ]
    }
   ],
   "source": [
    "# First we'll get a count of author metadata published in each installation in the last two years\n",
    "\n",
    "countOfAuthorMetadataPerInstallationDf = (\n",
    "    datasetPIDsAndAuthorMetadataDF\n",
    "        .value_counts(subset=['dataverse_installation_name'])\n",
    "        .to_frame('count_of_author_metadata')\n",
    "        .sort_values(['dataverse_installation_name'], ascending=[True])\n",
    "        .reset_index(drop=False, inplace=False)\n",
    ")\n",
    "\n",
    "print(f'Count of installations: {len(countOfAuthorMetadataPerInstallationDf)}')"
   ],
   "metadata": {
    "collapsed": false,
    "pycharm": {
     "name": "#%%\n"
    }
   }
  },
  {
   "cell_type": "code",
   "execution_count": 7,
   "outputs": [
    {
     "data": {
      "text/plain": "            dataverse_installation_name  count_of_author_metadata\n0                        ACSS Dataverse                        30\n1                         ADA Dataverse                       138\n2                                   ARP                       249\n3  ASU Library Research Data Repository                        75\n4                      AUSSDA Dataverse                       233",
      "text/html": "<div><div id=2ad67c80-1fd1-49f0-bbdb-c94fcaf49fd8 style=\"display:none; background-color:#9D6CFF; color:white; width:200px; height:30px; padding-left:5px; border-radius:4px; flex-direction:row; justify-content:space-around; align-items:center;\" onmouseover=\"this.style.backgroundColor='#BA9BF8'\" onmouseout=\"this.style.backgroundColor='#9D6CFF'\" onclick=\"window.commands?.execute('create-mitosheet-from-dataframe-output');\">See Full Dataframe in Mito</div> <script> if (window.commands.hasCommand('create-mitosheet-from-dataframe-output')) document.getElementById('2ad67c80-1fd1-49f0-bbdb-c94fcaf49fd8').style.display = 'flex' </script> <table border=\"1\" class=\"dataframe\">\n  <thead>\n    <tr style=\"text-align: right;\">\n      <th></th>\n      <th>dataverse_installation_name</th>\n      <th>count_of_author_metadata</th>\n    </tr>\n  </thead>\n  <tbody>\n    <tr>\n      <th>0</th>\n      <td>ACSS Dataverse</td>\n      <td>30</td>\n    </tr>\n    <tr>\n      <th>1</th>\n      <td>ADA Dataverse</td>\n      <td>138</td>\n    </tr>\n    <tr>\n      <th>2</th>\n      <td>ARP</td>\n      <td>249</td>\n    </tr>\n    <tr>\n      <th>3</th>\n      <td>ASU Library Research Data Repository</td>\n      <td>75</td>\n    </tr>\n    <tr>\n      <th>4</th>\n      <td>AUSSDA Dataverse</td>\n      <td>233</td>\n    </tr>\n  </tbody>\n</table></div>"
     },
     "execution_count": 7,
     "metadata": {},
     "output_type": "execute_result"
    }
   ],
   "source": [
    "countOfAuthorMetadataPerInstallationDf.head()"
   ],
   "metadata": {
    "collapsed": false,
    "pycharm": {
     "name": "#%%\n"
    }
   }
  },
  {
   "cell_type": "code",
   "execution_count": 8,
   "outputs": [
    {
     "name": "stdout",
     "output_type": "stream",
     "text": [
      "Count of installations in countOfORCIDsPerInstallationDf: 91\n"
     ]
    }
   ],
   "source": [
    "# Then we'll get a count of author metadata in each installation that includes an ORCID (in the format we expect)\n",
    "\n",
    "countOfORCIDsPerInstallationDf = (\n",
    "    datasetPIDsAndAuthorMetadataDF\n",
    "        # Count only author metadata that includes ORCIDs\n",
    "        .query(\n",
    "            'authorIdentifierScheme.str.contains(\"orcid\", case=False) and\\\n",
    "            authorIdentifier.str.match(\"(https?:\\/\\/orcid\\.org\\/)?.{4}-.{4}-.{4}-.{4}\")',\n",
    "            engine='python')\n",
    "        # Remove all columns except dataverse_installation_name and authorName\n",
    "        [[\n",
    "            'dataverse_installation_name',\n",
    "            'authorName'\n",
    "        ]]\n",
    "        .reset_index(drop=True, inplace=False)\n",
    "        # Group by count of rows for each dataverse_installation_name\n",
    "        .groupby(pd.Grouper(key='dataverse_installation_name', axis=0)).count()\n",
    "        .rename(columns={'authorName': 'count_of_orcids_in_author_metadata'})\n",
    "        .sort_values(['dataverse_installation_name'], ascending=[True])\n",
    "        .reset_index(drop=False, inplace=False)\n",
    ")\n",
    "\n",
    "print(f'Count of installations in countOfORCIDsPerInstallationDf: {len(countOfORCIDsPerInstallationDf)}')"
   ],
   "metadata": {
    "collapsed": false,
    "pycharm": {
     "name": "#%%\n"
    }
   }
  },
  {
   "cell_type": "code",
   "execution_count": 9,
   "outputs": [
    {
     "data": {
      "text/plain": "            dataverse_installation_name  count_of_orcids_in_author_metadata\n0                        ACSS Dataverse                                   1\n1                         ADA Dataverse                                  51\n2                                   ARP                                 106\n3  ASU Library Research Data Repository                                  55\n4                      AUSSDA Dataverse                                 135",
      "text/html": "<div><div id=e669d38e-2917-44eb-83bc-c36f06cd3f2b style=\"display:none; background-color:#9D6CFF; color:white; width:200px; height:30px; padding-left:5px; border-radius:4px; flex-direction:row; justify-content:space-around; align-items:center;\" onmouseover=\"this.style.backgroundColor='#BA9BF8'\" onmouseout=\"this.style.backgroundColor='#9D6CFF'\" onclick=\"window.commands?.execute('create-mitosheet-from-dataframe-output');\">See Full Dataframe in Mito</div> <script> if (window.commands.hasCommand('create-mitosheet-from-dataframe-output')) document.getElementById('e669d38e-2917-44eb-83bc-c36f06cd3f2b').style.display = 'flex' </script> <table border=\"1\" class=\"dataframe\">\n  <thead>\n    <tr style=\"text-align: right;\">\n      <th></th>\n      <th>dataverse_installation_name</th>\n      <th>count_of_orcids_in_author_metadata</th>\n    </tr>\n  </thead>\n  <tbody>\n    <tr>\n      <th>0</th>\n      <td>ACSS Dataverse</td>\n      <td>1</td>\n    </tr>\n    <tr>\n      <th>1</th>\n      <td>ADA Dataverse</td>\n      <td>51</td>\n    </tr>\n    <tr>\n      <th>2</th>\n      <td>ARP</td>\n      <td>106</td>\n    </tr>\n    <tr>\n      <th>3</th>\n      <td>ASU Library Research Data Repository</td>\n      <td>55</td>\n    </tr>\n    <tr>\n      <th>4</th>\n      <td>AUSSDA Dataverse</td>\n      <td>135</td>\n    </tr>\n  </tbody>\n</table></div>"
     },
     "execution_count": 9,
     "metadata": {},
     "output_type": "execute_result"
    }
   ],
   "source": [
    "countOfORCIDsPerInstallationDf.head()"
   ],
   "metadata": {
    "collapsed": false,
    "pycharm": {
     "name": "#%%\n"
    }
   }
  },
  {
   "cell_type": "code",
   "execution_count": 10,
   "outputs": [
    {
     "data": {
      "text/plain": "            dataverse_installation_name  count_of_author_metadata  \\\n0                        ACSS Dataverse                        30   \n1                         ADA Dataverse                       138   \n2                                   ARP                       249   \n3  ASU Library Research Data Repository                        75   \n4                      AUSSDA Dataverse                       233   \n\n   count_of_orcids_in_author_metadata  percentage_of_orcids_in_author_metadata  \n0                                   1                                 0.033333  \n1                                  51                                 0.369565  \n2                                 106                                 0.425703  \n3                                  55                                 0.733333  \n4                                 135                                 0.579399  ",
      "text/html": "<div><div id=58e3ca76-e01c-4165-a706-218495d567c6 style=\"display:none; background-color:#9D6CFF; color:white; width:200px; height:30px; padding-left:5px; border-radius:4px; flex-direction:row; justify-content:space-around; align-items:center;\" onmouseover=\"this.style.backgroundColor='#BA9BF8'\" onmouseout=\"this.style.backgroundColor='#9D6CFF'\" onclick=\"window.commands?.execute('create-mitosheet-from-dataframe-output');\">See Full Dataframe in Mito</div> <script> if (window.commands.hasCommand('create-mitosheet-from-dataframe-output')) document.getElementById('58e3ca76-e01c-4165-a706-218495d567c6').style.display = 'flex' </script> <table border=\"1\" class=\"dataframe\">\n  <thead>\n    <tr style=\"text-align: right;\">\n      <th></th>\n      <th>dataverse_installation_name</th>\n      <th>count_of_author_metadata</th>\n      <th>count_of_orcids_in_author_metadata</th>\n      <th>percentage_of_orcids_in_author_metadata</th>\n    </tr>\n  </thead>\n  <tbody>\n    <tr>\n      <th>0</th>\n      <td>ACSS Dataverse</td>\n      <td>30</td>\n      <td>1</td>\n      <td>0.033333</td>\n    </tr>\n    <tr>\n      <th>1</th>\n      <td>ADA Dataverse</td>\n      <td>138</td>\n      <td>51</td>\n      <td>0.369565</td>\n    </tr>\n    <tr>\n      <th>2</th>\n      <td>ARP</td>\n      <td>249</td>\n      <td>106</td>\n      <td>0.425703</td>\n    </tr>\n    <tr>\n      <th>3</th>\n      <td>ASU Library Research Data Repository</td>\n      <td>75</td>\n      <td>55</td>\n      <td>0.733333</td>\n    </tr>\n    <tr>\n      <th>4</th>\n      <td>AUSSDA Dataverse</td>\n      <td>233</td>\n      <td>135</td>\n      <td>0.579399</td>\n    </tr>\n  </tbody>\n</table></div>"
     },
     "execution_count": 10,
     "metadata": {},
     "output_type": "execute_result"
    }
   ],
   "source": [
    "# Now we'll merge the two dataframes so we can see the count of author metadata in each installation and the count of that author metadata that includes a \"property-formatted\" ORCID\n",
    "authorMetadataAndORCIDsPerInstallation = (pd\n",
    "    .merge(countOfAuthorMetadataPerInstallationDf, countOfORCIDsPerInstallationDf,\n",
    "        how='outer',\n",
    "        on=['dataverse_installation_name'])\n",
    "    .fillna(0)\n",
    "    # Make dataverse_installation_name the index column\n",
    "    .set_index('dataverse_installation_name', inplace=False)\n",
    "    # Make sure all non-indexed columns are integers\n",
    "    .astype('int32')\n",
    "    .reset_index(drop=False, inplace=False)\n",
    "    .sort_values(['dataverse_installation_name'], ascending=[True])\n",
    "    .reset_index(drop=True, inplace=False)\n",
    ")\n",
    "\n",
    "# Add column for percentage of ORCIDs\n",
    "authorMetadataAndORCIDsPerInstallation['percentage_of_orcids_in_author_metadata'] = (\n",
    "        (authorMetadataAndORCIDsPerInstallation['count_of_orcids_in_author_metadata']\n",
    "         / authorMetadataAndORCIDsPerInstallation['count_of_author_metadata'])\n",
    ")\n",
    "\n",
    "authorMetadataAndORCIDsPerInstallation.head()"
   ],
   "metadata": {
    "collapsed": false,
    "pycharm": {
     "name": "#%%\n"
    }
   }
  },
  {
   "cell_type": "code",
   "execution_count": 11,
   "outputs": [],
   "source": [
    "# Export the dataframe as a CSV file\n",
    "authorMetadataAndORCIDsPerInstallation.to_csv(\n",
    "    'authorMetadataAndORCIDsPerInstallation_2023.08.26-2024.08.25.csv',\n",
    "    index=False)"
   ],
   "metadata": {
    "collapsed": false,
    "pycharm": {
     "name": "#%%\n"
    }
   }
  },
  {
   "cell_type": "code",
   "execution_count": null,
   "outputs": [],
   "source": [],
   "metadata": {
    "collapsed": false,
    "pycharm": {
     "name": "#%%\n"
    }
   }
  }
 ],
 "metadata": {
  "kernelspec": {
   "display_name": "Python 3",
   "language": "python",
   "name": "python3"
  },
  "language_info": {
   "codemirror_mode": {
    "name": "ipython",
    "version": 2
   },
   "file_extension": ".py",
   "mimetype": "text/x-python",
   "name": "python",
   "nbconvert_exporter": "python",
   "pygments_lexer": "ipython2",
   "version": "2.7.6"
  }
 },
 "nbformat": 4,
 "nbformat_minor": 0
}