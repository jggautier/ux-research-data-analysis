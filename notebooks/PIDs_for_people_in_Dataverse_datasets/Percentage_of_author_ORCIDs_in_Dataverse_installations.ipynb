{
 "cells": [
  {
   "cell_type": "code",
   "execution_count": 1,
   "metadata": {
    "collapsed": true
   },
   "outputs": [],
   "source": [
    "from functools import reduce\n",
    "import pandas as pd"
   ]
  },
  {
   "cell_type": "markdown",
   "source": [
    "# Import, check and prepare data\n",
    "\n",
    "Import CSV files that contain:\n",
    "- The PIDs of all datasets published by many repositories that use the Dataverse software and which repositories published them\n",
    "- Author field metadata entered in all of those datasets"
   ],
   "metadata": {
    "collapsed": false,
    "pycharm": {
     "name": "#%% md\n"
    }
   }
  },
  {
   "cell_type": "code",
   "execution_count": 2,
   "outputs": [
    {
     "data": {
      "text/plain": "  dataverse_installation_name                  dataset_pid_url  \\\n0     UNB_Libraries_Dataverse  https://doi.org/10.25545/NVN79Z   \n1     UNB_Libraries_Dataverse  https://doi.org/10.25545/YB60PU   \n2     UNB_Libraries_Dataverse  https://doi.org/10.25545/WHD3KC   \n3     UNB_Libraries_Dataverse  https://doi.org/10.25545/6TZWCG   \n4     UNB_Libraries_Dataverse  https://doi.org/10.25545/NYM13B   \n\n  dataverse_collection_alias  \\\n0                        snb   \n1            blightchemistry   \n2            blightchemistry   \n3           Ir-CationBinding   \n4                     IFMLAB   \n\n                           dataverse_collection_name  \\\n0                              Service New Brunswick   \n1                Blight Chemistry Research Omniverse   \n2                Blight Chemistry Research Omniverse   \n3  Elucidation of Charge Contributions in Iridium...   \n4                   Integrated Forest Management Lab   \n\n    dataverse_collection_type  \n0  ORGANIZATIONS_INSTITUTIONS  \n1              RESEARCH_GROUP  \n2              RESEARCH_GROUP  \n3                    JOURNALS  \n4              RESEARCH_GROUP  ",
      "text/html": "<div><div id=c43b5400-7e9d-4633-b6dc-5cbf913d7291 style=\"display:none; background-color:#9D6CFF; color:white; width:200px; height:30px; padding-left:5px; border-radius:4px; flex-direction:row; justify-content:space-around; align-items:center;\" onmouseover=\"this.style.backgroundColor='#BA9BF8'\" onmouseout=\"this.style.backgroundColor='#9D6CFF'\" onclick=\"window.commands?.execute('create-mitosheet-from-dataframe-output');\">See Full Dataframe in Mito</div> <script> if (window.commands.hasCommand('create-mitosheet-from-dataframe-output')) document.getElementById('c43b5400-7e9d-4633-b6dc-5cbf913d7291').style.display = 'flex' </script> <table border=\"1\" class=\"dataframe\">\n  <thead>\n    <tr style=\"text-align: right;\">\n      <th></th>\n      <th>dataverse_installation_name</th>\n      <th>dataset_pid_url</th>\n      <th>dataverse_collection_alias</th>\n      <th>dataverse_collection_name</th>\n      <th>dataverse_collection_type</th>\n    </tr>\n  </thead>\n  <tbody>\n    <tr>\n      <th>0</th>\n      <td>UNB_Libraries_Dataverse</td>\n      <td>https://doi.org/10.25545/NVN79Z</td>\n      <td>snb</td>\n      <td>Service New Brunswick</td>\n      <td>ORGANIZATIONS_INSTITUTIONS</td>\n    </tr>\n    <tr>\n      <th>1</th>\n      <td>UNB_Libraries_Dataverse</td>\n      <td>https://doi.org/10.25545/YB60PU</td>\n      <td>blightchemistry</td>\n      <td>Blight Chemistry Research Omniverse</td>\n      <td>RESEARCH_GROUP</td>\n    </tr>\n    <tr>\n      <th>2</th>\n      <td>UNB_Libraries_Dataverse</td>\n      <td>https://doi.org/10.25545/WHD3KC</td>\n      <td>blightchemistry</td>\n      <td>Blight Chemistry Research Omniverse</td>\n      <td>RESEARCH_GROUP</td>\n    </tr>\n    <tr>\n      <th>3</th>\n      <td>UNB_Libraries_Dataverse</td>\n      <td>https://doi.org/10.25545/6TZWCG</td>\n      <td>Ir-CationBinding</td>\n      <td>Elucidation of Charge Contributions in Iridium-Chelated Hydrogen-Bonding Systems</td>\n      <td>JOURNALS</td>\n    </tr>\n    <tr>\n      <th>4</th>\n      <td>UNB_Libraries_Dataverse</td>\n      <td>https://doi.org/10.25545/NYM13B</td>\n      <td>IFMLAB</td>\n      <td>Integrated Forest Management Lab</td>\n      <td>RESEARCH_GROUP</td>\n    </tr>\n  </tbody>\n</table></div>"
     },
     "execution_count": 2,
     "metadata": {},
     "output_type": "execute_result"
    }
   ],
   "source": [
    "# Get basic info about datasets in repositories except for ODISSEI Portal\n",
    "datasetPIDsDF = (pd\n",
    "    .read_csv(\n",
    "        'dataset_pids_from_most_known_dataverse_installations_2023.08.csv',\n",
    "        sep=',',\n",
    "        na_filter=False)\n",
    "    .query(\n",
    "        '(dataverse_json_export_saved == True) and\\\n",
    "        (dataverse_installation_name != \"ODISSEI_Portal\")')\n",
    "    .drop(columns=['dataverse_json_export_saved'])\n",
    "    .reset_index(drop=True, inplace=False)\n",
    " )\n",
    "\n",
    "datasetPIDsDF.head()"
   ],
   "metadata": {
    "collapsed": false,
    "pycharm": {
     "name": "#%%\n"
    }
   }
  },
  {
   "cell_type": "code",
   "execution_count": 3,
   "outputs": [
    {
     "data": {
      "text/plain": "                          dataset_pid_url dataset_publication_date  \\\n0     https://doi.org/10.48370/OFD/8TTRLC               2022-05-13   \n1  https://doi.org/10.17026/dans-26a-cq4r               2015-09-18   \n2  https://doi.org/10.17026/dans-zc2-mc2g               2016-12-31   \n3  https://doi.org/10.17026/dans-x9z-bmn6               2020-12-22   \n4      https://doi.org/10.7910/DVN/QD0V0H               2021-09-20   \n\n   dataset_version_number dataset_version_create_time  \\\n0                     1.0        2022-05-11T14:44:29Z   \n1                     2.0        2022-02-18T19:29:27Z   \n2                     1.0        2022-02-24T21:01:03Z   \n3                     1.0        2022-02-14T05:11:03Z   \n4                     1.0        2021-07-29T19:45:43Z   \n\n                                          authorName authorIdentifierScheme  \\\n0  Mammal Research Institute, Polish Academy of S...                    NaN   \n1                                     H.J. Hesseling                    NaN   \n2                                         S. Moerman                    NaN   \n3                                         G. Zielman                    NaN   \n4                                  Master, Daniel M.                    NaN   \n\n  authorIdentifier  \n0              NaN  \n1              NaN  \n2              NaN  \n3              NaN  \n4              NaN  ",
      "text/html": "<div><div id=c0908e23-5fb5-4b9d-bb2e-7dd93676c5f1 style=\"display:none; background-color:#9D6CFF; color:white; width:200px; height:30px; padding-left:5px; border-radius:4px; flex-direction:row; justify-content:space-around; align-items:center;\" onmouseover=\"this.style.backgroundColor='#BA9BF8'\" onmouseout=\"this.style.backgroundColor='#9D6CFF'\" onclick=\"window.commands?.execute('create-mitosheet-from-dataframe-output');\">See Full Dataframe in Mito</div> <script> if (window.commands.hasCommand('create-mitosheet-from-dataframe-output')) document.getElementById('c0908e23-5fb5-4b9d-bb2e-7dd93676c5f1').style.display = 'flex' </script> <table border=\"1\" class=\"dataframe\">\n  <thead>\n    <tr style=\"text-align: right;\">\n      <th></th>\n      <th>dataset_pid_url</th>\n      <th>dataset_publication_date</th>\n      <th>dataset_version_number</th>\n      <th>dataset_version_create_time</th>\n      <th>authorName</th>\n      <th>authorIdentifierScheme</th>\n      <th>authorIdentifier</th>\n    </tr>\n  </thead>\n  <tbody>\n    <tr>\n      <th>0</th>\n      <td>https://doi.org/10.48370/OFD/8TTRLC</td>\n      <td>2022-05-13</td>\n      <td>1.0</td>\n      <td>2022-05-11T14:44:29Z</td>\n      <td>Mammal Research Institute, Polish Academy of Sciences</td>\n      <td>NaN</td>\n      <td>NaN</td>\n    </tr>\n    <tr>\n      <th>1</th>\n      <td>https://doi.org/10.17026/dans-26a-cq4r</td>\n      <td>2015-09-18</td>\n      <td>2.0</td>\n      <td>2022-02-18T19:29:27Z</td>\n      <td>H.J. Hesseling</td>\n      <td>NaN</td>\n      <td>NaN</td>\n    </tr>\n    <tr>\n      <th>2</th>\n      <td>https://doi.org/10.17026/dans-zc2-mc2g</td>\n      <td>2016-12-31</td>\n      <td>1.0</td>\n      <td>2022-02-24T21:01:03Z</td>\n      <td>S. Moerman</td>\n      <td>NaN</td>\n      <td>NaN</td>\n    </tr>\n    <tr>\n      <th>3</th>\n      <td>https://doi.org/10.17026/dans-x9z-bmn6</td>\n      <td>2020-12-22</td>\n      <td>1.0</td>\n      <td>2022-02-14T05:11:03Z</td>\n      <td>G. Zielman</td>\n      <td>NaN</td>\n      <td>NaN</td>\n    </tr>\n    <tr>\n      <th>4</th>\n      <td>https://doi.org/10.7910/DVN/QD0V0H</td>\n      <td>2021-09-20</td>\n      <td>1.0</td>\n      <td>2021-07-29T19:45:43Z</td>\n      <td>Master, Daniel M.</td>\n      <td>NaN</td>\n      <td>NaN</td>\n    </tr>\n  </tbody>\n</table></div>"
     },
     "execution_count": 3,
     "metadata": {},
     "output_type": "execute_result"
    }
   ],
   "source": [
    "# Get Author field metadata entered in all datasets in Dataverse repositories\n",
    "# and remove datasets have have no author metadata\n",
    "authorMetadataDF = (pd\n",
    "    .read_csv(\n",
    "        'author(citation)_2023.08.22-2023.08.28.csv',\n",
    "        sep=',',\n",
    "        na_filter=True,\n",
    "        parse_dates=['dataset_publication_date', 'dataset_version_create_time'])\n",
    "    .drop(columns=['dataset_pid', 'authorAffiliation'])\n",
    "    .query('authorName != \"N/A\"')\n",
    "    .reset_index(drop=True, inplace=False)\n",
    "    )\n",
    "\n",
    "authorMetadataDF.head()"
   ],
   "metadata": {
    "collapsed": false,
    "pycharm": {
     "name": "#%%\n"
    }
   }
  },
  {
   "cell_type": "code",
   "execution_count": 4,
   "outputs": [
    {
     "name": "stdout",
     "output_type": "stream",
     "text": [
      "Number of datasets in datasetPIDsDF: 390401\n",
      "Number of datasets in authorMetadataDF: 390401\n"
     ]
    }
   ],
   "source": [
    "# Sanity check data by making sure count of datasets is the same in both dataframes\n",
    "print(f'Number of datasets in datasetPIDsDF: {len(datasetPIDsDF)}')\n",
    "datasetCountInAuthorMetadataDF = len(pd.unique(authorMetadataDF['dataset_pid_url']))\n",
    "print(f'Number of datasets in authorMetadataDF: {datasetCountInAuthorMetadataDF}')"
   ],
   "metadata": {
    "collapsed": false,
    "pycharm": {
     "name": "#%%\n"
    }
   }
  },
  {
   "cell_type": "code",
   "execution_count": 5,
   "outputs": [
    {
     "name": "stdout",
     "output_type": "stream",
     "text": [
      "Number of datasets in datasetPIDsAndAuthorMetadataDF: 390401\n",
      "Number of author metadata in datasetPIDsAndAuthorMetadataDF: 667435\n",
      "Number of installations in datasetPIDsAndAuthorMetadataDF: 84\n"
     ]
    }
   ],
   "source": [
    "# Join the datasetPIDsDF and the authorMetadataDF to add the installation column,\n",
    "# so we know which installations published each dataset\n",
    "datasetPIDsAndAuthorMetadataDF = (pd\n",
    "    .merge(datasetPIDsDF, authorMetadataDF,\n",
    "        how='inner',\n",
    "        on=['dataset_pid_url'])\n",
    "    .drop(columns=['dataset_version_number'])\n",
    "    .reset_index(drop=True, inplace=False))\n",
    "\n",
    "# Make sure the count of datasets in datasetPIDsAndAuthorMetadataDF\n",
    "# is the same as in datasetPIDsDF: 390401\n",
    "datasetCountInDatasetPIDsAndAuthorMetadataDF = len(pd.unique(datasetPIDsAndAuthorMetadataDF['dataset_pid_url']))\n",
    "print(f'Number of datasets in datasetPIDsAndAuthorMetadataDF: {datasetCountInDatasetPIDsAndAuthorMetadataDF}')\n",
    "\n",
    "# Get count of author metadata\n",
    "print(f'Number of author metadata in datasetPIDsAndAuthorMetadataDF: {len(datasetPIDsAndAuthorMetadataDF)}')\n",
    "\n",
    "# Get count of installations. Should by 84: the 85 installations in my dataset minus ODISSEI Portal\n",
    "allInstallationsList = list(set(datasetPIDsAndAuthorMetadataDF['dataverse_installation_name'].tolist()))\n",
    "countOfInstallations = len(allInstallationsList)\n",
    "print(f'Number of installations in datasetPIDsAndAuthorMetadataDF: {countOfInstallations}')"
   ],
   "metadata": {
    "collapsed": false,
    "pycharm": {
     "name": "#%%\n"
    }
   }
  },
  {
   "cell_type": "code",
   "execution_count": 6,
   "outputs": [
    {
     "data": {
      "text/plain": "  dataverse_installation_name                  dataset_pid_url  \\\n0     UNB_Libraries_Dataverse  https://doi.org/10.25545/NVN79Z   \n1     UNB_Libraries_Dataverse  https://doi.org/10.25545/YB60PU   \n2     UNB_Libraries_Dataverse  https://doi.org/10.25545/WHD3KC   \n3     UNB_Libraries_Dataverse  https://doi.org/10.25545/6TZWCG   \n4     UNB_Libraries_Dataverse  https://doi.org/10.25545/NYM13B   \n\n  dataverse_collection_alias  \\\n0                        snb   \n1            blightchemistry   \n2            blightchemistry   \n3           Ir-CationBinding   \n4                     IFMLAB   \n\n                           dataverse_collection_name  \\\n0                              Service New Brunswick   \n1                Blight Chemistry Research Omniverse   \n2                Blight Chemistry Research Omniverse   \n3  Elucidation of Charge Contributions in Iridium...   \n4                   Integrated Forest Management Lab   \n\n    dataverse_collection_type dataset_publication_date  \\\n0  ORGANIZATIONS_INSTITUTIONS               2018-05-10   \n1              RESEARCH_GROUP               2018-06-20   \n2              RESEARCH_GROUP               2019-06-23   \n3                    JOURNALS               2021-05-18   \n4              RESEARCH_GROUP               2020-06-30   \n\n  dataset_version_create_time             authorName authorIdentifierScheme  \\\n0        2022-03-23T19:49:10Z  Service New Brunswick                    NaN   \n1        2018-02-21T18:26:43Z        Blight, Barry A                  ORCID   \n2        2019-06-21T18:30:39Z      Balonova, Barbora                    NaN   \n3        2021-05-18T16:39:24Z        Blight, Barry A                    NaN   \n4        2020-11-30T22:44:12Z         Chen, Yingbing                    NaN   \n\n      authorIdentifier  \n0                  NaN  \n1  0000-0003-1166-6206  \n2                  NaN  \n3                  NaN  \n4                  NaN  ",
      "text/html": "<div><div id=29c22f5e-6edc-4098-853d-3b723ad04f21 style=\"display:none; background-color:#9D6CFF; color:white; width:200px; height:30px; padding-left:5px; border-radius:4px; flex-direction:row; justify-content:space-around; align-items:center;\" onmouseover=\"this.style.backgroundColor='#BA9BF8'\" onmouseout=\"this.style.backgroundColor='#9D6CFF'\" onclick=\"window.commands?.execute('create-mitosheet-from-dataframe-output');\">See Full Dataframe in Mito</div> <script> if (window.commands.hasCommand('create-mitosheet-from-dataframe-output')) document.getElementById('29c22f5e-6edc-4098-853d-3b723ad04f21').style.display = 'flex' </script> <table border=\"1\" class=\"dataframe\">\n  <thead>\n    <tr style=\"text-align: right;\">\n      <th></th>\n      <th>dataverse_installation_name</th>\n      <th>dataset_pid_url</th>\n      <th>dataverse_collection_alias</th>\n      <th>dataverse_collection_name</th>\n      <th>dataverse_collection_type</th>\n      <th>dataset_publication_date</th>\n      <th>dataset_version_create_time</th>\n      <th>authorName</th>\n      <th>authorIdentifierScheme</th>\n      <th>authorIdentifier</th>\n    </tr>\n  </thead>\n  <tbody>\n    <tr>\n      <th>0</th>\n      <td>UNB_Libraries_Dataverse</td>\n      <td>https://doi.org/10.25545/NVN79Z</td>\n      <td>snb</td>\n      <td>Service New Brunswick</td>\n      <td>ORGANIZATIONS_INSTITUTIONS</td>\n      <td>2018-05-10</td>\n      <td>2022-03-23T19:49:10Z</td>\n      <td>Service New Brunswick</td>\n      <td>NaN</td>\n      <td>NaN</td>\n    </tr>\n    <tr>\n      <th>1</th>\n      <td>UNB_Libraries_Dataverse</td>\n      <td>https://doi.org/10.25545/YB60PU</td>\n      <td>blightchemistry</td>\n      <td>Blight Chemistry Research Omniverse</td>\n      <td>RESEARCH_GROUP</td>\n      <td>2018-06-20</td>\n      <td>2018-02-21T18:26:43Z</td>\n      <td>Blight, Barry A</td>\n      <td>ORCID</td>\n      <td>0000-0003-1166-6206</td>\n    </tr>\n    <tr>\n      <th>2</th>\n      <td>UNB_Libraries_Dataverse</td>\n      <td>https://doi.org/10.25545/WHD3KC</td>\n      <td>blightchemistry</td>\n      <td>Blight Chemistry Research Omniverse</td>\n      <td>RESEARCH_GROUP</td>\n      <td>2019-06-23</td>\n      <td>2019-06-21T18:30:39Z</td>\n      <td>Balonova, Barbora</td>\n      <td>NaN</td>\n      <td>NaN</td>\n    </tr>\n    <tr>\n      <th>3</th>\n      <td>UNB_Libraries_Dataverse</td>\n      <td>https://doi.org/10.25545/6TZWCG</td>\n      <td>Ir-CationBinding</td>\n      <td>Elucidation of Charge Contributions in Iridium-Chelated Hydrogen-Bonding Systems</td>\n      <td>JOURNALS</td>\n      <td>2021-05-18</td>\n      <td>2021-05-18T16:39:24Z</td>\n      <td>Blight, Barry A</td>\n      <td>NaN</td>\n      <td>NaN</td>\n    </tr>\n    <tr>\n      <th>4</th>\n      <td>UNB_Libraries_Dataverse</td>\n      <td>https://doi.org/10.25545/NYM13B</td>\n      <td>IFMLAB</td>\n      <td>Integrated Forest Management Lab</td>\n      <td>RESEARCH_GROUP</td>\n      <td>2020-06-30</td>\n      <td>2020-11-30T22:44:12Z</td>\n      <td>Chen, Yingbing</td>\n      <td>NaN</td>\n      <td>NaN</td>\n    </tr>\n  </tbody>\n</table></div>"
     },
     "execution_count": 6,
     "metadata": {},
     "output_type": "execute_result"
    }
   ],
   "source": [
    "datasetPIDsAndAuthorMetadataDF.head()"
   ],
   "metadata": {
    "collapsed": false,
    "pycharm": {
     "name": "#%%\n"
    }
   }
  },
  {
   "cell_type": "markdown",
   "source": [
    "# Explore data"
   ],
   "metadata": {
    "collapsed": false,
    "pycharm": {
     "name": "#%% md\n"
    }
   }
  },
  {
   "cell_type": "markdown",
   "source": [
    "In a given time frame, such as 12 months, what percentage of author metadata published in each Dataverse installation includes an ORCID?"
   ],
   "metadata": {
    "collapsed": false,
    "pycharm": {
     "name": "#%% md\n"
    }
   }
  },
  {
   "cell_type": "code",
   "execution_count": 15,
   "outputs": [
    {
     "data": {
      "text/plain": "  dataverse_installation_name dataset_version_create_time_dt  \\\n0     UNB_Libraries_Dataverse      2022-06-21 13:22:42+00:00   \n1     UNB_Libraries_Dataverse      2022-06-21 13:22:42+00:00   \n2           Harvard_Dataverse      2022-07-04 22:48:06+00:00   \n3           Harvard_Dataverse      2022-06-21 06:21:20+00:00   \n4           Harvard_Dataverse      2022-03-03 19:12:29+00:00   \n\n                   authorName authorIdentifierScheme     authorIdentifier  \n0  Gauthier, Amy-Rae Patricia                  ORCID  0000-0002-0145-3568  \n1                Newling, Ben                  ORCID  0000-0001-5647-8861  \n2          Nweya, Gerald Okey                  ORCID  0000-0002-0068-6933  \n3          Nweya, Gerald Okey                  ORCID  0000-0002-0068-6933  \n4             otina, beatrice                  ORCID  0000-0003-4574-9990  ",
      "text/html": "<div><div id=a5d536df-8819-4b77-ad91-4c34c92d75ba style=\"display:none; background-color:#9D6CFF; color:white; width:200px; height:30px; padding-left:5px; border-radius:4px; flex-direction:row; justify-content:space-around; align-items:center;\" onmouseover=\"this.style.backgroundColor='#BA9BF8'\" onmouseout=\"this.style.backgroundColor='#9D6CFF'\" onclick=\"window.commands?.execute('create-mitosheet-from-dataframe-output');\">See Full Dataframe in Mito</div> <script> if (window.commands.hasCommand('create-mitosheet-from-dataframe-output')) document.getElementById('a5d536df-8819-4b77-ad91-4c34c92d75ba').style.display = 'flex' </script> <table border=\"1\" class=\"dataframe\">\n  <thead>\n    <tr style=\"text-align: right;\">\n      <th></th>\n      <th>dataverse_installation_name</th>\n      <th>dataset_version_create_time_dt</th>\n      <th>authorName</th>\n      <th>authorIdentifierScheme</th>\n      <th>authorIdentifier</th>\n    </tr>\n  </thead>\n  <tbody>\n    <tr>\n      <th>0</th>\n      <td>UNB_Libraries_Dataverse</td>\n      <td>2022-06-21 13:22:42+00:00</td>\n      <td>Gauthier, Amy-Rae Patricia</td>\n      <td>ORCID</td>\n      <td>0000-0002-0145-3568</td>\n    </tr>\n    <tr>\n      <th>1</th>\n      <td>UNB_Libraries_Dataverse</td>\n      <td>2022-06-21 13:22:42+00:00</td>\n      <td>Newling, Ben</td>\n      <td>ORCID</td>\n      <td>0000-0001-5647-8861</td>\n    </tr>\n    <tr>\n      <th>2</th>\n      <td>Harvard_Dataverse</td>\n      <td>2022-07-04 22:48:06+00:00</td>\n      <td>Nweya, Gerald Okey</td>\n      <td>ORCID</td>\n      <td>0000-0002-0068-6933</td>\n    </tr>\n    <tr>\n      <th>3</th>\n      <td>Harvard_Dataverse</td>\n      <td>2022-06-21 06:21:20+00:00</td>\n      <td>Nweya, Gerald Okey</td>\n      <td>ORCID</td>\n      <td>0000-0002-0068-6933</td>\n    </tr>\n    <tr>\n      <th>4</th>\n      <td>Harvard_Dataverse</td>\n      <td>2022-03-03 19:12:29+00:00</td>\n      <td>otina, beatrice</td>\n      <td>ORCID</td>\n      <td>0000-0003-4574-9990</td>\n    </tr>\n  </tbody>\n</table></div>"
     },
     "execution_count": 15,
     "metadata": {},
     "output_type": "execute_result"
    }
   ],
   "source": [
    "publicationStartDate = '2022-01-01'\n",
    "publicationEndDate = '2022-12-31'\n",
    "\n",
    "orcidsDf = (\n",
    "    datasetPIDsAndAuthorMetadataDF\n",
    "        .query(\n",
    "            'dataset_version_create_time >= @publicationStartDate and\\\n",
    "            dataset_version_create_time <= @publicationEndDate and\\\n",
    "            (authorIdentifier.str.contains(\"orcid\", case=False) or\\\n",
    "            authorIdentifier.str.match(\".{4}-.{4}-.{4}-.{4}\") or\\\n",
    "            (authorIdentifierScheme == \"ORCID\" and\\\n",
    "            authorIdentifier == authorIdentifier))',\n",
    "            engine='python')\n",
    "    .assign(dataset_version_create_time_dt=lambda datasetPIDsAndAuthorMetadataDF: pd.to_datetime(\n",
    "        datasetPIDsAndAuthorMetadataDF['dataset_version_create_time']))\n",
    "    .drop(columns=['dataset_version_create_time'])\n",
    "    [[\n",
    "        'dataverse_installation_name',\n",
    "        'dataset_version_create_time_dt',\n",
    "        'authorName',\n",
    "        'authorIdentifierScheme',\n",
    "        'authorIdentifier'\n",
    "    ]]\n",
    "    .reset_index(drop=True, inplace=False)\n",
    ")\n",
    "\n",
    "orcidsDf.head()"
   ],
   "metadata": {
    "collapsed": false,
    "pycharm": {
     "name": "#%%\n"
    }
   }
  },
  {
   "cell_type": "code",
   "execution_count": 16,
   "outputs": [
    {
     "name": "stdout",
     "output_type": "stream",
     "text": [
      "dataverse_installation_name                    object\n",
      "dataset_version_create_time_dt    datetime64[ns, UTC]\n",
      "authorName                                     object\n",
      "authorIdentifierScheme                         object\n",
      "authorIdentifier                               object\n",
      "dtype: object\n"
     ]
    }
   ],
   "source": [
    "print(orcidsDf.dtypes)"
   ],
   "metadata": {
    "collapsed": false,
    "pycharm": {
     "name": "#%%\n"
    }
   }
  },
  {
   "cell_type": "code",
   "execution_count": 17,
   "outputs": [
    {
     "data": {
      "text/plain": "  dataverse_installation_name dataset_version_create_time_dt  \\\n0     UNB_Libraries_Dataverse      2022-03-23 19:49:10+00:00   \n1     UNB_Libraries_Dataverse      2022-04-28 18:46:30+00:00   \n2     UNB_Libraries_Dataverse      2022-05-26 14:22:05+00:00   \n3     UNB_Libraries_Dataverse      2022-04-25 19:11:39+00:00   \n4     UNB_Libraries_Dataverse      2022-03-23 19:39:20+00:00   \n\n                    authorName authorIdentifierScheme authorIdentifier  \n0        Service New Brunswick                    NaN              NaN  \n1             Froc, Kerri Anne                    NaN              NaN  \n2  O'Connell-Cooper, Catherine                    NaN              NaN  \n3               Thompson, Lucy                    NaN              NaN  \n4        Service New Brunswick                    NaN              NaN  ",
      "text/html": "<div><div id=4d79e2f9-7aaf-4586-b721-7c04802d4e75 style=\"display:none; background-color:#9D6CFF; color:white; width:200px; height:30px; padding-left:5px; border-radius:4px; flex-direction:row; justify-content:space-around; align-items:center;\" onmouseover=\"this.style.backgroundColor='#BA9BF8'\" onmouseout=\"this.style.backgroundColor='#9D6CFF'\" onclick=\"window.commands?.execute('create-mitosheet-from-dataframe-output');\">See Full Dataframe in Mito</div> <script> if (window.commands.hasCommand('create-mitosheet-from-dataframe-output')) document.getElementById('4d79e2f9-7aaf-4586-b721-7c04802d4e75').style.display = 'flex' </script> <table border=\"1\" class=\"dataframe\">\n  <thead>\n    <tr style=\"text-align: right;\">\n      <th></th>\n      <th>dataverse_installation_name</th>\n      <th>dataset_version_create_time_dt</th>\n      <th>authorName</th>\n      <th>authorIdentifierScheme</th>\n      <th>authorIdentifier</th>\n    </tr>\n  </thead>\n  <tbody>\n    <tr>\n      <th>0</th>\n      <td>UNB_Libraries_Dataverse</td>\n      <td>2022-03-23 19:49:10+00:00</td>\n      <td>Service New Brunswick</td>\n      <td>NaN</td>\n      <td>NaN</td>\n    </tr>\n    <tr>\n      <th>1</th>\n      <td>UNB_Libraries_Dataverse</td>\n      <td>2022-04-28 18:46:30+00:00</td>\n      <td>Froc, Kerri Anne</td>\n      <td>NaN</td>\n      <td>NaN</td>\n    </tr>\n    <tr>\n      <th>2</th>\n      <td>UNB_Libraries_Dataverse</td>\n      <td>2022-05-26 14:22:05+00:00</td>\n      <td>O'Connell-Cooper, Catherine</td>\n      <td>NaN</td>\n      <td>NaN</td>\n    </tr>\n    <tr>\n      <th>3</th>\n      <td>UNB_Libraries_Dataverse</td>\n      <td>2022-04-25 19:11:39+00:00</td>\n      <td>Thompson, Lucy</td>\n      <td>NaN</td>\n      <td>NaN</td>\n    </tr>\n    <tr>\n      <th>4</th>\n      <td>UNB_Libraries_Dataverse</td>\n      <td>2022-03-23 19:39:20+00:00</td>\n      <td>Service New Brunswick</td>\n      <td>NaN</td>\n      <td>NaN</td>\n    </tr>\n  </tbody>\n</table></div>"
     },
     "execution_count": 17,
     "metadata": {},
     "output_type": "execute_result"
    }
   ],
   "source": [
    "allAuthorMetadataDf = (\n",
    "    datasetPIDsAndAuthorMetadataDF\n",
    "        .query(\n",
    "            'dataset_version_create_time >= @publicationStartDate and\\\n",
    "            dataset_version_create_time <= @publicationEndDate and\\\n",
    "            authorName != \"N/A\"',\n",
    "            engine='python')\n",
    "    .assign(dataset_version_create_time_dt=lambda datasetPIDsAndAuthorMetadataDF: pd.to_datetime(\n",
    "        datasetPIDsAndAuthorMetadataDF['dataset_version_create_time']))\n",
    "    .drop(columns=['dataset_version_create_time'])\n",
    "    [[\n",
    "        'dataverse_installation_name',\n",
    "        'dataset_version_create_time_dt',\n",
    "        'authorName',\n",
    "        'authorIdentifierScheme',\n",
    "        'authorIdentifier'\n",
    "    ]]\n",
    "    .reset_index(drop=True, inplace=False)\n",
    ")\n",
    "\n",
    "allAuthorMetadataDf.head()"
   ],
   "metadata": {
    "collapsed": false,
    "pycharm": {
     "name": "#%%\n"
    }
   }
  },
  {
   "cell_type": "code",
   "execution_count": 18,
   "outputs": [
    {
     "name": "stdout",
     "output_type": "stream",
     "text": [
      "dataverse_installation_name                    object\n",
      "dataset_version_create_time_dt    datetime64[ns, UTC]\n",
      "authorName                                     object\n",
      "authorIdentifierScheme                         object\n",
      "authorIdentifier                               object\n",
      "dtype: object\n"
     ]
    }
   ],
   "source": [
    "print(allAuthorMetadataDf.dtypes)"
   ],
   "metadata": {
    "collapsed": false,
    "pycharm": {
     "name": "#%%\n"
    }
   }
  },
  {
   "cell_type": "code",
   "execution_count": 8,
   "outputs": [],
   "source": [
    "# Export the dataframe as a CSV file\n",
    "dataframe.to_csv(\n",
    "    'dataframe.csv',\n",
    "    index=False)"
   ],
   "metadata": {
    "collapsed": false,
    "pycharm": {
     "name": "#%%\n"
    }
   }
  },
  {
   "cell_type": "markdown",
   "source": [
    "Get count of author metadata with and without identifiers for each installation"
   ],
   "metadata": {
    "collapsed": false,
    "pycharm": {
     "name": "#%% md\n"
    }
   }
  }
 ],
 "metadata": {
  "kernelspec": {
   "display_name": "Python 3",
   "language": "python",
   "name": "python3"
  },
  "language_info": {
   "codemirror_mode": {
    "name": "ipython",
    "version": 2
   },
   "file_extension": ".py",
   "mimetype": "text/x-python",
   "name": "python",
   "nbconvert_exporter": "python",
   "pygments_lexer": "ipython2",
   "version": "2.7.6"
  }
 },
 "nbformat": 4,
 "nbformat_minor": 0
}