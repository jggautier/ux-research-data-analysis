{
 "cells": [
  {
   "cell_type": "code",
   "execution_count": 1,
   "metadata": {
    "collapsed": true
   },
   "outputs": [],
   "source": [
    "import pandas as pd"
   ]
  },
  {
   "cell_type": "markdown",
   "source": [
    "# Import, check and prepare data\n",
    "\n",
    "Import CSV files that contain:\n",
    "- The PIDs of all datasets published by many repositories that use the Dataverse software and which repositories published them\n",
    "- Author field metadata entered in all of those datasets"
   ],
   "metadata": {
    "collapsed": false,
    "pycharm": {
     "name": "#%% md\n"
    }
   }
  },
  {
   "cell_type": "code",
   "execution_count": 4,
   "outputs": [
    {
     "data": {
      "text/plain": "  dataverse_installation_name                  dataset_pid_url  \\\n0                     CROSSDA  https://doi.org/10.23669/SIHKQ9   \n1                     CROSSDA  https://doi.org/10.23669/2IFBSL   \n2                     CROSSDA  https://doi.org/10.23669/JVNVNR   \n3                     CROSSDA  https://doi.org/10.23669/CLYQHG   \n4                     CROSSDA  https://doi.org/10.23669/VO50RW   \n\n  dataverse_collection_alias  \\\n0                       ffzg   \n1                       ffzg   \n2                    erudito   \n3                     respoc   \n4                        his   \n\n                           dataverse_collection_name  \\\n0  University of Zagreb Faculty of Humanities and...   \n1  University of Zagreb Faculty of Humanities and...   \n2  E-Rudito:  An Advanced Online Education System...   \n3  (Re)building society: A longitudinal study of ...   \n4                          Croatian Election Studies   \n\n    dataverse_collection_type  \n0  ORGANIZATIONS_INSTITUTIONS  \n1  ORGANIZATIONS_INSTITUTIONS  \n2           RESEARCH_PROJECTS  \n3           RESEARCH_PROJECTS  \n4           RESEARCH_PROJECTS  ",
      "text/html": "<div><div id=88280518-d038-4515-b751-e4ef3107b089 style=\"display:none; background-color:#9D6CFF; color:white; width:200px; height:30px; padding-left:5px; border-radius:4px; flex-direction:row; justify-content:space-around; align-items:center;\" onmouseover=\"this.style.backgroundColor='#BA9BF8'\" onmouseout=\"this.style.backgroundColor='#9D6CFF'\" onclick=\"window.commands?.execute('create-mitosheet-from-dataframe-output');\">See Full Dataframe in Mito</div> <script> if (window.commands.hasCommand('create-mitosheet-from-dataframe-output')) document.getElementById('88280518-d038-4515-b751-e4ef3107b089').style.display = 'flex' </script> <table border=\"1\" class=\"dataframe\">\n  <thead>\n    <tr style=\"text-align: right;\">\n      <th></th>\n      <th>dataverse_installation_name</th>\n      <th>dataset_pid_url</th>\n      <th>dataverse_collection_alias</th>\n      <th>dataverse_collection_name</th>\n      <th>dataverse_collection_type</th>\n    </tr>\n  </thead>\n  <tbody>\n    <tr>\n      <th>0</th>\n      <td>CROSSDA</td>\n      <td>https://doi.org/10.23669/SIHKQ9</td>\n      <td>ffzg</td>\n      <td>University of Zagreb Faculty of Humanities and Social Sciences</td>\n      <td>ORGANIZATIONS_INSTITUTIONS</td>\n    </tr>\n    <tr>\n      <th>1</th>\n      <td>CROSSDA</td>\n      <td>https://doi.org/10.23669/2IFBSL</td>\n      <td>ffzg</td>\n      <td>University of Zagreb Faculty of Humanities and Social Sciences</td>\n      <td>ORGANIZATIONS_INSTITUTIONS</td>\n    </tr>\n    <tr>\n      <th>2</th>\n      <td>CROSSDA</td>\n      <td>https://doi.org/10.23669/JVNVNR</td>\n      <td>erudito</td>\n      <td>E-Rudito:  An Advanced Online Education System for Smart Specialization and Jobs of the Future</td>\n      <td>RESEARCH_PROJECTS</td>\n    </tr>\n    <tr>\n      <th>3</th>\n      <td>CROSSDA</td>\n      <td>https://doi.org/10.23669/CLYQHG</td>\n      <td>respoc</td>\n      <td>(Re)building society: A longitudinal study of post-corona social recovery in Croatian general population (ReSPoC)</td>\n      <td>RESEARCH_PROJECTS</td>\n    </tr>\n    <tr>\n      <th>4</th>\n      <td>CROSSDA</td>\n      <td>https://doi.org/10.23669/VO50RW</td>\n      <td>his</td>\n      <td>Croatian Election Studies</td>\n      <td>RESEARCH_PROJECTS</td>\n    </tr>\n  </tbody>\n</table></div>"
     },
     "execution_count": 4,
     "metadata": {},
     "output_type": "execute_result"
    }
   ],
   "source": [
    "# Get basic info about datasets in repositories and remove ODISSEI Portal\n",
    "datasetPIDsDF = (pd\n",
    "    .read_csv(\n",
    "        'dataset_pids_from_most_known_dataverse_installations_2024.08.csv',\n",
    "        sep=',',\n",
    "        na_filter=False)\n",
    "    .query(\n",
    "        '(dataverse_json_export_saved == True) and\\\n",
    "        (dataverse_installation_name != \"ODISSEI_Portal\")')\n",
    "    .drop(columns=['dataverse_json_export_saved', 'dataset_pid'])\n",
    "    .reset_index(drop=True, inplace=False)\n",
    " )\n",
    "\n",
    "datasetPIDsDF.head()"
   ],
   "metadata": {
    "collapsed": false,
    "pycharm": {
     "name": "#%%\n"
    }
   }
  },
  {
   "cell_type": "code",
   "execution_count": 3,
   "outputs": [
    {
     "data": {
      "text/plain": "                          dataset_pid_url dataset_publication_date  \\\n0     https://doi.org/10.48370/OFD/8TTRLC               2022-05-13   \n1  https://doi.org/10.17026/dans-xk3-33d2               2023-04-06   \n2  https://doi.org/10.17026/dans-26a-cq4r               2015-09-18   \n3       https://hdl.handle.net/2014/29246               1995-01-01   \n4       https://hdl.handle.net/2014/29246               1995-01-01   \n\n   dataset_version_number dataset_version_create_time  \\\n0                     1.0   2022-05-11 14:44:29+00:00   \n1                     1.0   2023-10-16 13:53:23+00:00   \n2                     2.0   2022-02-18 19:29:27+00:00   \n3                     2.0   2024-04-02 14:37:17+00:00   \n4                     2.0   2024-04-02 14:37:17+00:00   \n\n                                          authorName authorIdentifierScheme  \\\n0  Mammal Research Institute, Polish Academy of S...                    NaN   \n1            Portable Antiquities of the Netherlands                    NaN   \n2                                     H.J. Hesseling                    NaN   \n3                                        Feynman, J.                    NaN   \n4                                      Ruzmaikin, A.                    NaN   \n\n  authorIdentifier  \n0              NaN  \n1              NaN  \n2              NaN  \n3              NaN  \n4              NaN  ",
      "text/html": "<div><div id=d7ddce0a-a922-4946-b871-b23b30c1d59a style=\"display:none; background-color:#9D6CFF; color:white; width:200px; height:30px; padding-left:5px; border-radius:4px; flex-direction:row; justify-content:space-around; align-items:center;\" onmouseover=\"this.style.backgroundColor='#BA9BF8'\" onmouseout=\"this.style.backgroundColor='#9D6CFF'\" onclick=\"window.commands?.execute('create-mitosheet-from-dataframe-output');\">See Full Dataframe in Mito</div> <script> if (window.commands.hasCommand('create-mitosheet-from-dataframe-output')) document.getElementById('d7ddce0a-a922-4946-b871-b23b30c1d59a').style.display = 'flex' </script> <table border=\"1\" class=\"dataframe\">\n  <thead>\n    <tr style=\"text-align: right;\">\n      <th></th>\n      <th>dataset_pid_url</th>\n      <th>dataset_publication_date</th>\n      <th>dataset_version_number</th>\n      <th>dataset_version_create_time</th>\n      <th>authorName</th>\n      <th>authorIdentifierScheme</th>\n      <th>authorIdentifier</th>\n    </tr>\n  </thead>\n  <tbody>\n    <tr>\n      <th>0</th>\n      <td>https://doi.org/10.48370/OFD/8TTRLC</td>\n      <td>2022-05-13</td>\n      <td>1.0</td>\n      <td>2022-05-11 14:44:29+00:00</td>\n      <td>Mammal Research Institute, Polish Academy of Sciences</td>\n      <td>NaN</td>\n      <td>NaN</td>\n    </tr>\n    <tr>\n      <th>1</th>\n      <td>https://doi.org/10.17026/dans-xk3-33d2</td>\n      <td>2023-04-06</td>\n      <td>1.0</td>\n      <td>2023-10-16 13:53:23+00:00</td>\n      <td>Portable Antiquities of the Netherlands</td>\n      <td>NaN</td>\n      <td>NaN</td>\n    </tr>\n    <tr>\n      <th>2</th>\n      <td>https://doi.org/10.17026/dans-26a-cq4r</td>\n      <td>2015-09-18</td>\n      <td>2.0</td>\n      <td>2022-02-18 19:29:27+00:00</td>\n      <td>H.J. Hesseling</td>\n      <td>NaN</td>\n      <td>NaN</td>\n    </tr>\n    <tr>\n      <th>3</th>\n      <td>https://hdl.handle.net/2014/29246</td>\n      <td>1995-01-01</td>\n      <td>2.0</td>\n      <td>2024-04-02 14:37:17+00:00</td>\n      <td>Feynman, J.</td>\n      <td>NaN</td>\n      <td>NaN</td>\n    </tr>\n    <tr>\n      <th>4</th>\n      <td>https://hdl.handle.net/2014/29246</td>\n      <td>1995-01-01</td>\n      <td>2.0</td>\n      <td>2024-04-02 14:37:17+00:00</td>\n      <td>Ruzmaikin, A.</td>\n      <td>NaN</td>\n      <td>NaN</td>\n    </tr>\n  </tbody>\n</table></div>"
     },
     "execution_count": 3,
     "metadata": {},
     "output_type": "execute_result"
    }
   ],
   "source": [
    "# Get Author field metadata entered in all datasets in Dataverse repositories\n",
    "# and remove datasets have have no author metadata\n",
    "authorMetadataDF = (pd\n",
    "    .read_csv(\n",
    "        'author_2024.08.25-2024.08.30.csv',\n",
    "        sep=',',\n",
    "        na_filter=True,\n",
    "        parse_dates=['dataset_publication_date', 'dataset_version_create_time'])\n",
    "    .drop(columns=['dataset_pid', 'authorAffiliation'])\n",
    "    .query('authorName != \"N/A\"')\n",
    "    .reset_index(drop=True, inplace=False)\n",
    "    )\n",
    "\n",
    "authorMetadataDF.head()"
   ],
   "metadata": {
    "collapsed": false,
    "pycharm": {
     "name": "#%%\n"
    }
   }
  },
  {
   "cell_type": "code",
   "execution_count": 4,
   "outputs": [
    {
     "name": "stdout",
     "output_type": "stream",
     "text": [
      "Number of datasets in datasetPIDsDF: 390401\n",
      "Number of datasets in authorMetadataDF: 390401\n"
     ]
    }
   ],
   "source": [
    "# Sanity check data by making sure count of datasets is the same in both dataframes\n",
    "print(f'Number of datasets in datasetPIDsDF: {len(datasetPIDsDF)}')\n",
    "datasetCountInAuthorMetadataDF = len(pd.unique(authorMetadataDF['dataset_pid_url']))\n",
    "print(f'Number of datasets in authorMetadataDF: {datasetCountInAuthorMetadataDF}')"
   ],
   "metadata": {
    "collapsed": false,
    "pycharm": {
     "name": "#%%\n"
    }
   }
  },
  {
   "cell_type": "code",
   "execution_count": 5,
   "outputs": [
    {
     "name": "stdout",
     "output_type": "stream",
     "text": [
      "Number of datasets in datasetPIDsAndAuthorMetadataDF: 390401\n",
      "Number of author metadata in datasetPIDsAndAuthorMetadataDF: 667435\n",
      "Number of installations in datasetPIDsAndAuthorMetadataDF: 84\n"
     ]
    }
   ],
   "source": [
    "# Join the datasetPIDsDF and the authorMetadataDF to add the installation column,\n",
    "# so we know which installations published each dataset\n",
    "datasetPIDsAndAuthorMetadataDF = (pd\n",
    "    .merge(datasetPIDsDF, authorMetadataDF,\n",
    "        how='inner',\n",
    "        on=['dataset_pid_url'])\n",
    "    .drop(columns=['dataset_version_number'])\n",
    "    .reset_index(drop=True, inplace=False))\n",
    "\n",
    "# Make sure the count of datasets in datasetPIDsAndAuthorMetadataDF\n",
    "# is the same as in datasetPIDsDF: 390401\n",
    "datasetCountInDatasetPIDsAndAuthorMetadataDF = len(pd.unique(datasetPIDsAndAuthorMetadataDF['dataset_pid_url']))\n",
    "print(f'Number of datasets in datasetPIDsAndAuthorMetadataDF: {datasetCountInDatasetPIDsAndAuthorMetadataDF}')\n",
    "\n",
    "# Get count of author metadata\n",
    "print(f'Number of author metadata in datasetPIDsAndAuthorMetadataDF: {len(datasetPIDsAndAuthorMetadataDF)}')\n",
    "\n",
    "# Get count of installations. Should by 84: the 85 installations in my dataset minus ODISSEI Portal\n",
    "allInstallationsList = list(set(datasetPIDsAndAuthorMetadataDF['dataverse_installation_name'].tolist()))\n",
    "countOfInstallations = len(allInstallationsList)\n",
    "print(f'Number of installations in datasetPIDsAndAuthorMetadataDF: {countOfInstallations}')"
   ],
   "metadata": {
    "collapsed": false,
    "pycharm": {
     "name": "#%%\n"
    }
   }
  },
  {
   "cell_type": "code",
   "execution_count": 6,
   "outputs": [
    {
     "data": {
      "text/plain": "  dataverse_installation_name                  dataset_pid_url  \\\n0     UNB_Libraries_Dataverse  https://doi.org/10.25545/NVN79Z   \n1     UNB_Libraries_Dataverse  https://doi.org/10.25545/YB60PU   \n2     UNB_Libraries_Dataverse  https://doi.org/10.25545/WHD3KC   \n3     UNB_Libraries_Dataverse  https://doi.org/10.25545/6TZWCG   \n4     UNB_Libraries_Dataverse  https://doi.org/10.25545/NYM13B   \n\n  dataverse_collection_alias  \\\n0                        snb   \n1            blightchemistry   \n2            blightchemistry   \n3           Ir-CationBinding   \n4                     IFMLAB   \n\n                           dataverse_collection_name  \\\n0                              Service New Brunswick   \n1                Blight Chemistry Research Omniverse   \n2                Blight Chemistry Research Omniverse   \n3  Elucidation of Charge Contributions in Iridium...   \n4                   Integrated Forest Management Lab   \n\n    dataverse_collection_type dataset_publication_date  \\\n0  ORGANIZATIONS_INSTITUTIONS               2018-05-10   \n1              RESEARCH_GROUP               2018-06-20   \n2              RESEARCH_GROUP               2019-06-23   \n3                    JOURNALS               2021-05-18   \n4              RESEARCH_GROUP               2020-06-30   \n\n  dataset_version_create_time             authorName authorIdentifierScheme  \\\n0        2022-03-23T19:49:10Z  Service New Brunswick                    NaN   \n1        2018-02-21T18:26:43Z        Blight, Barry A                  ORCID   \n2        2019-06-21T18:30:39Z      Balonova, Barbora                    NaN   \n3        2021-05-18T16:39:24Z        Blight, Barry A                    NaN   \n4        2020-11-30T22:44:12Z         Chen, Yingbing                    NaN   \n\n      authorIdentifier  \n0                  NaN  \n1  0000-0003-1166-6206  \n2                  NaN  \n3                  NaN  \n4                  NaN  ",
      "text/html": "<div><div id=da7fd7af-40cf-4d11-a7e0-18891bc168d5 style=\"display:none; background-color:#9D6CFF; color:white; width:200px; height:30px; padding-left:5px; border-radius:4px; flex-direction:row; justify-content:space-around; align-items:center;\" onmouseover=\"this.style.backgroundColor='#BA9BF8'\" onmouseout=\"this.style.backgroundColor='#9D6CFF'\" onclick=\"window.commands?.execute('create-mitosheet-from-dataframe-output');\">See Full Dataframe in Mito</div> <script> if (window.commands.hasCommand('create-mitosheet-from-dataframe-output')) document.getElementById('da7fd7af-40cf-4d11-a7e0-18891bc168d5').style.display = 'flex' </script> <table border=\"1\" class=\"dataframe\">\n  <thead>\n    <tr style=\"text-align: right;\">\n      <th></th>\n      <th>dataverse_installation_name</th>\n      <th>dataset_pid_url</th>\n      <th>dataverse_collection_alias</th>\n      <th>dataverse_collection_name</th>\n      <th>dataverse_collection_type</th>\n      <th>dataset_publication_date</th>\n      <th>dataset_version_create_time</th>\n      <th>authorName</th>\n      <th>authorIdentifierScheme</th>\n      <th>authorIdentifier</th>\n    </tr>\n  </thead>\n  <tbody>\n    <tr>\n      <th>0</th>\n      <td>UNB_Libraries_Dataverse</td>\n      <td>https://doi.org/10.25545/NVN79Z</td>\n      <td>snb</td>\n      <td>Service New Brunswick</td>\n      <td>ORGANIZATIONS_INSTITUTIONS</td>\n      <td>2018-05-10</td>\n      <td>2022-03-23T19:49:10Z</td>\n      <td>Service New Brunswick</td>\n      <td>NaN</td>\n      <td>NaN</td>\n    </tr>\n    <tr>\n      <th>1</th>\n      <td>UNB_Libraries_Dataverse</td>\n      <td>https://doi.org/10.25545/YB60PU</td>\n      <td>blightchemistry</td>\n      <td>Blight Chemistry Research Omniverse</td>\n      <td>RESEARCH_GROUP</td>\n      <td>2018-06-20</td>\n      <td>2018-02-21T18:26:43Z</td>\n      <td>Blight, Barry A</td>\n      <td>ORCID</td>\n      <td>0000-0003-1166-6206</td>\n    </tr>\n    <tr>\n      <th>2</th>\n      <td>UNB_Libraries_Dataverse</td>\n      <td>https://doi.org/10.25545/WHD3KC</td>\n      <td>blightchemistry</td>\n      <td>Blight Chemistry Research Omniverse</td>\n      <td>RESEARCH_GROUP</td>\n      <td>2019-06-23</td>\n      <td>2019-06-21T18:30:39Z</td>\n      <td>Balonova, Barbora</td>\n      <td>NaN</td>\n      <td>NaN</td>\n    </tr>\n    <tr>\n      <th>3</th>\n      <td>UNB_Libraries_Dataverse</td>\n      <td>https://doi.org/10.25545/6TZWCG</td>\n      <td>Ir-CationBinding</td>\n      <td>Elucidation of Charge Contributions in Iridium-Chelated Hydrogen-Bonding Systems</td>\n      <td>JOURNALS</td>\n      <td>2021-05-18</td>\n      <td>2021-05-18T16:39:24Z</td>\n      <td>Blight, Barry A</td>\n      <td>NaN</td>\n      <td>NaN</td>\n    </tr>\n    <tr>\n      <th>4</th>\n      <td>UNB_Libraries_Dataverse</td>\n      <td>https://doi.org/10.25545/NYM13B</td>\n      <td>IFMLAB</td>\n      <td>Integrated Forest Management Lab</td>\n      <td>RESEARCH_GROUP</td>\n      <td>2020-06-30</td>\n      <td>2020-11-30T22:44:12Z</td>\n      <td>Chen, Yingbing</td>\n      <td>NaN</td>\n      <td>NaN</td>\n    </tr>\n  </tbody>\n</table></div>"
     },
     "execution_count": 6,
     "metadata": {},
     "output_type": "execute_result"
    }
   ],
   "source": [
    "datasetPIDsAndAuthorMetadataDF.head()"
   ],
   "metadata": {
    "collapsed": false,
    "pycharm": {
     "name": "#%%\n"
    }
   }
  },
  {
   "cell_type": "markdown",
   "source": [
    "# Get metrics"
   ],
   "metadata": {
    "collapsed": false,
    "pycharm": {
     "name": "#%% md\n"
    }
   }
  },
  {
   "cell_type": "markdown",
   "source": [
    "In a given time frame, such as 12 months, what percentage of author metadata published in each Dataverse installation includes an ORCID?"
   ],
   "metadata": {
    "collapsed": false,
    "pycharm": {
     "name": "#%% md\n"
    }
   }
  },
  {
   "cell_type": "code",
   "execution_count": 7,
   "outputs": [],
   "source": [
    "publicationStartDate = '2022-01-01'\n",
    "publicationEndDate = '2022-12-31'"
   ],
   "metadata": {
    "collapsed": false,
    "pycharm": {
     "name": "#%%\n"
    }
   }
  },
  {
   "cell_type": "code",
   "execution_count": 8,
   "outputs": [
    {
     "data": {
      "text/plain": "  dataverse_installation_name  count_of_author_metadata\n0     UNB_Libraries_Dataverse                        17\n1           Harvard_Dataverse                     10972\n2                     PAPYRUS                        23\n3    Dataverse_e-cienciaDatos                       124\n4              NIOZ_Dataverse                        36",
      "text/html": "<div><div id=f4fa28c3-4efb-451f-b333-f9e133159a31 style=\"display:none; background-color:#9D6CFF; color:white; width:200px; height:30px; padding-left:5px; border-radius:4px; flex-direction:row; justify-content:space-around; align-items:center;\" onmouseover=\"this.style.backgroundColor='#BA9BF8'\" onmouseout=\"this.style.backgroundColor='#9D6CFF'\" onclick=\"window.commands?.execute('create-mitosheet-from-dataframe-output');\">See Full Dataframe in Mito</div> <script> if (window.commands.hasCommand('create-mitosheet-from-dataframe-output')) document.getElementById('f4fa28c3-4efb-451f-b333-f9e133159a31').style.display = 'flex' </script> <table border=\"1\" class=\"dataframe\">\n  <thead>\n    <tr style=\"text-align: right;\">\n      <th></th>\n      <th>dataverse_installation_name</th>\n      <th>count_of_author_metadata</th>\n    </tr>\n  </thead>\n  <tbody>\n    <tr>\n      <th>0</th>\n      <td>UNB_Libraries_Dataverse</td>\n      <td>17</td>\n    </tr>\n    <tr>\n      <th>1</th>\n      <td>Harvard_Dataverse</td>\n      <td>10972</td>\n    </tr>\n    <tr>\n      <th>2</th>\n      <td>PAPYRUS</td>\n      <td>23</td>\n    </tr>\n    <tr>\n      <th>3</th>\n      <td>Dataverse_e-cienciaDatos</td>\n      <td>124</td>\n    </tr>\n    <tr>\n      <th>4</th>\n      <td>NIOZ_Dataverse</td>\n      <td>36</td>\n    </tr>\n  </tbody>\n</table></div>"
     },
     "execution_count": 8,
     "metadata": {},
     "output_type": "execute_result"
    }
   ],
   "source": [
    "countOfAuthorMetadataPerInstallationDf = (\n",
    "    datasetPIDsAndAuthorMetadataDF\n",
    "        .query(\n",
    "            'dataset_version_create_time >= @publicationStartDate and\\\n",
    "            dataset_version_create_time <= @publicationEndDate',\n",
    "            engine='python')\n",
    "    .assign(dataset_version_create_time_dt=lambda datasetPIDsAndAuthorMetadataDF: pd.to_datetime(\n",
    "        datasetPIDsAndAuthorMetadataDF['dataset_version_create_time']))\n",
    "    .assign(dataset_version_create_year=lambda datasetPIDsAndAuthorMetadataDF: pd.to_datetime(\n",
    "        datasetPIDsAndAuthorMetadataDF['dataset_version_create_time_dt']).dt.year)\n",
    "    [[\n",
    "        'dataverse_installation_name',\n",
    "        'dataset_version_create_year',\n",
    "        'authorName',\n",
    "        'authorIdentifierScheme',\n",
    "        'authorIdentifier'\n",
    "    ]]\n",
    "    # Within each installation, drop duplicate author metadata. This will mitigate the effect of\n",
    "    # hundreds or thousands of datasets being published with the same author metadata,\n",
    "    # such as during a dataset migration or bulk publishing using APIs\n",
    "    .drop_duplicates(\n",
    "        subset=[\n",
    "            'authorName',\n",
    "            'authorIdentifierScheme',\n",
    "            'authorIdentifier'],\n",
    "        keep='first')\n",
    "    [[\n",
    "        'dataverse_installation_name',\n",
    "        'dataset_version_create_year'\n",
    "    ]]\n",
    "\n",
    "    .reset_index(drop=True, inplace=False)\n",
    "\n",
    "    # Group by count of rows for each dataverse_installation_name\n",
    "    .groupby(pd.Grouper(key='dataverse_installation_name', axis=0)).count()\n",
    "    .rename(columns={'dataset_version_create_year': 'count_of_author_metadata'})\n",
    "    .reset_index(drop=False, inplace=False)\n",
    ")\n",
    "\n",
    "countOfAuthorMetadataPerInstallationDf.head()"
   ],
   "metadata": {
    "collapsed": false,
    "pycharm": {
     "name": "#%%\n"
    }
   }
  },
  {
   "cell_type": "code",
   "execution_count": 9,
   "outputs": [
    {
     "data": {
      "text/plain": "  dataverse_installation_name  count_of_orcids\n0     UNB_Libraries_Dataverse                2\n1           Harvard_Dataverse             4004\n2                     PAPYRUS               20\n3    Dataverse_e-cienciaDatos               89\n4              NIOZ_Dataverse               27",
      "text/html": "<div><div id=10e87e21-7eec-466c-8b35-31eb71ad76f5 style=\"display:none; background-color:#9D6CFF; color:white; width:200px; height:30px; padding-left:5px; border-radius:4px; flex-direction:row; justify-content:space-around; align-items:center;\" onmouseover=\"this.style.backgroundColor='#BA9BF8'\" onmouseout=\"this.style.backgroundColor='#9D6CFF'\" onclick=\"window.commands?.execute('create-mitosheet-from-dataframe-output');\">See Full Dataframe in Mito</div> <script> if (window.commands.hasCommand('create-mitosheet-from-dataframe-output')) document.getElementById('10e87e21-7eec-466c-8b35-31eb71ad76f5').style.display = 'flex' </script> <table border=\"1\" class=\"dataframe\">\n  <thead>\n    <tr style=\"text-align: right;\">\n      <th></th>\n      <th>dataverse_installation_name</th>\n      <th>count_of_orcids</th>\n    </tr>\n  </thead>\n  <tbody>\n    <tr>\n      <th>0</th>\n      <td>UNB_Libraries_Dataverse</td>\n      <td>2</td>\n    </tr>\n    <tr>\n      <th>1</th>\n      <td>Harvard_Dataverse</td>\n      <td>4004</td>\n    </tr>\n    <tr>\n      <th>2</th>\n      <td>PAPYRUS</td>\n      <td>20</td>\n    </tr>\n    <tr>\n      <th>3</th>\n      <td>Dataverse_e-cienciaDatos</td>\n      <td>89</td>\n    </tr>\n    <tr>\n      <th>4</th>\n      <td>NIOZ_Dataverse</td>\n      <td>27</td>\n    </tr>\n  </tbody>\n</table></div>"
     },
     "execution_count": 9,
     "metadata": {},
     "output_type": "execute_result"
    }
   ],
   "source": [
    "countOfORCIDsPerInstallationDf = (\n",
    "    datasetPIDsAndAuthorMetadataDF\n",
    "        .query(\n",
    "            'dataset_version_create_time >= @publicationStartDate and\\\n",
    "            dataset_version_create_time <= @publicationEndDate and\\\n",
    "            (authorIdentifier.str.contains(\"orcid\", case=False) or\\\n",
    "            authorIdentifier.str.match(\".{4}-.{4}-.{4}-.{4}\") or\\\n",
    "            (authorIdentifierScheme == \"ORCID\" and\\\n",
    "            authorIdentifier == authorIdentifier))',\n",
    "            engine='python')\n",
    "        .drop(columns=[\n",
    "            'dataset_pid_url',\n",
    "            'dataverse_collection_alias',\n",
    "            'dataverse_collection_name',\n",
    "            'dataverse_collection_type'])\n",
    "        .assign(dataset_version_create_time_dt=lambda datasetPIDsAndAuthorMetadataDF: pd.to_datetime(\n",
    "            datasetPIDsAndAuthorMetadataDF['dataset_version_create_time']))\n",
    "        .assign(dataset_version_create_year=lambda datasetPIDsAndAuthorMetadataDF: pd.to_datetime(\n",
    "            datasetPIDsAndAuthorMetadataDF['dataset_version_create_time_dt']).dt.year)\n",
    "        [[\n",
    "            'dataverse_installation_name',\n",
    "            'dataset_version_create_year',\n",
    "            'authorName',\n",
    "            'authorIdentifierScheme',\n",
    "            'authorIdentifier'\n",
    "        ]]\n",
    "\n",
    "    # Within each installation, drop duplicate author metadata. This will mitigate the effect of\n",
    "    # hundreds or thousands of datasets being published with the same author metadata,\n",
    "    # such as during a dataset migration or bulk publishing using APIs\n",
    "        .drop_duplicates(\n",
    "            subset=[\n",
    "                'authorName',\n",
    "                'authorIdentifierScheme',\n",
    "                'authorIdentifier'],\n",
    "            keep='first')\n",
    "        [[\n",
    "            'dataverse_installation_name',\n",
    "            'dataset_version_create_year'\n",
    "        ]]\n",
    "\n",
    "        .reset_index(drop=True, inplace=False)\n",
    "\n",
    "        # Group by count of rows for each dataverse_installation_name\n",
    "        .groupby(pd.Grouper(key='dataverse_installation_name', axis=0)).count()\n",
    "        .rename(columns={'dataset_version_create_year': 'count_of_orcids'})\n",
    "        .reset_index(drop=False, inplace=False)\n",
    ")\n",
    "\n",
    "countOfORCIDsPerInstallationDf.head()"
   ],
   "metadata": {
    "collapsed": false,
    "pycharm": {
     "name": "#%%\n"
    }
   }
  },
  {
   "cell_type": "code",
   "execution_count": 15,
   "outputs": [
    {
     "data": {
      "text/plain": "            dataverse_installation_name  count_of_author_metadata  \\\n0                        ACSS_Dataverse                         5   \n1                         ADA_Dataverse                       109   \n2  ASU_Library_Research_Data_Repository                        62   \n3                      AUSSDA_Dataverse                       111   \n4                                Abacus                       207   \n\n   count_of_orcids  percentage_of_orcids  \n0                3             60.000000  \n1               58             53.211009  \n2               32             51.612903  \n3               52             46.846847  \n4                0              0.000000  ",
      "text/html": "<div><div id=d1d919c9-554a-4a96-b4da-b7596a21b1db style=\"display:none; background-color:#9D6CFF; color:white; width:200px; height:30px; padding-left:5px; border-radius:4px; flex-direction:row; justify-content:space-around; align-items:center;\" onmouseover=\"this.style.backgroundColor='#BA9BF8'\" onmouseout=\"this.style.backgroundColor='#9D6CFF'\" onclick=\"window.commands?.execute('create-mitosheet-from-dataframe-output');\">See Full Dataframe in Mito</div> <script> if (window.commands.hasCommand('create-mitosheet-from-dataframe-output')) document.getElementById('d1d919c9-554a-4a96-b4da-b7596a21b1db').style.display = 'flex' </script> <table border=\"1\" class=\"dataframe\">\n  <thead>\n    <tr style=\"text-align: right;\">\n      <th></th>\n      <th>dataverse_installation_name</th>\n      <th>count_of_author_metadata</th>\n      <th>count_of_orcids</th>\n      <th>percentage_of_orcids</th>\n    </tr>\n  </thead>\n  <tbody>\n    <tr>\n      <th>0</th>\n      <td>ACSS_Dataverse</td>\n      <td>5</td>\n      <td>3</td>\n      <td>60.000000</td>\n    </tr>\n    <tr>\n      <th>1</th>\n      <td>ADA_Dataverse</td>\n      <td>109</td>\n      <td>58</td>\n      <td>53.211009</td>\n    </tr>\n    <tr>\n      <th>2</th>\n      <td>ASU_Library_Research_Data_Repository</td>\n      <td>62</td>\n      <td>32</td>\n      <td>51.612903</td>\n    </tr>\n    <tr>\n      <th>3</th>\n      <td>AUSSDA_Dataverse</td>\n      <td>111</td>\n      <td>52</td>\n      <td>46.846847</td>\n    </tr>\n    <tr>\n      <th>4</th>\n      <td>Abacus</td>\n      <td>207</td>\n      <td>0</td>\n      <td>0.000000</td>\n    </tr>\n  </tbody>\n</table></div>"
     },
     "execution_count": 15,
     "metadata": {},
     "output_type": "execute_result"
    }
   ],
   "source": [
    "# Merge the two dataframes\n",
    "authorMetadataAndORCIDsPerInstallation2022 = (pd\n",
    "    .merge(countOfAuthorMetadataPerInstallationDf, countOfORCIDsPerInstallationDf,\n",
    "        how='outer',\n",
    "        on=['dataverse_installation_name'])\n",
    "    .fillna(0)\n",
    "    # Make dataverse_installation_name the index column\n",
    "    .set_index('dataverse_installation_name', inplace=False)\n",
    "    # Make sure all non-indexed columns are integers\n",
    "    .astype('int32')\n",
    "    .reset_index(drop=False, inplace=False)\n",
    "    .sort_values(['dataverse_installation_name'], ascending=[True])\n",
    "    .reset_index(drop=True, inplace=False)\n",
    ")\n",
    "\n",
    "# Add column for percentage of ORCIDs\n",
    "authorMetadataAndORCIDsPerInstallation2022['percentage_of_orcids'] = (\n",
    "        (authorMetadataAndORCIDsPerInstallation2022['count_of_orcids']\n",
    "         / authorMetadataAndORCIDsPerInstallation2022['count_of_author_metadata'])\n",
    "        * 100\n",
    ")\n",
    "\n",
    "authorMetadataAndORCIDsPerInstallation2022.head()"
   ],
   "metadata": {
    "collapsed": false,
    "pycharm": {
     "name": "#%%\n"
    }
   }
  },
  {
   "cell_type": "code",
   "execution_count": 16,
   "outputs": [],
   "source": [
    "# Export the dataframe as a CSV file\n",
    "authorMetadataAndORCIDsPerInstallation2022.to_csv(\n",
    "    'authorMetadataAndORCIDsPerInstallation2022.csv',\n",
    "    index=False)"
   ],
   "metadata": {
    "collapsed": false,
    "pycharm": {
     "name": "#%%\n"
    }
   }
  },
  {
   "cell_type": "code",
   "execution_count": null,
   "outputs": [],
   "source": [],
   "metadata": {
    "collapsed": false,
    "pycharm": {
     "name": "#%%\n"
    }
   }
  }
 ],
 "metadata": {
  "kernelspec": {
   "display_name": "Python 3",
   "language": "python",
   "name": "python3"
  },
  "language_info": {
   "codemirror_mode": {
    "name": "ipython",
    "version": 2
   },
   "file_extension": ".py",
   "mimetype": "text/x-python",
   "name": "python",
   "nbconvert_exporter": "python",
   "pygments_lexer": "ipython2",
   "version": "2.7.6"
  }
 },
 "nbformat": 4,
 "nbformat_minor": 0
}