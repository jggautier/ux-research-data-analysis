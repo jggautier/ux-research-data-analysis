{
 "cells": [
  {
   "cell_type": "code",
   "execution_count": 1,
   "metadata": {
    "collapsed": true
   },
   "outputs": [],
   "source": [
    "import pandas as pd"
   ]
  },
  {
   "cell_type": "markdown",
   "source": [
    "# Import, check and prepare data\n",
    "\n",
    "Import CSV files that contain:\n",
    "- The PIDs of all datasets published by many repositories that use the Dataverse software and which repositories published them\n",
    "- Author field metadata entered in all of those datasets"
   ],
   "metadata": {
    "collapsed": false,
    "pycharm": {
     "name": "#%% md\n"
    }
   }
  },
  {
   "cell_type": "code",
   "execution_count": 26,
   "outputs": [
    {
     "data": {
      "text/plain": "                          dataset_pid_url dataset_publication_date  \\\n0  https://doi.org/10.17026/dans-xk3-33d2               2023-04-06   \n1       https://hdl.handle.net/2014/29246               1995-01-01   \n2       https://hdl.handle.net/2014/29246               1995-01-01   \n3       https://hdl.handle.net/2014/29246               1995-01-01   \n4  https://doi.org/10.17026/dans-z7f-pft2               2023-08-17   \n\n   dataset_version_number dataset_version_create_time  \\\n0                     1.0   2023-10-16 13:53:23+00:00   \n1                     2.0   2024-04-02 14:37:17+00:00   \n2                     2.0   2024-04-02 14:37:17+00:00   \n3                     2.0   2024-04-02 14:37:17+00:00   \n4                     1.0   2023-10-16 19:05:45+00:00   \n\n                                authorName authorIdentifierScheme  \\\n0  Portable Antiquities of the Netherlands                          \n1                              Feynman, J.                          \n2                            Ruzmaikin, A.                          \n3                             Smith, E. J.                          \n4  Portable Antiquities of the Netherlands                          \n\n  authorIdentifier  \n0                   \n1                   \n2                   \n3                   \n4                   ",
      "text/html": "<div><div id=bd5efe70-9a9b-4a16-b697-347445f5c97e style=\"display:none; background-color:#9D6CFF; color:white; width:200px; height:30px; padding-left:5px; border-radius:4px; flex-direction:row; justify-content:space-around; align-items:center;\" onmouseover=\"this.style.backgroundColor='#BA9BF8'\" onmouseout=\"this.style.backgroundColor='#9D6CFF'\" onclick=\"window.commands?.execute('create-mitosheet-from-dataframe-output');\">See Full Dataframe in Mito</div> <script> if (window.commands.hasCommand('create-mitosheet-from-dataframe-output')) document.getElementById('bd5efe70-9a9b-4a16-b697-347445f5c97e').style.display = 'flex' </script> <table border=\"1\" class=\"dataframe\">\n  <thead>\n    <tr style=\"text-align: right;\">\n      <th></th>\n      <th>dataset_pid_url</th>\n      <th>dataset_publication_date</th>\n      <th>dataset_version_number</th>\n      <th>dataset_version_create_time</th>\n      <th>authorName</th>\n      <th>authorIdentifierScheme</th>\n      <th>authorIdentifier</th>\n    </tr>\n  </thead>\n  <tbody>\n    <tr>\n      <th>0</th>\n      <td>https://doi.org/10.17026/dans-xk3-33d2</td>\n      <td>2023-04-06</td>\n      <td>1.0</td>\n      <td>2023-10-16 13:53:23+00:00</td>\n      <td>Portable Antiquities of the Netherlands</td>\n      <td></td>\n      <td></td>\n    </tr>\n    <tr>\n      <th>1</th>\n      <td>https://hdl.handle.net/2014/29246</td>\n      <td>1995-01-01</td>\n      <td>2.0</td>\n      <td>2024-04-02 14:37:17+00:00</td>\n      <td>Feynman, J.</td>\n      <td></td>\n      <td></td>\n    </tr>\n    <tr>\n      <th>2</th>\n      <td>https://hdl.handle.net/2014/29246</td>\n      <td>1995-01-01</td>\n      <td>2.0</td>\n      <td>2024-04-02 14:37:17+00:00</td>\n      <td>Ruzmaikin, A.</td>\n      <td></td>\n      <td></td>\n    </tr>\n    <tr>\n      <th>3</th>\n      <td>https://hdl.handle.net/2014/29246</td>\n      <td>1995-01-01</td>\n      <td>2.0</td>\n      <td>2024-04-02 14:37:17+00:00</td>\n      <td>Smith, E. J.</td>\n      <td></td>\n      <td></td>\n    </tr>\n    <tr>\n      <th>4</th>\n      <td>https://doi.org/10.17026/dans-z7f-pft2</td>\n      <td>2023-08-17</td>\n      <td>1.0</td>\n      <td>2023-10-16 19:05:45+00:00</td>\n      <td>Portable Antiquities of the Netherlands</td>\n      <td></td>\n      <td></td>\n    </tr>\n  </tbody>\n</table></div>"
     },
     "execution_count": 26,
     "metadata": {},
     "output_type": "execute_result"
    }
   ],
   "source": [
    "# Get Author field metadata of datasets in Dataverse repositories\n",
    "# whose latest versions were created in the last 12 months (between 2023-08-26\n",
    "# and 2023-08-25) and remove datasets that have no author metadata\n",
    "authorMetadataDF = (pd\n",
    "    .read_csv(\n",
    "        'author_2024.08.25-2024.08.30.csv',\n",
    "        sep=',',\n",
    "        na_filter=False,\n",
    "        parse_dates=['dataset_publication_date', 'dataset_version_create_time'])\n",
    "    .drop(columns=['dataset_pid', 'authorAffiliation'])\n",
    "    .query(\n",
    "        # 'authorName != \"N/A\" and\\\n",
    "        'dataset_version_create_time >= \"2023-08-26T00:00:00Z\" and\\\n",
    "        dataset_version_create_time < \"2024-08-26T00:00:00Z\"')\n",
    "    .reset_index(drop=True, inplace=False)\n",
    "    )\n",
    "\n",
    "authorMetadataDF.head()"
   ],
   "metadata": {
    "collapsed": false,
    "pycharm": {
     "name": "#%%\n"
    }
   }
  },
  {
   "cell_type": "code",
   "execution_count": 27,
   "outputs": [
    {
     "data": {
      "text/plain": "  dataverse_installation_name                  dataset_pid_url  \\\n0                     CROSSDA  https://doi.org/10.23669/TTB7HV   \n1                     CROSSDA  https://doi.org/10.23669/JBIXC5   \n2                     CROSSDA  https://doi.org/10.23669/RMVRHL   \n3                     CROSSDA  https://doi.org/10.23669/ZTAA3M   \n4                     CROSSDA  https://doi.org/10.23669/RN40FI   \n\n  dataverse_collection_alias  dataverse_collection_name  \\\n0                      unizd        University of Zadar   \n1                        his  Croatian Election Studies   \n2                        his  Croatian Election Studies   \n3                        his  Croatian Election Studies   \n4                        his  Croatian Election Studies   \n\n    dataverse_collection_type  \n0  ORGANIZATIONS_INSTITUTIONS  \n1           RESEARCH_PROJECTS  \n2           RESEARCH_PROJECTS  \n3           RESEARCH_PROJECTS  \n4           RESEARCH_PROJECTS  ",
      "text/html": "<div><div id=6de010b8-cb74-4dac-9c25-d18ffcb88731 style=\"display:none; background-color:#9D6CFF; color:white; width:200px; height:30px; padding-left:5px; border-radius:4px; flex-direction:row; justify-content:space-around; align-items:center;\" onmouseover=\"this.style.backgroundColor='#BA9BF8'\" onmouseout=\"this.style.backgroundColor='#9D6CFF'\" onclick=\"window.commands?.execute('create-mitosheet-from-dataframe-output');\">See Full Dataframe in Mito</div> <script> if (window.commands.hasCommand('create-mitosheet-from-dataframe-output')) document.getElementById('6de010b8-cb74-4dac-9c25-d18ffcb88731').style.display = 'flex' </script> <table border=\"1\" class=\"dataframe\">\n  <thead>\n    <tr style=\"text-align: right;\">\n      <th></th>\n      <th>dataverse_installation_name</th>\n      <th>dataset_pid_url</th>\n      <th>dataverse_collection_alias</th>\n      <th>dataverse_collection_name</th>\n      <th>dataverse_collection_type</th>\n    </tr>\n  </thead>\n  <tbody>\n    <tr>\n      <th>0</th>\n      <td>CROSSDA</td>\n      <td>https://doi.org/10.23669/TTB7HV</td>\n      <td>unizd</td>\n      <td>University of Zadar</td>\n      <td>ORGANIZATIONS_INSTITUTIONS</td>\n    </tr>\n    <tr>\n      <th>1</th>\n      <td>CROSSDA</td>\n      <td>https://doi.org/10.23669/JBIXC5</td>\n      <td>his</td>\n      <td>Croatian Election Studies</td>\n      <td>RESEARCH_PROJECTS</td>\n    </tr>\n    <tr>\n      <th>2</th>\n      <td>CROSSDA</td>\n      <td>https://doi.org/10.23669/RMVRHL</td>\n      <td>his</td>\n      <td>Croatian Election Studies</td>\n      <td>RESEARCH_PROJECTS</td>\n    </tr>\n    <tr>\n      <th>3</th>\n      <td>CROSSDA</td>\n      <td>https://doi.org/10.23669/ZTAA3M</td>\n      <td>his</td>\n      <td>Croatian Election Studies</td>\n      <td>RESEARCH_PROJECTS</td>\n    </tr>\n    <tr>\n      <th>4</th>\n      <td>CROSSDA</td>\n      <td>https://doi.org/10.23669/RN40FI</td>\n      <td>his</td>\n      <td>Croatian Election Studies</td>\n      <td>RESEARCH_PROJECTS</td>\n    </tr>\n  </tbody>\n</table></div>"
     },
     "execution_count": 27,
     "metadata": {},
     "output_type": "execute_result"
    }
   ],
   "source": [
    "# Get basic info about datasets in repositories and include only datasets in authorMetadataDF\n",
    "datasetPidUrlList = pd.unique(authorMetadataDF['dataset_pid_url'])\n",
    "\n",
    "datasetPIDsDF = (pd\n",
    "    .read_csv(\n",
    "        'dataset_pids_from_most_known_dataverse_installations_2024.08.csv',\n",
    "        sep=',',\n",
    "        na_filter=False)\n",
    "    .query(\n",
    "        '(dataverse_json_export_saved == True) and\\\n",
    "        dataset_pid_url in @datasetPidUrlList')\n",
    "    .drop(columns=['dataverse_json_export_saved', 'dataset_pid'])\n",
    "    .reset_index(drop=True, inplace=False)\n",
    " )\n",
    "\n",
    "datasetPIDsDF.head()"
   ],
   "metadata": {
    "collapsed": false,
    "pycharm": {
     "name": "#%%\n"
    }
   }
  },
  {
   "cell_type": "code",
   "execution_count": 64,
   "outputs": [
    {
     "name": "stdout",
     "output_type": "stream",
     "text": [
      "Count of installations in datasetPIDsAndAuthorMetadataDF: 98\n"
     ]
    }
   ],
   "source": [
    "# Join the datasetPIDsDF and the authorMetadataDF to add the installation column,\n",
    "# so we know which installations published each dataset\n",
    "datasetPIDsAndAuthorMetadataDF = (pd\n",
    "    .merge(datasetPIDsDF, authorMetadataDF,\n",
    "        how='inner',\n",
    "        on=['dataset_pid_url'])\n",
    "    .drop(columns=['dataset_version_number'])\n",
    "    .reset_index(drop=True, inplace=False))\n",
    "\n",
    "print(f'Count of installations in datasetPIDsAndAuthorMetadataDF: {len(pd.unique(datasetPIDsAndAuthorMetadataDF[\"dataverse_installation_name\"]))}')"
   ],
   "metadata": {
    "collapsed": false,
    "pycharm": {
     "name": "#%%\n"
    }
   }
  },
  {
   "cell_type": "code",
   "execution_count": 47,
   "outputs": [
    {
     "data": {
      "text/plain": "  dataverse_installation_name                  dataset_pid_url  \\\n0                     CROSSDA  https://doi.org/10.23669/TTB7HV   \n1                     CROSSDA  https://doi.org/10.23669/TTB7HV   \n2                     CROSSDA  https://doi.org/10.23669/TTB7HV   \n3                     CROSSDA  https://doi.org/10.23669/TTB7HV   \n4                     CROSSDA  https://doi.org/10.23669/TTB7HV   \n\n  dataverse_collection_alias dataverse_collection_name  \\\n0                      unizd       University of Zadar   \n1                      unizd       University of Zadar   \n2                      unizd       University of Zadar   \n3                      unizd       University of Zadar   \n4                      unizd       University of Zadar   \n\n    dataverse_collection_type dataset_publication_date  \\\n0  ORGANIZATIONS_INSTITUTIONS               2024-06-26   \n1  ORGANIZATIONS_INSTITUTIONS               2024-06-26   \n2  ORGANIZATIONS_INSTITUTIONS               2024-06-26   \n3  ORGANIZATIONS_INSTITUTIONS               2024-06-26   \n4  ORGANIZATIONS_INSTITUTIONS               2024-06-26   \n\n  dataset_version_create_time       authorName authorIdentifierScheme  \\\n0   2023-11-27 15:15:40+00:00    Cepić, Dražen                  ORCID   \n1   2023-11-27 15:15:40+00:00   Škacan, Mislav                  ORCID   \n2   2023-11-27 15:15:40+00:00      Puzek, Ivan                  ORCID   \n3   2023-11-27 15:15:40+00:00    Ančić, Branko                  ORCID   \n4   2023-11-27 15:15:40+00:00  Kanski, Danijel                  ORCID   \n\n      authorIdentifier  \n0  0000-0003-4544-5778  \n1  0000-0002-8432-201X  \n2  0000-0001-7545-9578  \n3  0000-0003-1438-2647  \n4  0009-0004-3846-3550  ",
      "text/html": "<div><div id=1bdc8493-5564-46ca-b1ea-bfb143d9a8c7 style=\"display:none; background-color:#9D6CFF; color:white; width:200px; height:30px; padding-left:5px; border-radius:4px; flex-direction:row; justify-content:space-around; align-items:center;\" onmouseover=\"this.style.backgroundColor='#BA9BF8'\" onmouseout=\"this.style.backgroundColor='#9D6CFF'\" onclick=\"window.commands?.execute('create-mitosheet-from-dataframe-output');\">See Full Dataframe in Mito</div> <script> if (window.commands.hasCommand('create-mitosheet-from-dataframe-output')) document.getElementById('1bdc8493-5564-46ca-b1ea-bfb143d9a8c7').style.display = 'flex' </script> <table border=\"1\" class=\"dataframe\">\n  <thead>\n    <tr style=\"text-align: right;\">\n      <th></th>\n      <th>dataverse_installation_name</th>\n      <th>dataset_pid_url</th>\n      <th>dataverse_collection_alias</th>\n      <th>dataverse_collection_name</th>\n      <th>dataverse_collection_type</th>\n      <th>dataset_publication_date</th>\n      <th>dataset_version_create_time</th>\n      <th>authorName</th>\n      <th>authorIdentifierScheme</th>\n      <th>authorIdentifier</th>\n    </tr>\n  </thead>\n  <tbody>\n    <tr>\n      <th>0</th>\n      <td>CROSSDA</td>\n      <td>https://doi.org/10.23669/TTB7HV</td>\n      <td>unizd</td>\n      <td>University of Zadar</td>\n      <td>ORGANIZATIONS_INSTITUTIONS</td>\n      <td>2024-06-26</td>\n      <td>2023-11-27 15:15:40+00:00</td>\n      <td>Cepić, Dražen</td>\n      <td>ORCID</td>\n      <td>0000-0003-4544-5778</td>\n    </tr>\n    <tr>\n      <th>1</th>\n      <td>CROSSDA</td>\n      <td>https://doi.org/10.23669/TTB7HV</td>\n      <td>unizd</td>\n      <td>University of Zadar</td>\n      <td>ORGANIZATIONS_INSTITUTIONS</td>\n      <td>2024-06-26</td>\n      <td>2023-11-27 15:15:40+00:00</td>\n      <td>Škacan, Mislav</td>\n      <td>ORCID</td>\n      <td>0000-0002-8432-201X</td>\n    </tr>\n    <tr>\n      <th>2</th>\n      <td>CROSSDA</td>\n      <td>https://doi.org/10.23669/TTB7HV</td>\n      <td>unizd</td>\n      <td>University of Zadar</td>\n      <td>ORGANIZATIONS_INSTITUTIONS</td>\n      <td>2024-06-26</td>\n      <td>2023-11-27 15:15:40+00:00</td>\n      <td>Puzek, Ivan</td>\n      <td>ORCID</td>\n      <td>0000-0001-7545-9578</td>\n    </tr>\n    <tr>\n      <th>3</th>\n      <td>CROSSDA</td>\n      <td>https://doi.org/10.23669/TTB7HV</td>\n      <td>unizd</td>\n      <td>University of Zadar</td>\n      <td>ORGANIZATIONS_INSTITUTIONS</td>\n      <td>2024-06-26</td>\n      <td>2023-11-27 15:15:40+00:00</td>\n      <td>Ančić, Branko</td>\n      <td>ORCID</td>\n      <td>0000-0003-1438-2647</td>\n    </tr>\n    <tr>\n      <th>4</th>\n      <td>CROSSDA</td>\n      <td>https://doi.org/10.23669/TTB7HV</td>\n      <td>unizd</td>\n      <td>University of Zadar</td>\n      <td>ORGANIZATIONS_INSTITUTIONS</td>\n      <td>2024-06-26</td>\n      <td>2023-11-27 15:15:40+00:00</td>\n      <td>Kanski, Danijel</td>\n      <td>ORCID</td>\n      <td>0009-0004-3846-3550</td>\n    </tr>\n  </tbody>\n</table></div>"
     },
     "execution_count": 47,
     "metadata": {},
     "output_type": "execute_result"
    }
   ],
   "source": [
    "datasetPIDsAndAuthorMetadataDF.head()"
   ],
   "metadata": {
    "collapsed": false,
    "pycharm": {
     "name": "#%%\n"
    }
   }
  },
  {
   "cell_type": "markdown",
   "source": [
    "# Get metrics"
   ],
   "metadata": {
    "collapsed": false,
    "pycharm": {
     "name": "#%% md\n"
    }
   }
  },
  {
   "cell_type": "markdown",
   "source": [
    "What percentage of author metadata published in each Dataverse installation includes an ORCID?"
   ],
   "metadata": {
    "collapsed": false,
    "pycharm": {
     "name": "#%% md\n"
    }
   }
  },
  {
   "cell_type": "code",
   "execution_count": 60,
   "outputs": [
    {
     "name": "stdout",
     "output_type": "stream",
     "text": [
      "Count of installations: 98\n"
     ]
    }
   ],
   "source": [
    "countOfAuthorMetadataPerInstallationDf = (\n",
    "    datasetPIDsAndAuthorMetadataDF\n",
    "        .value_counts(subset=['dataverse_installation_name'])\n",
    "        .to_frame('count_of_author_metadata')\n",
    "        .sort_values(['dataverse_installation_name'], ascending=[True])\n",
    "        .reset_index(drop=False, inplace=False)\n",
    ")\n",
    "# countOfAuthorMetadataPerInstallationDf.head()\n",
    "print(f'Count of installations: {len(countOfAuthorMetadataPerInstallationDf)}')"
   ],
   "metadata": {
    "collapsed": false,
    "pycharm": {
     "name": "#%%\n"
    }
   }
  },
  {
   "cell_type": "code",
   "execution_count": 61,
   "outputs": [
    {
     "name": "stdout",
     "output_type": "stream",
     "text": [
      "Count of installations: 97\n"
     ]
    }
   ],
   "source": [
    "countOfORCIDsPerInstallationDf = (\n",
    "    datasetPIDsAndAuthorMetadataDF\n",
    "        .query(\n",
    "            '(authorIdentifier.str.contains(\"orcid\", case=False) or\\\n",
    "            authorIdentifier.str.match(\".{4}-.{4}-.{4}-.{4}\") or\\\n",
    "            (authorIdentifierScheme == \"ORCID\" and\\\n",
    "            authorIdentifier == authorIdentifier))',\n",
    "            engine='python')\n",
    "        [[\n",
    "            'dataverse_installation_name',\n",
    "            'authorName'\n",
    "        ]]\n",
    "        .reset_index(drop=True, inplace=False)\n",
    "        # Group by count of rows for each dataverse_installation_name\n",
    "        .groupby(pd.Grouper(key='dataverse_installation_name', axis=0)).count()\n",
    "        .rename(columns={'authorName': 'count_of_orcids_in_author_metadata'})\n",
    "        .sort_values(['dataverse_installation_name'], ascending=[True])\n",
    "        .reset_index(drop=False, inplace=False)\n",
    ")\n",
    "\n",
    "# countOfORCIDsPerInstallationDf.head()\n",
    "print(f'Count of installations: {len(countOfORCIDsPerInstallationDf)}')"
   ],
   "metadata": {
    "collapsed": false,
    "pycharm": {
     "name": "#%%\n"
    }
   }
  },
  {
   "cell_type": "code",
   "execution_count": 15,
   "outputs": [
    {
     "data": {
      "text/plain": "            dataverse_installation_name  count_of_author_metadata  \\\n0                        ACSS_Dataverse                         5   \n1                         ADA_Dataverse                       109   \n2  ASU_Library_Research_Data_Repository                        62   \n3                      AUSSDA_Dataverse                       111   \n4                                Abacus                       207   \n\n   count_of_orcids  percentage_of_orcids  \n0                3             60.000000  \n1               58             53.211009  \n2               32             51.612903  \n3               52             46.846847  \n4                0              0.000000  ",
      "text/html": "<div><div id=d1d919c9-554a-4a96-b4da-b7596a21b1db style=\"display:none; background-color:#9D6CFF; color:white; width:200px; height:30px; padding-left:5px; border-radius:4px; flex-direction:row; justify-content:space-around; align-items:center;\" onmouseover=\"this.style.backgroundColor='#BA9BF8'\" onmouseout=\"this.style.backgroundColor='#9D6CFF'\" onclick=\"window.commands?.execute('create-mitosheet-from-dataframe-output');\">See Full Dataframe in Mito</div> <script> if (window.commands.hasCommand('create-mitosheet-from-dataframe-output')) document.getElementById('d1d919c9-554a-4a96-b4da-b7596a21b1db').style.display = 'flex' </script> <table border=\"1\" class=\"dataframe\">\n  <thead>\n    <tr style=\"text-align: right;\">\n      <th></th>\n      <th>dataverse_installation_name</th>\n      <th>count_of_author_metadata</th>\n      <th>count_of_orcids</th>\n      <th>percentage_of_orcids</th>\n    </tr>\n  </thead>\n  <tbody>\n    <tr>\n      <th>0</th>\n      <td>ACSS_Dataverse</td>\n      <td>5</td>\n      <td>3</td>\n      <td>60.000000</td>\n    </tr>\n    <tr>\n      <th>1</th>\n      <td>ADA_Dataverse</td>\n      <td>109</td>\n      <td>58</td>\n      <td>53.211009</td>\n    </tr>\n    <tr>\n      <th>2</th>\n      <td>ASU_Library_Research_Data_Repository</td>\n      <td>62</td>\n      <td>32</td>\n      <td>51.612903</td>\n    </tr>\n    <tr>\n      <th>3</th>\n      <td>AUSSDA_Dataverse</td>\n      <td>111</td>\n      <td>52</td>\n      <td>46.846847</td>\n    </tr>\n    <tr>\n      <th>4</th>\n      <td>Abacus</td>\n      <td>207</td>\n      <td>0</td>\n      <td>0.000000</td>\n    </tr>\n  </tbody>\n</table></div>"
     },
     "execution_count": 15,
     "metadata": {},
     "output_type": "execute_result"
    }
   ],
   "source": [
    "# Merge the two dataframes\n",
    "authorMetadataAndORCIDsPerInstallation2022 = (pd\n",
    "    .merge(countOfAuthorMetadataPerInstallationDf, countOfORCIDsPerInstallationDf,\n",
    "        how='outer',\n",
    "        on=['dataverse_installation_name'])\n",
    "    .fillna(0)\n",
    "    # Make dataverse_installation_name the index column\n",
    "    .set_index('dataverse_installation_name', inplace=False)\n",
    "    # Make sure all non-indexed columns are integers\n",
    "    .astype('int32')\n",
    "    .reset_index(drop=False, inplace=False)\n",
    "    .sort_values(['dataverse_installation_name'], ascending=[True])\n",
    "    .reset_index(drop=True, inplace=False)\n",
    ")\n",
    "\n",
    "# Add column for percentage of ORCIDs\n",
    "authorMetadataAndORCIDsPerInstallation2022['percentage_of_orcids'] = (\n",
    "        (authorMetadataAndORCIDsPerInstallation2022['count_of_orcids']\n",
    "         / authorMetadataAndORCIDsPerInstallation2022['count_of_author_metadata'])\n",
    "        * 100\n",
    ")\n",
    "\n",
    "authorMetadataAndORCIDsPerInstallation2022.head()"
   ],
   "metadata": {
    "collapsed": false,
    "pycharm": {
     "name": "#%%\n"
    }
   }
  },
  {
   "cell_type": "code",
   "execution_count": 16,
   "outputs": [],
   "source": [
    "# Export the dataframe as a CSV file\n",
    "authorMetadataAndORCIDsPerInstallation2022.to_csv(\n",
    "    'authorMetadataAndORCIDsPerInstallation2022.csv',\n",
    "    index=False)"
   ],
   "metadata": {
    "collapsed": false,
    "pycharm": {
     "name": "#%%\n"
    }
   }
  },
  {
   "cell_type": "code",
   "execution_count": null,
   "outputs": [],
   "source": [],
   "metadata": {
    "collapsed": false,
    "pycharm": {
     "name": "#%%\n"
    }
   }
  }
 ],
 "metadata": {
  "kernelspec": {
   "display_name": "Python 3",
   "language": "python",
   "name": "python3"
  },
  "language_info": {
   "codemirror_mode": {
    "name": "ipython",
    "version": 2
   },
   "file_extension": ".py",
   "mimetype": "text/x-python",
   "name": "python",
   "nbconvert_exporter": "python",
   "pygments_lexer": "ipython2",
   "version": "2.7.6"
  }
 },
 "nbformat": 4,
 "nbformat_minor": 0
}