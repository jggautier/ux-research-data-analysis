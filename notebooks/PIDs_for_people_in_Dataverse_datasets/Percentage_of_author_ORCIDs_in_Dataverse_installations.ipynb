{
 "cells": [
  {
   "cell_type": "code",
   "execution_count": 61,
   "metadata": {
    "collapsed": true
   },
   "outputs": [],
   "source": [
    "import pandas as pd"
   ]
  },
  {
   "cell_type": "markdown",
   "source": [
    "# Import, check and prepare data\n",
    "\n",
    "Import CSV files that contain:\n",
    "- The PIDs of all datasets published by many repositories that use the Dataverse software and which repositories published them\n",
    "- Author field metadata entered in all of those datasets"
   ],
   "metadata": {
    "collapsed": false,
    "pycharm": {
     "name": "#%% md\n"
    }
   }
  },
  {
   "cell_type": "code",
   "execution_count": 62,
   "outputs": [
    {
     "data": {
      "text/plain": "  dataverse_installation_name                  dataset_pid_url  \\\n0     UNB_Libraries_Dataverse  https://doi.org/10.25545/NVN79Z   \n1     UNB_Libraries_Dataverse  https://doi.org/10.25545/YB60PU   \n2     UNB_Libraries_Dataverse  https://doi.org/10.25545/WHD3KC   \n3     UNB_Libraries_Dataverse  https://doi.org/10.25545/6TZWCG   \n4     UNB_Libraries_Dataverse  https://doi.org/10.25545/NYM13B   \n\n  dataverse_collection_alias  \\\n0                        snb   \n1            blightchemistry   \n2            blightchemistry   \n3           Ir-CationBinding   \n4                     IFMLAB   \n\n                           dataverse_collection_name  \\\n0                              Service New Brunswick   \n1                Blight Chemistry Research Omniverse   \n2                Blight Chemistry Research Omniverse   \n3  Elucidation of Charge Contributions in Iridium...   \n4                   Integrated Forest Management Lab   \n\n    dataverse_collection_type  \n0  ORGANIZATIONS_INSTITUTIONS  \n1              RESEARCH_GROUP  \n2              RESEARCH_GROUP  \n3                    JOURNALS  \n4              RESEARCH_GROUP  ",
      "text/html": "<div><div id=25848e98-47b6-498b-b5ee-8dcf0d90e100 style=\"display:none; background-color:#9D6CFF; color:white; width:200px; height:30px; padding-left:5px; border-radius:4px; flex-direction:row; justify-content:space-around; align-items:center;\" onmouseover=\"this.style.backgroundColor='#BA9BF8'\" onmouseout=\"this.style.backgroundColor='#9D6CFF'\" onclick=\"window.commands?.execute('create-mitosheet-from-dataframe-output');\">See Full Dataframe in Mito</div> <script> if (window.commands.hasCommand('create-mitosheet-from-dataframe-output')) document.getElementById('25848e98-47b6-498b-b5ee-8dcf0d90e100').style.display = 'flex' </script> <table border=\"1\" class=\"dataframe\">\n  <thead>\n    <tr style=\"text-align: right;\">\n      <th></th>\n      <th>dataverse_installation_name</th>\n      <th>dataset_pid_url</th>\n      <th>dataverse_collection_alias</th>\n      <th>dataverse_collection_name</th>\n      <th>dataverse_collection_type</th>\n    </tr>\n  </thead>\n  <tbody>\n    <tr>\n      <th>0</th>\n      <td>UNB_Libraries_Dataverse</td>\n      <td>https://doi.org/10.25545/NVN79Z</td>\n      <td>snb</td>\n      <td>Service New Brunswick</td>\n      <td>ORGANIZATIONS_INSTITUTIONS</td>\n    </tr>\n    <tr>\n      <th>1</th>\n      <td>UNB_Libraries_Dataverse</td>\n      <td>https://doi.org/10.25545/YB60PU</td>\n      <td>blightchemistry</td>\n      <td>Blight Chemistry Research Omniverse</td>\n      <td>RESEARCH_GROUP</td>\n    </tr>\n    <tr>\n      <th>2</th>\n      <td>UNB_Libraries_Dataverse</td>\n      <td>https://doi.org/10.25545/WHD3KC</td>\n      <td>blightchemistry</td>\n      <td>Blight Chemistry Research Omniverse</td>\n      <td>RESEARCH_GROUP</td>\n    </tr>\n    <tr>\n      <th>3</th>\n      <td>UNB_Libraries_Dataverse</td>\n      <td>https://doi.org/10.25545/6TZWCG</td>\n      <td>Ir-CationBinding</td>\n      <td>Elucidation of Charge Contributions in Iridium-Chelated Hydrogen-Bonding Systems</td>\n      <td>JOURNALS</td>\n    </tr>\n    <tr>\n      <th>4</th>\n      <td>UNB_Libraries_Dataverse</td>\n      <td>https://doi.org/10.25545/NYM13B</td>\n      <td>IFMLAB</td>\n      <td>Integrated Forest Management Lab</td>\n      <td>RESEARCH_GROUP</td>\n    </tr>\n  </tbody>\n</table></div>"
     },
     "execution_count": 62,
     "metadata": {},
     "output_type": "execute_result"
    }
   ],
   "source": [
    "# Get basic info about datasets in repositories and remove ODISSEI Portal\n",
    "datasetPIDsDF = (pd\n",
    "    .read_csv(\n",
    "        'dataset_pids_from_most_known_dataverse_installations_2023.08.csv',\n",
    "        sep=',',\n",
    "        na_filter=False)\n",
    "    .query(\n",
    "        '(dataverse_json_export_saved == True) and\\\n",
    "        (dataverse_installation_name != \"ODISSEI_Portal\")')\n",
    "    .drop(columns=['dataverse_json_export_saved'])\n",
    "    .reset_index(drop=True, inplace=False)\n",
    " )\n",
    "\n",
    "datasetPIDsDF.head()"
   ],
   "metadata": {
    "collapsed": false,
    "pycharm": {
     "name": "#%%\n"
    }
   }
  },
  {
   "cell_type": "code",
   "execution_count": 63,
   "outputs": [
    {
     "data": {
      "text/plain": "                          dataset_pid_url dataset_publication_date  \\\n0     https://doi.org/10.48370/OFD/8TTRLC               2022-05-13   \n1  https://doi.org/10.17026/dans-26a-cq4r               2015-09-18   \n2  https://doi.org/10.17026/dans-zc2-mc2g               2016-12-31   \n3  https://doi.org/10.17026/dans-x9z-bmn6               2020-12-22   \n4      https://doi.org/10.7910/DVN/QD0V0H               2021-09-20   \n\n   dataset_version_number dataset_version_create_time  \\\n0                     1.0        2022-05-11T14:44:29Z   \n1                     2.0        2022-02-18T19:29:27Z   \n2                     1.0        2022-02-24T21:01:03Z   \n3                     1.0        2022-02-14T05:11:03Z   \n4                     1.0        2021-07-29T19:45:43Z   \n\n                                          authorName authorIdentifierScheme  \\\n0  Mammal Research Institute, Polish Academy of S...                    NaN   \n1                                     H.J. Hesseling                    NaN   \n2                                         S. Moerman                    NaN   \n3                                         G. Zielman                    NaN   \n4                                  Master, Daniel M.                    NaN   \n\n  authorIdentifier  \n0              NaN  \n1              NaN  \n2              NaN  \n3              NaN  \n4              NaN  ",
      "text/html": "<div><div id=5f17369d-b662-4187-a7d1-091b96d5a004 style=\"display:none; background-color:#9D6CFF; color:white; width:200px; height:30px; padding-left:5px; border-radius:4px; flex-direction:row; justify-content:space-around; align-items:center;\" onmouseover=\"this.style.backgroundColor='#BA9BF8'\" onmouseout=\"this.style.backgroundColor='#9D6CFF'\" onclick=\"window.commands?.execute('create-mitosheet-from-dataframe-output');\">See Full Dataframe in Mito</div> <script> if (window.commands.hasCommand('create-mitosheet-from-dataframe-output')) document.getElementById('5f17369d-b662-4187-a7d1-091b96d5a004').style.display = 'flex' </script> <table border=\"1\" class=\"dataframe\">\n  <thead>\n    <tr style=\"text-align: right;\">\n      <th></th>\n      <th>dataset_pid_url</th>\n      <th>dataset_publication_date</th>\n      <th>dataset_version_number</th>\n      <th>dataset_version_create_time</th>\n      <th>authorName</th>\n      <th>authorIdentifierScheme</th>\n      <th>authorIdentifier</th>\n    </tr>\n  </thead>\n  <tbody>\n    <tr>\n      <th>0</th>\n      <td>https://doi.org/10.48370/OFD/8TTRLC</td>\n      <td>2022-05-13</td>\n      <td>1.0</td>\n      <td>2022-05-11T14:44:29Z</td>\n      <td>Mammal Research Institute, Polish Academy of Sciences</td>\n      <td>NaN</td>\n      <td>NaN</td>\n    </tr>\n    <tr>\n      <th>1</th>\n      <td>https://doi.org/10.17026/dans-26a-cq4r</td>\n      <td>2015-09-18</td>\n      <td>2.0</td>\n      <td>2022-02-18T19:29:27Z</td>\n      <td>H.J. Hesseling</td>\n      <td>NaN</td>\n      <td>NaN</td>\n    </tr>\n    <tr>\n      <th>2</th>\n      <td>https://doi.org/10.17026/dans-zc2-mc2g</td>\n      <td>2016-12-31</td>\n      <td>1.0</td>\n      <td>2022-02-24T21:01:03Z</td>\n      <td>S. Moerman</td>\n      <td>NaN</td>\n      <td>NaN</td>\n    </tr>\n    <tr>\n      <th>3</th>\n      <td>https://doi.org/10.17026/dans-x9z-bmn6</td>\n      <td>2020-12-22</td>\n      <td>1.0</td>\n      <td>2022-02-14T05:11:03Z</td>\n      <td>G. Zielman</td>\n      <td>NaN</td>\n      <td>NaN</td>\n    </tr>\n    <tr>\n      <th>4</th>\n      <td>https://doi.org/10.7910/DVN/QD0V0H</td>\n      <td>2021-09-20</td>\n      <td>1.0</td>\n      <td>2021-07-29T19:45:43Z</td>\n      <td>Master, Daniel M.</td>\n      <td>NaN</td>\n      <td>NaN</td>\n    </tr>\n  </tbody>\n</table></div>"
     },
     "execution_count": 63,
     "metadata": {},
     "output_type": "execute_result"
    }
   ],
   "source": [
    "# Get Author field metadata entered in all datasets in Dataverse repositories\n",
    "# and remove datasets have have no author metadata\n",
    "authorMetadataDF = (pd\n",
    "    .read_csv(\n",
    "        'author(citation)_2023.08.22-2023.08.28.csv',\n",
    "        sep=',',\n",
    "        na_filter=True,\n",
    "        parse_dates=['dataset_publication_date', 'dataset_version_create_time'])\n",
    "    .drop(columns=['dataset_pid', 'authorAffiliation'])\n",
    "    .query('authorName != \"N/A\"')\n",
    "    .reset_index(drop=True, inplace=False)\n",
    "    )\n",
    "\n",
    "authorMetadataDF.head()"
   ],
   "metadata": {
    "collapsed": false,
    "pycharm": {
     "name": "#%%\n"
    }
   }
  },
  {
   "cell_type": "code",
   "execution_count": 64,
   "outputs": [
    {
     "name": "stdout",
     "output_type": "stream",
     "text": [
      "Number of datasets in datasetPIDsDF: 390401\n",
      "Number of datasets in authorMetadataDF: 390401\n"
     ]
    }
   ],
   "source": [
    "# Sanity check data by making sure count of datasets is the same in both dataframes\n",
    "print(f'Number of datasets in datasetPIDsDF: {len(datasetPIDsDF)}')\n",
    "datasetCountInAuthorMetadataDF = len(pd.unique(authorMetadataDF['dataset_pid_url']))\n",
    "print(f'Number of datasets in authorMetadataDF: {datasetCountInAuthorMetadataDF}')"
   ],
   "metadata": {
    "collapsed": false,
    "pycharm": {
     "name": "#%%\n"
    }
   }
  },
  {
   "cell_type": "code",
   "execution_count": 65,
   "outputs": [
    {
     "name": "stdout",
     "output_type": "stream",
     "text": [
      "Number of datasets in datasetPIDsAndAuthorMetadataDF: 390401\n",
      "Number of author metadata in datasetPIDsAndAuthorMetadataDF: 667435\n",
      "Number of installations in datasetPIDsAndAuthorMetadataDF: 84\n"
     ]
    }
   ],
   "source": [
    "# Join the datasetPIDsDF and the authorMetadataDF to add the installation column,\n",
    "# so we know which installations published each dataset\n",
    "datasetPIDsAndAuthorMetadataDF = (pd\n",
    "    .merge(datasetPIDsDF, authorMetadataDF,\n",
    "        how='inner',\n",
    "        on=['dataset_pid_url'])\n",
    "    .drop(columns=['dataset_version_number'])\n",
    "    .reset_index(drop=True, inplace=False))\n",
    "\n",
    "# Make sure the count of datasets in datasetPIDsAndAuthorMetadataDF\n",
    "# is the same as in datasetPIDsDF: 390401\n",
    "datasetCountInDatasetPIDsAndAuthorMetadataDF = len(pd.unique(datasetPIDsAndAuthorMetadataDF['dataset_pid_url']))\n",
    "print(f'Number of datasets in datasetPIDsAndAuthorMetadataDF: {datasetCountInDatasetPIDsAndAuthorMetadataDF}')\n",
    "\n",
    "# Get count of author metadata\n",
    "print(f'Number of author metadata in datasetPIDsAndAuthorMetadataDF: {len(datasetPIDsAndAuthorMetadataDF)}')\n",
    "\n",
    "# Get count of installations. Should by 84: the 85 installations in my dataset minus ODISSEI Portal\n",
    "allInstallationsList = list(set(datasetPIDsAndAuthorMetadataDF['dataverse_installation_name'].tolist()))\n",
    "countOfInstallations = len(allInstallationsList)\n",
    "print(f'Number of installations in datasetPIDsAndAuthorMetadataDF: {countOfInstallations}')"
   ],
   "metadata": {
    "collapsed": false,
    "pycharm": {
     "name": "#%%\n"
    }
   }
  },
  {
   "cell_type": "code",
   "execution_count": 66,
   "outputs": [
    {
     "data": {
      "text/plain": "  dataverse_installation_name                  dataset_pid_url  \\\n0     UNB_Libraries_Dataverse  https://doi.org/10.25545/NVN79Z   \n1     UNB_Libraries_Dataverse  https://doi.org/10.25545/YB60PU   \n2     UNB_Libraries_Dataverse  https://doi.org/10.25545/WHD3KC   \n3     UNB_Libraries_Dataverse  https://doi.org/10.25545/6TZWCG   \n4     UNB_Libraries_Dataverse  https://doi.org/10.25545/NYM13B   \n\n  dataverse_collection_alias  \\\n0                        snb   \n1            blightchemistry   \n2            blightchemistry   \n3           Ir-CationBinding   \n4                     IFMLAB   \n\n                           dataverse_collection_name  \\\n0                              Service New Brunswick   \n1                Blight Chemistry Research Omniverse   \n2                Blight Chemistry Research Omniverse   \n3  Elucidation of Charge Contributions in Iridium...   \n4                   Integrated Forest Management Lab   \n\n    dataverse_collection_type dataset_publication_date  \\\n0  ORGANIZATIONS_INSTITUTIONS               2018-05-10   \n1              RESEARCH_GROUP               2018-06-20   \n2              RESEARCH_GROUP               2019-06-23   \n3                    JOURNALS               2021-05-18   \n4              RESEARCH_GROUP               2020-06-30   \n\n  dataset_version_create_time             authorName authorIdentifierScheme  \\\n0        2022-03-23T19:49:10Z  Service New Brunswick                    NaN   \n1        2018-02-21T18:26:43Z        Blight, Barry A                  ORCID   \n2        2019-06-21T18:30:39Z      Balonova, Barbora                    NaN   \n3        2021-05-18T16:39:24Z        Blight, Barry A                    NaN   \n4        2020-11-30T22:44:12Z         Chen, Yingbing                    NaN   \n\n      authorIdentifier  \n0                  NaN  \n1  0000-0003-1166-6206  \n2                  NaN  \n3                  NaN  \n4                  NaN  ",
      "text/html": "<div><div id=a5cf2e9c-5047-4d03-8ecf-6aa17ec51f7b style=\"display:none; background-color:#9D6CFF; color:white; width:200px; height:30px; padding-left:5px; border-radius:4px; flex-direction:row; justify-content:space-around; align-items:center;\" onmouseover=\"this.style.backgroundColor='#BA9BF8'\" onmouseout=\"this.style.backgroundColor='#9D6CFF'\" onclick=\"window.commands?.execute('create-mitosheet-from-dataframe-output');\">See Full Dataframe in Mito</div> <script> if (window.commands.hasCommand('create-mitosheet-from-dataframe-output')) document.getElementById('a5cf2e9c-5047-4d03-8ecf-6aa17ec51f7b').style.display = 'flex' </script> <table border=\"1\" class=\"dataframe\">\n  <thead>\n    <tr style=\"text-align: right;\">\n      <th></th>\n      <th>dataverse_installation_name</th>\n      <th>dataset_pid_url</th>\n      <th>dataverse_collection_alias</th>\n      <th>dataverse_collection_name</th>\n      <th>dataverse_collection_type</th>\n      <th>dataset_publication_date</th>\n      <th>dataset_version_create_time</th>\n      <th>authorName</th>\n      <th>authorIdentifierScheme</th>\n      <th>authorIdentifier</th>\n    </tr>\n  </thead>\n  <tbody>\n    <tr>\n      <th>0</th>\n      <td>UNB_Libraries_Dataverse</td>\n      <td>https://doi.org/10.25545/NVN79Z</td>\n      <td>snb</td>\n      <td>Service New Brunswick</td>\n      <td>ORGANIZATIONS_INSTITUTIONS</td>\n      <td>2018-05-10</td>\n      <td>2022-03-23T19:49:10Z</td>\n      <td>Service New Brunswick</td>\n      <td>NaN</td>\n      <td>NaN</td>\n    </tr>\n    <tr>\n      <th>1</th>\n      <td>UNB_Libraries_Dataverse</td>\n      <td>https://doi.org/10.25545/YB60PU</td>\n      <td>blightchemistry</td>\n      <td>Blight Chemistry Research Omniverse</td>\n      <td>RESEARCH_GROUP</td>\n      <td>2018-06-20</td>\n      <td>2018-02-21T18:26:43Z</td>\n      <td>Blight, Barry A</td>\n      <td>ORCID</td>\n      <td>0000-0003-1166-6206</td>\n    </tr>\n    <tr>\n      <th>2</th>\n      <td>UNB_Libraries_Dataverse</td>\n      <td>https://doi.org/10.25545/WHD3KC</td>\n      <td>blightchemistry</td>\n      <td>Blight Chemistry Research Omniverse</td>\n      <td>RESEARCH_GROUP</td>\n      <td>2019-06-23</td>\n      <td>2019-06-21T18:30:39Z</td>\n      <td>Balonova, Barbora</td>\n      <td>NaN</td>\n      <td>NaN</td>\n    </tr>\n    <tr>\n      <th>3</th>\n      <td>UNB_Libraries_Dataverse</td>\n      <td>https://doi.org/10.25545/6TZWCG</td>\n      <td>Ir-CationBinding</td>\n      <td>Elucidation of Charge Contributions in Iridium-Chelated Hydrogen-Bonding Systems</td>\n      <td>JOURNALS</td>\n      <td>2021-05-18</td>\n      <td>2021-05-18T16:39:24Z</td>\n      <td>Blight, Barry A</td>\n      <td>NaN</td>\n      <td>NaN</td>\n    </tr>\n    <tr>\n      <th>4</th>\n      <td>UNB_Libraries_Dataverse</td>\n      <td>https://doi.org/10.25545/NYM13B</td>\n      <td>IFMLAB</td>\n      <td>Integrated Forest Management Lab</td>\n      <td>RESEARCH_GROUP</td>\n      <td>2020-06-30</td>\n      <td>2020-11-30T22:44:12Z</td>\n      <td>Chen, Yingbing</td>\n      <td>NaN</td>\n      <td>NaN</td>\n    </tr>\n  </tbody>\n</table></div>"
     },
     "execution_count": 66,
     "metadata": {},
     "output_type": "execute_result"
    }
   ],
   "source": [
    "datasetPIDsAndAuthorMetadataDF.head()"
   ],
   "metadata": {
    "collapsed": false,
    "pycharm": {
     "name": "#%%\n"
    }
   }
  },
  {
   "cell_type": "markdown",
   "source": [
    "# Get metrics"
   ],
   "metadata": {
    "collapsed": false,
    "pycharm": {
     "name": "#%% md\n"
    }
   }
  },
  {
   "cell_type": "markdown",
   "source": [
    "In a given time frame, such as 12 months, what percentage of author metadata published in each Dataverse installation includes an ORCID?"
   ],
   "metadata": {
    "collapsed": false,
    "pycharm": {
     "name": "#%% md\n"
    }
   }
  },
  {
   "cell_type": "code",
   "execution_count": 67,
   "outputs": [],
   "source": [
    "publicationStartDate = '2022-01-01'\n",
    "publicationEndDate = '2022-12-31'"
   ],
   "metadata": {
    "collapsed": false,
    "pycharm": {
     "name": "#%%\n"
    }
   }
  },
  {
   "cell_type": "code",
   "execution_count": 68,
   "outputs": [
    {
     "data": {
      "text/plain": "  dataverse_installation_name  count_of_author_metadata\n0     UNB_Libraries_Dataverse                        17\n1           Harvard_Dataverse                     10972\n2                     PAPYRUS                        23\n3    Dataverse_e-cienciaDatos                       124\n4              NIOZ_Dataverse                        36",
      "text/html": "<div><div id=3fa72972-8a80-42dd-a346-baa596a37c59 style=\"display:none; background-color:#9D6CFF; color:white; width:200px; height:30px; padding-left:5px; border-radius:4px; flex-direction:row; justify-content:space-around; align-items:center;\" onmouseover=\"this.style.backgroundColor='#BA9BF8'\" onmouseout=\"this.style.backgroundColor='#9D6CFF'\" onclick=\"window.commands?.execute('create-mitosheet-from-dataframe-output');\">See Full Dataframe in Mito</div> <script> if (window.commands.hasCommand('create-mitosheet-from-dataframe-output')) document.getElementById('3fa72972-8a80-42dd-a346-baa596a37c59').style.display = 'flex' </script> <table border=\"1\" class=\"dataframe\">\n  <thead>\n    <tr style=\"text-align: right;\">\n      <th></th>\n      <th>dataverse_installation_name</th>\n      <th>count_of_author_metadata</th>\n    </tr>\n  </thead>\n  <tbody>\n    <tr>\n      <th>0</th>\n      <td>UNB_Libraries_Dataverse</td>\n      <td>17</td>\n    </tr>\n    <tr>\n      <th>1</th>\n      <td>Harvard_Dataverse</td>\n      <td>10972</td>\n    </tr>\n    <tr>\n      <th>2</th>\n      <td>PAPYRUS</td>\n      <td>23</td>\n    </tr>\n    <tr>\n      <th>3</th>\n      <td>Dataverse_e-cienciaDatos</td>\n      <td>124</td>\n    </tr>\n    <tr>\n      <th>4</th>\n      <td>NIOZ_Dataverse</td>\n      <td>36</td>\n    </tr>\n  </tbody>\n</table></div>"
     },
     "execution_count": 68,
     "metadata": {},
     "output_type": "execute_result"
    }
   ],
   "source": [
    "countOfAuthorMetadataPerInstallationDf = (\n",
    "    datasetPIDsAndAuthorMetadataDF\n",
    "        .query(\n",
    "            'dataset_version_create_time >= @publicationStartDate and\\\n",
    "            dataset_version_create_time <= @publicationEndDate and\\\n",
    "            authorName != \"N/A\"',\n",
    "            engine='python')\n",
    "    .assign(dataset_version_create_time_dt=lambda datasetPIDsAndAuthorMetadataDF: pd.to_datetime(\n",
    "        datasetPIDsAndAuthorMetadataDF['dataset_version_create_time']))\n",
    "    .assign(dataset_version_create_year=lambda datasetPIDsAndAuthorMetadataDF: pd.to_datetime(\n",
    "        datasetPIDsAndAuthorMetadataDF['dataset_version_create_time_dt']).dt.year)\n",
    "    [[\n",
    "        'dataverse_installation_name',\n",
    "        'dataset_version_create_year',\n",
    "        'authorName',\n",
    "        'authorIdentifierScheme',\n",
    "        'authorIdentifier'\n",
    "    ]]\n",
    "    # Within each installation, drop duplicate author metadata. This will mitigate the effect of\n",
    "    # hundreds or thousands of datasets being published with the same author metadata,\n",
    "    # such as during a dataset migration or bulk publishing using APIs\n",
    "    .drop_duplicates(\n",
    "        subset=[\n",
    "            'authorName',\n",
    "            'authorIdentifierScheme',\n",
    "            'authorIdentifier'],\n",
    "        keep='first')\n",
    "    [[\n",
    "        'dataverse_installation_name',\n",
    "        'dataset_version_create_year'\n",
    "    ]]\n",
    "\n",
    "    .reset_index(drop=True, inplace=False)\n",
    "\n",
    "    # Group by count of rows for each year-month\n",
    "    .groupby(pd.Grouper(key='dataverse_installation_name', axis=0)).count()\n",
    "    .rename(columns={'dataset_version_create_year': 'count_of_author_metadata'})\n",
    "    .reset_index(drop=False, inplace=False)\n",
    ")\n",
    "\n",
    "countOfAuthorMetadataPerInstallationDf.head()"
   ],
   "metadata": {
    "collapsed": false,
    "pycharm": {
     "name": "#%%\n"
    }
   }
  },
  {
   "cell_type": "code",
   "execution_count": 70,
   "outputs": [
    {
     "data": {
      "text/plain": "  dataverse_installation_name  count_of_orcids\n0     UNB_Libraries_Dataverse                2\n1           Harvard_Dataverse             4004\n2                     PAPYRUS               20\n3    Dataverse_e-cienciaDatos               89\n4              NIOZ_Dataverse               27",
      "text/html": "<div><div id=e59604b8-be95-4d2e-8b51-f272b55b0b6b style=\"display:none; background-color:#9D6CFF; color:white; width:200px; height:30px; padding-left:5px; border-radius:4px; flex-direction:row; justify-content:space-around; align-items:center;\" onmouseover=\"this.style.backgroundColor='#BA9BF8'\" onmouseout=\"this.style.backgroundColor='#9D6CFF'\" onclick=\"window.commands?.execute('create-mitosheet-from-dataframe-output');\">See Full Dataframe in Mito</div> <script> if (window.commands.hasCommand('create-mitosheet-from-dataframe-output')) document.getElementById('e59604b8-be95-4d2e-8b51-f272b55b0b6b').style.display = 'flex' </script> <table border=\"1\" class=\"dataframe\">\n  <thead>\n    <tr style=\"text-align: right;\">\n      <th></th>\n      <th>dataverse_installation_name</th>\n      <th>count_of_orcids</th>\n    </tr>\n  </thead>\n  <tbody>\n    <tr>\n      <th>0</th>\n      <td>UNB_Libraries_Dataverse</td>\n      <td>2</td>\n    </tr>\n    <tr>\n      <th>1</th>\n      <td>Harvard_Dataverse</td>\n      <td>4004</td>\n    </tr>\n    <tr>\n      <th>2</th>\n      <td>PAPYRUS</td>\n      <td>20</td>\n    </tr>\n    <tr>\n      <th>3</th>\n      <td>Dataverse_e-cienciaDatos</td>\n      <td>89</td>\n    </tr>\n    <tr>\n      <th>4</th>\n      <td>NIOZ_Dataverse</td>\n      <td>27</td>\n    </tr>\n  </tbody>\n</table></div>"
     },
     "execution_count": 70,
     "metadata": {},
     "output_type": "execute_result"
    }
   ],
   "source": [
    "countOfORCIDsPerInstallationDf = (\n",
    "    datasetPIDsAndAuthorMetadataDF\n",
    "        .query(\n",
    "            'dataset_version_create_time >= @publicationStartDate and\\\n",
    "            dataset_version_create_time <= @publicationEndDate and\\\n",
    "            (authorIdentifier.str.contains(\"orcid\", case=False) or\\\n",
    "            authorIdentifier.str.match(\".{4}-.{4}-.{4}-.{4}\") or\\\n",
    "            (authorIdentifierScheme == \"ORCID\" and\\\n",
    "            authorIdentifier == authorIdentifier))',\n",
    "            engine='python')\n",
    "    .drop(columns=[\n",
    "        'dataset_pid_url',\n",
    "        'dataverse_collection_alias',\n",
    "        'dataverse_collection_name',\n",
    "        'dataverse_collection_type'])\n",
    "    .assign(dataset_version_create_time_dt=lambda datasetPIDsAndAuthorMetadataDF: pd.to_datetime(\n",
    "        datasetPIDsAndAuthorMetadataDF['dataset_version_create_time']))\n",
    "    .assign(dataset_version_create_year=lambda datasetPIDsAndAuthorMetadataDF: pd.to_datetime(\n",
    "        datasetPIDsAndAuthorMetadataDF['dataset_version_create_time_dt']).dt.year)\n",
    "    [[\n",
    "        'dataverse_installation_name',\n",
    "        'dataset_version_create_year',\n",
    "        'authorName',\n",
    "        'authorIdentifierScheme',\n",
    "        'authorIdentifier'\n",
    "    ]]\n",
    "\n",
    "    # Within each installation, drop duplicate author metadata. This will mitigate the effect of\n",
    "    # hundreds or thousands of datasets being published with the same author metadata,\n",
    "    # such as during a dataset migration or bulk publishing using APIs\n",
    "    .drop_duplicates(\n",
    "        subset=[\n",
    "            'authorName',\n",
    "            'authorIdentifierScheme',\n",
    "            'authorIdentifier'],\n",
    "        keep='first')\n",
    "    [[\n",
    "        'dataverse_installation_name',\n",
    "        'dataset_version_create_year'\n",
    "    ]]\n",
    "\n",
    "    .reset_index(drop=True, inplace=False)\n",
    "\n",
    "    # Group by count of rows for each year-month\n",
    "    .groupby(pd.Grouper(key='dataverse_installation_name', axis=0)).count()\n",
    "    .rename(columns={'dataset_version_create_year': 'count_of_orcids'})\n",
    "    .reset_index(drop=False, inplace=False)\n",
    ")\n",
    "\n",
    "countOfORCIDsPerInstallationDf.head()"
   ],
   "metadata": {
    "collapsed": false,
    "pycharm": {
     "name": "#%%\n"
    }
   }
  },
  {
   "cell_type": "code",
   "execution_count": 71,
   "outputs": [
    {
     "data": {
      "text/plain": "  dataverse_installation_name  count_of_author_metadata  count_of_orcids  \\\n0     UNB_Libraries_Dataverse                        17                2   \n1           Harvard_Dataverse                     10972             4004   \n2                     PAPYRUS                        23               20   \n3    Dataverse_e-cienciaDatos                       124               89   \n4              NIOZ_Dataverse                        36               27   \n\n   percentage_of_orcids  \n0             11.764706  \n1             36.492891  \n2             86.956522  \n3             71.774194  \n4             75.000000  ",
      "text/html": "<div><div id=d45c228c-0a6f-49c5-a632-5fba09a2f8a8 style=\"display:none; background-color:#9D6CFF; color:white; width:200px; height:30px; padding-left:5px; border-radius:4px; flex-direction:row; justify-content:space-around; align-items:center;\" onmouseover=\"this.style.backgroundColor='#BA9BF8'\" onmouseout=\"this.style.backgroundColor='#9D6CFF'\" onclick=\"window.commands?.execute('create-mitosheet-from-dataframe-output');\">See Full Dataframe in Mito</div> <script> if (window.commands.hasCommand('create-mitosheet-from-dataframe-output')) document.getElementById('d45c228c-0a6f-49c5-a632-5fba09a2f8a8').style.display = 'flex' </script> <table border=\"1\" class=\"dataframe\">\n  <thead>\n    <tr style=\"text-align: right;\">\n      <th></th>\n      <th>dataverse_installation_name</th>\n      <th>count_of_author_metadata</th>\n      <th>count_of_orcids</th>\n      <th>percentage_of_orcids</th>\n    </tr>\n  </thead>\n  <tbody>\n    <tr>\n      <th>0</th>\n      <td>UNB_Libraries_Dataverse</td>\n      <td>17</td>\n      <td>2</td>\n      <td>11.764706</td>\n    </tr>\n    <tr>\n      <th>1</th>\n      <td>Harvard_Dataverse</td>\n      <td>10972</td>\n      <td>4004</td>\n      <td>36.492891</td>\n    </tr>\n    <tr>\n      <th>2</th>\n      <td>PAPYRUS</td>\n      <td>23</td>\n      <td>20</td>\n      <td>86.956522</td>\n    </tr>\n    <tr>\n      <th>3</th>\n      <td>Dataverse_e-cienciaDatos</td>\n      <td>124</td>\n      <td>89</td>\n      <td>71.774194</td>\n    </tr>\n    <tr>\n      <th>4</th>\n      <td>NIOZ_Dataverse</td>\n      <td>36</td>\n      <td>27</td>\n      <td>75.000000</td>\n    </tr>\n  </tbody>\n</table></div>"
     },
     "execution_count": 71,
     "metadata": {},
     "output_type": "execute_result"
    }
   ],
   "source": [
    "# Merge the two dataframes\n",
    "countsAndPercentsOfAuthorMetadataAndORCIDsPerInstallationDf = (pd\n",
    "     .merge(countOfAuthorMetadataPerInstallationDf, countOfORCIDsPerInstallationDf,\n",
    "        how='outer',\n",
    "        on=['dataverse_installation_name'])\n",
    "     .fillna(0)\n",
    "     # Make dataverse_installation_name the index column\n",
    "     .set_index('dataverse_installation_name', inplace=False)\n",
    "     # Make sure all non-indexed columns are integers\n",
    "     .astype('int32')\n",
    "     .reset_index(drop=False, inplace=False)\n",
    "     )\n",
    "\n",
    "# Add column for percentage of ORCIDs\n",
    "countsAndPercentsOfAuthorMetadataAndORCIDsPerInstallationDf['percentage_of_orcids'] = (\n",
    "        (countsAndPercentsOfAuthorMetadataAndORCIDsPerInstallationDf['count_of_orcids']\n",
    "         / countsAndPercentsOfAuthorMetadataAndORCIDsPerInstallationDf['count_of_author_metadata'])\n",
    "        * 100\n",
    ")\n",
    "\n",
    "countsAndPercentsOfAuthorMetadataAndORCIDsPerInstallationDf.head()"
   ],
   "metadata": {
    "collapsed": false,
    "pycharm": {
     "name": "#%%\n"
    }
   }
  },
  {
   "cell_type": "code",
   "execution_count": 73,
   "outputs": [],
   "source": [
    "# Export the dataframe as a CSV file\n",
    "countsAndPercentsOfAuthorMetadataAndORCIDsPerInstallationDf.to_csv(\n",
    "    'countsAndPercentsOfAuthorMetadataAndORCIDsPerInstallation.csv',\n",
    "    index=False)"
   ],
   "metadata": {
    "collapsed": false,
    "pycharm": {
     "name": "#%%\n"
    }
   }
  },
  {
   "cell_type": "code",
   "execution_count": null,
   "outputs": [],
   "source": [],
   "metadata": {
    "collapsed": false,
    "pycharm": {
     "name": "#%%\n"
    }
   }
  }
 ],
 "metadata": {
  "kernelspec": {
   "display_name": "Python 3",
   "language": "python",
   "name": "python3"
  },
  "language_info": {
   "codemirror_mode": {
    "name": "ipython",
    "version": 2
   },
   "file_extension": ".py",
   "mimetype": "text/x-python",
   "name": "python",
   "nbconvert_exporter": "python",
   "pygments_lexer": "ipython2",
   "version": "2.7.6"
  }
 },
 "nbformat": 4,
 "nbformat_minor": 0
}