{
 "cells": [
  {
   "cell_type": "code",
   "execution_count": 1,
   "metadata": {
    "collapsed": true
   },
   "outputs": [],
   "source": [
    "import pandas as pd"
   ]
  },
  {
   "cell_type": "markdown",
   "source": [
    "# Import, check and prepare data\n",
    "\n",
    "Import CSV files that contain:\n",
    "- The PIDs of all datasets published by many repositories that use the Dataverse software and which repositories published them\n",
    "- Author field metadata entered in all of those datasets"
   ],
   "metadata": {
    "collapsed": false,
    "pycharm": {
     "name": "#%% md\n"
    }
   }
  },
  {
   "cell_type": "code",
   "execution_count": 2,
   "outputs": [
    {
     "data": {
      "text/plain": "                          dataset_pid_url dataset_publication_date  \\\n0     https://doi.org/10.48370/OFD/8TTRLC               2022-05-13   \n1  https://doi.org/10.17026/dans-xk3-33d2               2023-04-06   \n2  https://doi.org/10.17026/dans-26a-cq4r               2015-09-18   \n3       https://hdl.handle.net/2014/29246               1995-01-01   \n4       https://hdl.handle.net/2014/29246               1995-01-01   \n\n   dataset_version_number dataset_version_create_time  \\\n0                     1.0   2022-05-11 14:44:29+00:00   \n1                     1.0   2023-10-16 13:53:23+00:00   \n2                     2.0   2022-02-18 19:29:27+00:00   \n3                     2.0   2024-04-02 14:37:17+00:00   \n4                     2.0   2024-04-02 14:37:17+00:00   \n\n                                          authorName authorIdentifierScheme  \\\n0  Mammal Research Institute, Polish Academy of S...                          \n1            Portable Antiquities of the Netherlands                          \n2                                     H.J. Hesseling                          \n3                                        Feynman, J.                          \n4                                      Ruzmaikin, A.                          \n\n  authorIdentifier  \n0                   \n1                   \n2                   \n3                   \n4                   ",
      "text/html": "<div><div id=32b78180-983a-4e6c-90c4-a035bcc7bf5c style=\"display:none; background-color:#9D6CFF; color:white; width:200px; height:30px; padding-left:5px; border-radius:4px; flex-direction:row; justify-content:space-around; align-items:center;\" onmouseover=\"this.style.backgroundColor='#BA9BF8'\" onmouseout=\"this.style.backgroundColor='#9D6CFF'\" onclick=\"window.commands?.execute('create-mitosheet-from-dataframe-output');\">See Full Dataframe in Mito</div> <script> if (window.commands.hasCommand('create-mitosheet-from-dataframe-output')) document.getElementById('32b78180-983a-4e6c-90c4-a035bcc7bf5c').style.display = 'flex' </script> <table border=\"1\" class=\"dataframe\">\n  <thead>\n    <tr style=\"text-align: right;\">\n      <th></th>\n      <th>dataset_pid_url</th>\n      <th>dataset_publication_date</th>\n      <th>dataset_version_number</th>\n      <th>dataset_version_create_time</th>\n      <th>authorName</th>\n      <th>authorIdentifierScheme</th>\n      <th>authorIdentifier</th>\n    </tr>\n  </thead>\n  <tbody>\n    <tr>\n      <th>0</th>\n      <td>https://doi.org/10.48370/OFD/8TTRLC</td>\n      <td>2022-05-13</td>\n      <td>1.0</td>\n      <td>2022-05-11 14:44:29+00:00</td>\n      <td>Mammal Research Institute, Polish Academy of Sciences</td>\n      <td></td>\n      <td></td>\n    </tr>\n    <tr>\n      <th>1</th>\n      <td>https://doi.org/10.17026/dans-xk3-33d2</td>\n      <td>2023-04-06</td>\n      <td>1.0</td>\n      <td>2023-10-16 13:53:23+00:00</td>\n      <td>Portable Antiquities of the Netherlands</td>\n      <td></td>\n      <td></td>\n    </tr>\n    <tr>\n      <th>2</th>\n      <td>https://doi.org/10.17026/dans-26a-cq4r</td>\n      <td>2015-09-18</td>\n      <td>2.0</td>\n      <td>2022-02-18 19:29:27+00:00</td>\n      <td>H.J. Hesseling</td>\n      <td></td>\n      <td></td>\n    </tr>\n    <tr>\n      <th>3</th>\n      <td>https://hdl.handle.net/2014/29246</td>\n      <td>1995-01-01</td>\n      <td>2.0</td>\n      <td>2024-04-02 14:37:17+00:00</td>\n      <td>Feynman, J.</td>\n      <td></td>\n      <td></td>\n    </tr>\n    <tr>\n      <th>4</th>\n      <td>https://hdl.handle.net/2014/29246</td>\n      <td>1995-01-01</td>\n      <td>2.0</td>\n      <td>2024-04-02 14:37:17+00:00</td>\n      <td>Ruzmaikin, A.</td>\n      <td></td>\n      <td></td>\n    </tr>\n  </tbody>\n</table></div>"
     },
     "execution_count": 2,
     "metadata": {},
     "output_type": "execute_result"
    }
   ],
   "source": [
    "# Get Author field metadata of datasets in Dataverse repositories whose latest versions were created in the last 12 months (between 2023-08-26 and 2024-08-25)\n",
    "\n",
    "authorMetadataDF = (pd\n",
    "    .read_csv(\n",
    "        'author_2024.08.25-2024.08.30.csv',\n",
    "        sep=',',\n",
    "        na_filter=False,\n",
    "        parse_dates=['dataset_publication_date', 'dataset_version_create_time'])\n",
    "    .drop(columns=['dataset_pid', 'authorAffiliation'])\n",
    "    .query(\n",
    "        'dataset_version_create_time >= \"2023-08-26T00:00:00Z\" and\\\n",
    "        dataset_version_create_time < \"2024-08-26T00:00:00Z\"')\n",
    "    .reset_index(drop=True, inplace=False)\n",
    "    )\n",
    "\n",
    "authorMetadataDF.head()"
   ],
   "metadata": {
    "collapsed": false,
    "pycharm": {
     "name": "#%%\n"
    }
   }
  },
  {
   "cell_type": "code",
   "execution_count": 3,
   "outputs": [
    {
     "data": {
      "text/plain": "  dataverse_installation_name                  dataset_pid_url  \\\n0                     CROSSDA  https://doi.org/10.23669/SIHKQ9   \n1                     CROSSDA  https://doi.org/10.23669/2IFBSL   \n2                     CROSSDA  https://doi.org/10.23669/JVNVNR   \n3                     CROSSDA  https://doi.org/10.23669/CLYQHG   \n4                     CROSSDA  https://doi.org/10.23669/VO50RW   \n\n  dataverse_collection_alias  \\\n0                       ffzg   \n1                       ffzg   \n2                    erudito   \n3                     respoc   \n4                        his   \n\n                           dataverse_collection_name  \\\n0  University of Zagreb Faculty of Humanities and...   \n1  University of Zagreb Faculty of Humanities and...   \n2  E-Rudito:  An Advanced Online Education System...   \n3  (Re)building society: A longitudinal study of ...   \n4                          Croatian Election Studies   \n\n    dataverse_collection_type  \n0  ORGANIZATIONS_INSTITUTIONS  \n1  ORGANIZATIONS_INSTITUTIONS  \n2           RESEARCH_PROJECTS  \n3           RESEARCH_PROJECTS  \n4           RESEARCH_PROJECTS  ",
      "text/html": "<div><div id=91128db2-a12b-43fe-a51b-64c22ed71c1a style=\"display:none; background-color:#9D6CFF; color:white; width:200px; height:30px; padding-left:5px; border-radius:4px; flex-direction:row; justify-content:space-around; align-items:center;\" onmouseover=\"this.style.backgroundColor='#BA9BF8'\" onmouseout=\"this.style.backgroundColor='#9D6CFF'\" onclick=\"window.commands?.execute('create-mitosheet-from-dataframe-output');\">See Full Dataframe in Mito</div> <script> if (window.commands.hasCommand('create-mitosheet-from-dataframe-output')) document.getElementById('91128db2-a12b-43fe-a51b-64c22ed71c1a').style.display = 'flex' </script> <table border=\"1\" class=\"dataframe\">\n  <thead>\n    <tr style=\"text-align: right;\">\n      <th></th>\n      <th>dataverse_installation_name</th>\n      <th>dataset_pid_url</th>\n      <th>dataverse_collection_alias</th>\n      <th>dataverse_collection_name</th>\n      <th>dataverse_collection_type</th>\n    </tr>\n  </thead>\n  <tbody>\n    <tr>\n      <th>0</th>\n      <td>CROSSDA</td>\n      <td>https://doi.org/10.23669/SIHKQ9</td>\n      <td>ffzg</td>\n      <td>University of Zagreb Faculty of Humanities and Social Sciences</td>\n      <td>ORGANIZATIONS_INSTITUTIONS</td>\n    </tr>\n    <tr>\n      <th>1</th>\n      <td>CROSSDA</td>\n      <td>https://doi.org/10.23669/2IFBSL</td>\n      <td>ffzg</td>\n      <td>University of Zagreb Faculty of Humanities and Social Sciences</td>\n      <td>ORGANIZATIONS_INSTITUTIONS</td>\n    </tr>\n    <tr>\n      <th>2</th>\n      <td>CROSSDA</td>\n      <td>https://doi.org/10.23669/JVNVNR</td>\n      <td>erudito</td>\n      <td>E-Rudito:  An Advanced Online Education System for Smart Specialization and Jobs of the Future</td>\n      <td>RESEARCH_PROJECTS</td>\n    </tr>\n    <tr>\n      <th>3</th>\n      <td>CROSSDA</td>\n      <td>https://doi.org/10.23669/CLYQHG</td>\n      <td>respoc</td>\n      <td>(Re)building society: A longitudinal study of post-corona social recovery in Croatian general population (ReSPoC)</td>\n      <td>RESEARCH_PROJECTS</td>\n    </tr>\n    <tr>\n      <th>4</th>\n      <td>CROSSDA</td>\n      <td>https://doi.org/10.23669/VO50RW</td>\n      <td>his</td>\n      <td>Croatian Election Studies</td>\n      <td>RESEARCH_PROJECTS</td>\n    </tr>\n  </tbody>\n</table></div>"
     },
     "execution_count": 3,
     "metadata": {},
     "output_type": "execute_result"
    }
   ],
   "source": [
    "# Get basic info about datasets in installations and include only datasets that are also in authorMetadataDF\n",
    "datasetPidUrlList = pd.unique(authorMetadataDF['dataset_pid_url'])\n",
    "\n",
    "datasetPIDsDF = (pd\n",
    "    .read_csv(\n",
    "        'dataset_pids_from_most_known_dataverse_installations_2024.08.csv',\n",
    "        sep=',',\n",
    "        na_filter=False)\n",
    "    .query(\n",
    "        '(dataverse_json_export_saved == True) and\\\n",
    "        dataset_pid_url in @datasetPidUrlList')\n",
    "    .drop(columns=['dataverse_json_export_saved', 'dataset_pid'])\n",
    "    .reset_index(drop=True, inplace=False)\n",
    " )\n",
    "\n",
    "datasetPIDsDF.head()"
   ],
   "metadata": {
    "collapsed": false,
    "pycharm": {
     "name": "#%%\n"
    }
   }
  },
  {
   "cell_type": "code",
   "execution_count": 4,
   "outputs": [
    {
     "name": "stdout",
     "output_type": "stream",
     "text": [
      "Count of installations in datasetPIDsAndAuthorMetadataDF: 101\n"
     ]
    }
   ],
   "source": [
    "# Join datasetPIDsDF and authorMetadataDF to add the installation column, so we know which installations published each dataset\n",
    "datasetPIDsAndAuthorMetadataDF = (pd\n",
    "    .merge(datasetPIDsDF, authorMetadataDF,\n",
    "        how='inner',\n",
    "        on=['dataset_pid_url'])\n",
    "    .drop(columns=['dataset_version_number'])\n",
    "    .reset_index(drop=True, inplace=False))\n",
    "\n",
    "print(f'Count of installations in datasetPIDsAndAuthorMetadataDF: {len(pd.unique(datasetPIDsAndAuthorMetadataDF[\"dataverse_installation_name\"]))}')"
   ],
   "metadata": {
    "collapsed": false,
    "pycharm": {
     "name": "#%%\n"
    }
   }
  },
  {
   "cell_type": "code",
   "execution_count": 5,
   "outputs": [
    {
     "data": {
      "text/plain": "  dataverse_installation_name                  dataset_pid_url  \\\n0                     CROSSDA  https://doi.org/10.23669/SIHKQ9   \n1                     CROSSDA  https://doi.org/10.23669/SIHKQ9   \n2                     CROSSDA  https://doi.org/10.23669/SIHKQ9   \n3                     CROSSDA  https://doi.org/10.23669/2IFBSL   \n4                     CROSSDA  https://doi.org/10.23669/JVNVNR   \n\n  dataverse_collection_alias  \\\n0                       ffzg   \n1                       ffzg   \n2                       ffzg   \n3                       ffzg   \n4                    erudito   \n\n                           dataverse_collection_name  \\\n0  University of Zagreb Faculty of Humanities and...   \n1  University of Zagreb Faculty of Humanities and...   \n2  University of Zagreb Faculty of Humanities and...   \n3  University of Zagreb Faculty of Humanities and...   \n4  E-Rudito:  An Advanced Online Education System...   \n\n    dataverse_collection_type dataset_publication_date  \\\n0  ORGANIZATIONS_INSTITUTIONS               2020-12-02   \n1  ORGANIZATIONS_INSTITUTIONS               2020-12-02   \n2  ORGANIZATIONS_INSTITUTIONS               2020-12-02   \n3  ORGANIZATIONS_INSTITUTIONS               2022-01-12   \n4           RESEARCH_PROJECTS               2019-08-28   \n\n  dataset_version_create_time              authorName authorIdentifierScheme  \\\n0   2020-12-16 09:02:40+00:00     Jokić-Begić, Nataša                  ORCID   \n1   2020-12-16 09:02:40+00:00  Lauri Korajlija, Anita                  ORCID   \n2   2020-12-16 09:02:40+00:00              Mikac, Una                  ORCID   \n3   2022-01-07 16:01:29+00:00        Jelić, Margareta                  ORCID   \n4   2021-07-19 13:23:04+00:00         Vlašiček, Denis                  ORCID   \n\n      authorIdentifier  \n0  0000-0003-2597-535X  \n1  0000-0001-8561-9870  \n2  0000-0001-9369-6462  \n3  0000-0002-2478-0756  \n4  0000-0003-1925-6818  ",
      "text/html": "<div><div id=d5a42299-42ac-48f8-9829-302ccb34ebfd style=\"display:none; background-color:#9D6CFF; color:white; width:200px; height:30px; padding-left:5px; border-radius:4px; flex-direction:row; justify-content:space-around; align-items:center;\" onmouseover=\"this.style.backgroundColor='#BA9BF8'\" onmouseout=\"this.style.backgroundColor='#9D6CFF'\" onclick=\"window.commands?.execute('create-mitosheet-from-dataframe-output');\">See Full Dataframe in Mito</div> <script> if (window.commands.hasCommand('create-mitosheet-from-dataframe-output')) document.getElementById('d5a42299-42ac-48f8-9829-302ccb34ebfd').style.display = 'flex' </script> <table border=\"1\" class=\"dataframe\">\n  <thead>\n    <tr style=\"text-align: right;\">\n      <th></th>\n      <th>dataverse_installation_name</th>\n      <th>dataset_pid_url</th>\n      <th>dataverse_collection_alias</th>\n      <th>dataverse_collection_name</th>\n      <th>dataverse_collection_type</th>\n      <th>dataset_publication_date</th>\n      <th>dataset_version_create_time</th>\n      <th>authorName</th>\n      <th>authorIdentifierScheme</th>\n      <th>authorIdentifier</th>\n    </tr>\n  </thead>\n  <tbody>\n    <tr>\n      <th>0</th>\n      <td>CROSSDA</td>\n      <td>https://doi.org/10.23669/SIHKQ9</td>\n      <td>ffzg</td>\n      <td>University of Zagreb Faculty of Humanities and Social Sciences</td>\n      <td>ORGANIZATIONS_INSTITUTIONS</td>\n      <td>2020-12-02</td>\n      <td>2020-12-16 09:02:40+00:00</td>\n      <td>Jokić-Begić, Nataša</td>\n      <td>ORCID</td>\n      <td>0000-0003-2597-535X</td>\n    </tr>\n    <tr>\n      <th>1</th>\n      <td>CROSSDA</td>\n      <td>https://doi.org/10.23669/SIHKQ9</td>\n      <td>ffzg</td>\n      <td>University of Zagreb Faculty of Humanities and Social Sciences</td>\n      <td>ORGANIZATIONS_INSTITUTIONS</td>\n      <td>2020-12-02</td>\n      <td>2020-12-16 09:02:40+00:00</td>\n      <td>Lauri Korajlija, Anita</td>\n      <td>ORCID</td>\n      <td>0000-0001-8561-9870</td>\n    </tr>\n    <tr>\n      <th>2</th>\n      <td>CROSSDA</td>\n      <td>https://doi.org/10.23669/SIHKQ9</td>\n      <td>ffzg</td>\n      <td>University of Zagreb Faculty of Humanities and Social Sciences</td>\n      <td>ORGANIZATIONS_INSTITUTIONS</td>\n      <td>2020-12-02</td>\n      <td>2020-12-16 09:02:40+00:00</td>\n      <td>Mikac, Una</td>\n      <td>ORCID</td>\n      <td>0000-0001-9369-6462</td>\n    </tr>\n    <tr>\n      <th>3</th>\n      <td>CROSSDA</td>\n      <td>https://doi.org/10.23669/2IFBSL</td>\n      <td>ffzg</td>\n      <td>University of Zagreb Faculty of Humanities and Social Sciences</td>\n      <td>ORGANIZATIONS_INSTITUTIONS</td>\n      <td>2022-01-12</td>\n      <td>2022-01-07 16:01:29+00:00</td>\n      <td>Jelić, Margareta</td>\n      <td>ORCID</td>\n      <td>0000-0002-2478-0756</td>\n    </tr>\n    <tr>\n      <th>4</th>\n      <td>CROSSDA</td>\n      <td>https://doi.org/10.23669/JVNVNR</td>\n      <td>erudito</td>\n      <td>E-Rudito:  An Advanced Online Education System for Smart Specialization and Jobs of the Future</td>\n      <td>RESEARCH_PROJECTS</td>\n      <td>2019-08-28</td>\n      <td>2021-07-19 13:23:04+00:00</td>\n      <td>Vlašiček, Denis</td>\n      <td>ORCID</td>\n      <td>0000-0003-1925-6818</td>\n    </tr>\n  </tbody>\n</table></div>"
     },
     "execution_count": 5,
     "metadata": {},
     "output_type": "execute_result"
    }
   ],
   "source": [
    "datasetPIDsAndAuthorMetadataDF.head()"
   ],
   "metadata": {
    "collapsed": false,
    "pycharm": {
     "name": "#%%\n"
    }
   }
  },
  {
   "cell_type": "markdown",
   "source": [
    "# Get metrics"
   ],
   "metadata": {
    "collapsed": false,
    "pycharm": {
     "name": "#%% md\n"
    }
   }
  },
  {
   "cell_type": "markdown",
   "source": [
    "What percentage of author metadata published in each Dataverse installation in the last two years includes an ORCID?"
   ],
   "metadata": {
    "collapsed": false,
    "pycharm": {
     "name": "#%% md\n"
    }
   }
  },
  {
   "cell_type": "code",
   "execution_count": 6,
   "outputs": [
    {
     "name": "stdout",
     "output_type": "stream",
     "text": [
      "Count of installations: 101\n"
     ]
    }
   ],
   "source": [
    "# First we'll get a count of author metadata published in each installation in the last two years\n",
    "\n",
    "countOfAuthorMetadataPerInstallationDf = (\n",
    "    datasetPIDsAndAuthorMetadataDF\n",
    "        .value_counts(subset=['dataverse_installation_name'])\n",
    "        .to_frame('count_of_author_metadata')\n",
    "        .sort_values(['dataverse_installation_name'], ascending=[True])\n",
    "        .reset_index(drop=False, inplace=False)\n",
    ")\n",
    "\n",
    "print(f'Count of installations: {len(countOfAuthorMetadataPerInstallationDf)}')"
   ],
   "metadata": {
    "collapsed": false,
    "pycharm": {
     "name": "#%%\n"
    }
   }
  },
  {
   "cell_type": "code",
   "execution_count": 7,
   "outputs": [
    {
     "data": {
      "text/plain": "            dataverse_installation_name  count_of_author_metadata\n0                        ACSS Dataverse                       170\n1                         ADA Dataverse                      1963\n2                                   ARP                       279\n3  ASU Library Research Data Repository                       277\n4                      AUSSDA Dataverse                      2462",
      "text/html": "<div><div id=b87963e6-994b-4c82-a39a-aee70749c78d style=\"display:none; background-color:#9D6CFF; color:white; width:200px; height:30px; padding-left:5px; border-radius:4px; flex-direction:row; justify-content:space-around; align-items:center;\" onmouseover=\"this.style.backgroundColor='#BA9BF8'\" onmouseout=\"this.style.backgroundColor='#9D6CFF'\" onclick=\"window.commands?.execute('create-mitosheet-from-dataframe-output');\">See Full Dataframe in Mito</div> <script> if (window.commands.hasCommand('create-mitosheet-from-dataframe-output')) document.getElementById('b87963e6-994b-4c82-a39a-aee70749c78d').style.display = 'flex' </script> <table border=\"1\" class=\"dataframe\">\n  <thead>\n    <tr style=\"text-align: right;\">\n      <th></th>\n      <th>dataverse_installation_name</th>\n      <th>count_of_author_metadata</th>\n    </tr>\n  </thead>\n  <tbody>\n    <tr>\n      <th>0</th>\n      <td>ACSS Dataverse</td>\n      <td>170</td>\n    </tr>\n    <tr>\n      <th>1</th>\n      <td>ADA Dataverse</td>\n      <td>1963</td>\n    </tr>\n    <tr>\n      <th>2</th>\n      <td>ARP</td>\n      <td>279</td>\n    </tr>\n    <tr>\n      <th>3</th>\n      <td>ASU Library Research Data Repository</td>\n      <td>277</td>\n    </tr>\n    <tr>\n      <th>4</th>\n      <td>AUSSDA Dataverse</td>\n      <td>2462</td>\n    </tr>\n  </tbody>\n</table></div>"
     },
     "execution_count": 7,
     "metadata": {},
     "output_type": "execute_result"
    }
   ],
   "source": [
    "countOfAuthorMetadataPerInstallationDf.head()"
   ],
   "metadata": {
    "collapsed": false,
    "pycharm": {
     "name": "#%%\n"
    }
   }
  },
  {
   "cell_type": "code",
   "execution_count": 8,
   "outputs": [
    {
     "name": "stdout",
     "output_type": "stream",
     "text": [
      "Count of installations in countOfORCIDsPerInstallationDf: 95\n"
     ]
    }
   ],
   "source": [
    "# Then we'll get a count of author metadata in each installation that includes an ORCID (in the format we expect)\n",
    "\n",
    "countOfORCIDsPerInstallationDf = (\n",
    "    datasetPIDsAndAuthorMetadataDF\n",
    "        # Count only author metadata that includes ORCIDs\n",
    "        .query(\n",
    "            'authorIdentifierScheme.str.contains(\"orcid\", case=False) and\\\n",
    "            authorIdentifier.str.match(\"(https?:\\/\\/orcid\\.org\\/)?.{4}-.{4}-.{4}-.{4}\")',\n",
    "            engine='python')\n",
    "        # Remove all columns except dataverse_installation_name and authorName\n",
    "        [[\n",
    "            'dataverse_installation_name',\n",
    "            'authorName'\n",
    "        ]]\n",
    "        .reset_index(drop=True, inplace=False)\n",
    "        # Group by count of rows for each dataverse_installation_name\n",
    "        .groupby(pd.Grouper(key='dataverse_installation_name', axis=0)).count()\n",
    "        .rename(columns={'authorName': 'count_of_orcids_in_author_metadata'})\n",
    "        .sort_values(['dataverse_installation_name'], ascending=[True])\n",
    "        .reset_index(drop=False, inplace=False)\n",
    ")\n",
    "\n",
    "print(f'Count of installations in countOfORCIDsPerInstallationDf: {len(countOfORCIDsPerInstallationDf)}')"
   ],
   "metadata": {
    "collapsed": false,
    "pycharm": {
     "name": "#%%\n"
    }
   }
  },
  {
   "cell_type": "code",
   "execution_count": 9,
   "outputs": [
    {
     "data": {
      "text/plain": "            dataverse_installation_name  count_of_orcids_in_author_metadata\n0                        ACSS Dataverse                                   6\n1                         ADA Dataverse                                 708\n2                                   ARP                                 122\n3  ASU Library Research Data Repository                                 122\n4                      AUSSDA Dataverse                                 345",
      "text/html": "<div><div id=f16fd5c8-6717-4713-bf8e-49750df97306 style=\"display:none; background-color:#9D6CFF; color:white; width:200px; height:30px; padding-left:5px; border-radius:4px; flex-direction:row; justify-content:space-around; align-items:center;\" onmouseover=\"this.style.backgroundColor='#BA9BF8'\" onmouseout=\"this.style.backgroundColor='#9D6CFF'\" onclick=\"window.commands?.execute('create-mitosheet-from-dataframe-output');\">See Full Dataframe in Mito</div> <script> if (window.commands.hasCommand('create-mitosheet-from-dataframe-output')) document.getElementById('f16fd5c8-6717-4713-bf8e-49750df97306').style.display = 'flex' </script> <table border=\"1\" class=\"dataframe\">\n  <thead>\n    <tr style=\"text-align: right;\">\n      <th></th>\n      <th>dataverse_installation_name</th>\n      <th>count_of_orcids_in_author_metadata</th>\n    </tr>\n  </thead>\n  <tbody>\n    <tr>\n      <th>0</th>\n      <td>ACSS Dataverse</td>\n      <td>6</td>\n    </tr>\n    <tr>\n      <th>1</th>\n      <td>ADA Dataverse</td>\n      <td>708</td>\n    </tr>\n    <tr>\n      <th>2</th>\n      <td>ARP</td>\n      <td>122</td>\n    </tr>\n    <tr>\n      <th>3</th>\n      <td>ASU Library Research Data Repository</td>\n      <td>122</td>\n    </tr>\n    <tr>\n      <th>4</th>\n      <td>AUSSDA Dataverse</td>\n      <td>345</td>\n    </tr>\n  </tbody>\n</table></div>"
     },
     "execution_count": 9,
     "metadata": {},
     "output_type": "execute_result"
    }
   ],
   "source": [
    "countOfORCIDsPerInstallationDf.head()"
   ],
   "metadata": {
    "collapsed": false,
    "pycharm": {
     "name": "#%%\n"
    }
   }
  },
  {
   "cell_type": "code",
   "execution_count": 10,
   "outputs": [
    {
     "data": {
      "text/plain": "            dataverse_installation_name  count_of_author_metadata  \\\n0                        ACSS Dataverse                       170   \n1                         ADA Dataverse                      1963   \n2                                   ARP                       279   \n3  ASU Library Research Data Repository                       277   \n4                      AUSSDA Dataverse                      2462   \n\n   count_of_orcids_in_author_metadata  percentage_of_orcids_in_author_metadata  \n0                                   6                                 0.035294  \n1                                 708                                 0.360672  \n2                                 122                                 0.437276  \n3                                 122                                 0.440433  \n4                                 345                                 0.140130  ",
      "text/html": "<div><div id=23c39a86-e712-4521-9e07-bcdd6d47a5ab style=\"display:none; background-color:#9D6CFF; color:white; width:200px; height:30px; padding-left:5px; border-radius:4px; flex-direction:row; justify-content:space-around; align-items:center;\" onmouseover=\"this.style.backgroundColor='#BA9BF8'\" onmouseout=\"this.style.backgroundColor='#9D6CFF'\" onclick=\"window.commands?.execute('create-mitosheet-from-dataframe-output');\">See Full Dataframe in Mito</div> <script> if (window.commands.hasCommand('create-mitosheet-from-dataframe-output')) document.getElementById('23c39a86-e712-4521-9e07-bcdd6d47a5ab').style.display = 'flex' </script> <table border=\"1\" class=\"dataframe\">\n  <thead>\n    <tr style=\"text-align: right;\">\n      <th></th>\n      <th>dataverse_installation_name</th>\n      <th>count_of_author_metadata</th>\n      <th>count_of_orcids_in_author_metadata</th>\n      <th>percentage_of_orcids_in_author_metadata</th>\n    </tr>\n  </thead>\n  <tbody>\n    <tr>\n      <th>0</th>\n      <td>ACSS Dataverse</td>\n      <td>170</td>\n      <td>6</td>\n      <td>0.035294</td>\n    </tr>\n    <tr>\n      <th>1</th>\n      <td>ADA Dataverse</td>\n      <td>1963</td>\n      <td>708</td>\n      <td>0.360672</td>\n    </tr>\n    <tr>\n      <th>2</th>\n      <td>ARP</td>\n      <td>279</td>\n      <td>122</td>\n      <td>0.437276</td>\n    </tr>\n    <tr>\n      <th>3</th>\n      <td>ASU Library Research Data Repository</td>\n      <td>277</td>\n      <td>122</td>\n      <td>0.440433</td>\n    </tr>\n    <tr>\n      <th>4</th>\n      <td>AUSSDA Dataverse</td>\n      <td>2462</td>\n      <td>345</td>\n      <td>0.140130</td>\n    </tr>\n  </tbody>\n</table></div>"
     },
     "execution_count": 10,
     "metadata": {},
     "output_type": "execute_result"
    }
   ],
   "source": [
    "# Now we'll merge the two dataframes so we can see the count of author metadata in each installation and the count of that author metadata that includes a \"property-formatted\" ORCID\n",
    "authorMetadataAndORCIDsPerInstallation = (pd\n",
    "    .merge(countOfAuthorMetadataPerInstallationDf, countOfORCIDsPerInstallationDf,\n",
    "        how='outer',\n",
    "        on=['dataverse_installation_name'])\n",
    "    .fillna(0)\n",
    "    # Make dataverse_installation_name the index column\n",
    "    .set_index('dataverse_installation_name', inplace=False)\n",
    "    # Make sure all non-indexed columns are integers\n",
    "    .astype('int32')\n",
    "    .reset_index(drop=False, inplace=False)\n",
    "    .sort_values(['dataverse_installation_name'], ascending=[True])\n",
    "    .reset_index(drop=True, inplace=False)\n",
    ")\n",
    "\n",
    "# Add column for percentage of ORCIDs\n",
    "authorMetadataAndORCIDsPerInstallation['percentage_of_orcids_in_author_metadata'] = (\n",
    "        (authorMetadataAndORCIDsPerInstallation['count_of_orcids_in_author_metadata']\n",
    "         / authorMetadataAndORCIDsPerInstallation['count_of_author_metadata'])\n",
    ")\n",
    "\n",
    "authorMetadataAndORCIDsPerInstallation.head()"
   ],
   "metadata": {
    "collapsed": false,
    "pycharm": {
     "name": "#%%\n"
    }
   }
  },
  {
   "cell_type": "code",
   "execution_count": 11,
   "outputs": [],
   "source": [
    "# Export the dataframe as a CSV file\n",
    "authorMetadataAndORCIDsPerInstallation.to_csv(\n",
    "    'authorMetadataAndORCIDsPerInstallation_2023.08.26-2024.08.25.csv',\n",
    "    index=False)"
   ],
   "metadata": {
    "collapsed": false,
    "pycharm": {
     "name": "#%%\n"
    }
   }
  },
  {
   "cell_type": "code",
   "execution_count": null,
   "outputs": [],
   "source": [],
   "metadata": {
    "collapsed": false,
    "pycharm": {
     "name": "#%%\n"
    }
   }
  }
 ],
 "metadata": {
  "kernelspec": {
   "display_name": "Python 3",
   "language": "python",
   "name": "python3"
  },
  "language_info": {
   "codemirror_mode": {
    "name": "ipython",
    "version": 2
   },
   "file_extension": ".py",
   "mimetype": "text/x-python",
   "name": "python",
   "nbconvert_exporter": "python",
   "pygments_lexer": "ipython2",
   "version": "2.7.6"
  }
 },
 "nbformat": 4,
 "nbformat_minor": 0
}