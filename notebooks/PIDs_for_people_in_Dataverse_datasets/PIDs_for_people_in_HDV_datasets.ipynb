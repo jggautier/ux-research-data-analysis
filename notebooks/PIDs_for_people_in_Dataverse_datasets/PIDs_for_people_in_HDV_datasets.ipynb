{
 "cells": [
  {
   "cell_type": "code",
   "execution_count": 1,
   "metadata": {
    "collapsed": true
   },
   "outputs": [],
   "source": [
    "from functools import reduce\n",
    "import numpy as np\n",
    "import pandas as pd"
   ]
  },
  {
   "cell_type": "markdown",
   "source": [
    "# Import, check and prepare data\n",
    "\n",
    "Import CSV files that contain:\n",
    "- The PIDs of all datasets published by many repositories that use the Dataverse software and which repositories published them\n",
    "- Author field metadata entered in all of those datasets"
   ],
   "metadata": {
    "collapsed": false,
    "pycharm": {
     "name": "#%% md\n"
    }
   }
  },
  {
   "cell_type": "code",
   "execution_count": 2,
   "outputs": [
    {
     "data": {
      "text/plain": "  dataverse_installation_name                  dataset_pid_url  \\\n0     UNB_Libraries_Dataverse  https://doi.org/10.25545/NVN79Z   \n1     UNB_Libraries_Dataverse  https://doi.org/10.25545/YB60PU   \n2     UNB_Libraries_Dataverse  https://doi.org/10.25545/WHD3KC   \n3     UNB_Libraries_Dataverse  https://doi.org/10.25545/6TZWCG   \n4     UNB_Libraries_Dataverse  https://doi.org/10.25545/NYM13B   \n\n  dataverse_collection_alias  \\\n0                        snb   \n1            blightchemistry   \n2            blightchemistry   \n3           Ir-CationBinding   \n4                     IFMLAB   \n\n                           dataverse_collection_name  \\\n0                              Service New Brunswick   \n1                Blight Chemistry Research Omniverse   \n2                Blight Chemistry Research Omniverse   \n3  Elucidation of Charge Contributions in Iridium...   \n4                   Integrated Forest Management Lab   \n\n    dataverse_collection_type  \n0  ORGANIZATIONS_INSTITUTIONS  \n1              RESEARCH_GROUP  \n2              RESEARCH_GROUP  \n3                    JOURNALS  \n4              RESEARCH_GROUP  ",
      "text/html": "<div><div id=ebed03c5-4f77-41a7-a85f-0ea658ea6b87 style=\"display:none; background-color:#9D6CFF; color:white; width:200px; height:30px; padding-left:5px; border-radius:4px; flex-direction:row; justify-content:space-around; align-items:center;\" onmouseover=\"this.style.backgroundColor='#BA9BF8'\" onmouseout=\"this.style.backgroundColor='#9D6CFF'\" onclick=\"window.commands?.execute('create-mitosheet-from-dataframe-output');\">See Full Dataframe in Mito</div> <script> if (window.commands.hasCommand('create-mitosheet-from-dataframe-output')) document.getElementById('ebed03c5-4f77-41a7-a85f-0ea658ea6b87').style.display = 'flex' </script> <table border=\"1\" class=\"dataframe\">\n  <thead>\n    <tr style=\"text-align: right;\">\n      <th></th>\n      <th>dataverse_installation_name</th>\n      <th>dataset_pid_url</th>\n      <th>dataverse_collection_alias</th>\n      <th>dataverse_collection_name</th>\n      <th>dataverse_collection_type</th>\n    </tr>\n  </thead>\n  <tbody>\n    <tr>\n      <th>0</th>\n      <td>UNB_Libraries_Dataverse</td>\n      <td>https://doi.org/10.25545/NVN79Z</td>\n      <td>snb</td>\n      <td>Service New Brunswick</td>\n      <td>ORGANIZATIONS_INSTITUTIONS</td>\n    </tr>\n    <tr>\n      <th>1</th>\n      <td>UNB_Libraries_Dataverse</td>\n      <td>https://doi.org/10.25545/YB60PU</td>\n      <td>blightchemistry</td>\n      <td>Blight Chemistry Research Omniverse</td>\n      <td>RESEARCH_GROUP</td>\n    </tr>\n    <tr>\n      <th>2</th>\n      <td>UNB_Libraries_Dataverse</td>\n      <td>https://doi.org/10.25545/WHD3KC</td>\n      <td>blightchemistry</td>\n      <td>Blight Chemistry Research Omniverse</td>\n      <td>RESEARCH_GROUP</td>\n    </tr>\n    <tr>\n      <th>3</th>\n      <td>UNB_Libraries_Dataverse</td>\n      <td>https://doi.org/10.25545/6TZWCG</td>\n      <td>Ir-CationBinding</td>\n      <td>Elucidation of Charge Contributions in Iridium-Chelated Hydrogen-Bonding Systems</td>\n      <td>JOURNALS</td>\n    </tr>\n    <tr>\n      <th>4</th>\n      <td>UNB_Libraries_Dataverse</td>\n      <td>https://doi.org/10.25545/NYM13B</td>\n      <td>IFMLAB</td>\n      <td>Integrated Forest Management Lab</td>\n      <td>RESEARCH_GROUP</td>\n    </tr>\n  </tbody>\n</table></div>"
     },
     "execution_count": 2,
     "metadata": {},
     "output_type": "execute_result"
    }
   ],
   "source": [
    "# Get basic info about datasets in repositories except for ODISSEI Portal\n",
    "datasetPIDsDF = (pd\n",
    "    .read_csv(\n",
    "        'dataset_pids_from_most_known_dataverse_installations_2023.08.csv',\n",
    "        sep=',',\n",
    "        na_filter=False)\n",
    "    .query(\n",
    "        '(dataverse_json_export_saved == True) and\\\n",
    "        (dataverse_installation_name != \"ODISSEI_Portal\")')\n",
    "    .drop(columns=['dataverse_json_export_saved'])\n",
    "    .reset_index(drop=True, inplace=False)\n",
    " )\n",
    "\n",
    "datasetPIDsDF.head()"
   ],
   "metadata": {
    "collapsed": false,
    "pycharm": {
     "name": "#%%\n"
    }
   }
  },
  {
   "cell_type": "code",
   "execution_count": 3,
   "outputs": [
    {
     "data": {
      "text/plain": "                          dataset_pid_url dataset_publication_date  \\\n0     https://doi.org/10.48370/OFD/8TTRLC               2022-05-13   \n1  https://doi.org/10.17026/dans-26a-cq4r               2015-09-18   \n2  https://doi.org/10.17026/dans-zc2-mc2g               2016-12-31   \n3  https://doi.org/10.17026/dans-x9z-bmn6               2020-12-22   \n4      https://doi.org/10.7910/DVN/QD0V0H               2021-09-20   \n\n   dataset_version_number dataset_version_create_time  \\\n0                     1.0        2022-05-11T14:44:29Z   \n1                     2.0        2022-02-18T19:29:27Z   \n2                     1.0        2022-02-24T21:01:03Z   \n3                     1.0        2022-02-14T05:11:03Z   \n4                     1.0        2021-07-29T19:45:43Z   \n\n                                          authorName authorIdentifierScheme  \\\n0  Mammal Research Institute, Polish Academy of S...                    NaN   \n1                                     H.J. Hesseling                    NaN   \n2                                         S. Moerman                    NaN   \n3                                         G. Zielman                    NaN   \n4                                  Master, Daniel M.                    NaN   \n\n  authorIdentifier  \n0              NaN  \n1              NaN  \n2              NaN  \n3              NaN  \n4              NaN  ",
      "text/html": "<div><div id=428a155b-3824-4f56-beea-24e95d9efff7 style=\"display:none; background-color:#9D6CFF; color:white; width:200px; height:30px; padding-left:5px; border-radius:4px; flex-direction:row; justify-content:space-around; align-items:center;\" onmouseover=\"this.style.backgroundColor='#BA9BF8'\" onmouseout=\"this.style.backgroundColor='#9D6CFF'\" onclick=\"window.commands?.execute('create-mitosheet-from-dataframe-output');\">See Full Dataframe in Mito</div> <script> if (window.commands.hasCommand('create-mitosheet-from-dataframe-output')) document.getElementById('428a155b-3824-4f56-beea-24e95d9efff7').style.display = 'flex' </script> <table border=\"1\" class=\"dataframe\">\n  <thead>\n    <tr style=\"text-align: right;\">\n      <th></th>\n      <th>dataset_pid_url</th>\n      <th>dataset_publication_date</th>\n      <th>dataset_version_number</th>\n      <th>dataset_version_create_time</th>\n      <th>authorName</th>\n      <th>authorIdentifierScheme</th>\n      <th>authorIdentifier</th>\n    </tr>\n  </thead>\n  <tbody>\n    <tr>\n      <th>0</th>\n      <td>https://doi.org/10.48370/OFD/8TTRLC</td>\n      <td>2022-05-13</td>\n      <td>1.0</td>\n      <td>2022-05-11T14:44:29Z</td>\n      <td>Mammal Research Institute, Polish Academy of Sciences</td>\n      <td>NaN</td>\n      <td>NaN</td>\n    </tr>\n    <tr>\n      <th>1</th>\n      <td>https://doi.org/10.17026/dans-26a-cq4r</td>\n      <td>2015-09-18</td>\n      <td>2.0</td>\n      <td>2022-02-18T19:29:27Z</td>\n      <td>H.J. Hesseling</td>\n      <td>NaN</td>\n      <td>NaN</td>\n    </tr>\n    <tr>\n      <th>2</th>\n      <td>https://doi.org/10.17026/dans-zc2-mc2g</td>\n      <td>2016-12-31</td>\n      <td>1.0</td>\n      <td>2022-02-24T21:01:03Z</td>\n      <td>S. Moerman</td>\n      <td>NaN</td>\n      <td>NaN</td>\n    </tr>\n    <tr>\n      <th>3</th>\n      <td>https://doi.org/10.17026/dans-x9z-bmn6</td>\n      <td>2020-12-22</td>\n      <td>1.0</td>\n      <td>2022-02-14T05:11:03Z</td>\n      <td>G. Zielman</td>\n      <td>NaN</td>\n      <td>NaN</td>\n    </tr>\n    <tr>\n      <th>4</th>\n      <td>https://doi.org/10.7910/DVN/QD0V0H</td>\n      <td>2021-09-20</td>\n      <td>1.0</td>\n      <td>2021-07-29T19:45:43Z</td>\n      <td>Master, Daniel M.</td>\n      <td>NaN</td>\n      <td>NaN</td>\n    </tr>\n  </tbody>\n</table></div>"
     },
     "execution_count": 3,
     "metadata": {},
     "output_type": "execute_result"
    }
   ],
   "source": [
    "# Get Author field metadata entered in all datasets in Dataverse repositories\n",
    "# and remove datasets have have no author metadata\n",
    "authorMetadataDF = (pd\n",
    "    .read_csv(\n",
    "        'author(citation)_2023.08.22-2023.08.28.csv',\n",
    "        sep=',',\n",
    "        na_filter=True)\n",
    "    .drop(columns=['dataset_pid', 'authorAffiliation'])\n",
    "    .query('authorName != \"N/A\"')\n",
    "    .reset_index(drop=True, inplace=False)\n",
    "    )\n",
    "\n",
    "authorMetadataDF.head()"
   ],
   "metadata": {
    "collapsed": false,
    "pycharm": {
     "name": "#%%\n"
    }
   }
  },
  {
   "cell_type": "code",
   "execution_count": 4,
   "outputs": [
    {
     "name": "stdout",
     "output_type": "stream",
     "text": [
      "Number of datasets in datasetPIDsDF: 390401\n",
      "Number of datasets in authorMetadataDF: 390401\n"
     ]
    }
   ],
   "source": [
    "# Sanity check data by making sure count of datasets is the same in both dataframes\n",
    "print(f'Number of datasets in datasetPIDsDF: {len(datasetPIDsDF)}')\n",
    "datasetCountInAuthorMetadataDF = len(pd.unique(authorMetadataDF['dataset_pid_url']))\n",
    "print(f'Number of datasets in authorMetadataDF: {datasetCountInAuthorMetadataDF}')"
   ],
   "metadata": {
    "collapsed": false,
    "pycharm": {
     "name": "#%%\n"
    }
   }
  },
  {
   "cell_type": "code",
   "execution_count": 5,
   "outputs": [
    {
     "name": "stdout",
     "output_type": "stream",
     "text": [
      "Number of datasets in datasetPIDsAndAuthorMetadataDF: 390401\n",
      "Number of author metadata in datasetPIDsAndAuthorMetadataDF: 667435\n",
      "Number of installations in datasetPIDsAndAuthorMetadataDF: 84\n"
     ]
    }
   ],
   "source": [
    "# Join the datasetPIDsDF and the authorMetadataDF to add the installation column,\n",
    "# so we know which installations published each dataset\n",
    "datasetPIDsAndAuthorMetadataDF = (pd\n",
    "    .merge(datasetPIDsDF, authorMetadataDF,\n",
    "        how='inner',\n",
    "        on=['dataset_pid_url'])\n",
    "    .drop(columns=['dataset_version_number'])\n",
    "    .reset_index(drop=True, inplace=False))\n",
    "\n",
    "# Make sure the count of datasets in datasetPIDsAndAuthorMetadataDF\n",
    "# is the same as in datasetPIDsDF: 390401\n",
    "datasetCountInDatasetPIDsAndAuthorMetadataDF = len(pd.unique(datasetPIDsAndAuthorMetadataDF['dataset_pid_url']))\n",
    "print(f'Number of datasets in datasetPIDsAndAuthorMetadataDF: {datasetCountInDatasetPIDsAndAuthorMetadataDF}')\n",
    "\n",
    "# Get count of author metadata\n",
    "print(f'Number of author metadata in datasetPIDsAndAuthorMetadataDF: {len(datasetPIDsAndAuthorMetadataDF)}')\n",
    "\n",
    "# Get count of installations. Should by 84: the 85 installations in my dataset minus ODISSEI Portal\n",
    "allInstallationsList = list(set(datasetPIDsAndAuthorMetadataDF['dataverse_installation_name'].tolist()))\n",
    "countOfInstallations = len(allInstallationsList)\n",
    "print(f'Number of installations in datasetPIDsAndAuthorMetadataDF: {countOfInstallations}')"
   ],
   "metadata": {
    "collapsed": false,
    "pycharm": {
     "name": "#%%\n"
    }
   }
  },
  {
   "cell_type": "code",
   "execution_count": 6,
   "outputs": [
    {
     "data": {
      "text/plain": "  dataverse_installation_name                  dataset_pid_url  \\\n0     UNB_Libraries_Dataverse  https://doi.org/10.25545/NVN79Z   \n1     UNB_Libraries_Dataverse  https://doi.org/10.25545/YB60PU   \n2     UNB_Libraries_Dataverse  https://doi.org/10.25545/WHD3KC   \n3     UNB_Libraries_Dataverse  https://doi.org/10.25545/6TZWCG   \n4     UNB_Libraries_Dataverse  https://doi.org/10.25545/NYM13B   \n\n  dataverse_collection_alias  \\\n0                        snb   \n1            blightchemistry   \n2            blightchemistry   \n3           Ir-CationBinding   \n4                     IFMLAB   \n\n                           dataverse_collection_name  \\\n0                              Service New Brunswick   \n1                Blight Chemistry Research Omniverse   \n2                Blight Chemistry Research Omniverse   \n3  Elucidation of Charge Contributions in Iridium...   \n4                   Integrated Forest Management Lab   \n\n    dataverse_collection_type dataset_publication_date  \\\n0  ORGANIZATIONS_INSTITUTIONS               2018-05-10   \n1              RESEARCH_GROUP               2018-06-20   \n2              RESEARCH_GROUP               2019-06-23   \n3                    JOURNALS               2021-05-18   \n4              RESEARCH_GROUP               2020-06-30   \n\n  dataset_version_create_time             authorName authorIdentifierScheme  \\\n0        2022-03-23T19:49:10Z  Service New Brunswick                    NaN   \n1        2018-02-21T18:26:43Z        Blight, Barry A                  ORCID   \n2        2019-06-21T18:30:39Z      Balonova, Barbora                    NaN   \n3        2021-05-18T16:39:24Z        Blight, Barry A                    NaN   \n4        2020-11-30T22:44:12Z         Chen, Yingbing                    NaN   \n\n      authorIdentifier  \n0                  NaN  \n1  0000-0003-1166-6206  \n2                  NaN  \n3                  NaN  \n4                  NaN  ",
      "text/html": "<div><div id=18b81893-b525-41ec-86ae-af8011cd5e0e style=\"display:none; background-color:#9D6CFF; color:white; width:200px; height:30px; padding-left:5px; border-radius:4px; flex-direction:row; justify-content:space-around; align-items:center;\" onmouseover=\"this.style.backgroundColor='#BA9BF8'\" onmouseout=\"this.style.backgroundColor='#9D6CFF'\" onclick=\"window.commands?.execute('create-mitosheet-from-dataframe-output');\">See Full Dataframe in Mito</div> <script> if (window.commands.hasCommand('create-mitosheet-from-dataframe-output')) document.getElementById('18b81893-b525-41ec-86ae-af8011cd5e0e').style.display = 'flex' </script> <table border=\"1\" class=\"dataframe\">\n  <thead>\n    <tr style=\"text-align: right;\">\n      <th></th>\n      <th>dataverse_installation_name</th>\n      <th>dataset_pid_url</th>\n      <th>dataverse_collection_alias</th>\n      <th>dataverse_collection_name</th>\n      <th>dataverse_collection_type</th>\n      <th>dataset_publication_date</th>\n      <th>dataset_version_create_time</th>\n      <th>authorName</th>\n      <th>authorIdentifierScheme</th>\n      <th>authorIdentifier</th>\n    </tr>\n  </thead>\n  <tbody>\n    <tr>\n      <th>0</th>\n      <td>UNB_Libraries_Dataverse</td>\n      <td>https://doi.org/10.25545/NVN79Z</td>\n      <td>snb</td>\n      <td>Service New Brunswick</td>\n      <td>ORGANIZATIONS_INSTITUTIONS</td>\n      <td>2018-05-10</td>\n      <td>2022-03-23T19:49:10Z</td>\n      <td>Service New Brunswick</td>\n      <td>NaN</td>\n      <td>NaN</td>\n    </tr>\n    <tr>\n      <th>1</th>\n      <td>UNB_Libraries_Dataverse</td>\n      <td>https://doi.org/10.25545/YB60PU</td>\n      <td>blightchemistry</td>\n      <td>Blight Chemistry Research Omniverse</td>\n      <td>RESEARCH_GROUP</td>\n      <td>2018-06-20</td>\n      <td>2018-02-21T18:26:43Z</td>\n      <td>Blight, Barry A</td>\n      <td>ORCID</td>\n      <td>0000-0003-1166-6206</td>\n    </tr>\n    <tr>\n      <th>2</th>\n      <td>UNB_Libraries_Dataverse</td>\n      <td>https://doi.org/10.25545/WHD3KC</td>\n      <td>blightchemistry</td>\n      <td>Blight Chemistry Research Omniverse</td>\n      <td>RESEARCH_GROUP</td>\n      <td>2019-06-23</td>\n      <td>2019-06-21T18:30:39Z</td>\n      <td>Balonova, Barbora</td>\n      <td>NaN</td>\n      <td>NaN</td>\n    </tr>\n    <tr>\n      <th>3</th>\n      <td>UNB_Libraries_Dataverse</td>\n      <td>https://doi.org/10.25545/6TZWCG</td>\n      <td>Ir-CationBinding</td>\n      <td>Elucidation of Charge Contributions in Iridium-Chelated Hydrogen-Bonding Systems</td>\n      <td>JOURNALS</td>\n      <td>2021-05-18</td>\n      <td>2021-05-18T16:39:24Z</td>\n      <td>Blight, Barry A</td>\n      <td>NaN</td>\n      <td>NaN</td>\n    </tr>\n    <tr>\n      <th>4</th>\n      <td>UNB_Libraries_Dataverse</td>\n      <td>https://doi.org/10.25545/NYM13B</td>\n      <td>IFMLAB</td>\n      <td>Integrated Forest Management Lab</td>\n      <td>RESEARCH_GROUP</td>\n      <td>2020-06-30</td>\n      <td>2020-11-30T22:44:12Z</td>\n      <td>Chen, Yingbing</td>\n      <td>NaN</td>\n      <td>NaN</td>\n    </tr>\n  </tbody>\n</table></div>"
     },
     "execution_count": 6,
     "metadata": {},
     "output_type": "execute_result"
    }
   ],
   "source": [
    "datasetPIDsAndAuthorMetadataDF.head()"
   ],
   "metadata": {
    "collapsed": false,
    "pycharm": {
     "name": "#%%\n"
    }
   }
  },
  {
   "cell_type": "markdown",
   "source": [
    "# Explore data"
   ],
   "metadata": {
    "collapsed": false,
    "pycharm": {
     "name": "#%% md\n"
    }
   }
  },
  {
   "cell_type": "markdown",
   "source": [
    "Get info about author metadata that includes no identifier metadata, partial identifier metadata, and complete identifier metadata"
   ],
   "metadata": {
    "collapsed": false,
    "pycharm": {
     "name": "#%% md\n"
    }
   }
  },
  {
   "cell_type": "code",
   "execution_count": 7,
   "outputs": [
    {
     "name": "stdout",
     "output_type": "stream",
     "text": [
      "Number of author metadata with partial, complete, and no identifier metadata: 667435\n",
      "Number of author metadata with partial identifier metadata: 4438\n",
      "Number of author metadata with complete identifier metadata: 82078\n",
      "Number of author metadata with no identifier metadata: 580919\n"
     ]
    }
   ],
   "source": [
    "authorsWithNoIdentifiersDf = (\n",
    "    datasetPIDsAndAuthorMetadataDF\n",
    "        .query(\n",
    "            'authorIdentifierScheme != authorIdentifierScheme and\\\n",
    "            authorIdentifier != authorIdentifier')\n",
    "        .reset_index(drop=True, inplace=False)\n",
    ")\n",
    "\n",
    "authorsWithPartialIdentifiersDf = (\n",
    "    datasetPIDsAndAuthorMetadataDF\n",
    "        .query(\n",
    "            '(authorIdentifierScheme == authorIdentifierScheme and\\\n",
    "             authorIdentifier != authorIdentifier) or\\\n",
    "            (authorIdentifierScheme != authorIdentifierScheme and\\\n",
    "             authorIdentifier == authorIdentifier)')\n",
    "        .fillna('')\n",
    "        .reset_index(drop=True, inplace=False)\n",
    ")\n",
    "\n",
    "authorsWithCompleteIdentifiersDf = (\n",
    "    datasetPIDsAndAuthorMetadataDF\n",
    "        .query(\n",
    "            'authorIdentifierScheme == authorIdentifierScheme and\\\n",
    "             authorIdentifier == authorIdentifier')\n",
    "        .reset_index(drop=True, inplace=False)\n",
    ")\n",
    "\n",
    "sumOfAuthorMetadata = (\n",
    "    len(authorsWithPartialIdentifiersDf)\n",
    "    + len(authorsWithCompleteIdentifiersDf)\n",
    "    + len(authorsWithNoIdentifiersDf)\n",
    ")\n",
    "print(f'Number of author metadata with partial, complete, and no identifier metadata: {sumOfAuthorMetadata}')\n",
    "\n",
    "print(f'Number of author metadata with partial identifier metadata: {len(authorsWithPartialIdentifiersDf)}')\n",
    "print(f'Number of author metadata with complete identifier metadata: {len(authorsWithCompleteIdentifiersDf)}')\n",
    "print(f'Number of author metadata with no identifier metadata: {len(authorsWithNoIdentifiersDf)}')"
   ],
   "metadata": {
    "collapsed": false,
    "pycharm": {
     "name": "#%%\n"
    }
   }
  },
  {
   "cell_type": "markdown",
   "source": [
    "Get count of author metadata with and without identifiers for each installation"
   ],
   "metadata": {
    "collapsed": false,
    "pycharm": {
     "name": "#%% md\n"
    }
   }
  },
  {
   "cell_type": "code",
   "execution_count": 8,
   "outputs": [
    {
     "data": {
      "text/plain": "            dataverse_installation_name  \\\n0                        ACSS_Dataverse   \n1                         ADA_Dataverse   \n2  ASU_Library_Research_Data_Repository   \n3                      AUSSDA_Dataverse   \n4                                Abacus   \n\n   count_of_authors_with_complete_identifiers  \\\n0                                           5   \n1                                        1102   \n2                                          92   \n3                                         258   \n4                                           0   \n\n   count_of_authors_with_partial_identifiers  \\\n0                                          0   \n1                                         22   \n2                                          4   \n3                                          0   \n4                                          1   \n\n   count_of_authors_with_no_identifiers  \n0                                   141  \n1                                  2140  \n2                                   115  \n3                                  2104  \n4                                  4083  ",
      "text/html": "<div><div id=10d41145-1389-43a9-a8d7-87247de52b7d style=\"display:none; background-color:#9D6CFF; color:white; width:200px; height:30px; padding-left:5px; border-radius:4px; flex-direction:row; justify-content:space-around; align-items:center;\" onmouseover=\"this.style.backgroundColor='#BA9BF8'\" onmouseout=\"this.style.backgroundColor='#9D6CFF'\" onclick=\"window.commands?.execute('create-mitosheet-from-dataframe-output');\">See Full Dataframe in Mito</div> <script> if (window.commands.hasCommand('create-mitosheet-from-dataframe-output')) document.getElementById('10d41145-1389-43a9-a8d7-87247de52b7d').style.display = 'flex' </script> <table border=\"1\" class=\"dataframe\">\n  <thead>\n    <tr style=\"text-align: right;\">\n      <th></th>\n      <th>dataverse_installation_name</th>\n      <th>count_of_authors_with_complete_identifiers</th>\n      <th>count_of_authors_with_partial_identifiers</th>\n      <th>count_of_authors_with_no_identifiers</th>\n    </tr>\n  </thead>\n  <tbody>\n    <tr>\n      <th>0</th>\n      <td>ACSS_Dataverse</td>\n      <td>5</td>\n      <td>0</td>\n      <td>141</td>\n    </tr>\n    <tr>\n      <th>1</th>\n      <td>ADA_Dataverse</td>\n      <td>1102</td>\n      <td>22</td>\n      <td>2140</td>\n    </tr>\n    <tr>\n      <th>2</th>\n      <td>ASU_Library_Research_Data_Repository</td>\n      <td>92</td>\n      <td>4</td>\n      <td>115</td>\n    </tr>\n    <tr>\n      <th>3</th>\n      <td>AUSSDA_Dataverse</td>\n      <td>258</td>\n      <td>0</td>\n      <td>2104</td>\n    </tr>\n    <tr>\n      <th>4</th>\n      <td>Abacus</td>\n      <td>0</td>\n      <td>1</td>\n      <td>4083</td>\n    </tr>\n  </tbody>\n</table></div>"
     },
     "execution_count": 8,
     "metadata": {},
     "output_type": "execute_result"
    }
   ],
   "source": [
    "# Count of author metadata in authorsWithNoIdentifiersDf per installation\n",
    "authorsWithNoIdentifiersByInstallationDf = (\n",
    "    authorsWithNoIdentifiersDf\n",
    "        .value_counts(subset=['dataverse_installation_name'])\n",
    "        .to_frame('count_of_authors_with_no_identifiers')\n",
    ")\n",
    "\n",
    "# Count of author metadata in authorsWithPartialIdentifiersDf per installation\n",
    "authorsWithPartialIdentifiersByInstallationDf = (\n",
    "    authorsWithPartialIdentifiersDf\n",
    "        .value_counts(subset=['dataverse_installation_name'])\n",
    "        .to_frame('count_of_authors_with_partial_identifiers')\n",
    ")\n",
    "\n",
    "# Count of author metadata in authorsWithCompleteIdentifiersDf per installation\n",
    "authorsWithCompleteIdentifiersByInstallationDf = (\n",
    "    authorsWithCompleteIdentifiersDf\n",
    "        .value_counts(subset=['dataverse_installation_name'])\n",
    "        .to_frame('count_of_authors_with_complete_identifiers')\n",
    ")\n",
    "\n",
    "# Join the three dataframes\n",
    "dataframes = [\n",
    "    authorsWithNoIdentifiersByInstallationDf,\n",
    "    authorsWithPartialIdentifiersByInstallationDf,\n",
    "    authorsWithCompleteIdentifiersByInstallationDf\n",
    "]\n",
    "\n",
    "countOfAuthorsByInstallationDf = reduce(lambda left, right: left.join(right, how='outer'), dataframes)\n",
    "countOfAuthorsByInstallationDf = (\n",
    "    countOfAuthorsByInstallationDf\n",
    "        .fillna(0)\n",
    "        .astype('int32')\n",
    "        .reset_index(drop=False, inplace=False)\n",
    "        # Reorder columns\n",
    "        .loc[:,[\n",
    "            'dataverse_installation_name',\n",
    "            'count_of_authors_with_complete_identifiers',\n",
    "            'count_of_authors_with_partial_identifiers',\n",
    "            'count_of_authors_with_no_identifiers']]\n",
    ")\n",
    "\n",
    "countOfAuthorsByInstallationDf.head()"
   ],
   "metadata": {
    "collapsed": false,
    "pycharm": {
     "name": "#%%\n"
    }
   }
  },
  {
   "cell_type": "markdown",
   "source": [
    "Get number of author metadata with each type of identifier, e.g. ORCID, GND"
   ],
   "metadata": {
    "collapsed": false,
    "pycharm": {
     "name": "#%% md\n"
    }
   }
  },
  {
   "cell_type": "code",
   "execution_count": 29,
   "outputs": [
    {
     "data": {
      "text/plain": "            dataverse_installation_name  DAI  DOI  GND  ISNI  LCNA  ORCID  \\\n0                        ACSS_Dataverse    0    0    0     0     0      5   \n1                         ADA_Dataverse    0    0    0     0     0   1119   \n2  ASU_Library_Research_Data_Repository    0    0    0     0     0     92   \n3                      AUSSDA_Dataverse    0    0    0     0     0    258   \n4                                Abacus    0    0    0     0     0      0   \n\n   ResearcherID  ScopusID  VIAF  idHAL  \n0             0         0     0      0  \n1             0         0     0      0  \n2             0         0     0      0  \n3             0         0     0      0  \n4             0         0     0      0  ",
      "text/html": "<div><div id=90e59cf4-4247-4430-9b12-0442130781d7 style=\"display:none; background-color:#9D6CFF; color:white; width:200px; height:30px; padding-left:5px; border-radius:4px; flex-direction:row; justify-content:space-around; align-items:center;\" onmouseover=\"this.style.backgroundColor='#BA9BF8'\" onmouseout=\"this.style.backgroundColor='#9D6CFF'\" onclick=\"window.commands?.execute('create-mitosheet-from-dataframe-output');\">See Full Dataframe in Mito</div> <script> if (window.commands.hasCommand('create-mitosheet-from-dataframe-output')) document.getElementById('90e59cf4-4247-4430-9b12-0442130781d7').style.display = 'flex' </script> <table border=\"1\" class=\"dataframe\">\n  <thead>\n    <tr style=\"text-align: right;\">\n      <th></th>\n      <th>dataverse_installation_name</th>\n      <th>DAI</th>\n      <th>DOI</th>\n      <th>GND</th>\n      <th>ISNI</th>\n      <th>LCNA</th>\n      <th>ORCID</th>\n      <th>ResearcherID</th>\n      <th>ScopusID</th>\n      <th>VIAF</th>\n      <th>idHAL</th>\n    </tr>\n  </thead>\n  <tbody>\n    <tr>\n      <th>0</th>\n      <td>ACSS_Dataverse</td>\n      <td>0</td>\n      <td>0</td>\n      <td>0</td>\n      <td>0</td>\n      <td>0</td>\n      <td>5</td>\n      <td>0</td>\n      <td>0</td>\n      <td>0</td>\n      <td>0</td>\n    </tr>\n    <tr>\n      <th>1</th>\n      <td>ADA_Dataverse</td>\n      <td>0</td>\n      <td>0</td>\n      <td>0</td>\n      <td>0</td>\n      <td>0</td>\n      <td>1119</td>\n      <td>0</td>\n      <td>0</td>\n      <td>0</td>\n      <td>0</td>\n    </tr>\n    <tr>\n      <th>2</th>\n      <td>ASU_Library_Research_Data_Repository</td>\n      <td>0</td>\n      <td>0</td>\n      <td>0</td>\n      <td>0</td>\n      <td>0</td>\n      <td>92</td>\n      <td>0</td>\n      <td>0</td>\n      <td>0</td>\n      <td>0</td>\n    </tr>\n    <tr>\n      <th>3</th>\n      <td>AUSSDA_Dataverse</td>\n      <td>0</td>\n      <td>0</td>\n      <td>0</td>\n      <td>0</td>\n      <td>0</td>\n      <td>258</td>\n      <td>0</td>\n      <td>0</td>\n      <td>0</td>\n      <td>0</td>\n    </tr>\n    <tr>\n      <th>4</th>\n      <td>Abacus</td>\n      <td>0</td>\n      <td>0</td>\n      <td>0</td>\n      <td>0</td>\n      <td>0</td>\n      <td>0</td>\n      <td>0</td>\n      <td>0</td>\n      <td>0</td>\n      <td>0</td>\n    </tr>\n  </tbody>\n</table></div>"
     },
     "execution_count": 29,
     "metadata": {},
     "output_type": "execute_result"
    }
   ],
   "source": [
    "countOfValidIdentifiersByTypeAndInstallationDf = (pd\n",
    "    .crosstab(\n",
    "        authorsWithCompleteIdentifiersDf.dataverse_installation_name,\n",
    "        authorsWithCompleteIdentifiersDf.authorIdentifierScheme)#,\n",
    "        # margins=True, margins_name='Total')\n",
    "    .reset_index(drop=False, inplace=False)\n",
    "    .rename_axis(None, axis=1)\n",
    ")\n",
    "\n",
    "# Add rows for installations that have no complete identifiers\n",
    "installationsWithCompleteIdentifiers = countOfValidIdentifiersByTypeAndInstallationDf['dataverse_installation_name'].tolist()\n",
    "installationsWithNoCompleteIdentifiers = set(allInstallationsList) - set(installationsWithCompleteIdentifiers)\n",
    "for installation in installationsWithNoCompleteIdentifiers:\n",
    "    countOfValidIdentifiersByTypeAndInstallationDf.loc[-1] = [\n",
    "        installation, 0, 0, 0, 0, 0, 0, 0, 0, 0, 0, ]\n",
    "    countOfValidIdentifiersByTypeAndInstallationDf.index = countOfValidIdentifiersByTypeAndInstallationDf.index + 1\n",
    "\n",
    "# Create new dataframe with count of invalid ORCIDs in each installation\n",
    "\n",
    "authorMetadataWithInvalidORCIDsDf = (\n",
    "    authorsWithPartialIdentifiersDf\n",
    "        .query(\n",
    "        'authorIdentifier.str.contains(\"orcid\", case=False) or\\\n",
    "        authorIdentifier.str.match(\".*\\d{4}-\\d{4}-\\d{4}-\\d{4}.*\")',\n",
    "        engine='python')\n",
    "        .reset_index(drop=True, inplace=False)\n",
    ")\n",
    "\n",
    "countOfAuthorsWithInvalidORCIDsByInstallationDf = (\n",
    "    authorMetadataWithInvalidORCIDsDf\n",
    "        .value_counts(subset=['dataverse_installation_name'])\n",
    "        .to_frame('count_of_authors_with_invalid_orcids')\n",
    "        .reset_index(drop=False, inplace=False)\n",
    ")\n",
    "\n",
    "countOfIdentifiersByTypeAndInstallationDf = (pd\n",
    "    .merge(countOfValidIdentifiersByTypeAndInstallationDf, countOfAuthorsWithInvalidORCIDsByInstallationDf,\n",
    "        how='outer',\n",
    "        on=['dataverse_installation_name'])\n",
    "    .fillna(0)\n",
    "    # Make dataverse_installation_name the index column\n",
    "    .set_index('dataverse_installation_name', inplace=False)\n",
    "    # Make sure all non-indexed columns are integers\n",
    "    .astype('int32')\n",
    "    .reset_index(drop=False, inplace=False)\n",
    "    )\n",
    "\n",
    "# Combine the ORCID and invalid_orcid columns\n",
    "countOfIdentifiersByTypeAndInstallationDf['ORCID_total'] = (\n",
    "        countOfIdentifiersByTypeAndInstallationDf['ORCID']\n",
    "        + countOfIdentifiersByTypeAndInstallationDf['count_of_authors_with_invalid_orcids']\n",
    ")\n",
    "\n",
    "# Remove ORCID and count_of_authors_with_invalid_orcids columns and rename ORCID_total column\n",
    "countOfIdentifiersByTypeAndInstallationDf = (countOfIdentifiersByTypeAndInstallationDf\n",
    "    .drop(columns=['ORCID', 'count_of_authors_with_invalid_orcids'])\n",
    "    .rename(columns={'ORCID_total': 'ORCID'})\n",
    "    .set_index('dataverse_installation_name', inplace=False)\n",
    "    )\n",
    "\n",
    "# Alphabetize columns\n",
    "countOfIdentifiersByTypeAndInstallationDf = (countOfIdentifiersByTypeAndInstallationDf\n",
    "    .reindex(sorted(countOfIdentifiersByTypeAndInstallationDf.columns), axis=1)\n",
    "    .reset_index(drop=False, inplace=False)\n",
    "    .sort_values('dataverse_installation_name')\n",
    "    .reset_index(drop=True, inplace=False)\n",
    "    )\n",
    "\n",
    "countOfIdentifiersByTypeAndInstallationDf.head()"
   ],
   "metadata": {
    "collapsed": false,
    "pycharm": {
     "name": "#%%\n"
    }
   }
  },
  {
   "cell_type": "code",
   "execution_count": 11,
   "outputs": [],
   "source": [
    "# Export the dataframe as a CSV file\n",
    "countOfIdentifiersByTypeAndInstallationDf.to_csv('countOfIdentifiersByTypeAndInstallationDf.csv', index=False)"
   ],
   "metadata": {
    "collapsed": false,
    "pycharm": {
     "name": "#%%\n"
    }
   }
  },
  {
   "cell_type": "code",
   "execution_count": 30,
   "outputs": [
    {
     "data": {
      "text/plain": "               dataverse_installation_name  ORCID  Other_identifier\n0                           ACSS_Dataverse      5                 0\n1                            ADA_Dataverse   1119                 0\n2     ASU_Library_Research_Data_Repository     92                 0\n3                         AUSSDA_Dataverse    258                 0\n4                                   Abacus      0                 0\n5                               Arca_Dados    135                 0\n6                                 Borealis   3709                35\n7  CESA_-_Repositorio_de_datos_académicos      4                 0\n8                                   CIDACS     10                 0\n9                                    CIFOR     95                 0",
      "text/html": "<div><div id=00a3341c-b832-4939-ae2a-7f9e7bcabf7d style=\"display:none; background-color:#9D6CFF; color:white; width:200px; height:30px; padding-left:5px; border-radius:4px; flex-direction:row; justify-content:space-around; align-items:center;\" onmouseover=\"this.style.backgroundColor='#BA9BF8'\" onmouseout=\"this.style.backgroundColor='#9D6CFF'\" onclick=\"window.commands?.execute('create-mitosheet-from-dataframe-output');\">See Full Dataframe in Mito</div> <script> if (window.commands.hasCommand('create-mitosheet-from-dataframe-output')) document.getElementById('00a3341c-b832-4939-ae2a-7f9e7bcabf7d').style.display = 'flex' </script> <table border=\"1\" class=\"dataframe\">\n  <thead>\n    <tr style=\"text-align: right;\">\n      <th></th>\n      <th>dataverse_installation_name</th>\n      <th>ORCID</th>\n      <th>Other_identifier</th>\n    </tr>\n  </thead>\n  <tbody>\n    <tr>\n      <th>0</th>\n      <td>ACSS_Dataverse</td>\n      <td>5</td>\n      <td>0</td>\n    </tr>\n    <tr>\n      <th>1</th>\n      <td>ADA_Dataverse</td>\n      <td>1119</td>\n      <td>0</td>\n    </tr>\n    <tr>\n      <th>2</th>\n      <td>ASU_Library_Research_Data_Repository</td>\n      <td>92</td>\n      <td>0</td>\n    </tr>\n    <tr>\n      <th>3</th>\n      <td>AUSSDA_Dataverse</td>\n      <td>258</td>\n      <td>0</td>\n    </tr>\n    <tr>\n      <th>4</th>\n      <td>Abacus</td>\n      <td>0</td>\n      <td>0</td>\n    </tr>\n    <tr>\n      <th>5</th>\n      <td>Arca_Dados</td>\n      <td>135</td>\n      <td>0</td>\n    </tr>\n    <tr>\n      <th>6</th>\n      <td>Borealis</td>\n      <td>3709</td>\n      <td>35</td>\n    </tr>\n    <tr>\n      <th>7</th>\n      <td>CESA_-_Repositorio_de_datos_académicos</td>\n      <td>4</td>\n      <td>0</td>\n    </tr>\n    <tr>\n      <th>8</th>\n      <td>CIDACS</td>\n      <td>10</td>\n      <td>0</td>\n    </tr>\n    <tr>\n      <th>9</th>\n      <td>CIFOR</td>\n      <td>95</td>\n      <td>0</td>\n    </tr>\n  </tbody>\n</table></div>"
     },
     "execution_count": 30,
     "metadata": {},
     "output_type": "execute_result"
    }
   ],
   "source": [
    "# Create dataframe showing count of ORCIDs versus all other identifiers\n",
    "countOfORCIDsVersusOtherIdentifiersByInstallationDf = countOfIdentifiersByTypeAndInstallationDf\n",
    "\n",
    "countOfORCIDsVersusOtherIdentifiersByInstallationDf['Other_identifier'] = countOfORCIDsVersusOtherIdentifiersByInstallationDf[countOfIdentifiersByTypeAndInstallationDf.columns.delete([0, 6])].apply(\n",
    "    lambda x: sum(x), axis=1\n",
    ")\n",
    "\n",
    "countOfORCIDsVersusOtherIdentifiersByInstallationDf = (\n",
    "    countOfORCIDsVersusOtherIdentifiersByInstallationDf[[\n",
    "        'dataverse_installation_name',\n",
    "        'ORCID',\n",
    "        'Other_identifier']]\n",
    ")\n",
    "\n",
    "countOfORCIDsVersusOtherIdentifiersByInstallationDf.head(10)"
   ],
   "metadata": {
    "collapsed": false,
    "pycharm": {
     "name": "#%%\n"
    }
   }
  },
  {
   "cell_type": "code",
   "execution_count": 31,
   "outputs": [],
   "source": [
    "# Export the dataframe as a CSV file\n",
    "countOfORCIDsVersusOtherIdentifiersByInstallationDf.to_csv('countOfORCIDsVersusOtherIdentifiersByInstallationDf.csv', index=False)"
   ],
   "metadata": {
    "collapsed": false,
    "pycharm": {
     "name": "#%%\n"
    }
   }
  },
  {
   "cell_type": "code",
   "execution_count": 69,
   "outputs": [
    {
     "name": "stdout",
     "output_type": "stream",
     "text": [
      "84\n"
     ]
    }
   ],
   "source": [
    "# How often do installations publish datasets with\n",
    "# author identifiers that aren't ORCIDs\n",
    "countOfInstallations = len(countOfIdentifiersByTypeAndInstallationDf.dataverse_installation_name.unique())\n",
    "print(countOfInstallations)"
   ],
   "metadata": {
    "collapsed": false,
    "pycharm": {
     "name": "#%%\n"
    }
   }
  },
  {
   "cell_type": "code",
   "execution_count": 27,
   "outputs": [
    {
     "name": "stdout",
     "output_type": "stream",
     "text": [
      "Index(['DAI', 'DOI', 'GND', 'ISNI', 'LCNA', 'ResearcherID', 'ScopusID', 'VIAF',\n",
      "       'idHAL', 'Other_identifier'],\n",
      "      dtype='object')\n"
     ]
    }
   ],
   "source": [
    "# print(countOfIdentifiersByTypeAndInstallationDf.columns[1:].remove('ORCID'))\n",
    "print(countOfIdentifiersByTypeAndInstallationDf.columns.delete([0, 6]))\n"
   ],
   "metadata": {
    "collapsed": false,
    "pycharm": {
     "name": "#%%\n"
    }
   }
  },
  {
   "cell_type": "code",
   "execution_count": null,
   "outputs": [],
   "source": [],
   "metadata": {
    "collapsed": false,
    "pycharm": {
     "name": "#%%\n"
    }
   }
  }
 ],
 "metadata": {
  "kernelspec": {
   "display_name": "Python 3",
   "language": "python",
   "name": "python3"
  },
  "language_info": {
   "codemirror_mode": {
    "name": "ipython",
    "version": 2
   },
   "file_extension": ".py",
   "mimetype": "text/x-python",
   "name": "python",
   "nbconvert_exporter": "python",
   "pygments_lexer": "ipython2",
   "version": "2.7.6"
  }
 },
 "nbformat": 4,
 "nbformat_minor": 0
}