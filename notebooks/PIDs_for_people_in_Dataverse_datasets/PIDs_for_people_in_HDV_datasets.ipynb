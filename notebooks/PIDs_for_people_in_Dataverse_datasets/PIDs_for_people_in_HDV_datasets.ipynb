{
 "cells": [
  {
   "cell_type": "code",
   "execution_count": null,
   "metadata": {
    "collapsed": true
   },
   "outputs": [],
   "source": [
    "from functools import reduce\n",
    "import numpy as np\n",
    "import pandas as pd"
   ]
  },
  {
   "cell_type": "markdown",
   "source": [
    "# Import, check and prepare data\n",
    "\n",
    "Import CSV files that contain:\n",
    "- The PIDs of all datasets published by many repositories that use the Dataverse software and which repositories published them\n",
    "- Author field metadata entered in all of those datasets"
   ],
   "metadata": {
    "collapsed": false,
    "pycharm": {
     "name": "#%% md\n"
    }
   }
  },
  {
   "cell_type": "code",
   "execution_count": null,
   "outputs": [],
   "source": [
    "# Get basic info about datasets in repositories except for ODISSEI Portal\n",
    "datasetPIDsDF = (pd\n",
    "    .read_csv(\n",
    "        'dataset_pids_from_most_known_dataverse_installations_2023.08.csv',\n",
    "        sep=',',\n",
    "        na_filter=False)\n",
    "    .query(\n",
    "        '(dataverse_json_export_saved == True) and\\\n",
    "        (dataverse_installation_name != \"ODISSEI_Portal\")')\n",
    "    .drop(columns=['dataverse_json_export_saved'])\n",
    "    .reset_index(drop=True, inplace=False)\n",
    " )\n",
    "\n",
    "datasetPIDsDF.head()"
   ],
   "metadata": {
    "collapsed": false,
    "pycharm": {
     "name": "#%%\n"
    }
   }
  },
  {
   "cell_type": "code",
   "execution_count": null,
   "outputs": [],
   "source": [
    "# Get Author field metadata entered in all datasets in Dataverse repositories\n",
    "# and remove datasets have have no author metadata\n",
    "authorMetadataDF = (pd\n",
    "    .read_csv(\n",
    "        'author(citation)_2023.08.22-2023.08.28.csv',\n",
    "        sep=',',\n",
    "        na_filter=True)\n",
    "    .drop(columns=['dataset_pid', 'authorAffiliation'])\n",
    "    .query('authorName != \"N/A\"')\n",
    "    .reset_index(drop=True, inplace=False)\n",
    "    )\n",
    "\n",
    "authorMetadataDF.head()"
   ],
   "metadata": {
    "collapsed": false,
    "pycharm": {
     "name": "#%%\n"
    }
   }
  },
  {
   "cell_type": "code",
   "execution_count": null,
   "outputs": [],
   "source": [
    "print(f'Number of datasets in datasetPIDsDF: {len(datasetPIDsDF)}')\n",
    "datasetCountInAuthorMetadataDF = len(pd.unique(authorMetadataDF['dataset_pid_url']))\n",
    "print(f'Number of datasets in authorMetadataDF: {datasetCountInAuthorMetadataDF}')"
   ],
   "metadata": {
    "collapsed": false,
    "pycharm": {
     "name": "#%%\n"
    }
   }
  },
  {
   "cell_type": "code",
   "execution_count": null,
   "outputs": [],
   "source": [
    "# Join the datasetPIDsDF and the authorMetadataDF to add the installation column,\n",
    "# so we know which installations published each dataset\n",
    "# and remove datasets that have no author\n",
    "\n",
    "datasetPIDsAndAuthorMetadataDF = (pd\n",
    "    .merge(datasetPIDsDF, authorMetadataDF,\n",
    "        how='inner',\n",
    "        on=['dataset_pid_url'])\n",
    "    .drop(columns=[\n",
    "        'dataset_version_number',\n",
    "        'dataset_version_create_time'])\n",
    "    .reset_index(drop=True, inplace=False))\n",
    "\n",
    "# Make sure the count of rows in datasetPIDsAndAuthorMetadataDF\n",
    "# is the same as the count of total datasets in datasetPIDsDF: 390401\n",
    "datasetCountInDatasetPIDsAndAuthorMetadataDF = len(pd.unique(datasetPIDsAndAuthorMetadataDF['dataset_pid_url']))\n",
    "print(f'Number of datasets in datasetPIDsAndAuthorMetadataDF: {datasetCountInDatasetPIDsAndAuthorMetadataDF}')\n",
    "\n",
    "print(f'Number of author metadata in datasetPIDsAndAuthorMetadataDF: {len(datasetPIDsAndAuthorMetadataDF)}')\n",
    "\n",
    "countOfInstallations = len(datasetPIDsAndAuthorMetadataDF.dataverse_installation_name.unique())\n",
    "print(f'Number of installations in datasetPIDsAndAuthorMetadataDF: {countOfInstallations}')"
   ],
   "metadata": {
    "collapsed": false,
    "pycharm": {
     "name": "#%%\n"
    }
   }
  },
  {
   "cell_type": "code",
   "execution_count": null,
   "outputs": [],
   "source": [
    "datasetPIDsAndAuthorMetadataDF.head()"
   ],
   "metadata": {
    "collapsed": false,
    "pycharm": {
     "name": "#%%\n"
    }
   }
  },
  {
   "cell_type": "markdown",
   "source": [
    "# Explore data"
   ],
   "metadata": {
    "collapsed": false,
    "pycharm": {
     "name": "#%% md\n"
    }
   }
  },
  {
   "cell_type": "code",
   "execution_count": null,
   "outputs": [],
   "source": [
    "# Get info about author metadata that includes no values and any values in the identifier type or identifier fields\n",
    "authorsWithNoIdentifiersDf = (\n",
    "    datasetPIDsAndAuthorMetadataDF\n",
    "        .query(\n",
    "            'authorIdentifierScheme != authorIdentifierScheme and\\\n",
    "            authorIdentifier != authorIdentifier')\n",
    "        .reset_index(drop=True, inplace=False)\n",
    ")\n",
    "\n",
    "authorsWithPartialIdentifiersDf = (\n",
    "    datasetPIDsAndAuthorMetadataDF\n",
    "        .query(\n",
    "            '(authorIdentifierScheme == authorIdentifierScheme and\\\n",
    "             authorIdentifier != authorIdentifier) or\\\n",
    "            (authorIdentifierScheme != authorIdentifierScheme and\\\n",
    "             authorIdentifier == authorIdentifier)')\n",
    "        .reset_index(drop=True, inplace=False)\n",
    ")\n",
    "\n",
    "authorsWithCompleteIdentifiersDf = (\n",
    "    datasetPIDsAndAuthorMetadataDF\n",
    "        .query(\n",
    "            'authorIdentifierScheme == authorIdentifierScheme and\\\n",
    "             authorIdentifier == authorIdentifier')\n",
    "        .reset_index(drop=True, inplace=False)\n",
    ")\n",
    "\n",
    "sumOfAuthorMetadata = (\n",
    "    len(authorsWithPartialIdentifiersDf)\n",
    "    + len(authorsWithCompleteIdentifiersDf)\n",
    "    + len(authorsWithNoIdentifiersDf)\n",
    ")\n",
    "print(f'Number of author metadata with partial, complete, and no identifier metadata: {sumOfAuthorMetadata}')\n",
    "\n",
    "print(f'Number of author metadata with partial identifier metadata: {len(authorsWithPartialIdentifiersDf)}')\n",
    "print(f'Number of author metadata with complete identifier metadata: {len(authorsWithCompleteIdentifiersDf)}')\n",
    "print(f'Number of author metadata with no identifier metadata: {len(authorsWithNoIdentifiersDf)}')"
   ],
   "metadata": {
    "collapsed": false,
    "pycharm": {
     "name": "#%%\n"
    }
   }
  },
  {
   "cell_type": "markdown",
   "source": [
    "Get count of metadata for each installation"
   ],
   "metadata": {
    "collapsed": false,
    "pycharm": {
     "name": "#%% md\n"
    }
   }
  },
  {
   "cell_type": "code",
   "execution_count": null,
   "outputs": [],
   "source": [
    "# Count of author metadata in authorsWithNoIdentifiersDf per installation\n",
    "authorsWithNoIdentifiersByInstallationDf = (\n",
    "    authorsWithNoIdentifiersDf\n",
    "        .value_counts(subset=['dataverse_installation_name'])\n",
    "        .to_frame('count_of_authors_with_no_identifiers')\n",
    ")\n",
    "\n",
    "authorsWithNoIdentifiersByInstallationDf.head()"
   ],
   "metadata": {
    "collapsed": false,
    "pycharm": {
     "name": "#%%\n"
    }
   }
  },
  {
   "cell_type": "code",
   "execution_count": null,
   "outputs": [],
   "source": [
    "# Count of author metadata in authorsWithPartialIdentifiersDf per installation\n",
    "authorsWithPartialIdentifiersByInstallationDf = (\n",
    "    authorsWithPartialIdentifiersDf\n",
    "        .value_counts(subset=['dataverse_installation_name'])\n",
    "        .to_frame('count_of_authors_with_partial_identifiers')\n",
    ")\n",
    "\n",
    "authorsWithPartialIdentifiersByInstallationDf.head()"
   ],
   "metadata": {
    "collapsed": false,
    "pycharm": {
     "name": "#%%\n"
    }
   }
  },
  {
   "cell_type": "code",
   "execution_count": null,
   "outputs": [],
   "source": [
    "# Count of author metadata in authorsWithCompleteIdentifiersDf per installation\n",
    "authorsWithCompleteIdentifiersByInstallationDf = (\n",
    "    authorsWithCompleteIdentifiersDf\n",
    "        .value_counts(subset=['dataverse_installation_name'])\n",
    "        .to_frame('count_of_authors_with_complete_identifiers')\n",
    ")\n",
    "\n",
    "authorsWithCompleteIdentifiersByInstallationDf.head()"
   ],
   "metadata": {
    "collapsed": false,
    "pycharm": {
     "name": "#%%\n"
    }
   }
  },
  {
   "cell_type": "code",
   "execution_count": null,
   "outputs": [],
   "source": [
    "# Join authorsWithNoIdentifiersByInstallationDf, authorsWithPartialIdentifiersByInstallationDf, and authorsWithCompleteIdentifiersByInstallationDf\n",
    "dataframes = [\n",
    "    authorsWithNoIdentifiersByInstallationDf,\n",
    "    authorsWithPartialIdentifiersByInstallationDf,\n",
    "    authorsWithCompleteIdentifiersByInstallationDf\n",
    "]\n",
    "\n",
    "countOfAuthorsByInstallationDf = reduce(lambda left, right: left.join(right, how='outer'), dataframes)\n",
    "countOfAuthorsByInstallationDf = (\n",
    "    countOfAuthorsByInstallationDf\n",
    "        .fillna(0)\n",
    "        .astype('int32')\n",
    "        .reset_index(drop=False, inplace=False)\n",
    "        # Reorder columns\n",
    "        .loc[:,[\n",
    "            'dataverse_installation_name',\n",
    "            'count_of_authors_with_complete_identifiers',\n",
    "            'count_of_authors_with_partial_identifiers',\n",
    "            'count_of_authors_with_no_identifiers']]\n",
    ")\n",
    "\n",
    "countOfAuthorsByInstallationDf.head()"
   ],
   "metadata": {
    "collapsed": false,
    "pycharm": {
     "name": "#%%\n"
    }
   }
  },
  {
   "cell_type": "code",
   "execution_count": null,
   "outputs": [],
   "source": [
    "# Get number of author metadata with each type of identifier, e.g. ORCID, GND\n",
    "identifierTypesByInstallationDf = (pd\n",
    "    .crosstab(\n",
    "        authorsWithCompleteIdentifiersDf.dataverse_installation_name,\n",
    "        authorsWithCompleteIdentifiersDf.authorIdentifierScheme,\n",
    "        margins=True, margins_name='Total')\n",
    "    .reset_index(drop=False, inplace=False)\n",
    "    .rename_axis(None, axis=1)\n",
    ")\n",
    "\n",
    "identifierTypesByInstallationDf.head()"
   ],
   "metadata": {
    "collapsed": false,
    "pycharm": {
     "name": "#%%\n"
    }
   }
  },
  {
   "cell_type": "code",
   "execution_count": null,
   "outputs": [],
   "source": [
    "# Export the dataframe as a CSV file\n",
    "identifierTypesByInstallationDf.to_csv('identifierTypesByInstallation.csv', index=False)\n"
   ],
   "metadata": {
    "collapsed": false,
    "pycharm": {
     "name": "#%%\n"
    }
   }
  },
  {
   "cell_type": "code",
   "execution_count": null,
   "outputs": [],
   "source": [
    "# How much author metadata are missing identifier types but may be ORCIDs\n",
    "authorMetadataWithPossibleORCIDs = (\n",
    "    authorsWithPartialIdentifiersDf[\n",
    "        authorsWithPartialIdentifiersDf['authorIdentifier']\n",
    "            .str.contains('orcid', case=False, na=False)])\n",
    "authorMetadataWithPossibleORCIDs.head()"
   ],
   "metadata": {
    "collapsed": false,
    "pycharm": {
     "name": "#%%\n"
    }
   }
  },
  {
   "cell_type": "code",
   "execution_count": null,
   "outputs": [],
   "source": [
    "print(len(authorMetadataWithPossibleORCIDs))"
   ],
   "metadata": {
    "collapsed": false,
    "pycharm": {
     "name": "#%%\n"
    }
   }
  },
  {
   "cell_type": "code",
   "execution_count": null,
   "outputs": [],
   "source": [
    "print(authorsWithPartialIdentifiersDf.dtypes)"
   ],
   "metadata": {
    "collapsed": false,
    "pycharm": {
     "name": "#%%\n"
    }
   }
  },
  {
   "cell_type": "code",
   "execution_count": null,
   "outputs": [],
   "source": [],
   "metadata": {
    "collapsed": false,
    "pycharm": {
     "name": "#%%\n"
    }
   }
  }
 ],
 "metadata": {
  "kernelspec": {
   "display_name": "Python 3",
   "language": "python",
   "name": "python3"
  },
  "language_info": {
   "codemirror_mode": {
    "name": "ipython",
    "version": 2
   },
   "file_extension": ".py",
   "mimetype": "text/x-python",
   "name": "python",
   "nbconvert_exporter": "python",
   "pygments_lexer": "ipython2",
   "version": "2.7.6"
  }
 },
 "nbformat": 4,
 "nbformat_minor": 0
}