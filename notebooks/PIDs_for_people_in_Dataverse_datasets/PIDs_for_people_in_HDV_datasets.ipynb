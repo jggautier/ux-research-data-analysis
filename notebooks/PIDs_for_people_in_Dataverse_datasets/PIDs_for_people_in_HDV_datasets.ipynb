{
 "cells": [
  {
   "cell_type": "code",
   "execution_count": 48,
   "metadata": {
    "collapsed": true
   },
   "outputs": [],
   "source": [
    "from functools import reduce\n",
    "import numpy as np\n",
    "import pandas as pd"
   ]
  },
  {
   "cell_type": "markdown",
   "source": [
    "# Import, check and prepare data\n",
    "\n",
    "Import CSV files that contain:\n",
    "- The PIDs of all datasets published by many repositories that use the Dataverse software and which repositories published them\n",
    "- Author field metadata entered in all of those datasets"
   ],
   "metadata": {
    "collapsed": false,
    "pycharm": {
     "name": "#%% md\n"
    }
   }
  },
  {
   "cell_type": "code",
   "execution_count": 2,
   "outputs": [
    {
     "data": {
      "text/plain": "  dataverse_installation_name                  dataset_pid_url  \\\n0     UNB_Libraries_Dataverse  https://doi.org/10.25545/NVN79Z   \n1     UNB_Libraries_Dataverse  https://doi.org/10.25545/YB60PU   \n2     UNB_Libraries_Dataverse  https://doi.org/10.25545/WHD3KC   \n3     UNB_Libraries_Dataverse  https://doi.org/10.25545/6TZWCG   \n4     UNB_Libraries_Dataverse  https://doi.org/10.25545/NYM13B   \n\n  dataverse_collection_alias  \\\n0                        snb   \n1            blightchemistry   \n2            blightchemistry   \n3           Ir-CationBinding   \n4                     IFMLAB   \n\n                           dataverse_collection_name  \\\n0                              Service New Brunswick   \n1                Blight Chemistry Research Omniverse   \n2                Blight Chemistry Research Omniverse   \n3  Elucidation of Charge Contributions in Iridium...   \n4                   Integrated Forest Management Lab   \n\n    dataverse_collection_type  \n0  ORGANIZATIONS_INSTITUTIONS  \n1              RESEARCH_GROUP  \n2              RESEARCH_GROUP  \n3                    JOURNALS  \n4              RESEARCH_GROUP  ",
      "text/html": "<div><div id=7427ad0b-786b-4963-b780-588255f00329 style=\"display:none; background-color:#9D6CFF; color:white; width:200px; height:30px; padding-left:5px; border-radius:4px; flex-direction:row; justify-content:space-around; align-items:center;\" onmouseover=\"this.style.backgroundColor='#BA9BF8'\" onmouseout=\"this.style.backgroundColor='#9D6CFF'\" onclick=\"window.commands?.execute('create-mitosheet-from-dataframe-output');\">See Full Dataframe in Mito</div> <script> if (window.commands.hasCommand('create-mitosheet-from-dataframe-output')) document.getElementById('7427ad0b-786b-4963-b780-588255f00329').style.display = 'flex' </script> <table border=\"1\" class=\"dataframe\">\n  <thead>\n    <tr style=\"text-align: right;\">\n      <th></th>\n      <th>dataverse_installation_name</th>\n      <th>dataset_pid_url</th>\n      <th>dataverse_collection_alias</th>\n      <th>dataverse_collection_name</th>\n      <th>dataverse_collection_type</th>\n    </tr>\n  </thead>\n  <tbody>\n    <tr>\n      <th>0</th>\n      <td>UNB_Libraries_Dataverse</td>\n      <td>https://doi.org/10.25545/NVN79Z</td>\n      <td>snb</td>\n      <td>Service New Brunswick</td>\n      <td>ORGANIZATIONS_INSTITUTIONS</td>\n    </tr>\n    <tr>\n      <th>1</th>\n      <td>UNB_Libraries_Dataverse</td>\n      <td>https://doi.org/10.25545/YB60PU</td>\n      <td>blightchemistry</td>\n      <td>Blight Chemistry Research Omniverse</td>\n      <td>RESEARCH_GROUP</td>\n    </tr>\n    <tr>\n      <th>2</th>\n      <td>UNB_Libraries_Dataverse</td>\n      <td>https://doi.org/10.25545/WHD3KC</td>\n      <td>blightchemistry</td>\n      <td>Blight Chemistry Research Omniverse</td>\n      <td>RESEARCH_GROUP</td>\n    </tr>\n    <tr>\n      <th>3</th>\n      <td>UNB_Libraries_Dataverse</td>\n      <td>https://doi.org/10.25545/6TZWCG</td>\n      <td>Ir-CationBinding</td>\n      <td>Elucidation of Charge Contributions in Iridium-Chelated Hydrogen-Bonding Systems</td>\n      <td>JOURNALS</td>\n    </tr>\n    <tr>\n      <th>4</th>\n      <td>UNB_Libraries_Dataverse</td>\n      <td>https://doi.org/10.25545/NYM13B</td>\n      <td>IFMLAB</td>\n      <td>Integrated Forest Management Lab</td>\n      <td>RESEARCH_GROUP</td>\n    </tr>\n  </tbody>\n</table></div>"
     },
     "execution_count": 2,
     "metadata": {},
     "output_type": "execute_result"
    }
   ],
   "source": [
    "# Get PIDs of all datasets and which repositories published them\n",
    "datasetPIDsDF = (pd\n",
    "    .read_csv(\n",
    "        'dataset_pids_from_most_known_dataverse_installations_2023.08.csv',\n",
    "        sep=',',\n",
    "        na_filter=False)\n",
    "    .query(\n",
    "        '(dataverse_json_export_saved == True) and\\\n",
    "        (dataverse_installation_name != \"ODISSEI_Portal\")')\n",
    "    .drop(columns=['dataverse_json_export_saved'])\n",
    "    .reset_index(drop=True, inplace=False)\n",
    " )\n",
    "\n",
    "datasetPIDsDF.head()"
   ],
   "metadata": {
    "collapsed": false,
    "pycharm": {
     "name": "#%%\n"
    }
   }
  },
  {
   "cell_type": "code",
   "execution_count": 18,
   "outputs": [
    {
     "data": {
      "text/plain": "                          dataset_pid_url dataset_publication_date  \\\n0     https://doi.org/10.48370/OFD/8TTRLC               2022-05-13   \n1  https://doi.org/10.17026/dans-26a-cq4r               2015-09-18   \n2  https://doi.org/10.17026/dans-zc2-mc2g               2016-12-31   \n3  https://doi.org/10.17026/dans-x9z-bmn6               2020-12-22   \n4      https://doi.org/10.7910/DVN/QD0V0H               2021-09-20   \n\n   dataset_version_number dataset_version_create_time  \\\n0                     1.0        2022-05-11T14:44:29Z   \n1                     2.0        2022-02-18T19:29:27Z   \n2                     1.0        2022-02-24T21:01:03Z   \n3                     1.0        2022-02-14T05:11:03Z   \n4                     1.0        2021-07-29T19:45:43Z   \n\n                                          authorName authorIdentifierScheme  \\\n0  Mammal Research Institute, Polish Academy of S...                    NaN   \n1                                     H.J. Hesseling                    NaN   \n2                                         S. Moerman                    NaN   \n3                                         G. Zielman                    NaN   \n4                                  Master, Daniel M.                    NaN   \n\n  authorIdentifier  \n0              NaN  \n1              NaN  \n2              NaN  \n3              NaN  \n4              NaN  ",
      "text/html": "<div><div id=cfd10630-ccea-4a19-86c0-0f9a6dc504b9 style=\"display:none; background-color:#9D6CFF; color:white; width:200px; height:30px; padding-left:5px; border-radius:4px; flex-direction:row; justify-content:space-around; align-items:center;\" onmouseover=\"this.style.backgroundColor='#BA9BF8'\" onmouseout=\"this.style.backgroundColor='#9D6CFF'\" onclick=\"window.commands?.execute('create-mitosheet-from-dataframe-output');\">See Full Dataframe in Mito</div> <script> if (window.commands.hasCommand('create-mitosheet-from-dataframe-output')) document.getElementById('cfd10630-ccea-4a19-86c0-0f9a6dc504b9').style.display = 'flex' </script> <table border=\"1\" class=\"dataframe\">\n  <thead>\n    <tr style=\"text-align: right;\">\n      <th></th>\n      <th>dataset_pid_url</th>\n      <th>dataset_publication_date</th>\n      <th>dataset_version_number</th>\n      <th>dataset_version_create_time</th>\n      <th>authorName</th>\n      <th>authorIdentifierScheme</th>\n      <th>authorIdentifier</th>\n    </tr>\n  </thead>\n  <tbody>\n    <tr>\n      <th>0</th>\n      <td>https://doi.org/10.48370/OFD/8TTRLC</td>\n      <td>2022-05-13</td>\n      <td>1.0</td>\n      <td>2022-05-11T14:44:29Z</td>\n      <td>Mammal Research Institute, Polish Academy of Sciences</td>\n      <td>NaN</td>\n      <td>NaN</td>\n    </tr>\n    <tr>\n      <th>1</th>\n      <td>https://doi.org/10.17026/dans-26a-cq4r</td>\n      <td>2015-09-18</td>\n      <td>2.0</td>\n      <td>2022-02-18T19:29:27Z</td>\n      <td>H.J. Hesseling</td>\n      <td>NaN</td>\n      <td>NaN</td>\n    </tr>\n    <tr>\n      <th>2</th>\n      <td>https://doi.org/10.17026/dans-zc2-mc2g</td>\n      <td>2016-12-31</td>\n      <td>1.0</td>\n      <td>2022-02-24T21:01:03Z</td>\n      <td>S. Moerman</td>\n      <td>NaN</td>\n      <td>NaN</td>\n    </tr>\n    <tr>\n      <th>3</th>\n      <td>https://doi.org/10.17026/dans-x9z-bmn6</td>\n      <td>2020-12-22</td>\n      <td>1.0</td>\n      <td>2022-02-14T05:11:03Z</td>\n      <td>G. Zielman</td>\n      <td>NaN</td>\n      <td>NaN</td>\n    </tr>\n    <tr>\n      <th>4</th>\n      <td>https://doi.org/10.7910/DVN/QD0V0H</td>\n      <td>2021-09-20</td>\n      <td>1.0</td>\n      <td>2021-07-29T19:45:43Z</td>\n      <td>Master, Daniel M.</td>\n      <td>NaN</td>\n      <td>NaN</td>\n    </tr>\n  </tbody>\n</table></div>"
     },
     "execution_count": 18,
     "metadata": {},
     "output_type": "execute_result"
    }
   ],
   "source": [
    "# Get Author field metadata entered in all datasets in Dataverse repositories\n",
    "# and remove datasets have have no author metadata\n",
    "authorMetadataDF = (pd\n",
    "    .read_csv(\n",
    "        'author(citation)_2023.08.22-2023.08.28.csv',\n",
    "        sep=',',\n",
    "        na_filter=True)\n",
    "    .drop(columns=['dataset_pid', 'authorAffiliation'])\n",
    "    .query('authorName != \"N/A\"')\n",
    "    .reset_index(drop=True, inplace=False)\n",
    "    )\n",
    "\n",
    "authorMetadataDF.head()"
   ],
   "metadata": {
    "collapsed": false,
    "pycharm": {
     "name": "#%%\n"
    }
   }
  },
  {
   "cell_type": "code",
   "execution_count": 19,
   "outputs": [
    {
     "name": "stdout",
     "output_type": "stream",
     "text": [
      "Number of datasets in datasetPIDsDF: 390401\n",
      "Number of datasets in authorMetadataDF: 390401\n"
     ]
    }
   ],
   "source": [
    "print(f'Number of datasets in datasetPIDsDF: {len(datasetPIDsDF)}')\n",
    "datasetCountInAuthorMetadataDF = len(pd.unique(authorMetadataDF['dataset_pid_url']))\n",
    "print(f'Number of datasets in authorMetadataDF: {datasetCountInAuthorMetadataDF}')"
   ],
   "metadata": {
    "collapsed": false,
    "pycharm": {
     "name": "#%%\n"
    }
   }
  },
  {
   "cell_type": "code",
   "execution_count": 28,
   "outputs": [
    {
     "name": "stdout",
     "output_type": "stream",
     "text": [
      "Number of datasets in datasetPIDsAndAuthorMetadataDF: 390401\n",
      "Number of author metadata in datasetPIDsAndAuthorMetadataDF: 667435\n",
      "Number of installations in datasetPIDsAndAuthorMetadataDF: 84\n"
     ]
    }
   ],
   "source": [
    "# Join the datasetPIDsDF and the authorMetadataDF to add the installation column,\n",
    "# so we know which installations published each dataset\n",
    "# and remove datasets that have no author\n",
    "\n",
    "datasetPIDsAndAuthorMetadataDF = (pd\n",
    "    .merge(datasetPIDsDF, authorMetadataDF,\n",
    "        how='inner',\n",
    "        on=['dataset_pid_url'])\n",
    "    .drop(columns=[\n",
    "        'dataset_version_number',\n",
    "        'dataset_version_create_time'])\n",
    "    .reset_index(drop=True, inplace=False))\n",
    "\n",
    "# Make sure the count of rows in datasetPIDsAndAuthorMetadataDF\n",
    "# is the same as the count of total datasets in datasetPIDsDF: 390401\n",
    "datasetCountInDatasetPIDsAndAuthorMetadataDF = len(pd.unique(datasetPIDsAndAuthorMetadataDF['dataset_pid_url']))\n",
    "print(f'Number of datasets in datasetPIDsAndAuthorMetadataDF: {datasetCountInDatasetPIDsAndAuthorMetadataDF}')\n",
    "\n",
    "print(f'Number of author metadata in datasetPIDsAndAuthorMetadataDF: {len(datasetPIDsAndAuthorMetadataDF)}')\n",
    "\n",
    "countOfInstallations = len(datasetPIDsAndAuthorMetadataDF.dataverse_installation_name.unique())\n",
    "print(f'Number of installations in datasetPIDsAndAuthorMetadataDF: {countOfInstallations}')"
   ],
   "metadata": {
    "collapsed": false,
    "pycharm": {
     "name": "#%%\n"
    }
   }
  },
  {
   "cell_type": "code",
   "execution_count": 21,
   "outputs": [
    {
     "data": {
      "text/plain": "  dataverse_installation_name                  dataset_pid_url  \\\n0     UNB_Libraries_Dataverse  https://doi.org/10.25545/NVN79Z   \n1     UNB_Libraries_Dataverse  https://doi.org/10.25545/YB60PU   \n2     UNB_Libraries_Dataverse  https://doi.org/10.25545/WHD3KC   \n3     UNB_Libraries_Dataverse  https://doi.org/10.25545/6TZWCG   \n4     UNB_Libraries_Dataverse  https://doi.org/10.25545/NYM13B   \n\n  dataverse_collection_alias  \\\n0                        snb   \n1            blightchemistry   \n2            blightchemistry   \n3           Ir-CationBinding   \n4                     IFMLAB   \n\n                           dataverse_collection_name  \\\n0                              Service New Brunswick   \n1                Blight Chemistry Research Omniverse   \n2                Blight Chemistry Research Omniverse   \n3  Elucidation of Charge Contributions in Iridium...   \n4                   Integrated Forest Management Lab   \n\n    dataverse_collection_type dataset_publication_date             authorName  \\\n0  ORGANIZATIONS_INSTITUTIONS               2018-05-10  Service New Brunswick   \n1              RESEARCH_GROUP               2018-06-20        Blight, Barry A   \n2              RESEARCH_GROUP               2019-06-23      Balonova, Barbora   \n3                    JOURNALS               2021-05-18        Blight, Barry A   \n4              RESEARCH_GROUP               2020-06-30         Chen, Yingbing   \n\n  authorIdentifierScheme     authorIdentifier  \n0                    NaN                  NaN  \n1                  ORCID  0000-0003-1166-6206  \n2                    NaN                  NaN  \n3                    NaN                  NaN  \n4                    NaN                  NaN  ",
      "text/html": "<div><div id=c674f62e-fee0-4f40-8d6f-95a79e1a7391 style=\"display:none; background-color:#9D6CFF; color:white; width:200px; height:30px; padding-left:5px; border-radius:4px; flex-direction:row; justify-content:space-around; align-items:center;\" onmouseover=\"this.style.backgroundColor='#BA9BF8'\" onmouseout=\"this.style.backgroundColor='#9D6CFF'\" onclick=\"window.commands?.execute('create-mitosheet-from-dataframe-output');\">See Full Dataframe in Mito</div> <script> if (window.commands.hasCommand('create-mitosheet-from-dataframe-output')) document.getElementById('c674f62e-fee0-4f40-8d6f-95a79e1a7391').style.display = 'flex' </script> <table border=\"1\" class=\"dataframe\">\n  <thead>\n    <tr style=\"text-align: right;\">\n      <th></th>\n      <th>dataverse_installation_name</th>\n      <th>dataset_pid_url</th>\n      <th>dataverse_collection_alias</th>\n      <th>dataverse_collection_name</th>\n      <th>dataverse_collection_type</th>\n      <th>dataset_publication_date</th>\n      <th>authorName</th>\n      <th>authorIdentifierScheme</th>\n      <th>authorIdentifier</th>\n    </tr>\n  </thead>\n  <tbody>\n    <tr>\n      <th>0</th>\n      <td>UNB_Libraries_Dataverse</td>\n      <td>https://doi.org/10.25545/NVN79Z</td>\n      <td>snb</td>\n      <td>Service New Brunswick</td>\n      <td>ORGANIZATIONS_INSTITUTIONS</td>\n      <td>2018-05-10</td>\n      <td>Service New Brunswick</td>\n      <td>NaN</td>\n      <td>NaN</td>\n    </tr>\n    <tr>\n      <th>1</th>\n      <td>UNB_Libraries_Dataverse</td>\n      <td>https://doi.org/10.25545/YB60PU</td>\n      <td>blightchemistry</td>\n      <td>Blight Chemistry Research Omniverse</td>\n      <td>RESEARCH_GROUP</td>\n      <td>2018-06-20</td>\n      <td>Blight, Barry A</td>\n      <td>ORCID</td>\n      <td>0000-0003-1166-6206</td>\n    </tr>\n    <tr>\n      <th>2</th>\n      <td>UNB_Libraries_Dataverse</td>\n      <td>https://doi.org/10.25545/WHD3KC</td>\n      <td>blightchemistry</td>\n      <td>Blight Chemistry Research Omniverse</td>\n      <td>RESEARCH_GROUP</td>\n      <td>2019-06-23</td>\n      <td>Balonova, Barbora</td>\n      <td>NaN</td>\n      <td>NaN</td>\n    </tr>\n    <tr>\n      <th>3</th>\n      <td>UNB_Libraries_Dataverse</td>\n      <td>https://doi.org/10.25545/6TZWCG</td>\n      <td>Ir-CationBinding</td>\n      <td>Elucidation of Charge Contributions in Iridium-Chelated Hydrogen-Bonding Systems</td>\n      <td>JOURNALS</td>\n      <td>2021-05-18</td>\n      <td>Blight, Barry A</td>\n      <td>NaN</td>\n      <td>NaN</td>\n    </tr>\n    <tr>\n      <th>4</th>\n      <td>UNB_Libraries_Dataverse</td>\n      <td>https://doi.org/10.25545/NYM13B</td>\n      <td>IFMLAB</td>\n      <td>Integrated Forest Management Lab</td>\n      <td>RESEARCH_GROUP</td>\n      <td>2020-06-30</td>\n      <td>Chen, Yingbing</td>\n      <td>NaN</td>\n      <td>NaN</td>\n    </tr>\n  </tbody>\n</table></div>"
     },
     "execution_count": 21,
     "metadata": {},
     "output_type": "execute_result"
    }
   ],
   "source": [
    "datasetPIDsAndAuthorMetadataDF.head()"
   ],
   "metadata": {
    "collapsed": false,
    "pycharm": {
     "name": "#%%\n"
    }
   }
  },
  {
   "cell_type": "markdown",
   "source": [
    "# Explore data"
   ],
   "metadata": {
    "collapsed": false,
    "pycharm": {
     "name": "#%% md\n"
    }
   }
  },
  {
   "cell_type": "code",
   "execution_count": 30,
   "outputs": [
    {
     "name": "stdout",
     "output_type": "stream",
     "text": [
      "Number of author metadata with partial, complete, and no identifier metadata: 667435\n",
      "Number of author metadata with partial identifier metadata: 4438\n",
      "Number of author metadata with complete identifier metadata: 82078\n",
      "Number of author metadata with no identifier metadata: 580919\n"
     ]
    }
   ],
   "source": [
    "# Get info about author metadata that includes no values and any values in the identifier type or identifier fields\n",
    "authorsWithNoIdentifiersDf = (\n",
    "    datasetPIDsAndAuthorMetadataDF\n",
    "        .query(\n",
    "            'authorIdentifierScheme != authorIdentifierScheme and\\\n",
    "            authorIdentifier != authorIdentifier')\n",
    "        .reset_index(drop=True, inplace=False)\n",
    ")\n",
    "\n",
    "authorsWithPartialIdentifiersDf = (\n",
    "    datasetPIDsAndAuthorMetadataDF\n",
    "        .query(\n",
    "            '(authorIdentifierScheme == authorIdentifierScheme and\\\n",
    "             authorIdentifier != authorIdentifier) or\\\n",
    "            (authorIdentifierScheme != authorIdentifierScheme and\\\n",
    "             authorIdentifier == authorIdentifier)')\n",
    "        .reset_index(drop=True, inplace=False)\n",
    ")\n",
    "\n",
    "authorsWithCompleteIdentifiersDf = (\n",
    "    datasetPIDsAndAuthorMetadataDF\n",
    "        .query(\n",
    "            'authorIdentifierScheme == authorIdentifierScheme and\\\n",
    "             authorIdentifier == authorIdentifier')\n",
    "        .reset_index(drop=True, inplace=False)\n",
    ")\n",
    "\n",
    "sumOfAuthorMetadata = (\n",
    "    len(authorsWithPartialIdentifiersDf)\n",
    "    + len(authorsWithCompleteIdentifiersDf)\n",
    "    + len(authorsWithNoIdentifiersDf)\n",
    ")\n",
    "print(f'Number of author metadata with partial, complete, and no identifier metadata: {sumOfAuthorMetadata}')\n",
    "\n",
    "print(f'Number of author metadata with partial identifier metadata: {len(authorsWithPartialIdentifiersDf)}')\n",
    "print(f'Number of author metadata with complete identifier metadata: {len(authorsWithCompleteIdentifiersDf)}')\n",
    "print(f'Number of author metadata with no identifier metadata: {len(authorsWithNoIdentifiersDf)}')"
   ],
   "metadata": {
    "collapsed": false,
    "pycharm": {
     "name": "#%%\n"
    }
   }
  },
  {
   "cell_type": "markdown",
   "source": [
    "Get count of metadata for each installation"
   ],
   "metadata": {
    "collapsed": false,
    "pycharm": {
     "name": "#%% md\n"
    }
   }
  },
  {
   "cell_type": "code",
   "execution_count": 40,
   "outputs": [
    {
     "data": {
      "text/plain": "                               count_of_authors_with_no_identifiers\ndataverse_installation_name                                        \nDANS_Data_Station_Archaeology                                149262\nHarvard_Dataverse                                            143643\nJPL_Open_Repository                                          134454\nOpen_Forest_Data                                              65361\nBorealis                                                      28295",
      "text/html": "<div><div id=730b89f3-9020-470a-bea1-3fe4e5ad7a73 style=\"display:none; background-color:#9D6CFF; color:white; width:200px; height:30px; padding-left:5px; border-radius:4px; flex-direction:row; justify-content:space-around; align-items:center;\" onmouseover=\"this.style.backgroundColor='#BA9BF8'\" onmouseout=\"this.style.backgroundColor='#9D6CFF'\" onclick=\"window.commands?.execute('create-mitosheet-from-dataframe-output');\">See Full Dataframe in Mito</div> <script> if (window.commands.hasCommand('create-mitosheet-from-dataframe-output')) document.getElementById('730b89f3-9020-470a-bea1-3fe4e5ad7a73').style.display = 'flex' </script> <table border=\"1\" class=\"dataframe\">\n  <thead>\n    <tr style=\"text-align: right;\">\n      <th></th>\n      <th>count_of_authors_with_no_identifiers</th>\n    </tr>\n    <tr>\n      <th>dataverse_installation_name</th>\n      <th></th>\n    </tr>\n  </thead>\n  <tbody>\n    <tr>\n      <th>DANS_Data_Station_Archaeology</th>\n      <td>149262</td>\n    </tr>\n    <tr>\n      <th>Harvard_Dataverse</th>\n      <td>143643</td>\n    </tr>\n    <tr>\n      <th>JPL_Open_Repository</th>\n      <td>134454</td>\n    </tr>\n    <tr>\n      <th>Open_Forest_Data</th>\n      <td>65361</td>\n    </tr>\n    <tr>\n      <th>Borealis</th>\n      <td>28295</td>\n    </tr>\n  </tbody>\n</table></div>"
     },
     "execution_count": 40,
     "metadata": {},
     "output_type": "execute_result"
    }
   ],
   "source": [
    "# Count of author metadata in authorsWithNoIdentifiersDf per installation\n",
    "authorsWithNoIdentifiersByInstallationDf = (\n",
    "    authorsWithNoIdentifiersDf\n",
    "        .value_counts(subset=['dataverse_installation_name'])\n",
    "        .to_frame('count_of_authors_with_no_identifiers')\n",
    "        # .reset_index(drop=False, inplace=False)\n",
    ")\n",
    "\n",
    "authorsWithNoIdentifiersByInstallationDf.head()"
   ],
   "metadata": {
    "collapsed": false,
    "pycharm": {
     "name": "#%%\n"
    }
   }
  },
  {
   "cell_type": "code",
   "execution_count": 41,
   "outputs": [
    {
     "data": {
      "text/plain": "                             count_of_authors_with_partial_identifiers\ndataverse_installation_name                                           \nHarvard_Dataverse                                                 1701\nInternational_Potato_Center                                        918\nEdmond                                                             766\nCIMMYT_Research_Data                                               155\nBorealis                                                           122",
      "text/html": "<div><div id=f3c806e6-76b6-4de8-a14f-e1b0fa7730e0 style=\"display:none; background-color:#9D6CFF; color:white; width:200px; height:30px; padding-left:5px; border-radius:4px; flex-direction:row; justify-content:space-around; align-items:center;\" onmouseover=\"this.style.backgroundColor='#BA9BF8'\" onmouseout=\"this.style.backgroundColor='#9D6CFF'\" onclick=\"window.commands?.execute('create-mitosheet-from-dataframe-output');\">See Full Dataframe in Mito</div> <script> if (window.commands.hasCommand('create-mitosheet-from-dataframe-output')) document.getElementById('f3c806e6-76b6-4de8-a14f-e1b0fa7730e0').style.display = 'flex' </script> <table border=\"1\" class=\"dataframe\">\n  <thead>\n    <tr style=\"text-align: right;\">\n      <th></th>\n      <th>count_of_authors_with_partial_identifiers</th>\n    </tr>\n    <tr>\n      <th>dataverse_installation_name</th>\n      <th></th>\n    </tr>\n  </thead>\n  <tbody>\n    <tr>\n      <th>Harvard_Dataverse</th>\n      <td>1701</td>\n    </tr>\n    <tr>\n      <th>International_Potato_Center</th>\n      <td>918</td>\n    </tr>\n    <tr>\n      <th>Edmond</th>\n      <td>766</td>\n    </tr>\n    <tr>\n      <th>CIMMYT_Research_Data</th>\n      <td>155</td>\n    </tr>\n    <tr>\n      <th>Borealis</th>\n      <td>122</td>\n    </tr>\n  </tbody>\n</table></div>"
     },
     "execution_count": 41,
     "metadata": {},
     "output_type": "execute_result"
    }
   ],
   "source": [
    "# Count of author metadata in authorsWithPartialIdentifiersDf per installation\n",
    "authorsWithPartialIdentifiersByInstallationDf = (\n",
    "    authorsWithPartialIdentifiersDf\n",
    "        .value_counts(subset=['dataverse_installation_name'])\n",
    "        .to_frame('count_of_authors_with_partial_identifiers')\n",
    "        # .reset_index(drop=False, inplace=False)\n",
    ")\n",
    "\n",
    "authorsWithPartialIdentifiersByInstallationDf.head()"
   ],
   "metadata": {
    "collapsed": false,
    "pycharm": {
     "name": "#%%\n"
    }
   }
  },
  {
   "cell_type": "code",
   "execution_count": 42,
   "outputs": [
    {
     "data": {
      "text/plain": "                             count_of_authors_with_complete_identifiers\ndataverse_installation_name                                            \nHarvard_Dataverse                                                 23127\nOpen_Forest_Data                                                  14340\nDaRUS                                                              6991\nDataverseNL                                                        6972\nBorealis                                                           3707",
      "text/html": "<div><div id=a805822f-428f-4588-91c2-904b3130f3c5 style=\"display:none; background-color:#9D6CFF; color:white; width:200px; height:30px; padding-left:5px; border-radius:4px; flex-direction:row; justify-content:space-around; align-items:center;\" onmouseover=\"this.style.backgroundColor='#BA9BF8'\" onmouseout=\"this.style.backgroundColor='#9D6CFF'\" onclick=\"window.commands?.execute('create-mitosheet-from-dataframe-output');\">See Full Dataframe in Mito</div> <script> if (window.commands.hasCommand('create-mitosheet-from-dataframe-output')) document.getElementById('a805822f-428f-4588-91c2-904b3130f3c5').style.display = 'flex' </script> <table border=\"1\" class=\"dataframe\">\n  <thead>\n    <tr style=\"text-align: right;\">\n      <th></th>\n      <th>count_of_authors_with_complete_identifiers</th>\n    </tr>\n    <tr>\n      <th>dataverse_installation_name</th>\n      <th></th>\n    </tr>\n  </thead>\n  <tbody>\n    <tr>\n      <th>Harvard_Dataverse</th>\n      <td>23127</td>\n    </tr>\n    <tr>\n      <th>Open_Forest_Data</th>\n      <td>14340</td>\n    </tr>\n    <tr>\n      <th>DaRUS</th>\n      <td>6991</td>\n    </tr>\n    <tr>\n      <th>DataverseNL</th>\n      <td>6972</td>\n    </tr>\n    <tr>\n      <th>Borealis</th>\n      <td>3707</td>\n    </tr>\n  </tbody>\n</table></div>"
     },
     "execution_count": 42,
     "metadata": {},
     "output_type": "execute_result"
    }
   ],
   "source": [
    "# Count of author metadata in authorsWithCompleteIdentifiersDf per installation\n",
    "authorsWithCompleteIdentifiersByInstallationDf = (\n",
    "    authorsWithCompleteIdentifiersDf\n",
    "        .value_counts(subset=['dataverse_installation_name'])\n",
    "        .to_frame('count_of_authors_with_complete_identifiers')\n",
    "        # .reset_index(drop=False, inplace=False)\n",
    ")\n",
    "\n",
    "authorsWithCompleteIdentifiersByInstallationDf.head()"
   ],
   "metadata": {
    "collapsed": false,
    "pycharm": {
     "name": "#%%\n"
    }
   }
  },
  {
   "cell_type": "code",
   "execution_count": 52,
   "outputs": [
    {
     "data": {
      "text/plain": "                      dataverse_installation_name  \\\n0                                  ACSS_Dataverse   \n1                                   ADA_Dataverse   \n2            ASU_Library_Research_Data_Repository   \n3                                AUSSDA_Dataverse   \n4                                          Abacus   \n..                                            ...   \n79  World_Agroforestry_-_Research_Data_Repository   \n80                                       bonndata   \n81                                           dare   \n82                                data.sciencespo   \n83                                       osnaData   \n\n    count_of_authors_with_no_identifiers  \\\n0                                    141   \n1                                   2140   \n2                                    115   \n3                                   2104   \n4                                   4083   \n..                                   ...   \n79                                  2268   \n80                                    11   \n81                                     5   \n82                                   683   \n83                                    29   \n\n    count_of_authors_with_partial_identifiers  \\\n0                                           0   \n1                                          22   \n2                                           4   \n3                                           0   \n4                                           1   \n..                                        ...   \n79                                         10   \n80                                          0   \n81                                          0   \n82                                         11   \n83                                          0   \n\n    count_of_authors_with_complete_identifiers  \n0                                            5  \n1                                         1102  \n2                                           92  \n3                                          258  \n4                                            0  \n..                                         ...  \n79                                         144  \n80                                           0  \n81                                           1  \n82                                         197  \n83                                          38  \n\n[84 rows x 4 columns]",
      "text/html": "<div><div id=16aa12ed-8d57-4eb6-9640-8e0c053b2894 style=\"display:none; background-color:#9D6CFF; color:white; width:200px; height:30px; padding-left:5px; border-radius:4px; flex-direction:row; justify-content:space-around; align-items:center;\" onmouseover=\"this.style.backgroundColor='#BA9BF8'\" onmouseout=\"this.style.backgroundColor='#9D6CFF'\" onclick=\"window.commands?.execute('create-mitosheet-from-dataframe-output');\">See Full Dataframe in Mito</div> <script> if (window.commands.hasCommand('create-mitosheet-from-dataframe-output')) document.getElementById('16aa12ed-8d57-4eb6-9640-8e0c053b2894').style.display = 'flex' </script> <table border=\"1\" class=\"dataframe\">\n  <thead>\n    <tr style=\"text-align: right;\">\n      <th></th>\n      <th>dataverse_installation_name</th>\n      <th>count_of_authors_with_no_identifiers</th>\n      <th>count_of_authors_with_partial_identifiers</th>\n      <th>count_of_authors_with_complete_identifiers</th>\n    </tr>\n  </thead>\n  <tbody>\n    <tr>\n      <th>0</th>\n      <td>ACSS_Dataverse</td>\n      <td>141</td>\n      <td>0</td>\n      <td>5</td>\n    </tr>\n    <tr>\n      <th>1</th>\n      <td>ADA_Dataverse</td>\n      <td>2140</td>\n      <td>22</td>\n      <td>1102</td>\n    </tr>\n    <tr>\n      <th>2</th>\n      <td>ASU_Library_Research_Data_Repository</td>\n      <td>115</td>\n      <td>4</td>\n      <td>92</td>\n    </tr>\n    <tr>\n      <th>3</th>\n      <td>AUSSDA_Dataverse</td>\n      <td>2104</td>\n      <td>0</td>\n      <td>258</td>\n    </tr>\n    <tr>\n      <th>4</th>\n      <td>Abacus</td>\n      <td>4083</td>\n      <td>1</td>\n      <td>0</td>\n    </tr>\n    <tr>\n      <th>5</th>\n      <td>Arca_Dados</td>\n      <td>1641</td>\n      <td>4</td>\n      <td>132</td>\n    </tr>\n    <tr>\n      <th>6</th>\n      <td>Borealis</td>\n      <td>28295</td>\n      <td>122</td>\n      <td>3707</td>\n    </tr>\n    <tr>\n      <th>7</th>\n      <td>CESA_-_Repositorio_de_datos_académicos</td>\n      <td>1</td>\n      <td>0</td>\n      <td>4</td>\n    </tr>\n    <tr>\n      <th>8</th>\n      <td>CIDACS</td>\n      <td>172</td>\n      <td>1</td>\n      <td>10</td>\n    </tr>\n    <tr>\n      <th>9</th>\n      <td>CIFOR</td>\n      <td>1288</td>\n      <td>4</td>\n      <td>95</td>\n    </tr>\n    <tr>\n      <th>10</th>\n      <td>CIMMYT_Research_Data</td>\n      <td>2678</td>\n      <td>155</td>\n      <td>2564</td>\n    </tr>\n    <tr>\n      <th>11</th>\n      <td>CORA._Research_Data_Repository_(RDR)</td>\n      <td>377</td>\n      <td>52</td>\n      <td>1583</td>\n    </tr>\n    <tr>\n      <th>12</th>\n      <td>CROSSDA</td>\n      <td>6</td>\n      <td>1</td>\n      <td>31</td>\n    </tr>\n    <tr>\n      <th>13</th>\n      <td>CUHK_Research_Data_Repository</td>\n      <td>330</td>\n      <td>0</td>\n      <td>20</td>\n    </tr>\n    <tr>\n      <th>14</th>\n      <td>DADOS_IPB</td>\n      <td>37</td>\n      <td>2</td>\n      <td>30</td>\n    </tr>\n    <tr>\n      <th>15</th>\n      <td>DANS_Data_Station_Archaeology</td>\n      <td>149262</td>\n      <td>2</td>\n      <td>262</td>\n    </tr>\n    <tr>\n      <th>16</th>\n      <td>DATICE</td>\n      <td>48</td>\n      <td>0</td>\n      <td>35</td>\n    </tr>\n    <tr>\n      <th>17</th>\n      <td>DOREL</td>\n      <td>36</td>\n      <td>4</td>\n      <td>60</td>\n    </tr>\n    <tr>\n      <th>18</th>\n      <td>DR-NTU_(Data)</td>\n      <td>1766</td>\n      <td>7</td>\n      <td>1897</td>\n    </tr>\n    <tr>\n      <th>19</th>\n      <td>DUnAs</td>\n      <td>0</td>\n      <td>0</td>\n      <td>30</td>\n    </tr>\n    <tr>\n      <th>20</th>\n      <td>DaRUS</td>\n      <td>185</td>\n      <td>4</td>\n      <td>6991</td>\n    </tr>\n    <tr>\n      <th>21</th>\n      <td>Dartmouth_Dataverse</td>\n      <td>134</td>\n      <td>6</td>\n      <td>103</td>\n    </tr>\n    <tr>\n      <th>22</th>\n      <td>DataRepositoriUM</td>\n      <td>138</td>\n      <td>7</td>\n      <td>66</td>\n    </tr>\n    <tr>\n      <th>23</th>\n      <td>Data_Suds</td>\n      <td>818</td>\n      <td>12</td>\n      <td>808</td>\n    </tr>\n    <tr>\n      <th>24</th>\n      <td>DataverseNL</td>\n      <td>8344</td>\n      <td>105</td>\n      <td>6972</td>\n    </tr>\n    <tr>\n      <th>25</th>\n      <td>DataverseNO</td>\n      <td>1282</td>\n      <td>24</td>\n      <td>1563</td>\n    </tr>\n    <tr>\n      <th>26</th>\n      <td>Dataverse_e-cienciaDatos</td>\n      <td>218</td>\n      <td>5</td>\n      <td>1648</td>\n    </tr>\n    <tr>\n      <th>27</th>\n      <td>Edmond</td>\n      <td>1017</td>\n      <td>766</td>\n      <td>0</td>\n    </tr>\n    <tr>\n      <th>28</th>\n      <td>FGV_Dataverse</td>\n      <td>49</td>\n      <td>0</td>\n      <td>23</td>\n    </tr>\n    <tr>\n      <th>29</th>\n      <td>Florida_International_University_Research_Data_Portal</td>\n      <td>90</td>\n      <td>4</td>\n      <td>41</td>\n    </tr>\n    <tr>\n      <th>...</th>\n      <td>...</td>\n      <td>...</td>\n      <td>...</td>\n      <td>...</td>\n    </tr>\n    <tr>\n      <th>54</th>\n      <td>Open_Forest_Data</td>\n      <td>65361</td>\n      <td>47</td>\n      <td>14340</td>\n    </tr>\n    <tr>\n      <th>55</th>\n      <td>PAPYRUS</td>\n      <td>91</td>\n      <td>5</td>\n      <td>279</td>\n    </tr>\n    <tr>\n      <th>56</th>\n      <td>Peking_University</td>\n      <td>450</td>\n      <td>1</td>\n      <td>77</td>\n    </tr>\n    <tr>\n      <th>57</th>\n      <td>Pontificia_Universidad_Católica_del_Perú</td>\n      <td>128</td>\n      <td>0</td>\n      <td>9</td>\n    </tr>\n    <tr>\n      <th>58</th>\n      <td>QDR_Main_Collection</td>\n      <td>107</td>\n      <td>12</td>\n      <td>168</td>\n    </tr>\n    <tr>\n      <th>59</th>\n      <td>RSU_Dataverse</td>\n      <td>35</td>\n      <td>1</td>\n      <td>241</td>\n    </tr>\n    <tr>\n      <th>60</th>\n      <td>Recherche_Data_Gouv</td>\n      <td>5318</td>\n      <td>114</td>\n      <td>2633</td>\n    </tr>\n    <tr>\n      <th>61</th>\n      <td>Repositorio_de_Datos_Académicos_RDA-UNR</td>\n      <td>20</td>\n      <td>2</td>\n      <td>56</td>\n    </tr>\n    <tr>\n      <th>62</th>\n      <td>Repositorio_de_Datos_de_Investigación_Universidad_del_Rosario</td>\n      <td>43</td>\n      <td>2</td>\n      <td>166</td>\n    </tr>\n    <tr>\n      <th>63</th>\n      <td>Repositorio_de_datos_de_investigación_de_la_Universidad_de_Chile</td>\n      <td>163</td>\n      <td>0</td>\n      <td>75</td>\n    </tr>\n    <tr>\n      <th>64</th>\n      <td>Repositorio_de_datos_de_la_Universidad_de_Concepción</td>\n      <td>7</td>\n      <td>0</td>\n      <td>24</td>\n    </tr>\n    <tr>\n      <th>65</th>\n      <td>Repositório_de_Dados_de_Pesquisa_da_UFABC</td>\n      <td>18</td>\n      <td>1</td>\n      <td>4</td>\n    </tr>\n    <tr>\n      <th>66</th>\n      <td>Repositórios_Piloto_da_Rede_Nacional_de_Ensino_e_Pesquisa</td>\n      <td>16</td>\n      <td>0</td>\n      <td>0</td>\n    </tr>\n    <tr>\n      <th>67</th>\n      <td>Repositório_Polen</td>\n      <td>1</td>\n      <td>0</td>\n      <td>4</td>\n    </tr>\n    <tr>\n      <th>68</th>\n      <td>Repositório_de_Dados_de_Pesquisa</td>\n      <td>50</td>\n      <td>14</td>\n      <td>99</td>\n    </tr>\n    <tr>\n      <th>69</th>\n      <td>SciELO_Data</td>\n      <td>216</td>\n      <td>34</td>\n      <td>1223</td>\n    </tr>\n    <tr>\n      <th>70</th>\n      <td>TRR170-DB</td>\n      <td>265</td>\n      <td>3</td>\n      <td>112</td>\n    </tr>\n    <tr>\n      <th>71</th>\n      <td>Tecnológico_de_Monterrey_Data_Hub</td>\n      <td>9</td>\n      <td>0</td>\n      <td>1</td>\n    </tr>\n    <tr>\n      <th>72</th>\n      <td>Texas_Data_Repository_Dataverse</td>\n      <td>2112</td>\n      <td>93</td>\n      <td>846</td>\n    </tr>\n    <tr>\n      <th>73</th>\n      <td>UCLA_Dataverse</td>\n      <td>453</td>\n      <td>3</td>\n      <td>64</td>\n    </tr>\n    <tr>\n      <th>74</th>\n      <td>UNB_Libraries_Dataverse</td>\n      <td>46</td>\n      <td>0</td>\n      <td>16</td>\n    </tr>\n    <tr>\n      <th>75</th>\n      <td>UNC_Dataverse</td>\n      <td>7530</td>\n      <td>28</td>\n      <td>399</td>\n    </tr>\n    <tr>\n      <th>76</th>\n      <td>University_of_Manitoba_Dataverse</td>\n      <td>83</td>\n      <td>8</td>\n      <td>44</td>\n    </tr>\n    <tr>\n      <th>77</th>\n      <td>Università_degli_Studi_di_Milano</td>\n      <td>240</td>\n      <td>5</td>\n      <td>154</td>\n    </tr>\n    <tr>\n      <th>78</th>\n      <td>VTTI</td>\n      <td>548</td>\n      <td>4</td>\n      <td>423</td>\n    </tr>\n    <tr>\n      <th>79</th>\n      <td>World_Agroforestry_-_Research_Data_Repository</td>\n      <td>2268</td>\n      <td>10</td>\n      <td>144</td>\n    </tr>\n    <tr>\n      <th>80</th>\n      <td>bonndata</td>\n      <td>11</td>\n      <td>0</td>\n      <td>0</td>\n    </tr>\n    <tr>\n      <th>81</th>\n      <td>dare</td>\n      <td>5</td>\n      <td>0</td>\n      <td>1</td>\n    </tr>\n    <tr>\n      <th>82</th>\n      <td>data.sciencespo</td>\n      <td>683</td>\n      <td>11</td>\n      <td>197</td>\n    </tr>\n    <tr>\n      <th>83</th>\n      <td>osnaData</td>\n      <td>29</td>\n      <td>0</td>\n      <td>38</td>\n    </tr>\n  </tbody>\n</table></div>"
     },
     "execution_count": 52,
     "metadata": {},
     "output_type": "execute_result"
    }
   ],
   "source": [
    "# Join authorsWithNoIdentifiersByInstallationDf, authorsWithPartialIdentifiersByInstallationDf, and authorsWithCompleteIdentifiersByInstallationDf\n",
    "dataframes = [\n",
    "    authorsWithNoIdentifiersByInstallationDf,\n",
    "    authorsWithPartialIdentifiersByInstallationDf,\n",
    "    authorsWithCompleteIdentifiersByInstallationDf\n",
    "]\n",
    "\n",
    "countOfAuthorsByInstallationDf = reduce(lambda left, right: left.join(right, how='outer'), dataframes)\n",
    "countOfAuthorsByInstallationDf = (\n",
    "    countOfAuthorsByInstallationDf\n",
    "        .fillna(0)\n",
    "        .astype('int32')\n",
    "        .reset_index(drop=False, inplace=False)\n",
    ")\n",
    "countOfAuthorsByInstallationDf.head(84)"
   ],
   "metadata": {
    "collapsed": false,
    "pycharm": {
     "name": "#%%\n"
    }
   }
  },
  {
   "cell_type": "code",
   "execution_count": null,
   "outputs": [],
   "source": [
    "\n",
    "# Get count of \"valid author identifier metadata\" for each type of identifier, e.g. ORCID, GND.\n",
    "\n",
    "# Get count of \"valid author identifier metadata\" for each type of identifier, e.g. ORCID, GND, in each installations"
   ],
   "metadata": {
    "collapsed": false,
    "pycharm": {
     "name": "#%%\n"
    }
   }
  },
  {
   "cell_type": "code",
   "execution_count": null,
   "outputs": [],
   "source": [
    "# how many have a value in both the Author Identifier Scheme and Author Identifier field?\n",
    "\n",
    "authorIdentifierMetadataComplete = (\n",
    "    authorMetadataLatestVersionDF\n",
    "        .drop(columns=['authorAffiliation'])\n",
    "        # .dropna(subset=['authorIdentifierScheme', 'authorIdentifier'], how='all')\n",
    "        .query(\n",
    "            '(authorIdentifierScheme == authorIdentifierScheme and\\\n",
    "            authorIdentifier == authorIdentifier)')\n",
    "        .reset_index(drop=True, inplace=False)\n",
    ")\n",
    "\n",
    "authorIdentifierMetadataComplete.head()\n",
    "\n",
    "# How many have values in the Author Identifier field but not the Author Identifier Scheme field?\n",
    "authorIdentifiersMissingScheme = (\n",
    "    authorMetadataLatestVersionDF\n",
    "        .drop(columns=['authorAffiliation'])\n",
    "        .query(\n",
    "        'authorIdentifier == authorIdentifier and\\\n",
    "        authorIdentifierScheme != authorIdentifierScheme')\n",
    "        .reset_index(drop=True, inplace=False)\n",
    ")\n",
    "\n",
    "authorIdentifiersMissingScheme.head()\n",
    "\n",
    "# How many have values in the Author Scheme field but not in the Author Identifier field?\n",
    "\n",
    "authorIdentifierSchemeMissingIdentifier = (\n",
    "    authorMetadataLatestVersionDF\n",
    "        .drop(columns=['authorAffiliation'])\n",
    "        .query(\n",
    "        'authorIdentifier != authorIdentifier and\\\n",
    "        authorIdentifierScheme == authorIdentifierScheme')\n",
    "        .reset_index(drop=True, inplace=False)\n",
    ")\n",
    "\n",
    "authorIdentifierSchemeMissingIdentifier.head()\n",
    "\n",
    "# Number of author metadata values with ORCIDs\n",
    "authorMetadataWithORCIDs = (\n",
    "    authorMetadataWithIdentifiers\n",
    "        .query(\n",
    "        '~authorIdentifier.str.contains(\"orcid.org\").values or\\\n",
    "        authorIdentifierScheme == \"ORCID\"')\n",
    "        .reset_index(drop=True, inplace=False)\n",
    ")\n",
    "\n",
    "authorMetadataWithORCIDs.head()"
   ],
   "metadata": {
    "collapsed": false,
    "pycharm": {
     "name": "#%%\n"
    }
   }
  }
 ],
 "metadata": {
  "kernelspec": {
   "display_name": "Python 3",
   "language": "python",
   "name": "python3"
  },
  "language_info": {
   "codemirror_mode": {
    "name": "ipython",
    "version": 2
   },
   "file_extension": ".py",
   "mimetype": "text/x-python",
   "name": "python",
   "nbconvert_exporter": "python",
   "pygments_lexer": "ipython2",
   "version": "2.7.6"
  }
 },
 "nbformat": 4,
 "nbformat_minor": 0
}