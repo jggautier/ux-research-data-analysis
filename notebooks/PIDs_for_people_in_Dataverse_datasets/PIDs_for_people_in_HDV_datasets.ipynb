{
 "cells": [
  {
   "cell_type": "code",
   "execution_count": 2,
   "metadata": {
    "collapsed": true
   },
   "outputs": [],
   "source": [
    "from functools import reduce\n",
    "import numpy as np\n",
    "import pandas as pd"
   ]
  },
  {
   "cell_type": "markdown",
   "source": [
    "# Import, check and prepare data\n",
    "\n",
    "Import CSV files that contain:\n",
    "- The PIDs of all datasets published by many repositories that use the Dataverse software and which repositories published them\n",
    "- Author field metadata entered in all of those datasets"
   ],
   "metadata": {
    "collapsed": false,
    "pycharm": {
     "name": "#%% md\n"
    }
   }
  },
  {
   "cell_type": "code",
   "execution_count": 3,
   "outputs": [
    {
     "data": {
      "text/plain": "  dataverse_installation_name                  dataset_pid_url  \\\n0     UNB_Libraries_Dataverse  https://doi.org/10.25545/NVN79Z   \n1     UNB_Libraries_Dataverse  https://doi.org/10.25545/YB60PU   \n2     UNB_Libraries_Dataverse  https://doi.org/10.25545/WHD3KC   \n3     UNB_Libraries_Dataverse  https://doi.org/10.25545/6TZWCG   \n4     UNB_Libraries_Dataverse  https://doi.org/10.25545/NYM13B   \n\n  dataverse_collection_alias  \\\n0                        snb   \n1            blightchemistry   \n2            blightchemistry   \n3           Ir-CationBinding   \n4                     IFMLAB   \n\n                           dataverse_collection_name  \\\n0                              Service New Brunswick   \n1                Blight Chemistry Research Omniverse   \n2                Blight Chemistry Research Omniverse   \n3  Elucidation of Charge Contributions in Iridium...   \n4                   Integrated Forest Management Lab   \n\n    dataverse_collection_type  \n0  ORGANIZATIONS_INSTITUTIONS  \n1              RESEARCH_GROUP  \n2              RESEARCH_GROUP  \n3                    JOURNALS  \n4              RESEARCH_GROUP  ",
      "text/html": "<div><div id=55c59521-3091-45dc-acc0-0ff190b4bace style=\"display:none; background-color:#9D6CFF; color:white; width:200px; height:30px; padding-left:5px; border-radius:4px; flex-direction:row; justify-content:space-around; align-items:center;\" onmouseover=\"this.style.backgroundColor='#BA9BF8'\" onmouseout=\"this.style.backgroundColor='#9D6CFF'\" onclick=\"window.commands?.execute('create-mitosheet-from-dataframe-output');\">See Full Dataframe in Mito</div> <script> if (window.commands.hasCommand('create-mitosheet-from-dataframe-output')) document.getElementById('55c59521-3091-45dc-acc0-0ff190b4bace').style.display = 'flex' </script> <table border=\"1\" class=\"dataframe\">\n  <thead>\n    <tr style=\"text-align: right;\">\n      <th></th>\n      <th>dataverse_installation_name</th>\n      <th>dataset_pid_url</th>\n      <th>dataverse_collection_alias</th>\n      <th>dataverse_collection_name</th>\n      <th>dataverse_collection_type</th>\n    </tr>\n  </thead>\n  <tbody>\n    <tr>\n      <th>0</th>\n      <td>UNB_Libraries_Dataverse</td>\n      <td>https://doi.org/10.25545/NVN79Z</td>\n      <td>snb</td>\n      <td>Service New Brunswick</td>\n      <td>ORGANIZATIONS_INSTITUTIONS</td>\n    </tr>\n    <tr>\n      <th>1</th>\n      <td>UNB_Libraries_Dataverse</td>\n      <td>https://doi.org/10.25545/YB60PU</td>\n      <td>blightchemistry</td>\n      <td>Blight Chemistry Research Omniverse</td>\n      <td>RESEARCH_GROUP</td>\n    </tr>\n    <tr>\n      <th>2</th>\n      <td>UNB_Libraries_Dataverse</td>\n      <td>https://doi.org/10.25545/WHD3KC</td>\n      <td>blightchemistry</td>\n      <td>Blight Chemistry Research Omniverse</td>\n      <td>RESEARCH_GROUP</td>\n    </tr>\n    <tr>\n      <th>3</th>\n      <td>UNB_Libraries_Dataverse</td>\n      <td>https://doi.org/10.25545/6TZWCG</td>\n      <td>Ir-CationBinding</td>\n      <td>Elucidation of Charge Contributions in Iridium-Chelated Hydrogen-Bonding Systems</td>\n      <td>JOURNALS</td>\n    </tr>\n    <tr>\n      <th>4</th>\n      <td>UNB_Libraries_Dataverse</td>\n      <td>https://doi.org/10.25545/NYM13B</td>\n      <td>IFMLAB</td>\n      <td>Integrated Forest Management Lab</td>\n      <td>RESEARCH_GROUP</td>\n    </tr>\n  </tbody>\n</table></div>"
     },
     "execution_count": 3,
     "metadata": {},
     "output_type": "execute_result"
    }
   ],
   "source": [
    "# Get basic info about datasets in repositories except for ODISSEI Portal\n",
    "datasetPIDsDF = (pd\n",
    "    .read_csv(\n",
    "        'dataset_pids_from_most_known_dataverse_installations_2023.08.csv',\n",
    "        sep=',',\n",
    "        na_filter=False)\n",
    "    .query(\n",
    "        '(dataverse_json_export_saved == True) and\\\n",
    "        (dataverse_installation_name != \"ODISSEI_Portal\")')\n",
    "    .drop(columns=['dataverse_json_export_saved'])\n",
    "    .reset_index(drop=True, inplace=False)\n",
    " )\n",
    "\n",
    "datasetPIDsDF.head()"
   ],
   "metadata": {
    "collapsed": false,
    "pycharm": {
     "name": "#%%\n"
    }
   }
  },
  {
   "cell_type": "code",
   "execution_count": 4,
   "outputs": [
    {
     "data": {
      "text/plain": "                          dataset_pid_url dataset_publication_date  \\\n0     https://doi.org/10.48370/OFD/8TTRLC               2022-05-13   \n1  https://doi.org/10.17026/dans-26a-cq4r               2015-09-18   \n2  https://doi.org/10.17026/dans-zc2-mc2g               2016-12-31   \n3  https://doi.org/10.17026/dans-x9z-bmn6               2020-12-22   \n4      https://doi.org/10.7910/DVN/QD0V0H               2021-09-20   \n\n   dataset_version_number dataset_version_create_time  \\\n0                     1.0        2022-05-11T14:44:29Z   \n1                     2.0        2022-02-18T19:29:27Z   \n2                     1.0        2022-02-24T21:01:03Z   \n3                     1.0        2022-02-14T05:11:03Z   \n4                     1.0        2021-07-29T19:45:43Z   \n\n                                          authorName authorIdentifierScheme  \\\n0  Mammal Research Institute, Polish Academy of S...                    NaN   \n1                                     H.J. Hesseling                    NaN   \n2                                         S. Moerman                    NaN   \n3                                         G. Zielman                    NaN   \n4                                  Master, Daniel M.                    NaN   \n\n  authorIdentifier  \n0              NaN  \n1              NaN  \n2              NaN  \n3              NaN  \n4              NaN  ",
      "text/html": "<div><div id=430f7fe9-858d-46c0-b129-242dfba3e9b6 style=\"display:none; background-color:#9D6CFF; color:white; width:200px; height:30px; padding-left:5px; border-radius:4px; flex-direction:row; justify-content:space-around; align-items:center;\" onmouseover=\"this.style.backgroundColor='#BA9BF8'\" onmouseout=\"this.style.backgroundColor='#9D6CFF'\" onclick=\"window.commands?.execute('create-mitosheet-from-dataframe-output');\">See Full Dataframe in Mito</div> <script> if (window.commands.hasCommand('create-mitosheet-from-dataframe-output')) document.getElementById('430f7fe9-858d-46c0-b129-242dfba3e9b6').style.display = 'flex' </script> <table border=\"1\" class=\"dataframe\">\n  <thead>\n    <tr style=\"text-align: right;\">\n      <th></th>\n      <th>dataset_pid_url</th>\n      <th>dataset_publication_date</th>\n      <th>dataset_version_number</th>\n      <th>dataset_version_create_time</th>\n      <th>authorName</th>\n      <th>authorIdentifierScheme</th>\n      <th>authorIdentifier</th>\n    </tr>\n  </thead>\n  <tbody>\n    <tr>\n      <th>0</th>\n      <td>https://doi.org/10.48370/OFD/8TTRLC</td>\n      <td>2022-05-13</td>\n      <td>1.0</td>\n      <td>2022-05-11T14:44:29Z</td>\n      <td>Mammal Research Institute, Polish Academy of Sciences</td>\n      <td>NaN</td>\n      <td>NaN</td>\n    </tr>\n    <tr>\n      <th>1</th>\n      <td>https://doi.org/10.17026/dans-26a-cq4r</td>\n      <td>2015-09-18</td>\n      <td>2.0</td>\n      <td>2022-02-18T19:29:27Z</td>\n      <td>H.J. Hesseling</td>\n      <td>NaN</td>\n      <td>NaN</td>\n    </tr>\n    <tr>\n      <th>2</th>\n      <td>https://doi.org/10.17026/dans-zc2-mc2g</td>\n      <td>2016-12-31</td>\n      <td>1.0</td>\n      <td>2022-02-24T21:01:03Z</td>\n      <td>S. Moerman</td>\n      <td>NaN</td>\n      <td>NaN</td>\n    </tr>\n    <tr>\n      <th>3</th>\n      <td>https://doi.org/10.17026/dans-x9z-bmn6</td>\n      <td>2020-12-22</td>\n      <td>1.0</td>\n      <td>2022-02-14T05:11:03Z</td>\n      <td>G. Zielman</td>\n      <td>NaN</td>\n      <td>NaN</td>\n    </tr>\n    <tr>\n      <th>4</th>\n      <td>https://doi.org/10.7910/DVN/QD0V0H</td>\n      <td>2021-09-20</td>\n      <td>1.0</td>\n      <td>2021-07-29T19:45:43Z</td>\n      <td>Master, Daniel M.</td>\n      <td>NaN</td>\n      <td>NaN</td>\n    </tr>\n  </tbody>\n</table></div>"
     },
     "execution_count": 4,
     "metadata": {},
     "output_type": "execute_result"
    }
   ],
   "source": [
    "# Get Author field metadata entered in all datasets in Dataverse repositories\n",
    "# and remove datasets have have no author metadata\n",
    "authorMetadataDF = (pd\n",
    "    .read_csv(\n",
    "        'author(citation)_2023.08.22-2023.08.28.csv',\n",
    "        sep=',',\n",
    "        na_filter=True)\n",
    "    .drop(columns=['dataset_pid', 'authorAffiliation'])\n",
    "    .query('authorName != \"N/A\"')\n",
    "    .reset_index(drop=True, inplace=False)\n",
    "    )\n",
    "\n",
    "authorMetadataDF.head()"
   ],
   "metadata": {
    "collapsed": false,
    "pycharm": {
     "name": "#%%\n"
    }
   }
  },
  {
   "cell_type": "code",
   "execution_count": 5,
   "outputs": [
    {
     "name": "stdout",
     "output_type": "stream",
     "text": [
      "Number of datasets in datasetPIDsDF: 390401\n",
      "Number of datasets in authorMetadataDF: 390401\n"
     ]
    }
   ],
   "source": [
    "print(f'Number of datasets in datasetPIDsDF: {len(datasetPIDsDF)}')\n",
    "datasetCountInAuthorMetadataDF = len(pd.unique(authorMetadataDF['dataset_pid_url']))\n",
    "print(f'Number of datasets in authorMetadataDF: {datasetCountInAuthorMetadataDF}')"
   ],
   "metadata": {
    "collapsed": false,
    "pycharm": {
     "name": "#%%\n"
    }
   }
  },
  {
   "cell_type": "code",
   "execution_count": 6,
   "outputs": [
    {
     "name": "stdout",
     "output_type": "stream",
     "text": [
      "Number of datasets in datasetPIDsAndAuthorMetadataDF: 390401\n",
      "Number of author metadata in datasetPIDsAndAuthorMetadataDF: 667435\n",
      "Number of installations in datasetPIDsAndAuthorMetadataDF: 84\n"
     ]
    }
   ],
   "source": [
    "# Join the datasetPIDsDF and the authorMetadataDF to add the installation column,\n",
    "# so we know which installations published each dataset\n",
    "# and remove datasets that have no author\n",
    "datasetPIDsAndAuthorMetadataDF = (pd\n",
    "    .merge(datasetPIDsDF, authorMetadataDF,\n",
    "        how='inner',\n",
    "        on=['dataset_pid_url'])\n",
    "    .drop(columns=['dataset_version_number'])\n",
    "    .reset_index(drop=True, inplace=False))\n",
    "\n",
    "# Make sure the count of rows in datasetPIDsAndAuthorMetadataDF\n",
    "# is the same as the count of total datasets in datasetPIDsDF: 390401\n",
    "datasetCountInDatasetPIDsAndAuthorMetadataDF = len(pd.unique(datasetPIDsAndAuthorMetadataDF['dataset_pid_url']))\n",
    "print(f'Number of datasets in datasetPIDsAndAuthorMetadataDF: {datasetCountInDatasetPIDsAndAuthorMetadataDF}')\n",
    "\n",
    "print(f'Number of author metadata in datasetPIDsAndAuthorMetadataDF: {len(datasetPIDsAndAuthorMetadataDF)}')\n",
    "\n",
    "countOfInstallations = len(datasetPIDsAndAuthorMetadataDF.dataverse_installation_name.unique())\n",
    "print(f'Number of installations in datasetPIDsAndAuthorMetadataDF: {countOfInstallations}')"
   ],
   "metadata": {
    "collapsed": false,
    "pycharm": {
     "name": "#%%\n"
    }
   }
  },
  {
   "cell_type": "code",
   "execution_count": 7,
   "outputs": [
    {
     "data": {
      "text/plain": "  dataverse_installation_name                  dataset_pid_url  \\\n0     UNB_Libraries_Dataverse  https://doi.org/10.25545/NVN79Z   \n1     UNB_Libraries_Dataverse  https://doi.org/10.25545/YB60PU   \n2     UNB_Libraries_Dataverse  https://doi.org/10.25545/WHD3KC   \n3     UNB_Libraries_Dataverse  https://doi.org/10.25545/6TZWCG   \n4     UNB_Libraries_Dataverse  https://doi.org/10.25545/NYM13B   \n\n  dataverse_collection_alias  \\\n0                        snb   \n1            blightchemistry   \n2            blightchemistry   \n3           Ir-CationBinding   \n4                     IFMLAB   \n\n                           dataverse_collection_name  \\\n0                              Service New Brunswick   \n1                Blight Chemistry Research Omniverse   \n2                Blight Chemistry Research Omniverse   \n3  Elucidation of Charge Contributions in Iridium...   \n4                   Integrated Forest Management Lab   \n\n    dataverse_collection_type dataset_publication_date  \\\n0  ORGANIZATIONS_INSTITUTIONS               2018-05-10   \n1              RESEARCH_GROUP               2018-06-20   \n2              RESEARCH_GROUP               2019-06-23   \n3                    JOURNALS               2021-05-18   \n4              RESEARCH_GROUP               2020-06-30   \n\n  dataset_version_create_time             authorName authorIdentifierScheme  \\\n0        2022-03-23T19:49:10Z  Service New Brunswick                    NaN   \n1        2018-02-21T18:26:43Z        Blight, Barry A                  ORCID   \n2        2019-06-21T18:30:39Z      Balonova, Barbora                    NaN   \n3        2021-05-18T16:39:24Z        Blight, Barry A                    NaN   \n4        2020-11-30T22:44:12Z         Chen, Yingbing                    NaN   \n\n      authorIdentifier  \n0                  NaN  \n1  0000-0003-1166-6206  \n2                  NaN  \n3                  NaN  \n4                  NaN  ",
      "text/html": "<div><div id=a90f582e-8341-42ec-9151-78251df14142 style=\"display:none; background-color:#9D6CFF; color:white; width:200px; height:30px; padding-left:5px; border-radius:4px; flex-direction:row; justify-content:space-around; align-items:center;\" onmouseover=\"this.style.backgroundColor='#BA9BF8'\" onmouseout=\"this.style.backgroundColor='#9D6CFF'\" onclick=\"window.commands?.execute('create-mitosheet-from-dataframe-output');\">See Full Dataframe in Mito</div> <script> if (window.commands.hasCommand('create-mitosheet-from-dataframe-output')) document.getElementById('a90f582e-8341-42ec-9151-78251df14142').style.display = 'flex' </script> <table border=\"1\" class=\"dataframe\">\n  <thead>\n    <tr style=\"text-align: right;\">\n      <th></th>\n      <th>dataverse_installation_name</th>\n      <th>dataset_pid_url</th>\n      <th>dataverse_collection_alias</th>\n      <th>dataverse_collection_name</th>\n      <th>dataverse_collection_type</th>\n      <th>dataset_publication_date</th>\n      <th>dataset_version_create_time</th>\n      <th>authorName</th>\n      <th>authorIdentifierScheme</th>\n      <th>authorIdentifier</th>\n    </tr>\n  </thead>\n  <tbody>\n    <tr>\n      <th>0</th>\n      <td>UNB_Libraries_Dataverse</td>\n      <td>https://doi.org/10.25545/NVN79Z</td>\n      <td>snb</td>\n      <td>Service New Brunswick</td>\n      <td>ORGANIZATIONS_INSTITUTIONS</td>\n      <td>2018-05-10</td>\n      <td>2022-03-23T19:49:10Z</td>\n      <td>Service New Brunswick</td>\n      <td>NaN</td>\n      <td>NaN</td>\n    </tr>\n    <tr>\n      <th>1</th>\n      <td>UNB_Libraries_Dataverse</td>\n      <td>https://doi.org/10.25545/YB60PU</td>\n      <td>blightchemistry</td>\n      <td>Blight Chemistry Research Omniverse</td>\n      <td>RESEARCH_GROUP</td>\n      <td>2018-06-20</td>\n      <td>2018-02-21T18:26:43Z</td>\n      <td>Blight, Barry A</td>\n      <td>ORCID</td>\n      <td>0000-0003-1166-6206</td>\n    </tr>\n    <tr>\n      <th>2</th>\n      <td>UNB_Libraries_Dataverse</td>\n      <td>https://doi.org/10.25545/WHD3KC</td>\n      <td>blightchemistry</td>\n      <td>Blight Chemistry Research Omniverse</td>\n      <td>RESEARCH_GROUP</td>\n      <td>2019-06-23</td>\n      <td>2019-06-21T18:30:39Z</td>\n      <td>Balonova, Barbora</td>\n      <td>NaN</td>\n      <td>NaN</td>\n    </tr>\n    <tr>\n      <th>3</th>\n      <td>UNB_Libraries_Dataverse</td>\n      <td>https://doi.org/10.25545/6TZWCG</td>\n      <td>Ir-CationBinding</td>\n      <td>Elucidation of Charge Contributions in Iridium-Chelated Hydrogen-Bonding Systems</td>\n      <td>JOURNALS</td>\n      <td>2021-05-18</td>\n      <td>2021-05-18T16:39:24Z</td>\n      <td>Blight, Barry A</td>\n      <td>NaN</td>\n      <td>NaN</td>\n    </tr>\n    <tr>\n      <th>4</th>\n      <td>UNB_Libraries_Dataverse</td>\n      <td>https://doi.org/10.25545/NYM13B</td>\n      <td>IFMLAB</td>\n      <td>Integrated Forest Management Lab</td>\n      <td>RESEARCH_GROUP</td>\n      <td>2020-06-30</td>\n      <td>2020-11-30T22:44:12Z</td>\n      <td>Chen, Yingbing</td>\n      <td>NaN</td>\n      <td>NaN</td>\n    </tr>\n  </tbody>\n</table></div>"
     },
     "execution_count": 7,
     "metadata": {},
     "output_type": "execute_result"
    }
   ],
   "source": [
    "datasetPIDsAndAuthorMetadataDF.head()"
   ],
   "metadata": {
    "collapsed": false,
    "pycharm": {
     "name": "#%%\n"
    }
   }
  },
  {
   "cell_type": "markdown",
   "source": [
    "# Explore data"
   ],
   "metadata": {
    "collapsed": false,
    "pycharm": {
     "name": "#%% md\n"
    }
   }
  },
  {
   "cell_type": "code",
   "execution_count": 11,
   "outputs": [
    {
     "name": "stdout",
     "output_type": "stream",
     "text": [
      "Number of author metadata with partial, complete, and no identifier metadata: 667435\n",
      "Number of author metadata with partial identifier metadata: 4438\n",
      "Number of author metadata with complete identifier metadata: 82078\n",
      "Number of author metadata with no identifier metadata: 580919\n"
     ]
    }
   ],
   "source": [
    "# Get info about author metadata that includes no identifier metadata,\n",
    "# partial identifier metadata, and complete identifier metadata\n",
    "authorsWithNoIdentifiersDf = (\n",
    "    datasetPIDsAndAuthorMetadataDF\n",
    "        .query(\n",
    "            'authorIdentifierScheme != authorIdentifierScheme and\\\n",
    "            authorIdentifier != authorIdentifier')\n",
    "        .reset_index(drop=True, inplace=False)\n",
    ")\n",
    "\n",
    "authorsWithPartialIdentifiersDf = (\n",
    "    datasetPIDsAndAuthorMetadataDF\n",
    "        .query(\n",
    "            '(authorIdentifierScheme == authorIdentifierScheme and\\\n",
    "             authorIdentifier != authorIdentifier) or\\\n",
    "            (authorIdentifierScheme != authorIdentifierScheme and\\\n",
    "             authorIdentifier == authorIdentifier)')\n",
    "        .fillna('')\n",
    "        .reset_index(drop=True, inplace=False)\n",
    ")\n",
    "\n",
    "authorsWithCompleteIdentifiersDf = (\n",
    "    datasetPIDsAndAuthorMetadataDF\n",
    "        .query(\n",
    "            'authorIdentifierScheme == authorIdentifierScheme and\\\n",
    "             authorIdentifier == authorIdentifier')\n",
    "        .reset_index(drop=True, inplace=False)\n",
    ")\n",
    "\n",
    "sumOfAuthorMetadata = (\n",
    "    len(authorsWithPartialIdentifiersDf)\n",
    "    + len(authorsWithCompleteIdentifiersDf)\n",
    "    + len(authorsWithNoIdentifiersDf)\n",
    ")\n",
    "print(f'Number of author metadata with partial, complete, and no identifier metadata: {sumOfAuthorMetadata}')\n",
    "\n",
    "print(f'Number of author metadata with partial identifier metadata: {len(authorsWithPartialIdentifiersDf)}')\n",
    "print(f'Number of author metadata with complete identifier metadata: {len(authorsWithCompleteIdentifiersDf)}')\n",
    "print(f'Number of author metadata with no identifier metadata: {len(authorsWithNoIdentifiersDf)}')"
   ],
   "metadata": {
    "collapsed": false,
    "pycharm": {
     "name": "#%%\n"
    }
   }
  },
  {
   "cell_type": "markdown",
   "source": [
    "Get count of author metadata with and without identifiers for each installation"
   ],
   "metadata": {
    "collapsed": false,
    "pycharm": {
     "name": "#%% md\n"
    }
   }
  },
  {
   "cell_type": "code",
   "execution_count": 12,
   "outputs": [
    {
     "data": {
      "text/plain": "            dataverse_installation_name  \\\n0                        ACSS_Dataverse   \n1                         ADA_Dataverse   \n2  ASU_Library_Research_Data_Repository   \n3                      AUSSDA_Dataverse   \n4                                Abacus   \n\n   count_of_authors_with_complete_identifiers  \\\n0                                           5   \n1                                        1102   \n2                                          92   \n3                                         258   \n4                                           0   \n\n   count_of_authors_with_partial_identifiers  \\\n0                                          0   \n1                                         22   \n2                                          4   \n3                                          0   \n4                                          1   \n\n   count_of_authors_with_no_identifiers  \n0                                   141  \n1                                  2140  \n2                                   115  \n3                                  2104  \n4                                  4083  ",
      "text/html": "<div><div id=3120ebb5-aca4-4dcb-89e0-498ff286e628 style=\"display:none; background-color:#9D6CFF; color:white; width:200px; height:30px; padding-left:5px; border-radius:4px; flex-direction:row; justify-content:space-around; align-items:center;\" onmouseover=\"this.style.backgroundColor='#BA9BF8'\" onmouseout=\"this.style.backgroundColor='#9D6CFF'\" onclick=\"window.commands?.execute('create-mitosheet-from-dataframe-output');\">See Full Dataframe in Mito</div> <script> if (window.commands.hasCommand('create-mitosheet-from-dataframe-output')) document.getElementById('3120ebb5-aca4-4dcb-89e0-498ff286e628').style.display = 'flex' </script> <table border=\"1\" class=\"dataframe\">\n  <thead>\n    <tr style=\"text-align: right;\">\n      <th></th>\n      <th>dataverse_installation_name</th>\n      <th>count_of_authors_with_complete_identifiers</th>\n      <th>count_of_authors_with_partial_identifiers</th>\n      <th>count_of_authors_with_no_identifiers</th>\n    </tr>\n  </thead>\n  <tbody>\n    <tr>\n      <th>0</th>\n      <td>ACSS_Dataverse</td>\n      <td>5</td>\n      <td>0</td>\n      <td>141</td>\n    </tr>\n    <tr>\n      <th>1</th>\n      <td>ADA_Dataverse</td>\n      <td>1102</td>\n      <td>22</td>\n      <td>2140</td>\n    </tr>\n    <tr>\n      <th>2</th>\n      <td>ASU_Library_Research_Data_Repository</td>\n      <td>92</td>\n      <td>4</td>\n      <td>115</td>\n    </tr>\n    <tr>\n      <th>3</th>\n      <td>AUSSDA_Dataverse</td>\n      <td>258</td>\n      <td>0</td>\n      <td>2104</td>\n    </tr>\n    <tr>\n      <th>4</th>\n      <td>Abacus</td>\n      <td>0</td>\n      <td>1</td>\n      <td>4083</td>\n    </tr>\n  </tbody>\n</table></div>"
     },
     "execution_count": 12,
     "metadata": {},
     "output_type": "execute_result"
    }
   ],
   "source": [
    "# Count of author metadata in authorsWithNoIdentifiersDf per installation\n",
    "authorsWithNoIdentifiersByInstallationDf = (\n",
    "    authorsWithNoIdentifiersDf\n",
    "        .value_counts(subset=['dataverse_installation_name'])\n",
    "        .to_frame('count_of_authors_with_no_identifiers')\n",
    ")\n",
    "\n",
    "# Count of author metadata in authorsWithPartialIdentifiersDf per installation\n",
    "authorsWithPartialIdentifiersByInstallationDf = (\n",
    "    authorsWithPartialIdentifiersDf\n",
    "        .value_counts(subset=['dataverse_installation_name'])\n",
    "        .to_frame('count_of_authors_with_partial_identifiers')\n",
    ")\n",
    "\n",
    "# Count of author metadata in authorsWithCompleteIdentifiersDf per installation\n",
    "authorsWithCompleteIdentifiersByInstallationDf = (\n",
    "    authorsWithCompleteIdentifiersDf\n",
    "        .value_counts(subset=['dataverse_installation_name'])\n",
    "        .to_frame('count_of_authors_with_complete_identifiers')\n",
    ")\n",
    "\n",
    "# Join the three dataframes\n",
    "dataframes = [\n",
    "    authorsWithNoIdentifiersByInstallationDf,\n",
    "    authorsWithPartialIdentifiersByInstallationDf,\n",
    "    authorsWithCompleteIdentifiersByInstallationDf\n",
    "]\n",
    "\n",
    "countOfAuthorsByInstallationDf = reduce(lambda left, right: left.join(right, how='outer'), dataframes)\n",
    "countOfAuthorsByInstallationDf = (\n",
    "    countOfAuthorsByInstallationDf\n",
    "        .fillna(0)\n",
    "        .astype('int32')\n",
    "        .reset_index(drop=False, inplace=False)\n",
    "        # Reorder columns\n",
    "        .loc[:,[\n",
    "            'dataverse_installation_name',\n",
    "            'count_of_authors_with_complete_identifiers',\n",
    "            'count_of_authors_with_partial_identifiers',\n",
    "            'count_of_authors_with_no_identifiers']]\n",
    ")\n",
    "\n",
    "countOfAuthorsByInstallationDf.head()"
   ],
   "metadata": {
    "collapsed": false,
    "pycharm": {
     "name": "#%%\n"
    }
   }
  },
  {
   "cell_type": "code",
   "execution_count": 13,
   "outputs": [
    {
     "data": {
      "text/plain": "            dataverse_installation_name  DAI  DOI  GND  ISNI  LCNA  ORCID  \\\n0                        ACSS_Dataverse    0    0    0     0     0      5   \n1                         ADA_Dataverse    0    0    0     0     0   1102   \n2  ASU_Library_Research_Data_Repository    0    0    0     0     0     92   \n3                      AUSSDA_Dataverse    0    0    0     0     0    258   \n4                            Arca_Dados    0    0    0     0     0    132   \n\n   ResearcherID  ScopusID  VIAF  idHAL  Total  \n0             0         0     0      0      5  \n1             0         0     0      0   1102  \n2             0         0     0      0     92  \n3             0         0     0      0    258  \n4             0         0     0      0    132  ",
      "text/html": "<div><div id=7404faf9-0887-45c1-af5d-ecb1a4603595 style=\"display:none; background-color:#9D6CFF; color:white; width:200px; height:30px; padding-left:5px; border-radius:4px; flex-direction:row; justify-content:space-around; align-items:center;\" onmouseover=\"this.style.backgroundColor='#BA9BF8'\" onmouseout=\"this.style.backgroundColor='#9D6CFF'\" onclick=\"window.commands?.execute('create-mitosheet-from-dataframe-output');\">See Full Dataframe in Mito</div> <script> if (window.commands.hasCommand('create-mitosheet-from-dataframe-output')) document.getElementById('7404faf9-0887-45c1-af5d-ecb1a4603595').style.display = 'flex' </script> <table border=\"1\" class=\"dataframe\">\n  <thead>\n    <tr style=\"text-align: right;\">\n      <th></th>\n      <th>dataverse_installation_name</th>\n      <th>DAI</th>\n      <th>DOI</th>\n      <th>GND</th>\n      <th>ISNI</th>\n      <th>LCNA</th>\n      <th>ORCID</th>\n      <th>ResearcherID</th>\n      <th>ScopusID</th>\n      <th>VIAF</th>\n      <th>idHAL</th>\n      <th>Total</th>\n    </tr>\n  </thead>\n  <tbody>\n    <tr>\n      <th>0</th>\n      <td>ACSS_Dataverse</td>\n      <td>0</td>\n      <td>0</td>\n      <td>0</td>\n      <td>0</td>\n      <td>0</td>\n      <td>5</td>\n      <td>0</td>\n      <td>0</td>\n      <td>0</td>\n      <td>0</td>\n      <td>5</td>\n    </tr>\n    <tr>\n      <th>1</th>\n      <td>ADA_Dataverse</td>\n      <td>0</td>\n      <td>0</td>\n      <td>0</td>\n      <td>0</td>\n      <td>0</td>\n      <td>1102</td>\n      <td>0</td>\n      <td>0</td>\n      <td>0</td>\n      <td>0</td>\n      <td>1102</td>\n    </tr>\n    <tr>\n      <th>2</th>\n      <td>ASU_Library_Research_Data_Repository</td>\n      <td>0</td>\n      <td>0</td>\n      <td>0</td>\n      <td>0</td>\n      <td>0</td>\n      <td>92</td>\n      <td>0</td>\n      <td>0</td>\n      <td>0</td>\n      <td>0</td>\n      <td>92</td>\n    </tr>\n    <tr>\n      <th>3</th>\n      <td>AUSSDA_Dataverse</td>\n      <td>0</td>\n      <td>0</td>\n      <td>0</td>\n      <td>0</td>\n      <td>0</td>\n      <td>258</td>\n      <td>0</td>\n      <td>0</td>\n      <td>0</td>\n      <td>0</td>\n      <td>258</td>\n    </tr>\n    <tr>\n      <th>4</th>\n      <td>Arca_Dados</td>\n      <td>0</td>\n      <td>0</td>\n      <td>0</td>\n      <td>0</td>\n      <td>0</td>\n      <td>132</td>\n      <td>0</td>\n      <td>0</td>\n      <td>0</td>\n      <td>0</td>\n      <td>132</td>\n    </tr>\n  </tbody>\n</table></div>"
     },
     "execution_count": 13,
     "metadata": {},
     "output_type": "execute_result"
    }
   ],
   "source": [
    "# Get number of author metadata with each type of identifier, e.g. ORCID, GND\n",
    "identifierTypesByInstallationDf = (pd\n",
    "    .crosstab(\n",
    "        authorsWithCompleteIdentifiersDf.dataverse_installation_name,\n",
    "        authorsWithCompleteIdentifiersDf.authorIdentifierScheme,\n",
    "        margins=True, margins_name='Total')\n",
    "    .reset_index(drop=False, inplace=False)\n",
    "    .rename_axis(None, axis=1)\n",
    ")\n",
    "\n",
    "identifierTypesByInstallationDf.head()"
   ],
   "metadata": {
    "collapsed": false,
    "pycharm": {
     "name": "#%%\n"
    }
   }
  },
  {
   "cell_type": "code",
   "execution_count": null,
   "outputs": [],
   "source": [
    "# Export the dataframe as a CSV file\n",
    "identifierTypesByInstallationDf.to_csv('identifierTypesByInstallation.csv', index=False)\n"
   ],
   "metadata": {
    "collapsed": false,
    "pycharm": {
     "name": "#%%\n"
    }
   }
  },
  {
   "cell_type": "code",
   "execution_count": 33,
   "outputs": [
    {
     "data": {
      "text/plain": "  dataverse_installation_name                     dataset_pid_url  \\\n0           Harvard_Dataverse  https://doi.org/10.7910/DVN/4FNQ8M   \n1           Harvard_Dataverse  https://doi.org/10.7910/DVN/HJJJPJ   \n2           Harvard_Dataverse  https://doi.org/10.7910/DVN/AUFSID   \n3           Harvard_Dataverse  https://doi.org/10.7910/DVN/PB8X8P   \n4           Harvard_Dataverse  https://doi.org/10.7910/DVN/FCT9VO   \n\n  dataverse_collection_alias  \\\n0             IAI_ecosystems   \n1                       PSRM   \n2                    Weather   \n3                       ajps   \n4              contextuality   \n\n                           dataverse_collection_name  \\\n0              Ecosystems, biodiversity and land use   \n1  Political Science Research and Methods (PSRM) ...   \n2                                       Weather Data   \n3  American Journal of Political Science (AJPS) D...   \n4                            Contextuality Dataverse   \n\n    dataverse_collection_type dataset_publication_date  \\\n0  ORGANIZATIONS_INSTITUTIONS               2019-05-28   \n1                    JOURNALS               2018-10-02   \n2  ORGANIZATIONS_INSTITUTIONS               2018-04-05   \n3                    JOURNALS               2018-10-22   \n4           RESEARCH_PROJECTS               2019-02-21   \n\n  dataset_version_create_time                authorName  \\\n0        2019-05-27T20:57:57Z  Espírito-Santo, Mario M.   \n1        2018-08-21T12:59:09Z             Manow, Philip   \n2        2018-03-22T08:52:55Z          van Oort, Pepijn   \n3        2019-11-22T16:50:37Z          Nagler, Jonathan   \n4        2019-02-21T18:13:54Z        Dzhafarov, Ehtibar   \n\n  authorIdentifierScheme                       authorIdentifier  \n0                         https://orcid.org/0000-0001-8274-3075  \n1                                 orcid.org/0000-0002-7154-7789  \n2                                 orcid.org/0000-0001-7617-5382  \n3                         https://orcid.org/0000-0001-6918-9428  \n4                         https://orcid.org/0000-0003-1909-7706  ",
      "text/html": "<div><div id=e806605c-eeba-4546-9ce2-f12aef965989 style=\"display:none; background-color:#9D6CFF; color:white; width:200px; height:30px; padding-left:5px; border-radius:4px; flex-direction:row; justify-content:space-around; align-items:center;\" onmouseover=\"this.style.backgroundColor='#BA9BF8'\" onmouseout=\"this.style.backgroundColor='#9D6CFF'\" onclick=\"window.commands?.execute('create-mitosheet-from-dataframe-output');\">See Full Dataframe in Mito</div> <script> if (window.commands.hasCommand('create-mitosheet-from-dataframe-output')) document.getElementById('e806605c-eeba-4546-9ce2-f12aef965989').style.display = 'flex' </script> <table border=\"1\" class=\"dataframe\">\n  <thead>\n    <tr style=\"text-align: right;\">\n      <th></th>\n      <th>dataverse_installation_name</th>\n      <th>dataset_pid_url</th>\n      <th>dataverse_collection_alias</th>\n      <th>dataverse_collection_name</th>\n      <th>dataverse_collection_type</th>\n      <th>dataset_publication_date</th>\n      <th>dataset_version_create_time</th>\n      <th>authorName</th>\n      <th>authorIdentifierScheme</th>\n      <th>authorIdentifier</th>\n    </tr>\n  </thead>\n  <tbody>\n    <tr>\n      <th>0</th>\n      <td>Harvard_Dataverse</td>\n      <td>https://doi.org/10.7910/DVN/4FNQ8M</td>\n      <td>IAI_ecosystems</td>\n      <td>Ecosystems, biodiversity and land use</td>\n      <td>ORGANIZATIONS_INSTITUTIONS</td>\n      <td>2019-05-28</td>\n      <td>2019-05-27T20:57:57Z</td>\n      <td>Espírito-Santo, Mario M.</td>\n      <td></td>\n      <td>https://orcid.org/0000-0001-8274-3075</td>\n    </tr>\n    <tr>\n      <th>1</th>\n      <td>Harvard_Dataverse</td>\n      <td>https://doi.org/10.7910/DVN/HJJJPJ</td>\n      <td>PSRM</td>\n      <td>Political Science Research and Methods (PSRM) Dataverse</td>\n      <td>JOURNALS</td>\n      <td>2018-10-02</td>\n      <td>2018-08-21T12:59:09Z</td>\n      <td>Manow, Philip</td>\n      <td></td>\n      <td>orcid.org/0000-0002-7154-7789</td>\n    </tr>\n    <tr>\n      <th>2</th>\n      <td>Harvard_Dataverse</td>\n      <td>https://doi.org/10.7910/DVN/AUFSID</td>\n      <td>Weather</td>\n      <td>Weather Data</td>\n      <td>ORGANIZATIONS_INSTITUTIONS</td>\n      <td>2018-04-05</td>\n      <td>2018-03-22T08:52:55Z</td>\n      <td>van Oort, Pepijn</td>\n      <td></td>\n      <td>orcid.org/0000-0001-7617-5382</td>\n    </tr>\n    <tr>\n      <th>3</th>\n      <td>Harvard_Dataverse</td>\n      <td>https://doi.org/10.7910/DVN/PB8X8P</td>\n      <td>ajps</td>\n      <td>American Journal of Political Science (AJPS) Dataverse</td>\n      <td>JOURNALS</td>\n      <td>2018-10-22</td>\n      <td>2019-11-22T16:50:37Z</td>\n      <td>Nagler, Jonathan</td>\n      <td></td>\n      <td>https://orcid.org/0000-0001-6918-9428</td>\n    </tr>\n    <tr>\n      <th>4</th>\n      <td>Harvard_Dataverse</td>\n      <td>https://doi.org/10.7910/DVN/FCT9VO</td>\n      <td>contextuality</td>\n      <td>Contextuality Dataverse</td>\n      <td>RESEARCH_PROJECTS</td>\n      <td>2019-02-21</td>\n      <td>2019-02-21T18:13:54Z</td>\n      <td>Dzhafarov, Ehtibar</td>\n      <td></td>\n      <td>https://orcid.org/0000-0003-1909-7706</td>\n    </tr>\n  </tbody>\n</table></div>"
     },
     "execution_count": 33,
     "metadata": {},
     "output_type": "execute_result"
    }
   ],
   "source": [
    "# How much author metadata are missing identifier types but may be ORCIDs\n",
    "authorMetadataWithPossibleORCIDsDf = (\n",
    "    authorsWithPartialIdentifiersDf\n",
    "        .query(\n",
    "            'authorIdentifier.str.contains(\"orcid\", case=False) or\\\n",
    "            authorIdentifier.str.match(\"some-regex-\\\\d+$\")',\n",
    "            engine='python')\n",
    "        .reset_index(drop=True, inplace=False)\n",
    ")\n",
    "\n",
    "# authorMetadataWithPossibleORCIDs = (\n",
    "#     authorsWithPartialIdentifiersDf[\n",
    "#         authorsWithPartialIdentifiersDf['authorIdentifier']\n",
    "#             .str.contains('orcid', case=False, na=False)])\n",
    "\n",
    "authorMetadataWithPossibleORCIDsDf.head()"
   ],
   "metadata": {
    "collapsed": false,
    "pycharm": {
     "name": "#%%\n"
    }
   }
  },
  {
   "cell_type": "code",
   "execution_count": null,
   "outputs": [],
   "source": [
    "print(len(authorMetadataWithPossibleORCIDs))"
   ],
   "metadata": {
    "collapsed": false,
    "pycharm": {
     "name": "#%%\n"
    }
   }
  },
  {
   "cell_type": "code",
   "execution_count": 19,
   "outputs": [
    {
     "data": {
      "text/plain": "  dataverse_installation_name                     dataset_pid_url  \\\n0           Harvard_Dataverse  https://doi.org/10.7910/DVN/NEF7ZD   \n1           Harvard_Dataverse  https://doi.org/10.7910/DVN/O94VWV   \n2           Harvard_Dataverse  https://doi.org/10.7910/DVN/9XLF4O   \n3           Harvard_Dataverse  https://doi.org/10.7910/DVN/L5O0XS   \n4           Harvard_Dataverse  https://doi.org/10.7910/DVN/OCYAPW   \n\n  dataverse_collection_alias  \\\n0        ABDAssessments_Mali   \n1  AD_EMWaterSupersaturation   \n2    AQ_BangladeshandNigeria   \n3             ActiveTrachoma   \n4        AffectiveRatingData   \n\n                           dataverse_collection_name  \\\n0                   ABD Assessments - Mali Dataverse   \n1                          Antony Delavois Dataverse   \n2  Aquaculture: increasing income, diversifying d...   \n3                            Dedefo Gebre Repository   \n4                              Affective Rating Data   \n\n  dataverse_collection_type dataset_publication_date  \\\n0         RESEARCH_PROJECTS               2016-12-01   \n1         RESEARCH_PROJECTS               2022-06-07   \n2         RESEARCH_PROJECTS               2020-07-10   \n3         RESEARCH_PROJECTS               2022-07-20   \n4         RESEARCH_PROJECTS               2018-05-02   \n\n  dataset_version_create_time            authorName authorIdentifierScheme  \\\n0        2018-12-21T13:00:28Z           Vodouhe, R.                          \n1        2022-06-07T14:43:32Z      Delavois, Antony                  ORCID   \n2        2020-07-21T13:37:54Z      Cheong,Kai Ching                          \n3        2022-07-20T20:01:25Z         Gebre, Dedefo                  ORCID   \n4        2018-05-02T14:07:42Z  Tchernichovski, Ofer                  ORCID   \n\n           authorIdentifier  \n0  Bioversity International  \n1                            \n2       0000-0002-8115-417X  \n3                            \n4                            ",
      "text/html": "<div><div id=0ac8b68b-8108-482a-bf1e-53705712dd0b style=\"display:none; background-color:#9D6CFF; color:white; width:200px; height:30px; padding-left:5px; border-radius:4px; flex-direction:row; justify-content:space-around; align-items:center;\" onmouseover=\"this.style.backgroundColor='#BA9BF8'\" onmouseout=\"this.style.backgroundColor='#9D6CFF'\" onclick=\"window.commands?.execute('create-mitosheet-from-dataframe-output');\">See Full Dataframe in Mito</div> <script> if (window.commands.hasCommand('create-mitosheet-from-dataframe-output')) document.getElementById('0ac8b68b-8108-482a-bf1e-53705712dd0b').style.display = 'flex' </script> <table border=\"1\" class=\"dataframe\">\n  <thead>\n    <tr style=\"text-align: right;\">\n      <th></th>\n      <th>dataverse_installation_name</th>\n      <th>dataset_pid_url</th>\n      <th>dataverse_collection_alias</th>\n      <th>dataverse_collection_name</th>\n      <th>dataverse_collection_type</th>\n      <th>dataset_publication_date</th>\n      <th>dataset_version_create_time</th>\n      <th>authorName</th>\n      <th>authorIdentifierScheme</th>\n      <th>authorIdentifier</th>\n    </tr>\n  </thead>\n  <tbody>\n    <tr>\n      <th>0</th>\n      <td>Harvard_Dataverse</td>\n      <td>https://doi.org/10.7910/DVN/NEF7ZD</td>\n      <td>ABDAssessments_Mali</td>\n      <td>ABD Assessments - Mali Dataverse</td>\n      <td>RESEARCH_PROJECTS</td>\n      <td>2016-12-01</td>\n      <td>2018-12-21T13:00:28Z</td>\n      <td>Vodouhe, R.</td>\n      <td></td>\n      <td>Bioversity International</td>\n    </tr>\n    <tr>\n      <th>1</th>\n      <td>Harvard_Dataverse</td>\n      <td>https://doi.org/10.7910/DVN/O94VWV</td>\n      <td>AD_EMWaterSupersaturation</td>\n      <td>Antony Delavois Dataverse</td>\n      <td>RESEARCH_PROJECTS</td>\n      <td>2022-06-07</td>\n      <td>2022-06-07T14:43:32Z</td>\n      <td>Delavois, Antony</td>\n      <td>ORCID</td>\n      <td></td>\n    </tr>\n    <tr>\n      <th>2</th>\n      <td>Harvard_Dataverse</td>\n      <td>https://doi.org/10.7910/DVN/9XLF4O</td>\n      <td>AQ_BangladeshandNigeria</td>\n      <td>Aquaculture: increasing income, diversifying diets, and empowering women in Bangladesh and Nigeria</td>\n      <td>RESEARCH_PROJECTS</td>\n      <td>2020-07-10</td>\n      <td>2020-07-21T13:37:54Z</td>\n      <td>Cheong,Kai Ching</td>\n      <td></td>\n      <td>0000-0002-8115-417X</td>\n    </tr>\n    <tr>\n      <th>3</th>\n      <td>Harvard_Dataverse</td>\n      <td>https://doi.org/10.7910/DVN/L5O0XS</td>\n      <td>ActiveTrachoma</td>\n      <td>Dedefo Gebre Repository</td>\n      <td>RESEARCH_PROJECTS</td>\n      <td>2022-07-20</td>\n      <td>2022-07-20T20:01:25Z</td>\n      <td>Gebre, Dedefo</td>\n      <td>ORCID</td>\n      <td></td>\n    </tr>\n    <tr>\n      <th>4</th>\n      <td>Harvard_Dataverse</td>\n      <td>https://doi.org/10.7910/DVN/OCYAPW</td>\n      <td>AffectiveRatingData</td>\n      <td>Affective Rating Data</td>\n      <td>RESEARCH_PROJECTS</td>\n      <td>2018-05-02</td>\n      <td>2018-05-02T14:07:42Z</td>\n      <td>Tchernichovski, Ofer</td>\n      <td>ORCID</td>\n      <td></td>\n    </tr>\n  </tbody>\n</table></div>"
     },
     "execution_count": 19,
     "metadata": {},
     "output_type": "execute_result"
    }
   ],
   "source": [
    "# print(authorsWithPartialIdentifiersDf.dtypes)\n",
    "authorsWithPartialIdentifiersDf.head()"
   ],
   "metadata": {
    "collapsed": false,
    "pycharm": {
     "name": "#%%\n"
    }
   }
  },
  {
   "cell_type": "code",
   "execution_count": null,
   "outputs": [],
   "source": [],
   "metadata": {
    "collapsed": false,
    "pycharm": {
     "name": "#%%\n"
    }
   }
  }
 ],
 "metadata": {
  "kernelspec": {
   "display_name": "Python 3",
   "language": "python",
   "name": "python3"
  },
  "language_info": {
   "codemirror_mode": {
    "name": "ipython",
    "version": 2
   },
   "file_extension": ".py",
   "mimetype": "text/x-python",
   "name": "python",
   "nbconvert_exporter": "python",
   "pygments_lexer": "ipython2",
   "version": "2.7.6"
  }
 },
 "nbformat": 4,
 "nbformat_minor": 0
}