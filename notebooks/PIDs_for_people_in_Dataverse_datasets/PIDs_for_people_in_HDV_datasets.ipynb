{
 "cells": [
  {
   "cell_type": "code",
   "execution_count": 10,
   "metadata": {
    "collapsed": true
   },
   "outputs": [],
   "source": [
    "from functools import reduce\n",
    "import numpy as np\n",
    "import pandas as pd"
   ]
  },
  {
   "cell_type": "markdown",
   "source": [
    "# Import, check and prepare data\n",
    "\n",
    "Import CSV files that contain:\n",
    "- The PIDs of all datasets published by many repositories that use the Dataverse software and which repositories published them\n",
    "- Author field metadata entered in all of those datasets"
   ],
   "metadata": {
    "collapsed": false,
    "pycharm": {
     "name": "#%% md\n"
    }
   }
  },
  {
   "cell_type": "code",
   "execution_count": 11,
   "outputs": [
    {
     "data": {
      "text/plain": "  dataverse_installation_name                  dataset_pid_url  \\\n0     UNB_Libraries_Dataverse  https://doi.org/10.25545/NVN79Z   \n1     UNB_Libraries_Dataverse  https://doi.org/10.25545/YB60PU   \n2     UNB_Libraries_Dataverse  https://doi.org/10.25545/WHD3KC   \n3     UNB_Libraries_Dataverse  https://doi.org/10.25545/6TZWCG   \n4     UNB_Libraries_Dataverse  https://doi.org/10.25545/NYM13B   \n\n  dataverse_collection_alias  \\\n0                        snb   \n1            blightchemistry   \n2            blightchemistry   \n3           Ir-CationBinding   \n4                     IFMLAB   \n\n                           dataverse_collection_name  \\\n0                              Service New Brunswick   \n1                Blight Chemistry Research Omniverse   \n2                Blight Chemistry Research Omniverse   \n3  Elucidation of Charge Contributions in Iridium...   \n4                   Integrated Forest Management Lab   \n\n    dataverse_collection_type  \n0  ORGANIZATIONS_INSTITUTIONS  \n1              RESEARCH_GROUP  \n2              RESEARCH_GROUP  \n3                    JOURNALS  \n4              RESEARCH_GROUP  ",
      "text/html": "<div><div id=0f7eb6a1-85b8-43ab-9d1e-03f037539495 style=\"display:none; background-color:#9D6CFF; color:white; width:200px; height:30px; padding-left:5px; border-radius:4px; flex-direction:row; justify-content:space-around; align-items:center;\" onmouseover=\"this.style.backgroundColor='#BA9BF8'\" onmouseout=\"this.style.backgroundColor='#9D6CFF'\" onclick=\"window.commands?.execute('create-mitosheet-from-dataframe-output');\">See Full Dataframe in Mito</div> <script> if (window.commands.hasCommand('create-mitosheet-from-dataframe-output')) document.getElementById('0f7eb6a1-85b8-43ab-9d1e-03f037539495').style.display = 'flex' </script> <table border=\"1\" class=\"dataframe\">\n  <thead>\n    <tr style=\"text-align: right;\">\n      <th></th>\n      <th>dataverse_installation_name</th>\n      <th>dataset_pid_url</th>\n      <th>dataverse_collection_alias</th>\n      <th>dataverse_collection_name</th>\n      <th>dataverse_collection_type</th>\n    </tr>\n  </thead>\n  <tbody>\n    <tr>\n      <th>0</th>\n      <td>UNB_Libraries_Dataverse</td>\n      <td>https://doi.org/10.25545/NVN79Z</td>\n      <td>snb</td>\n      <td>Service New Brunswick</td>\n      <td>ORGANIZATIONS_INSTITUTIONS</td>\n    </tr>\n    <tr>\n      <th>1</th>\n      <td>UNB_Libraries_Dataverse</td>\n      <td>https://doi.org/10.25545/YB60PU</td>\n      <td>blightchemistry</td>\n      <td>Blight Chemistry Research Omniverse</td>\n      <td>RESEARCH_GROUP</td>\n    </tr>\n    <tr>\n      <th>2</th>\n      <td>UNB_Libraries_Dataverse</td>\n      <td>https://doi.org/10.25545/WHD3KC</td>\n      <td>blightchemistry</td>\n      <td>Blight Chemistry Research Omniverse</td>\n      <td>RESEARCH_GROUP</td>\n    </tr>\n    <tr>\n      <th>3</th>\n      <td>UNB_Libraries_Dataverse</td>\n      <td>https://doi.org/10.25545/6TZWCG</td>\n      <td>Ir-CationBinding</td>\n      <td>Elucidation of Charge Contributions in Iridium-Chelated Hydrogen-Bonding Systems</td>\n      <td>JOURNALS</td>\n    </tr>\n    <tr>\n      <th>4</th>\n      <td>UNB_Libraries_Dataverse</td>\n      <td>https://doi.org/10.25545/NYM13B</td>\n      <td>IFMLAB</td>\n      <td>Integrated Forest Management Lab</td>\n      <td>RESEARCH_GROUP</td>\n    </tr>\n  </tbody>\n</table></div>"
     },
     "execution_count": 11,
     "metadata": {},
     "output_type": "execute_result"
    }
   ],
   "source": [
    "# Get PIDs of all datasets and which repositories published them\n",
    "datasetPIDsDF = (pd\n",
    "    .read_csv(\n",
    "        'dataset_pids_from_most_known_dataverse_installations_2023.08.csv',\n",
    "        sep=',',\n",
    "        na_filter=False)\n",
    "    .query(\n",
    "        '(dataverse_json_export_saved == True) and\\\n",
    "        (dataverse_installation_name != \"ODISSEI_Portal\")')\n",
    "    .drop(columns=['dataverse_json_export_saved'])\n",
    "    .reset_index(drop=True, inplace=False)\n",
    " )\n",
    "\n",
    "datasetPIDsDF.head()"
   ],
   "metadata": {
    "collapsed": false,
    "pycharm": {
     "name": "#%%\n"
    }
   }
  },
  {
   "cell_type": "code",
   "execution_count": 12,
   "outputs": [
    {
     "data": {
      "text/plain": "                          dataset_pid_url dataset_publication_date  \\\n0     https://doi.org/10.48370/OFD/8TTRLC               2022-05-13   \n1  https://doi.org/10.17026/dans-26a-cq4r               2015-09-18   \n2  https://doi.org/10.17026/dans-zc2-mc2g               2016-12-31   \n3  https://doi.org/10.17026/dans-x9z-bmn6               2020-12-22   \n4      https://doi.org/10.7910/DVN/QD0V0H               2021-09-20   \n\n   dataset_version_number dataset_version_create_time  \\\n0                     1.0        2022-05-11T14:44:29Z   \n1                     2.0        2022-02-18T19:29:27Z   \n2                     1.0        2022-02-24T21:01:03Z   \n3                     1.0        2022-02-14T05:11:03Z   \n4                     1.0        2021-07-29T19:45:43Z   \n\n                                          authorName authorIdentifierScheme  \\\n0  Mammal Research Institute, Polish Academy of S...                    NaN   \n1                                     H.J. Hesseling                    NaN   \n2                                         S. Moerman                    NaN   \n3                                         G. Zielman                    NaN   \n4                                  Master, Daniel M.                    NaN   \n\n  authorIdentifier  \n0              NaN  \n1              NaN  \n2              NaN  \n3              NaN  \n4              NaN  ",
      "text/html": "<div><div id=601a8f4c-c2d3-4967-9427-bc6d83f36061 style=\"display:none; background-color:#9D6CFF; color:white; width:200px; height:30px; padding-left:5px; border-radius:4px; flex-direction:row; justify-content:space-around; align-items:center;\" onmouseover=\"this.style.backgroundColor='#BA9BF8'\" onmouseout=\"this.style.backgroundColor='#9D6CFF'\" onclick=\"window.commands?.execute('create-mitosheet-from-dataframe-output');\">See Full Dataframe in Mito</div> <script> if (window.commands.hasCommand('create-mitosheet-from-dataframe-output')) document.getElementById('601a8f4c-c2d3-4967-9427-bc6d83f36061').style.display = 'flex' </script> <table border=\"1\" class=\"dataframe\">\n  <thead>\n    <tr style=\"text-align: right;\">\n      <th></th>\n      <th>dataset_pid_url</th>\n      <th>dataset_publication_date</th>\n      <th>dataset_version_number</th>\n      <th>dataset_version_create_time</th>\n      <th>authorName</th>\n      <th>authorIdentifierScheme</th>\n      <th>authorIdentifier</th>\n    </tr>\n  </thead>\n  <tbody>\n    <tr>\n      <th>0</th>\n      <td>https://doi.org/10.48370/OFD/8TTRLC</td>\n      <td>2022-05-13</td>\n      <td>1.0</td>\n      <td>2022-05-11T14:44:29Z</td>\n      <td>Mammal Research Institute, Polish Academy of Sciences</td>\n      <td>NaN</td>\n      <td>NaN</td>\n    </tr>\n    <tr>\n      <th>1</th>\n      <td>https://doi.org/10.17026/dans-26a-cq4r</td>\n      <td>2015-09-18</td>\n      <td>2.0</td>\n      <td>2022-02-18T19:29:27Z</td>\n      <td>H.J. Hesseling</td>\n      <td>NaN</td>\n      <td>NaN</td>\n    </tr>\n    <tr>\n      <th>2</th>\n      <td>https://doi.org/10.17026/dans-zc2-mc2g</td>\n      <td>2016-12-31</td>\n      <td>1.0</td>\n      <td>2022-02-24T21:01:03Z</td>\n      <td>S. Moerman</td>\n      <td>NaN</td>\n      <td>NaN</td>\n    </tr>\n    <tr>\n      <th>3</th>\n      <td>https://doi.org/10.17026/dans-x9z-bmn6</td>\n      <td>2020-12-22</td>\n      <td>1.0</td>\n      <td>2022-02-14T05:11:03Z</td>\n      <td>G. Zielman</td>\n      <td>NaN</td>\n      <td>NaN</td>\n    </tr>\n    <tr>\n      <th>4</th>\n      <td>https://doi.org/10.7910/DVN/QD0V0H</td>\n      <td>2021-09-20</td>\n      <td>1.0</td>\n      <td>2021-07-29T19:45:43Z</td>\n      <td>Master, Daniel M.</td>\n      <td>NaN</td>\n      <td>NaN</td>\n    </tr>\n  </tbody>\n</table></div>"
     },
     "execution_count": 12,
     "metadata": {},
     "output_type": "execute_result"
    }
   ],
   "source": [
    "# Get Author field metadata entered in all datasets in Dataverse repositories\n",
    "# and remove datasets have have no author metadata\n",
    "authorMetadataDF = (pd\n",
    "    .read_csv(\n",
    "        'author(citation)_2023.08.22-2023.08.28.csv',\n",
    "        sep=',',\n",
    "        na_filter=True)\n",
    "    .drop(columns=['dataset_pid', 'authorAffiliation'])\n",
    "    .query('authorName != \"N/A\"')\n",
    "    .reset_index(drop=True, inplace=False)\n",
    "    )\n",
    "\n",
    "authorMetadataDF.head()"
   ],
   "metadata": {
    "collapsed": false,
    "pycharm": {
     "name": "#%%\n"
    }
   }
  },
  {
   "cell_type": "code",
   "execution_count": 13,
   "outputs": [
    {
     "name": "stdout",
     "output_type": "stream",
     "text": [
      "Number of datasets in datasetPIDsDF: 390401\n",
      "Number of datasets in authorMetadataDF: 390401\n"
     ]
    }
   ],
   "source": [
    "print(f'Number of datasets in datasetPIDsDF: {len(datasetPIDsDF)}')\n",
    "datasetCountInAuthorMetadataDF = len(pd.unique(authorMetadataDF['dataset_pid_url']))\n",
    "print(f'Number of datasets in authorMetadataDF: {datasetCountInAuthorMetadataDF}')"
   ],
   "metadata": {
    "collapsed": false,
    "pycharm": {
     "name": "#%%\n"
    }
   }
  },
  {
   "cell_type": "code",
   "execution_count": 14,
   "outputs": [
    {
     "name": "stdout",
     "output_type": "stream",
     "text": [
      "Number of datasets in datasetPIDsAndAuthorMetadataDF: 390401\n",
      "Number of author metadata in datasetPIDsAndAuthorMetadataDF: 667435\n",
      "Number of installations in datasetPIDsAndAuthorMetadataDF: 84\n"
     ]
    }
   ],
   "source": [
    "# Join the datasetPIDsDF and the authorMetadataDF to add the installation column,\n",
    "# so we know which installations published each dataset\n",
    "# and remove datasets that have no author\n",
    "\n",
    "datasetPIDsAndAuthorMetadataDF = (pd\n",
    "    .merge(datasetPIDsDF, authorMetadataDF,\n",
    "        how='inner',\n",
    "        on=['dataset_pid_url'])\n",
    "    .drop(columns=[\n",
    "        'dataset_version_number',\n",
    "        'dataset_version_create_time'])\n",
    "    .reset_index(drop=True, inplace=False))\n",
    "\n",
    "# Make sure the count of rows in datasetPIDsAndAuthorMetadataDF\n",
    "# is the same as the count of total datasets in datasetPIDsDF: 390401\n",
    "datasetCountInDatasetPIDsAndAuthorMetadataDF = len(pd.unique(datasetPIDsAndAuthorMetadataDF['dataset_pid_url']))\n",
    "print(f'Number of datasets in datasetPIDsAndAuthorMetadataDF: {datasetCountInDatasetPIDsAndAuthorMetadataDF}')\n",
    "\n",
    "print(f'Number of author metadata in datasetPIDsAndAuthorMetadataDF: {len(datasetPIDsAndAuthorMetadataDF)}')\n",
    "\n",
    "countOfInstallations = len(datasetPIDsAndAuthorMetadataDF.dataverse_installation_name.unique())\n",
    "print(f'Number of installations in datasetPIDsAndAuthorMetadataDF: {countOfInstallations}')"
   ],
   "metadata": {
    "collapsed": false,
    "pycharm": {
     "name": "#%%\n"
    }
   }
  },
  {
   "cell_type": "code",
   "execution_count": 15,
   "outputs": [
    {
     "data": {
      "text/plain": "  dataverse_installation_name                  dataset_pid_url  \\\n0     UNB_Libraries_Dataverse  https://doi.org/10.25545/NVN79Z   \n1     UNB_Libraries_Dataverse  https://doi.org/10.25545/YB60PU   \n2     UNB_Libraries_Dataverse  https://doi.org/10.25545/WHD3KC   \n3     UNB_Libraries_Dataverse  https://doi.org/10.25545/6TZWCG   \n4     UNB_Libraries_Dataverse  https://doi.org/10.25545/NYM13B   \n\n  dataverse_collection_alias  \\\n0                        snb   \n1            blightchemistry   \n2            blightchemistry   \n3           Ir-CationBinding   \n4                     IFMLAB   \n\n                           dataverse_collection_name  \\\n0                              Service New Brunswick   \n1                Blight Chemistry Research Omniverse   \n2                Blight Chemistry Research Omniverse   \n3  Elucidation of Charge Contributions in Iridium...   \n4                   Integrated Forest Management Lab   \n\n    dataverse_collection_type dataset_publication_date             authorName  \\\n0  ORGANIZATIONS_INSTITUTIONS               2018-05-10  Service New Brunswick   \n1              RESEARCH_GROUP               2018-06-20        Blight, Barry A   \n2              RESEARCH_GROUP               2019-06-23      Balonova, Barbora   \n3                    JOURNALS               2021-05-18        Blight, Barry A   \n4              RESEARCH_GROUP               2020-06-30         Chen, Yingbing   \n\n  authorIdentifierScheme     authorIdentifier  \n0                    NaN                  NaN  \n1                  ORCID  0000-0003-1166-6206  \n2                    NaN                  NaN  \n3                    NaN                  NaN  \n4                    NaN                  NaN  ",
      "text/html": "<div><div id=3bd10e97-e80d-4ff3-9c15-2f29246af80f style=\"display:none; background-color:#9D6CFF; color:white; width:200px; height:30px; padding-left:5px; border-radius:4px; flex-direction:row; justify-content:space-around; align-items:center;\" onmouseover=\"this.style.backgroundColor='#BA9BF8'\" onmouseout=\"this.style.backgroundColor='#9D6CFF'\" onclick=\"window.commands?.execute('create-mitosheet-from-dataframe-output');\">See Full Dataframe in Mito</div> <script> if (window.commands.hasCommand('create-mitosheet-from-dataframe-output')) document.getElementById('3bd10e97-e80d-4ff3-9c15-2f29246af80f').style.display = 'flex' </script> <table border=\"1\" class=\"dataframe\">\n  <thead>\n    <tr style=\"text-align: right;\">\n      <th></th>\n      <th>dataverse_installation_name</th>\n      <th>dataset_pid_url</th>\n      <th>dataverse_collection_alias</th>\n      <th>dataverse_collection_name</th>\n      <th>dataverse_collection_type</th>\n      <th>dataset_publication_date</th>\n      <th>authorName</th>\n      <th>authorIdentifierScheme</th>\n      <th>authorIdentifier</th>\n    </tr>\n  </thead>\n  <tbody>\n    <tr>\n      <th>0</th>\n      <td>UNB_Libraries_Dataverse</td>\n      <td>https://doi.org/10.25545/NVN79Z</td>\n      <td>snb</td>\n      <td>Service New Brunswick</td>\n      <td>ORGANIZATIONS_INSTITUTIONS</td>\n      <td>2018-05-10</td>\n      <td>Service New Brunswick</td>\n      <td>NaN</td>\n      <td>NaN</td>\n    </tr>\n    <tr>\n      <th>1</th>\n      <td>UNB_Libraries_Dataverse</td>\n      <td>https://doi.org/10.25545/YB60PU</td>\n      <td>blightchemistry</td>\n      <td>Blight Chemistry Research Omniverse</td>\n      <td>RESEARCH_GROUP</td>\n      <td>2018-06-20</td>\n      <td>Blight, Barry A</td>\n      <td>ORCID</td>\n      <td>0000-0003-1166-6206</td>\n    </tr>\n    <tr>\n      <th>2</th>\n      <td>UNB_Libraries_Dataverse</td>\n      <td>https://doi.org/10.25545/WHD3KC</td>\n      <td>blightchemistry</td>\n      <td>Blight Chemistry Research Omniverse</td>\n      <td>RESEARCH_GROUP</td>\n      <td>2019-06-23</td>\n      <td>Balonova, Barbora</td>\n      <td>NaN</td>\n      <td>NaN</td>\n    </tr>\n    <tr>\n      <th>3</th>\n      <td>UNB_Libraries_Dataverse</td>\n      <td>https://doi.org/10.25545/6TZWCG</td>\n      <td>Ir-CationBinding</td>\n      <td>Elucidation of Charge Contributions in Iridium-Chelated Hydrogen-Bonding Systems</td>\n      <td>JOURNALS</td>\n      <td>2021-05-18</td>\n      <td>Blight, Barry A</td>\n      <td>NaN</td>\n      <td>NaN</td>\n    </tr>\n    <tr>\n      <th>4</th>\n      <td>UNB_Libraries_Dataverse</td>\n      <td>https://doi.org/10.25545/NYM13B</td>\n      <td>IFMLAB</td>\n      <td>Integrated Forest Management Lab</td>\n      <td>RESEARCH_GROUP</td>\n      <td>2020-06-30</td>\n      <td>Chen, Yingbing</td>\n      <td>NaN</td>\n      <td>NaN</td>\n    </tr>\n  </tbody>\n</table></div>"
     },
     "execution_count": 15,
     "metadata": {},
     "output_type": "execute_result"
    }
   ],
   "source": [
    "datasetPIDsAndAuthorMetadataDF.head()"
   ],
   "metadata": {
    "collapsed": false,
    "pycharm": {
     "name": "#%%\n"
    }
   }
  },
  {
   "cell_type": "markdown",
   "source": [
    "# Explore data"
   ],
   "metadata": {
    "collapsed": false,
    "pycharm": {
     "name": "#%% md\n"
    }
   }
  },
  {
   "cell_type": "code",
   "execution_count": 16,
   "outputs": [
    {
     "name": "stdout",
     "output_type": "stream",
     "text": [
      "Number of author metadata with partial, complete, and no identifier metadata: 667435\n",
      "Number of author metadata with partial identifier metadata: 4438\n",
      "Number of author metadata with complete identifier metadata: 82078\n",
      "Number of author metadata with no identifier metadata: 580919\n"
     ]
    }
   ],
   "source": [
    "# Get info about author metadata that includes no values and any values in the identifier type or identifier fields\n",
    "authorsWithNoIdentifiersDf = (\n",
    "    datasetPIDsAndAuthorMetadataDF\n",
    "        .query(\n",
    "            'authorIdentifierScheme != authorIdentifierScheme and\\\n",
    "            authorIdentifier != authorIdentifier')\n",
    "        .reset_index(drop=True, inplace=False)\n",
    ")\n",
    "\n",
    "authorsWithPartialIdentifiersDf = (\n",
    "    datasetPIDsAndAuthorMetadataDF\n",
    "        .query(\n",
    "            '(authorIdentifierScheme == authorIdentifierScheme and\\\n",
    "             authorIdentifier != authorIdentifier) or\\\n",
    "            (authorIdentifierScheme != authorIdentifierScheme and\\\n",
    "             authorIdentifier == authorIdentifier)')\n",
    "        .reset_index(drop=True, inplace=False)\n",
    ")\n",
    "\n",
    "authorsWithCompleteIdentifiersDf = (\n",
    "    datasetPIDsAndAuthorMetadataDF\n",
    "        .query(\n",
    "            'authorIdentifierScheme == authorIdentifierScheme and\\\n",
    "             authorIdentifier == authorIdentifier')\n",
    "        .reset_index(drop=True, inplace=False)\n",
    ")\n",
    "\n",
    "sumOfAuthorMetadata = (\n",
    "    len(authorsWithPartialIdentifiersDf)\n",
    "    + len(authorsWithCompleteIdentifiersDf)\n",
    "    + len(authorsWithNoIdentifiersDf)\n",
    ")\n",
    "print(f'Number of author metadata with partial, complete, and no identifier metadata: {sumOfAuthorMetadata}')\n",
    "\n",
    "print(f'Number of author metadata with partial identifier metadata: {len(authorsWithPartialIdentifiersDf)}')\n",
    "print(f'Number of author metadata with complete identifier metadata: {len(authorsWithCompleteIdentifiersDf)}')\n",
    "print(f'Number of author metadata with no identifier metadata: {len(authorsWithNoIdentifiersDf)}')"
   ],
   "metadata": {
    "collapsed": false,
    "pycharm": {
     "name": "#%%\n"
    }
   }
  },
  {
   "cell_type": "markdown",
   "source": [
    "Get count of metadata for each installation"
   ],
   "metadata": {
    "collapsed": false,
    "pycharm": {
     "name": "#%% md\n"
    }
   }
  },
  {
   "cell_type": "code",
   "execution_count": 17,
   "outputs": [
    {
     "data": {
      "text/plain": "                               count_of_authors_with_no_identifiers\ndataverse_installation_name                                        \nDANS_Data_Station_Archaeology                                149262\nHarvard_Dataverse                                            143643\nJPL_Open_Repository                                          134454\nOpen_Forest_Data                                              65361\nBorealis                                                      28295",
      "text/html": "<div><div id=f226f31d-0ac7-44cc-9110-dabaa4b9a401 style=\"display:none; background-color:#9D6CFF; color:white; width:200px; height:30px; padding-left:5px; border-radius:4px; flex-direction:row; justify-content:space-around; align-items:center;\" onmouseover=\"this.style.backgroundColor='#BA9BF8'\" onmouseout=\"this.style.backgroundColor='#9D6CFF'\" onclick=\"window.commands?.execute('create-mitosheet-from-dataframe-output');\">See Full Dataframe in Mito</div> <script> if (window.commands.hasCommand('create-mitosheet-from-dataframe-output')) document.getElementById('f226f31d-0ac7-44cc-9110-dabaa4b9a401').style.display = 'flex' </script> <table border=\"1\" class=\"dataframe\">\n  <thead>\n    <tr style=\"text-align: right;\">\n      <th></th>\n      <th>count_of_authors_with_no_identifiers</th>\n    </tr>\n    <tr>\n      <th>dataverse_installation_name</th>\n      <th></th>\n    </tr>\n  </thead>\n  <tbody>\n    <tr>\n      <th>DANS_Data_Station_Archaeology</th>\n      <td>149262</td>\n    </tr>\n    <tr>\n      <th>Harvard_Dataverse</th>\n      <td>143643</td>\n    </tr>\n    <tr>\n      <th>JPL_Open_Repository</th>\n      <td>134454</td>\n    </tr>\n    <tr>\n      <th>Open_Forest_Data</th>\n      <td>65361</td>\n    </tr>\n    <tr>\n      <th>Borealis</th>\n      <td>28295</td>\n    </tr>\n  </tbody>\n</table></div>"
     },
     "execution_count": 17,
     "metadata": {},
     "output_type": "execute_result"
    }
   ],
   "source": [
    "# Count of author metadata in authorsWithNoIdentifiersDf per installation\n",
    "authorsWithNoIdentifiersByInstallationDf = (\n",
    "    authorsWithNoIdentifiersDf\n",
    "        .value_counts(subset=['dataverse_installation_name'])\n",
    "        .to_frame('count_of_authors_with_no_identifiers')\n",
    ")\n",
    "\n",
    "authorsWithNoIdentifiersByInstallationDf.head()"
   ],
   "metadata": {
    "collapsed": false,
    "pycharm": {
     "name": "#%%\n"
    }
   }
  },
  {
   "cell_type": "code",
   "execution_count": 18,
   "outputs": [
    {
     "data": {
      "text/plain": "                             count_of_authors_with_partial_identifiers\ndataverse_installation_name                                           \nHarvard_Dataverse                                                 1701\nInternational_Potato_Center                                        918\nEdmond                                                             766\nCIMMYT_Research_Data                                               155\nBorealis                                                           122",
      "text/html": "<div><div id=fe99e4fa-fddd-4b60-b607-5a34b9ce7b03 style=\"display:none; background-color:#9D6CFF; color:white; width:200px; height:30px; padding-left:5px; border-radius:4px; flex-direction:row; justify-content:space-around; align-items:center;\" onmouseover=\"this.style.backgroundColor='#BA9BF8'\" onmouseout=\"this.style.backgroundColor='#9D6CFF'\" onclick=\"window.commands?.execute('create-mitosheet-from-dataframe-output');\">See Full Dataframe in Mito</div> <script> if (window.commands.hasCommand('create-mitosheet-from-dataframe-output')) document.getElementById('fe99e4fa-fddd-4b60-b607-5a34b9ce7b03').style.display = 'flex' </script> <table border=\"1\" class=\"dataframe\">\n  <thead>\n    <tr style=\"text-align: right;\">\n      <th></th>\n      <th>count_of_authors_with_partial_identifiers</th>\n    </tr>\n    <tr>\n      <th>dataverse_installation_name</th>\n      <th></th>\n    </tr>\n  </thead>\n  <tbody>\n    <tr>\n      <th>Harvard_Dataverse</th>\n      <td>1701</td>\n    </tr>\n    <tr>\n      <th>International_Potato_Center</th>\n      <td>918</td>\n    </tr>\n    <tr>\n      <th>Edmond</th>\n      <td>766</td>\n    </tr>\n    <tr>\n      <th>CIMMYT_Research_Data</th>\n      <td>155</td>\n    </tr>\n    <tr>\n      <th>Borealis</th>\n      <td>122</td>\n    </tr>\n  </tbody>\n</table></div>"
     },
     "execution_count": 18,
     "metadata": {},
     "output_type": "execute_result"
    }
   ],
   "source": [
    "# Count of author metadata in authorsWithPartialIdentifiersDf per installation\n",
    "authorsWithPartialIdentifiersByInstallationDf = (\n",
    "    authorsWithPartialIdentifiersDf\n",
    "        .value_counts(subset=['dataverse_installation_name'])\n",
    "        .to_frame('count_of_authors_with_partial_identifiers')\n",
    ")\n",
    "\n",
    "authorsWithPartialIdentifiersByInstallationDf.head()"
   ],
   "metadata": {
    "collapsed": false,
    "pycharm": {
     "name": "#%%\n"
    }
   }
  },
  {
   "cell_type": "code",
   "execution_count": 19,
   "outputs": [
    {
     "data": {
      "text/plain": "                             count_of_authors_with_complete_identifiers\ndataverse_installation_name                                            \nHarvard_Dataverse                                                 23127\nOpen_Forest_Data                                                  14340\nDaRUS                                                              6991\nDataverseNL                                                        6972\nBorealis                                                           3707",
      "text/html": "<div><div id=a3e5657d-544e-483c-92db-31c9939d1a06 style=\"display:none; background-color:#9D6CFF; color:white; width:200px; height:30px; padding-left:5px; border-radius:4px; flex-direction:row; justify-content:space-around; align-items:center;\" onmouseover=\"this.style.backgroundColor='#BA9BF8'\" onmouseout=\"this.style.backgroundColor='#9D6CFF'\" onclick=\"window.commands?.execute('create-mitosheet-from-dataframe-output');\">See Full Dataframe in Mito</div> <script> if (window.commands.hasCommand('create-mitosheet-from-dataframe-output')) document.getElementById('a3e5657d-544e-483c-92db-31c9939d1a06').style.display = 'flex' </script> <table border=\"1\" class=\"dataframe\">\n  <thead>\n    <tr style=\"text-align: right;\">\n      <th></th>\n      <th>count_of_authors_with_complete_identifiers</th>\n    </tr>\n    <tr>\n      <th>dataverse_installation_name</th>\n      <th></th>\n    </tr>\n  </thead>\n  <tbody>\n    <tr>\n      <th>Harvard_Dataverse</th>\n      <td>23127</td>\n    </tr>\n    <tr>\n      <th>Open_Forest_Data</th>\n      <td>14340</td>\n    </tr>\n    <tr>\n      <th>DaRUS</th>\n      <td>6991</td>\n    </tr>\n    <tr>\n      <th>DataverseNL</th>\n      <td>6972</td>\n    </tr>\n    <tr>\n      <th>Borealis</th>\n      <td>3707</td>\n    </tr>\n  </tbody>\n</table></div>"
     },
     "execution_count": 19,
     "metadata": {},
     "output_type": "execute_result"
    }
   ],
   "source": [
    "# Count of author metadata in authorsWithCompleteIdentifiersDf per installation\n",
    "authorsWithCompleteIdentifiersByInstallationDf = (\n",
    "    authorsWithCompleteIdentifiersDf\n",
    "        .value_counts(subset=['dataverse_installation_name'])\n",
    "        .to_frame('count_of_authors_with_complete_identifiers')\n",
    ")\n",
    "\n",
    "authorsWithCompleteIdentifiersByInstallationDf.head()"
   ],
   "metadata": {
    "collapsed": false,
    "pycharm": {
     "name": "#%%\n"
    }
   }
  },
  {
   "cell_type": "code",
   "execution_count": 20,
   "outputs": [
    {
     "data": {
      "text/plain": "            dataverse_installation_name  \\\n0                        ACSS_Dataverse   \n1                         ADA_Dataverse   \n2  ASU_Library_Research_Data_Repository   \n3                      AUSSDA_Dataverse   \n4                                Abacus   \n\n   count_of_authors_with_complete_identifiers  \\\n0                                           5   \n1                                        1102   \n2                                          92   \n3                                         258   \n4                                           0   \n\n   count_of_authors_with_partial_identifiers  \\\n0                                          0   \n1                                         22   \n2                                          4   \n3                                          0   \n4                                          1   \n\n   count_of_authors_with_no_identifiers  \n0                                   141  \n1                                  2140  \n2                                   115  \n3                                  2104  \n4                                  4083  ",
      "text/html": "<div><div id=9e868a90-9605-4e50-b195-2bf633a7844a style=\"display:none; background-color:#9D6CFF; color:white; width:200px; height:30px; padding-left:5px; border-radius:4px; flex-direction:row; justify-content:space-around; align-items:center;\" onmouseover=\"this.style.backgroundColor='#BA9BF8'\" onmouseout=\"this.style.backgroundColor='#9D6CFF'\" onclick=\"window.commands?.execute('create-mitosheet-from-dataframe-output');\">See Full Dataframe in Mito</div> <script> if (window.commands.hasCommand('create-mitosheet-from-dataframe-output')) document.getElementById('9e868a90-9605-4e50-b195-2bf633a7844a').style.display = 'flex' </script> <table border=\"1\" class=\"dataframe\">\n  <thead>\n    <tr style=\"text-align: right;\">\n      <th></th>\n      <th>dataverse_installation_name</th>\n      <th>count_of_authors_with_complete_identifiers</th>\n      <th>count_of_authors_with_partial_identifiers</th>\n      <th>count_of_authors_with_no_identifiers</th>\n    </tr>\n  </thead>\n  <tbody>\n    <tr>\n      <th>0</th>\n      <td>ACSS_Dataverse</td>\n      <td>5</td>\n      <td>0</td>\n      <td>141</td>\n    </tr>\n    <tr>\n      <th>1</th>\n      <td>ADA_Dataverse</td>\n      <td>1102</td>\n      <td>22</td>\n      <td>2140</td>\n    </tr>\n    <tr>\n      <th>2</th>\n      <td>ASU_Library_Research_Data_Repository</td>\n      <td>92</td>\n      <td>4</td>\n      <td>115</td>\n    </tr>\n    <tr>\n      <th>3</th>\n      <td>AUSSDA_Dataverse</td>\n      <td>258</td>\n      <td>0</td>\n      <td>2104</td>\n    </tr>\n    <tr>\n      <th>4</th>\n      <td>Abacus</td>\n      <td>0</td>\n      <td>1</td>\n      <td>4083</td>\n    </tr>\n  </tbody>\n</table></div>"
     },
     "execution_count": 20,
     "metadata": {},
     "output_type": "execute_result"
    }
   ],
   "source": [
    "# Join authorsWithNoIdentifiersByInstallationDf, authorsWithPartialIdentifiersByInstallationDf, and authorsWithCompleteIdentifiersByInstallationDf\n",
    "dataframes = [\n",
    "    authorsWithNoIdentifiersByInstallationDf,\n",
    "    authorsWithPartialIdentifiersByInstallationDf,\n",
    "    authorsWithCompleteIdentifiersByInstallationDf\n",
    "]\n",
    "\n",
    "countOfAuthorsByInstallationDf = reduce(lambda left, right: left.join(right, how='outer'), dataframes)\n",
    "countOfAuthorsByInstallationDf = (\n",
    "    countOfAuthorsByInstallationDf\n",
    "        .fillna(0)\n",
    "        .astype('int32')\n",
    "        .reset_index(drop=False, inplace=False)\n",
    "        # Reorder columns\n",
    "        .loc[:,[\n",
    "            'dataverse_installation_name',\n",
    "            'count_of_authors_with_complete_identifiers',\n",
    "            'count_of_authors_with_partial_identifiers',\n",
    "            'count_of_authors_with_no_identifiers']]\n",
    ")\n",
    "\n",
    "countOfAuthorsByInstallationDf.head()"
   ],
   "metadata": {
    "collapsed": false,
    "pycharm": {
     "name": "#%%\n"
    }
   }
  },
  {
   "cell_type": "code",
   "execution_count": 26,
   "outputs": [
    {
     "data": {
      "text/plain": "            dataverse_installation_name  DAI  DOI  GND  ISNI  LCNA  ORCID  \\\n0                        ACSS_Dataverse    0    0    0     0     0      5   \n1                         ADA_Dataverse    0    0    0     0     0   1102   \n2  ASU_Library_Research_Data_Repository    0    0    0     0     0     92   \n3                      AUSSDA_Dataverse    0    0    0     0     0    258   \n4                            Arca_Dados    0    0    0     0     0    132   \n\n   ResearcherID  ScopusID  VIAF  idHAL  Total  \n0             0         0     0      0      5  \n1             0         0     0      0   1102  \n2             0         0     0      0     92  \n3             0         0     0      0    258  \n4             0         0     0      0    132  ",
      "text/html": "<div><div id=21c36b03-1a6a-4f0c-9457-7ea6025a3a20 style=\"display:none; background-color:#9D6CFF; color:white; width:200px; height:30px; padding-left:5px; border-radius:4px; flex-direction:row; justify-content:space-around; align-items:center;\" onmouseover=\"this.style.backgroundColor='#BA9BF8'\" onmouseout=\"this.style.backgroundColor='#9D6CFF'\" onclick=\"window.commands?.execute('create-mitosheet-from-dataframe-output');\">See Full Dataframe in Mito</div> <script> if (window.commands.hasCommand('create-mitosheet-from-dataframe-output')) document.getElementById('21c36b03-1a6a-4f0c-9457-7ea6025a3a20').style.display = 'flex' </script> <table border=\"1\" class=\"dataframe\">\n  <thead>\n    <tr style=\"text-align: right;\">\n      <th></th>\n      <th>dataverse_installation_name</th>\n      <th>DAI</th>\n      <th>DOI</th>\n      <th>GND</th>\n      <th>ISNI</th>\n      <th>LCNA</th>\n      <th>ORCID</th>\n      <th>ResearcherID</th>\n      <th>ScopusID</th>\n      <th>VIAF</th>\n      <th>idHAL</th>\n      <th>Total</th>\n    </tr>\n  </thead>\n  <tbody>\n    <tr>\n      <th>0</th>\n      <td>ACSS_Dataverse</td>\n      <td>0</td>\n      <td>0</td>\n      <td>0</td>\n      <td>0</td>\n      <td>0</td>\n      <td>5</td>\n      <td>0</td>\n      <td>0</td>\n      <td>0</td>\n      <td>0</td>\n      <td>5</td>\n    </tr>\n    <tr>\n      <th>1</th>\n      <td>ADA_Dataverse</td>\n      <td>0</td>\n      <td>0</td>\n      <td>0</td>\n      <td>0</td>\n      <td>0</td>\n      <td>1102</td>\n      <td>0</td>\n      <td>0</td>\n      <td>0</td>\n      <td>0</td>\n      <td>1102</td>\n    </tr>\n    <tr>\n      <th>2</th>\n      <td>ASU_Library_Research_Data_Repository</td>\n      <td>0</td>\n      <td>0</td>\n      <td>0</td>\n      <td>0</td>\n      <td>0</td>\n      <td>92</td>\n      <td>0</td>\n      <td>0</td>\n      <td>0</td>\n      <td>0</td>\n      <td>92</td>\n    </tr>\n    <tr>\n      <th>3</th>\n      <td>AUSSDA_Dataverse</td>\n      <td>0</td>\n      <td>0</td>\n      <td>0</td>\n      <td>0</td>\n      <td>0</td>\n      <td>258</td>\n      <td>0</td>\n      <td>0</td>\n      <td>0</td>\n      <td>0</td>\n      <td>258</td>\n    </tr>\n    <tr>\n      <th>4</th>\n      <td>Arca_Dados</td>\n      <td>0</td>\n      <td>0</td>\n      <td>0</td>\n      <td>0</td>\n      <td>0</td>\n      <td>132</td>\n      <td>0</td>\n      <td>0</td>\n      <td>0</td>\n      <td>0</td>\n      <td>132</td>\n    </tr>\n  </tbody>\n</table></div>"
     },
     "execution_count": 26,
     "metadata": {},
     "output_type": "execute_result"
    }
   ],
   "source": [
    "# Get number of author metadata with each type of identifier, e.g. ORCID, GND\n",
    "identifierTypesByInstallationDf = (pd\n",
    "    .crosstab(\n",
    "        authorsWithCompleteIdentifiersDf.dataverse_installation_name,\n",
    "        authorsWithCompleteIdentifiersDf.authorIdentifierScheme,\n",
    "        margins=True, margins_name='Total')\n",
    "    .reset_index(drop=False, inplace=False)\n",
    "    .rename_axis(None, axis=1)\n",
    ")\n",
    "\n",
    "identifierTypesByInstallationDf.head()"
   ],
   "metadata": {
    "collapsed": false,
    "pycharm": {
     "name": "#%%\n"
    }
   }
  },
  {
   "cell_type": "code",
   "execution_count": null,
   "outputs": [],
   "source": [
    "# Export the dataframe as a CSV file\n",
    "identifierTypesByInstallationDf.to_csv('identifierTypesByInstallation.csv', index=False)\n"
   ],
   "metadata": {
    "collapsed": false,
    "pycharm": {
     "name": "#%%\n"
    }
   }
  },
  {
   "cell_type": "code",
   "execution_count": 29,
   "outputs": [
    {
     "ename": "SyntaxError",
     "evalue": "Python keyword not valid identifier in numexpr query (<unknown>, line 1)",
     "output_type": "error",
     "traceback": [
      "Traceback \u001B[0;36m(most recent call last)\u001B[0m:\n",
      "  File \u001B[1;32m\"/usr/local/lib/python3.9/site-packages/IPython/core/interactiveshell.py\"\u001B[0m, line \u001B[1;32m3444\u001B[0m, in \u001B[1;35mrun_code\u001B[0m\n    exec(code_obj, self.user_global_ns, self.user_ns)\n",
      "  File \u001B[1;32m\"/var/folders/t7/6b3g2zgx3cz_2rfy3pmdtnch0000gq/T/ipykernel_7579/1012176093.py\"\u001B[0m, line \u001B[1;32m3\u001B[0m, in \u001B[1;35m<module>\u001B[0m\n    authorsWithPartialIdentifiersDf\n",
      "  File \u001B[1;32m\"/usr/local/lib/python3.9/site-packages/pandas/core/frame.py\"\u001B[0m, line \u001B[1;32m4060\u001B[0m, in \u001B[1;35mquery\u001B[0m\n    res = self.eval(expr, **kwargs)\n",
      "  File \u001B[1;32m\"/usr/local/lib/python3.9/site-packages/pandas/core/frame.py\"\u001B[0m, line \u001B[1;32m4191\u001B[0m, in \u001B[1;35meval\u001B[0m\n    return _eval(expr, inplace=inplace, **kwargs)\n",
      "  File \u001B[1;32m\"/usr/local/lib/python3.9/site-packages/pandas/core/computation/eval.py\"\u001B[0m, line \u001B[1;32m348\u001B[0m, in \u001B[1;35meval\u001B[0m\n    parsed_expr = Expr(expr, engine=engine, parser=parser, env=env)\n",
      "  File \u001B[1;32m\"/usr/local/lib/python3.9/site-packages/pandas/core/computation/expr.py\"\u001B[0m, line \u001B[1;32m806\u001B[0m, in \u001B[1;35m__init__\u001B[0m\n    self.terms = self.parse()\n",
      "  File \u001B[1;32m\"/usr/local/lib/python3.9/site-packages/pandas/core/computation/expr.py\"\u001B[0m, line \u001B[1;32m825\u001B[0m, in \u001B[1;35mparse\u001B[0m\n    return self._visitor.visit(self.expr)\n",
      "  File \u001B[1;32m\"/usr/local/lib/python3.9/site-packages/pandas/core/computation/expr.py\"\u001B[0m, line \u001B[1;32m411\u001B[0m, in \u001B[1;35mvisit\u001B[0m\n    return visitor(node, **kwargs)\n",
      "  File \u001B[1;32m\"/usr/local/lib/python3.9/site-packages/pandas/core/computation/expr.py\"\u001B[0m, line \u001B[1;32m417\u001B[0m, in \u001B[1;35mvisit_Module\u001B[0m\n    return self.visit(expr, **kwargs)\n",
      "  File \u001B[1;32m\"/usr/local/lib/python3.9/site-packages/pandas/core/computation/expr.py\"\u001B[0m, line \u001B[1;32m411\u001B[0m, in \u001B[1;35mvisit\u001B[0m\n    return visitor(node, **kwargs)\n",
      "  File \u001B[1;32m\"/usr/local/lib/python3.9/site-packages/pandas/core/computation/expr.py\"\u001B[0m, line \u001B[1;32m420\u001B[0m, in \u001B[1;35mvisit_Expr\u001B[0m\n    return self.visit(node.value, **kwargs)\n",
      "  File \u001B[1;32m\"/usr/local/lib/python3.9/site-packages/pandas/core/computation/expr.py\"\u001B[0m, line \u001B[1;32m411\u001B[0m, in \u001B[1;35mvisit\u001B[0m\n    return visitor(node, **kwargs)\n",
      "  File \u001B[1;32m\"/usr/local/lib/python3.9/site-packages/pandas/core/computation/expr.py\"\u001B[0m, line \u001B[1;32m745\u001B[0m, in \u001B[1;35mvisit_BoolOp\u001B[0m\n    return reduce(visitor, operands)\n",
      "  File \u001B[1;32m\"/usr/local/lib/python3.9/site-packages/pandas/core/computation/expr.py\"\u001B[0m, line \u001B[1;32m742\u001B[0m, in \u001B[1;35mvisitor\u001B[0m\n    return self._maybe_evaluate_binop(op, node.op, lhs, rhs)\n",
      "  File \u001B[1;32m\"/usr/local/lib/python3.9/site-packages/pandas/core/computation/expr.py\"\u001B[0m, line \u001B[1;32m528\u001B[0m, in \u001B[1;35m_maybe_evaluate_binop\u001B[0m\n    return self._maybe_eval(res, eval_in_python + maybe_eval_in_python)\n",
      "  File \u001B[1;32m\"/usr/local/lib/python3.9/site-packages/pandas/core/computation/expr.py\"\u001B[0m, line \u001B[1;32m488\u001B[0m, in \u001B[1;35m_maybe_eval\u001B[0m\n    return binop.evaluate(\n",
      "  File \u001B[1;32m\"/usr/local/lib/python3.9/site-packages/pandas/core/computation/ops.py\"\u001B[0m, line \u001B[1;32m459\u001B[0m, in \u001B[1;35mevaluate\u001B[0m\n    res = eval(self, local_dict=env, engine=engine, parser=parser)\n",
      "  File \u001B[1;32m\"/usr/local/lib/python3.9/site-packages/pandas/core/computation/eval.py\"\u001B[0m, line \u001B[1;32m348\u001B[0m, in \u001B[1;35meval\u001B[0m\n    parsed_expr = Expr(expr, engine=engine, parser=parser, env=env)\n",
      "  File \u001B[1;32m\"/usr/local/lib/python3.9/site-packages/pandas/core/computation/expr.py\"\u001B[0m, line \u001B[1;32m806\u001B[0m, in \u001B[1;35m__init__\u001B[0m\n    self.terms = self.parse()\n",
      "  File \u001B[1;32m\"/usr/local/lib/python3.9/site-packages/pandas/core/computation/expr.py\"\u001B[0m, line \u001B[1;32m825\u001B[0m, in \u001B[1;35mparse\u001B[0m\n    return self._visitor.visit(self.expr)\n",
      "  File \u001B[1;32m\"/usr/local/lib/python3.9/site-packages/pandas/core/computation/expr.py\"\u001B[0m, line \u001B[1;32m407\u001B[0m, in \u001B[1;35mvisit\u001B[0m\n    raise e\n",
      "  File \u001B[1;32m\"/usr/local/lib/python3.9/site-packages/pandas/core/computation/expr.py\"\u001B[0m, line \u001B[1;32m403\u001B[0m, in \u001B[1;35mvisit\u001B[0m\n    node = ast.fix_missing_locations(ast.parse(clean))\n",
      "\u001B[0;36m  File \u001B[0;32m\"/usr/local/Cellar/python@3.9/3.9.18/Frameworks/Python.framework/Versions/3.9/lib/python3.9/ast.py\"\u001B[0;36m, line \u001B[0;32m50\u001B[0;36m, in \u001B[0;35mparse\u001B[0;36m\u001B[0m\n\u001B[0;31m    return compile(source, filename, mode, flags,\u001B[0m\n",
      "\u001B[0;36m  File \u001B[0;32m\"<unknown>\"\u001B[0;36m, line \u001B[0;32m1\u001B[0m\n\u001B[0;31m    (0 False\u001B[0m\n\u001B[0m       ^\u001B[0m\n\u001B[0;31mSyntaxError\u001B[0m\u001B[0;31m:\u001B[0m Python keyword not valid identifier in numexpr query\n"
     ]
    }
   ],
   "source": [
    "# How much author metadata are missing identifier types but may be ORCIDs\n",
    "authorMetadataWithPossibleORCIDs = (\n",
    "    authorsWithPartialIdentifiersDf\n",
    "        .query(\n",
    "            'authorIdentifier.str.contains(\"orcid.org\") and\\\n",
    "            authorIdentifierScheme != authorIdentifierScheme')\n",
    "        .reset_index(drop=True, inplace=False)\n",
    ")\n",
    "\n",
    "# .query(\n",
    "#     'authorIdentifier.str.contains(\"orcid.org\") and\\\n",
    "#     authorIdentifierScheme != authorIdentifierScheme')\n",
    "\n",
    "authorMetadataWithPossibleORCIDs.head()"
   ],
   "metadata": {
    "collapsed": false,
    "pycharm": {
     "name": "#%%\n"
    }
   }
  },
  {
   "cell_type": "code",
   "execution_count": 30,
   "outputs": [
    {
     "data": {
      "text/plain": "  dataverse_installation_name                     dataset_pid_url  \\\n0           Harvard_Dataverse  https://doi.org/10.7910/DVN/NEF7ZD   \n1           Harvard_Dataverse  https://doi.org/10.7910/DVN/O94VWV   \n2           Harvard_Dataverse  https://doi.org/10.7910/DVN/9XLF4O   \n3           Harvard_Dataverse  https://doi.org/10.7910/DVN/L5O0XS   \n4           Harvard_Dataverse  https://doi.org/10.7910/DVN/OCYAPW   \n\n  dataverse_collection_alias  \\\n0        ABDAssessments_Mali   \n1  AD_EMWaterSupersaturation   \n2    AQ_BangladeshandNigeria   \n3             ActiveTrachoma   \n4        AffectiveRatingData   \n\n                           dataverse_collection_name  \\\n0                   ABD Assessments - Mali Dataverse   \n1                          Antony Delavois Dataverse   \n2  Aquaculture: increasing income, diversifying d...   \n3                            Dedefo Gebre Repository   \n4                              Affective Rating Data   \n\n  dataverse_collection_type dataset_publication_date            authorName  \\\n0         RESEARCH_PROJECTS               2016-12-01           Vodouhe, R.   \n1         RESEARCH_PROJECTS               2022-06-07      Delavois, Antony   \n2         RESEARCH_PROJECTS               2020-07-10      Cheong,Kai Ching   \n3         RESEARCH_PROJECTS               2022-07-20         Gebre, Dedefo   \n4         RESEARCH_PROJECTS               2018-05-02  Tchernichovski, Ofer   \n\n  authorIdentifierScheme          authorIdentifier  \n0                    NaN  Bioversity International  \n1                  ORCID                       NaN  \n2                    NaN       0000-0002-8115-417X  \n3                  ORCID                       NaN  \n4                  ORCID                       NaN  ",
      "text/html": "<div><div id=fb2ad119-51aa-49ee-9096-aeb4d2dce2ea style=\"display:none; background-color:#9D6CFF; color:white; width:200px; height:30px; padding-left:5px; border-radius:4px; flex-direction:row; justify-content:space-around; align-items:center;\" onmouseover=\"this.style.backgroundColor='#BA9BF8'\" onmouseout=\"this.style.backgroundColor='#9D6CFF'\" onclick=\"window.commands?.execute('create-mitosheet-from-dataframe-output');\">See Full Dataframe in Mito</div> <script> if (window.commands.hasCommand('create-mitosheet-from-dataframe-output')) document.getElementById('fb2ad119-51aa-49ee-9096-aeb4d2dce2ea').style.display = 'flex' </script> <table border=\"1\" class=\"dataframe\">\n  <thead>\n    <tr style=\"text-align: right;\">\n      <th></th>\n      <th>dataverse_installation_name</th>\n      <th>dataset_pid_url</th>\n      <th>dataverse_collection_alias</th>\n      <th>dataverse_collection_name</th>\n      <th>dataverse_collection_type</th>\n      <th>dataset_publication_date</th>\n      <th>authorName</th>\n      <th>authorIdentifierScheme</th>\n      <th>authorIdentifier</th>\n    </tr>\n  </thead>\n  <tbody>\n    <tr>\n      <th>0</th>\n      <td>Harvard_Dataverse</td>\n      <td>https://doi.org/10.7910/DVN/NEF7ZD</td>\n      <td>ABDAssessments_Mali</td>\n      <td>ABD Assessments - Mali Dataverse</td>\n      <td>RESEARCH_PROJECTS</td>\n      <td>2016-12-01</td>\n      <td>Vodouhe, R.</td>\n      <td>NaN</td>\n      <td>Bioversity International</td>\n    </tr>\n    <tr>\n      <th>1</th>\n      <td>Harvard_Dataverse</td>\n      <td>https://doi.org/10.7910/DVN/O94VWV</td>\n      <td>AD_EMWaterSupersaturation</td>\n      <td>Antony Delavois Dataverse</td>\n      <td>RESEARCH_PROJECTS</td>\n      <td>2022-06-07</td>\n      <td>Delavois, Antony</td>\n      <td>ORCID</td>\n      <td>NaN</td>\n    </tr>\n    <tr>\n      <th>2</th>\n      <td>Harvard_Dataverse</td>\n      <td>https://doi.org/10.7910/DVN/9XLF4O</td>\n      <td>AQ_BangladeshandNigeria</td>\n      <td>Aquaculture: increasing income, diversifying diets, and empowering women in Bangladesh and Nigeria</td>\n      <td>RESEARCH_PROJECTS</td>\n      <td>2020-07-10</td>\n      <td>Cheong,Kai Ching</td>\n      <td>NaN</td>\n      <td>0000-0002-8115-417X</td>\n    </tr>\n    <tr>\n      <th>3</th>\n      <td>Harvard_Dataverse</td>\n      <td>https://doi.org/10.7910/DVN/L5O0XS</td>\n      <td>ActiveTrachoma</td>\n      <td>Dedefo Gebre Repository</td>\n      <td>RESEARCH_PROJECTS</td>\n      <td>2022-07-20</td>\n      <td>Gebre, Dedefo</td>\n      <td>ORCID</td>\n      <td>NaN</td>\n    </tr>\n    <tr>\n      <th>4</th>\n      <td>Harvard_Dataverse</td>\n      <td>https://doi.org/10.7910/DVN/OCYAPW</td>\n      <td>AffectiveRatingData</td>\n      <td>Affective Rating Data</td>\n      <td>RESEARCH_PROJECTS</td>\n      <td>2018-05-02</td>\n      <td>Tchernichovski, Ofer</td>\n      <td>ORCID</td>\n      <td>NaN</td>\n    </tr>\n  </tbody>\n</table></div>"
     },
     "execution_count": 30,
     "metadata": {},
     "output_type": "execute_result"
    }
   ],
   "source": [
    "authorsWithPartialIdentifiersDf.head()"
   ],
   "metadata": {
    "collapsed": false,
    "pycharm": {
     "name": "#%%\n"
    }
   }
  },
  {
   "cell_type": "code",
   "execution_count": null,
   "outputs": [],
   "source": [],
   "metadata": {
    "collapsed": false,
    "pycharm": {
     "name": "#%%\n"
    }
   }
  }
 ],
 "metadata": {
  "kernelspec": {
   "display_name": "Python 3",
   "language": "python",
   "name": "python3"
  },
  "language_info": {
   "codemirror_mode": {
    "name": "ipython",
    "version": 2
   },
   "file_extension": ".py",
   "mimetype": "text/x-python",
   "name": "python",
   "nbconvert_exporter": "python",
   "pygments_lexer": "ipython2",
   "version": "2.7.6"
  }
 },
 "nbformat": 4,
 "nbformat_minor": 0
}