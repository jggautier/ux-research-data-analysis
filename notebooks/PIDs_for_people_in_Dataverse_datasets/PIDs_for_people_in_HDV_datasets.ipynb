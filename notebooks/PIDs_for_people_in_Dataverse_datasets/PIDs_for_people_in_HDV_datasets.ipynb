{
 "cells": [
  {
   "cell_type": "code",
   "execution_count": 1,
   "metadata": {
    "collapsed": true
   },
   "outputs": [
    {
     "data": {
      "application/javascript": "\n(function(root) {\n  function now() {\n    return new Date();\n  }\n\n  var force = true;\n\n  if (typeof root._bokeh_onload_callbacks === \"undefined\" || force === true) {\n    root._bokeh_onload_callbacks = [];\n    root._bokeh_is_loading = undefined;\n  }\n\n  if (typeof (root._bokeh_timeout) === \"undefined\" || force === true) {\n    root._bokeh_timeout = Date.now() + 5000;\n    root._bokeh_failed_load = false;\n  }\n\n  function run_callbacks() {\n    try {\n      root._bokeh_onload_callbacks.forEach(function(callback) {\n        if (callback != null)\n          callback();\n      });\n    } finally {\n      delete root._bokeh_onload_callbacks\n    }\n    console.debug(\"Bokeh: all callbacks have finished\");\n  }\n\n  function load_libs(css_urls, js_urls, js_modules, callback) {\n    if (css_urls == null) css_urls = [];\n    if (js_urls == null) js_urls = [];\n    if (js_modules == null) js_modules = [];\n\n    root._bokeh_onload_callbacks.push(callback);\n    if (root._bokeh_is_loading > 0) {\n      console.debug(\"Bokeh: BokehJS is being loaded, scheduling callback at\", now());\n      return null;\n    }\n    if (js_urls.length === 0 && js_modules.length === 0) {\n      run_callbacks();\n      return null;\n    }\n    console.debug(\"Bokeh: BokehJS not loaded, scheduling load and callback at\", now());\n\n    function on_load() {\n      root._bokeh_is_loading--;\n      if (root._bokeh_is_loading === 0) {\n        console.debug(\"Bokeh: all BokehJS libraries/stylesheets loaded\");\n        run_callbacks()\n      }\n    }\n\n    function on_error() {\n      console.error(\"failed to load \" + url);\n    }\n\n    for (var i = 0; i < css_urls.length; i++) {\n      var url = css_urls[i];\n      const element = document.createElement(\"link\");\n      element.onload = on_load;\n      element.onerror = on_error;\n      element.rel = \"stylesheet\";\n      element.type = \"text/css\";\n      element.href = url;\n      console.debug(\"Bokeh: injecting link tag for BokehJS stylesheet: \", url);\n      document.body.appendChild(element);\n    }\n\n    var skip = [];\n    if (window.requirejs) {\n      window.requirejs.config({'packages': {}, 'paths': {}, 'shim': {}});\n      \n      root._bokeh_is_loading = css_urls.length + 0;\n    } else {\n      root._bokeh_is_loading = css_urls.length + js_urls.length + js_modules.length;\n    }\n    for (var i = 0; i < js_urls.length; i++) {\n      var url = js_urls[i];\n      if (skip.indexOf(url) >= 0) {\n\tif (!window.requirejs) {\n\t  on_load();\n\t}\n\tcontinue;\n      }\n      var element = document.createElement('script');\n      element.onload = on_load;\n      element.onerror = on_error;\n      element.async = false;\n      element.src = url;\n      console.debug(\"Bokeh: injecting script tag for BokehJS library: \", url);\n      document.head.appendChild(element);\n    }\n    for (var i = 0; i < js_modules.length; i++) {\n      var url = js_modules[i];\n      if (skip.indexOf(url) >= 0) {\n\tif (!window.requirejs) {\n\t  on_load();\n\t}\n\tcontinue;\n      }\n      var element = document.createElement('script');\n      element.onload = on_load;\n      element.onerror = on_error;\n      element.async = false;\n      element.src = url;\n      element.type = \"module\";\n      console.debug(\"Bokeh: injecting script tag for BokehJS library: \", url);\n      document.head.appendChild(element);\n    }\n    if (!js_urls.length && !js_modules.length) {\n      on_load()\n    }\n  };\n\n  function inject_raw_css(css) {\n    const element = document.createElement(\"style\");\n    element.appendChild(document.createTextNode(css));\n    document.body.appendChild(element);\n  }\n\n  var js_urls = [\"https://cdn.bokeh.org/bokeh/release/bokeh-2.4.2.min.js\", \"https://cdn.bokeh.org/bokeh/release/bokeh-gl-2.4.2.min.js\", \"https://cdn.bokeh.org/bokeh/release/bokeh-widgets-2.4.2.min.js\", \"https://cdn.bokeh.org/bokeh/release/bokeh-tables-2.4.2.min.js\", \"https://cdn.bokeh.org/bokeh/release/bokeh-mathjax-2.4.2.min.js\", \"https://unpkg.com/@holoviz/panel@0.12.6/dist/panel.min.js\"];\n  var js_modules = [];\n  var css_urls = [\"https://unpkg.com/@holoviz/panel@0.12.6/dist/css/alerts.css\", \"https://unpkg.com/@holoviz/panel@0.12.6/dist/css/card.css\", \"https://unpkg.com/@holoviz/panel@0.12.6/dist/css/widgets.css\", \"https://unpkg.com/@holoviz/panel@0.12.6/dist/css/markdown.css\", \"https://unpkg.com/@holoviz/panel@0.12.6/dist/css/json.css\", \"https://unpkg.com/@holoviz/panel@0.12.6/dist/css/loading.css\", \"https://unpkg.com/@holoviz/panel@0.12.6/dist/css/dataframe.css\"];\n  var inline_js = [\n    function(Bokeh) {\n      inject_raw_css(\"\\n    .bk.pn-loading.arcs:before {\\n      background-image: url(\\\"data:image/svg+xml;base64,PHN2ZyB4bWxucz0iaHR0cDovL3d3dy53My5vcmcvMjAwMC9zdmciIHhtbG5zOnhsaW5rPSJodHRwOi8vd3d3LnczLm9yZy8xOTk5L3hsaW5rIiBzdHlsZT0ibWFyZ2luOiBhdXRvOyBiYWNrZ3JvdW5kOiBub25lOyBkaXNwbGF5OiBibG9jazsgc2hhcGUtcmVuZGVyaW5nOiBhdXRvOyIgdmlld0JveD0iMCAwIDEwMCAxMDAiIHByZXNlcnZlQXNwZWN0UmF0aW89InhNaWRZTWlkIj4gIDxjaXJjbGUgY3g9IjUwIiBjeT0iNTAiIHI9IjMyIiBzdHJva2Utd2lkdGg9IjgiIHN0cm9rZT0iI2MzYzNjMyIgc3Ryb2tlLWRhc2hhcnJheT0iNTAuMjY1NDgyNDU3NDM2NjkgNTAuMjY1NDgyNDU3NDM2NjkiIGZpbGw9Im5vbmUiIHN0cm9rZS1saW5lY2FwPSJyb3VuZCI+ICAgIDxhbmltYXRlVHJhbnNmb3JtIGF0dHJpYnV0ZU5hbWU9InRyYW5zZm9ybSIgdHlwZT0icm90YXRlIiByZXBlYXRDb3VudD0iaW5kZWZpbml0ZSIgZHVyPSIxcyIga2V5VGltZXM9IjA7MSIgdmFsdWVzPSIwIDUwIDUwOzM2MCA1MCA1MCI+PC9hbmltYXRlVHJhbnNmb3JtPiAgPC9jaXJjbGU+PC9zdmc+\\\");\\n      max-height: 400px;\\n    }\\n    \");\n    },\n    function(Bokeh) {\n      Bokeh.set_log_level(\"info\");\n    },\n    function(Bokeh) {} // ensure no trailing comma for IE\n  ];\n\n  function run_inline_js() {\n    if ((root.Bokeh !== undefined) || (force === true)) {\n      for (var i = 0; i < inline_js.length; i++) {\n        inline_js[i].call(root, root.Bokeh);\n      }} else if (Date.now() < root._bokeh_timeout) {\n      setTimeout(run_inline_js, 100);\n    } else if (!root._bokeh_failed_load) {\n      console.log(\"Bokeh: BokehJS failed to load within specified timeout.\");\n      root._bokeh_failed_load = true;\n    }\n  }\n\n  if (root._bokeh_is_loading === 0) {\n    console.debug(\"Bokeh: BokehJS loaded, going straight to plotting\");\n    run_inline_js();\n  } else {\n    load_libs(css_urls, js_urls, js_modules, function() {\n      console.debug(\"Bokeh: BokehJS plotting callback run at\", now());\n      run_inline_js();\n    });\n  }\n}(window));",
      "application/vnd.holoviews_load.v0+json": "\n(function(root) {\n  function now() {\n    return new Date();\n  }\n\n  var force = true;\n\n  if (typeof root._bokeh_onload_callbacks === \"undefined\" || force === true) {\n    root._bokeh_onload_callbacks = [];\n    root._bokeh_is_loading = undefined;\n  }\n\n  if (typeof (root._bokeh_timeout) === \"undefined\" || force === true) {\n    root._bokeh_timeout = Date.now() + 5000;\n    root._bokeh_failed_load = false;\n  }\n\n  function run_callbacks() {\n    try {\n      root._bokeh_onload_callbacks.forEach(function(callback) {\n        if (callback != null)\n          callback();\n      });\n    } finally {\n      delete root._bokeh_onload_callbacks\n    }\n    console.debug(\"Bokeh: all callbacks have finished\");\n  }\n\n  function load_libs(css_urls, js_urls, js_modules, callback) {\n    if (css_urls == null) css_urls = [];\n    if (js_urls == null) js_urls = [];\n    if (js_modules == null) js_modules = [];\n\n    root._bokeh_onload_callbacks.push(callback);\n    if (root._bokeh_is_loading > 0) {\n      console.debug(\"Bokeh: BokehJS is being loaded, scheduling callback at\", now());\n      return null;\n    }\n    if (js_urls.length === 0 && js_modules.length === 0) {\n      run_callbacks();\n      return null;\n    }\n    console.debug(\"Bokeh: BokehJS not loaded, scheduling load and callback at\", now());\n\n    function on_load() {\n      root._bokeh_is_loading--;\n      if (root._bokeh_is_loading === 0) {\n        console.debug(\"Bokeh: all BokehJS libraries/stylesheets loaded\");\n        run_callbacks()\n      }\n    }\n\n    function on_error() {\n      console.error(\"failed to load \" + url);\n    }\n\n    for (var i = 0; i < css_urls.length; i++) {\n      var url = css_urls[i];\n      const element = document.createElement(\"link\");\n      element.onload = on_load;\n      element.onerror = on_error;\n      element.rel = \"stylesheet\";\n      element.type = \"text/css\";\n      element.href = url;\n      console.debug(\"Bokeh: injecting link tag for BokehJS stylesheet: \", url);\n      document.body.appendChild(element);\n    }\n\n    var skip = [];\n    if (window.requirejs) {\n      window.requirejs.config({'packages': {}, 'paths': {}, 'shim': {}});\n      \n      root._bokeh_is_loading = css_urls.length + 0;\n    } else {\n      root._bokeh_is_loading = css_urls.length + js_urls.length + js_modules.length;\n    }\n    for (var i = 0; i < js_urls.length; i++) {\n      var url = js_urls[i];\n      if (skip.indexOf(url) >= 0) {\n\tif (!window.requirejs) {\n\t  on_load();\n\t}\n\tcontinue;\n      }\n      var element = document.createElement('script');\n      element.onload = on_load;\n      element.onerror = on_error;\n      element.async = false;\n      element.src = url;\n      console.debug(\"Bokeh: injecting script tag for BokehJS library: \", url);\n      document.head.appendChild(element);\n    }\n    for (var i = 0; i < js_modules.length; i++) {\n      var url = js_modules[i];\n      if (skip.indexOf(url) >= 0) {\n\tif (!window.requirejs) {\n\t  on_load();\n\t}\n\tcontinue;\n      }\n      var element = document.createElement('script');\n      element.onload = on_load;\n      element.onerror = on_error;\n      element.async = false;\n      element.src = url;\n      element.type = \"module\";\n      console.debug(\"Bokeh: injecting script tag for BokehJS library: \", url);\n      document.head.appendChild(element);\n    }\n    if (!js_urls.length && !js_modules.length) {\n      on_load()\n    }\n  };\n\n  function inject_raw_css(css) {\n    const element = document.createElement(\"style\");\n    element.appendChild(document.createTextNode(css));\n    document.body.appendChild(element);\n  }\n\n  var js_urls = [\"https://cdn.bokeh.org/bokeh/release/bokeh-2.4.2.min.js\", \"https://cdn.bokeh.org/bokeh/release/bokeh-gl-2.4.2.min.js\", \"https://cdn.bokeh.org/bokeh/release/bokeh-widgets-2.4.2.min.js\", \"https://cdn.bokeh.org/bokeh/release/bokeh-tables-2.4.2.min.js\", \"https://cdn.bokeh.org/bokeh/release/bokeh-mathjax-2.4.2.min.js\", \"https://unpkg.com/@holoviz/panel@0.12.6/dist/panel.min.js\"];\n  var js_modules = [];\n  var css_urls = [\"https://unpkg.com/@holoviz/panel@0.12.6/dist/css/alerts.css\", \"https://unpkg.com/@holoviz/panel@0.12.6/dist/css/card.css\", \"https://unpkg.com/@holoviz/panel@0.12.6/dist/css/widgets.css\", \"https://unpkg.com/@holoviz/panel@0.12.6/dist/css/markdown.css\", \"https://unpkg.com/@holoviz/panel@0.12.6/dist/css/json.css\", \"https://unpkg.com/@holoviz/panel@0.12.6/dist/css/loading.css\", \"https://unpkg.com/@holoviz/panel@0.12.6/dist/css/dataframe.css\"];\n  var inline_js = [\n    function(Bokeh) {\n      inject_raw_css(\"\\n    .bk.pn-loading.arcs:before {\\n      background-image: url(\\\"data:image/svg+xml;base64,PHN2ZyB4bWxucz0iaHR0cDovL3d3dy53My5vcmcvMjAwMC9zdmciIHhtbG5zOnhsaW5rPSJodHRwOi8vd3d3LnczLm9yZy8xOTk5L3hsaW5rIiBzdHlsZT0ibWFyZ2luOiBhdXRvOyBiYWNrZ3JvdW5kOiBub25lOyBkaXNwbGF5OiBibG9jazsgc2hhcGUtcmVuZGVyaW5nOiBhdXRvOyIgdmlld0JveD0iMCAwIDEwMCAxMDAiIHByZXNlcnZlQXNwZWN0UmF0aW89InhNaWRZTWlkIj4gIDxjaXJjbGUgY3g9IjUwIiBjeT0iNTAiIHI9IjMyIiBzdHJva2Utd2lkdGg9IjgiIHN0cm9rZT0iI2MzYzNjMyIgc3Ryb2tlLWRhc2hhcnJheT0iNTAuMjY1NDgyNDU3NDM2NjkgNTAuMjY1NDgyNDU3NDM2NjkiIGZpbGw9Im5vbmUiIHN0cm9rZS1saW5lY2FwPSJyb3VuZCI+ICAgIDxhbmltYXRlVHJhbnNmb3JtIGF0dHJpYnV0ZU5hbWU9InRyYW5zZm9ybSIgdHlwZT0icm90YXRlIiByZXBlYXRDb3VudD0iaW5kZWZpbml0ZSIgZHVyPSIxcyIga2V5VGltZXM9IjA7MSIgdmFsdWVzPSIwIDUwIDUwOzM2MCA1MCA1MCI+PC9hbmltYXRlVHJhbnNmb3JtPiAgPC9jaXJjbGU+PC9zdmc+\\\");\\n      max-height: 400px;\\n    }\\n    \");\n    },\n    function(Bokeh) {\n      Bokeh.set_log_level(\"info\");\n    },\n    function(Bokeh) {} // ensure no trailing comma for IE\n  ];\n\n  function run_inline_js() {\n    if ((root.Bokeh !== undefined) || (force === true)) {\n      for (var i = 0; i < inline_js.length; i++) {\n        inline_js[i].call(root, root.Bokeh);\n      }} else if (Date.now() < root._bokeh_timeout) {\n      setTimeout(run_inline_js, 100);\n    } else if (!root._bokeh_failed_load) {\n      console.log(\"Bokeh: BokehJS failed to load within specified timeout.\");\n      root._bokeh_failed_load = true;\n    }\n  }\n\n  if (root._bokeh_is_loading === 0) {\n    console.debug(\"Bokeh: BokehJS loaded, going straight to plotting\");\n    run_inline_js();\n  } else {\n    load_libs(css_urls, js_urls, js_modules, function() {\n      console.debug(\"Bokeh: BokehJS plotting callback run at\", now());\n      run_inline_js();\n    });\n  }\n}(window));"
     },
     "metadata": {},
     "output_type": "display_data"
    },
    {
     "data": {
      "application/vnd.holoviews_load.v0+json": "\nif ((window.PyViz === undefined) || (window.PyViz instanceof HTMLElement)) {\n  window.PyViz = {comms: {}, comm_status:{}, kernels:{}, receivers: {}, plot_index: []}\n}\n\n\n    function JupyterCommManager() {\n    }\n\n    JupyterCommManager.prototype.register_target = function(plot_id, comm_id, msg_handler) {\n      if (window.comm_manager || ((window.Jupyter !== undefined) && (Jupyter.notebook.kernel != null))) {\n        var comm_manager = window.comm_manager || Jupyter.notebook.kernel.comm_manager;\n        comm_manager.register_target(comm_id, function(comm) {\n          comm.on_msg(msg_handler);\n        });\n      } else if ((plot_id in window.PyViz.kernels) && (window.PyViz.kernels[plot_id])) {\n        window.PyViz.kernels[plot_id].registerCommTarget(comm_id, function(comm) {\n          comm.onMsg = msg_handler;\n        });\n      } else if (typeof google != 'undefined' && google.colab.kernel != null) {\n        google.colab.kernel.comms.registerTarget(comm_id, (comm) => {\n          var messages = comm.messages[Symbol.asyncIterator]();\n          function processIteratorResult(result) {\n            var message = result.value;\n            console.log(message)\n            var content = {data: message.data, comm_id};\n            var buffers = []\n            for (var buffer of message.buffers || []) {\n              buffers.push(new DataView(buffer))\n            }\n            var metadata = message.metadata || {};\n            var msg = {content, buffers, metadata}\n            msg_handler(msg);\n            return messages.next().then(processIteratorResult);\n          }\n          return messages.next().then(processIteratorResult);\n        })\n      }\n    }\n\n    JupyterCommManager.prototype.get_client_comm = function(plot_id, comm_id, msg_handler) {\n      if (comm_id in window.PyViz.comms) {\n        return window.PyViz.comms[comm_id];\n      } else if (window.comm_manager || ((window.Jupyter !== undefined) && (Jupyter.notebook.kernel != null))) {\n        var comm_manager = window.comm_manager || Jupyter.notebook.kernel.comm_manager;\n        var comm = comm_manager.new_comm(comm_id, {}, {}, {}, comm_id);\n        if (msg_handler) {\n          comm.on_msg(msg_handler);\n        }\n      } else if ((plot_id in window.PyViz.kernels) && (window.PyViz.kernels[plot_id])) {\n        var comm = window.PyViz.kernels[plot_id].connectToComm(comm_id);\n        comm.open();\n        if (msg_handler) {\n          comm.onMsg = msg_handler;\n        }\n      } else if (typeof google != 'undefined' && google.colab.kernel != null) {\n        var comm_promise = google.colab.kernel.comms.open(comm_id)\n        comm_promise.then((comm) => {\n          window.PyViz.comms[comm_id] = comm;\n          if (msg_handler) {\n            var messages = comm.messages[Symbol.asyncIterator]();\n            function processIteratorResult(result) {\n              var message = result.value;\n              var content = {data: message.data};\n              var metadata = message.metadata || {comm_id};\n              var msg = {content, metadata}\n              msg_handler(msg);\n              return messages.next().then(processIteratorResult);\n            }\n            return messages.next().then(processIteratorResult);\n          }\n        }) \n        var sendClosure = (data, metadata, buffers, disposeOnDone) => {\n          return comm_promise.then((comm) => {\n            comm.send(data, metadata, buffers, disposeOnDone);\n          });\n        };\n        var comm = {\n          send: sendClosure\n        };\n      }\n      window.PyViz.comms[comm_id] = comm;\n      return comm;\n    }\n    window.PyViz.comm_manager = new JupyterCommManager();\n    \n\n\nvar JS_MIME_TYPE = 'application/javascript';\nvar HTML_MIME_TYPE = 'text/html';\nvar EXEC_MIME_TYPE = 'application/vnd.holoviews_exec.v0+json';\nvar CLASS_NAME = 'output';\n\n/**\n * Render data to the DOM node\n */\nfunction render(props, node) {\n  var div = document.createElement(\"div\");\n  var script = document.createElement(\"script\");\n  node.appendChild(div);\n  node.appendChild(script);\n}\n\n/**\n * Handle when a new output is added\n */\nfunction handle_add_output(event, handle) {\n  var output_area = handle.output_area;\n  var output = handle.output;\n  if ((output.data == undefined) || (!output.data.hasOwnProperty(EXEC_MIME_TYPE))) {\n    return\n  }\n  var id = output.metadata[EXEC_MIME_TYPE][\"id\"];\n  var toinsert = output_area.element.find(\".\" + CLASS_NAME.split(' ')[0]);\n  if (id !== undefined) {\n    var nchildren = toinsert.length;\n    var html_node = toinsert[nchildren-1].children[0];\n    html_node.innerHTML = output.data[HTML_MIME_TYPE];\n    var scripts = [];\n    var nodelist = html_node.querySelectorAll(\"script\");\n    for (var i in nodelist) {\n      if (nodelist.hasOwnProperty(i)) {\n        scripts.push(nodelist[i])\n      }\n    }\n\n    scripts.forEach( function (oldScript) {\n      var newScript = document.createElement(\"script\");\n      var attrs = [];\n      var nodemap = oldScript.attributes;\n      for (var j in nodemap) {\n        if (nodemap.hasOwnProperty(j)) {\n          attrs.push(nodemap[j])\n        }\n      }\n      attrs.forEach(function(attr) { newScript.setAttribute(attr.name, attr.value) });\n      newScript.appendChild(document.createTextNode(oldScript.innerHTML));\n      oldScript.parentNode.replaceChild(newScript, oldScript);\n    });\n    if (JS_MIME_TYPE in output.data) {\n      toinsert[nchildren-1].children[1].textContent = output.data[JS_MIME_TYPE];\n    }\n    output_area._hv_plot_id = id;\n    if ((window.Bokeh !== undefined) && (id in Bokeh.index)) {\n      window.PyViz.plot_index[id] = Bokeh.index[id];\n    } else {\n      window.PyViz.plot_index[id] = null;\n    }\n  } else if (output.metadata[EXEC_MIME_TYPE][\"server_id\"] !== undefined) {\n    var bk_div = document.createElement(\"div\");\n    bk_div.innerHTML = output.data[HTML_MIME_TYPE];\n    var script_attrs = bk_div.children[0].attributes;\n    for (var i = 0; i < script_attrs.length; i++) {\n      toinsert[toinsert.length - 1].childNodes[1].setAttribute(script_attrs[i].name, script_attrs[i].value);\n    }\n    // store reference to server id on output_area\n    output_area._bokeh_server_id = output.metadata[EXEC_MIME_TYPE][\"server_id\"];\n  }\n}\n\n/**\n * Handle when an output is cleared or removed\n */\nfunction handle_clear_output(event, handle) {\n  var id = handle.cell.output_area._hv_plot_id;\n  var server_id = handle.cell.output_area._bokeh_server_id;\n  if (((id === undefined) || !(id in PyViz.plot_index)) && (server_id !== undefined)) { return; }\n  var comm = window.PyViz.comm_manager.get_client_comm(\"hv-extension-comm\", \"hv-extension-comm\", function () {});\n  if (server_id !== null) {\n    comm.send({event_type: 'server_delete', 'id': server_id});\n    return;\n  } else if (comm !== null) {\n    comm.send({event_type: 'delete', 'id': id});\n  }\n  delete PyViz.plot_index[id];\n  if ((window.Bokeh !== undefined) & (id in window.Bokeh.index)) {\n    var doc = window.Bokeh.index[id].model.document\n    doc.clear();\n    const i = window.Bokeh.documents.indexOf(doc);\n    if (i > -1) {\n      window.Bokeh.documents.splice(i, 1);\n    }\n  }\n}\n\n/**\n * Handle kernel restart event\n */\nfunction handle_kernel_cleanup(event, handle) {\n  delete PyViz.comms[\"hv-extension-comm\"];\n  window.PyViz.plot_index = {}\n}\n\n/**\n * Handle update_display_data messages\n */\nfunction handle_update_output(event, handle) {\n  handle_clear_output(event, {cell: {output_area: handle.output_area}})\n  handle_add_output(event, handle)\n}\n\nfunction register_renderer(events, OutputArea) {\n  function append_mime(data, metadata, element) {\n    // create a DOM node to render to\n    var toinsert = this.create_output_subarea(\n    metadata,\n    CLASS_NAME,\n    EXEC_MIME_TYPE\n    );\n    this.keyboard_manager.register_events(toinsert);\n    // Render to node\n    var props = {data: data, metadata: metadata[EXEC_MIME_TYPE]};\n    render(props, toinsert[0]);\n    element.append(toinsert);\n    return toinsert\n  }\n\n  events.on('output_added.OutputArea', handle_add_output);\n  events.on('output_updated.OutputArea', handle_update_output);\n  events.on('clear_output.CodeCell', handle_clear_output);\n  events.on('delete.Cell', handle_clear_output);\n  events.on('kernel_ready.Kernel', handle_kernel_cleanup);\n\n  OutputArea.prototype.register_mime_type(EXEC_MIME_TYPE, append_mime, {\n    safe: true,\n    index: 0\n  });\n}\n\nif (window.Jupyter !== undefined) {\n  try {\n    var events = require('base/js/events');\n    var OutputArea = require('notebook/js/outputarea').OutputArea;\n    if (OutputArea.prototype.mime_types().indexOf(EXEC_MIME_TYPE) == -1) {\n      register_renderer(events, OutputArea);\n    }\n  } catch(err) {\n  }\n}\n",
      "application/javascript": "\nif ((window.PyViz === undefined) || (window.PyViz instanceof HTMLElement)) {\n  window.PyViz = {comms: {}, comm_status:{}, kernels:{}, receivers: {}, plot_index: []}\n}\n\n\n    function JupyterCommManager() {\n    }\n\n    JupyterCommManager.prototype.register_target = function(plot_id, comm_id, msg_handler) {\n      if (window.comm_manager || ((window.Jupyter !== undefined) && (Jupyter.notebook.kernel != null))) {\n        var comm_manager = window.comm_manager || Jupyter.notebook.kernel.comm_manager;\n        comm_manager.register_target(comm_id, function(comm) {\n          comm.on_msg(msg_handler);\n        });\n      } else if ((plot_id in window.PyViz.kernels) && (window.PyViz.kernels[plot_id])) {\n        window.PyViz.kernels[plot_id].registerCommTarget(comm_id, function(comm) {\n          comm.onMsg = msg_handler;\n        });\n      } else if (typeof google != 'undefined' && google.colab.kernel != null) {\n        google.colab.kernel.comms.registerTarget(comm_id, (comm) => {\n          var messages = comm.messages[Symbol.asyncIterator]();\n          function processIteratorResult(result) {\n            var message = result.value;\n            console.log(message)\n            var content = {data: message.data, comm_id};\n            var buffers = []\n            for (var buffer of message.buffers || []) {\n              buffers.push(new DataView(buffer))\n            }\n            var metadata = message.metadata || {};\n            var msg = {content, buffers, metadata}\n            msg_handler(msg);\n            return messages.next().then(processIteratorResult);\n          }\n          return messages.next().then(processIteratorResult);\n        })\n      }\n    }\n\n    JupyterCommManager.prototype.get_client_comm = function(plot_id, comm_id, msg_handler) {\n      if (comm_id in window.PyViz.comms) {\n        return window.PyViz.comms[comm_id];\n      } else if (window.comm_manager || ((window.Jupyter !== undefined) && (Jupyter.notebook.kernel != null))) {\n        var comm_manager = window.comm_manager || Jupyter.notebook.kernel.comm_manager;\n        var comm = comm_manager.new_comm(comm_id, {}, {}, {}, comm_id);\n        if (msg_handler) {\n          comm.on_msg(msg_handler);\n        }\n      } else if ((plot_id in window.PyViz.kernels) && (window.PyViz.kernels[plot_id])) {\n        var comm = window.PyViz.kernels[plot_id].connectToComm(comm_id);\n        comm.open();\n        if (msg_handler) {\n          comm.onMsg = msg_handler;\n        }\n      } else if (typeof google != 'undefined' && google.colab.kernel != null) {\n        var comm_promise = google.colab.kernel.comms.open(comm_id)\n        comm_promise.then((comm) => {\n          window.PyViz.comms[comm_id] = comm;\n          if (msg_handler) {\n            var messages = comm.messages[Symbol.asyncIterator]();\n            function processIteratorResult(result) {\n              var message = result.value;\n              var content = {data: message.data};\n              var metadata = message.metadata || {comm_id};\n              var msg = {content, metadata}\n              msg_handler(msg);\n              return messages.next().then(processIteratorResult);\n            }\n            return messages.next().then(processIteratorResult);\n          }\n        }) \n        var sendClosure = (data, metadata, buffers, disposeOnDone) => {\n          return comm_promise.then((comm) => {\n            comm.send(data, metadata, buffers, disposeOnDone);\n          });\n        };\n        var comm = {\n          send: sendClosure\n        };\n      }\n      window.PyViz.comms[comm_id] = comm;\n      return comm;\n    }\n    window.PyViz.comm_manager = new JupyterCommManager();\n    \n\n\nvar JS_MIME_TYPE = 'application/javascript';\nvar HTML_MIME_TYPE = 'text/html';\nvar EXEC_MIME_TYPE = 'application/vnd.holoviews_exec.v0+json';\nvar CLASS_NAME = 'output';\n\n/**\n * Render data to the DOM node\n */\nfunction render(props, node) {\n  var div = document.createElement(\"div\");\n  var script = document.createElement(\"script\");\n  node.appendChild(div);\n  node.appendChild(script);\n}\n\n/**\n * Handle when a new output is added\n */\nfunction handle_add_output(event, handle) {\n  var output_area = handle.output_area;\n  var output = handle.output;\n  if ((output.data == undefined) || (!output.data.hasOwnProperty(EXEC_MIME_TYPE))) {\n    return\n  }\n  var id = output.metadata[EXEC_MIME_TYPE][\"id\"];\n  var toinsert = output_area.element.find(\".\" + CLASS_NAME.split(' ')[0]);\n  if (id !== undefined) {\n    var nchildren = toinsert.length;\n    var html_node = toinsert[nchildren-1].children[0];\n    html_node.innerHTML = output.data[HTML_MIME_TYPE];\n    var scripts = [];\n    var nodelist = html_node.querySelectorAll(\"script\");\n    for (var i in nodelist) {\n      if (nodelist.hasOwnProperty(i)) {\n        scripts.push(nodelist[i])\n      }\n    }\n\n    scripts.forEach( function (oldScript) {\n      var newScript = document.createElement(\"script\");\n      var attrs = [];\n      var nodemap = oldScript.attributes;\n      for (var j in nodemap) {\n        if (nodemap.hasOwnProperty(j)) {\n          attrs.push(nodemap[j])\n        }\n      }\n      attrs.forEach(function(attr) { newScript.setAttribute(attr.name, attr.value) });\n      newScript.appendChild(document.createTextNode(oldScript.innerHTML));\n      oldScript.parentNode.replaceChild(newScript, oldScript);\n    });\n    if (JS_MIME_TYPE in output.data) {\n      toinsert[nchildren-1].children[1].textContent = output.data[JS_MIME_TYPE];\n    }\n    output_area._hv_plot_id = id;\n    if ((window.Bokeh !== undefined) && (id in Bokeh.index)) {\n      window.PyViz.plot_index[id] = Bokeh.index[id];\n    } else {\n      window.PyViz.plot_index[id] = null;\n    }\n  } else if (output.metadata[EXEC_MIME_TYPE][\"server_id\"] !== undefined) {\n    var bk_div = document.createElement(\"div\");\n    bk_div.innerHTML = output.data[HTML_MIME_TYPE];\n    var script_attrs = bk_div.children[0].attributes;\n    for (var i = 0; i < script_attrs.length; i++) {\n      toinsert[toinsert.length - 1].childNodes[1].setAttribute(script_attrs[i].name, script_attrs[i].value);\n    }\n    // store reference to server id on output_area\n    output_area._bokeh_server_id = output.metadata[EXEC_MIME_TYPE][\"server_id\"];\n  }\n}\n\n/**\n * Handle when an output is cleared or removed\n */\nfunction handle_clear_output(event, handle) {\n  var id = handle.cell.output_area._hv_plot_id;\n  var server_id = handle.cell.output_area._bokeh_server_id;\n  if (((id === undefined) || !(id in PyViz.plot_index)) && (server_id !== undefined)) { return; }\n  var comm = window.PyViz.comm_manager.get_client_comm(\"hv-extension-comm\", \"hv-extension-comm\", function () {});\n  if (server_id !== null) {\n    comm.send({event_type: 'server_delete', 'id': server_id});\n    return;\n  } else if (comm !== null) {\n    comm.send({event_type: 'delete', 'id': id});\n  }\n  delete PyViz.plot_index[id];\n  if ((window.Bokeh !== undefined) & (id in window.Bokeh.index)) {\n    var doc = window.Bokeh.index[id].model.document\n    doc.clear();\n    const i = window.Bokeh.documents.indexOf(doc);\n    if (i > -1) {\n      window.Bokeh.documents.splice(i, 1);\n    }\n  }\n}\n\n/**\n * Handle kernel restart event\n */\nfunction handle_kernel_cleanup(event, handle) {\n  delete PyViz.comms[\"hv-extension-comm\"];\n  window.PyViz.plot_index = {}\n}\n\n/**\n * Handle update_display_data messages\n */\nfunction handle_update_output(event, handle) {\n  handle_clear_output(event, {cell: {output_area: handle.output_area}})\n  handle_add_output(event, handle)\n}\n\nfunction register_renderer(events, OutputArea) {\n  function append_mime(data, metadata, element) {\n    // create a DOM node to render to\n    var toinsert = this.create_output_subarea(\n    metadata,\n    CLASS_NAME,\n    EXEC_MIME_TYPE\n    );\n    this.keyboard_manager.register_events(toinsert);\n    // Render to node\n    var props = {data: data, metadata: metadata[EXEC_MIME_TYPE]};\n    render(props, toinsert[0]);\n    element.append(toinsert);\n    return toinsert\n  }\n\n  events.on('output_added.OutputArea', handle_add_output);\n  events.on('output_updated.OutputArea', handle_update_output);\n  events.on('clear_output.CodeCell', handle_clear_output);\n  events.on('delete.Cell', handle_clear_output);\n  events.on('kernel_ready.Kernel', handle_kernel_cleanup);\n\n  OutputArea.prototype.register_mime_type(EXEC_MIME_TYPE, append_mime, {\n    safe: true,\n    index: 0\n  });\n}\n\nif (window.Jupyter !== undefined) {\n  try {\n    var events = require('base/js/events');\n    var OutputArea = require('notebook/js/outputarea').OutputArea;\n    if (OutputArea.prototype.mime_types().indexOf(EXEC_MIME_TYPE) == -1) {\n      register_renderer(events, OutputArea);\n    }\n  } catch(err) {\n  }\n}\n"
     },
     "metadata": {},
     "output_type": "display_data"
    }
   ],
   "source": [
    "from functools import reduce\n",
    "import pandas as pd\n",
    "import panel as pn\n",
    "import plotly.express as px\n",
    "\n",
    "pn.extension()"
   ]
  },
  {
   "cell_type": "markdown",
   "source": [
    "# Import, check and prepare data\n",
    "\n",
    "Import CSV files that contain:\n",
    "- The PIDs of all datasets published by many repositories that use the Dataverse software and which repositories published them\n",
    "- Author field metadata entered in all of those datasets"
   ],
   "metadata": {
    "collapsed": false,
    "pycharm": {
     "name": "#%% md\n"
    }
   }
  },
  {
   "cell_type": "code",
   "execution_count": 2,
   "outputs": [
    {
     "data": {
      "text/plain": "  dataverse_installation_name                  dataset_pid_url  \\\n0     UNB_Libraries_Dataverse  https://doi.org/10.25545/NVN79Z   \n1     UNB_Libraries_Dataverse  https://doi.org/10.25545/YB60PU   \n2     UNB_Libraries_Dataverse  https://doi.org/10.25545/WHD3KC   \n3     UNB_Libraries_Dataverse  https://doi.org/10.25545/6TZWCG   \n4     UNB_Libraries_Dataverse  https://doi.org/10.25545/NYM13B   \n\n  dataverse_collection_alias  \\\n0                        snb   \n1            blightchemistry   \n2            blightchemistry   \n3           Ir-CationBinding   \n4                     IFMLAB   \n\n                           dataverse_collection_name  \\\n0                              Service New Brunswick   \n1                Blight Chemistry Research Omniverse   \n2                Blight Chemistry Research Omniverse   \n3  Elucidation of Charge Contributions in Iridium...   \n4                   Integrated Forest Management Lab   \n\n    dataverse_collection_type  \n0  ORGANIZATIONS_INSTITUTIONS  \n1              RESEARCH_GROUP  \n2              RESEARCH_GROUP  \n3                    JOURNALS  \n4              RESEARCH_GROUP  ",
      "text/html": "<div><div id=49816360-fe65-4539-a356-17e4511354dc style=\"display:none; background-color:#9D6CFF; color:white; width:200px; height:30px; padding-left:5px; border-radius:4px; flex-direction:row; justify-content:space-around; align-items:center;\" onmouseover=\"this.style.backgroundColor='#BA9BF8'\" onmouseout=\"this.style.backgroundColor='#9D6CFF'\" onclick=\"window.commands?.execute('create-mitosheet-from-dataframe-output');\">See Full Dataframe in Mito</div> <script> if (window.commands.hasCommand('create-mitosheet-from-dataframe-output')) document.getElementById('49816360-fe65-4539-a356-17e4511354dc').style.display = 'flex' </script> <table border=\"1\" class=\"dataframe\">\n  <thead>\n    <tr style=\"text-align: right;\">\n      <th></th>\n      <th>dataverse_installation_name</th>\n      <th>dataset_pid_url</th>\n      <th>dataverse_collection_alias</th>\n      <th>dataverse_collection_name</th>\n      <th>dataverse_collection_type</th>\n    </tr>\n  </thead>\n  <tbody>\n    <tr>\n      <th>0</th>\n      <td>UNB_Libraries_Dataverse</td>\n      <td>https://doi.org/10.25545/NVN79Z</td>\n      <td>snb</td>\n      <td>Service New Brunswick</td>\n      <td>ORGANIZATIONS_INSTITUTIONS</td>\n    </tr>\n    <tr>\n      <th>1</th>\n      <td>UNB_Libraries_Dataverse</td>\n      <td>https://doi.org/10.25545/YB60PU</td>\n      <td>blightchemistry</td>\n      <td>Blight Chemistry Research Omniverse</td>\n      <td>RESEARCH_GROUP</td>\n    </tr>\n    <tr>\n      <th>2</th>\n      <td>UNB_Libraries_Dataverse</td>\n      <td>https://doi.org/10.25545/WHD3KC</td>\n      <td>blightchemistry</td>\n      <td>Blight Chemistry Research Omniverse</td>\n      <td>RESEARCH_GROUP</td>\n    </tr>\n    <tr>\n      <th>3</th>\n      <td>UNB_Libraries_Dataverse</td>\n      <td>https://doi.org/10.25545/6TZWCG</td>\n      <td>Ir-CationBinding</td>\n      <td>Elucidation of Charge Contributions in Iridium-Chelated Hydrogen-Bonding Systems</td>\n      <td>JOURNALS</td>\n    </tr>\n    <tr>\n      <th>4</th>\n      <td>UNB_Libraries_Dataverse</td>\n      <td>https://doi.org/10.25545/NYM13B</td>\n      <td>IFMLAB</td>\n      <td>Integrated Forest Management Lab</td>\n      <td>RESEARCH_GROUP</td>\n    </tr>\n  </tbody>\n</table></div>"
     },
     "execution_count": 2,
     "metadata": {},
     "output_type": "execute_result"
    }
   ],
   "source": [
    "# Get basic info about datasets in repositories except for ODISSEI Portal\n",
    "datasetPIDsDF = (pd\n",
    "    .read_csv(\n",
    "        'dataset_pids_from_most_known_dataverse_installations_2023.08.csv',\n",
    "        sep=',',\n",
    "        na_filter=False)\n",
    "    .query(\n",
    "        '(dataverse_json_export_saved == True) and\\\n",
    "        (dataverse_installation_name != \"ODISSEI_Portal\")')\n",
    "    .drop(columns=['dataverse_json_export_saved'])\n",
    "    .reset_index(drop=True, inplace=False)\n",
    " )\n",
    "\n",
    "datasetPIDsDF.head()"
   ],
   "metadata": {
    "collapsed": false,
    "pycharm": {
     "name": "#%%\n"
    }
   }
  },
  {
   "cell_type": "code",
   "execution_count": 3,
   "outputs": [
    {
     "data": {
      "text/plain": "                          dataset_pid_url dataset_publication_date  \\\n0     https://doi.org/10.48370/OFD/8TTRLC               2022-05-13   \n1  https://doi.org/10.17026/dans-26a-cq4r               2015-09-18   \n2  https://doi.org/10.17026/dans-zc2-mc2g               2016-12-31   \n3  https://doi.org/10.17026/dans-x9z-bmn6               2020-12-22   \n4      https://doi.org/10.7910/DVN/QD0V0H               2021-09-20   \n\n   dataset_version_number dataset_version_create_time  \\\n0                     1.0        2022-05-11T14:44:29Z   \n1                     2.0        2022-02-18T19:29:27Z   \n2                     1.0        2022-02-24T21:01:03Z   \n3                     1.0        2022-02-14T05:11:03Z   \n4                     1.0        2021-07-29T19:45:43Z   \n\n                                          authorName authorIdentifierScheme  \\\n0  Mammal Research Institute, Polish Academy of S...                    NaN   \n1                                     H.J. Hesseling                    NaN   \n2                                         S. Moerman                    NaN   \n3                                         G. Zielman                    NaN   \n4                                  Master, Daniel M.                    NaN   \n\n  authorIdentifier  \n0              NaN  \n1              NaN  \n2              NaN  \n3              NaN  \n4              NaN  ",
      "text/html": "<div><div id=09177cfc-bd52-49af-b914-6c833616ca0c style=\"display:none; background-color:#9D6CFF; color:white; width:200px; height:30px; padding-left:5px; border-radius:4px; flex-direction:row; justify-content:space-around; align-items:center;\" onmouseover=\"this.style.backgroundColor='#BA9BF8'\" onmouseout=\"this.style.backgroundColor='#9D6CFF'\" onclick=\"window.commands?.execute('create-mitosheet-from-dataframe-output');\">See Full Dataframe in Mito</div> <script> if (window.commands.hasCommand('create-mitosheet-from-dataframe-output')) document.getElementById('09177cfc-bd52-49af-b914-6c833616ca0c').style.display = 'flex' </script> <table border=\"1\" class=\"dataframe\">\n  <thead>\n    <tr style=\"text-align: right;\">\n      <th></th>\n      <th>dataset_pid_url</th>\n      <th>dataset_publication_date</th>\n      <th>dataset_version_number</th>\n      <th>dataset_version_create_time</th>\n      <th>authorName</th>\n      <th>authorIdentifierScheme</th>\n      <th>authorIdentifier</th>\n    </tr>\n  </thead>\n  <tbody>\n    <tr>\n      <th>0</th>\n      <td>https://doi.org/10.48370/OFD/8TTRLC</td>\n      <td>2022-05-13</td>\n      <td>1.0</td>\n      <td>2022-05-11T14:44:29Z</td>\n      <td>Mammal Research Institute, Polish Academy of Sciences</td>\n      <td>NaN</td>\n      <td>NaN</td>\n    </tr>\n    <tr>\n      <th>1</th>\n      <td>https://doi.org/10.17026/dans-26a-cq4r</td>\n      <td>2015-09-18</td>\n      <td>2.0</td>\n      <td>2022-02-18T19:29:27Z</td>\n      <td>H.J. Hesseling</td>\n      <td>NaN</td>\n      <td>NaN</td>\n    </tr>\n    <tr>\n      <th>2</th>\n      <td>https://doi.org/10.17026/dans-zc2-mc2g</td>\n      <td>2016-12-31</td>\n      <td>1.0</td>\n      <td>2022-02-24T21:01:03Z</td>\n      <td>S. Moerman</td>\n      <td>NaN</td>\n      <td>NaN</td>\n    </tr>\n    <tr>\n      <th>3</th>\n      <td>https://doi.org/10.17026/dans-x9z-bmn6</td>\n      <td>2020-12-22</td>\n      <td>1.0</td>\n      <td>2022-02-14T05:11:03Z</td>\n      <td>G. Zielman</td>\n      <td>NaN</td>\n      <td>NaN</td>\n    </tr>\n    <tr>\n      <th>4</th>\n      <td>https://doi.org/10.7910/DVN/QD0V0H</td>\n      <td>2021-09-20</td>\n      <td>1.0</td>\n      <td>2021-07-29T19:45:43Z</td>\n      <td>Master, Daniel M.</td>\n      <td>NaN</td>\n      <td>NaN</td>\n    </tr>\n  </tbody>\n</table></div>"
     },
     "execution_count": 3,
     "metadata": {},
     "output_type": "execute_result"
    }
   ],
   "source": [
    "# Get Author field metadata entered in all datasets in Dataverse repositories\n",
    "# and remove datasets have have no author metadata\n",
    "authorMetadataDF = (pd\n",
    "    .read_csv(\n",
    "        'author(citation)_2023.08.22-2023.08.28.csv',\n",
    "        sep=',',\n",
    "        na_filter=True,\n",
    "        parse_dates=['dataset_publication_date', 'dataset_version_create_time'])\n",
    "    .drop(columns=['dataset_pid', 'authorAffiliation'])\n",
    "    .query('authorName != \"N/A\"')\n",
    "    .reset_index(drop=True, inplace=False)\n",
    "    )\n",
    "\n",
    "authorMetadataDF.head()"
   ],
   "metadata": {
    "collapsed": false,
    "pycharm": {
     "name": "#%%\n"
    }
   }
  },
  {
   "cell_type": "code",
   "execution_count": 4,
   "outputs": [
    {
     "name": "stdout",
     "output_type": "stream",
     "text": [
      "Number of datasets in datasetPIDsDF: 390401\n",
      "Number of datasets in authorMetadataDF: 390401\n"
     ]
    }
   ],
   "source": [
    "# Sanity check data by making sure count of datasets is the same in both dataframes\n",
    "print(f'Number of datasets in datasetPIDsDF: {len(datasetPIDsDF)}')\n",
    "datasetCountInAuthorMetadataDF = len(pd.unique(authorMetadataDF['dataset_pid_url']))\n",
    "print(f'Number of datasets in authorMetadataDF: {datasetCountInAuthorMetadataDF}')"
   ],
   "metadata": {
    "collapsed": false,
    "pycharm": {
     "name": "#%%\n"
    }
   }
  },
  {
   "cell_type": "code",
   "execution_count": 5,
   "outputs": [
    {
     "name": "stdout",
     "output_type": "stream",
     "text": [
      "Number of datasets in datasetPIDsAndAuthorMetadataDF: 390401\n",
      "Number of author metadata in datasetPIDsAndAuthorMetadataDF: 667435\n",
      "Number of installations in datasetPIDsAndAuthorMetadataDF: 84\n"
     ]
    }
   ],
   "source": [
    "# Join the datasetPIDsDF and the authorMetadataDF to add the installation column,\n",
    "# so we know which installations published each dataset\n",
    "datasetPIDsAndAuthorMetadataDF = (pd\n",
    "    .merge(datasetPIDsDF, authorMetadataDF,\n",
    "        how='inner',\n",
    "        on=['dataset_pid_url'])\n",
    "    .drop(columns=['dataset_version_number'])\n",
    "    .reset_index(drop=True, inplace=False))\n",
    "\n",
    "# Make sure the count of datasets in datasetPIDsAndAuthorMetadataDF\n",
    "# is the same as in datasetPIDsDF: 390401\n",
    "datasetCountInDatasetPIDsAndAuthorMetadataDF = len(pd.unique(datasetPIDsAndAuthorMetadataDF['dataset_pid_url']))\n",
    "print(f'Number of datasets in datasetPIDsAndAuthorMetadataDF: {datasetCountInDatasetPIDsAndAuthorMetadataDF}')\n",
    "\n",
    "# Get count of author metadata\n",
    "print(f'Number of author metadata in datasetPIDsAndAuthorMetadataDF: {len(datasetPIDsAndAuthorMetadataDF)}')\n",
    "\n",
    "# Get count of installations. Should by 84: the 85 installations in my dataset minus ODISSEI Portal\n",
    "allInstallationsList = list(set(datasetPIDsAndAuthorMetadataDF['dataverse_installation_name'].tolist()))\n",
    "countOfInstallations = len(allInstallationsList)\n",
    "print(f'Number of installations in datasetPIDsAndAuthorMetadataDF: {countOfInstallations}')"
   ],
   "metadata": {
    "collapsed": false,
    "pycharm": {
     "name": "#%%\n"
    }
   }
  },
  {
   "cell_type": "code",
   "execution_count": 6,
   "outputs": [
    {
     "data": {
      "text/plain": "  dataverse_installation_name                  dataset_pid_url  \\\n0     UNB_Libraries_Dataverse  https://doi.org/10.25545/NVN79Z   \n1     UNB_Libraries_Dataverse  https://doi.org/10.25545/YB60PU   \n2     UNB_Libraries_Dataverse  https://doi.org/10.25545/WHD3KC   \n3     UNB_Libraries_Dataverse  https://doi.org/10.25545/6TZWCG   \n4     UNB_Libraries_Dataverse  https://doi.org/10.25545/NYM13B   \n\n  dataverse_collection_alias  \\\n0                        snb   \n1            blightchemistry   \n2            blightchemistry   \n3           Ir-CationBinding   \n4                     IFMLAB   \n\n                           dataverse_collection_name  \\\n0                              Service New Brunswick   \n1                Blight Chemistry Research Omniverse   \n2                Blight Chemistry Research Omniverse   \n3  Elucidation of Charge Contributions in Iridium...   \n4                   Integrated Forest Management Lab   \n\n    dataverse_collection_type dataset_publication_date  \\\n0  ORGANIZATIONS_INSTITUTIONS               2018-05-10   \n1              RESEARCH_GROUP               2018-06-20   \n2              RESEARCH_GROUP               2019-06-23   \n3                    JOURNALS               2021-05-18   \n4              RESEARCH_GROUP               2020-06-30   \n\n  dataset_version_create_time             authorName authorIdentifierScheme  \\\n0        2022-03-23T19:49:10Z  Service New Brunswick                    NaN   \n1        2018-02-21T18:26:43Z        Blight, Barry A                  ORCID   \n2        2019-06-21T18:30:39Z      Balonova, Barbora                    NaN   \n3        2021-05-18T16:39:24Z        Blight, Barry A                    NaN   \n4        2020-11-30T22:44:12Z         Chen, Yingbing                    NaN   \n\n      authorIdentifier  \n0                  NaN  \n1  0000-0003-1166-6206  \n2                  NaN  \n3                  NaN  \n4                  NaN  ",
      "text/html": "<div><div id=06b2ed9e-7030-47d1-8593-520b14a1290a style=\"display:none; background-color:#9D6CFF; color:white; width:200px; height:30px; padding-left:5px; border-radius:4px; flex-direction:row; justify-content:space-around; align-items:center;\" onmouseover=\"this.style.backgroundColor='#BA9BF8'\" onmouseout=\"this.style.backgroundColor='#9D6CFF'\" onclick=\"window.commands?.execute('create-mitosheet-from-dataframe-output');\">See Full Dataframe in Mito</div> <script> if (window.commands.hasCommand('create-mitosheet-from-dataframe-output')) document.getElementById('06b2ed9e-7030-47d1-8593-520b14a1290a').style.display = 'flex' </script> <table border=\"1\" class=\"dataframe\">\n  <thead>\n    <tr style=\"text-align: right;\">\n      <th></th>\n      <th>dataverse_installation_name</th>\n      <th>dataset_pid_url</th>\n      <th>dataverse_collection_alias</th>\n      <th>dataverse_collection_name</th>\n      <th>dataverse_collection_type</th>\n      <th>dataset_publication_date</th>\n      <th>dataset_version_create_time</th>\n      <th>authorName</th>\n      <th>authorIdentifierScheme</th>\n      <th>authorIdentifier</th>\n    </tr>\n  </thead>\n  <tbody>\n    <tr>\n      <th>0</th>\n      <td>UNB_Libraries_Dataverse</td>\n      <td>https://doi.org/10.25545/NVN79Z</td>\n      <td>snb</td>\n      <td>Service New Brunswick</td>\n      <td>ORGANIZATIONS_INSTITUTIONS</td>\n      <td>2018-05-10</td>\n      <td>2022-03-23T19:49:10Z</td>\n      <td>Service New Brunswick</td>\n      <td>NaN</td>\n      <td>NaN</td>\n    </tr>\n    <tr>\n      <th>1</th>\n      <td>UNB_Libraries_Dataverse</td>\n      <td>https://doi.org/10.25545/YB60PU</td>\n      <td>blightchemistry</td>\n      <td>Blight Chemistry Research Omniverse</td>\n      <td>RESEARCH_GROUP</td>\n      <td>2018-06-20</td>\n      <td>2018-02-21T18:26:43Z</td>\n      <td>Blight, Barry A</td>\n      <td>ORCID</td>\n      <td>0000-0003-1166-6206</td>\n    </tr>\n    <tr>\n      <th>2</th>\n      <td>UNB_Libraries_Dataverse</td>\n      <td>https://doi.org/10.25545/WHD3KC</td>\n      <td>blightchemistry</td>\n      <td>Blight Chemistry Research Omniverse</td>\n      <td>RESEARCH_GROUP</td>\n      <td>2019-06-23</td>\n      <td>2019-06-21T18:30:39Z</td>\n      <td>Balonova, Barbora</td>\n      <td>NaN</td>\n      <td>NaN</td>\n    </tr>\n    <tr>\n      <th>3</th>\n      <td>UNB_Libraries_Dataverse</td>\n      <td>https://doi.org/10.25545/6TZWCG</td>\n      <td>Ir-CationBinding</td>\n      <td>Elucidation of Charge Contributions in Iridium-Chelated Hydrogen-Bonding Systems</td>\n      <td>JOURNALS</td>\n      <td>2021-05-18</td>\n      <td>2021-05-18T16:39:24Z</td>\n      <td>Blight, Barry A</td>\n      <td>NaN</td>\n      <td>NaN</td>\n    </tr>\n    <tr>\n      <th>4</th>\n      <td>UNB_Libraries_Dataverse</td>\n      <td>https://doi.org/10.25545/NYM13B</td>\n      <td>IFMLAB</td>\n      <td>Integrated Forest Management Lab</td>\n      <td>RESEARCH_GROUP</td>\n      <td>2020-06-30</td>\n      <td>2020-11-30T22:44:12Z</td>\n      <td>Chen, Yingbing</td>\n      <td>NaN</td>\n      <td>NaN</td>\n    </tr>\n  </tbody>\n</table></div>"
     },
     "execution_count": 6,
     "metadata": {},
     "output_type": "execute_result"
    }
   ],
   "source": [
    "datasetPIDsAndAuthorMetadataDF.head()"
   ],
   "metadata": {
    "collapsed": false,
    "pycharm": {
     "name": "#%%\n"
    }
   }
  },
  {
   "cell_type": "markdown",
   "source": [
    "# Explore data"
   ],
   "metadata": {
    "collapsed": false,
    "pycharm": {
     "name": "#%% md\n"
    }
   }
  },
  {
   "cell_type": "markdown",
   "source": [
    "Get info about author metadata that includes no identifier metadata, partial identifier metadata, and complete identifier metadata"
   ],
   "metadata": {
    "collapsed": false,
    "pycharm": {
     "name": "#%% md\n"
    }
   }
  },
  {
   "cell_type": "code",
   "execution_count": 7,
   "outputs": [
    {
     "name": "stdout",
     "output_type": "stream",
     "text": [
      "Number of author metadata with partial, complete, and no identifier metadata: 667435\n",
      "Number of author metadata with partial identifier metadata: 4438\n",
      "Number of author metadata with complete identifier metadata: 82078\n",
      "Number of author metadata with no identifier metadata: 580919\n"
     ]
    }
   ],
   "source": [
    "authorsWithNoIdentifiersDf = (\n",
    "    datasetPIDsAndAuthorMetadataDF\n",
    "        .query(\n",
    "            'authorIdentifierScheme != authorIdentifierScheme and\\\n",
    "            authorIdentifier != authorIdentifier')\n",
    "        .reset_index(drop=True, inplace=False)\n",
    ")\n",
    "\n",
    "authorsWithPartialIdentifiersDf = (\n",
    "    datasetPIDsAndAuthorMetadataDF\n",
    "        .query(\n",
    "            '(authorIdentifierScheme == authorIdentifierScheme and\\\n",
    "             authorIdentifier != authorIdentifier) or\\\n",
    "            (authorIdentifierScheme != authorIdentifierScheme and\\\n",
    "             authorIdentifier == authorIdentifier)')\n",
    "        .fillna('')\n",
    "        .reset_index(drop=True, inplace=False)\n",
    ")\n",
    "\n",
    "authorsWithCompleteIdentifiersDf = (\n",
    "    datasetPIDsAndAuthorMetadataDF\n",
    "        .query(\n",
    "            'authorIdentifierScheme == authorIdentifierScheme and\\\n",
    "             authorIdentifier == authorIdentifier')\n",
    "        .reset_index(drop=True, inplace=False)\n",
    ")\n",
    "\n",
    "sumOfAuthorMetadata = (\n",
    "    len(authorsWithPartialIdentifiersDf)\n",
    "    + len(authorsWithCompleteIdentifiersDf)\n",
    "    + len(authorsWithNoIdentifiersDf)\n",
    ")\n",
    "print(f'Number of author metadata with partial, complete, and no identifier metadata: {sumOfAuthorMetadata}')\n",
    "\n",
    "print(f'Number of author metadata with partial identifier metadata: {len(authorsWithPartialIdentifiersDf)}')\n",
    "print(f'Number of author metadata with complete identifier metadata: {len(authorsWithCompleteIdentifiersDf)}')\n",
    "print(f'Number of author metadata with no identifier metadata: {len(authorsWithNoIdentifiersDf)}')"
   ],
   "metadata": {
    "collapsed": false,
    "pycharm": {
     "name": "#%%\n"
    }
   }
  },
  {
   "cell_type": "markdown",
   "source": [
    "Get count of author metadata with and without identifiers for each installation"
   ],
   "metadata": {
    "collapsed": false,
    "pycharm": {
     "name": "#%% md\n"
    }
   }
  },
  {
   "cell_type": "code",
   "execution_count": 61,
   "outputs": [
    {
     "data": {
      "text/plain": "            dataverse_installation_name  \\\n0                        ACSS_Dataverse   \n1                         ADA_Dataverse   \n2  ASU_Library_Research_Data_Repository   \n3                      AUSSDA_Dataverse   \n4                                Abacus   \n\n   count_of_authors_with_complete_identifiers  \\\n0                                           5   \n1                                        1102   \n2                                          92   \n3                                         258   \n4                                           0   \n\n   count_of_authors_with_partial_identifiers  \\\n0                                          0   \n1                                         22   \n2                                          4   \n3                                          0   \n4                                          1   \n\n   count_of_authors_with_no_identifiers  \n0                                   141  \n1                                  2140  \n2                                   115  \n3                                  2104  \n4                                  4083  ",
      "text/html": "<div><div id=4ac737e0-123a-4c41-b14c-eaed371bacb0 style=\"display:none; background-color:#9D6CFF; color:white; width:200px; height:30px; padding-left:5px; border-radius:4px; flex-direction:row; justify-content:space-around; align-items:center;\" onmouseover=\"this.style.backgroundColor='#BA9BF8'\" onmouseout=\"this.style.backgroundColor='#9D6CFF'\" onclick=\"window.commands?.execute('create-mitosheet-from-dataframe-output');\">See Full Dataframe in Mito</div> <script> if (window.commands.hasCommand('create-mitosheet-from-dataframe-output')) document.getElementById('4ac737e0-123a-4c41-b14c-eaed371bacb0').style.display = 'flex' </script> <table border=\"1\" class=\"dataframe\">\n  <thead>\n    <tr style=\"text-align: right;\">\n      <th></th>\n      <th>dataverse_installation_name</th>\n      <th>count_of_authors_with_complete_identifiers</th>\n      <th>count_of_authors_with_partial_identifiers</th>\n      <th>count_of_authors_with_no_identifiers</th>\n    </tr>\n  </thead>\n  <tbody>\n    <tr>\n      <th>0</th>\n      <td>ACSS_Dataverse</td>\n      <td>5</td>\n      <td>0</td>\n      <td>141</td>\n    </tr>\n    <tr>\n      <th>1</th>\n      <td>ADA_Dataverse</td>\n      <td>1102</td>\n      <td>22</td>\n      <td>2140</td>\n    </tr>\n    <tr>\n      <th>2</th>\n      <td>ASU_Library_Research_Data_Repository</td>\n      <td>92</td>\n      <td>4</td>\n      <td>115</td>\n    </tr>\n    <tr>\n      <th>3</th>\n      <td>AUSSDA_Dataverse</td>\n      <td>258</td>\n      <td>0</td>\n      <td>2104</td>\n    </tr>\n    <tr>\n      <th>4</th>\n      <td>Abacus</td>\n      <td>0</td>\n      <td>1</td>\n      <td>4083</td>\n    </tr>\n  </tbody>\n</table></div>"
     },
     "execution_count": 61,
     "metadata": {},
     "output_type": "execute_result"
    }
   ],
   "source": [
    "# Count of author metadata in authorsWithNoIdentifiersDf per installation\n",
    "authorsWithNoIdentifiersByInstallationDf = (\n",
    "    authorsWithNoIdentifiersDf\n",
    "        .value_counts(subset=['dataverse_installation_name'])\n",
    "        .to_frame('count_of_authors_with_no_identifiers')\n",
    ")\n",
    "\n",
    "# Count of author metadata in authorsWithPartialIdentifiersDf per installation\n",
    "authorsWithPartialIdentifiersByInstallationDf = (\n",
    "    authorsWithPartialIdentifiersDf\n",
    "        .value_counts(subset=['dataverse_installation_name'])\n",
    "        .to_frame('count_of_authors_with_partial_identifiers')\n",
    ")\n",
    "\n",
    "# Count of author metadata in authorsWithCompleteIdentifiersDf per installation\n",
    "authorsWithCompleteIdentifiersByInstallationDf = (\n",
    "    authorsWithCompleteIdentifiersDf\n",
    "        .value_counts(subset=['dataverse_installation_name'])\n",
    "        .to_frame('count_of_authors_with_complete_identifiers')\n",
    ")\n",
    "\n",
    "# Join the three dataframes\n",
    "dataframes = [\n",
    "    authorsWithNoIdentifiersByInstallationDf,\n",
    "    authorsWithPartialIdentifiersByInstallationDf,\n",
    "    authorsWithCompleteIdentifiersByInstallationDf\n",
    "]\n",
    "\n",
    "countOfAuthorsByInstallationDf = reduce(lambda left, right: left.join(right, how='outer'), dataframes)\n",
    "countOfAuthorsByInstallationDf = (\n",
    "    countOfAuthorsByInstallationDf\n",
    "        .fillna(0)\n",
    "        .astype('int32')\n",
    "        .reset_index(drop=False, inplace=False)\n",
    "        # Reorder columns\n",
    "        [[\n",
    "            'dataverse_installation_name',\n",
    "            'count_of_authors_with_complete_identifiers',\n",
    "            'count_of_authors_with_partial_identifiers',\n",
    "            'count_of_authors_with_no_identifiers'\n",
    "        ]]\n",
    ")\n",
    "\n",
    "countOfAuthorsByInstallationDf.head()"
   ],
   "metadata": {
    "collapsed": false,
    "pycharm": {
     "name": "#%%\n"
    }
   }
  },
  {
   "cell_type": "markdown",
   "source": [
    "Get number of author metadata with each type of identifier, e.g. ORCID, GND"
   ],
   "metadata": {
    "collapsed": false,
    "pycharm": {
     "name": "#%% md\n"
    }
   }
  },
  {
   "cell_type": "code",
   "execution_count": 9,
   "outputs": [
    {
     "data": {
      "text/plain": "            dataverse_installation_name  DAI  DOI  GND  ISNI  LCNA  ORCID  \\\n0                        ACSS_Dataverse    0    0    0     0     0      5   \n1                         ADA_Dataverse    0    0    0     0     0   1121   \n2  ASU_Library_Research_Data_Repository    0    0    0     0     0     92   \n3                      AUSSDA_Dataverse    0    0    0     0     0    258   \n4                                Abacus    0    0    0     0     0      0   \n\n   ResearcherID  ScopusID  VIAF  idHAL  \n0             0         0     0      0  \n1             0         0     0      0  \n2             0         0     0      0  \n3             0         0     0      0  \n4             0         0     0      0  ",
      "text/html": "<div><div id=c7bb0235-7256-4f88-8e93-6d71aa389d53 style=\"display:none; background-color:#9D6CFF; color:white; width:200px; height:30px; padding-left:5px; border-radius:4px; flex-direction:row; justify-content:space-around; align-items:center;\" onmouseover=\"this.style.backgroundColor='#BA9BF8'\" onmouseout=\"this.style.backgroundColor='#9D6CFF'\" onclick=\"window.commands?.execute('create-mitosheet-from-dataframe-output');\">See Full Dataframe in Mito</div> <script> if (window.commands.hasCommand('create-mitosheet-from-dataframe-output')) document.getElementById('c7bb0235-7256-4f88-8e93-6d71aa389d53').style.display = 'flex' </script> <table border=\"1\" class=\"dataframe\">\n  <thead>\n    <tr style=\"text-align: right;\">\n      <th></th>\n      <th>dataverse_installation_name</th>\n      <th>DAI</th>\n      <th>DOI</th>\n      <th>GND</th>\n      <th>ISNI</th>\n      <th>LCNA</th>\n      <th>ORCID</th>\n      <th>ResearcherID</th>\n      <th>ScopusID</th>\n      <th>VIAF</th>\n      <th>idHAL</th>\n    </tr>\n  </thead>\n  <tbody>\n    <tr>\n      <th>0</th>\n      <td>ACSS_Dataverse</td>\n      <td>0</td>\n      <td>0</td>\n      <td>0</td>\n      <td>0</td>\n      <td>0</td>\n      <td>5</td>\n      <td>0</td>\n      <td>0</td>\n      <td>0</td>\n      <td>0</td>\n    </tr>\n    <tr>\n      <th>1</th>\n      <td>ADA_Dataverse</td>\n      <td>0</td>\n      <td>0</td>\n      <td>0</td>\n      <td>0</td>\n      <td>0</td>\n      <td>1121</td>\n      <td>0</td>\n      <td>0</td>\n      <td>0</td>\n      <td>0</td>\n    </tr>\n    <tr>\n      <th>2</th>\n      <td>ASU_Library_Research_Data_Repository</td>\n      <td>0</td>\n      <td>0</td>\n      <td>0</td>\n      <td>0</td>\n      <td>0</td>\n      <td>92</td>\n      <td>0</td>\n      <td>0</td>\n      <td>0</td>\n      <td>0</td>\n    </tr>\n    <tr>\n      <th>3</th>\n      <td>AUSSDA_Dataverse</td>\n      <td>0</td>\n      <td>0</td>\n      <td>0</td>\n      <td>0</td>\n      <td>0</td>\n      <td>258</td>\n      <td>0</td>\n      <td>0</td>\n      <td>0</td>\n      <td>0</td>\n    </tr>\n    <tr>\n      <th>4</th>\n      <td>Abacus</td>\n      <td>0</td>\n      <td>0</td>\n      <td>0</td>\n      <td>0</td>\n      <td>0</td>\n      <td>0</td>\n      <td>0</td>\n      <td>0</td>\n      <td>0</td>\n      <td>0</td>\n    </tr>\n  </tbody>\n</table></div>"
     },
     "execution_count": 9,
     "metadata": {},
     "output_type": "execute_result"
    }
   ],
   "source": [
    "countOfValidIdentifiersByTypeAndInstallationDf = (pd\n",
    "    .crosstab(\n",
    "        authorsWithCompleteIdentifiersDf.dataverse_installation_name,\n",
    "        authorsWithCompleteIdentifiersDf.authorIdentifierScheme)#,\n",
    "        # margins=True, margins_name='Total')\n",
    "    .reset_index(drop=False, inplace=False)\n",
    "    .rename_axis(None, axis=1)\n",
    ")\n",
    "\n",
    "# Add rows for installations that have no complete identifiers\n",
    "installationsWithCompleteIdentifiers = countOfValidIdentifiersByTypeAndInstallationDf['dataverse_installation_name'].tolist()\n",
    "installationsWithNoCompleteIdentifiers = set(allInstallationsList) - set(installationsWithCompleteIdentifiers)\n",
    "for installation in installationsWithNoCompleteIdentifiers:\n",
    "    countOfValidIdentifiersByTypeAndInstallationDf.loc[-1] = [\n",
    "        installation, 0, 0, 0, 0, 0, 0, 0, 0, 0, 0, ]\n",
    "    countOfValidIdentifiersByTypeAndInstallationDf.index = countOfValidIdentifiersByTypeAndInstallationDf.index + 1\n",
    "\n",
    "# Find and add count of invalid ORCIDs\n",
    "authorMetadataWithInvalidORCIDsDf = (\n",
    "    authorsWithPartialIdentifiersDf\n",
    "        .query(\n",
    "        'authorIdentifier.str.contains(\"orcid\", case=False) or\\\n",
    "        authorIdentifier.str.match(\".*.{4}-.{4}-.{4}-.{4}.*\")',\n",
    "        engine='python')\n",
    "        .reset_index(drop=True, inplace=False)\n",
    ")\n",
    "\n",
    "countOfAuthorsWithInvalidORCIDsByInstallationDf = (\n",
    "    authorMetadataWithInvalidORCIDsDf\n",
    "        .value_counts(subset=['dataverse_installation_name'])\n",
    "        .to_frame('count_of_authors_with_invalid_orcids')\n",
    "        .reset_index(drop=False, inplace=False)\n",
    ")\n",
    "\n",
    "countOfIdentifiersByTypeAndInstallationDf = (pd\n",
    "    .merge(countOfValidIdentifiersByTypeAndInstallationDf, countOfAuthorsWithInvalidORCIDsByInstallationDf,\n",
    "        how='outer',\n",
    "        on=['dataverse_installation_name'])\n",
    "    .fillna(0)\n",
    "    # Make dataverse_installation_name the index column\n",
    "    .set_index('dataverse_installation_name', inplace=False)\n",
    "    # Make sure all non-indexed columns are integers\n",
    "    .astype('int32')\n",
    "    .reset_index(drop=False, inplace=False)\n",
    "    )\n",
    "\n",
    "# Combine the ORCID and invalid_orcid columns\n",
    "countOfIdentifiersByTypeAndInstallationDf['ORCID_total'] = (\n",
    "        countOfIdentifiersByTypeAndInstallationDf['ORCID']\n",
    "        + countOfIdentifiersByTypeAndInstallationDf['count_of_authors_with_invalid_orcids']\n",
    ")\n",
    "\n",
    "# Remove the ORCID and count_of_authors_with_invalid_orcids columns and rename ORCID_total column\n",
    "countOfIdentifiersByTypeAndInstallationDf = (countOfIdentifiersByTypeAndInstallationDf\n",
    "    .drop(columns=['ORCID', 'count_of_authors_with_invalid_orcids'])\n",
    "    .rename(columns={'ORCID_total': 'ORCID'})\n",
    "    .set_index('dataverse_installation_name', inplace=False)\n",
    "    )\n",
    "\n",
    "# Alphabetize columns\n",
    "countOfIdentifiersByTypeAndInstallationDf = (countOfIdentifiersByTypeAndInstallationDf\n",
    "    .reindex(sorted(countOfIdentifiersByTypeAndInstallationDf.columns), axis=1)\n",
    "    .reset_index(drop=False, inplace=False)\n",
    "    .sort_values('dataverse_installation_name')\n",
    "    .reset_index(drop=True, inplace=False)\n",
    "    )\n",
    "\n",
    "countOfIdentifiersByTypeAndInstallationDf.head()"
   ],
   "metadata": {
    "collapsed": false,
    "pycharm": {
     "name": "#%%\n"
    }
   }
  },
  {
   "cell_type": "code",
   "execution_count": 10,
   "outputs": [],
   "source": [
    "# Export the dataframe as a CSV file\n",
    "countOfIdentifiersByTypeAndInstallationDf.to_csv('countOfIdentifiersByTypeAndInstallation.csv', index=False)"
   ],
   "metadata": {
    "collapsed": false,
    "pycharm": {
     "name": "#%%\n"
    }
   }
  },
  {
   "cell_type": "code",
   "execution_count": 11,
   "outputs": [
    {
     "data": {
      "text/plain": "               dataverse_installation_name  ORCID  Other_identifier\n0                           ACSS_Dataverse      5                 0\n1                            ADA_Dataverse   1121                 0\n2     ASU_Library_Research_Data_Repository     92                 0\n3                         AUSSDA_Dataverse    258                 0\n4                                   Abacus      0                 0\n5                               Arca_Dados    135                 0\n6                                 Borealis   3714                35\n7  CESA_-_Repositorio_de_datos_académicos      4                 0\n8                                   CIDACS     10                 0\n9                                    CIFOR     95                 0",
      "text/html": "<div><div id=01cc0201-e403-4bf5-96d9-d7e4c04bb57e style=\"display:none; background-color:#9D6CFF; color:white; width:200px; height:30px; padding-left:5px; border-radius:4px; flex-direction:row; justify-content:space-around; align-items:center;\" onmouseover=\"this.style.backgroundColor='#BA9BF8'\" onmouseout=\"this.style.backgroundColor='#9D6CFF'\" onclick=\"window.commands?.execute('create-mitosheet-from-dataframe-output');\">See Full Dataframe in Mito</div> <script> if (window.commands.hasCommand('create-mitosheet-from-dataframe-output')) document.getElementById('01cc0201-e403-4bf5-96d9-d7e4c04bb57e').style.display = 'flex' </script> <table border=\"1\" class=\"dataframe\">\n  <thead>\n    <tr style=\"text-align: right;\">\n      <th></th>\n      <th>dataverse_installation_name</th>\n      <th>ORCID</th>\n      <th>Other_identifier</th>\n    </tr>\n  </thead>\n  <tbody>\n    <tr>\n      <th>0</th>\n      <td>ACSS_Dataverse</td>\n      <td>5</td>\n      <td>0</td>\n    </tr>\n    <tr>\n      <th>1</th>\n      <td>ADA_Dataverse</td>\n      <td>1121</td>\n      <td>0</td>\n    </tr>\n    <tr>\n      <th>2</th>\n      <td>ASU_Library_Research_Data_Repository</td>\n      <td>92</td>\n      <td>0</td>\n    </tr>\n    <tr>\n      <th>3</th>\n      <td>AUSSDA_Dataverse</td>\n      <td>258</td>\n      <td>0</td>\n    </tr>\n    <tr>\n      <th>4</th>\n      <td>Abacus</td>\n      <td>0</td>\n      <td>0</td>\n    </tr>\n    <tr>\n      <th>5</th>\n      <td>Arca_Dados</td>\n      <td>135</td>\n      <td>0</td>\n    </tr>\n    <tr>\n      <th>6</th>\n      <td>Borealis</td>\n      <td>3714</td>\n      <td>35</td>\n    </tr>\n    <tr>\n      <th>7</th>\n      <td>CESA_-_Repositorio_de_datos_académicos</td>\n      <td>4</td>\n      <td>0</td>\n    </tr>\n    <tr>\n      <th>8</th>\n      <td>CIDACS</td>\n      <td>10</td>\n      <td>0</td>\n    </tr>\n    <tr>\n      <th>9</th>\n      <td>CIFOR</td>\n      <td>95</td>\n      <td>0</td>\n    </tr>\n  </tbody>\n</table></div>"
     },
     "execution_count": 11,
     "metadata": {},
     "output_type": "execute_result"
    }
   ],
   "source": [
    "# Create dataframe showing count of ORCIDs versus all other identifiers\n",
    "countOfORCIDsVersusOtherIdentifiersByInstallationDf = countOfIdentifiersByTypeAndInstallationDf\n",
    "\n",
    "countOfORCIDsVersusOtherIdentifiersByInstallationDf['Other_identifier'] = countOfORCIDsVersusOtherIdentifiersByInstallationDf[countOfIdentifiersByTypeAndInstallationDf.columns.delete([0, 6])].apply(\n",
    "    lambda x: sum(x), axis=1\n",
    ")\n",
    "\n",
    "# Remove columns and reorder remaining columns\n",
    "countOfORCIDsVersusOtherIdentifiersByInstallationDf = (\n",
    "    countOfORCIDsVersusOtherIdentifiersByInstallationDf[[\n",
    "        'dataverse_installation_name',\n",
    "        'ORCID',\n",
    "        'Other_identifier']]\n",
    ")\n",
    "\n",
    "countOfORCIDsVersusOtherIdentifiersByInstallationDf.head(10)"
   ],
   "metadata": {
    "collapsed": false,
    "pycharm": {
     "name": "#%%\n"
    }
   }
  },
  {
   "cell_type": "code",
   "execution_count": 12,
   "outputs": [],
   "source": [
    "# Export the dataframe as a CSV file\n",
    "countOfORCIDsVersusOtherIdentifiersByInstallationDf.to_csv('countOfORCIDsVersusOtherIdentifiersByInstallation.csv', index=False)"
   ],
   "metadata": {
    "collapsed": false,
    "pycharm": {
     "name": "#%%\n"
    }
   }
  },
  {
   "cell_type": "markdown",
   "source": [
    "Each month, how much author metadata is published? And how much of that author metadata includes valid ORCID metadata (where Identifier Type is ORCID and Identifier follows the xxxx-xxxx-xxxx-xxxx format), invalid ORCID metadata, and other identifier metadata (such as GNDs and ResearcherIDs)?\n"
   ],
   "metadata": {
    "collapsed": false,
    "pycharm": {
     "name": "#%% md\n",
     "is_executing": true
    }
   }
  },
  {
   "cell_type": "code",
   "execution_count": 70,
   "outputs": [],
   "source": [
    "# Let's crete a function that returns a dataframe showing the count of author metadata published each month\n",
    "def monthly_author_metadata_counts(dataframe, publicationStartDate, keepInstallation='all'):\n",
    "    if keepInstallation != 'all':\n",
    "        monthlyAuthorMetadataCountDf = (dataframe\n",
    "            .query('dataverse_installation_name == @keepInstallation'))\n",
    "    else:\n",
    "        monthlyAuthorMetadataCountDf = dataframe\n",
    "\n",
    "    monthlyAuthorMetadataCountDf = (monthlyAuthorMetadataCountDf\n",
    "        # Include author metadata only published in the last two years, since 2021-08-22\n",
    "        .query(\n",
    "            'dataset_version_create_time >= @publicationStartDate')\n",
    "        # Retain only dataverse_installation_name and dataset_version_create_time\n",
    "        [[\n",
    "            'dataverse_installation_name',\n",
    "            'authorName',\n",
    "            'authorIdentifierScheme',\n",
    "            'authorIdentifier',\n",
    "            'dataset_version_create_time'\n",
    "        ]]\n",
    "        # Include author metadata only published in the last two years, since 2021-08-22\n",
    "        .query(\n",
    "            'dataset_version_create_time >= @publicationStartDate')\n",
    "        # Create column with dataset_version_create_time as a datetime dtype\n",
    "        .assign(dataset_version_create_time_dt=lambda monthlyAuthorMetadataCountDf: pd.to_datetime(\n",
    "            monthlyAuthorMetadataCountDf['dataset_version_create_time']))\n",
    "        .drop(columns=['dataset_version_create_time'])\n",
    "        # Create a helper column with year-month (string) that each author metadata was published in\n",
    "        .assign(dataset_version_create_year_month=lambda monthlyAuthorMetadataCountDf: pd.to_datetime(\n",
    "            monthlyAuthorMetadataCountDf['dataset_version_create_time_dt']).apply(lambda x: '{year}-{month}'.format(year=x.year, month=x.month)))\n",
    "        .drop(columns=['dataset_version_create_time_dt'])\n",
    "        # Within each month, drop duplicate author metadata. This will mitigate the effect of\n",
    "        # hundreds or thousands of datasets being published with the same author metadata in a short\n",
    "        # time frame, such during a dataset migration or bulk publishing using APIs\n",
    "        .drop_duplicates(\n",
    "            subset=[\n",
    "                'dataverse_installation_name',\n",
    "                'authorName',\n",
    "                'authorIdentifierScheme',\n",
    "                'authorIdentifier'\n",
    "            ],\n",
    "            keep='first')\n",
    "        # Group by count of rows for each year-month\n",
    "        .groupby(pd.Grouper(key='dataset_version_create_year_month', axis=0)).count()\n",
    "        .rename(columns={'dataverse_installation_name': 'count_of_all_author_metadata'})\n",
    "        # Remove all but count_of_author_metadata column\n",
    "        [['count_of_all_author_metadata']]\n",
    "        .reset_index(drop=False, inplace=False))\n",
    "\n",
    "    # Convert dataset_version_create_year_month to datetime\n",
    "    monthlyAuthorMetadataCountDf['dataset_version_create_year_month'] = (pd\n",
    "        .to_datetime(monthlyAuthorMetadataCountDf['dataset_version_create_year_month']))\n",
    "\n",
    "    monthlyAuthorMetadataCountDf = (monthlyAuthorMetadataCountDf\n",
    "        .sort_values('dataset_version_create_year_month')\n",
    "        .reset_index(drop=True, inplace=False)\n",
    "    )\n",
    "\n",
    "    return monthlyAuthorMetadataCountDf"
   ],
   "metadata": {
    "collapsed": false,
    "pycharm": {
     "name": "#%%\n"
    }
   }
  },
  {
   "cell_type": "code",
   "execution_count": 71,
   "outputs": [
    {
     "data": {
      "text/plain": "  dataset_version_create_year_month  count_of_all_author_metadata\n0                        2021-08-01                           293\n1                        2021-09-01                           816\n2                        2021-10-01                           760\n3                        2021-11-01                           817\n4                        2021-12-01                           808",
      "text/html": "<div><div id=4609d13e-37ef-4a73-b539-f92d9f54c246 style=\"display:none; background-color:#9D6CFF; color:white; width:200px; height:30px; padding-left:5px; border-radius:4px; flex-direction:row; justify-content:space-around; align-items:center;\" onmouseover=\"this.style.backgroundColor='#BA9BF8'\" onmouseout=\"this.style.backgroundColor='#9D6CFF'\" onclick=\"window.commands?.execute('create-mitosheet-from-dataframe-output');\">See Full Dataframe in Mito</div> <script> if (window.commands.hasCommand('create-mitosheet-from-dataframe-output')) document.getElementById('4609d13e-37ef-4a73-b539-f92d9f54c246').style.display = 'flex' </script> <table border=\"1\" class=\"dataframe\">\n  <thead>\n    <tr style=\"text-align: right;\">\n      <th></th>\n      <th>dataset_version_create_year_month</th>\n      <th>count_of_all_author_metadata</th>\n    </tr>\n  </thead>\n  <tbody>\n    <tr>\n      <th>0</th>\n      <td>2021-08-01</td>\n      <td>293</td>\n    </tr>\n    <tr>\n      <th>1</th>\n      <td>2021-09-01</td>\n      <td>816</td>\n    </tr>\n    <tr>\n      <th>2</th>\n      <td>2021-10-01</td>\n      <td>760</td>\n    </tr>\n    <tr>\n      <th>3</th>\n      <td>2021-11-01</td>\n      <td>817</td>\n    </tr>\n    <tr>\n      <th>4</th>\n      <td>2021-12-01</td>\n      <td>808</td>\n    </tr>\n  </tbody>\n</table></div>"
     },
     "execution_count": 71,
     "metadata": {},
     "output_type": "execute_result"
    }
   ],
   "source": [
    "monthlyAuthorMetadataCountHDVDf = monthly_author_metadata_counts(\n",
    "    dataframe=datasetPIDsAndAuthorMetadataDF,\n",
    "    publicationStartDate='2021-08-22',\n",
    "    keepInstallation='Harvard_Dataverse')\n",
    "\n",
    "monthlyAuthorMetadataCountHDVDf.head()"
   ],
   "metadata": {
    "collapsed": false,
    "pycharm": {
     "name": "#%%\n"
    }
   }
  },
  {
   "cell_type": "code",
   "execution_count": 73,
   "outputs": [],
   "source": [
    "# Now let's create another dataframe with the monthly counts of ORCIDs and non-ORCID identifiers.\n",
    "\n",
    "# Create dataframe with author metadata with valid and invalid ORCIDs published in the last two years\n",
    "\n",
    "def monthly_orcids_counts(dataframe, publicationStartDate, keepInstallation='all'):\n",
    "    if keepInstallation != 'all':\n",
    "        monthlyORCIDsCountDf = (dataframe\n",
    "            .query('dataverse_installation_name == @keepInstallation'))\n",
    "    else:\n",
    "        monthlyORCIDsCountDf = dataframe\n",
    "\n",
    "    monthlyORCIDsCountDf = (monthlyORCIDsCountDf\n",
    "        [[\n",
    "            'dataverse_installation_name',\n",
    "            'dataset_version_create_time',\n",
    "            'authorName',\n",
    "            'authorIdentifierScheme',\n",
    "            'authorIdentifier'\n",
    "        ]]\n",
    "        .query(\n",
    "            'dataset_version_create_time >= @publicationStartDate and\\\n",
    "            (authorIdentifier.str.contains(\"orcid\", case=False) or\\\n",
    "            authorIdentifier.str.match(\".*.{4}-.{4}-.{4}-.{4}.*\") or\\\n",
    "            (authorIdentifier == \"ORCID\" and\\\n",
    "            authorIdentifier == authorIdentifier))',\n",
    "            engine='python')\n",
    "\n",
    "        # Create column with dataset_version_create_time as a datetime dtype\n",
    "        .assign(dataset_version_create_time_dt=lambda monthlyORCIDsCountDf: pd.to_datetime(\n",
    "            monthlyORCIDsCountDf['dataset_version_create_time']))\n",
    "        .drop(columns=['dataset_version_create_time'])\n",
    "\n",
    "        # Create a helper column with year-month (string) that each author metadata was published in\n",
    "        .assign(dataset_version_create_year_month=lambda monthlyORCIDsCountDf: pd.to_datetime(\n",
    "            monthlyORCIDsCountDf['dataset_version_create_time_dt']).apply(lambda x: '{year}-{month}'.format(year=x.year, month=x.month)))\n",
    "        .drop(columns=['dataset_version_create_time_dt'])\n",
    "\n",
    "        # Within each month, drop duplicate author metadata. This will mitigate the effect of\n",
    "        # hundreds or thousands of datasets being published with the same author metadata in a short\n",
    "        # time frame, such during a dataset migration or bulk publishing using APIs\n",
    "        .drop_duplicates(\n",
    "            subset=[\n",
    "                'dataverse_installation_name',\n",
    "                'authorName',\n",
    "                'authorIdentifierScheme',\n",
    "                'authorIdentifier'\n",
    "            ],\n",
    "            keep='first')\n",
    "\n",
    "        # Group by count of rows for each year-month\n",
    "        .groupby(pd.Grouper(key='dataset_version_create_year_month', axis=0)).count()\n",
    "        .rename(columns={'dataverse_installation_name': 'count_of_author_metadata_orcids'})\n",
    "          # Remove all but count_of_author_metadata column\n",
    "        [['count_of_author_metadata_orcids']]\n",
    "\n",
    "        .reset_index(drop=False, inplace=False)\n",
    "    )\n",
    "\n",
    "    # Convert dataset_version_create_year_month to datetime\n",
    "    monthlyORCIDsCountDf['dataset_version_create_year_month'] = (pd\n",
    "        .to_datetime(monthlyORCIDsCountDf['dataset_version_create_year_month']))\n",
    "\n",
    "    monthlyORCIDsCountDf = (monthlyORCIDsCountDf\n",
    "        .sort_values('dataset_version_create_year_month')\n",
    "        .reset_index(drop=True, inplace=False))\n",
    "\n",
    "    return monthlyORCIDsCountDf"
   ],
   "metadata": {
    "collapsed": false,
    "pycharm": {
     "name": "#%%\n"
    }
   }
  },
  {
   "cell_type": "code",
   "execution_count": 74,
   "outputs": [
    {
     "data": {
      "text/plain": "  dataset_version_create_year_month  count_of_author_metadata_orcids\n0                        2021-08-01                              155\n1                        2021-09-01                              635\n2                        2021-10-01                              578\n3                        2021-11-01                              676\n4                        2021-12-01                              654",
      "text/html": "<div><div id=6a9d6b68-a7ff-48de-865f-0087fe60e77e style=\"display:none; background-color:#9D6CFF; color:white; width:200px; height:30px; padding-left:5px; border-radius:4px; flex-direction:row; justify-content:space-around; align-items:center;\" onmouseover=\"this.style.backgroundColor='#BA9BF8'\" onmouseout=\"this.style.backgroundColor='#9D6CFF'\" onclick=\"window.commands?.execute('create-mitosheet-from-dataframe-output');\">See Full Dataframe in Mito</div> <script> if (window.commands.hasCommand('create-mitosheet-from-dataframe-output')) document.getElementById('6a9d6b68-a7ff-48de-865f-0087fe60e77e').style.display = 'flex' </script> <table border=\"1\" class=\"dataframe\">\n  <thead>\n    <tr style=\"text-align: right;\">\n      <th></th>\n      <th>dataset_version_create_year_month</th>\n      <th>count_of_author_metadata_orcids</th>\n    </tr>\n  </thead>\n  <tbody>\n    <tr>\n      <th>0</th>\n      <td>2021-08-01</td>\n      <td>155</td>\n    </tr>\n    <tr>\n      <th>1</th>\n      <td>2021-09-01</td>\n      <td>635</td>\n    </tr>\n    <tr>\n      <th>2</th>\n      <td>2021-10-01</td>\n      <td>578</td>\n    </tr>\n    <tr>\n      <th>3</th>\n      <td>2021-11-01</td>\n      <td>676</td>\n    </tr>\n    <tr>\n      <th>4</th>\n      <td>2021-12-01</td>\n      <td>654</td>\n    </tr>\n  </tbody>\n</table></div>"
     },
     "execution_count": 74,
     "metadata": {},
     "output_type": "execute_result"
    }
   ],
   "source": [
    "authorMetadataWithORCIDsDf = monthly_orcids_counts(\n",
    "    dataframe=datasetPIDsAndAuthorMetadataDF,\n",
    "    publicationStartDate='2021-08-22',\n",
    "    keepInstallation='all')\n",
    "\n",
    "authorMetadataWithORCIDsDf.head()\n",
    "# authorMetadataWithORCIDsDf.to_csv('authorMetadataWithORCIDs.csv', index=False)"
   ],
   "metadata": {
    "collapsed": false,
    "pycharm": {
     "name": "#%%\n"
    }
   }
  },
  {
   "cell_type": "code",
   "execution_count": 75,
   "outputs": [
    {
     "data": {
      "text/plain": "  dataset_version_create_year_month  count_of_author_metadata_orcids\n0                        2021-08-01                               76\n1                        2021-09-01                              301\n2                        2021-10-01                              247\n3                        2021-11-01                              275\n4                        2021-12-01                              255",
      "text/html": "<div><div id=ed912604-7fc2-4ffa-adbf-4856666e0307 style=\"display:none; background-color:#9D6CFF; color:white; width:200px; height:30px; padding-left:5px; border-radius:4px; flex-direction:row; justify-content:space-around; align-items:center;\" onmouseover=\"this.style.backgroundColor='#BA9BF8'\" onmouseout=\"this.style.backgroundColor='#9D6CFF'\" onclick=\"window.commands?.execute('create-mitosheet-from-dataframe-output');\">See Full Dataframe in Mito</div> <script> if (window.commands.hasCommand('create-mitosheet-from-dataframe-output')) document.getElementById('ed912604-7fc2-4ffa-adbf-4856666e0307').style.display = 'flex' </script> <table border=\"1\" class=\"dataframe\">\n  <thead>\n    <tr style=\"text-align: right;\">\n      <th></th>\n      <th>dataset_version_create_year_month</th>\n      <th>count_of_author_metadata_orcids</th>\n    </tr>\n  </thead>\n  <tbody>\n    <tr>\n      <th>0</th>\n      <td>2021-08-01</td>\n      <td>76</td>\n    </tr>\n    <tr>\n      <th>1</th>\n      <td>2021-09-01</td>\n      <td>301</td>\n    </tr>\n    <tr>\n      <th>2</th>\n      <td>2021-10-01</td>\n      <td>247</td>\n    </tr>\n    <tr>\n      <th>3</th>\n      <td>2021-11-01</td>\n      <td>275</td>\n    </tr>\n    <tr>\n      <th>4</th>\n      <td>2021-12-01</td>\n      <td>255</td>\n    </tr>\n  </tbody>\n</table></div>"
     },
     "execution_count": 75,
     "metadata": {},
     "output_type": "execute_result"
    }
   ],
   "source": [
    "authorMetadataWithORCIDsHDVDf = monthly_orcids_counts(\n",
    "    dataframe=datasetPIDsAndAuthorMetadataDF,\n",
    "    publicationStartDate='2021-08-22',\n",
    "    keepInstallation='Harvard_Dataverse')\n",
    "\n",
    "authorMetadataWithORCIDsHDVDf.head()\n",
    "# authorMetadataWithORCIDsDf.to_csv('authorMetadataWithORCIDs.csv', index=False)"
   ],
   "metadata": {
    "collapsed": false,
    "pycharm": {
     "name": "#%%\n"
    }
   }
  },
  {
   "cell_type": "code",
   "execution_count": null,
   "outputs": [],
   "source": [
    "\n",
    "#\n",
    "# monthlyAuthorMetadataCountDf = (datasetPIDsAndAuthorMetadataDF\n",
    "#     # Retain only dataverse_installation_name and dataset_version_create_time\n",
    "#     .loc[:,[\n",
    "#         'dataverse_installation_name',\n",
    "#         'dataset_version_create_time']]\n",
    "#     # Include author metadata only published in the last two years, since 2021-08-22\n",
    "#     .query(\n",
    "#         'dataset_version_create_time > \"2021-08-21\"')\n",
    "#     # Create column with dataset_version_create_time as a datetime dtype\n",
    "#     .assign(dataset_version_create_time_dt=lambda monthlyAuthorMetadataCountDf: pd.to_datetime(\n",
    "#         monthlyAuthorMetadataCountDf['dataset_version_create_time']))\n",
    "#     .drop(columns=['dataset_version_create_time'])\n",
    "#     # Create a helper column with year-month (string) that each author metadata was published in\n",
    "#     .assign(dataset_version_create_year_month=lambda monthlyAuthorMetadataCountDf: pd.to_datetime(\n",
    "#         monthlyAuthorMetadataCountDf['dataset_version_create_time_dt']).apply(lambda x: '{year}-{month}'.format(year=x.year, month=x.month)))\n",
    "#     .drop(columns=['dataset_version_create_time_dt'])\n",
    "#     # Group by count of rows for each year-month\n",
    "#     .groupby(pd.Grouper(key='dataset_version_create_year_month', axis=0)).count()\n",
    "#     .rename(columns={'dataverse_installation_name': 'count_of_author_metadata'})\n",
    "#     .reset_index(drop=False, inplace=False)\n",
    "#     )\n",
    "#\n",
    "# # Convert dataset_version_create_year_month to datetime\n",
    "# monthlyAuthorMetadataCountDf['dataset_version_create_year_month'] = (pd\n",
    "#                                                                      .to_datetime(monthlyAuthorMetadataCountDf['dataset_version_create_year_month']))\n",
    "# monthlyAuthorMetadataCountDf.head()"
   ],
   "metadata": {
    "collapsed": false,
    "pycharm": {
     "name": "#%%\n"
    }
   }
  },
  {
   "cell_type": "code",
   "execution_count": 42,
   "outputs": [
    {
     "data": {
      "application/vnd.plotly.v1+json": {
       "config": {
        "plotlyServerURL": "https://plot.ly"
       },
       "data": [
        {
         "alignmentgroup": "True",
         "cliponaxis": false,
         "hovertemplate": "dataset_version_create_year_month=%{x}<br>count_of_author_metadata=%{text}<extra></extra>",
         "legendgroup": "",
         "marker": {
          "color": "#636efa",
          "pattern": {
           "shape": ""
          }
         },
         "name": "",
         "offsetgroup": "",
         "orientation": "v",
         "showlegend": false,
         "text": [
          19585.0,
          10139.0,
          5359.0,
          75586.0,
          5186.0,
          4845.0,
          7790.0,
          7880.0,
          5801.0,
          22683.0,
          4332.0,
          7582.0,
          110850.0,
          3071.0,
          8337.0,
          4548.0,
          7645.0,
          58907.0,
          5886.0,
          2660.0,
          4066.0,
          70550.0,
          3383.0,
          10300.0,
          2888.0
         ],
         "textangle": 0,
         "textfont": {
          "size": 12
         },
         "textposition": "outside",
         "type": "bar",
         "x": [
          "2022-3",
          "2021-9",
          "2022-4",
          "2022-5",
          "2022-6",
          "2022-10",
          "2022-7",
          "2022-8",
          "2023-2",
          "2023-4",
          "2023-5",
          "2021-8",
          "2023-7",
          "2021-10",
          "2022-9",
          "2022-11",
          "2023-3",
          "2022-1",
          "2023-6",
          "2021-11",
          "2023-1",
          "2022-2",
          "2022-12",
          "2021-12",
          "2023-8"
         ],
         "xaxis": "x",
         "y": [
          19585,
          10139,
          5359,
          75586,
          5186,
          4845,
          7790,
          7880,
          5801,
          22683,
          4332,
          7582,
          110850,
          3071,
          8337,
          4548,
          7645,
          58907,
          5886,
          2660,
          4066,
          70550,
          3383,
          10300,
          2888
         ],
         "yaxis": "y"
        }
       ],
       "layout": {
        "barmode": "relative",
        "legend": {
         "tracegroupgap": 0
        },
        "margin": {
         "t": 60
        },
        "template": {
         "data": {
          "bar": [
           {
            "error_x": {
             "color": "#2a3f5f"
            },
            "error_y": {
             "color": "#2a3f5f"
            },
            "marker": {
             "line": {
              "color": "#E5ECF6",
              "width": 0.5
             },
             "pattern": {
              "fillmode": "overlay",
              "size": 10,
              "solidity": 0.2
             }
            },
            "type": "bar"
           }
          ],
          "barpolar": [
           {
            "marker": {
             "line": {
              "color": "#E5ECF6",
              "width": 0.5
             },
             "pattern": {
              "fillmode": "overlay",
              "size": 10,
              "solidity": 0.2
             }
            },
            "type": "barpolar"
           }
          ],
          "carpet": [
           {
            "aaxis": {
             "endlinecolor": "#2a3f5f",
             "gridcolor": "white",
             "linecolor": "white",
             "minorgridcolor": "white",
             "startlinecolor": "#2a3f5f"
            },
            "baxis": {
             "endlinecolor": "#2a3f5f",
             "gridcolor": "white",
             "linecolor": "white",
             "minorgridcolor": "white",
             "startlinecolor": "#2a3f5f"
            },
            "type": "carpet"
           }
          ],
          "choropleth": [
           {
            "colorbar": {
             "outlinewidth": 0,
             "ticks": ""
            },
            "type": "choropleth"
           }
          ],
          "contour": [
           {
            "colorbar": {
             "outlinewidth": 0,
             "ticks": ""
            },
            "colorscale": [
             [
              0.0,
              "#0d0887"
             ],
             [
              0.1111111111111111,
              "#46039f"
             ],
             [
              0.2222222222222222,
              "#7201a8"
             ],
             [
              0.3333333333333333,
              "#9c179e"
             ],
             [
              0.4444444444444444,
              "#bd3786"
             ],
             [
              0.5555555555555556,
              "#d8576b"
             ],
             [
              0.6666666666666666,
              "#ed7953"
             ],
             [
              0.7777777777777778,
              "#fb9f3a"
             ],
             [
              0.8888888888888888,
              "#fdca26"
             ],
             [
              1.0,
              "#f0f921"
             ]
            ],
            "type": "contour"
           }
          ],
          "contourcarpet": [
           {
            "colorbar": {
             "outlinewidth": 0,
             "ticks": ""
            },
            "type": "contourcarpet"
           }
          ],
          "heatmap": [
           {
            "colorbar": {
             "outlinewidth": 0,
             "ticks": ""
            },
            "colorscale": [
             [
              0.0,
              "#0d0887"
             ],
             [
              0.1111111111111111,
              "#46039f"
             ],
             [
              0.2222222222222222,
              "#7201a8"
             ],
             [
              0.3333333333333333,
              "#9c179e"
             ],
             [
              0.4444444444444444,
              "#bd3786"
             ],
             [
              0.5555555555555556,
              "#d8576b"
             ],
             [
              0.6666666666666666,
              "#ed7953"
             ],
             [
              0.7777777777777778,
              "#fb9f3a"
             ],
             [
              0.8888888888888888,
              "#fdca26"
             ],
             [
              1.0,
              "#f0f921"
             ]
            ],
            "type": "heatmap"
           }
          ],
          "heatmapgl": [
           {
            "colorbar": {
             "outlinewidth": 0,
             "ticks": ""
            },
            "colorscale": [
             [
              0.0,
              "#0d0887"
             ],
             [
              0.1111111111111111,
              "#46039f"
             ],
             [
              0.2222222222222222,
              "#7201a8"
             ],
             [
              0.3333333333333333,
              "#9c179e"
             ],
             [
              0.4444444444444444,
              "#bd3786"
             ],
             [
              0.5555555555555556,
              "#d8576b"
             ],
             [
              0.6666666666666666,
              "#ed7953"
             ],
             [
              0.7777777777777778,
              "#fb9f3a"
             ],
             [
              0.8888888888888888,
              "#fdca26"
             ],
             [
              1.0,
              "#f0f921"
             ]
            ],
            "type": "heatmapgl"
           }
          ],
          "histogram": [
           {
            "marker": {
             "pattern": {
              "fillmode": "overlay",
              "size": 10,
              "solidity": 0.2
             }
            },
            "type": "histogram"
           }
          ],
          "histogram2d": [
           {
            "colorbar": {
             "outlinewidth": 0,
             "ticks": ""
            },
            "colorscale": [
             [
              0.0,
              "#0d0887"
             ],
             [
              0.1111111111111111,
              "#46039f"
             ],
             [
              0.2222222222222222,
              "#7201a8"
             ],
             [
              0.3333333333333333,
              "#9c179e"
             ],
             [
              0.4444444444444444,
              "#bd3786"
             ],
             [
              0.5555555555555556,
              "#d8576b"
             ],
             [
              0.6666666666666666,
              "#ed7953"
             ],
             [
              0.7777777777777778,
              "#fb9f3a"
             ],
             [
              0.8888888888888888,
              "#fdca26"
             ],
             [
              1.0,
              "#f0f921"
             ]
            ],
            "type": "histogram2d"
           }
          ],
          "histogram2dcontour": [
           {
            "colorbar": {
             "outlinewidth": 0,
             "ticks": ""
            },
            "colorscale": [
             [
              0.0,
              "#0d0887"
             ],
             [
              0.1111111111111111,
              "#46039f"
             ],
             [
              0.2222222222222222,
              "#7201a8"
             ],
             [
              0.3333333333333333,
              "#9c179e"
             ],
             [
              0.4444444444444444,
              "#bd3786"
             ],
             [
              0.5555555555555556,
              "#d8576b"
             ],
             [
              0.6666666666666666,
              "#ed7953"
             ],
             [
              0.7777777777777778,
              "#fb9f3a"
             ],
             [
              0.8888888888888888,
              "#fdca26"
             ],
             [
              1.0,
              "#f0f921"
             ]
            ],
            "type": "histogram2dcontour"
           }
          ],
          "mesh3d": [
           {
            "colorbar": {
             "outlinewidth": 0,
             "ticks": ""
            },
            "type": "mesh3d"
           }
          ],
          "parcoords": [
           {
            "line": {
             "colorbar": {
              "outlinewidth": 0,
              "ticks": ""
             }
            },
            "type": "parcoords"
           }
          ],
          "pie": [
           {
            "automargin": true,
            "type": "pie"
           }
          ],
          "scatter": [
           {
            "marker": {
             "colorbar": {
              "outlinewidth": 0,
              "ticks": ""
             }
            },
            "type": "scatter"
           }
          ],
          "scatter3d": [
           {
            "line": {
             "colorbar": {
              "outlinewidth": 0,
              "ticks": ""
             }
            },
            "marker": {
             "colorbar": {
              "outlinewidth": 0,
              "ticks": ""
             }
            },
            "type": "scatter3d"
           }
          ],
          "scattercarpet": [
           {
            "marker": {
             "colorbar": {
              "outlinewidth": 0,
              "ticks": ""
             }
            },
            "type": "scattercarpet"
           }
          ],
          "scattergeo": [
           {
            "marker": {
             "colorbar": {
              "outlinewidth": 0,
              "ticks": ""
             }
            },
            "type": "scattergeo"
           }
          ],
          "scattergl": [
           {
            "marker": {
             "colorbar": {
              "outlinewidth": 0,
              "ticks": ""
             }
            },
            "type": "scattergl"
           }
          ],
          "scattermapbox": [
           {
            "marker": {
             "colorbar": {
              "outlinewidth": 0,
              "ticks": ""
             }
            },
            "type": "scattermapbox"
           }
          ],
          "scatterpolar": [
           {
            "marker": {
             "colorbar": {
              "outlinewidth": 0,
              "ticks": ""
             }
            },
            "type": "scatterpolar"
           }
          ],
          "scatterpolargl": [
           {
            "marker": {
             "colorbar": {
              "outlinewidth": 0,
              "ticks": ""
             }
            },
            "type": "scatterpolargl"
           }
          ],
          "scatterternary": [
           {
            "marker": {
             "colorbar": {
              "outlinewidth": 0,
              "ticks": ""
             }
            },
            "type": "scatterternary"
           }
          ],
          "surface": [
           {
            "colorbar": {
             "outlinewidth": 0,
             "ticks": ""
            },
            "colorscale": [
             [
              0.0,
              "#0d0887"
             ],
             [
              0.1111111111111111,
              "#46039f"
             ],
             [
              0.2222222222222222,
              "#7201a8"
             ],
             [
              0.3333333333333333,
              "#9c179e"
             ],
             [
              0.4444444444444444,
              "#bd3786"
             ],
             [
              0.5555555555555556,
              "#d8576b"
             ],
             [
              0.6666666666666666,
              "#ed7953"
             ],
             [
              0.7777777777777778,
              "#fb9f3a"
             ],
             [
              0.8888888888888888,
              "#fdca26"
             ],
             [
              1.0,
              "#f0f921"
             ]
            ],
            "type": "surface"
           }
          ],
          "table": [
           {
            "cells": {
             "fill": {
              "color": "#EBF0F8"
             },
             "line": {
              "color": "white"
             }
            },
            "header": {
             "fill": {
              "color": "#C8D4E3"
             },
             "line": {
              "color": "white"
             }
            },
            "type": "table"
           }
          ]
         },
         "layout": {
          "annotationdefaults": {
           "arrowcolor": "#2a3f5f",
           "arrowhead": 0,
           "arrowwidth": 1
          },
          "autotypenumbers": "strict",
          "coloraxis": {
           "colorbar": {
            "outlinewidth": 0,
            "ticks": ""
           }
          },
          "colorscale": {
           "diverging": [
            [
             0,
             "#8e0152"
            ],
            [
             0.1,
             "#c51b7d"
            ],
            [
             0.2,
             "#de77ae"
            ],
            [
             0.3,
             "#f1b6da"
            ],
            [
             0.4,
             "#fde0ef"
            ],
            [
             0.5,
             "#f7f7f7"
            ],
            [
             0.6,
             "#e6f5d0"
            ],
            [
             0.7,
             "#b8e186"
            ],
            [
             0.8,
             "#7fbc41"
            ],
            [
             0.9,
             "#4d9221"
            ],
            [
             1,
             "#276419"
            ]
           ],
           "sequential": [
            [
             0.0,
             "#0d0887"
            ],
            [
             0.1111111111111111,
             "#46039f"
            ],
            [
             0.2222222222222222,
             "#7201a8"
            ],
            [
             0.3333333333333333,
             "#9c179e"
            ],
            [
             0.4444444444444444,
             "#bd3786"
            ],
            [
             0.5555555555555556,
             "#d8576b"
            ],
            [
             0.6666666666666666,
             "#ed7953"
            ],
            [
             0.7777777777777778,
             "#fb9f3a"
            ],
            [
             0.8888888888888888,
             "#fdca26"
            ],
            [
             1.0,
             "#f0f921"
            ]
           ],
           "sequentialminus": [
            [
             0.0,
             "#0d0887"
            ],
            [
             0.1111111111111111,
             "#46039f"
            ],
            [
             0.2222222222222222,
             "#7201a8"
            ],
            [
             0.3333333333333333,
             "#9c179e"
            ],
            [
             0.4444444444444444,
             "#bd3786"
            ],
            [
             0.5555555555555556,
             "#d8576b"
            ],
            [
             0.6666666666666666,
             "#ed7953"
            ],
            [
             0.7777777777777778,
             "#fb9f3a"
            ],
            [
             0.8888888888888888,
             "#fdca26"
            ],
            [
             1.0,
             "#f0f921"
            ]
           ]
          },
          "colorway": [
           "#636efa",
           "#EF553B",
           "#00cc96",
           "#ab63fa",
           "#FFA15A",
           "#19d3f3",
           "#FF6692",
           "#B6E880",
           "#FF97FF",
           "#FECB52"
          ],
          "font": {
           "color": "#2a3f5f"
          },
          "geo": {
           "bgcolor": "white",
           "lakecolor": "white",
           "landcolor": "#E5ECF6",
           "showlakes": true,
           "showland": true,
           "subunitcolor": "white"
          },
          "hoverlabel": {
           "align": "left"
          },
          "hovermode": "closest",
          "mapbox": {
           "style": "light"
          },
          "paper_bgcolor": "white",
          "plot_bgcolor": "#E5ECF6",
          "polar": {
           "angularaxis": {
            "gridcolor": "white",
            "linecolor": "white",
            "ticks": ""
           },
           "bgcolor": "#E5ECF6",
           "radialaxis": {
            "gridcolor": "white",
            "linecolor": "white",
            "ticks": ""
           }
          },
          "scene": {
           "xaxis": {
            "backgroundcolor": "#E5ECF6",
            "gridcolor": "white",
            "gridwidth": 2,
            "linecolor": "white",
            "showbackground": true,
            "ticks": "",
            "zerolinecolor": "white"
           },
           "yaxis": {
            "backgroundcolor": "#E5ECF6",
            "gridcolor": "white",
            "gridwidth": 2,
            "linecolor": "white",
            "showbackground": true,
            "ticks": "",
            "zerolinecolor": "white"
           },
           "zaxis": {
            "backgroundcolor": "#E5ECF6",
            "gridcolor": "white",
            "gridwidth": 2,
            "linecolor": "white",
            "showbackground": true,
            "ticks": "",
            "zerolinecolor": "white"
           }
          },
          "shapedefaults": {
           "line": {
            "color": "#2a3f5f"
           }
          },
          "ternary": {
           "aaxis": {
            "gridcolor": "white",
            "linecolor": "white",
            "ticks": ""
           },
           "baxis": {
            "gridcolor": "white",
            "linecolor": "white",
            "ticks": ""
           },
           "bgcolor": "#E5ECF6",
           "caxis": {
            "gridcolor": "white",
            "linecolor": "white",
            "ticks": ""
           }
          },
          "title": {
           "x": 0.05
          },
          "xaxis": {
           "automargin": true,
           "gridcolor": "white",
           "linecolor": "white",
           "ticks": "",
           "title": {
            "standoff": 15
           },
           "zerolinecolor": "white",
           "zerolinewidth": 2
          },
          "yaxis": {
           "automargin": true,
           "gridcolor": "white",
           "linecolor": "white",
           "ticks": "",
           "title": {
            "standoff": 15
           },
           "zerolinecolor": "white",
           "zerolinewidth": 2
          }
         }
        },
        "xaxis": {
         "anchor": "y",
         "domain": [
          0.0,
          1.0
         ],
         "dtick": "M1",
         "title": {
          "text": "dataset_version_create_year_month"
         },
         "type": "date"
        },
        "yaxis": {
         "anchor": "x",
         "domain": [
          0.0,
          1.0
         ],
         "title": {
          "text": "count_of_author_metadata"
         }
        }
       }
      },
      "text/html": "<div>                            <div id=\"804bb9d5-39e6-4b90-a303-d8ac934a931d\" class=\"plotly-graph-div\" style=\"height:525px; width:100%;\"></div>            <script type=\"text/javascript\">                require([\"plotly\"], function(Plotly) {                    window.PLOTLYENV=window.PLOTLYENV || {};                                    if (document.getElementById(\"804bb9d5-39e6-4b90-a303-d8ac934a931d\")) {                    Plotly.newPlot(                        \"804bb9d5-39e6-4b90-a303-d8ac934a931d\",                        [{\"alignmentgroup\":\"True\",\"cliponaxis\":false,\"hovertemplate\":\"dataset_version_create_year_month=%{x}<br>count_of_author_metadata=%{text}<extra></extra>\",\"legendgroup\":\"\",\"marker\":{\"color\":\"#636efa\",\"pattern\":{\"shape\":\"\"}},\"name\":\"\",\"offsetgroup\":\"\",\"orientation\":\"v\",\"showlegend\":false,\"text\":[19585.0,10139.0,5359.0,75586.0,5186.0,4845.0,7790.0,7880.0,5801.0,22683.0,4332.0,7582.0,110850.0,3071.0,8337.0,4548.0,7645.0,58907.0,5886.0,2660.0,4066.0,70550.0,3383.0,10300.0,2888.0],\"textangle\":0,\"textfont\":{\"size\":12},\"textposition\":\"outside\",\"type\":\"bar\",\"x\":[\"2022-3\",\"2021-9\",\"2022-4\",\"2022-5\",\"2022-6\",\"2022-10\",\"2022-7\",\"2022-8\",\"2023-2\",\"2023-4\",\"2023-5\",\"2021-8\",\"2023-7\",\"2021-10\",\"2022-9\",\"2022-11\",\"2023-3\",\"2022-1\",\"2023-6\",\"2021-11\",\"2023-1\",\"2022-2\",\"2022-12\",\"2021-12\",\"2023-8\"],\"xaxis\":\"x\",\"y\":[19585,10139,5359,75586,5186,4845,7790,7880,5801,22683,4332,7582,110850,3071,8337,4548,7645,58907,5886,2660,4066,70550,3383,10300,2888],\"yaxis\":\"y\"}],                        {\"barmode\":\"relative\",\"legend\":{\"tracegroupgap\":0},\"margin\":{\"t\":60},\"template\":{\"data\":{\"bar\":[{\"error_x\":{\"color\":\"#2a3f5f\"},\"error_y\":{\"color\":\"#2a3f5f\"},\"marker\":{\"line\":{\"color\":\"#E5ECF6\",\"width\":0.5},\"pattern\":{\"fillmode\":\"overlay\",\"size\":10,\"solidity\":0.2}},\"type\":\"bar\"}],\"barpolar\":[{\"marker\":{\"line\":{\"color\":\"#E5ECF6\",\"width\":0.5},\"pattern\":{\"fillmode\":\"overlay\",\"size\":10,\"solidity\":0.2}},\"type\":\"barpolar\"}],\"carpet\":[{\"aaxis\":{\"endlinecolor\":\"#2a3f5f\",\"gridcolor\":\"white\",\"linecolor\":\"white\",\"minorgridcolor\":\"white\",\"startlinecolor\":\"#2a3f5f\"},\"baxis\":{\"endlinecolor\":\"#2a3f5f\",\"gridcolor\":\"white\",\"linecolor\":\"white\",\"minorgridcolor\":\"white\",\"startlinecolor\":\"#2a3f5f\"},\"type\":\"carpet\"}],\"choropleth\":[{\"colorbar\":{\"outlinewidth\":0,\"ticks\":\"\"},\"type\":\"choropleth\"}],\"contour\":[{\"colorbar\":{\"outlinewidth\":0,\"ticks\":\"\"},\"colorscale\":[[0.0,\"#0d0887\"],[0.1111111111111111,\"#46039f\"],[0.2222222222222222,\"#7201a8\"],[0.3333333333333333,\"#9c179e\"],[0.4444444444444444,\"#bd3786\"],[0.5555555555555556,\"#d8576b\"],[0.6666666666666666,\"#ed7953\"],[0.7777777777777778,\"#fb9f3a\"],[0.8888888888888888,\"#fdca26\"],[1.0,\"#f0f921\"]],\"type\":\"contour\"}],\"contourcarpet\":[{\"colorbar\":{\"outlinewidth\":0,\"ticks\":\"\"},\"type\":\"contourcarpet\"}],\"heatmap\":[{\"colorbar\":{\"outlinewidth\":0,\"ticks\":\"\"},\"colorscale\":[[0.0,\"#0d0887\"],[0.1111111111111111,\"#46039f\"],[0.2222222222222222,\"#7201a8\"],[0.3333333333333333,\"#9c179e\"],[0.4444444444444444,\"#bd3786\"],[0.5555555555555556,\"#d8576b\"],[0.6666666666666666,\"#ed7953\"],[0.7777777777777778,\"#fb9f3a\"],[0.8888888888888888,\"#fdca26\"],[1.0,\"#f0f921\"]],\"type\":\"heatmap\"}],\"heatmapgl\":[{\"colorbar\":{\"outlinewidth\":0,\"ticks\":\"\"},\"colorscale\":[[0.0,\"#0d0887\"],[0.1111111111111111,\"#46039f\"],[0.2222222222222222,\"#7201a8\"],[0.3333333333333333,\"#9c179e\"],[0.4444444444444444,\"#bd3786\"],[0.5555555555555556,\"#d8576b\"],[0.6666666666666666,\"#ed7953\"],[0.7777777777777778,\"#fb9f3a\"],[0.8888888888888888,\"#fdca26\"],[1.0,\"#f0f921\"]],\"type\":\"heatmapgl\"}],\"histogram\":[{\"marker\":{\"pattern\":{\"fillmode\":\"overlay\",\"size\":10,\"solidity\":0.2}},\"type\":\"histogram\"}],\"histogram2d\":[{\"colorbar\":{\"outlinewidth\":0,\"ticks\":\"\"},\"colorscale\":[[0.0,\"#0d0887\"],[0.1111111111111111,\"#46039f\"],[0.2222222222222222,\"#7201a8\"],[0.3333333333333333,\"#9c179e\"],[0.4444444444444444,\"#bd3786\"],[0.5555555555555556,\"#d8576b\"],[0.6666666666666666,\"#ed7953\"],[0.7777777777777778,\"#fb9f3a\"],[0.8888888888888888,\"#fdca26\"],[1.0,\"#f0f921\"]],\"type\":\"histogram2d\"}],\"histogram2dcontour\":[{\"colorbar\":{\"outlinewidth\":0,\"ticks\":\"\"},\"colorscale\":[[0.0,\"#0d0887\"],[0.1111111111111111,\"#46039f\"],[0.2222222222222222,\"#7201a8\"],[0.3333333333333333,\"#9c179e\"],[0.4444444444444444,\"#bd3786\"],[0.5555555555555556,\"#d8576b\"],[0.6666666666666666,\"#ed7953\"],[0.7777777777777778,\"#fb9f3a\"],[0.8888888888888888,\"#fdca26\"],[1.0,\"#f0f921\"]],\"type\":\"histogram2dcontour\"}],\"mesh3d\":[{\"colorbar\":{\"outlinewidth\":0,\"ticks\":\"\"},\"type\":\"mesh3d\"}],\"parcoords\":[{\"line\":{\"colorbar\":{\"outlinewidth\":0,\"ticks\":\"\"}},\"type\":\"parcoords\"}],\"pie\":[{\"automargin\":true,\"type\":\"pie\"}],\"scatter\":[{\"marker\":{\"colorbar\":{\"outlinewidth\":0,\"ticks\":\"\"}},\"type\":\"scatter\"}],\"scatter3d\":[{\"line\":{\"colorbar\":{\"outlinewidth\":0,\"ticks\":\"\"}},\"marker\":{\"colorbar\":{\"outlinewidth\":0,\"ticks\":\"\"}},\"type\":\"scatter3d\"}],\"scattercarpet\":[{\"marker\":{\"colorbar\":{\"outlinewidth\":0,\"ticks\":\"\"}},\"type\":\"scattercarpet\"}],\"scattergeo\":[{\"marker\":{\"colorbar\":{\"outlinewidth\":0,\"ticks\":\"\"}},\"type\":\"scattergeo\"}],\"scattergl\":[{\"marker\":{\"colorbar\":{\"outlinewidth\":0,\"ticks\":\"\"}},\"type\":\"scattergl\"}],\"scattermapbox\":[{\"marker\":{\"colorbar\":{\"outlinewidth\":0,\"ticks\":\"\"}},\"type\":\"scattermapbox\"}],\"scatterpolar\":[{\"marker\":{\"colorbar\":{\"outlinewidth\":0,\"ticks\":\"\"}},\"type\":\"scatterpolar\"}],\"scatterpolargl\":[{\"marker\":{\"colorbar\":{\"outlinewidth\":0,\"ticks\":\"\"}},\"type\":\"scatterpolargl\"}],\"scatterternary\":[{\"marker\":{\"colorbar\":{\"outlinewidth\":0,\"ticks\":\"\"}},\"type\":\"scatterternary\"}],\"surface\":[{\"colorbar\":{\"outlinewidth\":0,\"ticks\":\"\"},\"colorscale\":[[0.0,\"#0d0887\"],[0.1111111111111111,\"#46039f\"],[0.2222222222222222,\"#7201a8\"],[0.3333333333333333,\"#9c179e\"],[0.4444444444444444,\"#bd3786\"],[0.5555555555555556,\"#d8576b\"],[0.6666666666666666,\"#ed7953\"],[0.7777777777777778,\"#fb9f3a\"],[0.8888888888888888,\"#fdca26\"],[1.0,\"#f0f921\"]],\"type\":\"surface\"}],\"table\":[{\"cells\":{\"fill\":{\"color\":\"#EBF0F8\"},\"line\":{\"color\":\"white\"}},\"header\":{\"fill\":{\"color\":\"#C8D4E3\"},\"line\":{\"color\":\"white\"}},\"type\":\"table\"}]},\"layout\":{\"annotationdefaults\":{\"arrowcolor\":\"#2a3f5f\",\"arrowhead\":0,\"arrowwidth\":1},\"autotypenumbers\":\"strict\",\"coloraxis\":{\"colorbar\":{\"outlinewidth\":0,\"ticks\":\"\"}},\"colorscale\":{\"diverging\":[[0,\"#8e0152\"],[0.1,\"#c51b7d\"],[0.2,\"#de77ae\"],[0.3,\"#f1b6da\"],[0.4,\"#fde0ef\"],[0.5,\"#f7f7f7\"],[0.6,\"#e6f5d0\"],[0.7,\"#b8e186\"],[0.8,\"#7fbc41\"],[0.9,\"#4d9221\"],[1,\"#276419\"]],\"sequential\":[[0.0,\"#0d0887\"],[0.1111111111111111,\"#46039f\"],[0.2222222222222222,\"#7201a8\"],[0.3333333333333333,\"#9c179e\"],[0.4444444444444444,\"#bd3786\"],[0.5555555555555556,\"#d8576b\"],[0.6666666666666666,\"#ed7953\"],[0.7777777777777778,\"#fb9f3a\"],[0.8888888888888888,\"#fdca26\"],[1.0,\"#f0f921\"]],\"sequentialminus\":[[0.0,\"#0d0887\"],[0.1111111111111111,\"#46039f\"],[0.2222222222222222,\"#7201a8\"],[0.3333333333333333,\"#9c179e\"],[0.4444444444444444,\"#bd3786\"],[0.5555555555555556,\"#d8576b\"],[0.6666666666666666,\"#ed7953\"],[0.7777777777777778,\"#fb9f3a\"],[0.8888888888888888,\"#fdca26\"],[1.0,\"#f0f921\"]]},\"colorway\":[\"#636efa\",\"#EF553B\",\"#00cc96\",\"#ab63fa\",\"#FFA15A\",\"#19d3f3\",\"#FF6692\",\"#B6E880\",\"#FF97FF\",\"#FECB52\"],\"font\":{\"color\":\"#2a3f5f\"},\"geo\":{\"bgcolor\":\"white\",\"lakecolor\":\"white\",\"landcolor\":\"#E5ECF6\",\"showlakes\":true,\"showland\":true,\"subunitcolor\":\"white\"},\"hoverlabel\":{\"align\":\"left\"},\"hovermode\":\"closest\",\"mapbox\":{\"style\":\"light\"},\"paper_bgcolor\":\"white\",\"plot_bgcolor\":\"#E5ECF6\",\"polar\":{\"angularaxis\":{\"gridcolor\":\"white\",\"linecolor\":\"white\",\"ticks\":\"\"},\"bgcolor\":\"#E5ECF6\",\"radialaxis\":{\"gridcolor\":\"white\",\"linecolor\":\"white\",\"ticks\":\"\"}},\"scene\":{\"xaxis\":{\"backgroundcolor\":\"#E5ECF6\",\"gridcolor\":\"white\",\"gridwidth\":2,\"linecolor\":\"white\",\"showbackground\":true,\"ticks\":\"\",\"zerolinecolor\":\"white\"},\"yaxis\":{\"backgroundcolor\":\"#E5ECF6\",\"gridcolor\":\"white\",\"gridwidth\":2,\"linecolor\":\"white\",\"showbackground\":true,\"ticks\":\"\",\"zerolinecolor\":\"white\"},\"zaxis\":{\"backgroundcolor\":\"#E5ECF6\",\"gridcolor\":\"white\",\"gridwidth\":2,\"linecolor\":\"white\",\"showbackground\":true,\"ticks\":\"\",\"zerolinecolor\":\"white\"}},\"shapedefaults\":{\"line\":{\"color\":\"#2a3f5f\"}},\"ternary\":{\"aaxis\":{\"gridcolor\":\"white\",\"linecolor\":\"white\",\"ticks\":\"\"},\"baxis\":{\"gridcolor\":\"white\",\"linecolor\":\"white\",\"ticks\":\"\"},\"bgcolor\":\"#E5ECF6\",\"caxis\":{\"gridcolor\":\"white\",\"linecolor\":\"white\",\"ticks\":\"\"}},\"title\":{\"x\":0.05},\"xaxis\":{\"automargin\":true,\"gridcolor\":\"white\",\"linecolor\":\"white\",\"ticks\":\"\",\"title\":{\"standoff\":15},\"zerolinecolor\":\"white\",\"zerolinewidth\":2},\"yaxis\":{\"automargin\":true,\"gridcolor\":\"white\",\"linecolor\":\"white\",\"ticks\":\"\",\"title\":{\"standoff\":15},\"zerolinecolor\":\"white\",\"zerolinewidth\":2}}},\"xaxis\":{\"anchor\":\"y\",\"domain\":[0.0,1.0],\"dtick\":\"M1\",\"title\":{\"text\":\"dataset_version_create_year_month\"},\"type\":\"date\"},\"yaxis\":{\"anchor\":\"x\",\"domain\":[0.0,1.0],\"title\":{\"text\":\"count_of_author_metadata\"}}},                        {\"responsive\": true}                    ).then(function(){\n                            \nvar gd = document.getElementById('804bb9d5-39e6-4b90-a303-d8ac934a931d');\nvar x = new MutationObserver(function (mutations, observer) {{\n        var display = window.getComputedStyle(gd).display;\n        if (!display || display === 'none') {{\n            console.log([gd, 'removed!']);\n            Plotly.purge(gd);\n            observer.disconnect();\n        }}\n}});\n\n// Listen for the removal of the full notebook cells\nvar notebookContainer = gd.closest('#notebook-container');\nif (notebookContainer) {{\n    x.observe(notebookContainer, {childList: true});\n}}\n\n// Listen for the clearing of the current output cell\nvar outputEl = gd.closest('.output');\nif (outputEl) {{\n    x.observe(outputEl, {childList: true});\n}}\n\n                        })                };                });            </script>        </div>"
     },
     "metadata": {},
     "output_type": "display_data"
    }
   ],
   "source": [
    "fig = px.bar(\n",
    "    monthlyAuthorMetadataCountDf,\n",
    "    x='dataset_version_create_year_month',\n",
    "    y='count_of_author_metadata',\n",
    "    text='count_of_author_metadata')\n",
    "fig.update_traces(textfont_size=12, textangle=0, textposition='outside', cliponaxis=False)\n",
    "fig.update_xaxes(\n",
    "    type='date',\n",
    "    dtick='M1')\n",
    "\n",
    "fig.show()"
   ],
   "metadata": {
    "collapsed": false,
    "pycharm": {
     "name": "#%%\n"
    }
   }
  },
  {
   "cell_type": "code",
   "execution_count": null,
   "outputs": [],
   "source": [],
   "metadata": {
    "collapsed": false,
    "pycharm": {
     "name": "#%%\n"
    }
   }
  }
 ],
 "metadata": {
  "kernelspec": {
   "display_name": "Python 3",
   "language": "python",
   "name": "python3"
  },
  "language_info": {
   "codemirror_mode": {
    "name": "ipython",
    "version": 2
   },
   "file_extension": ".py",
   "mimetype": "text/x-python",
   "name": "python",
   "nbconvert_exporter": "python",
   "pygments_lexer": "ipython2",
   "version": "2.7.6"
  }
 },
 "nbformat": 4,
 "nbformat_minor": 0
}