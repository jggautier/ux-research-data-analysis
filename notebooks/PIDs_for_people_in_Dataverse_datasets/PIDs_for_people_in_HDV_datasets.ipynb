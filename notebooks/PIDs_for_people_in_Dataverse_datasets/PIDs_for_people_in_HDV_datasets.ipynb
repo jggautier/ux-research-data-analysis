{
 "cells": [
  {
   "cell_type": "code",
   "execution_count": 1,
   "metadata": {
    "collapsed": true
   },
   "outputs": [],
   "source": [
    "import pandas as pd"
   ]
  },
  {
   "cell_type": "markdown",
   "source": [
    "# Import data\n",
    "\n",
    "Import CSV files that contain:\n",
    "- The PIDs of all datasets published by many repositories that use the Dataverse software and which repositories published them\n",
    "- Author field metadata entered in all of those datasets"
   ],
   "metadata": {
    "collapsed": false,
    "pycharm": {
     "name": "#%% md\n"
    }
   }
  },
  {
   "cell_type": "code",
   "execution_count": 2,
   "outputs": [
    {
     "data": {
      "text/plain": "  dataverse_installation_name                  dataset_pid_url  \\\n0     UNB_Libraries_Dataverse  https://doi.org/10.25545/NVN79Z   \n1     UNB_Libraries_Dataverse  https://doi.org/10.25545/YB60PU   \n2     UNB_Libraries_Dataverse  https://doi.org/10.25545/WHD3KC   \n3     UNB_Libraries_Dataverse  https://doi.org/10.25545/6TZWCG   \n4     UNB_Libraries_Dataverse  https://doi.org/10.25545/NYM13B   \n\n  dataverse_collection_alias  \\\n0                        snb   \n1            blightchemistry   \n2            blightchemistry   \n3           Ir-CationBinding   \n4                     IFMLAB   \n\n                           dataverse_collection_name  \\\n0                              Service New Brunswick   \n1                Blight Chemistry Research Omniverse   \n2                Blight Chemistry Research Omniverse   \n3  Elucidation of Charge Contributions in Iridium...   \n4                   Integrated Forest Management Lab   \n\n    dataverse_collection_type  \n0  ORGANIZATIONS_INSTITUTIONS  \n1              RESEARCH_GROUP  \n2              RESEARCH_GROUP  \n3                    JOURNALS  \n4              RESEARCH_GROUP  ",
      "text/html": "<div><div id=7427ad0b-786b-4963-b780-588255f00329 style=\"display:none; background-color:#9D6CFF; color:white; width:200px; height:30px; padding-left:5px; border-radius:4px; flex-direction:row; justify-content:space-around; align-items:center;\" onmouseover=\"this.style.backgroundColor='#BA9BF8'\" onmouseout=\"this.style.backgroundColor='#9D6CFF'\" onclick=\"window.commands?.execute('create-mitosheet-from-dataframe-output');\">See Full Dataframe in Mito</div> <script> if (window.commands.hasCommand('create-mitosheet-from-dataframe-output')) document.getElementById('7427ad0b-786b-4963-b780-588255f00329').style.display = 'flex' </script> <table border=\"1\" class=\"dataframe\">\n  <thead>\n    <tr style=\"text-align: right;\">\n      <th></th>\n      <th>dataverse_installation_name</th>\n      <th>dataset_pid_url</th>\n      <th>dataverse_collection_alias</th>\n      <th>dataverse_collection_name</th>\n      <th>dataverse_collection_type</th>\n    </tr>\n  </thead>\n  <tbody>\n    <tr>\n      <th>0</th>\n      <td>UNB_Libraries_Dataverse</td>\n      <td>https://doi.org/10.25545/NVN79Z</td>\n      <td>snb</td>\n      <td>Service New Brunswick</td>\n      <td>ORGANIZATIONS_INSTITUTIONS</td>\n    </tr>\n    <tr>\n      <th>1</th>\n      <td>UNB_Libraries_Dataverse</td>\n      <td>https://doi.org/10.25545/YB60PU</td>\n      <td>blightchemistry</td>\n      <td>Blight Chemistry Research Omniverse</td>\n      <td>RESEARCH_GROUP</td>\n    </tr>\n    <tr>\n      <th>2</th>\n      <td>UNB_Libraries_Dataverse</td>\n      <td>https://doi.org/10.25545/WHD3KC</td>\n      <td>blightchemistry</td>\n      <td>Blight Chemistry Research Omniverse</td>\n      <td>RESEARCH_GROUP</td>\n    </tr>\n    <tr>\n      <th>3</th>\n      <td>UNB_Libraries_Dataverse</td>\n      <td>https://doi.org/10.25545/6TZWCG</td>\n      <td>Ir-CationBinding</td>\n      <td>Elucidation of Charge Contributions in Iridium-Chelated Hydrogen-Bonding Systems</td>\n      <td>JOURNALS</td>\n    </tr>\n    <tr>\n      <th>4</th>\n      <td>UNB_Libraries_Dataverse</td>\n      <td>https://doi.org/10.25545/NYM13B</td>\n      <td>IFMLAB</td>\n      <td>Integrated Forest Management Lab</td>\n      <td>RESEARCH_GROUP</td>\n    </tr>\n  </tbody>\n</table></div>"
     },
     "execution_count": 2,
     "metadata": {},
     "output_type": "execute_result"
    }
   ],
   "source": [
    "# Get PIDs of all datasets and which repositories published them\n",
    "datasetPIDsDF = (pd\n",
    "    .read_csv(\n",
    "        'dataset_pids_from_most_known_dataverse_installations_2023.08.csv',\n",
    "        sep=',',\n",
    "        na_filter=False)\n",
    "    .query(\n",
    "        '(dataverse_json_export_saved == True) and\\\n",
    "        (dataverse_installation_name != \"ODISSEI_Portal\")')\n",
    "    .drop(columns=['dataverse_json_export_saved'])\n",
    "    .reset_index(drop=True, inplace=False)\n",
    " )\n",
    "\n",
    "datasetPIDsDF.head()"
   ],
   "metadata": {
    "collapsed": false,
    "pycharm": {
     "name": "#%%\n"
    }
   }
  },
  {
   "cell_type": "code",
   "execution_count": 3,
   "outputs": [
    {
     "data": {
      "text/plain": "                          dataset_pid_url dataset_publication_date  \\\n0     https://doi.org/10.48370/OFD/8TTRLC               2022-05-13   \n1  https://doi.org/10.17026/dans-26a-cq4r               2015-09-18   \n2  https://doi.org/10.17026/dans-zc2-mc2g               2016-12-31   \n3  https://doi.org/10.17026/dans-x9z-bmn6               2020-12-22   \n4      https://doi.org/10.7910/DVN/QD0V0H               2021-09-20   \n\n   dataset_version_number dataset_version_create_time  \\\n0                     1.0        2022-05-11T14:44:29Z   \n1                     2.0        2022-02-18T19:29:27Z   \n2                     1.0        2022-02-24T21:01:03Z   \n3                     1.0        2022-02-14T05:11:03Z   \n4                     1.0        2021-07-29T19:45:43Z   \n\n                                          authorName  \\\n0  Mammal Research Institute, Polish Academy of S...   \n1                                     H.J. Hesseling   \n2                                         S. Moerman   \n3                                         G. Zielman   \n4                                  Master, Daniel M.   \n\n                      authorAffiliation authorIdentifierScheme  \\\n0                                                                \n1  RAAP Archeologisch Adviesbureau B.V.                          \n2                                                                \n3                                  RAAP                          \n4                       Wheaton College                          \n\n  authorIdentifier  \n0                   \n1                   \n2                   \n3                   \n4                   ",
      "text/html": "<div><div id=38f679ac-5cbb-4a01-ac55-8ade3eacc266 style=\"display:none; background-color:#9D6CFF; color:white; width:200px; height:30px; padding-left:5px; border-radius:4px; flex-direction:row; justify-content:space-around; align-items:center;\" onmouseover=\"this.style.backgroundColor='#BA9BF8'\" onmouseout=\"this.style.backgroundColor='#9D6CFF'\" onclick=\"window.commands?.execute('create-mitosheet-from-dataframe-output');\">See Full Dataframe in Mito</div> <script> if (window.commands.hasCommand('create-mitosheet-from-dataframe-output')) document.getElementById('38f679ac-5cbb-4a01-ac55-8ade3eacc266').style.display = 'flex' </script> <table border=\"1\" class=\"dataframe\">\n  <thead>\n    <tr style=\"text-align: right;\">\n      <th></th>\n      <th>dataset_pid_url</th>\n      <th>dataset_publication_date</th>\n      <th>dataset_version_number</th>\n      <th>dataset_version_create_time</th>\n      <th>authorName</th>\n      <th>authorAffiliation</th>\n      <th>authorIdentifierScheme</th>\n      <th>authorIdentifier</th>\n    </tr>\n  </thead>\n  <tbody>\n    <tr>\n      <th>0</th>\n      <td>https://doi.org/10.48370/OFD/8TTRLC</td>\n      <td>2022-05-13</td>\n      <td>1.0</td>\n      <td>2022-05-11T14:44:29Z</td>\n      <td>Mammal Research Institute, Polish Academy of Sciences</td>\n      <td></td>\n      <td></td>\n      <td></td>\n    </tr>\n    <tr>\n      <th>1</th>\n      <td>https://doi.org/10.17026/dans-26a-cq4r</td>\n      <td>2015-09-18</td>\n      <td>2.0</td>\n      <td>2022-02-18T19:29:27Z</td>\n      <td>H.J. Hesseling</td>\n      <td>RAAP Archeologisch Adviesbureau B.V.</td>\n      <td></td>\n      <td></td>\n    </tr>\n    <tr>\n      <th>2</th>\n      <td>https://doi.org/10.17026/dans-zc2-mc2g</td>\n      <td>2016-12-31</td>\n      <td>1.0</td>\n      <td>2022-02-24T21:01:03Z</td>\n      <td>S. Moerman</td>\n      <td></td>\n      <td></td>\n      <td></td>\n    </tr>\n    <tr>\n      <th>3</th>\n      <td>https://doi.org/10.17026/dans-x9z-bmn6</td>\n      <td>2020-12-22</td>\n      <td>1.0</td>\n      <td>2022-02-14T05:11:03Z</td>\n      <td>G. Zielman</td>\n      <td>RAAP</td>\n      <td></td>\n      <td></td>\n    </tr>\n    <tr>\n      <th>4</th>\n      <td>https://doi.org/10.7910/DVN/QD0V0H</td>\n      <td>2021-09-20</td>\n      <td>1.0</td>\n      <td>2021-07-29T19:45:43Z</td>\n      <td>Master, Daniel M.</td>\n      <td>Wheaton College</td>\n      <td></td>\n      <td></td>\n    </tr>\n  </tbody>\n</table></div>"
     },
     "execution_count": 3,
     "metadata": {},
     "output_type": "execute_result"
    }
   ],
   "source": [
    "# Get Author field metadata entered in all datasets in Dataverse repositories\n",
    "authorMetadataDF = (pd\n",
    "    .read_csv(\n",
    "        'author(citation)_2023.08.22-2023.08.28.csv',\n",
    "        sep=',',\n",
    "        na_filter=False)\n",
    "     .drop(columns=['dataset_pid'])\n",
    "     .reset_index(drop=True, inplace=False)\n",
    "     )\n",
    "\n",
    "authorMetadataDF.head()"
   ],
   "metadata": {
    "collapsed": false,
    "pycharm": {
     "name": "#%%\n"
    }
   }
  },
  {
   "cell_type": "code",
   "execution_count": 4,
   "outputs": [
    {
     "name": "stdout",
     "output_type": "stream",
     "text": [
      "Count of datasets in datasetPIDsDF: 390401\n",
      "Number of datasets in authorMetadataDF: 390401\n"
     ]
    }
   ],
   "source": [
    "print(f'Count of datasets in datasetPIDsDF: {len(datasetPIDsDF)}')\n",
    "datasetCountInAuthorMetadataDF = len(pd.unique(authorMetadataDF['dataset_pid_url']))\n",
    "print(f'Number of datasets in authorMetadataDF: {datasetCountInAuthorMetadataDF}')"
   ],
   "metadata": {
    "collapsed": false,
    "pycharm": {
     "name": "#%%\n"
    }
   }
  },
  {
   "cell_type": "markdown",
   "source": [
    "- Get count of all author metadata in each installation\n",
    "- Get count of each type of author identifier in each installation"
   ],
   "metadata": {
    "collapsed": false,
    "pycharm": {
     "name": "#%% md\n"
    }
   }
  },
  {
   "cell_type": "code",
   "execution_count": 5,
   "outputs": [
    {
     "name": "stdout",
     "output_type": "stream",
     "text": [
      "Number of datasets in datasetCountInDatasetPIDsAndAuthorMetadataDF: 390401\n"
     ]
    }
   ],
   "source": [
    "# Join the datasetPIDsDF and the authorMetadataDF to add the installation column,\n",
    "# so we know which installations published each dataset\n",
    "\n",
    "datasetPIDsAndAuthorMetadataDF = (pd\n",
    "    .merge(datasetPIDsDF, authorMetadataDF,\n",
    "        how='outer',\n",
    "        on=['dataset_pid_url'])\n",
    "    .drop(columns=[\n",
    "        'dataset_version_number',\n",
    "        'dataset_version_create_time'])\n",
    "    .reset_index(drop=True, inplace=False))\n",
    "\n",
    "# Make sure the count of rows is the same as the count of total datasets: 390401\n",
    "datasetCountInDatasetPIDsAndAuthorMetadataDF = len(pd.unique(datasetPIDsAndAuthorMetadataDF['dataset_pid_url']))\n",
    "print(f'Number of datasets in datasetCountInDatasetPIDsAndAuthorMetadataDF: {datasetCountInDatasetPIDsAndAuthorMetadataDF}')"
   ],
   "metadata": {
    "collapsed": false,
    "pycharm": {
     "name": "#%%\n"
    }
   }
  },
  {
   "cell_type": "code",
   "execution_count": 6,
   "outputs": [
    {
     "data": {
      "text/plain": "  dataverse_installation_name                  dataset_pid_url  \\\n0     UNB_Libraries_Dataverse  https://doi.org/10.25545/NVN79Z   \n1     UNB_Libraries_Dataverse  https://doi.org/10.25545/YB60PU   \n2     UNB_Libraries_Dataverse  https://doi.org/10.25545/WHD3KC   \n3     UNB_Libraries_Dataverse  https://doi.org/10.25545/6TZWCG   \n4     UNB_Libraries_Dataverse  https://doi.org/10.25545/NYM13B   \n\n  dataverse_collection_alias  \\\n0                        snb   \n1            blightchemistry   \n2            blightchemistry   \n3           Ir-CationBinding   \n4                     IFMLAB   \n\n                           dataverse_collection_name  \\\n0                              Service New Brunswick   \n1                Blight Chemistry Research Omniverse   \n2                Blight Chemistry Research Omniverse   \n3  Elucidation of Charge Contributions in Iridium...   \n4                   Integrated Forest Management Lab   \n\n    dataverse_collection_type dataset_publication_date             authorName  \\\n0  ORGANIZATIONS_INSTITUTIONS               2018-05-10  Service New Brunswick   \n1              RESEARCH_GROUP               2018-06-20        Blight, Barry A   \n2              RESEARCH_GROUP               2019-06-23      Balonova, Barbora   \n3                    JOURNALS               2021-05-18        Blight, Barry A   \n4              RESEARCH_GROUP               2020-06-30         Chen, Yingbing   \n\n             authorAffiliation authorIdentifierScheme     authorIdentifier  \n0  Government of New Brunswick                                              \n1  University of New Brunswick                  ORCID  0000-0003-1166-6206  \n2  University of New Brunswick                                              \n3  University of New Brunswick                                              \n4  University of New Brunswick                                              ",
      "text/html": "<div><div id=c50f6c82-269d-490e-a203-96763155a6d7 style=\"display:none; background-color:#9D6CFF; color:white; width:200px; height:30px; padding-left:5px; border-radius:4px; flex-direction:row; justify-content:space-around; align-items:center;\" onmouseover=\"this.style.backgroundColor='#BA9BF8'\" onmouseout=\"this.style.backgroundColor='#9D6CFF'\" onclick=\"window.commands?.execute('create-mitosheet-from-dataframe-output');\">See Full Dataframe in Mito</div> <script> if (window.commands.hasCommand('create-mitosheet-from-dataframe-output')) document.getElementById('c50f6c82-269d-490e-a203-96763155a6d7').style.display = 'flex' </script> <table border=\"1\" class=\"dataframe\">\n  <thead>\n    <tr style=\"text-align: right;\">\n      <th></th>\n      <th>dataverse_installation_name</th>\n      <th>dataset_pid_url</th>\n      <th>dataverse_collection_alias</th>\n      <th>dataverse_collection_name</th>\n      <th>dataverse_collection_type</th>\n      <th>dataset_publication_date</th>\n      <th>authorName</th>\n      <th>authorAffiliation</th>\n      <th>authorIdentifierScheme</th>\n      <th>authorIdentifier</th>\n    </tr>\n  </thead>\n  <tbody>\n    <tr>\n      <th>0</th>\n      <td>UNB_Libraries_Dataverse</td>\n      <td>https://doi.org/10.25545/NVN79Z</td>\n      <td>snb</td>\n      <td>Service New Brunswick</td>\n      <td>ORGANIZATIONS_INSTITUTIONS</td>\n      <td>2018-05-10</td>\n      <td>Service New Brunswick</td>\n      <td>Government of New Brunswick</td>\n      <td></td>\n      <td></td>\n    </tr>\n    <tr>\n      <th>1</th>\n      <td>UNB_Libraries_Dataverse</td>\n      <td>https://doi.org/10.25545/YB60PU</td>\n      <td>blightchemistry</td>\n      <td>Blight Chemistry Research Omniverse</td>\n      <td>RESEARCH_GROUP</td>\n      <td>2018-06-20</td>\n      <td>Blight, Barry A</td>\n      <td>University of New Brunswick</td>\n      <td>ORCID</td>\n      <td>0000-0003-1166-6206</td>\n    </tr>\n    <tr>\n      <th>2</th>\n      <td>UNB_Libraries_Dataverse</td>\n      <td>https://doi.org/10.25545/WHD3KC</td>\n      <td>blightchemistry</td>\n      <td>Blight Chemistry Research Omniverse</td>\n      <td>RESEARCH_GROUP</td>\n      <td>2019-06-23</td>\n      <td>Balonova, Barbora</td>\n      <td>University of New Brunswick</td>\n      <td></td>\n      <td></td>\n    </tr>\n    <tr>\n      <th>3</th>\n      <td>UNB_Libraries_Dataverse</td>\n      <td>https://doi.org/10.25545/6TZWCG</td>\n      <td>Ir-CationBinding</td>\n      <td>Elucidation of Charge Contributions in Iridium-Chelated Hydrogen-Bonding Systems</td>\n      <td>JOURNALS</td>\n      <td>2021-05-18</td>\n      <td>Blight, Barry A</td>\n      <td>University of New Brunswick</td>\n      <td></td>\n      <td></td>\n    </tr>\n    <tr>\n      <th>4</th>\n      <td>UNB_Libraries_Dataverse</td>\n      <td>https://doi.org/10.25545/NYM13B</td>\n      <td>IFMLAB</td>\n      <td>Integrated Forest Management Lab</td>\n      <td>RESEARCH_GROUP</td>\n      <td>2020-06-30</td>\n      <td>Chen, Yingbing</td>\n      <td>University of New Brunswick</td>\n      <td></td>\n      <td></td>\n    </tr>\n  </tbody>\n</table></div>"
     },
     "execution_count": 6,
     "metadata": {},
     "output_type": "execute_result"
    }
   ],
   "source": [
    "datasetPIDsAndAuthorMetadataDF.head()"
   ],
   "metadata": {
    "collapsed": false,
    "pycharm": {
     "name": "#%%\n"
    }
   }
  },
  {
   "cell_type": "markdown",
   "source": [
    "Some datasets have no author metadata. Let's remove those datasets."
   ],
   "metadata": {
    "collapsed": false,
    "pycharm": {
     "name": "#%% md\n"
    }
   }
  },
  {
   "cell_type": "code",
   "execution_count": null,
   "outputs": [],
   "source": [
    "datasetsWithNoAuthorsDf = (\n",
    "    datasetPIDsAndAuthorMetadataDF\n",
    "        .query(\n",
    "            '(authorIdentifierScheme == authorIdentifierScheme and\\\n",
    "            authorIdentifier == authorIdentifier)')\n",
    "        .reset_index(drop=True, inplace=False)\n",
    ")"
   ],
   "metadata": {
    "collapsed": false,
    "pycharm": {
     "name": "#%%\n"
    }
   }
  },
  {
   "cell_type": "code",
   "execution_count": null,
   "outputs": [],
   "source": [
    "\n",
    "# Get count of author metadata that includes any values in the identifier type or identifier fields\n",
    "\n",
    "# Get count of \"valid author identifier metadata\", that is author metadata that includes any values in both the identifier type and identifier fields\n",
    "\n",
    "# Get count of \"valid author identifier metadata\" for each type of identifier, e.g. ORCID, GND.\n",
    "\n",
    "# Get count of \"valid author identifier metadata\" for each type of identifier, e.g. ORCID, GND, in each installations"
   ],
   "metadata": {
    "collapsed": false,
    "pycharm": {
     "name": "#%%\n"
    }
   }
  },
  {
   "cell_type": "code",
   "execution_count": null,
   "outputs": [],
   "source": [
    "# how many have a value in both the Author Identifier Scheme and Author Identifier field?\n",
    "\n",
    "authorIdentifierMetadataComplete = (\n",
    "    authorMetadataLatestVersionDF\n",
    "        .drop(columns=['authorAffiliation'])\n",
    "        # .dropna(subset=['authorIdentifierScheme', 'authorIdentifier'], how='all')\n",
    "        .query(\n",
    "        '(authorIdentifierScheme == authorIdentifierScheme and\\\n",
    "        authorIdentifier == authorIdentifier)')\n",
    "        .reset_index(drop=True, inplace=False)\n",
    ")\n",
    "\n",
    "authorIdentifierMetadataComplete.head()\n",
    "\n",
    "# How many have values in the Author Identifier field but not the Author Identifier Scheme field?\n",
    "authorIdentifiersMissingScheme = (\n",
    "    authorMetadataLatestVersionDF\n",
    "        .drop(columns=['authorAffiliation'])\n",
    "        .query(\n",
    "        'authorIdentifier == authorIdentifier and\\\n",
    "        authorIdentifierScheme != authorIdentifierScheme')\n",
    "        .reset_index(drop=True, inplace=False)\n",
    ")\n",
    "\n",
    "authorIdentifiersMissingScheme.head()\n",
    "\n",
    "# How many have values in the Author Scheme field but not in the Author Identifier field?\n",
    "\n",
    "authorIdentifierSchemeMissingIdentifier = (\n",
    "    authorMetadataLatestVersionDF\n",
    "        .drop(columns=['authorAffiliation'])\n",
    "        .query(\n",
    "        'authorIdentifier != authorIdentifier and\\\n",
    "        authorIdentifierScheme == authorIdentifierScheme')\n",
    "        .reset_index(drop=True, inplace=False)\n",
    ")\n",
    "\n",
    "authorIdentifierSchemeMissingIdentifier.head()\n",
    "\n",
    "# Number of author metadata values with ORCIDs\n",
    "authorMetadataWithORCIDs = (\n",
    "    authorMetadataWithIdentifiers\n",
    "        .query(\n",
    "        '~authorIdentifier.str.contains(\"orcid.org\").values or\\\n",
    "        authorIdentifierScheme == \"ORCID\"')\n",
    "        .reset_index(drop=True, inplace=False)\n",
    ")\n",
    "\n",
    "authorMetadataWithORCIDs.head()"
   ],
   "metadata": {
    "collapsed": false,
    "pycharm": {
     "name": "#%%\n"
    }
   }
  }
 ],
 "metadata": {
  "kernelspec": {
   "display_name": "Python 3",
   "language": "python",
   "name": "python3"
  },
  "language_info": {
   "codemirror_mode": {
    "name": "ipython",
    "version": 2
   },
   "file_extension": ".py",
   "mimetype": "text/x-python",
   "name": "python",
   "nbconvert_exporter": "python",
   "pygments_lexer": "ipython2",
   "version": "2.7.6"
  }
 },
 "nbformat": 4,
 "nbformat_minor": 0
}