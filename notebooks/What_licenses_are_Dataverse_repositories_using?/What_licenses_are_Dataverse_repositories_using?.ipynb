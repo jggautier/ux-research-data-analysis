{
 "cells": [
  {
   "cell_type": "code",
   "execution_count": 82,
   "metadata": {
    "collapsed": true
   },
   "outputs": [],
   "source": [
    "import numpy as np\n",
    "from numpy import nan\n",
    "import pandas as pd\n",
    "import re\n",
    "import requests"
   ]
  },
  {
   "cell_type": "code",
   "execution_count": 48,
   "outputs": [],
   "source": [
    "def to_str(item):\n",
    "    return str(item)"
   ],
   "metadata": {
    "collapsed": false,
    "pycharm": {
     "name": "#%%\n"
    }
   }
  },
  {
   "cell_type": "code",
   "execution_count": 49,
   "outputs": [
    {
     "data": {
      "text/plain": "              dataset_pid                     dataset_pid_url  \\\n0  doi:10.7910/DVN/5PRYPC  https://doi.org/10.7910/DVN/5PRYPC   \n1   doi:10.7910/DVN/VIE1H   https://doi.org/10.7910/DVN/VIE1H   \n2  doi:10.7910/DVN/KKUJWW  https://doi.org/10.7910/DVN/KKUJWW   \n3  doi:10.7910/DVN/5E6GBN  https://doi.org/10.7910/DVN/5E6GBN   \n4  doi:10.7910/DVN/9MKISZ  https://doi.org/10.7910/DVN/9MKISZ   \n\n  dataset_version_number license_name  \\\n0                    4.0      CC0 1.0   \n1                  248.0                \n2                    1.0      CC0 1.0   \n3                    1.2      CC0 1.0   \n4                   10.0      CC0 1.0   \n\n                                        license_uri terms_of_use  \\\n0  http://creativecommons.org/publicdomain/zero/1.0                \n1                                                                  \n2  http://creativecommons.org/publicdomain/zero/1.0                \n3  http://creativecommons.org/publicdomain/zero/1.0                \n4  http://creativecommons.org/publicdomain/zero/1.0                \n\n  confidentiality_declaration special_permissions restrictions  \\\n0                                                                \n1                                                                \n2                                                                \n3                                                                \n4                                                                \n\n  citation_requirements depositor_requirements conditions disclaimer  \\\n0                                                                      \n1                                                                      \n2                                                                      \n3                                                                      \n4                                                                      \n\n  terms_of_access data_access_place original_archive availability_status  \\\n0                                                                          \n1                                                                          \n2                                                                          \n3                                                                          \n4                                                                          \n\n  contact_for_access size_of_collection study_completion  \n0                                                         \n1                                                         \n2                                                         \n3                                                         \n4                                                         ",
      "text/html": "<div><div id=94ef5c82-0c52-4505-99b3-27335eb93017 style=\"display:none; background-color:#9D6CFF; color:white; width:200px; height:30px; padding-left:5px; border-radius:4px; flex-direction:row; justify-content:space-around; align-items:center;\" onmouseover=\"this.style.backgroundColor='#BA9BF8'\" onmouseout=\"this.style.backgroundColor='#9D6CFF'\" onclick=\"window.commands?.execute('create-mitosheet-from-dataframe-output');\">See Full Dataframe in Mito</div> <script> if (window.commands.hasCommand('create-mitosheet-from-dataframe-output')) document.getElementById('94ef5c82-0c52-4505-99b3-27335eb93017').style.display = 'flex' </script> <table border=\"1\" class=\"dataframe\">\n  <thead>\n    <tr style=\"text-align: right;\">\n      <th></th>\n      <th>dataset_pid</th>\n      <th>dataset_pid_url</th>\n      <th>dataset_version_number</th>\n      <th>license_name</th>\n      <th>license_uri</th>\n      <th>terms_of_use</th>\n      <th>confidentiality_declaration</th>\n      <th>special_permissions</th>\n      <th>restrictions</th>\n      <th>citation_requirements</th>\n      <th>depositor_requirements</th>\n      <th>conditions</th>\n      <th>disclaimer</th>\n      <th>terms_of_access</th>\n      <th>data_access_place</th>\n      <th>original_archive</th>\n      <th>availability_status</th>\n      <th>contact_for_access</th>\n      <th>size_of_collection</th>\n      <th>study_completion</th>\n    </tr>\n  </thead>\n  <tbody>\n    <tr>\n      <th>0</th>\n      <td>doi:10.7910/DVN/5PRYPC</td>\n      <td>https://doi.org/10.7910/DVN/5PRYPC</td>\n      <td>4.0</td>\n      <td>CC0 1.0</td>\n      <td>http://creativecommons.org/publicdomain/zero/1.0</td>\n      <td></td>\n      <td></td>\n      <td></td>\n      <td></td>\n      <td></td>\n      <td></td>\n      <td></td>\n      <td></td>\n      <td></td>\n      <td></td>\n      <td></td>\n      <td></td>\n      <td></td>\n      <td></td>\n      <td></td>\n    </tr>\n    <tr>\n      <th>1</th>\n      <td>doi:10.7910/DVN/VIE1H</td>\n      <td>https://doi.org/10.7910/DVN/VIE1H</td>\n      <td>248.0</td>\n      <td></td>\n      <td></td>\n      <td></td>\n      <td></td>\n      <td></td>\n      <td></td>\n      <td></td>\n      <td></td>\n      <td></td>\n      <td></td>\n      <td></td>\n      <td></td>\n      <td></td>\n      <td></td>\n      <td></td>\n      <td></td>\n      <td></td>\n    </tr>\n    <tr>\n      <th>2</th>\n      <td>doi:10.7910/DVN/KKUJWW</td>\n      <td>https://doi.org/10.7910/DVN/KKUJWW</td>\n      <td>1.0</td>\n      <td>CC0 1.0</td>\n      <td>http://creativecommons.org/publicdomain/zero/1.0</td>\n      <td></td>\n      <td></td>\n      <td></td>\n      <td></td>\n      <td></td>\n      <td></td>\n      <td></td>\n      <td></td>\n      <td></td>\n      <td></td>\n      <td></td>\n      <td></td>\n      <td></td>\n      <td></td>\n      <td></td>\n    </tr>\n    <tr>\n      <th>3</th>\n      <td>doi:10.7910/DVN/5E6GBN</td>\n      <td>https://doi.org/10.7910/DVN/5E6GBN</td>\n      <td>1.2</td>\n      <td>CC0 1.0</td>\n      <td>http://creativecommons.org/publicdomain/zero/1.0</td>\n      <td></td>\n      <td></td>\n      <td></td>\n      <td></td>\n      <td></td>\n      <td></td>\n      <td></td>\n      <td></td>\n      <td></td>\n      <td></td>\n      <td></td>\n      <td></td>\n      <td></td>\n      <td></td>\n      <td></td>\n    </tr>\n    <tr>\n      <th>4</th>\n      <td>doi:10.7910/DVN/9MKISZ</td>\n      <td>https://doi.org/10.7910/DVN/9MKISZ</td>\n      <td>10.0</td>\n      <td>CC0 1.0</td>\n      <td>http://creativecommons.org/publicdomain/zero/1.0</td>\n      <td></td>\n      <td></td>\n      <td></td>\n      <td></td>\n      <td></td>\n      <td></td>\n      <td></td>\n      <td></td>\n      <td></td>\n      <td></td>\n      <td></td>\n      <td></td>\n      <td></td>\n      <td></td>\n      <td></td>\n    </tr>\n  </tbody>\n</table></div>"
     },
     "execution_count": 49,
     "metadata": {},
     "output_type": "execute_result"
    }
   ],
   "source": [
    "licenseMetadataDF = pd.read_csv(\n",
    "    'licenses_and_terms_metadata_hdv_2022-10-03.csv',\n",
    "    sep=',', na_filter=False,\n",
    "    converters={'dataset_version_number': to_str})\n",
    "licenseMetadataDF.head()"
   ],
   "metadata": {
    "collapsed": false,
    "pycharm": {
     "name": "#%%\n"
    }
   }
  },
  {
   "cell_type": "code",
   "execution_count": 50,
   "outputs": [
    {
     "data": {
      "text/plain": "              dataset_pid                     dataset_pid_url  \\\n0  doi:10.7910/DVN/5PRYPC  https://doi.org/10.7910/DVN/5PRYPC   \n1   doi:10.7910/DVN/VIE1H   https://doi.org/10.7910/DVN/VIE1H   \n2  doi:10.7910/DVN/KKUJWW  https://doi.org/10.7910/DVN/KKUJWW   \n3  doi:10.7910/DVN/5E6GBN  https://doi.org/10.7910/DVN/5E6GBN   \n4  doi:10.7910/DVN/9MKISZ  https://doi.org/10.7910/DVN/9MKISZ   \n\n  dataset_version_number dataset_publication_date dataset_version_create_time  \\\n0                    4.0               2020-05-27   2020-06-17 23:49:50+00:00   \n1                  248.0               2015-02-11   2015-06-18 19:49:12+00:00   \n2                    1.0               2015-07-23   2015-07-15 00:57:41+00:00   \n3                    1.2               2020-04-05   2020-04-05 21:32:37+00:00   \n4                   10.0               2011-06-09   2013-01-29 23:42:10+00:00   \n\n  dataset_version_state          publisher  \n0              RELEASED  Harvard Dataverse  \n1              RELEASED  Harvard Dataverse  \n2              RELEASED  Harvard Dataverse  \n3              RELEASED  Harvard Dataverse  \n4              RELEASED  Harvard Dataverse  ",
      "text/html": "<div><div id=0ae2f990-8f91-4731-9688-fbe382e38a9b style=\"display:none; background-color:#9D6CFF; color:white; width:200px; height:30px; padding-left:5px; border-radius:4px; flex-direction:row; justify-content:space-around; align-items:center;\" onmouseover=\"this.style.backgroundColor='#BA9BF8'\" onmouseout=\"this.style.backgroundColor='#9D6CFF'\" onclick=\"window.commands?.execute('create-mitosheet-from-dataframe-output');\">See Full Dataframe in Mito</div> <script> if (window.commands.hasCommand('create-mitosheet-from-dataframe-output')) document.getElementById('0ae2f990-8f91-4731-9688-fbe382e38a9b').style.display = 'flex' </script> <table border=\"1\" class=\"dataframe\">\n  <thead>\n    <tr style=\"text-align: right;\">\n      <th></th>\n      <th>dataset_pid</th>\n      <th>dataset_pid_url</th>\n      <th>dataset_version_number</th>\n      <th>dataset_publication_date</th>\n      <th>dataset_version_create_time</th>\n      <th>dataset_version_state</th>\n      <th>publisher</th>\n    </tr>\n  </thead>\n  <tbody>\n    <tr>\n      <th>0</th>\n      <td>doi:10.7910/DVN/5PRYPC</td>\n      <td>https://doi.org/10.7910/DVN/5PRYPC</td>\n      <td>4.0</td>\n      <td>2020-05-27</td>\n      <td>2020-06-17 23:49:50+00:00</td>\n      <td>RELEASED</td>\n      <td>Harvard Dataverse</td>\n    </tr>\n    <tr>\n      <th>1</th>\n      <td>doi:10.7910/DVN/VIE1H</td>\n      <td>https://doi.org/10.7910/DVN/VIE1H</td>\n      <td>248.0</td>\n      <td>2015-02-11</td>\n      <td>2015-06-18 19:49:12+00:00</td>\n      <td>RELEASED</td>\n      <td>Harvard Dataverse</td>\n    </tr>\n    <tr>\n      <th>2</th>\n      <td>doi:10.7910/DVN/KKUJWW</td>\n      <td>https://doi.org/10.7910/DVN/KKUJWW</td>\n      <td>1.0</td>\n      <td>2015-07-23</td>\n      <td>2015-07-15 00:57:41+00:00</td>\n      <td>RELEASED</td>\n      <td>Harvard Dataverse</td>\n    </tr>\n    <tr>\n      <th>3</th>\n      <td>doi:10.7910/DVN/5E6GBN</td>\n      <td>https://doi.org/10.7910/DVN/5E6GBN</td>\n      <td>1.2</td>\n      <td>2020-04-05</td>\n      <td>2020-04-05 21:32:37+00:00</td>\n      <td>RELEASED</td>\n      <td>Harvard Dataverse</td>\n    </tr>\n    <tr>\n      <th>4</th>\n      <td>doi:10.7910/DVN/9MKISZ</td>\n      <td>https://doi.org/10.7910/DVN/9MKISZ</td>\n      <td>10.0</td>\n      <td>2011-06-09</td>\n      <td>2013-01-29 23:42:10+00:00</td>\n      <td>RELEASED</td>\n      <td>Harvard Dataverse</td>\n    </tr>\n  </tbody>\n</table></div>"
     },
     "execution_count": 50,
     "metadata": {},
     "output_type": "execute_result"
    }
   ],
   "source": [
    "basicMetadataDF = pd.read_csv(\n",
    "    'basic_metadata_hdv_2022-10-03.csv',\n",
    "    sep=',', na_filter=False,\n",
    "    parse_dates=['dataset_publication_date', 'dataset_version_create_time'],\n",
    "    converters={'dataset_version_number': to_str})\n",
    "\n",
    "basicMetadataDF.head()"
   ],
   "metadata": {
    "collapsed": false,
    "pycharm": {
     "name": "#%%\n"
    }
   }
  },
  {
   "cell_type": "code",
   "execution_count": 51,
   "outputs": [
    {
     "name": "stdout",
     "output_type": "stream",
     "text": [
      "Number of dataset versions licenseMetadataDF: 130768\n",
      "Number of datasets in licenseMetadataDF: 80278\n",
      "\n",
      "Number of dataset versions in basicMetadataDF: 130768\n",
      "Number of datasets in basicMetadataDF: 80278\n"
     ]
    }
   ],
   "source": [
    "# Check data\n",
    "\n",
    "# Get the unique counts of datasets in the licenseMetadataDF and datasetsDF dataframes\n",
    "print('Number of dataset versions licenseMetadataDF: %s' %(len(licenseMetadataDF)))\n",
    "print('Number of datasets in licenseMetadataDF: %s' % (len(pd.unique(licenseMetadataDF['dataset_pid']))))\n",
    "\n",
    "print('\\nNumber of dataset versions in basicMetadataDF: %s' %(len(basicMetadataDF)))\n",
    "print('Number of datasets in basicMetadataDF: %s' % (len(pd.unique(basicMetadataDF['dataset_pid']))))"
   ],
   "metadata": {
    "collapsed": false,
    "pycharm": {
     "name": "#%%\n"
    }
   }
  },
  {
   "cell_type": "code",
   "execution_count": 52,
   "outputs": [
    {
     "name": "stdout",
     "output_type": "stream",
     "text": [
      "Datasets in datasetsInlicenseMetadataDFList: 80278\n",
      "Datasets in basicMetadataDF: 80278\n",
      "Number of datasets in one table and not the other: 0\n"
     ]
    }
   ],
   "source": [
    "# Make sure the two dataframes, allDatasetPIDsDF and basicMetadataDF, contain the datasets\n",
    "datasetsInlicenseMetadataDFList = set(licenseMetadataDF['dataset_pid'].tolist())\n",
    "datasetsInbasicMetadataDFList = set(basicMetadataDF['dataset_pid'].tolist())\n",
    "\n",
    "print(f'Datasets in datasetsInlicenseMetadataDFList: {len(datasetsInlicenseMetadataDFList)}')\n",
    "print(f'Datasets in basicMetadataDF: {len(datasetsInbasicMetadataDFList)}')\n",
    "\n",
    "# Create list of dataset PIDs that exist in one list and not the other, if any\n",
    "difference = datasetsInlicenseMetadataDFList - datasetsInbasicMetadataDFList\n",
    "difference = list(difference)\n",
    "print(f'Number of datasets in one table and not the other: {len(difference)}')\n"
   ],
   "metadata": {
    "collapsed": false,
    "pycharm": {
     "name": "#%%\n"
    }
   }
  },
  {
   "cell_type": "code",
   "execution_count": 53,
   "outputs": [],
   "source": [
    "# Merge the two dataframes\n",
    "licenseAndBasicMetadataDF = pd.merge(\n",
    "    licenseMetadataDF, basicMetadataDF,\n",
    "    how='inner',\n",
    "    on=[\n",
    "        'dataset_pid',\n",
    "        'dataset_pid_url',\n",
    "        'dataset_version_number'])"
   ],
   "metadata": {
    "collapsed": false,
    "pycharm": {
     "name": "#%%\n"
    }
   }
  },
  {
   "cell_type": "code",
   "execution_count": 54,
   "outputs": [
    {
     "name": "stdout",
     "output_type": "stream",
     "text": [
      "Number of dataset versions in licenseAndBasicMetadataDF: 130768\n",
      "Number of datasets in licenseAndBasicMetadataDF: 80278\n"
     ]
    }
   ],
   "source": [
    "# Check count of unique datasets in the new mergedDF\n",
    "print(f'Number of dataset versions in licenseAndBasicMetadataDF: {len(licenseAndBasicMetadataDF)}')\n",
    "uniqueDatasetCount = len(pd.unique(licenseAndBasicMetadataDF['dataset_pid']))\n",
    "print(f'Number of datasets in licenseAndBasicMetadataDF: {uniqueDatasetCount}')"
   ],
   "metadata": {
    "collapsed": false,
    "pycharm": {
     "name": "#%%\n"
    }
   }
  },
  {
   "cell_type": "code",
   "execution_count": 68,
   "outputs": [
    {
     "name": "stdout",
     "output_type": "stream",
     "text": [
      "Count of pids in latestversion_mergedDF: 80278\n"
     ]
    }
   ],
   "source": [
    "# Create dataframe, licenseMetadataLatestVersionDF, that contains the license and terms metadata of only the latest\n",
    "# version of each dataset, using the latest version release time from the merged basicMetadataDF\n",
    "latestversion_licenseAndBasicMetadataDF = (licenseAndBasicMetadataDF\n",
    "                 .iloc[licenseAndBasicMetadataDF.groupby('dataset_pid')['dataset_version_create_time']\n",
    "                 .agg(pd.Series.idxmax)]\n",
    "                 .reset_index(drop=True, inplace=False))\n",
    "\n",
    "# Replace any blank values with NaN\n",
    "latestversion_licenseAndBasicMetadataDF = latestversion_licenseAndBasicMetadataDF.replace(r'^\\s*$', np.nan, regex=True)\n",
    "\n",
    "# Remove dataset_version_state and publisher columns and reorder remaining columns\n",
    "latestversion_licenseAndBasicMetadataDF = latestversion_licenseAndBasicMetadataDF[[\n",
    "    'dataset_pid_url', 'dataset_publication_date', 'dataset_version_number', 'dataset_version_create_time', 'license_name', 'license_uri', 'terms_of_use', 'confidentiality_declaration', 'special_permissions', 'restrictions', 'citation_requirements', 'depositor_requirements', 'conditions', 'disclaimer', 'terms_of_access', 'data_access_place', 'original_archive', 'availability_status', 'contact_for_access', 'size_of_collection', 'study_completion'\n",
    "]]\n",
    "\n",
    "print(f'Count of pids in latestversion_mergedDF: {len(latestversion_licenseAndBasicMetadataDF)}')\n"
   ],
   "metadata": {
    "collapsed": false,
    "pycharm": {
     "name": "#%%\n"
    }
   }
  },
  {
   "cell_type": "code",
   "execution_count": 69,
   "outputs": [
    {
     "name": "stdout",
     "output_type": "stream",
     "text": [
      "<class 'pandas.core.frame.DataFrame'>\n",
      "RangeIndex: 80278 entries, 0 to 80277\n",
      "Data columns (total 21 columns):\n",
      " #   Column                       Non-Null Count  Dtype              \n",
      "---  ------                       --------------  -----              \n",
      " 0   dataset_pid_url              80278 non-null  object             \n",
      " 1   dataset_publication_date     80278 non-null  datetime64[ns]     \n",
      " 2   dataset_version_number       80278 non-null  object             \n",
      " 3   dataset_version_create_time  80278 non-null  datetime64[ns, UTC]\n",
      " 4   license_name                 35351 non-null  object             \n",
      " 5   license_uri                  35351 non-null  object             \n",
      " 6   terms_of_use                 44716 non-null  object             \n",
      " 7   confidentiality_declaration  82 non-null     object             \n",
      " 8   special_permissions          1301 non-null   object             \n",
      " 9   restrictions                 1099 non-null   object             \n",
      " 10  citation_requirements        2190 non-null   object             \n",
      " 11  depositor_requirements       538 non-null    object             \n",
      " 12  conditions                   573 non-null    object             \n",
      " 13  disclaimer                   1868 non-null   object             \n",
      " 14  terms_of_access              1883 non-null   object             \n",
      " 15  data_access_place            121 non-null    object             \n",
      " 16  original_archive             621 non-null    object             \n",
      " 17  availability_status          1117 non-null   object             \n",
      " 18  contact_for_access           655 non-null    object             \n",
      " 19  size_of_collection           377 non-null    object             \n",
      " 20  study_completion             33 non-null     object             \n",
      "dtypes: datetime64[ns, UTC](1), datetime64[ns](1), object(19)\n",
      "memory usage: 12.9+ MB\n"
     ]
    }
   ],
   "source": [
    "# Let's make sure each column is the object type we want. Everything should be a string except for the two date columns.\n",
    "latestversion_licenseAndBasicMetadataDF.info()"
   ],
   "metadata": {
    "collapsed": false,
    "pycharm": {
     "name": "#%%\n"
    }
   }
  },
  {
   "cell_type": "markdown",
   "source": [
    "Now that we have the data we need, let's get some answers:\n",
    "- How many datasets have a CC0 waiver?\n",
    "- How many datasets have other types of licenses or other terms of use?\n",
    "- What standard licenses have been applied datasets that don't have CC0 waiver?"
   ],
   "metadata": {
    "collapsed": false,
    "pycharm": {
     "name": "#%% md\n"
    }
   }
  },
  {
   "cell_type": "code",
   "execution_count": 70,
   "outputs": [
    {
     "name": "stdout",
     "output_type": "stream",
     "text": [
      "<class 'pandas.core.frame.DataFrame'>\n",
      "RangeIndex: 36580 entries, 0 to 36579\n",
      "Data columns (total 21 columns):\n",
      " #   Column                       Non-Null Count  Dtype              \n",
      "---  ------                       --------------  -----              \n",
      " 0   dataset_pid_url              36580 non-null  object             \n",
      " 1   dataset_publication_date     36580 non-null  datetime64[ns]     \n",
      " 2   dataset_version_number       36580 non-null  object             \n",
      " 3   dataset_version_create_time  36580 non-null  datetime64[ns, UTC]\n",
      " 4   license_name                 35351 non-null  object             \n",
      " 5   license_uri                  35351 non-null  object             \n",
      " 6   terms_of_use                 1229 non-null   object             \n",
      " 7   confidentiality_declaration  27 non-null     object             \n",
      " 8   special_permissions          68 non-null     object             \n",
      " 9   restrictions                 104 non-null    object             \n",
      " 10  citation_requirements        239 non-null    object             \n",
      " 11  depositor_requirements       14 non-null     object             \n",
      " 12  conditions                   102 non-null    object             \n",
      " 13  disclaimer                   203 non-null    object             \n",
      " 14  terms_of_access              786 non-null    object             \n",
      " 15  data_access_place            101 non-null    object             \n",
      " 16  original_archive             212 non-null    object             \n",
      " 17  availability_status          204 non-null    object             \n",
      " 18  contact_for_access           220 non-null    object             \n",
      " 19  size_of_collection           332 non-null    object             \n",
      " 20  study_completion             2 non-null      object             \n",
      "dtypes: datetime64[ns, UTC](1), datetime64[ns](1), object(19)\n",
      "memory usage: 5.9+ MB\n"
     ]
    }
   ],
   "source": [
    "# Create a dataframe containing the datasets whose latest versions have a CC0 waiver\n",
    "datasetsWithCC0DF = (latestversion_licenseAndBasicMetadataDF\n",
    "                       .query('license_name == \"CC0 1.0\" or terms_of_use.str.contains(\"This dataset is made available under a Creative Commons CC0 license with the following additional/modified terms and conditions\")')\n",
    "                       .reset_index(drop=True, inplace=False)\n",
    "                       )\n",
    "datasetsWithCC0DF.info()"
   ],
   "metadata": {
    "collapsed": false,
    "pycharm": {
     "name": "#%%\n"
    }
   }
  },
  {
   "cell_type": "markdown",
   "source": [
    "As part of the Dataverse software's multiple license update:\n",
    "- If a dataset has a CC0 waiver and nothing entered in any of its \"Terms of Use\" fields, the dataset is considered to have a \"standard\" CC0 license\n",
    "- If a dataset has a CC0 waiver and anything entered in any of its \"Terms of Use\" fields, the dataset is considered to have a custom license, where \"This dataset is made available under a Creative Commons CC0 license with the following additional/modified terms and conditions:\" is entered in the Terms of Use field, followed by whatever text was entered in any of the \"Terms of Use\" fields.\n",
    "\n",
    "For this second case, let's see what's entered in these \"custom licences\"."
   ],
   "metadata": {
    "collapsed": false,
    "pycharm": {
     "name": "#%% md\n"
    }
   }
  },
  {
   "cell_type": "code",
   "execution_count": 58,
   "outputs": [
    {
     "name": "stdout",
     "output_type": "stream",
     "text": [
      "Datasets with a custom license that includes CC0: 1229\n"
     ]
    }
   ],
   "source": [
    "# Create a new dataframe with only datasets with text in their terms_of_use column\n",
    "datasetsWithCC0CustomDF = (datasetsWithCC0DF\n",
    "                     .query('terms_of_use.notnull()')\n",
    "                     .reset_index(drop=True, inplace=False)\n",
    "                     )\n",
    "print(f'Datasets with a custom license that includes CC0: {len(datasetsWithCC0CustomDF)}')"
   ],
   "metadata": {
    "collapsed": false,
    "pycharm": {
     "name": "#%%\n"
    }
   }
  },
  {
   "cell_type": "code",
   "execution_count": 59,
   "outputs": [
    {
     "name": "stdout",
     "output_type": "stream",
     "text": [
      "Count of unique \"terms of use\" strings that include CC0: 16\n",
      "1.  CC0 Waiver\n",
      "2.  \n",
      "3.  Please contact me for permission to re-use data\n",
      "4.  <a rel=\"license\" href=\"http://creativecommons.org/publicdomain/mark/1.0/\"><img alt=\"Creative Commons License\" style=\"border-width:0\" src=\"https://i.creativecommons.org/p/mark/1.0/88x31.png\" /></a><br />This work is licensed under a <a rel=\"license\" href=\"http://creativecommons.org/publicdomain/mark/1.0/\">Creative Commons Public Domain Mark 1.0 License</a>.\n",
      "5.  Attribution 4.0 International (CC BY 4.0)\n",
      "6.  One year embargo\n",
      "7.  Licensed electronic resources are restricted to members of the MIT community and for the purposes of research, education, and scholarship.  Under MIT's licenses for electronic resources, users generally may not: - \n",
      "<p><ul><li>redistribute the materials or permit anyone other than a member of the MIT community to use them</li> <li>remove, obscure or modify any copyright or other notices included in the materials</li> <li>use the materials for commercial purposes.</li></ul> Users are individually responsible for compliance with these terms.</p>\n",
      "8.  Distribution of this dataset outside of this platform is prohibited\n",
      "9.  By downloading or otherwise accessing the Materials, <b>Downloader</b> represents their acceptance of the terms of this Agreement. Use of the Materials include but are not limited to viewing parts or the whole of the content included in the Materials; comparing data or content from the Materials with data or content in other Materials; verifying research results with the content included in the Materials; and extracting and/or appropriating any part of the content included in the Materials for use in other projects, publications, research, or other related work products.<br /><br />\n",
      "\n",
      "In Your use of the materials, <b>Downloader</b> represents that:<br />\n",
      "Downloader is not bound by any pre-existing legal obligations or other applicable laws that prevent Downloader from downloading or using the Materials;<br />\n",
      "Downloader will not use the Materials in any way prohibited by applicable laws;<br />\n",
      "Downloader has no knowledge of and will therefore not be responsible for any restrictions regarding the use of Materials beyond what is described in this Agreement; and<br />\n",
      "Downloader has no knowledge of and will therefore not be responsible for any inaccuracies and any other such problems with regards to the content of the Materials and the accompanying citation information.<br /><br />\n",
      "\n",
      "In your use of the materials, <b>Downloader</b> cannot:<br />\n",
      "obtain information from the Materials that results in Downloader or any third party(ies) directly or indirectly identifying any research subjects with the aid of other information acquired elsewhere;\n",
      "produce connections or links among the information included in User’s datasets (including information in the Materials), or between the information included in User’s datasets (including information in the Materials) and other third-party information that could be used to identify any individuals or organizations, not limited to research subjects; and\n",
      "extract information from the Materials that could aid Downloader in gaining knowledge about or obtaining any means of contacting any subjects already known to Downloader.\n",
      "\n",
      "10.  All files will be available under  \"CC0 public domain dedication,\" once article is accepted for publication\n",
      "11.  This database (Electromechanical impedance measurements using the Analog Devices AD5933) is made available under the Open Database License: http://opendatacommons.org/licenses/odbl/1.0/. Any rights in individual contents of the database are licensed under the Database Contents License: http://opendatacommons.org/licenses/dbcl/1.0/ - \n",
      " - \n",
      "\n",
      "12.  data can only be used for replication, not for new research\n",
      "13.  Please cite original sources, I have just compiled data from:\n",
      "Global Entrepreneurship Monitor\n",
      "World Bank\n",
      "Fraser Institute\n",
      "14.  <h1> IFPRI  DATAVERSE TERMS OF USE </h1>  - \n",
      "By using this website and any of the materials made available through it, you agree to abide by the Terms of Use of IFPRI Dataverse. The datasets and documents in this study are licensed under <a rel=\"license\" href=\"http://creativecommons.org/licenses/by/4.0/\"><img alt=\"Creative Commons License\" style=\"border-width:0\" src=\"https://i.creativecommons.org/l/by/4.0/88x31.png\" /></a><br />This work is licensed under a <a rel=\"license\" href=\"http://creativecommons.org/licenses/by/4.0/\">Creative Commons Attribution 4.0 International License</a>.\n",
      "15. \n",
      "16.  The datasets archived on this site are contributed by individual scientists and institutes and have been quality-controlled by the site investigators. In most cases, the data have been published in peer-reviewed journals. To encourage data-mining collaboration, we ask that prior to data downloading you email the site investigators your intent on how you may use their data. We adopt the data use policy of FLUXNET for SWVID: “Inform the scientist(s) who contributed the data of how [you] plan to use the data and of any publication plans. Initiate contact with the data contributor, so that they have the opportunity to contribute substantively and as a result to be a co-author” (see https://fluxnet.fluxdata.org/data/data-policy/). Data users and data contributors are encouraged to adhere to this policy.  - \n",
      " - \n",
      "\tUsers should acknowledge the data by citing the relevant DOI or papers, and the sources of funding that supported the site operation. If the data download is not accompanied by the preferred acknowledgment language, ask the site principal investigator for clarification. If a scientist wishes to contribute their data to the database, it is understood that their data will be made available to the global community under the data use policy stated above.\n"
     ]
    }
   ],
   "source": [
    "# Let's see what's in these custom licenses\n",
    "termsOfUseList = pd.unique(datasetsWithCC0CustomDF['terms_of_use'])\n",
    "print(f'Count of unique \"terms of use\" strings that include CC0: {len(termsOfUseList)}')\n",
    "count = 0\n",
    "for terms in termsOfUseList:\n",
    "    # Let's remove the boiler plate message so it's easier to see what the \"additional/modified terms and conditions\" are\n",
    "    terms = terms.replace('This dataset is made available under a Creative Commons CC0 license with the following additional/modified terms and conditions:', '')\n",
    "    count += 1\n",
    "    print(f'{count}. {terms}')"
   ],
   "metadata": {
    "collapsed": false,
    "pycharm": {
     "name": "#%%\n"
    }
   }
  },
  {
   "cell_type": "markdown",
   "source": [
    "It looks like the only standard license mentioned in this list of custom licenses is the CC BY 4.0 license.\n",
    "\n",
    "While we're interested here only in seeing which other standard licenses are included in these \"custom terms\", let's note some issues from this list of 16 \"custom licenses\" with how terms of use metadata have been recorded:\n",
    "- In the first term in the list, it looks like there are cases where the \"custom\" parts of some datasets' terms of use are actually just CC0 waivers. We should probably see which datasets these are and if they can be updated to have only a CC0 waiver (and not a custom license)\n",
    "- The second term in the list is blank. So the custom license reads that \"This dataset is made available under a Creative Commons CC0 license with the following additional/modified terms and conditions:\" but nothing follows colon. We should probably see which datasets these are. It's possible that they can also be updated to have only a CC0 waiver (and not a custom license).\n",
    "- Some of the other terms in the list include a CC BY 4.0 license or language that might conflict with the CC0 waiver. While the Harvard Dataverse Repository isn't obligated to make sure that terms applied to deposits make sense, this should be looked into.\n",
    "\n",
    "Now let's look at datasets that have something entered in their Terms of Use fields but don't have a CC0 waiver."
   ],
   "metadata": {
    "collapsed": false,
    "pycharm": {
     "name": "#%% md\n"
    }
   }
  },
  {
   "cell_type": "code",
   "execution_count": 71,
   "outputs": [
    {
     "name": "stdout",
     "output_type": "stream",
     "text": [
      "Count of datasets whose latest versions have custom licenses and no CC0 waivers: 31205\n"
     ]
    }
   ],
   "source": [
    "latestversion_licenseAndBasicMetadataDF = latestversion_licenseAndBasicMetadataDF.replace(np.nan, 'NONE')\n",
    "\n",
    "# Create a dataframe containing the datasets whose latest versions have custom licenses and no CC0 waivers\n",
    "datasetsWithCustomLicenseDF = (latestversion_licenseAndBasicMetadataDF\n",
    "                       .query('license_name == \"NONE\" and terms_of_use != \"NONE\" and ~terms_of_use.str.contains(\"This dataset is made available under a Creative Commons CC0 license with the following additional/modified terms and conditions\") and terms_of_use != \"This dataset is made available without information on how it can be used. You should communicate with the Contact(s) specified before use.\"')\n",
    "                     .reset_index(drop=True, inplace=False)\n",
    "                     )\n",
    "print(f'Count of datasets whose latest versions have custom licenses and no CC0 waivers: {len(datasetsWithCustomLicenseDF)}')"
   ],
   "metadata": {
    "collapsed": false,
    "pycharm": {
     "name": "#%%\n"
    }
   }
  },
  {
   "cell_type": "code",
   "execution_count": 72,
   "outputs": [],
   "source": [
    "# For each of these datasets, in order to determine which standard licenses might be mentioned in any of their Terms of Use or Terms of Access fields, let's create a new column that's a concatenation of what's entered in all of the Terms fields\n",
    "termsColumns = [\n",
    "    'terms_of_use',\n",
    "    'confidentiality_declaration',\n",
    "    'special_permissions',\n",
    "    'restrictions',\n",
    "    'citation_requirements',\n",
    "    'depositor_requirements',\n",
    "    'conditions',\n",
    "    'disclaimer',\n",
    "    'terms_of_access',\n",
    "    'data_access_place',\n",
    "    'original_archive',\n",
    "    'availability_status',\n",
    "    'contact_for_access',\n",
    "    'size_of_collection',\n",
    "    'study_completion'\n",
    "]\n",
    "datasetsWithCustomLicenseDF['combined_terms'] = datasetsWithCustomLicenseDF[termsColumns].apply(lambda row: ' | '.join(row.values.astype(str)), axis=1)\n",
    "datasetsWithCustomLicenseDF = datasetsWithCustomLicenseDF.replace('\\r', ' ').replace('\\n', '')"
   ],
   "metadata": {
    "collapsed": false,
    "pycharm": {
     "name": "#%%\n"
    }
   }
  },
  {
   "cell_type": "code",
   "execution_count": 73,
   "outputs": [
    {
     "name": "stdout",
     "output_type": "stream",
     "text": [
      "<class 'pandas.core.frame.DataFrame'>\n",
      "RangeIndex: 31205 entries, 0 to 31204\n",
      "Data columns (total 22 columns):\n",
      " #   Column                       Non-Null Count  Dtype              \n",
      "---  ------                       --------------  -----              \n",
      " 0   dataset_pid_url              31205 non-null  object             \n",
      " 1   dataset_publication_date     31205 non-null  datetime64[ns]     \n",
      " 2   dataset_version_number       31205 non-null  object             \n",
      " 3   dataset_version_create_time  31205 non-null  datetime64[ns, UTC]\n",
      " 4   license_name                 31205 non-null  object             \n",
      " 5   license_uri                  31205 non-null  object             \n",
      " 6   terms_of_use                 31205 non-null  object             \n",
      " 7   confidentiality_declaration  31205 non-null  object             \n",
      " 8   special_permissions          31205 non-null  object             \n",
      " 9   restrictions                 31205 non-null  object             \n",
      " 10  citation_requirements        31205 non-null  object             \n",
      " 11  depositor_requirements       31205 non-null  object             \n",
      " 12  conditions                   31205 non-null  object             \n",
      " 13  disclaimer                   31205 non-null  object             \n",
      " 14  terms_of_access              31205 non-null  object             \n",
      " 15  data_access_place            31205 non-null  object             \n",
      " 16  original_archive             31205 non-null  object             \n",
      " 17  availability_status          31205 non-null  object             \n",
      " 18  contact_for_access           31205 non-null  object             \n",
      " 19  size_of_collection           31205 non-null  object             \n",
      " 20  study_completion             31205 non-null  object             \n",
      " 21  combined_terms               31205 non-null  object             \n",
      "dtypes: datetime64[ns, UTC](1), datetime64[ns](1), object(20)\n",
      "memory usage: 5.2+ MB\n"
     ]
    }
   ],
   "source": [
    "datasetsWithCustomLicenseDF.info()"
   ],
   "metadata": {
    "collapsed": false,
    "pycharm": {
     "name": "#%%\n"
    }
   }
  },
  {
   "cell_type": "code",
   "execution_count": 63,
   "outputs": [],
   "source": [
    "# Get license info from SPDX's list of licenses\n",
    "# spdxDataUrl = 'https://raw.githubusercontent.com/spdx/license-list-data/master/json/licenses.json'\n",
    "# response = requests.get(spdxDataUrl)\n",
    "# spdxData = response.json()\n",
    "\n",
    "# licenseNames = []\n",
    "# for license in spdxData['licenses']:\n",
    "#     reference = license['reference']\n",
    "#     name = license['name']\n",
    "#     licenseNames.append(name)\n",
    "#     licenseId = license['licenseId']\n",
    "#     seeAlso = license['seeAlso']\n",
    "#\n",
    "# print(licenseNames)\n"
   ],
   "metadata": {
    "collapsed": false,
    "pycharm": {
     "name": "#%%\n"
    }
   }
  },
  {
   "cell_type": "code",
   "execution_count": 81,
   "outputs": [
    {
     "name": "stdout",
     "output_type": "stream",
     "text": [
      "2418\n"
     ]
    }
   ],
   "source": [
    "# Let's get a unique list of what's been entered in these Terms fields. Then we can extract the Creative Commons URLs from the list to see which Creative Commons licenses have been used\n",
    "customMetadataList = list(set(datasetsWithCustomLicenseDF['combined_terms'].tolist()))\n",
    "\n",
    "# Remove the \"| NONE\" entries from each item in the list\n",
    "newList = []\n",
    "for metadata in customMetadataList:\n",
    "    metadata = metadata.replace(' | NONE', '')\n",
    "    newList.append(metadata)\n",
    "customMetadataList = newList\n",
    "\n",
    "# Count items in the list\n",
    "print(len(customMetadataList))"
   ],
   "metadata": {
    "collapsed": false,
    "pycharm": {
     "name": "#%%\n"
    }
   }
  },
  {
   "cell_type": "code",
   "execution_count": 115,
   "outputs": [],
   "source": [
    "# For each item in the customMetadataList, use regex to extract any Creative Commons URLs\n",
    "urlsList = []\n",
    "for metadata in customMetadataList:\n",
    "    regex = r\"(?i)\\b((?:https?://creativecommons|www\\d{0,3}[.]|[a-z0-9.\\-]+[.][a-z]{2,4}/)(?:[^\\s()<>]+|\\(([^\\s()<>]+|(\\([^\\s()<>]+\\)))*\\))+(?:\\(([^\\s()<>]+|(\\([^\\s()<>]+\\)))*\\)|[^\\s`!()\\[\\]{};:'\\\".,<>?«»“”‘’]))\"\n",
    "    urls = re.search(regex, metadata)\n",
    "    if urls is not None:\n",
    "        urlsList.append(urls.group())\n",
    "\n",
    "creativeCommonsUrlsList = []\n",
    "for i in urlsList:\n",
    "    if 'creativecommons.org/licenses' in i:\n",
    "        creativeCommonsUrlsList.append(i)\n",
    "\n",
    "# Deduplicate list\n",
    "creativeCommonsUrlsList = list(set(creativeCommonsUrlsList))\n",
    "\n",
    "# Export list to a txt file\n",
    "with open('list_of_license_urls.txt', 'w') as f:\n",
    "    for url in creativeCommonsUrlsList:\n",
    "        f.write(f'{url}\\n')\n"
   ],
   "metadata": {
    "collapsed": false,
    "pycharm": {
     "name": "#%%\n"
    }
   }
  },
  {
   "cell_type": "code",
   "execution_count": 42,
   "outputs": [],
   "source": [
    "datasetsWithCustomLicenseDF.to_csv('/Users/juliangautier/Desktop/datasetsWithCustomLicenseDF.csv', index=False)"
   ],
   "metadata": {
    "collapsed": false,
    "pycharm": {
     "name": "#%%\n"
    }
   }
  },
  {
   "cell_type": "code",
   "execution_count": null,
   "outputs": [],
   "source": [],
   "metadata": {
    "collapsed": false,
    "pycharm": {
     "name": "#%%\n"
    }
   }
  }
 ],
 "metadata": {
  "kernelspec": {
   "display_name": "Python 3",
   "language": "python",
   "name": "python3"
  },
  "language_info": {
   "codemirror_mode": {
    "name": "ipython",
    "version": 2
   },
   "file_extension": ".py",
   "mimetype": "text/x-python",
   "name": "python",
   "nbconvert_exporter": "python",
   "pygments_lexer": "ipython2",
   "version": "2.7.6"
  }
 },
 "nbformat": 4,
 "nbformat_minor": 0
}