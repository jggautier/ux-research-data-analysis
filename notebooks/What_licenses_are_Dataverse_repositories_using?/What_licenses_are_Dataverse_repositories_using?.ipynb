{
 "cells": [
  {
   "cell_type": "markdown",
   "source": [
    "# Import Python libraries"
   ],
   "metadata": {
    "collapsed": false,
    "pycharm": {
     "name": "#%% md\n"
    }
   }
  },
  {
   "cell_type": "code",
   "execution_count": 20,
   "outputs": [],
   "source": [
    "import numpy as np\n",
    "from numpy import nan\n",
    "import pandas as pd\n",
    "import re\n",
    "import requests\n",
    "import htmlmin"
   ],
   "metadata": {
    "collapsed": false,
    "pycharm": {
     "name": "#%%\n"
    }
   }
  },
  {
   "cell_type": "code",
   "execution_count": 2,
   "outputs": [],
   "source": [
    "def to_str(item):\n",
    "    return str(item)"
   ],
   "metadata": {
    "collapsed": false,
    "pycharm": {
     "name": "#%%\n"
    }
   }
  },
  {
   "cell_type": "markdown",
   "source": [
    "# Get and prepare the data"
   ],
   "metadata": {
    "collapsed": false,
    "pycharm": {
     "name": "#%% md\n"
    }
   }
  },
  {
   "cell_type": "code",
   "execution_count": 3,
   "outputs": [
    {
     "data": {
      "text/plain": "              dataset_pid                     dataset_pid_url  \\\n0  doi:10.7910/DVN/5PRYPC  https://doi.org/10.7910/DVN/5PRYPC   \n1   doi:10.7910/DVN/VIE1H   https://doi.org/10.7910/DVN/VIE1H   \n2  doi:10.7910/DVN/KKUJWW  https://doi.org/10.7910/DVN/KKUJWW   \n3  doi:10.7910/DVN/5E6GBN  https://doi.org/10.7910/DVN/5E6GBN   \n4  doi:10.7910/DVN/9MKISZ  https://doi.org/10.7910/DVN/9MKISZ   \n\n  dataset_version_number license_name  \\\n0                    4.0      CC0 1.0   \n1                  248.0                \n2                    1.0      CC0 1.0   \n3                    1.2      CC0 1.0   \n4                   10.0      CC0 1.0   \n\n                                        license_uri terms_of_use  \\\n0  http://creativecommons.org/publicdomain/zero/1.0                \n1                                                                  \n2  http://creativecommons.org/publicdomain/zero/1.0                \n3  http://creativecommons.org/publicdomain/zero/1.0                \n4  http://creativecommons.org/publicdomain/zero/1.0                \n\n  confidentiality_declaration special_permissions restrictions  \\\n0                                                                \n1                                                                \n2                                                                \n3                                                                \n4                                                                \n\n  citation_requirements depositor_requirements conditions disclaimer  \\\n0                                                                      \n1                                                                      \n2                                                                      \n3                                                                      \n4                                                                      \n\n  terms_of_access data_access_place original_archive availability_status  \\\n0                                                                          \n1                                                                          \n2                                                                          \n3                                                                          \n4                                                                          \n\n  contact_for_access size_of_collection study_completion  \n0                                                         \n1                                                         \n2                                                         \n3                                                         \n4                                                         ",
      "text/html": "<div><div id=7aae19fc-a22b-40e8-be8b-1dffe27b4ecd style=\"display:none; background-color:#9D6CFF; color:white; width:200px; height:30px; padding-left:5px; border-radius:4px; flex-direction:row; justify-content:space-around; align-items:center;\" onmouseover=\"this.style.backgroundColor='#BA9BF8'\" onmouseout=\"this.style.backgroundColor='#9D6CFF'\" onclick=\"window.commands?.execute('create-mitosheet-from-dataframe-output');\">See Full Dataframe in Mito</div> <script> if (window.commands.hasCommand('create-mitosheet-from-dataframe-output')) document.getElementById('7aae19fc-a22b-40e8-be8b-1dffe27b4ecd').style.display = 'flex' </script> <table border=\"1\" class=\"dataframe\">\n  <thead>\n    <tr style=\"text-align: right;\">\n      <th></th>\n      <th>dataset_pid</th>\n      <th>dataset_pid_url</th>\n      <th>dataset_version_number</th>\n      <th>license_name</th>\n      <th>license_uri</th>\n      <th>terms_of_use</th>\n      <th>confidentiality_declaration</th>\n      <th>special_permissions</th>\n      <th>restrictions</th>\n      <th>citation_requirements</th>\n      <th>depositor_requirements</th>\n      <th>conditions</th>\n      <th>disclaimer</th>\n      <th>terms_of_access</th>\n      <th>data_access_place</th>\n      <th>original_archive</th>\n      <th>availability_status</th>\n      <th>contact_for_access</th>\n      <th>size_of_collection</th>\n      <th>study_completion</th>\n    </tr>\n  </thead>\n  <tbody>\n    <tr>\n      <th>0</th>\n      <td>doi:10.7910/DVN/5PRYPC</td>\n      <td>https://doi.org/10.7910/DVN/5PRYPC</td>\n      <td>4.0</td>\n      <td>CC0 1.0</td>\n      <td>http://creativecommons.org/publicdomain/zero/1.0</td>\n      <td></td>\n      <td></td>\n      <td></td>\n      <td></td>\n      <td></td>\n      <td></td>\n      <td></td>\n      <td></td>\n      <td></td>\n      <td></td>\n      <td></td>\n      <td></td>\n      <td></td>\n      <td></td>\n      <td></td>\n    </tr>\n    <tr>\n      <th>1</th>\n      <td>doi:10.7910/DVN/VIE1H</td>\n      <td>https://doi.org/10.7910/DVN/VIE1H</td>\n      <td>248.0</td>\n      <td></td>\n      <td></td>\n      <td></td>\n      <td></td>\n      <td></td>\n      <td></td>\n      <td></td>\n      <td></td>\n      <td></td>\n      <td></td>\n      <td></td>\n      <td></td>\n      <td></td>\n      <td></td>\n      <td></td>\n      <td></td>\n      <td></td>\n    </tr>\n    <tr>\n      <th>2</th>\n      <td>doi:10.7910/DVN/KKUJWW</td>\n      <td>https://doi.org/10.7910/DVN/KKUJWW</td>\n      <td>1.0</td>\n      <td>CC0 1.0</td>\n      <td>http://creativecommons.org/publicdomain/zero/1.0</td>\n      <td></td>\n      <td></td>\n      <td></td>\n      <td></td>\n      <td></td>\n      <td></td>\n      <td></td>\n      <td></td>\n      <td></td>\n      <td></td>\n      <td></td>\n      <td></td>\n      <td></td>\n      <td></td>\n      <td></td>\n    </tr>\n    <tr>\n      <th>3</th>\n      <td>doi:10.7910/DVN/5E6GBN</td>\n      <td>https://doi.org/10.7910/DVN/5E6GBN</td>\n      <td>1.2</td>\n      <td>CC0 1.0</td>\n      <td>http://creativecommons.org/publicdomain/zero/1.0</td>\n      <td></td>\n      <td></td>\n      <td></td>\n      <td></td>\n      <td></td>\n      <td></td>\n      <td></td>\n      <td></td>\n      <td></td>\n      <td></td>\n      <td></td>\n      <td></td>\n      <td></td>\n      <td></td>\n      <td></td>\n    </tr>\n    <tr>\n      <th>4</th>\n      <td>doi:10.7910/DVN/9MKISZ</td>\n      <td>https://doi.org/10.7910/DVN/9MKISZ</td>\n      <td>10.0</td>\n      <td>CC0 1.0</td>\n      <td>http://creativecommons.org/publicdomain/zero/1.0</td>\n      <td></td>\n      <td></td>\n      <td></td>\n      <td></td>\n      <td></td>\n      <td></td>\n      <td></td>\n      <td></td>\n      <td></td>\n      <td></td>\n      <td></td>\n      <td></td>\n      <td></td>\n      <td></td>\n      <td></td>\n    </tr>\n  </tbody>\n</table></div>"
     },
     "execution_count": 3,
     "metadata": {},
     "output_type": "execute_result"
    }
   ],
   "source": [
    "# Read in license and terms metadata, making sure that all values are string values\n",
    "licenseMetadataDF = pd.read_csv(\n",
    "    'licenses_and_terms_metadata_hdv_2022-10-03.csv',\n",
    "    sep=',', na_filter=False,\n",
    "    converters={'dataset_version_number': to_str})\n",
    "\n",
    "# Preview data\n",
    "licenseMetadataDF.head()"
   ],
   "metadata": {
    "collapsed": false,
    "pycharm": {
     "name": "#%%\n"
    }
   }
  },
  {
   "cell_type": "code",
   "execution_count": 4,
   "outputs": [
    {
     "data": {
      "text/plain": "              dataset_pid                     dataset_pid_url  \\\n0  doi:10.7910/DVN/5PRYPC  https://doi.org/10.7910/DVN/5PRYPC   \n1   doi:10.7910/DVN/VIE1H   https://doi.org/10.7910/DVN/VIE1H   \n2  doi:10.7910/DVN/KKUJWW  https://doi.org/10.7910/DVN/KKUJWW   \n3  doi:10.7910/DVN/5E6GBN  https://doi.org/10.7910/DVN/5E6GBN   \n4  doi:10.7910/DVN/9MKISZ  https://doi.org/10.7910/DVN/9MKISZ   \n\n  dataset_version_number dataset_publication_date dataset_version_create_time  \\\n0                    4.0               2020-05-27   2020-06-17 23:49:50+00:00   \n1                  248.0               2015-02-11   2015-06-18 19:49:12+00:00   \n2                    1.0               2015-07-23   2015-07-15 00:57:41+00:00   \n3                    1.2               2020-04-05   2020-04-05 21:32:37+00:00   \n4                   10.0               2011-06-09   2013-01-29 23:42:10+00:00   \n\n  dataset_version_state          publisher  \n0              RELEASED  Harvard Dataverse  \n1              RELEASED  Harvard Dataverse  \n2              RELEASED  Harvard Dataverse  \n3              RELEASED  Harvard Dataverse  \n4              RELEASED  Harvard Dataverse  ",
      "text/html": "<div><div id=1f9b2eaa-02d0-4674-803a-a0fb30e06588 style=\"display:none; background-color:#9D6CFF; color:white; width:200px; height:30px; padding-left:5px; border-radius:4px; flex-direction:row; justify-content:space-around; align-items:center;\" onmouseover=\"this.style.backgroundColor='#BA9BF8'\" onmouseout=\"this.style.backgroundColor='#9D6CFF'\" onclick=\"window.commands?.execute('create-mitosheet-from-dataframe-output');\">See Full Dataframe in Mito</div> <script> if (window.commands.hasCommand('create-mitosheet-from-dataframe-output')) document.getElementById('1f9b2eaa-02d0-4674-803a-a0fb30e06588').style.display = 'flex' </script> <table border=\"1\" class=\"dataframe\">\n  <thead>\n    <tr style=\"text-align: right;\">\n      <th></th>\n      <th>dataset_pid</th>\n      <th>dataset_pid_url</th>\n      <th>dataset_version_number</th>\n      <th>dataset_publication_date</th>\n      <th>dataset_version_create_time</th>\n      <th>dataset_version_state</th>\n      <th>publisher</th>\n    </tr>\n  </thead>\n  <tbody>\n    <tr>\n      <th>0</th>\n      <td>doi:10.7910/DVN/5PRYPC</td>\n      <td>https://doi.org/10.7910/DVN/5PRYPC</td>\n      <td>4.0</td>\n      <td>2020-05-27</td>\n      <td>2020-06-17 23:49:50+00:00</td>\n      <td>RELEASED</td>\n      <td>Harvard Dataverse</td>\n    </tr>\n    <tr>\n      <th>1</th>\n      <td>doi:10.7910/DVN/VIE1H</td>\n      <td>https://doi.org/10.7910/DVN/VIE1H</td>\n      <td>248.0</td>\n      <td>2015-02-11</td>\n      <td>2015-06-18 19:49:12+00:00</td>\n      <td>RELEASED</td>\n      <td>Harvard Dataverse</td>\n    </tr>\n    <tr>\n      <th>2</th>\n      <td>doi:10.7910/DVN/KKUJWW</td>\n      <td>https://doi.org/10.7910/DVN/KKUJWW</td>\n      <td>1.0</td>\n      <td>2015-07-23</td>\n      <td>2015-07-15 00:57:41+00:00</td>\n      <td>RELEASED</td>\n      <td>Harvard Dataverse</td>\n    </tr>\n    <tr>\n      <th>3</th>\n      <td>doi:10.7910/DVN/5E6GBN</td>\n      <td>https://doi.org/10.7910/DVN/5E6GBN</td>\n      <td>1.2</td>\n      <td>2020-04-05</td>\n      <td>2020-04-05 21:32:37+00:00</td>\n      <td>RELEASED</td>\n      <td>Harvard Dataverse</td>\n    </tr>\n    <tr>\n      <th>4</th>\n      <td>doi:10.7910/DVN/9MKISZ</td>\n      <td>https://doi.org/10.7910/DVN/9MKISZ</td>\n      <td>10.0</td>\n      <td>2011-06-09</td>\n      <td>2013-01-29 23:42:10+00:00</td>\n      <td>RELEASED</td>\n      <td>Harvard Dataverse</td>\n    </tr>\n  </tbody>\n</table></div>"
     },
     "execution_count": 4,
     "metadata": {},
     "output_type": "execute_result"
    }
   ],
   "source": [
    "# Read in basic metadata of each dataset, making sure that dates are recognized as dates and that the version number is treated as a string\n",
    "basicMetadataDF = pd.read_csv(\n",
    "    'basic_metadata_hdv_2022-10-03.csv',\n",
    "    sep=',', na_filter=False,\n",
    "    parse_dates=['dataset_publication_date', 'dataset_version_create_time'],\n",
    "    converters={'dataset_version_number': to_str})\n",
    "\n",
    "# Preview data\n",
    "basicMetadataDF.head()"
   ],
   "metadata": {
    "collapsed": false,
    "pycharm": {
     "name": "#%%\n"
    }
   }
  },
  {
   "cell_type": "code",
   "execution_count": 5,
   "outputs": [
    {
     "name": "stdout",
     "output_type": "stream",
     "text": [
      "Number of dataset versions licenseMetadataDF: 130768\n",
      "Number of datasets in licenseMetadataDF: 80278\n",
      "\n",
      "Number of dataset versions in basicMetadataDF: 130768\n",
      "Number of datasets in basicMetadataDF: 80278\n"
     ]
    }
   ],
   "source": [
    "# Get the unique counts of datasets in the licenseMetadataDF and datasetsDF dataframes\n",
    "print('Number of dataset versions licenseMetadataDF: %s' %(len(licenseMetadataDF)))\n",
    "print('Number of datasets in licenseMetadataDF: %s' % (len(pd.unique(licenseMetadataDF['dataset_pid']))))\n",
    "\n",
    "print('\\nNumber of dataset versions in basicMetadataDF: %s' %(len(basicMetadataDF)))\n",
    "print('Number of datasets in basicMetadataDF: %s' % (len(pd.unique(basicMetadataDF['dataset_pid']))))"
   ],
   "metadata": {
    "collapsed": false,
    "pycharm": {
     "name": "#%%\n"
    }
   }
  },
  {
   "cell_type": "code",
   "execution_count": 6,
   "outputs": [
    {
     "name": "stdout",
     "output_type": "stream",
     "text": [
      "Datasets in datasetsInlicenseMetadataDFList: 80278\n",
      "Datasets in basicMetadataDF: 80278\n",
      "Number of datasets in one table and not the other: 0\n"
     ]
    }
   ],
   "source": [
    "# Make sure the two dataframes, allDatasetPIDsDF and basicMetadataDF, contain the datasets\n",
    "datasetsInlicenseMetadataDFList = set(licenseMetadataDF['dataset_pid'].tolist())\n",
    "datasetsInbasicMetadataDFList = set(basicMetadataDF['dataset_pid'].tolist())\n",
    "\n",
    "print(f'Datasets in datasetsInlicenseMetadataDFList: {len(datasetsInlicenseMetadataDFList)}')\n",
    "print(f'Datasets in basicMetadataDF: {len(datasetsInbasicMetadataDFList)}')\n",
    "\n",
    "# Create list of dataset PIDs that exist in one list and not the other, if any\n",
    "difference = datasetsInlicenseMetadataDFList - datasetsInbasicMetadataDFList\n",
    "difference = list(difference)\n",
    "print(f'Number of datasets in one table and not the other: {len(difference)}')\n"
   ],
   "metadata": {
    "collapsed": false,
    "pycharm": {
     "name": "#%%\n"
    }
   }
  },
  {
   "cell_type": "code",
   "execution_count": 7,
   "outputs": [],
   "source": [
    "# Merge the two dataframes\n",
    "licenseAndBasicMetadataDF = pd.merge(\n",
    "    licenseMetadataDF, basicMetadataDF,\n",
    "    how='inner',\n",
    "    on=[\n",
    "        'dataset_pid',\n",
    "        'dataset_pid_url',\n",
    "        'dataset_version_number'])"
   ],
   "metadata": {
    "collapsed": false,
    "pycharm": {
     "name": "#%%\n"
    }
   }
  },
  {
   "cell_type": "code",
   "execution_count": 8,
   "outputs": [
    {
     "name": "stdout",
     "output_type": "stream",
     "text": [
      "Number of dataset versions in licenseAndBasicMetadataDF: 130768\n",
      "Number of datasets in licenseAndBasicMetadataDF: 80278\n"
     ]
    }
   ],
   "source": [
    "# Check count of unique datasets in the new mergedDF\n",
    "print(f'Number of dataset versions in licenseAndBasicMetadataDF: {len(licenseAndBasicMetadataDF)}')\n",
    "uniqueDatasetCount = len(pd.unique(licenseAndBasicMetadataDF['dataset_pid']))\n",
    "print(f'Number of datasets in licenseAndBasicMetadataDF: {uniqueDatasetCount}')"
   ],
   "metadata": {
    "collapsed": false,
    "pycharm": {
     "name": "#%%\n"
    }
   }
  },
  {
   "cell_type": "code",
   "execution_count": 11,
   "outputs": [
    {
     "name": "stdout",
     "output_type": "stream",
     "text": [
      "Count of pids in latestversion_mergedDF: 80278\n"
     ]
    }
   ],
   "source": [
    "# Create dataframe, licenseMetadataLatestVersionDF, that contains the license and terms metadata of only the latest\n",
    "# version of each dataset, using the latest version release time from the merged basicMetadataDF\n",
    "latestversion_licenseAndBasicMetadataDF = (licenseAndBasicMetadataDF\n",
    "                 .iloc[licenseAndBasicMetadataDF.groupby('dataset_pid')['dataset_version_create_time']\n",
    "                 .agg(pd.Series.idxmax)]\n",
    "                 .reset_index(drop=True, inplace=False))\n",
    "\n",
    "# Remove dataset_version_state and publisher columns and reorder remaining columns\n",
    "latestversion_licenseAndBasicMetadataDF = latestversion_licenseAndBasicMetadataDF[[\n",
    "    'dataset_pid_url', 'dataset_publication_date', 'dataset_version_number', 'dataset_version_create_time', 'license_name', 'license_uri', 'terms_of_use', 'confidentiality_declaration', 'special_permissions', 'restrictions', 'citation_requirements', 'depositor_requirements', 'conditions', 'disclaimer', 'terms_of_access', 'data_access_place', 'original_archive', 'availability_status', 'contact_for_access', 'size_of_collection', 'study_completion'\n",
    "]]\n",
    "\n",
    "print(f'Count of pids in latestversion_mergedDF: {len(latestversion_licenseAndBasicMetadataDF)}')\n"
   ],
   "metadata": {
    "collapsed": false,
    "pycharm": {
     "name": "#%%\n"
    }
   }
  },
  {
   "cell_type": "code",
   "execution_count": 12,
   "outputs": [
    {
     "name": "stdout",
     "output_type": "stream",
     "text": [
      "<class 'pandas.core.frame.DataFrame'>\n",
      "RangeIndex: 80278 entries, 0 to 80277\n",
      "Data columns (total 21 columns):\n",
      " #   Column                       Non-Null Count  Dtype              \n",
      "---  ------                       --------------  -----              \n",
      " 0   dataset_pid_url              80278 non-null  object             \n",
      " 1   dataset_publication_date     80278 non-null  datetime64[ns]     \n",
      " 2   dataset_version_number       80278 non-null  object             \n",
      " 3   dataset_version_create_time  80278 non-null  datetime64[ns, UTC]\n",
      " 4   license_name                 80278 non-null  object             \n",
      " 5   license_uri                  80278 non-null  object             \n",
      " 6   terms_of_use                 80278 non-null  object             \n",
      " 7   confidentiality_declaration  80278 non-null  object             \n",
      " 8   special_permissions          80278 non-null  object             \n",
      " 9   restrictions                 80278 non-null  object             \n",
      " 10  citation_requirements        80278 non-null  object             \n",
      " 11  depositor_requirements       80278 non-null  object             \n",
      " 12  conditions                   80278 non-null  object             \n",
      " 13  disclaimer                   80278 non-null  object             \n",
      " 14  terms_of_access              80278 non-null  object             \n",
      " 15  data_access_place            80278 non-null  object             \n",
      " 16  original_archive             80278 non-null  object             \n",
      " 17  availability_status          80278 non-null  object             \n",
      " 18  contact_for_access           80278 non-null  object             \n",
      " 19  size_of_collection           80278 non-null  object             \n",
      " 20  study_completion             80278 non-null  object             \n",
      "dtypes: datetime64[ns, UTC](1), datetime64[ns](1), object(19)\n",
      "memory usage: 12.9+ MB\n"
     ]
    }
   ],
   "source": [
    "# Let's make sure each column is the object type we want. Everything should be a string except for the two date columns.\n",
    "latestversion_licenseAndBasicMetadataDF.info()"
   ],
   "metadata": {
    "collapsed": false,
    "pycharm": {
     "name": "#%%\n"
    }
   }
  },
  {
   "cell_type": "markdown",
   "source": [
    "# Use the data"
   ],
   "metadata": {
    "collapsed": false,
    "pycharm": {
     "name": "#%% md\n"
    }
   }
  },
  {
   "cell_type": "markdown",
   "source": [
    "Now that we have the data we need, let's answer our question:\n",
    "- Which standard licences have depositors entered into the Terms fields?\n",
    "\n",
    "As part of the Dataverse software's v5.10 multiple license update:\n",
    "1. If a dataset has a CC0 waiver and nothing entered in any of its \"Terms of Use\" fields, the dataset is considered to have a \"standard\" CC0 license, and the metadata of those datasets, the \"license_name\" field has \"CC0\".\n",
    "2. If a dataset has a CC0 waiver and anything entered in any of its \"Terms of Use\" fields, the dataset is considered to have a custom license, where \"This dataset is made available under a Creative Commons CC0 license with the following additional/modified terms and conditions:\" is entered in the Terms of Use field, followed by whatever text was entered in any of the \"Terms of Use\" fields.\n",
    "3. If the dataset does not have a CC0 waiver and anything entered in any of its \"Terms of Use\" fields, the dataset is considered to have a custom license, where what's   in any of the \"Terms of Use\" fields makes us the custom license.\n",
    "4. If the CC0 waiver is not applied to the dataset and nothing is entered in any of the Terms of Use fields, the text \"This dataset is made available without information on how it can be used. You should communicate with the Contact(s) specified before use.\" was entered in the Terms of Use field\n",
    "\n",
    "To find datasets with \"custom licenses\", we want to find datasets that match the second or third conditions."
   ],
   "metadata": {
    "collapsed": false,
    "pycharm": {
     "name": "#%% md\n"
    }
   }
  },
  {
   "cell_type": "markdown",
   "source": [],
   "metadata": {
    "collapsed": false,
    "pycharm": {
     "name": "#%% md\n"
    }
   }
  },
  {
   "cell_type": "code",
   "execution_count": 17,
   "outputs": [
    {
     "name": "stdout",
     "output_type": "stream",
     "text": [
      "<class 'pandas.core.frame.DataFrame'>\n",
      "RangeIndex: 32645 entries, 0 to 32644\n",
      "Data columns (total 21 columns):\n",
      " #   Column                       Non-Null Count  Dtype              \n",
      "---  ------                       --------------  -----              \n",
      " 0   dataset_pid_url              32645 non-null  object             \n",
      " 1   dataset_publication_date     32645 non-null  datetime64[ns]     \n",
      " 2   dataset_version_number       32645 non-null  object             \n",
      " 3   dataset_version_create_time  32645 non-null  datetime64[ns, UTC]\n",
      " 4   license_name                 32645 non-null  object             \n",
      " 5   license_uri                  32645 non-null  object             \n",
      " 6   terms_of_use                 32645 non-null  object             \n",
      " 7   confidentiality_declaration  32645 non-null  object             \n",
      " 8   special_permissions          32645 non-null  object             \n",
      " 9   restrictions                 32645 non-null  object             \n",
      " 10  citation_requirements        32645 non-null  object             \n",
      " 11  depositor_requirements       32645 non-null  object             \n",
      " 12  conditions                   32645 non-null  object             \n",
      " 13  disclaimer                   32645 non-null  object             \n",
      " 14  terms_of_access              32645 non-null  object             \n",
      " 15  data_access_place            32645 non-null  object             \n",
      " 16  original_archive             32645 non-null  object             \n",
      " 17  availability_status          32645 non-null  object             \n",
      " 18  contact_for_access           32645 non-null  object             \n",
      " 19  size_of_collection           32645 non-null  object             \n",
      " 20  study_completion             32645 non-null  object             \n",
      "dtypes: datetime64[ns, UTC](1), datetime64[ns](1), object(19)\n",
      "memory usage: 5.2+ MB\n"
     ]
    }
   ],
   "source": [
    "datasetsWithCustomLicense = (latestversion_licenseAndBasicMetadataDF\n",
    "                     .query('license_name == \"\" and terms_of_use != \"This dataset is made available without information on how it can be used. You should communicate with the Contact(s) specified before use.\"')\n",
    "                     .reset_index(drop=True, inplace=False)\n",
    "                     )\n",
    "\n",
    "datasetsWithCustomLicense.info()"
   ],
   "metadata": {
    "collapsed": false,
    "pycharm": {
     "name": "#%%\n"
    }
   }
  },
  {
   "cell_type": "code",
   "execution_count": 25,
   "outputs": [
    {
     "name": "stdout",
     "output_type": "stream",
     "text": [
      "<class 'pandas.core.frame.DataFrame'>\n",
      "RangeIndex: 32645 entries, 0 to 32644\n",
      "Data columns (total 22 columns):\n",
      " #   Column                       Non-Null Count  Dtype              \n",
      "---  ------                       --------------  -----              \n",
      " 0   dataset_pid_url              32645 non-null  object             \n",
      " 1   dataset_publication_date     32645 non-null  datetime64[ns]     \n",
      " 2   dataset_version_number       32645 non-null  object             \n",
      " 3   dataset_version_create_time  32645 non-null  datetime64[ns, UTC]\n",
      " 4   license_name                 32645 non-null  object             \n",
      " 5   license_uri                  32645 non-null  object             \n",
      " 6   terms_of_use                 32645 non-null  object             \n",
      " 7   confidentiality_declaration  32645 non-null  object             \n",
      " 8   special_permissions          32645 non-null  object             \n",
      " 9   restrictions                 32645 non-null  object             \n",
      " 10  citation_requirements        32645 non-null  object             \n",
      " 11  depositor_requirements       32645 non-null  object             \n",
      " 12  conditions                   32645 non-null  object             \n",
      " 13  disclaimer                   32645 non-null  object             \n",
      " 14  terms_of_access              32645 non-null  object             \n",
      " 15  data_access_place            32645 non-null  object             \n",
      " 16  original_archive             32645 non-null  object             \n",
      " 17  availability_status          32645 non-null  object             \n",
      " 18  contact_for_access           32645 non-null  object             \n",
      " 19  size_of_collection           32645 non-null  object             \n",
      " 20  study_completion             32645 non-null  object             \n",
      " 21  combined_terms               32645 non-null  object             \n",
      "dtypes: datetime64[ns, UTC](1), datetime64[ns](1), object(20)\n",
      "memory usage: 5.5+ MB\n"
     ]
    }
   ],
   "source": [
    "# For each of these datasets, in order to determine which standard licenses might be mentioned in any of their Terms of Use or Terms of Access fields, let's create a new column that's a concatenation of what's entered in all of the Terms fields. Then we can search using only that that column\n",
    "termsColumns = [\n",
    "    'terms_of_use',\n",
    "    'confidentiality_declaration',\n",
    "    'special_permissions',\n",
    "    'restrictions',\n",
    "    'citation_requirements',\n",
    "    'depositor_requirements',\n",
    "    'conditions',\n",
    "    'disclaimer',\n",
    "    'terms_of_access',\n",
    "    'data_access_place',\n",
    "    'original_archive',\n",
    "    'availability_status',\n",
    "    'contact_for_access',\n",
    "    'size_of_collection',\n",
    "    'study_completion'\n",
    "]\n",
    "datasetsWithCustomLicense['combined_terms'] = datasetsWithCustomLicense[termsColumns].apply(lambda row: ' '.join(row.values.astype(str)), axis=1)\n",
    "\n",
    "datasetsWithCustomLicense.info()"
   ],
   "metadata": {
    "collapsed": false,
    "pycharm": {
     "name": "#%%\n"
    }
   }
  },
  {
   "cell_type": "code",
   "execution_count": 54,
   "outputs": [
    {
     "name": "stdout",
     "output_type": "stream",
     "text": [
      "Number of unique strings entered in Terms fields: 2638\n"
     ]
    }
   ],
   "source": [
    "# Let's get a unique list of what's been entered in the Terms fields\n",
    "customMetadataList = list(set(datasetsWithCustomLicense['combined_terms'].tolist()))\n",
    "print(f'Number of unique strings entered in Terms fields: {len(customMetadataList)}')"
   ],
   "metadata": {
    "collapsed": false,
    "pycharm": {
     "name": "#%%\n"
    }
   }
  },
  {
   "cell_type": "code",
   "execution_count": 55,
   "outputs": [],
   "source": [
    "# Let's figure out which custom licenses are in these strings\n",
    "\n",
    "# Some of the things entered in the Terms fields are HTML. Let's remove the formatting so that it's faster to search through.\n",
    "for place, metadata in enumerate(customMetadataList):\n",
    "    metadata = htmlmin.minify(metadata, remove_empty_space=True)\n",
    "    customMetadataList[place] = metadata"
   ],
   "metadata": {
    "collapsed": false,
    "pycharm": {
     "name": "#%%\n"
    }
   }
  },
  {
   "cell_type": "code",
   "execution_count": 83,
   "outputs": [
    {
     "name": "stdout",
     "output_type": "stream",
     "text": [
      "First five urls in list of 225 URLs:\n",
      "https://www.canvaslms.com/policies/api-policy\n",
      "https://dataverse.harvard.edu/file.xhtml?fileId=3102931&version=RELEASED&version=.1\n",
      "https://adsabs.harvard.edu/abs/2008ApJS..175..277D\n",
      "https://www.socio.com/teenpregnancydata.php\n",
      "https://dx.doi.org/10.7910/DVN/YZBRYX\n"
     ]
    }
   ],
   "source": [
    "# There's probably a lot of variety in the ways that standard licenses are identified by name, but there might be more standardization in how they're identified by their URLs, so let's extract the URLs from this custom metadata\n",
    "urlsList = []\n",
    "regex = r\"(?i)\\b((?:https?://|www\\d{0,3}[.]|[a-z0-9.\\-]+[.][a-z]{2,4}/)(?:[^\\s()<>]+|\\(([^\\s()<>]+|(\\([^\\s()<>]+\\)))*\\))+(?:\\(([^\\s()<>]+|(\\([^\\s()<>]+\\)))*\\)|[^\\s`!()\\[\\]{};:'\\\".,<>?«»“”‘’]))\"\n",
    "\n",
    "for metadata in customMetadataList:\n",
    "    urls = re.search(regex, metadata)\n",
    "    if urls is not None:\n",
    "        # Try normalizing the URLs a bit more to get a better count of the unique URLs\n",
    "        urls = urls.group().replace('http://', 'https://').replace('%2F', '/').replace('%3A', ':')\n",
    "        urls = urls.rstrip('/')\n",
    "        urlsList.append(urls)\n",
    "\n",
    "# Deduplicate the list of URLs\n",
    "urlsList = list(set(urlsList))\n",
    "\n",
    "# Print first five items in the list\n",
    "print(f'First five URLs in the list of {len(urlsList)} URLs:')\n",
    "for url in urlsList[:5]:\n",
    "    print(url)"
   ],
   "metadata": {
    "collapsed": false,
    "pycharm": {
     "name": "#%%\n"
    }
   }
  },
  {
   "cell_type": "code",
   "execution_count": 65,
   "outputs": [
    {
     "name": "stdout",
     "output_type": "stream",
     "text": [
      "Count of Creative Commons URLs: 23\n",
      "https://creativecommons.org/licenses/by-nc-nd/4.0\n",
      "https://creativecommons.org/licenses/by-nc-nd/4.0/legalcode\n",
      "https://creativecommons.org/licenses/by-nc-sa/3.0\n",
      "https://creativecommons.org/licenses/by-nc-sa/3.0/deed.en\n",
      "https://creativecommons.org/licenses/by-nc-sa/3.0/us\n",
      "https://creativecommons.org/licenses/by-nc-sa/4.0\n",
      "https://creativecommons.org/licenses/by-nc/2.0\n",
      "https://creativecommons.org/licenses/by-nc/3.0\n",
      "https://creativecommons.org/licenses/by-nc/4.0\n",
      "https://creativecommons.org/licenses/by-nc/4.0/legalcode\n",
      "https://creativecommons.org/licenses/by-nd/4.0\n",
      "https://creativecommons.org/licenses/by-sa/2.0\n",
      "https://creativecommons.org/licenses/by-sa/4.0\n",
      "https://creativecommons.org/licenses/by-sa/4.0/legalcode\n",
      "https://creativecommons.org/licenses/by/2.0\n",
      "https://creativecommons.org/licenses/by/2.5/it\n",
      "https://creativecommons.org/licenses/by/3.0\n",
      "https://creativecommons.org/licenses/by/3.0/us\n",
      "https://creativecommons.org/licenses/by/4.0\n",
      "https://creativecommons.org/licenses/by/4.0/deed\n",
      "https://creativecommons.org/licenses/by/4.0/deed.en\n",
      "https://creativecommons.org/licenses/by/4.0/legalcode\n",
      "https://nam02.safelinks.protection.outlook.com/?url=http://creativecommons.org/licenses/by-nc-sa/3.0/&data=02%7C01%7Cmarie.alaghband%40knights.ucf.edu%7C2b35e4553b8c47ccc23008d7be2f98d1%7C5b16e18278b3412c919668342689eeb7%7C0%7C1%7C637186983942920684&sdata=smg5G0tTv2rMNxiBoN7bini3l8caBn6wXp6Nal/aGnM%3D&reserved=0\n"
     ]
    }
   ],
   "source": [
    "# Looks like it worked. Now we just need to find the URLs that point to licenses. This is should be easy for Creative Commons licenses:\n",
    "creativeCommonsUrls = []\n",
    "for url in urlsList:\n",
    "    if 'creativecommons.org/licenses' in url:\n",
    "        creativeCommonsUrls.append(url)\n",
    "creativeCommonsUrls.sort()\n",
    "\n",
    "print(f'Count of Creative Commons URLs: {len(creativeCommonsUrls)}')\n",
    "for url in creativeCommonsUrls:\n",
    "    print(url)"
   ],
   "metadata": {
    "collapsed": false,
    "pycharm": {
     "name": "#%%\n"
    }
   }
  },
  {
   "cell_type": "code",
   "execution_count": 66,
   "outputs": [
    {
     "name": "stdout",
     "output_type": "stream",
     "text": [
      "15\n",
      "https://creativecommons.org/licenses/by-sa/4.0\n",
      "https://creativecommons.org/licenses/by-sa/2.0\n",
      "https://creativecommons.org/licenses/by/4.0\n",
      "https://creativecommons.org/licenses/by-nc-sa/3.0\n",
      "https://creativecommons.org/licenses/by-nc/3.0\n",
      "https://creativecommons.org/licenses/by/2.5/it\n",
      "https://creativecommons.org/licenses/by/3.0/us\n",
      "https://creativecommons.org/licenses/by-nc/2.0\n",
      "https://creativecommons.org/licenses/by-nd/4.0\n",
      "https://creativecommons.org/licenses/by/2.0\n",
      "https://creativecommons.org/licenses/by-nc-nd/4.0\n",
      "https://creativecommons.org/licenses/by-nc-sa/4.0\n",
      "https://creativecommons.org/licenses/by-nc-sa/3.0/us\n",
      "https://creativecommons.org/licenses/by-nc/4.0\n",
      "https://creativecommons.org/licenses/by/3.0\n"
     ]
    }
   ],
   "source": [
    "# Looks like there are 23 unique URLs, but there might be some duplicates.\n",
    "# Some URLs end in \"/legalcode\", which are just the official text of the license. So let's remove that.\n",
    "# Some URLs end in \"/deed\" or \"/deed.en\". When those parts are removed from those URLs, they point to the same pages, so let's remove those, too.\n",
    "# And one URL seems to have been generated by Outlook and contains the URL for the BY-NC-SA 3.0 license. That license is already in the list, so let's remove that \"safelinks URL.\n",
    "\n",
    "for place, url in enumerate(creativeCommonsUrls):\n",
    "    if '/legalcode' or '/deed' in url:\n",
    "        url = url.replace('/legalcode', '').replace('/deed.en', '').replace('/deed', '')\n",
    "        creativeCommonsUrls[place] = url\n",
    "    if 'safelinks' in url:\n",
    "        creativeCommonsUrls.pop(place)\n",
    "\n",
    "# Deduplicate the list\n",
    "creativeCommonsUrls = list(set(creativeCommonsUrls))\n",
    "\n",
    "print(len(creativeCommonsUrls))\n",
    "for url in creativeCommonsUrls:\n",
    "    print(url)"
   ],
   "metadata": {
    "collapsed": false,
    "pycharm": {
     "name": "#%%\n"
    }
   }
  },
  {
   "cell_type": "markdown",
   "source": [
    "So there are 15 different Creative Commons licenses used in datasets published in the Harvard Dataverse Repository.\n",
    "\n",
    "What about URLs that point to different types of licenses? For that, lets see what URLs are in SPDX, which maintains structured information about standard licenses."
   ],
   "metadata": {
    "collapsed": false,
    "pycharm": {
     "name": "#%% md\n"
    }
   }
  },
  {
   "cell_type": "code",
   "execution_count": 67,
   "outputs": [
    {
     "name": "stdout",
     "output_type": "stream",
     "text": [
      "447\n"
     ]
    }
   ],
   "source": [
    "spdxDataUrl = 'https://raw.githubusercontent.com/spdx/license-list-data/master/json/licenses.json'\n",
    "response = requests.get(spdxDataUrl)\n",
    "spdxData = response.json()\n",
    "\n",
    "# Let's save the license information from this list, removing the Creative Commons licenses\n",
    "licenseDict = []\n",
    "for license in spdxData['licenses']:\n",
    "    if 'Creative Commons' not in license['name']:\n",
    "        licenseDict.append(license)\n",
    "\n",
    "print(f'Count of licenses in SPDX (excluding Creative Commons licenses:{len(licenseDict)}')"
   ],
   "metadata": {
    "collapsed": false,
    "pycharm": {
     "name": "#%%\n"
    }
   }
  },
  {
   "cell_type": "markdown",
   "source": [
    "## What are the types of licenses used in other Dataverse repositories\n",
    "\n",
    "447 is a lot of licenses. Trying to find if any of these licenses have been applied to datasets in the Harvard repository might not be worth the work.\n",
    "\n",
    "Instead, let's see what types of licenses other Dataverse repositories are using. I've collected this information using the Dataverse API and sorted the licenses by type.\n",
    "\n",
    "Here's a list of the types of licenses used by other Dataverse repositories and the base URLs used for each license.\n",
    "\n",
    "- Apache: https://www.apache.org/licenses\n",
    "- BSD: https://opensource.org/licenses\n",
    "- GNU: https://www.gnu.org/licenses\n",
    "- MIT: https://opensource.org/licenses/MIT\n",
    "- Mozilla: https://mozilla.org/MPL\n",
    "\n",
    "All of these licenses are meant to be applied to software. The Harvard Dataverse Repository requires that depositors always include data, and the recommended way to apply different licenses for different parts of a dataset, such as applying one license for the data files and one for software files, is to create a custom license.\n",
    "So we should exclude licenses meant only for software.\n"
   ],
   "metadata": {
    "collapsed": false,
    "pycharm": {
     "name": "#%% md\n"
    }
   }
  },
  {
   "cell_type": "markdown",
   "source": [
    "## What about licenses generally recommended for data?\n",
    "\n",
    "The Digital Curation Centre maintains a page at https://www.dcc.ac.uk/guidance/how-guides/license-research-data that describes two other types of data licenses.\n",
    "\n",
    "- Open Data Commons: https://opendatacommons.org/licenses\n",
    "- Open Government Licence (OGL): https://www.nationalarchives.gov.uk/doc/open-government-licence\n",
    "\n",
    "Let's see if any of these licenses' URLs are in our list."
   ],
   "metadata": {
    "collapsed": false
   }
  },
  {
   "cell_type": "code",
   "execution_count": 79,
   "outputs": [
    {
     "name": "stdout",
     "output_type": "stream",
     "text": [
      "Count of Open Data Commons License URLs: 4\n",
      "https://opendatacommons.org/licenses/by/1.0\n",
      "https://opendatacommons.org/licenses/odbl\n",
      "https://opendatacommons.org/licenses/odbl/1-0\n",
      "https://opendatacommons.org/licenses/odbl/1.0\n",
      "\n",
      "Count of Open Government Licence URLs: 1\n",
      "https://open.canada.ca/en/open-government-licence-canada\n"
     ]
    }
   ],
   "source": [
    "openDataCommonsUrls = []\n",
    "for url in urlsList:\n",
    "    if 'opendatacommons.org/licenses' in url:\n",
    "        openDataCommonsUrls.append(url.strip())\n",
    "openDataCommonsUrls = list(set(openDataCommonsUrls))\n",
    "openDataCommonsUrls.sort()\n",
    "print(f'Count of Open Data Commons License URLs: {len(openDataCommonsUrls)}')\n",
    "for url in openDataCommonsUrls:\n",
    "    print(url)\n",
    "\n",
    "openGovernmentLicenseUrls = []\n",
    "for url in urlsList:\n",
    "    if 'open-government-licence' in url:\n",
    "        openGovernmentLicenseUrls.append(url.strip())\n",
    "openGovernmentLicenseUrls = list(set(openGovernmentLicenseUrls))\n",
    "openGovernmentLicenseUrls.sort()\n",
    "print(f'\\nCount of Open Government Licence URLs: {len(openGovernmentLicenseUrls)}')\n",
    "for url in openGovernmentLicenseUrls:\n",
    "    print(url)"
   ],
   "metadata": {
    "collapsed": false,
    "pycharm": {
     "name": "#%%\n"
    }
   }
  },
  {
   "cell_type": "markdown",
   "source": [
    "Two Open Data Commons licenses are used. Since there are only three, we should consider adding all three to the list: https://opendatacommons.org/licenses\n",
    "\n",
    "It looks like there are no Open Government Licences from the UK's National Archives, but by searching for URLs with \"open-government-license\", we found that Canada's   Open Government License has been used."
   ],
   "metadata": {
    "collapsed": false,
    "pycharm": {
     "name": "#%% md\n"
    }
   }
  },
  {
   "cell_type": "markdown",
   "source": [
    "# Questions and recommendations\n",
    "\n",
    "## Questions\n",
    "- I think we should include Creative Commons licenses, but should we include their older versions? I think so, if only so that the datasets with those license can be updated with new versions in order to pick the licenses from the list, making the licenses more machine readable.\n",
    "- For newer datasets, is it recommended to use older versions of Creative Commons licenses? If not, and if those older licenses are among the options that depositors can choose from, how can we discourage the use of the older versions or encourage the use of the latest versions?\n",
    "\n",
    "## Recommendations\n",
    "- We should include the three Open Data Commons Licenses (https://opendatacommons.org/licenses)\n",
    "- We should include Canada's Open Government Licences"
   ],
   "metadata": {
    "collapsed": false,
    "pycharm": {
     "name": "#%% md\n"
    }
   }
  },
  {
   "cell_type": "code",
   "execution_count": null,
   "outputs": [],
   "source": [],
   "metadata": {
    "collapsed": false,
    "pycharm": {
     "name": "#%%\n"
    }
   }
  }
 ],
 "metadata": {
  "kernelspec": {
   "display_name": "Python 3",
   "language": "python",
   "name": "python3"
  },
  "language_info": {
   "codemirror_mode": {
    "name": "ipython",
    "version": 2
   },
   "file_extension": ".py",
   "mimetype": "text/x-python",
   "name": "python",
   "nbconvert_exporter": "python",
   "pygments_lexer": "ipython2",
   "version": "2.7.6"
  }
 },
 "nbformat": 4,
 "nbformat_minor": 0
}