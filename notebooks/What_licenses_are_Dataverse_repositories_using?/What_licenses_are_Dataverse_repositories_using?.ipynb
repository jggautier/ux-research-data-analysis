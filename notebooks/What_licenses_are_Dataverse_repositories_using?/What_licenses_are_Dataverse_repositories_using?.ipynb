{
 "cells": [
  {
   "cell_type": "code",
   "execution_count": 29,
   "metadata": {
    "collapsed": true
   },
   "outputs": [],
   "source": [
    "import numpy as np\n",
    "from numpy import nan\n",
    "import pandas as pd"
   ]
  },
  {
   "cell_type": "code",
   "execution_count": 9,
   "outputs": [
    {
     "data": {
      "text/plain": "                  dataset_pid                         dataset_pid_url  \\\n0     doi:10.48370/OFD/DBJUEM     https://doi.org/10.48370/OFD/DBJUEM   \n1     doi:10.21410/7E4/4WG94W     https://doi.org/10.21410/7E4/4WG94W   \n2      doi:10.7910/DVN/5PRYPC      https://doi.org/10.7910/DVN/5PRYPC   \n3  doi:10.17026/dans-2zm-dsmz  https://doi.org/10.17026/dans-2zm-dsmz   \n4       doi:10.7910/DVN/VIE1H       https://doi.org/10.7910/DVN/VIE1H   \n\n   dataset_version_number     license_name  \\\n0                     1.0             NONE   \n1                     2.1                    \n2                     4.0          CC0 1.0   \n3                     1.0  CC-BY-NC-SA-4.0   \n4                   248.0                    \n\n                                        license_uri  \\\n0                                                     \n1                                                     \n2  http://creativecommons.org/publicdomain/zero/1.0   \n3  http://creativecommons.org/licenses/by-nc-sa/4.0   \n4                                                     \n\n                                        terms_of_use  \\\n0  <a href=\"http://creativecommons.org/licenses/b...   \n1  This dataset is made available without informa...   \n2                                                      \n3                                                      \n4                                                      \n\n  confidentiality_declaration special_permissions restrictions  \\\n0                                                                \n1                                                                \n2                                                                \n3                                                                \n4                                                                \n\n  citation_requirements depositor_requirements conditions disclaimer  \\\n0                                                                      \n1                                                                      \n2                                                                      \n3                                                                      \n4                                                                      \n\n  terms_of_access data_access_place original_archive availability_status  \\\n0                                                                          \n1                                                                          \n2                                                                          \n3                                                                          \n4                                                                          \n\n  contact_for_access size_of_collection study_completion  \n0                                                         \n1                                                         \n2                                                         \n3                                                         \n4                                                         ",
      "text/html": "<div><div id=8ed7e6dd-7960-4f28-98b1-9a8c6adafbed style=\"display:none; background-color:#9D6CFF; color:white; width:200px; height:30px; padding-left:5px; border-radius:4px; flex-direction:row; justify-content:space-around; align-items:center;\" onmouseover=\"this.style.backgroundColor='#BA9BF8'\" onmouseout=\"this.style.backgroundColor='#9D6CFF'\" onclick=\"window.commands?.execute('create-mitosheet-from-dataframe-output');\">See Full Dataframe in Mito</div> <script> if (window.commands.hasCommand('create-mitosheet-from-dataframe-output')) document.getElementById('8ed7e6dd-7960-4f28-98b1-9a8c6adafbed').style.display = 'flex' </script> <table border=\"1\" class=\"dataframe\">\n  <thead>\n    <tr style=\"text-align: right;\">\n      <th></th>\n      <th>dataset_pid</th>\n      <th>dataset_pid_url</th>\n      <th>dataset_version_number</th>\n      <th>license_name</th>\n      <th>license_uri</th>\n      <th>terms_of_use</th>\n      <th>confidentiality_declaration</th>\n      <th>special_permissions</th>\n      <th>restrictions</th>\n      <th>citation_requirements</th>\n      <th>depositor_requirements</th>\n      <th>conditions</th>\n      <th>disclaimer</th>\n      <th>terms_of_access</th>\n      <th>data_access_place</th>\n      <th>original_archive</th>\n      <th>availability_status</th>\n      <th>contact_for_access</th>\n      <th>size_of_collection</th>\n      <th>study_completion</th>\n    </tr>\n  </thead>\n  <tbody>\n    <tr>\n      <th>0</th>\n      <td>doi:10.48370/OFD/DBJUEM</td>\n      <td>https://doi.org/10.48370/OFD/DBJUEM</td>\n      <td>1.0</td>\n      <td>NONE</td>\n      <td></td>\n      <td>&lt;a href=\"http://creativecommons.org/licenses/by/4.0/\" target=\"_blank\" rel=\"nofollow\"&gt;&lt;img alt=\"Creative Commons License\" src=\"https://i.creativecommons.org/l/by/4.0/88x31.png\"&gt;&lt;/a&gt; &lt;br&gt; These data and documents are licensed under a &lt;a href=\"http://creativecommons.org/licenses/by/4.0/\" target=\"_blank\" rel=\"nofollow\"&gt; Creative Commons Attribution 4.0 International license.&lt;/a&gt; You may copy, distribute and transmit the data as long as you acknowledge the source through proper &lt;a href=\"http://best-practices.dataverse.org/data-citation/\" target=\"_blank\" rel=\"nofollow\"&gt;data citation&lt;/a&gt;.</td>\n      <td></td>\n      <td></td>\n      <td></td>\n      <td></td>\n      <td></td>\n      <td></td>\n      <td></td>\n      <td></td>\n      <td></td>\n      <td></td>\n      <td></td>\n      <td></td>\n      <td></td>\n      <td></td>\n    </tr>\n    <tr>\n      <th>1</th>\n      <td>doi:10.21410/7E4/4WG94W</td>\n      <td>https://doi.org/10.21410/7E4/4WG94W</td>\n      <td>2.1</td>\n      <td></td>\n      <td></td>\n      <td>This dataset is made available without information on how it can be used. You should communicate with the Contact(s) specified before use.</td>\n      <td></td>\n      <td></td>\n      <td></td>\n      <td></td>\n      <td></td>\n      <td></td>\n      <td></td>\n      <td></td>\n      <td></td>\n      <td></td>\n      <td></td>\n      <td></td>\n      <td></td>\n      <td></td>\n    </tr>\n    <tr>\n      <th>2</th>\n      <td>doi:10.7910/DVN/5PRYPC</td>\n      <td>https://doi.org/10.7910/DVN/5PRYPC</td>\n      <td>4.0</td>\n      <td>CC0 1.0</td>\n      <td>http://creativecommons.org/publicdomain/zero/1.0</td>\n      <td></td>\n      <td></td>\n      <td></td>\n      <td></td>\n      <td></td>\n      <td></td>\n      <td></td>\n      <td></td>\n      <td></td>\n      <td></td>\n      <td></td>\n      <td></td>\n      <td></td>\n      <td></td>\n      <td></td>\n    </tr>\n    <tr>\n      <th>3</th>\n      <td>doi:10.17026/dans-2zm-dsmz</td>\n      <td>https://doi.org/10.17026/dans-2zm-dsmz</td>\n      <td>1.0</td>\n      <td>CC-BY-NC-SA-4.0</td>\n      <td>http://creativecommons.org/licenses/by-nc-sa/4.0</td>\n      <td></td>\n      <td></td>\n      <td></td>\n      <td></td>\n      <td></td>\n      <td></td>\n      <td></td>\n      <td></td>\n      <td></td>\n      <td></td>\n      <td></td>\n      <td></td>\n      <td></td>\n      <td></td>\n      <td></td>\n    </tr>\n    <tr>\n      <th>4</th>\n      <td>doi:10.7910/DVN/VIE1H</td>\n      <td>https://doi.org/10.7910/DVN/VIE1H</td>\n      <td>248.0</td>\n      <td></td>\n      <td></td>\n      <td></td>\n      <td></td>\n      <td></td>\n      <td></td>\n      <td></td>\n      <td></td>\n      <td></td>\n      <td></td>\n      <td></td>\n      <td></td>\n      <td></td>\n      <td></td>\n      <td></td>\n      <td></td>\n      <td></td>\n    </tr>\n  </tbody>\n</table></div>"
     },
     "execution_count": 9,
     "metadata": {},
     "output_type": "execute_result"
    }
   ],
   "source": [
    "licenseMetadataDF = pd.read_csv('licenses_and_terms.csv', sep=',', na_filter = False)\n",
    "licenseMetadataDF.head()"
   ],
   "metadata": {
    "collapsed": false,
    "pycharm": {
     "name": "#%%\n"
    }
   }
  },
  {
   "cell_type": "code",
   "execution_count": 22,
   "outputs": [
    {
     "data": {
      "text/plain": "                  dataset_pid                         dataset_pid_url  \\\n0     doi:10.48370/OFD/DBJUEM     https://doi.org/10.48370/OFD/DBJUEM   \n1     doi:10.21410/7E4/4WG94W     https://doi.org/10.21410/7E4/4WG94W   \n2      doi:10.7910/DVN/5PRYPC      https://doi.org/10.7910/DVN/5PRYPC   \n3  doi:10.17026/dans-2zm-dsmz  https://doi.org/10.17026/dans-2zm-dsmz   \n4       doi:10.7910/DVN/VIE1H       https://doi.org/10.7910/DVN/VIE1H   \n\n   dataset_version_number dataset_publication_date  \\\n0                     1.0                  5/25/22   \n1                     2.1                   5/5/20   \n2                     4.0                  5/27/20   \n3                     1.0                  7/13/18   \n4                   248.0                  2/11/15   \n\n  dataset_version_create_time dataset_version_state  \\\n0        2022-05-25T10:17:50Z              RELEASED   \n1        2020-05-13T16:06:28Z              RELEASED   \n2        2020-06-17T23:49:50Z              RELEASED   \n3        2022-01-27T20:15:47Z              RELEASED   \n4        2015-06-18T19:49:12Z              RELEASED   \n\n                       publisher  \n0              openforestdata.pl  \n1                data.sciencespo  \n2              Harvard Dataverse  \n3  DANS Data Station Archaeology  \n4              Harvard Dataverse  ",
      "text/html": "<div><div id=63f819be-9dac-435f-8976-f7b492341e4a style=\"display:none; background-color:#9D6CFF; color:white; width:200px; height:30px; padding-left:5px; border-radius:4px; flex-direction:row; justify-content:space-around; align-items:center;\" onmouseover=\"this.style.backgroundColor='#BA9BF8'\" onmouseout=\"this.style.backgroundColor='#9D6CFF'\" onclick=\"window.commands?.execute('create-mitosheet-from-dataframe-output');\">See Full Dataframe in Mito</div> <script> if (window.commands.hasCommand('create-mitosheet-from-dataframe-output')) document.getElementById('63f819be-9dac-435f-8976-f7b492341e4a').style.display = 'flex' </script> <table border=\"1\" class=\"dataframe\">\n  <thead>\n    <tr style=\"text-align: right;\">\n      <th></th>\n      <th>dataset_pid</th>\n      <th>dataset_pid_url</th>\n      <th>dataset_version_number</th>\n      <th>dataset_publication_date</th>\n      <th>dataset_version_create_time</th>\n      <th>dataset_version_state</th>\n      <th>publisher</th>\n    </tr>\n  </thead>\n  <tbody>\n    <tr>\n      <th>0</th>\n      <td>doi:10.48370/OFD/DBJUEM</td>\n      <td>https://doi.org/10.48370/OFD/DBJUEM</td>\n      <td>1.0</td>\n      <td>5/25/22</td>\n      <td>2022-05-25T10:17:50Z</td>\n      <td>RELEASED</td>\n      <td>openforestdata.pl</td>\n    </tr>\n    <tr>\n      <th>1</th>\n      <td>doi:10.21410/7E4/4WG94W</td>\n      <td>https://doi.org/10.21410/7E4/4WG94W</td>\n      <td>2.1</td>\n      <td>5/5/20</td>\n      <td>2020-05-13T16:06:28Z</td>\n      <td>RELEASED</td>\n      <td>data.sciencespo</td>\n    </tr>\n    <tr>\n      <th>2</th>\n      <td>doi:10.7910/DVN/5PRYPC</td>\n      <td>https://doi.org/10.7910/DVN/5PRYPC</td>\n      <td>4.0</td>\n      <td>5/27/20</td>\n      <td>2020-06-17T23:49:50Z</td>\n      <td>RELEASED</td>\n      <td>Harvard Dataverse</td>\n    </tr>\n    <tr>\n      <th>3</th>\n      <td>doi:10.17026/dans-2zm-dsmz</td>\n      <td>https://doi.org/10.17026/dans-2zm-dsmz</td>\n      <td>1.0</td>\n      <td>7/13/18</td>\n      <td>2022-01-27T20:15:47Z</td>\n      <td>RELEASED</td>\n      <td>DANS Data Station Archaeology</td>\n    </tr>\n    <tr>\n      <th>4</th>\n      <td>doi:10.7910/DVN/VIE1H</td>\n      <td>https://doi.org/10.7910/DVN/VIE1H</td>\n      <td>248.0</td>\n      <td>2/11/15</td>\n      <td>2015-06-18T19:49:12Z</td>\n      <td>RELEASED</td>\n      <td>Harvard Dataverse</td>\n    </tr>\n  </tbody>\n</table></div>"
     },
     "execution_count": 22,
     "metadata": {},
     "output_type": "execute_result"
    }
   ],
   "source": [
    "basicMetadataDF = pd.read_csv('basic_metadata.csv', sep=',', na_filter = False)\n",
    "basicMetadataDF.head()"
   ],
   "metadata": {
    "collapsed": false,
    "pycharm": {
     "name": "#%%\n"
    }
   }
  },
  {
   "cell_type": "code",
   "execution_count": 4,
   "outputs": [
    {
     "name": "stdout",
     "output_type": "stream",
     "text": [
      "Number of dataset versions licenseMetadataDF: 473865\n",
      "Number of datasets in licenseMetadataDF: 340813\n",
      "Number of dataset versions in basicMetadataDF: 473865\n",
      "Number of datasets in basicMetadataDF: 340813\n"
     ]
    }
   ],
   "source": [
    "# Check data\n",
    "\n",
    "# Get the unique counts of datasets in the licenseMetadataDF and datasetsDF dataframes\n",
    "print('Number of dataset versions licenseMetadataDF: %s' %(len(licenseMetadataDF)))\n",
    "print('Number of datasets in licenseMetadataDF: %s' % (len(pd.unique(licenseMetadataDF['dataset_pid']))))\n",
    "\n",
    "print('Number of dataset versions in basicMetadataDF: %s' %(len(basicMetadataDF)))\n",
    "print('Number of datasets in basicMetadataDF: %s' % (len(pd.unique(basicMetadataDF['dataset_pid']))))"
   ],
   "metadata": {
    "collapsed": false,
    "pycharm": {
     "name": "#%%\n"
    }
   }
  },
  {
   "cell_type": "code",
   "execution_count": 18,
   "outputs": [
    {
     "name": "stdout",
     "output_type": "stream",
     "text": [
      "Count of pids in datasetsInlicenseMetadataDFList: 340813\n",
      "Count of pids in datasetsInbasicMetadataDFList: 340813\n",
      "Number of dataset PIDs that exist in on list and not the other: 0\n"
     ]
    }
   ],
   "source": [
    "# Make sure both dataframes contain the same datasets\n",
    "\n",
    "# Get list of dataset PIDs in both dataframes\n",
    "datasetsInlicenseMetadataDFList = set(licenseMetadataDF['dataset_pid'].tolist())\n",
    "datasetsInbasicMetadataDFList = set(basicMetadataDF['dataset_pid'].tolist())\n",
    "\n",
    "print(f'Count of pids in datasetsInlicenseMetadataDFList: {len(datasetsInlicenseMetadataDFList)}')\n",
    "print(f'Count of pids in datasetsInbasicMetadataDFList: {len(datasetsInbasicMetadataDFList)}')\n",
    "\n",
    "# Create list of dataset PIDs that exist in on list and not the other, if any\n",
    "difference = datasetsInlicenseMetadataDFList - datasetsInbasicMetadataDFList\n",
    "difference = list(difference)\n",
    "print(f'Number of dataset PIDs that exist in on list and not the other: {len(difference)}')\n",
    "if len(difference) > 0:\n",
    "    list(difference[:10])"
   ],
   "metadata": {
    "collapsed": false,
    "pycharm": {
     "name": "#%%\n"
    }
   }
  },
  {
   "cell_type": "code",
   "execution_count": 19,
   "outputs": [
    {
     "name": "stdout",
     "output_type": "stream",
     "text": [
      "Count of pids in latestversion_licenseMetadataDF: 340813\n"
     ]
    }
   ],
   "source": [
    "# Create dataframe, licenseMetadataLatestVersionDF, that contains the license and terms metadata of only the latest\n",
    "# version of each dataset\n",
    "latestversion_licenseMetadataDF = (licenseMetadataDF\n",
    "                 .iloc[licenseMetadataDF.groupby('dataset_pid')['dataset_version_number']\n",
    "                 .agg(pd.Series.idxmax)]\n",
    "                 .reset_index(drop=True, inplace=False))\n",
    "\n",
    "# Replace any blank values with NaN\n",
    "latestversion_licenseMetadataDF = latestversion_licenseMetadataDF.replace(r'^\\s*$', np.nan, regex=True)\n",
    "\n",
    "print(f'Count of pids in latestversion_licenseMetadataDF: {len(latestversion_licenseMetadataDF)}')\n"
   ],
   "metadata": {
    "collapsed": false,
    "pycharm": {
     "name": "#%%\n"
    }
   }
  },
  {
   "cell_type": "code",
   "execution_count": 23,
   "outputs": [
    {
     "name": "stdout",
     "output_type": "stream",
     "text": [
      "340813\n"
     ]
    }
   ],
   "source": [
    "# Deduplicate basicMetadataDF to that each row\n",
    "\n",
    "# Remove dataset_version_number,  dataset_version_create_time, and dataset_version_state columns\n",
    "basicMetadataDF = basicMetadataDF.drop(columns=[\n",
    "    'dataset_version_number',\n",
    "    'dataset_version_create_time',\n",
    "    'dataset_version_state'])\n",
    "\n",
    "# Drop duplicate rows\n",
    "basicMetadataDF = basicMetadataDF.drop_duplicates()\n",
    "print(len(basicMetadataDF))"
   ],
   "metadata": {
    "collapsed": false,
    "pycharm": {
     "name": "#%%\n"
    }
   }
  },
  {
   "cell_type": "code",
   "execution_count": 24,
   "outputs": [],
   "source": [
    "# Join the licenseMetadataLatestVersionDF and datasetsDF on the persistent_id columns\n",
    "mergedDF = pd.merge(latestversion_licenseMetadataDF, basicMetadataDF,\n",
    "         how='inner', on=['dataset_pid', 'dataset_pid_url'])"
   ],
   "metadata": {
    "collapsed": false,
    "pycharm": {
     "name": "#%%\n"
    }
   }
  },
  {
   "cell_type": "code",
   "execution_count": 25,
   "outputs": [
    {
     "name": "stdout",
     "output_type": "stream",
     "text": [
      "340813\n"
     ]
    }
   ],
   "source": [
    "print(len(mergedDF))"
   ],
   "metadata": {
    "collapsed": false,
    "pycharm": {
     "name": "#%%\n"
    }
   }
  },
  {
   "cell_type": "code",
   "execution_count": 39,
   "outputs": [
    {
     "name": "stdout",
     "output_type": "stream",
     "text": [
      "Count of license names: 34\n"
     ]
    }
   ],
   "source": [
    "# Get list of license names in the license_name column\n",
    "licenseNameList = list(set(mergedDF['license_name'].tolist()))\n",
    "\n",
    "# Remove null and NONE values\n",
    "licenseList = []\n",
    "for licenseName in licenseNameList:\n",
    "    if licenseName is not None and licenseName != 'NONE':\n",
    "        licenseName = str(licenseName)\n",
    "        licenseList.append(licenseName)\n",
    "print(f'Count of license names: {len(licenseList)}')"
   ],
   "metadata": {
    "collapsed": false,
    "pycharm": {
     "name": "#%%\n"
    }
   }
  },
  {
   "cell_type": "code",
   "execution_count": 44,
   "outputs": [
    {
     "name": "stdout",
     "output_type": "stream",
     "text": [
      "29\n"
     ]
    }
   ],
   "source": [
    "# Normalize names by removing all dashes\n",
    "licenseListNormalized = []\n",
    "for licenseName in licenseList:\n",
    "    licenseName = licenseName.replace('-', ' ')\n",
    "    licenseListNormalized.append(licenseName)\n",
    "licenseListNormalized = list(set(licenseListNormalized))\n",
    "print(len(licenseListNormalized))"
   ],
   "metadata": {
    "collapsed": false,
    "pycharm": {
     "name": "#%%\n"
    }
   }
  },
  {
   "cell_type": "code",
   "execution_count": 37,
   "outputs": [
    {
     "name": "stdout",
     "output_type": "stream",
     "text": [
      "[nan, 'CC-BY-NC-ND-3.0-ES', 'ODbL v1.0', 'CC-BY-ND-4.0', 'ODC-By v1.0', 'CC0', 'CC-BY-SA-4.0', 'DL-DE/BY-2-0', 'CC BY', 'CC BY 4.0', 'CC-BY-NC-SA-3.0-ES', 'CC-BY-SA-4.0-ES', 'Controlled Access', 'DANS MA KA Licence', 'CC-BY-3.0-ES', 'CC-BY-NC-ND-4.0', 'CC BY-NC-SA 4.0', 'MIT', 'CC-BY-NC-4.0-ES', 'CC BY-SA 4.0', 'CC BY-NC-ND 4.0', 'CC BY-NC 4.0', 'CC-BY-SA-3.0', 'CC-BY-NC-SA-4.0', 'CC-BY-4.0', 'Standard Access', 'DANS MA KI Licence', 'AGPL-3.0-or-later', 'DANS Licence', 'ODC-By 1.0', 'CCBY', 'Etalab (CC-BY)', 'CC-BY-NC-4.0', 'CC0 1.0']\n"
     ]
    }
   ],
   "source": [
    "print(licenseList)"
   ],
   "metadata": {
    "collapsed": false,
    "pycharm": {
     "name": "#%%\n"
    }
   }
  },
  {
   "cell_type": "code",
   "execution_count": null,
   "outputs": [],
   "source": [
    "# What licenses have people entered in the Terms of Use field\n"
   ],
   "metadata": {
    "collapsed": false,
    "pycharm": {
     "name": "#%%\n"
    }
   }
  }
 ],
 "metadata": {
  "kernelspec": {
   "display_name": "Python 3",
   "language": "python",
   "name": "python3"
  },
  "language_info": {
   "codemirror_mode": {
    "name": "ipython",
    "version": 2
   },
   "file_extension": ".py",
   "mimetype": "text/x-python",
   "name": "python",
   "nbconvert_exporter": "python",
   "pygments_lexer": "ipython2",
   "version": "2.7.6"
  }
 },
 "nbformat": 4,
 "nbformat_minor": 0
}