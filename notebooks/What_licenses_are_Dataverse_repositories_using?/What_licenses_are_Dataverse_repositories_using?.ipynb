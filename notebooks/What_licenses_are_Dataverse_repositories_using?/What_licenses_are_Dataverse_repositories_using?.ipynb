{
 "cells": [
  {
   "cell_type": "code",
   "execution_count": 20,
   "metadata": {
    "collapsed": true
   },
   "outputs": [],
   "source": [
    "import numpy as np\n",
    "from numpy import nan\n",
    "import pandas as pd\n",
    "import re\n",
    "import requests\n",
    "import htmlmin"
   ]
  },
  {
   "cell_type": "code",
   "execution_count": 2,
   "outputs": [],
   "source": [
    "def to_str(item):\n",
    "    return str(item)"
   ],
   "metadata": {
    "collapsed": false,
    "pycharm": {
     "name": "#%%\n"
    }
   }
  },
  {
   "cell_type": "code",
   "execution_count": 3,
   "outputs": [
    {
     "data": {
      "text/plain": "              dataset_pid                     dataset_pid_url  \\\n0  doi:10.7910/DVN/5PRYPC  https://doi.org/10.7910/DVN/5PRYPC   \n1   doi:10.7910/DVN/VIE1H   https://doi.org/10.7910/DVN/VIE1H   \n2  doi:10.7910/DVN/KKUJWW  https://doi.org/10.7910/DVN/KKUJWW   \n3  doi:10.7910/DVN/5E6GBN  https://doi.org/10.7910/DVN/5E6GBN   \n4  doi:10.7910/DVN/9MKISZ  https://doi.org/10.7910/DVN/9MKISZ   \n\n  dataset_version_number license_name  \\\n0                    4.0      CC0 1.0   \n1                  248.0                \n2                    1.0      CC0 1.0   \n3                    1.2      CC0 1.0   \n4                   10.0      CC0 1.0   \n\n                                        license_uri terms_of_use  \\\n0  http://creativecommons.org/publicdomain/zero/1.0                \n1                                                                  \n2  http://creativecommons.org/publicdomain/zero/1.0                \n3  http://creativecommons.org/publicdomain/zero/1.0                \n4  http://creativecommons.org/publicdomain/zero/1.0                \n\n  confidentiality_declaration special_permissions restrictions  \\\n0                                                                \n1                                                                \n2                                                                \n3                                                                \n4                                                                \n\n  citation_requirements depositor_requirements conditions disclaimer  \\\n0                                                                      \n1                                                                      \n2                                                                      \n3                                                                      \n4                                                                      \n\n  terms_of_access data_access_place original_archive availability_status  \\\n0                                                                          \n1                                                                          \n2                                                                          \n3                                                                          \n4                                                                          \n\n  contact_for_access size_of_collection study_completion  \n0                                                         \n1                                                         \n2                                                         \n3                                                         \n4                                                         ",
      "text/html": "<div><div id=7aae19fc-a22b-40e8-be8b-1dffe27b4ecd style=\"display:none; background-color:#9D6CFF; color:white; width:200px; height:30px; padding-left:5px; border-radius:4px; flex-direction:row; justify-content:space-around; align-items:center;\" onmouseover=\"this.style.backgroundColor='#BA9BF8'\" onmouseout=\"this.style.backgroundColor='#9D6CFF'\" onclick=\"window.commands?.execute('create-mitosheet-from-dataframe-output');\">See Full Dataframe in Mito</div> <script> if (window.commands.hasCommand('create-mitosheet-from-dataframe-output')) document.getElementById('7aae19fc-a22b-40e8-be8b-1dffe27b4ecd').style.display = 'flex' </script> <table border=\"1\" class=\"dataframe\">\n  <thead>\n    <tr style=\"text-align: right;\">\n      <th></th>\n      <th>dataset_pid</th>\n      <th>dataset_pid_url</th>\n      <th>dataset_version_number</th>\n      <th>license_name</th>\n      <th>license_uri</th>\n      <th>terms_of_use</th>\n      <th>confidentiality_declaration</th>\n      <th>special_permissions</th>\n      <th>restrictions</th>\n      <th>citation_requirements</th>\n      <th>depositor_requirements</th>\n      <th>conditions</th>\n      <th>disclaimer</th>\n      <th>terms_of_access</th>\n      <th>data_access_place</th>\n      <th>original_archive</th>\n      <th>availability_status</th>\n      <th>contact_for_access</th>\n      <th>size_of_collection</th>\n      <th>study_completion</th>\n    </tr>\n  </thead>\n  <tbody>\n    <tr>\n      <th>0</th>\n      <td>doi:10.7910/DVN/5PRYPC</td>\n      <td>https://doi.org/10.7910/DVN/5PRYPC</td>\n      <td>4.0</td>\n      <td>CC0 1.0</td>\n      <td>http://creativecommons.org/publicdomain/zero/1.0</td>\n      <td></td>\n      <td></td>\n      <td></td>\n      <td></td>\n      <td></td>\n      <td></td>\n      <td></td>\n      <td></td>\n      <td></td>\n      <td></td>\n      <td></td>\n      <td></td>\n      <td></td>\n      <td></td>\n      <td></td>\n    </tr>\n    <tr>\n      <th>1</th>\n      <td>doi:10.7910/DVN/VIE1H</td>\n      <td>https://doi.org/10.7910/DVN/VIE1H</td>\n      <td>248.0</td>\n      <td></td>\n      <td></td>\n      <td></td>\n      <td></td>\n      <td></td>\n      <td></td>\n      <td></td>\n      <td></td>\n      <td></td>\n      <td></td>\n      <td></td>\n      <td></td>\n      <td></td>\n      <td></td>\n      <td></td>\n      <td></td>\n      <td></td>\n    </tr>\n    <tr>\n      <th>2</th>\n      <td>doi:10.7910/DVN/KKUJWW</td>\n      <td>https://doi.org/10.7910/DVN/KKUJWW</td>\n      <td>1.0</td>\n      <td>CC0 1.0</td>\n      <td>http://creativecommons.org/publicdomain/zero/1.0</td>\n      <td></td>\n      <td></td>\n      <td></td>\n      <td></td>\n      <td></td>\n      <td></td>\n      <td></td>\n      <td></td>\n      <td></td>\n      <td></td>\n      <td></td>\n      <td></td>\n      <td></td>\n      <td></td>\n      <td></td>\n    </tr>\n    <tr>\n      <th>3</th>\n      <td>doi:10.7910/DVN/5E6GBN</td>\n      <td>https://doi.org/10.7910/DVN/5E6GBN</td>\n      <td>1.2</td>\n      <td>CC0 1.0</td>\n      <td>http://creativecommons.org/publicdomain/zero/1.0</td>\n      <td></td>\n      <td></td>\n      <td></td>\n      <td></td>\n      <td></td>\n      <td></td>\n      <td></td>\n      <td></td>\n      <td></td>\n      <td></td>\n      <td></td>\n      <td></td>\n      <td></td>\n      <td></td>\n      <td></td>\n    </tr>\n    <tr>\n      <th>4</th>\n      <td>doi:10.7910/DVN/9MKISZ</td>\n      <td>https://doi.org/10.7910/DVN/9MKISZ</td>\n      <td>10.0</td>\n      <td>CC0 1.0</td>\n      <td>http://creativecommons.org/publicdomain/zero/1.0</td>\n      <td></td>\n      <td></td>\n      <td></td>\n      <td></td>\n      <td></td>\n      <td></td>\n      <td></td>\n      <td></td>\n      <td></td>\n      <td></td>\n      <td></td>\n      <td></td>\n      <td></td>\n      <td></td>\n      <td></td>\n    </tr>\n  </tbody>\n</table></div>"
     },
     "execution_count": 3,
     "metadata": {},
     "output_type": "execute_result"
    }
   ],
   "source": [
    "licenseMetadataDF = pd.read_csv(\n",
    "    'licenses_and_terms_metadata_hdv_2022-10-03.csv',\n",
    "    sep=',', na_filter=False,\n",
    "    converters={'dataset_version_number': to_str})\n",
    "licenseMetadataDF.head()"
   ],
   "metadata": {
    "collapsed": false,
    "pycharm": {
     "name": "#%%\n"
    }
   }
  },
  {
   "cell_type": "code",
   "execution_count": 4,
   "outputs": [
    {
     "data": {
      "text/plain": "              dataset_pid                     dataset_pid_url  \\\n0  doi:10.7910/DVN/5PRYPC  https://doi.org/10.7910/DVN/5PRYPC   \n1   doi:10.7910/DVN/VIE1H   https://doi.org/10.7910/DVN/VIE1H   \n2  doi:10.7910/DVN/KKUJWW  https://doi.org/10.7910/DVN/KKUJWW   \n3  doi:10.7910/DVN/5E6GBN  https://doi.org/10.7910/DVN/5E6GBN   \n4  doi:10.7910/DVN/9MKISZ  https://doi.org/10.7910/DVN/9MKISZ   \n\n  dataset_version_number dataset_publication_date dataset_version_create_time  \\\n0                    4.0               2020-05-27   2020-06-17 23:49:50+00:00   \n1                  248.0               2015-02-11   2015-06-18 19:49:12+00:00   \n2                    1.0               2015-07-23   2015-07-15 00:57:41+00:00   \n3                    1.2               2020-04-05   2020-04-05 21:32:37+00:00   \n4                   10.0               2011-06-09   2013-01-29 23:42:10+00:00   \n\n  dataset_version_state          publisher  \n0              RELEASED  Harvard Dataverse  \n1              RELEASED  Harvard Dataverse  \n2              RELEASED  Harvard Dataverse  \n3              RELEASED  Harvard Dataverse  \n4              RELEASED  Harvard Dataverse  ",
      "text/html": "<div><div id=1f9b2eaa-02d0-4674-803a-a0fb30e06588 style=\"display:none; background-color:#9D6CFF; color:white; width:200px; height:30px; padding-left:5px; border-radius:4px; flex-direction:row; justify-content:space-around; align-items:center;\" onmouseover=\"this.style.backgroundColor='#BA9BF8'\" onmouseout=\"this.style.backgroundColor='#9D6CFF'\" onclick=\"window.commands?.execute('create-mitosheet-from-dataframe-output');\">See Full Dataframe in Mito</div> <script> if (window.commands.hasCommand('create-mitosheet-from-dataframe-output')) document.getElementById('1f9b2eaa-02d0-4674-803a-a0fb30e06588').style.display = 'flex' </script> <table border=\"1\" class=\"dataframe\">\n  <thead>\n    <tr style=\"text-align: right;\">\n      <th></th>\n      <th>dataset_pid</th>\n      <th>dataset_pid_url</th>\n      <th>dataset_version_number</th>\n      <th>dataset_publication_date</th>\n      <th>dataset_version_create_time</th>\n      <th>dataset_version_state</th>\n      <th>publisher</th>\n    </tr>\n  </thead>\n  <tbody>\n    <tr>\n      <th>0</th>\n      <td>doi:10.7910/DVN/5PRYPC</td>\n      <td>https://doi.org/10.7910/DVN/5PRYPC</td>\n      <td>4.0</td>\n      <td>2020-05-27</td>\n      <td>2020-06-17 23:49:50+00:00</td>\n      <td>RELEASED</td>\n      <td>Harvard Dataverse</td>\n    </tr>\n    <tr>\n      <th>1</th>\n      <td>doi:10.7910/DVN/VIE1H</td>\n      <td>https://doi.org/10.7910/DVN/VIE1H</td>\n      <td>248.0</td>\n      <td>2015-02-11</td>\n      <td>2015-06-18 19:49:12+00:00</td>\n      <td>RELEASED</td>\n      <td>Harvard Dataverse</td>\n    </tr>\n    <tr>\n      <th>2</th>\n      <td>doi:10.7910/DVN/KKUJWW</td>\n      <td>https://doi.org/10.7910/DVN/KKUJWW</td>\n      <td>1.0</td>\n      <td>2015-07-23</td>\n      <td>2015-07-15 00:57:41+00:00</td>\n      <td>RELEASED</td>\n      <td>Harvard Dataverse</td>\n    </tr>\n    <tr>\n      <th>3</th>\n      <td>doi:10.7910/DVN/5E6GBN</td>\n      <td>https://doi.org/10.7910/DVN/5E6GBN</td>\n      <td>1.2</td>\n      <td>2020-04-05</td>\n      <td>2020-04-05 21:32:37+00:00</td>\n      <td>RELEASED</td>\n      <td>Harvard Dataverse</td>\n    </tr>\n    <tr>\n      <th>4</th>\n      <td>doi:10.7910/DVN/9MKISZ</td>\n      <td>https://doi.org/10.7910/DVN/9MKISZ</td>\n      <td>10.0</td>\n      <td>2011-06-09</td>\n      <td>2013-01-29 23:42:10+00:00</td>\n      <td>RELEASED</td>\n      <td>Harvard Dataverse</td>\n    </tr>\n  </tbody>\n</table></div>"
     },
     "execution_count": 4,
     "metadata": {},
     "output_type": "execute_result"
    }
   ],
   "source": [
    "basicMetadataDF = pd.read_csv(\n",
    "    'basic_metadata_hdv_2022-10-03.csv',\n",
    "    sep=',', na_filter=False,\n",
    "    parse_dates=['dataset_publication_date', 'dataset_version_create_time'],\n",
    "    converters={'dataset_version_number': to_str})\n",
    "\n",
    "basicMetadataDF.head()"
   ],
   "metadata": {
    "collapsed": false,
    "pycharm": {
     "name": "#%%\n"
    }
   }
  },
  {
   "cell_type": "code",
   "execution_count": 5,
   "outputs": [
    {
     "name": "stdout",
     "output_type": "stream",
     "text": [
      "Number of dataset versions licenseMetadataDF: 130768\n",
      "Number of datasets in licenseMetadataDF: 80278\n",
      "\n",
      "Number of dataset versions in basicMetadataDF: 130768\n",
      "Number of datasets in basicMetadataDF: 80278\n"
     ]
    }
   ],
   "source": [
    "# Check data\n",
    "\n",
    "# Get the unique counts of datasets in the licenseMetadataDF and datasetsDF dataframes\n",
    "print('Number of dataset versions licenseMetadataDF: %s' %(len(licenseMetadataDF)))\n",
    "print('Number of datasets in licenseMetadataDF: %s' % (len(pd.unique(licenseMetadataDF['dataset_pid']))))\n",
    "\n",
    "print('\\nNumber of dataset versions in basicMetadataDF: %s' %(len(basicMetadataDF)))\n",
    "print('Number of datasets in basicMetadataDF: %s' % (len(pd.unique(basicMetadataDF['dataset_pid']))))"
   ],
   "metadata": {
    "collapsed": false,
    "pycharm": {
     "name": "#%%\n"
    }
   }
  },
  {
   "cell_type": "code",
   "execution_count": 6,
   "outputs": [
    {
     "name": "stdout",
     "output_type": "stream",
     "text": [
      "Datasets in datasetsInlicenseMetadataDFList: 80278\n",
      "Datasets in basicMetadataDF: 80278\n",
      "Number of datasets in one table and not the other: 0\n"
     ]
    }
   ],
   "source": [
    "# Make sure the two dataframes, allDatasetPIDsDF and basicMetadataDF, contain the datasets\n",
    "datasetsInlicenseMetadataDFList = set(licenseMetadataDF['dataset_pid'].tolist())\n",
    "datasetsInbasicMetadataDFList = set(basicMetadataDF['dataset_pid'].tolist())\n",
    "\n",
    "print(f'Datasets in datasetsInlicenseMetadataDFList: {len(datasetsInlicenseMetadataDFList)}')\n",
    "print(f'Datasets in basicMetadataDF: {len(datasetsInbasicMetadataDFList)}')\n",
    "\n",
    "# Create list of dataset PIDs that exist in one list and not the other, if any\n",
    "difference = datasetsInlicenseMetadataDFList - datasetsInbasicMetadataDFList\n",
    "difference = list(difference)\n",
    "print(f'Number of datasets in one table and not the other: {len(difference)}')\n"
   ],
   "metadata": {
    "collapsed": false,
    "pycharm": {
     "name": "#%%\n"
    }
   }
  },
  {
   "cell_type": "code",
   "execution_count": 7,
   "outputs": [],
   "source": [
    "# Merge the two dataframes\n",
    "licenseAndBasicMetadataDF = pd.merge(\n",
    "    licenseMetadataDF, basicMetadataDF,\n",
    "    how='inner',\n",
    "    on=[\n",
    "        'dataset_pid',\n",
    "        'dataset_pid_url',\n",
    "        'dataset_version_number'])"
   ],
   "metadata": {
    "collapsed": false,
    "pycharm": {
     "name": "#%%\n"
    }
   }
  },
  {
   "cell_type": "code",
   "execution_count": 8,
   "outputs": [
    {
     "name": "stdout",
     "output_type": "stream",
     "text": [
      "Number of dataset versions in licenseAndBasicMetadataDF: 130768\n",
      "Number of datasets in licenseAndBasicMetadataDF: 80278\n"
     ]
    }
   ],
   "source": [
    "# Check count of unique datasets in the new mergedDF\n",
    "print(f'Number of dataset versions in licenseAndBasicMetadataDF: {len(licenseAndBasicMetadataDF)}')\n",
    "uniqueDatasetCount = len(pd.unique(licenseAndBasicMetadataDF['dataset_pid']))\n",
    "print(f'Number of datasets in licenseAndBasicMetadataDF: {uniqueDatasetCount}')"
   ],
   "metadata": {
    "collapsed": false,
    "pycharm": {
     "name": "#%%\n"
    }
   }
  },
  {
   "cell_type": "code",
   "execution_count": 11,
   "outputs": [
    {
     "name": "stdout",
     "output_type": "stream",
     "text": [
      "Count of pids in latestversion_mergedDF: 80278\n"
     ]
    }
   ],
   "source": [
    "# Create dataframe, licenseMetadataLatestVersionDF, that contains the license and terms metadata of only the latest\n",
    "# version of each dataset, using the latest version release time from the merged basicMetadataDF\n",
    "latestversion_licenseAndBasicMetadataDF = (licenseAndBasicMetadataDF\n",
    "                 .iloc[licenseAndBasicMetadataDF.groupby('dataset_pid')['dataset_version_create_time']\n",
    "                 .agg(pd.Series.idxmax)]\n",
    "                 .reset_index(drop=True, inplace=False))\n",
    "\n",
    "# Replace any blank values with NaN\n",
    "# latestversion_licenseAndBasicMetadataDF = latestversion_licenseAndBasicMetadataDF.replace(r'^\\s*$', np.nan, regex=True)\n",
    "\n",
    "# Remove dataset_version_state and publisher columns and reorder remaining columns\n",
    "latestversion_licenseAndBasicMetadataDF = latestversion_licenseAndBasicMetadataDF[[\n",
    "    'dataset_pid_url', 'dataset_publication_date', 'dataset_version_number', 'dataset_version_create_time', 'license_name', 'license_uri', 'terms_of_use', 'confidentiality_declaration', 'special_permissions', 'restrictions', 'citation_requirements', 'depositor_requirements', 'conditions', 'disclaimer', 'terms_of_access', 'data_access_place', 'original_archive', 'availability_status', 'contact_for_access', 'size_of_collection', 'study_completion'\n",
    "]]\n",
    "\n",
    "print(f'Count of pids in latestversion_mergedDF: {len(latestversion_licenseAndBasicMetadataDF)}')\n"
   ],
   "metadata": {
    "collapsed": false,
    "pycharm": {
     "name": "#%%\n"
    }
   }
  },
  {
   "cell_type": "code",
   "execution_count": 12,
   "outputs": [
    {
     "name": "stdout",
     "output_type": "stream",
     "text": [
      "<class 'pandas.core.frame.DataFrame'>\n",
      "RangeIndex: 80278 entries, 0 to 80277\n",
      "Data columns (total 21 columns):\n",
      " #   Column                       Non-Null Count  Dtype              \n",
      "---  ------                       --------------  -----              \n",
      " 0   dataset_pid_url              80278 non-null  object             \n",
      " 1   dataset_publication_date     80278 non-null  datetime64[ns]     \n",
      " 2   dataset_version_number       80278 non-null  object             \n",
      " 3   dataset_version_create_time  80278 non-null  datetime64[ns, UTC]\n",
      " 4   license_name                 80278 non-null  object             \n",
      " 5   license_uri                  80278 non-null  object             \n",
      " 6   terms_of_use                 80278 non-null  object             \n",
      " 7   confidentiality_declaration  80278 non-null  object             \n",
      " 8   special_permissions          80278 non-null  object             \n",
      " 9   restrictions                 80278 non-null  object             \n",
      " 10  citation_requirements        80278 non-null  object             \n",
      " 11  depositor_requirements       80278 non-null  object             \n",
      " 12  conditions                   80278 non-null  object             \n",
      " 13  disclaimer                   80278 non-null  object             \n",
      " 14  terms_of_access              80278 non-null  object             \n",
      " 15  data_access_place            80278 non-null  object             \n",
      " 16  original_archive             80278 non-null  object             \n",
      " 17  availability_status          80278 non-null  object             \n",
      " 18  contact_for_access           80278 non-null  object             \n",
      " 19  size_of_collection           80278 non-null  object             \n",
      " 20  study_completion             80278 non-null  object             \n",
      "dtypes: datetime64[ns, UTC](1), datetime64[ns](1), object(19)\n",
      "memory usage: 12.9+ MB\n"
     ]
    }
   ],
   "source": [
    "# Let's make sure each column is the object type we want. Everything should be a string except for the two date columns.\n",
    "latestversion_licenseAndBasicMetadataDF.info()"
   ],
   "metadata": {
    "collapsed": false,
    "pycharm": {
     "name": "#%%\n"
    }
   }
  },
  {
   "cell_type": "markdown",
   "source": [
    "Now that we have the data we need, let's get some answers:\n",
    "- How many datasets have a CC0 waiver?\n",
    "- How many datasets have other types of licenses or other terms of use?\n",
    "- What standard licenses have been applied datasets that don't have CC0 waiver?"
   ],
   "metadata": {
    "collapsed": false,
    "pycharm": {
     "name": "#%% md\n"
    }
   }
  },
  {
   "cell_type": "code",
   "execution_count": 17,
   "outputs": [
    {
     "name": "stdout",
     "output_type": "stream",
     "text": [
      "<class 'pandas.core.frame.DataFrame'>\n",
      "RangeIndex: 32645 entries, 0 to 32644\n",
      "Data columns (total 21 columns):\n",
      " #   Column                       Non-Null Count  Dtype              \n",
      "---  ------                       --------------  -----              \n",
      " 0   dataset_pid_url              32645 non-null  object             \n",
      " 1   dataset_publication_date     32645 non-null  datetime64[ns]     \n",
      " 2   dataset_version_number       32645 non-null  object             \n",
      " 3   dataset_version_create_time  32645 non-null  datetime64[ns, UTC]\n",
      " 4   license_name                 32645 non-null  object             \n",
      " 5   license_uri                  32645 non-null  object             \n",
      " 6   terms_of_use                 32645 non-null  object             \n",
      " 7   confidentiality_declaration  32645 non-null  object             \n",
      " 8   special_permissions          32645 non-null  object             \n",
      " 9   restrictions                 32645 non-null  object             \n",
      " 10  citation_requirements        32645 non-null  object             \n",
      " 11  depositor_requirements       32645 non-null  object             \n",
      " 12  conditions                   32645 non-null  object             \n",
      " 13  disclaimer                   32645 non-null  object             \n",
      " 14  terms_of_access              32645 non-null  object             \n",
      " 15  data_access_place            32645 non-null  object             \n",
      " 16  original_archive             32645 non-null  object             \n",
      " 17  availability_status          32645 non-null  object             \n",
      " 18  contact_for_access           32645 non-null  object             \n",
      " 19  size_of_collection           32645 non-null  object             \n",
      " 20  study_completion             32645 non-null  object             \n",
      "dtypes: datetime64[ns, UTC](1), datetime64[ns](1), object(19)\n",
      "memory usage: 5.2+ MB\n"
     ]
    }
   ],
   "source": [
    "# Create a dataframe containing the datasets whose latest versions have a custom license\n",
    "# datasetsWithCC0DF = (latestversion_licenseAndBasicMetadataDF\n",
    "#                        .query('license_name == \"\" or terms_of_use.str.contains(\"This dataset is made available under a Creative Commons CC0 license with the following additional/modified terms and conditions\")')\n",
    "#                        .reset_index(drop=True, inplace=False)\n",
    "#                        )\n",
    "# datasetsWithCC0DF.info()\n",
    "\n",
    "datasetsWithCustomLicense = (latestversion_licenseAndBasicMetadataDF\n",
    "                     .query('license_name == \"\" and terms_of_use != \"This dataset is made available without information on how it can be used. You should communicate with the Contact(s) specified before use.\"')\n",
    "                     .reset_index(drop=True, inplace=False)\n",
    "                     )\n",
    "\n",
    "datasetsWithCustomLicense.info()"
   ],
   "metadata": {
    "collapsed": false,
    "pycharm": {
     "name": "#%%\n"
    }
   }
  },
  {
   "cell_type": "code",
   "execution_count": 25,
   "outputs": [
    {
     "name": "stdout",
     "output_type": "stream",
     "text": [
      "<class 'pandas.core.frame.DataFrame'>\n",
      "RangeIndex: 32645 entries, 0 to 32644\n",
      "Data columns (total 22 columns):\n",
      " #   Column                       Non-Null Count  Dtype              \n",
      "---  ------                       --------------  -----              \n",
      " 0   dataset_pid_url              32645 non-null  object             \n",
      " 1   dataset_publication_date     32645 non-null  datetime64[ns]     \n",
      " 2   dataset_version_number       32645 non-null  object             \n",
      " 3   dataset_version_create_time  32645 non-null  datetime64[ns, UTC]\n",
      " 4   license_name                 32645 non-null  object             \n",
      " 5   license_uri                  32645 non-null  object             \n",
      " 6   terms_of_use                 32645 non-null  object             \n",
      " 7   confidentiality_declaration  32645 non-null  object             \n",
      " 8   special_permissions          32645 non-null  object             \n",
      " 9   restrictions                 32645 non-null  object             \n",
      " 10  citation_requirements        32645 non-null  object             \n",
      " 11  depositor_requirements       32645 non-null  object             \n",
      " 12  conditions                   32645 non-null  object             \n",
      " 13  disclaimer                   32645 non-null  object             \n",
      " 14  terms_of_access              32645 non-null  object             \n",
      " 15  data_access_place            32645 non-null  object             \n",
      " 16  original_archive             32645 non-null  object             \n",
      " 17  availability_status          32645 non-null  object             \n",
      " 18  contact_for_access           32645 non-null  object             \n",
      " 19  size_of_collection           32645 non-null  object             \n",
      " 20  study_completion             32645 non-null  object             \n",
      " 21  combined_terms               32645 non-null  object             \n",
      "dtypes: datetime64[ns, UTC](1), datetime64[ns](1), object(20)\n",
      "memory usage: 5.5+ MB\n"
     ]
    }
   ],
   "source": [
    "# For each of these datasets, in order to determine which standard licenses might be mentioned in any of their Terms of Use or Terms of Access fields, let's create a new column that's a concatenation of what's entered in all of the Terms fields\n",
    "termsColumns = [\n",
    "    'terms_of_use',\n",
    "    'confidentiality_declaration',\n",
    "    'special_permissions',\n",
    "    'restrictions',\n",
    "    'citation_requirements',\n",
    "    'depositor_requirements',\n",
    "    'conditions',\n",
    "    'disclaimer',\n",
    "    'terms_of_access',\n",
    "    'data_access_place',\n",
    "    'original_archive',\n",
    "    'availability_status',\n",
    "    'contact_for_access',\n",
    "    'size_of_collection',\n",
    "    'study_completion'\n",
    "]\n",
    "datasetsWithCustomLicense['combined_terms'] = datasetsWithCustomLicense[termsColumns].apply(lambda row: ' '.join(row.values.astype(str)), axis=1)\n",
    "\n",
    "datasetsWithCustomLicense.info()"
   ],
   "metadata": {
    "collapsed": false,
    "pycharm": {
     "name": "#%%\n"
    }
   }
  },
  {
   "cell_type": "code",
   "execution_count": 54,
   "outputs": [
    {
     "name": "stdout",
     "output_type": "stream",
     "text": [
      "Number of unique strings entered in Terms fields: 2638\n"
     ]
    }
   ],
   "source": [
    "# Let's get the unique list of\n",
    "customMetadataList = list(set(datasetsWithCustomLicense['combined_terms'].tolist()))\n",
    "print(f'Number of unique strings entered in Terms fields: {len(customMetadataList)}')"
   ],
   "metadata": {
    "collapsed": false,
    "pycharm": {
     "name": "#%%\n"
    }
   }
  },
  {
   "cell_type": "code",
   "execution_count": 55,
   "outputs": [],
   "source": [
    "# Let's figure out which custom licenses are in these strings\n",
    "\n",
    "# Minify the strings so that they're easier to read\n",
    "# customMetadataList2 = []\n",
    "# for metadata in customMetadataList:\n",
    "#     metadata = htmlmin.minify(metadata, remove_empty_space=True)\n",
    "#     customMetadataList2.append(metadata)\n",
    "# customMetadataList = customMetadataList2\n",
    "\n",
    "for place, metadata in enumerate(customMetadataList):\n",
    "    metadata = htmlmin.minify(metadata, remove_empty_space=True)\n",
    "    customMetadataList[place] = metadata"
   ],
   "metadata": {
    "collapsed": false,
    "pycharm": {
     "name": "#%%\n"
    }
   }
  },
  {
   "cell_type": "code",
   "execution_count": 57,
   "outputs": [
    {
     "name": "stdout",
     "output_type": "stream",
     "text": [
      "Count of unique URLs: 216\n",
      "ssl.isr.umich.edu/hrs\n",
      "www.library.hbs.edu/Forms/Diary-Study-Form\n",
      "doi.org/10.7910/DVN/AS5YNB\n",
      "opendatacommons.org/licenses/odbl/1-0\n",
      "www.um.es/localmultidem\n",
      "psfaculty.ucdavis.edu/zmaoz/dyadmid.html\n",
      "doi.org/10.1017/S002210901900019X\n",
      "dx.doi.org/10.7910/DVN/AAWFK7\n",
      "sada-data.nrf.ac.za/handle/10956/79\n",
      "www.som-project.eu\n",
      "ssdc.ucsd.edu/ssdc/browse/acknowledgement.html\n",
      "www.fandom.com/licensing\n",
      "www.gadm.org\n",
      "z.umn.edu/pgc-ack-policy\n",
      "www.destatis.de/jetspeed/portal/cms/Sites/destatis/Internet/DE/Content/Statistiken/WirtschaftsrechnungenZeitbudgets/EinkommensVerbrauchsstichproben/content75/SUFEinfuehrung,templateId=renderPrint.psml\n",
      "elections.wisc.edu/wiscads\n",
      "www.regionalmanifestosproject.com\n",
      "www.jewishdatabank.org\n",
      "goo.gl/forms/muJtiDnuwhfAftQ83\n",
      "www.ars.usda.gov/Research/docs.htm?docid=16432\n",
      "www.necliberia.org\n",
      "doi.org/10.7910/DVN/V2FJEF\n",
      "www.ancientportsantiques.com/docs-pdf\n",
      "https://creativecommons.org/licenses/by-nc/4.0\n",
      "www.sipri.org/databases\n",
      "pcouncil.wufoo.com/forms/rbpac48185fok6\n",
      "www.covid19-database.com\n",
      "best-practices.dataverse.org/harvard-policies/community-norms.html\n",
      "pcouncil.wufoo.com/forms/application-for-data-use\n",
      "dx.doi.org/10.7910/DVN/25450\n",
      "doi.org/10.1016/j.ecolecon.2021.107236\n",
      "https://creativecommons.org/licenses/by/4.0/deed.en\n",
      "doi.org/10.5194/essd-10-985-2018\n",
      "www.census.gov/programs-surveys/household-pulse-survey/data.html\n",
      "wiki.creativecommons.org/Considerations_for_licensors\n",
      "pubs.acs.org/doi/suppl/10.1021/jf304986q\n",
      "opensource.org/licenses/MIT\n",
      "www.nnpcgroup.com\n",
      "doi.org/10.1111/1475-6765.12426\n",
      "wrds-web.wharton.upenn.edu/wrds\n",
      "www.fas.harvard.edu/~chgis\n",
      "dataverse.harvard.edu/dataverse/Owsiak\n",
      "dataverse.org/best-practices/data-citation\n",
      "https://creativecommons.org/licenses/by/4.0\n",
      "forsbase.unil.ch/project/study-public-overview/13236/0\n",
      "www.hispanictrends.org\n",
      "www.countway.harvard.edu/center-history-medicine/policies/reproduction\n",
      "dx.doi.org/10.1098/rspb.2016.0792\n",
      "pcouncil.wufoo.com/forms/udaya-adolescent-survey-2018a19\n",
      "drive.google.com/file/d/0B5ghu5Vrh0j7YTlSdTRxVUg0Tnc/view?usp=sharing\n",
      "www.lidata.eu/data/QUANT/LiDA_KITI_0004_STUDY_01\n",
      "https://creativecommons.org/licenses/by-nc-sa/3.0/us\n",
      "www.socio.com\n",
      "fluxnet.fluxdata.org/data/data-policy\n",
      "dx.doi.org/10.7910/DVN/0R5WTU\n",
      "dss.princeton.edu/catalog/resource1825\n",
      "https://creativecommons.org/licenses/by/2.5/it\n",
      "case.law/api/#limits\n",
      "dataverse.org/best-practices/sample-dua\n",
      "hdl.handle.net/1902.1/20804\n",
      "www.crs.org/about/compliance/crs-responsible-data-values-principles\n",
      "www.inequality.com\n",
      "doi.org/10.7910/DVN/97Q2B8\n",
      "www.canvaslms.com/policies/api-policy\n",
      "hdl.handle.net/1902.1/21250\n",
      "doi.org/10.7910/DVN/4WOCWJ\n",
      "en.wikipedia.org/wiki/Wikipedia:Copyrights\n",
      "dx.doi.org/10.7910/DVN/BVPQFH\n",
      "doi.org/10.1016/j.electstud.2005.04.001\n",
      "i.creativecommons.org/l/by/3.0/88x31.png\n",
      "https://creativecommons.org/licenses/by/3.0/us\n",
      "developer.twitter.com/en/developer-terms/agreement-and-policy#id34\n",
      "doi.org/10.25490/a97f-egyk\n",
      "sada-data.nrf.ac.za/handle/10956/31\n",
      "dx.doi.org/10.7910/DVN/KUSXJR\n",
      "www.gnu.org/licenses/gpl-3.0.en.html\n",
      "docs.google.com/document/pub?id=1POd-pBMc5vDXAmxrpGjPLaCSDSWuxX6FLQgq5DhlUhM\n",
      "dx.doi.org/10.7910/DVN/YZBRYX\n",
      "dx.doi.org/10.7910/DVN/WWBYML\n",
      "hdl.handle.net/1902.1/20803\n",
      "dx.doi.org/10.7910/DVN/FA0QPM\n",
      "epub.prsgroup.com/products/icrg/researcher-dataset-icrg-t3b-political-risk\n",
      "developer.twitter.com/en/developer-terms/agreement-and-policy.html\n",
      "https://creativecommons.org/licenses/by-nc/4.0/legalcode\n",
      "paperswithcode.com/datasets/license\n",
      "github.com/nwhite-math/small-GaPS\n",
      "trec.nist.gov/data/reuters/ind_appl_reuters_v4.html\n",
      "doi.org/10.37016/mr-2020-91\n",
      "www.nature.com/articles/s41559-021-01656-0\n",
      "opendatacommons.org/licenses/by/1.0\n",
      "dataverse.harvard.edu/file.xhtml?fileId=3102931&version=RELEASED&version=.1\n",
      "www.gsi.uni-muenchen.de\n",
      "doi.org/10.4232/1.13029\n",
      "lindat.mff.cuni.cz/repository/xmlui/page/licence-UD-1.2\n",
      "www.asianbarometer.org\n",
      "https://creativecommons.org/licenses/by/4.0/deed\n",
      "dx.doi.org/10.7910/DVN/27480\n",
      "doi.org/10.7910/DVN/FV5O1I\n",
      "docs.cmv.io/en/latest/about/license\n",
      "ssrn.com/abstract_id=3565233\n",
      "dx.doi.org/10.7910/DVN/26623\n",
      "web.mit.edu/ir/mitx\n",
      "opendatacommons.org/licenses/odbl/1.0\n",
      "www.comifac.org/fr/content/projet-%C2%AB-beyond-timber-%C2%BB-au-del%C3%A0-du-bois-la-comifac-et-ses-partenaires-pr%C3%A9sentent-les\n",
      "dx.doi.org/10.7910/DVN/28038\n",
      "https://creativecommons.org/licenses/by/2.0\n",
      "go.pardot.com/l/857593/2021-09-15/3nqcv\n",
      "doi.org/10.7910/DVN/8MPQGI\n",
      "doi.org/10.7910/DVN/A8O38Mdoi/10.7910/DVN/A8O38M\n",
      "opendatacommons.org/licenses/odbl\n",
      "https://creativecommons.org/licenses/by-nc-sa/3.0/deed.en\n",
      "doi.org/10.1080/01615440.2021.1937421\n",
      "open.canada.ca/en/open-government-licence-canada\n",
      "dx.doi.org/10.7910/DVN/IABY1D\n",
      "doi.org/10.7910/DVN/YAAV4X\n",
      "www.ifpri.org/cdmref/p15738coll2/id/133308/filename/133517.pdf\n",
      "www.pgc.umn.edu/guides/user-services/acknowledgement-policy\n",
      "glenn.osu.edu/educational-governance/data/index.html\n",
      "ricestat.irri.org/fhsd\n",
      "www.apache.org/licenses/LICENSE-2.0\n",
      "www.socio.com/teenpregnancydata.php\n",
      "doi.org/10.1016/j.gloenvcha.2021.102455\n",
      "https://creativecommons.org/licenses/by-nc/2.0\n",
      "dx.doi.org/10.7910/DVN/RN40SP\n",
      "csr-sy.org/?id=600&sons=redirect&l=1&\n",
      "sada-data.nrf.ac.za/handle/10956/40\n",
      "doi.org/10.1007/s11558-021-09427-z\n",
      "www.gnu.org/licenses/gpl.html\n",
      "https://creativecommons.org/publicdomain/mark/1.0\n",
      "thedata.org/citation\n",
      "adsabs.harvard.edu/abs/2007A%26A...466.1111G\n",
      "doi.org/10.7910/DVN/TVXIEW\n",
      "hdl.handle.net/1902.1/20796\n",
      "www.sas.upenn.edu/~marcmere\n",
      "afrobarometer.org/data/merged-round-6-data-36-countries-2016\n",
      "dx.doi.org/10.7910/DVN/MUOX19\n",
      "www.gnu.org/licenses/gpl-3.0.txt\n",
      "dx.doi.org/10.7910/DVN/8M15D6\n",
      "doi.org/10.1007/s10618-018-0561-2\n",
      "https://creativecommons.org/licenses/by-sa/2.0\n",
      "doi.org/10.7910/DVN/OD6DVW\n",
      "apps.ohsu.edu/research/tech-portal/agreement/view/10/212836\n",
      "www.neighborhoodindicators.org/open-data-base-license\n",
      "www.force11.org/datacitationprinciples\n",
      "covariates.csv/...random\n",
      "doi.org/10.1371/journal.pone.0201879\n",
      "dbk.gesis.org/dbksearch/sdesc2.asp?no=5400\n",
      "https://creativecommons.org/publicdomain/zero/1.0\n",
      "www.countway.harvard.edu/chom/research-and-access\n",
      "orcid.org/0000-0002-0140-6614\n",
      "www.disc.wisc.edu/archive/Nicaragua/index.html\n",
      "doi.org/10.1108/IJSSP-01-2021-0022\n",
      "obardi.hypotheses.org/526\n",
      "search.gesis.org/research_data/ZA3521\n",
      "ir.mit.edu/mitx-data-request-checklist\n",
      "adsabs.harvard.edu/abs/2008ApJS..175..277D\n",
      "dataverse.harvard.edu/dataverse/nipn\n",
      "ora.ox.ac.uk/api\n",
      "www.ub.uni-leipzig.de\n",
      "https://creativecommons.org/licenses/by/4.0/legalcode\n",
      "forms.gle/2bhAuMMVRSZyLVfF7\n",
      "www.scb.se/en/services/guidance-for-researchers-and-universities\n",
      "dx.doi.org/10.7910/DVN/JL16EW\n",
      "adsabs.harvard.edu/abs/2013PASA...30...44B\n",
      "https://creativecommons.org/licenses/by-nc-nd/4.0\n",
      "https://creativecommons.org/licenses/by-nc-sa/4.0\n",
      "schemas.microsoft.com/office/2004/12/omml\n",
      "purl.org/dc/terms\n",
      "thedata.org/citation/standard\n",
      "doi.org/10.1371/journal.pone.0231866\n",
      "mediaproject.wesleyan.edu/dataaccess\n",
      "www.twaweza.org\n",
      "www.psi.org/research/ethics-data-use-and-authorship/data-use-and-authorship\n",
      "pcouncil.wufoo.com/forms/qk55ehv048g4b6\n",
      "https://creativecommons.org/licenses/by-sa/4.0/legalcode\n",
      "sada-data.nrf.ac.za/handle/10956/17\n",
      "psi.org/resources/research-metrics/publications/other-resource/data-request-form\n",
      "https://creativecommons.org/licenses/by-sa/4.0\n",
      "www.recessiontrends.org\n",
      "https://creativecommons.org/licenses/by-nc/3.0\n",
      "nam02.safelinks.protection.outlook.com/?url=http://creativecommons.org/licenses/by-nc-sa/3.0/&data=02%7C01%7Cmarie.alaghband%40knights.ucf.edu%7C2b35e4553b8c47ccc23008d7be2f98d1%7C5b16e18278b3412c919668342689eeb7%7C0%7C1%7C637186983942920684&sdata=smg5G0tTv2rMNxiBoN7bini3l8caBn6wXp6Nal/aGnM%3D&reserved=0\n",
      "https://creativecommons.org/licenses/by-nd/4.0\n",
      "doi.org/10.1016/j.jqsrt.2020.106839\n",
      "www.c-well.org\n",
      "static1.squarespace.com/static/556deb8ee4b08a534b8360e7/t/55fb26fee4b08358178cbcd4/1442522878190/EPIC+DATAVERSE+TERMS+OF+USE.jpg\n",
      "best-practices.dataverse.org/data-citation\n",
      "neuroinformatics.harvard.edu/gsp\n",
      "scikit-learn.org/0.19/datasets/twenty_newsgroups.html\n",
      "doi.org/10.1016/j.dib.2022.108330\n",
      "www.za.uni-koeln.de\n",
      "www.LapopSurveys.org\n",
      "https://creativecommons.org/licenses/by-nc-nd/4.0/legalcode\n",
      "https://creativecommons.org/licenses/by-nc-sa/3.0\n",
      "kemri-wellcome.org/zp-content/uploads/2021/02/KWTRP_Dataverse_Data_Request_Form_2019.docx\n",
      "forms.gle/zobtdF39uALoEdTp6\n",
      "data.gov.tw/license#eng\n",
      "data.vision.ee.ethz.ch/cvl/DIV2K\n",
      "dataverse.harvard.edu/dataverse/redistrictingdatahub\n",
      "www.diw.de/en/soep\n",
      "www.march.es/ceacs/linz\n",
      "doi.org/10.3102/0013189X20909824\n",
      "sites.google.com/a/irri.org/oryza2000/contact-us\n",
      "www.gesis.org/eurobarometer-data-service/search-data-access/eb-trends-trendfiles/list-of-trends/life-satisf\n",
      "corpus.byu.edu/full-text\n",
      "https://creativecommons.org/licenses/by/3.0\n",
      "dx.doi.org/10.1371/journal.pone.0086021\n",
      "doi.org/10.7910/DVN/TXKO19\n",
      "www.coes.cl\n",
      "www.openelections.net\n",
      "infoweb.newsbank.com/apps/news\n",
      "www.clio-online.de\n",
      "www.sa.dk/en\n",
      "www.vanderbilt.edu/lapop/raw-data.php\n",
      "dx.doi.org/10.7910/DVN/26086\n",
      "www.ipums.org\n",
      "ww2.usc.cuhk.edu.hk/Eng/AboutDCS.aspx\n"
     ]
    }
   ],
   "source": [
    "# There's probably a lot of variety in the ways that standard licenses are identified by name, but there might be more standardization in how they're identified by their URLs, so let's extract the URLs from this custom metadata\n",
    "urlsList = []\n",
    "regex = r\"(?i)\\b((?:https?://creativecommons|www\\d{0,3}[.]|[a-z0-9.\\-]+[.][a-z]{2,4}/)(?:[^\\s()<>]+|\\(([^\\s()<>]+|(\\([^\\s()<>]+\\)))*\\))+(?:\\(([^\\s()<>]+|(\\([^\\s()<>]+\\)))*\\)|[^\\s`!()\\[\\]{};:'\\\".,<>?«»“”‘’]))\"\n",
    "for metadata in customMetadataList:\n",
    "    urls = re.search(regex, metadata)\n",
    "    if urls is not None:\n",
    "        # Try normalizing the URLs a bit more\n",
    "        urls = urls.group().replace('http://', 'https://').replace('%2F', '/').replace('%3A', ':')\n",
    "        urls = urls.rstrip('/')\n",
    "        urlsList.append(urls)\n",
    "\n",
    "# Deduplicate list of URLs\n",
    "urlsList = list(set(urlsList))\n",
    "print(f'Count of unique URLs: {len(urlsList)}')\n",
    "for url in urlsList:\n",
    "    print(url)"
   ],
   "metadata": {
    "collapsed": false,
    "pycharm": {
     "name": "#%%\n"
    }
   }
  },
  {
   "cell_type": "code",
   "execution_count": 58,
   "outputs": [
    {
     "name": "stdout",
     "output_type": "stream",
     "text": [
      "Count of Creative Commons URLs: 23\n",
      "https://creativecommons.org/licenses/by-nc-nd/4.0\n",
      "https://creativecommons.org/licenses/by-nc-nd/4.0/legalcode\n",
      "https://creativecommons.org/licenses/by-nc-sa/3.0\n",
      "https://creativecommons.org/licenses/by-nc-sa/3.0/deed.en\n",
      "https://creativecommons.org/licenses/by-nc-sa/3.0/us\n",
      "https://creativecommons.org/licenses/by-nc-sa/4.0\n",
      "https://creativecommons.org/licenses/by-nc/2.0\n",
      "https://creativecommons.org/licenses/by-nc/3.0\n",
      "https://creativecommons.org/licenses/by-nc/4.0\n",
      "https://creativecommons.org/licenses/by-nc/4.0/legalcode\n",
      "https://creativecommons.org/licenses/by-nd/4.0\n",
      "https://creativecommons.org/licenses/by-sa/2.0\n",
      "https://creativecommons.org/licenses/by-sa/4.0\n",
      "https://creativecommons.org/licenses/by-sa/4.0/legalcode\n",
      "https://creativecommons.org/licenses/by/2.0\n",
      "https://creativecommons.org/licenses/by/2.5/it\n",
      "https://creativecommons.org/licenses/by/3.0\n",
      "https://creativecommons.org/licenses/by/3.0/us\n",
      "https://creativecommons.org/licenses/by/4.0\n",
      "https://creativecommons.org/licenses/by/4.0/deed\n",
      "https://creativecommons.org/licenses/by/4.0/deed.en\n",
      "https://creativecommons.org/licenses/by/4.0/legalcode\n",
      "nam02.safelinks.protection.outlook.com/?url=http://creativecommons.org/licenses/by-nc-sa/3.0/&data=02%7C01%7Cmarie.alaghband%40knights.ucf.edu%7C2b35e4553b8c47ccc23008d7be2f98d1%7C5b16e18278b3412c919668342689eeb7%7C0%7C1%7C637186983942920684&sdata=smg5G0tTv2rMNxiBoN7bini3l8caBn6wXp6Nal/aGnM%3D&reserved=0\n"
     ]
    }
   ],
   "source": [
    "# Now we just need to find the URLs that point to licenses. This is should be easy for Creative Commons licenses:\n",
    "creativeCommonsUrls = []\n",
    "for url in urlsList:\n",
    "    if 'creativecommons.org/licenses' in url:\n",
    "        creativeCommonsUrls.append(url)\n",
    "creativeCommonsUrls.sort()\n",
    "print(f'Count of Creative Commons URLs: {len(creativeCommonsUrls)}')\n",
    "for url in creativeCommonsUrls:\n",
    "    print(url)"
   ],
   "metadata": {
    "collapsed": false,
    "pycharm": {
     "name": "#%%\n"
    }
   }
  },
  {
   "cell_type": "code",
   "execution_count": 59,
   "outputs": [
    {
     "name": "stdout",
     "output_type": "stream",
     "text": [
      "16\n",
      "https://creativecommons.org/licenses/by-sa/4.0\n",
      "https://creativecommons.org/licenses/by-sa/2.0\n",
      "https://creativecommons.org/licenses/by/4.0\n",
      "https://creativecommons.org/licenses/by-nc-sa/3.0\n",
      "https://creativecommons.org/licenses/by-nc/3.0\n",
      "https://creativecommons.org/licenses/by/2.5/it\n",
      "https://creativecommons.org/licenses/by/3.0/us\n",
      "https://creativecommons.org/licenses/by-nc/2.0\n",
      "https://creativecommons.org/licenses/by-nd/4.0\n",
      "https://creativecommons.org/licenses/by/2.0\n",
      "https://creativecommons.org/licenses/by-nc-nd/4.0\n",
      "nam02.safelinks.protection.outlook.com/?url=http://creativecommons.org/licenses/by-nc-sa/3.0/&data=02%7C01%7Cmarie.alaghband%40knights.ucf.edu%7C2b35e4553b8c47ccc23008d7be2f98d1%7C5b16e18278b3412c919668342689eeb7%7C0%7C1%7C637186983942920684&sdata=smg5G0tTv2rMNxiBoN7bini3l8caBn6wXp6Nal/aGnM%3D&reserved=0\n",
      "https://creativecommons.org/licenses/by-nc-sa/4.0\n",
      "https://creativecommons.org/licenses/by-nc-sa/3.0/us\n",
      "https://creativecommons.org/licenses/by-nc/4.0\n",
      "https://creativecommons.org/licenses/by/3.0\n"
     ]
    }
   ],
   "source": [
    "# Looks like there are 23 unique URLs, but there might be some duplicates.\n",
    "# Some URLs end in \"/legalcode\", which are just the official text of the license. So let's remove that.\n",
    "# Some URLs also end in \"/deed\" or \"/deed.en\". When those parts are removed from those URLs, they point to the same pages, so let's remove those, too.\n",
    "for place, url in enumerate(creativeCommonsUrls):\n",
    "    if '/legalcode' or '/deed' in url:\n",
    "        url = url.replace('/legalcode', '').replace('/deed.en', '').replace('/deed', '')\n",
    "        creativeCommonsUrls[place] = url\n",
    "\n",
    "# Deduplicate the list\n",
    "creativeCommonsUrls = list(set(creativeCommonsUrls))\n",
    "\n",
    "print(len(creativeCommonsUrls))\n",
    "for url in creativeCommonsUrls:\n",
    "    print(url)"
   ],
   "metadata": {
    "collapsed": false,
    "pycharm": {
     "name": "#%%\n"
    }
   }
  },
  {
   "cell_type": "markdown",
   "source": [
    "As part of the Dataverse software's multiple license update:\n",
    "- If a dataset has a CC0 waiver and nothing entered in any of its \"Terms of Use\" fields, the dataset is considered to have a \"standard\" CC0 license\n",
    "- If a dataset has a CC0 waiver and anything entered in any of its \"Terms of Use\" fields, the dataset is considered to have a custom license, where \"This dataset is made available under a Creative Commons CC0 license with the following additional/modified terms and conditions:\" is entered in the Terms of Use field, followed by whatever text was entered in any of the \"Terms of Use\" fields.\n",
    "\n",
    "For this second case, let's see what's entered in these \"custom licences\"."
   ],
   "metadata": {
    "collapsed": false,
    "pycharm": {
     "name": "#%% md\n"
    }
   }
  },
  {
   "cell_type": "code",
   "execution_count": 58,
   "outputs": [
    {
     "name": "stdout",
     "output_type": "stream",
     "text": [
      "Datasets with a custom license that includes CC0: 1229\n"
     ]
    }
   ],
   "source": [
    "# Create a new dataframe with only datasets with text in their terms_of_use column\n",
    "datasetsWithCC0CustomDF = (datasetsWithCC0DF\n",
    "                     .query('terms_of_use.notnull()')\n",
    "                     .reset_index(drop=True, inplace=False)\n",
    "                     )\n",
    "print(f'Datasets with a custom license that includes CC0: {len(datasetsWithCC0CustomDF)}')"
   ],
   "metadata": {
    "collapsed": false,
    "pycharm": {
     "name": "#%%\n"
    }
   }
  },
  {
   "cell_type": "code",
   "execution_count": 59,
   "outputs": [
    {
     "name": "stdout",
     "output_type": "stream",
     "text": [
      "Count of unique \"terms of use\" strings that include CC0: 16\n",
      "1.  CC0 Waiver\n",
      "2.  \n",
      "3.  Please contact me for permission to re-use data\n",
      "4.  <a rel=\"license\" href=\"http://creativecommons.org/publicdomain/mark/1.0/\"><img alt=\"Creative Commons License\" style=\"border-width:0\" src=\"https://i.creativecommons.org/p/mark/1.0/88x31.png\" /></a><br />This work is licensed under a <a rel=\"license\" href=\"http://creativecommons.org/publicdomain/mark/1.0/\">Creative Commons Public Domain Mark 1.0 License</a>.\n",
      "5.  Attribution 4.0 International (CC BY 4.0)\n",
      "6.  One year embargo\n",
      "7.  Licensed electronic resources are restricted to members of the MIT community and for the purposes of research, education, and scholarship.  Under MIT's licenses for electronic resources, users generally may not: - \n",
      "<p><ul><li>redistribute the materials or permit anyone other than a member of the MIT community to use them</li> <li>remove, obscure or modify any copyright or other notices included in the materials</li> <li>use the materials for commercial purposes.</li></ul> Users are individually responsible for compliance with these terms.</p>\n",
      "8.  Distribution of this dataset outside of this platform is prohibited\n",
      "9.  By downloading or otherwise accessing the Materials, <b>Downloader</b> represents their acceptance of the terms of this Agreement. Use of the Materials include but are not limited to viewing parts or the whole of the content included in the Materials; comparing data or content from the Materials with data or content in other Materials; verifying research results with the content included in the Materials; and extracting and/or appropriating any part of the content included in the Materials for use in other projects, publications, research, or other related work products.<br /><br />\n",
      "\n",
      "In Your use of the materials, <b>Downloader</b> represents that:<br />\n",
      "Downloader is not bound by any pre-existing legal obligations or other applicable laws that prevent Downloader from downloading or using the Materials;<br />\n",
      "Downloader will not use the Materials in any way prohibited by applicable laws;<br />\n",
      "Downloader has no knowledge of and will therefore not be responsible for any restrictions regarding the use of Materials beyond what is described in this Agreement; and<br />\n",
      "Downloader has no knowledge of and will therefore not be responsible for any inaccuracies and any other such problems with regards to the content of the Materials and the accompanying citation information.<br /><br />\n",
      "\n",
      "In your use of the materials, <b>Downloader</b> cannot:<br />\n",
      "obtain information from the Materials that results in Downloader or any third party(ies) directly or indirectly identifying any research subjects with the aid of other information acquired elsewhere;\n",
      "produce connections or links among the information included in User’s datasets (including information in the Materials), or between the information included in User’s datasets (including information in the Materials) and other third-party information that could be used to identify any individuals or organizations, not limited to research subjects; and\n",
      "extract information from the Materials that could aid Downloader in gaining knowledge about or obtaining any means of contacting any subjects already known to Downloader.\n",
      "\n",
      "10.  All files will be available under  \"CC0 public domain dedication,\" once article is accepted for publication\n",
      "11.  This database (Electromechanical impedance measurements using the Analog Devices AD5933) is made available under the Open Database License: http://opendatacommons.org/licenses/odbl/1.0/. Any rights in individual contents of the database are licensed under the Database Contents License: http://opendatacommons.org/licenses/dbcl/1.0/ - \n",
      " - \n",
      "\n",
      "12.  data can only be used for replication, not for new research\n",
      "13.  Please cite original sources, I have just compiled data from:\n",
      "Global Entrepreneurship Monitor\n",
      "World Bank\n",
      "Fraser Institute\n",
      "14.  <h1> IFPRI  DATAVERSE TERMS OF USE </h1>  - \n",
      "By using this website and any of the materials made available through it, you agree to abide by the Terms of Use of IFPRI Dataverse. The datasets and documents in this study are licensed under <a rel=\"license\" href=\"http://creativecommons.org/licenses/by/4.0/\"><img alt=\"Creative Commons License\" style=\"border-width:0\" src=\"https://i.creativecommons.org/l/by/4.0/88x31.png\" /></a><br />This work is licensed under a <a rel=\"license\" href=\"http://creativecommons.org/licenses/by/4.0/\">Creative Commons Attribution 4.0 International License</a>.\n",
      "15. \n",
      "16.  The datasets archived on this site are contributed by individual scientists and institutes and have been quality-controlled by the site investigators. In most cases, the data have been published in peer-reviewed journals. To encourage data-mining collaboration, we ask that prior to data downloading you email the site investigators your intent on how you may use their data. We adopt the data use policy of FLUXNET for SWVID: “Inform the scientist(s) who contributed the data of how [you] plan to use the data and of any publication plans. Initiate contact with the data contributor, so that they have the opportunity to contribute substantively and as a result to be a co-author” (see https://fluxnet.fluxdata.org/data/data-policy/). Data users and data contributors are encouraged to adhere to this policy.  - \n",
      " - \n",
      "\tUsers should acknowledge the data by citing the relevant DOI or papers, and the sources of funding that supported the site operation. If the data download is not accompanied by the preferred acknowledgment language, ask the site principal investigator for clarification. If a scientist wishes to contribute their data to the database, it is understood that their data will be made available to the global community under the data use policy stated above.\n"
     ]
    }
   ],
   "source": [
    "# Let's see what's in these custom licenses\n",
    "termsOfUseList = pd.unique(datasetsWithCC0CustomDF['terms_of_use'])\n",
    "print(f'Count of unique \"terms of use\" strings that include CC0: {len(termsOfUseList)}')\n",
    "count = 0\n",
    "for terms in termsOfUseList:\n",
    "    # Let's remove the boiler plate message so it's easier to see what the \"additional/modified terms and conditions\" are\n",
    "    terms = terms.replace('This dataset is made available under a Creative Commons CC0 license with the following additional/modified terms and conditions:', '')\n",
    "    count += 1\n",
    "    print(f'{count}. {terms}')"
   ],
   "metadata": {
    "collapsed": false,
    "pycharm": {
     "name": "#%%\n"
    }
   }
  },
  {
   "cell_type": "markdown",
   "source": [
    "It looks like the only standard license mentioned in this list of custom licenses is the CC BY 4.0 license.\n",
    "\n",
    "While we're interested here only in seeing which other standard licenses are included in these \"custom terms\", let's note some issues from this list of 16 \"custom licenses\" with how terms of use metadata have been recorded:\n",
    "- In the first term in the list, it looks like there are cases where the \"custom\" parts of some datasets' terms of use are actually just CC0 waivers. We should probably see which datasets these are and if they can be updated to have only a CC0 waiver (and not a custom license)\n",
    "- The second term in the list is blank. So the custom license reads that \"This dataset is made available under a Creative Commons CC0 license with the following additional/modified terms and conditions:\" but nothing follows colon. We should probably see which datasets these are. It's possible that they can also be updated to have only a CC0 waiver (and not a custom license).\n",
    "- Some of the other terms in the list include a CC BY 4.0 license or language that might conflict with the CC0 waiver. While the Harvard Dataverse Repository isn't obligated to make sure that terms applied to deposits make sense, this should be looked into.\n",
    "\n",
    "Now let's look at datasets that have something entered in their Terms of Use fields but don't have a CC0 waiver."
   ],
   "metadata": {
    "collapsed": false,
    "pycharm": {
     "name": "#%% md\n"
    }
   }
  },
  {
   "cell_type": "code",
   "execution_count": 71,
   "outputs": [
    {
     "name": "stdout",
     "output_type": "stream",
     "text": [
      "Count of datasets whose latest versions have custom licenses and no CC0 waivers: 31205\n"
     ]
    }
   ],
   "source": [
    "latestversion_licenseAndBasicMetadataDF = latestversion_licenseAndBasicMetadataDF.replace(np.nan, 'NONE')\n",
    "\n",
    "# Create a dataframe containing the datasets whose latest versions have custom licenses and no CC0 waivers\n",
    "datasetsWithCustomLicenseDF = (latestversion_licenseAndBasicMetadataDF\n",
    "                       .query('license_name == \"NONE\" and terms_of_use != \"NONE\" and ~terms_of_use.str.contains(\"This dataset is made available under a Creative Commons CC0 license with the following additional/modified terms and conditions\") and terms_of_use != \"This dataset is made available without information on how it can be used. You should communicate with the Contact(s) specified before use.\"')\n",
    "                     .reset_index(drop=True, inplace=False)\n",
    "                     )\n",
    "print(f'Count of datasets whose latest versions have custom licenses and no CC0 waivers: {len(datasetsWithCustomLicenseDF)}')"
   ],
   "metadata": {
    "collapsed": false,
    "pycharm": {
     "name": "#%%\n"
    }
   }
  },
  {
   "cell_type": "code",
   "execution_count": 72,
   "outputs": [],
   "source": [
    "# For each of these datasets, in order to determine which standard licenses might be mentioned in any of their Terms of Use or Terms of Access fields, let's create a new column that's a concatenation of what's entered in all of the Terms fields\n",
    "termsColumns = [\n",
    "    'terms_of_use',\n",
    "    'confidentiality_declaration',\n",
    "    'special_permissions',\n",
    "    'restrictions',\n",
    "    'citation_requirements',\n",
    "    'depositor_requirements',\n",
    "    'conditions',\n",
    "    'disclaimer',\n",
    "    'terms_of_access',\n",
    "    'data_access_place',\n",
    "    'original_archive',\n",
    "    'availability_status',\n",
    "    'contact_for_access',\n",
    "    'size_of_collection',\n",
    "    'study_completion'\n",
    "]\n",
    "datasetsWithCustomLicenseDF['combined_terms'] = datasetsWithCustomLicenseDF[termsColumns].apply(lambda row: ' | '.join(row.values.astype(str)), axis=1)\n",
    "datasetsWithCustomLicenseDF = datasetsWithCustomLicenseDF.replace('\\r', ' ').replace('\\n', '')"
   ],
   "metadata": {
    "collapsed": false,
    "pycharm": {
     "name": "#%%\n"
    }
   }
  },
  {
   "cell_type": "code",
   "execution_count": null,
   "outputs": [],
   "source": [
    "datasetsWithCustomLicenseDF.info()"
   ],
   "metadata": {
    "collapsed": false,
    "pycharm": {
     "name": "#%%\n",
     "is_executing": true
    }
   }
  },
  {
   "cell_type": "code",
   "execution_count": 63,
   "outputs": [],
   "source": [
    "# Get license info from SPDX's list of licenses\n",
    "# spdxDataUrl = 'https://raw.githubusercontent.com/spdx/license-list-data/master/json/licenses.json'\n",
    "# response = requests.get(spdxDataUrl)\n",
    "# spdxData = response.json()\n",
    "\n",
    "# licenseNames = []\n",
    "# for license in spdxData['licenses']:\n",
    "#     reference = license['reference']\n",
    "#     name = license['name']\n",
    "#     licenseNames.append(name)\n",
    "#     licenseId = license['licenseId']\n",
    "#     seeAlso = license['seeAlso']\n",
    "#\n",
    "# print(licenseNames)\n"
   ],
   "metadata": {
    "collapsed": false,
    "pycharm": {
     "name": "#%%\n"
    }
   }
  },
  {
   "cell_type": "code",
   "execution_count": 81,
   "outputs": [
    {
     "name": "stdout",
     "output_type": "stream",
     "text": [
      "2418\n"
     ]
    }
   ],
   "source": [
    "# Let's get a unique list of what's been entered in these Terms fields. Then we can extract the Creative Commons URLs from the list to see which Creative Commons licenses have been used\n",
    "customMetadataList = list(set(datasetsWithCustomLicenseDF['combined_terms'].tolist()))\n",
    "\n",
    "# Remove the \"| NONE\" entries from each item in the list\n",
    "newList = []\n",
    "for metadata in customMetadataList:\n",
    "    metadata = metadata.replace(' | NONE', '')\n",
    "    newList.append(metadata)\n",
    "customMetadataList = newList\n",
    "\n",
    "# Count items in the list\n",
    "print(len(customMetadataList))"
   ],
   "metadata": {
    "collapsed": false,
    "pycharm": {
     "name": "#%%\n"
    }
   }
  },
  {
   "cell_type": "code",
   "execution_count": 115,
   "outputs": [],
   "source": [
    "# For each item in the customMetadataList, use regex to extract any Creative Commons URLs\n",
    "urlsList = []\n",
    "regex = r\"(?i)\\b((?:https?://creativecommons|www\\d{0,3}[.]|[a-z0-9.\\-]+[.][a-z]{2,4}/)(?:[^\\s()<>]+|\\(([^\\s()<>]+|(\\([^\\s()<>]+\\)))*\\))+(?:\\(([^\\s()<>]+|(\\([^\\s()<>]+\\)))*\\)|[^\\s`!()\\[\\]{};:'\\\".,<>?«»“”‘’]))\"\n",
    "for metadata in customMetadataList:\n",
    "    urls = re.search(regex, metadata)\n",
    "    if urls is not None:\n",
    "        urlsList.append(urls.group())\n",
    "\n",
    "creativeCommonsUrlsList = []\n",
    "for i in urlsList:\n",
    "    if 'creativecommons.org/licenses' in i:\n",
    "        creativeCommonsUrlsList.append(i)\n",
    "\n",
    "# Deduplicate list\n",
    "creativeCommonsUrlsList = list(set(creativeCommonsUrlsList))\n",
    "\n",
    "# Export list to a txt file\n",
    "with open('list_of_license_urls.txt', 'w') as f:\n",
    "    for url in creativeCommonsUrlsList:\n",
    "        f.write(f'{url}\\n')\n"
   ],
   "metadata": {
    "collapsed": false,
    "pycharm": {
     "name": "#%%\n"
    }
   }
  },
  {
   "cell_type": "code",
   "execution_count": 18,
   "outputs": [],
   "source": [
    "datasetsWithCustomLicense.to_csv('/Users/juliangautier/Desktop/datasetsWithCustomLicense.csv', index=False)"
   ],
   "metadata": {
    "collapsed": false,
    "pycharm": {
     "name": "#%%\n"
    }
   }
  },
  {
   "cell_type": "code",
   "execution_count": null,
   "outputs": [],
   "source": [],
   "metadata": {
    "collapsed": false,
    "pycharm": {
     "name": "#%%\n"
    }
   }
  }
 ],
 "metadata": {
  "kernelspec": {
   "display_name": "Python 3",
   "language": "python",
   "name": "python3"
  },
  "language_info": {
   "codemirror_mode": {
    "name": "ipython",
    "version": 2
   },
   "file_extension": ".py",
   "mimetype": "text/x-python",
   "name": "python",
   "nbconvert_exporter": "python",
   "pygments_lexer": "ipython2",
   "version": "2.7.6"
  }
 },
 "nbformat": 4,
 "nbformat_minor": 0
}