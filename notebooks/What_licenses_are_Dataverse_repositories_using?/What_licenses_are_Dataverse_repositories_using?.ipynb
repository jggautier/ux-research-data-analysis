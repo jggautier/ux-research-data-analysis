{
 "cells": [
  {
   "cell_type": "code",
   "execution_count": 20,
   "metadata": {
    "collapsed": true
   },
   "outputs": [],
   "source": [
    "import numpy as np\n",
    "from numpy import nan\n",
    "import pandas as pd\n",
    "import re\n",
    "import requests\n",
    "import htmlmin"
   ]
  },
  {
   "cell_type": "code",
   "execution_count": 2,
   "outputs": [],
   "source": [
    "def to_str(item):\n",
    "    return str(item)"
   ],
   "metadata": {
    "collapsed": false,
    "pycharm": {
     "name": "#%%\n"
    }
   }
  },
  {
   "cell_type": "code",
   "execution_count": 3,
   "outputs": [
    {
     "data": {
      "text/plain": "              dataset_pid                     dataset_pid_url  \\\n0  doi:10.7910/DVN/5PRYPC  https://doi.org/10.7910/DVN/5PRYPC   \n1   doi:10.7910/DVN/VIE1H   https://doi.org/10.7910/DVN/VIE1H   \n2  doi:10.7910/DVN/KKUJWW  https://doi.org/10.7910/DVN/KKUJWW   \n3  doi:10.7910/DVN/5E6GBN  https://doi.org/10.7910/DVN/5E6GBN   \n4  doi:10.7910/DVN/9MKISZ  https://doi.org/10.7910/DVN/9MKISZ   \n\n  dataset_version_number license_name  \\\n0                    4.0      CC0 1.0   \n1                  248.0                \n2                    1.0      CC0 1.0   \n3                    1.2      CC0 1.0   \n4                   10.0      CC0 1.0   \n\n                                        license_uri terms_of_use  \\\n0  http://creativecommons.org/publicdomain/zero/1.0                \n1                                                                  \n2  http://creativecommons.org/publicdomain/zero/1.0                \n3  http://creativecommons.org/publicdomain/zero/1.0                \n4  http://creativecommons.org/publicdomain/zero/1.0                \n\n  confidentiality_declaration special_permissions restrictions  \\\n0                                                                \n1                                                                \n2                                                                \n3                                                                \n4                                                                \n\n  citation_requirements depositor_requirements conditions disclaimer  \\\n0                                                                      \n1                                                                      \n2                                                                      \n3                                                                      \n4                                                                      \n\n  terms_of_access data_access_place original_archive availability_status  \\\n0                                                                          \n1                                                                          \n2                                                                          \n3                                                                          \n4                                                                          \n\n  contact_for_access size_of_collection study_completion  \n0                                                         \n1                                                         \n2                                                         \n3                                                         \n4                                                         ",
      "text/html": "<div><div id=7aae19fc-a22b-40e8-be8b-1dffe27b4ecd style=\"display:none; background-color:#9D6CFF; color:white; width:200px; height:30px; padding-left:5px; border-radius:4px; flex-direction:row; justify-content:space-around; align-items:center;\" onmouseover=\"this.style.backgroundColor='#BA9BF8'\" onmouseout=\"this.style.backgroundColor='#9D6CFF'\" onclick=\"window.commands?.execute('create-mitosheet-from-dataframe-output');\">See Full Dataframe in Mito</div> <script> if (window.commands.hasCommand('create-mitosheet-from-dataframe-output')) document.getElementById('7aae19fc-a22b-40e8-be8b-1dffe27b4ecd').style.display = 'flex' </script> <table border=\"1\" class=\"dataframe\">\n  <thead>\n    <tr style=\"text-align: right;\">\n      <th></th>\n      <th>dataset_pid</th>\n      <th>dataset_pid_url</th>\n      <th>dataset_version_number</th>\n      <th>license_name</th>\n      <th>license_uri</th>\n      <th>terms_of_use</th>\n      <th>confidentiality_declaration</th>\n      <th>special_permissions</th>\n      <th>restrictions</th>\n      <th>citation_requirements</th>\n      <th>depositor_requirements</th>\n      <th>conditions</th>\n      <th>disclaimer</th>\n      <th>terms_of_access</th>\n      <th>data_access_place</th>\n      <th>original_archive</th>\n      <th>availability_status</th>\n      <th>contact_for_access</th>\n      <th>size_of_collection</th>\n      <th>study_completion</th>\n    </tr>\n  </thead>\n  <tbody>\n    <tr>\n      <th>0</th>\n      <td>doi:10.7910/DVN/5PRYPC</td>\n      <td>https://doi.org/10.7910/DVN/5PRYPC</td>\n      <td>4.0</td>\n      <td>CC0 1.0</td>\n      <td>http://creativecommons.org/publicdomain/zero/1.0</td>\n      <td></td>\n      <td></td>\n      <td></td>\n      <td></td>\n      <td></td>\n      <td></td>\n      <td></td>\n      <td></td>\n      <td></td>\n      <td></td>\n      <td></td>\n      <td></td>\n      <td></td>\n      <td></td>\n      <td></td>\n    </tr>\n    <tr>\n      <th>1</th>\n      <td>doi:10.7910/DVN/VIE1H</td>\n      <td>https://doi.org/10.7910/DVN/VIE1H</td>\n      <td>248.0</td>\n      <td></td>\n      <td></td>\n      <td></td>\n      <td></td>\n      <td></td>\n      <td></td>\n      <td></td>\n      <td></td>\n      <td></td>\n      <td></td>\n      <td></td>\n      <td></td>\n      <td></td>\n      <td></td>\n      <td></td>\n      <td></td>\n      <td></td>\n    </tr>\n    <tr>\n      <th>2</th>\n      <td>doi:10.7910/DVN/KKUJWW</td>\n      <td>https://doi.org/10.7910/DVN/KKUJWW</td>\n      <td>1.0</td>\n      <td>CC0 1.0</td>\n      <td>http://creativecommons.org/publicdomain/zero/1.0</td>\n      <td></td>\n      <td></td>\n      <td></td>\n      <td></td>\n      <td></td>\n      <td></td>\n      <td></td>\n      <td></td>\n      <td></td>\n      <td></td>\n      <td></td>\n      <td></td>\n      <td></td>\n      <td></td>\n      <td></td>\n    </tr>\n    <tr>\n      <th>3</th>\n      <td>doi:10.7910/DVN/5E6GBN</td>\n      <td>https://doi.org/10.7910/DVN/5E6GBN</td>\n      <td>1.2</td>\n      <td>CC0 1.0</td>\n      <td>http://creativecommons.org/publicdomain/zero/1.0</td>\n      <td></td>\n      <td></td>\n      <td></td>\n      <td></td>\n      <td></td>\n      <td></td>\n      <td></td>\n      <td></td>\n      <td></td>\n      <td></td>\n      <td></td>\n      <td></td>\n      <td></td>\n      <td></td>\n      <td></td>\n    </tr>\n    <tr>\n      <th>4</th>\n      <td>doi:10.7910/DVN/9MKISZ</td>\n      <td>https://doi.org/10.7910/DVN/9MKISZ</td>\n      <td>10.0</td>\n      <td>CC0 1.0</td>\n      <td>http://creativecommons.org/publicdomain/zero/1.0</td>\n      <td></td>\n      <td></td>\n      <td></td>\n      <td></td>\n      <td></td>\n      <td></td>\n      <td></td>\n      <td></td>\n      <td></td>\n      <td></td>\n      <td></td>\n      <td></td>\n      <td></td>\n      <td></td>\n      <td></td>\n    </tr>\n  </tbody>\n</table></div>"
     },
     "execution_count": 3,
     "metadata": {},
     "output_type": "execute_result"
    }
   ],
   "source": [
    "licenseMetadataDF = pd.read_csv(\n",
    "    'licenses_and_terms_metadata_hdv_2022-10-03.csv',\n",
    "    sep=',', na_filter=False,\n",
    "    converters={'dataset_version_number': to_str})\n",
    "licenseMetadataDF.head()"
   ],
   "metadata": {
    "collapsed": false,
    "pycharm": {
     "name": "#%%\n"
    }
   }
  },
  {
   "cell_type": "code",
   "execution_count": 4,
   "outputs": [
    {
     "data": {
      "text/plain": "              dataset_pid                     dataset_pid_url  \\\n0  doi:10.7910/DVN/5PRYPC  https://doi.org/10.7910/DVN/5PRYPC   \n1   doi:10.7910/DVN/VIE1H   https://doi.org/10.7910/DVN/VIE1H   \n2  doi:10.7910/DVN/KKUJWW  https://doi.org/10.7910/DVN/KKUJWW   \n3  doi:10.7910/DVN/5E6GBN  https://doi.org/10.7910/DVN/5E6GBN   \n4  doi:10.7910/DVN/9MKISZ  https://doi.org/10.7910/DVN/9MKISZ   \n\n  dataset_version_number dataset_publication_date dataset_version_create_time  \\\n0                    4.0               2020-05-27   2020-06-17 23:49:50+00:00   \n1                  248.0               2015-02-11   2015-06-18 19:49:12+00:00   \n2                    1.0               2015-07-23   2015-07-15 00:57:41+00:00   \n3                    1.2               2020-04-05   2020-04-05 21:32:37+00:00   \n4                   10.0               2011-06-09   2013-01-29 23:42:10+00:00   \n\n  dataset_version_state          publisher  \n0              RELEASED  Harvard Dataverse  \n1              RELEASED  Harvard Dataverse  \n2              RELEASED  Harvard Dataverse  \n3              RELEASED  Harvard Dataverse  \n4              RELEASED  Harvard Dataverse  ",
      "text/html": "<div><div id=1f9b2eaa-02d0-4674-803a-a0fb30e06588 style=\"display:none; background-color:#9D6CFF; color:white; width:200px; height:30px; padding-left:5px; border-radius:4px; flex-direction:row; justify-content:space-around; align-items:center;\" onmouseover=\"this.style.backgroundColor='#BA9BF8'\" onmouseout=\"this.style.backgroundColor='#9D6CFF'\" onclick=\"window.commands?.execute('create-mitosheet-from-dataframe-output');\">See Full Dataframe in Mito</div> <script> if (window.commands.hasCommand('create-mitosheet-from-dataframe-output')) document.getElementById('1f9b2eaa-02d0-4674-803a-a0fb30e06588').style.display = 'flex' </script> <table border=\"1\" class=\"dataframe\">\n  <thead>\n    <tr style=\"text-align: right;\">\n      <th></th>\n      <th>dataset_pid</th>\n      <th>dataset_pid_url</th>\n      <th>dataset_version_number</th>\n      <th>dataset_publication_date</th>\n      <th>dataset_version_create_time</th>\n      <th>dataset_version_state</th>\n      <th>publisher</th>\n    </tr>\n  </thead>\n  <tbody>\n    <tr>\n      <th>0</th>\n      <td>doi:10.7910/DVN/5PRYPC</td>\n      <td>https://doi.org/10.7910/DVN/5PRYPC</td>\n      <td>4.0</td>\n      <td>2020-05-27</td>\n      <td>2020-06-17 23:49:50+00:00</td>\n      <td>RELEASED</td>\n      <td>Harvard Dataverse</td>\n    </tr>\n    <tr>\n      <th>1</th>\n      <td>doi:10.7910/DVN/VIE1H</td>\n      <td>https://doi.org/10.7910/DVN/VIE1H</td>\n      <td>248.0</td>\n      <td>2015-02-11</td>\n      <td>2015-06-18 19:49:12+00:00</td>\n      <td>RELEASED</td>\n      <td>Harvard Dataverse</td>\n    </tr>\n    <tr>\n      <th>2</th>\n      <td>doi:10.7910/DVN/KKUJWW</td>\n      <td>https://doi.org/10.7910/DVN/KKUJWW</td>\n      <td>1.0</td>\n      <td>2015-07-23</td>\n      <td>2015-07-15 00:57:41+00:00</td>\n      <td>RELEASED</td>\n      <td>Harvard Dataverse</td>\n    </tr>\n    <tr>\n      <th>3</th>\n      <td>doi:10.7910/DVN/5E6GBN</td>\n      <td>https://doi.org/10.7910/DVN/5E6GBN</td>\n      <td>1.2</td>\n      <td>2020-04-05</td>\n      <td>2020-04-05 21:32:37+00:00</td>\n      <td>RELEASED</td>\n      <td>Harvard Dataverse</td>\n    </tr>\n    <tr>\n      <th>4</th>\n      <td>doi:10.7910/DVN/9MKISZ</td>\n      <td>https://doi.org/10.7910/DVN/9MKISZ</td>\n      <td>10.0</td>\n      <td>2011-06-09</td>\n      <td>2013-01-29 23:42:10+00:00</td>\n      <td>RELEASED</td>\n      <td>Harvard Dataverse</td>\n    </tr>\n  </tbody>\n</table></div>"
     },
     "execution_count": 4,
     "metadata": {},
     "output_type": "execute_result"
    }
   ],
   "source": [
    "basicMetadataDF = pd.read_csv(\n",
    "    'basic_metadata_hdv_2022-10-03.csv',\n",
    "    sep=',', na_filter=False,\n",
    "    parse_dates=['dataset_publication_date', 'dataset_version_create_time'],\n",
    "    converters={'dataset_version_number': to_str})\n",
    "\n",
    "basicMetadataDF.head()"
   ],
   "metadata": {
    "collapsed": false,
    "pycharm": {
     "name": "#%%\n"
    }
   }
  },
  {
   "cell_type": "code",
   "execution_count": 5,
   "outputs": [
    {
     "name": "stdout",
     "output_type": "stream",
     "text": [
      "Number of dataset versions licenseMetadataDF: 130768\n",
      "Number of datasets in licenseMetadataDF: 80278\n",
      "\n",
      "Number of dataset versions in basicMetadataDF: 130768\n",
      "Number of datasets in basicMetadataDF: 80278\n"
     ]
    }
   ],
   "source": [
    "# Check data\n",
    "\n",
    "# Get the unique counts of datasets in the licenseMetadataDF and datasetsDF dataframes\n",
    "print('Number of dataset versions licenseMetadataDF: %s' %(len(licenseMetadataDF)))\n",
    "print('Number of datasets in licenseMetadataDF: %s' % (len(pd.unique(licenseMetadataDF['dataset_pid']))))\n",
    "\n",
    "print('\\nNumber of dataset versions in basicMetadataDF: %s' %(len(basicMetadataDF)))\n",
    "print('Number of datasets in basicMetadataDF: %s' % (len(pd.unique(basicMetadataDF['dataset_pid']))))"
   ],
   "metadata": {
    "collapsed": false,
    "pycharm": {
     "name": "#%%\n"
    }
   }
  },
  {
   "cell_type": "code",
   "execution_count": 6,
   "outputs": [
    {
     "name": "stdout",
     "output_type": "stream",
     "text": [
      "Datasets in datasetsInlicenseMetadataDFList: 80278\n",
      "Datasets in basicMetadataDF: 80278\n",
      "Number of datasets in one table and not the other: 0\n"
     ]
    }
   ],
   "source": [
    "# Make sure the two dataframes, allDatasetPIDsDF and basicMetadataDF, contain the datasets\n",
    "datasetsInlicenseMetadataDFList = set(licenseMetadataDF['dataset_pid'].tolist())\n",
    "datasetsInbasicMetadataDFList = set(basicMetadataDF['dataset_pid'].tolist())\n",
    "\n",
    "print(f'Datasets in datasetsInlicenseMetadataDFList: {len(datasetsInlicenseMetadataDFList)}')\n",
    "print(f'Datasets in basicMetadataDF: {len(datasetsInbasicMetadataDFList)}')\n",
    "\n",
    "# Create list of dataset PIDs that exist in one list and not the other, if any\n",
    "difference = datasetsInlicenseMetadataDFList - datasetsInbasicMetadataDFList\n",
    "difference = list(difference)\n",
    "print(f'Number of datasets in one table and not the other: {len(difference)}')\n"
   ],
   "metadata": {
    "collapsed": false,
    "pycharm": {
     "name": "#%%\n"
    }
   }
  },
  {
   "cell_type": "code",
   "execution_count": 7,
   "outputs": [],
   "source": [
    "# Merge the two dataframes\n",
    "licenseAndBasicMetadataDF = pd.merge(\n",
    "    licenseMetadataDF, basicMetadataDF,\n",
    "    how='inner',\n",
    "    on=[\n",
    "        'dataset_pid',\n",
    "        'dataset_pid_url',\n",
    "        'dataset_version_number'])"
   ],
   "metadata": {
    "collapsed": false,
    "pycharm": {
     "name": "#%%\n"
    }
   }
  },
  {
   "cell_type": "code",
   "execution_count": 8,
   "outputs": [
    {
     "name": "stdout",
     "output_type": "stream",
     "text": [
      "Number of dataset versions in licenseAndBasicMetadataDF: 130768\n",
      "Number of datasets in licenseAndBasicMetadataDF: 80278\n"
     ]
    }
   ],
   "source": [
    "# Check count of unique datasets in the new mergedDF\n",
    "print(f'Number of dataset versions in licenseAndBasicMetadataDF: {len(licenseAndBasicMetadataDF)}')\n",
    "uniqueDatasetCount = len(pd.unique(licenseAndBasicMetadataDF['dataset_pid']))\n",
    "print(f'Number of datasets in licenseAndBasicMetadataDF: {uniqueDatasetCount}')"
   ],
   "metadata": {
    "collapsed": false,
    "pycharm": {
     "name": "#%%\n"
    }
   }
  },
  {
   "cell_type": "code",
   "execution_count": 11,
   "outputs": [
    {
     "name": "stdout",
     "output_type": "stream",
     "text": [
      "Count of pids in latestversion_mergedDF: 80278\n"
     ]
    }
   ],
   "source": [
    "# Create dataframe, licenseMetadataLatestVersionDF, that contains the license and terms metadata of only the latest\n",
    "# version of each dataset, using the latest version release time from the merged basicMetadataDF\n",
    "latestversion_licenseAndBasicMetadataDF = (licenseAndBasicMetadataDF\n",
    "                 .iloc[licenseAndBasicMetadataDF.groupby('dataset_pid')['dataset_version_create_time']\n",
    "                 .agg(pd.Series.idxmax)]\n",
    "                 .reset_index(drop=True, inplace=False))\n",
    "\n",
    "# Replace any blank values with NaN\n",
    "# latestversion_licenseAndBasicMetadataDF = latestversion_licenseAndBasicMetadataDF.replace(r'^\\s*$', np.nan, regex=True)\n",
    "\n",
    "# Remove dataset_version_state and publisher columns and reorder remaining columns\n",
    "latestversion_licenseAndBasicMetadataDF = latestversion_licenseAndBasicMetadataDF[[\n",
    "    'dataset_pid_url', 'dataset_publication_date', 'dataset_version_number', 'dataset_version_create_time', 'license_name', 'license_uri', 'terms_of_use', 'confidentiality_declaration', 'special_permissions', 'restrictions', 'citation_requirements', 'depositor_requirements', 'conditions', 'disclaimer', 'terms_of_access', 'data_access_place', 'original_archive', 'availability_status', 'contact_for_access', 'size_of_collection', 'study_completion'\n",
    "]]\n",
    "\n",
    "print(f'Count of pids in latestversion_mergedDF: {len(latestversion_licenseAndBasicMetadataDF)}')\n"
   ],
   "metadata": {
    "collapsed": false,
    "pycharm": {
     "name": "#%%\n"
    }
   }
  },
  {
   "cell_type": "code",
   "execution_count": 12,
   "outputs": [
    {
     "name": "stdout",
     "output_type": "stream",
     "text": [
      "<class 'pandas.core.frame.DataFrame'>\n",
      "RangeIndex: 80278 entries, 0 to 80277\n",
      "Data columns (total 21 columns):\n",
      " #   Column                       Non-Null Count  Dtype              \n",
      "---  ------                       --------------  -----              \n",
      " 0   dataset_pid_url              80278 non-null  object             \n",
      " 1   dataset_publication_date     80278 non-null  datetime64[ns]     \n",
      " 2   dataset_version_number       80278 non-null  object             \n",
      " 3   dataset_version_create_time  80278 non-null  datetime64[ns, UTC]\n",
      " 4   license_name                 80278 non-null  object             \n",
      " 5   license_uri                  80278 non-null  object             \n",
      " 6   terms_of_use                 80278 non-null  object             \n",
      " 7   confidentiality_declaration  80278 non-null  object             \n",
      " 8   special_permissions          80278 non-null  object             \n",
      " 9   restrictions                 80278 non-null  object             \n",
      " 10  citation_requirements        80278 non-null  object             \n",
      " 11  depositor_requirements       80278 non-null  object             \n",
      " 12  conditions                   80278 non-null  object             \n",
      " 13  disclaimer                   80278 non-null  object             \n",
      " 14  terms_of_access              80278 non-null  object             \n",
      " 15  data_access_place            80278 non-null  object             \n",
      " 16  original_archive             80278 non-null  object             \n",
      " 17  availability_status          80278 non-null  object             \n",
      " 18  contact_for_access           80278 non-null  object             \n",
      " 19  size_of_collection           80278 non-null  object             \n",
      " 20  study_completion             80278 non-null  object             \n",
      "dtypes: datetime64[ns, UTC](1), datetime64[ns](1), object(19)\n",
      "memory usage: 12.9+ MB\n"
     ]
    }
   ],
   "source": [
    "# Let's make sure each column is the object type we want. Everything should be a string except for the two date columns.\n",
    "latestversion_licenseAndBasicMetadataDF.info()"
   ],
   "metadata": {
    "collapsed": false,
    "pycharm": {
     "name": "#%%\n"
    }
   }
  },
  {
   "cell_type": "markdown",
   "source": [
    "Now that we have the data we need, let's answer our question:\n",
    "- Which standard licences have depositors entered into the Terms fields?\n",
    "\n",
    "As part of the Dataverse software's multiple license update:\n",
    "1. If a dataset has a CC0 waiver and nothing entered in any of its \"Terms of Use\" fields, the dataset is considered to have a \"standard\" CC0 license, and the metadata of those datasets, the \"license_name\" field has \"CC0\".\n",
    "2. If a dataset has a CC0 waiver and anything entered in any of its \"Terms of Use\" fields, the dataset is considered to have a custom license, where \"This dataset is made available under a Creative Commons CC0 license with the following additional/modified terms and conditions:\" is entered in the Terms of Use field, followed by whatever text was entered in any of the \"Terms of Use\" fields.\n",
    "3. If the dataset does not have a CC0 waiver and anything entered in any of its \"Terms of Use\" fields, the dataset is considered to have a custom license, where what's   in any of the \"Terms of Use\" fields makes us the custom license.\n",
    "4. If the CC0 waiver is not applied to the dataset and nothing is entered in any of the Terms of Use fields, the text \"This dataset is made available without information on how it can be used. You should communicate with the Contact(s) specified before use.\" was entered in the Terms of Use field\n",
    "\n",
    "To find datasets with \"custom licenses\", we want to find datasets that match the second or third conditions."
   ],
   "metadata": {
    "collapsed": false,
    "pycharm": {
     "name": "#%% md\n"
    }
   }
  },
  {
   "cell_type": "markdown",
   "source": [],
   "metadata": {
    "collapsed": false,
    "pycharm": {
     "name": "#%% md\n"
    }
   }
  },
  {
   "cell_type": "code",
   "execution_count": 17,
   "outputs": [
    {
     "name": "stdout",
     "output_type": "stream",
     "text": [
      "<class 'pandas.core.frame.DataFrame'>\n",
      "RangeIndex: 32645 entries, 0 to 32644\n",
      "Data columns (total 21 columns):\n",
      " #   Column                       Non-Null Count  Dtype              \n",
      "---  ------                       --------------  -----              \n",
      " 0   dataset_pid_url              32645 non-null  object             \n",
      " 1   dataset_publication_date     32645 non-null  datetime64[ns]     \n",
      " 2   dataset_version_number       32645 non-null  object             \n",
      " 3   dataset_version_create_time  32645 non-null  datetime64[ns, UTC]\n",
      " 4   license_name                 32645 non-null  object             \n",
      " 5   license_uri                  32645 non-null  object             \n",
      " 6   terms_of_use                 32645 non-null  object             \n",
      " 7   confidentiality_declaration  32645 non-null  object             \n",
      " 8   special_permissions          32645 non-null  object             \n",
      " 9   restrictions                 32645 non-null  object             \n",
      " 10  citation_requirements        32645 non-null  object             \n",
      " 11  depositor_requirements       32645 non-null  object             \n",
      " 12  conditions                   32645 non-null  object             \n",
      " 13  disclaimer                   32645 non-null  object             \n",
      " 14  terms_of_access              32645 non-null  object             \n",
      " 15  data_access_place            32645 non-null  object             \n",
      " 16  original_archive             32645 non-null  object             \n",
      " 17  availability_status          32645 non-null  object             \n",
      " 18  contact_for_access           32645 non-null  object             \n",
      " 19  size_of_collection           32645 non-null  object             \n",
      " 20  study_completion             32645 non-null  object             \n",
      "dtypes: datetime64[ns, UTC](1), datetime64[ns](1), object(19)\n",
      "memory usage: 5.2+ MB\n"
     ]
    }
   ],
   "source": [
    "datasetsWithCustomLicense = (latestversion_licenseAndBasicMetadataDF\n",
    "                     .query('license_name == \"\" and terms_of_use != \"This dataset is made available without information on how it can be used. You should communicate with the Contact(s) specified before use.\"')\n",
    "                     .reset_index(drop=True, inplace=False)\n",
    "                     )\n",
    "\n",
    "datasetsWithCustomLicense.info()"
   ],
   "metadata": {
    "collapsed": false,
    "pycharm": {
     "name": "#%%\n"
    }
   }
  },
  {
   "cell_type": "code",
   "execution_count": 25,
   "outputs": [
    {
     "name": "stdout",
     "output_type": "stream",
     "text": [
      "<class 'pandas.core.frame.DataFrame'>\n",
      "RangeIndex: 32645 entries, 0 to 32644\n",
      "Data columns (total 22 columns):\n",
      " #   Column                       Non-Null Count  Dtype              \n",
      "---  ------                       --------------  -----              \n",
      " 0   dataset_pid_url              32645 non-null  object             \n",
      " 1   dataset_publication_date     32645 non-null  datetime64[ns]     \n",
      " 2   dataset_version_number       32645 non-null  object             \n",
      " 3   dataset_version_create_time  32645 non-null  datetime64[ns, UTC]\n",
      " 4   license_name                 32645 non-null  object             \n",
      " 5   license_uri                  32645 non-null  object             \n",
      " 6   terms_of_use                 32645 non-null  object             \n",
      " 7   confidentiality_declaration  32645 non-null  object             \n",
      " 8   special_permissions          32645 non-null  object             \n",
      " 9   restrictions                 32645 non-null  object             \n",
      " 10  citation_requirements        32645 non-null  object             \n",
      " 11  depositor_requirements       32645 non-null  object             \n",
      " 12  conditions                   32645 non-null  object             \n",
      " 13  disclaimer                   32645 non-null  object             \n",
      " 14  terms_of_access              32645 non-null  object             \n",
      " 15  data_access_place            32645 non-null  object             \n",
      " 16  original_archive             32645 non-null  object             \n",
      " 17  availability_status          32645 non-null  object             \n",
      " 18  contact_for_access           32645 non-null  object             \n",
      " 19  size_of_collection           32645 non-null  object             \n",
      " 20  study_completion             32645 non-null  object             \n",
      " 21  combined_terms               32645 non-null  object             \n",
      "dtypes: datetime64[ns, UTC](1), datetime64[ns](1), object(20)\n",
      "memory usage: 5.5+ MB\n"
     ]
    }
   ],
   "source": [
    "# For each of these datasets, in order to determine which standard licenses might be mentioned in any of their Terms of Use or Terms of Access fields, let's create a new column that's a concatenation of what's entered in all of the Terms fields\n",
    "termsColumns = [\n",
    "    'terms_of_use',\n",
    "    'confidentiality_declaration',\n",
    "    'special_permissions',\n",
    "    'restrictions',\n",
    "    'citation_requirements',\n",
    "    'depositor_requirements',\n",
    "    'conditions',\n",
    "    'disclaimer',\n",
    "    'terms_of_access',\n",
    "    'data_access_place',\n",
    "    'original_archive',\n",
    "    'availability_status',\n",
    "    'contact_for_access',\n",
    "    'size_of_collection',\n",
    "    'study_completion'\n",
    "]\n",
    "datasetsWithCustomLicense['combined_terms'] = datasetsWithCustomLicense[termsColumns].apply(lambda row: ' '.join(row.values.astype(str)), axis=1)\n",
    "\n",
    "datasetsWithCustomLicense.info()"
   ],
   "metadata": {
    "collapsed": false,
    "pycharm": {
     "name": "#%%\n"
    }
   }
  },
  {
   "cell_type": "code",
   "execution_count": 54,
   "outputs": [
    {
     "name": "stdout",
     "output_type": "stream",
     "text": [
      "Number of unique strings entered in Terms fields: 2638\n"
     ]
    }
   ],
   "source": [
    "# Let's get the unique list of\n",
    "customMetadataList = list(set(datasetsWithCustomLicense['combined_terms'].tolist()))\n",
    "print(f'Number of unique strings entered in Terms fields: {len(customMetadataList)}')"
   ],
   "metadata": {
    "collapsed": false,
    "pycharm": {
     "name": "#%%\n"
    }
   }
  },
  {
   "cell_type": "code",
   "execution_count": 55,
   "outputs": [],
   "source": [
    "# Let's figure out which custom licenses are in these strings\n",
    "\n",
    "# Some of the things entered in the Terms fields are HTML. Let's remove the formatting so that it's faster to search through.\n",
    "for place, metadata in enumerate(customMetadataList):\n",
    "    metadata = htmlmin.minify(metadata, remove_empty_space=True)\n",
    "    customMetadataList[place] = metadata"
   ],
   "metadata": {
    "collapsed": false,
    "pycharm": {
     "name": "#%%\n"
    }
   }
  },
  {
   "cell_type": "code",
   "execution_count": 64,
   "outputs": [
    {
     "name": "stdout",
     "output_type": "stream",
     "text": [
      "Count of unique URLs: 225\n",
      "https://www.canvaslms.com/policies/api-policy\n",
      "https://dataverse.harvard.edu/file.xhtml?fileId=3102931&version=RELEASED&version=.1\n",
      "https://adsabs.harvard.edu/abs/2008ApJS..175..277D\n",
      "https://www.socio.com/teenpregnancydata.php\n",
      "https://dx.doi.org/10.7910/DVN/YZBRYX\n",
      "https://dx.doi.org/10.7910/DVN/28038\n",
      "https://afrobarometer.org/data/merged-round-6-data-36-countries-2016\n",
      "https://doi.org/10.7910/DVN/A8O38Mdoi/10.7910/DVN/A8O38M\n",
      "https://mediaproject.wesleyan.edu/dataaccess\n",
      "https://pcouncil.wufoo.com/forms/udaya-adolescent-survey-2018a19\n",
      "https://dx.doi.org/10.7910/DVN/25450\n",
      "https://ccafs.cgiar.org\n",
      "https://hdl.handle.net/1902.1/20796\n",
      "https://forms.gle/2bhAuMMVRSZyLVfF7\n",
      "www.jewishdatabank.org\n",
      "https://dss.princeton.edu/catalog/resource1825\n",
      "https://docs.cmv.io/en/latest/about/license\n",
      "https://dx.doi.org/10.7910/DVN/26086\n",
      "https://doi.org/10.7910/DVN/97Q2B8\n",
      "https://creativecommons.org/licenses/by-nc/4.0\n",
      "https://trec.nist.gov/data/reuters/ind_appl_reuters_v4.html\n",
      "https://www.gesis.org/eurobarometer-data-service/search-data-access/eb-trends-trendfiles/list-of-trends/life-satisf\n",
      "https://epub.prsgroup.com/products/icrg/researcher-dataset-icrg-t3b-political-risk\n",
      "https://fluxnet.fluxdata.org/data/data-policy\n",
      "https://open.canada.ca/en/open-government-licence-canada\n",
      "https://data.gov.tw/license#eng\n",
      "www.covid19-database.com\n",
      "https://opendatacommons.org/licenses/odbl/1.0\n",
      "https://creativecommons.org/licenses/by/4.0/deed.en\n",
      "https://doi.org/10.7910/DVN/FV5O1I\n",
      "https://oldorbis.bvdinfo.com\n",
      "wiki.creativecommons.org/Considerations_for_licensors\n",
      "https://go.pardot.com/l/857593/2021-09-15/3nqcv\n",
      "https://www.socio.com\n",
      "https://doi.org/10.1017/S002210901900019X\n",
      "https://sites.google.com/a/irri.org/oryza2000/contact-us\n",
      "https://www.gadm.org\n",
      "https://z.umn.edu/pgc-ack-policy\n",
      "https://scikit-learn.org/0.19/datasets/twenty_newsgroups.html\n",
      "https://www.disc.wisc.edu/archive/Nicaragua/index.html\n",
      "https://www.sipri.org/databases\n",
      "https://dx.doi.org/10.7910/DVN/27480\n",
      "https://doi.org/10.7910/DVN/TVXIEW\n",
      "https://doi.org/10.7910/DVN/AS5YNB\n",
      "https://creativecommons.org/licenses/by/4.0\n",
      "www.hispanictrends.org\n",
      "https://dbk.gesis.org/dbksearch/sdesc2.asp?no=5400\n",
      "https://dataverse.org/best-practices/data-citation\n",
      "https://www.pgc.umn.edu/guides/user-services/acknowledgement-policy\n",
      "https://www.countway.harvard.edu/chom/research-and-access\n",
      "https://pcouncil.wufoo.com/forms/rbpac48185fok6\n",
      "https://dx.doi.org/10.7910/DVN/26623\n",
      "https://creativecommons.org/licenses/by-nc-sa/3.0/us\n",
      "https://dx.doi.org/10.7910/DVN/KUSXJR\n",
      "https://doi.org/10.1371/journal.pone.0231866\n",
      "https://doi.org/10.1016/j.electstud.2005.04.001\n",
      "https://www.comifac.org/fr/content/projet-%C2%AB-beyond-timber-%C2%BB-au-del%C3%A0-du-bois-la-comifac-et-ses-partenaires-pr%C3%A9sentent-les\n",
      "https://censuslinkingproject.org\n",
      "https://best-practices.dataverse.org/data-citation\n",
      "https://smpl.is.tue.mpg.de\n",
      "https://infoweb.newsbank.com/apps/news\n",
      "https://creativecommons.org/licenses/by/2.5/it\n",
      "https://www.lidata.eu/data/QUANT/LiDA_KITI_0004_STUDY_01\n",
      "https://dx.doi.org/10.7910/DVN/JL16EW\n",
      "https://developer.twitter.com/en/developer-terms/agreement-and-policy#id34\n",
      "https://opendatacommons.org/licenses/by/1.0\n",
      "www.inequality.com\n",
      "https://psi.org/resources/research-metrics/publications/other-resource/data-request-form\n",
      "https://dx.doi.org/10.7910/DVN/RN40SP\n",
      "https://doi.org/10.1371/journal.pone.0201879\n",
      "https://thedata.org/citation\n",
      "https://www.sa.dk/en\n",
      "https://creativecommons.org/licenses/by/3.0/us\n",
      "https://ssdc.ucsd.edu/ssdc/browse/acknowledgement.html\n",
      "https://dx.doi.org/10.7910/DVN/BVPQFH\n",
      "https://ir.mit.edu/mitx-data-request-checklist\n",
      "https://dx.doi.org/10.7910/DVN/8M15D6\n",
      "https://elections.wisc.edu/wiscads\n",
      "https://doi.org/10.4232/1.13029\n",
      "https://www.march.es/ceacs/linz\n",
      "https://doi.org/10.7910/DVN/YAAV4X\n",
      "https://dx.doi.org/10.7910/DVN/WWBYML\n",
      "https://opendatacommons.org/licenses/odbl/1-0\n",
      "https://dataverse.harvard.edu/dataverse/redistrictingdatahub\n",
      "https://global.nielsen.com\n",
      "https://csr-sy.org/?id=600&sons=redirect&l=1&\n",
      "https://dataverse.harvard.edu/dataverse/Owsiak\n",
      "https://www.asianbarometer.org\n",
      "https://www.force11.org/datacitationprinciples\n",
      "https://psfaculty.ucdavis.edu/zmaoz/dyadmid.html\n",
      "https://doi.org/10.5194/essd-10-985-2018\n",
      "https://dataverse.harvard.edu/dataverse/nipn\n",
      "https://www.regionalmanifestosproject.com\n",
      "https://web.mit.edu/ir/mitx\n",
      "https://creativecommons.org/licenses/by-nc/4.0/legalcode\n",
      "https://corpus.byu.edu/full-text\n",
      "https://www.um.es/localmultidem\n",
      "https://sada-data.nrf.ac.za\n",
      "https://sada-data.nrf.ac.za/handle/10956/79\n",
      "https://data.vision.ee.ethz.ch/cvl/DIV2K\n",
      "https://doi.org/10.25490/a97f-egyk\n",
      "https://opendatacommons.org/licenses/odbl\n",
      "https://www.ars.usda.gov/Research/docs.htm?docid=16432\n",
      "https://docs.google.com/document/pub?id=1POd-pBMc5vDXAmxrpGjPLaCSDSWuxX6FLQgq5DhlUhM\n",
      "https://doi.org/10.3102/0013189X20909824\n",
      "https://sada-data.nrf.ac.za/handle/10956/40\n",
      "https://yugong.fudan.edu.cn\n",
      "https://creativecommons.org/licenses/by/4.0/deed\n",
      "https://orcid.org/0000-0002-0140-6614\n",
      "https://www.gnu.org/licenses/gpl-3.0.en.html\n",
      "https://hdl.handle.net/1902.1/21250\n",
      "https://kemri-wellcome.org/zp-content/uploads/2021/02/KWTRP_Dataverse_Data_Request_Form_2019.docx\n",
      "https://www.nature.com/articles/s41559-021-01656-0\n",
      "https://dx.doi.org/10.7910/DVN/MUOX19\n",
      "https://developer.twitter.com/en/developer-terms/agreement-and-policy.html\n",
      "https://opensource.org/licenses/MIT\n",
      "https://en.wikipedia.org\n",
      "https://ssl.isr.umich.edu/hrs\n",
      "https://best-practices.dataverse.org/harvard-policies/community-norms.html\n",
      "https://creativecommons.org/licenses/by/2.0\n",
      "https://forms.gle/zobtdF39uALoEdTp6\n",
      "https://dx.doi.org/10.1371/journal.pone.0086021\n",
      "https://static1.squarespace.com/static/556deb8ee4b08a534b8360e7/t/55fb26fee4b08358178cbcd4/1442522878190/EPIC+DATAVERSE+TERMS+OF+USE.jpg\n",
      "https://ricestat.irri.org/fhsd\n",
      "https://creativecommons.org/licenses/by-nc-sa/3.0/deed.en\n",
      "https://nam02.safelinks.protection.outlook.com/?url=http://creativecommons.org/licenses/by-nc-sa/3.0/&data=02%7C01%7Cmarie.alaghband%40knights.ucf.edu%7C2b35e4553b8c47ccc23008d7be2f98d1%7C5b16e18278b3412c919668342689eeb7%7C0%7C1%7C637186983942920684&sdata=smg5G0tTv2rMNxiBoN7bini3l8caBn6wXp6Nal/aGnM%3D&reserved=0\n",
      "https://www.crs.org/about/compliance/crs-responsible-data-values-principles\n",
      "https://www.som-project.eu\n",
      "https://drive.google.com/file/d/0B5ghu5Vrh0j7YTlSdTRxVUg0Tnc/view?usp=sharing\n",
      "https://lindat.mff.cuni.cz/repository/xmlui/page/licence-UD-1.2\n",
      "https://www.neighborhoodindicators.org/open-data-base-license\n",
      "https://creativecommons.org/licenses/by-nc/2.0\n",
      "https://apps.ohsu.edu/research/tech-portal/agreement/view/10/212836\n",
      "https://hdl.handle.net/1902.1/20804\n",
      "https://creativecommons.org/publicdomain/mark/1.0\n",
      "https://www.countway.harvard.edu/center-history-medicine/policies/reproduction\n",
      "https://www.necliberia.org\n",
      "https://dx.doi.org/10.1098/rspb.2016.0792\n",
      "https://www.za.uni-koeln.de\n",
      "https://scimaps.org\n",
      "https://creativecommons.org/licenses/by-sa/2.0\n",
      "https://doi.org/10.7910/DVN/OD6DVW\n",
      "https://adsabs.harvard.edu/abs/2007A%26A...466.1111G\n",
      "https://www.ifpri.org/cdmref/p15738coll2/id/133308/filename/133517.pdf\n",
      "https://i.creativecommons.org/l/by/3.0/88x31.png\n",
      "https://doi.org/10.1108/IJSSP-01-2021-0022\n",
      "https://www.destatis.de/jetspeed/portal/cms/Sites/destatis/Internet/DE/Content/Statistiken/WirtschaftsrechnungenZeitbudgets/EinkommensVerbrauchsstichproben/content75/SUFEinfuehrung,templateId=renderPrint.psml\n",
      "https://creativecommons.org/publicdomain/zero/1.0\n",
      "https://ess.nsd.uib.no\n",
      "https://forsbase.unil.ch/project/study-public-overview/13236/0\n",
      "https://dx.doi.org/10.7910/DVN/FA0QPM\n",
      "https://adsabs.harvard.edu/abs/2013PASA...30...44B\n",
      "https://www.library.hbs.edu/Forms/Diary-Study-Form\n",
      "https://doi.org/10.1016/j.gloenvcha.2021.102455\n",
      "https://doi.org/10.7910/DVN/TXKO19\n",
      "https://wrds-web.wharton.upenn.edu/wrds\n",
      "https://pcouncil.wufoo.com/forms/qk55ehv048g4b6\n",
      "https://www.gsi.uni-muenchen.de\n",
      "https://en.wikipedia.org/wiki/Wikipedia:Copyrights\n",
      "https://www.clio-online.de\n",
      "www.ub.uni-leipzig.de\n",
      "https://creativecommons.org/licenses/by/4.0/legalcode\n",
      "https://sada-data.nrf.ac.za/handle/10956/31\n",
      "https://dataverse.org/best-practices/sample-dua\n",
      "https://github.com/nwhite-math/small-GaPS\n",
      "https://doi.org/10.37016/mr-2020-91\n",
      "https://creativecommons.org/licenses/by-nc-sa/4.0\n",
      "https://doi.org/10.7910/DVN/4WOCWJ\n",
      "https://creativecommons.org/licenses/by-nc-nd/4.0\n",
      "https://schemas.microsoft.com/office/2004/12/omml\n",
      "https://www.gnu.org/licenses/gpl-3.0.txt\n",
      "https://obardi.hypotheses.org/526\n",
      "https://goo.gl/forms/muJtiDnuwhfAftQ83\n",
      "https://doi.org/10.1016/j.jqsrt.2020.106839\n",
      "www.twaweza.org\n",
      "https://creativecommons.org/licenses/by-sa/4.0/legalcode\n",
      "https://www.scb.se/en/services/guidance-for-researchers-and-universities\n",
      "https://creativecommons.org/licenses/by-sa/4.0\n",
      "https://case.law/api/#limits\n",
      "https://ssrn.com/abstract_id=3565233\n",
      "www.recessiontrends.org\n",
      "https://glenn.osu.edu/educational-governance/data/index.html\n",
      "https://paperswithcode.com/datasets/license\n",
      "https://creativecommons.org/licenses/by-nc/3.0\n",
      "https://dx.doi.org/10.7910/DVN/0R5WTU\n",
      "https://www.diw.de/en/soep\n",
      "https://creativecommons.org/licenses/by-nd/4.0\n",
      "https://doi.org/10.7910/DVN/8MPQGI\n",
      "https://www.ancientportsantiques.com/docs-pdf\n",
      "www.c-well.org\n",
      "https://www.psi.org/research/ethics-data-use-and-authorship/data-use-and-authorship\n",
      "https://purl.org/dc/terms\n",
      "https://ww2.usc.cuhk.edu.hk/Eng/AboutDCS.aspx\n",
      "https://doi.org/10.7910/DVN/V2FJEF\n",
      "https://www.openelections.net\n",
      "https://dx.doi.org/10.7910/DVN/AAWFK7\n",
      "https://pcouncil.wufoo.com/forms/application-for-data-use\n",
      "https://fsf.org\n",
      "https://thedata.org/citation/standard\n",
      "https://doi.org/10.1016/j.dib.2022.108330\n",
      "www.LapopSurveys.org\n",
      "https://www.fandom.com/licensing\n",
      "https://creativecommons.org/licenses/by-nc-nd/4.0/legalcode\n",
      "https://creativecommons.org/licenses/by-nc-sa/3.0\n",
      "https://www.census.gov/programs-surveys/household-pulse-survey/data.html\n",
      "https://hdl.handle.net/1902.1/20803\n",
      "https://doi.org/10.1111/1475-6765.12426\n",
      "https://doi.org/10.1007/s10618-018-0561-2\n",
      "https://creativecommons.org/licenses/by/3.0\n",
      "https://www.gnu.org/licenses/gpl.html\n",
      "https://www.vanderbilt.edu/lapop/raw-data.php\n",
      "www.coes.cl\n",
      "https://sada-data.nrf.ac.za/handle/10956/17\n",
      "https://doi.org/10.1016/j.ecolecon.2021.107236\n",
      "https://www.apache.org/licenses/LICENSE-2.0\n",
      "https://www.nnpcgroup.com\n",
      "https://doi.org/10.1080/01615440.2021.1937421\n",
      "https://pubs.acs.org/doi/suppl/10.1021/jf304986q\n",
      "www.ipums.org\n",
      "https://ora.ox.ac.uk\n",
      "https://dx.doi.org/10.7910/DVN/IABY1D\n",
      "https://neuroinformatics.harvard.edu/gsp\n",
      "https://researchdmr.com\n",
      "https://search.gesis.org/research_data/ZA3521\n",
      "https://doi.org/10.1007/s11558-021-09427-z\n"
     ]
    }
   ],
   "source": [
    "# There's probably a lot of variety in the ways that standard licenses are identified by name, but there might be more standardization in how they're identified by their URLs, so let's extract the URLs from this custom metadata\n",
    "urlsList = []\n",
    "regex = r\"(?i)\\b((?:https?://|www\\d{0,3}[.]|[a-z0-9.\\-]+[.][a-z]{2,4}/)(?:[^\\s()<>]+|\\(([^\\s()<>]+|(\\([^\\s()<>]+\\)))*\\))+(?:\\(([^\\s()<>]+|(\\([^\\s()<>]+\\)))*\\)|[^\\s`!()\\[\\]{};:'\\\".,<>?«»“”‘’]))\"\n",
    "\n",
    "for metadata in customMetadataList:\n",
    "    urls = re.search(regex, metadata)\n",
    "    if urls is not None:\n",
    "        # Try normalizing the URLs a bit more\n",
    "        urls = urls.group().replace('http://', 'https://').replace('%2F', '/').replace('%3A', ':')\n",
    "        urls = urls.rstrip('/')\n",
    "        urlsList.append(urls)\n",
    "\n",
    "# Deduplicate list of URLs\n",
    "urlsList = list(set(urlsList))\n",
    "print(f'Count of unique URLs: {len(urlsList)}')\n",
    "for url in urlsList:\n",
    "    print(url)"
   ],
   "metadata": {
    "collapsed": false,
    "pycharm": {
     "name": "#%%\n"
    }
   }
  },
  {
   "cell_type": "code",
   "execution_count": 65,
   "outputs": [
    {
     "name": "stdout",
     "output_type": "stream",
     "text": [
      "Count of Creative Commons URLs: 23\n",
      "https://creativecommons.org/licenses/by-nc-nd/4.0\n",
      "https://creativecommons.org/licenses/by-nc-nd/4.0/legalcode\n",
      "https://creativecommons.org/licenses/by-nc-sa/3.0\n",
      "https://creativecommons.org/licenses/by-nc-sa/3.0/deed.en\n",
      "https://creativecommons.org/licenses/by-nc-sa/3.0/us\n",
      "https://creativecommons.org/licenses/by-nc-sa/4.0\n",
      "https://creativecommons.org/licenses/by-nc/2.0\n",
      "https://creativecommons.org/licenses/by-nc/3.0\n",
      "https://creativecommons.org/licenses/by-nc/4.0\n",
      "https://creativecommons.org/licenses/by-nc/4.0/legalcode\n",
      "https://creativecommons.org/licenses/by-nd/4.0\n",
      "https://creativecommons.org/licenses/by-sa/2.0\n",
      "https://creativecommons.org/licenses/by-sa/4.0\n",
      "https://creativecommons.org/licenses/by-sa/4.0/legalcode\n",
      "https://creativecommons.org/licenses/by/2.0\n",
      "https://creativecommons.org/licenses/by/2.5/it\n",
      "https://creativecommons.org/licenses/by/3.0\n",
      "https://creativecommons.org/licenses/by/3.0/us\n",
      "https://creativecommons.org/licenses/by/4.0\n",
      "https://creativecommons.org/licenses/by/4.0/deed\n",
      "https://creativecommons.org/licenses/by/4.0/deed.en\n",
      "https://creativecommons.org/licenses/by/4.0/legalcode\n",
      "https://nam02.safelinks.protection.outlook.com/?url=http://creativecommons.org/licenses/by-nc-sa/3.0/&data=02%7C01%7Cmarie.alaghband%40knights.ucf.edu%7C2b35e4553b8c47ccc23008d7be2f98d1%7C5b16e18278b3412c919668342689eeb7%7C0%7C1%7C637186983942920684&sdata=smg5G0tTv2rMNxiBoN7bini3l8caBn6wXp6Nal/aGnM%3D&reserved=0\n"
     ]
    }
   ],
   "source": [
    "# Now we just need to find the URLs that point to licenses. This is should be easy for Creative Commons licenses:\n",
    "creativeCommonsUrls = []\n",
    "for url in urlsList:\n",
    "    if 'creativecommons.org/licenses' in url:\n",
    "        creativeCommonsUrls.append(url)\n",
    "creativeCommonsUrls.sort()\n",
    "print(f'Count of Creative Commons URLs: {len(creativeCommonsUrls)}')\n",
    "for url in creativeCommonsUrls:\n",
    "    print(url)"
   ],
   "metadata": {
    "collapsed": false,
    "pycharm": {
     "name": "#%%\n"
    }
   }
  },
  {
   "cell_type": "code",
   "execution_count": 66,
   "outputs": [
    {
     "name": "stdout",
     "output_type": "stream",
     "text": [
      "15\n",
      "https://creativecommons.org/licenses/by-sa/4.0\n",
      "https://creativecommons.org/licenses/by-sa/2.0\n",
      "https://creativecommons.org/licenses/by/4.0\n",
      "https://creativecommons.org/licenses/by-nc-sa/3.0\n",
      "https://creativecommons.org/licenses/by-nc/3.0\n",
      "https://creativecommons.org/licenses/by/2.5/it\n",
      "https://creativecommons.org/licenses/by/3.0/us\n",
      "https://creativecommons.org/licenses/by-nc/2.0\n",
      "https://creativecommons.org/licenses/by-nd/4.0\n",
      "https://creativecommons.org/licenses/by/2.0\n",
      "https://creativecommons.org/licenses/by-nc-nd/4.0\n",
      "https://creativecommons.org/licenses/by-nc-sa/4.0\n",
      "https://creativecommons.org/licenses/by-nc-sa/3.0/us\n",
      "https://creativecommons.org/licenses/by-nc/4.0\n",
      "https://creativecommons.org/licenses/by/3.0\n"
     ]
    }
   ],
   "source": [
    "# Looks like there are 23 unique URLs, but there might be some duplicates.\n",
    "# Some URLs end in \"/legalcode\", which are just the official text of the license. So let's remove that.\n",
    "# Some URLs end in \"/deed\" or \"/deed.en\". When those parts are removed from those URLs, they point to the same pages, so let's remove those, too.\n",
    "# And one URL seems to have been generated by Outlook. The license, BY-NC-SA 3.0, is already in the list, so let's remove that \"safelinks URL\n",
    "\n",
    "for place, url in enumerate(creativeCommonsUrls):\n",
    "    if '/legalcode' or '/deed' in url:\n",
    "        url = url.replace('/legalcode', '').replace('/deed.en', '').replace('/deed', '')\n",
    "        creativeCommonsUrls[place] = url\n",
    "    if 'safelinks' in url:\n",
    "        creativeCommonsUrls.pop(place)\n",
    "\n",
    "# Deduplicate the list\n",
    "creativeCommonsUrls = list(set(creativeCommonsUrls))\n",
    "\n",
    "print(len(creativeCommonsUrls))\n",
    "for url in creativeCommonsUrls:\n",
    "    print(url)"
   ],
   "metadata": {
    "collapsed": false,
    "pycharm": {
     "name": "#%%\n"
    }
   }
  },
  {
   "cell_type": "code",
   "execution_count": 67,
   "outputs": [
    {
     "name": "stdout",
     "output_type": "stream",
     "text": [
      "447\n"
     ]
    }
   ],
   "source": [
    "# What about URLs that point to different types of licenses? For that, lets see what URLs are in SPDX, which maintains structured information about standard licenses\n",
    "\n",
    "spdxDataUrl = 'https://raw.githubusercontent.com/spdx/license-list-data/master/json/licenses.json'\n",
    "response = requests.get(spdxDataUrl)\n",
    "spdxData = response.json()\n",
    "\n",
    "# Let's save the license information from this list, remove the Creative Commons licenses\n",
    "licenseDict = []\n",
    "for license in spdxData['licenses']:\n",
    "    if 'Creative Commons' not in license['name']:\n",
    "        # reference = license['reference']\n",
    "        name = license['name']\n",
    "        # licenseNames.append(name)\n",
    "        licenseId = license['licenseId']\n",
    "        seeAlso = license['seeAlso']\n",
    "        licenseDict.append(license)\n",
    "\n",
    "print(len(licenseDict))"
   ],
   "metadata": {
    "collapsed": false,
    "pycharm": {
     "name": "#%%\n"
    }
   }
  },
  {
   "cell_type": "markdown",
   "source": [
    "That's still a lot of licenses. Let's try to find the URLs of common types of licenses based on what licenses other Dataverse repositories are using. I've collected  this license information using the Dataverse API and sorted the licenses by type. Here's a list of the types of licenses and the license URLs for each.\n",
    "\n",
    "- Apache: https://www.apache.org/licenses\n",
    "- BSD: https://opensource.org/licenses\n",
    "- GNU: https://www.gnu.org/licenses\n",
    "- MIT: https://opensource.org/licenses/MIT\n",
    "- Mozilla: https://mozilla.org/MPL\n",
    "\n",
    "All of these licenses are meant to be applied to software. The Harvard Dataverse Repository requires that depositors always include data, and the recommended way to apply different licenses for different parts of a dataset, such as applying one license for the data files and one for software files, is to create a custom license,\n",
    "we should exclude licenses meant only for software.\n",
    "\n",
    "The Digital Curation Centre maintains a page at https://www.dcc.ac.uk/guidance/how-guides/license-research-data that describes two other tyeps of data licenses.\n",
    "\n",
    "Let's see if any of these licenses' URLs are in our list:\n",
    "- Open Data Commons: https://opendatacommons.org/licenses\n",
    "- Open Government Licence (OGL): https://www.nationalarchives.gov.uk/doc/open-government-licence\n"
   ],
   "metadata": {
    "collapsed": false,
    "pycharm": {
     "name": "#%% md\n"
    }
   }
  },
  {
   "cell_type": "code",
   "execution_count": 18,
   "outputs": [],
   "source": [],
   "metadata": {
    "collapsed": false,
    "pycharm": {
     "name": "#%%\n"
    }
   }
  },
  {
   "cell_type": "code",
   "execution_count": null,
   "outputs": [],
   "source": [],
   "metadata": {
    "collapsed": false,
    "pycharm": {
     "name": "#%%\n"
    }
   }
  }
 ],
 "metadata": {
  "kernelspec": {
   "display_name": "Python 3",
   "language": "python",
   "name": "python3"
  },
  "language_info": {
   "codemirror_mode": {
    "name": "ipython",
    "version": 2
   },
   "file_extension": ".py",
   "mimetype": "text/x-python",
   "name": "python",
   "nbconvert_exporter": "python",
   "pygments_lexer": "ipython2",
   "version": "2.7.6"
  }
 },
 "nbformat": 4,
 "nbformat_minor": 0
}