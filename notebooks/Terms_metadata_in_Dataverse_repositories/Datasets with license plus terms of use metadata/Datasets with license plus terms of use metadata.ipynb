{
 "cells": [
  {
   "cell_type": "markdown",
   "source": [
    "# Datasets with license plus terms of use metadata"
   ],
   "metadata": {
    "collapsed": false,
    "pycharm": {
     "name": "#%% md\n"
    }
   }
  },
  {
   "cell_type": "markdown",
   "source": [
    "Goals of this notebook"
   ],
   "metadata": {
    "collapsed": false,
    "pycharm": {
     "name": "#%% md\n"
    }
   }
  },
  {
   "cell_type": "markdown",
   "source": [
    "This notebook explores the \"Terms\" metadata of datasets in Dataverse installations in order to learn more about the effects of the \"multiple-license\" feature making its way to the Dataverse software (https://github.com/IQSS/dataverse/pull/7920). When applied to Dataverse installations, this update will change how depositors enter \"Terms\" metadata (metadata about how the data should or must be used). A goal of this update is to encourage the application of standard licenses to datasets in Dataverse repositories, which should make it easier for other people and discovery systems to determine how the data can and can't be used.\n",
    "\n",
    "For more information about the update, see the Multiple License Consensus Proposal ([Google Doc](https://docs.google.com/document/d/10htygglMdlABYWqtcZpqd8sHOwIe6sLL_UJtTv8NEKw)) and the following GitHub issues and pull request:\n",
    "\n",
    "- https://github.com/IQSS/dataverse/issues/7742\n",
    "- https://github.com/IQSS/dataverse/issues/7440\n",
    "- https://github.com/IQSS/dataverse/pull/7920\n",
    "\n",
    "As a result, this update might result in an increase in the share of dataset metadata published by Dataverse repositories that include information about how the data can be used, and an increase in the use of standardized Terms (such as with the application of Creative Commons licenses).\n",
    "\n",
    "Additionally, with this update any dataset metadata with values in any of the fields in the software's \"Terms of Use\" panel, such as Confidentiality Declaration and Special Permissions, will be considered \"Custom Terms,\" even when a CC0 waiver (or for some forked installations, a CCBY license) was applied.\n",
    "\n",
    "So the two questions we seek to answer are:\n",
    "- How much of the dataset metadata published by each Dataverse repository includes any information about how the data can be used? We can track how these numbers change over time and particularly after each repository applies this and similar updates, as a way to measure the success of these changes and justify them.\n",
    "- When installations apply these changes, which ones have published datasets whose Terms metadata will be considered \"Custom Terms\" because they have CC0 waivers (or, for some forked installations, CCBY licenses) plus any of the eight \"Terms of Use\" fields filled? And how many of these datasets has each installation published? We could use these numbers to get a sense of the scale of the change for each installation, and the numbers might encourage each installation to look into the effects of this change."
   ],
   "metadata": {
    "collapsed": false
   }
  },
  {
   "cell_type": "markdown",
   "source": [
    "## Methods"
   ],
   "metadata": {
    "collapsed": false,
    "pycharm": {
     "name": "#%% md\n"
    }
   }
  },
  {
   "cell_type": "markdown",
   "source": [
    "The Terms metadata published by 56 Dataverse installations (of the known 73) is recorded in the terms_metadata.tab file. That tabular file was created by:\n",
    "- Downloading all zip files in the dataset at https://doi.org/10.7910/DVN/DCDKZQ. That dataset contains the JSON metadata files collected between August 4 and August 7, 2021 using a Python script. The methods for getting this metadata are described in the dataset.\n",
    "- Using another Python script to extracting the JSON metadata files in each Zip file into a single directory.\n",
    "- Parsing the terms metadata of every JSON metadata file in that directory into a single CSV file using the [parse_terms_metadata.py](https://github.com/jggautier/dataverse_scripts/blob/main/get-dataverse-metadata/parse_metadata_fields/parse_terms_metadata.py) script in the https://github.com/jggautier/dataverse_scripts repository.\n",
    "- Parsing the value of each JSON files' \"publisher\" key, which indicates the installation that published the metadata in each JSON file, into a single CSV file using the [parse_basic_metadata.py](https://github.com/jggautier/dataverse_scripts/blob/main/get-dataverse-metadata/parse_metadata_fields/parse_basic_metadata.py) script in the https://github.com/jggautier/dataverse_scripts repository.\n",
    "- Joining both CSV files into a single CSV file that contains the persistent URLs, dataset version IDs, installation names (publishers), and Terms metadata for every published dataset version in 56, and converting that CSV file into a .tab file (so that it's easier to make this notebook accessible using the Dataverse software's [binder integration](https://guides.dataverse.org/en/5.7/admin/integrations.html?highlight=integrations#binder).\n",
    "\n",
    "This notebook uses the pandas and numpy Python packages to filter, reshape and visualize the data in the terms_metadata.tab file in order to help answer the two questions in the Goals section of this notebook."
   ],
   "metadata": {
    "collapsed": false
   }
  },
  {
   "cell_type": "markdown",
   "source": [
    "## Exploration"
   ],
   "metadata": {
    "collapsed": false,
    "pycharm": {
     "name": "#%% md\n"
    }
   }
  },
  {
   "cell_type": "code",
   "execution_count": 1,
   "metadata": {},
   "outputs": [],
   "source": [
    "# Import Python packages\n",
    "from functools import reduce\n",
    "import numpy as np\n",
    "import pandas as pd"
   ]
  },
  {
   "cell_type": "markdown",
   "source": [
    "### Importing and preparing the data"
   ],
   "metadata": {
    "collapsed": false,
    "pycharm": {
     "name": "#%% md\n"
    }
   }
  },
  {
   "cell_type": "code",
   "execution_count": 72,
   "metadata": {},
   "outputs": [],
   "source": [
    "# Import data as a dataframe\n",
    "allVersions = pd.read_csv('terms_metadata.tab', sep='\\t', na_filter = False)"
   ]
  },
  {
   "cell_type": "code",
   "execution_count": 73,
   "outputs": [
    {
     "data": {
      "text/plain": "   datasetVersionId                        persistentUrl  \\\n0            256773      https://doi.org/10.15454/GHAUFR   \n1             52619      https://doi.org/10.15454/TLXRVW   \n2            170336      https://doi.org/10.15454/CX70I3   \n3              1200  https://doi.org/10.21410/7E4/4WG94W   \n4            198147   https://doi.org/10.7910/DVN/5PRYPC   \n\n             persistent_id license  termsOfUse confidentialityDeclaration  \\\n0      doi:10.15454/GHAUFR    NONE   CC BY 2.0                              \n1      doi:10.15454/TLXRVW    NONE   CC BY 2.0                              \n2      doi:10.15454/CX70I3    NONE   CC BY 2.0                              \n3  doi:10.21410/7E4/4WG94W    NONE                                          \n4   doi:10.7910/DVN/5PRYPC     CC0  CC0 Waiver                              \n\n  specialPermissions restrictions citationRequirements depositorRequirements  \\\n0                                                                              \n1                                                                              \n2                                                                              \n3                                                                              \n4                                                                              \n\n   ... availabilityStatus contactForAccess sizeOfCollection studyCompletion  \\\n0  ...                                                                        \n1  ...                                                                        \n2  ...                                                                        \n3  ...                                                                        \n4  ...                                                                        \n\n  datasetPublicationDate     versionCreateTime versionState  \\\n0             2019-02-15  2019-09-18T22:00:00Z     RELEASED   \n1             2019-09-11  2018-09-12T03:19:24Z     RELEASED   \n2             2019-01-21  2019-01-21T10:54:41Z     RELEASED   \n3             2020-05-05  2020-05-13T16:06:28Z     RELEASED   \n4             2020-05-27  2020-06-17T23:49:50Z     RELEASED   \n\n  majorVersionNumber minorVersionNumber           publisher  \n0                  3                  0  Portail Data INRAE  \n1                  1                  0  Portail Data INRAE  \n2                  2                  0  Portail Data INRAE  \n3                  2                  1     data.sciencespo  \n4                  4                  0   Harvard Dataverse  \n\n[5 rows x 25 columns]",
      "text/html": "<div>\n<style scoped>\n    .dataframe tbody tr th:only-of-type {\n        vertical-align: middle;\n    }\n\n    .dataframe tbody tr th {\n        vertical-align: top;\n    }\n\n    .dataframe thead th {\n        text-align: right;\n    }\n</style>\n<table border=\"1\" class=\"dataframe\">\n  <thead>\n    <tr style=\"text-align: right;\">\n      <th></th>\n      <th>datasetVersionId</th>\n      <th>persistentUrl</th>\n      <th>persistent_id</th>\n      <th>license</th>\n      <th>termsOfUse</th>\n      <th>confidentialityDeclaration</th>\n      <th>specialPermissions</th>\n      <th>restrictions</th>\n      <th>citationRequirements</th>\n      <th>depositorRequirements</th>\n      <th>...</th>\n      <th>availabilityStatus</th>\n      <th>contactForAccess</th>\n      <th>sizeOfCollection</th>\n      <th>studyCompletion</th>\n      <th>datasetPublicationDate</th>\n      <th>versionCreateTime</th>\n      <th>versionState</th>\n      <th>majorVersionNumber</th>\n      <th>minorVersionNumber</th>\n      <th>publisher</th>\n    </tr>\n  </thead>\n  <tbody>\n    <tr>\n      <th>0</th>\n      <td>256773</td>\n      <td>https://doi.org/10.15454/GHAUFR</td>\n      <td>doi:10.15454/GHAUFR</td>\n      <td>NONE</td>\n      <td>CC BY 2.0</td>\n      <td></td>\n      <td></td>\n      <td></td>\n      <td></td>\n      <td></td>\n      <td>...</td>\n      <td></td>\n      <td></td>\n      <td></td>\n      <td></td>\n      <td>2019-02-15</td>\n      <td>2019-09-18T22:00:00Z</td>\n      <td>RELEASED</td>\n      <td>3</td>\n      <td>0</td>\n      <td>Portail Data INRAE</td>\n    </tr>\n    <tr>\n      <th>1</th>\n      <td>52619</td>\n      <td>https://doi.org/10.15454/TLXRVW</td>\n      <td>doi:10.15454/TLXRVW</td>\n      <td>NONE</td>\n      <td>CC BY 2.0</td>\n      <td></td>\n      <td></td>\n      <td></td>\n      <td></td>\n      <td></td>\n      <td>...</td>\n      <td></td>\n      <td></td>\n      <td></td>\n      <td></td>\n      <td>2019-09-11</td>\n      <td>2018-09-12T03:19:24Z</td>\n      <td>RELEASED</td>\n      <td>1</td>\n      <td>0</td>\n      <td>Portail Data INRAE</td>\n    </tr>\n    <tr>\n      <th>2</th>\n      <td>170336</td>\n      <td>https://doi.org/10.15454/CX70I3</td>\n      <td>doi:10.15454/CX70I3</td>\n      <td>NONE</td>\n      <td>CC BY 2.0</td>\n      <td></td>\n      <td></td>\n      <td></td>\n      <td></td>\n      <td></td>\n      <td>...</td>\n      <td></td>\n      <td></td>\n      <td></td>\n      <td></td>\n      <td>2019-01-21</td>\n      <td>2019-01-21T10:54:41Z</td>\n      <td>RELEASED</td>\n      <td>2</td>\n      <td>0</td>\n      <td>Portail Data INRAE</td>\n    </tr>\n    <tr>\n      <th>3</th>\n      <td>1200</td>\n      <td>https://doi.org/10.21410/7E4/4WG94W</td>\n      <td>doi:10.21410/7E4/4WG94W</td>\n      <td>NONE</td>\n      <td></td>\n      <td></td>\n      <td></td>\n      <td></td>\n      <td></td>\n      <td></td>\n      <td>...</td>\n      <td></td>\n      <td></td>\n      <td></td>\n      <td></td>\n      <td>2020-05-05</td>\n      <td>2020-05-13T16:06:28Z</td>\n      <td>RELEASED</td>\n      <td>2</td>\n      <td>1</td>\n      <td>data.sciencespo</td>\n    </tr>\n    <tr>\n      <th>4</th>\n      <td>198147</td>\n      <td>https://doi.org/10.7910/DVN/5PRYPC</td>\n      <td>doi:10.7910/DVN/5PRYPC</td>\n      <td>CC0</td>\n      <td>CC0 Waiver</td>\n      <td></td>\n      <td></td>\n      <td></td>\n      <td></td>\n      <td></td>\n      <td>...</td>\n      <td></td>\n      <td></td>\n      <td></td>\n      <td></td>\n      <td>2020-05-27</td>\n      <td>2020-06-17T23:49:50Z</td>\n      <td>RELEASED</td>\n      <td>4</td>\n      <td>0</td>\n      <td>Harvard Dataverse</td>\n    </tr>\n  </tbody>\n</table>\n<p>5 rows × 25 columns</p>\n</div>"
     },
     "execution_count": 73,
     "metadata": {},
     "output_type": "execute_result"
    }
   ],
   "source": [
    "allVersions.head()"
   ],
   "metadata": {
    "collapsed": false,
    "pycharm": {
     "name": "#%%\n"
    }
   }
  },
  {
   "cell_type": "code",
   "execution_count": 74,
   "outputs": [
    {
     "name": "stdout",
     "output_type": "stream",
     "text": [
      "Number of total dataset versions: 382596\n",
      "Number of unique datasets: 155719\n"
     ]
    }
   ],
   "source": [
    "print('Number of total dataset versions: %s' % (len(allVersions)))\n",
    "print('Number of unique datasets: %s' % (len(allVersions.persistentUrl.unique())))"
   ],
   "metadata": {
    "collapsed": false,
    "pycharm": {
     "name": "#%%\n"
    }
   }
  },
  {
   "cell_type": "markdown",
   "source": [
    "**About dataset versioning and Terms metadata**\n",
    "\n",
    "While we know from experience that some datasets published in Dataverse repositories contain versions where each version has its own terms metadata (such as a dataset where each version represents a wave of the same longitudinal research study and data re-users should consider each dataset version's license), let's assume that for a large majority of datasets, the Terms metadata of the latest versions have replaced the metadata of all previous versions.\n",
    "\n",
    "For example, if a dataset has two published versions, the first version has no CC0 waiver, and second version has a CC0 waiver, the CC0 waiver is what should apply to the dataset (and one could argue that previous versions should have been deaccessioned).\n",
    "\n",
    "Since versioning in the Dataverse software is designed more as a way to record improvements to a dataset over time, as opposed to a way to publish disparate but connected datasets (such as waves in a longitudinal study), we'll assume that this is how most depositors use dataset versioning. Additionally, the Dataverse software favors the latest published version of each dataset, tending to expose the metadata in the latest published version more than it exposes the metadata of previously published versions (such as through indexing and search result displays, metadata distributing, and how PIDs direct users to the latest dataset version).\n",
    "\n",
    "So let's get and consider the Terms metadata for only the latest version of each dataset."
   ],
   "metadata": {
    "collapsed": false,
    "pycharm": {
     "name": "#%% md\n"
    }
   }
  },
  {
   "cell_type": "code",
   "execution_count": 75,
   "metadata": {},
   "outputs": [],
   "source": [
    "# Get only metadata for the latest versions of each dataset\n",
    "latestversion = (allVersions\n",
    "                 .iloc[allVersions\n",
    "                    .groupby('persistentUrl')['datasetVersionId']\n",
    "                    .agg(pd.Series.idxmax)]\n",
    "                 .sort_values(by=['publisher'], inplace=False, ascending=True)\n",
    "                 .reset_index(drop=True, inplace=False))"
   ]
  },
  {
   "cell_type": "code",
   "execution_count": 76,
   "metadata": {},
   "outputs": [],
   "source": [
    "# Replace any blank values with NaN, making it easier to count and sort later\n",
    "latestversion = latestversion.replace(r'^\\s*$', np.nan, regex=True)\n",
    "\n",
    "# Dartmouth's repository exports JSON files with \"Root\" in the \"publisher\" key. Replace \"Root\" with \"Dartmouth\"\n",
    "latestversion['publisher'] = latestversion['publisher'].replace(['Root'],'Dartmouth')\n"
   ]
  },
  {
   "cell_type": "code",
   "execution_count": 78,
   "outputs": [
    {
     "name": "stdout",
     "output_type": "stream",
     "text": [
      "Number of datasets: 155719\n",
      "Number of installations: 56\n"
     ]
    }
   ],
   "source": [
    "print('Number of datasets: %s' % (len(latestversion)))\n",
    "print('Number of installations: %s' % (len(latestversion.publisher.unique())))"
   ],
   "metadata": {
    "collapsed": false,
    "pycharm": {
     "name": "#%%\n"
    }
   }
  },
  {
   "cell_type": "markdown",
   "source": [
    "### Question 1: How many datasets published by each Dataverse installation include any information about how the data can be used?\n",
    "\n",
    "We'll be exploring the Terms metadata of 155,719 datasets in 56 Dataverse installations. Let's get a count of each dataset in each installation to compare to the count of the datasets with metadata that includes any Terms (including standard licenses in any Terms field)."
   ],
   "metadata": {
    "collapsed": false,
    "pycharm": {
     "name": "#%% md\n"
    }
   }
  },
  {
   "cell_type": "code",
   "execution_count": 79,
   "outputs": [
    {
     "data": {
      "text/plain": "                           count of datasets\npublisher                                   \nPortail Data INRAE                     72010\nHarvard Dataverse                      44057\nopenforestdata.pl                      10116\nUNC Dataverse                           4537\nScholars Portal Dataverse               4096",
      "text/html": "<div>\n<style scoped>\n    .dataframe tbody tr th:only-of-type {\n        vertical-align: middle;\n    }\n\n    .dataframe tbody tr th {\n        vertical-align: top;\n    }\n\n    .dataframe thead th {\n        text-align: right;\n    }\n</style>\n<table border=\"1\" class=\"dataframe\">\n  <thead>\n    <tr style=\"text-align: right;\">\n      <th></th>\n      <th>count of datasets</th>\n    </tr>\n    <tr>\n      <th>publisher</th>\n      <th></th>\n    </tr>\n  </thead>\n  <tbody>\n    <tr>\n      <th>Portail Data INRAE</th>\n      <td>72010</td>\n    </tr>\n    <tr>\n      <th>Harvard Dataverse</th>\n      <td>44057</td>\n    </tr>\n    <tr>\n      <th>openforestdata.pl</th>\n      <td>10116</td>\n    </tr>\n    <tr>\n      <th>UNC Dataverse</th>\n      <td>4537</td>\n    </tr>\n    <tr>\n      <th>Scholars Portal Dataverse</th>\n      <td>4096</td>\n    </tr>\n  </tbody>\n</table>\n</div>"
     },
     "execution_count": 79,
     "metadata": {},
     "output_type": "execute_result"
    }
   ],
   "source": [
    "countDatasetsByInstallation = latestversion.value_counts(subset=['publisher']).to_frame('count of datasets')\n",
    "countDatasetsByInstallation.head()"
   ],
   "metadata": {
    "collapsed": false,
    "pycharm": {
     "name": "#%%\n"
    }
   }
  },
  {
   "cell_type": "markdown",
   "source": [
    "How many of those datasets have metadata with any Terms information?"
   ],
   "metadata": {
    "collapsed": false,
    "pycharm": {
     "name": "#%% md\n"
    }
   }
  },
  {
   "cell_type": "code",
   "execution_count": 89,
   "metadata": {},
   "outputs": [],
   "source": [
    "# Retain only columns containing the publisher name, dataset PID, the date when the latest version was published, and any values in the license and Terms of Use fields\n",
    "latestversion = latestversion[[\n",
    "    'publisher', 'persistentUrl', 'versionCreateTime', 'license', 'termsOfUse', 'confidentialityDeclaration', 'specialPermissions',\n",
    "    'restrictions', 'citationRequirements', 'depositorRequirements', 'conditions', 'disclaimer'\n",
    "]]\n",
    "\n",
    "# Make sure the versionCreateTime column is recognized as a date field\n",
    "latestversion['versionCreateTime']= pd.to_datetime(latestversion['versionCreateTime'])"
   ]
  },
  {
   "cell_type": "code",
   "execution_count": 90,
   "metadata": {},
   "outputs": [
    {
     "data": {
      "text/plain": "array(['NONE', 'CC0', 'CC BY', nan, 'CCBY'], dtype=object)"
     },
     "execution_count": 90,
     "metadata": {},
     "output_type": "execute_result"
    }
   ],
   "source": [
    "# List unique licences in all repositories' license fields\n",
    "latestversion.license.unique()"
   ]
  },
  {
   "cell_type": "code",
   "execution_count": 91,
   "outputs": [],
   "source": [
    "# Create dataframe containing only datasets with something in their license fields or any Terms of Use fields\n",
    "latestversionAnyTerms = (latestversion\n",
    "                    .query('license == \"CC0\" or license == \"CCBY\" or license == \"CC BY\" or termsOfUse.notnull() or confidentialityDeclaration.notnull() or specialPermissions.notnull() or restrictions.notnull() or citationRequirements.notnull() or depositorRequirements.notnull() or conditions.notnull() or disclaimer.notnull()')\n",
    "                   .reset_index(drop = True, inplace = False)\n",
    "                   )"
   ],
   "metadata": {
    "collapsed": false,
    "pycharm": {
     "name": "#%%\n"
    }
   }
  },
  {
   "cell_type": "markdown",
   "source": [
    "How many of those datasets are in each installation?"
   ],
   "metadata": {
    "collapsed": false,
    "pycharm": {
     "name": "#%% md\n"
    }
   }
  },
  {
   "cell_type": "code",
   "execution_count": 92,
   "outputs": [
    {
     "data": {
      "text/plain": "                    count of datasets with any Terms\npublisher                                           \nPortail Data INRAE                             72005\nHarvard Dataverse                              34447\nopenforestdata.pl                              10042\nUNC Dataverse                                   4284\nRIN Dataverse                                   4016",
      "text/html": "<div>\n<style scoped>\n    .dataframe tbody tr th:only-of-type {\n        vertical-align: middle;\n    }\n\n    .dataframe tbody tr th {\n        vertical-align: top;\n    }\n\n    .dataframe thead th {\n        text-align: right;\n    }\n</style>\n<table border=\"1\" class=\"dataframe\">\n  <thead>\n    <tr style=\"text-align: right;\">\n      <th></th>\n      <th>count of datasets with any Terms</th>\n    </tr>\n    <tr>\n      <th>publisher</th>\n      <th></th>\n    </tr>\n  </thead>\n  <tbody>\n    <tr>\n      <th>Portail Data INRAE</th>\n      <td>72005</td>\n    </tr>\n    <tr>\n      <th>Harvard Dataverse</th>\n      <td>34447</td>\n    </tr>\n    <tr>\n      <th>openforestdata.pl</th>\n      <td>10042</td>\n    </tr>\n    <tr>\n      <th>UNC Dataverse</th>\n      <td>4284</td>\n    </tr>\n    <tr>\n      <th>RIN Dataverse</th>\n      <td>4016</td>\n    </tr>\n  </tbody>\n</table>\n</div>"
     },
     "execution_count": 92,
     "metadata": {},
     "output_type": "execute_result"
    }
   ],
   "source": [
    "countDatasetsWithTermsByInstallation = latestversionAnyTerms.value_counts(subset=['publisher']).to_frame('count of datasets with any Terms')\n",
    "countDatasetsWithTermsByInstallation.head()"
   ],
   "metadata": {
    "collapsed": false,
    "pycharm": {
     "name": "#%%\n"
    }
   }
  },
  {
   "cell_type": "markdown",
   "source": [
    "I think it might be helpful for some installations to see which datasets have no Terms metadata, so lets query for that and export the results to a CSV file."
   ],
   "metadata": {
    "collapsed": false,
    "pycharm": {
     "name": "#%% md\n"
    }
   }
  },
  {
   "cell_type": "code",
   "execution_count": 93,
   "outputs": [
    {
     "name": "stdout",
     "output_type": "stream",
     "text": [
      "Number of datasets with no Terms metadata: 12810\n"
     ]
    }
   ],
   "source": [
    "# Create dataframe containing only datasets with nothing in their license fields or any Terms of Use fields\n",
    "latestversionNoTerms = (latestversion\n",
    "                        .query('(license == \"NONE\" or license.isnull()) and (termsOfUse.isnull() and confidentialityDeclaration.isnull() and specialPermissions.isnull() and restrictions.isnull() and citationRequirements.isnull() and depositorRequirements.isnull() and conditions.isnull() and disclaimer.isnull())')\n",
    "                        .reset_index(drop = True, inplace = False)\n",
    "                        )\n",
    "\n",
    "print('Number of datasets with no Terms metadata: %s' % (len(latestversionNoTerms)))\n",
    "\n",
    "# Export dataframe to a CSV file\n",
    "latestversionNoTerms.to_csv('latestversionNoTerms.csv', index=False)"
   ],
   "metadata": {
    "collapsed": false,
    "pycharm": {
     "name": "#%%\n"
    }
   }
  },
  {
   "cell_type": "markdown",
   "source": [
    "### Question 2: When installations apply the changes in the \"multiple license\" software update, which ones have published datasets whose Terms metadata will be considered \"Custom Terms\"? And how many of these datasets has each installation published?\n",
    "\n",
    "Again, we could use these numbers to get a sense of the scale of the change for each installation, and the numbers might encourage each installation to investigate the effects of this change."
   ],
   "metadata": {
    "collapsed": false
   }
  },
  {
   "cell_type": "code",
   "execution_count": 55,
   "metadata": {},
   "outputs": [
    {
     "name": "stdout",
     "output_type": "stream",
     "text": [
      "Number of datasets with a license plus values in one or more Terms of Use fields: 621\n"
     ]
    }
   ],
   "source": [
    "# Create a new dataframe with the datasets that have a value in the licenses field (that is, their license field is not null or \"NONE\") plus one or more values in the Terms of Use fields\n",
    "\n",
    "latestversionCustomTerms = (latestversion\n",
    "                            .query('(license == \"CC0\" or license == \"CCBY\" or license == \"CC BY\") and (confidentialityDeclaration.notnull() or specialPermissions.notnull() or restrictions.notnull() or citationRequirements.notnull() or depositorRequirements.notnull() or conditions.notnull() or disclaimer.notnull())')\n",
    "                            .reset_index(drop = True, inplace = False)\n",
    "                            )\n",
    "\n",
    "print('Number of datasets with a license plus values in one or more Terms of Use fields: %s' % (len(latestversionCustomTerms)))"
   ]
  },
  {
   "cell_type": "markdown",
   "source": [
    "How many of those are in each Dataverse installation?"
   ],
   "metadata": {
    "collapsed": false,
    "pycharm": {
     "name": "#%% md\n"
    }
   }
  },
  {
   "cell_type": "code",
   "execution_count": 66,
   "outputs": [
    {
     "data": {
      "text/plain": "                                               count of datasets with \"Custom Terms\"\npublisher                                                                           \nHarvard Dataverse                                                                394\nUNC Dataverse                                                                    131\nScholars Portal Dataverse                                                         51\nPortail Data INRAE                                                                 6\nPeking University Open Research Data Platform                                      6",
      "text/html": "<div>\n<style scoped>\n    .dataframe tbody tr th:only-of-type {\n        vertical-align: middle;\n    }\n\n    .dataframe tbody tr th {\n        vertical-align: top;\n    }\n\n    .dataframe thead th {\n        text-align: right;\n    }\n</style>\n<table border=\"1\" class=\"dataframe\">\n  <thead>\n    <tr style=\"text-align: right;\">\n      <th></th>\n      <th>count of datasets with \"Custom Terms\"</th>\n    </tr>\n    <tr>\n      <th>publisher</th>\n      <th></th>\n    </tr>\n  </thead>\n  <tbody>\n    <tr>\n      <th>Harvard Dataverse</th>\n      <td>394</td>\n    </tr>\n    <tr>\n      <th>UNC Dataverse</th>\n      <td>131</td>\n    </tr>\n    <tr>\n      <th>Scholars Portal Dataverse</th>\n      <td>51</td>\n    </tr>\n    <tr>\n      <th>Portail Data INRAE</th>\n      <td>6</td>\n    </tr>\n    <tr>\n      <th>Peking University Open Research Data Platform</th>\n      <td>6</td>\n    </tr>\n  </tbody>\n</table>\n</div>"
     },
     "execution_count": 66,
     "metadata": {},
     "output_type": "execute_result"
    }
   ],
   "source": [
    "countDatasetsWithCustomTermsByInstallation = latestversionCustomTerms.value_counts(subset=['publisher']).to_frame('count of datasets with \"Custom Terms\"')\n",
    "countDatasetsWithCustomTermsByInstallation.head()"
   ],
   "metadata": {
    "collapsed": false,
    "pycharm": {
     "name": "#%%\n"
    }
   }
  },
  {
   "cell_type": "markdown",
   "source": [
    "Finally, let's join all of the dataframes we've created so we can see the counts of datasets for each query for each installation."
   ],
   "metadata": {
    "collapsed": false,
    "pycharm": {
     "name": "#%% md\n"
    }
   }
  },
  {
   "cell_type": "code",
   "execution_count": 70,
   "metadata": {},
   "outputs": [],
   "source": [
    "dataframes = [\n",
    "    countDatasetsByInstallation,\n",
    "    countDatasetsWithTermsByInstallation,\n",
    "    countDatasetsWithCustomTermsByInstallation]\n",
    "\n",
    "allCountsByInstallation = reduce(lambda left, right: left.join(right, how='outer'), dataframes)\n",
    "\n",
    "# Format allCountsByInstallation dataframe to replace NA values with 0, cast values as integers and sort by greatest number of datasets with a license plus ToU\n",
    "allCountsByInstallation = (allCountsByInstallation\n",
    "                           .fillna(0)\n",
    "                           .astype('int32')\n",
    "                           .sort_values([\n",
    "                                'count of datasets with any Terms',\n",
    "                                'count of datasets',\n",
    "                                'count of datasets with \"Custom Terms\"'], ascending=False)\n",
    "                           )"
   ]
  },
  {
   "cell_type": "code",
   "execution_count": 71,
   "metadata": {},
   "outputs": [
    {
     "data": {
      "text/plain": "                                                    count of datasets  \\\npublisher                                                               \nPortail Data INRAE                                              72010   \nHarvard Dataverse                                               44057   \nopenforestdata.pl                                               10116   \nUNC Dataverse                                                    4537   \nRIN Dataverse                                                    4017   \nScholars Portal Dataverse                                        4096   \nAbacus Data Network                                              2191   \nADA Dataverse                                                    1583   \nAUSSDA                                                           1147   \nDataverseNL                                                      1865   \nDataverseNO                                                      1081   \nDaRUS                                                             918   \nDR-NTU (Data)                                                     776   \nCIMMYT Research Data & Software Repository Network                756   \ne-cienciaDatos                                                    542   \nICRISAT Dataverse                                                 436   \nUAL Dataverse                                                     496   \nInternational Potato Center                                       438   \nPeking University Open Research Data Platform                     320   \nheiDATA                                                           280   \nMELDATA                                                           270   \nCenter for International Forestry Research (CIFOR)                266   \nIISH Data Collection                                              256   \nGöttingen Research Online / Data                                 1350   \nVTTI                                                              155   \nDataSuds                                                          129   \nJohns Hopkins University Data Archive                             127   \nACSS Dataverse                                                    119   \nQualitative Data Repository                                       115   \nUniversity of Virginia Dataverse                                  102   \nPontificia Universidad Católica del Perú                           95   \nUniversity of Manitoba                                             78   \nSocial Sciences and Digital Humanities Archive ...                 70   \nRepositório de Dados da Universidade do Minho                      67   \nUCLA Dataverse                                                     67   \nNIOZ                                                               64   \nOpen Data @ UCLouvain                                              62   \nUNIMI Dataverse                                                    45   \nDartmouth Dataverse                                                45   \nJülich DATA                                                        36   \nASU Library Research Data Repository                               26   \nFIU Research Data Portal                                           25   \nUniversidad del Rosario                                            23   \nUniversidad de Chile                                               21   \nUNB                                                                21   \nUniversité Gustave Eiffel                                          19   \nFundação Oswaldo Cruz                                              18   \nRepositorios da Rede Nacional de Ensino e Pesquisa                 13   \nDataverse                                                          12   \nRepositório de Dados de Pesquisa UNIFESP Dataverse                 11   \nCROSSDA                                                             8   \ndata.sciencespo                                                   320   \nРепозиторий открытых данных по русской литерату...                  7   \nRepositório de Dados de Pesquisa da UFABC                           6   \nYale-NUS Dataverse                                                  5   \nDartmouth                                                           4   \n\n                                                    count of datasets with any Terms  \\\npublisher                                                                              \nPortail Data INRAE                                                             72005   \nHarvard Dataverse                                                              34447   \nopenforestdata.pl                                                              10042   \nUNC Dataverse                                                                   4284   \nRIN Dataverse                                                                   4016   \nScholars Portal Dataverse                                                       3753   \nAbacus Data Network                                                             2190   \nADA Dataverse                                                                   1583   \nAUSSDA                                                                          1147   \nDataverseNL                                                                     1138   \nDataverseNO                                                                     1081   \nDaRUS                                                                            917   \nDR-NTU (Data)                                                                    772   \nCIMMYT Research Data & Software Repository Network                               656   \ne-cienciaDatos                                                                   542   \nICRISAT Dataverse                                                                435   \nUAL Dataverse                                                                    381   \nInternational Potato Center                                                      362   \nPeking University Open Research Data Platform                                    319   \nheiDATA                                                                          280   \nMELDATA                                                                          270   \nCenter for International Forestry Research (CIFOR)                               261   \nIISH Data Collection                                                             251   \nGöttingen Research Online / Data                                                 181   \nVTTI                                                                             155   \nDataSuds                                                                         129   \nJohns Hopkins University Data Archive                                            127   \nACSS Dataverse                                                                   119   \nQualitative Data Repository                                                      114   \nUniversity of Virginia Dataverse                                                 102   \nPontificia Universidad Católica del Perú                                          95   \nUniversity of Manitoba                                                            78   \nSocial Sciences and Digital Humanities Archive ...                                70   \nRepositório de Dados da Universidade do Minho                                     67   \nUCLA Dataverse                                                                    67   \nNIOZ                                                                              62   \nOpen Data @ UCLouvain                                                             62   \nUNIMI Dataverse                                                                   44   \nDartmouth Dataverse                                                               44   \nJülich DATA                                                                       36   \nASU Library Research Data Repository                                              26   \nFIU Research Data Portal                                                          25   \nUniversidad del Rosario                                                           23   \nUniversidad de Chile                                                              21   \nUNB                                                                               20   \nUniversité Gustave Eiffel                                                         19   \nFundação Oswaldo Cruz                                                             18   \nRepositorios da Rede Nacional de Ensino e Pesquisa                                13   \nDataverse                                                                         12   \nRepositório de Dados de Pesquisa UNIFESP Dataverse                                11   \nCROSSDA                                                                            8   \ndata.sciencespo                                                                    7   \nРепозиторий открытых данных по русской литерату...                                 7   \nRepositório de Dados de Pesquisa da UFABC                                          6   \nYale-NUS Dataverse                                                                 5   \nDartmouth                                                                          4   \n\n                                                    count of datasets with \"Custom Terms\"  \npublisher                                                                                  \nPortail Data INRAE                                                                      6  \nHarvard Dataverse                                                                     394  \nopenforestdata.pl                                                                       2  \nUNC Dataverse                                                                         131  \nRIN Dataverse                                                                           0  \nScholars Portal Dataverse                                                              51  \nAbacus Data Network                                                                     0  \nADA Dataverse                                                                           0  \nAUSSDA                                                                                  0  \nDataverseNL                                                                             4  \nDataverseNO                                                                             4  \nDaRUS                                                                                   1  \nDR-NTU (Data)                                                                           2  \nCIMMYT Research Data & Software Repository Network                                      0  \ne-cienciaDatos                                                                          1  \nICRISAT Dataverse                                                                       1  \nUAL Dataverse                                                                           2  \nInternational Potato Center                                                             1  \nPeking University Open Research Data Platform                                           6  \nheiDATA                                                                                 1  \nMELDATA                                                                                 0  \nCenter for International Forestry Research (CIFOR)                                      0  \nIISH Data Collection                                                                    3  \nGöttingen Research Online / Data                                                        0  \nVTTI                                                                                    0  \nDataSuds                                                                                0  \nJohns Hopkins University Data Archive                                                   0  \nACSS Dataverse                                                                          0  \nQualitative Data Repository                                                             0  \nUniversity of Virginia Dataverse                                                        2  \nPontificia Universidad Católica del Perú                                                0  \nUniversity of Manitoba                                                                  1  \nSocial Sciences and Digital Humanities Archive ...                                      0  \nRepositório de Dados da Universidade do Minho                                           0  \nUCLA Dataverse                                                                          0  \nNIOZ                                                                                    0  \nOpen Data @ UCLouvain                                                                   1  \nUNIMI Dataverse                                                                         1  \nDartmouth Dataverse                                                                     0  \nJülich DATA                                                                             1  \nASU Library Research Data Repository                                                    0  \nFIU Research Data Portal                                                                0  \nUniversidad del Rosario                                                                 0  \nUniversidad de Chile                                                                    0  \nUNB                                                                                     0  \nUniversité Gustave Eiffel                                                               0  \nFundação Oswaldo Cruz                                                                   2  \nRepositorios da Rede Nacional de Ensino e Pesquisa                                      0  \nDataverse                                                                               2  \nRepositório de Dados de Pesquisa UNIFESP Dataverse                                      0  \nCROSSDA                                                                                 1  \ndata.sciencespo                                                                         0  \nРепозиторий открытых данных по русской литерату...                                      0  \nRepositório de Dados de Pesquisa da UFABC                                               0  \nYale-NUS Dataverse                                                                      0  \nDartmouth                                                                               0  ",
      "text/html": "<div>\n<style scoped>\n    .dataframe tbody tr th:only-of-type {\n        vertical-align: middle;\n    }\n\n    .dataframe tbody tr th {\n        vertical-align: top;\n    }\n\n    .dataframe thead th {\n        text-align: right;\n    }\n</style>\n<table border=\"1\" class=\"dataframe\">\n  <thead>\n    <tr style=\"text-align: right;\">\n      <th></th>\n      <th>count of datasets</th>\n      <th>count of datasets with any Terms</th>\n      <th>count of datasets with \"Custom Terms\"</th>\n    </tr>\n    <tr>\n      <th>publisher</th>\n      <th></th>\n      <th></th>\n      <th></th>\n    </tr>\n  </thead>\n  <tbody>\n    <tr>\n      <th>Portail Data INRAE</th>\n      <td>72010</td>\n      <td>72005</td>\n      <td>6</td>\n    </tr>\n    <tr>\n      <th>Harvard Dataverse</th>\n      <td>44057</td>\n      <td>34447</td>\n      <td>394</td>\n    </tr>\n    <tr>\n      <th>openforestdata.pl</th>\n      <td>10116</td>\n      <td>10042</td>\n      <td>2</td>\n    </tr>\n    <tr>\n      <th>UNC Dataverse</th>\n      <td>4537</td>\n      <td>4284</td>\n      <td>131</td>\n    </tr>\n    <tr>\n      <th>RIN Dataverse</th>\n      <td>4017</td>\n      <td>4016</td>\n      <td>0</td>\n    </tr>\n    <tr>\n      <th>Scholars Portal Dataverse</th>\n      <td>4096</td>\n      <td>3753</td>\n      <td>51</td>\n    </tr>\n    <tr>\n      <th>Abacus Data Network</th>\n      <td>2191</td>\n      <td>2190</td>\n      <td>0</td>\n    </tr>\n    <tr>\n      <th>ADA Dataverse</th>\n      <td>1583</td>\n      <td>1583</td>\n      <td>0</td>\n    </tr>\n    <tr>\n      <th>AUSSDA</th>\n      <td>1147</td>\n      <td>1147</td>\n      <td>0</td>\n    </tr>\n    <tr>\n      <th>DataverseNL</th>\n      <td>1865</td>\n      <td>1138</td>\n      <td>4</td>\n    </tr>\n    <tr>\n      <th>DataverseNO</th>\n      <td>1081</td>\n      <td>1081</td>\n      <td>4</td>\n    </tr>\n    <tr>\n      <th>DaRUS</th>\n      <td>918</td>\n      <td>917</td>\n      <td>1</td>\n    </tr>\n    <tr>\n      <th>DR-NTU (Data)</th>\n      <td>776</td>\n      <td>772</td>\n      <td>2</td>\n    </tr>\n    <tr>\n      <th>CIMMYT Research Data &amp; Software Repository Network</th>\n      <td>756</td>\n      <td>656</td>\n      <td>0</td>\n    </tr>\n    <tr>\n      <th>e-cienciaDatos</th>\n      <td>542</td>\n      <td>542</td>\n      <td>1</td>\n    </tr>\n    <tr>\n      <th>ICRISAT Dataverse</th>\n      <td>436</td>\n      <td>435</td>\n      <td>1</td>\n    </tr>\n    <tr>\n      <th>UAL Dataverse</th>\n      <td>496</td>\n      <td>381</td>\n      <td>2</td>\n    </tr>\n    <tr>\n      <th>International Potato Center</th>\n      <td>438</td>\n      <td>362</td>\n      <td>1</td>\n    </tr>\n    <tr>\n      <th>Peking University Open Research Data Platform</th>\n      <td>320</td>\n      <td>319</td>\n      <td>6</td>\n    </tr>\n    <tr>\n      <th>heiDATA</th>\n      <td>280</td>\n      <td>280</td>\n      <td>1</td>\n    </tr>\n    <tr>\n      <th>MELDATA</th>\n      <td>270</td>\n      <td>270</td>\n      <td>0</td>\n    </tr>\n    <tr>\n      <th>Center for International Forestry Research (CIFOR)</th>\n      <td>266</td>\n      <td>261</td>\n      <td>0</td>\n    </tr>\n    <tr>\n      <th>IISH Data Collection</th>\n      <td>256</td>\n      <td>251</td>\n      <td>3</td>\n    </tr>\n    <tr>\n      <th>Göttingen Research Online / Data</th>\n      <td>1350</td>\n      <td>181</td>\n      <td>0</td>\n    </tr>\n    <tr>\n      <th>VTTI</th>\n      <td>155</td>\n      <td>155</td>\n      <td>0</td>\n    </tr>\n    <tr>\n      <th>DataSuds</th>\n      <td>129</td>\n      <td>129</td>\n      <td>0</td>\n    </tr>\n    <tr>\n      <th>Johns Hopkins University Data Archive</th>\n      <td>127</td>\n      <td>127</td>\n      <td>0</td>\n    </tr>\n    <tr>\n      <th>ACSS Dataverse</th>\n      <td>119</td>\n      <td>119</td>\n      <td>0</td>\n    </tr>\n    <tr>\n      <th>Qualitative Data Repository</th>\n      <td>115</td>\n      <td>114</td>\n      <td>0</td>\n    </tr>\n    <tr>\n      <th>University of Virginia Dataverse</th>\n      <td>102</td>\n      <td>102</td>\n      <td>2</td>\n    </tr>\n    <tr>\n      <th>Pontificia Universidad Católica del Perú</th>\n      <td>95</td>\n      <td>95</td>\n      <td>0</td>\n    </tr>\n    <tr>\n      <th>University of Manitoba</th>\n      <td>78</td>\n      <td>78</td>\n      <td>1</td>\n    </tr>\n    <tr>\n      <th>Social Sciences and Digital Humanities Archive – SODHA</th>\n      <td>70</td>\n      <td>70</td>\n      <td>0</td>\n    </tr>\n    <tr>\n      <th>Repositório de Dados da Universidade do Minho</th>\n      <td>67</td>\n      <td>67</td>\n      <td>0</td>\n    </tr>\n    <tr>\n      <th>UCLA Dataverse</th>\n      <td>67</td>\n      <td>67</td>\n      <td>0</td>\n    </tr>\n    <tr>\n      <th>NIOZ</th>\n      <td>64</td>\n      <td>62</td>\n      <td>0</td>\n    </tr>\n    <tr>\n      <th>Open Data @ UCLouvain</th>\n      <td>62</td>\n      <td>62</td>\n      <td>1</td>\n    </tr>\n    <tr>\n      <th>UNIMI Dataverse</th>\n      <td>45</td>\n      <td>44</td>\n      <td>1</td>\n    </tr>\n    <tr>\n      <th>Dartmouth Dataverse</th>\n      <td>45</td>\n      <td>44</td>\n      <td>0</td>\n    </tr>\n    <tr>\n      <th>Jülich DATA</th>\n      <td>36</td>\n      <td>36</td>\n      <td>1</td>\n    </tr>\n    <tr>\n      <th>ASU Library Research Data Repository</th>\n      <td>26</td>\n      <td>26</td>\n      <td>0</td>\n    </tr>\n    <tr>\n      <th>FIU Research Data Portal</th>\n      <td>25</td>\n      <td>25</td>\n      <td>0</td>\n    </tr>\n    <tr>\n      <th>Universidad del Rosario</th>\n      <td>23</td>\n      <td>23</td>\n      <td>0</td>\n    </tr>\n    <tr>\n      <th>Universidad de Chile</th>\n      <td>21</td>\n      <td>21</td>\n      <td>0</td>\n    </tr>\n    <tr>\n      <th>UNB</th>\n      <td>21</td>\n      <td>20</td>\n      <td>0</td>\n    </tr>\n    <tr>\n      <th>Université Gustave Eiffel</th>\n      <td>19</td>\n      <td>19</td>\n      <td>0</td>\n    </tr>\n    <tr>\n      <th>Fundação Oswaldo Cruz</th>\n      <td>18</td>\n      <td>18</td>\n      <td>2</td>\n    </tr>\n    <tr>\n      <th>Repositorios da Rede Nacional de Ensino e Pesquisa</th>\n      <td>13</td>\n      <td>13</td>\n      <td>0</td>\n    </tr>\n    <tr>\n      <th>Dataverse</th>\n      <td>12</td>\n      <td>12</td>\n      <td>2</td>\n    </tr>\n    <tr>\n      <th>Repositório de Dados de Pesquisa UNIFESP Dataverse</th>\n      <td>11</td>\n      <td>11</td>\n      <td>0</td>\n    </tr>\n    <tr>\n      <th>CROSSDA</th>\n      <td>8</td>\n      <td>8</td>\n      <td>1</td>\n    </tr>\n    <tr>\n      <th>data.sciencespo</th>\n      <td>320</td>\n      <td>7</td>\n      <td>0</td>\n    </tr>\n    <tr>\n      <th>Репозиторий открытых данных по русской литературе и фольклору</th>\n      <td>7</td>\n      <td>7</td>\n      <td>0</td>\n    </tr>\n    <tr>\n      <th>Repositório de Dados de Pesquisa da UFABC</th>\n      <td>6</td>\n      <td>6</td>\n      <td>0</td>\n    </tr>\n    <tr>\n      <th>Yale-NUS Dataverse</th>\n      <td>5</td>\n      <td>5</td>\n      <td>0</td>\n    </tr>\n    <tr>\n      <th>Dartmouth</th>\n      <td>4</td>\n      <td>4</td>\n      <td>0</td>\n    </tr>\n  </tbody>\n</table>\n</div>"
     },
     "execution_count": 71,
     "metadata": {},
     "output_type": "execute_result"
    }
   ],
   "source": [
    "allCountsByInstallation.head(60)"
   ]
  },
  {
   "cell_type": "code",
   "execution_count": 29,
   "metadata": {
    "pycharm": {
     "name": "#%%\n"
    }
   },
   "outputs": [],
   "source": [
    "# Export to allCountsByInstallation dataframe to a CSV file\n",
    "fileName = 'allCountsByInstallation.csv'\n",
    "allCountsByInstallation.to_csv(fileName, index=True)"
   ]
  }
 ],
 "metadata": {
  "hide_input": false,
  "kernelspec": {
   "display_name": "Python 3",
   "language": "python",
   "name": "python3"
  },
  "language_info": {
   "codemirror_mode": {
    "name": "ipython",
    "version": 3
   },
   "file_extension": ".py",
   "mimetype": "text/x-python",
   "name": "python",
   "nbconvert_exporter": "python",
   "pygments_lexer": "ipython3",
   "version": "3.7.0"
  }
 },
 "nbformat": 4,
 "nbformat_minor": 4
}