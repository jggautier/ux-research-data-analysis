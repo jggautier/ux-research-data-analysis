{
 "cells": [
  {
   "cell_type": "markdown",
   "source": [
    "# Datasets with license plus terms of use metadata"
   ],
   "metadata": {
    "collapsed": false,
    "pycharm": {
     "name": "#%% md\n"
    }
   }
  },
  {
   "cell_type": "markdown",
   "source": [
    "Goals of this notebook"
   ],
   "metadata": {
    "collapsed": false,
    "pycharm": {
     "name": "#%% md\n"
    }
   }
  },
  {
   "cell_type": "markdown",
   "source": [
    "This notebook explores the \"Terms\" metadata of datasets in Dataverse installations in order to learn more about the effects of the \"multiple-license\" feature making its way to the Dataverse software (https://github.com/IQSS/dataverse/pull/7920). When applied to Dataverse installations, this update will change how depositors enter \"Terms\" metadata (metadata about how the data should or must be used). A goal of this update is to encourage the application of standard licenses to datasets in Dataverse repositories, which should make it easier for other people and discovery systems to determine how the data can and can't be used.\n",
    "\n",
    "For more information about the update, see the Multiple License Consensus Proposal ([Google Doc](https://docs.google.com/document/d/10htygglMdlABYWqtcZpqd8sHOwIe6sLL_UJtTv8NEKw)) and the following GitHub issues and pull request:\n",
    "\n",
    "- https://github.com/IQSS/dataverse/issues/7742\n",
    "- https://github.com/IQSS/dataverse/issues/7440\n",
    "- https://github.com/IQSS/dataverse/pull/7920\n",
    "\n",
    "As a result, this update might result in an increase in the share of dataset metadata published in Dataverse installations that include information about how the data can or must be used and in an increase in the use of standardized Terms (such as with the application of Creative Commons licenses).\n",
    "\n",
    "Additionally, with this update any dataset metadata with values in any of the fields in the software's \"Terms of Use\" panel, such as Confidentiality Declaration and Special Permissions, will be considered \"Custom Terms,\" even when a CC0 waiver (or for some forked installations, a CCBY license) was applied.\n",
    "\n",
    "So the two questions we seek to answer are:\n",
    "- How much of the dataset metadata published by each Dataverse repository includes any information about how the data can be used? We can track how these numbers change over time and particularly after each repository applies this and similar updates, as a way to measure the success of these changes and justify them.\n",
    "- When installations apply these changes, which ones have published datasets whose Terms metadata will be considered \"Custom Terms\" because they have CC0 waivers (or, for some forked installations, CCBY licenses) plus any of the eight \"Terms of Use\" fields filled? And how many of these datasets has each installation published? We could use these numbers to get a sense of the scale of the change for each installation, and the numbers might encourage each installation to look into the effects of this change."
   ],
   "metadata": {
    "collapsed": false
   }
  },
  {
   "cell_type": "markdown",
   "source": [
    "## Methods"
   ],
   "metadata": {
    "collapsed": false,
    "pycharm": {
     "name": "#%% md\n"
    }
   }
  },
  {
   "cell_type": "markdown",
   "source": [
    "The Terms metadata published by 56 Dataverse installations (of the known 73) is recorded in the terms_metadata.tab file. That tabular file was created by:\n",
    "- Downloading all zip files in the dataset at https://doi.org/10.7910/DVN/DCDKZQ. That dataset contains the JSON metadata files collected between August 4 and August 7, 2021 using a Python script. The methods for getting this metadata are described in the dataset.\n",
    "- Using another Python script to extracting the JSON metadata files in each Zip file into a single directory.\n",
    "- Parsing the terms metadata of every JSON metadata file in that directory into a single CSV file using the [parse_terms_metadata.py](https://github.com/jggautier/dataverse_scripts/blob/main/get-dataverse-metadata/parse_metadata_fields/parse_terms_metadata.py) script in the https://github.com/jggautier/dataverse_scripts repository.\n",
    "- Parsing the value of each JSON files' \"publisher\" key, which indicates the installation that published the metadata in each JSON file, into a single CSV file using the [parse_basic_metadata.py](https://github.com/jggautier/dataverse_scripts/blob/main/get-dataverse-metadata/parse_metadata_fields/parse_basic_metadata.py) script in the https://github.com/jggautier/dataverse_scripts repository.\n",
    "- Joining both CSV files into a single CSV file that contains the persistent URLs, dataset version IDs, installation names (publishers), and Terms metadata for every published dataset version in 56, and converting that CSV file into a .tab file (so that it's easier to make this notebook accessible using the Dataverse software's [binder integration](https://guides.dataverse.org/en/5.7/admin/integrations.html?highlight=integrations#binder).\n",
    "\n",
    "This notebook uses the pandas and numpy Python packages to filter, reshape and visualize the data in the terms_metadata.tab file in order to help answer the two questions in the Goals section of this notebook."
   ],
   "metadata": {
    "collapsed": false
   }
  },
  {
   "cell_type": "markdown",
   "source": [
    "## Exploration"
   ],
   "metadata": {
    "collapsed": false,
    "pycharm": {
     "name": "#%% md\n"
    }
   }
  },
  {
   "cell_type": "code",
   "execution_count": 1,
   "metadata": {},
   "outputs": [
    {
     "data": {
      "application/javascript": "\n(function(root) {\n  function now() {\n    return new Date();\n  }\n\n  var force = true;\n\n  if (typeof root._bokeh_onload_callbacks === \"undefined\" || force === true) {\n    root._bokeh_onload_callbacks = [];\n    root._bokeh_is_loading = undefined;\n  }\n\n  if (typeof (root._bokeh_timeout) === \"undefined\" || force === true) {\n    root._bokeh_timeout = Date.now() + 5000;\n    root._bokeh_failed_load = false;\n  }\n\n  function run_callbacks() {\n    try {\n      root._bokeh_onload_callbacks.forEach(function(callback) {\n        if (callback != null)\n          callback();\n      });\n    } finally {\n      delete root._bokeh_onload_callbacks\n    }\n    console.debug(\"Bokeh: all callbacks have finished\");\n  }\n\n  function load_libs(css_urls, js_urls, js_modules, callback) {\n    if (css_urls == null) css_urls = [];\n    if (js_urls == null) js_urls = [];\n    if (js_modules == null) js_modules = [];\n\n    root._bokeh_onload_callbacks.push(callback);\n    if (root._bokeh_is_loading > 0) {\n      console.debug(\"Bokeh: BokehJS is being loaded, scheduling callback at\", now());\n      return null;\n    }\n    if (js_urls.length === 0 && js_modules.length === 0) {\n      run_callbacks();\n      return null;\n    }\n    console.debug(\"Bokeh: BokehJS not loaded, scheduling load and callback at\", now());\n    root._bokeh_is_loading = css_urls.length + js_urls.length + js_modules.length;\n\n    function on_load() {\n      root._bokeh_is_loading--;\n      if (root._bokeh_is_loading === 0) {\n        console.debug(\"Bokeh: all BokehJS libraries/stylesheets loaded\");\n        run_callbacks()\n      }\n    }\n\n    function on_error() {\n      console.error(\"failed to load \" + url);\n    }\n\n    for (var i = 0; i < css_urls.length; i++) {\n      var url = css_urls[i];\n      const element = document.createElement(\"link\");\n      element.onload = on_load;\n      element.onerror = on_error;\n      element.rel = \"stylesheet\";\n      element.type = \"text/css\";\n      element.href = url;\n      console.debug(\"Bokeh: injecting link tag for BokehJS stylesheet: \", url);\n      document.body.appendChild(element);\n    }\n\n    var skip = [];\n    if (window.requirejs) {\n      window.requirejs.config({'packages': {}, 'paths': {}, 'shim': {}});\n      \n    }\n    for (var i = 0; i < js_urls.length; i++) {\n      var url = js_urls[i];\n      if (skip.indexOf(url) >= 0) { on_load(); continue; }\n      var element = document.createElement('script');\n      element.onload = on_load;\n      element.onerror = on_error;\n      element.async = false;\n      element.src = url;\n      console.debug(\"Bokeh: injecting script tag for BokehJS library: \", url);\n      document.head.appendChild(element);\n    }\n    for (var i = 0; i < js_modules.length; i++) {\n      var url = js_modules[i];\n      if (skip.indexOf(url) >= 0) { on_load(); continue; }\n      var element = document.createElement('script');\n      element.onload = on_load;\n      element.onerror = on_error;\n      element.async = false;\n      element.src = url;\n      element.type = \"module\";\n      console.debug(\"Bokeh: injecting script tag for BokehJS library: \", url);\n      document.head.appendChild(element);\n    }\n    if (!js_urls.length && !js_modules.length) {\n      on_load()\n    }\n  };\n\n  function inject_raw_css(css) {\n    const element = document.createElement(\"style\");\n    element.appendChild(document.createTextNode(css));\n    document.body.appendChild(element);\n  }\n\n  var js_urls = [\"https://cdn.bokeh.org/bokeh/release/bokeh-2.4.1.min.js\", \"https://cdn.bokeh.org/bokeh/release/bokeh-gl-2.4.1.min.js\", \"https://cdn.bokeh.org/bokeh/release/bokeh-widgets-2.4.1.min.js\", \"https://cdn.bokeh.org/bokeh/release/bokeh-tables-2.4.1.min.js\", \"https://cdn.bokeh.org/bokeh/release/bokeh-mathjax-2.4.1.min.js\", \"https://unpkg.com/@holoviz/panel@0.12.4/dist/panel.min.js\"];\n  var js_modules = [];\n  var css_urls = [\"https://unpkg.com/@holoviz/panel@0.12.4/dist/css/alerts.css\", \"https://unpkg.com/@holoviz/panel@0.12.4/dist/css/card.css\", \"https://unpkg.com/@holoviz/panel@0.12.4/dist/css/widgets.css\", \"https://unpkg.com/@holoviz/panel@0.12.4/dist/css/markdown.css\", \"https://unpkg.com/@holoviz/panel@0.12.4/dist/css/json.css\", \"https://unpkg.com/@holoviz/panel@0.12.4/dist/css/loading.css\", \"https://unpkg.com/@holoviz/panel@0.12.4/dist/css/dataframe.css\"];\n  var inline_js = [\n    function(Bokeh) {\n      inject_raw_css(\"\\n    .bk.pn-loading.arcs:before {\\n      background-image: url(\\\"data:image/svg+xml;base64,PHN2ZyB4bWxucz0iaHR0cDovL3d3dy53My5vcmcvMjAwMC9zdmciIHhtbG5zOnhsaW5rPSJodHRwOi8vd3d3LnczLm9yZy8xOTk5L3hsaW5rIiBzdHlsZT0ibWFyZ2luOiBhdXRvOyBiYWNrZ3JvdW5kOiBub25lOyBkaXNwbGF5OiBibG9jazsgc2hhcGUtcmVuZGVyaW5nOiBhdXRvOyIgdmlld0JveD0iMCAwIDEwMCAxMDAiIHByZXNlcnZlQXNwZWN0UmF0aW89InhNaWRZTWlkIj4gIDxjaXJjbGUgY3g9IjUwIiBjeT0iNTAiIHI9IjMyIiBzdHJva2Utd2lkdGg9IjgiIHN0cm9rZT0iI2MzYzNjMyIgc3Ryb2tlLWRhc2hhcnJheT0iNTAuMjY1NDgyNDU3NDM2NjkgNTAuMjY1NDgyNDU3NDM2NjkiIGZpbGw9Im5vbmUiIHN0cm9rZS1saW5lY2FwPSJyb3VuZCI+ICAgIDxhbmltYXRlVHJhbnNmb3JtIGF0dHJpYnV0ZU5hbWU9InRyYW5zZm9ybSIgdHlwZT0icm90YXRlIiByZXBlYXRDb3VudD0iaW5kZWZpbml0ZSIgZHVyPSIxcyIga2V5VGltZXM9IjA7MSIgdmFsdWVzPSIwIDUwIDUwOzM2MCA1MCA1MCI+PC9hbmltYXRlVHJhbnNmb3JtPiAgPC9jaXJjbGU+PC9zdmc+\\\")\\n    }\\n    \");\n    },\n    function(Bokeh) {\n      Bokeh.set_log_level(\"info\");\n    },\n    function(Bokeh) {} // ensure no trailing comma for IE\n  ];\n\n  function run_inline_js() {\n    if ((root.Bokeh !== undefined) || (force === true)) {\n      for (var i = 0; i < inline_js.length; i++) {\n        inline_js[i].call(root, root.Bokeh);\n      }} else if (Date.now() < root._bokeh_timeout) {\n      setTimeout(run_inline_js, 100);\n    } else if (!root._bokeh_failed_load) {\n      console.log(\"Bokeh: BokehJS failed to load within specified timeout.\");\n      root._bokeh_failed_load = true;\n    }\n  }\n\n  if (root._bokeh_is_loading === 0) {\n    console.debug(\"Bokeh: BokehJS loaded, going straight to plotting\");\n    run_inline_js();\n  } else {\n    load_libs(css_urls, js_urls, js_modules, function() {\n      console.debug(\"Bokeh: BokehJS plotting callback run at\", now());\n      run_inline_js();\n    });\n  }\n}(window));",
      "application/vnd.holoviews_load.v0+json": "\n(function(root) {\n  function now() {\n    return new Date();\n  }\n\n  var force = true;\n\n  if (typeof root._bokeh_onload_callbacks === \"undefined\" || force === true) {\n    root._bokeh_onload_callbacks = [];\n    root._bokeh_is_loading = undefined;\n  }\n\n  if (typeof (root._bokeh_timeout) === \"undefined\" || force === true) {\n    root._bokeh_timeout = Date.now() + 5000;\n    root._bokeh_failed_load = false;\n  }\n\n  function run_callbacks() {\n    try {\n      root._bokeh_onload_callbacks.forEach(function(callback) {\n        if (callback != null)\n          callback();\n      });\n    } finally {\n      delete root._bokeh_onload_callbacks\n    }\n    console.debug(\"Bokeh: all callbacks have finished\");\n  }\n\n  function load_libs(css_urls, js_urls, js_modules, callback) {\n    if (css_urls == null) css_urls = [];\n    if (js_urls == null) js_urls = [];\n    if (js_modules == null) js_modules = [];\n\n    root._bokeh_onload_callbacks.push(callback);\n    if (root._bokeh_is_loading > 0) {\n      console.debug(\"Bokeh: BokehJS is being loaded, scheduling callback at\", now());\n      return null;\n    }\n    if (js_urls.length === 0 && js_modules.length === 0) {\n      run_callbacks();\n      return null;\n    }\n    console.debug(\"Bokeh: BokehJS not loaded, scheduling load and callback at\", now());\n    root._bokeh_is_loading = css_urls.length + js_urls.length + js_modules.length;\n\n    function on_load() {\n      root._bokeh_is_loading--;\n      if (root._bokeh_is_loading === 0) {\n        console.debug(\"Bokeh: all BokehJS libraries/stylesheets loaded\");\n        run_callbacks()\n      }\n    }\n\n    function on_error() {\n      console.error(\"failed to load \" + url);\n    }\n\n    for (var i = 0; i < css_urls.length; i++) {\n      var url = css_urls[i];\n      const element = document.createElement(\"link\");\n      element.onload = on_load;\n      element.onerror = on_error;\n      element.rel = \"stylesheet\";\n      element.type = \"text/css\";\n      element.href = url;\n      console.debug(\"Bokeh: injecting link tag for BokehJS stylesheet: \", url);\n      document.body.appendChild(element);\n    }\n\n    var skip = [];\n    if (window.requirejs) {\n      window.requirejs.config({'packages': {}, 'paths': {}, 'shim': {}});\n      \n    }\n    for (var i = 0; i < js_urls.length; i++) {\n      var url = js_urls[i];\n      if (skip.indexOf(url) >= 0) { on_load(); continue; }\n      var element = document.createElement('script');\n      element.onload = on_load;\n      element.onerror = on_error;\n      element.async = false;\n      element.src = url;\n      console.debug(\"Bokeh: injecting script tag for BokehJS library: \", url);\n      document.head.appendChild(element);\n    }\n    for (var i = 0; i < js_modules.length; i++) {\n      var url = js_modules[i];\n      if (skip.indexOf(url) >= 0) { on_load(); continue; }\n      var element = document.createElement('script');\n      element.onload = on_load;\n      element.onerror = on_error;\n      element.async = false;\n      element.src = url;\n      element.type = \"module\";\n      console.debug(\"Bokeh: injecting script tag for BokehJS library: \", url);\n      document.head.appendChild(element);\n    }\n    if (!js_urls.length && !js_modules.length) {\n      on_load()\n    }\n  };\n\n  function inject_raw_css(css) {\n    const element = document.createElement(\"style\");\n    element.appendChild(document.createTextNode(css));\n    document.body.appendChild(element);\n  }\n\n  var js_urls = [\"https://cdn.bokeh.org/bokeh/release/bokeh-2.4.1.min.js\", \"https://cdn.bokeh.org/bokeh/release/bokeh-gl-2.4.1.min.js\", \"https://cdn.bokeh.org/bokeh/release/bokeh-widgets-2.4.1.min.js\", \"https://cdn.bokeh.org/bokeh/release/bokeh-tables-2.4.1.min.js\", \"https://cdn.bokeh.org/bokeh/release/bokeh-mathjax-2.4.1.min.js\", \"https://unpkg.com/@holoviz/panel@0.12.4/dist/panel.min.js\"];\n  var js_modules = [];\n  var css_urls = [\"https://unpkg.com/@holoviz/panel@0.12.4/dist/css/alerts.css\", \"https://unpkg.com/@holoviz/panel@0.12.4/dist/css/card.css\", \"https://unpkg.com/@holoviz/panel@0.12.4/dist/css/widgets.css\", \"https://unpkg.com/@holoviz/panel@0.12.4/dist/css/markdown.css\", \"https://unpkg.com/@holoviz/panel@0.12.4/dist/css/json.css\", \"https://unpkg.com/@holoviz/panel@0.12.4/dist/css/loading.css\", \"https://unpkg.com/@holoviz/panel@0.12.4/dist/css/dataframe.css\"];\n  var inline_js = [\n    function(Bokeh) {\n      inject_raw_css(\"\\n    .bk.pn-loading.arcs:before {\\n      background-image: url(\\\"data:image/svg+xml;base64,PHN2ZyB4bWxucz0iaHR0cDovL3d3dy53My5vcmcvMjAwMC9zdmciIHhtbG5zOnhsaW5rPSJodHRwOi8vd3d3LnczLm9yZy8xOTk5L3hsaW5rIiBzdHlsZT0ibWFyZ2luOiBhdXRvOyBiYWNrZ3JvdW5kOiBub25lOyBkaXNwbGF5OiBibG9jazsgc2hhcGUtcmVuZGVyaW5nOiBhdXRvOyIgdmlld0JveD0iMCAwIDEwMCAxMDAiIHByZXNlcnZlQXNwZWN0UmF0aW89InhNaWRZTWlkIj4gIDxjaXJjbGUgY3g9IjUwIiBjeT0iNTAiIHI9IjMyIiBzdHJva2Utd2lkdGg9IjgiIHN0cm9rZT0iI2MzYzNjMyIgc3Ryb2tlLWRhc2hhcnJheT0iNTAuMjY1NDgyNDU3NDM2NjkgNTAuMjY1NDgyNDU3NDM2NjkiIGZpbGw9Im5vbmUiIHN0cm9rZS1saW5lY2FwPSJyb3VuZCI+ICAgIDxhbmltYXRlVHJhbnNmb3JtIGF0dHJpYnV0ZU5hbWU9InRyYW5zZm9ybSIgdHlwZT0icm90YXRlIiByZXBlYXRDb3VudD0iaW5kZWZpbml0ZSIgZHVyPSIxcyIga2V5VGltZXM9IjA7MSIgdmFsdWVzPSIwIDUwIDUwOzM2MCA1MCA1MCI+PC9hbmltYXRlVHJhbnNmb3JtPiAgPC9jaXJjbGU+PC9zdmc+\\\")\\n    }\\n    \");\n    },\n    function(Bokeh) {\n      Bokeh.set_log_level(\"info\");\n    },\n    function(Bokeh) {} // ensure no trailing comma for IE\n  ];\n\n  function run_inline_js() {\n    if ((root.Bokeh !== undefined) || (force === true)) {\n      for (var i = 0; i < inline_js.length; i++) {\n        inline_js[i].call(root, root.Bokeh);\n      }} else if (Date.now() < root._bokeh_timeout) {\n      setTimeout(run_inline_js, 100);\n    } else if (!root._bokeh_failed_load) {\n      console.log(\"Bokeh: BokehJS failed to load within specified timeout.\");\n      root._bokeh_failed_load = true;\n    }\n  }\n\n  if (root._bokeh_is_loading === 0) {\n    console.debug(\"Bokeh: BokehJS loaded, going straight to plotting\");\n    run_inline_js();\n  } else {\n    load_libs(css_urls, js_urls, js_modules, function() {\n      console.debug(\"Bokeh: BokehJS plotting callback run at\", now());\n      run_inline_js();\n    });\n  }\n}(window));"
     },
     "metadata": {},
     "output_type": "display_data"
    },
    {
     "data": {
      "application/vnd.holoviews_load.v0+json": "\nif ((window.PyViz === undefined) || (window.PyViz instanceof HTMLElement)) {\n  window.PyViz = {comms: {}, comm_status:{}, kernels:{}, receivers: {}, plot_index: []}\n}\n\n\n    function JupyterCommManager() {\n    }\n\n    JupyterCommManager.prototype.register_target = function(plot_id, comm_id, msg_handler) {\n      if (window.comm_manager || ((window.Jupyter !== undefined) && (Jupyter.notebook.kernel != null))) {\n        var comm_manager = window.comm_manager || Jupyter.notebook.kernel.comm_manager;\n        comm_manager.register_target(comm_id, function(comm) {\n          comm.on_msg(msg_handler);\n        });\n      } else if ((plot_id in window.PyViz.kernels) && (window.PyViz.kernels[plot_id])) {\n        window.PyViz.kernels[plot_id].registerCommTarget(comm_id, function(comm) {\n          comm.onMsg = msg_handler;\n        });\n      } else if (typeof google != 'undefined' && google.colab.kernel != null) {\n        google.colab.kernel.comms.registerTarget(comm_id, (comm) => {\n          var messages = comm.messages[Symbol.asyncIterator]();\n          function processIteratorResult(result) {\n            var message = result.value;\n            console.log(message)\n            var content = {data: message.data, comm_id};\n            var buffers = []\n            for (var buffer of message.buffers || []) {\n              buffers.push(new DataView(buffer))\n            }\n            var metadata = message.metadata || {};\n            var msg = {content, buffers, metadata}\n            msg_handler(msg);\n            return messages.next().then(processIteratorResult);\n          }\n          return messages.next().then(processIteratorResult);\n        })\n      }\n    }\n\n    JupyterCommManager.prototype.get_client_comm = function(plot_id, comm_id, msg_handler) {\n      if (comm_id in window.PyViz.comms) {\n        return window.PyViz.comms[comm_id];\n      } else if (window.comm_manager || ((window.Jupyter !== undefined) && (Jupyter.notebook.kernel != null))) {\n        var comm_manager = window.comm_manager || Jupyter.notebook.kernel.comm_manager;\n        var comm = comm_manager.new_comm(comm_id, {}, {}, {}, comm_id);\n        if (msg_handler) {\n          comm.on_msg(msg_handler);\n        }\n      } else if ((plot_id in window.PyViz.kernels) && (window.PyViz.kernels[plot_id])) {\n        var comm = window.PyViz.kernels[plot_id].connectToComm(comm_id);\n        comm.open();\n        if (msg_handler) {\n          comm.onMsg = msg_handler;\n        }\n      } else if (typeof google != 'undefined' && google.colab.kernel != null) {\n        var comm_promise = google.colab.kernel.comms.open(comm_id)\n        comm_promise.then((comm) => {\n          window.PyViz.comms[comm_id] = comm;\n          if (msg_handler) {\n            var messages = comm.messages[Symbol.asyncIterator]();\n            function processIteratorResult(result) {\n              var message = result.value;\n              var content = {data: message.data};\n              var metadata = message.metadata || {comm_id};\n              var msg = {content, metadata}\n              msg_handler(msg);\n              return messages.next().then(processIteratorResult);\n            }\n            return messages.next().then(processIteratorResult);\n          }\n        }) \n        var sendClosure = (data, metadata, buffers, disposeOnDone) => {\n          return comm_promise.then((comm) => {\n            comm.send(data, metadata, buffers, disposeOnDone);\n          });\n        };\n        var comm = {\n          send: sendClosure\n        };\n      }\n      window.PyViz.comms[comm_id] = comm;\n      return comm;\n    }\n    window.PyViz.comm_manager = new JupyterCommManager();\n    \n\n\nvar JS_MIME_TYPE = 'application/javascript';\nvar HTML_MIME_TYPE = 'text/html';\nvar EXEC_MIME_TYPE = 'application/vnd.holoviews_exec.v0+json';\nvar CLASS_NAME = 'output';\n\n/**\n * Render data to the DOM node\n */\nfunction render(props, node) {\n  var div = document.createElement(\"div\");\n  var script = document.createElement(\"script\");\n  node.appendChild(div);\n  node.appendChild(script);\n}\n\n/**\n * Handle when a new output is added\n */\nfunction handle_add_output(event, handle) {\n  var output_area = handle.output_area;\n  var output = handle.output;\n  if ((output.data == undefined) || (!output.data.hasOwnProperty(EXEC_MIME_TYPE))) {\n    return\n  }\n  var id = output.metadata[EXEC_MIME_TYPE][\"id\"];\n  var toinsert = output_area.element.find(\".\" + CLASS_NAME.split(' ')[0]);\n  if (id !== undefined) {\n    var nchildren = toinsert.length;\n    var html_node = toinsert[nchildren-1].children[0];\n    html_node.innerHTML = output.data[HTML_MIME_TYPE];\n    var scripts = [];\n    var nodelist = html_node.querySelectorAll(\"script\");\n    for (var i in nodelist) {\n      if (nodelist.hasOwnProperty(i)) {\n        scripts.push(nodelist[i])\n      }\n    }\n\n    scripts.forEach( function (oldScript) {\n      var newScript = document.createElement(\"script\");\n      var attrs = [];\n      var nodemap = oldScript.attributes;\n      for (var j in nodemap) {\n        if (nodemap.hasOwnProperty(j)) {\n          attrs.push(nodemap[j])\n        }\n      }\n      attrs.forEach(function(attr) { newScript.setAttribute(attr.name, attr.value) });\n      newScript.appendChild(document.createTextNode(oldScript.innerHTML));\n      oldScript.parentNode.replaceChild(newScript, oldScript);\n    });\n    if (JS_MIME_TYPE in output.data) {\n      toinsert[nchildren-1].children[1].textContent = output.data[JS_MIME_TYPE];\n    }\n    output_area._hv_plot_id = id;\n    if ((window.Bokeh !== undefined) && (id in Bokeh.index)) {\n      window.PyViz.plot_index[id] = Bokeh.index[id];\n    } else {\n      window.PyViz.plot_index[id] = null;\n    }\n  } else if (output.metadata[EXEC_MIME_TYPE][\"server_id\"] !== undefined) {\n    var bk_div = document.createElement(\"div\");\n    bk_div.innerHTML = output.data[HTML_MIME_TYPE];\n    var script_attrs = bk_div.children[0].attributes;\n    for (var i = 0; i < script_attrs.length; i++) {\n      toinsert[toinsert.length - 1].childNodes[1].setAttribute(script_attrs[i].name, script_attrs[i].value);\n    }\n    // store reference to server id on output_area\n    output_area._bokeh_server_id = output.metadata[EXEC_MIME_TYPE][\"server_id\"];\n  }\n}\n\n/**\n * Handle when an output is cleared or removed\n */\nfunction handle_clear_output(event, handle) {\n  var id = handle.cell.output_area._hv_plot_id;\n  var server_id = handle.cell.output_area._bokeh_server_id;\n  if (((id === undefined) || !(id in PyViz.plot_index)) && (server_id !== undefined)) { return; }\n  var comm = window.PyViz.comm_manager.get_client_comm(\"hv-extension-comm\", \"hv-extension-comm\", function () {});\n  if (server_id !== null) {\n    comm.send({event_type: 'server_delete', 'id': server_id});\n    return;\n  } else if (comm !== null) {\n    comm.send({event_type: 'delete', 'id': id});\n  }\n  delete PyViz.plot_index[id];\n  if ((window.Bokeh !== undefined) & (id in window.Bokeh.index)) {\n    var doc = window.Bokeh.index[id].model.document\n    doc.clear();\n    const i = window.Bokeh.documents.indexOf(doc);\n    if (i > -1) {\n      window.Bokeh.documents.splice(i, 1);\n    }\n  }\n}\n\n/**\n * Handle kernel restart event\n */\nfunction handle_kernel_cleanup(event, handle) {\n  delete PyViz.comms[\"hv-extension-comm\"];\n  window.PyViz.plot_index = {}\n}\n\n/**\n * Handle update_display_data messages\n */\nfunction handle_update_output(event, handle) {\n  handle_clear_output(event, {cell: {output_area: handle.output_area}})\n  handle_add_output(event, handle)\n}\n\nfunction register_renderer(events, OutputArea) {\n  function append_mime(data, metadata, element) {\n    // create a DOM node to render to\n    var toinsert = this.create_output_subarea(\n    metadata,\n    CLASS_NAME,\n    EXEC_MIME_TYPE\n    );\n    this.keyboard_manager.register_events(toinsert);\n    // Render to node\n    var props = {data: data, metadata: metadata[EXEC_MIME_TYPE]};\n    render(props, toinsert[0]);\n    element.append(toinsert);\n    return toinsert\n  }\n\n  events.on('output_added.OutputArea', handle_add_output);\n  events.on('output_updated.OutputArea', handle_update_output);\n  events.on('clear_output.CodeCell', handle_clear_output);\n  events.on('delete.Cell', handle_clear_output);\n  events.on('kernel_ready.Kernel', handle_kernel_cleanup);\n\n  OutputArea.prototype.register_mime_type(EXEC_MIME_TYPE, append_mime, {\n    safe: true,\n    index: 0\n  });\n}\n\nif (window.Jupyter !== undefined) {\n  try {\n    var events = require('base/js/events');\n    var OutputArea = require('notebook/js/outputarea').OutputArea;\n    if (OutputArea.prototype.mime_types().indexOf(EXEC_MIME_TYPE) == -1) {\n      register_renderer(events, OutputArea);\n    }\n  } catch(err) {\n  }\n}\n",
      "application/javascript": "\nif ((window.PyViz === undefined) || (window.PyViz instanceof HTMLElement)) {\n  window.PyViz = {comms: {}, comm_status:{}, kernels:{}, receivers: {}, plot_index: []}\n}\n\n\n    function JupyterCommManager() {\n    }\n\n    JupyterCommManager.prototype.register_target = function(plot_id, comm_id, msg_handler) {\n      if (window.comm_manager || ((window.Jupyter !== undefined) && (Jupyter.notebook.kernel != null))) {\n        var comm_manager = window.comm_manager || Jupyter.notebook.kernel.comm_manager;\n        comm_manager.register_target(comm_id, function(comm) {\n          comm.on_msg(msg_handler);\n        });\n      } else if ((plot_id in window.PyViz.kernels) && (window.PyViz.kernels[plot_id])) {\n        window.PyViz.kernels[plot_id].registerCommTarget(comm_id, function(comm) {\n          comm.onMsg = msg_handler;\n        });\n      } else if (typeof google != 'undefined' && google.colab.kernel != null) {\n        google.colab.kernel.comms.registerTarget(comm_id, (comm) => {\n          var messages = comm.messages[Symbol.asyncIterator]();\n          function processIteratorResult(result) {\n            var message = result.value;\n            console.log(message)\n            var content = {data: message.data, comm_id};\n            var buffers = []\n            for (var buffer of message.buffers || []) {\n              buffers.push(new DataView(buffer))\n            }\n            var metadata = message.metadata || {};\n            var msg = {content, buffers, metadata}\n            msg_handler(msg);\n            return messages.next().then(processIteratorResult);\n          }\n          return messages.next().then(processIteratorResult);\n        })\n      }\n    }\n\n    JupyterCommManager.prototype.get_client_comm = function(plot_id, comm_id, msg_handler) {\n      if (comm_id in window.PyViz.comms) {\n        return window.PyViz.comms[comm_id];\n      } else if (window.comm_manager || ((window.Jupyter !== undefined) && (Jupyter.notebook.kernel != null))) {\n        var comm_manager = window.comm_manager || Jupyter.notebook.kernel.comm_manager;\n        var comm = comm_manager.new_comm(comm_id, {}, {}, {}, comm_id);\n        if (msg_handler) {\n          comm.on_msg(msg_handler);\n        }\n      } else if ((plot_id in window.PyViz.kernels) && (window.PyViz.kernels[plot_id])) {\n        var comm = window.PyViz.kernels[plot_id].connectToComm(comm_id);\n        comm.open();\n        if (msg_handler) {\n          comm.onMsg = msg_handler;\n        }\n      } else if (typeof google != 'undefined' && google.colab.kernel != null) {\n        var comm_promise = google.colab.kernel.comms.open(comm_id)\n        comm_promise.then((comm) => {\n          window.PyViz.comms[comm_id] = comm;\n          if (msg_handler) {\n            var messages = comm.messages[Symbol.asyncIterator]();\n            function processIteratorResult(result) {\n              var message = result.value;\n              var content = {data: message.data};\n              var metadata = message.metadata || {comm_id};\n              var msg = {content, metadata}\n              msg_handler(msg);\n              return messages.next().then(processIteratorResult);\n            }\n            return messages.next().then(processIteratorResult);\n          }\n        }) \n        var sendClosure = (data, metadata, buffers, disposeOnDone) => {\n          return comm_promise.then((comm) => {\n            comm.send(data, metadata, buffers, disposeOnDone);\n          });\n        };\n        var comm = {\n          send: sendClosure\n        };\n      }\n      window.PyViz.comms[comm_id] = comm;\n      return comm;\n    }\n    window.PyViz.comm_manager = new JupyterCommManager();\n    \n\n\nvar JS_MIME_TYPE = 'application/javascript';\nvar HTML_MIME_TYPE = 'text/html';\nvar EXEC_MIME_TYPE = 'application/vnd.holoviews_exec.v0+json';\nvar CLASS_NAME = 'output';\n\n/**\n * Render data to the DOM node\n */\nfunction render(props, node) {\n  var div = document.createElement(\"div\");\n  var script = document.createElement(\"script\");\n  node.appendChild(div);\n  node.appendChild(script);\n}\n\n/**\n * Handle when a new output is added\n */\nfunction handle_add_output(event, handle) {\n  var output_area = handle.output_area;\n  var output = handle.output;\n  if ((output.data == undefined) || (!output.data.hasOwnProperty(EXEC_MIME_TYPE))) {\n    return\n  }\n  var id = output.metadata[EXEC_MIME_TYPE][\"id\"];\n  var toinsert = output_area.element.find(\".\" + CLASS_NAME.split(' ')[0]);\n  if (id !== undefined) {\n    var nchildren = toinsert.length;\n    var html_node = toinsert[nchildren-1].children[0];\n    html_node.innerHTML = output.data[HTML_MIME_TYPE];\n    var scripts = [];\n    var nodelist = html_node.querySelectorAll(\"script\");\n    for (var i in nodelist) {\n      if (nodelist.hasOwnProperty(i)) {\n        scripts.push(nodelist[i])\n      }\n    }\n\n    scripts.forEach( function (oldScript) {\n      var newScript = document.createElement(\"script\");\n      var attrs = [];\n      var nodemap = oldScript.attributes;\n      for (var j in nodemap) {\n        if (nodemap.hasOwnProperty(j)) {\n          attrs.push(nodemap[j])\n        }\n      }\n      attrs.forEach(function(attr) { newScript.setAttribute(attr.name, attr.value) });\n      newScript.appendChild(document.createTextNode(oldScript.innerHTML));\n      oldScript.parentNode.replaceChild(newScript, oldScript);\n    });\n    if (JS_MIME_TYPE in output.data) {\n      toinsert[nchildren-1].children[1].textContent = output.data[JS_MIME_TYPE];\n    }\n    output_area._hv_plot_id = id;\n    if ((window.Bokeh !== undefined) && (id in Bokeh.index)) {\n      window.PyViz.plot_index[id] = Bokeh.index[id];\n    } else {\n      window.PyViz.plot_index[id] = null;\n    }\n  } else if (output.metadata[EXEC_MIME_TYPE][\"server_id\"] !== undefined) {\n    var bk_div = document.createElement(\"div\");\n    bk_div.innerHTML = output.data[HTML_MIME_TYPE];\n    var script_attrs = bk_div.children[0].attributes;\n    for (var i = 0; i < script_attrs.length; i++) {\n      toinsert[toinsert.length - 1].childNodes[1].setAttribute(script_attrs[i].name, script_attrs[i].value);\n    }\n    // store reference to server id on output_area\n    output_area._bokeh_server_id = output.metadata[EXEC_MIME_TYPE][\"server_id\"];\n  }\n}\n\n/**\n * Handle when an output is cleared or removed\n */\nfunction handle_clear_output(event, handle) {\n  var id = handle.cell.output_area._hv_plot_id;\n  var server_id = handle.cell.output_area._bokeh_server_id;\n  if (((id === undefined) || !(id in PyViz.plot_index)) && (server_id !== undefined)) { return; }\n  var comm = window.PyViz.comm_manager.get_client_comm(\"hv-extension-comm\", \"hv-extension-comm\", function () {});\n  if (server_id !== null) {\n    comm.send({event_type: 'server_delete', 'id': server_id});\n    return;\n  } else if (comm !== null) {\n    comm.send({event_type: 'delete', 'id': id});\n  }\n  delete PyViz.plot_index[id];\n  if ((window.Bokeh !== undefined) & (id in window.Bokeh.index)) {\n    var doc = window.Bokeh.index[id].model.document\n    doc.clear();\n    const i = window.Bokeh.documents.indexOf(doc);\n    if (i > -1) {\n      window.Bokeh.documents.splice(i, 1);\n    }\n  }\n}\n\n/**\n * Handle kernel restart event\n */\nfunction handle_kernel_cleanup(event, handle) {\n  delete PyViz.comms[\"hv-extension-comm\"];\n  window.PyViz.plot_index = {}\n}\n\n/**\n * Handle update_display_data messages\n */\nfunction handle_update_output(event, handle) {\n  handle_clear_output(event, {cell: {output_area: handle.output_area}})\n  handle_add_output(event, handle)\n}\n\nfunction register_renderer(events, OutputArea) {\n  function append_mime(data, metadata, element) {\n    // create a DOM node to render to\n    var toinsert = this.create_output_subarea(\n    metadata,\n    CLASS_NAME,\n    EXEC_MIME_TYPE\n    );\n    this.keyboard_manager.register_events(toinsert);\n    // Render to node\n    var props = {data: data, metadata: metadata[EXEC_MIME_TYPE]};\n    render(props, toinsert[0]);\n    element.append(toinsert);\n    return toinsert\n  }\n\n  events.on('output_added.OutputArea', handle_add_output);\n  events.on('output_updated.OutputArea', handle_update_output);\n  events.on('clear_output.CodeCell', handle_clear_output);\n  events.on('delete.Cell', handle_clear_output);\n  events.on('kernel_ready.Kernel', handle_kernel_cleanup);\n\n  OutputArea.prototype.register_mime_type(EXEC_MIME_TYPE, append_mime, {\n    safe: true,\n    index: 0\n  });\n}\n\nif (window.Jupyter !== undefined) {\n  try {\n    var events = require('base/js/events');\n    var OutputArea = require('notebook/js/outputarea').OutputArea;\n    if (OutputArea.prototype.mime_types().indexOf(EXEC_MIME_TYPE) == -1) {\n      register_renderer(events, OutputArea);\n    }\n  } catch(err) {\n  }\n}\n"
     },
     "metadata": {},
     "output_type": "display_data"
    }
   ],
   "source": [
    "# Import Python packages\n",
    "from datetime import datetime,date\n",
    "from functools import reduce\n",
    "import numpy as np\n",
    "import pandas as pd\n",
    "import panel as pn\n",
    "import plotly.express as px\n",
    "\n",
    "pn.extension()"
   ]
  },
  {
   "cell_type": "markdown",
   "source": [
    "### Importing and preparing the data"
   ],
   "metadata": {
    "collapsed": false,
    "pycharm": {
     "name": "#%% md\n"
    }
   }
  },
  {
   "cell_type": "code",
   "execution_count": 72,
   "metadata": {},
   "outputs": [],
   "source": [
    "# Import data as a dataframe\n",
    "allVersions = pd.read_csv('terms_metadata.tab', sep='\\t', na_filter = False)"
   ]
  },
  {
   "cell_type": "code",
   "execution_count": 73,
   "outputs": [
    {
     "data": {
      "text/plain": "   datasetVersionId                        persistentUrl  \\\n0            256773      https://doi.org/10.15454/GHAUFR   \n1             52619      https://doi.org/10.15454/TLXRVW   \n2            170336      https://doi.org/10.15454/CX70I3   \n3              1200  https://doi.org/10.21410/7E4/4WG94W   \n4            198147   https://doi.org/10.7910/DVN/5PRYPC   \n\n             persistent_id license  termsOfUse confidentialityDeclaration  \\\n0      doi:10.15454/GHAUFR    NONE   CC BY 2.0                              \n1      doi:10.15454/TLXRVW    NONE   CC BY 2.0                              \n2      doi:10.15454/CX70I3    NONE   CC BY 2.0                              \n3  doi:10.21410/7E4/4WG94W    NONE                                          \n4   doi:10.7910/DVN/5PRYPC     CC0  CC0 Waiver                              \n\n  specialPermissions restrictions citationRequirements depositorRequirements  \\\n0                                                                              \n1                                                                              \n2                                                                              \n3                                                                              \n4                                                                              \n\n   ... availabilityStatus contactForAccess sizeOfCollection studyCompletion  \\\n0  ...                                                                        \n1  ...                                                                        \n2  ...                                                                        \n3  ...                                                                        \n4  ...                                                                        \n\n  datasetPublicationDate     versionCreateTime versionState  \\\n0             2019-02-15  2019-09-18T22:00:00Z     RELEASED   \n1             2019-09-11  2018-09-12T03:19:24Z     RELEASED   \n2             2019-01-21  2019-01-21T10:54:41Z     RELEASED   \n3             2020-05-05  2020-05-13T16:06:28Z     RELEASED   \n4             2020-05-27  2020-06-17T23:49:50Z     RELEASED   \n\n  majorVersionNumber minorVersionNumber           publisher  \n0                  3                  0  Portail Data INRAE  \n1                  1                  0  Portail Data INRAE  \n2                  2                  0  Portail Data INRAE  \n3                  2                  1     data.sciencespo  \n4                  4                  0   Harvard Dataverse  \n\n[5 rows x 25 columns]",
      "text/html": "<div>\n<style scoped>\n    .dataframe tbody tr th:only-of-type {\n        vertical-align: middle;\n    }\n\n    .dataframe tbody tr th {\n        vertical-align: top;\n    }\n\n    .dataframe thead th {\n        text-align: right;\n    }\n</style>\n<table border=\"1\" class=\"dataframe\">\n  <thead>\n    <tr style=\"text-align: right;\">\n      <th></th>\n      <th>datasetVersionId</th>\n      <th>persistentUrl</th>\n      <th>persistent_id</th>\n      <th>license</th>\n      <th>termsOfUse</th>\n      <th>confidentialityDeclaration</th>\n      <th>specialPermissions</th>\n      <th>restrictions</th>\n      <th>citationRequirements</th>\n      <th>depositorRequirements</th>\n      <th>...</th>\n      <th>availabilityStatus</th>\n      <th>contactForAccess</th>\n      <th>sizeOfCollection</th>\n      <th>studyCompletion</th>\n      <th>datasetPublicationDate</th>\n      <th>versionCreateTime</th>\n      <th>versionState</th>\n      <th>majorVersionNumber</th>\n      <th>minorVersionNumber</th>\n      <th>publisher</th>\n    </tr>\n  </thead>\n  <tbody>\n    <tr>\n      <th>0</th>\n      <td>256773</td>\n      <td>https://doi.org/10.15454/GHAUFR</td>\n      <td>doi:10.15454/GHAUFR</td>\n      <td>NONE</td>\n      <td>CC BY 2.0</td>\n      <td></td>\n      <td></td>\n      <td></td>\n      <td></td>\n      <td></td>\n      <td>...</td>\n      <td></td>\n      <td></td>\n      <td></td>\n      <td></td>\n      <td>2019-02-15</td>\n      <td>2019-09-18T22:00:00Z</td>\n      <td>RELEASED</td>\n      <td>3</td>\n      <td>0</td>\n      <td>Portail Data INRAE</td>\n    </tr>\n    <tr>\n      <th>1</th>\n      <td>52619</td>\n      <td>https://doi.org/10.15454/TLXRVW</td>\n      <td>doi:10.15454/TLXRVW</td>\n      <td>NONE</td>\n      <td>CC BY 2.0</td>\n      <td></td>\n      <td></td>\n      <td></td>\n      <td></td>\n      <td></td>\n      <td>...</td>\n      <td></td>\n      <td></td>\n      <td></td>\n      <td></td>\n      <td>2019-09-11</td>\n      <td>2018-09-12T03:19:24Z</td>\n      <td>RELEASED</td>\n      <td>1</td>\n      <td>0</td>\n      <td>Portail Data INRAE</td>\n    </tr>\n    <tr>\n      <th>2</th>\n      <td>170336</td>\n      <td>https://doi.org/10.15454/CX70I3</td>\n      <td>doi:10.15454/CX70I3</td>\n      <td>NONE</td>\n      <td>CC BY 2.0</td>\n      <td></td>\n      <td></td>\n      <td></td>\n      <td></td>\n      <td></td>\n      <td>...</td>\n      <td></td>\n      <td></td>\n      <td></td>\n      <td></td>\n      <td>2019-01-21</td>\n      <td>2019-01-21T10:54:41Z</td>\n      <td>RELEASED</td>\n      <td>2</td>\n      <td>0</td>\n      <td>Portail Data INRAE</td>\n    </tr>\n    <tr>\n      <th>3</th>\n      <td>1200</td>\n      <td>https://doi.org/10.21410/7E4/4WG94W</td>\n      <td>doi:10.21410/7E4/4WG94W</td>\n      <td>NONE</td>\n      <td></td>\n      <td></td>\n      <td></td>\n      <td></td>\n      <td></td>\n      <td></td>\n      <td>...</td>\n      <td></td>\n      <td></td>\n      <td></td>\n      <td></td>\n      <td>2020-05-05</td>\n      <td>2020-05-13T16:06:28Z</td>\n      <td>RELEASED</td>\n      <td>2</td>\n      <td>1</td>\n      <td>data.sciencespo</td>\n    </tr>\n    <tr>\n      <th>4</th>\n      <td>198147</td>\n      <td>https://doi.org/10.7910/DVN/5PRYPC</td>\n      <td>doi:10.7910/DVN/5PRYPC</td>\n      <td>CC0</td>\n      <td>CC0 Waiver</td>\n      <td></td>\n      <td></td>\n      <td></td>\n      <td></td>\n      <td></td>\n      <td>...</td>\n      <td></td>\n      <td></td>\n      <td></td>\n      <td></td>\n      <td>2020-05-27</td>\n      <td>2020-06-17T23:49:50Z</td>\n      <td>RELEASED</td>\n      <td>4</td>\n      <td>0</td>\n      <td>Harvard Dataverse</td>\n    </tr>\n  </tbody>\n</table>\n<p>5 rows × 25 columns</p>\n</div>"
     },
     "execution_count": 73,
     "metadata": {},
     "output_type": "execute_result"
    }
   ],
   "source": [
    "allVersions.head()"
   ],
   "metadata": {
    "collapsed": false,
    "pycharm": {
     "name": "#%%\n"
    }
   }
  },
  {
   "cell_type": "code",
   "execution_count": 74,
   "outputs": [
    {
     "name": "stdout",
     "output_type": "stream",
     "text": [
      "Number of total dataset versions: 382596\n",
      "Number of unique datasets: 155719\n"
     ]
    }
   ],
   "source": [
    "print('Number of total dataset versions: %s' % (len(allVersions)))\n",
    "print('Number of unique datasets: %s' % (len(allVersions.persistentUrl.unique())))"
   ],
   "metadata": {
    "collapsed": false,
    "pycharm": {
     "name": "#%%\n"
    }
   }
  },
  {
   "cell_type": "markdown",
   "source": [
    "**About dataset versioning and Terms metadata**\n",
    "\n",
    "While we know from experience that some datasets published in Dataverse repositories contain versions where each version has its own terms metadata (such as a dataset where each version represents a wave of the same longitudinal research study and data re-users should consider each dataset version's license), let's assume that for a large majority of datasets, the Terms metadata of the latest versions have replaced the metadata of all previous versions.\n",
    "\n",
    "For example, if a dataset has two published versions, the first version has no CC0 waiver, and second version has a CC0 waiver, the CC0 waiver is what should apply to the dataset (and one could argue that previous versions should have been deaccessioned).\n",
    "\n",
    "Since versioning in the Dataverse software is designed more as a way to record improvements to a dataset over time, as opposed to a way to publish disparate but connected datasets (such as waves in a longitudinal study), we'll assume that this is how most depositors use dataset versioning. Additionally, the Dataverse software favors the latest published version of each dataset, tending to expose the metadata in the latest published version more than it exposes the metadata of previously published versions (such as through indexing and search result displays, metadata distributing, and how PIDs direct users to the latest dataset version).\n",
    "\n",
    "So let's get and consider the Terms metadata for only the latest version of each dataset."
   ],
   "metadata": {
    "collapsed": false,
    "pycharm": {
     "name": "#%% md\n"
    }
   }
  },
  {
   "cell_type": "code",
   "execution_count": 192,
   "metadata": {},
   "outputs": [],
   "source": [
    "# Get only metadata for the latest versions of each dataset\n",
    "latestversion = (allVersions\n",
    "                 .iloc[allVersions\n",
    "                    .groupby('persistentUrl')['datasetVersionId']\n",
    "                    .agg(pd.Series.idxmax)]\n",
    "                 .sort_values(by=['publisher'], inplace=False, ascending=True)\n",
    "                 .reset_index(drop=True, inplace=False))"
   ]
  },
  {
   "cell_type": "code",
   "execution_count": 197,
   "metadata": {},
   "outputs": [],
   "source": [
    "# Replace any blank values with NaN, making it easier to count and sort later\n",
    "latestversion = latestversion.replace(r'^\\s*$', np.nan, regex=True)\n",
    "\n",
    "# Dartmouth's repository exports JSON files with \"Root\" in the \"publisher\" key. Replace \"Root\" with \"Dartmouth\"\n",
    "latestversion['publisher'] = latestversion['publisher'].replace(['Root'],'Dartmouth')\n",
    "\n",
    "# Add column with just the date (no time) of the versionCreateTime for each dataset\n",
    "latestversion['versionCreateDate'] = pd.to_datetime(latestversion['versionCreateTime']).dt.date\n",
    "\n",
    "# Add column with just the month of the versionCreateTime for each dataset\n",
    "# latestversion['versionCreateDate'] = pd.to_datetime(latestversion['versionCreateTime']).dt.date\n",
    "latestversion['versionCreateMonth'] = pd.to_datetime(latestversion['versionCreateTime']).dt.to_period('M')\n",
    "\n",
    "# pd.to_timestamp(latestversion['versionCreateMonth'], format=\"%Y-%d\")\n",
    "\n",
    "latestversion['versionCreateMonth'] = latestversion['versionCreateMonth'].astype(str)\n",
    "latestversion['versionCreateMonth'] = pd.to_datetime(latestversion['versionCreateMonth'])\n",
    "\n",
    "# Make sure values in the two date columns are interpreted as dates\n",
    "dateColumns = ['versionCreateTime', 'versionCreateDate']\n",
    "latestversion[dateColumns] = latestversion[dateColumns].apply(pd.to_datetime)\n",
    "\n",
    "\n",
    "# print (pd.to_datetime(df_sub['year'].astype(str)  + df_sub['Months'], format='%Y%B'))\n"
   ]
  },
  {
   "cell_type": "code",
   "execution_count": 210,
   "outputs": [
    {
     "data": {
      "text/plain": "publisher                                  object\npersistentUrl                              object\nversionCreateTime             datetime64[ns, UTC]\nversionCreateDate                  datetime64[ns]\nversionCreateMonth                 datetime64[ns]\nlicense                                    object\ntermsOfUse                                 object\nconfidentialityDeclaration                 object\nspecialPermissions                         object\nrestrictions                               object\ncitationRequirements                       object\ndepositorRequirements                      object\nconditions                                 object\ndisclaimer                                 object\ndtype: object"
     },
     "execution_count": 210,
     "metadata": {},
     "output_type": "execute_result"
    }
   ],
   "source": [
    "latestversion.dtypes"
   ],
   "metadata": {
    "collapsed": false,
    "pycharm": {
     "name": "#%%\n"
    }
   }
  },
  {
   "cell_type": "code",
   "execution_count": 184,
   "outputs": [
    {
     "name": "stdout",
     "output_type": "stream",
     "text": [
      "Number of datasets: 155719\n",
      "Number of installations: 56\n"
     ]
    }
   ],
   "source": [
    "print('Number of datasets: %s' % (len(latestversion)))\n",
    "print('Number of installations: %s' % (len(latestversion.publisher.unique())))"
   ],
   "metadata": {
    "collapsed": false,
    "pycharm": {
     "name": "#%%\n"
    }
   }
  },
  {
   "cell_type": "markdown",
   "source": [
    "### Question 1: How many datasets published by each Dataverse installation include any information about how the data can be used?\n",
    "\n",
    "We'll be exploring the Terms metadata of 155,719 datasets in 56 Dataverse installations. Let's get a count of each dataset in each installation to compare to the count of the datasets with metadata that includes any Terms (including standard licenses in any Terms field)."
   ],
   "metadata": {
    "collapsed": false,
    "pycharm": {
     "name": "#%% md\n"
    }
   }
  },
  {
   "cell_type": "code",
   "execution_count": 185,
   "outputs": [
    {
     "data": {
      "text/plain": "                           count of datasets\npublisher                                   \nPortail Data INRAE                     72010\nHarvard Dataverse                      44057\nopenforestdata.pl                      10116\nUNC Dataverse                           4537\nScholars Portal Dataverse               4096",
      "text/html": "<div>\n<style scoped>\n    .dataframe tbody tr th:only-of-type {\n        vertical-align: middle;\n    }\n\n    .dataframe tbody tr th {\n        vertical-align: top;\n    }\n\n    .dataframe thead th {\n        text-align: right;\n    }\n</style>\n<table border=\"1\" class=\"dataframe\">\n  <thead>\n    <tr style=\"text-align: right;\">\n      <th></th>\n      <th>count of datasets</th>\n    </tr>\n    <tr>\n      <th>publisher</th>\n      <th></th>\n    </tr>\n  </thead>\n  <tbody>\n    <tr>\n      <th>Portail Data INRAE</th>\n      <td>72010</td>\n    </tr>\n    <tr>\n      <th>Harvard Dataverse</th>\n      <td>44057</td>\n    </tr>\n    <tr>\n      <th>openforestdata.pl</th>\n      <td>10116</td>\n    </tr>\n    <tr>\n      <th>UNC Dataverse</th>\n      <td>4537</td>\n    </tr>\n    <tr>\n      <th>Scholars Portal Dataverse</th>\n      <td>4096</td>\n    </tr>\n  </tbody>\n</table>\n</div>"
     },
     "execution_count": 185,
     "metadata": {},
     "output_type": "execute_result"
    }
   ],
   "source": [
    "countDatasetsByInstallation = latestversion.value_counts(subset=['publisher']).to_frame('count of datasets')\n",
    "countDatasetsByInstallation.head()"
   ],
   "metadata": {
    "collapsed": false,
    "pycharm": {
     "name": "#%%\n"
    }
   }
  },
  {
   "cell_type": "markdown",
   "source": [
    "How many of those datasets have metadata with any Terms information?"
   ],
   "metadata": {
    "collapsed": false,
    "pycharm": {
     "name": "#%% md\n"
    }
   }
  },
  {
   "cell_type": "code",
   "execution_count": 199,
   "metadata": {},
   "outputs": [],
   "source": [
    "# Retain only columns containing the publisher name, dataset PID, the date columns when the latest versions were published, and any values in the license and Terms of Use fields\n",
    "latestversion = latestversion[[\n",
    "    'publisher', 'persistentUrl', 'versionCreateTime', 'versionCreateDate', 'versionCreateMonth', 'license', 'termsOfUse', 'confidentialityDeclaration', 'specialPermissions',\n",
    "    'restrictions', 'citationRequirements', 'depositorRequirements', 'conditions', 'disclaimer'\n",
    "]]"
   ]
  },
  {
   "cell_type": "code",
   "execution_count": 213,
   "outputs": [
    {
     "data": {
      "text/plain": "        publisher                        persistentUrl  \\\n0  ACSS Dataverse  https://doi.org/10.25825/FK2/8YKSQV   \n1  ACSS Dataverse  https://doi.org/10.25825/FK2/VXVPVP   \n2  ACSS Dataverse  https://doi.org/10.25825/FK2/VNAJ1I   \n3  ACSS Dataverse  https://doi.org/10.25825/FK2/VEO88P   \n4  ACSS Dataverse  https://doi.org/10.25825/FK2/VEANNS   \n\n          versionCreateTime versionCreateDate versionCreateMonth license  \\\n0 2019-11-14 18:21:51+00:00        2019-11-14         2019-11-01    NONE   \n1 2021-01-06 16:02:23+00:00        2021-01-06         2021-01-01    NONE   \n2 2019-11-18 21:23:56+00:00        2019-11-18         2019-11-01    NONE   \n3 2019-11-13 15:13:57+00:00        2019-11-13         2019-11-01    NONE   \n4 2019-11-12 20:34:20+00:00        2019-11-12         2019-11-01    NONE   \n\n                                          termsOfUse  \\\n0  <b>Acceptance of Terms</b><br></br>\\nThe follo...   \n1  <b>Acceptance of Terms</b><br></br>\\nThe follo...   \n2  <b>Acceptance of Terms</b><br></br>\\nThe follo...   \n3  <b>Acceptance of Terms</b><br></br>\\nThe follo...   \n4  <b>Acceptance of Terms</b><br></br>\\nThe follo...   \n\n  confidentialityDeclaration specialPermissions restrictions  \\\n0                        NaN                NaN          NaN   \n1                        NaN                NaN          NaN   \n2                        NaN                NaN          NaN   \n3                        NaN                NaN          NaN   \n4                        NaN                NaN          NaN   \n\n  citationRequirements depositorRequirements conditions disclaimer  \n0                  NaN                   NaN        NaN        NaN  \n1                  NaN                   NaN        NaN        NaN  \n2                  NaN                   NaN        NaN        NaN  \n3                  NaN                   NaN        NaN        NaN  \n4                  NaN                   NaN        NaN        NaN  ",
      "text/html": "<div>\n<style scoped>\n    .dataframe tbody tr th:only-of-type {\n        vertical-align: middle;\n    }\n\n    .dataframe tbody tr th {\n        vertical-align: top;\n    }\n\n    .dataframe thead th {\n        text-align: right;\n    }\n</style>\n<table border=\"1\" class=\"dataframe\">\n  <thead>\n    <tr style=\"text-align: right;\">\n      <th></th>\n      <th>publisher</th>\n      <th>persistentUrl</th>\n      <th>versionCreateTime</th>\n      <th>versionCreateDate</th>\n      <th>versionCreateMonth</th>\n      <th>license</th>\n      <th>termsOfUse</th>\n      <th>confidentialityDeclaration</th>\n      <th>specialPermissions</th>\n      <th>restrictions</th>\n      <th>citationRequirements</th>\n      <th>depositorRequirements</th>\n      <th>conditions</th>\n      <th>disclaimer</th>\n    </tr>\n  </thead>\n  <tbody>\n    <tr>\n      <th>0</th>\n      <td>ACSS Dataverse</td>\n      <td>https://doi.org/10.25825/FK2/8YKSQV</td>\n      <td>2019-11-14 18:21:51+00:00</td>\n      <td>2019-11-14</td>\n      <td>2019-11-01</td>\n      <td>NONE</td>\n      <td>&lt;b&gt;Acceptance of Terms&lt;/b&gt;&lt;br&gt;&lt;/br&gt;\\nThe follo...</td>\n      <td>NaN</td>\n      <td>NaN</td>\n      <td>NaN</td>\n      <td>NaN</td>\n      <td>NaN</td>\n      <td>NaN</td>\n      <td>NaN</td>\n    </tr>\n    <tr>\n      <th>1</th>\n      <td>ACSS Dataverse</td>\n      <td>https://doi.org/10.25825/FK2/VXVPVP</td>\n      <td>2021-01-06 16:02:23+00:00</td>\n      <td>2021-01-06</td>\n      <td>2021-01-01</td>\n      <td>NONE</td>\n      <td>&lt;b&gt;Acceptance of Terms&lt;/b&gt;&lt;br&gt;&lt;/br&gt;\\nThe follo...</td>\n      <td>NaN</td>\n      <td>NaN</td>\n      <td>NaN</td>\n      <td>NaN</td>\n      <td>NaN</td>\n      <td>NaN</td>\n      <td>NaN</td>\n    </tr>\n    <tr>\n      <th>2</th>\n      <td>ACSS Dataverse</td>\n      <td>https://doi.org/10.25825/FK2/VNAJ1I</td>\n      <td>2019-11-18 21:23:56+00:00</td>\n      <td>2019-11-18</td>\n      <td>2019-11-01</td>\n      <td>NONE</td>\n      <td>&lt;b&gt;Acceptance of Terms&lt;/b&gt;&lt;br&gt;&lt;/br&gt;\\nThe follo...</td>\n      <td>NaN</td>\n      <td>NaN</td>\n      <td>NaN</td>\n      <td>NaN</td>\n      <td>NaN</td>\n      <td>NaN</td>\n      <td>NaN</td>\n    </tr>\n    <tr>\n      <th>3</th>\n      <td>ACSS Dataverse</td>\n      <td>https://doi.org/10.25825/FK2/VEO88P</td>\n      <td>2019-11-13 15:13:57+00:00</td>\n      <td>2019-11-13</td>\n      <td>2019-11-01</td>\n      <td>NONE</td>\n      <td>&lt;b&gt;Acceptance of Terms&lt;/b&gt;&lt;br&gt;&lt;/br&gt;\\nThe follo...</td>\n      <td>NaN</td>\n      <td>NaN</td>\n      <td>NaN</td>\n      <td>NaN</td>\n      <td>NaN</td>\n      <td>NaN</td>\n      <td>NaN</td>\n    </tr>\n    <tr>\n      <th>4</th>\n      <td>ACSS Dataverse</td>\n      <td>https://doi.org/10.25825/FK2/VEANNS</td>\n      <td>2019-11-12 20:34:20+00:00</td>\n      <td>2019-11-12</td>\n      <td>2019-11-01</td>\n      <td>NONE</td>\n      <td>&lt;b&gt;Acceptance of Terms&lt;/b&gt;&lt;br&gt;&lt;/br&gt;\\nThe follo...</td>\n      <td>NaN</td>\n      <td>NaN</td>\n      <td>NaN</td>\n      <td>NaN</td>\n      <td>NaN</td>\n      <td>NaN</td>\n      <td>NaN</td>\n    </tr>\n  </tbody>\n</table>\n</div>"
     },
     "execution_count": 213,
     "metadata": {},
     "output_type": "execute_result"
    }
   ],
   "source": [
    "latestversion.head()"
   ],
   "metadata": {
    "collapsed": false,
    "pycharm": {
     "name": "#%%\n"
    }
   }
  },
  {
   "cell_type": "code",
   "execution_count": 139,
   "metadata": {},
   "outputs": [
    {
     "data": {
      "text/plain": "array(['NONE', 'CC0', 'CC BY', nan, 'CCBY'], dtype=object)"
     },
     "execution_count": 139,
     "metadata": {},
     "output_type": "execute_result"
    }
   ],
   "source": [
    "# List unique licences in all repositories' license fields\n",
    "latestversion.license.unique()"
   ]
  },
  {
   "cell_type": "code",
   "execution_count": 234,
   "outputs": [],
   "source": [
    "# Create dataframe containing only datasets with something in their license fields or any Terms of Use fields\n",
    "datasetsWithAnyTerms = (latestversion\n",
    "                    .query('license == \"CC0\" or license == \"CCBY\" or license == \"CC BY\" or termsOfUse.notnull() or confidentialityDeclaration.notnull() or specialPermissions.notnull() or restrictions.notnull() or citationRequirements.notnull() or depositorRequirements.notnull() or conditions.notnull() or disclaimer.notnull()')\n",
    "                   .reset_index(drop = True, inplace = False)\n",
    "                   )"
   ],
   "metadata": {
    "collapsed": false,
    "pycharm": {
     "name": "#%%\n"
    }
   }
  },
  {
   "cell_type": "markdown",
   "source": [
    "How many of those datasets are in each installation?"
   ],
   "metadata": {
    "collapsed": false,
    "pycharm": {
     "name": "#%% md\n"
    }
   }
  },
  {
   "cell_type": "code",
   "execution_count": 235,
   "outputs": [
    {
     "data": {
      "text/plain": "                    count of datasets with any Terms\npublisher                                           \nPortail Data INRAE                             72005\nHarvard Dataverse                              34447\nopenforestdata.pl                              10042\nUNC Dataverse                                   4284\nRIN Dataverse                                   4016",
      "text/html": "<div>\n<style scoped>\n    .dataframe tbody tr th:only-of-type {\n        vertical-align: middle;\n    }\n\n    .dataframe tbody tr th {\n        vertical-align: top;\n    }\n\n    .dataframe thead th {\n        text-align: right;\n    }\n</style>\n<table border=\"1\" class=\"dataframe\">\n  <thead>\n    <tr style=\"text-align: right;\">\n      <th></th>\n      <th>count of datasets with any Terms</th>\n    </tr>\n    <tr>\n      <th>publisher</th>\n      <th></th>\n    </tr>\n  </thead>\n  <tbody>\n    <tr>\n      <th>Portail Data INRAE</th>\n      <td>72005</td>\n    </tr>\n    <tr>\n      <th>Harvard Dataverse</th>\n      <td>34447</td>\n    </tr>\n    <tr>\n      <th>openforestdata.pl</th>\n      <td>10042</td>\n    </tr>\n    <tr>\n      <th>UNC Dataverse</th>\n      <td>4284</td>\n    </tr>\n    <tr>\n      <th>RIN Dataverse</th>\n      <td>4016</td>\n    </tr>\n  </tbody>\n</table>\n</div>"
     },
     "execution_count": 235,
     "metadata": {},
     "output_type": "execute_result"
    }
   ],
   "source": [
    "countDatasetsWithTermsByInstallation = datasetsWithAnyTerms.value_counts(subset=['publisher']).to_frame('count of datasets with any Terms')\n",
    "countDatasetsWithTermsByInstallation.head()"
   ],
   "metadata": {
    "collapsed": false,
    "pycharm": {
     "name": "#%%\n"
    }
   }
  },
  {
   "cell_type": "code",
   "execution_count": 217,
   "outputs": [],
   "source": [
    "# Function for getting daily count of published datasets\n",
    "def daily_count(df, countColumnName):\n",
    "    df = (\n",
    "\n",
    "        # Retain only these columns\n",
    "        df[[\n",
    "            'versionCreateDate', 'persistentUrl']]\n",
    "\n",
    "            # Group versionCreateDate column to get count of persistentUrls each day\n",
    "            .value_counts(subset=['versionCreateDate'])\n",
    "            .to_frame(countColumnName)\n",
    "\n",
    "            .sort_values(by=['versionCreateDate'], inplace=False, ascending=True)\n",
    "            .reset_index(drop=False, inplace=False)\n",
    "    )\n",
    "    return df"
   ],
   "metadata": {
    "collapsed": false,
    "pycharm": {
     "name": "#%%\n"
    }
   }
  },
  {
   "cell_type": "code",
   "execution_count": 229,
   "outputs": [],
   "source": [
    "# Function for getting monthly count of published datasets\n",
    "def monthly_count(df, countColumnName):\n",
    "    df = (\n",
    "        # Retain only these columns\n",
    "        df[['versionCreateMonth', 'persistentUrl']]\n",
    "\n",
    "        # Group by versionCreateMonth\n",
    "            .value_counts(subset=['versionCreateMonth'])\n",
    "            .to_frame(countColumnName)\n",
    "\n",
    "            .sort_values(by=['versionCreateMonth'], inplace=False, ascending=True)\n",
    "            .reset_index(drop=False, inplace=False)\n",
    "    )\n",
    "    return df"
   ],
   "metadata": {
    "collapsed": false,
    "pycharm": {
     "name": "#%%\n"
    }
   }
  },
  {
   "cell_type": "code",
   "execution_count": 237,
   "outputs": [
    {
     "data": {
      "text/plain": "  versionCreateMonth  datasets with any Terms\n0         2007-02-01                       76\n1         2007-03-01                        2\n2         2007-04-01                       39\n3         2007-05-01                        4\n4         2007-06-01                      126",
      "text/html": "<div>\n<style scoped>\n    .dataframe tbody tr th:only-of-type {\n        vertical-align: middle;\n    }\n\n    .dataframe tbody tr th {\n        vertical-align: top;\n    }\n\n    .dataframe thead th {\n        text-align: right;\n    }\n</style>\n<table border=\"1\" class=\"dataframe\">\n  <thead>\n    <tr style=\"text-align: right;\">\n      <th></th>\n      <th>versionCreateMonth</th>\n      <th>datasets with any Terms</th>\n    </tr>\n  </thead>\n  <tbody>\n    <tr>\n      <th>0</th>\n      <td>2007-02-01</td>\n      <td>76</td>\n    </tr>\n    <tr>\n      <th>1</th>\n      <td>2007-03-01</td>\n      <td>2</td>\n    </tr>\n    <tr>\n      <th>2</th>\n      <td>2007-04-01</td>\n      <td>39</td>\n    </tr>\n    <tr>\n      <th>3</th>\n      <td>2007-05-01</td>\n      <td>4</td>\n    </tr>\n    <tr>\n      <th>4</th>\n      <td>2007-06-01</td>\n      <td>126</td>\n    </tr>\n  </tbody>\n</table>\n</div>"
     },
     "execution_count": 237,
     "metadata": {},
     "output_type": "execute_result"
    }
   ],
   "source": [
    "# Create line chart showing, of all published datasets, what percentage has metadata with any Terms?\n",
    "\n",
    "# Create dataframe with the percentage, each day, of datasets with any Terms (compared to all datasets)\n",
    "\n",
    "# Create dataframes with the number of latest dataset versions published each month and datasets with any Terms published each month\n",
    "monthlyTotalDatasetCount = monthly_count(latestversion, 'datasets published')\n",
    "monthlyCountDatasetsWithAnyTerms = monthly_count(datasetsWithAnyTerms, 'datasets with any Terms')"
   ],
   "metadata": {
    "collapsed": false,
    "pycharm": {
     "name": "#%%\n"
    }
   }
  },
  {
   "cell_type": "code",
   "execution_count": 238,
   "outputs": [
    {
     "data": {
      "text/plain": "                    datasets published  datasets with any Terms\nversionCreateMonth                                             \n2007-02-01                          84                       76\n2007-03-01                           2                        2\n2007-04-01                          39                       39\n2007-05-01                           4                        4\n2007-06-01                         132                      126\n2007-07-01                          75                       75\n2007-08-01                        2807                     2807\n2007-09-01                          30                       30\n2007-10-01                          26                       25\n2007-11-01                          40                       40\n2007-12-01                           8                        8\n2008-01-01                         132                      130\n2008-02-01                          81                       81\n2008-03-01                           6                        6\n2008-04-01                          34                       34\n2008-05-01                          11                       11\n2008-06-01                          16                       15\n2008-07-01                          16                       16\n2008-08-01                          15                       14\n2008-09-01                          67                       67",
      "text/html": "<div>\n<style scoped>\n    .dataframe tbody tr th:only-of-type {\n        vertical-align: middle;\n    }\n\n    .dataframe tbody tr th {\n        vertical-align: top;\n    }\n\n    .dataframe thead th {\n        text-align: right;\n    }\n</style>\n<table border=\"1\" class=\"dataframe\">\n  <thead>\n    <tr style=\"text-align: right;\">\n      <th></th>\n      <th>datasets published</th>\n      <th>datasets with any Terms</th>\n    </tr>\n    <tr>\n      <th>versionCreateMonth</th>\n      <th></th>\n      <th></th>\n    </tr>\n  </thead>\n  <tbody>\n    <tr>\n      <th>2007-02-01</th>\n      <td>84</td>\n      <td>76</td>\n    </tr>\n    <tr>\n      <th>2007-03-01</th>\n      <td>2</td>\n      <td>2</td>\n    </tr>\n    <tr>\n      <th>2007-04-01</th>\n      <td>39</td>\n      <td>39</td>\n    </tr>\n    <tr>\n      <th>2007-05-01</th>\n      <td>4</td>\n      <td>4</td>\n    </tr>\n    <tr>\n      <th>2007-06-01</th>\n      <td>132</td>\n      <td>126</td>\n    </tr>\n    <tr>\n      <th>2007-07-01</th>\n      <td>75</td>\n      <td>75</td>\n    </tr>\n    <tr>\n      <th>2007-08-01</th>\n      <td>2807</td>\n      <td>2807</td>\n    </tr>\n    <tr>\n      <th>2007-09-01</th>\n      <td>30</td>\n      <td>30</td>\n    </tr>\n    <tr>\n      <th>2007-10-01</th>\n      <td>26</td>\n      <td>25</td>\n    </tr>\n    <tr>\n      <th>2007-11-01</th>\n      <td>40</td>\n      <td>40</td>\n    </tr>\n    <tr>\n      <th>2007-12-01</th>\n      <td>8</td>\n      <td>8</td>\n    </tr>\n    <tr>\n      <th>2008-01-01</th>\n      <td>132</td>\n      <td>130</td>\n    </tr>\n    <tr>\n      <th>2008-02-01</th>\n      <td>81</td>\n      <td>81</td>\n    </tr>\n    <tr>\n      <th>2008-03-01</th>\n      <td>6</td>\n      <td>6</td>\n    </tr>\n    <tr>\n      <th>2008-04-01</th>\n      <td>34</td>\n      <td>34</td>\n    </tr>\n    <tr>\n      <th>2008-05-01</th>\n      <td>11</td>\n      <td>11</td>\n    </tr>\n    <tr>\n      <th>2008-06-01</th>\n      <td>16</td>\n      <td>15</td>\n    </tr>\n    <tr>\n      <th>2008-07-01</th>\n      <td>16</td>\n      <td>16</td>\n    </tr>\n    <tr>\n      <th>2008-08-01</th>\n      <td>15</td>\n      <td>14</td>\n    </tr>\n    <tr>\n      <th>2008-09-01</th>\n      <td>67</td>\n      <td>67</td>\n    </tr>\n  </tbody>\n</table>\n</div>"
     },
     "execution_count": 238,
     "metadata": {},
     "output_type": "execute_result"
    }
   ],
   "source": [
    "# Combine the two datasets\n",
    "dataframes = [\n",
    "    monthlyTotalDatasetCount,\n",
    "    monthlyCountDatasetsWithAnyTerms,\n",
    "    ]\n",
    "\n",
    "for dataframe in dataframes:\n",
    "    dataframe.set_index(['versionCreateMonth'], inplace=True)\n",
    "\n",
    "# dailyTotalDatasetsVersusDatasetsWithTerms = reduce(lambda left,right: pd.merge(left, right, on=['versionCreateDate'], how='outer'), dataframes)\n",
    "\n",
    "monthlyTotalDatasetsVersusDatasetsWithTerms = reduce(lambda left, right: left.join(right, how='outer'), dataframes)\n",
    "\n",
    "# Format allCountsByInstallation dataframe to replace NA values with 0, cast values as integers and sort by greatest number of datasets with a license plus ToU\n",
    "monthlyTotalDatasetsVersusDatasetsWithTerms = (monthlyTotalDatasetsVersusDatasetsWithTerms\n",
    "    .fillna(0)\n",
    "    .astype('int32')\n",
    "    )\n",
    "monthlyTotalDatasetsVersusDatasetsWithTerms.head(20)"
   ],
   "metadata": {
    "collapsed": false,
    "pycharm": {
     "name": "#%%\n"
    }
   }
  },
  {
   "cell_type": "code",
   "execution_count": 239,
   "outputs": [
    {
     "data": {
      "text/plain": "   versionCreateMonth  datasets published  datasets with any Terms  \\\n0          2007-02-01                  84                       76   \n1          2007-03-01                   2                        2   \n2          2007-04-01                  39                       39   \n3          2007-05-01                   4                        4   \n4          2007-06-01                 132                      126   \n5          2007-07-01                  75                       75   \n6          2007-08-01                2807                     2807   \n7          2007-09-01                  30                       30   \n8          2007-10-01                  26                       25   \n9          2007-11-01                  40                       40   \n10         2007-12-01                   8                        8   \n11         2008-01-01                 132                      130   \n12         2008-02-01                  81                       81   \n13         2008-03-01                   6                        6   \n14         2008-04-01                  34                       34   \n15         2008-05-01                  11                       11   \n16         2008-06-01                  16                       15   \n17         2008-07-01                  16                       16   \n18         2008-08-01                  15                       14   \n19         2008-09-01                  67                       67   \n\n    percent of datasets with any Terms  \n0                             0.904762  \n1                             1.000000  \n2                             1.000000  \n3                             1.000000  \n4                             0.954545  \n5                             1.000000  \n6                             1.000000  \n7                             1.000000  \n8                             0.961538  \n9                             1.000000  \n10                            1.000000  \n11                            0.984848  \n12                            1.000000  \n13                            1.000000  \n14                            1.000000  \n15                            1.000000  \n16                            0.937500  \n17                            1.000000  \n18                            0.933333  \n19                            1.000000  ",
      "text/html": "<div>\n<style scoped>\n    .dataframe tbody tr th:only-of-type {\n        vertical-align: middle;\n    }\n\n    .dataframe tbody tr th {\n        vertical-align: top;\n    }\n\n    .dataframe thead th {\n        text-align: right;\n    }\n</style>\n<table border=\"1\" class=\"dataframe\">\n  <thead>\n    <tr style=\"text-align: right;\">\n      <th></th>\n      <th>versionCreateMonth</th>\n      <th>datasets published</th>\n      <th>datasets with any Terms</th>\n      <th>percent of datasets with any Terms</th>\n    </tr>\n  </thead>\n  <tbody>\n    <tr>\n      <th>0</th>\n      <td>2007-02-01</td>\n      <td>84</td>\n      <td>76</td>\n      <td>0.904762</td>\n    </tr>\n    <tr>\n      <th>1</th>\n      <td>2007-03-01</td>\n      <td>2</td>\n      <td>2</td>\n      <td>1.000000</td>\n    </tr>\n    <tr>\n      <th>2</th>\n      <td>2007-04-01</td>\n      <td>39</td>\n      <td>39</td>\n      <td>1.000000</td>\n    </tr>\n    <tr>\n      <th>3</th>\n      <td>2007-05-01</td>\n      <td>4</td>\n      <td>4</td>\n      <td>1.000000</td>\n    </tr>\n    <tr>\n      <th>4</th>\n      <td>2007-06-01</td>\n      <td>132</td>\n      <td>126</td>\n      <td>0.954545</td>\n    </tr>\n    <tr>\n      <th>5</th>\n      <td>2007-07-01</td>\n      <td>75</td>\n      <td>75</td>\n      <td>1.000000</td>\n    </tr>\n    <tr>\n      <th>6</th>\n      <td>2007-08-01</td>\n      <td>2807</td>\n      <td>2807</td>\n      <td>1.000000</td>\n    </tr>\n    <tr>\n      <th>7</th>\n      <td>2007-09-01</td>\n      <td>30</td>\n      <td>30</td>\n      <td>1.000000</td>\n    </tr>\n    <tr>\n      <th>8</th>\n      <td>2007-10-01</td>\n      <td>26</td>\n      <td>25</td>\n      <td>0.961538</td>\n    </tr>\n    <tr>\n      <th>9</th>\n      <td>2007-11-01</td>\n      <td>40</td>\n      <td>40</td>\n      <td>1.000000</td>\n    </tr>\n    <tr>\n      <th>10</th>\n      <td>2007-12-01</td>\n      <td>8</td>\n      <td>8</td>\n      <td>1.000000</td>\n    </tr>\n    <tr>\n      <th>11</th>\n      <td>2008-01-01</td>\n      <td>132</td>\n      <td>130</td>\n      <td>0.984848</td>\n    </tr>\n    <tr>\n      <th>12</th>\n      <td>2008-02-01</td>\n      <td>81</td>\n      <td>81</td>\n      <td>1.000000</td>\n    </tr>\n    <tr>\n      <th>13</th>\n      <td>2008-03-01</td>\n      <td>6</td>\n      <td>6</td>\n      <td>1.000000</td>\n    </tr>\n    <tr>\n      <th>14</th>\n      <td>2008-04-01</td>\n      <td>34</td>\n      <td>34</td>\n      <td>1.000000</td>\n    </tr>\n    <tr>\n      <th>15</th>\n      <td>2008-05-01</td>\n      <td>11</td>\n      <td>11</td>\n      <td>1.000000</td>\n    </tr>\n    <tr>\n      <th>16</th>\n      <td>2008-06-01</td>\n      <td>16</td>\n      <td>15</td>\n      <td>0.937500</td>\n    </tr>\n    <tr>\n      <th>17</th>\n      <td>2008-07-01</td>\n      <td>16</td>\n      <td>16</td>\n      <td>1.000000</td>\n    </tr>\n    <tr>\n      <th>18</th>\n      <td>2008-08-01</td>\n      <td>15</td>\n      <td>14</td>\n      <td>0.933333</td>\n    </tr>\n    <tr>\n      <th>19</th>\n      <td>2008-09-01</td>\n      <td>67</td>\n      <td>67</td>\n      <td>1.000000</td>\n    </tr>\n  </tbody>\n</table>\n</div>"
     },
     "execution_count": 239,
     "metadata": {},
     "output_type": "execute_result"
    }
   ],
   "source": [
    "# Add column showing percentage of datasets with any Terms\n",
    "monthlyTotalDatasetsVersusDatasetsWithTerms['percent of datasets with any Terms'] = monthlyTotalDatasetsVersusDatasetsWithTerms['datasets with any Terms'] / monthlyTotalDatasetsVersusDatasetsWithTerms['datasets published']\n",
    "\n",
    "monthlyTotalDatasetsVersusDatasetsWithTerms.reset_index(drop=False, inplace=True)"
   ],
   "metadata": {
    "collapsed": false,
    "pycharm": {
     "name": "#%%\n"
    }
   }
  },
  {
   "cell_type": "code",
   "execution_count": 242,
   "outputs": [
    {
     "data": {
      "text/plain": "    versionCreateMonth  datasets published  datasets with any Terms  \\\n0           2007-02-01                  84                       76   \n1           2007-03-01                   2                        2   \n2           2007-04-01                  39                       39   \n3           2007-05-01                   4                        4   \n4           2007-06-01                 132                      126   \n..                 ...                 ...                      ...   \n170         2021-04-01                2660                     2636   \n171         2021-05-01                2323                     2296   \n172         2021-06-01                2776                     1543   \n173         2021-07-01                2891                     2881   \n174         2021-08-01                 962                      959   \n\n     percent of datasets with any Terms  \n0                              0.904762  \n1                              1.000000  \n2                              1.000000  \n3                              1.000000  \n4                              0.954545  \n..                                  ...  \n170                            0.990977  \n171                            0.988377  \n172                            0.555836  \n173                            0.996541  \n174                            0.996881  \n\n[175 rows x 4 columns]",
      "text/html": "<div>\n<style scoped>\n    .dataframe tbody tr th:only-of-type {\n        vertical-align: middle;\n    }\n\n    .dataframe tbody tr th {\n        vertical-align: top;\n    }\n\n    .dataframe thead th {\n        text-align: right;\n    }\n</style>\n<table border=\"1\" class=\"dataframe\">\n  <thead>\n    <tr style=\"text-align: right;\">\n      <th></th>\n      <th>versionCreateMonth</th>\n      <th>datasets published</th>\n      <th>datasets with any Terms</th>\n      <th>percent of datasets with any Terms</th>\n    </tr>\n  </thead>\n  <tbody>\n    <tr>\n      <th>0</th>\n      <td>2007-02-01</td>\n      <td>84</td>\n      <td>76</td>\n      <td>0.904762</td>\n    </tr>\n    <tr>\n      <th>1</th>\n      <td>2007-03-01</td>\n      <td>2</td>\n      <td>2</td>\n      <td>1.000000</td>\n    </tr>\n    <tr>\n      <th>2</th>\n      <td>2007-04-01</td>\n      <td>39</td>\n      <td>39</td>\n      <td>1.000000</td>\n    </tr>\n    <tr>\n      <th>3</th>\n      <td>2007-05-01</td>\n      <td>4</td>\n      <td>4</td>\n      <td>1.000000</td>\n    </tr>\n    <tr>\n      <th>4</th>\n      <td>2007-06-01</td>\n      <td>132</td>\n      <td>126</td>\n      <td>0.954545</td>\n    </tr>\n    <tr>\n      <th>...</th>\n      <td>...</td>\n      <td>...</td>\n      <td>...</td>\n      <td>...</td>\n    </tr>\n    <tr>\n      <th>170</th>\n      <td>2021-04-01</td>\n      <td>2660</td>\n      <td>2636</td>\n      <td>0.990977</td>\n    </tr>\n    <tr>\n      <th>171</th>\n      <td>2021-05-01</td>\n      <td>2323</td>\n      <td>2296</td>\n      <td>0.988377</td>\n    </tr>\n    <tr>\n      <th>172</th>\n      <td>2021-06-01</td>\n      <td>2776</td>\n      <td>1543</td>\n      <td>0.555836</td>\n    </tr>\n    <tr>\n      <th>173</th>\n      <td>2021-07-01</td>\n      <td>2891</td>\n      <td>2881</td>\n      <td>0.996541</td>\n    </tr>\n    <tr>\n      <th>174</th>\n      <td>2021-08-01</td>\n      <td>962</td>\n      <td>959</td>\n      <td>0.996881</td>\n    </tr>\n  </tbody>\n</table>\n<p>175 rows × 4 columns</p>\n</div>"
     },
     "execution_count": 242,
     "metadata": {},
     "output_type": "execute_result"
    }
   ],
   "source": [
    "monthlyTotalDatasetsVersusDatasetsWithTerms.head(200)"
   ],
   "metadata": {
    "collapsed": false,
    "pycharm": {
     "name": "#%%\n"
    }
   }
  },
  {
   "cell_type": "code",
   "execution_count": 240,
   "outputs": [
    {
     "data": {
      "text/plain": "versionCreateMonth                    datetime64[ns]\ndatasets published                             int32\ndatasets with any Terms                        int32\npercent of datasets with any Terms           float64\ndtype: object"
     },
     "execution_count": 240,
     "metadata": {},
     "output_type": "execute_result"
    }
   ],
   "source": [
    "monthlyTotalDatasetsVersusDatasetsWithTerms.dtypes"
   ],
   "metadata": {
    "collapsed": false,
    "pycharm": {
     "name": "#%%\n"
    }
   }
  },
  {
   "cell_type": "code",
   "execution_count": 241,
   "outputs": [
    {
     "data": {
      "application/vnd.plotly.v1+json": {
       "config": {
        "plotlyServerURL": "https://plot.ly"
       },
       "data": [
        {
         "hovertemplate": "versionCreateMonth=%{x}<br>percent of datasets with any Terms=%{y}<extra></extra>",
         "legendgroup": "",
         "line": {
          "color": "#636efa",
          "dash": "solid"
         },
         "marker": {
          "symbol": "circle"
         },
         "mode": "lines",
         "name": "",
         "orientation": "v",
         "showlegend": false,
         "type": "scatter",
         "x": [
          "2007-02-01T00:00:00",
          "2007-03-01T00:00:00",
          "2007-04-01T00:00:00",
          "2007-05-01T00:00:00",
          "2007-06-01T00:00:00",
          "2007-07-01T00:00:00",
          "2007-08-01T00:00:00",
          "2007-09-01T00:00:00",
          "2007-10-01T00:00:00",
          "2007-11-01T00:00:00",
          "2007-12-01T00:00:00",
          "2008-01-01T00:00:00",
          "2008-02-01T00:00:00",
          "2008-03-01T00:00:00",
          "2008-04-01T00:00:00",
          "2008-05-01T00:00:00",
          "2008-06-01T00:00:00",
          "2008-07-01T00:00:00",
          "2008-08-01T00:00:00",
          "2008-09-01T00:00:00",
          "2008-10-01T00:00:00",
          "2008-11-01T00:00:00",
          "2008-12-01T00:00:00",
          "2009-01-01T00:00:00",
          "2009-02-01T00:00:00",
          "2009-03-01T00:00:00",
          "2009-04-01T00:00:00",
          "2009-05-01T00:00:00",
          "2009-06-01T00:00:00",
          "2009-07-01T00:00:00",
          "2009-08-01T00:00:00",
          "2009-09-01T00:00:00",
          "2009-10-01T00:00:00",
          "2009-11-01T00:00:00",
          "2009-12-01T00:00:00",
          "2010-01-01T00:00:00",
          "2010-02-01T00:00:00",
          "2010-03-01T00:00:00",
          "2010-04-01T00:00:00",
          "2010-05-01T00:00:00",
          "2010-06-01T00:00:00",
          "2010-07-01T00:00:00",
          "2010-08-01T00:00:00",
          "2010-09-01T00:00:00",
          "2010-10-01T00:00:00",
          "2010-11-01T00:00:00",
          "2010-12-01T00:00:00",
          "2011-01-01T00:00:00",
          "2011-02-01T00:00:00",
          "2011-03-01T00:00:00",
          "2011-04-01T00:00:00",
          "2011-05-01T00:00:00",
          "2011-06-01T00:00:00",
          "2011-07-01T00:00:00",
          "2011-08-01T00:00:00",
          "2011-09-01T00:00:00",
          "2011-10-01T00:00:00",
          "2011-11-01T00:00:00",
          "2011-12-01T00:00:00",
          "2012-01-01T00:00:00",
          "2012-02-01T00:00:00",
          "2012-03-01T00:00:00",
          "2012-04-01T00:00:00",
          "2012-05-01T00:00:00",
          "2012-06-01T00:00:00",
          "2012-07-01T00:00:00",
          "2012-08-01T00:00:00",
          "2012-09-01T00:00:00",
          "2012-10-01T00:00:00",
          "2012-11-01T00:00:00",
          "2012-12-01T00:00:00",
          "2013-01-01T00:00:00",
          "2013-02-01T00:00:00",
          "2013-03-01T00:00:00",
          "2013-04-01T00:00:00",
          "2013-05-01T00:00:00",
          "2013-06-01T00:00:00",
          "2013-07-01T00:00:00",
          "2013-08-01T00:00:00",
          "2013-09-01T00:00:00",
          "2013-10-01T00:00:00",
          "2013-11-01T00:00:00",
          "2013-12-01T00:00:00",
          "2014-01-01T00:00:00",
          "2014-02-01T00:00:00",
          "2014-03-01T00:00:00",
          "2014-04-01T00:00:00",
          "2014-05-01T00:00:00",
          "2014-06-01T00:00:00",
          "2014-07-01T00:00:00",
          "2014-08-01T00:00:00",
          "2014-09-01T00:00:00",
          "2014-10-01T00:00:00",
          "2014-11-01T00:00:00",
          "2014-12-01T00:00:00",
          "2015-01-01T00:00:00",
          "2015-02-01T00:00:00",
          "2015-03-01T00:00:00",
          "2015-04-01T00:00:00",
          "2015-05-01T00:00:00",
          "2015-06-01T00:00:00",
          "2015-07-01T00:00:00",
          "2015-08-01T00:00:00",
          "2015-09-01T00:00:00",
          "2015-10-01T00:00:00",
          "2015-11-01T00:00:00",
          "2015-12-01T00:00:00",
          "2016-01-01T00:00:00",
          "2016-02-01T00:00:00",
          "2016-03-01T00:00:00",
          "2016-04-01T00:00:00",
          "2016-05-01T00:00:00",
          "2016-06-01T00:00:00",
          "2016-07-01T00:00:00",
          "2016-08-01T00:00:00",
          "2016-09-01T00:00:00",
          "2016-10-01T00:00:00",
          "2016-11-01T00:00:00",
          "2016-12-01T00:00:00",
          "2017-01-01T00:00:00",
          "2017-02-01T00:00:00",
          "2017-03-01T00:00:00",
          "2017-04-01T00:00:00",
          "2017-05-01T00:00:00",
          "2017-06-01T00:00:00",
          "2017-07-01T00:00:00",
          "2017-08-01T00:00:00",
          "2017-09-01T00:00:00",
          "2017-10-01T00:00:00",
          "2017-11-01T00:00:00",
          "2017-12-01T00:00:00",
          "2018-01-01T00:00:00",
          "2018-02-01T00:00:00",
          "2018-03-01T00:00:00",
          "2018-04-01T00:00:00",
          "2018-05-01T00:00:00",
          "2018-06-01T00:00:00",
          "2018-07-01T00:00:00",
          "2018-08-01T00:00:00",
          "2018-09-01T00:00:00",
          "2018-10-01T00:00:00",
          "2018-11-01T00:00:00",
          "2018-12-01T00:00:00",
          "2019-01-01T00:00:00",
          "2019-02-01T00:00:00",
          "2019-03-01T00:00:00",
          "2019-04-01T00:00:00",
          "2019-05-01T00:00:00",
          "2019-06-01T00:00:00",
          "2019-07-01T00:00:00",
          "2019-08-01T00:00:00",
          "2019-09-01T00:00:00",
          "2019-10-01T00:00:00",
          "2019-11-01T00:00:00",
          "2019-12-01T00:00:00",
          "2020-01-01T00:00:00",
          "2020-02-01T00:00:00",
          "2020-03-01T00:00:00",
          "2020-04-01T00:00:00",
          "2020-05-01T00:00:00",
          "2020-06-01T00:00:00",
          "2020-07-01T00:00:00",
          "2020-08-01T00:00:00",
          "2020-09-01T00:00:00",
          "2020-10-01T00:00:00",
          "2020-11-01T00:00:00",
          "2020-12-01T00:00:00",
          "2021-01-01T00:00:00",
          "2021-02-01T00:00:00",
          "2021-03-01T00:00:00",
          "2021-04-01T00:00:00",
          "2021-05-01T00:00:00",
          "2021-06-01T00:00:00",
          "2021-07-01T00:00:00",
          "2021-08-01T00:00:00"
         ],
         "xaxis": "x",
         "y": [
          0.9047619047619048,
          1.0,
          1.0,
          1.0,
          0.9545454545454546,
          1.0,
          1.0,
          1.0,
          0.9615384615384616,
          1.0,
          1.0,
          0.9848484848484849,
          1.0,
          1.0,
          1.0,
          1.0,
          0.9375,
          1.0,
          0.9333333333333333,
          1.0,
          0.9901960784313726,
          1.0,
          0.9375,
          1.0,
          1.0,
          0.08333333333333333,
          0.3181818181818182,
          0.9976945244956772,
          0.75,
          0.75,
          0.9,
          0.8235294117647058,
          1.0,
          0.8461538461538461,
          0.9767441860465116,
          0.5238095238095238,
          0.9565217391304348,
          0.9361702127659575,
          0.9193548387096774,
          0.8461538461538461,
          0.8,
          0.8095238095238095,
          0.8518518518518519,
          0.8095238095238095,
          0.9111111111111111,
          0.9117647058823529,
          0.6333333333333333,
          0.7714285714285715,
          0.8636363636363636,
          0.8769230769230769,
          0.8372093023255814,
          0.8292682926829268,
          0.7560975609756098,
          0.5192307692307693,
          0.8171428571428572,
          0.6197183098591549,
          0.8767123287671232,
          0.92,
          0.6833333333333333,
          0.9222222222222223,
          0.9739130434782609,
          0.8611111111111112,
          0.96,
          0.9032258064516129,
          0.9637681159420289,
          0.8727272727272727,
          0.8333333333333334,
          0.9024390243902439,
          0.9041095890410958,
          0.6451612903225806,
          0.7976190476190477,
          0.9121621621621622,
          0.8163265306122449,
          0.7391304347826086,
          0.7,
          0.7927927927927928,
          0.9071428571428571,
          0.8898305084745762,
          0.9012345679012346,
          0.8936170212765957,
          0.8586956521739131,
          0.6746987951807228,
          0.7079646017699115,
          0.8660714285714286,
          0.7959183673469388,
          0.813953488372093,
          0.8783783783783784,
          0.9186046511627907,
          0.8950276243093923,
          0.7647058823529411,
          0.884393063583815,
          0.9132653061224489,
          0.872,
          0.8484848484848485,
          0.9113924050632911,
          0.8918918918918919,
          0.8648648648648649,
          0.95,
          0.9074074074074074,
          0.9569620253164557,
          0.5261437908496732,
          0.85625,
          0.944206008583691,
          0.8980582524271845,
          0.9788359788359788,
          0.9661971830985916,
          0.9597701149425287,
          0.9691629955947136,
          0.9337016574585635,
          0.8385416666666666,
          0.81640625,
          0.8627450980392157,
          0.9536082474226805,
          0.9689578713968958,
          0.9590909090909091,
          0.8417874396135265,
          0.9381818181818182,
          0.6970588235294117,
          0.914572864321608,
          0.8472727272727273,
          0.04801864801864802,
          0.9897610921501706,
          0.9897959183673469,
          0.9622641509433962,
          0.981549815498155,
          0.9662447257383966,
          0.9722222222222222,
          0.985781990521327,
          0.9700374531835206,
          0.988929889298893,
          0.8417508417508418,
          0.9886363636363636,
          0.9910282953761215,
          0.9716874292185731,
          0.9857768052516411,
          0.9922992299229924,
          0.9940564635958395,
          0.9931506849315068,
          0.9944690265486725,
          0.9940758293838863,
          0.9598880597014925,
          0.9620535714285714,
          0.9249394673123487,
          0.9940665701881332,
          0.9885245901639345,
          0.9789864029666254,
          0.9877675840978594,
          0.9883720930232558,
          0.9634782608695652,
          0.9861963190184049,
          0.9984375,
          0.9998545995024072,
          0.9921976592977894,
          0.9874638379942141,
          0.8099647266313933,
          0.9905660377358491,
          0.9983416252072969,
          0.9845238095238096,
          0.9812409812409812,
          0.6768518518518518,
          0.9542961608775137,
          0.9561200923787528,
          0.9953051643192489,
          0.9787234042553191,
          0.9848866498740554,
          0.9884649511978705,
          0.27892293407613744,
          0.7874125874125875,
          0.9691204852495175,
          0.98950233281493,
          0.9909774436090225,
          0.9883770985794231,
          0.555835734870317,
          0.9965409892770668,
          0.9968814968814969
         ],
         "yaxis": "y"
        }
       ],
       "layout": {
        "legend": {
         "tracegroupgap": 0
        },
        "template": {
         "data": {
          "bar": [
           {
            "error_x": {
             "color": "#2a3f5f"
            },
            "error_y": {
             "color": "#2a3f5f"
            },
            "marker": {
             "line": {
              "color": "#E5ECF6",
              "width": 0.5
             },
             "pattern": {
              "fillmode": "overlay",
              "size": 10,
              "solidity": 0.2
             }
            },
            "type": "bar"
           }
          ],
          "barpolar": [
           {
            "marker": {
             "line": {
              "color": "#E5ECF6",
              "width": 0.5
             },
             "pattern": {
              "fillmode": "overlay",
              "size": 10,
              "solidity": 0.2
             }
            },
            "type": "barpolar"
           }
          ],
          "carpet": [
           {
            "aaxis": {
             "endlinecolor": "#2a3f5f",
             "gridcolor": "white",
             "linecolor": "white",
             "minorgridcolor": "white",
             "startlinecolor": "#2a3f5f"
            },
            "baxis": {
             "endlinecolor": "#2a3f5f",
             "gridcolor": "white",
             "linecolor": "white",
             "minorgridcolor": "white",
             "startlinecolor": "#2a3f5f"
            },
            "type": "carpet"
           }
          ],
          "choropleth": [
           {
            "colorbar": {
             "outlinewidth": 0,
             "ticks": ""
            },
            "type": "choropleth"
           }
          ],
          "contour": [
           {
            "colorbar": {
             "outlinewidth": 0,
             "ticks": ""
            },
            "colorscale": [
             [
              0.0,
              "#0d0887"
             ],
             [
              0.1111111111111111,
              "#46039f"
             ],
             [
              0.2222222222222222,
              "#7201a8"
             ],
             [
              0.3333333333333333,
              "#9c179e"
             ],
             [
              0.4444444444444444,
              "#bd3786"
             ],
             [
              0.5555555555555556,
              "#d8576b"
             ],
             [
              0.6666666666666666,
              "#ed7953"
             ],
             [
              0.7777777777777778,
              "#fb9f3a"
             ],
             [
              0.8888888888888888,
              "#fdca26"
             ],
             [
              1.0,
              "#f0f921"
             ]
            ],
            "type": "contour"
           }
          ],
          "contourcarpet": [
           {
            "colorbar": {
             "outlinewidth": 0,
             "ticks": ""
            },
            "type": "contourcarpet"
           }
          ],
          "heatmap": [
           {
            "colorbar": {
             "outlinewidth": 0,
             "ticks": ""
            },
            "colorscale": [
             [
              0.0,
              "#0d0887"
             ],
             [
              0.1111111111111111,
              "#46039f"
             ],
             [
              0.2222222222222222,
              "#7201a8"
             ],
             [
              0.3333333333333333,
              "#9c179e"
             ],
             [
              0.4444444444444444,
              "#bd3786"
             ],
             [
              0.5555555555555556,
              "#d8576b"
             ],
             [
              0.6666666666666666,
              "#ed7953"
             ],
             [
              0.7777777777777778,
              "#fb9f3a"
             ],
             [
              0.8888888888888888,
              "#fdca26"
             ],
             [
              1.0,
              "#f0f921"
             ]
            ],
            "type": "heatmap"
           }
          ],
          "heatmapgl": [
           {
            "colorbar": {
             "outlinewidth": 0,
             "ticks": ""
            },
            "colorscale": [
             [
              0.0,
              "#0d0887"
             ],
             [
              0.1111111111111111,
              "#46039f"
             ],
             [
              0.2222222222222222,
              "#7201a8"
             ],
             [
              0.3333333333333333,
              "#9c179e"
             ],
             [
              0.4444444444444444,
              "#bd3786"
             ],
             [
              0.5555555555555556,
              "#d8576b"
             ],
             [
              0.6666666666666666,
              "#ed7953"
             ],
             [
              0.7777777777777778,
              "#fb9f3a"
             ],
             [
              0.8888888888888888,
              "#fdca26"
             ],
             [
              1.0,
              "#f0f921"
             ]
            ],
            "type": "heatmapgl"
           }
          ],
          "histogram": [
           {
            "marker": {
             "pattern": {
              "fillmode": "overlay",
              "size": 10,
              "solidity": 0.2
             }
            },
            "type": "histogram"
           }
          ],
          "histogram2d": [
           {
            "colorbar": {
             "outlinewidth": 0,
             "ticks": ""
            },
            "colorscale": [
             [
              0.0,
              "#0d0887"
             ],
             [
              0.1111111111111111,
              "#46039f"
             ],
             [
              0.2222222222222222,
              "#7201a8"
             ],
             [
              0.3333333333333333,
              "#9c179e"
             ],
             [
              0.4444444444444444,
              "#bd3786"
             ],
             [
              0.5555555555555556,
              "#d8576b"
             ],
             [
              0.6666666666666666,
              "#ed7953"
             ],
             [
              0.7777777777777778,
              "#fb9f3a"
             ],
             [
              0.8888888888888888,
              "#fdca26"
             ],
             [
              1.0,
              "#f0f921"
             ]
            ],
            "type": "histogram2d"
           }
          ],
          "histogram2dcontour": [
           {
            "colorbar": {
             "outlinewidth": 0,
             "ticks": ""
            },
            "colorscale": [
             [
              0.0,
              "#0d0887"
             ],
             [
              0.1111111111111111,
              "#46039f"
             ],
             [
              0.2222222222222222,
              "#7201a8"
             ],
             [
              0.3333333333333333,
              "#9c179e"
             ],
             [
              0.4444444444444444,
              "#bd3786"
             ],
             [
              0.5555555555555556,
              "#d8576b"
             ],
             [
              0.6666666666666666,
              "#ed7953"
             ],
             [
              0.7777777777777778,
              "#fb9f3a"
             ],
             [
              0.8888888888888888,
              "#fdca26"
             ],
             [
              1.0,
              "#f0f921"
             ]
            ],
            "type": "histogram2dcontour"
           }
          ],
          "mesh3d": [
           {
            "colorbar": {
             "outlinewidth": 0,
             "ticks": ""
            },
            "type": "mesh3d"
           }
          ],
          "parcoords": [
           {
            "line": {
             "colorbar": {
              "outlinewidth": 0,
              "ticks": ""
             }
            },
            "type": "parcoords"
           }
          ],
          "pie": [
           {
            "automargin": true,
            "type": "pie"
           }
          ],
          "scatter": [
           {
            "marker": {
             "colorbar": {
              "outlinewidth": 0,
              "ticks": ""
             }
            },
            "type": "scatter"
           }
          ],
          "scatter3d": [
           {
            "line": {
             "colorbar": {
              "outlinewidth": 0,
              "ticks": ""
             }
            },
            "marker": {
             "colorbar": {
              "outlinewidth": 0,
              "ticks": ""
             }
            },
            "type": "scatter3d"
           }
          ],
          "scattercarpet": [
           {
            "marker": {
             "colorbar": {
              "outlinewidth": 0,
              "ticks": ""
             }
            },
            "type": "scattercarpet"
           }
          ],
          "scattergeo": [
           {
            "marker": {
             "colorbar": {
              "outlinewidth": 0,
              "ticks": ""
             }
            },
            "type": "scattergeo"
           }
          ],
          "scattergl": [
           {
            "marker": {
             "colorbar": {
              "outlinewidth": 0,
              "ticks": ""
             }
            },
            "type": "scattergl"
           }
          ],
          "scattermapbox": [
           {
            "marker": {
             "colorbar": {
              "outlinewidth": 0,
              "ticks": ""
             }
            },
            "type": "scattermapbox"
           }
          ],
          "scatterpolar": [
           {
            "marker": {
             "colorbar": {
              "outlinewidth": 0,
              "ticks": ""
             }
            },
            "type": "scatterpolar"
           }
          ],
          "scatterpolargl": [
           {
            "marker": {
             "colorbar": {
              "outlinewidth": 0,
              "ticks": ""
             }
            },
            "type": "scatterpolargl"
           }
          ],
          "scatterternary": [
           {
            "marker": {
             "colorbar": {
              "outlinewidth": 0,
              "ticks": ""
             }
            },
            "type": "scatterternary"
           }
          ],
          "surface": [
           {
            "colorbar": {
             "outlinewidth": 0,
             "ticks": ""
            },
            "colorscale": [
             [
              0.0,
              "#0d0887"
             ],
             [
              0.1111111111111111,
              "#46039f"
             ],
             [
              0.2222222222222222,
              "#7201a8"
             ],
             [
              0.3333333333333333,
              "#9c179e"
             ],
             [
              0.4444444444444444,
              "#bd3786"
             ],
             [
              0.5555555555555556,
              "#d8576b"
             ],
             [
              0.6666666666666666,
              "#ed7953"
             ],
             [
              0.7777777777777778,
              "#fb9f3a"
             ],
             [
              0.8888888888888888,
              "#fdca26"
             ],
             [
              1.0,
              "#f0f921"
             ]
            ],
            "type": "surface"
           }
          ],
          "table": [
           {
            "cells": {
             "fill": {
              "color": "#EBF0F8"
             },
             "line": {
              "color": "white"
             }
            },
            "header": {
             "fill": {
              "color": "#C8D4E3"
             },
             "line": {
              "color": "white"
             }
            },
            "type": "table"
           }
          ]
         },
         "layout": {
          "annotationdefaults": {
           "arrowcolor": "#2a3f5f",
           "arrowhead": 0,
           "arrowwidth": 1
          },
          "autotypenumbers": "strict",
          "coloraxis": {
           "colorbar": {
            "outlinewidth": 0,
            "ticks": ""
           }
          },
          "colorscale": {
           "diverging": [
            [
             0,
             "#8e0152"
            ],
            [
             0.1,
             "#c51b7d"
            ],
            [
             0.2,
             "#de77ae"
            ],
            [
             0.3,
             "#f1b6da"
            ],
            [
             0.4,
             "#fde0ef"
            ],
            [
             0.5,
             "#f7f7f7"
            ],
            [
             0.6,
             "#e6f5d0"
            ],
            [
             0.7,
             "#b8e186"
            ],
            [
             0.8,
             "#7fbc41"
            ],
            [
             0.9,
             "#4d9221"
            ],
            [
             1,
             "#276419"
            ]
           ],
           "sequential": [
            [
             0.0,
             "#0d0887"
            ],
            [
             0.1111111111111111,
             "#46039f"
            ],
            [
             0.2222222222222222,
             "#7201a8"
            ],
            [
             0.3333333333333333,
             "#9c179e"
            ],
            [
             0.4444444444444444,
             "#bd3786"
            ],
            [
             0.5555555555555556,
             "#d8576b"
            ],
            [
             0.6666666666666666,
             "#ed7953"
            ],
            [
             0.7777777777777778,
             "#fb9f3a"
            ],
            [
             0.8888888888888888,
             "#fdca26"
            ],
            [
             1.0,
             "#f0f921"
            ]
           ],
           "sequentialminus": [
            [
             0.0,
             "#0d0887"
            ],
            [
             0.1111111111111111,
             "#46039f"
            ],
            [
             0.2222222222222222,
             "#7201a8"
            ],
            [
             0.3333333333333333,
             "#9c179e"
            ],
            [
             0.4444444444444444,
             "#bd3786"
            ],
            [
             0.5555555555555556,
             "#d8576b"
            ],
            [
             0.6666666666666666,
             "#ed7953"
            ],
            [
             0.7777777777777778,
             "#fb9f3a"
            ],
            [
             0.8888888888888888,
             "#fdca26"
            ],
            [
             1.0,
             "#f0f921"
            ]
           ]
          },
          "colorway": [
           "#636efa",
           "#EF553B",
           "#00cc96",
           "#ab63fa",
           "#FFA15A",
           "#19d3f3",
           "#FF6692",
           "#B6E880",
           "#FF97FF",
           "#FECB52"
          ],
          "font": {
           "color": "#2a3f5f"
          },
          "geo": {
           "bgcolor": "white",
           "lakecolor": "white",
           "landcolor": "#E5ECF6",
           "showlakes": true,
           "showland": true,
           "subunitcolor": "white"
          },
          "hoverlabel": {
           "align": "left"
          },
          "hovermode": "closest",
          "mapbox": {
           "style": "light"
          },
          "paper_bgcolor": "white",
          "plot_bgcolor": "#E5ECF6",
          "polar": {
           "angularaxis": {
            "gridcolor": "white",
            "linecolor": "white",
            "ticks": ""
           },
           "bgcolor": "#E5ECF6",
           "radialaxis": {
            "gridcolor": "white",
            "linecolor": "white",
            "ticks": ""
           }
          },
          "scene": {
           "xaxis": {
            "backgroundcolor": "#E5ECF6",
            "gridcolor": "white",
            "gridwidth": 2,
            "linecolor": "white",
            "showbackground": true,
            "ticks": "",
            "zerolinecolor": "white"
           },
           "yaxis": {
            "backgroundcolor": "#E5ECF6",
            "gridcolor": "white",
            "gridwidth": 2,
            "linecolor": "white",
            "showbackground": true,
            "ticks": "",
            "zerolinecolor": "white"
           },
           "zaxis": {
            "backgroundcolor": "#E5ECF6",
            "gridcolor": "white",
            "gridwidth": 2,
            "linecolor": "white",
            "showbackground": true,
            "ticks": "",
            "zerolinecolor": "white"
           }
          },
          "shapedefaults": {
           "line": {
            "color": "#2a3f5f"
           }
          },
          "ternary": {
           "aaxis": {
            "gridcolor": "white",
            "linecolor": "white",
            "ticks": ""
           },
           "baxis": {
            "gridcolor": "white",
            "linecolor": "white",
            "ticks": ""
           },
           "bgcolor": "#E5ECF6",
           "caxis": {
            "gridcolor": "white",
            "linecolor": "white",
            "ticks": ""
           }
          },
          "title": {
           "x": 0.05
          },
          "xaxis": {
           "automargin": true,
           "gridcolor": "white",
           "linecolor": "white",
           "ticks": "",
           "title": {
            "standoff": 15
           },
           "zerolinecolor": "white",
           "zerolinewidth": 2
          },
          "yaxis": {
           "automargin": true,
           "gridcolor": "white",
           "linecolor": "white",
           "ticks": "",
           "title": {
            "standoff": 15
           },
           "zerolinecolor": "white",
           "zerolinewidth": 2
          }
         }
        },
        "title": {
         "text": "Percent of datasets published with any Terms"
        },
        "xaxis": {
         "anchor": "y",
         "domain": [
          0.0,
          1.0
         ],
         "title": {
          "text": "versionCreateMonth"
         }
        },
        "yaxis": {
         "anchor": "x",
         "domain": [
          0.0,
          1.0
         ],
         "title": {
          "text": "percent of datasets with any Terms"
         }
        }
       }
      },
      "text/html": "<div>                            <div id=\"88d6cdbd-7edc-48c5-8163-ad1d4831bbfe\" class=\"plotly-graph-div\" style=\"height:525px; width:100%;\"></div>            <script type=\"text/javascript\">                require([\"plotly\"], function(Plotly) {                    window.PLOTLYENV=window.PLOTLYENV || {};                                    if (document.getElementById(\"88d6cdbd-7edc-48c5-8163-ad1d4831bbfe\")) {                    Plotly.newPlot(                        \"88d6cdbd-7edc-48c5-8163-ad1d4831bbfe\",                        [{\"hovertemplate\":\"versionCreateMonth=%{x}<br>percent of datasets with any Terms=%{y}<extra></extra>\",\"legendgroup\":\"\",\"line\":{\"color\":\"#636efa\",\"dash\":\"solid\"},\"marker\":{\"symbol\":\"circle\"},\"mode\":\"lines\",\"name\":\"\",\"orientation\":\"v\",\"showlegend\":false,\"type\":\"scatter\",\"x\":[\"2007-02-01T00:00:00\",\"2007-03-01T00:00:00\",\"2007-04-01T00:00:00\",\"2007-05-01T00:00:00\",\"2007-06-01T00:00:00\",\"2007-07-01T00:00:00\",\"2007-08-01T00:00:00\",\"2007-09-01T00:00:00\",\"2007-10-01T00:00:00\",\"2007-11-01T00:00:00\",\"2007-12-01T00:00:00\",\"2008-01-01T00:00:00\",\"2008-02-01T00:00:00\",\"2008-03-01T00:00:00\",\"2008-04-01T00:00:00\",\"2008-05-01T00:00:00\",\"2008-06-01T00:00:00\",\"2008-07-01T00:00:00\",\"2008-08-01T00:00:00\",\"2008-09-01T00:00:00\",\"2008-10-01T00:00:00\",\"2008-11-01T00:00:00\",\"2008-12-01T00:00:00\",\"2009-01-01T00:00:00\",\"2009-02-01T00:00:00\",\"2009-03-01T00:00:00\",\"2009-04-01T00:00:00\",\"2009-05-01T00:00:00\",\"2009-06-01T00:00:00\",\"2009-07-01T00:00:00\",\"2009-08-01T00:00:00\",\"2009-09-01T00:00:00\",\"2009-10-01T00:00:00\",\"2009-11-01T00:00:00\",\"2009-12-01T00:00:00\",\"2010-01-01T00:00:00\",\"2010-02-01T00:00:00\",\"2010-03-01T00:00:00\",\"2010-04-01T00:00:00\",\"2010-05-01T00:00:00\",\"2010-06-01T00:00:00\",\"2010-07-01T00:00:00\",\"2010-08-01T00:00:00\",\"2010-09-01T00:00:00\",\"2010-10-01T00:00:00\",\"2010-11-01T00:00:00\",\"2010-12-01T00:00:00\",\"2011-01-01T00:00:00\",\"2011-02-01T00:00:00\",\"2011-03-01T00:00:00\",\"2011-04-01T00:00:00\",\"2011-05-01T00:00:00\",\"2011-06-01T00:00:00\",\"2011-07-01T00:00:00\",\"2011-08-01T00:00:00\",\"2011-09-01T00:00:00\",\"2011-10-01T00:00:00\",\"2011-11-01T00:00:00\",\"2011-12-01T00:00:00\",\"2012-01-01T00:00:00\",\"2012-02-01T00:00:00\",\"2012-03-01T00:00:00\",\"2012-04-01T00:00:00\",\"2012-05-01T00:00:00\",\"2012-06-01T00:00:00\",\"2012-07-01T00:00:00\",\"2012-08-01T00:00:00\",\"2012-09-01T00:00:00\",\"2012-10-01T00:00:00\",\"2012-11-01T00:00:00\",\"2012-12-01T00:00:00\",\"2013-01-01T00:00:00\",\"2013-02-01T00:00:00\",\"2013-03-01T00:00:00\",\"2013-04-01T00:00:00\",\"2013-05-01T00:00:00\",\"2013-06-01T00:00:00\",\"2013-07-01T00:00:00\",\"2013-08-01T00:00:00\",\"2013-09-01T00:00:00\",\"2013-10-01T00:00:00\",\"2013-11-01T00:00:00\",\"2013-12-01T00:00:00\",\"2014-01-01T00:00:00\",\"2014-02-01T00:00:00\",\"2014-03-01T00:00:00\",\"2014-04-01T00:00:00\",\"2014-05-01T00:00:00\",\"2014-06-01T00:00:00\",\"2014-07-01T00:00:00\",\"2014-08-01T00:00:00\",\"2014-09-01T00:00:00\",\"2014-10-01T00:00:00\",\"2014-11-01T00:00:00\",\"2014-12-01T00:00:00\",\"2015-01-01T00:00:00\",\"2015-02-01T00:00:00\",\"2015-03-01T00:00:00\",\"2015-04-01T00:00:00\",\"2015-05-01T00:00:00\",\"2015-06-01T00:00:00\",\"2015-07-01T00:00:00\",\"2015-08-01T00:00:00\",\"2015-09-01T00:00:00\",\"2015-10-01T00:00:00\",\"2015-11-01T00:00:00\",\"2015-12-01T00:00:00\",\"2016-01-01T00:00:00\",\"2016-02-01T00:00:00\",\"2016-03-01T00:00:00\",\"2016-04-01T00:00:00\",\"2016-05-01T00:00:00\",\"2016-06-01T00:00:00\",\"2016-07-01T00:00:00\",\"2016-08-01T00:00:00\",\"2016-09-01T00:00:00\",\"2016-10-01T00:00:00\",\"2016-11-01T00:00:00\",\"2016-12-01T00:00:00\",\"2017-01-01T00:00:00\",\"2017-02-01T00:00:00\",\"2017-03-01T00:00:00\",\"2017-04-01T00:00:00\",\"2017-05-01T00:00:00\",\"2017-06-01T00:00:00\",\"2017-07-01T00:00:00\",\"2017-08-01T00:00:00\",\"2017-09-01T00:00:00\",\"2017-10-01T00:00:00\",\"2017-11-01T00:00:00\",\"2017-12-01T00:00:00\",\"2018-01-01T00:00:00\",\"2018-02-01T00:00:00\",\"2018-03-01T00:00:00\",\"2018-04-01T00:00:00\",\"2018-05-01T00:00:00\",\"2018-06-01T00:00:00\",\"2018-07-01T00:00:00\",\"2018-08-01T00:00:00\",\"2018-09-01T00:00:00\",\"2018-10-01T00:00:00\",\"2018-11-01T00:00:00\",\"2018-12-01T00:00:00\",\"2019-01-01T00:00:00\",\"2019-02-01T00:00:00\",\"2019-03-01T00:00:00\",\"2019-04-01T00:00:00\",\"2019-05-01T00:00:00\",\"2019-06-01T00:00:00\",\"2019-07-01T00:00:00\",\"2019-08-01T00:00:00\",\"2019-09-01T00:00:00\",\"2019-10-01T00:00:00\",\"2019-11-01T00:00:00\",\"2019-12-01T00:00:00\",\"2020-01-01T00:00:00\",\"2020-02-01T00:00:00\",\"2020-03-01T00:00:00\",\"2020-04-01T00:00:00\",\"2020-05-01T00:00:00\",\"2020-06-01T00:00:00\",\"2020-07-01T00:00:00\",\"2020-08-01T00:00:00\",\"2020-09-01T00:00:00\",\"2020-10-01T00:00:00\",\"2020-11-01T00:00:00\",\"2020-12-01T00:00:00\",\"2021-01-01T00:00:00\",\"2021-02-01T00:00:00\",\"2021-03-01T00:00:00\",\"2021-04-01T00:00:00\",\"2021-05-01T00:00:00\",\"2021-06-01T00:00:00\",\"2021-07-01T00:00:00\",\"2021-08-01T00:00:00\"],\"xaxis\":\"x\",\"y\":[0.9047619047619048,1.0,1.0,1.0,0.9545454545454546,1.0,1.0,1.0,0.9615384615384616,1.0,1.0,0.9848484848484849,1.0,1.0,1.0,1.0,0.9375,1.0,0.9333333333333333,1.0,0.9901960784313726,1.0,0.9375,1.0,1.0,0.08333333333333333,0.3181818181818182,0.9976945244956772,0.75,0.75,0.9,0.8235294117647058,1.0,0.8461538461538461,0.9767441860465116,0.5238095238095238,0.9565217391304348,0.9361702127659575,0.9193548387096774,0.8461538461538461,0.8,0.8095238095238095,0.8518518518518519,0.8095238095238095,0.9111111111111111,0.9117647058823529,0.6333333333333333,0.7714285714285715,0.8636363636363636,0.8769230769230769,0.8372093023255814,0.8292682926829268,0.7560975609756098,0.5192307692307693,0.8171428571428572,0.6197183098591549,0.8767123287671232,0.92,0.6833333333333333,0.9222222222222223,0.9739130434782609,0.8611111111111112,0.96,0.9032258064516129,0.9637681159420289,0.8727272727272727,0.8333333333333334,0.9024390243902439,0.9041095890410958,0.6451612903225806,0.7976190476190477,0.9121621621621622,0.8163265306122449,0.7391304347826086,0.7,0.7927927927927928,0.9071428571428571,0.8898305084745762,0.9012345679012346,0.8936170212765957,0.8586956521739131,0.6746987951807228,0.7079646017699115,0.8660714285714286,0.7959183673469388,0.813953488372093,0.8783783783783784,0.9186046511627907,0.8950276243093923,0.7647058823529411,0.884393063583815,0.9132653061224489,0.872,0.8484848484848485,0.9113924050632911,0.8918918918918919,0.8648648648648649,0.95,0.9074074074074074,0.9569620253164557,0.5261437908496732,0.85625,0.944206008583691,0.8980582524271845,0.9788359788359788,0.9661971830985916,0.9597701149425287,0.9691629955947136,0.9337016574585635,0.8385416666666666,0.81640625,0.8627450980392157,0.9536082474226805,0.9689578713968958,0.9590909090909091,0.8417874396135265,0.9381818181818182,0.6970588235294117,0.914572864321608,0.8472727272727273,0.04801864801864802,0.9897610921501706,0.9897959183673469,0.9622641509433962,0.981549815498155,0.9662447257383966,0.9722222222222222,0.985781990521327,0.9700374531835206,0.988929889298893,0.8417508417508418,0.9886363636363636,0.9910282953761215,0.9716874292185731,0.9857768052516411,0.9922992299229924,0.9940564635958395,0.9931506849315068,0.9944690265486725,0.9940758293838863,0.9598880597014925,0.9620535714285714,0.9249394673123487,0.9940665701881332,0.9885245901639345,0.9789864029666254,0.9877675840978594,0.9883720930232558,0.9634782608695652,0.9861963190184049,0.9984375,0.9998545995024072,0.9921976592977894,0.9874638379942141,0.8099647266313933,0.9905660377358491,0.9983416252072969,0.9845238095238096,0.9812409812409812,0.6768518518518518,0.9542961608775137,0.9561200923787528,0.9953051643192489,0.9787234042553191,0.9848866498740554,0.9884649511978705,0.27892293407613744,0.7874125874125875,0.9691204852495175,0.98950233281493,0.9909774436090225,0.9883770985794231,0.555835734870317,0.9965409892770668,0.9968814968814969],\"yaxis\":\"y\"}],                        {\"legend\":{\"tracegroupgap\":0},\"template\":{\"data\":{\"bar\":[{\"error_x\":{\"color\":\"#2a3f5f\"},\"error_y\":{\"color\":\"#2a3f5f\"},\"marker\":{\"line\":{\"color\":\"#E5ECF6\",\"width\":0.5},\"pattern\":{\"fillmode\":\"overlay\",\"size\":10,\"solidity\":0.2}},\"type\":\"bar\"}],\"barpolar\":[{\"marker\":{\"line\":{\"color\":\"#E5ECF6\",\"width\":0.5},\"pattern\":{\"fillmode\":\"overlay\",\"size\":10,\"solidity\":0.2}},\"type\":\"barpolar\"}],\"carpet\":[{\"aaxis\":{\"endlinecolor\":\"#2a3f5f\",\"gridcolor\":\"white\",\"linecolor\":\"white\",\"minorgridcolor\":\"white\",\"startlinecolor\":\"#2a3f5f\"},\"baxis\":{\"endlinecolor\":\"#2a3f5f\",\"gridcolor\":\"white\",\"linecolor\":\"white\",\"minorgridcolor\":\"white\",\"startlinecolor\":\"#2a3f5f\"},\"type\":\"carpet\"}],\"choropleth\":[{\"colorbar\":{\"outlinewidth\":0,\"ticks\":\"\"},\"type\":\"choropleth\"}],\"contour\":[{\"colorbar\":{\"outlinewidth\":0,\"ticks\":\"\"},\"colorscale\":[[0.0,\"#0d0887\"],[0.1111111111111111,\"#46039f\"],[0.2222222222222222,\"#7201a8\"],[0.3333333333333333,\"#9c179e\"],[0.4444444444444444,\"#bd3786\"],[0.5555555555555556,\"#d8576b\"],[0.6666666666666666,\"#ed7953\"],[0.7777777777777778,\"#fb9f3a\"],[0.8888888888888888,\"#fdca26\"],[1.0,\"#f0f921\"]],\"type\":\"contour\"}],\"contourcarpet\":[{\"colorbar\":{\"outlinewidth\":0,\"ticks\":\"\"},\"type\":\"contourcarpet\"}],\"heatmap\":[{\"colorbar\":{\"outlinewidth\":0,\"ticks\":\"\"},\"colorscale\":[[0.0,\"#0d0887\"],[0.1111111111111111,\"#46039f\"],[0.2222222222222222,\"#7201a8\"],[0.3333333333333333,\"#9c179e\"],[0.4444444444444444,\"#bd3786\"],[0.5555555555555556,\"#d8576b\"],[0.6666666666666666,\"#ed7953\"],[0.7777777777777778,\"#fb9f3a\"],[0.8888888888888888,\"#fdca26\"],[1.0,\"#f0f921\"]],\"type\":\"heatmap\"}],\"heatmapgl\":[{\"colorbar\":{\"outlinewidth\":0,\"ticks\":\"\"},\"colorscale\":[[0.0,\"#0d0887\"],[0.1111111111111111,\"#46039f\"],[0.2222222222222222,\"#7201a8\"],[0.3333333333333333,\"#9c179e\"],[0.4444444444444444,\"#bd3786\"],[0.5555555555555556,\"#d8576b\"],[0.6666666666666666,\"#ed7953\"],[0.7777777777777778,\"#fb9f3a\"],[0.8888888888888888,\"#fdca26\"],[1.0,\"#f0f921\"]],\"type\":\"heatmapgl\"}],\"histogram\":[{\"marker\":{\"pattern\":{\"fillmode\":\"overlay\",\"size\":10,\"solidity\":0.2}},\"type\":\"histogram\"}],\"histogram2d\":[{\"colorbar\":{\"outlinewidth\":0,\"ticks\":\"\"},\"colorscale\":[[0.0,\"#0d0887\"],[0.1111111111111111,\"#46039f\"],[0.2222222222222222,\"#7201a8\"],[0.3333333333333333,\"#9c179e\"],[0.4444444444444444,\"#bd3786\"],[0.5555555555555556,\"#d8576b\"],[0.6666666666666666,\"#ed7953\"],[0.7777777777777778,\"#fb9f3a\"],[0.8888888888888888,\"#fdca26\"],[1.0,\"#f0f921\"]],\"type\":\"histogram2d\"}],\"histogram2dcontour\":[{\"colorbar\":{\"outlinewidth\":0,\"ticks\":\"\"},\"colorscale\":[[0.0,\"#0d0887\"],[0.1111111111111111,\"#46039f\"],[0.2222222222222222,\"#7201a8\"],[0.3333333333333333,\"#9c179e\"],[0.4444444444444444,\"#bd3786\"],[0.5555555555555556,\"#d8576b\"],[0.6666666666666666,\"#ed7953\"],[0.7777777777777778,\"#fb9f3a\"],[0.8888888888888888,\"#fdca26\"],[1.0,\"#f0f921\"]],\"type\":\"histogram2dcontour\"}],\"mesh3d\":[{\"colorbar\":{\"outlinewidth\":0,\"ticks\":\"\"},\"type\":\"mesh3d\"}],\"parcoords\":[{\"line\":{\"colorbar\":{\"outlinewidth\":0,\"ticks\":\"\"}},\"type\":\"parcoords\"}],\"pie\":[{\"automargin\":true,\"type\":\"pie\"}],\"scatter\":[{\"marker\":{\"colorbar\":{\"outlinewidth\":0,\"ticks\":\"\"}},\"type\":\"scatter\"}],\"scatter3d\":[{\"line\":{\"colorbar\":{\"outlinewidth\":0,\"ticks\":\"\"}},\"marker\":{\"colorbar\":{\"outlinewidth\":0,\"ticks\":\"\"}},\"type\":\"scatter3d\"}],\"scattercarpet\":[{\"marker\":{\"colorbar\":{\"outlinewidth\":0,\"ticks\":\"\"}},\"type\":\"scattercarpet\"}],\"scattergeo\":[{\"marker\":{\"colorbar\":{\"outlinewidth\":0,\"ticks\":\"\"}},\"type\":\"scattergeo\"}],\"scattergl\":[{\"marker\":{\"colorbar\":{\"outlinewidth\":0,\"ticks\":\"\"}},\"type\":\"scattergl\"}],\"scattermapbox\":[{\"marker\":{\"colorbar\":{\"outlinewidth\":0,\"ticks\":\"\"}},\"type\":\"scattermapbox\"}],\"scatterpolar\":[{\"marker\":{\"colorbar\":{\"outlinewidth\":0,\"ticks\":\"\"}},\"type\":\"scatterpolar\"}],\"scatterpolargl\":[{\"marker\":{\"colorbar\":{\"outlinewidth\":0,\"ticks\":\"\"}},\"type\":\"scatterpolargl\"}],\"scatterternary\":[{\"marker\":{\"colorbar\":{\"outlinewidth\":0,\"ticks\":\"\"}},\"type\":\"scatterternary\"}],\"surface\":[{\"colorbar\":{\"outlinewidth\":0,\"ticks\":\"\"},\"colorscale\":[[0.0,\"#0d0887\"],[0.1111111111111111,\"#46039f\"],[0.2222222222222222,\"#7201a8\"],[0.3333333333333333,\"#9c179e\"],[0.4444444444444444,\"#bd3786\"],[0.5555555555555556,\"#d8576b\"],[0.6666666666666666,\"#ed7953\"],[0.7777777777777778,\"#fb9f3a\"],[0.8888888888888888,\"#fdca26\"],[1.0,\"#f0f921\"]],\"type\":\"surface\"}],\"table\":[{\"cells\":{\"fill\":{\"color\":\"#EBF0F8\"},\"line\":{\"color\":\"white\"}},\"header\":{\"fill\":{\"color\":\"#C8D4E3\"},\"line\":{\"color\":\"white\"}},\"type\":\"table\"}]},\"layout\":{\"annotationdefaults\":{\"arrowcolor\":\"#2a3f5f\",\"arrowhead\":0,\"arrowwidth\":1},\"autotypenumbers\":\"strict\",\"coloraxis\":{\"colorbar\":{\"outlinewidth\":0,\"ticks\":\"\"}},\"colorscale\":{\"diverging\":[[0,\"#8e0152\"],[0.1,\"#c51b7d\"],[0.2,\"#de77ae\"],[0.3,\"#f1b6da\"],[0.4,\"#fde0ef\"],[0.5,\"#f7f7f7\"],[0.6,\"#e6f5d0\"],[0.7,\"#b8e186\"],[0.8,\"#7fbc41\"],[0.9,\"#4d9221\"],[1,\"#276419\"]],\"sequential\":[[0.0,\"#0d0887\"],[0.1111111111111111,\"#46039f\"],[0.2222222222222222,\"#7201a8\"],[0.3333333333333333,\"#9c179e\"],[0.4444444444444444,\"#bd3786\"],[0.5555555555555556,\"#d8576b\"],[0.6666666666666666,\"#ed7953\"],[0.7777777777777778,\"#fb9f3a\"],[0.8888888888888888,\"#fdca26\"],[1.0,\"#f0f921\"]],\"sequentialminus\":[[0.0,\"#0d0887\"],[0.1111111111111111,\"#46039f\"],[0.2222222222222222,\"#7201a8\"],[0.3333333333333333,\"#9c179e\"],[0.4444444444444444,\"#bd3786\"],[0.5555555555555556,\"#d8576b\"],[0.6666666666666666,\"#ed7953\"],[0.7777777777777778,\"#fb9f3a\"],[0.8888888888888888,\"#fdca26\"],[1.0,\"#f0f921\"]]},\"colorway\":[\"#636efa\",\"#EF553B\",\"#00cc96\",\"#ab63fa\",\"#FFA15A\",\"#19d3f3\",\"#FF6692\",\"#B6E880\",\"#FF97FF\",\"#FECB52\"],\"font\":{\"color\":\"#2a3f5f\"},\"geo\":{\"bgcolor\":\"white\",\"lakecolor\":\"white\",\"landcolor\":\"#E5ECF6\",\"showlakes\":true,\"showland\":true,\"subunitcolor\":\"white\"},\"hoverlabel\":{\"align\":\"left\"},\"hovermode\":\"closest\",\"mapbox\":{\"style\":\"light\"},\"paper_bgcolor\":\"white\",\"plot_bgcolor\":\"#E5ECF6\",\"polar\":{\"angularaxis\":{\"gridcolor\":\"white\",\"linecolor\":\"white\",\"ticks\":\"\"},\"bgcolor\":\"#E5ECF6\",\"radialaxis\":{\"gridcolor\":\"white\",\"linecolor\":\"white\",\"ticks\":\"\"}},\"scene\":{\"xaxis\":{\"backgroundcolor\":\"#E5ECF6\",\"gridcolor\":\"white\",\"gridwidth\":2,\"linecolor\":\"white\",\"showbackground\":true,\"ticks\":\"\",\"zerolinecolor\":\"white\"},\"yaxis\":{\"backgroundcolor\":\"#E5ECF6\",\"gridcolor\":\"white\",\"gridwidth\":2,\"linecolor\":\"white\",\"showbackground\":true,\"ticks\":\"\",\"zerolinecolor\":\"white\"},\"zaxis\":{\"backgroundcolor\":\"#E5ECF6\",\"gridcolor\":\"white\",\"gridwidth\":2,\"linecolor\":\"white\",\"showbackground\":true,\"ticks\":\"\",\"zerolinecolor\":\"white\"}},\"shapedefaults\":{\"line\":{\"color\":\"#2a3f5f\"}},\"ternary\":{\"aaxis\":{\"gridcolor\":\"white\",\"linecolor\":\"white\",\"ticks\":\"\"},\"baxis\":{\"gridcolor\":\"white\",\"linecolor\":\"white\",\"ticks\":\"\"},\"bgcolor\":\"#E5ECF6\",\"caxis\":{\"gridcolor\":\"white\",\"linecolor\":\"white\",\"ticks\":\"\"}},\"title\":{\"x\":0.05},\"xaxis\":{\"automargin\":true,\"gridcolor\":\"white\",\"linecolor\":\"white\",\"ticks\":\"\",\"title\":{\"standoff\":15},\"zerolinecolor\":\"white\",\"zerolinewidth\":2},\"yaxis\":{\"automargin\":true,\"gridcolor\":\"white\",\"linecolor\":\"white\",\"ticks\":\"\",\"title\":{\"standoff\":15},\"zerolinecolor\":\"white\",\"zerolinewidth\":2}}},\"title\":{\"text\":\"Percent of datasets published with any Terms\"},\"xaxis\":{\"anchor\":\"y\",\"domain\":[0.0,1.0],\"title\":{\"text\":\"versionCreateMonth\"}},\"yaxis\":{\"anchor\":\"x\",\"domain\":[0.0,1.0],\"title\":{\"text\":\"percent of datasets with any Terms\"}}},                        {\"responsive\": true}                    ).then(function(){\n                            \nvar gd = document.getElementById('88d6cdbd-7edc-48c5-8163-ad1d4831bbfe');\nvar x = new MutationObserver(function (mutations, observer) {{\n        var display = window.getComputedStyle(gd).display;\n        if (!display || display === 'none') {{\n            console.log([gd, 'removed!']);\n            Plotly.purge(gd);\n            observer.disconnect();\n        }}\n}});\n\n// Listen for the removal of the full notebook cells\nvar notebookContainer = gd.closest('#notebook-container');\nif (notebookContainer) {{\n    x.observe(notebookContainer, {childList: true});\n}}\n\n// Listen for the clearing of the current output cell\nvar outputEl = gd.closest('.output');\nif (outputEl) {{\n    x.observe(outputEl, {childList: true});\n}}\n\n                        })                };                });            </script>        </div>"
     },
     "metadata": {},
     "output_type": "display_data"
    }
   ],
   "source": [
    "fig = px.line(monthlyTotalDatasetsVersusDatasetsWithTerms, x=\"versionCreateMonth\", y=\"percent of datasets with any Terms\", title='Percent of datasets published with any Terms')\n",
    "fig.show()"
   ],
   "metadata": {
    "collapsed": false,
    "pycharm": {
     "name": "#%%\n"
    }
   }
  },
  {
   "cell_type": "markdown",
   "source": [
    "I think it might be helpful for some installations to see which datasets have no Terms metadata, so lets query for that and export the results to a CSV file."
   ],
   "metadata": {
    "collapsed": false,
    "pycharm": {
     "name": "#%% md\n"
    }
   }
  },
  {
   "cell_type": "code",
   "execution_count": 142,
   "outputs": [
    {
     "name": "stdout",
     "output_type": "stream",
     "text": [
      "Number of datasets with no Terms metadata: 12810\n"
     ]
    }
   ],
   "source": [
    "# Create dataframe containing only datasets with nothing in their license fields or any Terms of Use fields\n",
    "latestversionNoTerms = (latestversion\n",
    "                        .query('(license == \"NONE\" or license.isnull()) and (termsOfUse.isnull() and confidentialityDeclaration.isnull() and specialPermissions.isnull() and restrictions.isnull() and citationRequirements.isnull() and depositorRequirements.isnull() and conditions.isnull() and disclaimer.isnull())')\n",
    "                        .reset_index(drop = True, inplace = False)\n",
    "                        )\n",
    "\n",
    "print('Number of datasets with no Terms metadata: %s' % (len(latestversionNoTerms)))\n",
    "\n",
    "# Export dataframe to a CSV file\n",
    "latestversionNoTerms.to_csv('latestversionNoTerms.csv', index=False)"
   ],
   "metadata": {
    "collapsed": false,
    "pycharm": {
     "name": "#%%\n"
    }
   }
  },
  {
   "cell_type": "markdown",
   "source": [
    "### Question 2: When installations apply the changes in the \"multiple license\" software update, which ones have published datasets whose Terms metadata will be considered \"Custom Terms\"? And how many of these datasets has each installation published?\n",
    "\n",
    "Again, we could use these numbers to get a sense of the scale of the change for each installation, and the numbers might encourage each installation to investigate the effects of this change."
   ],
   "metadata": {
    "collapsed": false
   }
  },
  {
   "cell_type": "code",
   "execution_count": 143,
   "metadata": {},
   "outputs": [
    {
     "name": "stdout",
     "output_type": "stream",
     "text": [
      "Number of datasets with a license plus values in one or more Terms of Use fields: 621\n"
     ]
    }
   ],
   "source": [
    "# Create a new dataframe with the datasets that have a value in the licenses field (that is, their license field is not null or \"NONE\") plus one or more values in the Terms of Use fields\n",
    "datasetsWithCustomTerms = (latestversion\n",
    "                            .query('(license == \"CC0\" or license == \"CCBY\" or license == \"CC BY\") and (confidentialityDeclaration.notnull() or specialPermissions.notnull() or restrictions.notnull() or citationRequirements.notnull() or depositorRequirements.notnull() or conditions.notnull() or disclaimer.notnull())')\n",
    "                            .reset_index(drop = True, inplace = False)\n",
    "                            )\n",
    "\n",
    "print('Number of datasets with a license plus values in one or more Terms of Use fields: %s' % (len(datasetsWithCustomTerms)))"
   ]
  },
  {
   "cell_type": "code",
   "execution_count": null,
   "outputs": [],
   "source": [
    "# Get count of these datasets by versionCreateTime\n",
    "dailyCountOfDatasetsWithCustomTerms = (\n",
    "\n",
    "    # Retain only these columns\n",
    "    datasetsWithCustomTerms[[\n",
    "        'versionCreateDate', 'persistentUrl']]\n",
    "\n",
    "        # Group versionCreateDate column to get count of persistentUrls each day\n",
    "        .value_counts(subset=['versionCreateDate'])\n",
    "        .to_frame('count of datasets published')\n",
    "\n",
    "        .sort_values(by=['versionCreateDate'], inplace=False, ascending=True)\n",
    "        .reset_index(drop=False, inplace=False)\n",
    ")\n",
    "\n",
    "dailyCountOfDatasetsWithCustomTerms.head(20)\n",
    "\n",
    "fig = px.line(dailyCountOfDatasetsWithCustomTerms, x=\"versionCreateDate\", y=\"count of datasets published\", title='Datasets published with \"Custom Terms')\n",
    "fig.show()"
   ],
   "metadata": {
    "collapsed": false,
    "pycharm": {
     "name": "#%%\n",
     "is_executing": true
    }
   }
  },
  {
   "cell_type": "markdown",
   "source": [
    "How many of those are in each Dataverse installation?"
   ],
   "metadata": {
    "collapsed": false,
    "pycharm": {
     "name": "#%% md\n"
    }
   }
  },
  {
   "cell_type": "code",
   "execution_count": 66,
   "outputs": [
    {
     "data": {
      "text/plain": "                                               count of datasets with \"Custom Terms\"\npublisher                                                                           \nHarvard Dataverse                                                                394\nUNC Dataverse                                                                    131\nScholars Portal Dataverse                                                         51\nPortail Data INRAE                                                                 6\nPeking University Open Research Data Platform                                      6",
      "text/html": "<div>\n<style scoped>\n    .dataframe tbody tr th:only-of-type {\n        vertical-align: middle;\n    }\n\n    .dataframe tbody tr th {\n        vertical-align: top;\n    }\n\n    .dataframe thead th {\n        text-align: right;\n    }\n</style>\n<table border=\"1\" class=\"dataframe\">\n  <thead>\n    <tr style=\"text-align: right;\">\n      <th></th>\n      <th>count of datasets with \"Custom Terms\"</th>\n    </tr>\n    <tr>\n      <th>publisher</th>\n      <th></th>\n    </tr>\n  </thead>\n  <tbody>\n    <tr>\n      <th>Harvard Dataverse</th>\n      <td>394</td>\n    </tr>\n    <tr>\n      <th>UNC Dataverse</th>\n      <td>131</td>\n    </tr>\n    <tr>\n      <th>Scholars Portal Dataverse</th>\n      <td>51</td>\n    </tr>\n    <tr>\n      <th>Portail Data INRAE</th>\n      <td>6</td>\n    </tr>\n    <tr>\n      <th>Peking University Open Research Data Platform</th>\n      <td>6</td>\n    </tr>\n  </tbody>\n</table>\n</div>"
     },
     "execution_count": 66,
     "metadata": {},
     "output_type": "execute_result"
    }
   ],
   "source": [
    "countDatasetsWithCustomTermsByInstallation = latestversionCustomTerms.value_counts(subset=['publisher']).to_frame('count of datasets with \"Custom Terms\"')\n",
    "countDatasetsWithCustomTermsByInstallation.head()"
   ],
   "metadata": {
    "collapsed": false,
    "pycharm": {
     "name": "#%%\n"
    }
   }
  },
  {
   "cell_type": "markdown",
   "source": [
    "Finally, let's join all of the dataframes we've created so we can see the counts of datasets for each query for each installation."
   ],
   "metadata": {
    "collapsed": false,
    "pycharm": {
     "name": "#%% md\n"
    }
   }
  },
  {
   "cell_type": "code",
   "execution_count": 70,
   "metadata": {},
   "outputs": [],
   "source": [
    "dataframes = [\n",
    "    countDatasetsByInstallation,\n",
    "    countDatasetsWithTermsByInstallation,\n",
    "    countDatasetsWithCustomTermsByInstallation]\n",
    "\n",
    "allCountsByInstallation = reduce(lambda left, right: left.join(right, how='outer'), dataframes)\n",
    "\n",
    "# Format allCountsByInstallation dataframe to replace NA values with 0, cast values as integers and sort by greatest number of datasets with a license plus ToU\n",
    "allCountsByInstallation = (allCountsByInstallation\n",
    "                           .fillna(0)\n",
    "                           .astype('int32')\n",
    "                           .sort_values([\n",
    "                                'count of datasets with any Terms',\n",
    "                                'count of datasets',\n",
    "                                'count of datasets with \"Custom Terms\"'], ascending=False)\n",
    "                           )"
   ]
  },
  {
   "cell_type": "code",
   "execution_count": 71,
   "metadata": {},
   "outputs": [
    {
     "data": {
      "text/plain": "                                                    count of datasets  \\\npublisher                                                               \nPortail Data INRAE                                              72010   \nHarvard Dataverse                                               44057   \nopenforestdata.pl                                               10116   \nUNC Dataverse                                                    4537   \nRIN Dataverse                                                    4017   \nScholars Portal Dataverse                                        4096   \nAbacus Data Network                                              2191   \nADA Dataverse                                                    1583   \nAUSSDA                                                           1147   \nDataverseNL                                                      1865   \nDataverseNO                                                      1081   \nDaRUS                                                             918   \nDR-NTU (Data)                                                     776   \nCIMMYT Research Data & Software Repository Network                756   \ne-cienciaDatos                                                    542   \nICRISAT Dataverse                                                 436   \nUAL Dataverse                                                     496   \nInternational Potato Center                                       438   \nPeking University Open Research Data Platform                     320   \nheiDATA                                                           280   \nMELDATA                                                           270   \nCenter for International Forestry Research (CIFOR)                266   \nIISH Data Collection                                              256   \nGöttingen Research Online / Data                                 1350   \nVTTI                                                              155   \nDataSuds                                                          129   \nJohns Hopkins University Data Archive                             127   \nACSS Dataverse                                                    119   \nQualitative Data Repository                                       115   \nUniversity of Virginia Dataverse                                  102   \nPontificia Universidad Católica del Perú                           95   \nUniversity of Manitoba                                             78   \nSocial Sciences and Digital Humanities Archive ...                 70   \nRepositório de Dados da Universidade do Minho                      67   \nUCLA Dataverse                                                     67   \nNIOZ                                                               64   \nOpen Data @ UCLouvain                                              62   \nUNIMI Dataverse                                                    45   \nDartmouth Dataverse                                                45   \nJülich DATA                                                        36   \nASU Library Research Data Repository                               26   \nFIU Research Data Portal                                           25   \nUniversidad del Rosario                                            23   \nUniversidad de Chile                                               21   \nUNB                                                                21   \nUniversité Gustave Eiffel                                          19   \nFundação Oswaldo Cruz                                              18   \nRepositorios da Rede Nacional de Ensino e Pesquisa                 13   \nDataverse                                                          12   \nRepositório de Dados de Pesquisa UNIFESP Dataverse                 11   \nCROSSDA                                                             8   \ndata.sciencespo                                                   320   \nРепозиторий открытых данных по русской литерату...                  7   \nRepositório de Dados de Pesquisa da UFABC                           6   \nYale-NUS Dataverse                                                  5   \nDartmouth                                                           4   \n\n                                                    count of datasets with any Terms  \\\npublisher                                                                              \nPortail Data INRAE                                                             72005   \nHarvard Dataverse                                                              34447   \nopenforestdata.pl                                                              10042   \nUNC Dataverse                                                                   4284   \nRIN Dataverse                                                                   4016   \nScholars Portal Dataverse                                                       3753   \nAbacus Data Network                                                             2190   \nADA Dataverse                                                                   1583   \nAUSSDA                                                                          1147   \nDataverseNL                                                                     1138   \nDataverseNO                                                                     1081   \nDaRUS                                                                            917   \nDR-NTU (Data)                                                                    772   \nCIMMYT Research Data & Software Repository Network                               656   \ne-cienciaDatos                                                                   542   \nICRISAT Dataverse                                                                435   \nUAL Dataverse                                                                    381   \nInternational Potato Center                                                      362   \nPeking University Open Research Data Platform                                    319   \nheiDATA                                                                          280   \nMELDATA                                                                          270   \nCenter for International Forestry Research (CIFOR)                               261   \nIISH Data Collection                                                             251   \nGöttingen Research Online / Data                                                 181   \nVTTI                                                                             155   \nDataSuds                                                                         129   \nJohns Hopkins University Data Archive                                            127   \nACSS Dataverse                                                                   119   \nQualitative Data Repository                                                      114   \nUniversity of Virginia Dataverse                                                 102   \nPontificia Universidad Católica del Perú                                          95   \nUniversity of Manitoba                                                            78   \nSocial Sciences and Digital Humanities Archive ...                                70   \nRepositório de Dados da Universidade do Minho                                     67   \nUCLA Dataverse                                                                    67   \nNIOZ                                                                              62   \nOpen Data @ UCLouvain                                                             62   \nUNIMI Dataverse                                                                   44   \nDartmouth Dataverse                                                               44   \nJülich DATA                                                                       36   \nASU Library Research Data Repository                                              26   \nFIU Research Data Portal                                                          25   \nUniversidad del Rosario                                                           23   \nUniversidad de Chile                                                              21   \nUNB                                                                               20   \nUniversité Gustave Eiffel                                                         19   \nFundação Oswaldo Cruz                                                             18   \nRepositorios da Rede Nacional de Ensino e Pesquisa                                13   \nDataverse                                                                         12   \nRepositório de Dados de Pesquisa UNIFESP Dataverse                                11   \nCROSSDA                                                                            8   \ndata.sciencespo                                                                    7   \nРепозиторий открытых данных по русской литерату...                                 7   \nRepositório de Dados de Pesquisa da UFABC                                          6   \nYale-NUS Dataverse                                                                 5   \nDartmouth                                                                          4   \n\n                                                    count of datasets with \"Custom Terms\"  \npublisher                                                                                  \nPortail Data INRAE                                                                      6  \nHarvard Dataverse                                                                     394  \nopenforestdata.pl                                                                       2  \nUNC Dataverse                                                                         131  \nRIN Dataverse                                                                           0  \nScholars Portal Dataverse                                                              51  \nAbacus Data Network                                                                     0  \nADA Dataverse                                                                           0  \nAUSSDA                                                                                  0  \nDataverseNL                                                                             4  \nDataverseNO                                                                             4  \nDaRUS                                                                                   1  \nDR-NTU (Data)                                                                           2  \nCIMMYT Research Data & Software Repository Network                                      0  \ne-cienciaDatos                                                                          1  \nICRISAT Dataverse                                                                       1  \nUAL Dataverse                                                                           2  \nInternational Potato Center                                                             1  \nPeking University Open Research Data Platform                                           6  \nheiDATA                                                                                 1  \nMELDATA                                                                                 0  \nCenter for International Forestry Research (CIFOR)                                      0  \nIISH Data Collection                                                                    3  \nGöttingen Research Online / Data                                                        0  \nVTTI                                                                                    0  \nDataSuds                                                                                0  \nJohns Hopkins University Data Archive                                                   0  \nACSS Dataverse                                                                          0  \nQualitative Data Repository                                                             0  \nUniversity of Virginia Dataverse                                                        2  \nPontificia Universidad Católica del Perú                                                0  \nUniversity of Manitoba                                                                  1  \nSocial Sciences and Digital Humanities Archive ...                                      0  \nRepositório de Dados da Universidade do Minho                                           0  \nUCLA Dataverse                                                                          0  \nNIOZ                                                                                    0  \nOpen Data @ UCLouvain                                                                   1  \nUNIMI Dataverse                                                                         1  \nDartmouth Dataverse                                                                     0  \nJülich DATA                                                                             1  \nASU Library Research Data Repository                                                    0  \nFIU Research Data Portal                                                                0  \nUniversidad del Rosario                                                                 0  \nUniversidad de Chile                                                                    0  \nUNB                                                                                     0  \nUniversité Gustave Eiffel                                                               0  \nFundação Oswaldo Cruz                                                                   2  \nRepositorios da Rede Nacional de Ensino e Pesquisa                                      0  \nDataverse                                                                               2  \nRepositório de Dados de Pesquisa UNIFESP Dataverse                                      0  \nCROSSDA                                                                                 1  \ndata.sciencespo                                                                         0  \nРепозиторий открытых данных по русской литерату...                                      0  \nRepositório de Dados de Pesquisa da UFABC                                               0  \nYale-NUS Dataverse                                                                      0  \nDartmouth                                                                               0  ",
      "text/html": "<div>\n<style scoped>\n    .dataframe tbody tr th:only-of-type {\n        vertical-align: middle;\n    }\n\n    .dataframe tbody tr th {\n        vertical-align: top;\n    }\n\n    .dataframe thead th {\n        text-align: right;\n    }\n</style>\n<table border=\"1\" class=\"dataframe\">\n  <thead>\n    <tr style=\"text-align: right;\">\n      <th></th>\n      <th>count of datasets</th>\n      <th>count of datasets with any Terms</th>\n      <th>count of datasets with \"Custom Terms\"</th>\n    </tr>\n    <tr>\n      <th>publisher</th>\n      <th></th>\n      <th></th>\n      <th></th>\n    </tr>\n  </thead>\n  <tbody>\n    <tr>\n      <th>Portail Data INRAE</th>\n      <td>72010</td>\n      <td>72005</td>\n      <td>6</td>\n    </tr>\n    <tr>\n      <th>Harvard Dataverse</th>\n      <td>44057</td>\n      <td>34447</td>\n      <td>394</td>\n    </tr>\n    <tr>\n      <th>openforestdata.pl</th>\n      <td>10116</td>\n      <td>10042</td>\n      <td>2</td>\n    </tr>\n    <tr>\n      <th>UNC Dataverse</th>\n      <td>4537</td>\n      <td>4284</td>\n      <td>131</td>\n    </tr>\n    <tr>\n      <th>RIN Dataverse</th>\n      <td>4017</td>\n      <td>4016</td>\n      <td>0</td>\n    </tr>\n    <tr>\n      <th>Scholars Portal Dataverse</th>\n      <td>4096</td>\n      <td>3753</td>\n      <td>51</td>\n    </tr>\n    <tr>\n      <th>Abacus Data Network</th>\n      <td>2191</td>\n      <td>2190</td>\n      <td>0</td>\n    </tr>\n    <tr>\n      <th>ADA Dataverse</th>\n      <td>1583</td>\n      <td>1583</td>\n      <td>0</td>\n    </tr>\n    <tr>\n      <th>AUSSDA</th>\n      <td>1147</td>\n      <td>1147</td>\n      <td>0</td>\n    </tr>\n    <tr>\n      <th>DataverseNL</th>\n      <td>1865</td>\n      <td>1138</td>\n      <td>4</td>\n    </tr>\n    <tr>\n      <th>DataverseNO</th>\n      <td>1081</td>\n      <td>1081</td>\n      <td>4</td>\n    </tr>\n    <tr>\n      <th>DaRUS</th>\n      <td>918</td>\n      <td>917</td>\n      <td>1</td>\n    </tr>\n    <tr>\n      <th>DR-NTU (Data)</th>\n      <td>776</td>\n      <td>772</td>\n      <td>2</td>\n    </tr>\n    <tr>\n      <th>CIMMYT Research Data &amp; Software Repository Network</th>\n      <td>756</td>\n      <td>656</td>\n      <td>0</td>\n    </tr>\n    <tr>\n      <th>e-cienciaDatos</th>\n      <td>542</td>\n      <td>542</td>\n      <td>1</td>\n    </tr>\n    <tr>\n      <th>ICRISAT Dataverse</th>\n      <td>436</td>\n      <td>435</td>\n      <td>1</td>\n    </tr>\n    <tr>\n      <th>UAL Dataverse</th>\n      <td>496</td>\n      <td>381</td>\n      <td>2</td>\n    </tr>\n    <tr>\n      <th>International Potato Center</th>\n      <td>438</td>\n      <td>362</td>\n      <td>1</td>\n    </tr>\n    <tr>\n      <th>Peking University Open Research Data Platform</th>\n      <td>320</td>\n      <td>319</td>\n      <td>6</td>\n    </tr>\n    <tr>\n      <th>heiDATA</th>\n      <td>280</td>\n      <td>280</td>\n      <td>1</td>\n    </tr>\n    <tr>\n      <th>MELDATA</th>\n      <td>270</td>\n      <td>270</td>\n      <td>0</td>\n    </tr>\n    <tr>\n      <th>Center for International Forestry Research (CIFOR)</th>\n      <td>266</td>\n      <td>261</td>\n      <td>0</td>\n    </tr>\n    <tr>\n      <th>IISH Data Collection</th>\n      <td>256</td>\n      <td>251</td>\n      <td>3</td>\n    </tr>\n    <tr>\n      <th>Göttingen Research Online / Data</th>\n      <td>1350</td>\n      <td>181</td>\n      <td>0</td>\n    </tr>\n    <tr>\n      <th>VTTI</th>\n      <td>155</td>\n      <td>155</td>\n      <td>0</td>\n    </tr>\n    <tr>\n      <th>DataSuds</th>\n      <td>129</td>\n      <td>129</td>\n      <td>0</td>\n    </tr>\n    <tr>\n      <th>Johns Hopkins University Data Archive</th>\n      <td>127</td>\n      <td>127</td>\n      <td>0</td>\n    </tr>\n    <tr>\n      <th>ACSS Dataverse</th>\n      <td>119</td>\n      <td>119</td>\n      <td>0</td>\n    </tr>\n    <tr>\n      <th>Qualitative Data Repository</th>\n      <td>115</td>\n      <td>114</td>\n      <td>0</td>\n    </tr>\n    <tr>\n      <th>University of Virginia Dataverse</th>\n      <td>102</td>\n      <td>102</td>\n      <td>2</td>\n    </tr>\n    <tr>\n      <th>Pontificia Universidad Católica del Perú</th>\n      <td>95</td>\n      <td>95</td>\n      <td>0</td>\n    </tr>\n    <tr>\n      <th>University of Manitoba</th>\n      <td>78</td>\n      <td>78</td>\n      <td>1</td>\n    </tr>\n    <tr>\n      <th>Social Sciences and Digital Humanities Archive – SODHA</th>\n      <td>70</td>\n      <td>70</td>\n      <td>0</td>\n    </tr>\n    <tr>\n      <th>Repositório de Dados da Universidade do Minho</th>\n      <td>67</td>\n      <td>67</td>\n      <td>0</td>\n    </tr>\n    <tr>\n      <th>UCLA Dataverse</th>\n      <td>67</td>\n      <td>67</td>\n      <td>0</td>\n    </tr>\n    <tr>\n      <th>NIOZ</th>\n      <td>64</td>\n      <td>62</td>\n      <td>0</td>\n    </tr>\n    <tr>\n      <th>Open Data @ UCLouvain</th>\n      <td>62</td>\n      <td>62</td>\n      <td>1</td>\n    </tr>\n    <tr>\n      <th>UNIMI Dataverse</th>\n      <td>45</td>\n      <td>44</td>\n      <td>1</td>\n    </tr>\n    <tr>\n      <th>Dartmouth Dataverse</th>\n      <td>45</td>\n      <td>44</td>\n      <td>0</td>\n    </tr>\n    <tr>\n      <th>Jülich DATA</th>\n      <td>36</td>\n      <td>36</td>\n      <td>1</td>\n    </tr>\n    <tr>\n      <th>ASU Library Research Data Repository</th>\n      <td>26</td>\n      <td>26</td>\n      <td>0</td>\n    </tr>\n    <tr>\n      <th>FIU Research Data Portal</th>\n      <td>25</td>\n      <td>25</td>\n      <td>0</td>\n    </tr>\n    <tr>\n      <th>Universidad del Rosario</th>\n      <td>23</td>\n      <td>23</td>\n      <td>0</td>\n    </tr>\n    <tr>\n      <th>Universidad de Chile</th>\n      <td>21</td>\n      <td>21</td>\n      <td>0</td>\n    </tr>\n    <tr>\n      <th>UNB</th>\n      <td>21</td>\n      <td>20</td>\n      <td>0</td>\n    </tr>\n    <tr>\n      <th>Université Gustave Eiffel</th>\n      <td>19</td>\n      <td>19</td>\n      <td>0</td>\n    </tr>\n    <tr>\n      <th>Fundação Oswaldo Cruz</th>\n      <td>18</td>\n      <td>18</td>\n      <td>2</td>\n    </tr>\n    <tr>\n      <th>Repositorios da Rede Nacional de Ensino e Pesquisa</th>\n      <td>13</td>\n      <td>13</td>\n      <td>0</td>\n    </tr>\n    <tr>\n      <th>Dataverse</th>\n      <td>12</td>\n      <td>12</td>\n      <td>2</td>\n    </tr>\n    <tr>\n      <th>Repositório de Dados de Pesquisa UNIFESP Dataverse</th>\n      <td>11</td>\n      <td>11</td>\n      <td>0</td>\n    </tr>\n    <tr>\n      <th>CROSSDA</th>\n      <td>8</td>\n      <td>8</td>\n      <td>1</td>\n    </tr>\n    <tr>\n      <th>data.sciencespo</th>\n      <td>320</td>\n      <td>7</td>\n      <td>0</td>\n    </tr>\n    <tr>\n      <th>Репозиторий открытых данных по русской литературе и фольклору</th>\n      <td>7</td>\n      <td>7</td>\n      <td>0</td>\n    </tr>\n    <tr>\n      <th>Repositório de Dados de Pesquisa da UFABC</th>\n      <td>6</td>\n      <td>6</td>\n      <td>0</td>\n    </tr>\n    <tr>\n      <th>Yale-NUS Dataverse</th>\n      <td>5</td>\n      <td>5</td>\n      <td>0</td>\n    </tr>\n    <tr>\n      <th>Dartmouth</th>\n      <td>4</td>\n      <td>4</td>\n      <td>0</td>\n    </tr>\n  </tbody>\n</table>\n</div>"
     },
     "execution_count": 71,
     "metadata": {},
     "output_type": "execute_result"
    }
   ],
   "source": [
    "allCountsByInstallation.head(60)"
   ]
  },
  {
   "cell_type": "code",
   "execution_count": 29,
   "metadata": {
    "pycharm": {
     "name": "#%%\n"
    }
   },
   "outputs": [],
   "source": [
    "# Export to allCountsByInstallation dataframe to a CSV file\n",
    "fileName = 'allCountsByInstallation.csv'\n",
    "allCountsByInstallation.to_csv(fileName, index=True)"
   ]
  }
 ],
 "metadata": {
  "hide_input": false,
  "kernelspec": {
   "display_name": "Python 3",
   "language": "python",
   "name": "python3"
  },
  "language_info": {
   "codemirror_mode": {
    "name": "ipython",
    "version": 3
   },
   "file_extension": ".py",
   "mimetype": "text/x-python",
   "name": "python",
   "nbconvert_exporter": "python",
   "pygments_lexer": "ipython3",
   "version": "3.7.0"
  }
 },
 "nbformat": 4,
 "nbformat_minor": 4
}