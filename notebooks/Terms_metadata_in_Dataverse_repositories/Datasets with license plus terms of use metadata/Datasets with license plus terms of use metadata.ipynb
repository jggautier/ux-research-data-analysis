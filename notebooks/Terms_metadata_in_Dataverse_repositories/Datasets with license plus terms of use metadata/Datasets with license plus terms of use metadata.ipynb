{
 "cells": [
  {
   "cell_type": "markdown",
   "source": [
    "# Datasets with license plus terms of use metadata"
   ],
   "metadata": {
    "collapsed": false,
    "pycharm": {
     "name": "#%% md\n"
    }
   }
  },
  {
   "cell_type": "markdown",
   "source": [
    "## Purpose and goals of this notebook"
   ],
   "metadata": {
    "collapsed": false,
    "pycharm": {
     "name": "#%% md\n"
    }
   }
  },
  {
   "cell_type": "markdown",
   "source": [
    "This notebook explores the \"Terms\" metadata of datasets in Dataverse installations in order to learn more about the effects of the \"multiple-license\" feature making its way to the Dataverse software (https://github.com/IQSS/dataverse/pull/7920). When that update is applied to Dataverse installations, it will change how depositors enter \"Terms\" metadata (metadata about how the data should or must be used). If depositors choose one of several licenses that installation administrators can configure and display in a dropdown menu, the software hides the fields that are in the \"Terms of Use\" panel, such as the Confidentiality Declaration and Special Permissions fields. This design decision was made because those fields may conflict with a predefined license. If the installation allows it, depositors can choose \"Custom Terms\" from the new license dropdown. The fields in the \"Terms of Use\" panel appear and any text entered in those fields are considered \"Custom Terms\".\n",
    "\n",
    "For installations that already have published datasets that have CC0 licenses (or, for some forked installations, CCBY licenses) plus something entered in any of the Terms of Use fields (e.g. such as Confidentiality Declaration and Special Permissions), when those installations apply the software update, the datasets' Terms will be considered  \"Custom Terms.\"\n",
    "\n",
    "For more information about the update, see the Multiple License Consensus Proposal at https://docs.google.com/document/d/10htygglMdlABYWqtcZpqd8sHOwIe6sLL_UJtTv8NEKw and the following GitHub issues and pull request:\n",
    "\n",
    "- https://github.com/IQSS/dataverse/issues/7742\n",
    "- https://github.com/IQSS/dataverse/issues/7440\n",
    "- https://github.com/IQSS/dataverse/pull/7920\n",
    "\n",
    "This notebook explores and answers the following questions to get a sense of the scale of change that the update will have on existing Dataverse installations:\n",
    "\n",
    "- Which installations have these types of datasets, that is, datasets whose Terms metadata the updated Dataverse software would consider \"Custom Terms\" because they have CC0 waivers (or, for some forked installations, CCBY licenses) plus any of the eight \"Terms of Use\" fields filled?\n",
    "- And how many of these datasets does each installation have?\n",
    "\n",
    "We'll also see the number of datasets published by each installation and how many of those datasets have CC0 waivers (or CCBY licenses)."
   ],
   "metadata": {
    "collapsed": false
   }
  },
  {
   "cell_type": "markdown",
   "source": [
    "## Methods"
   ],
   "metadata": {
    "collapsed": false,
    "pycharm": {
     "name": "#%% md\n"
    }
   }
  },
  {
   "cell_type": "markdown",
   "source": [
    "The data in terms_metadata.tab was created by:\n",
    "- Downloading all zip files in the dataset at https://doi.org/10.7910/DVN/DCDKZQ.\n",
    "- Using a Python script to extract the JSON metadata files in each Zip file into a single directory. The JSON metadata files in the dataset at https://doi.org/10.7910/DVN/DCDKZQ were downloaded between August 4 and August 7, 2021. How those JSON files were downloaded from each installation is documented in the dataset's metadata.\n",
    "- Parsing the terms metadata of every JSON metadata file in that directory into a single CSV file using the [parse_terms_metadata.py](https://github.com/jggautier/dataverse_scripts/blob/main/get-dataverse-metadata/parse_metadata_fields/parse_terms_metadata.py) script in the https://github.com/jggautier/dataverse_scripts repository.\n",
    "- Parsing other basic metadata, namely the value of each JSON files' \"publisher\" key, which indicates the installation that published the metadata in each JSON file, into a single CSV file using the [parse_basic_metadata.py](https://github.com/jggautier/dataverse_scripts/blob/main/get-dataverse-metadata/parse_metadata_fields/parse_basic_metadata.py) script in the https://github.com/jggautier/dataverse_scripts repository.\n",
    "- Joining both CSV files into a single CSV file that contains, the persistent URLs, dataset version IDs, installation names (publishers), and Terms metadata for every published dataset version in 56 of the known 73 Dataverse installations."
   ],
   "metadata": {
    "collapsed": false
   }
  },
  {
   "cell_type": "code",
   "execution_count": 1,
   "metadata": {},
   "outputs": [],
   "source": [
    "# Import Python packages\n",
    "from functools import reduce\n",
    "import numpy as np\n",
    "import pandas as pd"
   ]
  },
  {
   "cell_type": "code",
   "execution_count": 2,
   "metadata": {},
   "outputs": [],
   "source": [
    "# Import data as a dataframe\n",
    "allVersions = pd.read_csv('terms_metadata.tab', sep='\\t', na_filter = False)"
   ]
  },
  {
   "cell_type": "code",
   "execution_count": 3,
   "outputs": [
    {
     "data": {
      "text/plain": "                         persistentUrl  datasetVersionId           publisher  \\\n0      https://doi.org/10.15454/GHAUFR            256773  Portail Data INRAE   \n1      https://doi.org/10.15454/TLXRVW             52619  Portail Data INRAE   \n2      https://doi.org/10.15454/CX70I3            170336  Portail Data INRAE   \n3  https://doi.org/10.21410/7E4/4WG94W              1200     data.sciencespo   \n4   https://doi.org/10.7910/DVN/5PRYPC            198147   Harvard Dataverse   \n\n  license  termsOfUse confidentialityDeclaration specialPermissions  \\\n0    NONE   CC BY 2.0                                                 \n1    NONE   CC BY 2.0                                                 \n2    NONE   CC BY 2.0                                                 \n3    NONE                                                             \n4     CC0  CC0 Waiver                                                 \n\n  restrictions citationRequirements depositorRequirements conditions  \\\n0                                                                      \n1                                                                      \n2                                                                      \n3                                                                      \n4                                                                      \n\n  disclaimer termsOfAccess dataAccessPlace originalArchive availabilityStatus  \\\n0                                                                               \n1                                                                               \n2                                                                               \n3                                                                               \n4                                                                               \n\n  contactForAccess sizeOfCollection studyCompletion  \n0                                                    \n1                                                    \n2                                                    \n3                                                    \n4                                                    ",
      "text/html": "<div>\n<style scoped>\n    .dataframe tbody tr th:only-of-type {\n        vertical-align: middle;\n    }\n\n    .dataframe tbody tr th {\n        vertical-align: top;\n    }\n\n    .dataframe thead th {\n        text-align: right;\n    }\n</style>\n<table border=\"1\" class=\"dataframe\">\n  <thead>\n    <tr style=\"text-align: right;\">\n      <th></th>\n      <th>persistentUrl</th>\n      <th>datasetVersionId</th>\n      <th>publisher</th>\n      <th>license</th>\n      <th>termsOfUse</th>\n      <th>confidentialityDeclaration</th>\n      <th>specialPermissions</th>\n      <th>restrictions</th>\n      <th>citationRequirements</th>\n      <th>depositorRequirements</th>\n      <th>conditions</th>\n      <th>disclaimer</th>\n      <th>termsOfAccess</th>\n      <th>dataAccessPlace</th>\n      <th>originalArchive</th>\n      <th>availabilityStatus</th>\n      <th>contactForAccess</th>\n      <th>sizeOfCollection</th>\n      <th>studyCompletion</th>\n    </tr>\n  </thead>\n  <tbody>\n    <tr>\n      <th>0</th>\n      <td>https://doi.org/10.15454/GHAUFR</td>\n      <td>256773</td>\n      <td>Portail Data INRAE</td>\n      <td>NONE</td>\n      <td>CC BY 2.0</td>\n      <td></td>\n      <td></td>\n      <td></td>\n      <td></td>\n      <td></td>\n      <td></td>\n      <td></td>\n      <td></td>\n      <td></td>\n      <td></td>\n      <td></td>\n      <td></td>\n      <td></td>\n      <td></td>\n    </tr>\n    <tr>\n      <th>1</th>\n      <td>https://doi.org/10.15454/TLXRVW</td>\n      <td>52619</td>\n      <td>Portail Data INRAE</td>\n      <td>NONE</td>\n      <td>CC BY 2.0</td>\n      <td></td>\n      <td></td>\n      <td></td>\n      <td></td>\n      <td></td>\n      <td></td>\n      <td></td>\n      <td></td>\n      <td></td>\n      <td></td>\n      <td></td>\n      <td></td>\n      <td></td>\n      <td></td>\n    </tr>\n    <tr>\n      <th>2</th>\n      <td>https://doi.org/10.15454/CX70I3</td>\n      <td>170336</td>\n      <td>Portail Data INRAE</td>\n      <td>NONE</td>\n      <td>CC BY 2.0</td>\n      <td></td>\n      <td></td>\n      <td></td>\n      <td></td>\n      <td></td>\n      <td></td>\n      <td></td>\n      <td></td>\n      <td></td>\n      <td></td>\n      <td></td>\n      <td></td>\n      <td></td>\n      <td></td>\n    </tr>\n    <tr>\n      <th>3</th>\n      <td>https://doi.org/10.21410/7E4/4WG94W</td>\n      <td>1200</td>\n      <td>data.sciencespo</td>\n      <td>NONE</td>\n      <td></td>\n      <td></td>\n      <td></td>\n      <td></td>\n      <td></td>\n      <td></td>\n      <td></td>\n      <td></td>\n      <td></td>\n      <td></td>\n      <td></td>\n      <td></td>\n      <td></td>\n      <td></td>\n      <td></td>\n    </tr>\n    <tr>\n      <th>4</th>\n      <td>https://doi.org/10.7910/DVN/5PRYPC</td>\n      <td>198147</td>\n      <td>Harvard Dataverse</td>\n      <td>CC0</td>\n      <td>CC0 Waiver</td>\n      <td></td>\n      <td></td>\n      <td></td>\n      <td></td>\n      <td></td>\n      <td></td>\n      <td></td>\n      <td></td>\n      <td></td>\n      <td></td>\n      <td></td>\n      <td></td>\n      <td></td>\n      <td></td>\n    </tr>\n  </tbody>\n</table>\n</div>"
     },
     "execution_count": 3,
     "metadata": {},
     "output_type": "execute_result"
    }
   ],
   "source": [
    "allVersions.head()"
   ],
   "metadata": {
    "collapsed": false,
    "pycharm": {
     "name": "#%%\n"
    }
   }
  },
  {
   "cell_type": "code",
   "execution_count": 4,
   "outputs": [
    {
     "name": "stdout",
     "output_type": "stream",
     "text": [
      "Number of total dataset versions: 382596\n",
      "Number of unnique datasets: 155719\n"
     ]
    }
   ],
   "source": [
    "print('Number of total dataset versions: %s' % (len(allVersions)))\n",
    "print('Number of unnique datasets: %s' % (len(allVersions.persistentUrl.unique())))"
   ],
   "metadata": {
    "collapsed": false,
    "pycharm": {
     "name": "#%%\n"
    }
   }
  },
  {
   "cell_type": "markdown",
   "source": [
    "**About versioning and Terms metadata**\n",
    "\n",
    "While some datasets contain versions where each version has its own terms metadata (such as a dataset where each version represents a wave of the same longitudinal research study and each wave has its own license), let's assume that for a large majority of datasets, the metadata of the latest versions, including the Terms metadata, have replaced the metadata of all previous versions.\n",
    "\n",
    "For example, if a dataset has two published versions, the first version has no CC0 waiver, and second version has a CC0 waiver, the CC0 waiver is what applies to the dataset.\n",
    "\n",
    "Since versioning in the Dataverse software is designed more as a way to record improvements to a dataset over time, as opposed to a way to publish disparate but connected datasets (e.g. waves in a longitudinal study), it seems safe to assume that this is how most depositors use versioning. Additionally, the Dataverse software favors the latest published version of each dataset, tending to expose (e.g. through indexing and metadata distributing) the metadata in the latest published version more than it exposes the metadata of previously published versions.\n",
    "\n",
    "So let's get the metadata for only the latest version of each dataset."
   ],
   "metadata": {
    "collapsed": false,
    "pycharm": {
     "name": "#%% md\n"
    }
   }
  },
  {
   "cell_type": "code",
   "execution_count": 5,
   "metadata": {},
   "outputs": [],
   "source": [
    "# Get only metadata for the latest versions of each dataset\n",
    "latestversion = (allVersions\n",
    "                 .iloc[allVersions\n",
    "                    .groupby('persistentUrl')['datasetVersionId']\n",
    "                    .agg(pd.Series.idxmax)]\n",
    "                 .sort_values(by=['publisher'], inplace=False, ascending=True)\n",
    "                 .reset_index(drop=True, inplace=False))"
   ]
  },
  {
   "cell_type": "code",
   "execution_count": 6,
   "metadata": {},
   "outputs": [],
   "source": [
    "# Replace any blank values with NaN, making it easier to count and sort later\n",
    "latestversion = latestversion.replace(r'^\\s*$', np.nan, regex=True)\n",
    "\n",
    "# Dartmouth's repository exports JSON files with \"Root\" in the publisher key. Replace \"Root\" with \"Dartmouth\"\n",
    "latestversion['publisher'] = latestversion['publisher'].replace(['Root'],'Dartmouth')\n"
   ]
  },
  {
   "cell_type": "code",
   "execution_count": 7,
   "outputs": [
    {
     "name": "stdout",
     "output_type": "stream",
     "text": [
      "Number of unique datasets: 155719\n",
      "Number of installationsL 56\n"
     ]
    }
   ],
   "source": [
    "print('Number of unique datasets: %s' % (len(latestversion)))\n",
    "print('Number of installationsL %s' % (len(latestversion.publisher.unique())))"
   ],
   "metadata": {
    "collapsed": false,
    "pycharm": {
     "name": "#%%\n"
    }
   }
  },
  {
   "cell_type": "markdown",
   "source": [
    "We'll be exploring the Terms metadata of 155,719 datasets in 56 Dataverse installations. Let's get a count of each dataset in each installation."
   ],
   "metadata": {
    "collapsed": false,
    "pycharm": {
     "name": "#%% md\n"
    }
   }
  },
  {
   "cell_type": "code",
   "execution_count": 8,
   "outputs": [
    {
     "data": {
      "text/plain": "                           count of datasets\npublisher                                   \nPortail Data INRAE                     72010\nHarvard Dataverse                      44057\nopenforestdata.pl                      10116\nUNC Dataverse                           4537\nScholars Portal Dataverse               4096",
      "text/html": "<div>\n<style scoped>\n    .dataframe tbody tr th:only-of-type {\n        vertical-align: middle;\n    }\n\n    .dataframe tbody tr th {\n        vertical-align: top;\n    }\n\n    .dataframe thead th {\n        text-align: right;\n    }\n</style>\n<table border=\"1\" class=\"dataframe\">\n  <thead>\n    <tr style=\"text-align: right;\">\n      <th></th>\n      <th>count of datasets</th>\n    </tr>\n    <tr>\n      <th>publisher</th>\n      <th></th>\n    </tr>\n  </thead>\n  <tbody>\n    <tr>\n      <th>Portail Data INRAE</th>\n      <td>72010</td>\n    </tr>\n    <tr>\n      <th>Harvard Dataverse</th>\n      <td>44057</td>\n    </tr>\n    <tr>\n      <th>openforestdata.pl</th>\n      <td>10116</td>\n    </tr>\n    <tr>\n      <th>UNC Dataverse</th>\n      <td>4537</td>\n    </tr>\n    <tr>\n      <th>Scholars Portal Dataverse</th>\n      <td>4096</td>\n    </tr>\n  </tbody>\n</table>\n</div>"
     },
     "execution_count": 8,
     "metadata": {},
     "output_type": "execute_result"
    }
   ],
   "source": [
    "countlatestversionByInstallation = latestversion.value_counts(subset=['publisher']).to_frame('count of datasets')\n",
    "countlatestversionByInstallation.head()"
   ],
   "metadata": {
    "collapsed": false,
    "pycharm": {
     "name": "#%%\n"
    }
   }
  },
  {
   "cell_type": "markdown",
   "source": [
    "Now we want to know: How many datasets in each repository have a license (their license field is not null or NONE) plus one or more values in the Terms of Use fields?"
   ],
   "metadata": {
    "collapsed": false
   }
  },
  {
   "cell_type": "code",
   "execution_count": 9,
   "metadata": {},
   "outputs": [],
   "source": [
    "# Retain only publisher, dataset PID, license and Terms of Use columns\n",
    "latestversion_termsofuse = latestversion[[\n",
    "    'publisher', 'persistentUrl', 'license', 'termsOfUse', 'confidentialityDeclaration', 'specialPermissions',\n",
    "    'restrictions', 'citationRequirements', 'depositorRequirements', 'conditions', 'disclaimer'\n",
    "]]"
   ]
  },
  {
   "cell_type": "code",
   "execution_count": 10,
   "metadata": {},
   "outputs": [
    {
     "data": {
      "text/plain": "array(['NONE', 'CC0', 'CC BY', nan, 'CCBY'], dtype=object)"
     },
     "execution_count": 10,
     "metadata": {},
     "output_type": "execute_result"
    }
   ],
   "source": [
    "# List unique licences in all repository's license fields\n",
    "latestversion_termsofuse.license.unique()"
   ]
  },
  {
   "cell_type": "code",
   "execution_count": 11,
   "metadata": {},
   "outputs": [],
   "source": [
    "# Create dataframe containing only datasets with something in their license fields\n",
    "latestversionCC = (latestversion_termsofuse\n",
    "    .query('license == \"CC0\" or license == \"CCBY\" or license == \"CC BY\"')\n",
    "    .reset_index(drop = True, inplace = False)\n",
    ")"
   ]
  },
  {
   "cell_type": "code",
   "execution_count": 12,
   "metadata": {
    "scrolled": true
   },
   "outputs": [
    {
     "data": {
      "text/plain": "                              publisher                        persistentUrl  \\\n0                         ADA Dataverse  http://dx.doi.org/10.4225/87/B5AJXD   \n1  ASU Library Research Data Repository  https://doi.org/10.48349/ASU/UKDZ2U   \n2  ASU Library Research Data Repository  https://doi.org/10.48349/ASU/QXXWGP   \n3  ASU Library Research Data Repository  https://doi.org/10.48349/ASU/TCJR5Z   \n4  ASU Library Research Data Repository  https://doi.org/10.48349/ASU/VPO9LD   \n\n  license  termsOfUse confidentialityDeclaration specialPermissions  \\\n0     CC0  CC0 Waiver                        NaN                NaN   \n1     CC0  CC0 Waiver                        NaN                NaN   \n2     CC0  CC0 Waiver                        NaN                NaN   \n3     CC0  CC0 Waiver                        NaN                NaN   \n4     CC0  CC0 Waiver                        NaN                NaN   \n\n  restrictions citationRequirements depositorRequirements conditions  \\\n0          NaN                  NaN                   NaN        NaN   \n1          NaN                  NaN                   NaN        NaN   \n2          NaN                  NaN                   NaN        NaN   \n3          NaN                  NaN                   NaN        NaN   \n4          NaN                  NaN                   NaN        NaN   \n\n  disclaimer  \n0        NaN  \n1        NaN  \n2        NaN  \n3        NaN  \n4        NaN  ",
      "text/html": "<div>\n<style scoped>\n    .dataframe tbody tr th:only-of-type {\n        vertical-align: middle;\n    }\n\n    .dataframe tbody tr th {\n        vertical-align: top;\n    }\n\n    .dataframe thead th {\n        text-align: right;\n    }\n</style>\n<table border=\"1\" class=\"dataframe\">\n  <thead>\n    <tr style=\"text-align: right;\">\n      <th></th>\n      <th>publisher</th>\n      <th>persistentUrl</th>\n      <th>license</th>\n      <th>termsOfUse</th>\n      <th>confidentialityDeclaration</th>\n      <th>specialPermissions</th>\n      <th>restrictions</th>\n      <th>citationRequirements</th>\n      <th>depositorRequirements</th>\n      <th>conditions</th>\n      <th>disclaimer</th>\n    </tr>\n  </thead>\n  <tbody>\n    <tr>\n      <th>0</th>\n      <td>ADA Dataverse</td>\n      <td>http://dx.doi.org/10.4225/87/B5AJXD</td>\n      <td>CC0</td>\n      <td>CC0 Waiver</td>\n      <td>NaN</td>\n      <td>NaN</td>\n      <td>NaN</td>\n      <td>NaN</td>\n      <td>NaN</td>\n      <td>NaN</td>\n      <td>NaN</td>\n    </tr>\n    <tr>\n      <th>1</th>\n      <td>ASU Library Research Data Repository</td>\n      <td>https://doi.org/10.48349/ASU/UKDZ2U</td>\n      <td>CC0</td>\n      <td>CC0 Waiver</td>\n      <td>NaN</td>\n      <td>NaN</td>\n      <td>NaN</td>\n      <td>NaN</td>\n      <td>NaN</td>\n      <td>NaN</td>\n      <td>NaN</td>\n    </tr>\n    <tr>\n      <th>2</th>\n      <td>ASU Library Research Data Repository</td>\n      <td>https://doi.org/10.48349/ASU/QXXWGP</td>\n      <td>CC0</td>\n      <td>CC0 Waiver</td>\n      <td>NaN</td>\n      <td>NaN</td>\n      <td>NaN</td>\n      <td>NaN</td>\n      <td>NaN</td>\n      <td>NaN</td>\n      <td>NaN</td>\n    </tr>\n    <tr>\n      <th>3</th>\n      <td>ASU Library Research Data Repository</td>\n      <td>https://doi.org/10.48349/ASU/TCJR5Z</td>\n      <td>CC0</td>\n      <td>CC0 Waiver</td>\n      <td>NaN</td>\n      <td>NaN</td>\n      <td>NaN</td>\n      <td>NaN</td>\n      <td>NaN</td>\n      <td>NaN</td>\n      <td>NaN</td>\n    </tr>\n    <tr>\n      <th>4</th>\n      <td>ASU Library Research Data Repository</td>\n      <td>https://doi.org/10.48349/ASU/VPO9LD</td>\n      <td>CC0</td>\n      <td>CC0 Waiver</td>\n      <td>NaN</td>\n      <td>NaN</td>\n      <td>NaN</td>\n      <td>NaN</td>\n      <td>NaN</td>\n      <td>NaN</td>\n      <td>NaN</td>\n    </tr>\n  </tbody>\n</table>\n</div>"
     },
     "execution_count": 12,
     "metadata": {},
     "output_type": "execute_result"
    }
   ],
   "source": [
    "latestversionCC.head()"
   ]
  },
  {
   "cell_type": "code",
   "execution_count": 13,
   "metadata": {},
   "outputs": [
    {
     "name": "stdout",
     "output_type": "stream",
     "text": [
      "There are 40976 datasets with something in their license fields.\n"
     ]
    }
   ],
   "source": [
    "print('There are %s datasets with something in their license fields.' % (len(latestversionCC)))"
   ]
  },
  {
   "cell_type": "markdown",
   "source": [
    "How many of those are in each Dataverse installation?"
   ],
   "metadata": {
    "collapsed": false,
    "pycharm": {
     "name": "#%% md\n"
    }
   }
  },
  {
   "cell_type": "code",
   "execution_count": 14,
   "metadata": {},
   "outputs": [
    {
     "data": {
      "text/plain": "                           count of datasets with license\npublisher                                                \nHarvard Dataverse                                   29323\nRIN Dataverse                                        3936\nScholars Portal Dataverse                            2329\nDataverseNO                                          1060\nDataverseNL                                           764",
      "text/html": "<div>\n<style scoped>\n    .dataframe tbody tr th:only-of-type {\n        vertical-align: middle;\n    }\n\n    .dataframe tbody tr th {\n        vertical-align: top;\n    }\n\n    .dataframe thead th {\n        text-align: right;\n    }\n</style>\n<table border=\"1\" class=\"dataframe\">\n  <thead>\n    <tr style=\"text-align: right;\">\n      <th></th>\n      <th>count of datasets with license</th>\n    </tr>\n    <tr>\n      <th>publisher</th>\n      <th></th>\n    </tr>\n  </thead>\n  <tbody>\n    <tr>\n      <th>Harvard Dataverse</th>\n      <td>29323</td>\n    </tr>\n    <tr>\n      <th>RIN Dataverse</th>\n      <td>3936</td>\n    </tr>\n    <tr>\n      <th>Scholars Portal Dataverse</th>\n      <td>2329</td>\n    </tr>\n    <tr>\n      <th>DataverseNO</th>\n      <td>1060</td>\n    </tr>\n    <tr>\n      <th>DataverseNL</th>\n      <td>764</td>\n    </tr>\n  </tbody>\n</table>\n</div>"
     },
     "execution_count": 14,
     "metadata": {},
     "output_type": "execute_result"
    }
   ],
   "source": [
    "countlatestversionCCByInstallation = latestversionCC.value_counts(subset=['publisher']).to_frame('count of datasets with license')\n",
    "\n",
    "countlatestversionCCByInstallation.head()"
   ]
  },
  {
   "cell_type": "markdown",
   "metadata": {
    "pycharm": {
     "name": "#%% md\n"
    }
   },
   "source": [
    "Among the datasets with a license, how many also have values in one or more Terms of Use fields? How many are in each of the 56 Dataverse installations?"
   ]
  },
  {
   "cell_type": "code",
   "execution_count": 15,
   "outputs": [
    {
     "name": "stdout",
     "output_type": "stream",
     "text": [
      "Number of datasets with a license plus \"custom Terms of Use\" metadata: 621\n"
     ]
    }
   ],
   "source": [
    "# Create dataframe with only datasets with a license and one or more Terms of Use fields filled in\n",
    "latestversionCCPlusCustomTerms = latestversionCC.query(\n",
    "    'confidentialityDeclaration.notnull() or\\\n",
    "    specialPermissions.notnull() or\\\n",
    "    restrictions.notnull() or\\\n",
    "    citationRequirements.notnull() or\\\n",
    "    depositorRequirements.notnull() or\\\n",
    "    conditions.notnull() or\\\n",
    "    disclaimer.notnull()'\n",
    ")\n",
    "\n",
    "print('Number of datasets with a license plus \"custom Terms of Use\" metadata: %s' % (len(latestversionCCPlusCustomTerms)))"
   ],
   "metadata": {
    "collapsed": false,
    "pycharm": {
     "name": "#%%\n"
    }
   }
  },
  {
   "cell_type": "code",
   "metadata": {
    "pycharm": {
     "name": "#%%\n"
    }
   },
   "source": [
    "# Create a dataset showing count of these datasets in each installation\n",
    "latestversionCCPlusCustomTermsByInstallation = (latestversionCCPlusCustomTerms\n",
    "    .value_counts(subset=['publisher'])\n",
    "    .to_frame('count of datasets with license and ToU'))\n",
    "\n",
    "latestversionCCPlusCustomTermsByInstallation.head()"
   ],
   "execution_count": 16,
   "outputs": [
    {
     "data": {
      "text/plain": "                                               count of datasets with license and ToU\npublisher                                                                            \nHarvard Dataverse                                                                 394\nUNC Dataverse                                                                     131\nScholars Portal Dataverse                                                          51\nPortail Data INRAE                                                                  6\nPeking University Open Research Data Platform                                       6",
      "text/html": "<div>\n<style scoped>\n    .dataframe tbody tr th:only-of-type {\n        vertical-align: middle;\n    }\n\n    .dataframe tbody tr th {\n        vertical-align: top;\n    }\n\n    .dataframe thead th {\n        text-align: right;\n    }\n</style>\n<table border=\"1\" class=\"dataframe\">\n  <thead>\n    <tr style=\"text-align: right;\">\n      <th></th>\n      <th>count of datasets with license and ToU</th>\n    </tr>\n    <tr>\n      <th>publisher</th>\n      <th></th>\n    </tr>\n  </thead>\n  <tbody>\n    <tr>\n      <th>Harvard Dataverse</th>\n      <td>394</td>\n    </tr>\n    <tr>\n      <th>UNC Dataverse</th>\n      <td>131</td>\n    </tr>\n    <tr>\n      <th>Scholars Portal Dataverse</th>\n      <td>51</td>\n    </tr>\n    <tr>\n      <th>Portail Data INRAE</th>\n      <td>6</td>\n    </tr>\n    <tr>\n      <th>Peking University Open Research Data Platform</th>\n      <td>6</td>\n    </tr>\n  </tbody>\n</table>\n</div>"
     },
     "execution_count": 16,
     "metadata": {},
     "output_type": "execute_result"
    }
   ]
  },
  {
   "cell_type": "markdown",
   "source": [
    "Finally, let's join all of the dataframes we've created so we can see the counts of datasets for each query for each installation."
   ],
   "metadata": {
    "collapsed": false,
    "pycharm": {
     "name": "#%% md\n"
    }
   }
  },
  {
   "cell_type": "code",
   "execution_count": 17,
   "metadata": {},
   "outputs": [],
   "source": [
    "dataframes = [countlatestversionByInstallation, countlatestversionCCByInstallation, latestversionCCPlusCustomTermsByInstallation]\n",
    "allCountsByInstallation = reduce(lambda left, right: left.join(right, how='outer'), dataframes)\n",
    "\n",
    "# Format dataframe to replace NA values with 0, cast values as integers and sort by greatest number of datasets with a license plus ToU\n",
    "allCountsByInstallation = (allCountsByInstallation\n",
    "                           .fillna(0)\n",
    "                           .astype('int32')\n",
    "                           .sort_values([\n",
    "                                'count of datasets with license and ToU',\n",
    "                                'count of datasets',\n",
    "                                'count of datasets with license'], ascending=False)\n",
    "                           )"
   ]
  },
  {
   "cell_type": "code",
   "execution_count": 30,
   "metadata": {},
   "outputs": [
    {
     "data": {
      "text/plain": "                                               count of datasets  \\\npublisher                                                          \nHarvard Dataverse                                          44057   \nUNC Dataverse                                               4537   \nScholars Portal Dataverse                                   4096   \nPortail Data INRAE                                         72010   \nPeking University Open Research Data Platform                320   \n\n                                               count of datasets with license  \\\npublisher                                                                       \nHarvard Dataverse                                                       29323   \nUNC Dataverse                                                             644   \nScholars Portal Dataverse                                                2329   \nPortail Data INRAE                                                         55   \nPeking University Open Research Data Platform                             314   \n\n                                               count of datasets with license and ToU  \npublisher                                                                              \nHarvard Dataverse                                                                 394  \nUNC Dataverse                                                                     131  \nScholars Portal Dataverse                                                          51  \nPortail Data INRAE                                                                  6  \nPeking University Open Research Data Platform                                       6  ",
      "text/html": "<div>\n<style scoped>\n    .dataframe tbody tr th:only-of-type {\n        vertical-align: middle;\n    }\n\n    .dataframe tbody tr th {\n        vertical-align: top;\n    }\n\n    .dataframe thead th {\n        text-align: right;\n    }\n</style>\n<table border=\"1\" class=\"dataframe\">\n  <thead>\n    <tr style=\"text-align: right;\">\n      <th></th>\n      <th>count of datasets</th>\n      <th>count of datasets with license</th>\n      <th>count of datasets with license and ToU</th>\n    </tr>\n    <tr>\n      <th>publisher</th>\n      <th></th>\n      <th></th>\n      <th></th>\n    </tr>\n  </thead>\n  <tbody>\n    <tr>\n      <th>Harvard Dataverse</th>\n      <td>44057</td>\n      <td>29323</td>\n      <td>394</td>\n    </tr>\n    <tr>\n      <th>UNC Dataverse</th>\n      <td>4537</td>\n      <td>644</td>\n      <td>131</td>\n    </tr>\n    <tr>\n      <th>Scholars Portal Dataverse</th>\n      <td>4096</td>\n      <td>2329</td>\n      <td>51</td>\n    </tr>\n    <tr>\n      <th>Portail Data INRAE</th>\n      <td>72010</td>\n      <td>55</td>\n      <td>6</td>\n    </tr>\n    <tr>\n      <th>Peking University Open Research Data Platform</th>\n      <td>320</td>\n      <td>314</td>\n      <td>6</td>\n    </tr>\n  </tbody>\n</table>\n</div>"
     },
     "execution_count": 30,
     "metadata": {},
     "output_type": "execute_result"
    }
   ],
   "source": [
    "allCountsByInstallation.head()"
   ]
  },
  {
   "cell_type": "code",
   "execution_count": 29,
   "metadata": {
    "pycharm": {
     "name": "#%%\n"
    }
   },
   "outputs": [],
   "source": [
    "# Export to allCountsByInstallation dataframe to a CSV file\n",
    "fileName = 'allCountsByInstallation.csv'\n",
    "allCountsByInstallation.to_csv(fileName, index=True)"
   ]
  }
 ],
 "metadata": {
  "hide_input": false,
  "kernelspec": {
   "display_name": "Python 3",
   "language": "python",
   "name": "python3"
  },
  "language_info": {
   "codemirror_mode": {
    "name": "ipython",
    "version": 3
   },
   "file_extension": ".py",
   "mimetype": "text/x-python",
   "name": "python",
   "nbconvert_exporter": "python",
   "pygments_lexer": "ipython3",
   "version": "3.7.0"
  }
 },
 "nbformat": 4,
 "nbformat_minor": 4
}