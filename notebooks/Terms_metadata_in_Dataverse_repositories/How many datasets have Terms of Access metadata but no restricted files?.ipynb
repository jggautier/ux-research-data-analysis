{
 "cells": [
  {
   "cell_type": "code",
   "execution_count": 32,
   "metadata": {},
   "outputs": [],
   "source": [
    "import csv\n",
    "from functools import reduce\n",
    "from google_trans_new import google_translator\n",
    "import pandas as pd\n"
   ]
  },
  {
   "cell_type": "markdown",
   "metadata": {},
   "source": [
    "## Get data"
   ]
  },
  {
   "cell_type": "markdown",
   "metadata": {},
   "source": [
    "Get data about whether or not each dataset as one or more restricted files"
   ]
  },
  {
   "cell_type": "code",
   "execution_count": 41,
   "metadata": {},
   "outputs": [],
   "source": [
    "restrictedFilesCountDF = pd.read_csv('restricted_files_count.tab', sep='\\t', na_filter = False)\n",
    "\n",
    "# Get only metadata for the latest versions of each dataset\n",
    "restrictedFilesCountLatestversionDF = (restrictedFilesCountDF\n",
    "    .iloc[restrictedFilesCountDF.groupby('persistentUrl')['datasetVersionId'].agg(pd.Series.idxmax)]\n",
    "    .reset_index(drop=True, inplace=False)\n",
    "    .drop(columns=['datasetVersionId'])\n",
    "    )\n"
   ]
  },
  {
   "cell_type": "code",
   "execution_count": 38,
   "metadata": {},
   "outputs": [
    {
     "data": {
      "text/html": [
       "<div>\n",
       "<style scoped>\n",
       "    .dataframe tbody tr th:only-of-type {\n",
       "        vertical-align: middle;\n",
       "    }\n",
       "\n",
       "    .dataframe tbody tr th {\n",
       "        vertical-align: top;\n",
       "    }\n",
       "\n",
       "    .dataframe thead th {\n",
       "        text-align: right;\n",
       "    }\n",
       "</style>\n",
       "<table border=\"1\" class=\"dataframe\">\n",
       "  <thead>\n",
       "    <tr style=\"text-align: right;\">\n",
       "      <th></th>\n",
       "      <th>persistentUrl</th>\n",
       "      <th>restricted_files</th>\n",
       "    </tr>\n",
       "  </thead>\n",
       "  <tbody>\n",
       "    <tr>\n",
       "      <th>0</th>\n",
       "      <td>http://dx.doi.org/10.26193/00HBWG</td>\n",
       "      <td>NA (not recorded)</td>\n",
       "    </tr>\n",
       "    <tr>\n",
       "      <th>1</th>\n",
       "      <td>http://dx.doi.org/10.26193/01P0AI</td>\n",
       "      <td>NA (not recorded)</td>\n",
       "    </tr>\n",
       "    <tr>\n",
       "      <th>2</th>\n",
       "      <td>http://dx.doi.org/10.26193/04F7C1</td>\n",
       "      <td>NA (not recorded)</td>\n",
       "    </tr>\n",
       "    <tr>\n",
       "      <th>3</th>\n",
       "      <td>http://dx.doi.org/10.26193/07R31R</td>\n",
       "      <td>NA (not recorded)</td>\n",
       "    </tr>\n",
       "    <tr>\n",
       "      <th>4</th>\n",
       "      <td>http://dx.doi.org/10.26193/0AF6TZ</td>\n",
       "      <td>NA (not recorded)</td>\n",
       "    </tr>\n",
       "  </tbody>\n",
       "</table>\n",
       "</div>"
      ],
      "text/plain": [
       "                       persistentUrl   restricted_files\n",
       "0  http://dx.doi.org/10.26193/00HBWG  NA (not recorded)\n",
       "1  http://dx.doi.org/10.26193/01P0AI  NA (not recorded)\n",
       "2  http://dx.doi.org/10.26193/04F7C1  NA (not recorded)\n",
       "3  http://dx.doi.org/10.26193/07R31R  NA (not recorded)\n",
       "4  http://dx.doi.org/10.26193/0AF6TZ  NA (not recorded)"
      ]
     },
     "execution_count": 38,
     "metadata": {},
     "output_type": "execute_result"
    }
   ],
   "source": [
    "restrictedFilesCountLatestversionDF.head(5)"
   ]
  },
  {
   "cell_type": "code",
   "execution_count": 42,
   "metadata": {},
   "outputs": [],
   "source": [
    "termsMetadataDF = pd.read_csv('terms_metadata.tab', sep='\\t', na_filter = False)\n",
    "\n",
    "# Get only metadata for the latest versions of each dataset\n",
    "termsMetadataLatestversionDF = (termsMetadataDF\n",
    "    .iloc[termsMetadataDF.groupby('persistentUrl')['datasetVersionId']\n",
    "    .agg(pd.Series.idxmax)]\n",
    "    .sort_values(by=['publisher'], inplace=False, ascending=True)\n",
    "    .drop(columns=['datasetVersionId'])\n",
    "    .reset_index(drop=True, inplace=False)\n",
    "    )\n"
   ]
  },
  {
   "cell_type": "code",
   "execution_count": 39,
   "metadata": {},
   "outputs": [
    {
     "data": {
      "text/html": [
       "<div>\n",
       "<style scoped>\n",
       "    .dataframe tbody tr th:only-of-type {\n",
       "        vertical-align: middle;\n",
       "    }\n",
       "\n",
       "    .dataframe tbody tr th {\n",
       "        vertical-align: top;\n",
       "    }\n",
       "\n",
       "    .dataframe thead th {\n",
       "        text-align: right;\n",
       "    }\n",
       "</style>\n",
       "<table border=\"1\" class=\"dataframe\">\n",
       "  <thead>\n",
       "    <tr style=\"text-align: right;\">\n",
       "      <th></th>\n",
       "      <th>publisher</th>\n",
       "      <th>persistentUrl</th>\n",
       "      <th>datasetVersionId</th>\n",
       "      <th>majorVersionNumber</th>\n",
       "      <th>minorVersionNumber</th>\n",
       "      <th>license</th>\n",
       "      <th>termsOfAccess</th>\n",
       "      <th>termsOfUse</th>\n",
       "      <th>availabilityStatus</th>\n",
       "      <th>citationRequirements</th>\n",
       "      <th>...</th>\n",
       "      <th>confidentialityDeclaration</th>\n",
       "      <th>contactForAccess</th>\n",
       "      <th>dataaccessPlace</th>\n",
       "      <th>depositorRequirements</th>\n",
       "      <th>disclaimer</th>\n",
       "      <th>originalArchive</th>\n",
       "      <th>restrictions</th>\n",
       "      <th>sizeOfCollection</th>\n",
       "      <th>specialPermissions</th>\n",
       "      <th>studyCompletion</th>\n",
       "    </tr>\n",
       "  </thead>\n",
       "  <tbody>\n",
       "    <tr>\n",
       "      <th>0</th>\n",
       "      <td>ACSS Dataverse</td>\n",
       "      <td>https://doi.org/10.25825/FK2/VXVPVP</td>\n",
       "      <td>18</td>\n",
       "      <td>1</td>\n",
       "      <td>0</td>\n",
       "      <td>NONE</td>\n",
       "      <td></td>\n",
       "      <td>&lt;b&gt;Acceptance of Terms&lt;/b&gt;&lt;br&gt;&lt;/br&gt;\\nThe follo...</td>\n",
       "      <td></td>\n",
       "      <td></td>\n",
       "      <td>...</td>\n",
       "      <td></td>\n",
       "      <td></td>\n",
       "      <td></td>\n",
       "      <td></td>\n",
       "      <td></td>\n",
       "      <td></td>\n",
       "      <td></td>\n",
       "      <td></td>\n",
       "      <td></td>\n",
       "      <td></td>\n",
       "    </tr>\n",
       "    <tr>\n",
       "      <th>1</th>\n",
       "      <td>ACSS Dataverse</td>\n",
       "      <td>https://doi.org/10.25825/FK2/8YKSQV</td>\n",
       "      <td>59</td>\n",
       "      <td>1</td>\n",
       "      <td>0</td>\n",
       "      <td>NONE</td>\n",
       "      <td></td>\n",
       "      <td>&lt;b&gt;Acceptance of Terms&lt;/b&gt;&lt;br&gt;&lt;/br&gt;\\nThe follo...</td>\n",
       "      <td></td>\n",
       "      <td></td>\n",
       "      <td>...</td>\n",
       "      <td></td>\n",
       "      <td></td>\n",
       "      <td></td>\n",
       "      <td></td>\n",
       "      <td></td>\n",
       "      <td></td>\n",
       "      <td></td>\n",
       "      <td></td>\n",
       "      <td></td>\n",
       "      <td></td>\n",
       "    </tr>\n",
       "    <tr>\n",
       "      <th>2</th>\n",
       "      <td>ACSS Dataverse</td>\n",
       "      <td>https://doi.org/10.25825/FK2/9QFRW2</td>\n",
       "      <td>82</td>\n",
       "      <td>1</td>\n",
       "      <td>0</td>\n",
       "      <td>NONE</td>\n",
       "      <td></td>\n",
       "      <td>&lt;b&gt;Acceptance of Terms&lt;/b&gt;&lt;br&gt;&lt;/br&gt;\\nThe follo...</td>\n",
       "      <td></td>\n",
       "      <td></td>\n",
       "      <td>...</td>\n",
       "      <td></td>\n",
       "      <td></td>\n",
       "      <td></td>\n",
       "      <td></td>\n",
       "      <td></td>\n",
       "      <td></td>\n",
       "      <td></td>\n",
       "      <td></td>\n",
       "      <td></td>\n",
       "      <td></td>\n",
       "    </tr>\n",
       "    <tr>\n",
       "      <th>3</th>\n",
       "      <td>ACSS Dataverse</td>\n",
       "      <td>https://doi.org/10.25825/FK2/A3JWCN</td>\n",
       "      <td>107</td>\n",
       "      <td>1</td>\n",
       "      <td>0</td>\n",
       "      <td>NONE</td>\n",
       "      <td></td>\n",
       "      <td>&lt;b&gt;Acceptance of Terms&lt;/b&gt;&lt;br&gt;&lt;/br&gt;\\nThe follo...</td>\n",
       "      <td></td>\n",
       "      <td></td>\n",
       "      <td>...</td>\n",
       "      <td></td>\n",
       "      <td></td>\n",
       "      <td></td>\n",
       "      <td></td>\n",
       "      <td></td>\n",
       "      <td></td>\n",
       "      <td></td>\n",
       "      <td></td>\n",
       "      <td></td>\n",
       "      <td></td>\n",
       "    </tr>\n",
       "    <tr>\n",
       "      <th>4</th>\n",
       "      <td>ACSS Dataverse</td>\n",
       "      <td>https://doi.org/10.25825/FK2/AGZJI8</td>\n",
       "      <td>121</td>\n",
       "      <td>1</td>\n",
       "      <td>0</td>\n",
       "      <td>NONE</td>\n",
       "      <td></td>\n",
       "      <td>&lt;b&gt;Acceptance of Terms&lt;/b&gt;&lt;br&gt;&lt;/br&gt;\\nThe follo...</td>\n",
       "      <td></td>\n",
       "      <td></td>\n",
       "      <td>...</td>\n",
       "      <td></td>\n",
       "      <td></td>\n",
       "      <td></td>\n",
       "      <td></td>\n",
       "      <td></td>\n",
       "      <td></td>\n",
       "      <td></td>\n",
       "      <td></td>\n",
       "      <td></td>\n",
       "      <td></td>\n",
       "    </tr>\n",
       "  </tbody>\n",
       "</table>\n",
       "<p>5 rows × 21 columns</p>\n",
       "</div>"
      ],
      "text/plain": [
       "        publisher                        persistentUrl  datasetVersionId  \\\n",
       "0  ACSS Dataverse  https://doi.org/10.25825/FK2/VXVPVP                18   \n",
       "1  ACSS Dataverse  https://doi.org/10.25825/FK2/8YKSQV                59   \n",
       "2  ACSS Dataverse  https://doi.org/10.25825/FK2/9QFRW2                82   \n",
       "3  ACSS Dataverse  https://doi.org/10.25825/FK2/A3JWCN               107   \n",
       "4  ACSS Dataverse  https://doi.org/10.25825/FK2/AGZJI8               121   \n",
       "\n",
       "   majorVersionNumber  minorVersionNumber license termsOfAccess  \\\n",
       "0                   1                   0    NONE                 \n",
       "1                   1                   0    NONE                 \n",
       "2                   1                   0    NONE                 \n",
       "3                   1                   0    NONE                 \n",
       "4                   1                   0    NONE                 \n",
       "\n",
       "                                          termsOfUse availabilityStatus  \\\n",
       "0  <b>Acceptance of Terms</b><br></br>\\nThe follo...                      \n",
       "1  <b>Acceptance of Terms</b><br></br>\\nThe follo...                      \n",
       "2  <b>Acceptance of Terms</b><br></br>\\nThe follo...                      \n",
       "3  <b>Acceptance of Terms</b><br></br>\\nThe follo...                      \n",
       "4  <b>Acceptance of Terms</b><br></br>\\nThe follo...                      \n",
       "\n",
       "  citationRequirements  ... confidentialityDeclaration contactForAccess  \\\n",
       "0                       ...                                               \n",
       "1                       ...                                               \n",
       "2                       ...                                               \n",
       "3                       ...                                               \n",
       "4                       ...                                               \n",
       "\n",
       "  dataaccessPlace depositorRequirements disclaimer originalArchive  \\\n",
       "0                                                                    \n",
       "1                                                                    \n",
       "2                                                                    \n",
       "3                                                                    \n",
       "4                                                                    \n",
       "\n",
       "  restrictions sizeOfCollection specialPermissions studyCompletion  \n",
       "0                                                                   \n",
       "1                                                                   \n",
       "2                                                                   \n",
       "3                                                                   \n",
       "4                                                                   \n",
       "\n",
       "[5 rows x 21 columns]"
      ]
     },
     "execution_count": 39,
     "metadata": {},
     "output_type": "execute_result"
    }
   ],
   "source": [
    "termsMetadataLatestversionDF.head(5)"
   ]
  },
  {
   "cell_type": "markdown",
   "metadata": {},
   "source": [
    "Join restrictedFilesCountLatestversionDF to termsMetadataLatestversionDF"
   ]
  },
  {
   "cell_type": "code",
   "execution_count": 50,
   "metadata": {},
   "outputs": [],
   "source": [
    "termsAndRestrictedFilesDF = pd.merge(termsMetadataLatestversionDF, restrictedFilesCountLatestversionDF)\n",
    "termsAndRestrictedFilesDF = termsAndRestrictedFilesDF[['publisher','persistentUrl', 'termsOfAccess', 'restricted_files']]\n"
   ]
  },
  {
   "cell_type": "code",
   "execution_count": 51,
   "metadata": {
    "scrolled": true
   },
   "outputs": [
    {
     "data": {
      "text/html": [
       "<div>\n",
       "<style scoped>\n",
       "    .dataframe tbody tr th:only-of-type {\n",
       "        vertical-align: middle;\n",
       "    }\n",
       "\n",
       "    .dataframe tbody tr th {\n",
       "        vertical-align: top;\n",
       "    }\n",
       "\n",
       "    .dataframe thead th {\n",
       "        text-align: right;\n",
       "    }\n",
       "</style>\n",
       "<table border=\"1\" class=\"dataframe\">\n",
       "  <thead>\n",
       "    <tr style=\"text-align: right;\">\n",
       "      <th></th>\n",
       "      <th>publisher</th>\n",
       "      <th>persistentUrl</th>\n",
       "      <th>termsOfAccess</th>\n",
       "      <th>restricted_files</th>\n",
       "    </tr>\n",
       "  </thead>\n",
       "  <tbody>\n",
       "    <tr>\n",
       "      <th>0</th>\n",
       "      <td>ACSS Dataverse</td>\n",
       "      <td>https://doi.org/10.25825/FK2/VXVPVP</td>\n",
       "      <td></td>\n",
       "      <td>0</td>\n",
       "    </tr>\n",
       "    <tr>\n",
       "      <th>1</th>\n",
       "      <td>ACSS Dataverse</td>\n",
       "      <td>https://doi.org/10.25825/FK2/8YKSQV</td>\n",
       "      <td></td>\n",
       "      <td>0</td>\n",
       "    </tr>\n",
       "    <tr>\n",
       "      <th>2</th>\n",
       "      <td>ACSS Dataverse</td>\n",
       "      <td>https://doi.org/10.25825/FK2/9QFRW2</td>\n",
       "      <td></td>\n",
       "      <td>0</td>\n",
       "    </tr>\n",
       "    <tr>\n",
       "      <th>3</th>\n",
       "      <td>ACSS Dataverse</td>\n",
       "      <td>https://doi.org/10.25825/FK2/A3JWCN</td>\n",
       "      <td></td>\n",
       "      <td>0</td>\n",
       "    </tr>\n",
       "    <tr>\n",
       "      <th>4</th>\n",
       "      <td>ACSS Dataverse</td>\n",
       "      <td>https://doi.org/10.25825/FK2/AGZJI8</td>\n",
       "      <td></td>\n",
       "      <td>0</td>\n",
       "    </tr>\n",
       "  </tbody>\n",
       "</table>\n",
       "</div>"
      ],
      "text/plain": [
       "        publisher                        persistentUrl termsOfAccess  \\\n",
       "0  ACSS Dataverse  https://doi.org/10.25825/FK2/VXVPVP                 \n",
       "1  ACSS Dataverse  https://doi.org/10.25825/FK2/8YKSQV                 \n",
       "2  ACSS Dataverse  https://doi.org/10.25825/FK2/9QFRW2                 \n",
       "3  ACSS Dataverse  https://doi.org/10.25825/FK2/A3JWCN                 \n",
       "4  ACSS Dataverse  https://doi.org/10.25825/FK2/AGZJI8                 \n",
       "\n",
       "  restricted_files  \n",
       "0                0  \n",
       "1                0  \n",
       "2                0  \n",
       "3                0  \n",
       "4                0  "
      ]
     },
     "execution_count": 51,
     "metadata": {},
     "output_type": "execute_result"
    }
   ],
   "source": [
    "termsAndRestrictedFilesDF.head(5)"
   ]
  },
  {
   "cell_type": "markdown",
   "metadata": {},
   "source": [
    "Verify data in joined table: Compare count of datasets in restrictedFilesCountLatestversionDf to count of datasets termsMetadataLatestversionDF"
   ]
  },
  {
   "cell_type": "code",
   "execution_count": 54,
   "metadata": {},
   "outputs": [
    {
     "name": "stdout",
     "output_type": "stream",
     "text": [
      "Number of datasets in termsAndRestrictedFilesDF: 133253\n",
      "Number of datasets in termsMetadataLatestversionDF: 133253\n"
     ]
    }
   ],
   "source": [
    "print('Number of datasets in termsMetadataLatestversionDF: %s' % (len(pd.unique(termsMetadataLatestversionDF['persistentUrl']))))\n",
    "print('Number of datasets in termsAndRestrictedFilesDF: %s' % (len(pd.unique(termsAndRestrictedFilesDF['persistentUrl']))))\n"
   ]
  },
  {
   "cell_type": "markdown",
   "metadata": {},
   "source": [
    "Count number of datasets whose latest version has:"
   ]
  },
  {
   "cell_type": "markdown",
   "metadata": {},
   "source": [
    " - Terms of Access metadata and one or more restricted files"
   ]
  },
  {
   "cell_type": "code",
   "execution_count": null,
   "metadata": {},
   "outputs": [],
   "source": []
  },
  {
   "cell_type": "markdown",
   "metadata": {},
   "source": [
    " - Terms of Access metadata and no restricted files"
   ]
  },
  {
   "cell_type": "code",
   "execution_count": null,
   "metadata": {},
   "outputs": [],
   "source": []
  },
  {
   "cell_type": "markdown",
   "metadata": {},
   "source": [
    " - Restricted files but no Terms of Access metadata"
   ]
  },
  {
   "cell_type": "code",
   "execution_count": null,
   "metadata": {},
   "outputs": [],
   "source": []
  },
  {
   "cell_type": "code",
   "execution_count": null,
   "metadata": {},
   "outputs": [],
   "source": []
  }
 ],
 "metadata": {
  "hide_input": false,
  "kernelspec": {
   "display_name": "Python 3",
   "language": "python",
   "name": "python3"
  },
  "language_info": {
   "codemirror_mode": {
    "name": "ipython",
    "version": 3
   },
   "file_extension": ".py",
   "mimetype": "text/x-python",
   "name": "python",
   "nbconvert_exporter": "python",
   "pygments_lexer": "ipython3",
   "version": "3.7.0"
  }
 },
 "nbformat": 4,
 "nbformat_minor": 4
}
