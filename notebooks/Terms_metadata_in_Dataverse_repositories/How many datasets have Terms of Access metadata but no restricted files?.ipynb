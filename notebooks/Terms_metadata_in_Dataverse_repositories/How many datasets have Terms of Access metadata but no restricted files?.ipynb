{
 "cells": [
  {
   "cell_type": "code",
   "execution_count": 12,
   "metadata": {},
   "outputs": [],
   "source": [
    "import csv\n",
    "from functools import reduce\n",
    "from google_trans_new import google_translator\n",
    "import numpy as np\n",
    "import pandas as pd\n"
   ]
  },
  {
   "cell_type": "markdown",
   "metadata": {},
   "source": [
    "## Get and verify the data"
   ]
  },
  {
   "cell_type": "markdown",
   "metadata": {},
   "source": [
    "Get data about whether or not each dataset as one or more restricted files"
   ]
  },
  {
   "cell_type": "code",
   "execution_count": 2,
   "metadata": {},
   "outputs": [],
   "source": [
    "restrictedFilesCountDF = pd.read_csv('file_restrictions.tab', sep='\\t', na_filter = False)\n"
   ]
  },
  {
   "cell_type": "code",
   "execution_count": 3,
   "metadata": {},
   "outputs": [],
   "source": [
    "# Get only metadata for the latest versions of each dataset\n",
    "restrictedFilesCountLatestversionDF = (restrictedFilesCountDF\n",
    "    .iloc[restrictedFilesCountDF.groupby('persistentUrl')['datasetVersionId'].agg(pd.Series.idxmax)]\n",
    "    .reset_index(drop=True, inplace=False)\n",
    "    .drop(columns=['datasetVersionId'])\n",
    "    )"
   ]
  },
  {
   "cell_type": "code",
   "execution_count": 4,
   "metadata": {},
   "outputs": [
    {
     "data": {
      "text/html": [
       "<div>\n",
       "<style scoped>\n",
       "    .dataframe tbody tr th:only-of-type {\n",
       "        vertical-align: middle;\n",
       "    }\n",
       "\n",
       "    .dataframe tbody tr th {\n",
       "        vertical-align: top;\n",
       "    }\n",
       "\n",
       "    .dataframe thead th {\n",
       "        text-align: right;\n",
       "    }\n",
       "</style>\n",
       "<table border=\"1\" class=\"dataframe\">\n",
       "  <thead>\n",
       "    <tr style=\"text-align: right;\">\n",
       "      <th></th>\n",
       "      <th>persistentUrl</th>\n",
       "      <th>restricted_files</th>\n",
       "      <th>file_access_request</th>\n",
       "    </tr>\n",
       "  </thead>\n",
       "  <tbody>\n",
       "    <tr>\n",
       "      <th>0</th>\n",
       "      <td>http://dx.doi.org/10.26193/00HBWG</td>\n",
       "      <td>NA (not recorded)</td>\n",
       "      <td>NA (not recorded)</td>\n",
       "    </tr>\n",
       "    <tr>\n",
       "      <th>1</th>\n",
       "      <td>http://dx.doi.org/10.26193/01P0AI</td>\n",
       "      <td>NA (not recorded)</td>\n",
       "      <td>NA (not recorded)</td>\n",
       "    </tr>\n",
       "    <tr>\n",
       "      <th>2</th>\n",
       "      <td>http://dx.doi.org/10.26193/04F7C1</td>\n",
       "      <td>NA (not recorded)</td>\n",
       "      <td>NA (not recorded)</td>\n",
       "    </tr>\n",
       "    <tr>\n",
       "      <th>3</th>\n",
       "      <td>http://dx.doi.org/10.26193/07R31R</td>\n",
       "      <td>NA (not recorded)</td>\n",
       "      <td>NA (not recorded)</td>\n",
       "    </tr>\n",
       "    <tr>\n",
       "      <th>4</th>\n",
       "      <td>http://dx.doi.org/10.26193/0AF6TZ</td>\n",
       "      <td>NA (not recorded)</td>\n",
       "      <td>NA (not recorded)</td>\n",
       "    </tr>\n",
       "  </tbody>\n",
       "</table>\n",
       "</div>"
      ],
      "text/plain": [
       "                       persistentUrl   restricted_files file_access_request\n",
       "0  http://dx.doi.org/10.26193/00HBWG  NA (not recorded)   NA (not recorded)\n",
       "1  http://dx.doi.org/10.26193/01P0AI  NA (not recorded)   NA (not recorded)\n",
       "2  http://dx.doi.org/10.26193/04F7C1  NA (not recorded)   NA (not recorded)\n",
       "3  http://dx.doi.org/10.26193/07R31R  NA (not recorded)   NA (not recorded)\n",
       "4  http://dx.doi.org/10.26193/0AF6TZ  NA (not recorded)   NA (not recorded)"
      ]
     },
     "execution_count": 4,
     "metadata": {},
     "output_type": "execute_result"
    }
   ],
   "source": [
    "restrictedFilesCountLatestversionDF.head(5)"
   ]
  },
  {
   "cell_type": "code",
   "execution_count": 22,
   "metadata": {},
   "outputs": [],
   "source": [
    "termsMetadataDF = (pd\n",
    "    .read_csv('terms_metadata.tab', sep='\\t', na_filter = False)\n",
    "    .replace(r'^\\s*$', np.nan, regex=True)\n",
    ")\n",
    "\n",
    "# Replace any blank values with NaN\n",
    "# latestversion = latestversion.replace(r'^\\s*$', np.nan, regex=True)"
   ]
  },
  {
   "cell_type": "code",
   "execution_count": 23,
   "metadata": {},
   "outputs": [],
   "source": [
    "# Get only metadata for the latest versions of each dataset\n",
    "termsMetadataLatestversionDF = (termsMetadataDF\n",
    "    .iloc[termsMetadataDF.groupby('persistentUrl')['datasetVersionId']\n",
    "    .agg(pd.Series.idxmax)]\n",
    "    .sort_values(by=['publisher'], inplace=False, ascending=True)\n",
    "    .drop(columns=['datasetVersionId'])\n",
    "    .reset_index(drop=True, inplace=False)\n",
    "    )"
   ]
  },
  {
   "cell_type": "code",
   "execution_count": 24,
   "metadata": {},
   "outputs": [
    {
     "data": {
      "text/html": [
       "<div>\n",
       "<style scoped>\n",
       "    .dataframe tbody tr th:only-of-type {\n",
       "        vertical-align: middle;\n",
       "    }\n",
       "\n",
       "    .dataframe tbody tr th {\n",
       "        vertical-align: top;\n",
       "    }\n",
       "\n",
       "    .dataframe thead th {\n",
       "        text-align: right;\n",
       "    }\n",
       "</style>\n",
       "<table border=\"1\" class=\"dataframe\">\n",
       "  <thead>\n",
       "    <tr style=\"text-align: right;\">\n",
       "      <th></th>\n",
       "      <th>publisher</th>\n",
       "      <th>persistentUrl</th>\n",
       "      <th>majorVersionNumber</th>\n",
       "      <th>minorVersionNumber</th>\n",
       "      <th>license</th>\n",
       "      <th>termsOfAccess</th>\n",
       "      <th>termsOfUse</th>\n",
       "      <th>availabilityStatus</th>\n",
       "      <th>citationRequirements</th>\n",
       "      <th>conditions</th>\n",
       "      <th>confidentialityDeclaration</th>\n",
       "      <th>contactForAccess</th>\n",
       "      <th>dataaccessPlace</th>\n",
       "      <th>depositorRequirements</th>\n",
       "      <th>disclaimer</th>\n",
       "      <th>originalArchive</th>\n",
       "      <th>restrictions</th>\n",
       "      <th>sizeOfCollection</th>\n",
       "      <th>specialPermissions</th>\n",
       "      <th>studyCompletion</th>\n",
       "    </tr>\n",
       "  </thead>\n",
       "  <tbody>\n",
       "    <tr>\n",
       "      <th>0</th>\n",
       "      <td>ACSS Dataverse</td>\n",
       "      <td>https://doi.org/10.25825/FK2/VXVPVP</td>\n",
       "      <td>1</td>\n",
       "      <td>0</td>\n",
       "      <td>NONE</td>\n",
       "      <td>NaN</td>\n",
       "      <td>&lt;b&gt;Acceptance of Terms&lt;/b&gt;&lt;br&gt;&lt;/br&gt;\\nThe follo...</td>\n",
       "      <td>NaN</td>\n",
       "      <td>NaN</td>\n",
       "      <td>NaN</td>\n",
       "      <td>NaN</td>\n",
       "      <td>NaN</td>\n",
       "      <td>NaN</td>\n",
       "      <td>NaN</td>\n",
       "      <td>NaN</td>\n",
       "      <td>NaN</td>\n",
       "      <td>NaN</td>\n",
       "      <td>NaN</td>\n",
       "      <td>NaN</td>\n",
       "      <td>NaN</td>\n",
       "    </tr>\n",
       "    <tr>\n",
       "      <th>1</th>\n",
       "      <td>ACSS Dataverse</td>\n",
       "      <td>https://doi.org/10.25825/FK2/8YKSQV</td>\n",
       "      <td>1</td>\n",
       "      <td>0</td>\n",
       "      <td>NONE</td>\n",
       "      <td>NaN</td>\n",
       "      <td>&lt;b&gt;Acceptance of Terms&lt;/b&gt;&lt;br&gt;&lt;/br&gt;\\nThe follo...</td>\n",
       "      <td>NaN</td>\n",
       "      <td>NaN</td>\n",
       "      <td>NaN</td>\n",
       "      <td>NaN</td>\n",
       "      <td>NaN</td>\n",
       "      <td>NaN</td>\n",
       "      <td>NaN</td>\n",
       "      <td>NaN</td>\n",
       "      <td>NaN</td>\n",
       "      <td>NaN</td>\n",
       "      <td>NaN</td>\n",
       "      <td>NaN</td>\n",
       "      <td>NaN</td>\n",
       "    </tr>\n",
       "    <tr>\n",
       "      <th>2</th>\n",
       "      <td>ACSS Dataverse</td>\n",
       "      <td>https://doi.org/10.25825/FK2/9QFRW2</td>\n",
       "      <td>1</td>\n",
       "      <td>0</td>\n",
       "      <td>NONE</td>\n",
       "      <td>NaN</td>\n",
       "      <td>&lt;b&gt;Acceptance of Terms&lt;/b&gt;&lt;br&gt;&lt;/br&gt;\\nThe follo...</td>\n",
       "      <td>NaN</td>\n",
       "      <td>NaN</td>\n",
       "      <td>NaN</td>\n",
       "      <td>NaN</td>\n",
       "      <td>NaN</td>\n",
       "      <td>NaN</td>\n",
       "      <td>NaN</td>\n",
       "      <td>NaN</td>\n",
       "      <td>NaN</td>\n",
       "      <td>NaN</td>\n",
       "      <td>NaN</td>\n",
       "      <td>NaN</td>\n",
       "      <td>NaN</td>\n",
       "    </tr>\n",
       "    <tr>\n",
       "      <th>3</th>\n",
       "      <td>ACSS Dataverse</td>\n",
       "      <td>https://doi.org/10.25825/FK2/A3JWCN</td>\n",
       "      <td>1</td>\n",
       "      <td>0</td>\n",
       "      <td>NONE</td>\n",
       "      <td>NaN</td>\n",
       "      <td>&lt;b&gt;Acceptance of Terms&lt;/b&gt;&lt;br&gt;&lt;/br&gt;\\nThe follo...</td>\n",
       "      <td>NaN</td>\n",
       "      <td>NaN</td>\n",
       "      <td>NaN</td>\n",
       "      <td>NaN</td>\n",
       "      <td>NaN</td>\n",
       "      <td>NaN</td>\n",
       "      <td>NaN</td>\n",
       "      <td>NaN</td>\n",
       "      <td>NaN</td>\n",
       "      <td>NaN</td>\n",
       "      <td>NaN</td>\n",
       "      <td>NaN</td>\n",
       "      <td>NaN</td>\n",
       "    </tr>\n",
       "    <tr>\n",
       "      <th>4</th>\n",
       "      <td>ACSS Dataverse</td>\n",
       "      <td>https://doi.org/10.25825/FK2/AGZJI8</td>\n",
       "      <td>1</td>\n",
       "      <td>0</td>\n",
       "      <td>NONE</td>\n",
       "      <td>NaN</td>\n",
       "      <td>&lt;b&gt;Acceptance of Terms&lt;/b&gt;&lt;br&gt;&lt;/br&gt;\\nThe follo...</td>\n",
       "      <td>NaN</td>\n",
       "      <td>NaN</td>\n",
       "      <td>NaN</td>\n",
       "      <td>NaN</td>\n",
       "      <td>NaN</td>\n",
       "      <td>NaN</td>\n",
       "      <td>NaN</td>\n",
       "      <td>NaN</td>\n",
       "      <td>NaN</td>\n",
       "      <td>NaN</td>\n",
       "      <td>NaN</td>\n",
       "      <td>NaN</td>\n",
       "      <td>NaN</td>\n",
       "    </tr>\n",
       "  </tbody>\n",
       "</table>\n",
       "</div>"
      ],
      "text/plain": [
       "        publisher                        persistentUrl  majorVersionNumber  \\\n",
       "0  ACSS Dataverse  https://doi.org/10.25825/FK2/VXVPVP                   1   \n",
       "1  ACSS Dataverse  https://doi.org/10.25825/FK2/8YKSQV                   1   \n",
       "2  ACSS Dataverse  https://doi.org/10.25825/FK2/9QFRW2                   1   \n",
       "3  ACSS Dataverse  https://doi.org/10.25825/FK2/A3JWCN                   1   \n",
       "4  ACSS Dataverse  https://doi.org/10.25825/FK2/AGZJI8                   1   \n",
       "\n",
       "   minorVersionNumber license termsOfAccess  \\\n",
       "0                   0    NONE           NaN   \n",
       "1                   0    NONE           NaN   \n",
       "2                   0    NONE           NaN   \n",
       "3                   0    NONE           NaN   \n",
       "4                   0    NONE           NaN   \n",
       "\n",
       "                                          termsOfUse availabilityStatus  \\\n",
       "0  <b>Acceptance of Terms</b><br></br>\\nThe follo...                NaN   \n",
       "1  <b>Acceptance of Terms</b><br></br>\\nThe follo...                NaN   \n",
       "2  <b>Acceptance of Terms</b><br></br>\\nThe follo...                NaN   \n",
       "3  <b>Acceptance of Terms</b><br></br>\\nThe follo...                NaN   \n",
       "4  <b>Acceptance of Terms</b><br></br>\\nThe follo...                NaN   \n",
       "\n",
       "  citationRequirements conditions confidentialityDeclaration contactForAccess  \\\n",
       "0                  NaN        NaN                        NaN              NaN   \n",
       "1                  NaN        NaN                        NaN              NaN   \n",
       "2                  NaN        NaN                        NaN              NaN   \n",
       "3                  NaN        NaN                        NaN              NaN   \n",
       "4                  NaN        NaN                        NaN              NaN   \n",
       "\n",
       "   dataaccessPlace depositorRequirements disclaimer originalArchive  \\\n",
       "0              NaN                   NaN        NaN             NaN   \n",
       "1              NaN                   NaN        NaN             NaN   \n",
       "2              NaN                   NaN        NaN             NaN   \n",
       "3              NaN                   NaN        NaN             NaN   \n",
       "4              NaN                   NaN        NaN             NaN   \n",
       "\n",
       "  restrictions sizeOfCollection specialPermissions studyCompletion  \n",
       "0          NaN              NaN                NaN             NaN  \n",
       "1          NaN              NaN                NaN             NaN  \n",
       "2          NaN              NaN                NaN             NaN  \n",
       "3          NaN              NaN                NaN             NaN  \n",
       "4          NaN              NaN                NaN             NaN  "
      ]
     },
     "execution_count": 24,
     "metadata": {},
     "output_type": "execute_result"
    }
   ],
   "source": [
    "termsMetadataLatestversionDF.head(5)"
   ]
  },
  {
   "cell_type": "markdown",
   "metadata": {},
   "source": [
    "Join restrictedFilesCountLatestversionDF to termsMetadataLatestversionDF"
   ]
  },
  {
   "cell_type": "code",
   "execution_count": 25,
   "metadata": {},
   "outputs": [],
   "source": [
    "termsAndRestrictedFilesDF = pd.merge(termsMetadataLatestversionDF, restrictedFilesCountLatestversionDF)\n",
    "\n",
    "# Retain only needed columns\n",
    "termsAndRestrictedFilesDF = termsAndRestrictedFilesDF[['publisher','persistentUrl', 'termsOfAccess', 'restricted_files']]\n"
   ]
  },
  {
   "cell_type": "code",
   "execution_count": 26,
   "metadata": {
    "scrolled": true
   },
   "outputs": [
    {
     "data": {
      "text/html": [
       "<div>\n",
       "<style scoped>\n",
       "    .dataframe tbody tr th:only-of-type {\n",
       "        vertical-align: middle;\n",
       "    }\n",
       "\n",
       "    .dataframe tbody tr th {\n",
       "        vertical-align: top;\n",
       "    }\n",
       "\n",
       "    .dataframe thead th {\n",
       "        text-align: right;\n",
       "    }\n",
       "</style>\n",
       "<table border=\"1\" class=\"dataframe\">\n",
       "  <thead>\n",
       "    <tr style=\"text-align: right;\">\n",
       "      <th></th>\n",
       "      <th>publisher</th>\n",
       "      <th>persistentUrl</th>\n",
       "      <th>termsOfAccess</th>\n",
       "      <th>restricted_files</th>\n",
       "    </tr>\n",
       "  </thead>\n",
       "  <tbody>\n",
       "    <tr>\n",
       "      <th>0</th>\n",
       "      <td>ACSS Dataverse</td>\n",
       "      <td>https://doi.org/10.25825/FK2/VXVPVP</td>\n",
       "      <td>NaN</td>\n",
       "      <td>False</td>\n",
       "    </tr>\n",
       "    <tr>\n",
       "      <th>1</th>\n",
       "      <td>ACSS Dataverse</td>\n",
       "      <td>https://doi.org/10.25825/FK2/8YKSQV</td>\n",
       "      <td>NaN</td>\n",
       "      <td>False</td>\n",
       "    </tr>\n",
       "    <tr>\n",
       "      <th>2</th>\n",
       "      <td>ACSS Dataverse</td>\n",
       "      <td>https://doi.org/10.25825/FK2/9QFRW2</td>\n",
       "      <td>NaN</td>\n",
       "      <td>False</td>\n",
       "    </tr>\n",
       "    <tr>\n",
       "      <th>3</th>\n",
       "      <td>ACSS Dataverse</td>\n",
       "      <td>https://doi.org/10.25825/FK2/A3JWCN</td>\n",
       "      <td>NaN</td>\n",
       "      <td>False</td>\n",
       "    </tr>\n",
       "    <tr>\n",
       "      <th>4</th>\n",
       "      <td>ACSS Dataverse</td>\n",
       "      <td>https://doi.org/10.25825/FK2/AGZJI8</td>\n",
       "      <td>NaN</td>\n",
       "      <td>False</td>\n",
       "    </tr>\n",
       "  </tbody>\n",
       "</table>\n",
       "</div>"
      ],
      "text/plain": [
       "        publisher                        persistentUrl termsOfAccess  \\\n",
       "0  ACSS Dataverse  https://doi.org/10.25825/FK2/VXVPVP           NaN   \n",
       "1  ACSS Dataverse  https://doi.org/10.25825/FK2/8YKSQV           NaN   \n",
       "2  ACSS Dataverse  https://doi.org/10.25825/FK2/9QFRW2           NaN   \n",
       "3  ACSS Dataverse  https://doi.org/10.25825/FK2/A3JWCN           NaN   \n",
       "4  ACSS Dataverse  https://doi.org/10.25825/FK2/AGZJI8           NaN   \n",
       "\n",
       "  restricted_files  \n",
       "0            False  \n",
       "1            False  \n",
       "2            False  \n",
       "3            False  \n",
       "4            False  "
      ]
     },
     "execution_count": 26,
     "metadata": {},
     "output_type": "execute_result"
    }
   ],
   "source": [
    "termsAndRestrictedFilesDF.head(5)"
   ]
  },
  {
   "cell_type": "markdown",
   "metadata": {},
   "source": [
    "I think the restricted_files column isn't really a boolean data type, since there are more than just True and False values in the column. There's also two \"NA\" strings in there to record when there are no files or the metadata doesn't record if files are restricted. For the querying I plan to do, I didn't want to add more columns to record each of those cases. Let's confirm the datatypes for all columns:"
   ]
  },
  {
   "cell_type": "code",
   "execution_count": 42,
   "metadata": {},
   "outputs": [
    {
     "data": {
      "text/plain": [
       "publisher           object\n",
       "persistentUrl       object\n",
       "termsOfAccess       object\n",
       "restricted_files    object\n",
       "dtype: object"
      ]
     },
     "execution_count": 42,
     "metadata": {},
     "output_type": "execute_result"
    }
   ],
   "source": [
    "termsAndRestrictedFilesDF.dtypes\n"
   ]
  },
  {
   "cell_type": "markdown",
   "metadata": {},
   "source": [
    "The datatypes for all of the columns all \"object\", or strings, so I'll have to search for any True and False values as strings instead of as boolean values."
   ]
  },
  {
   "cell_type": "markdown",
   "metadata": {},
   "source": [
    "Last we'll verify that the data was successfully joined by making sure that the number of datasets in restrictedFilesCountLatestversionDf is the same as the number of datasets in the joined table termsMetadataLatestversionDF."
   ]
  },
  {
   "cell_type": "code",
   "execution_count": 43,
   "metadata": {
    "scrolled": false
   },
   "outputs": [
    {
     "name": "stdout",
     "output_type": "stream",
     "text": [
      "Number of datasets in termsMetadataLatestversionDF: 133253\n",
      "Number of datasets in termsAndRestrictedFilesDF: 133253\n"
     ]
    }
   ],
   "source": [
    "print('Number of datasets in termsMetadataLatestversionDF: %s' % (len(pd.unique(termsMetadataLatestversionDF['persistentUrl']))))\n",
    "print('Number of datasets in termsAndRestrictedFilesDF: %s' % (len(pd.unique(termsAndRestrictedFilesDF['persistentUrl']))))\n"
   ]
  },
  {
   "cell_type": "markdown",
   "metadata": {},
   "source": [
    "Great, the same number of datasets exist in one of the original tables and the resulting joined table. This means the join was successful.\n"
   ]
  },
  {
   "cell_type": "markdown",
   "metadata": {},
   "source": [
    "## Query the data to answer questions"
   ]
  },
  {
   "cell_type": "markdown",
   "metadata": {},
   "source": [
    "Now we'll count the number of datasets whose latest version:\n",
    "- Has Terms of Access metadata\n",
    "  - And has no files\n",
    "  - And has files\n",
    "    - But we don't know if the files are restricted because the datasets are in repositories whose JSON exports don't include if files are restricted or not\n",
    "    - Where one or more files are restricted\n",
    "    - Where no files are restricted\n",
    "- That have restricted files but no Terms of Access metadata"
   ]
  },
  {
   "cell_type": "code",
   "execution_count": 44,
   "metadata": {},
   "outputs": [
    {
     "name": "stdout",
     "output_type": "stream",
     "text": [
      "Number of datasets: 133253\n",
      "1. Number of datasets with Terms of Access metadata: 6798\n",
      "\t2. Number of datasets with ToA but no files: 68\n",
      "\t3. Number of datasets with ToA and one or more files: 6730\n",
      "\t\t4. Number of datasets with ToA and files but we don't know if the files are restricted: 1531\n",
      "\t\t5. Number of datasets with ToA and one or more restricted files: 2354\n",
      "\t\t6. Number of datasets with ToA and no restricted files: 2845\n",
      "7. Number of datasets with no ToA but with restricted file(s): 4448\n"
     ]
    }
   ],
   "source": [
    "print('Number of datasets: %s' % (len(pd.unique(termsAndRestrictedFilesDF['persistentUrl']))))\n",
    "\n",
    "# Has Terms of Access metadata\n",
    "df1 = termsAndRestrictedFilesDF.query('termsOfAccess.notnull()')\n",
    "print('1. Number of datasets with Terms of Access metadata: %s' % (len(pd.unique(df1['persistentUrl']))))\n",
    "\n",
    "# Has ToA metadata but no files\n",
    "df2 = (\n",
    "    termsAndRestrictedFilesDF.query(\n",
    "        'termsOfAccess.notnull() and\\\n",
    "        restricted_files == \"NA (no files)\"'))\n",
    "print('\\t2. Number of datasets with ToA but no files: %s' % (len(pd.unique(df2['persistentUrl']))))\n",
    "\n",
    "# Has ToA metadata and one or more files\n",
    "df3 = (\n",
    "    termsAndRestrictedFilesDF.query(\n",
    "        'termsOfAccess.notnull() and\\\n",
    "        restricted_files != \"NA (no files)\"'))\n",
    "print('\\t3. Number of datasets with ToA and one or more files: %s' % (len(pd.unique(df3['persistentUrl']))))\n",
    "\n",
    "# Has ToA metadata and files but we don't know if the files are restricted\n",
    "df4 = (\n",
    "    termsAndRestrictedFilesDF.query(\n",
    "        'termsOfAccess.notnull() and\\\n",
    "        restricted_files == \"NA (not recorded)\"'))\n",
    "print('\\t\\t4. Number of datasets with ToA and files but we don\\'t know if the files are restricted: %s' % (len(pd.unique(df4['persistentUrl']))))\n",
    "\n",
    "# Has ToA metadata and files and one or more files is restricted\n",
    "df5 = (\n",
    "    termsAndRestrictedFilesDF.query(\n",
    "        'termsOfAccess.notnull() and\\\n",
    "        restricted_files == \"True\"'))\n",
    "print('\\t\\t5. Number of datasets with ToA and one or more restricted\\\n",
    " files: %s' % (len(pd.unique(df5['persistentUrl']))))\n",
    "\n",
    "# Has ToA metadata and files and none are restricted\n",
    "df6 = (\n",
    "    termsAndRestrictedFilesDF.query(\n",
    "        'termsOfAccess.notnull() and\\\n",
    "        restricted_files == \"False\"'))\n",
    "print('\\t\\t6. Number of datasets with ToA and no restricted files: %s' % (len(pd.unique(df6['persistentUrl']))))\n",
    "\n",
    "# Does not have ToA metadata but has one or more restricted files\n",
    "df7 = (\n",
    "    termsAndRestrictedFilesDF.query(\n",
    "        'termsOfAccess.isnull() and\\\n",
    "        restricted_files == \"True\"'))\n",
    "print('7. Number of datasets with no ToA but with restricted file(s): %s' % (len(pd.unique(df7['persistentUrl']))))\n"
   ]
  },
  {
   "cell_type": "markdown",
   "metadata": {},
   "source": [
    "So of the datasets that have Terms of Access metadata, 6798, about a third, 2845, have files but none are restricted.\n",
    "\n",
    "Let's take a look at the ToA for a few of these datasets. The data is stored in the \"df6\" dataframe."
   ]
  },
  {
   "cell_type": "code",
   "execution_count": 40,
   "metadata": {},
   "outputs": [
    {
     "data": {
      "text/html": [
       "<div>\n",
       "<style scoped>\n",
       "    .dataframe tbody tr th:only-of-type {\n",
       "        vertical-align: middle;\n",
       "    }\n",
       "\n",
       "    .dataframe tbody tr th {\n",
       "        vertical-align: top;\n",
       "    }\n",
       "\n",
       "    .dataframe thead th {\n",
       "        text-align: right;\n",
       "    }\n",
       "</style>\n",
       "<table border=\"1\" class=\"dataframe\">\n",
       "  <thead>\n",
       "    <tr style=\"text-align: right;\">\n",
       "      <th></th>\n",
       "      <th>publisher</th>\n",
       "      <th>persistentUrl</th>\n",
       "      <th>termsOfAccess</th>\n",
       "      <th>restricted_files</th>\n",
       "    </tr>\n",
       "  </thead>\n",
       "  <tbody>\n",
       "    <tr>\n",
       "      <th>1675</th>\n",
       "      <td>AUSSDA</td>\n",
       "      <td>https://doi.org/10.11587/QYUSBJ</td>\n",
       "      <td>Für jede Datei, die Sie herunterladen erklären...</td>\n",
       "      <td>False</td>\n",
       "    </tr>\n",
       "    <tr>\n",
       "      <th>1677</th>\n",
       "      <td>AUSSDA</td>\n",
       "      <td>https://doi.org/10.11587/R1PDUC</td>\n",
       "      <td>Für jede Datei, die Sie herunterladen erklären...</td>\n",
       "      <td>False</td>\n",
       "    </tr>\n",
       "    <tr>\n",
       "      <th>1680</th>\n",
       "      <td>AUSSDA</td>\n",
       "      <td>https://doi.org/10.11587/R2W6EQ</td>\n",
       "      <td>Für jede Datei, die Sie herunterladen erklären...</td>\n",
       "      <td>False</td>\n",
       "    </tr>\n",
       "    <tr>\n",
       "      <th>1682</th>\n",
       "      <td>AUSSDA</td>\n",
       "      <td>https://doi.org/10.11587/R7CPFY</td>\n",
       "      <td>&lt;p&gt;For each file you download, you declare:&lt;br...</td>\n",
       "      <td>False</td>\n",
       "    </tr>\n",
       "    <tr>\n",
       "      <th>1689</th>\n",
       "      <td>AUSSDA</td>\n",
       "      <td>https://doi.org/10.11587/R4RCPI</td>\n",
       "      <td>&lt;p&gt;For each file you download, you declare:&lt;br...</td>\n",
       "      <td>False</td>\n",
       "    </tr>\n",
       "  </tbody>\n",
       "</table>\n",
       "</div>"
      ],
      "text/plain": [
       "     publisher                    persistentUrl  \\\n",
       "1675    AUSSDA  https://doi.org/10.11587/QYUSBJ   \n",
       "1677    AUSSDA  https://doi.org/10.11587/R1PDUC   \n",
       "1680    AUSSDA  https://doi.org/10.11587/R2W6EQ   \n",
       "1682    AUSSDA  https://doi.org/10.11587/R7CPFY   \n",
       "1689    AUSSDA  https://doi.org/10.11587/R4RCPI   \n",
       "\n",
       "                                          termsOfAccess restricted_files  \n",
       "1675  Für jede Datei, die Sie herunterladen erklären...            False  \n",
       "1677  Für jede Datei, die Sie herunterladen erklären...            False  \n",
       "1680  Für jede Datei, die Sie herunterladen erklären...            False  \n",
       "1682  <p>For each file you download, you declare:<br...            False  \n",
       "1689  <p>For each file you download, you declare:<br...            False  "
      ]
     },
     "execution_count": 40,
     "metadata": {},
     "output_type": "execute_result"
    }
   ],
   "source": [
    "df6.head(5)"
   ]
  },
  {
   "cell_type": "markdown",
   "metadata": {},
   "source": [
    "The first five datasets from AUSSDA each have one public PDF file that is documentation. The Terms of Access metadata actually applies to data files that are not included in the dataset.\n",
    "\n",
    "Let's see how many of these 2845 datasets are in the AUSSDA repository."
   ]
  },
  {
   "cell_type": "code",
   "execution_count": 20,
   "metadata": {},
   "outputs": [
    {
     "data": {
      "text/html": [
       "<div>\n",
       "<style scoped>\n",
       "    .dataframe tbody tr th:only-of-type {\n",
       "        vertical-align: middle;\n",
       "    }\n",
       "\n",
       "    .dataframe tbody tr th {\n",
       "        vertical-align: top;\n",
       "    }\n",
       "\n",
       "    .dataframe thead th {\n",
       "        text-align: right;\n",
       "    }\n",
       "</style>\n",
       "<table border=\"1\" class=\"dataframe\">\n",
       "  <thead>\n",
       "    <tr style=\"text-align: right;\">\n",
       "      <th></th>\n",
       "      <th>dataset_count</th>\n",
       "    </tr>\n",
       "    <tr>\n",
       "      <th>publisher</th>\n",
       "      <th></th>\n",
       "    </tr>\n",
       "  </thead>\n",
       "  <tbody>\n",
       "    <tr>\n",
       "      <th>RIN Dataverse</th>\n",
       "      <td>2126</td>\n",
       "    </tr>\n",
       "    <tr>\n",
       "      <th>AUSSDA</th>\n",
       "      <td>296</td>\n",
       "    </tr>\n",
       "    <tr>\n",
       "      <th>Harvard Dataverse</th>\n",
       "      <td>295</td>\n",
       "    </tr>\n",
       "    <tr>\n",
       "      <th>Root</th>\n",
       "      <td>40</td>\n",
       "    </tr>\n",
       "    <tr>\n",
       "      <th>Scholars Portal Dataverse</th>\n",
       "      <td>19</td>\n",
       "    </tr>\n",
       "    <tr>\n",
       "      <th>UAL Dataverse</th>\n",
       "      <td>12</td>\n",
       "    </tr>\n",
       "    <tr>\n",
       "      <th>DataverseNL</th>\n",
       "      <td>9</td>\n",
       "    </tr>\n",
       "    <tr>\n",
       "      <th>DataverseNO</th>\n",
       "      <td>6</td>\n",
       "    </tr>\n",
       "    <tr>\n",
       "      <th>UNC Dataverse</th>\n",
       "      <td>6</td>\n",
       "    </tr>\n",
       "    <tr>\n",
       "      <th>QDR Main Collection</th>\n",
       "      <td>6</td>\n",
       "    </tr>\n",
       "    <tr>\n",
       "      <th>World Agroforestry - Research Data Repository</th>\n",
       "      <td>6</td>\n",
       "    </tr>\n",
       "    <tr>\n",
       "      <th>ICRISAT Dataverse</th>\n",
       "      <td>6</td>\n",
       "    </tr>\n",
       "    <tr>\n",
       "      <th>DR-NTU (Data)</th>\n",
       "      <td>4</td>\n",
       "    </tr>\n",
       "    <tr>\n",
       "      <th>Portail Data INRAE</th>\n",
       "      <td>4</td>\n",
       "    </tr>\n",
       "    <tr>\n",
       "      <th>Johns Hopkins University Data Archive</th>\n",
       "      <td>3</td>\n",
       "    </tr>\n",
       "    <tr>\n",
       "      <th>CIMMYT Research Data &amp; Software Repository Network</th>\n",
       "      <td>3</td>\n",
       "    </tr>\n",
       "    <tr>\n",
       "      <th>Center for International Forestry Research (CIFOR)</th>\n",
       "      <td>2</td>\n",
       "    </tr>\n",
       "    <tr>\n",
       "      <th>University of Manitoba</th>\n",
       "      <td>1</td>\n",
       "    </tr>\n",
       "    <tr>\n",
       "      <th>e-cienciaDatos</th>\n",
       "      <td>1</td>\n",
       "    </tr>\n",
       "  </tbody>\n",
       "</table>\n",
       "</div>"
      ],
      "text/plain": [
       "                                                    dataset_count\n",
       "publisher                                                        \n",
       "RIN Dataverse                                                2126\n",
       "AUSSDA                                                        296\n",
       "Harvard Dataverse                                             295\n",
       "Root                                                           40\n",
       "Scholars Portal Dataverse                                      19\n",
       "UAL Dataverse                                                  12\n",
       "DataverseNL                                                     9\n",
       "DataverseNO                                                     6\n",
       "UNC Dataverse                                                   6\n",
       "QDR Main Collection                                             6\n",
       "World Agroforestry - Research Data Repository                   6\n",
       "ICRISAT Dataverse                                               6\n",
       "DR-NTU (Data)                                                   4\n",
       "Portail Data INRAE                                              4\n",
       "Johns Hopkins University Data Archive                           3\n",
       "CIMMYT Research Data & Software Repository Network              3\n",
       "Center for International Forestry Research (CIFOR)              2\n",
       "University of Manitoba                                          1\n",
       "e-cienciaDatos                                                  1"
      ]
     },
     "execution_count": 20,
     "metadata": {},
     "output_type": "execute_result"
    }
   ],
   "source": [
    "datasetsByPublisher = df5.value_counts(subset=['publisher']).to_frame('dataset_count')\n",
    "datasetsByPublisher\n"
   ]
  },
  {
   "cell_type": "markdown",
   "metadata": {},
   "source": [
    "Most of the datasets are actually in one repository, RIN repository. This is encouraging as it might make it easier to get a good picture of how ToA are being used with regard to restricted files."
   ]
  },
  {
   "cell_type": "code",
   "execution_count": 45,
   "metadata": {},
   "outputs": [
    {
     "name": "stdout",
     "output_type": "stream",
     "text": [
      "Number of AUSSDA datasets with ToA metadata and one or more files: 431\n"
     ]
    }
   ],
   "source": [
    "df7 = (df1.query(\n",
    "        'publisher == \"AUSSDA\"\\\n",
    "        and termsOfAccess.notnull()\\\n",
    "        and restricted_files == \"True\"'))\n",
    "print('Number of AUSSDA datasets with ToA metadata and one or more files: %s' % (len(df7)))\n"
   ]
  },
  {
   "cell_type": "markdown",
   "metadata": {},
   "source": [
    "So 431 datasets in the AUSSDA repository have ToA metadata and one or more restricted files.\n",
    "\n",
    "Let's take a look at these datasets.\n",
    "\n"
   ]
  },
  {
   "cell_type": "code",
   "execution_count": 31,
   "metadata": {},
   "outputs": [
    {
     "data": {
      "text/html": [
       "<div>\n",
       "<style scoped>\n",
       "    .dataframe tbody tr th:only-of-type {\n",
       "        vertical-align: middle;\n",
       "    }\n",
       "\n",
       "    .dataframe tbody tr th {\n",
       "        vertical-align: top;\n",
       "    }\n",
       "\n",
       "    .dataframe thead th {\n",
       "        text-align: right;\n",
       "    }\n",
       "</style>\n",
       "<table border=\"1\" class=\"dataframe\">\n",
       "  <thead>\n",
       "    <tr style=\"text-align: right;\">\n",
       "      <th></th>\n",
       "      <th>publisher</th>\n",
       "      <th>persistentUrl</th>\n",
       "      <th>termsOfAccess</th>\n",
       "      <th>restricted_files</th>\n",
       "    </tr>\n",
       "  </thead>\n",
       "  <tbody>\n",
       "    <tr>\n",
       "      <th>1676</th>\n",
       "      <td>AUSSDA</td>\n",
       "      <td>https://doi.org/10.11587/R0XDMW</td>\n",
       "      <td>Für jede Datei, die Sie herunterladen erklären...</td>\n",
       "      <td>2</td>\n",
       "    </tr>\n",
       "    <tr>\n",
       "      <th>1678</th>\n",
       "      <td>AUSSDA</td>\n",
       "      <td>https://doi.org/10.11587/RF9W7K</td>\n",
       "      <td>Für jede Datei, die Sie herunterladen erklären...</td>\n",
       "      <td>2</td>\n",
       "    </tr>\n",
       "    <tr>\n",
       "      <th>1679</th>\n",
       "      <td>AUSSDA</td>\n",
       "      <td>https://doi.org/10.11587/R1UAS0</td>\n",
       "      <td>Für jede Datei, die Sie herunterladen erklären...</td>\n",
       "      <td>1</td>\n",
       "    </tr>\n",
       "    <tr>\n",
       "      <th>1681</th>\n",
       "      <td>AUSSDA</td>\n",
       "      <td>https://doi.org/10.11587/QZG1XH</td>\n",
       "      <td>Für jede Datei, die Sie herunterladen erklären...</td>\n",
       "      <td>4</td>\n",
       "    </tr>\n",
       "    <tr>\n",
       "      <th>1683</th>\n",
       "      <td>AUSSDA</td>\n",
       "      <td>https://doi.org/10.11587/R5DPPK</td>\n",
       "      <td>Für jede Datei, die Sie herunterladen erklären...</td>\n",
       "      <td>2</td>\n",
       "    </tr>\n",
       "  </tbody>\n",
       "</table>\n",
       "</div>"
      ],
      "text/plain": [
       "     publisher                    persistentUrl  \\\n",
       "1676    AUSSDA  https://doi.org/10.11587/R0XDMW   \n",
       "1678    AUSSDA  https://doi.org/10.11587/RF9W7K   \n",
       "1679    AUSSDA  https://doi.org/10.11587/R1UAS0   \n",
       "1681    AUSSDA  https://doi.org/10.11587/QZG1XH   \n",
       "1683    AUSSDA  https://doi.org/10.11587/R5DPPK   \n",
       "\n",
       "                                          termsOfAccess restricted_files  \n",
       "1676  Für jede Datei, die Sie herunterladen erklären...                2  \n",
       "1678  Für jede Datei, die Sie herunterladen erklären...                2  \n",
       "1679  Für jede Datei, die Sie herunterladen erklären...                1  \n",
       "1681  Für jede Datei, die Sie herunterladen erklären...                4  \n",
       "1683  Für jede Datei, die Sie herunterladen erklären...                2  "
      ]
     },
     "execution_count": 31,
     "metadata": {},
     "output_type": "execute_result"
    }
   ],
   "source": [
    "df7.head(5)"
   ]
  },
  {
   "cell_type": "markdown",
   "metadata": {},
   "source": [
    "It looks like some of these datasets have restricted files that actually contain data, but we can't tell "
   ]
  }
 ],
 "metadata": {
  "hide_input": false,
  "kernelspec": {
   "display_name": "Python 3",
   "language": "python",
   "name": "python3"
  },
  "language_info": {
   "codemirror_mode": {
    "name": "ipython",
    "version": 3
   },
   "file_extension": ".py",
   "mimetype": "text/x-python",
   "name": "python",
   "nbconvert_exporter": "python",
   "pygments_lexer": "ipython3",
   "version": "3.7.0"
  }
 },
 "nbformat": 4,
 "nbformat_minor": 4
}
