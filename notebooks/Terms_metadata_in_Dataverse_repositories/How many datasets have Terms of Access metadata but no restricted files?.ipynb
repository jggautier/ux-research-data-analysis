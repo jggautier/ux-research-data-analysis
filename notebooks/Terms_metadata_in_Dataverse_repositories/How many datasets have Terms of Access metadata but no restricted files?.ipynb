{
 "cells": [
  {
   "cell_type": "code",
   "execution_count": 1,
   "metadata": {},
   "outputs": [],
   "source": [
    "import csv\n",
    "from google_trans_new import google_translator\n",
    "import pandas as pd"
   ]
  },
  {
   "cell_type": "markdown",
   "metadata": {},
   "source": [
    "## Get data"
   ]
  },
  {
   "cell_type": "markdown",
   "metadata": {},
   "source": [
    "Get data about whether or not each dataset as one or more restricted files"
   ]
  },
  {
   "cell_type": "code",
   "execution_count": null,
   "metadata": {},
   "outputs": [],
   "source": [
    "termsMetadataDF = pd.read_csv('terms_metadata.tab', sep='\\t', na_filter = False)\n",
    "# Get only metadata for the latest versions of each dataset\n",
    "termsMetadataLatestversionDF = termsMetadataDF.iloc[termsMetadataDF.groupby('persistentUrl')['datasetVersionId'].agg(pd.Series.idxmax)].sort_values(by=['publisher'], inplace=False, ascending=True).reset_index(drop=True, inplace=False)\n"
   ]
  },
  {
   "cell_type": "code",
   "execution_count": 2,
   "metadata": {},
   "outputs": [],
   "source": [
    "restrictedFilesCountDF = pd.read_csv('restricted_files_count.tab', sep='\\t', na_filter = False)"
   ]
  },
  {
   "cell_type": "code",
   "execution_count": 3,
   "metadata": {},
   "outputs": [
    {
     "data": {
      "text/html": [
       "<div>\n",
       "<style scoped>\n",
       "    .dataframe tbody tr th:only-of-type {\n",
       "        vertical-align: middle;\n",
       "    }\n",
       "\n",
       "    .dataframe tbody tr th {\n",
       "        vertical-align: top;\n",
       "    }\n",
       "\n",
       "    .dataframe thead th {\n",
       "        text-align: right;\n",
       "    }\n",
       "</style>\n",
       "<table border=\"1\" class=\"dataframe\">\n",
       "  <thead>\n",
       "    <tr style=\"text-align: right;\">\n",
       "      <th></th>\n",
       "      <th>datasetVersionId</th>\n",
       "      <th>persistentUrl</th>\n",
       "      <th>restricted_files</th>\n",
       "    </tr>\n",
       "  </thead>\n",
       "  <tbody>\n",
       "    <tr>\n",
       "      <th>0</th>\n",
       "      <td>9948</td>\n",
       "      <td>https://doi.org/10.15454/1.4938215003933494E12</td>\n",
       "      <td>NA (no files)</td>\n",
       "    </tr>\n",
       "    <tr>\n",
       "      <th>1</th>\n",
       "      <td>256773</td>\n",
       "      <td>https://doi.org/10.15454/GHAUFR</td>\n",
       "      <td>NA (no files)</td>\n",
       "    </tr>\n",
       "    <tr>\n",
       "      <th>2</th>\n",
       "      <td>52619</td>\n",
       "      <td>https://doi.org/10.15454/TLXRVW</td>\n",
       "      <td>NA (no files)</td>\n",
       "    </tr>\n",
       "    <tr>\n",
       "      <th>3</th>\n",
       "      <td>170336</td>\n",
       "      <td>https://doi.org/10.15454/CX70I3</td>\n",
       "      <td>NA (no files)</td>\n",
       "    </tr>\n",
       "    <tr>\n",
       "      <th>4</th>\n",
       "      <td>1200</td>\n",
       "      <td>https://doi.org/10.21410/7E4/4WG94W</td>\n",
       "      <td>0</td>\n",
       "    </tr>\n",
       "  </tbody>\n",
       "</table>\n",
       "</div>"
      ],
      "text/plain": [
       "   datasetVersionId                                   persistentUrl  \\\n",
       "0              9948  https://doi.org/10.15454/1.4938215003933494E12   \n",
       "1            256773                 https://doi.org/10.15454/GHAUFR   \n",
       "2             52619                 https://doi.org/10.15454/TLXRVW   \n",
       "3            170336                 https://doi.org/10.15454/CX70I3   \n",
       "4              1200             https://doi.org/10.21410/7E4/4WG94W   \n",
       "\n",
       "  restricted_files  \n",
       "0    NA (no files)  \n",
       "1    NA (no files)  \n",
       "2    NA (no files)  \n",
       "3    NA (no files)  \n",
       "4                0  "
      ]
     },
     "execution_count": 3,
     "metadata": {},
     "output_type": "execute_result"
    }
   ],
   "source": [
    "restrictedFilesCountDF.head(5)"
   ]
  },
  {
   "cell_type": "markdown",
   "metadata": {},
   "source": [
    "- Save latest version of each dataset in restrictedFilesCountDf to restrictedFilesCountLatestversionDf variable\n",
    "- Join restrictedFilesCountLatestversionDf to termsMetadataLatestversionDF\n",
    "- Verify data in joined table: Compare count of datasets in restrictedFilesCountLatestversionDf to count of datasets termsMetadataLatestversionDF\n",
    "- Count number of datasets whose latest version has:\n",
    " - Terms of Access metadata and one or more restricted files\n",
    " - Terms of Access metadata and no restricted files\n",
    " - Restricted files but no Terms of Access metadata"
   ]
  },
  {
   "cell_type": "code",
   "execution_count": null,
   "metadata": {},
   "outputs": [],
   "source": []
  }
 ],
 "metadata": {
  "hide_input": false,
  "kernelspec": {
   "display_name": "Python 3",
   "language": "python",
   "name": "python3"
  },
  "language_info": {
   "codemirror_mode": {
    "name": "ipython",
    "version": 3
   },
   "file_extension": ".py",
   "mimetype": "text/x-python",
   "name": "python",
   "nbconvert_exporter": "python",
   "pygments_lexer": "ipython3",
   "version": "3.7.0"
  }
 },
 "nbformat": 4,
 "nbformat_minor": 4
}
