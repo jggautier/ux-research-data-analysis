{
 "cells": [
  {
   "cell_type": "markdown",
   "metadata": {},
   "source": [
    "How many datasets have CC0 (or CCBY for forked repositories) and all 8 \"Terms of Use\" fields filled? How many have 7? How many have 6? Etc..."
   ]
  },
  {
   "cell_type": "code",
   "execution_count": 153,
   "metadata": {},
   "outputs": [],
   "source": [
    "import csv\n",
    "import numpy as np\n",
    "import pandas as pd\n"
   ]
  },
  {
   "cell_type": "code",
   "execution_count": 154,
   "metadata": {},
   "outputs": [],
   "source": [
    "data = pd.read_csv('terms_metadata.tab', sep='\\t', na_filter = False)"
   ]
  },
  {
   "cell_type": "code",
   "execution_count": 155,
   "metadata": {},
   "outputs": [],
   "source": [
    "# Get only metadata for the latest versions of each dataset\n",
    "latestversion = data.iloc[data.groupby('persistentUrl')['datasetVersionId'].agg(pd.Series.idxmax)].sort_values(by=['publisher'], inplace=False, ascending=True).reset_index(drop=True, inplace=False)\n"
   ]
  },
  {
   "cell_type": "code",
   "execution_count": 156,
   "metadata": {},
   "outputs": [],
   "source": [
    "# Replace any blank values with NaN\n",
    "latestversion = latestversion.replace(r'^\\s*$', np.nan, regex=True)\n",
    "\n",
    "# Replace publsiher \"Root\" with Dartmouth\n",
    "latestversion['publisher'] = latestversion['publisher'].replace(['Root'],'Dartmouth')\n"
   ]
  },
  {
   "cell_type": "code",
   "execution_count": 157,
   "metadata": {},
   "outputs": [],
   "source": [
    "latestversion_termsofuse = latestversion.drop(columns=[\n",
    "    'publisher', 'datasetVersionId', 'majorVersionNumber', 'minorVersionNumber', 'termsOfUse',\n",
    "    'termsOfAccess', 'availabilityStatus', 'contactForAccess', 'dataaccessPlace',\n",
    "    'originalArchive', 'sizeOfCollection', 'studyCompletion'])\n"
   ]
  },
  {
   "cell_type": "code",
   "execution_count": 158,
   "metadata": {},
   "outputs": [
    {
     "data": {
      "text/plain": [
       "array(['NONE', 'CC0', 'CC BY', nan, 'CCBY'], dtype=object)"
      ]
     },
     "execution_count": 158,
     "metadata": {},
     "output_type": "execute_result"
    }
   ],
   "source": [
    "latestversion_termsofuse.license.unique()"
   ]
  },
  {
   "cell_type": "code",
   "execution_count": 159,
   "metadata": {},
   "outputs": [],
   "source": [
    "latestversionCC0 = (latestversion_termsofuse\n",
    "    .query('license == \"CC0\" or license == \"CCBY\" or license == \"CC BY\"')\n",
    "#     .reset_index(drop = False, inplace = True)\n",
    "    .set_index('persistentUrl')\n",
    ")"
   ]
  },
  {
   "cell_type": "code",
   "execution_count": 160,
   "metadata": {
    "scrolled": true
   },
   "outputs": [
    {
     "data": {
      "text/html": [
       "<div>\n",
       "<style scoped>\n",
       "    .dataframe tbody tr th:only-of-type {\n",
       "        vertical-align: middle;\n",
       "    }\n",
       "\n",
       "    .dataframe tbody tr th {\n",
       "        vertical-align: top;\n",
       "    }\n",
       "\n",
       "    .dataframe thead th {\n",
       "        text-align: right;\n",
       "    }\n",
       "</style>\n",
       "<table border=\"1\" class=\"dataframe\">\n",
       "  <thead>\n",
       "    <tr style=\"text-align: right;\">\n",
       "      <th></th>\n",
       "      <th>license</th>\n",
       "      <th>citationRequirements</th>\n",
       "      <th>conditions</th>\n",
       "      <th>confidentialityDeclaration</th>\n",
       "      <th>depositorRequirements</th>\n",
       "      <th>disclaimer</th>\n",
       "      <th>restrictions</th>\n",
       "      <th>specialPermissions</th>\n",
       "    </tr>\n",
       "    <tr>\n",
       "      <th>persistentUrl</th>\n",
       "      <th></th>\n",
       "      <th></th>\n",
       "      <th></th>\n",
       "      <th></th>\n",
       "      <th></th>\n",
       "      <th></th>\n",
       "      <th></th>\n",
       "      <th></th>\n",
       "    </tr>\n",
       "  </thead>\n",
       "  <tbody>\n",
       "    <tr>\n",
       "      <th>http://dx.doi.org/10.4225/87/B5AJXD</th>\n",
       "      <td>CC0</td>\n",
       "      <td>NaN</td>\n",
       "      <td>NaN</td>\n",
       "      <td>NaN</td>\n",
       "      <td>NaN</td>\n",
       "      <td>NaN</td>\n",
       "      <td>NaN</td>\n",
       "      <td>NaN</td>\n",
       "    </tr>\n",
       "    <tr>\n",
       "      <th>https://hdl.handle.net/11529/10548094</th>\n",
       "      <td>CC0</td>\n",
       "      <td>NaN</td>\n",
       "      <td>NaN</td>\n",
       "      <td>NaN</td>\n",
       "      <td>NaN</td>\n",
       "      <td>NaN</td>\n",
       "      <td>NaN</td>\n",
       "      <td>NaN</td>\n",
       "    </tr>\n",
       "    <tr>\n",
       "      <th>https://hdl.handle.net/11529/10548095</th>\n",
       "      <td>CC0</td>\n",
       "      <td>NaN</td>\n",
       "      <td>NaN</td>\n",
       "      <td>NaN</td>\n",
       "      <td>NaN</td>\n",
       "      <td>NaN</td>\n",
       "      <td>NaN</td>\n",
       "      <td>NaN</td>\n",
       "    </tr>\n",
       "    <tr>\n",
       "      <th>https://hdl.handle.net/11529/10548096</th>\n",
       "      <td>CC0</td>\n",
       "      <td>NaN</td>\n",
       "      <td>NaN</td>\n",
       "      <td>NaN</td>\n",
       "      <td>NaN</td>\n",
       "      <td>NaN</td>\n",
       "      <td>NaN</td>\n",
       "      <td>NaN</td>\n",
       "    </tr>\n",
       "    <tr>\n",
       "      <th>https://hdl.handle.net/11529/10548097</th>\n",
       "      <td>CC0</td>\n",
       "      <td>NaN</td>\n",
       "      <td>NaN</td>\n",
       "      <td>NaN</td>\n",
       "      <td>NaN</td>\n",
       "      <td>NaN</td>\n",
       "      <td>NaN</td>\n",
       "      <td>NaN</td>\n",
       "    </tr>\n",
       "  </tbody>\n",
       "</table>\n",
       "</div>"
      ],
      "text/plain": [
       "                                      license citationRequirements conditions  \\\n",
       "persistentUrl                                                                   \n",
       "http://dx.doi.org/10.4225/87/B5AJXD       CC0                  NaN        NaN   \n",
       "https://hdl.handle.net/11529/10548094     CC0                  NaN        NaN   \n",
       "https://hdl.handle.net/11529/10548095     CC0                  NaN        NaN   \n",
       "https://hdl.handle.net/11529/10548096     CC0                  NaN        NaN   \n",
       "https://hdl.handle.net/11529/10548097     CC0                  NaN        NaN   \n",
       "\n",
       "                                      confidentialityDeclaration  \\\n",
       "persistentUrl                                                      \n",
       "http://dx.doi.org/10.4225/87/B5AJXD                          NaN   \n",
       "https://hdl.handle.net/11529/10548094                        NaN   \n",
       "https://hdl.handle.net/11529/10548095                        NaN   \n",
       "https://hdl.handle.net/11529/10548096                        NaN   \n",
       "https://hdl.handle.net/11529/10548097                        NaN   \n",
       "\n",
       "                                      depositorRequirements disclaimer  \\\n",
       "persistentUrl                                                            \n",
       "http://dx.doi.org/10.4225/87/B5AJXD                     NaN        NaN   \n",
       "https://hdl.handle.net/11529/10548094                   NaN        NaN   \n",
       "https://hdl.handle.net/11529/10548095                   NaN        NaN   \n",
       "https://hdl.handle.net/11529/10548096                   NaN        NaN   \n",
       "https://hdl.handle.net/11529/10548097                   NaN        NaN   \n",
       "\n",
       "                                      restrictions specialPermissions  \n",
       "persistentUrl                                                          \n",
       "http://dx.doi.org/10.4225/87/B5AJXD            NaN                NaN  \n",
       "https://hdl.handle.net/11529/10548094          NaN                NaN  \n",
       "https://hdl.handle.net/11529/10548095          NaN                NaN  \n",
       "https://hdl.handle.net/11529/10548096          NaN                NaN  \n",
       "https://hdl.handle.net/11529/10548097          NaN                NaN  "
      ]
     },
     "execution_count": 160,
     "metadata": {},
     "output_type": "execute_result"
    }
   ],
   "source": [
    "latestversionCC0.head(5)"
   ]
  },
  {
   "cell_type": "code",
   "execution_count": 161,
   "metadata": {},
   "outputs": [
    {
     "data": {
      "text/plain": [
       "33961"
      ]
     },
     "execution_count": 161,
     "metadata": {},
     "output_type": "execute_result"
    }
   ],
   "source": [
    "len(latestversionCC0)"
   ]
  },
  {
   "cell_type": "code",
   "execution_count": 162,
   "metadata": {},
   "outputs": [],
   "source": [
    "countsByDataset = (latestversionCC0\n",
    "    .drop(columns=['license'])\n",
    "    .count(axis=1)\n",
    "    .to_frame('count')\n",
    "    .query('count > 0')\n",
    ")"
   ]
  },
  {
   "cell_type": "code",
   "execution_count": 163,
   "metadata": {},
   "outputs": [
    {
     "data": {
      "text/html": [
       "<div>\n",
       "<style scoped>\n",
       "    .dataframe tbody tr th:only-of-type {\n",
       "        vertical-align: middle;\n",
       "    }\n",
       "\n",
       "    .dataframe tbody tr th {\n",
       "        vertical-align: top;\n",
       "    }\n",
       "\n",
       "    .dataframe thead th {\n",
       "        text-align: right;\n",
       "    }\n",
       "</style>\n",
       "<table border=\"1\" class=\"dataframe\">\n",
       "  <thead>\n",
       "    <tr style=\"text-align: right;\">\n",
       "      <th></th>\n",
       "      <th>count</th>\n",
       "    </tr>\n",
       "    <tr>\n",
       "      <th>persistentUrl</th>\n",
       "      <th></th>\n",
       "    </tr>\n",
       "  </thead>\n",
       "  <tbody>\n",
       "    <tr>\n",
       "      <th>https://doi.org/10.21979/N9/OF5ZDK</th>\n",
       "      <td>2</td>\n",
       "    </tr>\n",
       "    <tr>\n",
       "      <th>https://doi.org/10.21979/N9/DHYM9H</th>\n",
       "      <td>2</td>\n",
       "    </tr>\n",
       "    <tr>\n",
       "      <th>https://doi.org/10.34894/FUTGYT</th>\n",
       "      <td>3</td>\n",
       "    </tr>\n",
       "    <tr>\n",
       "      <th>https://doi.org/10.34894/Q0XNJS</th>\n",
       "      <td>1</td>\n",
       "    </tr>\n",
       "    <tr>\n",
       "      <th>https://doi.org/10.34894/AXFRPB</th>\n",
       "      <td>2</td>\n",
       "    </tr>\n",
       "  </tbody>\n",
       "</table>\n",
       "</div>"
      ],
      "text/plain": [
       "                                    count\n",
       "persistentUrl                            \n",
       "https://doi.org/10.21979/N9/OF5ZDK      2\n",
       "https://doi.org/10.21979/N9/DHYM9H      2\n",
       "https://doi.org/10.34894/FUTGYT         3\n",
       "https://doi.org/10.34894/Q0XNJS         1\n",
       "https://doi.org/10.34894/AXFRPB         2"
      ]
     },
     "execution_count": 163,
     "metadata": {},
     "output_type": "execute_result"
    }
   ],
   "source": [
    "countsByDataset.head(5)"
   ]
  },
  {
   "cell_type": "code",
   "execution_count": 164,
   "metadata": {},
   "outputs": [
    {
     "data": {
      "text/plain": [
       "498"
      ]
     },
     "execution_count": 164,
     "metadata": {},
     "output_type": "execute_result"
    }
   ],
   "source": [
    "len(countsByDataset)"
   ]
  },
  {
   "cell_type": "markdown",
   "metadata": {},
   "source": [
    "Looks like there are 498 datasets with:\n",
    "- Either the CC0 waiver or CCBY license\n",
    "- One or more Terms of Use fields filled (exluding the Terms of Use field)\n",
    "\n",
    "Let's join the countsByDataset dataframe to the latestversionCC0 dataframe: "
   ]
  },
  {
   "cell_type": "code",
   "execution_count": 176,
   "metadata": {},
   "outputs": [],
   "source": [
    "countsByDataset_merged = (pd\n",
    "    .merge(countsByDataset, latestversion, how='left', on='persistentUrl')\n",
    "    .drop(columns=[\n",
    "        'termsOfUse', 'termsOfAccess', 'availabilityStatus',\n",
    "        'contactForAccess', 'dataaccessPlace', 'originalArchive', 'sizeOfCollection', 'studyCompletion'])\n",
    ")\n"
   ]
  },
  {
   "cell_type": "code",
   "execution_count": 177,
   "metadata": {},
   "outputs": [
    {
     "data": {
      "text/html": [
       "<div>\n",
       "<style scoped>\n",
       "    .dataframe tbody tr th:only-of-type {\n",
       "        vertical-align: middle;\n",
       "    }\n",
       "\n",
       "    .dataframe tbody tr th {\n",
       "        vertical-align: top;\n",
       "    }\n",
       "\n",
       "    .dataframe thead th {\n",
       "        text-align: right;\n",
       "    }\n",
       "</style>\n",
       "<table border=\"1\" class=\"dataframe\">\n",
       "  <thead>\n",
       "    <tr style=\"text-align: right;\">\n",
       "      <th></th>\n",
       "      <th>persistentUrl</th>\n",
       "      <th>count</th>\n",
       "      <th>publisher</th>\n",
       "      <th>datasetVersionId</th>\n",
       "      <th>majorVersionNumber</th>\n",
       "      <th>minorVersionNumber</th>\n",
       "      <th>license</th>\n",
       "      <th>citationRequirements</th>\n",
       "      <th>conditions</th>\n",
       "      <th>confidentialityDeclaration</th>\n",
       "      <th>depositorRequirements</th>\n",
       "      <th>disclaimer</th>\n",
       "      <th>restrictions</th>\n",
       "      <th>specialPermissions</th>\n",
       "    </tr>\n",
       "  </thead>\n",
       "  <tbody>\n",
       "    <tr>\n",
       "      <th>0</th>\n",
       "      <td>https://doi.org/10.21979/N9/OF5ZDK</td>\n",
       "      <td>2</td>\n",
       "      <td>DR-NTU (Data)</td>\n",
       "      <td>1432</td>\n",
       "      <td>1</td>\n",
       "      <td>0</td>\n",
       "      <td>CC0</td>\n",
       "      <td>To cite this dataset: \\nStyles, Suzy; Travers ...</td>\n",
       "      <td>NaN</td>\n",
       "      <td>NaN</td>\n",
       "      <td>NaN</td>\n",
       "      <td>NaN</td>\n",
       "      <td>Researchers must give their name and current r...</td>\n",
       "      <td>NaN</td>\n",
       "    </tr>\n",
       "    <tr>\n",
       "      <th>1</th>\n",
       "      <td>https://doi.org/10.21979/N9/DHYM9H</td>\n",
       "      <td>2</td>\n",
       "      <td>DR-NTU (Data)</td>\n",
       "      <td>1431</td>\n",
       "      <td>1</td>\n",
       "      <td>0</td>\n",
       "      <td>CC0</td>\n",
       "      <td>To cite this dataset:\\nStyles, Suzy J; Bin Mus...</td>\n",
       "      <td>NaN</td>\n",
       "      <td>NaN</td>\n",
       "      <td>NaN</td>\n",
       "      <td>NaN</td>\n",
       "      <td>To download these audio files, researchers mus...</td>\n",
       "      <td>NaN</td>\n",
       "    </tr>\n",
       "    <tr>\n",
       "      <th>2</th>\n",
       "      <td>https://doi.org/10.34894/FUTGYT</td>\n",
       "      <td>3</td>\n",
       "      <td>DataverseNL</td>\n",
       "      <td>2997</td>\n",
       "      <td>2</td>\n",
       "      <td>0</td>\n",
       "      <td>CC0</td>\n",
       "      <td>Mention publication Habets et al 2020 when usi...</td>\n",
       "      <td>Anonimyzed by changing patients' age in age ra...</td>\n",
       "      <td>NaN</td>\n",
       "      <td>NaN</td>\n",
       "      <td>NaN</td>\n",
       "      <td>Not available for commercial use.</td>\n",
       "      <td>NaN</td>\n",
       "    </tr>\n",
       "    <tr>\n",
       "      <th>3</th>\n",
       "      <td>https://doi.org/10.34894/Q0XNJS</td>\n",
       "      <td>1</td>\n",
       "      <td>DataverseNL</td>\n",
       "      <td>1412</td>\n",
       "      <td>1</td>\n",
       "      <td>0</td>\n",
       "      <td>CC0</td>\n",
       "      <td>NaN</td>\n",
       "      <td>The data, syntaxes, and reports of this projec...</td>\n",
       "      <td>NaN</td>\n",
       "      <td>NaN</td>\n",
       "      <td>NaN</td>\n",
       "      <td>NaN</td>\n",
       "      <td>NaN</td>\n",
       "    </tr>\n",
       "    <tr>\n",
       "      <th>4</th>\n",
       "      <td>https://doi.org/10.34894/AXFRPB</td>\n",
       "      <td>2</td>\n",
       "      <td>DataverseNL</td>\n",
       "      <td>1877</td>\n",
       "      <td>1</td>\n",
       "      <td>2</td>\n",
       "      <td>CC0</td>\n",
       "      <td>If active involvement of AIGHD/IFPRI researche...</td>\n",
       "      <td>NaN</td>\n",
       "      <td>NaN</td>\n",
       "      <td>NaN</td>\n",
       "      <td>NaN</td>\n",
       "      <td>NaN</td>\n",
       "      <td>The data are available upon request through th...</td>\n",
       "    </tr>\n",
       "  </tbody>\n",
       "</table>\n",
       "</div>"
      ],
      "text/plain": [
       "                        persistentUrl  count      publisher  datasetVersionId  \\\n",
       "0  https://doi.org/10.21979/N9/OF5ZDK      2  DR-NTU (Data)              1432   \n",
       "1  https://doi.org/10.21979/N9/DHYM9H      2  DR-NTU (Data)              1431   \n",
       "2     https://doi.org/10.34894/FUTGYT      3    DataverseNL              2997   \n",
       "3     https://doi.org/10.34894/Q0XNJS      1    DataverseNL              1412   \n",
       "4     https://doi.org/10.34894/AXFRPB      2    DataverseNL              1877   \n",
       "\n",
       "   majorVersionNumber  minorVersionNumber license  \\\n",
       "0                   1                   0     CC0   \n",
       "1                   1                   0     CC0   \n",
       "2                   2                   0     CC0   \n",
       "3                   1                   0     CC0   \n",
       "4                   1                   2     CC0   \n",
       "\n",
       "                                citationRequirements  \\\n",
       "0  To cite this dataset: \\nStyles, Suzy; Travers ...   \n",
       "1  To cite this dataset:\\nStyles, Suzy J; Bin Mus...   \n",
       "2  Mention publication Habets et al 2020 when usi...   \n",
       "3                                                NaN   \n",
       "4  If active involvement of AIGHD/IFPRI researche...   \n",
       "\n",
       "                                          conditions  \\\n",
       "0                                                NaN   \n",
       "1                                                NaN   \n",
       "2  Anonimyzed by changing patients' age in age ra...   \n",
       "3  The data, syntaxes, and reports of this projec...   \n",
       "4                                                NaN   \n",
       "\n",
       "  confidentialityDeclaration depositorRequirements disclaimer  \\\n",
       "0                        NaN                   NaN        NaN   \n",
       "1                        NaN                   NaN        NaN   \n",
       "2                        NaN                   NaN        NaN   \n",
       "3                        NaN                   NaN        NaN   \n",
       "4                        NaN                   NaN        NaN   \n",
       "\n",
       "                                        restrictions  \\\n",
       "0  Researchers must give their name and current r...   \n",
       "1  To download these audio files, researchers mus...   \n",
       "2                  Not available for commercial use.   \n",
       "3                                                NaN   \n",
       "4                                                NaN   \n",
       "\n",
       "                                  specialPermissions  \n",
       "0                                                NaN  \n",
       "1                                                NaN  \n",
       "2                                                NaN  \n",
       "3                                                NaN  \n",
       "4  The data are available upon request through th...  "
      ]
     },
     "execution_count": 177,
     "metadata": {},
     "output_type": "execute_result"
    }
   ],
   "source": [
    "countsByDataset_merged.head(5)"
   ]
  },
  {
   "cell_type": "code",
   "execution_count": 178,
   "metadata": {},
   "outputs": [
    {
     "data": {
      "text/plain": [
       "498"
      ]
     },
     "execution_count": 178,
     "metadata": {},
     "output_type": "execute_result"
    }
   ],
   "source": [
    "len(countsByDataset_merged)"
   ]
  },
  {
   "cell_type": "code",
   "execution_count": 179,
   "metadata": {},
   "outputs": [],
   "source": [
    "# Export to CSV\n",
    "file = 'countsByDataset_merged.csv'\n",
    "countsByDataset_merged.to_csv(file, index=False)"
   ]
  },
  {
   "cell_type": "code",
   "execution_count": null,
   "metadata": {},
   "outputs": [],
   "source": []
  }
 ],
 "metadata": {
  "hide_input": false,
  "kernelspec": {
   "display_name": "Python 3",
   "language": "python",
   "name": "python3"
  },
  "language_info": {
   "codemirror_mode": {
    "name": "ipython",
    "version": 3
   },
   "file_extension": ".py",
   "mimetype": "text/x-python",
   "name": "python",
   "nbconvert_exporter": "python",
   "pygments_lexer": "ipython3",
   "version": "3.7.0"
  }
 },
 "nbformat": 4,
 "nbformat_minor": 4
}
