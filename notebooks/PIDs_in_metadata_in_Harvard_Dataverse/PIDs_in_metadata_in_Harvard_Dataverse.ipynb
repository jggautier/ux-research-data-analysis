{
 "cells": [
  {
   "cell_type": "code",
   "execution_count": 1,
   "metadata": {
    "collapsed": true
   },
   "outputs": [],
   "source": [
    "from functools import reduce\n",
    "import numpy as np\n",
    "import pandas as pd"
   ]
  },
  {
   "cell_type": "code",
   "execution_count": 35,
   "outputs": [
    {
     "data": {
      "text/plain": "                      dataset_pid_url  dataset_version_number  \\\n0  https://doi.org/10.7910/DVN/5PRYPC                     4.0   \n1   https://doi.org/10.7910/DVN/VIE1H                   248.0   \n2  https://doi.org/10.7910/DVN/KKUJWW                     1.0   \n3  https://doi.org/10.7910/DVN/5E6GBN                     1.2   \n4  https://doi.org/10.7910/DVN/9MKISZ                    10.0   \n\n  dataset_version_create_time  \n0   2020-06-17 23:49:50+00:00  \n1   2015-06-18 19:49:12+00:00  \n2   2015-07-15 00:57:41+00:00  \n3   2020-04-05 21:32:37+00:00  \n4   2013-01-29 23:42:10+00:00  ",
      "text/html": "<div><div id=ba96b918-e4a5-4423-bfc2-032dfe0ade2f style=\"display:none; background-color:#9D6CFF; color:white; width:200px; height:30px; padding-left:5px; border-radius:4px; flex-direction:row; justify-content:space-around; align-items:center;\" onmouseover=\"this.style.backgroundColor='#BA9BF8'\" onmouseout=\"this.style.backgroundColor='#9D6CFF'\" onclick=\"window.commands?.execute('create-mitosheet-from-dataframe-output');\">See Full Dataframe in Mito</div> <script> if (window.commands.hasCommand('create-mitosheet-from-dataframe-output')) document.getElementById('ba96b918-e4a5-4423-bfc2-032dfe0ade2f').style.display = 'flex' </script> <table border=\"1\" class=\"dataframe\">\n  <thead>\n    <tr style=\"text-align: right;\">\n      <th></th>\n      <th>dataset_pid_url</th>\n      <th>dataset_version_number</th>\n      <th>dataset_version_create_time</th>\n    </tr>\n  </thead>\n  <tbody>\n    <tr>\n      <th>0</th>\n      <td>https://doi.org/10.7910/DVN/5PRYPC</td>\n      <td>4.0</td>\n      <td>2020-06-17 23:49:50+00:00</td>\n    </tr>\n    <tr>\n      <th>1</th>\n      <td>https://doi.org/10.7910/DVN/VIE1H</td>\n      <td>248.0</td>\n      <td>2015-06-18 19:49:12+00:00</td>\n    </tr>\n    <tr>\n      <th>2</th>\n      <td>https://doi.org/10.7910/DVN/KKUJWW</td>\n      <td>1.0</td>\n      <td>2015-07-15 00:57:41+00:00</td>\n    </tr>\n    <tr>\n      <th>3</th>\n      <td>https://doi.org/10.7910/DVN/5E6GBN</td>\n      <td>1.2</td>\n      <td>2020-04-05 21:32:37+00:00</td>\n    </tr>\n    <tr>\n      <th>4</th>\n      <td>https://doi.org/10.7910/DVN/9MKISZ</td>\n      <td>10.0</td>\n      <td>2013-01-29 23:42:10+00:00</td>\n    </tr>\n  </tbody>\n</table></div>"
     },
     "execution_count": 35,
     "metadata": {},
     "output_type": "execute_result"
    }
   ],
   "source": [
    "# Import, format and filter basic metadata of all dataset versions\n",
    "datasetVersionMetadataHDVDF = (pd\n",
    "    .read_csv(\n",
    "        'basic_metadata_2022.10.02-2022.10.03.csv',\n",
    "        usecols=lambda x: x not in [\n",
    "            'dataset_pid', 'dataset_publication_date',\n",
    "            'dataset_version_state'],\n",
    "        parse_dates=['dataset_version_create_time'],\n",
    "        sep=',', na_filter=False)\n",
    "    .query('(publisher == \"Harvard Dataverse\")')\n",
    "    .drop(columns=['publisher'])\n",
    "    .reset_index(drop=True, inplace=False)\n",
    ")\n",
    "\n",
    "# dateColumns = ['dataset_version_create_time']\n",
    "# datasetVersionMetadataHDVDF[dateColumns] = datasetVersionMetadataHDVDF[dateColumns].apply(pd.to_datetime)\n",
    "\n",
    "datasetVersionMetadataHDVDF.head()"
   ],
   "metadata": {
    "collapsed": false,
    "pycharm": {
     "name": "#%%\n"
    }
   }
  },
  {
   "cell_type": "code",
   "execution_count": 31,
   "outputs": [
    {
     "name": "stdout",
     "output_type": "stream",
     "text": [
      "Count of dataset versions: 130768\n",
      "Number of datasets: 80278\n"
     ]
    }
   ],
   "source": [
    "print(f'Count of dataset versions: {len(datasetVersionMetadataHDVDF)}')\n",
    "print(f'Number of datasets: {(len(pd.unique(datasetVersionMetadataHDVDF[\"dataset_pid_url\"])))}')"
   ],
   "metadata": {
    "collapsed": false,
    "pycharm": {
     "name": "#%%\n"
    }
   }
  },
  {
   "cell_type": "code",
   "execution_count": 39,
   "outputs": [
    {
     "data": {
      "text/plain": "                      dataset_pid_url  dataset_version_number  \\\n0   https://doi.org/10.7910/DVN/00234                     1.0   \n1  https://doi.org/10.7910/DVN/004HG6                     1.0   \n2  https://doi.org/10.7910/DVN/005SCF                     1.0   \n3  https://doi.org/10.7910/DVN/006UPU                     1.0   \n4   https://doi.org/10.7910/DVN/007GT                     5.0   \n\n  dataset_version_create_time  \n0   2014-03-23 22:12:34+00:00  \n1   2020-08-28 15:42:11+00:00  \n2   2021-08-26 03:17:40+00:00  \n3   2021-08-13 18:15:36+00:00  \n4   2017-02-05 23:43:33+00:00  ",
      "text/html": "<div><div id=d8df378d-7ea1-4369-9f33-c97a977e873b style=\"display:none; background-color:#9D6CFF; color:white; width:200px; height:30px; padding-left:5px; border-radius:4px; flex-direction:row; justify-content:space-around; align-items:center;\" onmouseover=\"this.style.backgroundColor='#BA9BF8'\" onmouseout=\"this.style.backgroundColor='#9D6CFF'\" onclick=\"window.commands?.execute('create-mitosheet-from-dataframe-output');\">See Full Dataframe in Mito</div> <script> if (window.commands.hasCommand('create-mitosheet-from-dataframe-output')) document.getElementById('d8df378d-7ea1-4369-9f33-c97a977e873b').style.display = 'flex' </script> <table border=\"1\" class=\"dataframe\">\n  <thead>\n    <tr style=\"text-align: right;\">\n      <th></th>\n      <th>dataset_pid_url</th>\n      <th>dataset_version_number</th>\n      <th>dataset_version_create_time</th>\n    </tr>\n  </thead>\n  <tbody>\n    <tr>\n      <th>0</th>\n      <td>https://doi.org/10.7910/DVN/00234</td>\n      <td>1.0</td>\n      <td>2014-03-23 22:12:34+00:00</td>\n    </tr>\n    <tr>\n      <th>1</th>\n      <td>https://doi.org/10.7910/DVN/004HG6</td>\n      <td>1.0</td>\n      <td>2020-08-28 15:42:11+00:00</td>\n    </tr>\n    <tr>\n      <th>2</th>\n      <td>https://doi.org/10.7910/DVN/005SCF</td>\n      <td>1.0</td>\n      <td>2021-08-26 03:17:40+00:00</td>\n    </tr>\n    <tr>\n      <th>3</th>\n      <td>https://doi.org/10.7910/DVN/006UPU</td>\n      <td>1.0</td>\n      <td>2021-08-13 18:15:36+00:00</td>\n    </tr>\n    <tr>\n      <th>4</th>\n      <td>https://doi.org/10.7910/DVN/007GT</td>\n      <td>5.0</td>\n      <td>2017-02-05 23:43:33+00:00</td>\n    </tr>\n  </tbody>\n</table></div>"
     },
     "execution_count": 39,
     "metadata": {},
     "output_type": "execute_result"
    }
   ],
   "source": [
    "latestDatasetVersionsHDVDF = (\n",
    "    datasetVersionMetadataHDVDF\n",
    "        .iloc[\n",
    "            datasetVersionMetadataHDVDF\n",
    "                .groupby('dataset_pid_url')['dataset_version_create_time']\n",
    "                .agg(pd.Series.idxmax)]\n",
    "        .reset_index(drop=True, inplace=False))\n",
    "\n",
    "latestDatasetVersionsHDVDF.head()"
   ],
   "metadata": {
    "collapsed": false,
    "pycharm": {
     "name": "#%%\n"
    }
   }
  },
  {
   "cell_type": "code",
   "execution_count": 38,
   "outputs": [
    {
     "name": "stdout",
     "output_type": "stream",
     "text": [
      "Count of dataset versions: 80278\n",
      "Number of datasets: 80278\n"
     ]
    }
   ],
   "source": [
    "print(f'Count of dataset versions: {len(latestDatasetVersionsHDVDF)}')\n",
    "print(f'Number of datasets: {(len(pd.unique(latestDatasetVersionsHDVDF[\"dataset_pid_url\"])))}')"
   ],
   "metadata": {
    "collapsed": false,
    "pycharm": {
     "name": "#%%\n"
    }
   }
  },
  {
   "cell_type": "code",
   "execution_count": 42,
   "outputs": [
    {
     "data": {
      "text/plain": "                          dataset_pid_url  dataset_version_number  \\\n0     https://doi.org/10.48370/OFD/DBJUEM                     1.0   \n1     https://doi.org/10.21410/7E4/4WG94W                     2.1   \n2     https://doi.org/10.21410/7E4/4WG94W                     2.1   \n3      https://doi.org/10.7910/DVN/5PRYPC                     4.0   \n4  https://doi.org/10.17026/dans-2zm-dsmz                     1.0   \n\n                                          authorName  \\\n0  Mammal Research Institute, Polish Academy of S...   \n1                                 Pagès, Jean-Pierre   \n2                             Agrafiotis, Démosthène   \n3                                     China Data Lab   \n4            Portable Antiquities of the Netherlands   \n\n                                   authorAffiliation authorIdentifierScheme  \\\n0                                                NaN                    NaN   \n1  Commissariat à l'Énergie Atomique, Laboratoire...                    NaN   \n2  Commissariat à l'Énergie Atomique, Laboratoire...                    NaN   \n3                                     China Data Lab                    NaN   \n4                                                NaN                    NaN   \n\n  authorIdentifier  \n0              NaN  \n1              NaN  \n2              NaN  \n3              NaN  \n4              NaN  ",
      "text/html": "<div><div id=a4c7a3e0-a05b-4785-a673-a426a423f47f style=\"display:none; background-color:#9D6CFF; color:white; width:200px; height:30px; padding-left:5px; border-radius:4px; flex-direction:row; justify-content:space-around; align-items:center;\" onmouseover=\"this.style.backgroundColor='#BA9BF8'\" onmouseout=\"this.style.backgroundColor='#9D6CFF'\" onclick=\"window.commands?.execute('create-mitosheet-from-dataframe-output');\">See Full Dataframe in Mito</div> <script> if (window.commands.hasCommand('create-mitosheet-from-dataframe-output')) document.getElementById('a4c7a3e0-a05b-4785-a673-a426a423f47f').style.display = 'flex' </script> <table border=\"1\" class=\"dataframe\">\n  <thead>\n    <tr style=\"text-align: right;\">\n      <th></th>\n      <th>dataset_pid_url</th>\n      <th>dataset_version_number</th>\n      <th>authorName</th>\n      <th>authorAffiliation</th>\n      <th>authorIdentifierScheme</th>\n      <th>authorIdentifier</th>\n    </tr>\n  </thead>\n  <tbody>\n    <tr>\n      <th>0</th>\n      <td>https://doi.org/10.48370/OFD/DBJUEM</td>\n      <td>1.0</td>\n      <td>Mammal Research Institute, Polish Academy of Sciences</td>\n      <td>NaN</td>\n      <td>NaN</td>\n      <td>NaN</td>\n    </tr>\n    <tr>\n      <th>1</th>\n      <td>https://doi.org/10.21410/7E4/4WG94W</td>\n      <td>2.1</td>\n      <td>Pagès, Jean-Pierre</td>\n      <td>Commissariat à l'Énergie Atomique, Laboratoire de statistiques et d'études économiques et sociales (LSESS), IPSN</td>\n      <td>NaN</td>\n      <td>NaN</td>\n    </tr>\n    <tr>\n      <th>2</th>\n      <td>https://doi.org/10.21410/7E4/4WG94W</td>\n      <td>2.1</td>\n      <td>Agrafiotis, Démosthène</td>\n      <td>Commissariat à l'Énergie Atomique, Laboratoire de statistiques et d'études économiques et sociales (LSESS), IPSN</td>\n      <td>NaN</td>\n      <td>NaN</td>\n    </tr>\n    <tr>\n      <th>3</th>\n      <td>https://doi.org/10.7910/DVN/5PRYPC</td>\n      <td>4.0</td>\n      <td>China Data Lab</td>\n      <td>China Data Lab</td>\n      <td>NaN</td>\n      <td>NaN</td>\n    </tr>\n    <tr>\n      <th>4</th>\n      <td>https://doi.org/10.17026/dans-2zm-dsmz</td>\n      <td>1.0</td>\n      <td>Portable Antiquities of the Netherlands</td>\n      <td>NaN</td>\n      <td>NaN</td>\n      <td>NaN</td>\n    </tr>\n  </tbody>\n</table></div>"
     },
     "execution_count": 42,
     "metadata": {},
     "output_type": "execute_result"
    }
   ],
   "source": [
    "# Import author metadata\n",
    "# Import, format and filter basic metadata of all dataset versions\n",
    "authorMetadataDF = (pd\n",
    "    .read_csv(\n",
    "        'author(citation)_2022.10.02-2022.10.03.csv',\n",
    "        sep=',', na_filter=True)\n",
    "   .drop(columns=['dataset_pid'])\n",
    "   .reset_index(drop=True, inplace=False)\n",
    ")\n",
    "\n",
    "authorMetadataDF.head()"
   ],
   "metadata": {
    "collapsed": false,
    "pycharm": {
     "name": "#%%\n"
    }
   }
  },
  {
   "cell_type": "code",
   "execution_count": 46,
   "outputs": [
    {
     "data": {
      "text/plain": "                      dataset_pid_url  dataset_version_number  \\\n0   https://doi.org/10.7910/DVN/00234                     1.0   \n1   https://doi.org/10.7910/DVN/00234                     1.0   \n2  https://doi.org/10.7910/DVN/004HG6                     1.0   \n3  https://doi.org/10.7910/DVN/004HG6                     1.0   \n4  https://doi.org/10.7910/DVN/005SCF                     1.0   \n\n  dataset_version_create_time            authorName  \\\n0   2014-03-23 22:12:34+00:00  Mazzolari, Francesca   \n1   2014-03-23 22:12:34+00:00      Ragusa, Giuseppe   \n2   2020-08-28 15:42:11+00:00     Master, Daniel M.   \n3   2020-08-28 15:42:11+00:00   Stager, Lawrence E.   \n4   2021-08-26 03:17:40+00:00     Master, Daniel M.   \n\n            authorAffiliation authorIdentifierScheme authorIdentifier  \n0  Centro Studi Confindustria                    NaN              NaN  \n1            Luiss University                    NaN              NaN  \n2             Wheaton College                    NaN              NaN  \n3          Harvard University                    NaN              NaN  \n4             Wheaton College                    NaN              NaN  ",
      "text/html": "<div><div id=130d88a1-f5c8-4e0b-818a-3672a962f698 style=\"display:none; background-color:#9D6CFF; color:white; width:200px; height:30px; padding-left:5px; border-radius:4px; flex-direction:row; justify-content:space-around; align-items:center;\" onmouseover=\"this.style.backgroundColor='#BA9BF8'\" onmouseout=\"this.style.backgroundColor='#9D6CFF'\" onclick=\"window.commands?.execute('create-mitosheet-from-dataframe-output');\">See Full Dataframe in Mito</div> <script> if (window.commands.hasCommand('create-mitosheet-from-dataframe-output')) document.getElementById('130d88a1-f5c8-4e0b-818a-3672a962f698').style.display = 'flex' </script> <table border=\"1\" class=\"dataframe\">\n  <thead>\n    <tr style=\"text-align: right;\">\n      <th></th>\n      <th>dataset_pid_url</th>\n      <th>dataset_version_number</th>\n      <th>dataset_version_create_time</th>\n      <th>authorName</th>\n      <th>authorAffiliation</th>\n      <th>authorIdentifierScheme</th>\n      <th>authorIdentifier</th>\n    </tr>\n  </thead>\n  <tbody>\n    <tr>\n      <th>0</th>\n      <td>https://doi.org/10.7910/DVN/00234</td>\n      <td>1.0</td>\n      <td>2014-03-23 22:12:34+00:00</td>\n      <td>Mazzolari, Francesca</td>\n      <td>Centro Studi Confindustria</td>\n      <td>NaN</td>\n      <td>NaN</td>\n    </tr>\n    <tr>\n      <th>1</th>\n      <td>https://doi.org/10.7910/DVN/00234</td>\n      <td>1.0</td>\n      <td>2014-03-23 22:12:34+00:00</td>\n      <td>Ragusa, Giuseppe</td>\n      <td>Luiss University</td>\n      <td>NaN</td>\n      <td>NaN</td>\n    </tr>\n    <tr>\n      <th>2</th>\n      <td>https://doi.org/10.7910/DVN/004HG6</td>\n      <td>1.0</td>\n      <td>2020-08-28 15:42:11+00:00</td>\n      <td>Master, Daniel M.</td>\n      <td>Wheaton College</td>\n      <td>NaN</td>\n      <td>NaN</td>\n    </tr>\n    <tr>\n      <th>3</th>\n      <td>https://doi.org/10.7910/DVN/004HG6</td>\n      <td>1.0</td>\n      <td>2020-08-28 15:42:11+00:00</td>\n      <td>Stager, Lawrence E.</td>\n      <td>Harvard University</td>\n      <td>NaN</td>\n      <td>NaN</td>\n    </tr>\n    <tr>\n      <th>4</th>\n      <td>https://doi.org/10.7910/DVN/005SCF</td>\n      <td>1.0</td>\n      <td>2021-08-26 03:17:40+00:00</td>\n      <td>Master, Daniel M.</td>\n      <td>Wheaton College</td>\n      <td>NaN</td>\n      <td>NaN</td>\n    </tr>\n  </tbody>\n</table></div>"
     },
     "execution_count": 46,
     "metadata": {},
     "output_type": "execute_result"
    }
   ],
   "source": [
    "# Merge author metadata to latestDatasetVersionsHDVDF\n",
    "authorMetadataLatestVersionDF = (pd\n",
    "    .merge(latestDatasetVersionsHDVDF, authorMetadataDF,\n",
    "          how='inner',\n",
    "          on=['dataset_pid_url', 'dataset_version_number'])\n",
    "    .reset_index(drop=True, inplace=False))\n",
    "\n",
    "authorMetadataLatestVersionDF.head()\n",
    "# Only author metadata of most recently versions should remain"
   ],
   "metadata": {
    "collapsed": false,
    "pycharm": {
     "name": "#%%\n"
    }
   }
  },
  {
   "cell_type": "code",
   "execution_count": 48,
   "outputs": [
    {
     "name": "stdout",
     "output_type": "stream",
     "text": [
      "Count of author metadata values: 155445\n",
      "Number of datasets: 80278\n"
     ]
    }
   ],
   "source": [
    "print(f'Count of author metadata values: {len(authorMetadataLatestVersionDF)}')\n",
    "print(f'Number of datasets: {(len(pd.unique(authorMetadataLatestVersionDF[\"dataset_pid_url\"])))}')"
   ],
   "metadata": {
    "collapsed": false,
    "pycharm": {
     "name": "#%%\n"
    }
   }
  },
  {
   "cell_type": "markdown",
   "source": [
    "Of the 155,445 authors, how many have a value in either the Author Identifier Scheme or Author Identifier field?"
   ],
   "metadata": {
    "collapsed": false,
    "pycharm": {
     "name": "#%% md\n"
    }
   }
  },
  {
   "cell_type": "code",
   "execution_count": 69,
   "outputs": [
    {
     "data": {
      "text/plain": "                      dataset_pid_url  dataset_version_number  \\\n0  https://doi.org/10.7910/DVN/00INMO                     1.0   \n1  https://doi.org/10.7910/DVN/00WMEO                     1.0   \n2  https://doi.org/10.7910/DVN/01BU1N                     1.0   \n3  https://doi.org/10.7910/DVN/01BU1N                     1.0   \n4  https://doi.org/10.7910/DVN/01KX3V                     4.0   \n\n  dataset_version_create_time        authorName authorIdentifierScheme  \\\n0   2021-10-20 06:53:39+00:00       Yozo Mitsui                  ORCID   \n1   2020-06-06 01:16:06+00:00  Nolte, Christoph                  ORCID   \n2   2022-02-03 18:14:17+00:00      Wolaver, Amy                  ORCID   \n3   2022-02-03 18:14:17+00:00       Doces, John                  ORCID   \n4   2016-12-07 13:19:48+00:00       Zhong, Qing                  ORCID   \n\n                authorIdentifier  \n0  orcid.org/0000-0003-2919-0058  \n1            0000-0001-7827-689X  \n2            0000-0002-0905-9397  \n3            0000-0002-4671-2885  \n4            0000-0002-5340-301X  ",
      "text/html": "<div><div id=bf956c6a-d641-4d5e-9db0-f2ea5cc430ff style=\"display:none; background-color:#9D6CFF; color:white; width:200px; height:30px; padding-left:5px; border-radius:4px; flex-direction:row; justify-content:space-around; align-items:center;\" onmouseover=\"this.style.backgroundColor='#BA9BF8'\" onmouseout=\"this.style.backgroundColor='#9D6CFF'\" onclick=\"window.commands?.execute('create-mitosheet-from-dataframe-output');\">See Full Dataframe in Mito</div> <script> if (window.commands.hasCommand('create-mitosheet-from-dataframe-output')) document.getElementById('bf956c6a-d641-4d5e-9db0-f2ea5cc430ff').style.display = 'flex' </script> <table border=\"1\" class=\"dataframe\">\n  <thead>\n    <tr style=\"text-align: right;\">\n      <th></th>\n      <th>dataset_pid_url</th>\n      <th>dataset_version_number</th>\n      <th>dataset_version_create_time</th>\n      <th>authorName</th>\n      <th>authorIdentifierScheme</th>\n      <th>authorIdentifier</th>\n    </tr>\n  </thead>\n  <tbody>\n    <tr>\n      <th>0</th>\n      <td>https://doi.org/10.7910/DVN/00INMO</td>\n      <td>1.0</td>\n      <td>2021-10-20 06:53:39+00:00</td>\n      <td>Yozo Mitsui</td>\n      <td>ORCID</td>\n      <td>orcid.org/0000-0003-2919-0058</td>\n    </tr>\n    <tr>\n      <th>1</th>\n      <td>https://doi.org/10.7910/DVN/00WMEO</td>\n      <td>1.0</td>\n      <td>2020-06-06 01:16:06+00:00</td>\n      <td>Nolte, Christoph</td>\n      <td>ORCID</td>\n      <td>0000-0001-7827-689X</td>\n    </tr>\n    <tr>\n      <th>2</th>\n      <td>https://doi.org/10.7910/DVN/01BU1N</td>\n      <td>1.0</td>\n      <td>2022-02-03 18:14:17+00:00</td>\n      <td>Wolaver, Amy</td>\n      <td>ORCID</td>\n      <td>0000-0002-0905-9397</td>\n    </tr>\n    <tr>\n      <th>3</th>\n      <td>https://doi.org/10.7910/DVN/01BU1N</td>\n      <td>1.0</td>\n      <td>2022-02-03 18:14:17+00:00</td>\n      <td>Doces, John</td>\n      <td>ORCID</td>\n      <td>0000-0002-4671-2885</td>\n    </tr>\n    <tr>\n      <th>4</th>\n      <td>https://doi.org/10.7910/DVN/01KX3V</td>\n      <td>4.0</td>\n      <td>2016-12-07 13:19:48+00:00</td>\n      <td>Zhong, Qing</td>\n      <td>ORCID</td>\n      <td>0000-0002-5340-301X</td>\n    </tr>\n  </tbody>\n</table></div>"
     },
     "execution_count": 69,
     "metadata": {},
     "output_type": "execute_result"
    }
   ],
   "source": [
    "authorIdentifierMetadata = (\n",
    "    authorMetadataLatestVersionDF\n",
    "        .drop(columns=['authorAffiliation'])\n",
    "        # .dropna(subset=['authorIdentifierScheme', 'authorIdentifier'], how='all')\n",
    "        .query(\n",
    "            '(authorIdentifierScheme == authorIdentifierScheme or\\\n",
    "            authorIdentifier == authorIdentifier)')\n",
    "        .reset_index(drop=True, inplace=False)\n",
    ")\n",
    "\n",
    "authorIdentifierMetadata.head()"
   ],
   "metadata": {
    "collapsed": false,
    "pycharm": {
     "name": "#%%\n"
    }
   }
  },
  {
   "cell_type": "code",
   "execution_count": 70,
   "outputs": [
    {
     "name": "stdout",
     "output_type": "stream",
     "text": [
      "Author metadata with at least identifier or identifier scheme: 20231\n",
      "Number of datasets: 12975\n"
     ]
    }
   ],
   "source": [
    "print(f'Author metadata with at least identifier or identifier scheme: {len(authorIdentifierMetadata)}')\n",
    "print(f'Number of datasets: {(len(pd.unique(authorIdentifierMetadata[\"dataset_pid_url\"])))}')"
   ],
   "metadata": {
    "collapsed": false,
    "pycharm": {
     "name": "#%%\n"
    }
   }
  },
  {
   "cell_type": "code",
   "execution_count": 65,
   "outputs": [
    {
     "data": {
      "text/plain": "                      dataset_pid_url  dataset_version_number  \\\n0  https://doi.org/10.7910/DVN/0ILLXT                     2.0   \n1  https://doi.org/10.7910/DVN/1APNEJ                     1.0   \n2  https://doi.org/10.7910/DVN/2JKWNS                     1.0   \n3  https://doi.org/10.7910/DVN/2JKWNS                     1.0   \n4  https://doi.org/10.7910/DVN/2JKWNS                     1.0   \n\n  dataset_version_create_time         authorName authorIdentifierScheme  \\\n0   2022-02-15 00:25:53+00:00  Rivero, Albert H.                    NaN   \n1   2021-09-21 23:49:12+00:00      Resh, William                    NaN   \n2   2021-04-18 20:57:41+00:00    Marble, William                    NaN   \n3   2021-04-18 20:57:41+00:00        Mousa,Salma                    NaN   \n4   2021-04-18 20:57:41+00:00   Siegel,Alexandra                    NaN   \n\n                        authorIdentifier  \n0                    0000-0002-9669-8452  \n1  https://orcid.org/0000-0002-2324-4118  \n2                    0000-0001-9352-5540  \n3                    0000-0002-1482-4276  \n4                    0000-0003-0792-7813  ",
      "text/html": "<div><div id=45757a6c-dbb1-4d2e-bce3-22f1d3a9f23e style=\"display:none; background-color:#9D6CFF; color:white; width:200px; height:30px; padding-left:5px; border-radius:4px; flex-direction:row; justify-content:space-around; align-items:center;\" onmouseover=\"this.style.backgroundColor='#BA9BF8'\" onmouseout=\"this.style.backgroundColor='#9D6CFF'\" onclick=\"window.commands?.execute('create-mitosheet-from-dataframe-output');\">See Full Dataframe in Mito</div> <script> if (window.commands.hasCommand('create-mitosheet-from-dataframe-output')) document.getElementById('45757a6c-dbb1-4d2e-bce3-22f1d3a9f23e').style.display = 'flex' </script> <table border=\"1\" class=\"dataframe\">\n  <thead>\n    <tr style=\"text-align: right;\">\n      <th></th>\n      <th>dataset_pid_url</th>\n      <th>dataset_version_number</th>\n      <th>dataset_version_create_time</th>\n      <th>authorName</th>\n      <th>authorIdentifierScheme</th>\n      <th>authorIdentifier</th>\n    </tr>\n  </thead>\n  <tbody>\n    <tr>\n      <th>0</th>\n      <td>https://doi.org/10.7910/DVN/0ILLXT</td>\n      <td>2.0</td>\n      <td>2022-02-15 00:25:53+00:00</td>\n      <td>Rivero, Albert H.</td>\n      <td>NaN</td>\n      <td>0000-0002-9669-8452</td>\n    </tr>\n    <tr>\n      <th>1</th>\n      <td>https://doi.org/10.7910/DVN/1APNEJ</td>\n      <td>1.0</td>\n      <td>2021-09-21 23:49:12+00:00</td>\n      <td>Resh, William</td>\n      <td>NaN</td>\n      <td>https://orcid.org/0000-0002-2324-4118</td>\n    </tr>\n    <tr>\n      <th>2</th>\n      <td>https://doi.org/10.7910/DVN/2JKWNS</td>\n      <td>1.0</td>\n      <td>2021-04-18 20:57:41+00:00</td>\n      <td>Marble, William</td>\n      <td>NaN</td>\n      <td>0000-0001-9352-5540</td>\n    </tr>\n    <tr>\n      <th>3</th>\n      <td>https://doi.org/10.7910/DVN/2JKWNS</td>\n      <td>1.0</td>\n      <td>2021-04-18 20:57:41+00:00</td>\n      <td>Mousa,Salma</td>\n      <td>NaN</td>\n      <td>0000-0002-1482-4276</td>\n    </tr>\n    <tr>\n      <th>4</th>\n      <td>https://doi.org/10.7910/DVN/2JKWNS</td>\n      <td>1.0</td>\n      <td>2021-04-18 20:57:41+00:00</td>\n      <td>Siegel,Alexandra</td>\n      <td>NaN</td>\n      <td>0000-0003-0792-7813</td>\n    </tr>\n  </tbody>\n</table></div>"
     },
     "execution_count": 65,
     "metadata": {},
     "output_type": "execute_result"
    }
   ],
   "source": [
    "# Of the 155,445 authors, how many have values in the Author Identifier field but not the Author Identifier Scheme field?\n",
    "\n",
    "authorIdentifiersMissingScheme = (\n",
    "    authorMetadataLatestVersionDF\n",
    "        .drop(columns=['authorAffiliation'])\n",
    "        .query(\n",
    "            'authorIdentifier == authorIdentifier and\\\n",
    "            authorIdentifierScheme != authorIdentifierScheme')\n",
    "        .reset_index(drop=True, inplace=False)\n",
    "                  )\n",
    "\n",
    "authorIdentifiersMissingScheme.head()"
   ],
   "metadata": {
    "collapsed": false,
    "pycharm": {
     "name": "#%%\n"
    }
   }
  },
  {
   "cell_type": "code",
   "execution_count": 66,
   "outputs": [
    {
     "name": "stdout",
     "output_type": "stream",
     "text": [
      "Author identifier metadata with no identifier scheme: 274\n",
      "Number of datasets: 236\n"
     ]
    }
   ],
   "source": [
    "print(f'Author identifier metadata with no identifier scheme: {len(authorIdentifiersMissingScheme)}')\n",
    "print(f'Number of datasets: {(len(pd.unique(authorIdentifiersMissingScheme[\"dataset_pid_url\"])))}')"
   ],
   "metadata": {
    "collapsed": false,
    "pycharm": {
     "name": "#%%\n"
    }
   }
  },
  {
   "cell_type": "code",
   "execution_count": 67,
   "outputs": [
    {
     "data": {
      "text/plain": "                      dataset_pid_url  dataset_version_number  \\\n0  https://doi.org/10.7910/DVN/01LN9W                     1.0   \n1  https://doi.org/10.7910/DVN/02FGSY                     1.0   \n2  https://doi.org/10.7910/DVN/06EDUI                     2.0   \n3  https://doi.org/10.7910/DVN/08OJUV                     1.1   \n4  https://doi.org/10.7910/DVN/0AMJUC                     1.0   \n\n  dataset_version_create_time             authorName authorIdentifierScheme  \\\n0   2017-10-26 19:03:01+00:00           Perez, Efren                  ORCID   \n1   2020-02-16 02:41:41+00:00           Wen, Yangmao                  ORCID   \n2   2021-01-08 11:05:57+00:00       Schoolman, Ethan                  ORCID   \n3   2019-08-07 23:51:37+00:00  Dutkiewicz, Stephanie                  ORCID   \n4   2021-12-19 18:26:39+00:00           Eguda, Felix                  ORCID   \n\n  authorIdentifier  \n0              NaN  \n1              NaN  \n2              NaN  \n3              NaN  \n4              NaN  ",
      "text/html": "<div><div id=66fa7ab9-8fcb-4585-870d-1c5a9a968e14 style=\"display:none; background-color:#9D6CFF; color:white; width:200px; height:30px; padding-left:5px; border-radius:4px; flex-direction:row; justify-content:space-around; align-items:center;\" onmouseover=\"this.style.backgroundColor='#BA9BF8'\" onmouseout=\"this.style.backgroundColor='#9D6CFF'\" onclick=\"window.commands?.execute('create-mitosheet-from-dataframe-output');\">See Full Dataframe in Mito</div> <script> if (window.commands.hasCommand('create-mitosheet-from-dataframe-output')) document.getElementById('66fa7ab9-8fcb-4585-870d-1c5a9a968e14').style.display = 'flex' </script> <table border=\"1\" class=\"dataframe\">\n  <thead>\n    <tr style=\"text-align: right;\">\n      <th></th>\n      <th>dataset_pid_url</th>\n      <th>dataset_version_number</th>\n      <th>dataset_version_create_time</th>\n      <th>authorName</th>\n      <th>authorIdentifierScheme</th>\n      <th>authorIdentifier</th>\n    </tr>\n  </thead>\n  <tbody>\n    <tr>\n      <th>0</th>\n      <td>https://doi.org/10.7910/DVN/01LN9W</td>\n      <td>1.0</td>\n      <td>2017-10-26 19:03:01+00:00</td>\n      <td>Perez, Efren</td>\n      <td>ORCID</td>\n      <td>NaN</td>\n    </tr>\n    <tr>\n      <th>1</th>\n      <td>https://doi.org/10.7910/DVN/02FGSY</td>\n      <td>1.0</td>\n      <td>2020-02-16 02:41:41+00:00</td>\n      <td>Wen, Yangmao</td>\n      <td>ORCID</td>\n      <td>NaN</td>\n    </tr>\n    <tr>\n      <th>2</th>\n      <td>https://doi.org/10.7910/DVN/06EDUI</td>\n      <td>2.0</td>\n      <td>2021-01-08 11:05:57+00:00</td>\n      <td>Schoolman, Ethan</td>\n      <td>ORCID</td>\n      <td>NaN</td>\n    </tr>\n    <tr>\n      <th>3</th>\n      <td>https://doi.org/10.7910/DVN/08OJUV</td>\n      <td>1.1</td>\n      <td>2019-08-07 23:51:37+00:00</td>\n      <td>Dutkiewicz, Stephanie</td>\n      <td>ORCID</td>\n      <td>NaN</td>\n    </tr>\n    <tr>\n      <th>4</th>\n      <td>https://doi.org/10.7910/DVN/0AMJUC</td>\n      <td>1.0</td>\n      <td>2021-12-19 18:26:39+00:00</td>\n      <td>Eguda, Felix</td>\n      <td>ORCID</td>\n      <td>NaN</td>\n    </tr>\n  </tbody>\n</table></div>"
     },
     "execution_count": 67,
     "metadata": {},
     "output_type": "execute_result"
    }
   ],
   "source": [
    "# Of the 155,445 authors, how many have values in the Author Scheme field but not in the Author Identifier field?\n",
    "\n",
    "authorIdentifierSchemeMissingIdentifier = (\n",
    "    authorMetadataLatestVersionDF\n",
    "        .drop(columns=['authorAffiliation'])\n",
    "        .query(\n",
    "        'authorIdentifier != authorIdentifier and\\\n",
    "        authorIdentifierScheme == authorIdentifierScheme')\n",
    "        .reset_index(drop=True, inplace=False)\n",
    ")\n",
    "\n",
    "authorIdentifierSchemeMissingIdentifier.head()"
   ],
   "metadata": {
    "collapsed": false,
    "pycharm": {
     "name": "#%%\n"
    }
   }
  },
  {
   "cell_type": "code",
   "execution_count": 68,
   "outputs": [
    {
     "name": "stdout",
     "output_type": "stream",
     "text": [
      "Author identifier scheme metadata with no identifier: 1155\n",
      "Number of datasets: 998\n"
     ]
    }
   ],
   "source": [
    "print(f'Author identifier scheme metadata with no identifier: {len(authorIdentifierSchemeMissingIdentifier)}')\n",
    "print(f'Number of datasets: {(len(pd.unique(authorIdentifierSchemeMissingIdentifier[\"dataset_pid_url\"])))}')"
   ],
   "metadata": {
    "collapsed": false,
    "pycharm": {
     "name": "#%%\n"
    }
   }
  },
  {
   "cell_type": "code",
   "execution_count": 58,
   "outputs": [
    {
     "data": {
      "text/plain": "                      dataset_pid_url  dataset_version_number  \\\n0  https://doi.org/10.7910/DVN/00INMO                     1.0   \n1  https://doi.org/10.7910/DVN/00WMEO                     1.0   \n2  https://doi.org/10.7910/DVN/01BU1N                     1.0   \n3  https://doi.org/10.7910/DVN/01BU1N                     1.0   \n4  https://doi.org/10.7910/DVN/01KX3V                     4.0   \n\n  dataset_version_create_time        authorName authorIdentifierScheme  \\\n0   2021-10-20 06:53:39+00:00       Yozo Mitsui                  ORCID   \n1   2020-06-06 01:16:06+00:00  Nolte, Christoph                  ORCID   \n2   2022-02-03 18:14:17+00:00      Wolaver, Amy                  ORCID   \n3   2022-02-03 18:14:17+00:00       Doces, John                  ORCID   \n4   2016-12-07 13:19:48+00:00       Zhong, Qing                  ORCID   \n\n                authorIdentifier  \n0  orcid.org/0000-0003-2919-0058  \n1            0000-0001-7827-689X  \n2            0000-0002-0905-9397  \n3            0000-0002-4671-2885  \n4            0000-0002-5340-301X  ",
      "text/html": "<div><div id=c1aba010-2bc2-4bb0-8e30-7f3f8641950b style=\"display:none; background-color:#9D6CFF; color:white; width:200px; height:30px; padding-left:5px; border-radius:4px; flex-direction:row; justify-content:space-around; align-items:center;\" onmouseover=\"this.style.backgroundColor='#BA9BF8'\" onmouseout=\"this.style.backgroundColor='#9D6CFF'\" onclick=\"window.commands?.execute('create-mitosheet-from-dataframe-output');\">See Full Dataframe in Mito</div> <script> if (window.commands.hasCommand('create-mitosheet-from-dataframe-output')) document.getElementById('c1aba010-2bc2-4bb0-8e30-7f3f8641950b').style.display = 'flex' </script> <table border=\"1\" class=\"dataframe\">\n  <thead>\n    <tr style=\"text-align: right;\">\n      <th></th>\n      <th>dataset_pid_url</th>\n      <th>dataset_version_number</th>\n      <th>dataset_version_create_time</th>\n      <th>authorName</th>\n      <th>authorIdentifierScheme</th>\n      <th>authorIdentifier</th>\n    </tr>\n  </thead>\n  <tbody>\n    <tr>\n      <th>0</th>\n      <td>https://doi.org/10.7910/DVN/00INMO</td>\n      <td>1.0</td>\n      <td>2021-10-20 06:53:39+00:00</td>\n      <td>Yozo Mitsui</td>\n      <td>ORCID</td>\n      <td>orcid.org/0000-0003-2919-0058</td>\n    </tr>\n    <tr>\n      <th>1</th>\n      <td>https://doi.org/10.7910/DVN/00WMEO</td>\n      <td>1.0</td>\n      <td>2020-06-06 01:16:06+00:00</td>\n      <td>Nolte, Christoph</td>\n      <td>ORCID</td>\n      <td>0000-0001-7827-689X</td>\n    </tr>\n    <tr>\n      <th>2</th>\n      <td>https://doi.org/10.7910/DVN/01BU1N</td>\n      <td>1.0</td>\n      <td>2022-02-03 18:14:17+00:00</td>\n      <td>Wolaver, Amy</td>\n      <td>ORCID</td>\n      <td>0000-0002-0905-9397</td>\n    </tr>\n    <tr>\n      <th>3</th>\n      <td>https://doi.org/10.7910/DVN/01BU1N</td>\n      <td>1.0</td>\n      <td>2022-02-03 18:14:17+00:00</td>\n      <td>Doces, John</td>\n      <td>ORCID</td>\n      <td>0000-0002-4671-2885</td>\n    </tr>\n    <tr>\n      <th>4</th>\n      <td>https://doi.org/10.7910/DVN/01KX3V</td>\n      <td>4.0</td>\n      <td>2016-12-07 13:19:48+00:00</td>\n      <td>Zhong, Qing</td>\n      <td>ORCID</td>\n      <td>0000-0002-5340-301X</td>\n    </tr>\n  </tbody>\n</table></div>"
     },
     "execution_count": 58,
     "metadata": {},
     "output_type": "execute_result"
    }
   ],
   "source": [
    "# Number of author metadata values with ORCIDs\n",
    "authorMetadataWithORCIDs = (\n",
    "    authorMetadataWithIdentifiers\n",
    "        .query(\n",
    "            '~authorIdentifier.str.contains(\"orcid.org\").values or\\\n",
    "            authorIdentifierScheme == \"ORCID\"')\n",
    "        .reset_index(drop=True, inplace=False)\n",
    ")\n",
    "\n",
    "authorMetadataWithORCIDs.head()"
   ],
   "metadata": {
    "collapsed": false,
    "pycharm": {
     "name": "#%%\n"
    }
   }
  },
  {
   "cell_type": "code",
   "execution_count": 59,
   "outputs": [
    {
     "name": "stdout",
     "output_type": "stream",
     "text": [
      "Author metadata with ORCID IDs: 19037\n",
      "Number of datasets: 12121\n"
     ]
    }
   ],
   "source": [
    "print(f'Author metadata with ORCID IDs: {len(authorMetadataWithORCIDs)}')\n",
    "print(f'Number of datasets: {(len(pd.unique(authorMetadataWithORCIDs[\"dataset_pid_url\"])))}')"
   ],
   "metadata": {
    "collapsed": false,
    "pycharm": {
     "name": "#%%\n"
    }
   }
  },
  {
   "cell_type": "code",
   "execution_count": null,
   "outputs": [],
   "source": [],
   "metadata": {
    "collapsed": false,
    "pycharm": {
     "name": "#%%\n"
    }
   }
  }
 ],
 "metadata": {
  "kernelspec": {
   "display_name": "Python 3",
   "language": "python",
   "name": "python3"
  },
  "language_info": {
   "codemirror_mode": {
    "name": "ipython",
    "version": 2
   },
   "file_extension": ".py",
   "mimetype": "text/x-python",
   "name": "python",
   "nbconvert_exporter": "python",
   "pygments_lexer": "ipython2",
   "version": "2.7.6"
  }
 },
 "nbformat": 4,
 "nbformat_minor": 0
}