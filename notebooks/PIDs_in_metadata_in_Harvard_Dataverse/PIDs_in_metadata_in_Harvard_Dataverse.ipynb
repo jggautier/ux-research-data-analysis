{
 "cells": [
  {
   "cell_type": "code",
   "execution_count": 1,
   "metadata": {
    "collapsed": true
   },
   "outputs": [],
   "source": [
    "from functools import reduce\n",
    "import numpy as np\n",
    "import pandas as pd"
   ]
  },
  {
   "cell_type": "code",
   "execution_count": 35,
   "outputs": [
    {
     "data": {
      "text/plain": "                      dataset_pid_url  dataset_version_number  \\\n0  https://doi.org/10.7910/DVN/5PRYPC                     4.0   \n1   https://doi.org/10.7910/DVN/VIE1H                   248.0   \n2  https://doi.org/10.7910/DVN/KKUJWW                     1.0   \n3  https://doi.org/10.7910/DVN/5E6GBN                     1.2   \n4  https://doi.org/10.7910/DVN/9MKISZ                    10.0   \n\n  dataset_version_create_time  \n0   2020-06-17 23:49:50+00:00  \n1   2015-06-18 19:49:12+00:00  \n2   2015-07-15 00:57:41+00:00  \n3   2020-04-05 21:32:37+00:00  \n4   2013-01-29 23:42:10+00:00  ",
      "text/html": "<div><div id=ba96b918-e4a5-4423-bfc2-032dfe0ade2f style=\"display:none; background-color:#9D6CFF; color:white; width:200px; height:30px; padding-left:5px; border-radius:4px; flex-direction:row; justify-content:space-around; align-items:center;\" onmouseover=\"this.style.backgroundColor='#BA9BF8'\" onmouseout=\"this.style.backgroundColor='#9D6CFF'\" onclick=\"window.commands?.execute('create-mitosheet-from-dataframe-output');\">See Full Dataframe in Mito</div> <script> if (window.commands.hasCommand('create-mitosheet-from-dataframe-output')) document.getElementById('ba96b918-e4a5-4423-bfc2-032dfe0ade2f').style.display = 'flex' </script> <table border=\"1\" class=\"dataframe\">\n  <thead>\n    <tr style=\"text-align: right;\">\n      <th></th>\n      <th>dataset_pid_url</th>\n      <th>dataset_version_number</th>\n      <th>dataset_version_create_time</th>\n    </tr>\n  </thead>\n  <tbody>\n    <tr>\n      <th>0</th>\n      <td>https://doi.org/10.7910/DVN/5PRYPC</td>\n      <td>4.0</td>\n      <td>2020-06-17 23:49:50+00:00</td>\n    </tr>\n    <tr>\n      <th>1</th>\n      <td>https://doi.org/10.7910/DVN/VIE1H</td>\n      <td>248.0</td>\n      <td>2015-06-18 19:49:12+00:00</td>\n    </tr>\n    <tr>\n      <th>2</th>\n      <td>https://doi.org/10.7910/DVN/KKUJWW</td>\n      <td>1.0</td>\n      <td>2015-07-15 00:57:41+00:00</td>\n    </tr>\n    <tr>\n      <th>3</th>\n      <td>https://doi.org/10.7910/DVN/5E6GBN</td>\n      <td>1.2</td>\n      <td>2020-04-05 21:32:37+00:00</td>\n    </tr>\n    <tr>\n      <th>4</th>\n      <td>https://doi.org/10.7910/DVN/9MKISZ</td>\n      <td>10.0</td>\n      <td>2013-01-29 23:42:10+00:00</td>\n    </tr>\n  </tbody>\n</table></div>"
     },
     "execution_count": 35,
     "metadata": {},
     "output_type": "execute_result"
    }
   ],
   "source": [
    "# Import, format and filter basic metadata of all dataset versions\n",
    "datasetVersionMetadataHDVDF = (pd\n",
    "    .read_csv(\n",
    "        'basic_metadata_2022.10.02-2022.10.03.csv',\n",
    "        usecols=lambda x: x not in [\n",
    "            'dataset_pid', 'dataset_publication_date',\n",
    "            'dataset_version_state'],\n",
    "        parse_dates=['dataset_version_create_time'],\n",
    "        sep=',', na_filter=False)\n",
    "    .query('(publisher == \"Harvard Dataverse\")')\n",
    "    .drop(columns=['publisher'])\n",
    "    .reset_index(drop=True, inplace=False)\n",
    ")\n",
    "\n",
    "# dateColumns = ['dataset_version_create_time']\n",
    "# datasetVersionMetadataHDVDF[dateColumns] = datasetVersionMetadataHDVDF[dateColumns].apply(pd.to_datetime)\n",
    "\n",
    "datasetVersionMetadataHDVDF.head()"
   ],
   "metadata": {
    "collapsed": false,
    "pycharm": {
     "name": "#%%\n"
    }
   }
  },
  {
   "cell_type": "code",
   "execution_count": 31,
   "outputs": [
    {
     "name": "stdout",
     "output_type": "stream",
     "text": [
      "Count of dataset versions: 130768\n",
      "Number of datasets: 80278\n"
     ]
    }
   ],
   "source": [
    "print(f'Count of dataset versions: {len(datasetVersionMetadataHDVDF)}')\n",
    "print(f'Number of datasets: {(len(pd.unique(datasetVersionMetadataHDVDF[\"dataset_pid_url\"])))}')"
   ],
   "metadata": {
    "collapsed": false,
    "pycharm": {
     "name": "#%%\n"
    }
   }
  },
  {
   "cell_type": "code",
   "execution_count": 36,
   "outputs": [],
   "source": [
    "latestDatasetVersionsHDVDF = (\n",
    "    datasetVersionMetadataHDVDF\n",
    "        .iloc[\n",
    "            datasetVersionMetadataHDVDF\n",
    "                .groupby('dataset_pid_url')['dataset_version_create_time']\n",
    "                .agg(pd.Series.idxmax)]\n",
    "        .reset_index(drop=True, inplace=False))"
   ],
   "metadata": {
    "collapsed": false,
    "pycharm": {
     "name": "#%%\n"
    }
   }
  },
  {
   "cell_type": "code",
   "execution_count": 37,
   "outputs": [
    {
     "data": {
      "text/plain": "                      dataset_pid_url  dataset_version_number  \\\n0   https://doi.org/10.7910/DVN/00234                     1.0   \n1  https://doi.org/10.7910/DVN/004HG6                     1.0   \n2  https://doi.org/10.7910/DVN/005SCF                     1.0   \n3  https://doi.org/10.7910/DVN/006UPU                     1.0   \n4   https://doi.org/10.7910/DVN/007GT                     5.0   \n\n  dataset_version_create_time  \n0   2014-03-23 22:12:34+00:00  \n1   2020-08-28 15:42:11+00:00  \n2   2021-08-26 03:17:40+00:00  \n3   2021-08-13 18:15:36+00:00  \n4   2017-02-05 23:43:33+00:00  ",
      "text/html": "<div><div id=6df4f753-cef5-4319-b472-ae022ad83f36 style=\"display:none; background-color:#9D6CFF; color:white; width:200px; height:30px; padding-left:5px; border-radius:4px; flex-direction:row; justify-content:space-around; align-items:center;\" onmouseover=\"this.style.backgroundColor='#BA9BF8'\" onmouseout=\"this.style.backgroundColor='#9D6CFF'\" onclick=\"window.commands?.execute('create-mitosheet-from-dataframe-output');\">See Full Dataframe in Mito</div> <script> if (window.commands.hasCommand('create-mitosheet-from-dataframe-output')) document.getElementById('6df4f753-cef5-4319-b472-ae022ad83f36').style.display = 'flex' </script> <table border=\"1\" class=\"dataframe\">\n  <thead>\n    <tr style=\"text-align: right;\">\n      <th></th>\n      <th>dataset_pid_url</th>\n      <th>dataset_version_number</th>\n      <th>dataset_version_create_time</th>\n    </tr>\n  </thead>\n  <tbody>\n    <tr>\n      <th>0</th>\n      <td>https://doi.org/10.7910/DVN/00234</td>\n      <td>1.0</td>\n      <td>2014-03-23 22:12:34+00:00</td>\n    </tr>\n    <tr>\n      <th>1</th>\n      <td>https://doi.org/10.7910/DVN/004HG6</td>\n      <td>1.0</td>\n      <td>2020-08-28 15:42:11+00:00</td>\n    </tr>\n    <tr>\n      <th>2</th>\n      <td>https://doi.org/10.7910/DVN/005SCF</td>\n      <td>1.0</td>\n      <td>2021-08-26 03:17:40+00:00</td>\n    </tr>\n    <tr>\n      <th>3</th>\n      <td>https://doi.org/10.7910/DVN/006UPU</td>\n      <td>1.0</td>\n      <td>2021-08-13 18:15:36+00:00</td>\n    </tr>\n    <tr>\n      <th>4</th>\n      <td>https://doi.org/10.7910/DVN/007GT</td>\n      <td>5.0</td>\n      <td>2017-02-05 23:43:33+00:00</td>\n    </tr>\n  </tbody>\n</table></div>"
     },
     "execution_count": 37,
     "metadata": {},
     "output_type": "execute_result"
    }
   ],
   "source": [
    "latestDatasetVersionsHDVDF.head()"
   ],
   "metadata": {
    "collapsed": false,
    "pycharm": {
     "name": "#%%\n"
    }
   }
  },
  {
   "cell_type": "code",
   "execution_count": 38,
   "outputs": [
    {
     "name": "stdout",
     "output_type": "stream",
     "text": [
      "Count of dataset versions: 80278\n",
      "Number of datasets: 80278\n"
     ]
    }
   ],
   "source": [
    "print(f'Count of dataset versions: {len(latestDatasetVersionsHDVDF)}')\n",
    "print(f'Number of datasets: {(len(pd.unique(latestDatasetVersionsHDVDF[\"dataset_pid_url\"])))}')"
   ],
   "metadata": {
    "collapsed": false,
    "pycharm": {
     "name": "#%%\n"
    }
   }
  },
  {
   "cell_type": "code",
   "execution_count": null,
   "outputs": [],
   "source": [],
   "metadata": {
    "collapsed": false,
    "pycharm": {
     "name": "#%%\n"
    }
   }
  }
 ],
 "metadata": {
  "kernelspec": {
   "display_name": "Python 3",
   "language": "python",
   "name": "python3"
  },
  "language_info": {
   "codemirror_mode": {
    "name": "ipython",
    "version": 2
   },
   "file_extension": ".py",
   "mimetype": "text/x-python",
   "name": "python",
   "nbconvert_exporter": "python",
   "pygments_lexer": "ipython2",
   "version": "2.7.6"
  }
 },
 "nbformat": 4,
 "nbformat_minor": 0
}