{
 "cells": [
  {
   "cell_type": "code",
   "execution_count": 1,
   "metadata": {
    "collapsed": true
   },
   "outputs": [],
   "source": [
    "from functools import reduce\n",
    "import numpy as np\n",
    "import pandas as pd"
   ]
  },
  {
   "cell_type": "code",
   "execution_count": 8,
   "outputs": [
    {
     "data": {
      "text/plain": "                       dataset_pid_url  dataset_version_number  \\\n2   https://doi.org/10.7910/DVN/5PRYPC                     4.0   \n4    https://doi.org/10.7910/DVN/VIE1H                   248.0   \n7   https://doi.org/10.7910/DVN/KKUJWW                     1.0   \n9   https://doi.org/10.7910/DVN/5E6GBN                     1.2   \n11  https://doi.org/10.7910/DVN/9MKISZ                    10.0   \n\n   dataset_version_create_time          publisher  \n2    2020-06-17 23:49:50+00:00  Harvard Dataverse  \n4    2015-06-18 19:49:12+00:00  Harvard Dataverse  \n7    2015-07-15 00:57:41+00:00  Harvard Dataverse  \n9    2020-04-05 21:32:37+00:00  Harvard Dataverse  \n11   2013-01-29 23:42:10+00:00  Harvard Dataverse  ",
      "text/html": "<div><div id=0c374ac8-3644-4a36-a165-4afc11798817 style=\"display:none; background-color:#9D6CFF; color:white; width:200px; height:30px; padding-left:5px; border-radius:4px; flex-direction:row; justify-content:space-around; align-items:center;\" onmouseover=\"this.style.backgroundColor='#BA9BF8'\" onmouseout=\"this.style.backgroundColor='#9D6CFF'\" onclick=\"window.commands?.execute('create-mitosheet-from-dataframe-output');\">See Full Dataframe in Mito</div> <script> if (window.commands.hasCommand('create-mitosheet-from-dataframe-output')) document.getElementById('0c374ac8-3644-4a36-a165-4afc11798817').style.display = 'flex' </script> <table border=\"1\" class=\"dataframe\">\n  <thead>\n    <tr style=\"text-align: right;\">\n      <th></th>\n      <th>dataset_pid_url</th>\n      <th>dataset_version_number</th>\n      <th>dataset_version_create_time</th>\n      <th>publisher</th>\n    </tr>\n  </thead>\n  <tbody>\n    <tr>\n      <th>2</th>\n      <td>https://doi.org/10.7910/DVN/5PRYPC</td>\n      <td>4.0</td>\n      <td>2020-06-17 23:49:50+00:00</td>\n      <td>Harvard Dataverse</td>\n    </tr>\n    <tr>\n      <th>4</th>\n      <td>https://doi.org/10.7910/DVN/VIE1H</td>\n      <td>248.0</td>\n      <td>2015-06-18 19:49:12+00:00</td>\n      <td>Harvard Dataverse</td>\n    </tr>\n    <tr>\n      <th>7</th>\n      <td>https://doi.org/10.7910/DVN/KKUJWW</td>\n      <td>1.0</td>\n      <td>2015-07-15 00:57:41+00:00</td>\n      <td>Harvard Dataverse</td>\n    </tr>\n    <tr>\n      <th>9</th>\n      <td>https://doi.org/10.7910/DVN/5E6GBN</td>\n      <td>1.2</td>\n      <td>2020-04-05 21:32:37+00:00</td>\n      <td>Harvard Dataverse</td>\n    </tr>\n    <tr>\n      <th>11</th>\n      <td>https://doi.org/10.7910/DVN/9MKISZ</td>\n      <td>10.0</td>\n      <td>2013-01-29 23:42:10+00:00</td>\n      <td>Harvard Dataverse</td>\n    </tr>\n  </tbody>\n</table></div>"
     },
     "execution_count": 8,
     "metadata": {},
     "output_type": "execute_result"
    }
   ],
   "source": [
    "# Import, format and filter basic metadata of all dataset versions\n",
    "datasetVersionMetadataDF = (pd\n",
    "    .read_csv(\n",
    "        'basic_metadata_2022.10.02-2022.10.03.csv',\n",
    "        usecols=lambda x: x not in [\n",
    "            'dataset_pid', 'dataset_publication_date',\n",
    "            'dataset_version_state'],\n",
    "        parse_dates=['dataset_version_create_time'],\n",
    "        sep=',', na_filter=False)\n",
    "    .query('(publisher == \"Harvard Dataverse\")')\n",
    ")\n",
    "\n",
    "datasetVersionMetadataHDVDF.head()"
   ],
   "metadata": {
    "collapsed": false,
    "pycharm": {
     "name": "#%%\n"
    }
   }
  },
  {
   "cell_type": "code",
   "execution_count": 9,
   "outputs": [
    {
     "name": "stdout",
     "output_type": "stream",
     "text": [
      "Count of dataset versions: 130768\n",
      "Number of datasets: 80278\n"
     ]
    }
   ],
   "source": [
    "print(f'Count of dataset versions: {len(datasetVersionMetadataHDVDF)}')\n",
    "print(f'Number of datasets: {(len(pd.unique(datasetVersionMetadataHDVDF[\"dataset_pid_url\"])))}')"
   ],
   "metadata": {
    "collapsed": false,
    "pycharm": {
     "name": "#%%\n"
    }
   }
  },
  {
   "cell_type": "code",
   "execution_count": null,
   "outputs": [],
   "source": [],
   "metadata": {
    "collapsed": false,
    "pycharm": {
     "name": "#%%\n"
    }
   }
  }
 ],
 "metadata": {
  "kernelspec": {
   "display_name": "Python 3",
   "language": "python",
   "name": "python3"
  },
  "language_info": {
   "codemirror_mode": {
    "name": "ipython",
    "version": 2
   },
   "file_extension": ".py",
   "mimetype": "text/x-python",
   "name": "python",
   "nbconvert_exporter": "python",
   "pygments_lexer": "ipython2",
   "version": "2.7.6"
  }
 },
 "nbformat": 4,
 "nbformat_minor": 0
}