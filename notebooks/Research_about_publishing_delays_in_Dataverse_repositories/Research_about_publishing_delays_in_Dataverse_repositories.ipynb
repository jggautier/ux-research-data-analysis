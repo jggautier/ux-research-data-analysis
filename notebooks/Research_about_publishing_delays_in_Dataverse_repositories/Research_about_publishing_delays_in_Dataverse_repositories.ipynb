{
 "cells": [
  {
   "cell_type": "markdown",
   "metadata": {},
   "source": [
    "# Goals"
   ]
  },
  {
   "cell_type": "markdown",
   "metadata": {},
   "source": [
    "The curation team at the Harvard Dataverse Repository has helped with cases where dataset depositors intend to publish datasets or publish updates to their datasets but are not able to due to some confusion caused by the UI and the dataset publishing workflow. For example, some depositors create and save datasets and either believe their unpublished datasets have been published or don't know what steps to take to take to publish the datasets. Other depositors who have published the first version of their datasets and intend to publish new versions either think they already have or don't know how to.\n",
    "\n",
    "The Dataverse team at IQSS is trying to measure the scope of this problem and measure the effect of solutions to the problem. An obvious effect of this problem is a delay in publishing datasets. In other words, datasets remain unpublished for longer than the depositor intended.\n",
    "\n",
    "To find potential cases where datasets that should be published remain unpublished, we can c"
   ]
  },
  {
   "cell_type": "code",
   "execution_count": null,
   "metadata": {},
   "outputs": [],
   "source": [
    "curatedCollectionsUNC = [\n",
    "    'Listening to Mothers Dataverse', \n",
    "    'National Network of State Polls Dataverse', \n",
    "    'Computer Administered Panel Study (CAPS) Dataverse', \n",
    "    'Carolina Poll Dataverse', \n",
    "    'UNC-Restricted Data Dataverse', \n",
    "    'USA Today Dataverse', \n",
    "    'Southern Focus Poll Dataverse', \n",
    "    'CD/DVD-ROM Collection Dataverse', \n",
    "    '1970 U.S. Census Data Dataverse', \n",
    "    'Louis Harris Data Center Dataverse', \n",
    "    'Southern Opinion Research Dataverse', \n",
    "    'General Social Science Data Dataverse'\n",
    "    ]"
   ]
  }
 ],
 "metadata": {
  "hide_input": false,
  "kernelspec": {
   "display_name": "Python 3",
   "language": "python",
   "name": "python3"
  },
  "language_info": {
   "codemirror_mode": {
    "name": "ipython",
    "version": 3
   },
   "file_extension": ".py",
   "mimetype": "text/x-python",
   "name": "python",
   "nbconvert_exporter": "python",
   "pygments_lexer": "ipython3",
   "version": "3.7.0"
  }
 },
 "nbformat": 4,
 "nbformat_minor": 4
}
