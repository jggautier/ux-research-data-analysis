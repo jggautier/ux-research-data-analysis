{
 "cells": [
  {
   "cell_type": "code",
   "execution_count": 1,
   "metadata": {
    "collapsed": true
   },
   "outputs": [],
   "source": [
    "from functools import reduce\n",
    "import numpy as np\n",
    "import pandas as pd"
   ]
  },
  {
   "cell_type": "markdown",
   "source": [
    "The Dataverse team is planning to add  additions to the dataset deposit form in the Harvard Dataverse Repository, we need to know:\n",
    "\n",
    "- In Dataverse repositories, how many datasets have funding metadata?\n",
    "- And among those, how many have funder names?\n",
    "- Which users include funding metadata in their deposits most often?"
   ],
   "metadata": {
    "collapsed": false,
    "pycharm": {
     "name": "#%% md\n"
    }
   }
  },
  {
   "cell_type": "markdown",
   "source": [
    "## Prepare the data"
   ],
   "metadata": {
    "collapsed": false,
    "pycharm": {
     "name": "#%% md\n"
    }
   }
  },
  {
   "cell_type": "code",
   "execution_count": 2,
   "outputs": [
    {
     "data": {
      "text/plain": "  installation                         dataset_pid_url dataverse_alias\n0       CIDACS  https://doi.org/10.57833/cidacs/WV4JWB        ProjZika\n1       CIDACS  https://doi.org/10.57833/cidacs/TGAIVO        ProjZika\n2       CIDACS  https://doi.org/10.57833/cidacs/0FZP7V        ProjZika\n3       CIDACS  https://doi.org/10.57833/cidacs/5BMSIX      ProjGates0\n4       CIDACS  https://doi.org/10.57833/cidacs/I56ZVA      ProjGates0",
      "text/html": "<div><div id=91454ff7-ee7e-4fa5-b3b6-2f940ad66dd4 style=\"display:none; background-color:#9D6CFF; color:white; width:200px; height:30px; padding-left:5px; border-radius:4px; flex-direction:row; justify-content:space-around; align-items:center;\" onmouseover=\"this.style.backgroundColor='#BA9BF8'\" onmouseout=\"this.style.backgroundColor='#9D6CFF'\" onclick=\"window.commands?.execute('create-mitosheet-from-dataframe-output');\">See Full Dataframe in Mito</div> <script> if (window.commands.hasCommand('create-mitosheet-from-dataframe-output')) document.getElementById('91454ff7-ee7e-4fa5-b3b6-2f940ad66dd4').style.display = 'flex' </script> <table border=\"1\" class=\"dataframe\">\n  <thead>\n    <tr style=\"text-align: right;\">\n      <th></th>\n      <th>installation</th>\n      <th>dataset_pid_url</th>\n      <th>dataverse_alias</th>\n    </tr>\n  </thead>\n  <tbody>\n    <tr>\n      <th>0</th>\n      <td>CIDACS</td>\n      <td>https://doi.org/10.57833/cidacs/WV4JWB</td>\n      <td>ProjZika</td>\n    </tr>\n    <tr>\n      <th>1</th>\n      <td>CIDACS</td>\n      <td>https://doi.org/10.57833/cidacs/TGAIVO</td>\n      <td>ProjZika</td>\n    </tr>\n    <tr>\n      <th>2</th>\n      <td>CIDACS</td>\n      <td>https://doi.org/10.57833/cidacs/0FZP7V</td>\n      <td>ProjZika</td>\n    </tr>\n    <tr>\n      <th>3</th>\n      <td>CIDACS</td>\n      <td>https://doi.org/10.57833/cidacs/5BMSIX</td>\n      <td>ProjGates0</td>\n    </tr>\n    <tr>\n      <th>4</th>\n      <td>CIDACS</td>\n      <td>https://doi.org/10.57833/cidacs/I56ZVA</td>\n      <td>ProjGates0</td>\n    </tr>\n  </tbody>\n</table></div>"
     },
     "execution_count": 2,
     "metadata": {},
     "output_type": "execute_result"
    }
   ],
   "source": [
    "# Import CSV file that lists PIDs of all datasets and which Dataverse installation\n",
    "# they're published in, removing the PIDs of datasets whose metadata could not be\n",
    "# saved, i.e. dataverse_json_export_saved is FALSE\n",
    "datasetPIDsDF = (pd\n",
    "    .read_csv(\n",
    "        'dataset_pids_from_most_known_dataverse_installations.csv',\n",
    "        usecols=lambda x: x not in ['dataset_pid', 'dataverse_name'],\n",
    "        sep=',', na_filter=False)\n",
    "     .query('(dataverse_json_export_saved == True)')\n",
    "     .drop(columns=['dataverse_json_export_saved'])\n",
    "     .reset_index(drop=True, inplace=False)\n",
    ")\n",
    "\n",
    "# Remove the PIDs of datasets whose metadata could not be saved, i.e. dataverse_json_export_saved is FALSE\n",
    "# datasetPIDsDF = (datasetPIDsDF\n",
    "#     .query('(dataverse_json_export_saved == True)')\n",
    "#     .drop(columns=['dataverse_json_export_saved'])\n",
    "#     .reset_index(drop=True, inplace=False)\n",
    "#     )\n",
    "\n",
    "datasetPIDsDF.head()"
   ],
   "metadata": {
    "collapsed": false,
    "pycharm": {
     "name": "#%%\n"
    }
   }
  },
  {
   "cell_type": "code",
   "execution_count": 3,
   "outputs": [
    {
     "data": {
      "text/plain": "                          dataset_pid_url  dataset_version_number  \\\n0     https://doi.org/10.48370/OFD/DBJUEM                     1.0   \n1     https://doi.org/10.21410/7E4/4WG94W                     2.1   \n2      https://doi.org/10.7910/DVN/5PRYPC                     4.0   \n3  https://doi.org/10.17026/dans-2zm-dsmz                     1.0   \n4       https://doi.org/10.7910/DVN/VIE1H                   248.0   \n\n  dataset_version_create_time  \n0   2022-05-25 10:17:50+00:00  \n1   2020-05-13 16:06:28+00:00  \n2   2020-06-17 23:49:50+00:00  \n3   2022-01-27 20:15:47+00:00  \n4   2015-06-18 19:49:12+00:00  ",
      "text/html": "<div><div id=8d6e4d74-dea2-4302-9c25-98aea57f8385 style=\"display:none; background-color:#9D6CFF; color:white; width:200px; height:30px; padding-left:5px; border-radius:4px; flex-direction:row; justify-content:space-around; align-items:center;\" onmouseover=\"this.style.backgroundColor='#BA9BF8'\" onmouseout=\"this.style.backgroundColor='#9D6CFF'\" onclick=\"window.commands?.execute('create-mitosheet-from-dataframe-output');\">See Full Dataframe in Mito</div> <script> if (window.commands.hasCommand('create-mitosheet-from-dataframe-output')) document.getElementById('8d6e4d74-dea2-4302-9c25-98aea57f8385').style.display = 'flex' </script> <table border=\"1\" class=\"dataframe\">\n  <thead>\n    <tr style=\"text-align: right;\">\n      <th></th>\n      <th>dataset_pid_url</th>\n      <th>dataset_version_number</th>\n      <th>dataset_version_create_time</th>\n    </tr>\n  </thead>\n  <tbody>\n    <tr>\n      <th>0</th>\n      <td>https://doi.org/10.48370/OFD/DBJUEM</td>\n      <td>1.0</td>\n      <td>2022-05-25 10:17:50+00:00</td>\n    </tr>\n    <tr>\n      <th>1</th>\n      <td>https://doi.org/10.21410/7E4/4WG94W</td>\n      <td>2.1</td>\n      <td>2020-05-13 16:06:28+00:00</td>\n    </tr>\n    <tr>\n      <th>2</th>\n      <td>https://doi.org/10.7910/DVN/5PRYPC</td>\n      <td>4.0</td>\n      <td>2020-06-17 23:49:50+00:00</td>\n    </tr>\n    <tr>\n      <th>3</th>\n      <td>https://doi.org/10.17026/dans-2zm-dsmz</td>\n      <td>1.0</td>\n      <td>2022-01-27 20:15:47+00:00</td>\n    </tr>\n    <tr>\n      <th>4</th>\n      <td>https://doi.org/10.7910/DVN/VIE1H</td>\n      <td>248.0</td>\n      <td>2015-06-18 19:49:12+00:00</td>\n    </tr>\n  </tbody>\n</table></div>"
     },
     "execution_count": 3,
     "metadata": {},
     "output_type": "execute_result"
    }
   ],
   "source": [
    "# Import basic metadata of all dataset versions\n",
    "datasetVersionMetadataDF = pd.read_csv(\n",
    "    'basic_metadata_2022.10.02-2022.10.03.csv',\n",
    "    usecols=lambda x: x not in [\n",
    "        'dataset_pid', 'dataset_publication_date',\n",
    "        'dataset_version_state', 'publisher'],\n",
    "    parse_dates=['dataset_version_create_time'],\n",
    "    sep=',', na_filter=False)\n",
    "\n",
    "# Make sure values in date columns are interpreted as dates\n",
    "# datasetVersionMetadataDF[dateColumns] = datasetVersionMetadataDF[['dataset_version_create_time']].apply(pd.to_datetime)\n",
    "\n",
    "datasetVersionMetadataDF.head()"
   ],
   "metadata": {
    "collapsed": false,
    "pycharm": {
     "name": "#%%\n"
    }
   }
  },
  {
   "cell_type": "code",
   "execution_count": 4,
   "outputs": [
    {
     "name": "stdout",
     "output_type": "stream",
     "text": [
      "Count of datasets: 340857\n",
      "Count of dataset versions: 473910\n"
     ]
    }
   ],
   "source": [
    "print(f'Count of datasets: {len(datasetPIDsDF)}')\n",
    "print(f'Count of dataset versions: {len(datasetVersionMetadataDF)}')"
   ],
   "metadata": {
    "collapsed": false,
    "pycharm": {
     "name": "#%%\n"
    }
   }
  },
  {
   "cell_type": "code",
   "execution_count": 6,
   "outputs": [
    {
     "data": {
      "text/plain": "                     dataset_pid_url  dataset_version_number  \\\n0  http://dx.doi.org/10.26193/00HBWG                     2.0   \n1  http://dx.doi.org/10.26193/01P0AI                     2.0   \n2  http://dx.doi.org/10.26193/04F7C1                     2.0   \n3  http://dx.doi.org/10.26193/07R31R                     2.0   \n4  http://dx.doi.org/10.26193/0AF6TZ                     5.0   \n\n  dataset_version_create_time  \n0   2019-05-13 08:43:01+00:00  \n1   2019-05-13 06:23:26+00:00  \n2   2019-05-13 10:02:15+00:00  \n3   2019-05-13 06:50:29+00:00  \n4   2022-02-02 23:01:26+00:00  ",
      "text/html": "<div><div id=1f3d4ff5-a71b-4961-b434-cf8da4c7c935 style=\"display:none; background-color:#9D6CFF; color:white; width:200px; height:30px; padding-left:5px; border-radius:4px; flex-direction:row; justify-content:space-around; align-items:center;\" onmouseover=\"this.style.backgroundColor='#BA9BF8'\" onmouseout=\"this.style.backgroundColor='#9D6CFF'\" onclick=\"window.commands?.execute('create-mitosheet-from-dataframe-output');\">See Full Dataframe in Mito</div> <script> if (window.commands.hasCommand('create-mitosheet-from-dataframe-output')) document.getElementById('1f3d4ff5-a71b-4961-b434-cf8da4c7c935').style.display = 'flex' </script> <table border=\"1\" class=\"dataframe\">\n  <thead>\n    <tr style=\"text-align: right;\">\n      <th></th>\n      <th>dataset_pid_url</th>\n      <th>dataset_version_number</th>\n      <th>dataset_version_create_time</th>\n    </tr>\n  </thead>\n  <tbody>\n    <tr>\n      <th>0</th>\n      <td>http://dx.doi.org/10.26193/00HBWG</td>\n      <td>2.0</td>\n      <td>2019-05-13 08:43:01+00:00</td>\n    </tr>\n    <tr>\n      <th>1</th>\n      <td>http://dx.doi.org/10.26193/01P0AI</td>\n      <td>2.0</td>\n      <td>2019-05-13 06:23:26+00:00</td>\n    </tr>\n    <tr>\n      <th>2</th>\n      <td>http://dx.doi.org/10.26193/04F7C1</td>\n      <td>2.0</td>\n      <td>2019-05-13 10:02:15+00:00</td>\n    </tr>\n    <tr>\n      <th>3</th>\n      <td>http://dx.doi.org/10.26193/07R31R</td>\n      <td>2.0</td>\n      <td>2019-05-13 06:50:29+00:00</td>\n    </tr>\n    <tr>\n      <th>4</th>\n      <td>http://dx.doi.org/10.26193/0AF6TZ</td>\n      <td>5.0</td>\n      <td>2022-02-02 23:01:26+00:00</td>\n    </tr>\n  </tbody>\n</table></div>"
     },
     "execution_count": 6,
     "metadata": {},
     "output_type": "execute_result"
    }
   ],
   "source": [
    "# From the datasetVersionMetadataDF, lets use the version publication dates to get the PIDs and dataset version numbers of only the most recently published versions of each dataset. The resulting dataframe should contain the same number of rows as the datasetPIDsDF.\n",
    "\n",
    "latestDatasetVersionsDF = (datasetVersionMetadataDF\n",
    "    .iloc[\n",
    "        datasetVersionMetadataDF\n",
    "        .groupby('dataset_pid_url')['dataset_version_create_time']\n",
    "        .agg(pd.Series.idxmax)]\n",
    "    .reset_index(drop=True, inplace=False))\n",
    "\n",
    "latestDatasetVersionsDF.head()"
   ],
   "metadata": {
    "collapsed": false,
    "pycharm": {
     "name": "#%%\n"
    }
   }
  },
  {
   "cell_type": "code",
   "execution_count": 7,
   "outputs": [
    {
     "name": "stdout",
     "output_type": "stream",
     "text": [
      "Count of datasets: 340857\n",
      "Count of rows in latestDatasetVersionsDF: 340857\n"
     ]
    }
   ],
   "source": [
    "print(f'Count of datasets: {len(datasetPIDsDF)}')\n",
    "print(f'Count of rows in latestDatasetVersionsDF: {len(latestDatasetVersionsDF)}')"
   ],
   "metadata": {
    "collapsed": false,
    "pycharm": {
     "name": "#%%\n"
    }
   }
  },
  {
   "cell_type": "code",
   "execution_count": 8,
   "outputs": [
    {
     "name": "stdout",
     "output_type": "stream",
     "text": [
      "340857\n"
     ]
    }
   ],
   "source": [
    "# Join the latestDatasetVersionsDF and the datasetPIDsDF to add the installation column,\n",
    "# so we know which installations published each dataset\n",
    "\n",
    "basicDatasetMetadataDF = (pd\n",
    "    .merge(latestDatasetVersionsDF, datasetPIDsDF,\n",
    "        how='inner',\n",
    "        on=['dataset_pid_url'])\n",
    "    .reset_index(drop=True, inplace=False))\n",
    "\n",
    "# Make sure the count of rows is the same as the count of total datasets: 340,857\n",
    "print(len(basicDatasetMetadataDF))"
   ],
   "metadata": {
    "collapsed": false,
    "pycharm": {
     "name": "#%%\n"
    }
   }
  },
  {
   "cell_type": "code",
   "execution_count": 9,
   "outputs": [
    {
     "data": {
      "text/plain": "                     dataset_pid_url  dataset_version_number  \\\n0  http://dx.doi.org/10.26193/00HBWG                     2.0   \n1  http://dx.doi.org/10.26193/01P0AI                     2.0   \n2  http://dx.doi.org/10.26193/04F7C1                     2.0   \n3  http://dx.doi.org/10.26193/07R31R                     2.0   \n4  http://dx.doi.org/10.26193/0AF6TZ                     5.0   \n\n  dataset_version_create_time   installation dataverse_alias  \n0   2019-05-13 08:43:01+00:00  ADA Dataverse              NA  \n1   2019-05-13 06:23:26+00:00  ADA Dataverse              NA  \n2   2019-05-13 10:02:15+00:00  ADA Dataverse              NA  \n3   2019-05-13 06:50:29+00:00  ADA Dataverse              NA  \n4   2022-02-02 23:01:26+00:00  ADA Dataverse              NA  ",
      "text/html": "<div><div id=e6de8d14-1530-4b26-a558-cfe7d2975b17 style=\"display:none; background-color:#9D6CFF; color:white; width:200px; height:30px; padding-left:5px; border-radius:4px; flex-direction:row; justify-content:space-around; align-items:center;\" onmouseover=\"this.style.backgroundColor='#BA9BF8'\" onmouseout=\"this.style.backgroundColor='#9D6CFF'\" onclick=\"window.commands?.execute('create-mitosheet-from-dataframe-output');\">See Full Dataframe in Mito</div> <script> if (window.commands.hasCommand('create-mitosheet-from-dataframe-output')) document.getElementById('e6de8d14-1530-4b26-a558-cfe7d2975b17').style.display = 'flex' </script> <table border=\"1\" class=\"dataframe\">\n  <thead>\n    <tr style=\"text-align: right;\">\n      <th></th>\n      <th>dataset_pid_url</th>\n      <th>dataset_version_number</th>\n      <th>dataset_version_create_time</th>\n      <th>installation</th>\n      <th>dataverse_alias</th>\n    </tr>\n  </thead>\n  <tbody>\n    <tr>\n      <th>0</th>\n      <td>http://dx.doi.org/10.26193/00HBWG</td>\n      <td>2.0</td>\n      <td>2019-05-13 08:43:01+00:00</td>\n      <td>ADA Dataverse</td>\n      <td>NA</td>\n    </tr>\n    <tr>\n      <th>1</th>\n      <td>http://dx.doi.org/10.26193/01P0AI</td>\n      <td>2.0</td>\n      <td>2019-05-13 06:23:26+00:00</td>\n      <td>ADA Dataverse</td>\n      <td>NA</td>\n    </tr>\n    <tr>\n      <th>2</th>\n      <td>http://dx.doi.org/10.26193/04F7C1</td>\n      <td>2.0</td>\n      <td>2019-05-13 10:02:15+00:00</td>\n      <td>ADA Dataverse</td>\n      <td>NA</td>\n    </tr>\n    <tr>\n      <th>3</th>\n      <td>http://dx.doi.org/10.26193/07R31R</td>\n      <td>2.0</td>\n      <td>2019-05-13 06:50:29+00:00</td>\n      <td>ADA Dataverse</td>\n      <td>NA</td>\n    </tr>\n    <tr>\n      <th>4</th>\n      <td>http://dx.doi.org/10.26193/0AF6TZ</td>\n      <td>5.0</td>\n      <td>2022-02-02 23:01:26+00:00</td>\n      <td>ADA Dataverse</td>\n      <td>NA</td>\n    </tr>\n  </tbody>\n</table></div>"
     },
     "execution_count": 9,
     "metadata": {},
     "output_type": "execute_result"
    }
   ],
   "source": [
    "basicDatasetMetadataDF.head()"
   ],
   "metadata": {
    "collapsed": false,
    "pycharm": {
     "name": "#%%\n"
    }
   }
  },
  {
   "cell_type": "code",
   "execution_count": 10,
   "outputs": [],
   "source": [
    "# basicDatasetMetadataDF.to_csv('basicDatasetMetadataDF.csv', index=False)"
   ],
   "metadata": {
    "collapsed": false,
    "pycharm": {
     "name": "#%%\n"
    }
   }
  },
  {
   "cell_type": "code",
   "execution_count": 11,
   "outputs": [
    {
     "name": "stdout",
     "output_type": "stream",
     "text": [
      "Count of rows in grantInformationMetadataDF: 124072\n"
     ]
    }
   ],
   "source": [
    "# Import funding metadata, dropping the dataset_pid column\n",
    "grantInformationMetadataDF = pd.read_csv(\n",
    "    'grant_information(citation)_2022.10.02-2022.10.03.csv',\n",
    "    usecols=lambda x: x not in ['dataset_pid'],\n",
    "    # sep=',', na_filter=False)\n",
    "    sep=',')\n",
    "\n",
    "print(f'Count of rows in grantInformationMetadataDF: {len(grantInformationMetadataDF)}')"
   ],
   "metadata": {
    "collapsed": false,
    "pycharm": {
     "name": "#%%\n"
    }
   }
  },
  {
   "cell_type": "code",
   "execution_count": 12,
   "outputs": [],
   "source": [
    "# Join grantInformationMetadataDF with basicDatasetMetadataDF to retain metadata of\n",
    "# each dataset's latest version\n",
    "\n",
    "grantInformationLatestVersionDF = (pd\n",
    "    .merge(grantInformationMetadataDF, basicDatasetMetadataDF,\n",
    "        how='inner',\n",
    "        on=['dataset_pid_url', 'dataset_version_number'])\n",
    "    .drop(columns=[\n",
    "        'dataset_version_create_time', 'installation',\n",
    "        'dataverse_alias'])\n",
    "    .reset_index(drop=True, inplace=False))"
   ],
   "metadata": {
    "collapsed": false,
    "pycharm": {
     "name": "#%%\n"
    }
   }
  },
  {
   "cell_type": "code",
   "execution_count": 13,
   "outputs": [
    {
     "name": "stdout",
     "output_type": "stream",
     "text": [
      "126012\n"
     ]
    }
   ],
   "source": [
    "# Import contributor metadata, where a funding agency might be listed as a contributor\n",
    "contributorMetadataDF = pd.read_csv(\n",
    "    'contributor(citation)_2022.10.02-2022.10.03.csv',\n",
    "    usecols=lambda x: x not in ['dataset_pid'],\n",
    "    sep=',', na_filter=False)\n",
    "\n",
    "print(len(contributorMetadataDF))"
   ],
   "metadata": {
    "collapsed": false,
    "pycharm": {
     "name": "#%%\n"
    }
   }
  },
  {
   "cell_type": "code",
   "execution_count": 14,
   "outputs": [],
   "source": [
    "# Join contributorMetadataDF with basicDatasetMetadataDF to retain metadata of\n",
    "# each dataset's latest version\n",
    "\n",
    "contributorLatestVersionDF = (pd\n",
    "    .merge(contributorMetadataDF, basicDatasetMetadataDF,\n",
    "        how='inner',\n",
    "        on=['dataset_pid_url', 'dataset_version_number'])\n",
    "    .drop(columns=[\n",
    "        'dataset_version_create_time', 'installation',\n",
    "        'dataverse_alias'])\n",
    "    .reset_index(drop=True, inplace=False))\n",
    "\n",
    "# contributorLatestVersionDF = contributorLatestVersionDF.drop(columns=[\n",
    "#     'dataset_version_create_time', 'installation', 'dataverse_alias'])"
   ],
   "metadata": {
    "collapsed": false,
    "pycharm": {
     "name": "#%%\n"
    }
   }
  },
  {
   "cell_type": "code",
   "execution_count": 16,
   "outputs": [
    {
     "name": "stdout",
     "output_type": "stream",
     "text": [
      "Columns in basicDatasetMetadataDF:)\n",
      "dataset_pid_url\n",
      "dataset_version_number\n",
      "dataset_version_create_time\n",
      "installation\n",
      "dataverse_alias\n",
      "\n",
      "Columns in grantInformationLatestVersionDF:\n",
      "dataset_pid_url\n",
      "dataset_version_number\n",
      "grantNumberAgency\n",
      "grantNumberValue\n",
      "\n",
      "Columns in contributorLatestVersionDF:\n",
      "dataset_pid_url\n",
      "dataset_version_number\n",
      "contributorType\n",
      "contributorName\n"
     ]
    }
   ],
   "source": [
    "# Check the columns on all three dataframes basicDatasetMetadataDF, grantInformationLatestVersionDF and contributorLatestVersionDF\n",
    "# All three dataframes should have the 'dataset_pid_url' and 'dataset_version_number' columns\n",
    "\n",
    "print('Columns in basicDatasetMetadataDF:')\n",
    "for i in list(basicDatasetMetadataDF.columns):\n",
    "    print(i)\n",
    "print(f'\\nColumns in grantInformationLatestVersionDF:')\n",
    "for i in list(grantInformationLatestVersionDF.columns):\n",
    "    print(i)\n",
    "print(f'\\nColumns in contributorLatestVersionDF:')\n",
    "for i in list(contributorLatestVersionDF.columns):\n",
    "    print(i)"
   ],
   "metadata": {
    "collapsed": false,
    "pycharm": {
     "name": "#%%\n"
    }
   }
  },
  {
   "cell_type": "code",
   "execution_count": 17,
   "outputs": [],
   "source": [
    "# Combine the basicDatasetMetadataDF, grantInformationLatestVersionDF, and contributorLatestVersionDF with a\n",
    "# full outer join on dataset_pid_url and dataset_version_number columns\n",
    "\n",
    "dataframes = [basicDatasetMetadataDF, grantInformationLatestVersionDF, contributorLatestVersionDF]\n",
    "indexList = ['dataset_pid_url', 'dataset_version_number']\n",
    "for df in dataframes:\n",
    "    df.set_index(indexList, inplace=True)"
   ],
   "metadata": {
    "collapsed": false,
    "pycharm": {
     "name": "#%%\n"
    }
   }
  },
  {
   "cell_type": "code",
   "execution_count": 18,
   "outputs": [
    {
     "data": {
      "text/plain": "                     dataset_pid_url  dataset_version_number  \\\n0  http://dx.doi.org/10.26193/00HBWG                     2.0   \n1  http://dx.doi.org/10.26193/01P0AI                     2.0   \n2  http://dx.doi.org/10.26193/04F7C1                     2.0   \n3  http://dx.doi.org/10.26193/04F7C1                     2.0   \n4  http://dx.doi.org/10.26193/07R31R                     2.0   \n\n  dataset_version_create_time   installation dataverse_alias  \\\n0   2019-05-13 08:43:01+00:00  ADA Dataverse              NA   \n1   2019-05-13 06:23:26+00:00  ADA Dataverse              NA   \n2   2019-05-13 10:02:15+00:00  ADA Dataverse              NA   \n3   2019-05-13 10:02:15+00:00  ADA Dataverse              NA   \n4   2019-05-13 06:50:29+00:00  ADA Dataverse              NA   \n\n  grantNumberAgency grantNumberValue contributorType  \\\n0               NaN              NaN          Funder   \n1               NaN              NaN  Data Collector   \n2               NaN              NaN          Funder   \n3               NaN              NaN  Data Collector   \n4               NaN              NaN             NaN   \n\n                                     contributorName  \n0  General Practice Evaluation Program, Departmen...  \n1                                         Roy Morgan  \n2                        Australian Research Council  \n3                          Workplace Research Centre  \n4                                                NaN  ",
      "text/html": "<div><div id=c14abcd3-bd92-4b91-8e3f-87d353107b85 style=\"display:none; background-color:#9D6CFF; color:white; width:200px; height:30px; padding-left:5px; border-radius:4px; flex-direction:row; justify-content:space-around; align-items:center;\" onmouseover=\"this.style.backgroundColor='#BA9BF8'\" onmouseout=\"this.style.backgroundColor='#9D6CFF'\" onclick=\"window.commands?.execute('create-mitosheet-from-dataframe-output');\">See Full Dataframe in Mito</div> <script> if (window.commands.hasCommand('create-mitosheet-from-dataframe-output')) document.getElementById('c14abcd3-bd92-4b91-8e3f-87d353107b85').style.display = 'flex' </script> <table border=\"1\" class=\"dataframe\">\n  <thead>\n    <tr style=\"text-align: right;\">\n      <th></th>\n      <th>dataset_pid_url</th>\n      <th>dataset_version_number</th>\n      <th>dataset_version_create_time</th>\n      <th>installation</th>\n      <th>dataverse_alias</th>\n      <th>grantNumberAgency</th>\n      <th>grantNumberValue</th>\n      <th>contributorType</th>\n      <th>contributorName</th>\n    </tr>\n  </thead>\n  <tbody>\n    <tr>\n      <th>0</th>\n      <td>http://dx.doi.org/10.26193/00HBWG</td>\n      <td>2.0</td>\n      <td>2019-05-13 08:43:01+00:00</td>\n      <td>ADA Dataverse</td>\n      <td>NA</td>\n      <td>NaN</td>\n      <td>NaN</td>\n      <td>Funder</td>\n      <td>General Practice Evaluation Program, Department of Health, Housing and Community Services</td>\n    </tr>\n    <tr>\n      <th>1</th>\n      <td>http://dx.doi.org/10.26193/01P0AI</td>\n      <td>2.0</td>\n      <td>2019-05-13 06:23:26+00:00</td>\n      <td>ADA Dataverse</td>\n      <td>NA</td>\n      <td>NaN</td>\n      <td>NaN</td>\n      <td>Data Collector</td>\n      <td>Roy Morgan</td>\n    </tr>\n    <tr>\n      <th>2</th>\n      <td>http://dx.doi.org/10.26193/04F7C1</td>\n      <td>2.0</td>\n      <td>2019-05-13 10:02:15+00:00</td>\n      <td>ADA Dataverse</td>\n      <td>NA</td>\n      <td>NaN</td>\n      <td>NaN</td>\n      <td>Funder</td>\n      <td>Australian Research Council</td>\n    </tr>\n    <tr>\n      <th>3</th>\n      <td>http://dx.doi.org/10.26193/04F7C1</td>\n      <td>2.0</td>\n      <td>2019-05-13 10:02:15+00:00</td>\n      <td>ADA Dataverse</td>\n      <td>NA</td>\n      <td>NaN</td>\n      <td>NaN</td>\n      <td>Data Collector</td>\n      <td>Workplace Research Centre</td>\n    </tr>\n    <tr>\n      <th>4</th>\n      <td>http://dx.doi.org/10.26193/07R31R</td>\n      <td>2.0</td>\n      <td>2019-05-13 06:50:29+00:00</td>\n      <td>ADA Dataverse</td>\n      <td>NA</td>\n      <td>NaN</td>\n      <td>NaN</td>\n      <td>NaN</td>\n      <td>NaN</td>\n    </tr>\n  </tbody>\n</table></div>"
     },
     "execution_count": 18,
     "metadata": {},
     "output_type": "execute_result"
    }
   ],
   "source": [
    "\n",
    "fundingDatasetMetadataInDataverseInstallationsDF = reduce(lambda left, right: left.join(right, how='outer'), dataframes)\n",
    "fundingDatasetMetadataInDataverseInstallationsDF = fundingDatasetMetadataInDataverseInstallationsDF.reset_index(drop=False, inplace=False)\n",
    "fundingDatasetMetadataInDataverseInstallationsDF.head()"
   ],
   "metadata": {
    "collapsed": false,
    "pycharm": {
     "name": "#%%\n"
    }
   }
  },
  {
   "cell_type": "code",
   "execution_count": 19,
   "outputs": [
    {
     "name": "stdout",
     "output_type": "stream",
     "text": [
      "Number of datasets in fundingDatasetMetadataInDataverseInstallationsDF: 340857\n"
     ]
    }
   ],
   "source": [
    "# Finally, make sure that the number of datasets in the dataframe match the number of total datasets: 340,857\n",
    "numberOfDatasets = len(pd.unique(fundingDatasetMetadataInDataverseInstallationsDF['dataset_pid_url']))\n",
    "print(f'Number of datasets in fundingDatasetMetadataInDataverseInstallationsDF: {numberOfDatasets}')"
   ],
   "metadata": {
    "collapsed": false,
    "pycharm": {
     "name": "#%%\n"
    }
   }
  },
  {
   "cell_type": "markdown",
   "source": [
    "## Exploring the data\n",
    "\n",
    "Now that we've got the funding metadata of the latest versions of all datasets in the Dataverse installations, let's start answering our questions"
   ],
   "metadata": {
    "collapsed": false,
    "pycharm": {
     "name": "#%% md\n"
    }
   }
  },
  {
   "cell_type": "markdown",
   "source": [
    "### Collections with most funding metadata and most used funder agency names\n",
    "- In the Harvard Dataverse Repository, which collections have datasets with the most funding metadata? This will help us figure out who to learn from when we make changes to how funding metadata is entered.\n",
    "- Which funder agency names are entered most often? Knowing that might help us figure out how effective our efforts to standardize funder agency name metadata could be? For example, do the changes to the metadata fields (the \"CV javascript\") make it easier for depositors to enter the most popular funder agency names? How much easier?"
   ],
   "metadata": {
    "collapsed": false
   }
  },
  {
   "cell_type": "code",
   "execution_count": 20,
   "outputs": [
    {
     "data": {
      "text/plain": "                      dataset_pid_url  dataset_version_number  \\\n0   https://doi.org/10.7910/DVN/00234                     1.0   \n1  https://doi.org/10.7910/DVN/004HG6                     1.0   \n2  https://doi.org/10.7910/DVN/005SCF                     1.0   \n3  https://doi.org/10.7910/DVN/006UPU                     1.0   \n4   https://doi.org/10.7910/DVN/007GT                     5.0   \n\n  dataset_version_create_time         dataverse_alias  \\\n0   2014-03-23 22:12:34+00:00                  restat   \n1   2020-08-28 15:42:11+00:00        levy_photos_2012   \n2   2021-08-26 03:17:40+00:00        levy_photos_2015   \n3   2021-08-13 18:15:36+00:00        levy_photos_2014   \n4   2017-02-05 23:43:33+00:00  antislaverypetitionsma   \n\n          grantNumberAgency grantNumberValue contributorType contributorName  \n0                       NaN              NaN             NaN             NaN  \n1  The Leon Levy Foundation              NaN             NaN             NaN  \n2  The Leon Levy Foundation              NaN             NaN             NaN  \n3  The Leon Levy Foundation              NaN             NaN             NaN  \n4                       NaN              NaN             NaN             NaN  ",
      "text/html": "<div><div id=b056faf6-977e-4575-a054-0124328d46d9 style=\"display:none; background-color:#9D6CFF; color:white; width:200px; height:30px; padding-left:5px; border-radius:4px; flex-direction:row; justify-content:space-around; align-items:center;\" onmouseover=\"this.style.backgroundColor='#BA9BF8'\" onmouseout=\"this.style.backgroundColor='#9D6CFF'\" onclick=\"window.commands?.execute('create-mitosheet-from-dataframe-output');\">See Full Dataframe in Mito</div> <script> if (window.commands.hasCommand('create-mitosheet-from-dataframe-output')) document.getElementById('b056faf6-977e-4575-a054-0124328d46d9').style.display = 'flex' </script> <table border=\"1\" class=\"dataframe\">\n  <thead>\n    <tr style=\"text-align: right;\">\n      <th></th>\n      <th>dataset_pid_url</th>\n      <th>dataset_version_number</th>\n      <th>dataset_version_create_time</th>\n      <th>dataverse_alias</th>\n      <th>grantNumberAgency</th>\n      <th>grantNumberValue</th>\n      <th>contributorType</th>\n      <th>contributorName</th>\n    </tr>\n  </thead>\n  <tbody>\n    <tr>\n      <th>0</th>\n      <td>https://doi.org/10.7910/DVN/00234</td>\n      <td>1.0</td>\n      <td>2014-03-23 22:12:34+00:00</td>\n      <td>restat</td>\n      <td>NaN</td>\n      <td>NaN</td>\n      <td>NaN</td>\n      <td>NaN</td>\n    </tr>\n    <tr>\n      <th>1</th>\n      <td>https://doi.org/10.7910/DVN/004HG6</td>\n      <td>1.0</td>\n      <td>2020-08-28 15:42:11+00:00</td>\n      <td>levy_photos_2012</td>\n      <td>The Leon Levy Foundation</td>\n      <td>NaN</td>\n      <td>NaN</td>\n      <td>NaN</td>\n    </tr>\n    <tr>\n      <th>2</th>\n      <td>https://doi.org/10.7910/DVN/005SCF</td>\n      <td>1.0</td>\n      <td>2021-08-26 03:17:40+00:00</td>\n      <td>levy_photos_2015</td>\n      <td>The Leon Levy Foundation</td>\n      <td>NaN</td>\n      <td>NaN</td>\n      <td>NaN</td>\n    </tr>\n    <tr>\n      <th>3</th>\n      <td>https://doi.org/10.7910/DVN/006UPU</td>\n      <td>1.0</td>\n      <td>2021-08-13 18:15:36+00:00</td>\n      <td>levy_photos_2014</td>\n      <td>The Leon Levy Foundation</td>\n      <td>NaN</td>\n      <td>NaN</td>\n      <td>NaN</td>\n    </tr>\n    <tr>\n      <th>4</th>\n      <td>https://doi.org/10.7910/DVN/007GT</td>\n      <td>5.0</td>\n      <td>2017-02-05 23:43:33+00:00</td>\n      <td>antislaverypetitionsma</td>\n      <td>NaN</td>\n      <td>NaN</td>\n      <td>NaN</td>\n      <td>NaN</td>\n    </tr>\n  </tbody>\n</table></div>"
     },
     "execution_count": 20,
     "metadata": {},
     "output_type": "execute_result"
    }
   ],
   "source": [
    "# Lets start by creating a dataframe containing only metadata of datasets published in the Harvard Dataverse Repository\n",
    "datasetInHDVDF = (fundingDatasetMetadataInDataverseInstallationsDF\n",
    "    .query('(installation == \"Harvard Dataverse\")')\n",
    "    .drop(columns=['installation'])\n",
    "    .reset_index(drop=True, inplace=False)\n",
    "    )\n",
    "\n",
    "datasetInHDVDF.head()"
   ],
   "metadata": {
    "collapsed": false,
    "pycharm": {
     "name": "#%%\n"
    }
   }
  },
  {
   "cell_type": "code",
   "execution_count": 21,
   "outputs": [
    {
     "name": "stdout",
     "output_type": "stream",
     "text": [
      "Number of datasets in datasetInHDVDF: 80278\n"
     ]
    }
   ],
   "source": [
    "print('Number of datasets in datasetInHDVDF: %s' % (len(pd.unique(datasetInHDVDF['dataset_pid_url']))))"
   ],
   "metadata": {
    "collapsed": false,
    "pycharm": {
     "name": "#%%\n"
    }
   }
  },
  {
   "cell_type": "code",
   "execution_count": 22,
   "outputs": [],
   "source": [
    "# Now let's keep the metadata of the datasets that have funding metadata in the three fields:\n",
    "# grantNumberAgency, grantNumberValue, and contributorName when contributorType is \"Funder\"\n",
    "fundingDatasetMetadataInHDVDF = (\n",
    "    datasetInHDVDF.query(\n",
    "        '(grantNumberAgency == grantNumberAgency) or\\\n",
    "        (grantNumberValue == grantNumberValue) or\\\n",
    "        (contributorType == \"Funder\" and contributorName == contributorName)')\n",
    "     .reset_index(drop=True, inplace=False)\n",
    "     )"
   ],
   "metadata": {
    "collapsed": false,
    "pycharm": {
     "name": "#%%\n"
    }
   }
  },
  {
   "cell_type": "code",
   "execution_count": 23,
   "outputs": [
    {
     "data": {
      "text/plain": "                      dataset_pid_url  dataset_version_number  \\\n0  https://doi.org/10.7910/DVN/004HG6                     1.0   \n1  https://doi.org/10.7910/DVN/005SCF                     1.0   \n2  https://doi.org/10.7910/DVN/006UPU                     1.0   \n3  https://doi.org/10.7910/DVN/00IIWB                     1.0   \n4  https://doi.org/10.7910/DVN/00VQS7                     1.0   \n\n  dataset_version_create_time   dataverse_alias         grantNumberAgency  \\\n0   2020-08-28 15:42:11+00:00  levy_photos_2012  The Leon Levy Foundation   \n1   2021-08-26 03:17:40+00:00  levy_photos_2015  The Leon Levy Foundation   \n2   2021-08-13 18:15:36+00:00  levy_photos_2014  The Leon Levy Foundation   \n3   2022-03-16 01:03:47+00:00  levy_photos_2013  The Leon Levy Foundation   \n4   2021-12-16 19:14:00+00:00  levy_photos_1986  The Leon Levy Foundation   \n\n  grantNumberValue contributorType contributorName  \n0              NaN             NaN             NaN  \n1              NaN             NaN             NaN  \n2              NaN             NaN             NaN  \n3              NaN             NaN             NaN  \n4              NaN             NaN             NaN  ",
      "text/html": "<div><div id=9fa1c908-12e6-4059-a85e-60b0647cac24 style=\"display:none; background-color:#9D6CFF; color:white; width:200px; height:30px; padding-left:5px; border-radius:4px; flex-direction:row; justify-content:space-around; align-items:center;\" onmouseover=\"this.style.backgroundColor='#BA9BF8'\" onmouseout=\"this.style.backgroundColor='#9D6CFF'\" onclick=\"window.commands?.execute('create-mitosheet-from-dataframe-output');\">See Full Dataframe in Mito</div> <script> if (window.commands.hasCommand('create-mitosheet-from-dataframe-output')) document.getElementById('9fa1c908-12e6-4059-a85e-60b0647cac24').style.display = 'flex' </script> <table border=\"1\" class=\"dataframe\">\n  <thead>\n    <tr style=\"text-align: right;\">\n      <th></th>\n      <th>dataset_pid_url</th>\n      <th>dataset_version_number</th>\n      <th>dataset_version_create_time</th>\n      <th>dataverse_alias</th>\n      <th>grantNumberAgency</th>\n      <th>grantNumberValue</th>\n      <th>contributorType</th>\n      <th>contributorName</th>\n    </tr>\n  </thead>\n  <tbody>\n    <tr>\n      <th>0</th>\n      <td>https://doi.org/10.7910/DVN/004HG6</td>\n      <td>1.0</td>\n      <td>2020-08-28 15:42:11+00:00</td>\n      <td>levy_photos_2012</td>\n      <td>The Leon Levy Foundation</td>\n      <td>NaN</td>\n      <td>NaN</td>\n      <td>NaN</td>\n    </tr>\n    <tr>\n      <th>1</th>\n      <td>https://doi.org/10.7910/DVN/005SCF</td>\n      <td>1.0</td>\n      <td>2021-08-26 03:17:40+00:00</td>\n      <td>levy_photos_2015</td>\n      <td>The Leon Levy Foundation</td>\n      <td>NaN</td>\n      <td>NaN</td>\n      <td>NaN</td>\n    </tr>\n    <tr>\n      <th>2</th>\n      <td>https://doi.org/10.7910/DVN/006UPU</td>\n      <td>1.0</td>\n      <td>2021-08-13 18:15:36+00:00</td>\n      <td>levy_photos_2014</td>\n      <td>The Leon Levy Foundation</td>\n      <td>NaN</td>\n      <td>NaN</td>\n      <td>NaN</td>\n    </tr>\n    <tr>\n      <th>3</th>\n      <td>https://doi.org/10.7910/DVN/00IIWB</td>\n      <td>1.0</td>\n      <td>2022-03-16 01:03:47+00:00</td>\n      <td>levy_photos_2013</td>\n      <td>The Leon Levy Foundation</td>\n      <td>NaN</td>\n      <td>NaN</td>\n      <td>NaN</td>\n    </tr>\n    <tr>\n      <th>4</th>\n      <td>https://doi.org/10.7910/DVN/00VQS7</td>\n      <td>1.0</td>\n      <td>2021-12-16 19:14:00+00:00</td>\n      <td>levy_photos_1986</td>\n      <td>The Leon Levy Foundation</td>\n      <td>NaN</td>\n      <td>NaN</td>\n      <td>NaN</td>\n    </tr>\n  </tbody>\n</table></div>"
     },
     "execution_count": 23,
     "metadata": {},
     "output_type": "execute_result"
    }
   ],
   "source": [
    "fundingDatasetMetadataInHDVDF.head()"
   ],
   "metadata": {
    "collapsed": false,
    "pycharm": {
     "name": "#%%\n"
    }
   }
  },
  {
   "cell_type": "code",
   "execution_count": 24,
   "outputs": [
    {
     "name": "stdout",
     "output_type": "stream",
     "text": [
      "Number of datasets in fundingDatasetMetadataInHDVDF: 30225\n"
     ]
    }
   ],
   "source": [
    "print(f'Number of datasets in fundingDatasetMetadataInHDVDF: {(len(pd.unique(fundingDatasetMetadataInHDVDF[\"dataset_pid_url\"])))}')"
   ],
   "metadata": {
    "collapsed": false,
    "pycharm": {
     "name": "#%%\n"
    }
   }
  },
  {
   "cell_type": "markdown",
   "source": [
    "So of the 80,278 datasets in the Harvard Dataverse Repository as of early October 2022, 30,222 had metadata about funding in one of the three fields where we expect it.\n",
    "\n",
    "What's entered most often in the grantNumberAgency (Funding Information Name) field?"
   ],
   "metadata": {
    "collapsed": false,
    "pycharm": {
     "name": "#%% md\n"
    }
   }
  },
  {
   "cell_type": "code",
   "execution_count": 25,
   "outputs": [
    {
     "data": {
      "text/plain": "                                   grantNumberAgency  count_of_datasets\n0                           The Leon Levy Foundation              28167\n1  United States Agency for International Develop...                230\n2                        National Science Foundation                 89\n3                  Bill and Melinda Gates Foundation                 74\n4           Bill and Melinda Gates Foundation (BMGF)                 70\n5                                                NSF                 62\n6                    Bill & Melinda Gates Foundation                 57\n7                                                NIH                 57\n8  U.S. Department of Energy, Office of Science, ...                 47\n9                                               NASA                 32",
      "text/html": "<div><div id=76cf620b-0a7c-4f3c-b408-a9d8a9e26381 style=\"display:none; background-color:#9D6CFF; color:white; width:200px; height:30px; padding-left:5px; border-radius:4px; flex-direction:row; justify-content:space-around; align-items:center;\" onmouseover=\"this.style.backgroundColor='#BA9BF8'\" onmouseout=\"this.style.backgroundColor='#9D6CFF'\" onclick=\"window.commands?.execute('create-mitosheet-from-dataframe-output');\">See Full Dataframe in Mito</div> <script> if (window.commands.hasCommand('create-mitosheet-from-dataframe-output')) document.getElementById('76cf620b-0a7c-4f3c-b408-a9d8a9e26381').style.display = 'flex' </script> <table border=\"1\" class=\"dataframe\">\n  <thead>\n    <tr style=\"text-align: right;\">\n      <th></th>\n      <th>grantNumberAgency</th>\n      <th>count_of_datasets</th>\n    </tr>\n  </thead>\n  <tbody>\n    <tr>\n      <th>0</th>\n      <td>The Leon Levy Foundation</td>\n      <td>28167</td>\n    </tr>\n    <tr>\n      <th>1</th>\n      <td>United States Agency for International Development (USAID)</td>\n      <td>230</td>\n    </tr>\n    <tr>\n      <th>2</th>\n      <td>National Science Foundation</td>\n      <td>89</td>\n    </tr>\n    <tr>\n      <th>3</th>\n      <td>Bill and Melinda Gates Foundation</td>\n      <td>74</td>\n    </tr>\n    <tr>\n      <th>4</th>\n      <td>Bill and Melinda Gates Foundation (BMGF)</td>\n      <td>70</td>\n    </tr>\n    <tr>\n      <th>5</th>\n      <td>NSF</td>\n      <td>62</td>\n    </tr>\n    <tr>\n      <th>6</th>\n      <td>Bill &amp; Melinda Gates Foundation</td>\n      <td>57</td>\n    </tr>\n    <tr>\n      <th>7</th>\n      <td>NIH</td>\n      <td>57</td>\n    </tr>\n    <tr>\n      <th>8</th>\n      <td>U.S. Department of Energy, Office of Science, Basic Energy Sciences</td>\n      <td>47</td>\n    </tr>\n    <tr>\n      <th>9</th>\n      <td>NASA</td>\n      <td>32</td>\n    </tr>\n  </tbody>\n</table></div>"
     },
     "execution_count": 25,
     "metadata": {},
     "output_type": "execute_result"
    }
   ],
   "source": [
    "# Create a new dataframe that lists each funder name entered in grantNumberAgency and the number of datasets with that funder name\n",
    "datasetCountByFundingAgencyNamesInHDV = (\n",
    "    fundingDatasetMetadataInHDVDF[['dataset_pid_url', 'grantNumberAgency']]\n",
    "        .query('grantNumberAgency == grantNumberAgency')\n",
    "        .drop_duplicates()\n",
    "        .groupby(['grantNumberAgency']).count()\n",
    "        .rename(columns={'dataset_pid_url': 'count_of_datasets'})\n",
    "        .sort_values(by=['count_of_datasets'], ascending=False)\n",
    "        .reset_index(drop=False, inplace=False)\n",
    ")\n",
    "\n",
    "datasetCountByFundingAgencyNamesInHDV.head(10)"
   ],
   "metadata": {
    "collapsed": false,
    "pycharm": {
     "name": "#%%\n"
    }
   }
  },
  {
   "cell_type": "markdown",
   "source": [
    "It's most likely that the Leon Levy collection has the most datasets with a funder name in their grantNumberAgency (Funding Information Name) field.\n",
    "\n",
    "It also looks like, for datasets with other funder name metadata, we might have to deal with the variations in spellings, maybe using a deduplication or fuzzy matching library, in order to see which funders are added to the funding metadata most often. For example, this shows only 57 datasets with the value \"NIH\" in the Funding Information Agency field, but I've found more than 57 datasets created from NIH-funded research, with other values in the field, such as \"National Institute of Health\".\n",
    "\n",
    "For now, let's see which collections have the most datasets with funding metadata, excluding the Leon Levy collections."
   ],
   "metadata": {
    "collapsed": false
   }
  },
  {
   "cell_type": "code",
   "execution_count": 26,
   "outputs": [
    {
     "data": {
      "text/plain": "          dataverse_alias  count_of_datasets\n0                   IFPRI                339\n1                 harvard                201\n2            AfricaRISING                136\n3               worldfish                113\n4                    CIAT                108\n5                     ipa                 65\n6  AllianceBioversityCIAT                 50\n7  IMASC_Publication_Data                 42\n8               cenaptnmr                 40\n9             hgis-indias                 30",
      "text/html": "<div><div id=5fc2be30-824b-47a3-8b6b-1854f774d9d7 style=\"display:none; background-color:#9D6CFF; color:white; width:200px; height:30px; padding-left:5px; border-radius:4px; flex-direction:row; justify-content:space-around; align-items:center;\" onmouseover=\"this.style.backgroundColor='#BA9BF8'\" onmouseout=\"this.style.backgroundColor='#9D6CFF'\" onclick=\"window.commands?.execute('create-mitosheet-from-dataframe-output');\">See Full Dataframe in Mito</div> <script> if (window.commands.hasCommand('create-mitosheet-from-dataframe-output')) document.getElementById('5fc2be30-824b-47a3-8b6b-1854f774d9d7').style.display = 'flex' </script> <table border=\"1\" class=\"dataframe\">\n  <thead>\n    <tr style=\"text-align: right;\">\n      <th></th>\n      <th>dataverse_alias</th>\n      <th>count_of_datasets</th>\n    </tr>\n  </thead>\n  <tbody>\n    <tr>\n      <th>0</th>\n      <td>IFPRI</td>\n      <td>339</td>\n    </tr>\n    <tr>\n      <th>1</th>\n      <td>harvard</td>\n      <td>201</td>\n    </tr>\n    <tr>\n      <th>2</th>\n      <td>AfricaRISING</td>\n      <td>136</td>\n    </tr>\n    <tr>\n      <th>3</th>\n      <td>worldfish</td>\n      <td>113</td>\n    </tr>\n    <tr>\n      <th>4</th>\n      <td>CIAT</td>\n      <td>108</td>\n    </tr>\n    <tr>\n      <th>5</th>\n      <td>ipa</td>\n      <td>65</td>\n    </tr>\n    <tr>\n      <th>6</th>\n      <td>AllianceBioversityCIAT</td>\n      <td>50</td>\n    </tr>\n    <tr>\n      <th>7</th>\n      <td>IMASC_Publication_Data</td>\n      <td>42</td>\n    </tr>\n    <tr>\n      <th>8</th>\n      <td>cenaptnmr</td>\n      <td>40</td>\n    </tr>\n    <tr>\n      <th>9</th>\n      <td>hgis-indias</td>\n      <td>30</td>\n    </tr>\n  </tbody>\n</table></div>"
     },
     "execution_count": 26,
     "metadata": {},
     "output_type": "execute_result"
    }
   ],
   "source": [
    "datasetsInHDVByCollection_NoLevy = (\n",
    "    fundingDatasetMetadataInHDVDF[['dataset_pid_url', 'dataverse_alias']]\n",
    "    .drop_duplicates()\n",
    "    .groupby(['dataverse_alias']).count()\n",
    "    .query('~dataverse_alias.str.contains(\"levy_photos\").values')\n",
    "    .rename(columns={'dataset_pid_url': 'count_of_datasets'})\n",
    "    .sort_values(by=['count_of_datasets'], ascending=False)\n",
    "    .reset_index(drop=False, inplace=False)\n",
    ")\n",
    "\n",
    "datasetsInHDVByCollection_NoLevy.head(10)"
   ],
   "metadata": {
    "collapsed": false,
    "pycharm": {
     "name": "#%%\n"
    }
   }
  },
  {
   "cell_type": "markdown",
   "source": [
    "The IFPRI collections (IFPRI and AfricaRISING), worldfish collection and CIAT collection have the most datasets with funding metadata. (\"harvard\" is the alias of repository's main collection, where anyone can add data.)\n",
    "\n",
    "What have the depositors of those datasets entered in the metadata?\n"
   ],
   "metadata": {
    "collapsed": false,
    "pycharm": {
     "name": "#%% md\n"
    }
   }
  },
  {
   "cell_type": "code",
   "execution_count": 39,
   "outputs": [],
   "source": [
    "# fundingDatasetMetadataInHDVDF.to_csv('fundingDatasetMetadataInHDVDF.csv', index=False)"
   ],
   "metadata": {
    "collapsed": false,
    "pycharm": {
     "name": "#%%\n"
    }
   }
  },
  {
   "cell_type": "code",
   "execution_count": 29,
   "outputs": [],
   "source": [
    "def funder_names_in_collections(dataframe, collectionAliasesList):\n",
    "    funderNamesInCollectionDF = (\n",
    "        # Drop all but the needed columns\n",
    "        dataframe[[\n",
    "            'dataset_pid_url', 'grantNumberAgency', 'dataverse_alias']]\n",
    "        # Remove all datasets except those in given list of collection aliases\n",
    "        .query(\n",
    "            'dataverse_alias in @collectionAliasesList')\n",
    "        # Remove the 'dataverse_alias' column\n",
    "        .drop(columns=['dataverse_alias'])\n",
    "        # Keep only datasets that have funding agency name metadata\n",
    "        .query('grantNumberAgency == grantNumberAgency')\n",
    "        # Drop duplicate rows\n",
    "        .drop_duplicates()\n",
    "        # Group by funding agency name\n",
    "        .groupby(['grantNumberAgency']).count()\n",
    "        .rename(columns={'dataset_pid_url': 'count_of_datasets'})\n",
    "        # Sort by count of occurrences of each funder name\n",
    "        .sort_values(by=['count_of_datasets'], ascending=False)\n",
    "        .reset_index(drop=False, inplace=False))\n",
    "    return funderNamesInCollectionDF\n"
   ],
   "metadata": {
    "collapsed": false,
    "pycharm": {
     "name": "#%%\n"
    }
   }
  },
  {
   "cell_type": "code",
   "execution_count": 30,
   "outputs": [
    {
     "data": {
      "text/plain": "                                   grantNumberAgency  count_of_datasets\n0  United States Agency for International Develop...                226\n1           Bill and Melinda Gates Foundation (BMGF)                 64\n2                  Bill and Melinda Gates Foundation                 24\n3                                         World Bank                 24\n4             Bill & Melinda Gates Foundation (BMGF)                 23",
      "text/html": "<div><div id=dabe52b4-f53a-4177-9f4d-dca008e2ec5f style=\"display:none; background-color:#9D6CFF; color:white; width:200px; height:30px; padding-left:5px; border-radius:4px; flex-direction:row; justify-content:space-around; align-items:center;\" onmouseover=\"this.style.backgroundColor='#BA9BF8'\" onmouseout=\"this.style.backgroundColor='#9D6CFF'\" onclick=\"window.commands?.execute('create-mitosheet-from-dataframe-output');\">See Full Dataframe in Mito</div> <script> if (window.commands.hasCommand('create-mitosheet-from-dataframe-output')) document.getElementById('dabe52b4-f53a-4177-9f4d-dca008e2ec5f').style.display = 'flex' </script> <table border=\"1\" class=\"dataframe\">\n  <thead>\n    <tr style=\"text-align: right;\">\n      <th></th>\n      <th>grantNumberAgency</th>\n      <th>count_of_datasets</th>\n    </tr>\n  </thead>\n  <tbody>\n    <tr>\n      <th>0</th>\n      <td>United States Agency for International Development (USAID)</td>\n      <td>226</td>\n    </tr>\n    <tr>\n      <th>1</th>\n      <td>Bill and Melinda Gates Foundation (BMGF)</td>\n      <td>64</td>\n    </tr>\n    <tr>\n      <th>2</th>\n      <td>Bill and Melinda Gates Foundation</td>\n      <td>24</td>\n    </tr>\n    <tr>\n      <th>3</th>\n      <td>World Bank</td>\n      <td>24</td>\n    </tr>\n    <tr>\n      <th>4</th>\n      <td>Bill &amp; Melinda Gates Foundation (BMGF)</td>\n      <td>23</td>\n    </tr>\n  </tbody>\n</table></div>"
     },
     "execution_count": 30,
     "metadata": {},
     "output_type": "execute_result"
    }
   ],
   "source": [
    "datasetCountByFundingAgencyNamesIFPRI = funder_names_in_collections(\n",
    "    dataframe=fundingDatasetMetadataInHDVDF,\n",
    "    collectionAliasesList=['IFPRI', 'AfricaRISING'])\n",
    "\n",
    "datasetCountByFundingAgencyNamesIFPRI.head()"
   ],
   "metadata": {
    "collapsed": false,
    "pycharm": {
     "name": "#%%\n"
    }
   }
  },
  {
   "cell_type": "code",
   "execution_count": 31,
   "outputs": [
    {
     "data": {
      "text/plain": "                                   grantNumberAgency  count_of_datasets\n0                         European Commission - IFAD                  2\n1                     European Commission-IFAD Grant                  1\n2  Feed the Future Bangladesh Aquaculture and Nut...                  1\n3            Feed the Future Innovation Lab for Fish                  1\n4                                                GTZ                  1",
      "text/html": "<div><div id=49da42b0-30e0-4caf-8d05-80c54189dcfb style=\"display:none; background-color:#9D6CFF; color:white; width:200px; height:30px; padding-left:5px; border-radius:4px; flex-direction:row; justify-content:space-around; align-items:center;\" onmouseover=\"this.style.backgroundColor='#BA9BF8'\" onmouseout=\"this.style.backgroundColor='#9D6CFF'\" onclick=\"window.commands?.execute('create-mitosheet-from-dataframe-output');\">See Full Dataframe in Mito</div> <script> if (window.commands.hasCommand('create-mitosheet-from-dataframe-output')) document.getElementById('49da42b0-30e0-4caf-8d05-80c54189dcfb').style.display = 'flex' </script> <table border=\"1\" class=\"dataframe\">\n  <thead>\n    <tr style=\"text-align: right;\">\n      <th></th>\n      <th>grantNumberAgency</th>\n      <th>count_of_datasets</th>\n    </tr>\n  </thead>\n  <tbody>\n    <tr>\n      <th>0</th>\n      <td>European Commission - IFAD</td>\n      <td>2</td>\n    </tr>\n    <tr>\n      <th>1</th>\n      <td>European Commission-IFAD Grant</td>\n      <td>1</td>\n    </tr>\n    <tr>\n      <th>2</th>\n      <td>Feed the Future Bangladesh Aquaculture and Nutrition Activity</td>\n      <td>1</td>\n    </tr>\n    <tr>\n      <th>3</th>\n      <td>Feed the Future Innovation Lab for Fish</td>\n      <td>1</td>\n    </tr>\n    <tr>\n      <th>4</th>\n      <td>GTZ</td>\n      <td>1</td>\n    </tr>\n  </tbody>\n</table></div>"
     },
     "execution_count": 31,
     "metadata": {},
     "output_type": "execute_result"
    }
   ],
   "source": [
    "datasetCountByFundingAgencyNamesWorldfish = funder_names_in_collections(\n",
    "    dataframe=fundingDatasetMetadataInHDVDF,\n",
    "    collectionAliasesList=['worldfish'])\n",
    "\n",
    "datasetCountByFundingAgencyNamesWorldfish.head()\n",
    "\n",
    "# funderNamesList_Worldfish = list(set(datasetCountByFundingAgencyNamesWorldfish[\"grantNumberAgency\"].values.tolist()))"
   ],
   "metadata": {
    "collapsed": false,
    "pycharm": {
     "name": "#%%\n"
    }
   }
  },
  {
   "cell_type": "code",
   "execution_count": 43,
   "outputs": [
    {
     "data": {
      "text/plain": "                                   grantNumberAgency  count_of_datasets\n0  CGIAR Research Program on Climate Change, Agri...                 16\n1  International Center for Tropical Agriculture ...                 15\n2                    Bill & Melinda Gates Foundation                 14\n3  United States Agency for International Develop...                 13\n4  International Fund for Agricultural Developmen...                  7",
      "text/html": "<div><div id=3393c197-a213-4bb7-8149-f04054ebffa4 style=\"display:none; background-color:#9D6CFF; color:white; width:200px; height:30px; padding-left:5px; border-radius:4px; flex-direction:row; justify-content:space-around; align-items:center;\" onmouseover=\"this.style.backgroundColor='#BA9BF8'\" onmouseout=\"this.style.backgroundColor='#9D6CFF'\" onclick=\"window.commands?.execute('create-mitosheet-from-dataframe-output');\">See Full Dataframe in Mito</div> <script> if (window.commands.hasCommand('create-mitosheet-from-dataframe-output')) document.getElementById('3393c197-a213-4bb7-8149-f04054ebffa4').style.display = 'flex' </script> <table border=\"1\" class=\"dataframe\">\n  <thead>\n    <tr style=\"text-align: right;\">\n      <th></th>\n      <th>grantNumberAgency</th>\n      <th>count_of_datasets</th>\n    </tr>\n  </thead>\n  <tbody>\n    <tr>\n      <th>0</th>\n      <td>CGIAR Research Program on Climate Change, Agriculture and Food Security - CCAFS</td>\n      <td>16</td>\n    </tr>\n    <tr>\n      <th>1</th>\n      <td>International Center for Tropical Agriculture - CIAT</td>\n      <td>15</td>\n    </tr>\n    <tr>\n      <th>2</th>\n      <td>Bill &amp; Melinda Gates Foundation</td>\n      <td>14</td>\n    </tr>\n    <tr>\n      <th>3</th>\n      <td>United States Agency for International Development - USAID</td>\n      <td>13</td>\n    </tr>\n    <tr>\n      <th>4</th>\n      <td>International Fund for Agricultural Development - IFAD</td>\n      <td>7</td>\n    </tr>\n  </tbody>\n</table></div>"
     },
     "execution_count": 43,
     "metadata": {},
     "output_type": "execute_result"
    }
   ],
   "source": [
    "datasetCountByFundingAgencyNamesCIAT = funder_names_in_collections(\n",
    "    dataframe=fundingDatasetMetadataInHDVDF,\n",
    "    collectionAliasesList=['CIAT'])\n",
    "\n",
    "datasetCountByFundingAgencyNamesCIAT.head()"
   ],
   "metadata": {
    "collapsed": false,
    "pycharm": {
     "name": "#%%\n"
    }
   }
  },
  {
   "cell_type": "markdown",
   "source": [
    "### Duplicate funding metadata\n",
    "\n",
    "There are two fields where depositors can enter the names of funders: In the Funding Information Agency field and in the Contributor field when they choose the Contributor Type \"Funder\". How often has this happened and who's done it? By learning these things, we can see how big the problem is and who's used both fields? And later we can ask those people why. We need to learn if the design of the fields are meeting some need that we weren't aware of.\n",
    "\n",
    "For now, let's continue looking only at the latest version of each dataset. This might cause a further under count of the number of times this issue has actually occurred. For example, first version of a dataset might have both fields filled but the latest might have only one. By considering only the latest version of each dataset, we'll miss cases like this. Eventually we'll have to think about what to do about the metadata of previous dataset versions.\n",
    "\n",
    "Questions\n",
    "- In the Harvard Dataverse Repository, how many datasets have values in the Funder Information fields and in the Contributor field when Contributor Type is \"Funder\"?\n",
    "- How many datasets have funding metadata in their Contributor field and not in their Funder Information fields?\n",
    "- How often are the same values in both fields? For example, one dataset might have \"NIH\" in the Funder Information Agency field and in the Contributor Name field when the Contributor Type is \"Funder\". How often do things like this happen?\n",
    "- How often are different values in both fields?"
   ],
   "metadata": {
    "collapsed": false,
    "pycharm": {
     "name": "#%% md\n"
    }
   }
  },
  {
   "cell_type": "code",
   "execution_count": 80,
   "outputs": [
    {
     "data": {
      "text/plain": "                      dataset_pid_url  dataset_version_number  \\\n0  https://doi.org/10.7910/DVN/004HG6                     1.0   \n1  https://doi.org/10.7910/DVN/005SCF                     1.0   \n2  https://doi.org/10.7910/DVN/006UPU                     1.0   \n3  https://doi.org/10.7910/DVN/00IIWB                     1.0   \n4  https://doi.org/10.7910/DVN/00VQS7                     1.0   \n\n  dataset_version_create_time   dataverse_alias         grantNumberAgency  \\\n0   2020-08-28 15:42:11+00:00  levy_photos_2012  The Leon Levy Foundation   \n1   2021-08-26 03:17:40+00:00  levy_photos_2015  The Leon Levy Foundation   \n2   2021-08-13 18:15:36+00:00  levy_photos_2014  The Leon Levy Foundation   \n3   2022-03-16 01:03:47+00:00  levy_photos_2013  The Leon Levy Foundation   \n4   2021-12-16 19:14:00+00:00  levy_photos_1986  The Leon Levy Foundation   \n\n  grantNumberValue contributorType contributorName  \n0              NaN             NaN             NaN  \n1              NaN             NaN             NaN  \n2              NaN             NaN             NaN  \n3              NaN             NaN             NaN  \n4              NaN             NaN             NaN  ",
      "text/html": "<div><div id=8e0a1b5a-6b2a-46a9-9cdc-44a4062b4d25 style=\"display:none; background-color:#9D6CFF; color:white; width:200px; height:30px; padding-left:5px; border-radius:4px; flex-direction:row; justify-content:space-around; align-items:center;\" onmouseover=\"this.style.backgroundColor='#BA9BF8'\" onmouseout=\"this.style.backgroundColor='#9D6CFF'\" onclick=\"window.commands?.execute('create-mitosheet-from-dataframe-output');\">See Full Dataframe in Mito</div> <script> if (window.commands.hasCommand('create-mitosheet-from-dataframe-output')) document.getElementById('8e0a1b5a-6b2a-46a9-9cdc-44a4062b4d25').style.display = 'flex' </script> <table border=\"1\" class=\"dataframe\">\n  <thead>\n    <tr style=\"text-align: right;\">\n      <th></th>\n      <th>dataset_pid_url</th>\n      <th>dataset_version_number</th>\n      <th>dataset_version_create_time</th>\n      <th>dataverse_alias</th>\n      <th>grantNumberAgency</th>\n      <th>grantNumberValue</th>\n      <th>contributorType</th>\n      <th>contributorName</th>\n    </tr>\n  </thead>\n  <tbody>\n    <tr>\n      <th>0</th>\n      <td>https://doi.org/10.7910/DVN/004HG6</td>\n      <td>1.0</td>\n      <td>2020-08-28 15:42:11+00:00</td>\n      <td>levy_photos_2012</td>\n      <td>The Leon Levy Foundation</td>\n      <td>NaN</td>\n      <td>NaN</td>\n      <td>NaN</td>\n    </tr>\n    <tr>\n      <th>1</th>\n      <td>https://doi.org/10.7910/DVN/005SCF</td>\n      <td>1.0</td>\n      <td>2021-08-26 03:17:40+00:00</td>\n      <td>levy_photos_2015</td>\n      <td>The Leon Levy Foundation</td>\n      <td>NaN</td>\n      <td>NaN</td>\n      <td>NaN</td>\n    </tr>\n    <tr>\n      <th>2</th>\n      <td>https://doi.org/10.7910/DVN/006UPU</td>\n      <td>1.0</td>\n      <td>2021-08-13 18:15:36+00:00</td>\n      <td>levy_photos_2014</td>\n      <td>The Leon Levy Foundation</td>\n      <td>NaN</td>\n      <td>NaN</td>\n      <td>NaN</td>\n    </tr>\n    <tr>\n      <th>3</th>\n      <td>https://doi.org/10.7910/DVN/00IIWB</td>\n      <td>1.0</td>\n      <td>2022-03-16 01:03:47+00:00</td>\n      <td>levy_photos_2013</td>\n      <td>The Leon Levy Foundation</td>\n      <td>NaN</td>\n      <td>NaN</td>\n      <td>NaN</td>\n    </tr>\n    <tr>\n      <th>4</th>\n      <td>https://doi.org/10.7910/DVN/00VQS7</td>\n      <td>1.0</td>\n      <td>2021-12-16 19:14:00+00:00</td>\n      <td>levy_photos_1986</td>\n      <td>The Leon Levy Foundation</td>\n      <td>NaN</td>\n      <td>NaN</td>\n      <td>NaN</td>\n    </tr>\n  </tbody>\n</table></div>"
     },
     "execution_count": 80,
     "metadata": {},
     "output_type": "execute_result"
    }
   ],
   "source": [
    "# Let's remind ourselves what information we have in the fundingDatasetMetadataInHDVDF dataframe\n",
    "fundingDatasetMetadataInHDVDF.head()"
   ],
   "metadata": {
    "collapsed": false,
    "pycharm": {
     "name": "#%%\n"
    }
   }
  },
  {
   "cell_type": "code",
   "execution_count": 32,
   "outputs": [
    {
     "data": {
      "text/plain": "                      dataset_pid_url  dataset_version_number  \\\n0  https://doi.org/10.7910/DVN/064X5M                     1.3   \n1  https://doi.org/10.7910/DVN/0GVFDK                     1.0   \n2  https://doi.org/10.7910/DVN/0TGTF0                     2.3   \n3  https://doi.org/10.7910/DVN/1R3F3U                     1.0   \n4  https://doi.org/10.7910/DVN/1R3F3U                     1.0   \n\n  dataset_version_create_time dataverse_alias  \\\n0   2019-04-10 15:48:38+00:00    AfricaRISING   \n1   2021-04-13 13:50:58+00:00            LAPS   \n2   2019-04-10 15:55:53+00:00    AfricaRISING   \n3   2022-08-30 12:23:56+00:00           IFPRI   \n4   2022-08-30 12:23:56+00:00           IFPRI   \n\n                                   grantNumberAgency grantNumberValue  \\\n0  United States Agency for International Develop...              NaN   \n1                    Inter-American Development Bank   1300600-01-PEC   \n2  United States Agency for International Develop...              NaN   \n3  United States Agency for International Develop...              NaN   \n4  United States Agency for International Develop...              NaN   \n\n  contributorType                                    contributorName  \n0          Funder  United States Agency for International Develop...  \n1          Funder                    Inter-American Development Bank  \n2          Funder  United States Agency for International Develop...  \n3          Funder  United States Agency for International Develop...  \n4          Funder    Livelihoods and Food Security Trust Fund (LIFT)  ",
      "text/html": "<div><div id=31a4ad2d-88ef-40a0-b009-b8a60141a306 style=\"display:none; background-color:#9D6CFF; color:white; width:200px; height:30px; padding-left:5px; border-radius:4px; flex-direction:row; justify-content:space-around; align-items:center;\" onmouseover=\"this.style.backgroundColor='#BA9BF8'\" onmouseout=\"this.style.backgroundColor='#9D6CFF'\" onclick=\"window.commands?.execute('create-mitosheet-from-dataframe-output');\">See Full Dataframe in Mito</div> <script> if (window.commands.hasCommand('create-mitosheet-from-dataframe-output')) document.getElementById('31a4ad2d-88ef-40a0-b009-b8a60141a306').style.display = 'flex' </script> <table border=\"1\" class=\"dataframe\">\n  <thead>\n    <tr style=\"text-align: right;\">\n      <th></th>\n      <th>dataset_pid_url</th>\n      <th>dataset_version_number</th>\n      <th>dataset_version_create_time</th>\n      <th>dataverse_alias</th>\n      <th>grantNumberAgency</th>\n      <th>grantNumberValue</th>\n      <th>contributorType</th>\n      <th>contributorName</th>\n    </tr>\n  </thead>\n  <tbody>\n    <tr>\n      <th>0</th>\n      <td>https://doi.org/10.7910/DVN/064X5M</td>\n      <td>1.3</td>\n      <td>2019-04-10 15:48:38+00:00</td>\n      <td>AfricaRISING</td>\n      <td>United States Agency for International Development (USAID)</td>\n      <td>NaN</td>\n      <td>Funder</td>\n      <td>United States Agency for International Development (USAID)</td>\n    </tr>\n    <tr>\n      <th>1</th>\n      <td>https://doi.org/10.7910/DVN/0GVFDK</td>\n      <td>1.0</td>\n      <td>2021-04-13 13:50:58+00:00</td>\n      <td>LAPS</td>\n      <td>Inter-American Development Bank</td>\n      <td>1300600-01-PEC</td>\n      <td>Funder</td>\n      <td>Inter-American Development Bank</td>\n    </tr>\n    <tr>\n      <th>2</th>\n      <td>https://doi.org/10.7910/DVN/0TGTF0</td>\n      <td>2.3</td>\n      <td>2019-04-10 15:55:53+00:00</td>\n      <td>AfricaRISING</td>\n      <td>United States Agency for International Development (USAID)</td>\n      <td>NaN</td>\n      <td>Funder</td>\n      <td>United States Agency for International Development (USAID)</td>\n    </tr>\n    <tr>\n      <th>3</th>\n      <td>https://doi.org/10.7910/DVN/1R3F3U</td>\n      <td>1.0</td>\n      <td>2022-08-30 12:23:56+00:00</td>\n      <td>IFPRI</td>\n      <td>United States Agency for International Development (USAID)</td>\n      <td>NaN</td>\n      <td>Funder</td>\n      <td>United States Agency for International Development (USAID)</td>\n    </tr>\n    <tr>\n      <th>4</th>\n      <td>https://doi.org/10.7910/DVN/1R3F3U</td>\n      <td>1.0</td>\n      <td>2022-08-30 12:23:56+00:00</td>\n      <td>IFPRI</td>\n      <td>United States Agency for International Development (USAID)</td>\n      <td>NaN</td>\n      <td>Funder</td>\n      <td>Livelihoods and Food Security Trust Fund (LIFT)</td>\n    </tr>\n  </tbody>\n</table></div>"
     },
     "execution_count": 32,
     "metadata": {},
     "output_type": "execute_result"
    }
   ],
   "source": [
    "# Now let's query it to get only datasets that have values in both metadata fields\n",
    "duplicateFundingFieldsInHDV = (fundingDatasetMetadataInHDVDF\n",
    "        .query(\n",
    "            'grantNumberAgency == grantNumberAgency and\\\n",
    "             (contributorType == \"Funder\" and contributorName == contributorName)')\n",
    "        .sort_values(by=['dataset_pid_url'], ascending=True)\n",
    "        .reset_index(drop=True, inplace=False))\n",
    "\n",
    "duplicateFundingFieldsInHDV.head()"
   ],
   "metadata": {
    "collapsed": false,
    "pycharm": {
     "name": "#%%\n"
    }
   }
  },
  {
   "cell_type": "code",
   "execution_count": 33,
   "outputs": [
    {
     "name": "stdout",
     "output_type": "stream",
     "text": [
      "Number of datasets with metadata in both funding metadata fields: 250\n"
     ]
    }
   ],
   "source": [
    "datasetCountDuplicateFundingFields = len(pd.unique(duplicateFundingFieldsInHDV['dataset_pid_url']))\n",
    "print(f'Number of datasets with metadata in both funding metadata fields: {datasetCountDuplicateFundingFields}')"
   ],
   "metadata": {
    "collapsed": false,
    "pycharm": {
     "name": "#%%\n"
    }
   }
  },
  {
   "cell_type": "code",
   "execution_count": 34,
   "outputs": [],
   "source": [
    "duplicateFundingFieldsInHDV.to_csv('duplicateFundingFieldsInHDV.csv', index=False)"
   ],
   "metadata": {
    "collapsed": false,
    "pycharm": {
     "name": "#%%\n"
    }
   }
  },
  {
   "cell_type": "markdown",
   "source": [
    "How many datasets have funding metadata in their Contributor field and not in their Grant Information fields?"
   ],
   "metadata": {
    "collapsed": false,
    "pycharm": {
     "name": "#%% md\n"
    }
   }
  },
  {
   "cell_type": "code",
   "execution_count": 97,
   "outputs": [],
   "source": [
    "contributorsButNoFundingInfomration = (fundingDatasetMetadataInHDVDF\n",
    "    .query(\n",
    "        '(contributorType == \"Funder\" and contributorName == contributorName)and\\\n",
    "        grantNumberAgency != grantNumberAgency')\n",
    "    .reset_index(drop=True, inplace=False))"
   ],
   "metadata": {
    "collapsed": false,
    "pycharm": {
     "name": "#%%\n"
    }
   }
  },
  {
   "cell_type": "code",
   "execution_count": 98,
   "outputs": [
    {
     "data": {
      "text/plain": "                      dataset_pid_url  dataset_version_number  \\\n0  https://doi.org/10.7910/DVN/07W79B                     1.0   \n1  https://doi.org/10.7910/DVN/0EOCBE                     1.0   \n2  https://doi.org/10.7910/DVN/0RTJP3                     1.2   \n3  https://doi.org/10.7910/DVN/1732LM                     1.5   \n4  https://doi.org/10.7910/DVN/1732LM                     1.5   \n\n  dataset_version_create_time dataverse_alias grantNumberAgency  \\\n0   2022-01-05 03:05:32+00:00       worldfish               NaN   \n1   2021-12-02 07:07:56+00:00       worldfish               NaN   \n2   2021-08-25 07:43:29+00:00             NPP               NaN   \n3   2020-10-13 07:12:01+00:00       worldfish               NaN   \n4   2020-10-13 07:12:01+00:00       worldfish               NaN   \n\n  grantNumberValue contributorType  \\\n0              NaN          Funder   \n1              NaN          Funder   \n2              NaN          Funder   \n3              NaN          Funder   \n4              NaN          Funder   \n\n                                     contributorName  \n0                                           FISH CRP  \n1                             Feed the Future, USAID  \n2                                           FISH CRP  \n3  Indonesia Endowment Fund for Education (LPDP S...  \n4                 Aceh Aquaculture Cooperative (AAC)  ",
      "text/html": "<div><div id=23529d0f-0f17-4997-93cb-a166a8b40529 style=\"display:none; background-color:#9D6CFF; color:white; width:200px; height:30px; padding-left:5px; border-radius:4px; flex-direction:row; justify-content:space-around; align-items:center;\" onmouseover=\"this.style.backgroundColor='#BA9BF8'\" onmouseout=\"this.style.backgroundColor='#9D6CFF'\" onclick=\"window.commands?.execute('create-mitosheet-from-dataframe-output');\">See Full Dataframe in Mito</div> <script> if (window.commands.hasCommand('create-mitosheet-from-dataframe-output')) document.getElementById('23529d0f-0f17-4997-93cb-a166a8b40529').style.display = 'flex' </script> <table border=\"1\" class=\"dataframe\">\n  <thead>\n    <tr style=\"text-align: right;\">\n      <th></th>\n      <th>dataset_pid_url</th>\n      <th>dataset_version_number</th>\n      <th>dataset_version_create_time</th>\n      <th>dataverse_alias</th>\n      <th>grantNumberAgency</th>\n      <th>grantNumberValue</th>\n      <th>contributorType</th>\n      <th>contributorName</th>\n    </tr>\n  </thead>\n  <tbody>\n    <tr>\n      <th>0</th>\n      <td>https://doi.org/10.7910/DVN/07W79B</td>\n      <td>1.0</td>\n      <td>2022-01-05 03:05:32+00:00</td>\n      <td>worldfish</td>\n      <td>NaN</td>\n      <td>NaN</td>\n      <td>Funder</td>\n      <td>FISH CRP</td>\n    </tr>\n    <tr>\n      <th>1</th>\n      <td>https://doi.org/10.7910/DVN/0EOCBE</td>\n      <td>1.0</td>\n      <td>2021-12-02 07:07:56+00:00</td>\n      <td>worldfish</td>\n      <td>NaN</td>\n      <td>NaN</td>\n      <td>Funder</td>\n      <td>Feed the Future, USAID</td>\n    </tr>\n    <tr>\n      <th>2</th>\n      <td>https://doi.org/10.7910/DVN/0RTJP3</td>\n      <td>1.2</td>\n      <td>2021-08-25 07:43:29+00:00</td>\n      <td>NPP</td>\n      <td>NaN</td>\n      <td>NaN</td>\n      <td>Funder</td>\n      <td>FISH CRP</td>\n    </tr>\n    <tr>\n      <th>3</th>\n      <td>https://doi.org/10.7910/DVN/1732LM</td>\n      <td>1.5</td>\n      <td>2020-10-13 07:12:01+00:00</td>\n      <td>worldfish</td>\n      <td>NaN</td>\n      <td>NaN</td>\n      <td>Funder</td>\n      <td>Indonesia Endowment Fund for Education (LPDP Scholarship)</td>\n    </tr>\n    <tr>\n      <th>4</th>\n      <td>https://doi.org/10.7910/DVN/1732LM</td>\n      <td>1.5</td>\n      <td>2020-10-13 07:12:01+00:00</td>\n      <td>worldfish</td>\n      <td>NaN</td>\n      <td>NaN</td>\n      <td>Funder</td>\n      <td>Aceh Aquaculture Cooperative (AAC)</td>\n    </tr>\n  </tbody>\n</table></div>"
     },
     "execution_count": 98,
     "metadata": {},
     "output_type": "execute_result"
    }
   ],
   "source": [
    "contributorsButNoFundingInfomration.head()"
   ],
   "metadata": {
    "collapsed": false,
    "pycharm": {
     "name": "#%%\n"
    }
   }
  },
  {
   "cell_type": "code",
   "execution_count": 99,
   "outputs": [],
   "source": [
    "# contributorsButNoFundingInfomration.to_csv('contributorsButNoFundingInfomration.csv', index=False)"
   ],
   "metadata": {
    "collapsed": false,
    "pycharm": {
     "name": "#%%\n"
    }
   }
  }
 ],
 "metadata": {
  "kernelspec": {
   "display_name": "Python 3",
   "language": "python",
   "name": "python3"
  },
  "language_info": {
   "codemirror_mode": {
    "name": "ipython",
    "version": 2
   },
   "file_extension": ".py",
   "mimetype": "text/x-python",
   "name": "python",
   "nbconvert_exporter": "python",
   "pygments_lexer": "ipython2",
   "version": "2.7.6"
  }
 },
 "nbformat": 4,
 "nbformat_minor": 0
}