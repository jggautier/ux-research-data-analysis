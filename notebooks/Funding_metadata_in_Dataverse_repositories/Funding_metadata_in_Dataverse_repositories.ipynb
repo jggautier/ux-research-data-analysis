{
 "cells": [
  {
   "cell_type": "code",
   "execution_count": 1,
   "metadata": {
    "collapsed": true
   },
   "outputs": [],
   "source": [
    "from functools import reduce\n",
    "import pandas as pd"
   ]
  },
  {
   "cell_type": "markdown",
   "source": [
    "# Purpose\n",
    "Dataverse ships with two metadata fields where depositors can enter the names of funders: In the Funding Information Agency field and in the Contributor field when they choose the Contributor Type \"Funder\".\n",
    "\n",
    "Who uses these fields and why? We need to learn if the design of the fields are meeting some need that we weren't aware of and if we can re-design them to improve how funder metadata is used to describe who funds data and to search for data based on funders.\n",
    "\n",
    "In this notebooks we'll be looking at the metadata of the latest versions of published datasets in most of the known Dataverse installations. Looking only at the metadata of the latest versions of each dataset might cause us to miss some things, such as under counting of the number of times people have used either or both fields to enter funder names. For example, the first version of a dataset might have both fields filled, but the latest version might have only one because a curator decided to use just one. By considering only the latest version of each dataset, we'll miss cases like this. But considering the metadata of only the latest published versions should help simplify this review."
   ],
   "metadata": {
    "collapsed": false,
    "pycharm": {
     "name": "#%% md\n"
    }
   }
  },
  {
   "cell_type": "markdown",
   "source": [
    "# Prepare the data"
   ],
   "metadata": {
    "collapsed": false,
    "pycharm": {
     "name": "#%% md\n"
    }
   }
  },
  {
   "cell_type": "code",
   "execution_count": 2,
   "outputs": [
    {
     "data": {
      "text/plain": "  dataverse_installation_name                  dataset_pid_url  \\\n0     UNB_Libraries_Dataverse  https://doi.org/10.25545/NVN79Z   \n1     UNB_Libraries_Dataverse  https://doi.org/10.25545/YB60PU   \n2     UNB_Libraries_Dataverse  https://doi.org/10.25545/WHD3KC   \n3     UNB_Libraries_Dataverse  https://doi.org/10.25545/6TZWCG   \n4     UNB_Libraries_Dataverse  https://doi.org/10.25545/NYM13B   \n\n  dataverse_collection_alias  \\\n0                        snb   \n1            blightchemistry   \n2            blightchemistry   \n3           Ir-CationBinding   \n4                     IFMLAB   \n\n                           dataverse_collection_name  \\\n0                              Service New Brunswick   \n1                Blight Chemistry Research Omniverse   \n2                Blight Chemistry Research Omniverse   \n3  Elucidation of Charge Contributions in Iridium...   \n4                   Integrated Forest Management Lab   \n\n    dataverse_collection_type  \n0  ORGANIZATIONS_INSTITUTIONS  \n1              RESEARCH_GROUP  \n2              RESEARCH_GROUP  \n3                    JOURNALS  \n4              RESEARCH_GROUP  ",
      "text/html": "<div><div id=906e8260-6755-4ab7-b4bf-d13ad83d7d80 style=\"display:none; background-color:#9D6CFF; color:white; width:200px; height:30px; padding-left:5px; border-radius:4px; flex-direction:row; justify-content:space-around; align-items:center;\" onmouseover=\"this.style.backgroundColor='#BA9BF8'\" onmouseout=\"this.style.backgroundColor='#9D6CFF'\" onclick=\"window.commands?.execute('create-mitosheet-from-dataframe-output');\">See Full Dataframe in Mito</div> <script> if (window.commands.hasCommand('create-mitosheet-from-dataframe-output')) document.getElementById('906e8260-6755-4ab7-b4bf-d13ad83d7d80').style.display = 'flex' </script> <table border=\"1\" class=\"dataframe\">\n  <thead>\n    <tr style=\"text-align: right;\">\n      <th></th>\n      <th>dataverse_installation_name</th>\n      <th>dataset_pid_url</th>\n      <th>dataverse_collection_alias</th>\n      <th>dataverse_collection_name</th>\n      <th>dataverse_collection_type</th>\n    </tr>\n  </thead>\n  <tbody>\n    <tr>\n      <th>0</th>\n      <td>UNB_Libraries_Dataverse</td>\n      <td>https://doi.org/10.25545/NVN79Z</td>\n      <td>snb</td>\n      <td>Service New Brunswick</td>\n      <td>ORGANIZATIONS_INSTITUTIONS</td>\n    </tr>\n    <tr>\n      <th>1</th>\n      <td>UNB_Libraries_Dataverse</td>\n      <td>https://doi.org/10.25545/YB60PU</td>\n      <td>blightchemistry</td>\n      <td>Blight Chemistry Research Omniverse</td>\n      <td>RESEARCH_GROUP</td>\n    </tr>\n    <tr>\n      <th>2</th>\n      <td>UNB_Libraries_Dataverse</td>\n      <td>https://doi.org/10.25545/WHD3KC</td>\n      <td>blightchemistry</td>\n      <td>Blight Chemistry Research Omniverse</td>\n      <td>RESEARCH_GROUP</td>\n    </tr>\n    <tr>\n      <th>3</th>\n      <td>UNB_Libraries_Dataverse</td>\n      <td>https://doi.org/10.25545/6TZWCG</td>\n      <td>Ir-CationBinding</td>\n      <td>Elucidation of Charge Contributions in Iridium-Chelated Hydrogen-Bonding Systems</td>\n      <td>JOURNALS</td>\n    </tr>\n    <tr>\n      <th>4</th>\n      <td>UNB_Libraries_Dataverse</td>\n      <td>https://doi.org/10.25545/NYM13B</td>\n      <td>IFMLAB</td>\n      <td>Integrated Forest Management Lab</td>\n      <td>RESEARCH_GROUP</td>\n    </tr>\n  </tbody>\n</table></div>"
     },
     "execution_count": 2,
     "metadata": {},
     "output_type": "execute_result"
    }
   ],
   "source": [
    "# Import CSV file that lists PIDs and publication dates of all datasets, which Dataverse installation\n",
    "# they're published in, which Dataverse collections they're publishing in, and the type of collection\n",
    "datasetPIDsDF = (pd\n",
    "    .read_csv(\n",
    "        filepath_or_buffer='dataset_pids_from_most_known_dataverse_installations_2023.08.csv',\n",
    "        usecols=lambda x: x not in ['dataset_pid', 'dataverse_name'],\n",
    "        sep=',', na_filter=False)\n",
    "    # Remove datasets whose metadata couldn't be saved and datasets from ODISSEI_Portal, since that installation only indexes metadata from datasets that are published in other repositories\n",
    "    .query(\n",
    "        '(dataverse_json_export_saved == True) and\\\n",
    "        (dataverse_installation_name != \"ODISSEI_Portal\")')\n",
    "    .drop(columns=['dataverse_json_export_saved'])\n",
    "    .reset_index(drop=True, inplace=False)\n",
    ")\n",
    "\n",
    "datasetPIDsDF.head()"
   ],
   "metadata": {
    "collapsed": false,
    "pycharm": {
     "name": "#%%\n"
    }
   }
  },
  {
   "cell_type": "code",
   "execution_count": 3,
   "outputs": [
    {
     "name": "stdout",
     "output_type": "stream",
     "text": [
      "Count of distinct dataset PIDs in grantInformationMetadataDF: 114280\n"
     ]
    },
    {
     "data": {
      "text/plain": "                             dataset_pid_url dataset_publication_date  \\\n0         https://doi.org/10.7910/DVN/QD0V0H               2021-09-20   \n1     https://doi.org/10.17026/dans-xhp-2h3w               2019-10-02   \n2         https://doi.org/10.7910/DVN/FHUNGL               2021-10-19   \n3  https://hdl.handle.net/11272.1/AB2/ZZMOPP               2019-05-15   \n4     https://doi.org/10.17026/dans-xxz-qvjx               2020-06-20   \n\n   dataset_version_number dataset_version_create_time  \\\n0                     1.0        2021-07-29T19:45:43Z   \n1                     1.0        2022-01-31T03:58:32Z   \n2                     1.0        2021-08-10T15:31:09Z   \n3                     1.0        2020-08-21T23:23:32Z   \n4                     1.0        2022-01-29T06:23:21Z   \n\n                                   grantNumberAgency  \\\n0                           The Leon Levy Foundation   \n1                                                NWO   \n2                           The Leon Levy Foundation   \n3  Air Force Research Laboratory and Defense Adva...   \n4                                                NWO   \n\n                                    grantNumberValue  \n0                                                     \n1                                         380-60-007  \n2                                                     \n3  Air Force Research Laboratory and Defense Adva...  \n4                                         380-60-007  ",
      "text/html": "<div><div id=dc00012b-827e-48c0-b0fc-ed92fb881387 style=\"display:none; background-color:#9D6CFF; color:white; width:200px; height:30px; padding-left:5px; border-radius:4px; flex-direction:row; justify-content:space-around; align-items:center;\" onmouseover=\"this.style.backgroundColor='#BA9BF8'\" onmouseout=\"this.style.backgroundColor='#9D6CFF'\" onclick=\"window.commands?.execute('create-mitosheet-from-dataframe-output');\">See Full Dataframe in Mito</div> <script> if (window.commands.hasCommand('create-mitosheet-from-dataframe-output')) document.getElementById('dc00012b-827e-48c0-b0fc-ed92fb881387').style.display = 'flex' </script> <table border=\"1\" class=\"dataframe\">\n  <thead>\n    <tr style=\"text-align: right;\">\n      <th></th>\n      <th>dataset_pid_url</th>\n      <th>dataset_publication_date</th>\n      <th>dataset_version_number</th>\n      <th>dataset_version_create_time</th>\n      <th>grantNumberAgency</th>\n      <th>grantNumberValue</th>\n    </tr>\n  </thead>\n  <tbody>\n    <tr>\n      <th>0</th>\n      <td>https://doi.org/10.7910/DVN/QD0V0H</td>\n      <td>2021-09-20</td>\n      <td>1.0</td>\n      <td>2021-07-29T19:45:43Z</td>\n      <td>The Leon Levy Foundation</td>\n      <td></td>\n    </tr>\n    <tr>\n      <th>1</th>\n      <td>https://doi.org/10.17026/dans-xhp-2h3w</td>\n      <td>2019-10-02</td>\n      <td>1.0</td>\n      <td>2022-01-31T03:58:32Z</td>\n      <td>NWO</td>\n      <td>380-60-007</td>\n    </tr>\n    <tr>\n      <th>2</th>\n      <td>https://doi.org/10.7910/DVN/FHUNGL</td>\n      <td>2021-10-19</td>\n      <td>1.0</td>\n      <td>2021-08-10T15:31:09Z</td>\n      <td>The Leon Levy Foundation</td>\n      <td></td>\n    </tr>\n    <tr>\n      <th>3</th>\n      <td>https://hdl.handle.net/11272.1/AB2/ZZMOPP</td>\n      <td>2019-05-15</td>\n      <td>1.0</td>\n      <td>2020-08-21T23:23:32Z</td>\n      <td>Air Force Research Laboratory and Defense Advance Research Projects Agency</td>\n      <td>Air Force Research Laboratory and Defense Advance Research Projects Agency: FA8750-13-2-0045</td>\n    </tr>\n    <tr>\n      <th>4</th>\n      <td>https://doi.org/10.17026/dans-xxz-qvjx</td>\n      <td>2020-06-20</td>\n      <td>1.0</td>\n      <td>2022-01-29T06:23:21Z</td>\n      <td>NWO</td>\n      <td>380-60-007</td>\n    </tr>\n  </tbody>\n</table></div>"
     },
     "execution_count": 3,
     "metadata": {},
     "output_type": "execute_result"
    }
   ],
   "source": [
    "# Import funder metadata and remove the dataset_pid column\n",
    "grantInformationMetadataDF = pd.read_csv(\n",
    "    filepath_or_buffer='funding_information(citation)_2023.08.22-2023.08.28.csv',\n",
    "    usecols=lambda x: x not in ['dataset_pid'],\n",
    "    na_filter=False,\n",
    "    sep=',')\n",
    "\n",
    "print(f'Count of distinct dataset PIDs in grantInformationMetadataDF: {len(pd.unique(grantInformationMetadataDF[\"dataset_pid_url\"]))}')\n",
    "\n",
    "grantInformationMetadataDF.head()"
   ],
   "metadata": {
    "collapsed": false,
    "pycharm": {
     "name": "#%%\n"
    }
   }
  },
  {
   "cell_type": "code",
   "execution_count": 4,
   "outputs": [
    {
     "name": "stdout",
     "output_type": "stream",
     "text": [
      "Count of distinct dataset PIDs in contributorMetadataDF: 8655\n"
     ]
    },
    {
     "data": {
      "text/plain": "                      dataset_pid_url dataset_publication_date  \\\n0  https://doi.org/10.5683/SP3/6FFGZN               2021-11-04   \n1  https://doi.org/10.5683/SP3/XCS9W2               2021-11-04   \n2  https://doi.org/10.5683/SP3/N4FNRC               2021-11-04   \n3  https://doi.org/10.5683/SP3/DGXLXB               2021-11-04   \n4  https://doi.org/10.5683/SP3/4WSVNS               2021-11-04   \n\n   dataset_version_number dataset_version_create_time contributorType  \\\n0                     1.2        2021-12-09T18:34:39Z          Funder   \n1                     1.2        2021-12-10T15:12:54Z          Funder   \n2                     1.2        2021-12-09T14:49:06Z          Funder   \n3                     1.2        2021-12-10T15:55:51Z          Funder   \n4                     1.2        2021-12-08T21:45:32Z          Funder   \n\n   contributorName  \n0  Compute Ontario  \n1  Compute Ontario  \n2  Compute Ontario  \n3  Compute Ontario  \n4  Compute Ontario  ",
      "text/html": "<div><div id=0668fa60-7ec1-4161-8856-7f6803115ea8 style=\"display:none; background-color:#9D6CFF; color:white; width:200px; height:30px; padding-left:5px; border-radius:4px; flex-direction:row; justify-content:space-around; align-items:center;\" onmouseover=\"this.style.backgroundColor='#BA9BF8'\" onmouseout=\"this.style.backgroundColor='#9D6CFF'\" onclick=\"window.commands?.execute('create-mitosheet-from-dataframe-output');\">See Full Dataframe in Mito</div> <script> if (window.commands.hasCommand('create-mitosheet-from-dataframe-output')) document.getElementById('0668fa60-7ec1-4161-8856-7f6803115ea8').style.display = 'flex' </script> <table border=\"1\" class=\"dataframe\">\n  <thead>\n    <tr style=\"text-align: right;\">\n      <th></th>\n      <th>dataset_pid_url</th>\n      <th>dataset_publication_date</th>\n      <th>dataset_version_number</th>\n      <th>dataset_version_create_time</th>\n      <th>contributorType</th>\n      <th>contributorName</th>\n    </tr>\n  </thead>\n  <tbody>\n    <tr>\n      <th>0</th>\n      <td>https://doi.org/10.5683/SP3/6FFGZN</td>\n      <td>2021-11-04</td>\n      <td>1.2</td>\n      <td>2021-12-09T18:34:39Z</td>\n      <td>Funder</td>\n      <td>Compute Ontario</td>\n    </tr>\n    <tr>\n      <th>1</th>\n      <td>https://doi.org/10.5683/SP3/XCS9W2</td>\n      <td>2021-11-04</td>\n      <td>1.2</td>\n      <td>2021-12-10T15:12:54Z</td>\n      <td>Funder</td>\n      <td>Compute Ontario</td>\n    </tr>\n    <tr>\n      <th>2</th>\n      <td>https://doi.org/10.5683/SP3/N4FNRC</td>\n      <td>2021-11-04</td>\n      <td>1.2</td>\n      <td>2021-12-09T14:49:06Z</td>\n      <td>Funder</td>\n      <td>Compute Ontario</td>\n    </tr>\n    <tr>\n      <th>3</th>\n      <td>https://doi.org/10.5683/SP3/DGXLXB</td>\n      <td>2021-11-04</td>\n      <td>1.2</td>\n      <td>2021-12-10T15:55:51Z</td>\n      <td>Funder</td>\n      <td>Compute Ontario</td>\n    </tr>\n    <tr>\n      <th>4</th>\n      <td>https://doi.org/10.5683/SP3/4WSVNS</td>\n      <td>2021-11-04</td>\n      <td>1.2</td>\n      <td>2021-12-08T21:45:32Z</td>\n      <td>Funder</td>\n      <td>Compute Ontario</td>\n    </tr>\n  </tbody>\n</table></div>"
     },
     "execution_count": 4,
     "metadata": {},
     "output_type": "execute_result"
    }
   ],
   "source": [
    "# Import contributor metadata, remove the dataset_pid column and include only contributors who are the \"Funder\" contributor type\n",
    "contributorMetadataDF = (pd\n",
    "    .read_csv(\n",
    "        filepath_or_buffer='contributor(citation)_2023.08.22-2023.08.28.csv',\n",
    "        usecols=lambda x: x not in ['dataset_pid'],\n",
    "        na_filter=False,\n",
    "        sep=',')\n",
    "    .query('(contributorType == \"Funder\")')\n",
    "    .reset_index(drop=True, inplace=False))\n",
    "\n",
    "print(f'Count of distinct dataset PIDs in contributorMetadataDF: {len(pd.unique(contributorMetadataDF[\"dataset_pid_url\"]))}')\n",
    "\n",
    "contributorMetadataDF.head()"
   ],
   "metadata": {
    "collapsed": false,
    "pycharm": {
     "name": "#%%\n"
    }
   }
  },
  {
   "cell_type": "code",
   "execution_count": 5,
   "outputs": [
    {
     "data": {
      "text/plain": "                      dataset_pid_url dataset_publication_date  \\\n0  https://doi.org/10.5683/SP3/6FFGZN               2021-11-04   \n1  https://doi.org/10.5683/SP3/XCS9W2               2021-11-04   \n2  https://doi.org/10.5683/SP3/N4FNRC               2021-11-04   \n3  https://doi.org/10.5683/SP3/DGXLXB               2021-11-04   \n4  https://doi.org/10.5683/SP3/4WSVNS               2021-11-04   \n\n   dataset_version_number dataset_version_create_time contributorType  \\\n0                     1.2        2021-12-09T18:34:39Z          Funder   \n1                     1.2        2021-12-10T15:12:54Z          Funder   \n2                     1.2        2021-12-09T14:49:06Z          Funder   \n3                     1.2        2021-12-10T15:55:51Z          Funder   \n4                     1.2        2021-12-08T21:45:32Z          Funder   \n\n   contributorName grantNumberAgency grantNumberValue  \n0  Compute Ontario               NaN              NaN  \n1  Compute Ontario               NaN              NaN  \n2  Compute Ontario               NaN              NaN  \n3  Compute Ontario               NaN              NaN  \n4  Compute Ontario               NaN              NaN  ",
      "text/html": "<div><div id=be05c449-4d65-4812-908f-733678b299b5 style=\"display:none; background-color:#9D6CFF; color:white; width:200px; height:30px; padding-left:5px; border-radius:4px; flex-direction:row; justify-content:space-around; align-items:center;\" onmouseover=\"this.style.backgroundColor='#BA9BF8'\" onmouseout=\"this.style.backgroundColor='#9D6CFF'\" onclick=\"window.commands?.execute('create-mitosheet-from-dataframe-output');\">See Full Dataframe in Mito</div> <script> if (window.commands.hasCommand('create-mitosheet-from-dataframe-output')) document.getElementById('be05c449-4d65-4812-908f-733678b299b5').style.display = 'flex' </script> <table border=\"1\" class=\"dataframe\">\n  <thead>\n    <tr style=\"text-align: right;\">\n      <th></th>\n      <th>dataset_pid_url</th>\n      <th>dataset_publication_date</th>\n      <th>dataset_version_number</th>\n      <th>dataset_version_create_time</th>\n      <th>contributorType</th>\n      <th>contributorName</th>\n      <th>grantNumberAgency</th>\n      <th>grantNumberValue</th>\n    </tr>\n  </thead>\n  <tbody>\n    <tr>\n      <th>0</th>\n      <td>https://doi.org/10.5683/SP3/6FFGZN</td>\n      <td>2021-11-04</td>\n      <td>1.2</td>\n      <td>2021-12-09T18:34:39Z</td>\n      <td>Funder</td>\n      <td>Compute Ontario</td>\n      <td>NaN</td>\n      <td>NaN</td>\n    </tr>\n    <tr>\n      <th>1</th>\n      <td>https://doi.org/10.5683/SP3/XCS9W2</td>\n      <td>2021-11-04</td>\n      <td>1.2</td>\n      <td>2021-12-10T15:12:54Z</td>\n      <td>Funder</td>\n      <td>Compute Ontario</td>\n      <td>NaN</td>\n      <td>NaN</td>\n    </tr>\n    <tr>\n      <th>2</th>\n      <td>https://doi.org/10.5683/SP3/N4FNRC</td>\n      <td>2021-11-04</td>\n      <td>1.2</td>\n      <td>2021-12-09T14:49:06Z</td>\n      <td>Funder</td>\n      <td>Compute Ontario</td>\n      <td>NaN</td>\n      <td>NaN</td>\n    </tr>\n    <tr>\n      <th>3</th>\n      <td>https://doi.org/10.5683/SP3/DGXLXB</td>\n      <td>2021-11-04</td>\n      <td>1.2</td>\n      <td>2021-12-10T15:55:51Z</td>\n      <td>Funder</td>\n      <td>Compute Ontario</td>\n      <td>NaN</td>\n      <td>NaN</td>\n    </tr>\n    <tr>\n      <th>4</th>\n      <td>https://doi.org/10.5683/SP3/4WSVNS</td>\n      <td>2021-11-04</td>\n      <td>1.2</td>\n      <td>2021-12-08T21:45:32Z</td>\n      <td>Funder</td>\n      <td>Compute Ontario</td>\n      <td>NaN</td>\n      <td>NaN</td>\n    </tr>\n  </tbody>\n</table></div>"
     },
     "execution_count": 5,
     "metadata": {},
     "output_type": "execute_result"
    }
   ],
   "source": [
    "# Join grantInformationMetadataDF and contributorMetadataDF\n",
    "funderAndContributorFunderMetadataDF = (pd\n",
    "    .merge(\n",
    "        left=contributorMetadataDF,\n",
    "        right=grantInformationMetadataDF,\n",
    "        how='outer',\n",
    "        on=['dataset_pid_url', 'dataset_publication_date', 'dataset_version_number', 'dataset_version_create_time'])\n",
    "    .reset_index(drop=True, inplace=False))\n",
    "\n",
    "funderAndContributorFunderMetadataDF.head()"
   ],
   "metadata": {
    "collapsed": false,
    "pycharm": {
     "name": "#%%\n"
    }
   }
  },
  {
   "cell_type": "code",
   "execution_count": 6,
   "outputs": [
    {
     "data": {
      "text/plain": "  dataverse_installation_name                     dataset_pid_url  \\\n0     UNB_Libraries_Dataverse     https://doi.org/10.25545/ZXDJZ7   \n1           Harvard_Dataverse  https://doi.org/10.7910/DVN/RXBNCZ   \n2           Harvard_Dataverse  https://doi.org/10.7910/DVN/YB9FWK   \n3           Harvard_Dataverse  https://doi.org/10.7910/DVN/EPP4MA   \n4           Harvard_Dataverse  https://doi.org/10.7910/DVN/97Q2B8   \n\n  dataverse_collection_alias              dataverse_collection_name  \\\n0                    MarsLab         Mars Science Laboratory at UNB   \n1        0000-0002-0068-6933                  IgboSynCorp Dataverse   \n2        0000-0002-0068-6933                  IgboSynCorp Dataverse   \n3  2001_US_race_crime_survey  2001 US Race & Crime Survey Dataverse   \n4                3EA-Lebanon                3EA Lebanon Impact Data   \n\n  dataverse_collection_type dataset_publication_date  dataset_version_number  \\\n0                LABORATORY               2020-09-12                     1.0   \n1            RESEARCH_GROUP               2022-07-08                     1.0   \n2            RESEARCH_GROUP               2022-07-07                     1.0   \n3         RESEARCH_PROJECTS               2015-06-18                     1.0   \n4         RESEARCH_PROJECTS               2022-01-31                     1.1   \n\n  dataset_version_create_time contributorType contributorName  \\\n0        2020-09-10T18:59:57Z             NaN             NaN   \n1        2022-07-04T22:48:06Z          Funder     Lacuna Fund   \n2        2022-06-21T06:21:20Z             NaN             NaN   \n3        2015-06-18T22:55:51Z             NaN             NaN   \n4        2023-03-02T14:59:48Z          Funder     Dubai Cares   \n\n                                   grantNumberAgency     grantNumberValue  \n0                              Canadian Space Agency                       \n1  Meridian Institute, 105 Village Place, Dillion...  2020-02--3075551051  \n2              Lacuna Fund of the Meridian Institute  2020-02--3075551051  \n3                       National Science Foundation               9906346  \n4                                                NaN                  NaN  ",
      "text/html": "<div><div id=74c73c32-1115-41bb-8a75-31d84e19e14c style=\"display:none; background-color:#9D6CFF; color:white; width:200px; height:30px; padding-left:5px; border-radius:4px; flex-direction:row; justify-content:space-around; align-items:center;\" onmouseover=\"this.style.backgroundColor='#BA9BF8'\" onmouseout=\"this.style.backgroundColor='#9D6CFF'\" onclick=\"window.commands?.execute('create-mitosheet-from-dataframe-output');\">See Full Dataframe in Mito</div> <script> if (window.commands.hasCommand('create-mitosheet-from-dataframe-output')) document.getElementById('74c73c32-1115-41bb-8a75-31d84e19e14c').style.display = 'flex' </script> <table border=\"1\" class=\"dataframe\">\n  <thead>\n    <tr style=\"text-align: right;\">\n      <th></th>\n      <th>dataverse_installation_name</th>\n      <th>dataset_pid_url</th>\n      <th>dataverse_collection_alias</th>\n      <th>dataverse_collection_name</th>\n      <th>dataverse_collection_type</th>\n      <th>dataset_publication_date</th>\n      <th>dataset_version_number</th>\n      <th>dataset_version_create_time</th>\n      <th>contributorType</th>\n      <th>contributorName</th>\n      <th>grantNumberAgency</th>\n      <th>grantNumberValue</th>\n    </tr>\n  </thead>\n  <tbody>\n    <tr>\n      <th>0</th>\n      <td>UNB_Libraries_Dataverse</td>\n      <td>https://doi.org/10.25545/ZXDJZ7</td>\n      <td>MarsLab</td>\n      <td>Mars Science Laboratory at UNB</td>\n      <td>LABORATORY</td>\n      <td>2020-09-12</td>\n      <td>1.0</td>\n      <td>2020-09-10T18:59:57Z</td>\n      <td>NaN</td>\n      <td>NaN</td>\n      <td>Canadian Space Agency</td>\n      <td></td>\n    </tr>\n    <tr>\n      <th>1</th>\n      <td>Harvard_Dataverse</td>\n      <td>https://doi.org/10.7910/DVN/RXBNCZ</td>\n      <td>0000-0002-0068-6933</td>\n      <td>IgboSynCorp Dataverse</td>\n      <td>RESEARCH_GROUP</td>\n      <td>2022-07-08</td>\n      <td>1.0</td>\n      <td>2022-07-04T22:48:06Z</td>\n      <td>Funder</td>\n      <td>Lacuna Fund</td>\n      <td>Meridian Institute, 105 Village Place, Dillion, Colorado 80435, United States of America</td>\n      <td>2020-02--3075551051</td>\n    </tr>\n    <tr>\n      <th>2</th>\n      <td>Harvard_Dataverse</td>\n      <td>https://doi.org/10.7910/DVN/YB9FWK</td>\n      <td>0000-0002-0068-6933</td>\n      <td>IgboSynCorp Dataverse</td>\n      <td>RESEARCH_GROUP</td>\n      <td>2022-07-07</td>\n      <td>1.0</td>\n      <td>2022-06-21T06:21:20Z</td>\n      <td>NaN</td>\n      <td>NaN</td>\n      <td>Lacuna Fund of the Meridian Institute</td>\n      <td>2020-02--3075551051</td>\n    </tr>\n    <tr>\n      <th>3</th>\n      <td>Harvard_Dataverse</td>\n      <td>https://doi.org/10.7910/DVN/EPP4MA</td>\n      <td>2001_US_race_crime_survey</td>\n      <td>2001 US Race &amp; Crime Survey Dataverse</td>\n      <td>RESEARCH_PROJECTS</td>\n      <td>2015-06-18</td>\n      <td>1.0</td>\n      <td>2015-06-18T22:55:51Z</td>\n      <td>NaN</td>\n      <td>NaN</td>\n      <td>National Science Foundation</td>\n      <td>9906346</td>\n    </tr>\n    <tr>\n      <th>4</th>\n      <td>Harvard_Dataverse</td>\n      <td>https://doi.org/10.7910/DVN/97Q2B8</td>\n      <td>3EA-Lebanon</td>\n      <td>3EA Lebanon Impact Data</td>\n      <td>RESEARCH_PROJECTS</td>\n      <td>2022-01-31</td>\n      <td>1.1</td>\n      <td>2023-03-02T14:59:48Z</td>\n      <td>Funder</td>\n      <td>Dubai Cares</td>\n      <td>NaN</td>\n      <td>NaN</td>\n    </tr>\n  </tbody>\n</table></div>"
     },
     "execution_count": 6,
     "metadata": {},
     "output_type": "execute_result"
    }
   ],
   "source": [
    "# Join datasetPIDsDF and funderAndContributorFunderMetadataDF\n",
    "allFunderNameDataDF = (pd\n",
    "    .merge(\n",
    "        left=datasetPIDsDF,\n",
    "        right=funderAndContributorFunderMetadataDF,\n",
    "        how='inner',\n",
    "        on=['dataset_pid_url'])\n",
    "    .reset_index(drop=True, inplace=False))\n",
    "\n",
    "allFunderNameDataDF.head()"
   ],
   "metadata": {
    "collapsed": false,
    "pycharm": {
     "name": "#%%\n"
    }
   }
  },
  {
   "cell_type": "code",
   "execution_count": 7,
   "outputs": [],
   "source": [
    "# Export dataframe to a CSV file\n",
    "# allDataDF.to_csv('allFunderNameDataDF.csv', index=False)"
   ],
   "metadata": {
    "collapsed": false,
    "pycharm": {
     "name": "#%%\n"
    }
   }
  },
  {
   "cell_type": "markdown",
   "source": [
    "## Exploring the data\n",
    "\n",
    "Now that we've got the funding metadata of many datasets in known Dataverse repositories, as of late August 2023, let's start answering our questions. How many datasets in each installation have funder metadata in either or both of the fields?"
   ],
   "metadata": {
    "collapsed": false,
    "pycharm": {
     "name": "#%% md\n"
    }
   }
  },
  {
   "cell_type": "code",
   "execution_count": 8,
   "outputs": [],
   "source": [
    "# Let's save the queries we'll be using later to find datasets that have metadata in either or both fields\n",
    "allRowsQuery = 'tuple()'\n",
    "onlyFunderAgencyNameQuery = 'grantNumberAgency == grantNumberAgency and contributorName.isnull()'\n",
    "onlyContributorQuery = '(contributorType == \"Funder\" and contributorName == contributorName) and\\\n",
    "    grantNumberAgency.isnull()'\n",
    "bothFieldsQuery = '(grantNumberAgency == grantNumberAgency and grantNumberAgency != \"\") and\\\n",
    "        (contributorType == \"Funder\" and contributorName == contributorName)'\n",
    "\n",
    "# Function for creating a dataframe with counts of dataset based on given query and groupings\n",
    "def createCountsDF(dataframe, countsQuery, nameOfCountsColumn, groupBy, sortBy, ascendingSort):\n",
    "    countsDataframe = (dataframe\n",
    "        .query(countsQuery, engine='python')\n",
    "        .drop(columns=dataframe.columns.difference(['dataset_pid_url', groupBy]))\n",
    "        .drop_duplicates()\n",
    "        .groupby([groupBy]).count()\n",
    "        .rename(columns={'dataset_pid_url': nameOfCountsColumn})\n",
    "        .sort_values(by=[sortBy], ascending=ascendingSort)\n",
    "        .reset_index(drop=False, inplace=False))\n",
    "    return countsDataframe"
   ],
   "metadata": {
    "collapsed": false,
    "pycharm": {
     "name": "#%%\n"
    }
   }
  },
  {
   "cell_type": "code",
   "execution_count": 9,
   "outputs": [],
   "source": [
    "# Now let's use that function to create tables that show...\n",
    "\n",
    "# Count of all datasets in each installation\n",
    "countOfDatasetsPerInstallationDF = createCountsDF(\n",
    "    dataframe=datasetPIDsDF,\n",
    "    countsQuery=allRowsQuery,\n",
    "    nameOfCountsColumn='count_of_datasets',\n",
    "    groupBy='dataverse_installation_name',\n",
    "    sortBy='dataverse_installation_name',\n",
    "    ascendingSort=True)\n",
    "\n",
    "# Count of datasets in each installations that have funder names in any of the two fields\n",
    "countOfDatasetsWithAnyFunderMetadataPerInstallationDF = createCountsDF(\n",
    "    dataframe=allFunderNameDataDF,\n",
    "    countsQuery=allRowsQuery,\n",
    "    nameOfCountsColumn='count_of_datasets_with_funder_names_either_field',\n",
    "    groupBy='dataverse_installation_name',\n",
    "    sortBy='dataverse_installation_name',\n",
    "    ascendingSort=True)\n",
    "\n",
    "# Count of datasets in each installations that have funder names only in the Contributor field,\n",
    "countOfFunderNameinOnlyContributorFieldsDF = createCountsDF(\n",
    "    dataframe=allFunderNameDataDF,\n",
    "    countsQuery=onlyContributorQuery,\n",
    "    nameOfCountsColumn='count_of_datasets_with_funders_names_only_contributor_field',\n",
    "    groupBy='dataverse_installation_name',\n",
    "    sortBy='dataverse_installation_name',\n",
    "    ascendingSort=True)\n",
    "\n",
    "# Count of datasets in each installations that have funder names only in the Funder Information field\n",
    "countOfFunderNameinOnlyFunderAgencyNameFieldsDF = createCountsDF(\n",
    "    dataframe=allFunderNameDataDF,\n",
    "    countsQuery=onlyFunderAgencyNameQuery,\n",
    "    nameOfCountsColumn='count_of_datasets_with_funder_names_only_funder_agency_name_field',\n",
    "    groupBy='dataverse_installation_name',\n",
    "    sortBy='dataverse_installation_name',\n",
    "    ascendingSort=True)\n",
    "\n",
    "# Count of datasets in each installations that have funder names in both fields\n",
    "countOfFunderNameinBothFieldsDF = createCountsDF(\n",
    "    dataframe=allFunderNameDataDF,\n",
    "    countsQuery=bothFieldsQuery,\n",
    "    nameOfCountsColumn='count_of_datasets_with_funder_names_both_fields',\n",
    "    groupBy='dataverse_installation_name',\n",
    "    sortBy='dataverse_installation_name',\n",
    "    ascendingSort=True)"
   ],
   "metadata": {
    "collapsed": false,
    "pycharm": {
     "name": "#%%\n"
    }
   }
  },
  {
   "cell_type": "code",
   "execution_count": 10,
   "outputs": [
    {
     "data": {
      "text/plain": "            dataverse_installation_name  count_of_datasets  \\\n0                        ACSS_Dataverse                137   \n1                         ADA_Dataverse               1648   \n2  ASU_Library_Research_Data_Repository                 61   \n3                      AUSSDA_Dataverse               1517   \n4                                Abacus               2417   \n\n   count_of_datasets_with_funder_names_either_field  \\\n0                                                17   \n1                                               753   \n2                                                14   \n3                                              1497   \n4                                                84   \n\n   count_of_datasets_with_funders_names_only_contributor_field  \\\n0                                                  0             \n1                                                512             \n2                                                  0             \n3                                                  0             \n4                                                  0             \n\n   count_of_datasets_with_funder_names_only_funder_agency_name_field  \\\n0                                                 17                   \n1                                                 95                   \n2                                                 14                   \n3                                               1497                   \n4                                                 84                   \n\n   count_of_datasets_with_funder_names_both_fields  \n0                                                0  \n1                                               90  \n2                                                0  \n3                                                0  \n4                                                0  ",
      "text/html": "<div><div id=c00da9a5-e252-472b-8aa7-811471914059 style=\"display:none; background-color:#9D6CFF; color:white; width:200px; height:30px; padding-left:5px; border-radius:4px; flex-direction:row; justify-content:space-around; align-items:center;\" onmouseover=\"this.style.backgroundColor='#BA9BF8'\" onmouseout=\"this.style.backgroundColor='#9D6CFF'\" onclick=\"window.commands?.execute('create-mitosheet-from-dataframe-output');\">See Full Dataframe in Mito</div> <script> if (window.commands.hasCommand('create-mitosheet-from-dataframe-output')) document.getElementById('c00da9a5-e252-472b-8aa7-811471914059').style.display = 'flex' </script> <table border=\"1\" class=\"dataframe\">\n  <thead>\n    <tr style=\"text-align: right;\">\n      <th></th>\n      <th>dataverse_installation_name</th>\n      <th>count_of_datasets</th>\n      <th>count_of_datasets_with_funder_names_either_field</th>\n      <th>count_of_datasets_with_funders_names_only_contributor_field</th>\n      <th>count_of_datasets_with_funder_names_only_funder_agency_name_field</th>\n      <th>count_of_datasets_with_funder_names_both_fields</th>\n    </tr>\n  </thead>\n  <tbody>\n    <tr>\n      <th>0</th>\n      <td>ACSS_Dataverse</td>\n      <td>137</td>\n      <td>17</td>\n      <td>0</td>\n      <td>17</td>\n      <td>0</td>\n    </tr>\n    <tr>\n      <th>1</th>\n      <td>ADA_Dataverse</td>\n      <td>1648</td>\n      <td>753</td>\n      <td>512</td>\n      <td>95</td>\n      <td>90</td>\n    </tr>\n    <tr>\n      <th>2</th>\n      <td>ASU_Library_Research_Data_Repository</td>\n      <td>61</td>\n      <td>14</td>\n      <td>0</td>\n      <td>14</td>\n      <td>0</td>\n    </tr>\n    <tr>\n      <th>3</th>\n      <td>AUSSDA_Dataverse</td>\n      <td>1517</td>\n      <td>1497</td>\n      <td>0</td>\n      <td>1497</td>\n      <td>0</td>\n    </tr>\n    <tr>\n      <th>4</th>\n      <td>Abacus</td>\n      <td>2417</td>\n      <td>84</td>\n      <td>0</td>\n      <td>84</td>\n      <td>0</td>\n    </tr>\n  </tbody>\n</table></div>"
     },
     "execution_count": 10,
     "metadata": {},
     "output_type": "execute_result"
    }
   ],
   "source": [
    "# Let's merge these five dataframes\n",
    "dataframes = [\n",
    "    countOfDatasetsPerInstallationDF,\n",
    "    countOfDatasetsWithAnyFunderMetadataPerInstallationDF,\n",
    "    countOfFunderNameinOnlyContributorFieldsDF,\n",
    "    countOfFunderNameinOnlyFunderAgencyNameFieldsDF,\n",
    "    countOfFunderNameinBothFieldsDF\n",
    "]\n",
    "indexList = ['dataverse_installation_name']\n",
    "for df in dataframes:\n",
    "    df.set_index(indexList, inplace=True)\n",
    "allCountsDF = reduce(lambda left, right: left.join(right, how='outer'), dataframes)\n",
    "\n",
    "# Format the data so that...\n",
    "allCountsDF = (allCountsDF\n",
    "    # NaN values are changed to 0\n",
    "    .fillna(0)\n",
    "    # Values in new count columns are integers instead of floats\n",
    "    .astype({\n",
    "        'count_of_datasets_with_funder_names_either_field': 'int',\n",
    "        'count_of_datasets_with_funders_names_only_contributor_field': 'int',\n",
    "        'count_of_datasets_with_funder_names_only_funder_agency_name_field': 'int',\n",
    "        'count_of_datasets_with_funder_names_both_fields': 'int'})\n",
    "    # Reset index\n",
    "    .reset_index(drop=False, inplace=False))\n",
    "\n",
    "# # Let's add a column that shows the percentage of all datasets that have funder metadata either field\n",
    "# countOfDatasetsTotalAndWithFunderMetadataDF['percentage_with_funder_metadata'] = (\n",
    "#     (\n",
    "#         countOfDatasetsTotalAndWithFunderMetadataDF['count_of_datasets_with_funders'] /\n",
    "#         countOfDatasetsTotalAndWithFunderMetadataDF['count_of_all_datasets'])*100).round(1)\n",
    "\n",
    "allCountsDF.head()\n",
    "\n",
    "# allCountsDF.to_csv('allCountsDF.csv', index=False)"
   ],
   "metadata": {
    "collapsed": false,
    "pycharm": {
     "name": "#%%\n"
    }
   }
  },
  {
   "cell_type": "markdown",
   "source": [
    "## Exploring installation's metadata\n",
    "There are a few installations with datasets whose depositors have used the Contributor Name field more often than the Funder Information field and a few with datasets whose depositors have used both fields:"
   ],
   "metadata": {
    "collapsed": false,
    "pycharm": {
     "name": "#%% md\n"
    }
   }
  },
  {
   "cell_type": "code",
   "source": [
    "installationsWithMoreFundersInContributorName = (allCountsDF\n",
    "    .query(\n",
    "        'count_of_datasets_with_funders_names_only_contributor_field >\\\n",
    "        count_of_datasets_with_funder_names_only_funder_agency_name_field',\n",
    "        engine='python')\n",
    "    .reset_index(drop=True, inplace=False))\n",
    "\n",
    "installationsWithMoreFundersInContributorName = installationsWithMoreFundersInContributorName[[\n",
    "    'dataverse_installation_name',\n",
    "    'count_of_datasets_with_funders_names_only_contributor_field',\n",
    "    'count_of_datasets_with_funder_names_only_funder_agency_name_field']]\n",
    "\n",
    "installationsWithMoreFundersInContributorName.head(10)"
   ],
   "metadata": {
    "collapsed": false,
    "pycharm": {
     "name": "#%%\n"
    }
   },
   "execution_count": 11,
   "outputs": [
    {
     "data": {
      "text/plain": "   dataverse_installation_name  \\\n0                ADA_Dataverse   \n1                     Borealis   \n2         CIMMYT_Research_Data   \n3  International_Potato_Center   \n4                      MELDATA   \n5                      PAPYRUS   \n\n   count_of_datasets_with_funders_names_only_contributor_field  \\\n0                                                512             \n1                                               5913             \n2                                                344             \n3                                                587             \n4                                                339             \n5                                                 12             \n\n   count_of_datasets_with_funder_names_only_funder_agency_name_field  \n0                                                 95                  \n1                                                911                  \n2                                                 27                  \n3                                                  1                  \n4                                                  0                  \n5                                                  5                  ",
      "text/html": "<div><div id=ea43c26d-ab52-4d3e-baa8-f50195ca75a4 style=\"display:none; background-color:#9D6CFF; color:white; width:200px; height:30px; padding-left:5px; border-radius:4px; flex-direction:row; justify-content:space-around; align-items:center;\" onmouseover=\"this.style.backgroundColor='#BA9BF8'\" onmouseout=\"this.style.backgroundColor='#9D6CFF'\" onclick=\"window.commands?.execute('create-mitosheet-from-dataframe-output');\">See Full Dataframe in Mito</div> <script> if (window.commands.hasCommand('create-mitosheet-from-dataframe-output')) document.getElementById('ea43c26d-ab52-4d3e-baa8-f50195ca75a4').style.display = 'flex' </script> <table border=\"1\" class=\"dataframe\">\n  <thead>\n    <tr style=\"text-align: right;\">\n      <th></th>\n      <th>dataverse_installation_name</th>\n      <th>count_of_datasets_with_funders_names_only_contributor_field</th>\n      <th>count_of_datasets_with_funder_names_only_funder_agency_name_field</th>\n    </tr>\n  </thead>\n  <tbody>\n    <tr>\n      <th>0</th>\n      <td>ADA_Dataverse</td>\n      <td>512</td>\n      <td>95</td>\n    </tr>\n    <tr>\n      <th>1</th>\n      <td>Borealis</td>\n      <td>5913</td>\n      <td>911</td>\n    </tr>\n    <tr>\n      <th>2</th>\n      <td>CIMMYT_Research_Data</td>\n      <td>344</td>\n      <td>27</td>\n    </tr>\n    <tr>\n      <th>3</th>\n      <td>International_Potato_Center</td>\n      <td>587</td>\n      <td>1</td>\n    </tr>\n    <tr>\n      <th>4</th>\n      <td>MELDATA</td>\n      <td>339</td>\n      <td>0</td>\n    </tr>\n    <tr>\n      <th>5</th>\n      <td>PAPYRUS</td>\n      <td>12</td>\n      <td>5</td>\n    </tr>\n  </tbody>\n</table></div>"
     },
     "execution_count": 11,
     "metadata": {},
     "output_type": "execute_result"
    }
   ]
  },
  {
   "cell_type": "code",
   "execution_count": 12,
   "outputs": [
    {
     "data": {
      "text/plain": "  dataverse_installation_name  count_of_datasets_with_funder_names_both_fields\n0           Harvard_Dataverse                                              263\n1               ADA_Dataverse                                               90\n2                     MELDATA                                               81\n3        CIMMYT_Research_Data                                               58\n4         Recherche_Data_Gouv                                               15",
      "text/html": "<div><div id=47f0c9b9-9590-4f04-85c2-9de9161d2c12 style=\"display:none; background-color:#9D6CFF; color:white; width:200px; height:30px; padding-left:5px; border-radius:4px; flex-direction:row; justify-content:space-around; align-items:center;\" onmouseover=\"this.style.backgroundColor='#BA9BF8'\" onmouseout=\"this.style.backgroundColor='#9D6CFF'\" onclick=\"window.commands?.execute('create-mitosheet-from-dataframe-output');\">See Full Dataframe in Mito</div> <script> if (window.commands.hasCommand('create-mitosheet-from-dataframe-output')) document.getElementById('47f0c9b9-9590-4f04-85c2-9de9161d2c12').style.display = 'flex' </script> <table border=\"1\" class=\"dataframe\">\n  <thead>\n    <tr style=\"text-align: right;\">\n      <th></th>\n      <th>dataverse_installation_name</th>\n      <th>count_of_datasets_with_funder_names_both_fields</th>\n    </tr>\n  </thead>\n  <tbody>\n    <tr>\n      <th>0</th>\n      <td>Harvard_Dataverse</td>\n      <td>263</td>\n    </tr>\n    <tr>\n      <th>1</th>\n      <td>ADA_Dataverse</td>\n      <td>90</td>\n    </tr>\n    <tr>\n      <th>2</th>\n      <td>MELDATA</td>\n      <td>81</td>\n    </tr>\n    <tr>\n      <th>3</th>\n      <td>CIMMYT_Research_Data</td>\n      <td>58</td>\n    </tr>\n    <tr>\n      <th>4</th>\n      <td>Recherche_Data_Gouv</td>\n      <td>15</td>\n    </tr>\n  </tbody>\n</table></div>"
     },
     "execution_count": 12,
     "metadata": {},
     "output_type": "execute_result"
    }
   ],
   "source": [
    "installationsWithFundersInBothFields = (allCountsDF\n",
    "    .query(\n",
    "        'count_of_datasets_with_funder_names_both_fields > 0',\n",
    "        engine='python')\n",
    "    .sort_values(by=['count_of_datasets_with_funder_names_both_fields'], ascending=False)\n",
    "    .reset_index(drop=True, inplace=False))\n",
    "\n",
    "installationsWithFundersInBothFields = installationsWithFundersInBothFields[[\n",
    "    'dataverse_installation_name',\n",
    "    'count_of_datasets_with_funder_names_both_fields']]\n",
    "\n",
    "installationsWithFundersInBothFields.head(5)"
   ],
   "metadata": {
    "collapsed": false,
    "pycharm": {
     "name": "#%%\n"
    }
   }
  },
  {
   "cell_type": "markdown",
   "source": [
    "I've spoken with or started speaking with the managers of most of these installations to learn why the Contributor Name field has been used more than or instead of the Funding Information Name field or why both fields have been used. Let's get some more information about the funder name metadata in these installations.\n",
    "\n",
    "\n",
    "### ADA Dataverse\n",
    "In a GitHub issue comment at https://github.com/IQSS/dataverse/issues/4859#issuecomment-1573684412, a manager of ADA Dataverse, Steve McEachern, shared his reasoning for using the Contributor Name field more often. I've emailed Steve to ask follow up questions. Here's a table with the funder metadata from ADA Dataverse."
   ],
   "metadata": {
    "collapsed": false,
    "pycharm": {
     "name": "#%% md\n"
    }
   }
  },
  {
   "cell_type": "code",
   "execution_count": 13,
   "outputs": [
    {
     "name": "stdout",
     "output_type": "stream",
     "text": [
      "Count of datasets in ADA with funder metadata: 753\n"
     ]
    },
    {
     "data": {
      "text/plain": "                     dataset_pid_url  \\\n0  http://dx.doi.org/10.26193/00HBWG   \n1  http://dx.doi.org/10.26193/04F7C1   \n2  http://dx.doi.org/10.26193/0AF6TZ   \n3  http://dx.doi.org/10.26193/0AF6TZ   \n4  http://dx.doi.org/10.26193/0AGXC9   \n\n                    dataverse_collection_alias  \\\n0                       ada-general-collection   \n1                            australia-at-work   \n2                                         bnla   \n3                                         bnla   \n4  australian_historical_criminal_justice_data   \n\n                           dataverse_collection_name  \\\n0                   ADA General Collection Dataverse   \n1                        Australia at Work Dataverse   \n2         Building a New Life in Australia Dataverse   \n3         Building a New Life in Australia Dataverse   \n4  Australian Historical Criminal Justice Data Da...   \n\n  dataverse_collection_type dataset_publication_date  dataset_version_number  \\\n0             UNCATEGORIZED               2018-12-17                     2.0   \n1             UNCATEGORIZED               2019-01-25                     2.0   \n2         RESEARCH_PROJECTS               2019-09-18                     5.0   \n3         RESEARCH_PROJECTS               2019-09-18                     5.0   \n4         RESEARCH_PROJECTS               2020-05-12                     1.0   \n\n  dataset_version_create_time contributorType  \\\n0        2019-05-13T08:43:01Z          Funder   \n1        2019-05-13T10:02:15Z          Funder   \n2        2022-02-02T23:01:26Z          Funder   \n3        2022-02-02T23:01:26Z          Funder   \n4        2020-05-12T00:14:01Z             NaN   \n\n                                     contributorName  \\\n0  General Practice Evaluation Program, Departmen...   \n1                        Australian Research Council   \n2                      Department of Social Services   \n3    Department of Immigration and Border Protection   \n4                                                NaN   \n\n             grantNumberAgency grantNumberValue  \n0                          NaN              NaN  \n1                          NaN              NaN  \n2                          NaN              NaN  \n3                          NaN              NaN  \n4  Australian Research Council      FL130100050  ",
      "text/html": "<div><div id=34359879-6d58-465c-95ad-7dfb8f2fcf2a style=\"display:none; background-color:#9D6CFF; color:white; width:200px; height:30px; padding-left:5px; border-radius:4px; flex-direction:row; justify-content:space-around; align-items:center;\" onmouseover=\"this.style.backgroundColor='#BA9BF8'\" onmouseout=\"this.style.backgroundColor='#9D6CFF'\" onclick=\"window.commands?.execute('create-mitosheet-from-dataframe-output');\">See Full Dataframe in Mito</div> <script> if (window.commands.hasCommand('create-mitosheet-from-dataframe-output')) document.getElementById('34359879-6d58-465c-95ad-7dfb8f2fcf2a').style.display = 'flex' </script> <table border=\"1\" class=\"dataframe\">\n  <thead>\n    <tr style=\"text-align: right;\">\n      <th></th>\n      <th>dataset_pid_url</th>\n      <th>dataverse_collection_alias</th>\n      <th>dataverse_collection_name</th>\n      <th>dataverse_collection_type</th>\n      <th>dataset_publication_date</th>\n      <th>dataset_version_number</th>\n      <th>dataset_version_create_time</th>\n      <th>contributorType</th>\n      <th>contributorName</th>\n      <th>grantNumberAgency</th>\n      <th>grantNumberValue</th>\n    </tr>\n  </thead>\n  <tbody>\n    <tr>\n      <th>0</th>\n      <td>http://dx.doi.org/10.26193/00HBWG</td>\n      <td>ada-general-collection</td>\n      <td>ADA General Collection Dataverse</td>\n      <td>UNCATEGORIZED</td>\n      <td>2018-12-17</td>\n      <td>2.0</td>\n      <td>2019-05-13T08:43:01Z</td>\n      <td>Funder</td>\n      <td>General Practice Evaluation Program, Department of Health, Housing and Community Services</td>\n      <td>NaN</td>\n      <td>NaN</td>\n    </tr>\n    <tr>\n      <th>1</th>\n      <td>http://dx.doi.org/10.26193/04F7C1</td>\n      <td>australia-at-work</td>\n      <td>Australia at Work Dataverse</td>\n      <td>UNCATEGORIZED</td>\n      <td>2019-01-25</td>\n      <td>2.0</td>\n      <td>2019-05-13T10:02:15Z</td>\n      <td>Funder</td>\n      <td>Australian Research Council</td>\n      <td>NaN</td>\n      <td>NaN</td>\n    </tr>\n    <tr>\n      <th>2</th>\n      <td>http://dx.doi.org/10.26193/0AF6TZ</td>\n      <td>bnla</td>\n      <td>Building a New Life in Australia Dataverse</td>\n      <td>RESEARCH_PROJECTS</td>\n      <td>2019-09-18</td>\n      <td>5.0</td>\n      <td>2022-02-02T23:01:26Z</td>\n      <td>Funder</td>\n      <td>Department of Social Services</td>\n      <td>NaN</td>\n      <td>NaN</td>\n    </tr>\n    <tr>\n      <th>3</th>\n      <td>http://dx.doi.org/10.26193/0AF6TZ</td>\n      <td>bnla</td>\n      <td>Building a New Life in Australia Dataverse</td>\n      <td>RESEARCH_PROJECTS</td>\n      <td>2019-09-18</td>\n      <td>5.0</td>\n      <td>2022-02-02T23:01:26Z</td>\n      <td>Funder</td>\n      <td>Department of Immigration and Border Protection</td>\n      <td>NaN</td>\n      <td>NaN</td>\n    </tr>\n    <tr>\n      <th>4</th>\n      <td>http://dx.doi.org/10.26193/0AGXC9</td>\n      <td>australian_historical_criminal_justice_data</td>\n      <td>Australian Historical Criminal Justice Data Dataverse</td>\n      <td>RESEARCH_PROJECTS</td>\n      <td>2020-05-12</td>\n      <td>1.0</td>\n      <td>2020-05-12T00:14:01Z</td>\n      <td>NaN</td>\n      <td>NaN</td>\n      <td>Australian Research Council</td>\n      <td>FL130100050</td>\n    </tr>\n  </tbody>\n</table></div>"
     },
     "execution_count": 13,
     "metadata": {},
     "output_type": "execute_result"
    }
   ],
   "source": [
    "# Create dataframe for just metadata of datasets in ADA\n",
    "datasetInADADF = (allFunderNameDataDF\n",
    "    .query('dataverse_installation_name == \"ADA_Dataverse\"')\n",
    "    .drop(columns=['dataverse_installation_name'])\n",
    "    .reset_index(drop=True, inplace=False))\n",
    "\n",
    "print(f'Count of datasets in ADA with funder metadata: {len(pd.unique(datasetInADADF[\"dataset_pid_url\"]))}')\n",
    "datasetInADADF.head()"
   ],
   "metadata": {
    "collapsed": false,
    "pycharm": {
     "name": "#%%\n"
    }
   }
  },
  {
   "cell_type": "markdown",
   "source": [
    "### Borealis\n",
    "\n",
    "I've started talking with managers of Borealis to learn why depositors and curators there use the Contributor Name field more often. I think curation and publishing in Borealis is distributed, so it might be helpful to see which collections in Borealis have datasets that funder names in either of these fields and and which fields they're using most often. Then we'll know who to reach out to if we need to learn why particular collections have used the metadata fields in particular ways."
   ],
   "metadata": {
    "collapsed": false,
    "pycharm": {
     "name": "#%% md\n"
    }
   }
  },
  {
   "cell_type": "code",
   "execution_count": 14,
   "outputs": [
    {
     "name": "stdout",
     "output_type": "stream",
     "text": [
      "Count of datasets in Borealis with funder metadata: 6828\n"
     ]
    }
   ],
   "source": [
    "# Create dataframe for just metadata of datasets in ADA\n",
    "datasetsInBorealisDF = (allFunderNameDataDF\n",
    "                  .query('dataverse_installation_name == \"Borealis\"')\n",
    "                  .drop(columns=['dataverse_installation_name'])\n",
    "                  .reset_index(drop=True, inplace=False))\n",
    "\n",
    "print(f'Count of datasets in Borealis with funder metadata: {len(pd.unique(datasetsInBorealisDF[\"dataset_pid_url\"]))}')\n",
    "datasetsInBorealisDF.head()\n",
    "\n",
    "datasetsInBorealisDF.to_csv('datasetsInBorealisDF.csv', index=False)"
   ],
   "metadata": {
    "collapsed": false,
    "pycharm": {
     "name": "#%%\n"
    }
   }
  },
  {
   "cell_type": "code",
   "execution_count": 15,
   "outputs": [
    {
     "data": {
      "text/plain": "  dataverse_collection_alias  \\\n0                   topomaps   \n1                        MDL   \n2              g360-projects   \n3                 g360guelph   \n4                    toronto   \n\n   count_of_datasets_with_funders_names_only_contributor_field  \n0                                               5902            \n1                                                  7            \n2                                                  1            \n3                                                  1            \n4                                                  1            ",
      "text/html": "<div><div id=8b776dba-ea3c-410e-928b-a2f5be0c91aa style=\"display:none; background-color:#9D6CFF; color:white; width:200px; height:30px; padding-left:5px; border-radius:4px; flex-direction:row; justify-content:space-around; align-items:center;\" onmouseover=\"this.style.backgroundColor='#BA9BF8'\" onmouseout=\"this.style.backgroundColor='#9D6CFF'\" onclick=\"window.commands?.execute('create-mitosheet-from-dataframe-output');\">See Full Dataframe in Mito</div> <script> if (window.commands.hasCommand('create-mitosheet-from-dataframe-output')) document.getElementById('8b776dba-ea3c-410e-928b-a2f5be0c91aa').style.display = 'flex' </script> <table border=\"1\" class=\"dataframe\">\n  <thead>\n    <tr style=\"text-align: right;\">\n      <th></th>\n      <th>dataverse_collection_alias</th>\n      <th>count_of_datasets_with_funders_names_only_contributor_field</th>\n    </tr>\n  </thead>\n  <tbody>\n    <tr>\n      <th>0</th>\n      <td>topomaps</td>\n      <td>5902</td>\n    </tr>\n    <tr>\n      <th>1</th>\n      <td>MDL</td>\n      <td>7</td>\n    </tr>\n    <tr>\n      <th>2</th>\n      <td>g360-projects</td>\n      <td>1</td>\n    </tr>\n    <tr>\n      <th>3</th>\n      <td>g360guelph</td>\n      <td>1</td>\n    </tr>\n    <tr>\n      <th>4</th>\n      <td>toronto</td>\n      <td>1</td>\n    </tr>\n  </tbody>\n</table></div>"
     },
     "execution_count": 15,
     "metadata": {},
     "output_type": "execute_result"
    }
   ],
   "source": [
    "# Now let's get counts of these datasets by collection\n",
    "countOfFunderNamesinContributorNameFieldInBorealisDF = createCountsDF(\n",
    "    dataframe=datasetsInBorealisDF,\n",
    "    countsQuery=onlyContributorQuery,\n",
    "    nameOfCountsColumn='count_of_datasets_with_funders_names_only_contributor_field',\n",
    "    groupBy='dataverse_collection_alias',\n",
    "    sortBy='count_of_datasets_with_funders_names_only_contributor_field',\n",
    "    ascendingSort=False)\n",
    "\n",
    "countOfFunderNamesinContributorNameFieldInBorealisDF.head()"
   ],
   "metadata": {
    "collapsed": false,
    "pycharm": {
     "name": "#%%\n"
    }
   }
  },
  {
   "cell_type": "markdown",
   "source": [
    "Almost all of the funder metadata in Borealis is coming from datasets in one collection. I've let the managers of Borealis know this in case it's helpful for figuring out why the dataset depositors used the Contributor Name field."
   ],
   "metadata": {
    "collapsed": false,
    "pycharm": {
     "name": "#%% md\n"
    }
   }
  },
  {
   "cell_type": "markdown",
   "source": [
    "### Harvard Dataverse\n",
    "- In the Harvard Dataverse Repository, which collections have datasets with the most funding metadata? This will help us figure out who to learn from when we make changes to how funding metadata is entered.\n",
    "- Which funder agency names are entered most often? Knowing that might help us figure out how effective our efforts to standardize funder agency name metadata could be? For example, do the changes to the metadata fields (the \"CV javascript\") make it easier for depositors to enter the most popular funder agency names? How much easier?"
   ],
   "metadata": {
    "collapsed": false
   }
  },
  {
   "cell_type": "code",
   "execution_count": 16,
   "outputs": [
    {
     "ename": "UndefinedVariableError",
     "evalue": "name 'installation' is not defined",
     "output_type": "error",
     "traceback": [
      "\u001B[0;31m---------------------------------------------------------------------------\u001B[0m",
      "\u001B[0;31mKeyError\u001B[0m                                  Traceback (most recent call last)",
      "\u001B[0;32m/usr/local/lib/python3.9/site-packages/pandas/core/computation/scope.py\u001B[0m in \u001B[0;36mresolve\u001B[0;34m(self, key, is_local)\u001B[0m\n\u001B[1;32m    199\u001B[0m             \u001B[0;32mif\u001B[0m \u001B[0mself\u001B[0m\u001B[0;34m.\u001B[0m\u001B[0mhas_resolvers\u001B[0m\u001B[0;34m:\u001B[0m\u001B[0;34m\u001B[0m\u001B[0;34m\u001B[0m\u001B[0m\n\u001B[0;32m--> 200\u001B[0;31m                 \u001B[0;32mreturn\u001B[0m \u001B[0mself\u001B[0m\u001B[0;34m.\u001B[0m\u001B[0mresolvers\u001B[0m\u001B[0;34m[\u001B[0m\u001B[0mkey\u001B[0m\u001B[0;34m]\u001B[0m\u001B[0;34m\u001B[0m\u001B[0;34m\u001B[0m\u001B[0m\n\u001B[0m\u001B[1;32m    201\u001B[0m \u001B[0;34m\u001B[0m\u001B[0m\n",
      "\u001B[0;32m/usr/local/Cellar/python@3.9/3.9.18/Frameworks/Python.framework/Versions/3.9/lib/python3.9/collections/__init__.py\u001B[0m in \u001B[0;36m__getitem__\u001B[0;34m(self, key)\u001B[0m\n\u001B[1;32m    940\u001B[0m                 \u001B[0;32mpass\u001B[0m\u001B[0;34m\u001B[0m\u001B[0;34m\u001B[0m\u001B[0m\n\u001B[0;32m--> 941\u001B[0;31m         \u001B[0;32mreturn\u001B[0m \u001B[0mself\u001B[0m\u001B[0;34m.\u001B[0m\u001B[0m__missing__\u001B[0m\u001B[0;34m(\u001B[0m\u001B[0mkey\u001B[0m\u001B[0;34m)\u001B[0m            \u001B[0;31m# support subclasses that define __missing__\u001B[0m\u001B[0;34m\u001B[0m\u001B[0;34m\u001B[0m\u001B[0m\n\u001B[0m\u001B[1;32m    942\u001B[0m \u001B[0;34m\u001B[0m\u001B[0m\n",
      "\u001B[0;32m/usr/local/Cellar/python@3.9/3.9.18/Frameworks/Python.framework/Versions/3.9/lib/python3.9/collections/__init__.py\u001B[0m in \u001B[0;36m__missing__\u001B[0;34m(self, key)\u001B[0m\n\u001B[1;32m    932\u001B[0m     \u001B[0;32mdef\u001B[0m \u001B[0m__missing__\u001B[0m\u001B[0;34m(\u001B[0m\u001B[0mself\u001B[0m\u001B[0;34m,\u001B[0m \u001B[0mkey\u001B[0m\u001B[0;34m)\u001B[0m\u001B[0;34m:\u001B[0m\u001B[0;34m\u001B[0m\u001B[0;34m\u001B[0m\u001B[0m\n\u001B[0;32m--> 933\u001B[0;31m         \u001B[0;32mraise\u001B[0m \u001B[0mKeyError\u001B[0m\u001B[0;34m(\u001B[0m\u001B[0mkey\u001B[0m\u001B[0;34m)\u001B[0m\u001B[0;34m\u001B[0m\u001B[0;34m\u001B[0m\u001B[0m\n\u001B[0m\u001B[1;32m    934\u001B[0m \u001B[0;34m\u001B[0m\u001B[0m\n",
      "\u001B[0;31mKeyError\u001B[0m: 'installation'",
      "\nDuring handling of the above exception, another exception occurred:\n",
      "\u001B[0;31mKeyError\u001B[0m                                  Traceback (most recent call last)",
      "\u001B[0;32m/usr/local/lib/python3.9/site-packages/pandas/core/computation/scope.py\u001B[0m in \u001B[0;36mresolve\u001B[0;34m(self, key, is_local)\u001B[0m\n\u001B[1;32m    210\u001B[0m                 \u001B[0;31m# e.g., df[df > 0]\u001B[0m\u001B[0;34m\u001B[0m\u001B[0;34m\u001B[0m\u001B[0m\n\u001B[0;32m--> 211\u001B[0;31m                 \u001B[0;32mreturn\u001B[0m \u001B[0mself\u001B[0m\u001B[0;34m.\u001B[0m\u001B[0mtemps\u001B[0m\u001B[0;34m[\u001B[0m\u001B[0mkey\u001B[0m\u001B[0;34m]\u001B[0m\u001B[0;34m\u001B[0m\u001B[0;34m\u001B[0m\u001B[0m\n\u001B[0m\u001B[1;32m    212\u001B[0m             \u001B[0;32mexcept\u001B[0m \u001B[0mKeyError\u001B[0m \u001B[0;32mas\u001B[0m \u001B[0merr\u001B[0m\u001B[0;34m:\u001B[0m\u001B[0;34m\u001B[0m\u001B[0;34m\u001B[0m\u001B[0m\n",
      "\u001B[0;31mKeyError\u001B[0m: 'installation'",
      "\nThe above exception was the direct cause of the following exception:\n",
      "\u001B[0;31mUndefinedVariableError\u001B[0m                    Traceback (most recent call last)",
      "\u001B[0;32m/var/folders/t7/6b3g2zgx3cz_2rfy3pmdtnch0000gq/T/ipykernel_3328/2196565249.py\u001B[0m in \u001B[0;36m<module>\u001B[0;34m\u001B[0m\n\u001B[1;32m      1\u001B[0m \u001B[0;31m# Lets start by creating a dataframe containing only metadata of datasets published in the Harvard Dataverse Repository\u001B[0m\u001B[0;34m\u001B[0m\u001B[0;34m\u001B[0m\u001B[0m\n\u001B[0;32m----> 2\u001B[0;31m datasetsInHDVDF = (allFunderNameDataDF\n\u001B[0m\u001B[1;32m      3\u001B[0m     \u001B[0;34m.\u001B[0m\u001B[0mquery\u001B[0m\u001B[0;34m(\u001B[0m\u001B[0;34m'(installation == \"Harvard Dataverse\")'\u001B[0m\u001B[0;34m)\u001B[0m\u001B[0;34m\u001B[0m\u001B[0;34m\u001B[0m\u001B[0m\n\u001B[1;32m      4\u001B[0m     \u001B[0;34m.\u001B[0m\u001B[0mdrop\u001B[0m\u001B[0;34m(\u001B[0m\u001B[0mcolumns\u001B[0m\u001B[0;34m=\u001B[0m\u001B[0;34m[\u001B[0m\u001B[0;34m'installation'\u001B[0m\u001B[0;34m]\u001B[0m\u001B[0;34m)\u001B[0m\u001B[0;34m\u001B[0m\u001B[0;34m\u001B[0m\u001B[0m\n\u001B[1;32m      5\u001B[0m     \u001B[0;34m.\u001B[0m\u001B[0mreset_index\u001B[0m\u001B[0;34m(\u001B[0m\u001B[0mdrop\u001B[0m\u001B[0;34m=\u001B[0m\u001B[0;32mTrue\u001B[0m\u001B[0;34m,\u001B[0m \u001B[0minplace\u001B[0m\u001B[0;34m=\u001B[0m\u001B[0;32mFalse\u001B[0m\u001B[0;34m)\u001B[0m\u001B[0;34m\u001B[0m\u001B[0;34m\u001B[0m\u001B[0m\n",
      "\u001B[0;32m/usr/local/lib/python3.9/site-packages/pandas/core/frame.py\u001B[0m in \u001B[0;36mquery\u001B[0;34m(self, expr, inplace, **kwargs)\u001B[0m\n\u001B[1;32m   4058\u001B[0m         \u001B[0mkwargs\u001B[0m\u001B[0;34m[\u001B[0m\u001B[0;34m\"level\"\u001B[0m\u001B[0;34m]\u001B[0m \u001B[0;34m=\u001B[0m \u001B[0mkwargs\u001B[0m\u001B[0;34m.\u001B[0m\u001B[0mpop\u001B[0m\u001B[0;34m(\u001B[0m\u001B[0;34m\"level\"\u001B[0m\u001B[0;34m,\u001B[0m \u001B[0;36m0\u001B[0m\u001B[0;34m)\u001B[0m \u001B[0;34m+\u001B[0m \u001B[0;36m1\u001B[0m\u001B[0;34m\u001B[0m\u001B[0;34m\u001B[0m\u001B[0m\n\u001B[1;32m   4059\u001B[0m         \u001B[0mkwargs\u001B[0m\u001B[0;34m[\u001B[0m\u001B[0;34m\"target\"\u001B[0m\u001B[0;34m]\u001B[0m \u001B[0;34m=\u001B[0m \u001B[0;32mNone\u001B[0m\u001B[0;34m\u001B[0m\u001B[0;34m\u001B[0m\u001B[0m\n\u001B[0;32m-> 4060\u001B[0;31m         \u001B[0mres\u001B[0m \u001B[0;34m=\u001B[0m \u001B[0mself\u001B[0m\u001B[0;34m.\u001B[0m\u001B[0meval\u001B[0m\u001B[0;34m(\u001B[0m\u001B[0mexpr\u001B[0m\u001B[0;34m,\u001B[0m \u001B[0;34m**\u001B[0m\u001B[0mkwargs\u001B[0m\u001B[0;34m)\u001B[0m\u001B[0;34m\u001B[0m\u001B[0;34m\u001B[0m\u001B[0m\n\u001B[0m\u001B[1;32m   4061\u001B[0m \u001B[0;34m\u001B[0m\u001B[0m\n\u001B[1;32m   4062\u001B[0m         \u001B[0;32mtry\u001B[0m\u001B[0;34m:\u001B[0m\u001B[0;34m\u001B[0m\u001B[0;34m\u001B[0m\u001B[0m\n",
      "\u001B[0;32m/usr/local/lib/python3.9/site-packages/pandas/core/frame.py\u001B[0m in \u001B[0;36meval\u001B[0;34m(self, expr, inplace, **kwargs)\u001B[0m\n\u001B[1;32m   4189\u001B[0m         \u001B[0mkwargs\u001B[0m\u001B[0;34m[\u001B[0m\u001B[0;34m\"resolvers\"\u001B[0m\u001B[0;34m]\u001B[0m \u001B[0;34m=\u001B[0m \u001B[0mkwargs\u001B[0m\u001B[0;34m.\u001B[0m\u001B[0mget\u001B[0m\u001B[0;34m(\u001B[0m\u001B[0;34m\"resolvers\"\u001B[0m\u001B[0;34m,\u001B[0m \u001B[0;34m(\u001B[0m\u001B[0;34m)\u001B[0m\u001B[0;34m)\u001B[0m \u001B[0;34m+\u001B[0m \u001B[0mtuple\u001B[0m\u001B[0;34m(\u001B[0m\u001B[0mresolvers\u001B[0m\u001B[0;34m)\u001B[0m\u001B[0;34m\u001B[0m\u001B[0;34m\u001B[0m\u001B[0m\n\u001B[1;32m   4190\u001B[0m \u001B[0;34m\u001B[0m\u001B[0m\n\u001B[0;32m-> 4191\u001B[0;31m         \u001B[0;32mreturn\u001B[0m \u001B[0m_eval\u001B[0m\u001B[0;34m(\u001B[0m\u001B[0mexpr\u001B[0m\u001B[0;34m,\u001B[0m \u001B[0minplace\u001B[0m\u001B[0;34m=\u001B[0m\u001B[0minplace\u001B[0m\u001B[0;34m,\u001B[0m \u001B[0;34m**\u001B[0m\u001B[0mkwargs\u001B[0m\u001B[0;34m)\u001B[0m\u001B[0;34m\u001B[0m\u001B[0;34m\u001B[0m\u001B[0m\n\u001B[0m\u001B[1;32m   4192\u001B[0m \u001B[0;34m\u001B[0m\u001B[0m\n\u001B[1;32m   4193\u001B[0m     \u001B[0;32mdef\u001B[0m \u001B[0mselect_dtypes\u001B[0m\u001B[0;34m(\u001B[0m\u001B[0mself\u001B[0m\u001B[0;34m,\u001B[0m \u001B[0minclude\u001B[0m\u001B[0;34m=\u001B[0m\u001B[0;32mNone\u001B[0m\u001B[0;34m,\u001B[0m \u001B[0mexclude\u001B[0m\u001B[0;34m=\u001B[0m\u001B[0;32mNone\u001B[0m\u001B[0;34m)\u001B[0m \u001B[0;34m->\u001B[0m \u001B[0mDataFrame\u001B[0m\u001B[0;34m:\u001B[0m\u001B[0;34m\u001B[0m\u001B[0;34m\u001B[0m\u001B[0m\n",
      "\u001B[0;32m/usr/local/lib/python3.9/site-packages/pandas/core/computation/eval.py\u001B[0m in \u001B[0;36meval\u001B[0;34m(expr, parser, engine, truediv, local_dict, global_dict, resolvers, level, target, inplace)\u001B[0m\n\u001B[1;32m    346\u001B[0m         )\n\u001B[1;32m    347\u001B[0m \u001B[0;34m\u001B[0m\u001B[0m\n\u001B[0;32m--> 348\u001B[0;31m         \u001B[0mparsed_expr\u001B[0m \u001B[0;34m=\u001B[0m \u001B[0mExpr\u001B[0m\u001B[0;34m(\u001B[0m\u001B[0mexpr\u001B[0m\u001B[0;34m,\u001B[0m \u001B[0mengine\u001B[0m\u001B[0;34m=\u001B[0m\u001B[0mengine\u001B[0m\u001B[0;34m,\u001B[0m \u001B[0mparser\u001B[0m\u001B[0;34m=\u001B[0m\u001B[0mparser\u001B[0m\u001B[0;34m,\u001B[0m \u001B[0menv\u001B[0m\u001B[0;34m=\u001B[0m\u001B[0menv\u001B[0m\u001B[0;34m)\u001B[0m\u001B[0;34m\u001B[0m\u001B[0;34m\u001B[0m\u001B[0m\n\u001B[0m\u001B[1;32m    349\u001B[0m \u001B[0;34m\u001B[0m\u001B[0m\n\u001B[1;32m    350\u001B[0m         \u001B[0;31m# construct the engine and evaluate the parsed expression\u001B[0m\u001B[0;34m\u001B[0m\u001B[0;34m\u001B[0m\u001B[0m\n",
      "\u001B[0;32m/usr/local/lib/python3.9/site-packages/pandas/core/computation/expr.py\u001B[0m in \u001B[0;36m__init__\u001B[0;34m(self, expr, engine, parser, env, level)\u001B[0m\n\u001B[1;32m    804\u001B[0m         \u001B[0mself\u001B[0m\u001B[0;34m.\u001B[0m\u001B[0mparser\u001B[0m \u001B[0;34m=\u001B[0m \u001B[0mparser\u001B[0m\u001B[0;34m\u001B[0m\u001B[0;34m\u001B[0m\u001B[0m\n\u001B[1;32m    805\u001B[0m         \u001B[0mself\u001B[0m\u001B[0;34m.\u001B[0m\u001B[0m_visitor\u001B[0m \u001B[0;34m=\u001B[0m \u001B[0mPARSERS\u001B[0m\u001B[0;34m[\u001B[0m\u001B[0mparser\u001B[0m\u001B[0;34m]\u001B[0m\u001B[0;34m(\u001B[0m\u001B[0mself\u001B[0m\u001B[0;34m.\u001B[0m\u001B[0menv\u001B[0m\u001B[0;34m,\u001B[0m \u001B[0mself\u001B[0m\u001B[0;34m.\u001B[0m\u001B[0mengine\u001B[0m\u001B[0;34m,\u001B[0m \u001B[0mself\u001B[0m\u001B[0;34m.\u001B[0m\u001B[0mparser\u001B[0m\u001B[0;34m)\u001B[0m\u001B[0;34m\u001B[0m\u001B[0;34m\u001B[0m\u001B[0m\n\u001B[0;32m--> 806\u001B[0;31m         \u001B[0mself\u001B[0m\u001B[0;34m.\u001B[0m\u001B[0mterms\u001B[0m \u001B[0;34m=\u001B[0m \u001B[0mself\u001B[0m\u001B[0;34m.\u001B[0m\u001B[0mparse\u001B[0m\u001B[0;34m(\u001B[0m\u001B[0;34m)\u001B[0m\u001B[0;34m\u001B[0m\u001B[0;34m\u001B[0m\u001B[0m\n\u001B[0m\u001B[1;32m    807\u001B[0m \u001B[0;34m\u001B[0m\u001B[0m\n\u001B[1;32m    808\u001B[0m     \u001B[0;34m@\u001B[0m\u001B[0mproperty\u001B[0m\u001B[0;34m\u001B[0m\u001B[0;34m\u001B[0m\u001B[0m\n",
      "\u001B[0;32m/usr/local/lib/python3.9/site-packages/pandas/core/computation/expr.py\u001B[0m in \u001B[0;36mparse\u001B[0;34m(self)\u001B[0m\n\u001B[1;32m    823\u001B[0m         \u001B[0mParse\u001B[0m \u001B[0man\u001B[0m \u001B[0mexpression\u001B[0m\u001B[0;34m.\u001B[0m\u001B[0;34m\u001B[0m\u001B[0;34m\u001B[0m\u001B[0m\n\u001B[1;32m    824\u001B[0m         \"\"\"\n\u001B[0;32m--> 825\u001B[0;31m         \u001B[0;32mreturn\u001B[0m \u001B[0mself\u001B[0m\u001B[0;34m.\u001B[0m\u001B[0m_visitor\u001B[0m\u001B[0;34m.\u001B[0m\u001B[0mvisit\u001B[0m\u001B[0;34m(\u001B[0m\u001B[0mself\u001B[0m\u001B[0;34m.\u001B[0m\u001B[0mexpr\u001B[0m\u001B[0;34m)\u001B[0m\u001B[0;34m\u001B[0m\u001B[0;34m\u001B[0m\u001B[0m\n\u001B[0m\u001B[1;32m    826\u001B[0m \u001B[0;34m\u001B[0m\u001B[0m\n\u001B[1;32m    827\u001B[0m     \u001B[0;34m@\u001B[0m\u001B[0mproperty\u001B[0m\u001B[0;34m\u001B[0m\u001B[0;34m\u001B[0m\u001B[0m\n",
      "\u001B[0;32m/usr/local/lib/python3.9/site-packages/pandas/core/computation/expr.py\u001B[0m in \u001B[0;36mvisit\u001B[0;34m(self, node, **kwargs)\u001B[0m\n\u001B[1;32m    409\u001B[0m         \u001B[0mmethod\u001B[0m \u001B[0;34m=\u001B[0m \u001B[0;34m\"visit_\"\u001B[0m \u001B[0;34m+\u001B[0m \u001B[0mtype\u001B[0m\u001B[0;34m(\u001B[0m\u001B[0mnode\u001B[0m\u001B[0;34m)\u001B[0m\u001B[0;34m.\u001B[0m\u001B[0m__name__\u001B[0m\u001B[0;34m\u001B[0m\u001B[0;34m\u001B[0m\u001B[0m\n\u001B[1;32m    410\u001B[0m         \u001B[0mvisitor\u001B[0m \u001B[0;34m=\u001B[0m \u001B[0mgetattr\u001B[0m\u001B[0;34m(\u001B[0m\u001B[0mself\u001B[0m\u001B[0;34m,\u001B[0m \u001B[0mmethod\u001B[0m\u001B[0;34m)\u001B[0m\u001B[0;34m\u001B[0m\u001B[0;34m\u001B[0m\u001B[0m\n\u001B[0;32m--> 411\u001B[0;31m         \u001B[0;32mreturn\u001B[0m \u001B[0mvisitor\u001B[0m\u001B[0;34m(\u001B[0m\u001B[0mnode\u001B[0m\u001B[0;34m,\u001B[0m \u001B[0;34m**\u001B[0m\u001B[0mkwargs\u001B[0m\u001B[0;34m)\u001B[0m\u001B[0;34m\u001B[0m\u001B[0;34m\u001B[0m\u001B[0m\n\u001B[0m\u001B[1;32m    412\u001B[0m \u001B[0;34m\u001B[0m\u001B[0m\n\u001B[1;32m    413\u001B[0m     \u001B[0;32mdef\u001B[0m \u001B[0mvisit_Module\u001B[0m\u001B[0;34m(\u001B[0m\u001B[0mself\u001B[0m\u001B[0;34m,\u001B[0m \u001B[0mnode\u001B[0m\u001B[0;34m,\u001B[0m \u001B[0;34m**\u001B[0m\u001B[0mkwargs\u001B[0m\u001B[0;34m)\u001B[0m\u001B[0;34m:\u001B[0m\u001B[0;34m\u001B[0m\u001B[0;34m\u001B[0m\u001B[0m\n",
      "\u001B[0;32m/usr/local/lib/python3.9/site-packages/pandas/core/computation/expr.py\u001B[0m in \u001B[0;36mvisit_Module\u001B[0;34m(self, node, **kwargs)\u001B[0m\n\u001B[1;32m    415\u001B[0m             \u001B[0;32mraise\u001B[0m \u001B[0mSyntaxError\u001B[0m\u001B[0;34m(\u001B[0m\u001B[0;34m\"only a single expression is allowed\"\u001B[0m\u001B[0;34m)\u001B[0m\u001B[0;34m\u001B[0m\u001B[0;34m\u001B[0m\u001B[0m\n\u001B[1;32m    416\u001B[0m         \u001B[0mexpr\u001B[0m \u001B[0;34m=\u001B[0m \u001B[0mnode\u001B[0m\u001B[0;34m.\u001B[0m\u001B[0mbody\u001B[0m\u001B[0;34m[\u001B[0m\u001B[0;36m0\u001B[0m\u001B[0;34m]\u001B[0m\u001B[0;34m\u001B[0m\u001B[0;34m\u001B[0m\u001B[0m\n\u001B[0;32m--> 417\u001B[0;31m         \u001B[0;32mreturn\u001B[0m \u001B[0mself\u001B[0m\u001B[0;34m.\u001B[0m\u001B[0mvisit\u001B[0m\u001B[0;34m(\u001B[0m\u001B[0mexpr\u001B[0m\u001B[0;34m,\u001B[0m \u001B[0;34m**\u001B[0m\u001B[0mkwargs\u001B[0m\u001B[0;34m)\u001B[0m\u001B[0;34m\u001B[0m\u001B[0;34m\u001B[0m\u001B[0m\n\u001B[0m\u001B[1;32m    418\u001B[0m \u001B[0;34m\u001B[0m\u001B[0m\n\u001B[1;32m    419\u001B[0m     \u001B[0;32mdef\u001B[0m \u001B[0mvisit_Expr\u001B[0m\u001B[0;34m(\u001B[0m\u001B[0mself\u001B[0m\u001B[0;34m,\u001B[0m \u001B[0mnode\u001B[0m\u001B[0;34m,\u001B[0m \u001B[0;34m**\u001B[0m\u001B[0mkwargs\u001B[0m\u001B[0;34m)\u001B[0m\u001B[0;34m:\u001B[0m\u001B[0;34m\u001B[0m\u001B[0;34m\u001B[0m\u001B[0m\n",
      "\u001B[0;32m/usr/local/lib/python3.9/site-packages/pandas/core/computation/expr.py\u001B[0m in \u001B[0;36mvisit\u001B[0;34m(self, node, **kwargs)\u001B[0m\n\u001B[1;32m    409\u001B[0m         \u001B[0mmethod\u001B[0m \u001B[0;34m=\u001B[0m \u001B[0;34m\"visit_\"\u001B[0m \u001B[0;34m+\u001B[0m \u001B[0mtype\u001B[0m\u001B[0;34m(\u001B[0m\u001B[0mnode\u001B[0m\u001B[0;34m)\u001B[0m\u001B[0;34m.\u001B[0m\u001B[0m__name__\u001B[0m\u001B[0;34m\u001B[0m\u001B[0;34m\u001B[0m\u001B[0m\n\u001B[1;32m    410\u001B[0m         \u001B[0mvisitor\u001B[0m \u001B[0;34m=\u001B[0m \u001B[0mgetattr\u001B[0m\u001B[0;34m(\u001B[0m\u001B[0mself\u001B[0m\u001B[0;34m,\u001B[0m \u001B[0mmethod\u001B[0m\u001B[0;34m)\u001B[0m\u001B[0;34m\u001B[0m\u001B[0;34m\u001B[0m\u001B[0m\n\u001B[0;32m--> 411\u001B[0;31m         \u001B[0;32mreturn\u001B[0m \u001B[0mvisitor\u001B[0m\u001B[0;34m(\u001B[0m\u001B[0mnode\u001B[0m\u001B[0;34m,\u001B[0m \u001B[0;34m**\u001B[0m\u001B[0mkwargs\u001B[0m\u001B[0;34m)\u001B[0m\u001B[0;34m\u001B[0m\u001B[0;34m\u001B[0m\u001B[0m\n\u001B[0m\u001B[1;32m    412\u001B[0m \u001B[0;34m\u001B[0m\u001B[0m\n\u001B[1;32m    413\u001B[0m     \u001B[0;32mdef\u001B[0m \u001B[0mvisit_Module\u001B[0m\u001B[0;34m(\u001B[0m\u001B[0mself\u001B[0m\u001B[0;34m,\u001B[0m \u001B[0mnode\u001B[0m\u001B[0;34m,\u001B[0m \u001B[0;34m**\u001B[0m\u001B[0mkwargs\u001B[0m\u001B[0;34m)\u001B[0m\u001B[0;34m:\u001B[0m\u001B[0;34m\u001B[0m\u001B[0;34m\u001B[0m\u001B[0m\n",
      "\u001B[0;32m/usr/local/lib/python3.9/site-packages/pandas/core/computation/expr.py\u001B[0m in \u001B[0;36mvisit_Expr\u001B[0;34m(self, node, **kwargs)\u001B[0m\n\u001B[1;32m    418\u001B[0m \u001B[0;34m\u001B[0m\u001B[0m\n\u001B[1;32m    419\u001B[0m     \u001B[0;32mdef\u001B[0m \u001B[0mvisit_Expr\u001B[0m\u001B[0;34m(\u001B[0m\u001B[0mself\u001B[0m\u001B[0;34m,\u001B[0m \u001B[0mnode\u001B[0m\u001B[0;34m,\u001B[0m \u001B[0;34m**\u001B[0m\u001B[0mkwargs\u001B[0m\u001B[0;34m)\u001B[0m\u001B[0;34m:\u001B[0m\u001B[0;34m\u001B[0m\u001B[0;34m\u001B[0m\u001B[0m\n\u001B[0;32m--> 420\u001B[0;31m         \u001B[0;32mreturn\u001B[0m \u001B[0mself\u001B[0m\u001B[0;34m.\u001B[0m\u001B[0mvisit\u001B[0m\u001B[0;34m(\u001B[0m\u001B[0mnode\u001B[0m\u001B[0;34m.\u001B[0m\u001B[0mvalue\u001B[0m\u001B[0;34m,\u001B[0m \u001B[0;34m**\u001B[0m\u001B[0mkwargs\u001B[0m\u001B[0;34m)\u001B[0m\u001B[0;34m\u001B[0m\u001B[0;34m\u001B[0m\u001B[0m\n\u001B[0m\u001B[1;32m    421\u001B[0m \u001B[0;34m\u001B[0m\u001B[0m\n\u001B[1;32m    422\u001B[0m     \u001B[0;32mdef\u001B[0m \u001B[0m_rewrite_membership_op\u001B[0m\u001B[0;34m(\u001B[0m\u001B[0mself\u001B[0m\u001B[0;34m,\u001B[0m \u001B[0mnode\u001B[0m\u001B[0;34m,\u001B[0m \u001B[0mleft\u001B[0m\u001B[0;34m,\u001B[0m \u001B[0mright\u001B[0m\u001B[0;34m)\u001B[0m\u001B[0;34m:\u001B[0m\u001B[0;34m\u001B[0m\u001B[0;34m\u001B[0m\u001B[0m\n",
      "\u001B[0;32m/usr/local/lib/python3.9/site-packages/pandas/core/computation/expr.py\u001B[0m in \u001B[0;36mvisit\u001B[0;34m(self, node, **kwargs)\u001B[0m\n\u001B[1;32m    409\u001B[0m         \u001B[0mmethod\u001B[0m \u001B[0;34m=\u001B[0m \u001B[0;34m\"visit_\"\u001B[0m \u001B[0;34m+\u001B[0m \u001B[0mtype\u001B[0m\u001B[0;34m(\u001B[0m\u001B[0mnode\u001B[0m\u001B[0;34m)\u001B[0m\u001B[0;34m.\u001B[0m\u001B[0m__name__\u001B[0m\u001B[0;34m\u001B[0m\u001B[0;34m\u001B[0m\u001B[0m\n\u001B[1;32m    410\u001B[0m         \u001B[0mvisitor\u001B[0m \u001B[0;34m=\u001B[0m \u001B[0mgetattr\u001B[0m\u001B[0;34m(\u001B[0m\u001B[0mself\u001B[0m\u001B[0;34m,\u001B[0m \u001B[0mmethod\u001B[0m\u001B[0;34m)\u001B[0m\u001B[0;34m\u001B[0m\u001B[0;34m\u001B[0m\u001B[0m\n\u001B[0;32m--> 411\u001B[0;31m         \u001B[0;32mreturn\u001B[0m \u001B[0mvisitor\u001B[0m\u001B[0;34m(\u001B[0m\u001B[0mnode\u001B[0m\u001B[0;34m,\u001B[0m \u001B[0;34m**\u001B[0m\u001B[0mkwargs\u001B[0m\u001B[0;34m)\u001B[0m\u001B[0;34m\u001B[0m\u001B[0;34m\u001B[0m\u001B[0m\n\u001B[0m\u001B[1;32m    412\u001B[0m \u001B[0;34m\u001B[0m\u001B[0m\n\u001B[1;32m    413\u001B[0m     \u001B[0;32mdef\u001B[0m \u001B[0mvisit_Module\u001B[0m\u001B[0;34m(\u001B[0m\u001B[0mself\u001B[0m\u001B[0;34m,\u001B[0m \u001B[0mnode\u001B[0m\u001B[0;34m,\u001B[0m \u001B[0;34m**\u001B[0m\u001B[0mkwargs\u001B[0m\u001B[0;34m)\u001B[0m\u001B[0;34m:\u001B[0m\u001B[0;34m\u001B[0m\u001B[0;34m\u001B[0m\u001B[0m\n",
      "\u001B[0;32m/usr/local/lib/python3.9/site-packages/pandas/core/computation/expr.py\u001B[0m in \u001B[0;36mvisit_Compare\u001B[0;34m(self, node, **kwargs)\u001B[0m\n\u001B[1;32m    716\u001B[0m             \u001B[0mop\u001B[0m \u001B[0;34m=\u001B[0m \u001B[0mself\u001B[0m\u001B[0;34m.\u001B[0m\u001B[0mtranslate_In\u001B[0m\u001B[0;34m(\u001B[0m\u001B[0mops\u001B[0m\u001B[0;34m[\u001B[0m\u001B[0;36m0\u001B[0m\u001B[0;34m]\u001B[0m\u001B[0;34m)\u001B[0m\u001B[0;34m\u001B[0m\u001B[0;34m\u001B[0m\u001B[0m\n\u001B[1;32m    717\u001B[0m             \u001B[0mbinop\u001B[0m \u001B[0;34m=\u001B[0m \u001B[0mast\u001B[0m\u001B[0;34m.\u001B[0m\u001B[0mBinOp\u001B[0m\u001B[0;34m(\u001B[0m\u001B[0mop\u001B[0m\u001B[0;34m=\u001B[0m\u001B[0mop\u001B[0m\u001B[0;34m,\u001B[0m \u001B[0mleft\u001B[0m\u001B[0;34m=\u001B[0m\u001B[0mnode\u001B[0m\u001B[0;34m.\u001B[0m\u001B[0mleft\u001B[0m\u001B[0;34m,\u001B[0m \u001B[0mright\u001B[0m\u001B[0;34m=\u001B[0m\u001B[0mcomps\u001B[0m\u001B[0;34m[\u001B[0m\u001B[0;36m0\u001B[0m\u001B[0;34m]\u001B[0m\u001B[0;34m)\u001B[0m\u001B[0;34m\u001B[0m\u001B[0;34m\u001B[0m\u001B[0m\n\u001B[0;32m--> 718\u001B[0;31m             \u001B[0;32mreturn\u001B[0m \u001B[0mself\u001B[0m\u001B[0;34m.\u001B[0m\u001B[0mvisit\u001B[0m\u001B[0;34m(\u001B[0m\u001B[0mbinop\u001B[0m\u001B[0;34m)\u001B[0m\u001B[0;34m\u001B[0m\u001B[0;34m\u001B[0m\u001B[0m\n\u001B[0m\u001B[1;32m    719\u001B[0m \u001B[0;34m\u001B[0m\u001B[0m\n\u001B[1;32m    720\u001B[0m         \u001B[0;31m# recursive case: we have a chained comparison, a CMP b CMP c, etc.\u001B[0m\u001B[0;34m\u001B[0m\u001B[0;34m\u001B[0m\u001B[0m\n",
      "\u001B[0;32m/usr/local/lib/python3.9/site-packages/pandas/core/computation/expr.py\u001B[0m in \u001B[0;36mvisit\u001B[0;34m(self, node, **kwargs)\u001B[0m\n\u001B[1;32m    409\u001B[0m         \u001B[0mmethod\u001B[0m \u001B[0;34m=\u001B[0m \u001B[0;34m\"visit_\"\u001B[0m \u001B[0;34m+\u001B[0m \u001B[0mtype\u001B[0m\u001B[0;34m(\u001B[0m\u001B[0mnode\u001B[0m\u001B[0;34m)\u001B[0m\u001B[0;34m.\u001B[0m\u001B[0m__name__\u001B[0m\u001B[0;34m\u001B[0m\u001B[0;34m\u001B[0m\u001B[0m\n\u001B[1;32m    410\u001B[0m         \u001B[0mvisitor\u001B[0m \u001B[0;34m=\u001B[0m \u001B[0mgetattr\u001B[0m\u001B[0;34m(\u001B[0m\u001B[0mself\u001B[0m\u001B[0;34m,\u001B[0m \u001B[0mmethod\u001B[0m\u001B[0;34m)\u001B[0m\u001B[0;34m\u001B[0m\u001B[0;34m\u001B[0m\u001B[0m\n\u001B[0;32m--> 411\u001B[0;31m         \u001B[0;32mreturn\u001B[0m \u001B[0mvisitor\u001B[0m\u001B[0;34m(\u001B[0m\u001B[0mnode\u001B[0m\u001B[0;34m,\u001B[0m \u001B[0;34m**\u001B[0m\u001B[0mkwargs\u001B[0m\u001B[0;34m)\u001B[0m\u001B[0;34m\u001B[0m\u001B[0;34m\u001B[0m\u001B[0m\n\u001B[0m\u001B[1;32m    412\u001B[0m \u001B[0;34m\u001B[0m\u001B[0m\n\u001B[1;32m    413\u001B[0m     \u001B[0;32mdef\u001B[0m \u001B[0mvisit_Module\u001B[0m\u001B[0;34m(\u001B[0m\u001B[0mself\u001B[0m\u001B[0;34m,\u001B[0m \u001B[0mnode\u001B[0m\u001B[0;34m,\u001B[0m \u001B[0;34m**\u001B[0m\u001B[0mkwargs\u001B[0m\u001B[0;34m)\u001B[0m\u001B[0;34m:\u001B[0m\u001B[0;34m\u001B[0m\u001B[0;34m\u001B[0m\u001B[0m\n",
      "\u001B[0;32m/usr/local/lib/python3.9/site-packages/pandas/core/computation/expr.py\u001B[0m in \u001B[0;36mvisit_BinOp\u001B[0;34m(self, node, **kwargs)\u001B[0m\n\u001B[1;32m    530\u001B[0m \u001B[0;34m\u001B[0m\u001B[0m\n\u001B[1;32m    531\u001B[0m     \u001B[0;32mdef\u001B[0m \u001B[0mvisit_BinOp\u001B[0m\u001B[0;34m(\u001B[0m\u001B[0mself\u001B[0m\u001B[0;34m,\u001B[0m \u001B[0mnode\u001B[0m\u001B[0;34m,\u001B[0m \u001B[0;34m**\u001B[0m\u001B[0mkwargs\u001B[0m\u001B[0;34m)\u001B[0m\u001B[0;34m:\u001B[0m\u001B[0;34m\u001B[0m\u001B[0;34m\u001B[0m\u001B[0m\n\u001B[0;32m--> 532\u001B[0;31m         \u001B[0mop\u001B[0m\u001B[0;34m,\u001B[0m \u001B[0mop_class\u001B[0m\u001B[0;34m,\u001B[0m \u001B[0mleft\u001B[0m\u001B[0;34m,\u001B[0m \u001B[0mright\u001B[0m \u001B[0;34m=\u001B[0m \u001B[0mself\u001B[0m\u001B[0;34m.\u001B[0m\u001B[0m_maybe_transform_eq_ne\u001B[0m\u001B[0;34m(\u001B[0m\u001B[0mnode\u001B[0m\u001B[0;34m)\u001B[0m\u001B[0;34m\u001B[0m\u001B[0;34m\u001B[0m\u001B[0m\n\u001B[0m\u001B[1;32m    533\u001B[0m         \u001B[0mleft\u001B[0m\u001B[0;34m,\u001B[0m \u001B[0mright\u001B[0m \u001B[0;34m=\u001B[0m \u001B[0mself\u001B[0m\u001B[0;34m.\u001B[0m\u001B[0m_maybe_downcast_constants\u001B[0m\u001B[0;34m(\u001B[0m\u001B[0mleft\u001B[0m\u001B[0;34m,\u001B[0m \u001B[0mright\u001B[0m\u001B[0;34m)\u001B[0m\u001B[0;34m\u001B[0m\u001B[0;34m\u001B[0m\u001B[0m\n\u001B[1;32m    534\u001B[0m         \u001B[0;32mreturn\u001B[0m \u001B[0mself\u001B[0m\u001B[0;34m.\u001B[0m\u001B[0m_maybe_evaluate_binop\u001B[0m\u001B[0;34m(\u001B[0m\u001B[0mop\u001B[0m\u001B[0;34m,\u001B[0m \u001B[0mop_class\u001B[0m\u001B[0;34m,\u001B[0m \u001B[0mleft\u001B[0m\u001B[0;34m,\u001B[0m \u001B[0mright\u001B[0m\u001B[0;34m)\u001B[0m\u001B[0;34m\u001B[0m\u001B[0;34m\u001B[0m\u001B[0m\n",
      "\u001B[0;32m/usr/local/lib/python3.9/site-packages/pandas/core/computation/expr.py\u001B[0m in \u001B[0;36m_maybe_transform_eq_ne\u001B[0;34m(self, node, left, right)\u001B[0m\n\u001B[1;32m    450\u001B[0m     \u001B[0;32mdef\u001B[0m \u001B[0m_maybe_transform_eq_ne\u001B[0m\u001B[0;34m(\u001B[0m\u001B[0mself\u001B[0m\u001B[0;34m,\u001B[0m \u001B[0mnode\u001B[0m\u001B[0;34m,\u001B[0m \u001B[0mleft\u001B[0m\u001B[0;34m=\u001B[0m\u001B[0;32mNone\u001B[0m\u001B[0;34m,\u001B[0m \u001B[0mright\u001B[0m\u001B[0;34m=\u001B[0m\u001B[0;32mNone\u001B[0m\u001B[0;34m)\u001B[0m\u001B[0;34m:\u001B[0m\u001B[0;34m\u001B[0m\u001B[0;34m\u001B[0m\u001B[0m\n\u001B[1;32m    451\u001B[0m         \u001B[0;32mif\u001B[0m \u001B[0mleft\u001B[0m \u001B[0;32mis\u001B[0m \u001B[0;32mNone\u001B[0m\u001B[0;34m:\u001B[0m\u001B[0;34m\u001B[0m\u001B[0;34m\u001B[0m\u001B[0m\n\u001B[0;32m--> 452\u001B[0;31m             \u001B[0mleft\u001B[0m \u001B[0;34m=\u001B[0m \u001B[0mself\u001B[0m\u001B[0;34m.\u001B[0m\u001B[0mvisit\u001B[0m\u001B[0;34m(\u001B[0m\u001B[0mnode\u001B[0m\u001B[0;34m.\u001B[0m\u001B[0mleft\u001B[0m\u001B[0;34m,\u001B[0m \u001B[0mside\u001B[0m\u001B[0;34m=\u001B[0m\u001B[0;34m\"left\"\u001B[0m\u001B[0;34m)\u001B[0m\u001B[0;34m\u001B[0m\u001B[0;34m\u001B[0m\u001B[0m\n\u001B[0m\u001B[1;32m    453\u001B[0m         \u001B[0;32mif\u001B[0m \u001B[0mright\u001B[0m \u001B[0;32mis\u001B[0m \u001B[0;32mNone\u001B[0m\u001B[0;34m:\u001B[0m\u001B[0;34m\u001B[0m\u001B[0;34m\u001B[0m\u001B[0m\n\u001B[1;32m    454\u001B[0m             \u001B[0mright\u001B[0m \u001B[0;34m=\u001B[0m \u001B[0mself\u001B[0m\u001B[0;34m.\u001B[0m\u001B[0mvisit\u001B[0m\u001B[0;34m(\u001B[0m\u001B[0mnode\u001B[0m\u001B[0;34m.\u001B[0m\u001B[0mright\u001B[0m\u001B[0;34m,\u001B[0m \u001B[0mside\u001B[0m\u001B[0;34m=\u001B[0m\u001B[0;34m\"right\"\u001B[0m\u001B[0;34m)\u001B[0m\u001B[0;34m\u001B[0m\u001B[0;34m\u001B[0m\u001B[0m\n",
      "\u001B[0;32m/usr/local/lib/python3.9/site-packages/pandas/core/computation/expr.py\u001B[0m in \u001B[0;36mvisit\u001B[0;34m(self, node, **kwargs)\u001B[0m\n\u001B[1;32m    409\u001B[0m         \u001B[0mmethod\u001B[0m \u001B[0;34m=\u001B[0m \u001B[0;34m\"visit_\"\u001B[0m \u001B[0;34m+\u001B[0m \u001B[0mtype\u001B[0m\u001B[0;34m(\u001B[0m\u001B[0mnode\u001B[0m\u001B[0;34m)\u001B[0m\u001B[0;34m.\u001B[0m\u001B[0m__name__\u001B[0m\u001B[0;34m\u001B[0m\u001B[0;34m\u001B[0m\u001B[0m\n\u001B[1;32m    410\u001B[0m         \u001B[0mvisitor\u001B[0m \u001B[0;34m=\u001B[0m \u001B[0mgetattr\u001B[0m\u001B[0;34m(\u001B[0m\u001B[0mself\u001B[0m\u001B[0;34m,\u001B[0m \u001B[0mmethod\u001B[0m\u001B[0;34m)\u001B[0m\u001B[0;34m\u001B[0m\u001B[0;34m\u001B[0m\u001B[0m\n\u001B[0;32m--> 411\u001B[0;31m         \u001B[0;32mreturn\u001B[0m \u001B[0mvisitor\u001B[0m\u001B[0;34m(\u001B[0m\u001B[0mnode\u001B[0m\u001B[0;34m,\u001B[0m \u001B[0;34m**\u001B[0m\u001B[0mkwargs\u001B[0m\u001B[0;34m)\u001B[0m\u001B[0;34m\u001B[0m\u001B[0;34m\u001B[0m\u001B[0m\n\u001B[0m\u001B[1;32m    412\u001B[0m \u001B[0;34m\u001B[0m\u001B[0m\n\u001B[1;32m    413\u001B[0m     \u001B[0;32mdef\u001B[0m \u001B[0mvisit_Module\u001B[0m\u001B[0;34m(\u001B[0m\u001B[0mself\u001B[0m\u001B[0;34m,\u001B[0m \u001B[0mnode\u001B[0m\u001B[0;34m,\u001B[0m \u001B[0;34m**\u001B[0m\u001B[0mkwargs\u001B[0m\u001B[0;34m)\u001B[0m\u001B[0;34m:\u001B[0m\u001B[0;34m\u001B[0m\u001B[0;34m\u001B[0m\u001B[0m\n",
      "\u001B[0;32m/usr/local/lib/python3.9/site-packages/pandas/core/computation/expr.py\u001B[0m in \u001B[0;36mvisit_Name\u001B[0;34m(self, node, **kwargs)\u001B[0m\n\u001B[1;32m    543\u001B[0m \u001B[0;34m\u001B[0m\u001B[0m\n\u001B[1;32m    544\u001B[0m     \u001B[0;32mdef\u001B[0m \u001B[0mvisit_Name\u001B[0m\u001B[0;34m(\u001B[0m\u001B[0mself\u001B[0m\u001B[0;34m,\u001B[0m \u001B[0mnode\u001B[0m\u001B[0;34m,\u001B[0m \u001B[0;34m**\u001B[0m\u001B[0mkwargs\u001B[0m\u001B[0;34m)\u001B[0m\u001B[0;34m:\u001B[0m\u001B[0;34m\u001B[0m\u001B[0;34m\u001B[0m\u001B[0m\n\u001B[0;32m--> 545\u001B[0;31m         \u001B[0;32mreturn\u001B[0m \u001B[0mself\u001B[0m\u001B[0;34m.\u001B[0m\u001B[0mterm_type\u001B[0m\u001B[0;34m(\u001B[0m\u001B[0mnode\u001B[0m\u001B[0;34m.\u001B[0m\u001B[0mid\u001B[0m\u001B[0;34m,\u001B[0m \u001B[0mself\u001B[0m\u001B[0;34m.\u001B[0m\u001B[0menv\u001B[0m\u001B[0;34m,\u001B[0m \u001B[0;34m**\u001B[0m\u001B[0mkwargs\u001B[0m\u001B[0;34m)\u001B[0m\u001B[0;34m\u001B[0m\u001B[0;34m\u001B[0m\u001B[0m\n\u001B[0m\u001B[1;32m    546\u001B[0m \u001B[0;34m\u001B[0m\u001B[0m\n\u001B[1;32m    547\u001B[0m     \u001B[0;32mdef\u001B[0m \u001B[0mvisit_NameConstant\u001B[0m\u001B[0;34m(\u001B[0m\u001B[0mself\u001B[0m\u001B[0;34m,\u001B[0m \u001B[0mnode\u001B[0m\u001B[0;34m,\u001B[0m \u001B[0;34m**\u001B[0m\u001B[0mkwargs\u001B[0m\u001B[0;34m)\u001B[0m\u001B[0;34m:\u001B[0m\u001B[0;34m\u001B[0m\u001B[0;34m\u001B[0m\u001B[0m\n",
      "\u001B[0;32m/usr/local/lib/python3.9/site-packages/pandas/core/computation/ops.py\u001B[0m in \u001B[0;36m__init__\u001B[0;34m(self, name, env, side, encoding)\u001B[0m\n\u001B[1;32m     96\u001B[0m         \u001B[0mtname\u001B[0m \u001B[0;34m=\u001B[0m \u001B[0mstr\u001B[0m\u001B[0;34m(\u001B[0m\u001B[0mname\u001B[0m\u001B[0;34m)\u001B[0m\u001B[0;34m\u001B[0m\u001B[0;34m\u001B[0m\u001B[0m\n\u001B[1;32m     97\u001B[0m         \u001B[0mself\u001B[0m\u001B[0;34m.\u001B[0m\u001B[0mis_local\u001B[0m \u001B[0;34m=\u001B[0m \u001B[0mtname\u001B[0m\u001B[0;34m.\u001B[0m\u001B[0mstartswith\u001B[0m\u001B[0;34m(\u001B[0m\u001B[0mLOCAL_TAG\u001B[0m\u001B[0;34m)\u001B[0m \u001B[0;32mor\u001B[0m \u001B[0mtname\u001B[0m \u001B[0;32min\u001B[0m \u001B[0mDEFAULT_GLOBALS\u001B[0m\u001B[0;34m\u001B[0m\u001B[0;34m\u001B[0m\u001B[0m\n\u001B[0;32m---> 98\u001B[0;31m         \u001B[0mself\u001B[0m\u001B[0;34m.\u001B[0m\u001B[0m_value\u001B[0m \u001B[0;34m=\u001B[0m \u001B[0mself\u001B[0m\u001B[0;34m.\u001B[0m\u001B[0m_resolve_name\u001B[0m\u001B[0;34m(\u001B[0m\u001B[0;34m)\u001B[0m\u001B[0;34m\u001B[0m\u001B[0;34m\u001B[0m\u001B[0m\n\u001B[0m\u001B[1;32m     99\u001B[0m         \u001B[0mself\u001B[0m\u001B[0;34m.\u001B[0m\u001B[0mencoding\u001B[0m \u001B[0;34m=\u001B[0m \u001B[0mencoding\u001B[0m\u001B[0;34m\u001B[0m\u001B[0;34m\u001B[0m\u001B[0m\n\u001B[1;32m    100\u001B[0m \u001B[0;34m\u001B[0m\u001B[0m\n",
      "\u001B[0;32m/usr/local/lib/python3.9/site-packages/pandas/core/computation/ops.py\u001B[0m in \u001B[0;36m_resolve_name\u001B[0;34m(self)\u001B[0m\n\u001B[1;32m    113\u001B[0m \u001B[0;34m\u001B[0m\u001B[0m\n\u001B[1;32m    114\u001B[0m     \u001B[0;32mdef\u001B[0m \u001B[0m_resolve_name\u001B[0m\u001B[0;34m(\u001B[0m\u001B[0mself\u001B[0m\u001B[0;34m)\u001B[0m\u001B[0;34m:\u001B[0m\u001B[0;34m\u001B[0m\u001B[0;34m\u001B[0m\u001B[0m\n\u001B[0;32m--> 115\u001B[0;31m         \u001B[0mres\u001B[0m \u001B[0;34m=\u001B[0m \u001B[0mself\u001B[0m\u001B[0;34m.\u001B[0m\u001B[0menv\u001B[0m\u001B[0;34m.\u001B[0m\u001B[0mresolve\u001B[0m\u001B[0;34m(\u001B[0m\u001B[0mself\u001B[0m\u001B[0;34m.\u001B[0m\u001B[0mlocal_name\u001B[0m\u001B[0;34m,\u001B[0m \u001B[0mis_local\u001B[0m\u001B[0;34m=\u001B[0m\u001B[0mself\u001B[0m\u001B[0;34m.\u001B[0m\u001B[0mis_local\u001B[0m\u001B[0;34m)\u001B[0m\u001B[0;34m\u001B[0m\u001B[0;34m\u001B[0m\u001B[0m\n\u001B[0m\u001B[1;32m    116\u001B[0m         \u001B[0mself\u001B[0m\u001B[0;34m.\u001B[0m\u001B[0mupdate\u001B[0m\u001B[0;34m(\u001B[0m\u001B[0mres\u001B[0m\u001B[0;34m)\u001B[0m\u001B[0;34m\u001B[0m\u001B[0;34m\u001B[0m\u001B[0m\n\u001B[1;32m    117\u001B[0m \u001B[0;34m\u001B[0m\u001B[0m\n",
      "\u001B[0;32m/usr/local/lib/python3.9/site-packages/pandas/core/computation/scope.py\u001B[0m in \u001B[0;36mresolve\u001B[0;34m(self, key, is_local)\u001B[0m\n\u001B[1;32m    214\u001B[0m                 \u001B[0;32mfrom\u001B[0m \u001B[0mpandas\u001B[0m\u001B[0;34m.\u001B[0m\u001B[0mcore\u001B[0m\u001B[0;34m.\u001B[0m\u001B[0mcomputation\u001B[0m\u001B[0;34m.\u001B[0m\u001B[0mops\u001B[0m \u001B[0;32mimport\u001B[0m \u001B[0mUndefinedVariableError\u001B[0m\u001B[0;34m\u001B[0m\u001B[0;34m\u001B[0m\u001B[0m\n\u001B[1;32m    215\u001B[0m \u001B[0;34m\u001B[0m\u001B[0m\n\u001B[0;32m--> 216\u001B[0;31m                 \u001B[0;32mraise\u001B[0m \u001B[0mUndefinedVariableError\u001B[0m\u001B[0;34m(\u001B[0m\u001B[0mkey\u001B[0m\u001B[0;34m,\u001B[0m \u001B[0mis_local\u001B[0m\u001B[0;34m)\u001B[0m \u001B[0;32mfrom\u001B[0m \u001B[0merr\u001B[0m\u001B[0;34m\u001B[0m\u001B[0;34m\u001B[0m\u001B[0m\n\u001B[0m\u001B[1;32m    217\u001B[0m \u001B[0;34m\u001B[0m\u001B[0m\n\u001B[1;32m    218\u001B[0m     \u001B[0;32mdef\u001B[0m \u001B[0mswapkey\u001B[0m\u001B[0;34m(\u001B[0m\u001B[0mself\u001B[0m\u001B[0;34m,\u001B[0m \u001B[0mold_key\u001B[0m\u001B[0;34m:\u001B[0m \u001B[0mstr\u001B[0m\u001B[0;34m,\u001B[0m \u001B[0mnew_key\u001B[0m\u001B[0;34m:\u001B[0m \u001B[0mstr\u001B[0m\u001B[0;34m,\u001B[0m \u001B[0mnew_value\u001B[0m\u001B[0;34m=\u001B[0m\u001B[0;32mNone\u001B[0m\u001B[0;34m)\u001B[0m \u001B[0;34m->\u001B[0m \u001B[0;32mNone\u001B[0m\u001B[0;34m:\u001B[0m\u001B[0;34m\u001B[0m\u001B[0;34m\u001B[0m\u001B[0m\n",
      "\u001B[0;31mUndefinedVariableError\u001B[0m: name 'installation' is not defined"
     ]
    }
   ],
   "source": [
    "# Lets start by creating a dataframe containing only metadata of datasets published in the Harvard Dataverse Repository\n",
    "datasetsInHDVDF = (allFunderNameDataDF\n",
    "    .query('(installation == \"Harvard Dataverse\")')\n",
    "    .drop(columns=['installation'])\n",
    "    .reset_index(drop=True, inplace=False)\n",
    "    )\n",
    "\n",
    "countOfDatasetsInHDVDF = len(pd.unique(datasetsInHDVDF['dataset_pid_url']))\n",
    "print(f'Number of datasets in datasetInHDVDF: {countOfDatasetsInHDVDF}')\n",
    "\n",
    "datasetsInHDVDF.head()"
   ],
   "metadata": {
    "collapsed": false,
    "pycharm": {
     "name": "#%%\n"
    }
   }
  },
  {
   "cell_type": "markdown",
   "source": [
    "So of the 80,278 datasets in the Harvard Dataverse Repository as of early October 2022, 30,222 had metadata about funding in one of the three fields where we expect it.\n",
    "\n",
    "What's entered most often in the grantNumberAgency (Funding Information Name) field?"
   ],
   "metadata": {
    "collapsed": false,
    "pycharm": {
     "name": "#%% md\n"
    }
   }
  },
  {
   "cell_type": "code",
   "execution_count": null,
   "outputs": [],
   "source": [
    "# Now let's get counts of these datasets by collection\n",
    "countOfFunderNamesinContributorNameFieldInHDVDF = createCountsDF(\n",
    "    dataframe=datasetsInHDVDF,\n",
    "    countsQuery=onlyContributorQuery,\n",
    "    nameOfCountsColumn='count_of_datasets_with_funders_names_only_contributor_field',\n",
    "    groupBy='dataverse_collection_alias',\n",
    "    sortBy='count_of_datasets_with_funders_names_only_contributor_field',\n",
    "    ascendingSort=False)\n",
    "\n",
    "countOfFunderNamesinContributorNameFieldInHDVDF.head()"
   ],
   "metadata": {
    "collapsed": false,
    "pycharm": {
     "name": "#%%\n"
    }
   }
  },
  {
   "cell_type": "code",
   "execution_count": null,
   "outputs": [],
   "source": [
    "\n",
    "\n",
    "# Create a new dataframe that lists each funder name entered in grantNumberAgency and the number of datasets with that funder name\n",
    "datasetCountByFundingAgencyNamesInHDV = (\n",
    "    datasetsInHDVDF[['dataset_pid_url', 'grantNumberAgency']]\n",
    "        .query('grantNumberAgency == grantNumberAgency')\n",
    "        .drop_duplicates()\n",
    "        .groupby(['grantNumberAgency']).count()\n",
    "        .rename(columns={'dataset_pid_url': 'count_of_datasets'})\n",
    "        .sort_values(by=['count_of_datasets'], ascending=False)\n",
    "        .reset_index(drop=False, inplace=False)\n",
    ")\n",
    "\n",
    "datasetCountByFundingAgencyNamesInHDV.head(10)"
   ],
   "metadata": {
    "collapsed": false,
    "pycharm": {
     "name": "#%%\n"
    }
   }
  },
  {
   "cell_type": "markdown",
   "source": [
    "It's most likely that the Leon Levy collection has the most datasets with a funder name in their grantNumberAgency (Funding Information Name) field.\n",
    "\n",
    "It also looks like, for datasets with other funder name metadata, we might have to deal with the variations in spellings, maybe using a deduplication or fuzzy matching library, in order to see which funders are added to the funding metadata most often. For example, this shows only 57 datasets with the value \"NIH\" in the Funding Information Agency field, but I've found more than 57 datasets created from NIH-funded research, with other values in the field, such as \"National Institute of Health\".\n",
    "\n",
    "For now, let's see which collections have the most datasets with funding metadata, excluding the Leon Levy collections."
   ],
   "metadata": {
    "collapsed": false
   }
  },
  {
   "cell_type": "code",
   "execution_count": null,
   "outputs": [],
   "source": [
    "datasetsInHDVByCollection_NoLevy = (\n",
    "    datasetsInHDVDF[['dataset_pid_url', 'dataverse_alias']]\n",
    "    .drop_duplicates()\n",
    "    .groupby(['dataverse_alias']).count()\n",
    "    .query('~dataverse_alias.str.contains(\"levy_photos\").values')\n",
    "    .rename(columns={'dataset_pid_url': 'count_of_datasets'})\n",
    "    .sort_values(by=['count_of_datasets'], ascending=False)\n",
    "    .reset_index(drop=False, inplace=False)\n",
    ")\n",
    "\n",
    "datasetsInHDVByCollection_NoLevy.head(10)"
   ],
   "metadata": {
    "collapsed": false,
    "pycharm": {
     "name": "#%%\n"
    }
   }
  },
  {
   "cell_type": "markdown",
   "source": [
    "The IFPRI collections (IFPRI and AfricaRISING), worldfish collection and CIAT collection have the most datasets with funding metadata. (\"harvard\" is the alias of repository's main collection, where anyone can add data.)\n",
    "\n",
    "What have the depositors of those datasets entered in the metadata?\n"
   ],
   "metadata": {
    "collapsed": false,
    "pycharm": {
     "name": "#%% md\n"
    }
   }
  },
  {
   "cell_type": "code",
   "execution_count": null,
   "outputs": [],
   "source": [
    "# fundingDatasetMetadataInHDVDF.to_csv('fundingDatasetMetadataInHDVDF.csv', index=False)"
   ],
   "metadata": {
    "collapsed": false,
    "pycharm": {
     "name": "#%%\n"
    }
   }
  },
  {
   "cell_type": "code",
   "execution_count": null,
   "outputs": [],
   "source": [
    "def funder_names_in_collections(dataframe, collectionAliasesList):\n",
    "    funderNamesInCollectionDF = (\n",
    "        # Drop all but the needed columns\n",
    "        dataframe[[\n",
    "            'dataset_pid_url', 'grantNumberAgency', 'dataverse_alias']]\n",
    "        # Remove all datasets except those in given list of collection aliases\n",
    "        .query(\n",
    "            'dataverse_alias in @collectionAliasesList')\n",
    "        # Remove the 'dataverse_alias' column\n",
    "        .drop(columns=['dataverse_alias'])\n",
    "        # Keep only datasets that have funding agency name metadata\n",
    "        .query('grantNumberAgency == grantNumberAgency')\n",
    "        # Drop duplicate rows\n",
    "        .drop_duplicates()\n",
    "        # Group by funding agency name\n",
    "        .groupby(['grantNumberAgency']).count()\n",
    "        .rename(columns={'dataset_pid_url': 'count_of_datasets'})\n",
    "        # Sort by count of occurrences of each funder name\n",
    "        .sort_values(by=['count_of_datasets'], ascending=False)\n",
    "        .reset_index(drop=False, inplace=False))\n",
    "    return funderNamesInCollectionDF\n"
   ],
   "metadata": {
    "collapsed": false,
    "pycharm": {
     "name": "#%%\n"
    }
   }
  },
  {
   "cell_type": "code",
   "execution_count": null,
   "outputs": [],
   "source": [
    "datasetCountByFundingAgencyNamesIFPRI = funder_names_in_collections(\n",
    "    dataframe=datasetsInHDVDF,\n",
    "    collectionAliasesList=['IFPRI', 'AfricaRISING'])\n",
    "\n",
    "datasetCountByFundingAgencyNamesIFPRI.head()"
   ],
   "metadata": {
    "collapsed": false,
    "pycharm": {
     "name": "#%%\n"
    }
   }
  },
  {
   "cell_type": "code",
   "execution_count": null,
   "outputs": [],
   "source": [
    "datasetCountByFundingAgencyNamesWorldfish = funder_names_in_collections(\n",
    "    dataframe=datasetsInHDVDF,\n",
    "    collectionAliasesList=['worldfish'])\n",
    "\n",
    "datasetCountByFundingAgencyNamesWorldfish.head()\n",
    "\n",
    "# funderNamesList_Worldfish = list(set(datasetCountByFundingAgencyNamesWorldfish[\"grantNumberAgency\"].values.tolist()))"
   ],
   "metadata": {
    "collapsed": false,
    "pycharm": {
     "name": "#%%\n"
    }
   }
  },
  {
   "cell_type": "code",
   "execution_count": null,
   "outputs": [],
   "source": [
    "datasetCountByFundingAgencyNamesCIAT = funder_names_in_collections(\n",
    "    dataframe=datasetsInHDVDF,\n",
    "    collectionAliasesList=[ # Aliases of collections I think are associated with CIAT\n",
    "        'CIAT',\n",
    "        'AgBio',\n",
    "        'AICCRA',\n",
    "        'CIFOR',\n",
    "        'gender',\n",
    "        'crp6',\n",
    "        'dapa',\n",
    "        'AllianceBioversityCIATFoodConsumer',\n",
    "        'AllianceBioversityCIATLandscapes',\n",
    "        'AllianceBioversityCIATClimate',\n",
    "        'AllianceBioversityCIATBiodiversity',\n",
    "        'AllianceBioversityCIATDigital',\n",
    "        'AllianceBioversityCIATCrops4NH',\n",
    "        'soils',\n",
    "        'AllianceBioversityCIAT'\n",
    "    ])\n",
    "\n",
    "datasetCountByFundingAgencyNamesCIAT.head(20)"
   ],
   "metadata": {
    "collapsed": false,
    "pycharm": {
     "name": "#%%\n"
    }
   }
  },
  {
   "cell_type": "code",
   "execution_count": null,
   "outputs": [],
   "source": [
    "datasetCountByFundingAgencyNamesDFEEP = funder_names_in_collections(\n",
    "    dataframe=datasetsInHDVDF,\n",
    "    collectionAliasesList=['DFEEP', 'ipa', 'jpal'])\n",
    "\n",
    "datasetCountByFundingAgencyNamesDFEEP.head()"
   ],
   "metadata": {
    "collapsed": false,
    "pycharm": {
     "name": "#%%\n"
    }
   }
  },
  {
   "cell_type": "markdown",
   "source": [
    "### Duplicate funding metadata in Harvard Dataverse\n",
    "\n",
    "There are two fields where depositors can enter the names of funders: In the Funding Information Agency field and in the Contributor field when they choose the Contributor Type \"Funder\". How often has this happened and who's done it? By learning these things, we can see how big the problem is and who's used both fields? And later we can ask those people why. We need to learn if the design of the fields are meeting some need that we weren't aware of.\n",
    "\n",
    "For now, let's continue looking only at the latest version of each dataset. This might cause a further under count of the number of times this issue has actually occurred. For example, first version of a dataset might have both fields filled but the latest might have only one. By considering only the latest version of each dataset, we'll miss cases like this. Eventually we'll have to think about what to do about the metadata of previous dataset versions.\n",
    "\n",
    "Questions\n",
    "- In the Harvard Dataverse Repository, how many datasets have values in the Funder Information fields and in the Contributor field when Contributor Type is \"Funder\"?\n",
    "- How many datasets have funding metadata in their Contributor field and not in their Funder Information fields?\n",
    "- How often are the same values in both fields? For example, one dataset might have \"NIH\" in the Funder Information Agency field and in the Contributor Name field when the Contributor Type is \"Funder\". How often do things like this happen?\n",
    "- How often are different values in both fields?"
   ],
   "metadata": {
    "collapsed": false,
    "pycharm": {
     "name": "#%% md\n"
    }
   }
  },
  {
   "cell_type": "code",
   "execution_count": null,
   "outputs": [],
   "source": [
    "# Now let's query it to get only datasets that have values in both metadata fields\n",
    "# Let's see which collections have most of these datasets\n"
   ],
   "metadata": {
    "collapsed": false,
    "pycharm": {
     "name": "#%%\n"
    }
   }
  },
  {
   "cell_type": "code",
   "execution_count": null,
   "outputs": [],
   "source": [
    "datasetCountDuplicateFundingFields = len(pd.unique(duplicateFundingFieldsInHDV['dataset_pid_url']))\n",
    "print(f'Number of datasets with metadata in both funding metadata fields: {datasetCountDuplicateFundingFields}')"
   ],
   "metadata": {
    "collapsed": false,
    "pycharm": {
     "name": "#%%\n"
    }
   }
  },
  {
   "cell_type": "code",
   "execution_count": null,
   "outputs": [],
   "source": [
    "# duplicateFundingFieldsInHDV.to_csv('duplicateFundingFieldsInHDV.csv', index=False)"
   ],
   "metadata": {
    "collapsed": false,
    "pycharm": {
     "name": "#%%\n"
    }
   }
  },
  {
   "cell_type": "markdown",
   "source": [
    "How many datasets have funding metadata in their Contributor field and not in their Grant Information fields?"
   ],
   "metadata": {
    "collapsed": false,
    "pycharm": {
     "name": "#%% md\n"
    }
   }
  }
 ],
 "metadata": {
  "kernelspec": {
   "display_name": "Python 3",
   "language": "python",
   "name": "python3"
  },
  "language_info": {
   "codemirror_mode": {
    "name": "ipython",
    "version": 2
   },
   "file_extension": ".py",
   "mimetype": "text/x-python",
   "name": "python",
   "nbconvert_exporter": "python",
   "pygments_lexer": "ipython2",
   "version": "2.7.6"
  }
 },
 "nbformat": 4,
 "nbformat_minor": 0
}