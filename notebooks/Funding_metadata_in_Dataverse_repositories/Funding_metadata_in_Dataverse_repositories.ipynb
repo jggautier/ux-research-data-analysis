{
 "cells": [
  {
   "cell_type": "code",
   "execution_count": 1,
   "metadata": {
    "collapsed": true
   },
   "outputs": [],
   "source": [
    "from functools import reduce\n",
    "import pandas as pd"
   ]
  },
  {
   "cell_type": "markdown",
   "source": [
    "## Prepare the data"
   ],
   "metadata": {
    "collapsed": false,
    "pycharm": {
     "name": "#%% md\n"
    }
   }
  },
  {
   "cell_type": "code",
   "execution_count": 4,
   "outputs": [
    {
     "data": {
      "text/plain": "  dataverse_installation_name                  dataset_pid_url  \\\n0     UNB_Libraries_Dataverse  https://doi.org/10.25545/NVN79Z   \n1     UNB_Libraries_Dataverse  https://doi.org/10.25545/YB60PU   \n2     UNB_Libraries_Dataverse  https://doi.org/10.25545/WHD3KC   \n3     UNB_Libraries_Dataverse  https://doi.org/10.25545/6TZWCG   \n4     UNB_Libraries_Dataverse  https://doi.org/10.25545/NYM13B   \n\n  dataverse_collection_alias  \\\n0                        snb   \n1            blightchemistry   \n2            blightchemistry   \n3           Ir-CationBinding   \n4                     IFMLAB   \n\n                           dataverse_collection_name  \\\n0                              Service New Brunswick   \n1                Blight Chemistry Research Omniverse   \n2                Blight Chemistry Research Omniverse   \n3  Elucidation of Charge Contributions in Iridium...   \n4                   Integrated Forest Management Lab   \n\n    dataverse_collection_type  \n0  ORGANIZATIONS_INSTITUTIONS  \n1              RESEARCH_GROUP  \n2              RESEARCH_GROUP  \n3                    JOURNALS  \n4              RESEARCH_GROUP  ",
      "text/html": "<div><div id=f4c61173-65c6-42b9-9d10-67b45307b0b7 style=\"display:none; background-color:#9D6CFF; color:white; width:200px; height:30px; padding-left:5px; border-radius:4px; flex-direction:row; justify-content:space-around; align-items:center;\" onmouseover=\"this.style.backgroundColor='#BA9BF8'\" onmouseout=\"this.style.backgroundColor='#9D6CFF'\" onclick=\"window.commands?.execute('create-mitosheet-from-dataframe-output');\">See Full Dataframe in Mito</div> <script> if (window.commands.hasCommand('create-mitosheet-from-dataframe-output')) document.getElementById('f4c61173-65c6-42b9-9d10-67b45307b0b7').style.display = 'flex' </script> <table border=\"1\" class=\"dataframe\">\n  <thead>\n    <tr style=\"text-align: right;\">\n      <th></th>\n      <th>dataverse_installation_name</th>\n      <th>dataset_pid_url</th>\n      <th>dataverse_collection_alias</th>\n      <th>dataverse_collection_name</th>\n      <th>dataverse_collection_type</th>\n    </tr>\n  </thead>\n  <tbody>\n    <tr>\n      <th>0</th>\n      <td>UNB_Libraries_Dataverse</td>\n      <td>https://doi.org/10.25545/NVN79Z</td>\n      <td>snb</td>\n      <td>Service New Brunswick</td>\n      <td>ORGANIZATIONS_INSTITUTIONS</td>\n    </tr>\n    <tr>\n      <th>1</th>\n      <td>UNB_Libraries_Dataverse</td>\n      <td>https://doi.org/10.25545/YB60PU</td>\n      <td>blightchemistry</td>\n      <td>Blight Chemistry Research Omniverse</td>\n      <td>RESEARCH_GROUP</td>\n    </tr>\n    <tr>\n      <th>2</th>\n      <td>UNB_Libraries_Dataverse</td>\n      <td>https://doi.org/10.25545/WHD3KC</td>\n      <td>blightchemistry</td>\n      <td>Blight Chemistry Research Omniverse</td>\n      <td>RESEARCH_GROUP</td>\n    </tr>\n    <tr>\n      <th>3</th>\n      <td>UNB_Libraries_Dataverse</td>\n      <td>https://doi.org/10.25545/6TZWCG</td>\n      <td>Ir-CationBinding</td>\n      <td>Elucidation of Charge Contributions in Iridium-Chelated Hydrogen-Bonding Systems</td>\n      <td>JOURNALS</td>\n    </tr>\n    <tr>\n      <th>4</th>\n      <td>UNB_Libraries_Dataverse</td>\n      <td>https://doi.org/10.25545/NYM13B</td>\n      <td>IFMLAB</td>\n      <td>Integrated Forest Management Lab</td>\n      <td>RESEARCH_GROUP</td>\n    </tr>\n  </tbody>\n</table></div>"
     },
     "execution_count": 4,
     "metadata": {},
     "output_type": "execute_result"
    }
   ],
   "source": [
    "# Import CSV files that lists PIDs of all datasets and which Dataverse installation\n",
    "# they're published in, and which Dataverse collections they're publishing in\n",
    "datasetPIDsDF = (pd\n",
    "    .read_csv(\n",
    "        filepath_or_buffer='dataset_pids_from_most_known_dataverse_installations_2023.08.csv',\n",
    "        usecols=lambda x: x not in ['dataset_pid', 'dataverse_name'],\n",
    "        sep=',', na_filter=False)\n",
    "    # Remove datasets whose metadata couldn't be saved and datasets from ODISSEI_Portal, since that installation only indexes metadata from other repositories\n",
    "    .query(\n",
    "        '(dataverse_json_export_saved == True) and\\\n",
    "        (dataverse_installation_name != \"ODISSEI_Portal\")')\n",
    "    .drop(columns=['dataverse_json_export_saved'])\n",
    "    .reset_index(drop=True, inplace=False)\n",
    ")\n",
    "\n",
    "datasetPIDsDF.head()"
   ],
   "metadata": {
    "collapsed": false,
    "pycharm": {
     "name": "#%%\n"
    }
   }
  },
  {
   "cell_type": "code",
   "execution_count": 52,
   "outputs": [
    {
     "name": "stdout",
     "output_type": "stream",
     "text": [
      "Count of datasets: 390401\n"
     ]
    },
    {
     "data": {
      "text/plain": "                      dataverse_installation_name  count_of_all_datasets\n0                                  ACSS_Dataverse                    137\n1                                   ADA_Dataverse                   1648\n2            ASU_Library_Research_Data_Repository                     61\n3                                AUSSDA_Dataverse                   1517\n4                                          Abacus                   2417\n..                                            ...                    ...\n79  World_Agroforestry_-_Research_Data_Repository                    642\n80                                       bonndata                      4\n81                                           dare                      4\n82                                data.sciencespo                    415\n83                                       osnaData                     23\n\n[84 rows x 2 columns]",
      "text/html": "<div><div id=8a29dafa-8250-4f1c-99b9-693e4401457c style=\"display:none; background-color:#9D6CFF; color:white; width:200px; height:30px; padding-left:5px; border-radius:4px; flex-direction:row; justify-content:space-around; align-items:center;\" onmouseover=\"this.style.backgroundColor='#BA9BF8'\" onmouseout=\"this.style.backgroundColor='#9D6CFF'\" onclick=\"window.commands?.execute('create-mitosheet-from-dataframe-output');\">See Full Dataframe in Mito</div> <script> if (window.commands.hasCommand('create-mitosheet-from-dataframe-output')) document.getElementById('8a29dafa-8250-4f1c-99b9-693e4401457c').style.display = 'flex' </script> <table border=\"1\" class=\"dataframe\">\n  <thead>\n    <tr style=\"text-align: right;\">\n      <th></th>\n      <th>dataverse_installation_name</th>\n      <th>count_of_all_datasets</th>\n    </tr>\n  </thead>\n  <tbody>\n    <tr>\n      <th>0</th>\n      <td>ACSS_Dataverse</td>\n      <td>137</td>\n    </tr>\n    <tr>\n      <th>1</th>\n      <td>ADA_Dataverse</td>\n      <td>1648</td>\n    </tr>\n    <tr>\n      <th>2</th>\n      <td>ASU_Library_Research_Data_Repository</td>\n      <td>61</td>\n    </tr>\n    <tr>\n      <th>3</th>\n      <td>AUSSDA_Dataverse</td>\n      <td>1517</td>\n    </tr>\n    <tr>\n      <th>4</th>\n      <td>Abacus</td>\n      <td>2417</td>\n    </tr>\n    <tr>\n      <th>5</th>\n      <td>Arca_Dados</td>\n      <td>726</td>\n    </tr>\n    <tr>\n      <th>6</th>\n      <td>Borealis</td>\n      <td>15001</td>\n    </tr>\n    <tr>\n      <th>7</th>\n      <td>CESA_-_Repositorio_de_datos_académicos</td>\n      <td>4</td>\n    </tr>\n    <tr>\n      <th>8</th>\n      <td>CIDACS</td>\n      <td>114</td>\n    </tr>\n    <tr>\n      <th>9</th>\n      <td>CIFOR</td>\n      <td>283</td>\n    </tr>\n    <tr>\n      <th>10</th>\n      <td>CIMMYT_Research_Data</td>\n      <td>967</td>\n    </tr>\n    <tr>\n      <th>11</th>\n      <td>CORA._Research_Data_Repository_(RDR)</td>\n      <td>397</td>\n    </tr>\n    <tr>\n      <th>12</th>\n      <td>CROSSDA</td>\n      <td>11</td>\n    </tr>\n    <tr>\n      <th>13</th>\n      <td>CUHK_Research_Data_Repository</td>\n      <td>52</td>\n    </tr>\n    <tr>\n      <th>14</th>\n      <td>DADOS_IPB</td>\n      <td>16</td>\n    </tr>\n    <tr>\n      <th>15</th>\n      <td>DANS_Data_Station_Archaeology</td>\n      <td>131173</td>\n    </tr>\n    <tr>\n      <th>16</th>\n      <td>DATICE</td>\n      <td>25</td>\n    </tr>\n    <tr>\n      <th>17</th>\n      <td>DOREL</td>\n      <td>39</td>\n    </tr>\n    <tr>\n      <th>18</th>\n      <td>DR-NTU_(Data)</td>\n      <td>1391</td>\n    </tr>\n    <tr>\n      <th>19</th>\n      <td>DUnAs</td>\n      <td>10</td>\n    </tr>\n    <tr>\n      <th>20</th>\n      <td>DaRUS</td>\n      <td>1342</td>\n    </tr>\n    <tr>\n      <th>21</th>\n      <td>Dartmouth_Dataverse</td>\n      <td>51</td>\n    </tr>\n    <tr>\n      <th>22</th>\n      <td>DataRepositoriUM</td>\n      <td>122</td>\n    </tr>\n    <tr>\n      <th>23</th>\n      <td>Data_Suds</td>\n      <td>259</td>\n    </tr>\n    <tr>\n      <th>24</th>\n      <td>DataverseNL</td>\n      <td>6621</td>\n    </tr>\n    <tr>\n      <th>25</th>\n      <td>DataverseNO</td>\n      <td>1425</td>\n    </tr>\n    <tr>\n      <th>26</th>\n      <td>Dataverse_e-cienciaDatos</td>\n      <td>996</td>\n    </tr>\n    <tr>\n      <th>27</th>\n      <td>Edmond</td>\n      <td>615</td>\n    </tr>\n    <tr>\n      <th>28</th>\n      <td>FGV_Dataverse</td>\n      <td>26</td>\n    </tr>\n    <tr>\n      <th>29</th>\n      <td>Florida_International_University_Research_Data_Portal</td>\n      <td>64</td>\n    </tr>\n    <tr>\n      <th>...</th>\n      <td>...</td>\n      <td>...</td>\n    </tr>\n    <tr>\n      <th>54</th>\n      <td>Open_Forest_Data</td>\n      <td>79741</td>\n    </tr>\n    <tr>\n      <th>55</th>\n      <td>PAPYRUS</td>\n      <td>122</td>\n    </tr>\n    <tr>\n      <th>56</th>\n      <td>Peking_University</td>\n      <td>374</td>\n    </tr>\n    <tr>\n      <th>57</th>\n      <td>Pontificia_Universidad_Católica_del_Perú</td>\n      <td>124</td>\n    </tr>\n    <tr>\n      <th>58</th>\n      <td>QDR_Main_Collection</td>\n      <td>167</td>\n    </tr>\n    <tr>\n      <th>59</th>\n      <td>RSU_Dataverse</td>\n      <td>52</td>\n    </tr>\n    <tr>\n      <th>60</th>\n      <td>Recherche_Data_Gouv</td>\n      <td>2143</td>\n    </tr>\n    <tr>\n      <th>61</th>\n      <td>Repositorio_de_Datos_Académicos_RDA-UNR</td>\n      <td>15</td>\n    </tr>\n    <tr>\n      <th>62</th>\n      <td>Repositorio_de_Datos_de_Investigación_Universidad_del_Rosario</td>\n      <td>57</td>\n    </tr>\n    <tr>\n      <th>63</th>\n      <td>Repositorio_de_datos_de_investigación_de_la_Universidad_de_Chile</td>\n      <td>61</td>\n    </tr>\n    <tr>\n      <th>64</th>\n      <td>Repositorio_de_datos_de_la_Universidad_de_Concepción</td>\n      <td>7</td>\n    </tr>\n    <tr>\n      <th>65</th>\n      <td>Repositório_de_Dados_de_Pesquisa_da_UFABC</td>\n      <td>13</td>\n    </tr>\n    <tr>\n      <th>66</th>\n      <td>Repositórios_Piloto_da_Rede_Nacional_de_Ensino_e_Pesquisa</td>\n      <td>16</td>\n    </tr>\n    <tr>\n      <th>67</th>\n      <td>Repositório_Polen</td>\n      <td>4</td>\n    </tr>\n    <tr>\n      <th>68</th>\n      <td>Repositório_de_Dados_de_Pesquisa</td>\n      <td>58</td>\n    </tr>\n    <tr>\n      <th>69</th>\n      <td>SciELO_Data</td>\n      <td>381</td>\n    </tr>\n    <tr>\n      <th>70</th>\n      <td>TRR170-DB</td>\n      <td>89</td>\n    </tr>\n    <tr>\n      <th>71</th>\n      <td>Tecnológico_de_Monterrey_Data_Hub</td>\n      <td>8</td>\n    </tr>\n    <tr>\n      <th>72</th>\n      <td>Texas_Data_Repository_Dataverse</td>\n      <td>1749</td>\n    </tr>\n    <tr>\n      <th>73</th>\n      <td>UCLA_Dataverse</td>\n      <td>291</td>\n    </tr>\n    <tr>\n      <th>74</th>\n      <td>UNB_Libraries_Dataverse</td>\n      <td>36</td>\n    </tr>\n    <tr>\n      <th>75</th>\n      <td>UNC_Dataverse</td>\n      <td>5086</td>\n    </tr>\n    <tr>\n      <th>76</th>\n      <td>University_of_Manitoba_Dataverse</td>\n      <td>102</td>\n    </tr>\n    <tr>\n      <th>77</th>\n      <td>Università_degli_Studi_di_Milano</td>\n      <td>253</td>\n    </tr>\n    <tr>\n      <th>78</th>\n      <td>VTTI</td>\n      <td>191</td>\n    </tr>\n    <tr>\n      <th>79</th>\n      <td>World_Agroforestry_-_Research_Data_Repository</td>\n      <td>642</td>\n    </tr>\n    <tr>\n      <th>80</th>\n      <td>bonndata</td>\n      <td>4</td>\n    </tr>\n    <tr>\n      <th>81</th>\n      <td>dare</td>\n      <td>4</td>\n    </tr>\n    <tr>\n      <th>82</th>\n      <td>data.sciencespo</td>\n      <td>415</td>\n    </tr>\n    <tr>\n      <th>83</th>\n      <td>osnaData</td>\n      <td>23</td>\n    </tr>\n  </tbody>\n</table></div>"
     },
     "execution_count": 52,
     "metadata": {},
     "output_type": "execute_result"
    }
   ],
   "source": [
    "# Import funder metadata and remove the dataset_pid column\n",
    "grantInformationMetadataDF = pd.read_csv(\n",
    "    filepath_or_buffer='funding_information(citation)_2023.08.22-2023.08.28.csv',\n",
    "    usecols=lambda x: x not in ['dataset_pid'],\n",
    "    na_filter=False,\n",
    "    sep=',')\n",
    "\n",
    "print(f'Count of distinct dataset PIDs in grantInformationMetadataDF: {len(pd.unique(grantInformationMetadataDF[\"dataset_pid_url\"]))}')\n",
    "\n",
    "grantInformationMetadataDF.head()"
   ],
   "metadata": {
    "collapsed": false,
    "pycharm": {
     "name": "#%%\n"
    }
   }
  },
  {
   "cell_type": "code",
   "execution_count": 54,
   "outputs": [
    {
     "name": "stdout",
     "output_type": "stream",
     "text": [
      "Count of distinct dataset PIDs in contributorMetadataDF: 8655\n"
     ]
    },
    {
     "data": {
      "text/plain": "                      dataset_pid_url dataset_publication_date  \\\n0  https://doi.org/10.5683/SP3/6FFGZN               2021-11-04   \n1  https://doi.org/10.5683/SP3/XCS9W2               2021-11-04   \n2  https://doi.org/10.5683/SP3/N4FNRC               2021-11-04   \n3  https://doi.org/10.5683/SP3/DGXLXB               2021-11-04   \n4  https://doi.org/10.5683/SP3/4WSVNS               2021-11-04   \n\n   dataset_version_number dataset_version_create_time contributorType  \\\n0                     1.2        2021-12-09T18:34:39Z          Funder   \n1                     1.2        2021-12-10T15:12:54Z          Funder   \n2                     1.2        2021-12-09T14:49:06Z          Funder   \n3                     1.2        2021-12-10T15:55:51Z          Funder   \n4                     1.2        2021-12-08T21:45:32Z          Funder   \n\n   contributorName  \n0  Compute Ontario  \n1  Compute Ontario  \n2  Compute Ontario  \n3  Compute Ontario  \n4  Compute Ontario  ",
      "text/html": "<div><div id=6deb8df3-8ace-46af-affc-b01313f145d7 style=\"display:none; background-color:#9D6CFF; color:white; width:200px; height:30px; padding-left:5px; border-radius:4px; flex-direction:row; justify-content:space-around; align-items:center;\" onmouseover=\"this.style.backgroundColor='#BA9BF8'\" onmouseout=\"this.style.backgroundColor='#9D6CFF'\" onclick=\"window.commands?.execute('create-mitosheet-from-dataframe-output');\">See Full Dataframe in Mito</div> <script> if (window.commands.hasCommand('create-mitosheet-from-dataframe-output')) document.getElementById('6deb8df3-8ace-46af-affc-b01313f145d7').style.display = 'flex' </script> <table border=\"1\" class=\"dataframe\">\n  <thead>\n    <tr style=\"text-align: right;\">\n      <th></th>\n      <th>dataset_pid_url</th>\n      <th>dataset_publication_date</th>\n      <th>dataset_version_number</th>\n      <th>dataset_version_create_time</th>\n      <th>contributorType</th>\n      <th>contributorName</th>\n    </tr>\n  </thead>\n  <tbody>\n    <tr>\n      <th>0</th>\n      <td>https://doi.org/10.5683/SP3/6FFGZN</td>\n      <td>2021-11-04</td>\n      <td>1.2</td>\n      <td>2021-12-09T18:34:39Z</td>\n      <td>Funder</td>\n      <td>Compute Ontario</td>\n    </tr>\n    <tr>\n      <th>1</th>\n      <td>https://doi.org/10.5683/SP3/XCS9W2</td>\n      <td>2021-11-04</td>\n      <td>1.2</td>\n      <td>2021-12-10T15:12:54Z</td>\n      <td>Funder</td>\n      <td>Compute Ontario</td>\n    </tr>\n    <tr>\n      <th>2</th>\n      <td>https://doi.org/10.5683/SP3/N4FNRC</td>\n      <td>2021-11-04</td>\n      <td>1.2</td>\n      <td>2021-12-09T14:49:06Z</td>\n      <td>Funder</td>\n      <td>Compute Ontario</td>\n    </tr>\n    <tr>\n      <th>3</th>\n      <td>https://doi.org/10.5683/SP3/DGXLXB</td>\n      <td>2021-11-04</td>\n      <td>1.2</td>\n      <td>2021-12-10T15:55:51Z</td>\n      <td>Funder</td>\n      <td>Compute Ontario</td>\n    </tr>\n    <tr>\n      <th>4</th>\n      <td>https://doi.org/10.5683/SP3/4WSVNS</td>\n      <td>2021-11-04</td>\n      <td>1.2</td>\n      <td>2021-12-08T21:45:32Z</td>\n      <td>Funder</td>\n      <td>Compute Ontario</td>\n    </tr>\n  </tbody>\n</table></div>"
     },
     "execution_count": 54,
     "metadata": {},
     "output_type": "execute_result"
    }
   ],
   "source": [
    "# Import contributor metadata, remove the dataset_pid column and include only contributors who are the \"Funder\" contributor type\n",
    "contributorMetadataDF = (pd\n",
    "    .read_csv(\n",
    "        filepath_or_buffer='contributor(citation)_2023.08.22-2023.08.28.csv',\n",
    "        usecols=lambda x: x not in ['dataset_pid'],\n",
    "        na_filter=False,\n",
    "        sep=',')\n",
    "    .query('(contributorType == \"Funder\")')\n",
    "    .reset_index(drop=True, inplace=False))\n",
    "\n",
    "print(f'Count of distinct dataset PIDs in contributorMetadataDF: {len(pd.unique(contributorMetadataDF[\"dataset_pid_url\"]))}')\n",
    "\n",
    "contributorMetadataDF.head()"
   ],
   "metadata": {
    "collapsed": false,
    "pycharm": {
     "name": "#%%\n"
    }
   }
  },
  {
   "cell_type": "code",
   "execution_count": 55,
   "outputs": [
    {
     "data": {
      "text/plain": "                             dataset_pid_url dataset_publication_date  \\\n0         https://doi.org/10.7910/DVN/QD0V0H               2021-09-20   \n1     https://doi.org/10.17026/dans-xhp-2h3w               2019-10-02   \n2         https://doi.org/10.7910/DVN/FHUNGL               2021-10-19   \n3  https://hdl.handle.net/11272.1/AB2/ZZMOPP               2019-05-15   \n4     https://doi.org/10.17026/dans-xxz-qvjx               2020-06-20   \n\n   dataset_version_number dataset_version_create_time  \\\n0                     1.0        2021-07-29T19:45:43Z   \n1                     1.0        2022-01-31T03:58:32Z   \n2                     1.0        2021-08-10T15:31:09Z   \n3                     1.0        2020-08-21T23:23:32Z   \n4                     1.0        2022-01-29T06:23:21Z   \n\n                                   grantNumberAgency  \\\n0                           The Leon Levy Foundation   \n1                                                NWO   \n2                           The Leon Levy Foundation   \n3  Air Force Research Laboratory and Defense Adva...   \n4                                                NWO   \n\n                                    grantNumberValue contributorType  \\\n0                                                                NaN   \n1                                         380-60-007             NaN   \n2                                                                NaN   \n3  Air Force Research Laboratory and Defense Adva...             NaN   \n4                                         380-60-007             NaN   \n\n  contributorName  \n0             NaN  \n1             NaN  \n2             NaN  \n3             NaN  \n4             NaN  ",
      "text/html": "<div><div id=fdf15060-3f0f-42b7-9e25-8f10004df623 style=\"display:none; background-color:#9D6CFF; color:white; width:200px; height:30px; padding-left:5px; border-radius:4px; flex-direction:row; justify-content:space-around; align-items:center;\" onmouseover=\"this.style.backgroundColor='#BA9BF8'\" onmouseout=\"this.style.backgroundColor='#9D6CFF'\" onclick=\"window.commands?.execute('create-mitosheet-from-dataframe-output');\">See Full Dataframe in Mito</div> <script> if (window.commands.hasCommand('create-mitosheet-from-dataframe-output')) document.getElementById('fdf15060-3f0f-42b7-9e25-8f10004df623').style.display = 'flex' </script> <table border=\"1\" class=\"dataframe\">\n  <thead>\n    <tr style=\"text-align: right;\">\n      <th></th>\n      <th>dataset_pid_url</th>\n      <th>dataset_publication_date</th>\n      <th>dataset_version_number</th>\n      <th>dataset_version_create_time</th>\n      <th>grantNumberAgency</th>\n      <th>grantNumberValue</th>\n      <th>contributorType</th>\n      <th>contributorName</th>\n    </tr>\n  </thead>\n  <tbody>\n    <tr>\n      <th>0</th>\n      <td>https://doi.org/10.7910/DVN/QD0V0H</td>\n      <td>2021-09-20</td>\n      <td>1.0</td>\n      <td>2021-07-29T19:45:43Z</td>\n      <td>The Leon Levy Foundation</td>\n      <td></td>\n      <td>NaN</td>\n      <td>NaN</td>\n    </tr>\n    <tr>\n      <th>1</th>\n      <td>https://doi.org/10.17026/dans-xhp-2h3w</td>\n      <td>2019-10-02</td>\n      <td>1.0</td>\n      <td>2022-01-31T03:58:32Z</td>\n      <td>NWO</td>\n      <td>380-60-007</td>\n      <td>NaN</td>\n      <td>NaN</td>\n    </tr>\n    <tr>\n      <th>2</th>\n      <td>https://doi.org/10.7910/DVN/FHUNGL</td>\n      <td>2021-10-19</td>\n      <td>1.0</td>\n      <td>2021-08-10T15:31:09Z</td>\n      <td>The Leon Levy Foundation</td>\n      <td></td>\n      <td>NaN</td>\n      <td>NaN</td>\n    </tr>\n    <tr>\n      <th>3</th>\n      <td>https://hdl.handle.net/11272.1/AB2/ZZMOPP</td>\n      <td>2019-05-15</td>\n      <td>1.0</td>\n      <td>2020-08-21T23:23:32Z</td>\n      <td>Air Force Research Laboratory and Defense Advance Research Projects Agency</td>\n      <td>Air Force Research Laboratory and Defense Advance Research Projects Agency: FA8750-13-2-0045</td>\n      <td>NaN</td>\n      <td>NaN</td>\n    </tr>\n    <tr>\n      <th>4</th>\n      <td>https://doi.org/10.17026/dans-xxz-qvjx</td>\n      <td>2020-06-20</td>\n      <td>1.0</td>\n      <td>2022-01-29T06:23:21Z</td>\n      <td>NWO</td>\n      <td>380-60-007</td>\n      <td>NaN</td>\n      <td>NaN</td>\n    </tr>\n  </tbody>\n</table></div>"
     },
     "execution_count": 55,
     "metadata": {},
     "output_type": "execute_result"
    }
   ],
   "source": [
    "# Join grantInformationMetadataDF and contributorMetadataDF\n",
    "funderAndContributorFunderMetadataDF = (pd\n",
    "    .merge(\n",
    "        left=contributorMetadataDF,\n",
    "        right=grantInformationMetadataDF,\n",
    "        how='outer',\n",
    "        on=['dataset_pid_url', 'dataset_publication_date', 'dataset_version_number', 'dataset_version_create_time'])\n",
    "    .reset_index(drop=True, inplace=False))\n",
    "\n",
    "funderAndContributorFunderMetadataDF.head()"
   ],
   "metadata": {
    "collapsed": false,
    "pycharm": {
     "name": "#%%\n"
    }
   }
  },
  {
   "cell_type": "code",
   "execution_count": 99,
   "outputs": [
    {
     "data": {
      "text/plain": "  dataverse_installation_name                     dataset_pid_url  \\\n0     UNB_Libraries_Dataverse     https://doi.org/10.25545/ZXDJZ7   \n1           Harvard_Dataverse  https://doi.org/10.7910/DVN/RXBNCZ   \n2           Harvard_Dataverse  https://doi.org/10.7910/DVN/YB9FWK   \n3           Harvard_Dataverse  https://doi.org/10.7910/DVN/EPP4MA   \n4           Harvard_Dataverse  https://doi.org/10.7910/DVN/97Q2B8   \n\n  dataverse_collection_alias              dataverse_collection_name  \\\n0                    MarsLab         Mars Science Laboratory at UNB   \n1        0000-0002-0068-6933                  IgboSynCorp Dataverse   \n2        0000-0002-0068-6933                  IgboSynCorp Dataverse   \n3  2001_US_race_crime_survey  2001 US Race & Crime Survey Dataverse   \n4                3EA-Lebanon                3EA Lebanon Impact Data   \n\n  dataverse_collection_type dataset_publication_date  dataset_version_number  \\\n0                LABORATORY               2020-09-12                     1.0   \n1            RESEARCH_GROUP               2022-07-08                     1.0   \n2            RESEARCH_GROUP               2022-07-07                     1.0   \n3         RESEARCH_PROJECTS               2015-06-18                     1.0   \n4         RESEARCH_PROJECTS               2022-01-31                     1.1   \n\n  dataset_version_create_time  \\\n0        2020-09-10T18:59:57Z   \n1        2022-07-04T22:48:06Z   \n2        2022-06-21T06:21:20Z   \n3        2015-06-18T22:55:51Z   \n4        2023-03-02T14:59:48Z   \n\n                                   grantNumberAgency     grantNumberValue  \\\n0                              Canadian Space Agency                        \n1  Meridian Institute, 105 Village Place, Dillion...  2020-02--3075551051   \n2              Lacuna Fund of the Meridian Institute  2020-02--3075551051   \n3                       National Science Foundation               9906346   \n4                                                NaN                  NaN   \n\n  contributorType contributorName  \n0             NaN             NaN  \n1          Funder     Lacuna Fund  \n2             NaN             NaN  \n3             NaN             NaN  \n4          Funder     Dubai Cares  ",
      "text/html": "<div><div id=ca981ffe-5e05-463f-a3fe-f3ffe29b3baf style=\"display:none; background-color:#9D6CFF; color:white; width:200px; height:30px; padding-left:5px; border-radius:4px; flex-direction:row; justify-content:space-around; align-items:center;\" onmouseover=\"this.style.backgroundColor='#BA9BF8'\" onmouseout=\"this.style.backgroundColor='#9D6CFF'\" onclick=\"window.commands?.execute('create-mitosheet-from-dataframe-output');\">See Full Dataframe in Mito</div> <script> if (window.commands.hasCommand('create-mitosheet-from-dataframe-output')) document.getElementById('ca981ffe-5e05-463f-a3fe-f3ffe29b3baf').style.display = 'flex' </script> <table border=\"1\" class=\"dataframe\">\n  <thead>\n    <tr style=\"text-align: right;\">\n      <th></th>\n      <th>dataverse_installation_name</th>\n      <th>dataset_pid_url</th>\n      <th>dataverse_collection_alias</th>\n      <th>dataverse_collection_name</th>\n      <th>dataverse_collection_type</th>\n      <th>dataset_publication_date</th>\n      <th>dataset_version_number</th>\n      <th>dataset_version_create_time</th>\n      <th>grantNumberAgency</th>\n      <th>grantNumberValue</th>\n      <th>contributorType</th>\n      <th>contributorName</th>\n    </tr>\n  </thead>\n  <tbody>\n    <tr>\n      <th>0</th>\n      <td>UNB_Libraries_Dataverse</td>\n      <td>https://doi.org/10.25545/ZXDJZ7</td>\n      <td>MarsLab</td>\n      <td>Mars Science Laboratory at UNB</td>\n      <td>LABORATORY</td>\n      <td>2020-09-12</td>\n      <td>1.0</td>\n      <td>2020-09-10T18:59:57Z</td>\n      <td>Canadian Space Agency</td>\n      <td></td>\n      <td>NaN</td>\n      <td>NaN</td>\n    </tr>\n    <tr>\n      <th>1</th>\n      <td>Harvard_Dataverse</td>\n      <td>https://doi.org/10.7910/DVN/RXBNCZ</td>\n      <td>0000-0002-0068-6933</td>\n      <td>IgboSynCorp Dataverse</td>\n      <td>RESEARCH_GROUP</td>\n      <td>2022-07-08</td>\n      <td>1.0</td>\n      <td>2022-07-04T22:48:06Z</td>\n      <td>Meridian Institute, 105 Village Place, Dillion, Colorado 80435, United States of America</td>\n      <td>2020-02--3075551051</td>\n      <td>Funder</td>\n      <td>Lacuna Fund</td>\n    </tr>\n    <tr>\n      <th>2</th>\n      <td>Harvard_Dataverse</td>\n      <td>https://doi.org/10.7910/DVN/YB9FWK</td>\n      <td>0000-0002-0068-6933</td>\n      <td>IgboSynCorp Dataverse</td>\n      <td>RESEARCH_GROUP</td>\n      <td>2022-07-07</td>\n      <td>1.0</td>\n      <td>2022-06-21T06:21:20Z</td>\n      <td>Lacuna Fund of the Meridian Institute</td>\n      <td>2020-02--3075551051</td>\n      <td>NaN</td>\n      <td>NaN</td>\n    </tr>\n    <tr>\n      <th>3</th>\n      <td>Harvard_Dataverse</td>\n      <td>https://doi.org/10.7910/DVN/EPP4MA</td>\n      <td>2001_US_race_crime_survey</td>\n      <td>2001 US Race &amp; Crime Survey Dataverse</td>\n      <td>RESEARCH_PROJECTS</td>\n      <td>2015-06-18</td>\n      <td>1.0</td>\n      <td>2015-06-18T22:55:51Z</td>\n      <td>National Science Foundation</td>\n      <td>9906346</td>\n      <td>NaN</td>\n      <td>NaN</td>\n    </tr>\n    <tr>\n      <th>4</th>\n      <td>Harvard_Dataverse</td>\n      <td>https://doi.org/10.7910/DVN/97Q2B8</td>\n      <td>3EA-Lebanon</td>\n      <td>3EA Lebanon Impact Data</td>\n      <td>RESEARCH_PROJECTS</td>\n      <td>2022-01-31</td>\n      <td>1.1</td>\n      <td>2023-03-02T14:59:48Z</td>\n      <td>NaN</td>\n      <td>NaN</td>\n      <td>Funder</td>\n      <td>Dubai Cares</td>\n    </tr>\n  </tbody>\n</table></div>"
     },
     "execution_count": 99,
     "metadata": {},
     "output_type": "execute_result"
    }
   ],
   "source": [
    "# Join datasetPIDsDF and funderAndContributorFunderMetadataDF\n",
    "allFunderNameDataDF = (pd\n",
    "    .merge(\n",
    "        left=datasetPIDsDF,\n",
    "        right=funderAndContributorFunderMetadataDF,\n",
    "        how='inner',\n",
    "        on=['dataset_pid_url'])\n",
    "    .reset_index(drop=True, inplace=False))\n",
    "\n",
    "allFunderNameDataDF.head()"
   ],
   "metadata": {
    "collapsed": false,
    "pycharm": {
     "name": "#%%\n"
    }
   }
  },
  {
   "cell_type": "code",
   "execution_count": 57,
   "outputs": [],
   "source": [
    "# Export dataframe to a CSV file\n",
    "# allDataDF.to_csv('allFunderNameDataDF.csv', index=False)"
   ],
   "metadata": {
    "collapsed": false,
    "pycharm": {
     "name": "#%%\n"
    }
   }
  },
  {
   "cell_type": "markdown",
   "source": [
    "## Exploring the data\n",
    "\n",
    "Now that we've got the funding metadata of many datasets in known Dataverse repositories, as of late August 2023, let's start answering our questions"
   ],
   "metadata": {
    "collapsed": false,
    "pycharm": {
     "name": "#%% md\n"
    }
   }
  },
  {
   "cell_type": "code",
   "execution_count": 101,
   "outputs": [],
   "source": [
    "# Let's save the queries we'll be using later to find datasets that have metadata in either or both fields\n",
    "returnAllRowsQuery = 'tuple()'\n",
    "onlyFunderAgencyNameQuery = 'grantNumberAgency == grantNumberAgency and contributorName.isnull()'\n",
    "onlyContributorQuery = '(contributorType == \"Funder\" and contributorName == contributorName) and\\\n",
    "    grantNumberAgency.isnull()'\n",
    "bothFieldsQuery = '(grantNumberAgency == grantNumberAgency and grantNumberAgency != \"\") and\\\n",
    "        (contributorType == \"Funder\" and contributorName == contributorName)'\n",
    "\n",
    "# Function for creating a dataframe with dataset counts based on given query\n",
    "def createCountsDF(dataframe, countsQuery, nameOfCountsColumn):\n",
    "    countsDataframe = (dataframe\n",
    "        .query(countsQuery, engine='python')\n",
    "        .drop(columns=dataframe.columns.difference(['dataset_pid_url', 'dataverse_installation_name']))\n",
    "        .drop_duplicates()\n",
    "        .groupby(['dataverse_installation_name']).count()\n",
    "        .rename(columns={'dataset_pid_url': nameOfCountsColumn})\n",
    "        .sort_values(by=['dataverse_installation_name'], ascending=True)\n",
    "        .reset_index(drop=False, inplace=False))\n",
    "    return countsDataframe"
   ],
   "metadata": {
    "collapsed": false,
    "pycharm": {
     "name": "#%%\n"
    }
   }
  },
  {
   "cell_type": "code",
   "execution_count": 107,
   "outputs": [],
   "source": [
    "# Now let's use that function to create tables that show the counts across all installations for...\n",
    "\n",
    "# All datasets\n",
    "countOfDatasetsPerInstallationDF = createCountsDF(\n",
    "    dataframe=datasetPIDsDF,\n",
    "    countsQuery=returnAllRowsQuery,\n",
    "    nameOfCountsColumn='count_of_datasets')\n",
    "\n",
    "# Datasets with funder names in any of the two fields\n",
    "countOfDatasetsWithAnyFunderMetadataPerInstallationDF = createCountsDF(\n",
    "    dataframe=allFunderNameDataDF,\n",
    "    countsQuery=returnAllRowsQuery,\n",
    "    nameOfCountsColumn='count_of_datasets_with_funder_names_either_field')\n",
    "\n",
    "# Datasets that have funder names only in the Contributor field,\n",
    "countOfFunderNameinOnlyContributorFieldsDF = createCountsDF(\n",
    "    dataframe=allFunderNameDataDF,\n",
    "    countsQuery=onlyContributorQuery,\n",
    "    nameOfCountsColumn='count_of_datasets_with_funders_names_only_contributor_field')\n",
    "\n",
    "# Datasets that have funder names only in the Funder Information field\n",
    "countOfFunderNameinOnlyFunderAgencyNameFieldsDF = createCountsDF(\n",
    "    dataframe=allFunderNameDataDF,\n",
    "    countsQuery=onlyFunderAgencyNameQuery,\n",
    "    nameOfCountsColumn='count_of_datasets_with_funder_names_only_funder_agency_name_field')\n",
    "\n",
    "# Datasets that have funder names in both fields\n",
    "countOfFunderNameinBothFieldsDF = createCountsDF(\n",
    "    dataframe=allFunderNameDataDF,\n",
    "    countsQuery=bothFieldsQuery,\n",
    "    nameOfCountsColumn='count_of_datasets_with_funder_names_both_fields')"
   ],
   "metadata": {
    "collapsed": false,
    "pycharm": {
     "name": "#%%\n"
    }
   }
  },
  {
   "cell_type": "code",
   "execution_count": 108,
   "outputs": [
    {
     "data": {
      "text/plain": "            dataverse_installation_name  count_of_datasets  \\\n0                        ACSS_Dataverse                137   \n1                         ADA_Dataverse               1648   \n2  ASU_Library_Research_Data_Repository                 61   \n3                      AUSSDA_Dataverse               1517   \n4                                Abacus               2417   \n\n   count_of_datasets_with_funder_names_either_field  \\\n0                                                17   \n1                                               753   \n2                                                14   \n3                                              1497   \n4                                                84   \n\n   count_of_datasets_with_funders_names_only_contributor_field  \\\n0                                                  0             \n1                                                512             \n2                                                  0             \n3                                                  0             \n4                                                  0             \n\n   count_of_datasets_with_funder_names_only_funder_agency_name_field  \\\n0                                                 17                   \n1                                                 95                   \n2                                                 14                   \n3                                               1497                   \n4                                                 84                   \n\n   count_of_datasets_with_funder_names_both_fields  \n0                                                0  \n1                                               90  \n2                                                0  \n3                                                0  \n4                                                0  ",
      "text/html": "<div><div id=9bce63e5-c1b9-4f00-83da-76e1e1625458 style=\"display:none; background-color:#9D6CFF; color:white; width:200px; height:30px; padding-left:5px; border-radius:4px; flex-direction:row; justify-content:space-around; align-items:center;\" onmouseover=\"this.style.backgroundColor='#BA9BF8'\" onmouseout=\"this.style.backgroundColor='#9D6CFF'\" onclick=\"window.commands?.execute('create-mitosheet-from-dataframe-output');\">See Full Dataframe in Mito</div> <script> if (window.commands.hasCommand('create-mitosheet-from-dataframe-output')) document.getElementById('9bce63e5-c1b9-4f00-83da-76e1e1625458').style.display = 'flex' </script> <table border=\"1\" class=\"dataframe\">\n  <thead>\n    <tr style=\"text-align: right;\">\n      <th></th>\n      <th>dataverse_installation_name</th>\n      <th>count_of_datasets</th>\n      <th>count_of_datasets_with_funder_names_either_field</th>\n      <th>count_of_datasets_with_funders_names_only_contributor_field</th>\n      <th>count_of_datasets_with_funder_names_only_funder_agency_name_field</th>\n      <th>count_of_datasets_with_funder_names_both_fields</th>\n    </tr>\n  </thead>\n  <tbody>\n    <tr>\n      <th>0</th>\n      <td>ACSS_Dataverse</td>\n      <td>137</td>\n      <td>17</td>\n      <td>0</td>\n      <td>17</td>\n      <td>0</td>\n    </tr>\n    <tr>\n      <th>1</th>\n      <td>ADA_Dataverse</td>\n      <td>1648</td>\n      <td>753</td>\n      <td>512</td>\n      <td>95</td>\n      <td>90</td>\n    </tr>\n    <tr>\n      <th>2</th>\n      <td>ASU_Library_Research_Data_Repository</td>\n      <td>61</td>\n      <td>14</td>\n      <td>0</td>\n      <td>14</td>\n      <td>0</td>\n    </tr>\n    <tr>\n      <th>3</th>\n      <td>AUSSDA_Dataverse</td>\n      <td>1517</td>\n      <td>1497</td>\n      <td>0</td>\n      <td>1497</td>\n      <td>0</td>\n    </tr>\n    <tr>\n      <th>4</th>\n      <td>Abacus</td>\n      <td>2417</td>\n      <td>84</td>\n      <td>0</td>\n      <td>84</td>\n      <td>0</td>\n    </tr>\n  </tbody>\n</table></div>"
     },
     "execution_count": 108,
     "metadata": {},
     "output_type": "execute_result"
    }
   ],
   "source": [
    "# Let's merge these five dataframes\n",
    "dataframes = [\n",
    "    countOfDatasetsPerInstallationDF,\n",
    "    countOfDatasetsWithAnyFunderMetadataPerInstallationDF,\n",
    "    countOfFunderNameinOnlyContributorFieldsDF,\n",
    "    countOfFunderNameinOnlyFunderAgencyNameFieldsDF,\n",
    "    countOfFunderNameinBothFieldsDF\n",
    "]\n",
    "indexList = ['dataverse_installation_name']\n",
    "for df in dataframes:\n",
    "    df.set_index(indexList, inplace=True)\n",
    "allCountsDF = reduce(lambda left, right: left.join(right, how='outer'), dataframes)\n",
    "\n",
    "# Format data so that...\n",
    "allCountsDF = (allCountsDF\n",
    "    # NaN values are changed to 0\n",
    "    .fillna(0)\n",
    "    # Values in new count columns are integers instead of floats\n",
    "    .astype({\n",
    "        'count_of_datasets_with_funder_names_either_field': 'int',\n",
    "        'count_of_datasets_with_funders_names_only_contributor_field': 'int',\n",
    "        'count_of_datasets_with_funder_names_only_funder_agency_name_field': 'int',\n",
    "        'count_of_datasets_with_funder_names_both_fields': 'int'})\n",
    "    # Reset index\n",
    "    .reset_index(drop=False, inplace=False))\n",
    "\n",
    "# # Let's add a column that shows the percentage of all datasets that have funder metadata either field\n",
    "# countOfDatasetsTotalAndWithFunderMetadataDF['percentage_with_funder_metadata'] = (\n",
    "#     (\n",
    "#         countOfDatasetsTotalAndWithFunderMetadataDF['count_of_datasets_with_funders'] /\n",
    "#         countOfDatasetsTotalAndWithFunderMetadataDF['count_of_all_datasets'])*100).round(1)\n",
    "\n",
    "allCountsDF.head()\n",
    "\n",
    "# allCountsDF.to_csv('allCountsDF.csv', index=False)"
   ],
   "metadata": {
    "collapsed": false,
    "pycharm": {
     "name": "#%%\n"
    }
   }
  },
  {
   "cell_type": "markdown",
   "source": [
    "## Exploring ADA's metadata"
   ],
   "metadata": {
    "collapsed": false,
    "pycharm": {
     "name": "#%% md\n"
    }
   }
  },
  {
   "cell_type": "code",
   "execution_count": 61,
   "outputs": [
    {
     "name": "stdout",
     "output_type": "stream",
     "text": [
      "Count of datasets in ADA with funder metadata: 753\n"
     ]
    },
    {
     "data": {
      "text/plain": "                     dataset_pid_url  \\\n0  http://dx.doi.org/10.26193/00HBWG   \n1  http://dx.doi.org/10.26193/04F7C1   \n2  http://dx.doi.org/10.26193/0AF6TZ   \n3  http://dx.doi.org/10.26193/0AF6TZ   \n4  http://dx.doi.org/10.26193/0AGXC9   \n\n                    dataverse_collection_alias  \\\n0                       ada-general-collection   \n1                            australia-at-work   \n2                                         bnla   \n3                                         bnla   \n4  australian_historical_criminal_justice_data   \n\n                           dataverse_collection_name  \\\n0                   ADA General Collection Dataverse   \n1                        Australia at Work Dataverse   \n2         Building a New Life in Australia Dataverse   \n3         Building a New Life in Australia Dataverse   \n4  Australian Historical Criminal Justice Data Da...   \n\n  dataverse_collection_type dataset_publication_date  dataset_version_number  \\\n0             UNCATEGORIZED               2018-12-17                     2.0   \n1             UNCATEGORIZED               2019-01-25                     2.0   \n2         RESEARCH_PROJECTS               2019-09-18                     5.0   \n3         RESEARCH_PROJECTS               2019-09-18                     5.0   \n4         RESEARCH_PROJECTS               2020-05-12                     1.0   \n\n  dataset_version_create_time            grantNumberAgency grantNumberValue  \\\n0        2019-05-13T08:43:01Z                          NaN              NaN   \n1        2019-05-13T10:02:15Z                          NaN              NaN   \n2        2022-02-02T23:01:26Z                          NaN              NaN   \n3        2022-02-02T23:01:26Z                          NaN              NaN   \n4        2020-05-12T00:14:01Z  Australian Research Council      FL130100050   \n\n  contributorType                                    contributorName  \n0          Funder  General Practice Evaluation Program, Departmen...  \n1          Funder                        Australian Research Council  \n2          Funder                      Department of Social Services  \n3          Funder    Department of Immigration and Border Protection  \n4             NaN                                                NaN  ",
      "text/html": "<div><div id=c7d426ec-0cf0-4a2f-90ef-cad00304c2e7 style=\"display:none; background-color:#9D6CFF; color:white; width:200px; height:30px; padding-left:5px; border-radius:4px; flex-direction:row; justify-content:space-around; align-items:center;\" onmouseover=\"this.style.backgroundColor='#BA9BF8'\" onmouseout=\"this.style.backgroundColor='#9D6CFF'\" onclick=\"window.commands?.execute('create-mitosheet-from-dataframe-output');\">See Full Dataframe in Mito</div> <script> if (window.commands.hasCommand('create-mitosheet-from-dataframe-output')) document.getElementById('c7d426ec-0cf0-4a2f-90ef-cad00304c2e7').style.display = 'flex' </script> <table border=\"1\" class=\"dataframe\">\n  <thead>\n    <tr style=\"text-align: right;\">\n      <th></th>\n      <th>dataset_pid_url</th>\n      <th>dataverse_collection_alias</th>\n      <th>dataverse_collection_name</th>\n      <th>dataverse_collection_type</th>\n      <th>dataset_publication_date</th>\n      <th>dataset_version_number</th>\n      <th>dataset_version_create_time</th>\n      <th>grantNumberAgency</th>\n      <th>grantNumberValue</th>\n      <th>contributorType</th>\n      <th>contributorName</th>\n    </tr>\n  </thead>\n  <tbody>\n    <tr>\n      <th>0</th>\n      <td>http://dx.doi.org/10.26193/00HBWG</td>\n      <td>ada-general-collection</td>\n      <td>ADA General Collection Dataverse</td>\n      <td>UNCATEGORIZED</td>\n      <td>2018-12-17</td>\n      <td>2.0</td>\n      <td>2019-05-13T08:43:01Z</td>\n      <td>NaN</td>\n      <td>NaN</td>\n      <td>Funder</td>\n      <td>General Practice Evaluation Program, Department of Health, Housing and Community Services</td>\n    </tr>\n    <tr>\n      <th>1</th>\n      <td>http://dx.doi.org/10.26193/04F7C1</td>\n      <td>australia-at-work</td>\n      <td>Australia at Work Dataverse</td>\n      <td>UNCATEGORIZED</td>\n      <td>2019-01-25</td>\n      <td>2.0</td>\n      <td>2019-05-13T10:02:15Z</td>\n      <td>NaN</td>\n      <td>NaN</td>\n      <td>Funder</td>\n      <td>Australian Research Council</td>\n    </tr>\n    <tr>\n      <th>2</th>\n      <td>http://dx.doi.org/10.26193/0AF6TZ</td>\n      <td>bnla</td>\n      <td>Building a New Life in Australia Dataverse</td>\n      <td>RESEARCH_PROJECTS</td>\n      <td>2019-09-18</td>\n      <td>5.0</td>\n      <td>2022-02-02T23:01:26Z</td>\n      <td>NaN</td>\n      <td>NaN</td>\n      <td>Funder</td>\n      <td>Department of Social Services</td>\n    </tr>\n    <tr>\n      <th>3</th>\n      <td>http://dx.doi.org/10.26193/0AF6TZ</td>\n      <td>bnla</td>\n      <td>Building a New Life in Australia Dataverse</td>\n      <td>RESEARCH_PROJECTS</td>\n      <td>2019-09-18</td>\n      <td>5.0</td>\n      <td>2022-02-02T23:01:26Z</td>\n      <td>NaN</td>\n      <td>NaN</td>\n      <td>Funder</td>\n      <td>Department of Immigration and Border Protection</td>\n    </tr>\n    <tr>\n      <th>4</th>\n      <td>http://dx.doi.org/10.26193/0AGXC9</td>\n      <td>australian_historical_criminal_justice_data</td>\n      <td>Australian Historical Criminal Justice Data Dataverse</td>\n      <td>RESEARCH_PROJECTS</td>\n      <td>2020-05-12</td>\n      <td>1.0</td>\n      <td>2020-05-12T00:14:01Z</td>\n      <td>Australian Research Council</td>\n      <td>FL130100050</td>\n      <td>NaN</td>\n      <td>NaN</td>\n    </tr>\n  </tbody>\n</table></div>"
     },
     "execution_count": 61,
     "metadata": {},
     "output_type": "execute_result"
    }
   ],
   "source": [
    "# Create dataframe for just metadata of datasets in ADA\n",
    "datasetInADADF = (allFunderNameDataDF\n",
    "    .query('dataverse_installation_name == \"ADA_Dataverse\"')\n",
    "    .drop(columns=['dataverse_installation_name'])\n",
    "    .reset_index(drop=True, inplace=False))\n",
    "\n",
    "print(f'Count of datasets in ADA with funder metadata: {len(pd.unique(datasetInADADF[\"dataset_pid_url\"]))}')\n",
    "datasetInADADF.head()"
   ],
   "metadata": {
    "collapsed": false,
    "pycharm": {
     "name": "#%%\n"
    }
   }
  },
  {
   "cell_type": "code",
   "execution_count": 62,
   "outputs": [],
   "source": [
    "# datasetInADADF.to_csv('datasetInADADF.csv', index=False)"
   ],
   "metadata": {
    "collapsed": false,
    "pycharm": {
     "name": "#%%\n"
    }
   }
  },
  {
   "cell_type": "markdown",
   "source": [
    "Let's get a count of these datasets that have:\n",
    "- Funder metadata in only the Contributor field, where Contributor Type is \"Funder\"\n",
    "- Funder metadata in only the Funder Information fields\n",
    "- Funder metadata in both the Contributor field, where Contributor Type is \"Funder\", and the Funder Information field\n",
    "- Funder metadata in the Contributor field, where Contributor Type is \"Funder\" and in the Funding Information ID field, but nothing in the Funding Information Agency field. (There are at least 57 of these datasets.)"
   ],
   "metadata": {
    "collapsed": false,
    "pycharm": {
     "name": "#%% md\n"
    }
   }
  },
  {
   "cell_type": "code",
   "execution_count": 63,
   "outputs": [
    {
     "name": "stdout",
     "output_type": "stream",
     "text": [
      "Count of datasets with funder metadata only as a Contributor: 512\n"
     ]
    }
   ],
   "source": [
    "# Let's see the datasets in ADA with funder names only in the Contributor field, where Contributor Type is \"Funder\"\n",
    "contributorFunderOnlyinADADF = (datasetInADADF\n",
    "    .query(onlyContributorQuery, engine='python')\n",
    "    .reset_index(drop=True, inplace=False))\n",
    "\n",
    "print(f'Count of datasets with funder metadata only as a Contributor: {len(pd.unique(contributorFunderOnlyinADADF[\"dataset_pid_url\"]))}')"
   ],
   "metadata": {
    "collapsed": false,
    "pycharm": {
     "name": "#%%\n"
    }
   }
  },
  {
   "cell_type": "code",
   "execution_count": 64,
   "outputs": [
    {
     "name": "stdout",
     "output_type": "stream",
     "text": [
      "Count of datasets with funder metadata only in the Funder Information field: 95\n"
     ]
    }
   ],
   "source": [
    "# Let's see the datasets in ADA with funder names only in the Funder Information Name field\n",
    "funderAgencyNameOnlyinADADF = (datasetInADADF\n",
    "    .query(onlyFunderAgencyNameQuery, engine='python')\n",
    "    .reset_index(drop=True, inplace=False))\n",
    "\n",
    "print(f'Count of datasets with funder metadata only in the Funder Information field: {len(pd.unique(funderAgencyNameOnlyinADADF[\"dataset_pid_url\"]))}')"
   ],
   "metadata": {
    "collapsed": false,
    "pycharm": {
     "name": "#%%\n"
    }
   }
  },
  {
   "cell_type": "code",
   "execution_count": 65,
   "outputs": [
    {
     "name": "stdout",
     "output_type": "stream",
     "text": [
      "Count of datasets with funder metadata in both fields: 90\n"
     ]
    }
   ],
   "source": [
    "# Let's see the datasets in ADA with funder names in both the Funder Information Name field and Contributor Name fields\n",
    "funderAgencyNameinBothFieldsADADF = (datasetInADADF\n",
    "    .query(bothFieldsQuery, engine='python')\n",
    "    .reset_index(drop=True, inplace=False))\n",
    "\n",
    "print(f'Count of datasets with funder metadata in both fields: {len(pd.unique(funderAgencyNameinBothFieldsADADF[\"dataset_pid_url\"]))}')"
   ],
   "metadata": {
    "collapsed": false,
    "pycharm": {
     "name": "#%%\n"
    }
   }
  },
  {
   "cell_type": "code",
   "execution_count": 92,
   "outputs": [],
   "source": [
    "allCountsDF.to_csv('allCounts.csv', index=False)"
   ],
   "metadata": {
    "collapsed": false,
    "pycharm": {
     "name": "#%%\n"
    }
   }
  },
  {
   "cell_type": "markdown",
   "source": [
    "## Exploring Harvard Dataverse's metadata\n",
    "- In the Harvard Dataverse Repository, which collections have datasets with the most funding metadata? This will help us figure out who to learn from when we make changes to how funding metadata is entered.\n",
    "- Which funder agency names are entered most often? Knowing that might help us figure out how effective our efforts to standardize funder agency name metadata could be? For example, do the changes to the metadata fields (the \"CV javascript\") make it easier for depositors to enter the most popular funder agency names? How much easier?"
   ],
   "metadata": {
    "collapsed": false
   }
  },
  {
   "cell_type": "code",
   "execution_count": null,
   "outputs": [],
   "source": [
    "# Lets start by creating a dataframe containing only metadata of datasets published in the Harvard Dataverse Repository\n",
    "datasetInHDVDF = (allFunderNameDataDF\n",
    "    .query('(installation == \"Harvard Dataverse\")')\n",
    "    .drop(columns=['installation'])\n",
    "    .reset_index(drop=True, inplace=False)\n",
    "    )\n",
    "\n",
    "datasetInHDVDF.head()"
   ],
   "metadata": {
    "collapsed": false,
    "pycharm": {
     "name": "#%%\n"
    }
   }
  },
  {
   "cell_type": "code",
   "execution_count": null,
   "outputs": [],
   "source": [
    "countOfDatasetsInHDVDF = len(pd.unique(datasetInHDVDF['dataset_pid_url']))\n",
    "print(f'Number of datasets in datasetInHDVDF: {countOfDatasetsInHDVDF}')"
   ],
   "metadata": {
    "collapsed": false,
    "pycharm": {
     "name": "#%%\n"
    }
   }
  },
  {
   "cell_type": "code",
   "execution_count": null,
   "outputs": [],
   "source": [
    "# Now let's keep the metadata of the datasets that have funding metadata in the three fields:\n",
    "# grantNumberAgency, grantNumberValue, and contributorName when contributorType is \"Funder\"\n",
    "fundingDatasetMetadataInHDVDF = (\n",
    "    datasetInHDVDF.query(\n",
    "        '(grantNumberAgency == grantNumberAgency) or\\\n",
    "        (grantNumberValue == grantNumberValue) or\\\n",
    "        (contributorType == \"Funder\" and contributorName == contributorName)')\n",
    "     .reset_index(drop=True, inplace=False)\n",
    "     )"
   ],
   "metadata": {
    "collapsed": false,
    "pycharm": {
     "name": "#%%\n"
    }
   }
  },
  {
   "cell_type": "code",
   "execution_count": null,
   "outputs": [],
   "source": [
    "fundingDatasetMetadataInHDVDF.head()"
   ],
   "metadata": {
    "collapsed": false,
    "pycharm": {
     "name": "#%%\n"
    }
   }
  },
  {
   "cell_type": "code",
   "execution_count": null,
   "outputs": [],
   "source": [
    "print(f'Number of datasets in fundingDatasetMetadataInHDVDF: {(len(pd.unique(fundingDatasetMetadataInHDVDF[\"dataset_pid_url\"])))}')"
   ],
   "metadata": {
    "collapsed": false,
    "pycharm": {
     "name": "#%%\n"
    }
   }
  },
  {
   "cell_type": "markdown",
   "source": [
    "So of the 80,278 datasets in the Harvard Dataverse Repository as of early October 2022, 30,222 had metadata about funding in one of the three fields where we expect it.\n",
    "\n",
    "What's entered most often in the grantNumberAgency (Funding Information Name) field?"
   ],
   "metadata": {
    "collapsed": false,
    "pycharm": {
     "name": "#%% md\n"
    }
   }
  },
  {
   "cell_type": "code",
   "execution_count": null,
   "outputs": [],
   "source": [
    "# Create a new dataframe that lists each funder name entered in grantNumberAgency and the number of datasets with that funder name\n",
    "datasetCountByFundingAgencyNamesInHDV = (\n",
    "    fundingDatasetMetadataInHDVDF[['dataset_pid_url', 'grantNumberAgency']]\n",
    "        .query('grantNumberAgency == grantNumberAgency')\n",
    "        .drop_duplicates()\n",
    "        .groupby(['grantNumberAgency']).count()\n",
    "        .rename(columns={'dataset_pid_url': 'count_of_datasets'})\n",
    "        .sort_values(by=['count_of_datasets'], ascending=False)\n",
    "        .reset_index(drop=False, inplace=False)\n",
    ")\n",
    "\n",
    "datasetCountByFundingAgencyNamesInHDV.head(10)"
   ],
   "metadata": {
    "collapsed": false,
    "pycharm": {
     "name": "#%%\n"
    }
   }
  },
  {
   "cell_type": "markdown",
   "source": [
    "It's most likely that the Leon Levy collection has the most datasets with a funder name in their grantNumberAgency (Funding Information Name) field.\n",
    "\n",
    "It also looks like, for datasets with other funder name metadata, we might have to deal with the variations in spellings, maybe using a deduplication or fuzzy matching library, in order to see which funders are added to the funding metadata most often. For example, this shows only 57 datasets with the value \"NIH\" in the Funding Information Agency field, but I've found more than 57 datasets created from NIH-funded research, with other values in the field, such as \"National Institute of Health\".\n",
    "\n",
    "For now, let's see which collections have the most datasets with funding metadata, excluding the Leon Levy collections."
   ],
   "metadata": {
    "collapsed": false
   }
  },
  {
   "cell_type": "code",
   "execution_count": null,
   "outputs": [],
   "source": [
    "datasetsInHDVByCollection_NoLevy = (\n",
    "    fundingDatasetMetadataInHDVDF[['dataset_pid_url', 'dataverse_alias']]\n",
    "    .drop_duplicates()\n",
    "    .groupby(['dataverse_alias']).count()\n",
    "    .query('~dataverse_alias.str.contains(\"levy_photos\").values')\n",
    "    .rename(columns={'dataset_pid_url': 'count_of_datasets'})\n",
    "    .sort_values(by=['count_of_datasets'], ascending=False)\n",
    "    .reset_index(drop=False, inplace=False)\n",
    ")\n",
    "\n",
    "datasetsInHDVByCollection_NoLevy.head(10)"
   ],
   "metadata": {
    "collapsed": false,
    "pycharm": {
     "name": "#%%\n"
    }
   }
  },
  {
   "cell_type": "markdown",
   "source": [
    "The IFPRI collections (IFPRI and AfricaRISING), worldfish collection and CIAT collection have the most datasets with funding metadata. (\"harvard\" is the alias of repository's main collection, where anyone can add data.)\n",
    "\n",
    "What have the depositors of those datasets entered in the metadata?\n"
   ],
   "metadata": {
    "collapsed": false,
    "pycharm": {
     "name": "#%% md\n"
    }
   }
  },
  {
   "cell_type": "code",
   "execution_count": null,
   "outputs": [],
   "source": [
    "# fundingDatasetMetadataInHDVDF.to_csv('fundingDatasetMetadataInHDVDF.csv', index=False)"
   ],
   "metadata": {
    "collapsed": false,
    "pycharm": {
     "name": "#%%\n"
    }
   }
  },
  {
   "cell_type": "code",
   "execution_count": null,
   "outputs": [],
   "source": [
    "def funder_names_in_collections(dataframe, collectionAliasesList):\n",
    "    funderNamesInCollectionDF = (\n",
    "        # Drop all but the needed columns\n",
    "        dataframe[[\n",
    "            'dataset_pid_url', 'grantNumberAgency', 'dataverse_alias']]\n",
    "        # Remove all datasets except those in given list of collection aliases\n",
    "        .query(\n",
    "            'dataverse_alias in @collectionAliasesList')\n",
    "        # Remove the 'dataverse_alias' column\n",
    "        .drop(columns=['dataverse_alias'])\n",
    "        # Keep only datasets that have funding agency name metadata\n",
    "        .query('grantNumberAgency == grantNumberAgency')\n",
    "        # Drop duplicate rows\n",
    "        .drop_duplicates()\n",
    "        # Group by funding agency name\n",
    "        .groupby(['grantNumberAgency']).count()\n",
    "        .rename(columns={'dataset_pid_url': 'count_of_datasets'})\n",
    "        # Sort by count of occurrences of each funder name\n",
    "        .sort_values(by=['count_of_datasets'], ascending=False)\n",
    "        .reset_index(drop=False, inplace=False))\n",
    "    return funderNamesInCollectionDF\n"
   ],
   "metadata": {
    "collapsed": false,
    "pycharm": {
     "name": "#%%\n"
    }
   }
  },
  {
   "cell_type": "code",
   "execution_count": null,
   "outputs": [],
   "source": [
    "datasetCountByFundingAgencyNamesIFPRI = funder_names_in_collections(\n",
    "    dataframe=fundingDatasetMetadataInHDVDF,\n",
    "    collectionAliasesList=['IFPRI', 'AfricaRISING'])\n",
    "\n",
    "datasetCountByFundingAgencyNamesIFPRI.head()"
   ],
   "metadata": {
    "collapsed": false,
    "pycharm": {
     "name": "#%%\n"
    }
   }
  },
  {
   "cell_type": "code",
   "execution_count": null,
   "outputs": [],
   "source": [
    "datasetCountByFundingAgencyNamesWorldfish = funder_names_in_collections(\n",
    "    dataframe=fundingDatasetMetadataInHDVDF,\n",
    "    collectionAliasesList=['worldfish'])\n",
    "\n",
    "datasetCountByFundingAgencyNamesWorldfish.head()\n",
    "\n",
    "# funderNamesList_Worldfish = list(set(datasetCountByFundingAgencyNamesWorldfish[\"grantNumberAgency\"].values.tolist()))"
   ],
   "metadata": {
    "collapsed": false,
    "pycharm": {
     "name": "#%%\n"
    }
   }
  },
  {
   "cell_type": "code",
   "execution_count": null,
   "outputs": [],
   "source": [
    "datasetCountByFundingAgencyNamesCIAT = funder_names_in_collections(\n",
    "    dataframe=fundingDatasetMetadataInHDVDF,\n",
    "    collectionAliasesList=[ # Aliases of collections I think are associated with CIAT\n",
    "        'CIAT',\n",
    "        'AgBio',\n",
    "        'AICCRA',\n",
    "        'CIFOR',\n",
    "        'gender',\n",
    "        'crp6',\n",
    "        'dapa',\n",
    "        'AllianceBioversityCIATFoodConsumer',\n",
    "        'AllianceBioversityCIATLandscapes',\n",
    "        'AllianceBioversityCIATClimate',\n",
    "        'AllianceBioversityCIATBiodiversity',\n",
    "        'AllianceBioversityCIATDigital',\n",
    "        'AllianceBioversityCIATCrops4NH',\n",
    "        'soils',\n",
    "        'AllianceBioversityCIAT'\n",
    "    ])\n",
    "\n",
    "datasetCountByFundingAgencyNamesCIAT.head(20)"
   ],
   "metadata": {
    "collapsed": false,
    "pycharm": {
     "name": "#%%\n"
    }
   }
  },
  {
   "cell_type": "code",
   "execution_count": null,
   "outputs": [],
   "source": [
    "datasetCountByFundingAgencyNamesDFEEP = funder_names_in_collections(\n",
    "    dataframe=fundingDatasetMetadataInHDVDF,\n",
    "    collectionAliasesList=['DFEEP', 'ipa', 'jpal'])\n",
    "\n",
    "datasetCountByFundingAgencyNamesDFEEP.head()"
   ],
   "metadata": {
    "collapsed": false,
    "pycharm": {
     "name": "#%%\n"
    }
   }
  },
  {
   "cell_type": "markdown",
   "source": [
    "### Duplicate funding metadata in Harvard Dataverse\n",
    "\n",
    "There are two fields where depositors can enter the names of funders: In the Funding Information Agency field and in the Contributor field when they choose the Contributor Type \"Funder\". How often has this happened and who's done it? By learning these things, we can see how big the problem is and who's used both fields? And later we can ask those people why. We need to learn if the design of the fields are meeting some need that we weren't aware of.\n",
    "\n",
    "For now, let's continue looking only at the latest version of each dataset. This might cause a further under count of the number of times this issue has actually occurred. For example, first version of a dataset might have both fields filled but the latest might have only one. By considering only the latest version of each dataset, we'll miss cases like this. Eventually we'll have to think about what to do about the metadata of previous dataset versions.\n",
    "\n",
    "Questions\n",
    "- In the Harvard Dataverse Repository, how many datasets have values in the Funder Information fields and in the Contributor field when Contributor Type is \"Funder\"?\n",
    "- How many datasets have funding metadata in their Contributor field and not in their Funder Information fields?\n",
    "- How often are the same values in both fields? For example, one dataset might have \"NIH\" in the Funder Information Agency field and in the Contributor Name field when the Contributor Type is \"Funder\". How often do things like this happen?\n",
    "- How often are different values in both fields?"
   ],
   "metadata": {
    "collapsed": false,
    "pycharm": {
     "name": "#%% md\n"
    }
   }
  },
  {
   "cell_type": "code",
   "execution_count": null,
   "outputs": [],
   "source": [
    "# Let's remind ourselves what information we have in the fundingDatasetMetadataInHDVDF dataframe\n",
    "fundingDatasetMetadataInHDVDF.head()"
   ],
   "metadata": {
    "collapsed": false,
    "pycharm": {
     "name": "#%%\n"
    }
   }
  },
  {
   "cell_type": "code",
   "execution_count": null,
   "outputs": [],
   "source": [
    "# Now let's query it to get only datasets that have values in both metadata fields\n",
    "duplicateFundingFieldsInHDV = (fundingDatasetMetadataInHDVDF\n",
    "        .query(\n",
    "            'grantNumberAgency == grantNumberAgency and\\\n",
    "             (contributorType == \"Funder\" and contributorName == contributorName)')\n",
    "        .sort_values(by=['dataset_pid_url'], ascending=True)\n",
    "        .reset_index(drop=True, inplace=False))\n",
    "\n",
    "duplicateFundingFieldsInHDV.head()"
   ],
   "metadata": {
    "collapsed": false,
    "pycharm": {
     "name": "#%%\n"
    }
   }
  },
  {
   "cell_type": "code",
   "execution_count": null,
   "outputs": [],
   "source": [
    "datasetCountDuplicateFundingFields = len(pd.unique(duplicateFundingFieldsInHDV['dataset_pid_url']))\n",
    "print(f'Number of datasets with metadata in both funding metadata fields: {datasetCountDuplicateFundingFields}')"
   ],
   "metadata": {
    "collapsed": false,
    "pycharm": {
     "name": "#%%\n"
    }
   }
  },
  {
   "cell_type": "code",
   "execution_count": null,
   "outputs": [],
   "source": [
    "# duplicateFundingFieldsInHDV.to_csv('duplicateFundingFieldsInHDV.csv', index=False)"
   ],
   "metadata": {
    "collapsed": false,
    "pycharm": {
     "name": "#%%\n"
    }
   }
  },
  {
   "cell_type": "code",
   "execution_count": null,
   "outputs": [],
   "source": [
    "# Let's see which collections have most of these datasets\n",
    "countOfDuplicateFundingFieldsInHDVByCollection = (\n",
    "    # Drop all but the needed columns\n",
    "    duplicateFundingFieldsInHDV[[\n",
    "        'dataset_pid_url', 'dataverse_alias']]\n",
    "        # Drop duplicate rows\n",
    "        .drop_duplicates()\n",
    "        # Group by dataverse_alias\n",
    "        .groupby(['dataverse_alias']).count()\n",
    "        .rename(columns={'dataset_pid_url': 'count_of_datasets'})\n",
    "        # Sort by count of occurrences of each funder name\n",
    "        .sort_values(by=['count_of_datasets'], ascending=False)\n",
    "        .reset_index(drop=False, inplace=False))\n",
    "\n",
    "countOfDuplicateFundingFieldsInHDVByCollection.head(100)"
   ],
   "metadata": {
    "collapsed": false,
    "pycharm": {
     "name": "#%%\n"
    }
   }
  },
  {
   "cell_type": "markdown",
   "source": [
    "How many datasets have funding metadata in their Contributor field and not in their Grant Information fields?"
   ],
   "metadata": {
    "collapsed": false,
    "pycharm": {
     "name": "#%% md\n"
    }
   }
  },
  {
   "cell_type": "markdown",
   "source": [
    "### Duplicate funder metadata in other Dataverse installations"
   ],
   "metadata": {
    "collapsed": false,
    "pycharm": {
     "name": "#%% md\n"
    }
   }
  },
  {
   "cell_type": "code",
   "execution_count": null,
   "outputs": [],
   "source": [
    "allFunderNameDataDF.head()"
   ],
   "metadata": {
    "collapsed": false,
    "pycharm": {
     "name": "#%%\n"
    }
   }
  },
  {
   "cell_type": "code",
   "execution_count": null,
   "outputs": [],
   "source": [
    "# fundingDatasetMetadataInDataverseInstallationsDF.to_csv('fundingDatasetMetadataInDataverseInstallationsDF.csv', index=False)"
   ],
   "metadata": {
    "collapsed": false,
    "pycharm": {
     "name": "#%%\n"
    }
   }
  },
  {
   "cell_type": "code",
   "execution_count": null,
   "outputs": [],
   "source": [
    "# Lets see how many of these datasets in each installation have values in both fields\n",
    "duplicateFundingFieldsInAllInstallations = (allFunderNameDataDF\n",
    "    .query(\n",
    "        'grantNumberAgency == grantNumberAgency and\\\n",
    "         (contributorType == \"Funder\" and contributorName == contributorName)')\n",
    "    .sort_values(by=['dataset_pid_url'], ascending=True)\n",
    "    .reset_index(drop=True, inplace=False))\n",
    "\n",
    "duplicateFundingFieldsInAllInstallations.head()"
   ],
   "metadata": {
    "collapsed": false,
    "pycharm": {
     "name": "#%%\n"
    }
   }
  },
  {
   "cell_type": "code",
   "execution_count": null,
   "outputs": [],
   "source": [
    "# duplicateFundingFieldsInAllInstallations.to_csv('duplicateFundingFieldsInAllInstallations.csv', index=False)"
   ],
   "metadata": {
    "collapsed": false,
    "pycharm": {
     "name": "#%%\n"
    }
   }
  },
  {
   "cell_type": "code",
   "execution_count": null,
   "outputs": [],
   "source": [
    "countOfDatasetsWithDuplicateFundingFieldsInEachInstallationDF = (\n",
    "    # Drop all but the needed columns\n",
    "    duplicateFundingFieldsInAllInstallations[[\n",
    "        'dataset_pid_url', 'installation']]\n",
    "        # Drop duplicate rows\n",
    "        .drop_duplicates()\n",
    "        # Group by dataverse_alias\n",
    "        .groupby(['installation']).count()\n",
    "        .rename(columns={'dataset_pid_url': 'count_of_datasets'})\n",
    "        # Sort by count of occurrences of each funder name\n",
    "        .sort_values(by=['count_of_datasets'], ascending=False)\n",
    "        .reset_index(drop=False, inplace=False))\n",
    "\n",
    "countOfDatasetsWithDuplicateFundingFieldsInEachInstallationDF.head(100)"
   ],
   "metadata": {
    "collapsed": false,
    "pycharm": {
     "name": "#%%\n"
    }
   }
  },
  {
   "cell_type": "code",
   "execution_count": null,
   "outputs": [],
   "source": [],
   "metadata": {
    "collapsed": false,
    "pycharm": {
     "name": "#%%\n"
    }
   }
  }
 ],
 "metadata": {
  "kernelspec": {
   "display_name": "Python 3",
   "language": "python",
   "name": "python3"
  },
  "language_info": {
   "codemirror_mode": {
    "name": "ipython",
    "version": 2
   },
   "file_extension": ".py",
   "mimetype": "text/x-python",
   "name": "python",
   "nbconvert_exporter": "python",
   "pygments_lexer": "ipython2",
   "version": "2.7.6"
  }
 },
 "nbformat": 4,
 "nbformat_minor": 0
}