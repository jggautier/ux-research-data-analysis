{
 "cells": [
  {
   "cell_type": "code",
   "execution_count": 17,
   "metadata": {
    "collapsed": true
   },
   "outputs": [],
   "source": [
    "from functools import reduce\n",
    "import pandas as pd"
   ]
  },
  {
   "cell_type": "markdown",
   "source": [
    "The Dataverse team is planning to add  additions to the dataset deposit form in the Harvard Dataverse Repository, we need to know\n",
    "\n",
    "In Dataverse repositories, how many datasets have funding metadata, and among these, how many have funding names? Which users include funding metadata in their deposits most often?"
   ],
   "metadata": {
    "collapsed": false,
    "pycharm": {
     "name": "#%% md\n"
    }
   }
  },
  {
   "cell_type": "markdown",
   "source": [
    "## Prepare the data"
   ],
   "metadata": {
    "collapsed": false,
    "pycharm": {
     "name": "#%% md\n"
    }
   }
  },
  {
   "cell_type": "code",
   "execution_count": 2,
   "outputs": [
    {
     "data": {
      "text/plain": "  installation                         dataset_pid_url dataverse_alias\n0       CIDACS  https://doi.org/10.57833/cidacs/WV4JWB        ProjZika\n1       CIDACS  https://doi.org/10.57833/cidacs/TGAIVO        ProjZika\n2       CIDACS  https://doi.org/10.57833/cidacs/0FZP7V        ProjZika\n3       CIDACS  https://doi.org/10.57833/cidacs/5BMSIX      ProjGates0\n4       CIDACS  https://doi.org/10.57833/cidacs/I56ZVA      ProjGates0",
      "text/html": "<div><div id=8759242e-dc91-44be-8301-ea1950680ced style=\"display:none; background-color:#9D6CFF; color:white; width:200px; height:30px; padding-left:5px; border-radius:4px; flex-direction:row; justify-content:space-around; align-items:center;\" onmouseover=\"this.style.backgroundColor='#BA9BF8'\" onmouseout=\"this.style.backgroundColor='#9D6CFF'\" onclick=\"window.commands?.execute('create-mitosheet-from-dataframe-output');\">See Full Dataframe in Mito</div> <script> if (window.commands.hasCommand('create-mitosheet-from-dataframe-output')) document.getElementById('8759242e-dc91-44be-8301-ea1950680ced').style.display = 'flex' </script> <table border=\"1\" class=\"dataframe\">\n  <thead>\n    <tr style=\"text-align: right;\">\n      <th></th>\n      <th>installation</th>\n      <th>dataset_pid_url</th>\n      <th>dataverse_alias</th>\n    </tr>\n  </thead>\n  <tbody>\n    <tr>\n      <th>0</th>\n      <td>CIDACS</td>\n      <td>https://doi.org/10.57833/cidacs/WV4JWB</td>\n      <td>ProjZika</td>\n    </tr>\n    <tr>\n      <th>1</th>\n      <td>CIDACS</td>\n      <td>https://doi.org/10.57833/cidacs/TGAIVO</td>\n      <td>ProjZika</td>\n    </tr>\n    <tr>\n      <th>2</th>\n      <td>CIDACS</td>\n      <td>https://doi.org/10.57833/cidacs/0FZP7V</td>\n      <td>ProjZika</td>\n    </tr>\n    <tr>\n      <th>3</th>\n      <td>CIDACS</td>\n      <td>https://doi.org/10.57833/cidacs/5BMSIX</td>\n      <td>ProjGates0</td>\n    </tr>\n    <tr>\n      <th>4</th>\n      <td>CIDACS</td>\n      <td>https://doi.org/10.57833/cidacs/I56ZVA</td>\n      <td>ProjGates0</td>\n    </tr>\n  </tbody>\n</table></div>"
     },
     "execution_count": 2,
     "metadata": {},
     "output_type": "execute_result"
    }
   ],
   "source": [
    "# Import CSV file that lists PIDs of all datasets and which Dataaverse installation\n",
    "# they're published in\n",
    "datasetPIDsDF = pd.read_csv(\n",
    "    'dataset_pids_from_most_known_dataverse_installations.csv',\n",
    "    sep=',', na_filter = False)\n",
    "\n",
    "# Remove the PIDs of datasets whose metadata could not be saved, i.e. dataverse_json_export_saved is FALSE\n",
    "datasetPIDsDF = (datasetPIDsDF\n",
    "    .query('(dataverse_json_export_saved == True)')\n",
    "    .reset_index(drop = True, inplace = False)\n",
    "    )\n",
    "\n",
    "datasetPIDsDF = datasetPIDsDF.drop(columns=[\n",
    "    'dataset_pid', 'dataverse_name', 'dataverse_json_export_saved'])\n",
    "\n",
    "datasetPIDsDF.head()"
   ],
   "metadata": {
    "collapsed": false,
    "pycharm": {
     "name": "#%%\n"
    }
   }
  },
  {
   "cell_type": "code",
   "execution_count": 3,
   "outputs": [
    {
     "data": {
      "text/plain": "                          dataset_pid_url  dataset_version_number  \\\n0     https://doi.org/10.48370/OFD/DBJUEM                     1.0   \n1     https://doi.org/10.21410/7E4/4WG94W                     2.1   \n2      https://doi.org/10.7910/DVN/5PRYPC                     4.0   \n3  https://doi.org/10.17026/dans-2zm-dsmz                     1.0   \n4       https://doi.org/10.7910/DVN/VIE1H                   248.0   \n\n  dataset_version_create_time  \n0   2022-05-25 10:17:50+00:00  \n1   2020-05-13 16:06:28+00:00  \n2   2020-06-17 23:49:50+00:00  \n3   2022-01-27 20:15:47+00:00  \n4   2015-06-18 19:49:12+00:00  ",
      "text/html": "<div><div id=110f9b58-93fd-4a22-b1ab-28fc5c60c5d0 style=\"display:none; background-color:#9D6CFF; color:white; width:200px; height:30px; padding-left:5px; border-radius:4px; flex-direction:row; justify-content:space-around; align-items:center;\" onmouseover=\"this.style.backgroundColor='#BA9BF8'\" onmouseout=\"this.style.backgroundColor='#9D6CFF'\" onclick=\"window.commands?.execute('create-mitosheet-from-dataframe-output');\">See Full Dataframe in Mito</div> <script> if (window.commands.hasCommand('create-mitosheet-from-dataframe-output')) document.getElementById('110f9b58-93fd-4a22-b1ab-28fc5c60c5d0').style.display = 'flex' </script> <table border=\"1\" class=\"dataframe\">\n  <thead>\n    <tr style=\"text-align: right;\">\n      <th></th>\n      <th>dataset_pid_url</th>\n      <th>dataset_version_number</th>\n      <th>dataset_version_create_time</th>\n    </tr>\n  </thead>\n  <tbody>\n    <tr>\n      <th>0</th>\n      <td>https://doi.org/10.48370/OFD/DBJUEM</td>\n      <td>1.0</td>\n      <td>2022-05-25 10:17:50+00:00</td>\n    </tr>\n    <tr>\n      <th>1</th>\n      <td>https://doi.org/10.21410/7E4/4WG94W</td>\n      <td>2.1</td>\n      <td>2020-05-13 16:06:28+00:00</td>\n    </tr>\n    <tr>\n      <th>2</th>\n      <td>https://doi.org/10.7910/DVN/5PRYPC</td>\n      <td>4.0</td>\n      <td>2020-06-17 23:49:50+00:00</td>\n    </tr>\n    <tr>\n      <th>3</th>\n      <td>https://doi.org/10.17026/dans-2zm-dsmz</td>\n      <td>1.0</td>\n      <td>2022-01-27 20:15:47+00:00</td>\n    </tr>\n    <tr>\n      <th>4</th>\n      <td>https://doi.org/10.7910/DVN/VIE1H</td>\n      <td>248.0</td>\n      <td>2015-06-18 19:49:12+00:00</td>\n    </tr>\n  </tbody>\n</table></div>"
     },
     "execution_count": 3,
     "metadata": {},
     "output_type": "execute_result"
    }
   ],
   "source": [
    "# Import basic metadata of all dataset versions\n",
    "datasetVersionMetadataDF = pd.read_csv(\n",
    "    'basic_metadata_2022.10.02-2022.10.03.csv',\n",
    "    sep=',', na_filter = False)\n",
    "\n",
    "# Remove the dataset_publication_date, dataset_version_state and publisher columns\n",
    "datasetVersionMetadataDF = datasetVersionMetadataDF.drop(columns=[\n",
    "    'dataset_pid', 'dataset_publication_date', 'dataset_version_state', 'publisher'])\n",
    "\n",
    "# Make sure values in date columns are interpreted as dates\n",
    "dateColumns = ['dataset_version_create_time']\n",
    "datasetVersionMetadataDF[dateColumns] = datasetVersionMetadataDF[dateColumns].apply(pd.to_datetime)\n",
    "\n",
    "datasetVersionMetadataDF.head()"
   ],
   "metadata": {
    "collapsed": false,
    "pycharm": {
     "name": "#%%\n"
    }
   }
  },
  {
   "cell_type": "code",
   "execution_count": 4,
   "outputs": [
    {
     "name": "stdout",
     "output_type": "stream",
     "text": [
      "Count of datasets: 340857\n",
      "Count of dataset versions: 473910\n"
     ]
    }
   ],
   "source": [
    "print(f'Count of datasets: {len(datasetPIDsDF)}')\n",
    "print(f'Count of dataset versions: {len(datasetVersionMetadataDF)}')\n"
   ],
   "metadata": {
    "collapsed": false,
    "pycharm": {
     "name": "#%%\n"
    }
   }
  },
  {
   "cell_type": "code",
   "execution_count": 5,
   "outputs": [],
   "source": [
    "# From the datasetVersionMetadataDF, lets use the version publication dates to get the PIDs and database version numbers of only the most recently published versions of each dataset. The resulting dataframe should contain the same number of rows as the datasetPIDsDF.\n",
    "\n",
    "latestDatasetVersionsDF = (datasetVersionMetadataDF\n",
    "                 .iloc[datasetVersionMetadataDF\n",
    "                 .groupby('dataset_pid_url')['dataset_version_create_time']\n",
    "                 .agg(pd.Series.idxmax)]\n",
    "                 .reset_index(drop=True, inplace=False))"
   ],
   "metadata": {
    "collapsed": false,
    "pycharm": {
     "name": "#%%\n"
    }
   }
  },
  {
   "cell_type": "code",
   "execution_count": 6,
   "outputs": [
    {
     "data": {
      "text/plain": "                     dataset_pid_url  dataset_version_number  \\\n0  http://dx.doi.org/10.26193/00HBWG                     2.0   \n1  http://dx.doi.org/10.26193/01P0AI                     2.0   \n2  http://dx.doi.org/10.26193/04F7C1                     2.0   \n3  http://dx.doi.org/10.26193/07R31R                     2.0   \n4  http://dx.doi.org/10.26193/0AF6TZ                     5.0   \n\n  dataset_version_create_time  \n0   2019-05-13 08:43:01+00:00  \n1   2019-05-13 06:23:26+00:00  \n2   2019-05-13 10:02:15+00:00  \n3   2019-05-13 06:50:29+00:00  \n4   2022-02-02 23:01:26+00:00  ",
      "text/html": "<div><div id=6ff2255f-4457-4d05-bbed-6385566e2d9e style=\"display:none; background-color:#9D6CFF; color:white; width:200px; height:30px; padding-left:5px; border-radius:4px; flex-direction:row; justify-content:space-around; align-items:center;\" onmouseover=\"this.style.backgroundColor='#BA9BF8'\" onmouseout=\"this.style.backgroundColor='#9D6CFF'\" onclick=\"window.commands?.execute('create-mitosheet-from-dataframe-output');\">See Full Dataframe in Mito</div> <script> if (window.commands.hasCommand('create-mitosheet-from-dataframe-output')) document.getElementById('6ff2255f-4457-4d05-bbed-6385566e2d9e').style.display = 'flex' </script> <table border=\"1\" class=\"dataframe\">\n  <thead>\n    <tr style=\"text-align: right;\">\n      <th></th>\n      <th>dataset_pid_url</th>\n      <th>dataset_version_number</th>\n      <th>dataset_version_create_time</th>\n    </tr>\n  </thead>\n  <tbody>\n    <tr>\n      <th>0</th>\n      <td>http://dx.doi.org/10.26193/00HBWG</td>\n      <td>2.0</td>\n      <td>2019-05-13 08:43:01+00:00</td>\n    </tr>\n    <tr>\n      <th>1</th>\n      <td>http://dx.doi.org/10.26193/01P0AI</td>\n      <td>2.0</td>\n      <td>2019-05-13 06:23:26+00:00</td>\n    </tr>\n    <tr>\n      <th>2</th>\n      <td>http://dx.doi.org/10.26193/04F7C1</td>\n      <td>2.0</td>\n      <td>2019-05-13 10:02:15+00:00</td>\n    </tr>\n    <tr>\n      <th>3</th>\n      <td>http://dx.doi.org/10.26193/07R31R</td>\n      <td>2.0</td>\n      <td>2019-05-13 06:50:29+00:00</td>\n    </tr>\n    <tr>\n      <th>4</th>\n      <td>http://dx.doi.org/10.26193/0AF6TZ</td>\n      <td>5.0</td>\n      <td>2022-02-02 23:01:26+00:00</td>\n    </tr>\n  </tbody>\n</table></div>"
     },
     "execution_count": 6,
     "metadata": {},
     "output_type": "execute_result"
    }
   ],
   "source": [
    "latestDatasetVersionsDF.head()"
   ],
   "metadata": {
    "collapsed": false,
    "pycharm": {
     "name": "#%%\n"
    }
   }
  },
  {
   "cell_type": "code",
   "execution_count": 7,
   "outputs": [
    {
     "name": "stdout",
     "output_type": "stream",
     "text": [
      "Count of datasets: 340857\n",
      "Count of rows in latestDatasetVersionsDF: 340857\n"
     ]
    }
   ],
   "source": [
    "print(f'Count of datasets: {len(datasetPIDsDF)}')\n",
    "print(f'Count of rows in latestDatasetVersionsDF: {len(latestDatasetVersionsDF)}')"
   ],
   "metadata": {
    "collapsed": false,
    "pycharm": {
     "name": "#%%\n"
    }
   }
  },
  {
   "cell_type": "code",
   "execution_count": 36,
   "outputs": [
    {
     "name": "stdout",
     "output_type": "stream",
     "text": [
      "340857\n"
     ]
    }
   ],
   "source": [
    "# Join the latestDatasetVersionsDF and the datasetPIDsDF to add the installation column,\n",
    "# so we know which installations published each dataset\n",
    "\n",
    "# Merge the two dataframes\n",
    "basicDatasetMetadataDF = (pd\n",
    "    .merge(latestDatasetVersionsDF, datasetPIDsDF,\n",
    "        how='inner',\n",
    "        on=['dataset_pid_url'])\n",
    "    .reset_index(drop=True, inplace=False))\n",
    "print(len(basicDatasetMetadataDF))"
   ],
   "metadata": {
    "collapsed": false,
    "pycharm": {
     "name": "#%%\n"
    }
   }
  },
  {
   "cell_type": "code",
   "execution_count": 37,
   "outputs": [
    {
     "data": {
      "text/plain": "                     dataset_pid_url  dataset_version_number  \\\n0  http://dx.doi.org/10.26193/00HBWG                     2.0   \n1  http://dx.doi.org/10.26193/01P0AI                     2.0   \n2  http://dx.doi.org/10.26193/04F7C1                     2.0   \n3  http://dx.doi.org/10.26193/07R31R                     2.0   \n4  http://dx.doi.org/10.26193/0AF6TZ                     5.0   \n\n  dataset_version_create_time   installation dataverse_alias  \n0   2019-05-13 08:43:01+00:00  ADA Dataverse              NA  \n1   2019-05-13 06:23:26+00:00  ADA Dataverse              NA  \n2   2019-05-13 10:02:15+00:00  ADA Dataverse              NA  \n3   2019-05-13 06:50:29+00:00  ADA Dataverse              NA  \n4   2022-02-02 23:01:26+00:00  ADA Dataverse              NA  ",
      "text/html": "<div><div id=654eef1c-d81f-4b46-9dfb-1a6e4322c6f7 style=\"display:none; background-color:#9D6CFF; color:white; width:200px; height:30px; padding-left:5px; border-radius:4px; flex-direction:row; justify-content:space-around; align-items:center;\" onmouseover=\"this.style.backgroundColor='#BA9BF8'\" onmouseout=\"this.style.backgroundColor='#9D6CFF'\" onclick=\"window.commands?.execute('create-mitosheet-from-dataframe-output');\">See Full Dataframe in Mito</div> <script> if (window.commands.hasCommand('create-mitosheet-from-dataframe-output')) document.getElementById('654eef1c-d81f-4b46-9dfb-1a6e4322c6f7').style.display = 'flex' </script> <table border=\"1\" class=\"dataframe\">\n  <thead>\n    <tr style=\"text-align: right;\">\n      <th></th>\n      <th>dataset_pid_url</th>\n      <th>dataset_version_number</th>\n      <th>dataset_version_create_time</th>\n      <th>installation</th>\n      <th>dataverse_alias</th>\n    </tr>\n  </thead>\n  <tbody>\n    <tr>\n      <th>0</th>\n      <td>http://dx.doi.org/10.26193/00HBWG</td>\n      <td>2.0</td>\n      <td>2019-05-13 08:43:01+00:00</td>\n      <td>ADA Dataverse</td>\n      <td>NA</td>\n    </tr>\n    <tr>\n      <th>1</th>\n      <td>http://dx.doi.org/10.26193/01P0AI</td>\n      <td>2.0</td>\n      <td>2019-05-13 06:23:26+00:00</td>\n      <td>ADA Dataverse</td>\n      <td>NA</td>\n    </tr>\n    <tr>\n      <th>2</th>\n      <td>http://dx.doi.org/10.26193/04F7C1</td>\n      <td>2.0</td>\n      <td>2019-05-13 10:02:15+00:00</td>\n      <td>ADA Dataverse</td>\n      <td>NA</td>\n    </tr>\n    <tr>\n      <th>3</th>\n      <td>http://dx.doi.org/10.26193/07R31R</td>\n      <td>2.0</td>\n      <td>2019-05-13 06:50:29+00:00</td>\n      <td>ADA Dataverse</td>\n      <td>NA</td>\n    </tr>\n    <tr>\n      <th>4</th>\n      <td>http://dx.doi.org/10.26193/0AF6TZ</td>\n      <td>5.0</td>\n      <td>2022-02-02 23:01:26+00:00</td>\n      <td>ADA Dataverse</td>\n      <td>NA</td>\n    </tr>\n  </tbody>\n</table></div>"
     },
     "execution_count": 37,
     "metadata": {},
     "output_type": "execute_result"
    }
   ],
   "source": [
    "basicDatasetMetadataDF.head()"
   ],
   "metadata": {
    "collapsed": false,
    "pycharm": {
     "name": "#%%\n"
    }
   }
  },
  {
   "cell_type": "code",
   "execution_count": 10,
   "outputs": [],
   "source": [
    "# basicDatasetMetadataDF.to_csv('basicDatasetMetadataDF.csv', index=False)"
   ],
   "metadata": {
    "collapsed": false,
    "pycharm": {
     "name": "#%%\n"
    }
   }
  },
  {
   "cell_type": "code",
   "execution_count": 22,
   "outputs": [
    {
     "name": "stdout",
     "output_type": "stream",
     "text": [
      "124072\n"
     ]
    }
   ],
   "source": [
    "# Import funding metadata\n",
    "grantInformationMetadataDF = pd.read_csv(\n",
    "    'grant_information(citation)_2022.10.02-2022.10.03.csv',\n",
    "    sep=',', na_filter = False)\n",
    "\n",
    "# Remove the dataset_pid column\n",
    "grantInformationMetadataDF = grantInformationMetadataDF.drop(columns=['dataset_pid'])\n",
    "print(len(grantInformationMetadataDF))"
   ],
   "metadata": {
    "collapsed": false,
    "pycharm": {
     "name": "#%%\n"
    }
   }
  },
  {
   "cell_type": "code",
   "execution_count": 40,
   "outputs": [
    {
     "data": {
      "text/plain": "                          dataset_pid_url  dataset_version_number  \\\n0  https://doi.org/10.17026/dans-2zm-dsmz                     1.0   \n1  https://doi.org/10.17026/dans-xq9-4s24                     1.0   \n2  https://doi.org/10.17026/dans-z2f-qdzn                     1.0   \n3  https://doi.org/10.17026/dans-xg6-z9ke                     1.0   \n4      https://doi.org/10.7910/DVN/IJEJGR                     1.0   \n\n                          grantNumberAgency grantNumberValue  \n0                                       NWO       380-60-007  \n1                                       NWO       380-60-007  \n2                                       NWO       380-60-007  \n3                                       NWO       380-60-007  \n4  Bill and Melinda Gates Foundation (BMGF)                   ",
      "text/html": "<div><div id=986390ab-11be-4382-9a47-63656e359d8d style=\"display:none; background-color:#9D6CFF; color:white; width:200px; height:30px; padding-left:5px; border-radius:4px; flex-direction:row; justify-content:space-around; align-items:center;\" onmouseover=\"this.style.backgroundColor='#BA9BF8'\" onmouseout=\"this.style.backgroundColor='#9D6CFF'\" onclick=\"window.commands?.execute('create-mitosheet-from-dataframe-output');\">See Full Dataframe in Mito</div> <script> if (window.commands.hasCommand('create-mitosheet-from-dataframe-output')) document.getElementById('986390ab-11be-4382-9a47-63656e359d8d').style.display = 'flex' </script> <table border=\"1\" class=\"dataframe\">\n  <thead>\n    <tr style=\"text-align: right;\">\n      <th></th>\n      <th>dataset_pid_url</th>\n      <th>dataset_version_number</th>\n      <th>grantNumberAgency</th>\n      <th>grantNumberValue</th>\n    </tr>\n  </thead>\n  <tbody>\n    <tr>\n      <th>0</th>\n      <td>https://doi.org/10.17026/dans-2zm-dsmz</td>\n      <td>1.0</td>\n      <td>NWO</td>\n      <td>380-60-007</td>\n    </tr>\n    <tr>\n      <th>1</th>\n      <td>https://doi.org/10.17026/dans-xq9-4s24</td>\n      <td>1.0</td>\n      <td>NWO</td>\n      <td>380-60-007</td>\n    </tr>\n    <tr>\n      <th>2</th>\n      <td>https://doi.org/10.17026/dans-z2f-qdzn</td>\n      <td>1.0</td>\n      <td>NWO</td>\n      <td>380-60-007</td>\n    </tr>\n    <tr>\n      <th>3</th>\n      <td>https://doi.org/10.17026/dans-xg6-z9ke</td>\n      <td>1.0</td>\n      <td>NWO</td>\n      <td>380-60-007</td>\n    </tr>\n    <tr>\n      <th>4</th>\n      <td>https://doi.org/10.7910/DVN/IJEJGR</td>\n      <td>1.0</td>\n      <td>Bill and Melinda Gates Foundation (BMGF)</td>\n      <td></td>\n    </tr>\n  </tbody>\n</table></div>"
     },
     "execution_count": 40,
     "metadata": {},
     "output_type": "execute_result"
    }
   ],
   "source": [
    "# Join grantInformationMetadataDF with basicDatasetMetadataDF to retain metadata of\n",
    "# each dataset's latest version\n",
    "\n",
    "grantInformationLatestVersionDF = (pd\n",
    "    .merge(grantInformationMetadataDF, basicDatasetMetadataDF,\n",
    "        how='inner',\n",
    "        on=['dataset_pid_url', 'dataset_version_number'])\n",
    "    .reset_index(drop=True, inplace=False))\n",
    "\n",
    "grantInformationLatestVersionDF = grantInformationLatestVersionDF.drop(columns=[\n",
    "    'dataset_version_create_time', 'installation', 'dataverse_alias'])\n",
    "\n",
    "grantInformationLatestVersionDF.head()"
   ],
   "metadata": {
    "collapsed": false,
    "pycharm": {
     "name": "#%%\n"
    }
   }
  },
  {
   "cell_type": "code",
   "execution_count": 24,
   "outputs": [
    {
     "name": "stdout",
     "output_type": "stream",
     "text": [
      "126012\n"
     ]
    }
   ],
   "source": [
    "# Import contributor metadata, where a funding agency might be listed as a contributor\n",
    "contributorMetadataDF = pd.read_csv(\n",
    "    'contributor(citation)_2022.10.02-2022.10.03.csv',\n",
    "    sep=',', na_filter = False)\n",
    "\n",
    "# Remove the dataset_pid column\n",
    "contributorMetadataDF = contributorMetadataDF.drop(columns=['dataset_pid'])\n",
    "\n",
    "print(len(contributorMetadataDF))"
   ],
   "metadata": {
    "collapsed": false,
    "pycharm": {
     "name": "#%%\n"
    }
   }
  },
  {
   "cell_type": "code",
   "execution_count": 41,
   "outputs": [
    {
     "data": {
      "text/plain": "                      dataset_pid_url  dataset_version_number contributorType  \\\n0  https://doi.org/10.7910/DVN/IJEJGR                     1.0  Data Collector   \n1  https://doi.org/10.7910/DVN/IJEJGR                     1.0          Funder   \n2  https://doi.org/10.7910/DVN/IJEJGR                     1.0      Researcher   \n3  https://doi.org/10.7910/DVN/IJEJGR                     1.0      Researcher   \n4  https://doi.org/10.7910/DVN/IJEJGR                     1.0      Researcher   \n\n                                     contributorName  \n0    Institute of Social and Medicine Studies (ISMS)  \n1           Bill and Melinda Gates Foundation (BMGF)  \n2  Kim, Sunny (International Food Policy Research...  \n3  Menon, Purnima (International Food Policy Rese...  \n4  Nguyen, Phuong Hong (International Food Policy...  ",
      "text/html": "<div><div id=8f2cec54-6bb9-477c-9983-2dbfb2e53be1 style=\"display:none; background-color:#9D6CFF; color:white; width:200px; height:30px; padding-left:5px; border-radius:4px; flex-direction:row; justify-content:space-around; align-items:center;\" onmouseover=\"this.style.backgroundColor='#BA9BF8'\" onmouseout=\"this.style.backgroundColor='#9D6CFF'\" onclick=\"window.commands?.execute('create-mitosheet-from-dataframe-output');\">See Full Dataframe in Mito</div> <script> if (window.commands.hasCommand('create-mitosheet-from-dataframe-output')) document.getElementById('8f2cec54-6bb9-477c-9983-2dbfb2e53be1').style.display = 'flex' </script> <table border=\"1\" class=\"dataframe\">\n  <thead>\n    <tr style=\"text-align: right;\">\n      <th></th>\n      <th>dataset_pid_url</th>\n      <th>dataset_version_number</th>\n      <th>contributorType</th>\n      <th>contributorName</th>\n    </tr>\n  </thead>\n  <tbody>\n    <tr>\n      <th>0</th>\n      <td>https://doi.org/10.7910/DVN/IJEJGR</td>\n      <td>1.0</td>\n      <td>Data Collector</td>\n      <td>Institute of Social and Medicine Studies (ISMS)</td>\n    </tr>\n    <tr>\n      <th>1</th>\n      <td>https://doi.org/10.7910/DVN/IJEJGR</td>\n      <td>1.0</td>\n      <td>Funder</td>\n      <td>Bill and Melinda Gates Foundation (BMGF)</td>\n    </tr>\n    <tr>\n      <th>2</th>\n      <td>https://doi.org/10.7910/DVN/IJEJGR</td>\n      <td>1.0</td>\n      <td>Researcher</td>\n      <td>Kim, Sunny (International Food Policy Research Institute (IFPRI))</td>\n    </tr>\n    <tr>\n      <th>3</th>\n      <td>https://doi.org/10.7910/DVN/IJEJGR</td>\n      <td>1.0</td>\n      <td>Researcher</td>\n      <td>Menon, Purnima (International Food Policy Research Institute (IFPRI))</td>\n    </tr>\n    <tr>\n      <th>4</th>\n      <td>https://doi.org/10.7910/DVN/IJEJGR</td>\n      <td>1.0</td>\n      <td>Researcher</td>\n      <td>Nguyen, Phuong Hong (International Food Policy Research Institute (IFPRI))</td>\n    </tr>\n  </tbody>\n</table></div>"
     },
     "execution_count": 41,
     "metadata": {},
     "output_type": "execute_result"
    }
   ],
   "source": [
    "# Join contributorMetadataDF with basicDatasetMetadataDF to retain metadata of\n",
    "# each dataset's latest version\n",
    "\n",
    "contributorLatestVersionDF = (pd\n",
    "    .merge(contributorMetadataDF, basicDatasetMetadataDF,\n",
    "        how='inner',\n",
    "        on=['dataset_pid_url', 'dataset_version_number'])\n",
    "    .reset_index(drop=True, inplace=False))\n",
    "\n",
    "contributorLatestVersionDF = contributorLatestVersionDF.drop(columns=[\n",
    "    'dataset_version_create_time', 'installation', 'dataverse_alias'])\n",
    "\n",
    "contributorLatestVersionDF.head()"
   ],
   "metadata": {
    "collapsed": false,
    "pycharm": {
     "name": "#%%\n"
    }
   }
  },
  {
   "cell_type": "code",
   "execution_count": 42,
   "outputs": [],
   "source": [
    "# Combine the basicDatasetMetadataDF, grantInformationLatestVersionDF, and contributorLatestVersionDF with a\n",
    "# full outer join on dataset_pid_url and dataset_version_number columns\n",
    "\n",
    "dataframes = [basicDatasetMetadataDF, grantInformationLatestVersionDF, contributorLatestVersionDF]\n",
    "indexList = ['dataset_pid_url', 'dataset_version_number']\n",
    "for dataframe in dataframes:\n",
    "    dataframe.set_index(indexList, inplace=True)"
   ],
   "metadata": {
    "collapsed": false,
    "pycharm": {
     "name": "#%%\n"
    }
   }
  },
  {
   "cell_type": "code",
   "execution_count": 51,
   "outputs": [
    {
     "data": {
      "text/plain": "                     dataset_pid_url  dataset_version_number  \\\n0  http://dx.doi.org/10.26193/00HBWG                     2.0   \n1  http://dx.doi.org/10.26193/01P0AI                     2.0   \n2  http://dx.doi.org/10.26193/04F7C1                     2.0   \n3  http://dx.doi.org/10.26193/04F7C1                     2.0   \n4  http://dx.doi.org/10.26193/07R31R                     2.0   \n\n  dataset_version_create_time   installation dataverse_alias  \\\n0   2019-05-13 08:43:01+00:00  ADA Dataverse              NA   \n1   2019-05-13 06:23:26+00:00  ADA Dataverse              NA   \n2   2019-05-13 10:02:15+00:00  ADA Dataverse              NA   \n3   2019-05-13 10:02:15+00:00  ADA Dataverse              NA   \n4   2019-05-13 06:50:29+00:00  ADA Dataverse              NA   \n\n  grantNumberAgency grantNumberValue contributorType  \\\n0               NaN              NaN          Funder   \n1               NaN              NaN  Data Collector   \n2               NaN              NaN          Funder   \n3               NaN              NaN  Data Collector   \n4               NaN              NaN             NaN   \n\n                                     contributorName  \n0  General Practice Evaluation Program, Departmen...  \n1                                         Roy Morgan  \n2                        Australian Research Council  \n3                          Workplace Research Centre  \n4                                                NaN  ",
      "text/html": "<div><div id=8c7f3d79-9281-497b-8215-a97f32a06692 style=\"display:none; background-color:#9D6CFF; color:white; width:200px; height:30px; padding-left:5px; border-radius:4px; flex-direction:row; justify-content:space-around; align-items:center;\" onmouseover=\"this.style.backgroundColor='#BA9BF8'\" onmouseout=\"this.style.backgroundColor='#9D6CFF'\" onclick=\"window.commands?.execute('create-mitosheet-from-dataframe-output');\">See Full Dataframe in Mito</div> <script> if (window.commands.hasCommand('create-mitosheet-from-dataframe-output')) document.getElementById('8c7f3d79-9281-497b-8215-a97f32a06692').style.display = 'flex' </script> <table border=\"1\" class=\"dataframe\">\n  <thead>\n    <tr style=\"text-align: right;\">\n      <th></th>\n      <th>dataset_pid_url</th>\n      <th>dataset_version_number</th>\n      <th>dataset_version_create_time</th>\n      <th>installation</th>\n      <th>dataverse_alias</th>\n      <th>grantNumberAgency</th>\n      <th>grantNumberValue</th>\n      <th>contributorType</th>\n      <th>contributorName</th>\n    </tr>\n  </thead>\n  <tbody>\n    <tr>\n      <th>0</th>\n      <td>http://dx.doi.org/10.26193/00HBWG</td>\n      <td>2.0</td>\n      <td>2019-05-13 08:43:01+00:00</td>\n      <td>ADA Dataverse</td>\n      <td>NA</td>\n      <td>NaN</td>\n      <td>NaN</td>\n      <td>Funder</td>\n      <td>General Practice Evaluation Program, Department of Health, Housing and Community Services</td>\n    </tr>\n    <tr>\n      <th>1</th>\n      <td>http://dx.doi.org/10.26193/01P0AI</td>\n      <td>2.0</td>\n      <td>2019-05-13 06:23:26+00:00</td>\n      <td>ADA Dataverse</td>\n      <td>NA</td>\n      <td>NaN</td>\n      <td>NaN</td>\n      <td>Data Collector</td>\n      <td>Roy Morgan</td>\n    </tr>\n    <tr>\n      <th>2</th>\n      <td>http://dx.doi.org/10.26193/04F7C1</td>\n      <td>2.0</td>\n      <td>2019-05-13 10:02:15+00:00</td>\n      <td>ADA Dataverse</td>\n      <td>NA</td>\n      <td>NaN</td>\n      <td>NaN</td>\n      <td>Funder</td>\n      <td>Australian Research Council</td>\n    </tr>\n    <tr>\n      <th>3</th>\n      <td>http://dx.doi.org/10.26193/04F7C1</td>\n      <td>2.0</td>\n      <td>2019-05-13 10:02:15+00:00</td>\n      <td>ADA Dataverse</td>\n      <td>NA</td>\n      <td>NaN</td>\n      <td>NaN</td>\n      <td>Data Collector</td>\n      <td>Workplace Research Centre</td>\n    </tr>\n    <tr>\n      <th>4</th>\n      <td>http://dx.doi.org/10.26193/07R31R</td>\n      <td>2.0</td>\n      <td>2019-05-13 06:50:29+00:00</td>\n      <td>ADA Dataverse</td>\n      <td>NA</td>\n      <td>NaN</td>\n      <td>NaN</td>\n      <td>NaN</td>\n      <td>NaN</td>\n    </tr>\n  </tbody>\n</table></div>"
     },
     "execution_count": 51,
     "metadata": {},
     "output_type": "execute_result"
    }
   ],
   "source": [
    "fundingDatasetMetadataInDataverseInstallationsDF = reduce(lambda left, right: left.join(right, how='outer'), dataframes)\n",
    "fundingDatasetMetadataInDataverseInstallationsDF = fundingDatasetMetadataInDataverseInstallationsDF.reset_index(drop=False, inplace=False)\n",
    "fundingDatasetMetadataInDataverseInstallationsDF.head()"
   ],
   "metadata": {
    "collapsed": false,
    "pycharm": {
     "name": "#%%\n"
    }
   }
  },
  {
   "cell_type": "code",
   "execution_count": 52,
   "outputs": [
    {
     "name": "stdout",
     "output_type": "stream",
     "text": [
      "Number of datasets in fundingDatasetMetadataInDataverseInstallationsDF: 340857\n"
     ]
    }
   ],
   "source": [
    "print('Number of datasets in fundingDatasetMetadataInDataverseInstallationsDF: %s' % (len(pd.unique(fundingDatasetMetadataInDataverseInstallationsDF['dataset_pid_url']))))"
   ],
   "metadata": {
    "collapsed": false,
    "pycharm": {
     "name": "#%%\n"
    }
   }
  },
  {
   "cell_type": "markdown",
   "source": [
    "## Exploring the data\n",
    "\n",
    "Now that we've got the funding metadata of the latest versions of all datasets in the Dataverse installations, let's start answering our questions:\n",
    "- In the Harvard Dataverse Repository, which collections have datasets with the most funding metadata? This will help us figure out who to learn from when we make changes to how funding metadata is entered.\n",
    "- Which funder agency names are entered most often? Knowing that might help us figure out how effective our efforts to standardize funder agency name metadata could be? For example, do the changes to the metadata fields (the \"CV javascript\") make it easier for depositors to enter the most popular funder agency names? How much easier?"
   ],
   "metadata": {
    "collapsed": false,
    "pycharm": {
     "name": "#%% md\n"
    }
   }
  },
  {
   "cell_type": "code",
   "execution_count": 54,
   "outputs": [
    {
     "data": {
      "text/plain": "                      dataset_pid_url  dataset_version_number  \\\n0   https://doi.org/10.7910/DVN/00234                     1.0   \n1  https://doi.org/10.7910/DVN/004HG6                     1.0   \n2  https://doi.org/10.7910/DVN/005SCF                     1.0   \n3  https://doi.org/10.7910/DVN/006UPU                     1.0   \n4   https://doi.org/10.7910/DVN/007GT                     5.0   \n\n  dataset_version_create_time       installation         dataverse_alias  \\\n0   2014-03-23 22:12:34+00:00  Harvard Dataverse                  restat   \n1   2020-08-28 15:42:11+00:00  Harvard Dataverse        levy_photos_2012   \n2   2021-08-26 03:17:40+00:00  Harvard Dataverse        levy_photos_2015   \n3   2021-08-13 18:15:36+00:00  Harvard Dataverse        levy_photos_2014   \n4   2017-02-05 23:43:33+00:00  Harvard Dataverse  antislaverypetitionsma   \n\n          grantNumberAgency grantNumberValue contributorType contributorName  \n0                       NaN              NaN             NaN             NaN  \n1  The Leon Levy Foundation                              NaN             NaN  \n2  The Leon Levy Foundation                              NaN             NaN  \n3  The Leon Levy Foundation                              NaN             NaN  \n4                       NaN              NaN             NaN             NaN  ",
      "text/html": "<div><div id=aed40e51-1e1e-4fa6-a509-12be7e28055b style=\"display:none; background-color:#9D6CFF; color:white; width:200px; height:30px; padding-left:5px; border-radius:4px; flex-direction:row; justify-content:space-around; align-items:center;\" onmouseover=\"this.style.backgroundColor='#BA9BF8'\" onmouseout=\"this.style.backgroundColor='#9D6CFF'\" onclick=\"window.commands?.execute('create-mitosheet-from-dataframe-output');\">See Full Dataframe in Mito</div> <script> if (window.commands.hasCommand('create-mitosheet-from-dataframe-output')) document.getElementById('aed40e51-1e1e-4fa6-a509-12be7e28055b').style.display = 'flex' </script> <table border=\"1\" class=\"dataframe\">\n  <thead>\n    <tr style=\"text-align: right;\">\n      <th></th>\n      <th>dataset_pid_url</th>\n      <th>dataset_version_number</th>\n      <th>dataset_version_create_time</th>\n      <th>installation</th>\n      <th>dataverse_alias</th>\n      <th>grantNumberAgency</th>\n      <th>grantNumberValue</th>\n      <th>contributorType</th>\n      <th>contributorName</th>\n    </tr>\n  </thead>\n  <tbody>\n    <tr>\n      <th>0</th>\n      <td>https://doi.org/10.7910/DVN/00234</td>\n      <td>1.0</td>\n      <td>2014-03-23 22:12:34+00:00</td>\n      <td>Harvard Dataverse</td>\n      <td>restat</td>\n      <td>NaN</td>\n      <td>NaN</td>\n      <td>NaN</td>\n      <td>NaN</td>\n    </tr>\n    <tr>\n      <th>1</th>\n      <td>https://doi.org/10.7910/DVN/004HG6</td>\n      <td>1.0</td>\n      <td>2020-08-28 15:42:11+00:00</td>\n      <td>Harvard Dataverse</td>\n      <td>levy_photos_2012</td>\n      <td>The Leon Levy Foundation</td>\n      <td></td>\n      <td>NaN</td>\n      <td>NaN</td>\n    </tr>\n    <tr>\n      <th>2</th>\n      <td>https://doi.org/10.7910/DVN/005SCF</td>\n      <td>1.0</td>\n      <td>2021-08-26 03:17:40+00:00</td>\n      <td>Harvard Dataverse</td>\n      <td>levy_photos_2015</td>\n      <td>The Leon Levy Foundation</td>\n      <td></td>\n      <td>NaN</td>\n      <td>NaN</td>\n    </tr>\n    <tr>\n      <th>3</th>\n      <td>https://doi.org/10.7910/DVN/006UPU</td>\n      <td>1.0</td>\n      <td>2021-08-13 18:15:36+00:00</td>\n      <td>Harvard Dataverse</td>\n      <td>levy_photos_2014</td>\n      <td>The Leon Levy Foundation</td>\n      <td></td>\n      <td>NaN</td>\n      <td>NaN</td>\n    </tr>\n    <tr>\n      <th>4</th>\n      <td>https://doi.org/10.7910/DVN/007GT</td>\n      <td>5.0</td>\n      <td>2017-02-05 23:43:33+00:00</td>\n      <td>Harvard Dataverse</td>\n      <td>antislaverypetitionsma</td>\n      <td>NaN</td>\n      <td>NaN</td>\n      <td>NaN</td>\n      <td>NaN</td>\n    </tr>\n  </tbody>\n</table></div>"
     },
     "execution_count": 54,
     "metadata": {},
     "output_type": "execute_result"
    }
   ],
   "source": [
    "# Lets start by creating a dataframe containing only metadata of datasets published in the Harvard Dataverse Repository\n",
    "fundingDatasetMetadataInHDVDF = (fundingDatasetMetadataInDataverseInstallationsDF\n",
    "                 .query('(installation == \"Harvard Dataverse\")')\n",
    "                 .reset_index(drop = True, inplace = False)\n",
    "                 )\n",
    "\n",
    "fundingDatasetMetadataInHDVDF.head()"
   ],
   "metadata": {
    "collapsed": false,
    "pycharm": {
     "name": "#%%\n"
    }
   }
  },
  {
   "cell_type": "code",
   "execution_count": 55,
   "outputs": [
    {
     "name": "stdout",
     "output_type": "stream",
     "text": [
      "Number of datasets in fundingDatasetMetadataInHDVDF: 80278\n"
     ]
    }
   ],
   "source": [
    "print('Number of datasets in fundingDatasetMetadataInHDVDF: %s' % (len(pd.unique(fundingDatasetMetadataInHDVDF['dataset_pid_url']))))"
   ],
   "metadata": {
    "collapsed": false,
    "pycharm": {
     "name": "#%%\n"
    }
   }
  },
  {
   "cell_type": "code",
   "execution_count": null,
   "outputs": [],
   "source": [
    "# Now let's remove the datasets that have no funding metadata in the three fields: grantNumberAgency, grantNumberValue, and contributorName when contributorType is \"Funder\"\n",
    "\n"
   ],
   "metadata": {
    "collapsed": false,
    "pycharm": {
     "name": "#%%\n"
    }
   }
  }
 ],
 "metadata": {
  "kernelspec": {
   "display_name": "Python 3",
   "language": "python",
   "name": "python3"
  },
  "language_info": {
   "codemirror_mode": {
    "name": "ipython",
    "version": 2
   },
   "file_extension": ".py",
   "mimetype": "text/x-python",
   "name": "python",
   "nbconvert_exporter": "python",
   "pygments_lexer": "ipython2",
   "version": "2.7.6"
  }
 },
 "nbformat": 4,
 "nbformat_minor": 0
}