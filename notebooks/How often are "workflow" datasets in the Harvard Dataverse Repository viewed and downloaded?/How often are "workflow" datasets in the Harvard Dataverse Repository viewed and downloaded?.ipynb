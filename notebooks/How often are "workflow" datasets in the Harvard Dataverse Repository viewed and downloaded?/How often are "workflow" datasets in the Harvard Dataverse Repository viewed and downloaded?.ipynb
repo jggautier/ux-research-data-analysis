{
 "cells": [
  {
   "cell_type": "markdown",
   "metadata": {
    "collapsed": true,
    "pycharm": {
     "name": "#%% md\n"
    }
   },
   "source": []
  },
  {
   "cell_type": "markdown",
   "source": [
    "Objective 2 of the Harvard Data Commons work seeks to make it easier for users of the Harvard Dataverse Repository to find and re-use the \"workflow\" datasets that the repository hosts. The group working on enhancing the repository's functionality toward this end is defining \"workflow\" datasets as any datasets containing any of several types of files that indicate that the published data is meant to be computationally reproducible.\n",
    "\n",
    "For research into the reusability of workflow datasets, see \"Trisovic, A., Lau, M.K., Pasquier, T. et al. A large-scale study on research code quality and execution. Sci Data 9, 60 (2022). https://doi.org/10.1038/s41597-022-01143-6\"\n",
    "\n",
    "This notebook aims to provide benchmarks for how findable these workflow datasets have been. And after changes to the repository are made in order to improve their discoverability, the methods explored in this notebook might help indicate the effectiveness of those changes by comparing these measurements to measurements taken after the changes have been in place for some amount of time.\n",
    "\n",
    "Two possible methods for measuring the discoverability of workflow datasets are to:\n",
    "- Find the average number of times that the pages of these datasets are viewed\n",
    "- Find the average number of times that the files of these datasets are downloaded\n",
    "\n",
    "The Harvard Dataverse uses Google Analytics to track page views, so we can look there for metrics about how often all datasets are viewed. To find which datasets would be considered workflow datasets, as well as to find out how often files in all datasets, including workflow datasets, are downloaded, we can look in the Harvard Dataverse's database.\n",
    "\n",
    "I think these two sources of data should be enough to determine:\n",
    "- What has been the average sum of file downloads of all datasets in the repository?\n",
    "- What has been the average sum of file downloads of workflow datasets?\n",
    "- On average, how often is each dataset's page viewed?\n",
    "- On average, how often is each workflow dataset's page viewed?\n",
    "\n"
   ],
   "metadata": {
    "collapsed": false,
    "pycharm": {
     "name": "#%% md\n"
    }
   }
  },
  {
   "cell_type": "code",
   "execution_count": null,
   "outputs": [],
   "source": [],
   "metadata": {
    "collapsed": false,
    "pycharm": {
     "name": "#%%\n"
    }
   }
  }
 ],
 "metadata": {
  "kernelspec": {
   "display_name": "Python 3",
   "language": "python",
   "name": "python3"
  },
  "language_info": {
   "codemirror_mode": {
    "name": "ipython",
    "version": 2
   },
   "file_extension": ".py",
   "mimetype": "text/x-python",
   "name": "python",
   "nbconvert_exporter": "python",
   "pygments_lexer": "ipython2",
   "version": "2.7.6"
  }
 },
 "nbformat": 4,
 "nbformat_minor": 0
}