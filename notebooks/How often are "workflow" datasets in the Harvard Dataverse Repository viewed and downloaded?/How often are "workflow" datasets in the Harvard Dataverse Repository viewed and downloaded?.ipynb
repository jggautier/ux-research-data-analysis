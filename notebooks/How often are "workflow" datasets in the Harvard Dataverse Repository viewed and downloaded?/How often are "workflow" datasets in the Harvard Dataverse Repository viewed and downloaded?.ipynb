{
 "cells": [
  {
   "cell_type": "markdown",
   "metadata": {
    "collapsed": true,
    "pycharm": {
     "name": "#%% md\n"
    }
   },
   "source": []
  },
  {
   "cell_type": "markdown",
   "source": [
    "Objective 2 of the Harvard Data Commons work seeks to make it easier for users of the Harvard Dataverse Repository to find and re-use the \"workflow\" datasets that the repository hosts. The group working on enhancing the repository's functionality toward this end is defining \"workflow\" datasets as any datasets containing several types of files that indicate that the published data is meant to be computationally reproducible.\n",
    "\n",
    "This notebook aims to provide benchmarks for how findable these workflow datasets have been. And by These methods might also be used to benchmark  the as an indicator of the effectiveness of changes made to the repository"
   ],
   "metadata": {
    "collapsed": false,
    "pycharm": {
     "name": "#%% md\n"
    }
   }
  }
 ],
 "metadata": {
  "kernelspec": {
   "display_name": "Python 3",
   "language": "python",
   "name": "python3"
  },
  "language_info": {
   "codemirror_mode": {
    "name": "ipython",
    "version": 2
   },
   "file_extension": ".py",
   "mimetype": "text/x-python",
   "name": "python",
   "nbconvert_exporter": "python",
   "pygments_lexer": "ipython2",
   "version": "2.7.6"
  }
 },
 "nbformat": 4,
 "nbformat_minor": 0
}