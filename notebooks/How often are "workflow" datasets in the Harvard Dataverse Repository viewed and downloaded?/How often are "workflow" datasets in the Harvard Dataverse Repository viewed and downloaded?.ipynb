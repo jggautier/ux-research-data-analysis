{
 "cells": [
  {
   "cell_type": "markdown",
   "metadata": {
    "collapsed": true,
    "pycharm": {
     "name": "#%% md\n"
    }
   },
   "source": []
  },
  {
   "cell_type": "markdown",
   "source": [
    "## Goals\n",
    "Objective 2 of the Harvard Data Commons project seeks to make it easier for users of the Harvard Dataverse Repository to publish, find and re-use the \"workflow\" datasets that the repository hosts. The group working on enhancing the repository's functionality toward this end is defining \"workflow\" datasets as any datasets containing any of several types of files that indicate that the published data is meant to be computationally reproducible.\n",
    "\n",
    "For research into the reusability of workflow datasets, see \"Trisovic, A., Lau, M.K., Pasquier, T. et al. A large-scale study on research code quality and execution. Sci Data 9, 60 (2022). https://doi.org/10.1038/s41597-022-01143-6\"\n",
    "\n",
    "This notebook aims to provide benchmarks for how findable these workflow datasets have been. And after changes to the repository are made in order to improve their discoverability, the methods explored in this notebook might help indicate the effectiveness of those changes by comparing these measurements to measurements taken after the changes have been in place for some amount of time.\n",
    "\n",
    "Two possible indicators of the discoverability of workflow datasets are the number of times datasets' files have been downloaded and the number of times that their web pages have been viewed.\n",
    "\n",
    "The Harvard Dataverse Repository uses Google Analytics to track page views, so we can look there for metrics about how often all datasets are viewed. To find which datasets would be considered workflow datasets and to find out how often files in all datasets, including workflow datasets, are downloaded, we can look in the repository's database.\n",
    "\n",
    "So let's try to answer the follow questions about page views:\n",
    "- What has been the average sum of file downloads of all datasets in the repository?\n",
    "- What has been the average sum of file downloads of workflow datasets?\n",
    "\n",
    "And let's try to answer the following questions about file downloads:\n",
    "- On average, how often is each dataset's page viewed?\n",
    "- On average, how often is each workflow dataset's page viewed?\n",
    "\n",
    "\n",
    "\n",
    "\n",
    "\n"
   ],
   "metadata": {
    "collapsed": false,
    "pycharm": {
     "name": "#%% md\n"
    }
   }
  },
  {
   "cell_type": "markdown",
   "source": [
    "### Query the database for information about each published dataset:\n",
    "- DOI\n",
    "- Publication Date\n",
    "- Number of total file downloads\n",
    "- A list of its \"workflow\" files, if any"
   ],
   "metadata": {
    "collapsed": false,
    "pycharm": {
     "name": "#%% md\n"
    }
   }
  },
  {
   "cell_type": "markdown",
   "source": [
    "Query for finding \"workflow\" files, which also returns the DOI of the dataset each file is in:\n",
    "\n",
    "```\n",
    "select\n",
    "    datasetversion.dataset_id as dataset_database_id,\n",
    "    concat('https://dataverse.harvard.edu/dataset.xhtml?persistentId=doi:10.7910/', dvobject.identifier) as dataset_url,\n",
    "    case\n",
    "        when dvobject.publicationdate is not null then 'Published'\n",
    "        when dvobject.publicationdate is null then 'Unpublished'\n",
    "    end as publication_state,\n",
    "    datafile.id as file_database_id, contenttype as file_contenttype, label as file_name,\n",
    "    case\n",
    "        when (filemetadata.label ilike '%.ipynb' or datafile.contenttype = 'application/x-ipynb+json') then 'Jupyter Notebook'\n",
    "        when\n",
    "            (filemetadata.label ilike '%.rmd' or datafile.contenttype = 'text/x-r-markdown') or\n",
    "            (filemetadata.label ilike '%.rmd' and datafile.contenttype = 'text/markdown') then 'R Notebook'\n",
    "        when (filemetadata.label ilike '%.cwl') then 'Common Workflow Language'\n",
    "        when (filemetadata.label ilike '%.ga') then 'Galaxy'\n",
    "        when (filemetadata.label ilike '%.wdl') then 'WDL'\n",
    "        when (filemetadata.label ilike 'makefile') then 'Makefile'\n",
    "        else 'None'\n",
    "    end as type_of_code_file\n",
    "from datafile\n",
    "join filemetadata on filemetadata.datafile_id = datafile.id\n",
    "join datasetversion on datasetversion.id = filemetadata.datasetversion_id\n",
    "join dataset on dataset.id = datasetversion.dataset_id\n",
    "join dvobject on dvobject.id = dataset.id\n",
    "where\n",
    "    dataset.harvestingclient_id is null and\n",
    "    (\n",
    "        filemetadata.label ilike any (array['%.ipynb', '%.rmd', '%.cwl', '%.ga', '%.wdl']) or\n",
    "        datafile.contenttype in ('application/x-ipynb+json', 'text/x-r-markdown') or\n",
    "        (datafile.contenttype = 'text/markdown' and filemetadata.label ilike '%.rmd') or\n",
    "        (filemetadata.label ilike 'makefile')\n",
    "    )\n",
    "order by dataset.id\n",
    "```"
   ],
   "metadata": {
    "collapsed": false,
    "pycharm": {
     "name": "#%% md\n"
    }
   }
  },
  {
   "cell_type": "code",
   "execution_count": null,
   "outputs": [],
   "source": [],
   "metadata": {
    "collapsed": false,
    "pycharm": {
     "name": "#%%\n"
    }
   }
  }
 ],
 "metadata": {
  "kernelspec": {
   "display_name": "Python 3",
   "language": "python",
   "name": "python3"
  },
  "language_info": {
   "codemirror_mode": {
    "name": "ipython",
    "version": 2
   },
   "file_extension": ".py",
   "mimetype": "text/x-python",
   "name": "python",
   "nbconvert_exporter": "python",
   "pygments_lexer": "ipython2",
   "version": "2.7.6"
  }
 },
 "nbformat": 4,
 "nbformat_minor": 0
}